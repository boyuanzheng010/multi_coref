{
 "cells": [
  {
   "cell_type": "code",
   "execution_count": 39,
   "metadata": {
    "collapsed": true
   },
   "outputs": [],
   "source": [
    "source = '''{\"\"doc_key\"\": \"\"1492\"\", \"\"sentences\"\": [[\"\"I\"\", \"\"hired\"\", \"\"a\"\", \"\"man\"\", \"\"to\"\", \"\"help\"\", \"\"me\"\", \"\"repair\"\", \"\"an\"\", \"\"old\"\", \"\"farmhouse\"\", \"\".\"\"], [\"\"His\"\", \"\"first\"\", \"\"day\"\", \"\"on\"\", \"\"the\"\", \"\"job\"\", \"\"made\"\", \"\"him\"\", \"\"mad\"\", \"\"--\"\", \"\"a\"\", \"\"flat\"\", \"\"tire\"\", \"\"made\"\", \"\"him\"\", \"\"lose\"\", \"\"an\"\", \"\"hour\"\", \"\"of\"\", \"\"work\"\", \"\",\"\", \"\"he\"\", \"\"cut\"\", \"\"his\"\", \"\"finger\"\", \"\"with\"\", \"\"a\"\", \"\"knife\"\", \"\"and\"\", \"\"his\"\", \"\"old\"\", \"\"truck\"\", \"\"refused\"\", \"\"to\"\", \"\"start\"\", \"\".\"\"], [\"\"While\"\", \"\"Idrove\"\", \"\"him\"\", \"\"home\"\", \"\",\"\", \"\"he\"\", \"\"sat\"\", \"\"in\"\", \"\"silence\"\", \"\".\"\"], [\"\"On\"\", \"\"arriving\"\", \"\",\"\", \"\"he\"\", \"\"invited\"\", \"\"me\"\", \"\"to\"\", \"\"meet\"\", \"\"his\"\", \"\"family\"\", \"\".\"\"], [\"\"As\"\", \"\"we\"\", \"\"walked\"\", \"\"towards\"\", \"\"the\"\", \"\"front\"\", \"\"door\"\", \"\",\"\", \"\"he\"\", \"\"stopped\"\", \"\"at\"\", \"\"a\"\", \"\"small\"\", \"\"tree\"\", \"\"and\"\", \"\"touched\"\", \"\"the\"\", \"\"tips\"\", \"\"of\"\", \"\"the\"\", \"\"branches\"\", \"\"with\"\", \"\"both\"\", \"\"hands\"\", \"\".\"\"], [\"\"When\"\", \"\"opening\"\", \"\"the\"\", \"\"door\"\", \"\",\"\", \"\"his\"\", \"\"face\"\", \"\"was\"\", \"\"full\"\", \"\"of\"\", \"\"smiles\"\", \"\"and\"\", \"\"he\"\", \"\"hugged\"\", \"\"his\"\", \"\"two\"\", \"\"children\"\", \"\"and\"\", \"\"gave\"\", \"\"his\"\", \"\"wife\"\", \"\"a\"\", \"\"kiss\"\", \"\".\"\"], [\"\"Afterwards\"\", \"\",\"\", \"\"he\"\", \"\"walked\"\", \"\"with\"\", \"\"me\"\", \"\"to\"\", \"\"the\"\", \"\"car\"\", \"\".\"\"], [\"\"We\"\", \"\"passed\"\", \"\"the\"\", \"\"tree\"\", \"\".\"\"], [\"\"I\"\", \"\"was\"\", \"\"so\"\", \"\"curious\"\", \"\"that\"\", \"\"Iasked\"\", \"\"him\"\", \"\"about\"\", \"\"what\"\", \"\"I\"\", \"\"had\"\", \"\"seen\"\", \"\"carlier\"\", \"\".\"\"], [\"\"``\"\", \"\"Oh\"\", \"\",\"\", \"\"that\"\", \"\"'s\"\", \"\"my\"\", \"\"trouble\"\", \"\"tree\"\", \"\",\"\", \"\"''\"\", \"\"he\"\", \"\"replied\"\", \"\".\"\"], [\"\"``\"\", \"\"I\"\", \"\"know\"\", \"\"I\"\", \"\"ca\"\", \"\"n't\"\", \"\"help\"\", \"\"having\"\", \"\"troubles\"\", \"\"on\"\", \"\"the\"\", \"\"job\"\", \"\",\"\", \"\"but\"\", \"\"one\"\", \"\"thing\"\", \"\"is\"\", \"\"for\"\", \"\"sure\"\", \"\".\"\"], [\"\"Those\"\", \"\"troubles\"\", \"\"do\"\", \"\"n't\"\", \"\"belong\"\", \"\"to\"\", \"\"my\"\", \"\"children\"\", \"\"and\"\", \"\"wife\"\", \"\".\"\"], [\"\"So\"\", \"\"I\"\", \"\"hang\"\", \"\"in\"\", \"\"the\"\", \"\"tree\"\", \"\"every\"\", \"\"night\"\", \"\"and\"\", \"\"ask\"\", \"\"God\"\", \"\"to\"\", \"\"take\"\", \"\"care\"\", \"\"of\"\", \"\"them\"\", \"\".\"\"], [\"\"Then\"\", \"\"in\"\", \"\"the\"\", \"\"morning\"\", \"\",\"\", \"\"I\"\", \"\"pick\"\", \"\"them\"\", \"\"up\"\", \"\"again\"\", \"\".\"\", \"\"''\"\"], [\"\"``\"\", \"\"The\"\", \"\"funny\"\", \"\"thing\"\", \"\"is\"\", \"\",\"\", \"\"''\"\", \"\"he\"\", \"\"smiles\"\", \"\",\"\", \"\"``\"\", \"\"when\"\", \"\"I\"\", \"\"come\"\", \"\"out\"\", \"\"to\"\", \"\"pick\"\", \"\"them\"\", \"\"up\"\", \"\"in\"\", \"\"the\"\", \"\"morning\"\", \"\",\"\", \"\"there\"\", \"\"are\"\", \"\"n't\"\", \"\"as\"\", \"\"many\"\", \"\"as\"\", \"\"those\"\", \"\"hung\"\", \"\"up\"\", \"\"the\"\", \"\"night\"\", \"\"before\"\", \"\".\"\", \"\"''\"\"]], \"\"querySpans\"\": [{\"\"sentenceIndex\"\": 0, \"\"startToken\"\": 6, \"\"endToken\"\": 7}, {\"\"sentenceIndex\"\": 1, \"\"startToken\"\": 7, \"\"endToken\"\": 8}, {\"\"sentenceIndex\"\": 14, \"\"startToken\"\": 32, \"\"endToken\"\": 35}], \"\"candidateSpans\"\": [{\"\"sentenceIndex\"\": 0, \"\"startToken\"\": 0, \"\"endToken\"\": 1}, {\"\"sentenceIndex\"\": 0, \"\"startToken\"\": 1, \"\"endToken\"\": 2}, {\"\"sentenceIndex\"\": 0, \"\"startToken\"\": 2, \"\"endToken\"\": 4}, {\"\"sentenceIndex\"\": 0, \"\"startToken\"\": 2, \"\"endToken\"\": 11}, {\"\"sentenceIndex\"\": 0, \"\"startToken\"\": 5, \"\"endToken\"\": 6}, {\"\"sentenceIndex\"\": 0, \"\"startToken\"\": 5, \"\"endToken\"\": 7}, {\"\"sentenceIndex\"\": 0, \"\"startToken\"\": 5, \"\"endToken\"\": 8}, {\"\"sentenceIndex\"\": 0, \"\"startToken\"\": 5, \"\"endToken\"\": 11}, {\"\"sentenceIndex\"\": 0, \"\"startToken\"\": 6, \"\"endToken\"\": 7}, {\"\"sentenceIndex\"\": 0, \"\"startToken\"\": 6, \"\"endToken\"\": 8}, {\"\"sentenceIndex\"\": 0, \"\"startToken\"\": 6, \"\"endToken\"\": 11}, {\"\"sentenceIndex\"\": 0, \"\"startToken\"\": 7, \"\"endToken\"\": 8}, {\"\"sentenceIndex\"\": 0, \"\"startToken\"\": 8, \"\"endToken\"\": 11}, {\"\"sentenceIndex\"\": 1, \"\"startToken\"\": 0, \"\"endToken\"\": 1}, {\"\"sentenceIndex\"\": 1, \"\"startToken\"\": 0, \"\"endToken\"\": 6}, {\"\"sentenceIndex\"\": 1, \"\"startToken\"\": 4, \"\"endToken\"\": 6}, {\"\"sentenceIndex\"\": 1, \"\"startToken\"\": 7, \"\"endToken\"\": 8}, {\"\"sentenceIndex\"\": 1, \"\"startToken\"\": 10, \"\"endToken\"\": 13}, {\"\"sentenceIndex\"\": 1, \"\"startToken\"\": 14, \"\"endToken\"\": 15}, {\"\"sentenceIndex\"\": 1, \"\"startToken\"\": 16, \"\"endToken\"\": 20}, {\"\"sentenceIndex\"\": 1, \"\"startToken\"\": 21, \"\"endToken\"\": 22}, {\"\"sentenceIndex\"\": 1, \"\"startToken\"\": 22, \"\"endToken\"\": 23}, {\"\"sentenceIndex\"\": 1, \"\"startToken\"\": 23, \"\"endToken\"\": 24}, {\"\"sentenceIndex\"\": 1, \"\"startToken\"\": 23, \"\"endToken\"\": 25}, {\"\"sentenceIndex\"\": 1, \"\"startToken\"\": 23, \"\"endToken\"\": 28}, {\"\"sentenceIndex\"\": 1, \"\"startToken\"\": 26, \"\"endToken\"\": 28}, {\"\"sentenceIndex\"\": 1, \"\"startToken\"\": 29, \"\"endToken\"\": 30}, {\"\"sentenceIndex\"\": 1, \"\"startToken\"\": 29, \"\"endToken\"\": 32}, {\"\"sentenceIndex\"\": 1, \"\"startToken\"\": 29, \"\"endToken\"\": 35}, {\"\"sentenceIndex\"\": 1, \"\"startToken\"\": 32, \"\"endToken\"\": 33}, {\"\"sentenceIndex\"\": 1, \"\"startToken\"\": 34, \"\"endToken\"\": 35}, {\"\"sentenceIndex\"\": 2, \"\"startToken\"\": 1, \"\"endToken\"\": 2}, {\"\"sentenceIndex\"\": 2, \"\"startToken\"\": 1, \"\"endToken\"\": 2}, {\"\"sentenceIndex\"\": 2, \"\"startToken\"\": 1, \"\"endToken\"\": 3}, {\"\"sentenceIndex\"\": 2, \"\"startToken\"\": 1, \"\"endToken\"\": 4}, {\"\"sentenceIndex\"\": 2, \"\"startToken\"\": 2, \"\"endToken\"\": 3}, {\"\"sentenceIndex\"\": 2, \"\"startToken\"\": 3, \"\"endToken\"\": 4}, {\"\"sentenceIndex\"\": 2, \"\"startToken\"\": 5, \"\"endToken\"\": 6}, {\"\"sentenceIndex\"\": 3, \"\"startToken\"\": 3, \"\"endToken\"\": 4}, {\"\"sentenceIndex\"\": 3, \"\"startToken\"\": 5, \"\"endToken\"\": 6}, {\"\"sentenceIndex\"\": 3, \"\"startToken\"\": 7, \"\"endToken\"\": 8}, {\"\"sentenceIndex\"\": 3, \"\"startToken\"\": 8, \"\"endToken\"\": 9}, {\"\"sentenceIndex\"\": 3, \"\"startToken\"\": 8, \"\"endToken\"\": 10}, {\"\"sentenceIndex\"\": 4, \"\"startToken\"\": 1, \"\"endToken\"\": 2}, {\"\"sentenceIndex\"\": 4, \"\"startToken\"\": 2, \"\"endToken\"\": 3}, {\"\"sentenceIndex\"\": 4, \"\"startToken\"\": 4, \"\"endToken\"\": 7}, {\"\"sentenceIndex\"\": 4, \"\"startToken\"\": 8, \"\"endToken\"\": 9}, {\"\"sentenceIndex\"\": 4, \"\"startToken\"\": 11, \"\"endToken\"\": 14}, {\"\"sentenceIndex\"\": 4, \"\"startToken\"\": 11, \"\"endToken\"\": 21}, {\"\"sentenceIndex\"\": 4, \"\"startToken\"\": 11, \"\"endToken\"\": 24}, {\"\"sentenceIndex\"\": 4, \"\"startToken\"\": 15, \"\"endToken\"\": 16}, {\"\"sentenceIndex\"\": 4, \"\"startToken\"\": 16, \"\"endToken\"\": 21}, {\"\"sentenceIndex\"\": 4, \"\"startToken\"\": 16, \"\"endToken\"\": 24}, {\"\"sentenceIndex\"\": 4, \"\"startToken\"\": 19, \"\"endToken\"\": 21}, {\"\"sentenceIndex\"\": 4, \"\"startToken\"\": 22, \"\"endToken\"\": 24}, {\"\"sentenceIndex\"\": 5, \"\"startToken\"\": 2, \"\"endToken\"\": 4}, {\"\"sentenceIndex\"\": 5, \"\"startToken\"\": 5, \"\"endToken\"\": 6}, {\"\"sentenceIndex\"\": 5, \"\"startToken\"\": 12, \"\"endToken\"\": 13}, {\"\"sentenceIndex\"\": 5, \"\"startToken\"\": 14, \"\"endToken\"\": 15}, {\"\"sentenceIndex\"\": 5, \"\"startToken\"\": 14, \"\"endToken\"\": 17}, {\"\"sentenceIndex\"\": 5, \"\"startToken\"\": 14, \"\"endToken\"\": 23}, {\"\"sentenceIndex\"\": 5, \"\"startToken\"\": 19, \"\"endToken\"\": 20}, {\"\"sentenceIndex\"\": 5, \"\"startToken\"\": 19, \"\"endToken\"\": 21}, {\"\"sentenceIndex\"\": 5, \"\"startToken\"\": 19, \"\"endToken\"\": 23}, {\"\"sentenceIndex\"\": 5, \"\"startToken\"\": 21, \"\"endToken\"\": 23}, {\"\"sentenceIndex\"\": 6, \"\"startToken\"\": 0, \"\"endToken\"\": 1}, {\"\"sentenceIndex\"\": 6, \"\"startToken\"\": 2, \"\"endToken\"\": 3}, {\"\"sentenceIndex\"\": 6, \"\"startToken\"\": 3, \"\"endToken\"\": 4}, {\"\"sentenceIndex\"\": 6, \"\"startToken\"\": 5, \"\"endToken\"\": 6}, {\"\"sentenceIndex\"\": 6, \"\"startToken\"\": 7, \"\"endToken\"\": 9}, {\"\"sentenceIndex\"\": 7, \"\"startToken\"\": 0, \"\"endToken\"\": 1}, {\"\"sentenceIndex\"\": 7, \"\"startToken\"\": 2, \"\"endToken\"\": 4}, {\"\"sentenceIndex\"\": 8, \"\"startToken\"\": 0, \"\"endToken\"\": 1}, {\"\"sentenceIndex\"\": 8, \"\"startToken\"\": 5, \"\"endToken\"\": 6}, {\"\"sentenceIndex\"\": 8, \"\"startToken\"\": 5, \"\"endToken\"\": 6}, {\"\"sentenceIndex\"\": 8, \"\"startToken\"\": 5, \"\"endToken\"\": 7}, {\"\"sentenceIndex\"\": 8, \"\"startToken\"\": 6, \"\"endToken\"\": 7}, {\"\"sentenceIndex\"\": 8, \"\"startToken\"\": 9, \"\"endToken\"\": 10}, {\"\"sentenceIndex\"\": 8, \"\"startToken\"\": 11, \"\"endToken\"\": 12}, {\"\"sentenceIndex\"\": 9, \"\"startToken\"\": 3, \"\"endToken\"\": 4}, {\"\"sentenceIndex\"\": 9, \"\"startToken\"\": 5, \"\"endToken\"\": 6}, {\"\"sentenceIndex\"\": 9, \"\"startToken\"\": 5, \"\"endToken\"\": 8}, {\"\"sentenceIndex\"\": 9, \"\"startToken\"\": 10, \"\"endToken\"\": 11}, {\"\"sentenceIndex\"\": 10, \"\"startToken\"\": 1, \"\"endToken\"\": 2}, {\"\"sentenceIndex\"\": 10, \"\"startToken\"\": 3, \"\"endToken\"\": 4}, {\"\"sentenceIndex\"\": 10, \"\"startToken\"\": 3, \"\"endToken\"\": 12}, {\"\"sentenceIndex\"\": 10, \"\"startToken\"\": 7, \"\"endToken\"\": 8}, {\"\"sentenceIndex\"\": 10, \"\"startToken\"\": 8, \"\"endToken\"\": 12}, {\"\"sentenceIndex\"\": 10, \"\"startToken\"\": 10, \"\"endToken\"\": 12}, {\"\"sentenceIndex\"\": 11, \"\"startToken\"\": 0, \"\"endToken\"\": 2}, {\"\"sentenceIndex\"\": 11, \"\"startToken\"\": 6, \"\"endToken\"\": 7}, {\"\"sentenceIndex\"\": 11, \"\"startToken\"\": 6, \"\"endToken\"\": 10}, {\"\"sentenceIndex\"\": 12, \"\"startToken\"\": 1, \"\"endToken\"\": 2}, {\"\"sentenceIndex\"\": 12, \"\"startToken\"\": 4, \"\"endToken\"\": 6}, {\"\"sentenceIndex\"\": 12, \"\"startToken\"\": 6, \"\"endToken\"\": 8}, {\"\"sentenceIndex\"\": 12, \"\"startToken\"\": 10, \"\"endToken\"\": 11}, {\"\"sentenceIndex\"\": 12, \"\"startToken\"\": 15, \"\"endToken\"\": 16}, {\"\"sentenceIndex\"\": 13, \"\"startToken\"\": 2, \"\"endToken\"\": 4}, {\"\"sentenceIndex\"\": 13, \"\"startToken\"\": 5, \"\"endToken\"\": 6}, {\"\"sentenceIndex\"\": 13, \"\"startToken\"\": 7, \"\"endToken\"\": 8}, {\"\"sentenceIndex\"\": 14, \"\"startToken\"\": 7, \"\"endToken\"\": 8}, {\"\"sentenceIndex\"\": 14, \"\"startToken\"\": 12, \"\"endToken\"\": 13}, {\"\"sentenceIndex\"\": 14, \"\"startToken\"\": 13, \"\"endToken\"\": 14}, {\"\"sentenceIndex\"\": 14, \"\"startToken\"\": 16, \"\"endToken\"\": 17}, {\"\"sentenceIndex\"\": 14, \"\"startToken\"\": 17, \"\"endToken\"\": 18}, {\"\"sentenceIndex\"\": 14, \"\"startToken\"\": 17, \"\"endToken\"\": 19}, {\"\"sentenceIndex\"\": 14, \"\"startToken\"\": 17, \"\"endToken\"\": 22}, {\"\"sentenceIndex\"\": 14, \"\"startToken\"\": 20, \"\"endToken\"\": 22}, {\"\"sentenceIndex\"\": 14, \"\"startToken\"\": 29, \"\"endToken\"\": 35}, {\"\"sentenceIndex\"\": 14, \"\"startToken\"\": 30, \"\"endToken\"\": 31}, {\"\"sentenceIndex\"\": 14, \"\"startToken\"\": 30, \"\"endToken\"\": 32}, {\"\"sentenceIndex\"\": 14, \"\"startToken\"\": 32, \"\"endToken\"\": 35}]}'''"
   ]
  },
  {
   "cell_type": "code",
   "execution_count": 40,
   "outputs": [],
   "source": [
    "import json"
   ],
   "metadata": {
    "collapsed": false,
    "pycharm": {
     "name": "#%%\n"
    }
   }
  },
  {
   "cell_type": "code",
   "execution_count": 41,
   "outputs": [
    {
     "ename": "JSONDecodeError",
     "evalue": "Expecting ':' delimiter: line 1 column 4 (char 3)",
     "output_type": "error",
     "traceback": [
      "\u001B[0;31m---------------------------------------------------------------------------\u001B[0m",
      "\u001B[0;31mJSONDecodeError\u001B[0m                           Traceback (most recent call last)",
      "\u001B[0;32m/var/folders/w9/673mfrb56v7dvx7hhvw7s6240000gn/T/ipykernel_78008/3462005062.py\u001B[0m in \u001B[0;36m<module>\u001B[0;34m\u001B[0m\n\u001B[0;32m----> 1\u001B[0;31m \u001B[0mprint\u001B[0m\u001B[0;34m(\u001B[0m\u001B[0mjson\u001B[0m\u001B[0;34m.\u001B[0m\u001B[0mloads\u001B[0m\u001B[0;34m(\u001B[0m\u001B[0msource\u001B[0m\u001B[0;34m)\u001B[0m\u001B[0;34m)\u001B[0m\u001B[0;34m\u001B[0m\u001B[0;34m\u001B[0m\u001B[0m\n\u001B[0m",
      "\u001B[0;32m~/.conda/envs/multi_coref/lib/python3.8/json/__init__.py\u001B[0m in \u001B[0;36mloads\u001B[0;34m(s, cls, object_hook, parse_float, parse_int, parse_constant, object_pairs_hook, **kw)\u001B[0m\n\u001B[1;32m    355\u001B[0m             \u001B[0mparse_int\u001B[0m \u001B[0;32mis\u001B[0m \u001B[0;32mNone\u001B[0m \u001B[0;32mand\u001B[0m \u001B[0mparse_float\u001B[0m \u001B[0;32mis\u001B[0m \u001B[0;32mNone\u001B[0m \u001B[0;32mand\u001B[0m\u001B[0;34m\u001B[0m\u001B[0;34m\u001B[0m\u001B[0m\n\u001B[1;32m    356\u001B[0m             parse_constant is None and object_pairs_hook is None and not kw):\n\u001B[0;32m--> 357\u001B[0;31m         \u001B[0;32mreturn\u001B[0m \u001B[0m_default_decoder\u001B[0m\u001B[0;34m.\u001B[0m\u001B[0mdecode\u001B[0m\u001B[0;34m(\u001B[0m\u001B[0ms\u001B[0m\u001B[0;34m)\u001B[0m\u001B[0;34m\u001B[0m\u001B[0;34m\u001B[0m\u001B[0m\n\u001B[0m\u001B[1;32m    358\u001B[0m     \u001B[0;32mif\u001B[0m \u001B[0mcls\u001B[0m \u001B[0;32mis\u001B[0m \u001B[0;32mNone\u001B[0m\u001B[0;34m:\u001B[0m\u001B[0;34m\u001B[0m\u001B[0;34m\u001B[0m\u001B[0m\n\u001B[1;32m    359\u001B[0m         \u001B[0mcls\u001B[0m \u001B[0;34m=\u001B[0m \u001B[0mJSONDecoder\u001B[0m\u001B[0;34m\u001B[0m\u001B[0;34m\u001B[0m\u001B[0m\n",
      "\u001B[0;32m~/.conda/envs/multi_coref/lib/python3.8/json/decoder.py\u001B[0m in \u001B[0;36mdecode\u001B[0;34m(self, s, _w)\u001B[0m\n\u001B[1;32m    335\u001B[0m \u001B[0;34m\u001B[0m\u001B[0m\n\u001B[1;32m    336\u001B[0m         \"\"\"\n\u001B[0;32m--> 337\u001B[0;31m         \u001B[0mobj\u001B[0m\u001B[0;34m,\u001B[0m \u001B[0mend\u001B[0m \u001B[0;34m=\u001B[0m \u001B[0mself\u001B[0m\u001B[0;34m.\u001B[0m\u001B[0mraw_decode\u001B[0m\u001B[0;34m(\u001B[0m\u001B[0ms\u001B[0m\u001B[0;34m,\u001B[0m \u001B[0midx\u001B[0m\u001B[0;34m=\u001B[0m\u001B[0m_w\u001B[0m\u001B[0;34m(\u001B[0m\u001B[0ms\u001B[0m\u001B[0;34m,\u001B[0m \u001B[0;36m0\u001B[0m\u001B[0;34m)\u001B[0m\u001B[0;34m.\u001B[0m\u001B[0mend\u001B[0m\u001B[0;34m(\u001B[0m\u001B[0;34m)\u001B[0m\u001B[0;34m)\u001B[0m\u001B[0;34m\u001B[0m\u001B[0;34m\u001B[0m\u001B[0m\n\u001B[0m\u001B[1;32m    338\u001B[0m         \u001B[0mend\u001B[0m \u001B[0;34m=\u001B[0m \u001B[0m_w\u001B[0m\u001B[0;34m(\u001B[0m\u001B[0ms\u001B[0m\u001B[0;34m,\u001B[0m \u001B[0mend\u001B[0m\u001B[0;34m)\u001B[0m\u001B[0;34m.\u001B[0m\u001B[0mend\u001B[0m\u001B[0;34m(\u001B[0m\u001B[0;34m)\u001B[0m\u001B[0;34m\u001B[0m\u001B[0;34m\u001B[0m\u001B[0m\n\u001B[1;32m    339\u001B[0m         \u001B[0;32mif\u001B[0m \u001B[0mend\u001B[0m \u001B[0;34m!=\u001B[0m \u001B[0mlen\u001B[0m\u001B[0;34m(\u001B[0m\u001B[0ms\u001B[0m\u001B[0;34m)\u001B[0m\u001B[0;34m:\u001B[0m\u001B[0;34m\u001B[0m\u001B[0;34m\u001B[0m\u001B[0m\n",
      "\u001B[0;32m~/.conda/envs/multi_coref/lib/python3.8/json/decoder.py\u001B[0m in \u001B[0;36mraw_decode\u001B[0;34m(self, s, idx)\u001B[0m\n\u001B[1;32m    351\u001B[0m         \"\"\"\n\u001B[1;32m    352\u001B[0m         \u001B[0;32mtry\u001B[0m\u001B[0;34m:\u001B[0m\u001B[0;34m\u001B[0m\u001B[0;34m\u001B[0m\u001B[0m\n\u001B[0;32m--> 353\u001B[0;31m             \u001B[0mobj\u001B[0m\u001B[0;34m,\u001B[0m \u001B[0mend\u001B[0m \u001B[0;34m=\u001B[0m \u001B[0mself\u001B[0m\u001B[0;34m.\u001B[0m\u001B[0mscan_once\u001B[0m\u001B[0;34m(\u001B[0m\u001B[0ms\u001B[0m\u001B[0;34m,\u001B[0m \u001B[0midx\u001B[0m\u001B[0;34m)\u001B[0m\u001B[0;34m\u001B[0m\u001B[0;34m\u001B[0m\u001B[0m\n\u001B[0m\u001B[1;32m    354\u001B[0m         \u001B[0;32mexcept\u001B[0m \u001B[0mStopIteration\u001B[0m \u001B[0;32mas\u001B[0m \u001B[0merr\u001B[0m\u001B[0;34m:\u001B[0m\u001B[0;34m\u001B[0m\u001B[0;34m\u001B[0m\u001B[0m\n\u001B[1;32m    355\u001B[0m             \u001B[0;32mraise\u001B[0m \u001B[0mJSONDecodeError\u001B[0m\u001B[0;34m(\u001B[0m\u001B[0;34m\"Expecting value\"\u001B[0m\u001B[0;34m,\u001B[0m \u001B[0ms\u001B[0m\u001B[0;34m,\u001B[0m \u001B[0merr\u001B[0m\u001B[0;34m.\u001B[0m\u001B[0mvalue\u001B[0m\u001B[0;34m)\u001B[0m \u001B[0;32mfrom\u001B[0m \u001B[0;32mNone\u001B[0m\u001B[0;34m\u001B[0m\u001B[0;34m\u001B[0m\u001B[0m\n",
      "\u001B[0;31mJSONDecodeError\u001B[0m: Expecting ':' delimiter: line 1 column 4 (char 3)"
     ]
    }
   ],
   "source": [
    "print(json.loads(source))"
   ],
   "metadata": {
    "collapsed": false,
    "pycharm": {
     "name": "#%%\n"
    }
   }
  },
  {
   "cell_type": "code",
   "execution_count": 29,
   "outputs": [],
   "source": [
    "input = \"{\"\"k1\"\":123, \"\"k2\"\": \"\"456\"\", \"\"k3\"\": \"\"ares\"\"}\""
   ],
   "metadata": {
    "collapsed": false,
    "pycharm": {
     "name": "#%%\n"
    }
   }
  },
  {
   "cell_type": "code",
   "execution_count": 30,
   "outputs": [
    {
     "ename": "JSONDecodeError",
     "evalue": "Expecting property name enclosed in double quotes: line 1 column 2 (char 1)",
     "output_type": "error",
     "traceback": [
      "\u001B[0;31m---------------------------------------------------------------------------\u001B[0m",
      "\u001B[0;31mJSONDecodeError\u001B[0m                           Traceback (most recent call last)",
      "\u001B[0;32m/var/folders/w9/673mfrb56v7dvx7hhvw7s6240000gn/T/ipykernel_78008/927499997.py\u001B[0m in \u001B[0;36m<module>\u001B[0;34m\u001B[0m\n\u001B[0;32m----> 1\u001B[0;31m \u001B[0minput_dict\u001B[0m \u001B[0;34m=\u001B[0m \u001B[0mjson\u001B[0m\u001B[0;34m.\u001B[0m\u001B[0mloads\u001B[0m\u001B[0;34m(\u001B[0m\u001B[0minput\u001B[0m\u001B[0;34m)\u001B[0m\u001B[0;34m\u001B[0m\u001B[0;34m\u001B[0m\u001B[0m\n\u001B[0m",
      "\u001B[0;32m~/.conda/envs/multi_coref/lib/python3.8/json/__init__.py\u001B[0m in \u001B[0;36mloads\u001B[0;34m(s, cls, object_hook, parse_float, parse_int, parse_constant, object_pairs_hook, **kw)\u001B[0m\n\u001B[1;32m    355\u001B[0m             \u001B[0mparse_int\u001B[0m \u001B[0;32mis\u001B[0m \u001B[0;32mNone\u001B[0m \u001B[0;32mand\u001B[0m \u001B[0mparse_float\u001B[0m \u001B[0;32mis\u001B[0m \u001B[0;32mNone\u001B[0m \u001B[0;32mand\u001B[0m\u001B[0;34m\u001B[0m\u001B[0;34m\u001B[0m\u001B[0m\n\u001B[1;32m    356\u001B[0m             parse_constant is None and object_pairs_hook is None and not kw):\n\u001B[0;32m--> 357\u001B[0;31m         \u001B[0;32mreturn\u001B[0m \u001B[0m_default_decoder\u001B[0m\u001B[0;34m.\u001B[0m\u001B[0mdecode\u001B[0m\u001B[0;34m(\u001B[0m\u001B[0ms\u001B[0m\u001B[0;34m)\u001B[0m\u001B[0;34m\u001B[0m\u001B[0;34m\u001B[0m\u001B[0m\n\u001B[0m\u001B[1;32m    358\u001B[0m     \u001B[0;32mif\u001B[0m \u001B[0mcls\u001B[0m \u001B[0;32mis\u001B[0m \u001B[0;32mNone\u001B[0m\u001B[0;34m:\u001B[0m\u001B[0;34m\u001B[0m\u001B[0;34m\u001B[0m\u001B[0m\n\u001B[1;32m    359\u001B[0m         \u001B[0mcls\u001B[0m \u001B[0;34m=\u001B[0m \u001B[0mJSONDecoder\u001B[0m\u001B[0;34m\u001B[0m\u001B[0;34m\u001B[0m\u001B[0m\n",
      "\u001B[0;32m~/.conda/envs/multi_coref/lib/python3.8/json/decoder.py\u001B[0m in \u001B[0;36mdecode\u001B[0;34m(self, s, _w)\u001B[0m\n\u001B[1;32m    335\u001B[0m \u001B[0;34m\u001B[0m\u001B[0m\n\u001B[1;32m    336\u001B[0m         \"\"\"\n\u001B[0;32m--> 337\u001B[0;31m         \u001B[0mobj\u001B[0m\u001B[0;34m,\u001B[0m \u001B[0mend\u001B[0m \u001B[0;34m=\u001B[0m \u001B[0mself\u001B[0m\u001B[0;34m.\u001B[0m\u001B[0mraw_decode\u001B[0m\u001B[0;34m(\u001B[0m\u001B[0ms\u001B[0m\u001B[0;34m,\u001B[0m \u001B[0midx\u001B[0m\u001B[0;34m=\u001B[0m\u001B[0m_w\u001B[0m\u001B[0;34m(\u001B[0m\u001B[0ms\u001B[0m\u001B[0;34m,\u001B[0m \u001B[0;36m0\u001B[0m\u001B[0;34m)\u001B[0m\u001B[0;34m.\u001B[0m\u001B[0mend\u001B[0m\u001B[0;34m(\u001B[0m\u001B[0;34m)\u001B[0m\u001B[0;34m)\u001B[0m\u001B[0;34m\u001B[0m\u001B[0;34m\u001B[0m\u001B[0m\n\u001B[0m\u001B[1;32m    338\u001B[0m         \u001B[0mend\u001B[0m \u001B[0;34m=\u001B[0m \u001B[0m_w\u001B[0m\u001B[0;34m(\u001B[0m\u001B[0ms\u001B[0m\u001B[0;34m,\u001B[0m \u001B[0mend\u001B[0m\u001B[0;34m)\u001B[0m\u001B[0;34m.\u001B[0m\u001B[0mend\u001B[0m\u001B[0;34m(\u001B[0m\u001B[0;34m)\u001B[0m\u001B[0;34m\u001B[0m\u001B[0;34m\u001B[0m\u001B[0m\n\u001B[1;32m    339\u001B[0m         \u001B[0;32mif\u001B[0m \u001B[0mend\u001B[0m \u001B[0;34m!=\u001B[0m \u001B[0mlen\u001B[0m\u001B[0;34m(\u001B[0m\u001B[0ms\u001B[0m\u001B[0;34m)\u001B[0m\u001B[0;34m:\u001B[0m\u001B[0;34m\u001B[0m\u001B[0;34m\u001B[0m\u001B[0m\n",
      "\u001B[0;32m~/.conda/envs/multi_coref/lib/python3.8/json/decoder.py\u001B[0m in \u001B[0;36mraw_decode\u001B[0;34m(self, s, idx)\u001B[0m\n\u001B[1;32m    351\u001B[0m         \"\"\"\n\u001B[1;32m    352\u001B[0m         \u001B[0;32mtry\u001B[0m\u001B[0;34m:\u001B[0m\u001B[0;34m\u001B[0m\u001B[0;34m\u001B[0m\u001B[0m\n\u001B[0;32m--> 353\u001B[0;31m             \u001B[0mobj\u001B[0m\u001B[0;34m,\u001B[0m \u001B[0mend\u001B[0m \u001B[0;34m=\u001B[0m \u001B[0mself\u001B[0m\u001B[0;34m.\u001B[0m\u001B[0mscan_once\u001B[0m\u001B[0;34m(\u001B[0m\u001B[0ms\u001B[0m\u001B[0;34m,\u001B[0m \u001B[0midx\u001B[0m\u001B[0;34m)\u001B[0m\u001B[0;34m\u001B[0m\u001B[0;34m\u001B[0m\u001B[0m\n\u001B[0m\u001B[1;32m    354\u001B[0m         \u001B[0;32mexcept\u001B[0m \u001B[0mStopIteration\u001B[0m \u001B[0;32mas\u001B[0m \u001B[0merr\u001B[0m\u001B[0;34m:\u001B[0m\u001B[0;34m\u001B[0m\u001B[0;34m\u001B[0m\u001B[0m\n\u001B[1;32m    355\u001B[0m             \u001B[0;32mraise\u001B[0m \u001B[0mJSONDecodeError\u001B[0m\u001B[0;34m(\u001B[0m\u001B[0;34m\"Expecting value\"\u001B[0m\u001B[0;34m,\u001B[0m \u001B[0ms\u001B[0m\u001B[0;34m,\u001B[0m \u001B[0merr\u001B[0m\u001B[0;34m.\u001B[0m\u001B[0mvalue\u001B[0m\u001B[0;34m)\u001B[0m \u001B[0;32mfrom\u001B[0m \u001B[0;32mNone\u001B[0m\u001B[0;34m\u001B[0m\u001B[0;34m\u001B[0m\u001B[0m\n",
      "\u001B[0;31mJSONDecodeError\u001B[0m: Expecting property name enclosed in double quotes: line 1 column 2 (char 1)"
     ]
    }
   ],
   "source": [
    "input_dict = json.loads(input)"
   ],
   "metadata": {
    "collapsed": false,
    "pycharm": {
     "name": "#%%\n"
    }
   }
  },
  {
   "cell_type": "code",
   "execution_count": 25,
   "outputs": [
    {
     "name": "stdout",
     "output_type": "stream",
     "text": [
      "{'k1': 123, 'k2': '456', 'k3': 'ares'}\n"
     ]
    }
   ],
   "source": [
    "print(input_dict)"
   ],
   "metadata": {
    "collapsed": false,
    "pycharm": {
     "name": "#%%\n"
    }
   }
  },
  {
   "cell_type": "code",
   "execution_count": 42,
   "outputs": [],
   "source": [
    "import csv"
   ],
   "metadata": {
    "collapsed": false,
    "pycharm": {
     "name": "#%%\n"
    }
   }
  },
  {
   "cell_type": "code",
   "execution_count": 47,
   "outputs": [],
   "source": [
    "data = []\n",
    "with open('day1/session0/unlabeled_data.csv', 'r') as f:\n",
    "    csv_reader = csv.reader(f)\n",
    "    for x in csv_reader:\n",
    "        data.append(x)"
   ],
   "metadata": {
    "collapsed": false,
    "pycharm": {
     "name": "#%%\n"
    }
   }
  },
  {
   "cell_type": "code",
   "execution_count": 66,
   "outputs": [],
   "source": [
    "instance = json.loads(data[1][0])\n",
    "\n",
    "doc_key = instance[\"doc_key\"]\n",
    "sentences = instance[\"sentences\"]\n",
    "querySpans = instance[\"querySpans\"]\n",
    "candidateSpans = instance[\"candidateSpans\"]"
   ],
   "metadata": {
    "collapsed": false,
    "pycharm": {
     "name": "#%%\n"
    }
   }
  },
  {
   "cell_type": "code",
   "execution_count": 68,
   "outputs": [
    {
     "name": "stdout",
     "output_type": "stream",
     "text": [
      "1492\n"
     ]
    }
   ],
   "source": [
    "print(doc_key)"
   ],
   "metadata": {
    "collapsed": false,
    "pycharm": {
     "name": "#%%\n"
    }
   }
  },
  {
   "cell_type": "code",
   "execution_count": 70,
   "outputs": [
    {
     "name": "stdout",
     "output_type": "stream",
     "text": [
      "['I', 'hired', 'a', 'man', 'to', 'help', 'me', 'repair', 'an', 'old', 'farmhouse', '.']\n",
      "['His', 'first', 'day', 'on', 'the', 'job', 'made', 'him', 'mad', '--', 'a', 'flat', 'tire', 'made', 'him', 'lose', 'an', 'hour', 'of', 'work', ',', 'he', 'cut', 'his', 'finger', 'with', 'a', 'knife', 'and', 'his', 'old', 'truck', 'refused', 'to', 'start', '.']\n",
      "['While', 'Idrove', 'him', 'home', ',', 'he', 'sat', 'in', 'silence', '.']\n",
      "['On', 'arriving', ',', 'he', 'invited', 'me', 'to', 'meet', 'his', 'family', '.']\n",
      "['As', 'we', 'walked', 'towards', 'the', 'front', 'door', ',', 'he', 'stopped', 'at', 'a', 'small', 'tree', 'and', 'touched', 'the', 'tips', 'of', 'the', 'branches', 'with', 'both', 'hands', '.']\n",
      "['When', 'opening', 'the', 'door', ',', 'his', 'face', 'was', 'full', 'of', 'smiles', 'and', 'he', 'hugged', 'his', 'two', 'children', 'and', 'gave', 'his', 'wife', 'a', 'kiss', '.']\n",
      "['Afterwards', ',', 'he', 'walked', 'with', 'me', 'to', 'the', 'car', '.']\n",
      "['We', 'passed', 'the', 'tree', '.']\n",
      "['I', 'was', 'so', 'curious', 'that', 'Iasked', 'him', 'about', 'what', 'I', 'had', 'seen', 'carlier', '.']\n",
      "['``', 'Oh', ',', 'that', \"'s\", 'my', 'trouble', 'tree', ',', \"''\", 'he', 'replied', '.']\n",
      "['``', 'I', 'know', 'I', 'ca', \"n't\", 'help', 'having', 'troubles', 'on', 'the', 'job', ',', 'but', 'one', 'thing', 'is', 'for', 'sure', '.']\n",
      "['Those', 'troubles', 'do', \"n't\", 'belong', 'to', 'my', 'children', 'and', 'wife', '.']\n",
      "['So', 'I', 'hang', 'in', 'the', 'tree', 'every', 'night', 'and', 'ask', 'God', 'to', 'take', 'care', 'of', 'them', '.']\n",
      "['Then', 'in', 'the', 'morning', ',', 'I', 'pick', 'them', 'up', 'again', '.', \"''\"]\n",
      "['``', 'The', 'funny', 'thing', 'is', ',', \"''\", 'he', 'smiles', ',', '``', 'when', 'I', 'come', 'out', 'to', 'pick', 'them', 'up', 'in', 'the', 'morning', ',', 'there', 'are', \"n't\", 'as', 'many', 'as', 'those', 'hung', 'up', 'the', 'night', 'before', '.', \"''\"]\n"
     ]
    }
   ],
   "source": [
    "for x in sentences:\n",
    "    print(x)"
   ],
   "metadata": {
    "collapsed": false,
    "pycharm": {
     "name": "#%%\n"
    }
   }
  },
  {
   "cell_type": "code",
   "execution_count": 71,
   "outputs": [
    {
     "name": "stdout",
     "output_type": "stream",
     "text": [
      "{'sentenceIndex': 0, 'startToken': 6, 'endToken': 7}\n",
      "{'sentenceIndex': 1, 'startToken': 7, 'endToken': 8}\n",
      "{'sentenceIndex': 14, 'startToken': 32, 'endToken': 35}\n"
     ]
    }
   ],
   "source": [
    "for x in querySpans:\n",
    "    print(x)"
   ],
   "metadata": {
    "collapsed": false,
    "pycharm": {
     "name": "#%%\n"
    }
   }
  },
  {
   "cell_type": "code",
   "execution_count": 72,
   "outputs": [
    {
     "name": "stdout",
     "output_type": "stream",
     "text": [
      "{'sentenceIndex': 0, 'startToken': 0, 'endToken': 1}\n",
      "{'sentenceIndex': 0, 'startToken': 1, 'endToken': 2}\n",
      "{'sentenceIndex': 0, 'startToken': 2, 'endToken': 4}\n",
      "{'sentenceIndex': 0, 'startToken': 2, 'endToken': 11}\n",
      "{'sentenceIndex': 0, 'startToken': 5, 'endToken': 6}\n",
      "{'sentenceIndex': 0, 'startToken': 5, 'endToken': 7}\n",
      "{'sentenceIndex': 0, 'startToken': 5, 'endToken': 8}\n",
      "{'sentenceIndex': 0, 'startToken': 5, 'endToken': 11}\n",
      "{'sentenceIndex': 0, 'startToken': 6, 'endToken': 7}\n",
      "{'sentenceIndex': 0, 'startToken': 6, 'endToken': 8}\n",
      "{'sentenceIndex': 0, 'startToken': 6, 'endToken': 11}\n",
      "{'sentenceIndex': 0, 'startToken': 7, 'endToken': 8}\n",
      "{'sentenceIndex': 0, 'startToken': 8, 'endToken': 11}\n",
      "{'sentenceIndex': 1, 'startToken': 0, 'endToken': 1}\n",
      "{'sentenceIndex': 1, 'startToken': 0, 'endToken': 6}\n",
      "{'sentenceIndex': 1, 'startToken': 4, 'endToken': 6}\n",
      "{'sentenceIndex': 1, 'startToken': 7, 'endToken': 8}\n",
      "{'sentenceIndex': 1, 'startToken': 10, 'endToken': 13}\n",
      "{'sentenceIndex': 1, 'startToken': 14, 'endToken': 15}\n",
      "{'sentenceIndex': 1, 'startToken': 16, 'endToken': 20}\n",
      "{'sentenceIndex': 1, 'startToken': 21, 'endToken': 22}\n",
      "{'sentenceIndex': 1, 'startToken': 22, 'endToken': 23}\n",
      "{'sentenceIndex': 1, 'startToken': 23, 'endToken': 24}\n",
      "{'sentenceIndex': 1, 'startToken': 23, 'endToken': 25}\n",
      "{'sentenceIndex': 1, 'startToken': 23, 'endToken': 28}\n",
      "{'sentenceIndex': 1, 'startToken': 26, 'endToken': 28}\n",
      "{'sentenceIndex': 1, 'startToken': 29, 'endToken': 30}\n",
      "{'sentenceIndex': 1, 'startToken': 29, 'endToken': 32}\n",
      "{'sentenceIndex': 1, 'startToken': 29, 'endToken': 35}\n",
      "{'sentenceIndex': 1, 'startToken': 32, 'endToken': 33}\n",
      "{'sentenceIndex': 1, 'startToken': 34, 'endToken': 35}\n",
      "{'sentenceIndex': 2, 'startToken': 1, 'endToken': 2}\n",
      "{'sentenceIndex': 2, 'startToken': 1, 'endToken': 2}\n",
      "{'sentenceIndex': 2, 'startToken': 1, 'endToken': 3}\n",
      "{'sentenceIndex': 2, 'startToken': 1, 'endToken': 4}\n",
      "{'sentenceIndex': 2, 'startToken': 2, 'endToken': 3}\n",
      "{'sentenceIndex': 2, 'startToken': 3, 'endToken': 4}\n",
      "{'sentenceIndex': 2, 'startToken': 5, 'endToken': 6}\n",
      "{'sentenceIndex': 3, 'startToken': 3, 'endToken': 4}\n",
      "{'sentenceIndex': 3, 'startToken': 5, 'endToken': 6}\n",
      "{'sentenceIndex': 3, 'startToken': 7, 'endToken': 8}\n",
      "{'sentenceIndex': 3, 'startToken': 8, 'endToken': 9}\n",
      "{'sentenceIndex': 3, 'startToken': 8, 'endToken': 10}\n",
      "{'sentenceIndex': 4, 'startToken': 1, 'endToken': 2}\n",
      "{'sentenceIndex': 4, 'startToken': 2, 'endToken': 3}\n",
      "{'sentenceIndex': 4, 'startToken': 4, 'endToken': 7}\n",
      "{'sentenceIndex': 4, 'startToken': 8, 'endToken': 9}\n",
      "{'sentenceIndex': 4, 'startToken': 11, 'endToken': 14}\n",
      "{'sentenceIndex': 4, 'startToken': 11, 'endToken': 21}\n",
      "{'sentenceIndex': 4, 'startToken': 11, 'endToken': 24}\n",
      "{'sentenceIndex': 4, 'startToken': 15, 'endToken': 16}\n",
      "{'sentenceIndex': 4, 'startToken': 16, 'endToken': 21}\n",
      "{'sentenceIndex': 4, 'startToken': 16, 'endToken': 24}\n",
      "{'sentenceIndex': 4, 'startToken': 19, 'endToken': 21}\n",
      "{'sentenceIndex': 4, 'startToken': 22, 'endToken': 24}\n",
      "{'sentenceIndex': 5, 'startToken': 2, 'endToken': 4}\n",
      "{'sentenceIndex': 5, 'startToken': 5, 'endToken': 6}\n",
      "{'sentenceIndex': 5, 'startToken': 12, 'endToken': 13}\n",
      "{'sentenceIndex': 5, 'startToken': 14, 'endToken': 15}\n",
      "{'sentenceIndex': 5, 'startToken': 14, 'endToken': 17}\n",
      "{'sentenceIndex': 5, 'startToken': 14, 'endToken': 23}\n",
      "{'sentenceIndex': 5, 'startToken': 19, 'endToken': 20}\n",
      "{'sentenceIndex': 5, 'startToken': 19, 'endToken': 21}\n",
      "{'sentenceIndex': 5, 'startToken': 19, 'endToken': 23}\n",
      "{'sentenceIndex': 5, 'startToken': 21, 'endToken': 23}\n",
      "{'sentenceIndex': 6, 'startToken': 0, 'endToken': 1}\n",
      "{'sentenceIndex': 6, 'startToken': 2, 'endToken': 3}\n",
      "{'sentenceIndex': 6, 'startToken': 3, 'endToken': 4}\n",
      "{'sentenceIndex': 6, 'startToken': 5, 'endToken': 6}\n",
      "{'sentenceIndex': 6, 'startToken': 7, 'endToken': 9}\n",
      "{'sentenceIndex': 7, 'startToken': 0, 'endToken': 1}\n",
      "{'sentenceIndex': 7, 'startToken': 2, 'endToken': 4}\n",
      "{'sentenceIndex': 8, 'startToken': 0, 'endToken': 1}\n",
      "{'sentenceIndex': 8, 'startToken': 5, 'endToken': 6}\n",
      "{'sentenceIndex': 8, 'startToken': 5, 'endToken': 6}\n",
      "{'sentenceIndex': 8, 'startToken': 5, 'endToken': 7}\n",
      "{'sentenceIndex': 8, 'startToken': 6, 'endToken': 7}\n",
      "{'sentenceIndex': 8, 'startToken': 9, 'endToken': 10}\n",
      "{'sentenceIndex': 8, 'startToken': 11, 'endToken': 12}\n",
      "{'sentenceIndex': 9, 'startToken': 3, 'endToken': 4}\n",
      "{'sentenceIndex': 9, 'startToken': 5, 'endToken': 6}\n",
      "{'sentenceIndex': 9, 'startToken': 5, 'endToken': 8}\n",
      "{'sentenceIndex': 9, 'startToken': 10, 'endToken': 11}\n",
      "{'sentenceIndex': 10, 'startToken': 1, 'endToken': 2}\n",
      "{'sentenceIndex': 10, 'startToken': 3, 'endToken': 4}\n",
      "{'sentenceIndex': 10, 'startToken': 3, 'endToken': 12}\n",
      "{'sentenceIndex': 10, 'startToken': 7, 'endToken': 8}\n",
      "{'sentenceIndex': 10, 'startToken': 8, 'endToken': 12}\n",
      "{'sentenceIndex': 10, 'startToken': 10, 'endToken': 12}\n",
      "{'sentenceIndex': 11, 'startToken': 0, 'endToken': 2}\n",
      "{'sentenceIndex': 11, 'startToken': 6, 'endToken': 7}\n",
      "{'sentenceIndex': 11, 'startToken': 6, 'endToken': 10}\n",
      "{'sentenceIndex': 12, 'startToken': 1, 'endToken': 2}\n",
      "{'sentenceIndex': 12, 'startToken': 4, 'endToken': 6}\n",
      "{'sentenceIndex': 12, 'startToken': 6, 'endToken': 8}\n",
      "{'sentenceIndex': 12, 'startToken': 10, 'endToken': 11}\n",
      "{'sentenceIndex': 12, 'startToken': 15, 'endToken': 16}\n",
      "{'sentenceIndex': 13, 'startToken': 2, 'endToken': 4}\n",
      "{'sentenceIndex': 13, 'startToken': 5, 'endToken': 6}\n",
      "{'sentenceIndex': 13, 'startToken': 7, 'endToken': 8}\n",
      "{'sentenceIndex': 14, 'startToken': 7, 'endToken': 8}\n",
      "{'sentenceIndex': 14, 'startToken': 12, 'endToken': 13}\n",
      "{'sentenceIndex': 14, 'startToken': 13, 'endToken': 14}\n",
      "{'sentenceIndex': 14, 'startToken': 16, 'endToken': 17}\n",
      "{'sentenceIndex': 14, 'startToken': 17, 'endToken': 18}\n",
      "{'sentenceIndex': 14, 'startToken': 17, 'endToken': 19}\n",
      "{'sentenceIndex': 14, 'startToken': 17, 'endToken': 22}\n",
      "{'sentenceIndex': 14, 'startToken': 20, 'endToken': 22}\n",
      "{'sentenceIndex': 14, 'startToken': 29, 'endToken': 35}\n",
      "{'sentenceIndex': 14, 'startToken': 30, 'endToken': 31}\n",
      "{'sentenceIndex': 14, 'startToken': 30, 'endToken': 32}\n",
      "{'sentenceIndex': 14, 'startToken': 32, 'endToken': 35}\n"
     ]
    }
   ],
   "source": [
    "for x in candidateSpans:\n",
    "    print(x)"
   ],
   "metadata": {
    "collapsed": false,
    "pycharm": {
     "name": "#%%\n"
    }
   }
  },
  {
   "cell_type": "code",
   "execution_count": 73,
   "outputs": [
    {
     "ename": "SyntaxError",
     "evalue": "invalid syntax (201866217.py, line 1)",
     "output_type": "error",
     "traceback": [
      "\u001B[0;36m  File \u001B[0;32m\"/var/folders/w9/673mfrb56v7dvx7hhvw7s6240000gn/T/ipykernel_78008/201866217.py\"\u001B[0;36m, line \u001B[0;32m1\u001B[0m\n\u001B[0;31m    python make-toy-interface.py \\\u001B[0m\n\u001B[0m           ^\u001B[0m\n\u001B[0;31mSyntaxError\u001B[0m\u001B[0;31m:\u001B[0m invalid syntax\n"
     ]
    }
   ],
   "source": [
    "python make-toy-interface.py \\\n",
    "    --interface-template-path multi-query-constrained-hit.html \\\n",
    "    --sampler \\\n",
    "    /Users/boyuanzheng/PycharmProjects/multi_coref/annotation_inferace/active-learning-hit/day1/session0/unlabeled_data.jsonl \\\n",
    "    > /Users/boyuanzheng/PycharmProjects/multi_coref/annotation_inferace/public_html/script_0.html"
   ],
   "metadata": {
    "collapsed": false,
    "pycharm": {
     "name": "#%%\n"
    }
   }
  },
  {
   "cell_type": "code",
   "execution_count": null,
   "outputs": [],
   "source": [
    "python make-toy-interface.py \\\n",
    "    --interface-template-path multi-query-constrained-hit.html \\\n",
    "    --sampler \\\n",
    "    /Users/boyuanzheng/PycharmProjects/multi_coref/annotation_inferace/active-learning-hit/day1/session2/unlabeled_data.jsonl \\\n",
    "    > /Users/boyuanzheng/PycharmProjects/multi_coref/annotation_inferace/public_html/script_2.html"
   ],
   "metadata": {
    "collapsed": false,
    "pycharm": {
     "name": "#%%\n"
    }
   }
  },
  {
   "cell_type": "code",
   "execution_count": 82,
   "outputs": [],
   "source": [
    "en_fa = [(1, 1), (1, 2), (1, 3), (1, 4), (1, 5), (1, 6), (1, 7), (1, 8), (1, 9), (1, 10), (1, 11), (1, 12), (1, 13), (1, 14), (1, 15), (1, 16), (2, 4), (2, 6), (2, 8), (2, 9), (3, 21), (3, 23), (4, 1), (4, 3), (4, 4), (4, 5), (4, 6), (4, 8), (4, 16), (4, 19), (4, 21), (4, 22), (4, 23), (4, 24), (5, 2), (5, 6), (5, 12), (5, 14), (5, 15), (5, 20), (5, 23), (6, 2), (6, 3), (6, 4), (6, 5), (6, 6), (6, 7), (6, 8), (6, 9), (6, 14), (6, 15), (6, 16), (6, 17), (6, 19), (6, 20), (6, 21), (6, 24), (7, 1), (7, 2), (7, 6), (7, 10), (7, 11), (7, 15), (7, 16), (7, 17), (7, 18), (7, 19), (7, 20), (7, 22), (7, 23), (8, 1), (8, 2), (8, 3), (8, 5), (8, 6), (8, 7), (8, 9), (8, 11), (8, 12), (8, 14), (8, 15), (8, 16), (8, 17), (8, 18), (8, 19), (8, 20), (8, 21), (8, 22), (8, 23), (8, 24), (9, 1), (9, 3), (9, 4), (9, 7), (9, 8), (9, 9), (9, 10), (9, 11), (9, 12), (9, 16), (9, 17), (9, 18)]"
   ],
   "metadata": {
    "collapsed": false,
    "pycharm": {
     "name": "#%%\n"
    }
   }
  },
  {
   "cell_type": "code",
   "execution_count": 83,
   "outputs": [],
   "source": [
    "en_zh = [(1, 1), (1, 2), (1, 3), (1, 4), (1, 5), (1, 6), (1, 7), (1, 8), (1, 9), (1, 10), (1, 11), (1, 12), (1, 13), (1, 14), (1, 15), (1, 16), (2, 1), (2, 2), (2, 3), (2, 4), (2, 5), (2, 6), (2, 7), (2, 8), (2, 9), (2, 10), (2, 11), (2, 12), (2, 13), (2, 14), (2, 15), (2, 16), (2, 17), (2, 18), (2, 19), (2, 20), (2, 21), (2, 22), (2, 23), (3, 1), (3, 2), (3, 3), (3, 4), (3, 5), (3, 6), (3, 7), (3, 8), (3, 9), (3, 10), (3, 11), (3, 12), (3, 13), (3, 14), (3, 15), (3, 16), (3, 17), (3, 18), (3, 19), (3, 20), (3, 21), (3, 22), (3, 23), (4, 1), (4, 2), (4, 3), (4, 4), (4, 5), (4, 6), (4, 7), (4, 8), (4, 9), (4, 10), (4, 11), (4, 12), (4, 13), (4, 14), (4, 15), (4, 17), (4, 18), (4, 19), (4, 20), (4, 21), (4, 22), (4, 23), (4, 24), (5, 1), (5, 2), (5, 3), (5, 4), (5, 5), (5, 6), (5, 7), (5, 8), (5, 9), (5, 10), (5, 11), (5, 12), (5, 13), (5, 14), (5, 15), (5, 16), (5, 17), (5, 18), (5, 19), (5, 20), (5, 21), (5, 22), (5, 23), (6, 1), (6, 2), (6, 3), (6, 4), (6, 5), (6, 6), (6, 7), (6, 8), (6, 9), (6, 10), (6, 11), (6, 12), (6, 13), (6, 14), (6, 15), (6, 16), (6, 17), (6, 18), (6, 19), (6, 20), (6, 21), (6, 22), (6, 23), (6, 24), (7, 1), (7, 2), (7, 3), (7, 4), (7, 5), (7, 6), (7, 7), (7, 8), (7, 9), (7, 10), (7, 11), (7, 13), (7, 14), (7, 15), (7, 16), (7, 17), (7, 18), (7, 19), (7, 20), (7, 21), (7, 22), (7, 23), (7, 24), (8, 1), (8, 2), (8, 3), (8, 4), (8, 5), (8, 6), (8, 8), (8, 9), (8, 10), (8, 11), (8, 12), (8, 13), (8, 15), (8, 16), (8, 17), (8, 18), (8, 19), (8, 20), (8, 21), (8, 22), (8, 23), (8, 24), (9, 1), (9, 2), (9, 3), (9, 4), (9, 5), (9, 6), (9, 7), (9, 9), (9, 10), (9, 11), (9, 12), (9, 13), (9, 14), (9, 15), (9, 16), (9, 24)]"
   ],
   "metadata": {
    "collapsed": false,
    "pycharm": {
     "name": "#%%\n"
    }
   }
  },
  {
   "cell_type": "code",
   "execution_count": 98,
   "outputs": [],
   "source": [
    "# For En-Zh\n",
    "temp = [[] for i in range(9)]\n",
    "for i, j in en_zh:\n",
    "    temp[i-1].append(j)"
   ],
   "metadata": {
    "collapsed": false,
    "pycharm": {
     "name": "#%%\n"
    }
   }
  },
  {
   "cell_type": "code",
   "execution_count": 107,
   "outputs": [
    {
     "name": "stdout",
     "output_type": "stream",
     "text": [
      "Season \t Episode\n",
      "0 \t \t 1 2 3 4 5 6 7 8 9 10 11 12 13 14 15 16\n",
      "1 \t \t 1 2 3 4 5 6 7 8 9 10 11 12 13 14 15 16 17 18 19 20 21 22 23\n",
      "2 \t \t 1 2 3 4 5 6 7 8 9 10 11 12 13 14 15 16 17 18 19 20 21 22 23\n",
      "3 \t \t 1 2 3 4 5 6 7 8 9 10 11 12 13 14 15 17 18 19 20 21 22 23 24\n",
      "4 \t \t 1 2 3 4 5 6 7 8 9 10 11 12 13 14 15 16 17 18 19 20 21 22 23\n",
      "5 \t \t 1 2 3 4 5 6 7 8 9 10 11 12 13 14 15 16 17 18 19 20 21 22 23 24\n",
      "6 \t \t 1 2 3 4 5 6 7 8 9 10 11 13 14 15 16 17 18 19 20 21 22 23 24\n",
      "7 \t \t 1 2 3 4 5 6 8 9 10 11 12 13 15 16 17 18 19 20 21 22 23 24\n",
      "8 \t \t 1 2 3 4 5 6 7 9 10 11 12 13 14 15 16 24\n"
     ]
    }
   ],
   "source": [
    "print(\"Season \\t Episode\")\n",
    "for i, item in enumerate(temp):\n",
    "    print(i, \"\\t \\t\", \" \".join([str(epi) for epi in item]))"
   ],
   "metadata": {
    "collapsed": false,
    "pycharm": {
     "name": "#%%\n"
    }
   }
  },
  {
   "cell_type": "code",
   "execution_count": 108,
   "outputs": [],
   "source": [
    "# For En-Fa\n",
    "temp = [[] for i in range(9)]\n",
    "for i, j in en_fa:\n",
    "    temp[i-1].append(j)"
   ],
   "metadata": {
    "collapsed": false,
    "pycharm": {
     "name": "#%%\n"
    }
   }
  },
  {
   "cell_type": "code",
   "execution_count": 109,
   "outputs": [
    {
     "name": "stdout",
     "output_type": "stream",
     "text": [
      "Season \t Episode\n",
      "0 \t \t 1 2 3 4 5 6 7 8 9 10 11 12 13 14 15 16\n",
      "1 \t \t 4 6 8 9\n",
      "2 \t \t 21 23\n",
      "3 \t \t 1 3 4 5 6 8 16 19 21 22 23 24\n",
      "4 \t \t 2 6 12 14 15 20 23\n",
      "5 \t \t 2 3 4 5 6 7 8 9 14 15 16 17 19 20 21 24\n",
      "6 \t \t 1 2 6 10 11 15 16 17 18 19 20 22 23\n",
      "7 \t \t 1 2 3 5 6 7 9 11 12 14 15 16 17 18 19 20 21 22 23 24\n",
      "8 \t \t 1 3 4 7 8 9 10 11 12 16 17 18\n"
     ]
    }
   ],
   "source": [
    "print(\"Season \\t Episode\")\n",
    "for i, item in enumerate(temp):\n",
    "    print(i, \"\\t \\t\", \" \".join([str(epi) for epi in item]))"
   ],
   "metadata": {
    "collapsed": false,
    "pycharm": {
     "name": "#%%\n"
    }
   }
  },
  {
   "cell_type": "code",
   "execution_count": 112,
   "outputs": [],
   "source": [
    "inter = []\n",
    "for item in en_zh:\n",
    "    if item in en_fa:\n",
    "        inter.append(item)\n",
    "\n",
    "temp = [[] for i in range(9)]\n",
    "for i, j in inter:\n",
    "    temp[i-1].append(j)"
   ],
   "metadata": {
    "collapsed": false,
    "pycharm": {
     "name": "#%%\n"
    }
   }
  },
  {
   "cell_type": "code",
   "execution_count": 113,
   "outputs": [
    {
     "name": "stdout",
     "output_type": "stream",
     "text": [
      "Season \t Episode\n",
      "0 \t \t 1 2 3 4 5 6 7 8 9 10 11 12 13 14 15 16\n",
      "1 \t \t 4 6 8 9\n",
      "2 \t \t 21 23\n",
      "3 \t \t 1 3 4 5 6 8 19 21 22 23 24\n",
      "4 \t \t 2 6 12 14 15 20 23\n",
      "5 \t \t 2 3 4 5 6 7 8 9 14 15 16 17 19 20 21 24\n",
      "6 \t \t 1 2 6 10 11 15 16 17 18 19 20 22 23\n",
      "7 \t \t 1 2 3 5 6 9 11 12 15 16 17 18 19 20 21 22 23 24\n",
      "8 \t \t 1 3 4 7 9 10 11 12 16\n"
     ]
    }
   ],
   "source": [
    "print(\"Season \\t Episode\")\n",
    "for i, item in enumerate(temp):\n",
    "    print(i, \"\\t \\t\", \" \".join([str(epi) for epi in item]))"
   ],
   "metadata": {
    "collapsed": false,
    "pycharm": {
     "name": "#%%\n"
    }
   }
  },
  {
   "cell_type": "code",
   "execution_count": 89,
   "outputs": [
    {
     "name": "stdout",
     "output_type": "stream",
     "text": [
      "96\n"
     ]
    }
   ],
   "source": [
    "print(len(inter))"
   ],
   "metadata": {
    "collapsed": false,
    "pycharm": {
     "name": "#%%\n"
    }
   }
  },
  {
   "cell_type": "code",
   "execution_count": 93,
   "outputs": [],
   "source": [
    "temp = [[] for i in range(9)]\n",
    "for i, j in inter:\n",
    "    temp[i-1].append(j)"
   ],
   "metadata": {
    "collapsed": false,
    "pycharm": {
     "name": "#%%\n"
    }
   }
  },
  {
   "cell_type": "code",
   "execution_count": 95,
   "outputs": [
    {
     "name": "stdout",
     "output_type": "stream",
     "text": [
      "[1, 2, 3, 4, 5, 6, 7, 8, 9, 10, 11, 12, 13, 14, 15, 16]\n",
      "[4, 6, 8, 9]\n",
      "[21, 23]\n",
      "[1, 3, 4, 5, 6, 8, 19, 21, 22, 23, 24]\n",
      "[2, 6, 12, 14, 15, 20, 23]\n",
      "[2, 3, 4, 5, 6, 7, 8, 9, 14, 15, 16, 17, 19, 20, 21, 24]\n",
      "[1, 2, 6, 10, 11, 15, 16, 17, 18, 19, 20, 22, 23]\n",
      "[1, 2, 3, 5, 6, 9, 11, 12, 15, 16, 17, 18, 19, 20, 21, 22, 23, 24]\n",
      "[1, 3, 4, 7, 9, 10, 11, 12, 16]\n"
     ]
    }
   ],
   "source": [
    "for x in temp:\n",
    "    print(x)"
   ],
   "metadata": {
    "collapsed": false,
    "pycharm": {
     "name": "#%%\n"
    }
   }
  },
  {
   "cell_type": "code",
   "execution_count": null,
   "outputs": [],
   "source": [],
   "metadata": {
    "collapsed": false,
    "pycharm": {
     "name": "#%%\n"
    }
   }
  }
 ],
 "metadata": {
  "kernelspec": {
   "display_name": "Python 3",
   "language": "python",
   "name": "python3"
  },
  "language_info": {
   "codemirror_mode": {
    "name": "ipython",
    "version": 2
   },
   "file_extension": ".py",
   "mimetype": "text/x-python",
   "name": "python",
   "nbconvert_exporter": "python",
   "pygments_lexer": "ipython2",
   "version": "2.7.6"
  }
 },
 "nbformat": 4,
 "nbformat_minor": 0
}