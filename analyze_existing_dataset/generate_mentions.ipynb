{
 "cells": [
  {
   "cell_type": "code",
   "execution_count": 7,
   "metadata": {
    "collapsed": true,
    "pycharm": {
     "name": "#%%\n"
    }
   },
   "outputs": [],
   "source": [
    "import csv\n",
    "\n",
    "import jsonlines\n",
    "import os\n",
    "import pickle as pkl\n",
    "from tqdm import tqdm\n",
    "from collections import Counter\n",
    "import csv"
   ]
  },
  {
   "cell_type": "code",
   "execution_count": 7,
   "outputs": [],
   "source": [],
   "metadata": {
    "collapsed": false,
    "pycharm": {
     "name": "#%%\n"
    }
   }
  },
  {
   "cell_type": "code",
   "execution_count": 8,
   "outputs": [],
   "source": [
    "def get_mentions(set_name):\n",
    "    data = []\n",
    "    root_dir = set_name + \"/\"\n",
    "    for file_name in os.listdir(root_dir):\n",
    "        with open(root_dir+file_name, 'r') as f:\n",
    "            reader = jsonlines.Reader(f)\n",
    "            for x in reader:\n",
    "                data.append(x)\n",
    "    mentions = []\n",
    "    for instance in data:\n",
    "        sentences = []\n",
    "        for item in instance['sentences']:\n",
    "            sentences.extend(item)\n",
    "        cluster = instance['clusters']\n",
    "        for x in cluster:\n",
    "            for y in x:\n",
    "                mentions.append(\" \".join(sentences[y[0]: y[1]+1]).strip().lower())\n",
    "    with open(\"mentions/\"+set_name+\".pkl\", 'wb') as f:\n",
    "        pkl.dump(mentions, f)\n",
    "    return mentions"
   ],
   "metadata": {
    "collapsed": false,
    "pycharm": {
     "name": "#%%\n"
    }
   }
  },
  {
   "cell_type": "code",
   "execution_count": 9,
   "outputs": [],
   "source": [
    "def get_mention_clusters(set_name):\n",
    "    data = []\n",
    "    root_dir = \"data/\" + set_name + \"/\"\n",
    "    for file_name in os.listdir(root_dir):\n",
    "        with open(root_dir+file_name, 'r') as f:\n",
    "            reader = jsonlines.Reader(f)\n",
    "            for x in reader:\n",
    "                data.append(x)\n",
    "    mentions = []\n",
    "    for instance in data:\n",
    "        document = {}\n",
    "        sentences = []\n",
    "        for item in instance['sentences']:\n",
    "            sentences.extend(item)\n",
    "        document['sentences'] = sentences\n",
    "\n",
    "        cluster = []\n",
    "        for x in instance['clusters']:\n",
    "            temp = []\n",
    "            for y in x:\n",
    "                temp.append(\" \".join(sentences[y[0]: y[1]+1]).strip().lower())\n",
    "            cluster.append(temp)\n",
    "        document['clusters'] = cluster\n",
    "\n",
    "        mentions.append(document)\n",
    "\n",
    "    with open(\"mention_clusters/\"+set_name+\".pkl\", 'wb') as f:\n",
    "        pkl.dump(mentions, f)\n",
    "    return mentions"
   ],
   "metadata": {
    "collapsed": false,
    "pycharm": {
     "name": "#%%\n"
    }
   }
  },
  {
   "cell_type": "code",
   "execution_count": 10,
   "outputs": [
    {
     "name": "stderr",
     "output_type": "stream",
     "text": [
      "100%|██████████| 1/1 [00:02<00:00,  2.35s/it]\n"
     ]
    }
   ],
   "source": [
    "# datasets = [\"arrau\", \"litbank\", \"ontonotes\", \"preco\", \"preco_fork\", \"qbcoref\", \"sara\", \"semeval\"]\n",
    "datasets = [\"semeval\"]\n",
    "for dataset in tqdm(datasets):\n",
    "    get_mention_clusters(dataset)"
   ],
   "metadata": {
    "collapsed": false,
    "pycharm": {
     "name": "#%%\n"
    }
   }
  },
  {
   "cell_type": "code",
   "execution_count": null,
   "outputs": [],
   "source": [],
   "metadata": {
    "collapsed": false,
    "pycharm": {
     "name": "#%%\n"
    }
   }
  },
  {
   "cell_type": "code",
   "execution_count": null,
   "outputs": [],
   "source": [],
   "metadata": {
    "collapsed": false,
    "pycharm": {
     "name": "#%%\n"
    }
   }
  },
  {
   "cell_type": "code",
   "execution_count": null,
   "outputs": [],
   "source": [],
   "metadata": {
    "collapsed": false,
    "pycharm": {
     "name": "#%%\n"
    }
   }
  },
  {
   "cell_type": "code",
   "execution_count": null,
   "outputs": [],
   "source": [],
   "metadata": {
    "collapsed": false,
    "pycharm": {
     "name": "#%%\n"
    }
   }
  },
  {
   "cell_type": "code",
   "execution_count": null,
   "outputs": [],
   "source": [],
   "metadata": {
    "collapsed": false,
    "pycharm": {
     "name": "#%%\n"
    }
   }
  },
  {
   "cell_type": "code",
   "execution_count": null,
   "outputs": [],
   "source": [],
   "metadata": {
    "collapsed": false,
    "pycharm": {
     "name": "#%%\n"
    }
   }
  },
  {
   "cell_type": "code",
   "execution_count": null,
   "outputs": [],
   "source": [],
   "metadata": {
    "collapsed": false,
    "pycharm": {
     "name": "#%%\n"
    }
   }
  },
  {
   "cell_type": "code",
   "execution_count": null,
   "outputs": [],
   "source": [],
   "metadata": {
    "collapsed": false,
    "pycharm": {
     "name": "#%%\n"
    }
   }
  },
  {
   "cell_type": "code",
   "execution_count": null,
   "outputs": [],
   "source": [],
   "metadata": {
    "collapsed": false,
    "pycharm": {
     "name": "#%%\n"
    }
   }
  },
  {
   "cell_type": "code",
   "execution_count": null,
   "outputs": [],
   "source": [],
   "metadata": {
    "collapsed": false,
    "pycharm": {
     "name": "#%%\n"
    }
   }
  },
  {
   "cell_type": "code",
   "execution_count": null,
   "outputs": [],
   "source": [],
   "metadata": {
    "collapsed": false,
    "pycharm": {
     "name": "#%%\n"
    }
   }
  }
 ],
 "metadata": {
  "kernelspec": {
   "display_name": "Python 3",
   "language": "python",
   "name": "python3"
  },
  "language_info": {
   "codemirror_mode": {
    "name": "ipython",
    "version": 2
   },
   "file_extension": ".py",
   "mimetype": "text/x-python",
   "name": "python",
   "nbconvert_exporter": "python",
   "pygments_lexer": "ipython2",
   "version": "2.7.6"
  }
 },
 "nbformat": 4,
 "nbformat_minor": 0
}