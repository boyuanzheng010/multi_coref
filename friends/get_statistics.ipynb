{
 "cells": [
  {
   "cell_type": "code",
   "execution_count": 15,
   "metadata": {
    "collapsed": true
   },
   "outputs": [],
   "source": [
    "import pickle as pkl\n",
    "from nltk import sent_tokenize"
   ]
  },
  {
   "cell_type": "code",
   "execution_count": 2,
   "outputs": [],
   "source": [
    "epi_keys = {(4, 21), (1, 6), (1, 3), (1, 9), (1, 12), (1, 18), (1, 15), (1, 21), (1, 24), (1, 2), (2, 7), (1, 5), (1, 11), (1, 8), (1, 14), (1, 20), (1, 17), (1, 23), (4, 19), (1, 1), (9, 12), (1, 4), (9, 15), (1, 7), (1, 13), (9, 24), (1, 10), (1, 16), (1, 19), (1, 22)}"
   ],
   "metadata": {
    "collapsed": false,
    "pycharm": {
     "name": "#%%\n"
    }
   }
  },
  {
   "cell_type": "code",
   "execution_count": 3,
   "outputs": [],
   "source": [
    "with open('data/friends_transformed.pkl', 'rb') as f:\n",
    "    transcript = pkl.load(f)"
   ],
   "metadata": {
    "collapsed": false,
    "pycharm": {
     "name": "#%%\n"
    }
   }
  },
  {
   "cell_type": "code",
   "execution_count": 12,
   "outputs": [],
   "source": [
    "all_utterances = []\n",
    "all_labels = []\n",
    "all_speakers = []"
   ],
   "metadata": {
    "collapsed": false,
    "pycharm": {
     "name": "#%%\n"
    }
   }
  },
  {
   "cell_type": "code",
   "execution_count": 13,
   "outputs": [
    {
     "name": "stdout",
     "output_type": "stream",
     "text": [
      "s01_e01 1 1\n",
      "s01_e02 1 2\n",
      "s01_e03 1 3\n",
      "s01_e04 1 4\n",
      "s01_e05 1 5\n",
      "s01_e06 1 6\n",
      "s01_e07 1 7\n",
      "s01_e08 1 8\n",
      "s01_e09 1 9\n",
      "s01_e10 1 10\n",
      "s01_e11 1 11\n",
      "s01_e12 1 12\n",
      "s01_e13 1 13\n",
      "s01_e14 1 14\n",
      "s01_e15 1 15\n",
      "s01_e16 1 16\n",
      "s01_e17 1 17\n",
      "s01_e18 1 18\n",
      "s01_e19 1 19\n",
      "s01_e20 1 20\n",
      "s01_e21 1 21\n",
      "s01_e22 1 22\n",
      "s01_e23 1 23\n",
      "s01_e24 1 24\n",
      "s04_e19 4 19\n",
      "s04_e21 4 21\n",
      "s09_e12 9 12\n",
      "s09_e15 9 15\n",
      "s09_e24 9 24\n",
      "s02_e07 2 7\n"
     ]
    }
   ],
   "source": [
    "for x in transcript:\n",
    "    season_id = int(x[1:3])\n",
    "    episode_id = int(x[-2:])\n",
    "    if (season_id, episode_id) not in epi_keys:\n",
    "        continue\n",
    "    print(x, season_id, episode_id)\n",
    "    for item in transcript[x]:\n",
    "        all_utterances.append(item[0])\n",
    "        all_labels.append(item[1])\n",
    "        all_speakers.append(item[2])"
   ],
   "metadata": {
    "collapsed": false,
    "pycharm": {
     "name": "#%%\n"
    }
   }
  },
  {
   "cell_type": "code",
   "execution_count": 14,
   "outputs": [
    {
     "name": "stdout",
     "output_type": "stream",
     "text": [
      "8331 8331 8331\n"
     ]
    }
   ],
   "source": [
    "print(len(all_speakers), len(all_labels), len(all_utterances))"
   ],
   "metadata": {
    "collapsed": false,
    "pycharm": {
     "name": "#%%\n"
    }
   }
  },
  {
   "cell_type": "code",
   "execution_count": 17,
   "outputs": [
    {
     "name": "stdout",
     "output_type": "stream",
     "text": [
      "12453\n"
     ]
    }
   ],
   "source": [
    "# Count Sentences\n",
    "sent_count = 0\n",
    "for utt in all_utterances:\n",
    "    sent_count += len(sent_tokenize(utt))\n",
    "print(sent_count)"
   ],
   "metadata": {
    "collapsed": false,
    "pycharm": {
     "name": "#%%\n"
    }
   }
  },
  {
   "cell_type": "code",
   "execution_count": 25,
   "outputs": [
    {
     "name": "stdout",
     "output_type": "stream",
     "text": [
      "{'David', 'Kristin', 'Chloe', 'Roger', 'Bob', 'Lowell', 'Soothing Male Voice', 'Andrea', 'Gerston', 'Guys', 'Mr. Douglas', 'Celia', 'Judy Geller', 'Helen', 'Dr. Rosen', \"Carl (Rachel's date)\", 'Barry Farber', 'Aunt Iris', 'Waitress', 'The Whole Party', 'Casting Director No. 2', 'Heather', 'Frank Buffay Jr.', 'Producer #1', 'Danielle', 'Lorraine', 'Fake Monica', 'Paula', 'Nurse Sizemore', 'Michael', 'Ethan', 'Steve (drug addict)', 'Lizzy', 'Receptionist', 'Professore Clerk', 'Woman No. 2', 'Santos', 'Both', 'Jamie', 'Luisa Gianetti', 'Fireman No. 3', 'Nina Bookbinder', 'Max', 'Director', 'Coma Guy', 'Emily Waltham', 'Alan', 'Phoebe Buffay', 'Chandler Bing', 'Paul the Wine Guy', 'Monica Geller', 'Terry', 'Julie', 'Actor', 'Robbie', 'Girl', \"Phoebe's Friends\", 'The Guys', 'Carol Willick', 'Teacher', 'Janitor', 'Boss', 'Susan Bunch', 'Molly', 'Rachel Green', \"Phoebe's Assistant\", 'Customer', 'Pizza Guy', 'Shelley', 'Man', 'Janice Litman Goralnik', 'Petrie', 'Kiki', 'Angela Delveccio', 'Joey Tribbiani Sr.', 'Fireman No. 1', 'Paolo', 'Alexandra Steele', 'Nora Tyler Bing', 'Intercom', 'Kid', 'Intern', 'Dr. Oberman', 'Mrs. Tedlock', 'Ursula', 'Flight Attendant', 'Lennart', 'Paleontologist', 'Dr. Baldhara', '#ALL#', 'Announcement', 'Leslie', 'Marsha', 'Dick Clark', 'The Singing Man', 'Lowell (mugger)', 'Dr. Mitchell', 'Charlie Wheeler', 'Woman No. 1', 'Priest On Tv', 'Jill Goodacre', 'Mr. Heckles', 'Mike Hannigan', 'Jarvis Oberblau', 'Joey Tribbiani', 'Fireman No. 2', 'Aurora', 'Jay Leno', 'Bobby Rush', 'Mindy Hunter', 'Jack Geller', 'Bernice', 'Melanie', 'Lydia', 'Gavin Mitchell', 'Waiter', 'Guy', 'Franny', 'Man With A Bow Tie', 'Casting Director No. 1', 'Chip Matthews', 'Sandy', 'Ross Geller', 'Dr. Franzblau', 'Joanne', 'Aunt Lillian', 'Gloria Tribbiani', 'Woman', 'Gunther', 'Ronni Rapalono'}\n",
      "130\n"
     ]
    }
   ],
   "source": [
    "# Count spakers\n",
    "speaker_set = set()\n",
    "for item in all_speakers:\n",
    "    if len(item)==0:\n",
    "        continue\n",
    "    speaker = item[0]\n",
    "    speaker_set.add(speaker)\n",
    "print(speaker_set)\n",
    "print(len(speaker_set))"
   ],
   "metadata": {
    "collapsed": false,
    "pycharm": {
     "name": "#%%\n"
    }
   }
  },
  {
   "cell_type": "code",
   "execution_count": null,
   "outputs": [],
   "source": [],
   "metadata": {
    "collapsed": false,
    "pycharm": {
     "name": "#%%\n"
    }
   }
  },
  {
   "cell_type": "code",
   "execution_count": 35,
   "outputs": [
    {
     "name": "stdout",
     "output_type": "stream",
     "text": [
      "{'s04_e19_c04', 's01_e07_c03', 's01_e02_c03', 's01_e02_c07', 's01_e12_c13', 's01_e09_c07', 's01_e20_c06', 's01_e01_c05', 's01_e24_c09', 's04_e21_c02', 's01_e15_c08', 's01_e22_c09', 's04_e21_c05', 's01_e02_c09', 's01_e06_c01', 's01_e02_c05', 's01_e07_c21', 's01_e14_c07', 's01_e14_c13', 's01_e16_c08', 's01_e13_c01', 's01_e05_c07', 's09_e24_c03', 's01_e20_c09', 's04_e21_c12', 's01_e03_c02', 's04_e21_c25', 's01_e19_c09', 's01_e01_c09', 's04_e21_c29', 's01_e08_c13', 's01_e07_c07', 's01_e09_c06', 's01_e12_c07', 's09_e24_c07', 's01_e01_c08', 's02_e07_c02', 's04_e19_c03', 's04_e21_c16', 's01_e03_c07', 's01_e20_c04', 's01_e07_c04', 's01_e15_c14', 's01_e19_c06', 's01_e23_c13', 's01_e16_c06', 's09_e12_c08', 's09_e12_c09', 's01_e06_c05', 's01_e13_c09', 's01_e23_c07', 's01_e01_c15', 's01_e07_c13', 's01_e04_c01', 's01_e20_c01', 's01_e14_c12', 's01_e18_c08', 's01_e08_c09', 's01_e12_c08', 's01_e21_c07', 's01_e19_c05', 's01_e05_c15', 's01_e21_c10', 's01_e23_c05', 's01_e18_c06', 's01_e01_c10', 's01_e21_c01', 's09_e24_c12', 's01_e05_c03', 's01_e03_c04', 's01_e14_c09', 's01_e16_c09', 's04_e21_c20', 's09_e15_c08', 's01_e21_c02', 's01_e21_c09', 's01_e11_c09', 's01_e12_c15', 's01_e21_c12', 's01_e23_c15', 's01_e17_c11', 's02_e07_c11', 's01_e15_c06', 's01_e12_c10', 's01_e07_c10', 's01_e17_c03', 's09_e12_c06', 's01_e18_c04', 's09_e24_c06', 's09_e15_c07', 's01_e07_c19', 's01_e17_c10', 's01_e21_c13', 's01_e13_c06', 's01_e24_c01', 's01_e13_c08', 's01_e15_c12', 's01_e22_c10', 's01_e22_c07', 's01_e12_c14', 's01_e16_c13', 's01_e06_c03', 's01_e23_c08', 's01_e23_c10', 's01_e08_c01', 's01_e21_c05', 's01_e13_c10', 's01_e16_c02', 's01_e03_c12', 's01_e14_c10', 's01_e14_c05', 's01_e05_c14', 's01_e01_c14', 's01_e16_c15', 's09_e12_c04', 's01_e08_c03', 's01_e24_c02', 's01_e09_c13', 's01_e04_c05', 's01_e05_c05', 's01_e13_c04', 's04_e21_c21', 's01_e14_c06', 's01_e14_c08', 's01_e18_c01', 's01_e05_c02', 's01_e09_c01', 's01_e17_c05', 's09_e12_c12', 's09_e12_c10', 's09_e24_c04', 's01_e07_c05', 's01_e09_c03', 's01_e24_c07', 's01_e06_c07', 's01_e10_c06', 's04_e21_c17', 's01_e18_c05', 's01_e03_c06', 's01_e14_c17', 's02_e07_c10', 's01_e23_c11', 's01_e02_c04', 's09_e15_c13', 's01_e16_c01', 's01_e05_c12', 's04_e19_c08', 's01_e04_c07', 's01_e14_c02', 's01_e20_c08', 's01_e11_c03', 's01_e02_c01', 's01_e04_c04', 's01_e03_c11', 's01_e22_c13', 's04_e21_c10', 's01_e10_c07', 's01_e18_c02', 's09_e24_c09', 's01_e23_c02', 's04_e19_c07', 's01_e23_c14', 's01_e04_c12', 's01_e15_c03', 's01_e12_c11', 's01_e13_c02', 's01_e14_c14', 's09_e15_c14', 's04_e21_c11', 's09_e15_c04', 's01_e16_c14', 's01_e10_c03', 's01_e21_c14', 's01_e16_c04', 's01_e14_c16', 's01_e17_c14', 's01_e09_c04', 's09_e12_c05', 's01_e07_c06', 's01_e23_c16', 's01_e14_c03', 's01_e04_c14', 's01_e23_c03', 's01_e07_c18', 's01_e19_c04', 's01_e05_c13', 's01_e02_c11', 's01_e13_c13', 's01_e24_c05', 's04_e21_c26', 's01_e20_c05', 's01_e07_c02', 's01_e23_c06', 's01_e10_c04', 's01_e07_c15', 's02_e07_c06', 's01_e03_c09', 's01_e09_c10', 's01_e09_c09', 's02_e07_c03', 's04_e21_c15', 's01_e24_c03', 's01_e21_c06', 's01_e11_c11', 's01_e17_c02', 's09_e15_c12', 's01_e11_c01', 's01_e15_c11', 's01_e21_c08', 's01_e03_c05', 's01_e11_c06', 's09_e24_c10', 's01_e11_c04', 's01_e07_c12', 's01_e24_c06', 's04_e21_c07', 's04_e21_c14', 's01_e10_c01', 's01_e01_c11', 's09_e12_c01', 's01_e24_c04', 's01_e05_c08', 's01_e15_c09', 's01_e17_c09', 's01_e17_c04', 's04_e21_c04', 's09_e24_c01', 's01_e05_c06', 's01_e08_c08', 's01_e21_c11', 's01_e02_c02', 's01_e21_c04', 's01_e18_c07', 's01_e02_c10', 's01_e05_c11', 's01_e07_c09', 's01_e24_c11', 's01_e17_c12', 's01_e06_c08', 's01_e08_c02', 's04_e21_c08', 's01_e16_c07', 's01_e01_c04', 's01_e01_c07', 's09_e15_c05', 's09_e12_c07', 's01_e13_c12', 's01_e21_c15', 's09_e15_c09', 's01_e22_c08', 's01_e04_c16', 's01_e19_c01', 's01_e23_c12', 's01_e17_c06', 's01_e05_c04', 's01_e06_c02', 's04_e21_c06', 's01_e12_c12', 's09_e12_c11', 's01_e17_c08', 's01_e17_c07', 's01_e11_c07', 's01_e22_c04', 's01_e15_c10', 's01_e16_c12', 's09_e12_c02', 's01_e12_c06', 's01_e01_c12', 's01_e22_c05', 's01_e23_c19', 's01_e20_c07', 's09_e15_c03', 's01_e11_c05', 's01_e09_c12', 's04_e21_c23', 's01_e07_c16', 's01_e07_c17', 's09_e12_c03', 's01_e13_c05', 's01_e07_c11', 's01_e16_c11', 's09_e15_c10', 's01_e01_c13', 's01_e06_c04', 's01_e12_c04', 's01_e08_c05', 's09_e15_c06', 's01_e01_c03', 's01_e23_c20', 's01_e15_c04', 's01_e20_c11', 's02_e07_c04', 's01_e07_c20', 's01_e10_c05', 's01_e10_c08', 's01_e02_c06', 's01_e14_c01', 's04_e21_c13', 's01_e12_c05', 's01_e07_c08', 's01_e06_c09', 's01_e05_c16', 's01_e03_c10', 's01_e15_c13', 's01_e04_c13', 's01_e01_c01', 's01_e15_c05', 's01_e08_c06', 's01_e04_c15', 's01_e20_c12', 's01_e04_c02', 's01_e12_c02', 's01_e23_c09', 's01_e22_c06', 's01_e01_c02', 's02_e07_c12', 's01_e03_c08', 's01_e16_c03', 's04_e21_c01', 's01_e17_c13', 's01_e15_c07', 's01_e19_c03', 's01_e05_c10', 's01_e08_c07', 's04_e21_c19', 's02_e07_c08', 's01_e13_c11', 's01_e08_c11', 's01_e12_c03', 's01_e09_c11', 's01_e23_c18', 's01_e04_c03', 's01_e05_c01', 's01_e12_c01', 's01_e19_c07', 's01_e11_c08', 's01_e11_c02', 's01_e11_c10', 's01_e23_c21', 's01_e20_c03', 's09_e24_c02', 's04_e19_c01', 's01_e24_c08', 's01_e19_c02', 's01_e07_c14', 's01_e09_c05', 's01_e22_c02', 's01_e23_c01', 's02_e07_c01', 's04_e19_c05', 's01_e12_c09', 's01_e16_c05', 's01_e23_c04', 's01_e04_c08', 's01_e14_c15', 's01_e14_c04', 's02_e07_c09', 's04_e21_c09', 's01_e22_c01', 's01_e18_c03', 's01_e15_c01', 's01_e24_c10', 's01_e15_c02', 's04_e21_c27', 's09_e24_c11', 's01_e16_c16', 's04_e21_c03', 's09_e15_c02', 's01_e20_c02', 's01_e05_c09', 's01_e13_c03', 's01_e06_c06', 's01_e16_c10', 's09_e24_c05', 's01_e01_c06', 's01_e14_c11', 's09_e15_c01', 's04_e21_c28', 's01_e19_c08', 's01_e22_c12', 's04_e21_c22', 's01_e23_c17', 's01_e10_c02', 's04_e19_c02', 's01_e02_c08', 's09_e24_c08', 's02_e07_c05', 's01_e21_c03', 's01_e22_c03', 's09_e15_c11', 's01_e09_c08', 's04_e19_c06', 's01_e08_c10', 's01_e09_c02', 's01_e20_c10', 's01_e04_c09', 's01_e03_c14', 's04_e21_c18', 's01_e08_c04', 's01_e11_c12', 's01_e08_c12', 's01_e17_c01', 's01_e07_c01', 's01_e04_c10', 's01_e04_c11', 's01_e13_c07', 's01_e04_c06', 's01_e03_c13', 's01_e03_c01', 's01_e03_c03', 's01_e22_c11', 's02_e07_c07', 's04_e21_c24'}\n",
      "413\n"
     ]
    }
   ],
   "source": [
    "# Count Scenes\n",
    "scene_set = set()\n",
    "for item in all_labels:\n",
    "    scene_set.add(item[:-5])\n",
    "print(scene_set)\n",
    "print(len(scene_set))"
   ],
   "metadata": {
    "collapsed": false,
    "pycharm": {
     "name": "#%%\n"
    }
   }
  },
  {
   "cell_type": "code",
   "execution_count": null,
   "outputs": [],
   "source": [],
   "metadata": {
    "collapsed": false,
    "pycharm": {
     "name": "#%%\n"
    }
   }
  },
  {
   "cell_type": "code",
   "execution_count": null,
   "outputs": [],
   "source": [],
   "metadata": {
    "collapsed": false,
    "pycharm": {
     "name": "#%%\n"
    }
   }
  },
  {
   "cell_type": "code",
   "execution_count": null,
   "outputs": [],
   "source": [],
   "metadata": {
    "collapsed": false,
    "pycharm": {
     "name": "#%%\n"
    }
   }
  },
  {
   "cell_type": "code",
   "execution_count": null,
   "outputs": [],
   "source": [],
   "metadata": {
    "collapsed": false,
    "pycharm": {
     "name": "#%%\n"
    }
   }
  },
  {
   "cell_type": "code",
   "execution_count": null,
   "outputs": [],
   "source": [],
   "metadata": {
    "collapsed": false,
    "pycharm": {
     "name": "#%%\n"
    }
   }
  }
 ],
 "metadata": {
  "kernelspec": {
   "display_name": "Python 3",
   "language": "python",
   "name": "python3"
  },
  "language_info": {
   "codemirror_mode": {
    "name": "ipython",
    "version": 2
   },
   "file_extension": ".py",
   "mimetype": "text/x-python",
   "name": "python",
   "nbconvert_exporter": "python",
   "pygments_lexer": "ipython2",
   "version": "2.7.6"
  }
 },
 "nbformat": 4,
 "nbformat_minor": 0
}