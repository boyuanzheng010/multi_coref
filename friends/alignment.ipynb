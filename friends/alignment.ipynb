{
 "cells": [
  {
   "cell_type": "markdown",
   "metadata": {
    "collapsed": true,
    "pycharm": {
     "name": "#%% md\n"
    }
   },
   "source": [
    "## Alignment between Friends Dataset and the YYeTs Subtitle data"
   ]
  },
  {
   "cell_type": "code",
   "execution_count": null,
   "outputs": [],
   "source": [],
   "metadata": {
    "collapsed": false,
    "pycharm": {
     "name": "#%%\n"
    }
   }
  },
  {
   "cell_type": "code",
   "execution_count": null,
   "outputs": [],
   "source": [],
   "metadata": {
    "collapsed": false,
    "pycharm": {
     "name": "#%%\n"
    }
   }
  },
  {
   "cell_type": "code",
   "execution_count": null,
   "outputs": [],
   "source": [],
   "metadata": {
    "collapsed": false,
    "pycharm": {
     "name": "#%%\n"
    }
   }
  },
  {
   "cell_type": "code",
   "execution_count": 3,
   "outputs": [],
   "source": [
    "import json\n",
    "import ass\n",
    "from collections import defaultdict"
   ],
   "metadata": {
    "collapsed": false,
    "pycharm": {
     "name": "#%%\n"
    }
   }
  },
  {
   "cell_type": "markdown",
   "source": [
    "### Load Caption Data"
   ],
   "metadata": {
    "collapsed": false,
    "pycharm": {
     "name": "#%% md\n"
    }
   }
  },
  {
   "cell_type": "code",
   "execution_count": 11,
   "outputs": [],
   "source": [],
   "metadata": {
    "collapsed": false,
    "pycharm": {
     "name": "#%%\n"
    }
   }
  },
  {
   "cell_type": "code",
   "execution_count": 69,
   "outputs": [],
   "source": [
    "# Load the caption\n",
    "with open('captions/Friends.S01E22.chs&eng.ass', 'r', encoding='utf-8-sig') as f:\n",
    "    doc = ass.parse(f)\n",
    "\n",
    "# Parse caption dataset into parallel dataset\n",
    "caption_dict = defaultdict()\n",
    "\n",
    "# Iterate the whole caption document\n",
    "for x in doc.events:\n",
    "    utterance = x.text.strip().split('{')\n",
    "    if len(utterance) < 3:\n",
    "        continue\n",
    "    utt_zh = utterance[1].strip().split('}')[-1]\n",
    "    utt_en = utterance[-2].strip().split('}')[-1]\n",
    "    caption_dict[utt_en] = utt_zh"
   ],
   "metadata": {
    "collapsed": false,
    "pycharm": {
     "name": "#%%\n"
    }
   }
  },
  {
   "cell_type": "code",
   "execution_count": 73,
   "outputs": [
    {
     "name": "stdout",
     "output_type": "stream",
     "text": [
      "363\n"
     ]
    }
   ],
   "source": [
    "# for item in caption_dict:\n",
    "#     print(item, caption_dict[item])\n",
    "print(len(caption_dict))"
   ],
   "metadata": {
    "collapsed": false,
    "pycharm": {
     "name": "#%%\n"
    }
   }
  },
  {
   "cell_type": "markdown",
   "source": [
    "## Load Friends dataset using Character Identification task"
   ],
   "metadata": {
    "collapsed": false,
    "pycharm": {
     "name": "#%% md\n"
    }
   }
  },
  {
   "cell_type": "code",
   "execution_count": 74,
   "outputs": [],
   "source": [
    "with open('character_identification/json/character-identification-tst.json') as f:\n",
    "    data = json.load(f)\n",
    "    scenes = data['episodes'][0]['scenes']"
   ],
   "metadata": {
    "collapsed": false,
    "pycharm": {
     "name": "#%%\n"
    }
   }
  },
  {
   "cell_type": "code",
   "execution_count": 75,
   "outputs": [],
   "source": [
    "scene_1 = scenes[0]"
   ],
   "metadata": {
    "collapsed": false,
    "pycharm": {
     "name": "#%%\n"
    }
   }
  },
  {
   "cell_type": "code",
   "execution_count": 76,
   "outputs": [],
   "source": [
    "utterances = scene_1['utterances']"
   ],
   "metadata": {
    "collapsed": false,
    "pycharm": {
     "name": "#%%\n"
    }
   }
  },
  {
   "cell_type": "code",
   "execution_count": 78,
   "outputs": [
    {
     "name": "stdout",
     "output_type": "stream",
     "text": [
      "{'utterance_id': 's01_e22_c01_u001', 'speakers': ['Monica Geller'], 'transcript': 'Tell him.', 'tokens': [['Tell', 'him', '.']], 'character_entities': [[[1, 2, 'Chandler Bing']]]}\n"
     ]
    }
   ],
   "source": [
    "print(utterances[0])"
   ],
   "metadata": {
    "collapsed": false,
    "pycharm": {
     "name": "#%%\n"
    }
   }
  },
  {
   "cell_type": "code",
   "execution_count": 79,
   "outputs": [
    {
     "name": "stdout",
     "output_type": "stream",
     "text": [
      "Tell him.\n",
      "[['Tell', 'him', '.']]\n",
      "====================================================================================================\n",
      "No.\n",
      "[['No', '.']]\n",
      "====================================================================================================\n",
      "Tell him, tell him.\n",
      "[['Tell', 'him', ',', 'tell', 'him', '.']]\n",
      "====================================================================================================\n",
      "Just...please tell him.\n",
      "[['Just', '...'], ['please', 'tell', 'him', '.']]\n",
      "====================================================================================================\n",
      "Shut up!\n",
      "[['Shut', 'up', '!']]\n",
      "====================================================================================================\n",
      "Tell me what?\n",
      "[['Tell', 'me', 'what', '?']]\n",
      "====================================================================================================\n",
      "Look at you, you won't even look at him.\n",
      "[['Look', 'at', 'you', ',', 'you', 'wo', \"n't\", 'even', 'look', 'at', 'him', '.']]\n",
      "====================================================================================================\n",
      "Oh, come on tell me. I could use another reason why women won't look at me.\n",
      "[['Oh', ',', 'come', 'on', 'tell', 'me', '.'], ['I', 'could', 'use', 'another', 'reason', 'why', 'women', 'wo', \"n't\", 'look', 'at', 'me', '.']]\n",
      "====================================================================================================\n",
      "All right, all right, all right. Last night, I had a dream that, uh, you and I, were...\n",
      "[['All', 'right', ',', 'all', 'right', ',', 'all', 'right', '.'], ['Last', 'night', ',', 'I', 'had', 'a', 'dream', 'that', ',', 'uh', ',', 'you', 'and', 'I', ',', 'were', '...']]\n",
      "====================================================================================================\n",
      "Doing it on this table.\n",
      "[['Doing', 'it', 'on', 'this', 'table', '.']]\n",
      "====================================================================================================\n",
      "Wow!\n",
      "[['Wow', '!']]\n",
      "====================================================================================================\n",
      "Exellent dream score.\n",
      "[['Exellent', 'dream', 'score', '.']]\n",
      "====================================================================================================\n",
      "Why, why, why would you dream that?\n",
      "[['Why', ',', 'why', ',', 'why', 'would', 'you', 'dream', 'that', '?']]\n",
      "====================================================================================================\n",
      "More importantly, was I any good?\n",
      "[['More', 'importantly', ',', 'was', 'I', 'any', 'good', '?']]\n",
      "====================================================================================================\n",
      "Well, you were pretty damn good.\n",
      "[['Well', ',', 'you', 'were', 'pretty', 'damn', 'good', '.']]\n",
      "====================================================================================================\n",
      "Interesting, cause in my dreams, I'm allways surprisingly inadequate.\n",
      "[['Interesting', ',', 'cause', 'in', 'my', 'dreams', ',', 'I', \"'m\", 'allways', 'surprisingly', 'inadequate', '.']]\n",
      "====================================================================================================\n",
      "Well, last night you seemed to know your way around the table.\n",
      "[['Well', ',', 'last', 'night', 'you', 'seemed', 'to', 'know', 'your', 'way', 'around', 'the', 'table', '.']]\n",
      "====================================================================================================\n",
      "I love it, when we share.\n",
      "[['I', 'love', 'it', ',', 'when', 'we', 'share', '.']]\n",
      "====================================================================================================\n",
      "You're okay there?\n",
      "[['You', \"'re\", 'okay', 'there', '?']]\n",
      "====================================================================================================\n",
      "I can't belive you two had sex in her dream.\n",
      "[['I', 'ca', \"n't\", 'belive', 'you', 'two', 'had', 'sex', 'in', 'her', 'dream', '.']]\n",
      "====================================================================================================\n",
      "I'm sorry, it was a one-time-thing. I was very drunk and i was somebody else's subconscious.\n",
      "[['I', \"'m\", 'sorry', ',', 'it', 'was', 'a', 'one', '-', 'time', '-', 'thing', '.'], ['I', 'was', 'very', 'drunk', 'and', 'i', 'was', 'somebody', 'else', \"'s\", 'subconscious', '.']]\n",
      "====================================================================================================\n"
     ]
    }
   ],
   "source": [
    "for x in utterances:\n",
    "    utt = x['transcript']\n",
    "    tokens = x['tokens']\n",
    "    print(utt)\n",
    "    print(tokens)\n",
    "    print('=='*50)"
   ],
   "metadata": {
    "collapsed": false,
    "pycharm": {
     "name": "#%%\n"
    }
   }
  },
  {
   "cell_type": "markdown",
   "source": [
    "## Sentence Alignment Algorithms are required here to align transcript with caption"
   ],
   "metadata": {
    "collapsed": false,
    "pycharm": {
     "name": "#%% md\n"
    }
   }
  },
  {
   "cell_type": "code",
   "execution_count": null,
   "outputs": [],
   "source": [],
   "metadata": {
    "collapsed": false,
    "pycharm": {
     "name": "#%%\n"
    }
   }
  },
  {
   "cell_type": "code",
   "execution_count": null,
   "outputs": [],
   "source": [],
   "metadata": {
    "collapsed": false,
    "pycharm": {
     "name": "#%%\n"
    }
   }
  },
  {
   "cell_type": "code",
   "execution_count": null,
   "outputs": [],
   "source": [],
   "metadata": {
    "collapsed": false,
    "pycharm": {
     "name": "#%%\n"
    }
   }
  },
  {
   "cell_type": "code",
   "execution_count": null,
   "outputs": [],
   "source": [],
   "metadata": {
    "collapsed": false,
    "pycharm": {
     "name": "#%%\n"
    }
   }
  },
  {
   "cell_type": "code",
   "execution_count": null,
   "outputs": [],
   "source": [],
   "metadata": {
    "collapsed": false,
    "pycharm": {
     "name": "#%%\n"
    }
   }
  },
  {
   "cell_type": "code",
   "execution_count": null,
   "outputs": [],
   "source": [],
   "metadata": {
    "collapsed": false,
    "pycharm": {
     "name": "#%%\n"
    }
   }
  },
  {
   "cell_type": "code",
   "execution_count": null,
   "outputs": [],
   "source": [],
   "metadata": {
    "collapsed": false,
    "pycharm": {
     "name": "#%%\n"
    }
   }
  },
  {
   "cell_type": "code",
   "execution_count": null,
   "outputs": [],
   "source": [],
   "metadata": {
    "collapsed": false,
    "pycharm": {
     "name": "#%%\n"
    }
   }
  },
  {
   "cell_type": "code",
   "execution_count": null,
   "outputs": [],
   "source": [],
   "metadata": {
    "collapsed": false,
    "pycharm": {
     "name": "#%%\n"
    }
   }
  },
  {
   "cell_type": "code",
   "execution_count": null,
   "outputs": [],
   "source": [],
   "metadata": {
    "collapsed": false,
    "pycharm": {
     "name": "#%%\n"
    }
   }
  },
  {
   "cell_type": "code",
   "execution_count": null,
   "outputs": [],
   "source": [],
   "metadata": {
    "collapsed": false,
    "pycharm": {
     "name": "#%%\n"
    }
   }
  },
  {
   "cell_type": "code",
   "execution_count": null,
   "outputs": [],
   "source": [],
   "metadata": {
    "collapsed": false,
    "pycharm": {
     "name": "#%%\n"
    }
   }
  },
  {
   "cell_type": "code",
   "execution_count": null,
   "outputs": [],
   "source": [],
   "metadata": {
    "collapsed": false,
    "pycharm": {
     "name": "#%%\n"
    }
   }
  },
  {
   "cell_type": "code",
   "execution_count": null,
   "outputs": [],
   "source": [],
   "metadata": {
    "collapsed": false,
    "pycharm": {
     "name": "#%%\n"
    }
   }
  },
  {
   "cell_type": "code",
   "execution_count": null,
   "outputs": [],
   "source": [],
   "metadata": {
    "collapsed": false,
    "pycharm": {
     "name": "#%%\n"
    }
   }
  }
 ],
 "metadata": {
  "kernelspec": {
   "display_name": "Python 3",
   "language": "python",
   "name": "python3"
  },
  "language_info": {
   "codemirror_mode": {
    "name": "ipython",
    "version": 2
   },
   "file_extension": ".py",
   "mimetype": "text/x-python",
   "name": "python",
   "nbconvert_exporter": "python",
   "pygments_lexer": "ipython2",
   "version": "2.7.6"
  }
 },
 "nbformat": 4,
 "nbformat_minor": 0
}