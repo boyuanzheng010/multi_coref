{
 "cells": [
  {
   "cell_type": "code",
   "execution_count": 1,
   "metadata": {
    "collapsed": true,
    "pycharm": {
     "name": "#%%\n"
    }
   },
   "outputs": [],
   "source": [
    "import csv\n",
    "csv.field_size_limit(1131072)\n",
    "import json\n",
    "import ast"
   ]
  },
  {
   "cell_type": "code",
   "execution_count": 2,
   "outputs": [],
   "source": [
    "data = []\n",
    "with open('to_tasa_all_zh_temp.csv', 'r', encoding='utf-8') as f:\n",
    "    reader = csv.DictReader(f)\n",
    "    for item in reader:\n",
    "        data.append(item)\n",
    "print(len(data))"
   ],
   "metadata": {
    "collapsed": false,
    "pycharm": {
     "name": "#%%\n"
    }
   }
  },
  {
   "cell_type": "markdown",
   "source": [
    "## Single Mention Version"
   ],
   "metadata": {
    "collapsed": false,
    "pycharm": {
     "name": "#%% md\n"
    }
   }
  },
  {
   "cell_type": "code",
   "execution_count": 4,
   "outputs": [],
   "source": [
    "# Single Mention Version\n",
    "\n",
    "output = []\n",
    "for i, instance in enumerate(data):\n",
    "    count = 0\n",
    "    # if i>=5:\n",
    "    #     continue\n",
    "\n",
    "    # Modify Target Side Tokens\n",
    "    src_tokens = ast.literal_eval(instance['src_tokens'])\n",
    "    tar_tokens = ast.literal_eval(instance['tar_tokens'])\n",
    "    new_tar_tokens = []\n",
    "    for k, token in enumerate(tar_tokens):\n",
    "        new_tar_tokens.append(token)\n",
    "        new_tar_tokens.append('')\n",
    "\n",
    "    # Modify Alignments\n",
    "    alignments = json.loads(instance['config_obj'])['alignment']\n",
    "    temp = []\n",
    "    for a in range(len(alignments)):\n",
    "        for b in range(len(alignments[0])):\n",
    "            if alignments[a][b]:\n",
    "                temp.append([a, b])\n",
    "    new_alignments = []\n",
    "    for id_0 in range(len(src_tokens)):\n",
    "        new_alignments.append(\n",
    "            [False] * len(new_tar_tokens)\n",
    "        )\n",
    "    for k, (idx_src, idx_tar) in enumerate(temp):\n",
    "        new_alignments[idx_src][2*(idx_tar)] = True\n",
    "        if k!=len(temp)-1:\n",
    "            new_alignments[idx_src][2*(idx_tar)+1] = True\n",
    "    src_idns = json.loads(instance['config_obj'])['src_head_inds'][0]\n",
    "\n",
    "    to_write = {\n",
    "        'src_tokens': instance['src_tokens'],\n",
    "        'tar_tokens': json.dumps(new_tar_tokens),\n",
    "        'config_obj': \"{\\\"src_enable_retokenize\\\": false, \\\"version\\\": {\\\"PATCH\\\": 0, \\\"MAJOR\\\": 1, \\\"MINOR\\\": 0}, \\\"tar_enable_retokenize\\\": false,\\\"src_head_inds\\\":[\"+ str(src_idns) +\"],\\\"alignment\\\":\"+str(new_alignments).replace(\"'\",\"\").lower()+\"}\"\n",
    "    }\n",
    "    count += 1\n",
    "    output.append(to_write)\n",
    "\n",
    "csv_w = open(\"to_tasa_zh_drop_test_set.csv\", \"w\", encoding=\"utf-8\")\n",
    "fieldnames = ['src_tokens', 'tar_tokens', 'config_obj']\n",
    "writer = csv.DictWriter(csv_w, fieldnames, lineterminator='\\n', quoting=csv.QUOTE_ALL)\n",
    "writer.writeheader()\n",
    "for line in output:\n",
    "    writer.writerow(line)\n",
    "\n",
    "csv_w.close()"
   ],
   "metadata": {
    "collapsed": false,
    "pycharm": {
     "name": "#%%\n"
    }
   }
  },
  {
   "cell_type": "markdown",
   "source": [
    "## Empty Projection Version"
   ],
   "metadata": {
    "collapsed": false,
    "pycharm": {
     "name": "#%% md\n"
    }
   }
  },
  {
   "cell_type": "code",
   "execution_count": 17,
   "outputs": [],
   "source": [
    "# Empty Single Mention Version\n",
    "\n",
    "output = []\n",
    "for i, instance in enumerate(data):\n",
    "    count = 0\n",
    "    # if i>=5:\n",
    "    #     continue\n",
    "\n",
    "    # Modify Target Side Tokens\n",
    "    src_tokens = ast.literal_eval(instance['src_tokens'])\n",
    "    tar_tokens = ast.literal_eval(instance['tar_tokens'])\n",
    "    new_tar_tokens = []\n",
    "    for k, token in enumerate(tar_tokens):\n",
    "        new_tar_tokens.append(token)\n",
    "        new_tar_tokens.append('')\n",
    "\n",
    "    # Modify Alignments\n",
    "    alignments = json.loads(instance['config_obj'])['alignment']\n",
    "    temp = []\n",
    "    for a in range(len(alignments)):\n",
    "        for b in range(len(alignments[0])):\n",
    "            if alignments[a][b]:\n",
    "                temp.append([a, b])\n",
    "\n",
    "    # Only pick empty projection mentions\n",
    "    if temp:\n",
    "        continue\n",
    "\n",
    "    new_alignments = []\n",
    "    for id_0 in range(len(src_tokens)):\n",
    "        new_alignments.append(\n",
    "            [False] * len(new_tar_tokens)\n",
    "        )\n",
    "    for k, (idx_src, idx_tar) in enumerate(temp):\n",
    "        # print(idx_tar, k, len(temp))\n",
    "        new_alignments[idx_src][2*(idx_tar)] = True\n",
    "        if k!=len(temp)-1:\n",
    "            new_alignments[idx_src][2*(idx_tar)+1] = True\n",
    "    src_idns = json.loads(instance['config_obj'])['src_head_inds'][0]\n",
    "\n",
    "    to_write = {\n",
    "        'src_tokens': instance['src_tokens'],\n",
    "        'tar_tokens': json.dumps(new_tar_tokens),\n",
    "        'config_obj': \"{\\\"src_enable_retokenize\\\": false, \\\"version\\\": {\\\"PATCH\\\": 0, \\\"MAJOR\\\": 1, \\\"MINOR\\\": 0}, \\\"tar_enable_retokenize\\\": false,\\\"src_head_inds\\\":[\"+ str(src_idns) +\"],\\\"alignment\\\":\"+str(new_alignments).replace(\"'\",\"\").lower()+\"}\"\n",
    "    }\n",
    "    count += 1\n",
    "    output.append(to_write)\n",
    "\n",
    "csv_w = open(\"to_tasa_zh_drop_test_set_empty.csv\", \"w\", encoding=\"utf-8\")\n",
    "fieldnames = ['src_tokens', 'tar_tokens', 'config_obj']\n",
    "writer = csv.DictWriter(csv_w, fieldnames, lineterminator='\\n', quoting=csv.QUOTE_ALL)\n",
    "writer.writeheader()\n",
    "for line in output:\n",
    "    writer.writerow(line)\n",
    "\n",
    "csv_w.close()"
   ],
   "metadata": {
    "collapsed": false,
    "pycharm": {
     "name": "#%%\n"
    }
   }
  },
  {
   "cell_type": "markdown",
   "source": [
    "# Multiple Mention Version"
   ],
   "metadata": {
    "collapsed": false,
    "pycharm": {
     "name": "#%% md\n"
    }
   }
  },
  {
   "cell_type": "code",
   "execution_count": 5,
   "outputs": [],
   "source": [
    "# Collect Mentions in the same sentences = []\n",
    "data_collected = []\n",
    "current_tokens = []\n",
    "temp_tasks = []\n",
    "for i, instance in enumerate(data):\n",
    "    src_tokens = \" \".join(instance['src_tokens'])\n",
    "    if src_tokens == current_tokens:\n",
    "        temp_tasks.append(instance)\n",
    "    else:\n",
    "        if temp_tasks!=[]:\n",
    "            data_collected.append(temp_tasks)\n",
    "        current_tokens = src_tokens\n",
    "        temp_tasks = [instance]\n",
    "\n",
    "\n",
    "output = []\n",
    "for i, sample in enumerate(data_collected):\n",
    "    instance = sample[0]\n",
    "    # if i>=100:\n",
    "    #     continue\n",
    "    # print(instance['src_tokens'])\n",
    "\n",
    "    # Modify Target Side Tokens\n",
    "    src_tokens = ast.literal_eval(instance['src_tokens'])\n",
    "    tar_tokens = ast.literal_eval(instance['tar_tokens'])\n",
    "    new_tar_tokens = []\n",
    "    for k, token in enumerate(tar_tokens):\n",
    "        new_tar_tokens.append(token)\n",
    "        new_tar_tokens.append('')\n",
    "\n",
    "    # Modify Alignments\n",
    "    temp = []\n",
    "    src_idn_list = []\n",
    "    for t_instance in sample:\n",
    "        alignments = json.loads(t_instance['config_obj'])['alignment']\n",
    "        for a in range(len(alignments)):\n",
    "            for b in range(len(alignments[0])):\n",
    "                if alignments[a][b]:\n",
    "                    temp.append([a, b])\n",
    "        src_idn_list.append(str(json.loads(t_instance['config_obj'])['src_head_inds'][0]))\n",
    "\n",
    "    new_alignments = []\n",
    "    for id_0 in range(len(src_tokens)):\n",
    "        new_alignments.append(\n",
    "            [False] * len(new_tar_tokens)\n",
    "        )\n",
    "    for k, (idx_src, idx_tar) in enumerate(temp):\n",
    "        # print(idx_tar, k, len(temp))\n",
    "        new_alignments[idx_src][2*(idx_tar)] = True\n",
    "        if k!=len(temp)-1:\n",
    "            new_alignments[idx_src][2*(idx_tar)+1] = True\n",
    "    src_idns = \", \".join(src_idn_list)\n",
    "\n",
    "    to_write = {\n",
    "        'src_tokens': instance['src_tokens'],\n",
    "        'tar_tokens': json.dumps(new_tar_tokens),\n",
    "        'config_obj': \"{\\\"src_enable_retokenize\\\": true, \\\"version\\\": {\\\"PATCH\\\": 0, \\\"MAJOR\\\": 1, \\\"MINOR\\\": 0}, \\\"tar_enable_retokenize\\\": false,\\\"src_head_inds\\\":[\"+ src_idns +\"],\\\"alignment\\\":\"+str(new_alignments).replace(\"'\",\"\").lower()+\"}\"\n",
    "    }\n",
    "\n",
    "    # to_write = {\n",
    "    #     'src_tokens': instance['src_tokens'],\n",
    "    #     'tar_tokens': json.dumps(new_tar_tokens),\n",
    "    #     'config_obj': \"{\\\"src_enable_retokenize\\\": true, \\\"version\\\": {\\\"PATCH\\\": 0, \\\"MAJOR\\\": 1, \\\"MINOR\\\": 0}, \\\"tar_enable_retokenize\\\": false,\\\"src_head_inds\\\":[\"+ str(src_idns) + \", \"+ str(1) +\"],\\\"alignment\\\":\"+str(new_alignments).replace(\"'\",\"\").lower()+\"}\"\n",
    "    # }\n",
    "    output.append(to_write)\n",
    "    # print(temp)\n",
    "\n",
    "csv_w = open(\"to_tasa_zh_drop_test_set_multiple.csv\", \"w\", encoding=\"utf-8\")\n",
    "fieldnames = ['src_tokens', 'tar_tokens', 'config_obj']\n",
    "writer = csv.DictWriter(csv_w, fieldnames, lineterminator='\\n', quoting=csv.QUOTE_ALL)\n",
    "writer.writeheader()\n",
    "for line in output:\n",
    "    writer.writerow(line)\n",
    "\n",
    "csv_w.close()"
   ],
   "metadata": {
    "collapsed": false,
    "pycharm": {
     "name": "#%%\n"
    }
   }
  },
  {
   "cell_type": "code",
   "execution_count": null,
   "outputs": [],
   "source": [],
   "metadata": {
    "collapsed": false,
    "pycharm": {
     "name": "#%%\n"
    }
   }
  },
  {
   "cell_type": "code",
   "execution_count": null,
   "outputs": [],
   "source": [],
   "metadata": {
    "collapsed": false,
    "pycharm": {
     "name": "#%%\n"
    }
   }
  },
  {
   "cell_type": "code",
   "execution_count": null,
   "outputs": [],
   "source": [],
   "metadata": {
    "collapsed": false,
    "pycharm": {
     "name": "#%%\n"
    }
   }
  },
  {
   "cell_type": "code",
   "execution_count": null,
   "outputs": [],
   "source": [],
   "metadata": {
    "collapsed": false,
    "pycharm": {
     "name": "#%%\n"
    }
   }
  },
  {
   "cell_type": "code",
   "execution_count": null,
   "outputs": [],
   "source": [],
   "metadata": {
    "collapsed": false,
    "pycharm": {
     "name": "#%%\n"
    }
   }
  },
  {
   "cell_type": "code",
   "execution_count": null,
   "outputs": [],
   "source": [],
   "metadata": {
    "collapsed": false,
    "pycharm": {
     "name": "#%%\n"
    }
   }
  }
 ],
 "metadata": {
  "kernelspec": {
   "display_name": "Python 3",
   "language": "python",
   "name": "python3"
  },
  "language_info": {
   "codemirror_mode": {
    "name": "ipython",
    "version": 2
   },
   "file_extension": ".py",
   "mimetype": "text/x-python",
   "name": "python",
   "nbconvert_exporter": "python",
   "pygments_lexer": "ipython2",
   "version": "2.7.6"
  }
 },
 "nbformat": 4,
 "nbformat_minor": 0
}