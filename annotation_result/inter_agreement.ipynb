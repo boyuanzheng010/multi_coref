{
 "cells": [
  {
   "cell_type": "code",
   "execution_count": 128,
   "metadata": {
    "collapsed": true
   },
   "outputs": [
    {
     "data": {
      "text/plain": "1131072"
     },
     "execution_count": 128,
     "metadata": {},
     "output_type": "execute_result"
    }
   ],
   "source": [
    "import csv\n",
    "import json\n",
    "csv.field_size_limit(1131072)"
   ]
  },
  {
   "cell_type": "code",
   "execution_count": 129,
   "outputs": [],
   "source": [
    "def load_annotation(path):\n",
    "    \"\"\"\n",
    "    path: Path to the annotation file\n",
    "\n",
    "    return: dictionary of annotation {}\n",
    "        key: The first sentence\n",
    "        value: annotations\n",
    "    \"\"\"\n",
    "    output = {}\n",
    "    with open(path, 'r') as f:\n",
    "        annotation_reader = csv.DictReader(f)\n",
    "        for instance in annotation_reader:\n",
    "            try:\n",
    "                input = json.loads(instance['Input.json_data'])\n",
    "            except:\n",
    "                continue\n",
    "            key = \" \".join(input['sentences'][0][:10])\n",
    "            anno = json.loads(instance['Answer.answer_spans'])\n",
    "            if key not in output:\n",
    "                output[key] = [anno]\n",
    "            else:\n",
    "                output[key].append(anno)\n",
    "    return output"
   ],
   "metadata": {
    "collapsed": false,
    "pycharm": {
     "name": "#%%\n"
    }
   }
  },
  {
   "cell_type": "code",
   "execution_count": 181,
   "outputs": [],
   "source": [
    "def mention_inter_agreement(annotation, reference):\n",
    "    \"\"\"\n",
    "    Calculate the inter-agreement of mention between an annotation and the reference\n",
    "\n",
    "    annotation\n",
    "    reference\n",
    "\n",
    "    return: accuracy of mention\n",
    "    \"\"\"\n",
    "    # collect valid mentions into a set\n",
    "    anno_mentions = set()\n",
    "    refer_mentions = set()\n",
    "\n",
    "    for query in annotation:\n",
    "        if query['notMention']:\n",
    "            continue\n",
    "        queryMention = query['querySpan']\n",
    "        anno_mentions.add((queryMention['sentenceIndex'], queryMention['startToken'], queryMention['endToken']))\n",
    "    for query in reference:\n",
    "        if query['notMention']:\n",
    "            continue\n",
    "        queryMention = query['querySpan']\n",
    "        refer_mentions.add((queryMention['sentenceIndex'], queryMention['startToken'], queryMention['endToken']))\n",
    "\n",
    "    inter = anno_mentions & refer_mentions\n",
    "    accuracy = len(inter)/len(refer_mentions)\n",
    "\n",
    "    return accuracy"
   ],
   "metadata": {
    "collapsed": false,
    "pycharm": {
     "name": "#%%\n"
    }
   }
  },
  {
   "cell_type": "code",
   "execution_count": 158,
   "outputs": [],
   "source": [
    "mturk = load_annotation('data/mturk.csv')\n",
    "turkle = load_annotation('data/turkle.csv')"
   ],
   "metadata": {
    "collapsed": false,
    "pycharm": {
     "name": "#%%\n"
    }
   }
  },
  {
   "cell_type": "code",
   "execution_count": 158,
   "outputs": [],
   "source": [],
   "metadata": {
    "collapsed": false,
    "pycharm": {
     "name": "#%%\n"
    }
   }
  },
  {
   "cell_type": "code",
   "execution_count": 184,
   "outputs": [
    {
     "name": "stdout",
     "output_type": "stream",
     "text": [
      "0.853448275862069\n",
      "0.6637931034482759\n",
      "0.98989898989899\n",
      "1.0\n",
      "0.8888888888888888\n"
     ]
    }
   ],
   "source": [
    "# annotation\n",
    "for x in mturk:\n",
    "    if x not in turkle:\n",
    "        continue\n",
    "    reference = turkle[x][0]\n",
    "    for annotation in mturk[x]:\n",
    "        accuracy = mention_inter_agreement(annotation, reference)\n",
    "        print(accuracy)"
   ],
   "metadata": {
    "collapsed": false,
    "pycharm": {
     "name": "#%%\n"
    }
   }
  },
  {
   "cell_type": "code",
   "execution_count": 130,
   "outputs": [],
   "source": [],
   "metadata": {
    "collapsed": false,
    "pycharm": {
     "name": "#%%\n"
    }
   }
  },
  {
   "cell_type": "code",
   "execution_count": 130,
   "outputs": [],
   "source": [],
   "metadata": {
    "collapsed": false,
    "pycharm": {
     "name": "#%%\n"
    }
   }
  },
  {
   "cell_type": "code",
   "execution_count": 130,
   "outputs": [],
   "source": [],
   "metadata": {
    "collapsed": false,
    "pycharm": {
     "name": "#%%\n"
    }
   }
  },
  {
   "cell_type": "code",
   "execution_count": 130,
   "outputs": [],
   "source": [],
   "metadata": {
    "collapsed": false,
    "pycharm": {
     "name": "#%%\n"
    }
   }
  },
  {
   "cell_type": "code",
   "execution_count": 130,
   "outputs": [],
   "source": [],
   "metadata": {
    "collapsed": false,
    "pycharm": {
     "name": "#%%\n"
    }
   }
  },
  {
   "cell_type": "code",
   "execution_count": 130,
   "outputs": [],
   "source": [],
   "metadata": {
    "collapsed": false,
    "pycharm": {
     "name": "#%%\n"
    }
   }
  },
  {
   "cell_type": "code",
   "execution_count": 130,
   "outputs": [],
   "source": [],
   "metadata": {
    "collapsed": false,
    "pycharm": {
     "name": "#%%\n"
    }
   }
  },
  {
   "cell_type": "code",
   "execution_count": 130,
   "outputs": [],
   "source": [],
   "metadata": {
    "collapsed": false,
    "pycharm": {
     "name": "#%%\n"
    }
   }
  },
  {
   "cell_type": "code",
   "execution_count": 130,
   "outputs": [],
   "source": [],
   "metadata": {
    "collapsed": false,
    "pycharm": {
     "name": "#%%\n"
    }
   }
  },
  {
   "cell_type": "code",
   "execution_count": null,
   "outputs": [],
   "source": [],
   "metadata": {
    "collapsed": false,
    "pycharm": {
     "name": "#%%\n"
    }
   }
  }
 ],
 "metadata": {
  "kernelspec": {
   "display_name": "Python 3",
   "language": "python",
   "name": "python3"
  },
  "language_info": {
   "codemirror_mode": {
    "name": "ipython",
    "version": 2
   },
   "file_extension": ".py",
   "mimetype": "text/x-python",
   "name": "python",
   "nbconvert_exporter": "python",
   "pygments_lexer": "ipython2",
   "version": "2.7.6"
  }
 },
 "nbformat": 4,
 "nbformat_minor": 0
}