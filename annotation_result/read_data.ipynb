{
 "cells": [
  {
   "cell_type": "code",
   "execution_count": 16,
   "metadata": {
    "collapsed": true
   },
   "outputs": [],
   "source": [
    "import csv\n",
    "import json"
   ]
  },
  {
   "cell_type": "code",
   "execution_count": 6,
   "outputs": [
    {
     "data": {
      "text/plain": "131072"
     },
     "execution_count": 6,
     "metadata": {},
     "output_type": "execute_result"
    }
   ],
   "source": [
    "csv.field_size_limit(1131072)"
   ],
   "metadata": {
    "collapsed": false,
    "pycharm": {
     "name": "#%%\n"
    }
   }
  },
  {
   "cell_type": "code",
   "execution_count": 20,
   "outputs": [],
   "source": [
    "data = []\n",
    "with open('data/golden.csv', 'r') as f:\n",
    "    reader = csv.reader(f)\n",
    "    for item in reader:\n",
    "        data.append(item)"
   ],
   "metadata": {
    "collapsed": false,
    "pycharm": {
     "name": "#%%\n"
    }
   }
  },
  {
   "cell_type": "code",
   "execution_count": 21,
   "outputs": [
    {
     "name": "stdout",
     "output_type": "stream",
     "text": [
      "['HITId', 'HITTypeId', 'Title', 'CreationTime', 'MaxAssignments', 'AssignmentDurationInSeconds', 'AssignmentId', 'WorkerId', 'AcceptTime', 'SubmitTime', 'WorkTimeInSeconds', 'Input.json_data', 'Answer.answer_spans', 'Turkle.Username']\n"
     ]
    }
   ],
   "source": [
    "print(data[0])"
   ],
   "metadata": {
    "collapsed": false,
    "pycharm": {
     "name": "#%%\n"
    }
   }
  },
  {
   "cell_type": "code",
   "execution_count": 29,
   "outputs": [
    {
     "name": "stdout",
     "output_type": "stream",
     "text": [
      "<class 'str'>\n"
     ]
    }
   ],
   "source": [
    "print(type(data[1][-2]))"
   ],
   "metadata": {
    "collapsed": false,
    "pycharm": {
     "name": "#%%\n"
    }
   }
  },
  {
   "cell_type": "code",
   "execution_count": 30,
   "outputs": [],
   "source": [
    "temp = json.loads(data[1][-2])"
   ],
   "metadata": {
    "collapsed": false,
    "pycharm": {
     "name": "#%%\n"
    }
   }
  },
  {
   "cell_type": "code",
   "execution_count": 31,
   "outputs": [
    {
     "name": "stdout",
     "output_type": "stream",
     "text": [
      "[{'querySpan': {'sentenceIndex': 0, 'startToken': 3, 'endToken': 5}, 'notPresent': True, 'notMention': False, 'span_list': [{'sentenceIndex': -1, 'startToken': -1, 'endToken': -1}], 'currentAnswerIndex': 0, 'status': 'ok'}, {'querySpan': {'sentenceIndex': 0, 'startToken': 8, 'endToken': 10}, 'notPresent': True, 'notMention': False, 'span_list': [{'sentenceIndex': -1, 'startToken': -1, 'endToken': -1}], 'currentAnswerIndex': 0, 'status': 'ok'}, {'querySpan': {'sentenceIndex': 0, 'startToken': 11, 'endToken': 13}, 'notPresent': True, 'notMention': False, 'span_list': [{'sentenceIndex': -1, 'startToken': -1, 'endToken': -1}], 'currentAnswerIndex': 0, 'status': 'ok'}, {'querySpan': {'sentenceIndex': 0, 'startToken': 14, 'endToken': 15}, 'notPresent': False, 'notMention': False, 'span_list': [{'sentenceIndex': 0, 'startToken': 8, 'endToken': 10}], 'currentAnswerIndex': 0, 'status': 'ok'}, {'querySpan': {'sentenceIndex': 0, 'startToken': 16, 'endToken': 17}, 'notPresent': False, 'notMention': False, 'span_list': [{'sentenceIndex': 0, 'startToken': 11, 'endToken': 13}], 'currentAnswerIndex': 0, 'status': 'ok'}, {'querySpan': {'sentenceIndex': 0, 'startToken': 19, 'endToken': 20}, 'notPresent': False, 'notMention': False, 'span_list': [{'sentenceIndex': 0, 'startToken': 3, 'endToken': 5}], 'currentAnswerIndex': 0, 'status': 'ok'}, {'querySpan': {'sentenceIndex': 0, 'startToken': 24, 'endToken': 25}, 'notPresent': False, 'notMention': False, 'span_list': [{'sentenceIndex': 0, 'startToken': 11, 'endToken': 13}], 'currentAnswerIndex': 0, 'status': 'ok'}, {'querySpan': {'sentenceIndex': 0, 'startToken': 29, 'endToken': 30}, 'notPresent': False, 'notMention': False, 'span_list': [{'sentenceIndex': 0, 'startToken': 3, 'endToken': 5}], 'currentAnswerIndex': 0, 'status': 'ok'}, {'querySpan': {'sentenceIndex': 0, 'startToken': 33, 'endToken': 34}, 'notPresent': False, 'notMention': False, 'span_list': [{'sentenceIndex': 0, 'startToken': 3, 'endToken': 5}], 'currentAnswerIndex': 0, 'status': 'ok'}, {'querySpan': {'sentenceIndex': 0, 'startToken': 37, 'endToken': 38}, 'notPresent': False, 'notMention': False, 'span_list': [{'sentenceIndex': 0, 'startToken': 3, 'endToken': 5}], 'currentAnswerIndex': 0, 'status': 'ok'}, {'querySpan': {'sentenceIndex': 0, 'startToken': 39, 'endToken': 41}, 'notPresent': False, 'notMention': False, 'span_list': [{'sentenceIndex': 0, 'startToken': 8, 'endToken': 10}], 'currentAnswerIndex': 0, 'status': 'ok'}, {'querySpan': {'sentenceIndex': 0, 'startToken': 43, 'endToken': 44}, 'notPresent': False, 'notMention': False, 'span_list': [{'sentenceIndex': 0, 'startToken': 37, 'endToken': 38}], 'currentAnswerIndex': 0, 'status': 'ok'}, {'querySpan': {'sentenceIndex': 0, 'startToken': 45, 'endToken': 47}, 'notPresent': True, 'notMention': False, 'span_list': [{'sentenceIndex': -1, 'startToken': -1, 'endToken': -1}], 'currentAnswerIndex': 0, 'status': 'ok'}, {'querySpan': {'sentenceIndex': 0, 'startToken': 45, 'endToken': 46}, 'notPresent': False, 'notMention': False, 'span_list': [{'sentenceIndex': 0, 'startToken': 37, 'endToken': 38}], 'currentAnswerIndex': 0, 'status': 'ok'}, {'querySpan': {'sentenceIndex': 0, 'startToken': 48, 'endToken': 49}, 'notPresent': False, 'notMention': False, 'span_list': [{'sentenceIndex': 0, 'startToken': 37, 'endToken': 38}], 'currentAnswerIndex': 0, 'status': 'ok'}, {'querySpan': {'sentenceIndex': 0, 'startToken': 54, 'endToken': 56}, 'notPresent': False, 'notMention': False, 'span_list': [{'sentenceIndex': 0, 'startToken': 11, 'endToken': 13}], 'currentAnswerIndex': 0, 'status': 'ok'}, {'querySpan': {'sentenceIndex': 1, 'startToken': 4, 'endToken': 5}, 'notPresent': False, 'notMention': True, 'span_list': [{'sentenceIndex': -1, 'startToken': -1, 'endToken': -1}], 'currentAnswerIndex': 0, 'status': 'ok'}, {'querySpan': {'sentenceIndex': 1, 'startToken': 6, 'endToken': 8}, 'notPresent': True, 'notMention': False, 'span_list': [{'sentenceIndex': -1, 'startToken': -1, 'endToken': -1}], 'currentAnswerIndex': 0, 'status': 'ok'}, {'querySpan': {'sentenceIndex': 1, 'startToken': 6, 'endToken': 7}, 'notPresent': False, 'notMention': False, 'span_list': [{'sentenceIndex': 0, 'startToken': 0, 'endToken': 1}], 'currentAnswerIndex': 0, 'status': 'ok'}, {'querySpan': {'sentenceIndex': 2, 'startToken': 4, 'endToken': 6}, 'notPresent': False, 'notMention': True, 'span_list': [{'sentenceIndex': -1, 'startToken': -1, 'endToken': -1}], 'currentAnswerIndex': 0, 'status': 'ok'}, {'querySpan': {'sentenceIndex': 2, 'startToken': 7, 'endToken': 8}, 'notPresent': False, 'notMention': False, 'span_list': [{'sentenceIndex': 2, 'startToken': 0, 'endToken': 1}], 'currentAnswerIndex': 0, 'status': 'ok'}, {'querySpan': {'sentenceIndex': 2, 'startToken': 10, 'endToken': 11}, 'notPresent': False, 'notMention': True, 'span_list': [{'sentenceIndex': -1, 'startToken': -1, 'endToken': -1}], 'currentAnswerIndex': 0, 'status': 'ok'}, {'querySpan': {'sentenceIndex': 2, 'startToken': 12, 'endToken': 15}, 'notPresent': False, 'notMention': False, 'span_list': [{'sentenceIndex': 1, 'startToken': 6, 'endToken': 8}], 'currentAnswerIndex': 0, 'status': 'ok'}, {'querySpan': {'sentenceIndex': 2, 'startToken': 16, 'endToken': 20}, 'notPresent': True, 'notMention': False, 'span_list': [{'sentenceIndex': -1, 'startToken': -1, 'endToken': -1}], 'currentAnswerIndex': 0, 'status': 'ok'}, {'querySpan': {'sentenceIndex': 5, 'startToken': 5, 'endToken': 6}, 'notPresent': True, 'notMention': False, 'span_list': [{'sentenceIndex': -1, 'startToken': -1, 'endToken': -1}], 'currentAnswerIndex': 0, 'status': 'ok'}, {'querySpan': {'sentenceIndex': 5, 'startToken': 10, 'endToken': 11}, 'notPresent': True, 'notMention': False, 'span_list': [{'sentenceIndex': -1, 'startToken': -1, 'endToken': -1}], 'currentAnswerIndex': 0, 'status': 'ok'}, {'querySpan': {'sentenceIndex': 5, 'startToken': 17, 'endToken': 18}, 'notPresent': True, 'notMention': False, 'span_list': [{'sentenceIndex': -1, 'startToken': -1, 'endToken': -1}], 'currentAnswerIndex': 0, 'status': 'ok'}, {'querySpan': {'sentenceIndex': 5, 'startToken': 24, 'endToken': 26}, 'notPresent': True, 'notMention': False, 'span_list': [{'sentenceIndex': -1, 'startToken': -1, 'endToken': -1}], 'currentAnswerIndex': 0, 'status': 'ok'}, {'querySpan': {'sentenceIndex': 5, 'startToken': 24, 'endToken': 25}, 'notPresent': False, 'notMention': False, 'span_list': [{'sentenceIndex': 0, 'startToken': 0, 'endToken': 1}], 'currentAnswerIndex': 0, 'status': 'ok'}, {'querySpan': {'sentenceIndex': 5, 'startToken': 27, 'endToken': 28}, 'notPresent': True, 'notMention': False, 'span_list': [{'sentenceIndex': -1, 'startToken': -1, 'endToken': -1}], 'currentAnswerIndex': 0, 'status': 'ok'}, {'querySpan': {'sentenceIndex': 5, 'startToken': 29, 'endToken': 30}, 'notPresent': False, 'notMention': False, 'span_list': [{'sentenceIndex': 5, 'startToken': 27, 'endToken': 28}], 'currentAnswerIndex': 0, 'status': 'ok'}, {'querySpan': {'sentenceIndex': 5, 'startToken': 33, 'endToken': 38}, 'notPresent': True, 'notMention': False, 'span_list': [{'sentenceIndex': -1, 'startToken': -1, 'endToken': -1}], 'currentAnswerIndex': 0, 'status': 'ok'}, {'querySpan': {'sentenceIndex': 5, 'startToken': 41, 'endToken': 46}, 'notPresent': False, 'notMention': False, 'span_list': [{'sentenceIndex': 5, 'startToken': 33, 'endToken': 38}], 'currentAnswerIndex': 0, 'status': 'ok'}, {'querySpan': {'sentenceIndex': 5, 'startToken': 47, 'endToken': 48}, 'notPresent': False, 'notMention': False, 'span_list': [{'sentenceIndex': 5, 'startToken': 41, 'endToken': 46}], 'currentAnswerIndex': 0, 'status': 'ok'}, {'querySpan': {'sentenceIndex': 5, 'startToken': 49, 'endToken': 54}, 'notPresent': False, 'notMention': False, 'span_list': [{'sentenceIndex': 5, 'startToken': 33, 'endToken': 38}], 'currentAnswerIndex': 0, 'status': 'ok'}, {'querySpan': {'sentenceIndex': 5, 'startToken': 55, 'endToken': 56}, 'notPresent': True, 'notMention': False, 'span_list': [{'sentenceIndex': -1, 'startToken': -1, 'endToken': -1}], 'currentAnswerIndex': 0, 'status': 'ok'}, {'querySpan': {'sentenceIndex': 6, 'startToken': 3, 'endToken': 4}, 'notPresent': False, 'notMention': False, 'span_list': [{'sentenceIndex': 6, 'startToken': 0, 'endToken': 1}], 'currentAnswerIndex': 0, 'status': 'ok'}, {'querySpan': {'sentenceIndex': 6, 'startToken': 5, 'endToken': 6}, 'notPresent': False, 'notMention': False, 'span_list': [{'sentenceIndex': 0, 'startToken': 0, 'endToken': 1}], 'currentAnswerIndex': 0, 'status': 'ok'}, {'querySpan': {'sentenceIndex': 7, 'startToken': 5, 'endToken': 6}, 'notPresent': True, 'notMention': False, 'span_list': [{'sentenceIndex': -1, 'startToken': -1, 'endToken': -1}], 'currentAnswerIndex': 0, 'status': 'ok'}, {'querySpan': {'sentenceIndex': 7, 'startToken': 6, 'endToken': 12}, 'notPresent': False, 'notMention': False, 'span_list': [{'sentenceIndex': 7, 'startToken': 5, 'endToken': 6}], 'currentAnswerIndex': 0, 'status': 'ok'}, {'querySpan': {'sentenceIndex': 8, 'startToken': 3, 'endToken': 4}, 'notPresent': False, 'notMention': False, 'span_list': [{'sentenceIndex': 0, 'startToken': 0, 'endToken': 1}], 'currentAnswerIndex': 0, 'status': 'ok'}, {'querySpan': {'sentenceIndex': 8, 'startToken': 9, 'endToken': 10}, 'notPresent': False, 'notMention': False, 'span_list': [{'sentenceIndex': 0, 'startToken': 0, 'endToken': 1}], 'currentAnswerIndex': 0, 'status': 'ok'}, {'querySpan': {'sentenceIndex': 9, 'startToken': 2, 'endToken': 3}, 'notPresent': False, 'notMention': False, 'span_list': [{'sentenceIndex': 9, 'startToken': 0, 'endToken': 1}], 'currentAnswerIndex': 0, 'status': 'ok'}, {'querySpan': {'sentenceIndex': 9, 'startToken': 4, 'endToken': 5}, 'notPresent': False, 'notMention': False, 'span_list': [{'sentenceIndex': 7, 'startToken': 6, 'endToken': 12}], 'currentAnswerIndex': 0, 'status': 'ok'}, {'querySpan': {'sentenceIndex': 9, 'startToken': 6, 'endToken': 8}, 'notPresent': False, 'notMention': False, 'span_list': [{'sentenceIndex': 7, 'startToken': 6, 'endToken': 12}], 'currentAnswerIndex': 0, 'status': 'ok'}, {'querySpan': {'sentenceIndex': 10, 'startToken': 3, 'endToken': 4}, 'notPresent': True, 'notMention': False, 'span_list': [{'sentenceIndex': -1, 'startToken': -1, 'endToken': -1}], 'currentAnswerIndex': 0, 'status': 'ok'}, {'querySpan': {'sentenceIndex': 10, 'startToken': 8, 'endToken': 9}, 'notPresent': False, 'notMention': False, 'span_list': [{'sentenceIndex': 10, 'startToken': 0, 'endToken': 1}], 'currentAnswerIndex': 0, 'status': 'ok'}, {'querySpan': {'sentenceIndex': 11, 'startToken': 2, 'endToken': 3}, 'notPresent': False, 'notMention': False, 'span_list': [{'sentenceIndex': 11, 'startToken': 0, 'endToken': 1}, {'sentenceIndex': 9, 'startToken': 0, 'endToken': 1}], 'currentAnswerIndex': 1, 'status': 'ok'}, {'querySpan': {'sentenceIndex': 12, 'startToken': 5, 'endToken': 7}, 'notPresent': True, 'notMention': False, 'span_list': [{'sentenceIndex': -1, 'startToken': -1, 'endToken': -1}], 'currentAnswerIndex': 0, 'status': 'ok'}, {'querySpan': {'sentenceIndex': 12, 'startToken': 5, 'endToken': 6}, 'notPresent': False, 'notMention': False, 'span_list': [{'sentenceIndex': 0, 'startToken': 0, 'endToken': 1}], 'currentAnswerIndex': 0, 'status': 'ok'}, {'querySpan': {'sentenceIndex': 12, 'startToken': 8, 'endToken': 9}, 'notPresent': False, 'notMention': False, 'span_list': [{'sentenceIndex': 12, 'startToken': 0, 'endToken': 1}], 'currentAnswerIndex': 0, 'status': 'ok'}, {'querySpan': {'sentenceIndex': 12, 'startToken': 12, 'endToken': 15}, 'notPresent': True, 'notMention': False, 'span_list': [{'sentenceIndex': -1, 'startToken': -1, 'endToken': -1}], 'currentAnswerIndex': 0, 'status': 'ok'}, {'querySpan': {'sentenceIndex': 12, 'startToken': 12, 'endToken': 13}, 'notPresent': False, 'notMention': False, 'span_list': [{'sentenceIndex': 12, 'startToken': 0, 'endToken': 1}], 'currentAnswerIndex': 0, 'status': 'ok'}, {'querySpan': {'sentenceIndex': 13, 'startToken': 4, 'endToken': 5}, 'notPresent': False, 'notMention': False, 'span_list': [{'sentenceIndex': 13, 'startToken': 0, 'endToken': 1}], 'currentAnswerIndex': 0, 'status': 'ok'}, {'querySpan': {'sentenceIndex': 13, 'startToken': 8, 'endToken': 9}, 'notPresent': False, 'notMention': False, 'span_list': [{'sentenceIndex': 13, 'startToken': 0, 'endToken': 1}], 'currentAnswerIndex': 0, 'status': 'ok'}, {'querySpan': {'sentenceIndex': 13, 'startToken': 11, 'endToken': 12}, 'notPresent': True, 'notMention': False, 'span_list': [{'sentenceIndex': -1, 'startToken': -1, 'endToken': -1}], 'currentAnswerIndex': 0, 'status': 'ok'}, {'querySpan': {'sentenceIndex': 14, 'startToken': 2, 'endToken': 3}, 'notPresent': False, 'notMention': True, 'span_list': [{'sentenceIndex': -1, 'startToken': -1, 'endToken': -1}], 'currentAnswerIndex': 0, 'status': 'ok'}, {'querySpan': {'sentenceIndex': 14, 'startToken': 5, 'endToken': 6}, 'notPresent': False, 'notMention': False, 'span_list': [{'sentenceIndex': 0, 'startToken': 0, 'endToken': 1}], 'currentAnswerIndex': 0, 'status': 'ok'}, {'querySpan': {'sentenceIndex': 15, 'startToken': 2, 'endToken': 3}, 'notPresent': False, 'notMention': False, 'span_list': [{'sentenceIndex': 15, 'startToken': 0, 'endToken': 1}, {'sentenceIndex': 14, 'startToken': 0, 'endToken': 1}], 'currentAnswerIndex': 1, 'status': 'ok'}, {'querySpan': {'sentenceIndex': 15, 'startToken': 5, 'endToken': 7}, 'notPresent': True, 'notMention': False, 'span_list': [{'sentenceIndex': -1, 'startToken': -1, 'endToken': -1}], 'currentAnswerIndex': 0, 'status': 'ok'}, {'querySpan': {'sentenceIndex': 15, 'startToken': 10, 'endToken': 12}, 'notPresent': True, 'notMention': False, 'span_list': [{'sentenceIndex': -1, 'startToken': -1, 'endToken': -1}], 'currentAnswerIndex': 0, 'status': 'ok'}, {'querySpan': {'sentenceIndex': 15, 'startToken': 12, 'endToken': 14}, 'notPresent': True, 'notMention': False, 'span_list': [{'sentenceIndex': -1, 'startToken': -1, 'endToken': -1}], 'currentAnswerIndex': 0, 'status': 'ok'}, {'querySpan': {'sentenceIndex': 15, 'startToken': 12, 'endToken': 13}, 'notPresent': False, 'notMention': False, 'span_list': [{'sentenceIndex': 15, 'startToken': 0, 'endToken': 1}, {'sentenceIndex': 14, 'startToken': 0, 'endToken': 1}], 'currentAnswerIndex': 1, 'status': 'ok'}, {'querySpan': {'sentenceIndex': 15, 'startToken': 18, 'endToken': 22}, 'notPresent': True, 'notMention': False, 'span_list': [{'sentenceIndex': -1, 'startToken': -1, 'endToken': -1}], 'currentAnswerIndex': 0, 'status': 'ok'}, {'querySpan': {'sentenceIndex': 15, 'startToken': 25, 'endToken': 26}, 'notPresent': True, 'notMention': False, 'span_list': [{'sentenceIndex': -1, 'startToken': -1, 'endToken': -1}], 'currentAnswerIndex': 0, 'status': 'ok'}, {'querySpan': {'sentenceIndex': 15, 'startToken': 27, 'endToken': 28}, 'notPresent': False, 'notMention': False, 'span_list': [{'sentenceIndex': 15, 'startToken': 0, 'endToken': 1}], 'currentAnswerIndex': 0, 'status': 'ok'}, {'querySpan': {'sentenceIndex': 15, 'startToken': 29, 'endToken': 31}, 'notPresent': True, 'notMention': False, 'span_list': [{'sentenceIndex': -1, 'startToken': -1, 'endToken': -1}], 'currentAnswerIndex': 0, 'status': 'ok'}, {'querySpan': {'sentenceIndex': 15, 'startToken': 32, 'endToken': 37}, 'notPresent': True, 'notMention': False, 'span_list': [{'sentenceIndex': -1, 'startToken': -1, 'endToken': -1}], 'currentAnswerIndex': 0, 'status': 'ok'}, {'querySpan': {'sentenceIndex': 15, 'startToken': 37, 'endToken': 38}, 'notPresent': False, 'notMention': False, 'span_list': [{'sentenceIndex': 15, 'startToken': 29, 'endToken': 31}], 'currentAnswerIndex': 0, 'status': 'ok'}, {'querySpan': {'sentenceIndex': 15, 'startToken': 40, 'endToken': 41}, 'notPresent': True, 'notMention': False, 'span_list': [{'sentenceIndex': -1, 'startToken': -1, 'endToken': -1}], 'currentAnswerIndex': 0, 'status': 'ok'}, {'querySpan': {'sentenceIndex': 16, 'startToken': 4, 'endToken': 5}, 'notPresent': False, 'notMention': False, 'span_list': [{'sentenceIndex': 15, 'startToken': 5, 'endToken': 7}], 'currentAnswerIndex': 0, 'status': 'ok'}, {'querySpan': {'sentenceIndex': 16, 'startToken': 6, 'endToken': 8}, 'notPresent': False, 'notMention': False, 'span_list': [{'sentenceIndex': 15, 'startToken': 5, 'endToken': 7}], 'currentAnswerIndex': 0, 'status': 'ok'}, {'querySpan': {'sentenceIndex': 16, 'startToken': 6, 'endToken': 7}, 'notPresent': False, 'notMention': False, 'span_list': [{'sentenceIndex': 15, 'startToken': 0, 'endToken': 1}], 'currentAnswerIndex': 0, 'status': 'ok'}, {'querySpan': {'sentenceIndex': 16, 'startToken': 9, 'endToken': 13}, 'notPresent': True, 'notMention': False, 'span_list': [{'sentenceIndex': -1, 'startToken': -1, 'endToken': -1}], 'currentAnswerIndex': 0, 'status': 'ok'}, {'querySpan': {'sentenceIndex': 16, 'startToken': 15, 'endToken': 18}, 'notPresent': True, 'notMention': False, 'span_list': [{'sentenceIndex': -1, 'startToken': -1, 'endToken': -1}], 'currentAnswerIndex': 0, 'status': 'ok'}, {'querySpan': {'sentenceIndex': 16, 'startToken': 19, 'endToken': 21}, 'notPresent': True, 'notMention': False, 'span_list': [{'sentenceIndex': -1, 'startToken': -1, 'endToken': -1}], 'currentAnswerIndex': 0, 'status': 'ok'}, {'querySpan': {'sentenceIndex': 17, 'startToken': 2, 'endToken': 3}, 'notPresent': False, 'notMention': False, 'span_list': [{'sentenceIndex': 17, 'startToken': 0, 'endToken': 1}], 'currentAnswerIndex': 0, 'status': 'ok'}, {'querySpan': {'sentenceIndex': 17, 'startToken': 6, 'endToken': 7}, 'notPresent': False, 'notMention': False, 'span_list': [{'sentenceIndex': 17, 'startToken': 0, 'endToken': 1}], 'currentAnswerIndex': 0, 'status': 'ok'}, {'querySpan': {'sentenceIndex': 17, 'startToken': 10, 'endToken': 12}, 'notPresent': False, 'notMention': False, 'span_list': [{'sentenceIndex': 16, 'startToken': 15, 'endToken': 18}], 'currentAnswerIndex': 0, 'status': 'ok'}, {'querySpan': {'sentenceIndex': 17, 'startToken': 15, 'endToken': 18}, 'notPresent': True, 'notMention': False, 'span_list': [{'sentenceIndex': -1, 'startToken': -1, 'endToken': -1}], 'currentAnswerIndex': 0, 'status': 'ok'}, {'querySpan': {'sentenceIndex': 17, 'startToken': 18, 'endToken': 19}, 'notPresent': False, 'notMention': False, 'span_list': [{'sentenceIndex': 17, 'startToken': 15, 'endToken': 18}], 'currentAnswerIndex': 0, 'status': 'ok'}, {'querySpan': {'sentenceIndex': 17, 'startToken': 23, 'endToken': 25}, 'notPresent': False, 'notMention': False, 'span_list': [{'sentenceIndex': 15, 'startToken': 18, 'endToken': 22}], 'currentAnswerIndex': 0, 'status': 'ok'}, {'querySpan': {'sentenceIndex': 17, 'startToken': 26, 'endToken': 28}, 'notPresent': False, 'notMention': False, 'span_list': [{'sentenceIndex': 15, 'startToken': 13, 'endToken': 14}], 'currentAnswerIndex': 0, 'status': 'ok'}, {'querySpan': {'sentenceIndex': 17, 'startToken': 26, 'endToken': 27}, 'notPresent': False, 'notMention': False, 'span_list': [{'sentenceIndex': 17, 'startToken': 0, 'endToken': 1}], 'currentAnswerIndex': 0, 'status': 'ok'}, {'querySpan': {'sentenceIndex': 17, 'startToken': 29, 'endToken': 30}, 'notPresent': False, 'notMention': True, 'span_list': [{'sentenceIndex': -1, 'startToken': -1, 'endToken': -1}], 'currentAnswerIndex': 0, 'status': 'ok'}, {'querySpan': {'sentenceIndex': 17, 'startToken': 31, 'endToken': 32}, 'notPresent': False, 'notMention': False, 'span_list': [{'sentenceIndex': 17, 'startToken': 15, 'endToken': 18}], 'currentAnswerIndex': 0, 'status': 'ok'}, {'querySpan': {'sentenceIndex': 17, 'startToken': 35, 'endToken': 37}, 'notPresent': True, 'notMention': False, 'span_list': [{'sentenceIndex': -1, 'startToken': -1, 'endToken': -1}], 'currentAnswerIndex': 0, 'status': 'ok'}, {'querySpan': {'sentenceIndex': 17, 'startToken': 37, 'endToken': 38}, 'notPresent': False, 'notMention': False, 'span_list': [{'sentenceIndex': 17, 'startToken': 35, 'endToken': 37}], 'currentAnswerIndex': 0, 'status': 'ok'}, {'querySpan': {'sentenceIndex': 17, 'startToken': 42, 'endToken': 43}, 'notPresent': False, 'notMention': False, 'span_list': [{'sentenceIndex': 17, 'startToken': 35, 'endToken': 37}], 'currentAnswerIndex': 0, 'status': 'ok'}, {'querySpan': {'sentenceIndex': 17, 'startToken': 45, 'endToken': 47}, 'notPresent': True, 'notMention': False, 'span_list': [{'sentenceIndex': -1, 'startToken': -1, 'endToken': -1}], 'currentAnswerIndex': 0, 'status': 'ok'}, {'querySpan': {'sentenceIndex': 17, 'startToken': 50, 'endToken': 52}, 'notPresent': True, 'notMention': False, 'span_list': [{'sentenceIndex': -1, 'startToken': -1, 'endToken': -1}], 'currentAnswerIndex': 0, 'status': 'ok'}, {'querySpan': {'sentenceIndex': 17, 'startToken': 53, 'endToken': 55}, 'notPresent': True, 'notMention': False, 'span_list': [{'sentenceIndex': -1, 'startToken': -1, 'endToken': -1}], 'currentAnswerIndex': 0, 'status': 'ok'}, {'querySpan': {'sentenceIndex': 18, 'startToken': 2, 'endToken': 3}, 'notPresent': False, 'notMention': False, 'span_list': [{'sentenceIndex': 18, 'startToken': 0, 'endToken': 1}], 'currentAnswerIndex': 0, 'status': 'ok'}, {'querySpan': {'sentenceIndex': 18, 'startToken': 5, 'endToken': 6}, 'notPresent': False, 'notMention': False, 'span_list': [{'sentenceIndex': 17, 'startToken': 31, 'endToken': 32}], 'currentAnswerIndex': 0, 'status': 'ok'}, {'querySpan': {'sentenceIndex': 18, 'startToken': 9, 'endToken': 10}, 'notPresent': False, 'notMention': False, 'span_list': [{'sentenceIndex': 17, 'startToken': 35, 'endToken': 37}], 'currentAnswerIndex': 0, 'status': 'ok'}, {'querySpan': {'sentenceIndex': 19, 'startToken': 2, 'endToken': 3}, 'notPresent': False, 'notMention': False, 'span_list': [{'sentenceIndex': 19, 'startToken': 0, 'endToken': 1}], 'currentAnswerIndex': 0, 'status': 'ok'}, {'querySpan': {'sentenceIndex': 20, 'startToken': 4, 'endToken': 5}, 'notPresent': False, 'notMention': True, 'span_list': [{'sentenceIndex': -1, 'startToken': -1, 'endToken': -1}], 'currentAnswerIndex': 0, 'status': 'ok'}, {'querySpan': {'sentenceIndex': 20, 'startToken': 6, 'endToken': 7}, 'notPresent': False, 'notMention': False, 'span_list': [{'sentenceIndex': 0, 'startToken': 0, 'endToken': 1}], 'currentAnswerIndex': 0, 'status': 'ok'}, {'querySpan': {'sentenceIndex': 21, 'startToken': 2, 'endToken': 3}, 'notPresent': False, 'notMention': False, 'span_list': [{'sentenceIndex': 21, 'startToken': 0, 'endToken': 1}], 'currentAnswerIndex': 0, 'status': 'ok'}, {'querySpan': {'sentenceIndex': 22, 'startToken': 2, 'endToken': 3}, 'notPresent': False, 'notMention': True, 'span_list': [{'sentenceIndex': -1, 'startToken': -1, 'endToken': -1}], 'currentAnswerIndex': 0, 'status': 'ok'}, {'querySpan': {'sentenceIndex': 22, 'startToken': 4, 'endToken': 6}, 'notPresent': True, 'notMention': False, 'span_list': [{'sentenceIndex': -1, 'startToken': -1, 'endToken': -1}], 'currentAnswerIndex': 0, 'status': 'ok'}, {'querySpan': {'sentenceIndex': 22, 'startToken': 10, 'endToken': 11}, 'notPresent': False, 'notMention': False, 'span_list': [{'sentenceIndex': 20, 'startToken': 0, 'endToken': 1}], 'currentAnswerIndex': 0, 'status': 'ok'}, {'querySpan': {'sentenceIndex': 23, 'startToken': 2, 'endToken': 3}, 'notPresent': False, 'notMention': False, 'span_list': [{'sentenceIndex': 23, 'startToken': 0, 'endToken': 1}], 'currentAnswerIndex': 0, 'status': 'ok'}, {'querySpan': {'sentenceIndex': 23, 'startToken': 7, 'endToken': 9}, 'notPresent': True, 'notMention': False, 'span_list': [{'sentenceIndex': -1, 'startToken': -1, 'endToken': -1}], 'currentAnswerIndex': 0, 'status': 'ok'}, {'querySpan': {'sentenceIndex': 23, 'startToken': 10, 'endToken': 11}, 'notPresent': False, 'notMention': False, 'span_list': [{'sentenceIndex': 15, 'startToken': 13, 'endToken': 14}], 'currentAnswerIndex': 0, 'status': 'ok'}, {'querySpan': {'sentenceIndex': 24, 'startToken': 3, 'endToken': 4}, 'notPresent': False, 'notMention': False, 'span_list': [{'sentenceIndex': 24, 'startToken': 0, 'endToken': 1}, {'sentenceIndex': 23, 'startToken': 0, 'endToken': 1}], 'currentAnswerIndex': 1, 'status': 'ok'}]\n"
     ]
    }
   ],
   "source": [
    "print(temp)"
   ],
   "metadata": {
    "collapsed": false,
    "pycharm": {
     "name": "#%%\n"
    }
   }
  },
  {
   "cell_type": "code",
   "execution_count": 33,
   "outputs": [
    {
     "name": "stdout",
     "output_type": "stream",
     "text": [
      "<class 'list'> 106\n"
     ]
    }
   ],
   "source": [
    "print(type(temp), len(temp))"
   ],
   "metadata": {
    "collapsed": false,
    "pycharm": {
     "name": "#%%\n"
    }
   }
  },
  {
   "cell_type": "code",
   "execution_count": 36,
   "outputs": [
    {
     "name": "stdout",
     "output_type": "stream",
     "text": [
      "{'querySpan': {'sentenceIndex': 0, 'startToken': 3, 'endToken': 5}, 'notPresent': True, 'notMention': False, 'span_list': [{'sentenceIndex': -1, 'startToken': -1, 'endToken': -1}], 'currentAnswerIndex': 0, 'status': 'ok'}\n",
      "{'querySpan': {'sentenceIndex': 0, 'startToken': 8, 'endToken': 10}, 'notPresent': True, 'notMention': False, 'span_list': [{'sentenceIndex': -1, 'startToken': -1, 'endToken': -1}], 'currentAnswerIndex': 0, 'status': 'ok'}\n",
      "{'querySpan': {'sentenceIndex': 0, 'startToken': 11, 'endToken': 13}, 'notPresent': True, 'notMention': False, 'span_list': [{'sentenceIndex': -1, 'startToken': -1, 'endToken': -1}], 'currentAnswerIndex': 0, 'status': 'ok'}\n",
      "{'querySpan': {'sentenceIndex': 0, 'startToken': 14, 'endToken': 15}, 'notPresent': False, 'notMention': False, 'span_list': [{'sentenceIndex': 0, 'startToken': 8, 'endToken': 10}], 'currentAnswerIndex': 0, 'status': 'ok'}\n",
      "{'querySpan': {'sentenceIndex': 0, 'startToken': 16, 'endToken': 17}, 'notPresent': False, 'notMention': False, 'span_list': [{'sentenceIndex': 0, 'startToken': 11, 'endToken': 13}], 'currentAnswerIndex': 0, 'status': 'ok'}\n",
      "{'querySpan': {'sentenceIndex': 0, 'startToken': 19, 'endToken': 20}, 'notPresent': False, 'notMention': False, 'span_list': [{'sentenceIndex': 0, 'startToken': 3, 'endToken': 5}], 'currentAnswerIndex': 0, 'status': 'ok'}\n",
      "{'querySpan': {'sentenceIndex': 0, 'startToken': 24, 'endToken': 25}, 'notPresent': False, 'notMention': False, 'span_list': [{'sentenceIndex': 0, 'startToken': 11, 'endToken': 13}], 'currentAnswerIndex': 0, 'status': 'ok'}\n",
      "{'querySpan': {'sentenceIndex': 0, 'startToken': 29, 'endToken': 30}, 'notPresent': False, 'notMention': False, 'span_list': [{'sentenceIndex': 0, 'startToken': 3, 'endToken': 5}], 'currentAnswerIndex': 0, 'status': 'ok'}\n",
      "{'querySpan': {'sentenceIndex': 0, 'startToken': 33, 'endToken': 34}, 'notPresent': False, 'notMention': False, 'span_list': [{'sentenceIndex': 0, 'startToken': 3, 'endToken': 5}], 'currentAnswerIndex': 0, 'status': 'ok'}\n",
      "{'querySpan': {'sentenceIndex': 0, 'startToken': 37, 'endToken': 38}, 'notPresent': False, 'notMention': False, 'span_list': [{'sentenceIndex': 0, 'startToken': 3, 'endToken': 5}], 'currentAnswerIndex': 0, 'status': 'ok'}\n",
      "{'querySpan': {'sentenceIndex': 0, 'startToken': 39, 'endToken': 41}, 'notPresent': False, 'notMention': False, 'span_list': [{'sentenceIndex': 0, 'startToken': 8, 'endToken': 10}], 'currentAnswerIndex': 0, 'status': 'ok'}\n",
      "{'querySpan': {'sentenceIndex': 0, 'startToken': 43, 'endToken': 44}, 'notPresent': False, 'notMention': False, 'span_list': [{'sentenceIndex': 0, 'startToken': 37, 'endToken': 38}], 'currentAnswerIndex': 0, 'status': 'ok'}\n",
      "{'querySpan': {'sentenceIndex': 0, 'startToken': 45, 'endToken': 47}, 'notPresent': True, 'notMention': False, 'span_list': [{'sentenceIndex': -1, 'startToken': -1, 'endToken': -1}], 'currentAnswerIndex': 0, 'status': 'ok'}\n",
      "{'querySpan': {'sentenceIndex': 0, 'startToken': 45, 'endToken': 46}, 'notPresent': False, 'notMention': False, 'span_list': [{'sentenceIndex': 0, 'startToken': 37, 'endToken': 38}], 'currentAnswerIndex': 0, 'status': 'ok'}\n",
      "{'querySpan': {'sentenceIndex': 0, 'startToken': 48, 'endToken': 49}, 'notPresent': False, 'notMention': False, 'span_list': [{'sentenceIndex': 0, 'startToken': 37, 'endToken': 38}], 'currentAnswerIndex': 0, 'status': 'ok'}\n",
      "{'querySpan': {'sentenceIndex': 0, 'startToken': 54, 'endToken': 56}, 'notPresent': False, 'notMention': False, 'span_list': [{'sentenceIndex': 0, 'startToken': 11, 'endToken': 13}], 'currentAnswerIndex': 0, 'status': 'ok'}\n",
      "{'querySpan': {'sentenceIndex': 1, 'startToken': 4, 'endToken': 5}, 'notPresent': False, 'notMention': True, 'span_list': [{'sentenceIndex': -1, 'startToken': -1, 'endToken': -1}], 'currentAnswerIndex': 0, 'status': 'ok'}\n",
      "{'querySpan': {'sentenceIndex': 1, 'startToken': 6, 'endToken': 8}, 'notPresent': True, 'notMention': False, 'span_list': [{'sentenceIndex': -1, 'startToken': -1, 'endToken': -1}], 'currentAnswerIndex': 0, 'status': 'ok'}\n",
      "{'querySpan': {'sentenceIndex': 1, 'startToken': 6, 'endToken': 7}, 'notPresent': False, 'notMention': False, 'span_list': [{'sentenceIndex': 0, 'startToken': 0, 'endToken': 1}], 'currentAnswerIndex': 0, 'status': 'ok'}\n",
      "{'querySpan': {'sentenceIndex': 2, 'startToken': 4, 'endToken': 6}, 'notPresent': False, 'notMention': True, 'span_list': [{'sentenceIndex': -1, 'startToken': -1, 'endToken': -1}], 'currentAnswerIndex': 0, 'status': 'ok'}\n",
      "{'querySpan': {'sentenceIndex': 2, 'startToken': 7, 'endToken': 8}, 'notPresent': False, 'notMention': False, 'span_list': [{'sentenceIndex': 2, 'startToken': 0, 'endToken': 1}], 'currentAnswerIndex': 0, 'status': 'ok'}\n",
      "{'querySpan': {'sentenceIndex': 2, 'startToken': 10, 'endToken': 11}, 'notPresent': False, 'notMention': True, 'span_list': [{'sentenceIndex': -1, 'startToken': -1, 'endToken': -1}], 'currentAnswerIndex': 0, 'status': 'ok'}\n",
      "{'querySpan': {'sentenceIndex': 2, 'startToken': 12, 'endToken': 15}, 'notPresent': False, 'notMention': False, 'span_list': [{'sentenceIndex': 1, 'startToken': 6, 'endToken': 8}], 'currentAnswerIndex': 0, 'status': 'ok'}\n",
      "{'querySpan': {'sentenceIndex': 2, 'startToken': 16, 'endToken': 20}, 'notPresent': True, 'notMention': False, 'span_list': [{'sentenceIndex': -1, 'startToken': -1, 'endToken': -1}], 'currentAnswerIndex': 0, 'status': 'ok'}\n",
      "{'querySpan': {'sentenceIndex': 5, 'startToken': 5, 'endToken': 6}, 'notPresent': True, 'notMention': False, 'span_list': [{'sentenceIndex': -1, 'startToken': -1, 'endToken': -1}], 'currentAnswerIndex': 0, 'status': 'ok'}\n",
      "{'querySpan': {'sentenceIndex': 5, 'startToken': 10, 'endToken': 11}, 'notPresent': True, 'notMention': False, 'span_list': [{'sentenceIndex': -1, 'startToken': -1, 'endToken': -1}], 'currentAnswerIndex': 0, 'status': 'ok'}\n",
      "{'querySpan': {'sentenceIndex': 5, 'startToken': 17, 'endToken': 18}, 'notPresent': True, 'notMention': False, 'span_list': [{'sentenceIndex': -1, 'startToken': -1, 'endToken': -1}], 'currentAnswerIndex': 0, 'status': 'ok'}\n",
      "{'querySpan': {'sentenceIndex': 5, 'startToken': 24, 'endToken': 26}, 'notPresent': True, 'notMention': False, 'span_list': [{'sentenceIndex': -1, 'startToken': -1, 'endToken': -1}], 'currentAnswerIndex': 0, 'status': 'ok'}\n",
      "{'querySpan': {'sentenceIndex': 5, 'startToken': 24, 'endToken': 25}, 'notPresent': False, 'notMention': False, 'span_list': [{'sentenceIndex': 0, 'startToken': 0, 'endToken': 1}], 'currentAnswerIndex': 0, 'status': 'ok'}\n",
      "{'querySpan': {'sentenceIndex': 5, 'startToken': 27, 'endToken': 28}, 'notPresent': True, 'notMention': False, 'span_list': [{'sentenceIndex': -1, 'startToken': -1, 'endToken': -1}], 'currentAnswerIndex': 0, 'status': 'ok'}\n",
      "{'querySpan': {'sentenceIndex': 5, 'startToken': 29, 'endToken': 30}, 'notPresent': False, 'notMention': False, 'span_list': [{'sentenceIndex': 5, 'startToken': 27, 'endToken': 28}], 'currentAnswerIndex': 0, 'status': 'ok'}\n",
      "{'querySpan': {'sentenceIndex': 5, 'startToken': 33, 'endToken': 38}, 'notPresent': True, 'notMention': False, 'span_list': [{'sentenceIndex': -1, 'startToken': -1, 'endToken': -1}], 'currentAnswerIndex': 0, 'status': 'ok'}\n",
      "{'querySpan': {'sentenceIndex': 5, 'startToken': 41, 'endToken': 46}, 'notPresent': False, 'notMention': False, 'span_list': [{'sentenceIndex': 5, 'startToken': 33, 'endToken': 38}], 'currentAnswerIndex': 0, 'status': 'ok'}\n",
      "{'querySpan': {'sentenceIndex': 5, 'startToken': 47, 'endToken': 48}, 'notPresent': False, 'notMention': False, 'span_list': [{'sentenceIndex': 5, 'startToken': 41, 'endToken': 46}], 'currentAnswerIndex': 0, 'status': 'ok'}\n",
      "{'querySpan': {'sentenceIndex': 5, 'startToken': 49, 'endToken': 54}, 'notPresent': False, 'notMention': False, 'span_list': [{'sentenceIndex': 5, 'startToken': 33, 'endToken': 38}], 'currentAnswerIndex': 0, 'status': 'ok'}\n",
      "{'querySpan': {'sentenceIndex': 5, 'startToken': 55, 'endToken': 56}, 'notPresent': True, 'notMention': False, 'span_list': [{'sentenceIndex': -1, 'startToken': -1, 'endToken': -1}], 'currentAnswerIndex': 0, 'status': 'ok'}\n",
      "{'querySpan': {'sentenceIndex': 6, 'startToken': 3, 'endToken': 4}, 'notPresent': False, 'notMention': False, 'span_list': [{'sentenceIndex': 6, 'startToken': 0, 'endToken': 1}], 'currentAnswerIndex': 0, 'status': 'ok'}\n",
      "{'querySpan': {'sentenceIndex': 6, 'startToken': 5, 'endToken': 6}, 'notPresent': False, 'notMention': False, 'span_list': [{'sentenceIndex': 0, 'startToken': 0, 'endToken': 1}], 'currentAnswerIndex': 0, 'status': 'ok'}\n",
      "{'querySpan': {'sentenceIndex': 7, 'startToken': 5, 'endToken': 6}, 'notPresent': True, 'notMention': False, 'span_list': [{'sentenceIndex': -1, 'startToken': -1, 'endToken': -1}], 'currentAnswerIndex': 0, 'status': 'ok'}\n",
      "{'querySpan': {'sentenceIndex': 7, 'startToken': 6, 'endToken': 12}, 'notPresent': False, 'notMention': False, 'span_list': [{'sentenceIndex': 7, 'startToken': 5, 'endToken': 6}], 'currentAnswerIndex': 0, 'status': 'ok'}\n",
      "{'querySpan': {'sentenceIndex': 8, 'startToken': 3, 'endToken': 4}, 'notPresent': False, 'notMention': False, 'span_list': [{'sentenceIndex': 0, 'startToken': 0, 'endToken': 1}], 'currentAnswerIndex': 0, 'status': 'ok'}\n",
      "{'querySpan': {'sentenceIndex': 8, 'startToken': 9, 'endToken': 10}, 'notPresent': False, 'notMention': False, 'span_list': [{'sentenceIndex': 0, 'startToken': 0, 'endToken': 1}], 'currentAnswerIndex': 0, 'status': 'ok'}\n",
      "{'querySpan': {'sentenceIndex': 9, 'startToken': 2, 'endToken': 3}, 'notPresent': False, 'notMention': False, 'span_list': [{'sentenceIndex': 9, 'startToken': 0, 'endToken': 1}], 'currentAnswerIndex': 0, 'status': 'ok'}\n",
      "{'querySpan': {'sentenceIndex': 9, 'startToken': 4, 'endToken': 5}, 'notPresent': False, 'notMention': False, 'span_list': [{'sentenceIndex': 7, 'startToken': 6, 'endToken': 12}], 'currentAnswerIndex': 0, 'status': 'ok'}\n",
      "{'querySpan': {'sentenceIndex': 9, 'startToken': 6, 'endToken': 8}, 'notPresent': False, 'notMention': False, 'span_list': [{'sentenceIndex': 7, 'startToken': 6, 'endToken': 12}], 'currentAnswerIndex': 0, 'status': 'ok'}\n",
      "{'querySpan': {'sentenceIndex': 10, 'startToken': 3, 'endToken': 4}, 'notPresent': True, 'notMention': False, 'span_list': [{'sentenceIndex': -1, 'startToken': -1, 'endToken': -1}], 'currentAnswerIndex': 0, 'status': 'ok'}\n",
      "{'querySpan': {'sentenceIndex': 10, 'startToken': 8, 'endToken': 9}, 'notPresent': False, 'notMention': False, 'span_list': [{'sentenceIndex': 10, 'startToken': 0, 'endToken': 1}], 'currentAnswerIndex': 0, 'status': 'ok'}\n",
      "{'querySpan': {'sentenceIndex': 11, 'startToken': 2, 'endToken': 3}, 'notPresent': False, 'notMention': False, 'span_list': [{'sentenceIndex': 11, 'startToken': 0, 'endToken': 1}, {'sentenceIndex': 9, 'startToken': 0, 'endToken': 1}], 'currentAnswerIndex': 1, 'status': 'ok'}\n",
      "{'querySpan': {'sentenceIndex': 12, 'startToken': 5, 'endToken': 7}, 'notPresent': True, 'notMention': False, 'span_list': [{'sentenceIndex': -1, 'startToken': -1, 'endToken': -1}], 'currentAnswerIndex': 0, 'status': 'ok'}\n",
      "{'querySpan': {'sentenceIndex': 12, 'startToken': 5, 'endToken': 6}, 'notPresent': False, 'notMention': False, 'span_list': [{'sentenceIndex': 0, 'startToken': 0, 'endToken': 1}], 'currentAnswerIndex': 0, 'status': 'ok'}\n",
      "{'querySpan': {'sentenceIndex': 12, 'startToken': 8, 'endToken': 9}, 'notPresent': False, 'notMention': False, 'span_list': [{'sentenceIndex': 12, 'startToken': 0, 'endToken': 1}], 'currentAnswerIndex': 0, 'status': 'ok'}\n",
      "{'querySpan': {'sentenceIndex': 12, 'startToken': 12, 'endToken': 15}, 'notPresent': True, 'notMention': False, 'span_list': [{'sentenceIndex': -1, 'startToken': -1, 'endToken': -1}], 'currentAnswerIndex': 0, 'status': 'ok'}\n",
      "{'querySpan': {'sentenceIndex': 12, 'startToken': 12, 'endToken': 13}, 'notPresent': False, 'notMention': False, 'span_list': [{'sentenceIndex': 12, 'startToken': 0, 'endToken': 1}], 'currentAnswerIndex': 0, 'status': 'ok'}\n",
      "{'querySpan': {'sentenceIndex': 13, 'startToken': 4, 'endToken': 5}, 'notPresent': False, 'notMention': False, 'span_list': [{'sentenceIndex': 13, 'startToken': 0, 'endToken': 1}], 'currentAnswerIndex': 0, 'status': 'ok'}\n",
      "{'querySpan': {'sentenceIndex': 13, 'startToken': 8, 'endToken': 9}, 'notPresent': False, 'notMention': False, 'span_list': [{'sentenceIndex': 13, 'startToken': 0, 'endToken': 1}], 'currentAnswerIndex': 0, 'status': 'ok'}\n",
      "{'querySpan': {'sentenceIndex': 13, 'startToken': 11, 'endToken': 12}, 'notPresent': True, 'notMention': False, 'span_list': [{'sentenceIndex': -1, 'startToken': -1, 'endToken': -1}], 'currentAnswerIndex': 0, 'status': 'ok'}\n",
      "{'querySpan': {'sentenceIndex': 14, 'startToken': 2, 'endToken': 3}, 'notPresent': False, 'notMention': True, 'span_list': [{'sentenceIndex': -1, 'startToken': -1, 'endToken': -1}], 'currentAnswerIndex': 0, 'status': 'ok'}\n",
      "{'querySpan': {'sentenceIndex': 14, 'startToken': 5, 'endToken': 6}, 'notPresent': False, 'notMention': False, 'span_list': [{'sentenceIndex': 0, 'startToken': 0, 'endToken': 1}], 'currentAnswerIndex': 0, 'status': 'ok'}\n",
      "{'querySpan': {'sentenceIndex': 15, 'startToken': 2, 'endToken': 3}, 'notPresent': False, 'notMention': False, 'span_list': [{'sentenceIndex': 15, 'startToken': 0, 'endToken': 1}, {'sentenceIndex': 14, 'startToken': 0, 'endToken': 1}], 'currentAnswerIndex': 1, 'status': 'ok'}\n",
      "{'querySpan': {'sentenceIndex': 15, 'startToken': 5, 'endToken': 7}, 'notPresent': True, 'notMention': False, 'span_list': [{'sentenceIndex': -1, 'startToken': -1, 'endToken': -1}], 'currentAnswerIndex': 0, 'status': 'ok'}\n",
      "{'querySpan': {'sentenceIndex': 15, 'startToken': 10, 'endToken': 12}, 'notPresent': True, 'notMention': False, 'span_list': [{'sentenceIndex': -1, 'startToken': -1, 'endToken': -1}], 'currentAnswerIndex': 0, 'status': 'ok'}\n",
      "{'querySpan': {'sentenceIndex': 15, 'startToken': 12, 'endToken': 14}, 'notPresent': True, 'notMention': False, 'span_list': [{'sentenceIndex': -1, 'startToken': -1, 'endToken': -1}], 'currentAnswerIndex': 0, 'status': 'ok'}\n",
      "{'querySpan': {'sentenceIndex': 15, 'startToken': 12, 'endToken': 13}, 'notPresent': False, 'notMention': False, 'span_list': [{'sentenceIndex': 15, 'startToken': 0, 'endToken': 1}, {'sentenceIndex': 14, 'startToken': 0, 'endToken': 1}], 'currentAnswerIndex': 1, 'status': 'ok'}\n",
      "{'querySpan': {'sentenceIndex': 15, 'startToken': 18, 'endToken': 22}, 'notPresent': True, 'notMention': False, 'span_list': [{'sentenceIndex': -1, 'startToken': -1, 'endToken': -1}], 'currentAnswerIndex': 0, 'status': 'ok'}\n",
      "{'querySpan': {'sentenceIndex': 15, 'startToken': 25, 'endToken': 26}, 'notPresent': True, 'notMention': False, 'span_list': [{'sentenceIndex': -1, 'startToken': -1, 'endToken': -1}], 'currentAnswerIndex': 0, 'status': 'ok'}\n",
      "{'querySpan': {'sentenceIndex': 15, 'startToken': 27, 'endToken': 28}, 'notPresent': False, 'notMention': False, 'span_list': [{'sentenceIndex': 15, 'startToken': 0, 'endToken': 1}], 'currentAnswerIndex': 0, 'status': 'ok'}\n",
      "{'querySpan': {'sentenceIndex': 15, 'startToken': 29, 'endToken': 31}, 'notPresent': True, 'notMention': False, 'span_list': [{'sentenceIndex': -1, 'startToken': -1, 'endToken': -1}], 'currentAnswerIndex': 0, 'status': 'ok'}\n",
      "{'querySpan': {'sentenceIndex': 15, 'startToken': 32, 'endToken': 37}, 'notPresent': True, 'notMention': False, 'span_list': [{'sentenceIndex': -1, 'startToken': -1, 'endToken': -1}], 'currentAnswerIndex': 0, 'status': 'ok'}\n",
      "{'querySpan': {'sentenceIndex': 15, 'startToken': 37, 'endToken': 38}, 'notPresent': False, 'notMention': False, 'span_list': [{'sentenceIndex': 15, 'startToken': 29, 'endToken': 31}], 'currentAnswerIndex': 0, 'status': 'ok'}\n",
      "{'querySpan': {'sentenceIndex': 15, 'startToken': 40, 'endToken': 41}, 'notPresent': True, 'notMention': False, 'span_list': [{'sentenceIndex': -1, 'startToken': -1, 'endToken': -1}], 'currentAnswerIndex': 0, 'status': 'ok'}\n",
      "{'querySpan': {'sentenceIndex': 16, 'startToken': 4, 'endToken': 5}, 'notPresent': False, 'notMention': False, 'span_list': [{'sentenceIndex': 15, 'startToken': 5, 'endToken': 7}], 'currentAnswerIndex': 0, 'status': 'ok'}\n",
      "{'querySpan': {'sentenceIndex': 16, 'startToken': 6, 'endToken': 8}, 'notPresent': False, 'notMention': False, 'span_list': [{'sentenceIndex': 15, 'startToken': 5, 'endToken': 7}], 'currentAnswerIndex': 0, 'status': 'ok'}\n",
      "{'querySpan': {'sentenceIndex': 16, 'startToken': 6, 'endToken': 7}, 'notPresent': False, 'notMention': False, 'span_list': [{'sentenceIndex': 15, 'startToken': 0, 'endToken': 1}], 'currentAnswerIndex': 0, 'status': 'ok'}\n",
      "{'querySpan': {'sentenceIndex': 16, 'startToken': 9, 'endToken': 13}, 'notPresent': True, 'notMention': False, 'span_list': [{'sentenceIndex': -1, 'startToken': -1, 'endToken': -1}], 'currentAnswerIndex': 0, 'status': 'ok'}\n",
      "{'querySpan': {'sentenceIndex': 16, 'startToken': 15, 'endToken': 18}, 'notPresent': True, 'notMention': False, 'span_list': [{'sentenceIndex': -1, 'startToken': -1, 'endToken': -1}], 'currentAnswerIndex': 0, 'status': 'ok'}\n",
      "{'querySpan': {'sentenceIndex': 16, 'startToken': 19, 'endToken': 21}, 'notPresent': True, 'notMention': False, 'span_list': [{'sentenceIndex': -1, 'startToken': -1, 'endToken': -1}], 'currentAnswerIndex': 0, 'status': 'ok'}\n",
      "{'querySpan': {'sentenceIndex': 17, 'startToken': 2, 'endToken': 3}, 'notPresent': False, 'notMention': False, 'span_list': [{'sentenceIndex': 17, 'startToken': 0, 'endToken': 1}], 'currentAnswerIndex': 0, 'status': 'ok'}\n",
      "{'querySpan': {'sentenceIndex': 17, 'startToken': 6, 'endToken': 7}, 'notPresent': False, 'notMention': False, 'span_list': [{'sentenceIndex': 17, 'startToken': 0, 'endToken': 1}], 'currentAnswerIndex': 0, 'status': 'ok'}\n",
      "{'querySpan': {'sentenceIndex': 17, 'startToken': 10, 'endToken': 12}, 'notPresent': False, 'notMention': False, 'span_list': [{'sentenceIndex': 16, 'startToken': 15, 'endToken': 18}], 'currentAnswerIndex': 0, 'status': 'ok'}\n",
      "{'querySpan': {'sentenceIndex': 17, 'startToken': 15, 'endToken': 18}, 'notPresent': True, 'notMention': False, 'span_list': [{'sentenceIndex': -1, 'startToken': -1, 'endToken': -1}], 'currentAnswerIndex': 0, 'status': 'ok'}\n",
      "{'querySpan': {'sentenceIndex': 17, 'startToken': 18, 'endToken': 19}, 'notPresent': False, 'notMention': False, 'span_list': [{'sentenceIndex': 17, 'startToken': 15, 'endToken': 18}], 'currentAnswerIndex': 0, 'status': 'ok'}\n",
      "{'querySpan': {'sentenceIndex': 17, 'startToken': 23, 'endToken': 25}, 'notPresent': False, 'notMention': False, 'span_list': [{'sentenceIndex': 15, 'startToken': 18, 'endToken': 22}], 'currentAnswerIndex': 0, 'status': 'ok'}\n",
      "{'querySpan': {'sentenceIndex': 17, 'startToken': 26, 'endToken': 28}, 'notPresent': False, 'notMention': False, 'span_list': [{'sentenceIndex': 15, 'startToken': 13, 'endToken': 14}], 'currentAnswerIndex': 0, 'status': 'ok'}\n",
      "{'querySpan': {'sentenceIndex': 17, 'startToken': 26, 'endToken': 27}, 'notPresent': False, 'notMention': False, 'span_list': [{'sentenceIndex': 17, 'startToken': 0, 'endToken': 1}], 'currentAnswerIndex': 0, 'status': 'ok'}\n",
      "{'querySpan': {'sentenceIndex': 17, 'startToken': 29, 'endToken': 30}, 'notPresent': False, 'notMention': True, 'span_list': [{'sentenceIndex': -1, 'startToken': -1, 'endToken': -1}], 'currentAnswerIndex': 0, 'status': 'ok'}\n",
      "{'querySpan': {'sentenceIndex': 17, 'startToken': 31, 'endToken': 32}, 'notPresent': False, 'notMention': False, 'span_list': [{'sentenceIndex': 17, 'startToken': 15, 'endToken': 18}], 'currentAnswerIndex': 0, 'status': 'ok'}\n",
      "{'querySpan': {'sentenceIndex': 17, 'startToken': 35, 'endToken': 37}, 'notPresent': True, 'notMention': False, 'span_list': [{'sentenceIndex': -1, 'startToken': -1, 'endToken': -1}], 'currentAnswerIndex': 0, 'status': 'ok'}\n",
      "{'querySpan': {'sentenceIndex': 17, 'startToken': 37, 'endToken': 38}, 'notPresent': False, 'notMention': False, 'span_list': [{'sentenceIndex': 17, 'startToken': 35, 'endToken': 37}], 'currentAnswerIndex': 0, 'status': 'ok'}\n",
      "{'querySpan': {'sentenceIndex': 17, 'startToken': 42, 'endToken': 43}, 'notPresent': False, 'notMention': False, 'span_list': [{'sentenceIndex': 17, 'startToken': 35, 'endToken': 37}], 'currentAnswerIndex': 0, 'status': 'ok'}\n",
      "{'querySpan': {'sentenceIndex': 17, 'startToken': 45, 'endToken': 47}, 'notPresent': True, 'notMention': False, 'span_list': [{'sentenceIndex': -1, 'startToken': -1, 'endToken': -1}], 'currentAnswerIndex': 0, 'status': 'ok'}\n",
      "{'querySpan': {'sentenceIndex': 17, 'startToken': 50, 'endToken': 52}, 'notPresent': True, 'notMention': False, 'span_list': [{'sentenceIndex': -1, 'startToken': -1, 'endToken': -1}], 'currentAnswerIndex': 0, 'status': 'ok'}\n",
      "{'querySpan': {'sentenceIndex': 17, 'startToken': 53, 'endToken': 55}, 'notPresent': True, 'notMention': False, 'span_list': [{'sentenceIndex': -1, 'startToken': -1, 'endToken': -1}], 'currentAnswerIndex': 0, 'status': 'ok'}\n",
      "{'querySpan': {'sentenceIndex': 18, 'startToken': 2, 'endToken': 3}, 'notPresent': False, 'notMention': False, 'span_list': [{'sentenceIndex': 18, 'startToken': 0, 'endToken': 1}], 'currentAnswerIndex': 0, 'status': 'ok'}\n",
      "{'querySpan': {'sentenceIndex': 18, 'startToken': 5, 'endToken': 6}, 'notPresent': False, 'notMention': False, 'span_list': [{'sentenceIndex': 17, 'startToken': 31, 'endToken': 32}], 'currentAnswerIndex': 0, 'status': 'ok'}\n",
      "{'querySpan': {'sentenceIndex': 18, 'startToken': 9, 'endToken': 10}, 'notPresent': False, 'notMention': False, 'span_list': [{'sentenceIndex': 17, 'startToken': 35, 'endToken': 37}], 'currentAnswerIndex': 0, 'status': 'ok'}\n",
      "{'querySpan': {'sentenceIndex': 19, 'startToken': 2, 'endToken': 3}, 'notPresent': False, 'notMention': False, 'span_list': [{'sentenceIndex': 19, 'startToken': 0, 'endToken': 1}], 'currentAnswerIndex': 0, 'status': 'ok'}\n",
      "{'querySpan': {'sentenceIndex': 20, 'startToken': 4, 'endToken': 5}, 'notPresent': False, 'notMention': True, 'span_list': [{'sentenceIndex': -1, 'startToken': -1, 'endToken': -1}], 'currentAnswerIndex': 0, 'status': 'ok'}\n",
      "{'querySpan': {'sentenceIndex': 20, 'startToken': 6, 'endToken': 7}, 'notPresent': False, 'notMention': False, 'span_list': [{'sentenceIndex': 0, 'startToken': 0, 'endToken': 1}], 'currentAnswerIndex': 0, 'status': 'ok'}\n",
      "{'querySpan': {'sentenceIndex': 21, 'startToken': 2, 'endToken': 3}, 'notPresent': False, 'notMention': False, 'span_list': [{'sentenceIndex': 21, 'startToken': 0, 'endToken': 1}], 'currentAnswerIndex': 0, 'status': 'ok'}\n",
      "{'querySpan': {'sentenceIndex': 22, 'startToken': 2, 'endToken': 3}, 'notPresent': False, 'notMention': True, 'span_list': [{'sentenceIndex': -1, 'startToken': -1, 'endToken': -1}], 'currentAnswerIndex': 0, 'status': 'ok'}\n",
      "{'querySpan': {'sentenceIndex': 22, 'startToken': 4, 'endToken': 6}, 'notPresent': True, 'notMention': False, 'span_list': [{'sentenceIndex': -1, 'startToken': -1, 'endToken': -1}], 'currentAnswerIndex': 0, 'status': 'ok'}\n",
      "{'querySpan': {'sentenceIndex': 22, 'startToken': 10, 'endToken': 11}, 'notPresent': False, 'notMention': False, 'span_list': [{'sentenceIndex': 20, 'startToken': 0, 'endToken': 1}], 'currentAnswerIndex': 0, 'status': 'ok'}\n",
      "{'querySpan': {'sentenceIndex': 23, 'startToken': 2, 'endToken': 3}, 'notPresent': False, 'notMention': False, 'span_list': [{'sentenceIndex': 23, 'startToken': 0, 'endToken': 1}], 'currentAnswerIndex': 0, 'status': 'ok'}\n",
      "{'querySpan': {'sentenceIndex': 23, 'startToken': 7, 'endToken': 9}, 'notPresent': True, 'notMention': False, 'span_list': [{'sentenceIndex': -1, 'startToken': -1, 'endToken': -1}], 'currentAnswerIndex': 0, 'status': 'ok'}\n",
      "{'querySpan': {'sentenceIndex': 23, 'startToken': 10, 'endToken': 11}, 'notPresent': False, 'notMention': False, 'span_list': [{'sentenceIndex': 15, 'startToken': 13, 'endToken': 14}], 'currentAnswerIndex': 0, 'status': 'ok'}\n",
      "{'querySpan': {'sentenceIndex': 24, 'startToken': 3, 'endToken': 4}, 'notPresent': False, 'notMention': False, 'span_list': [{'sentenceIndex': 24, 'startToken': 0, 'endToken': 1}, {'sentenceIndex': 23, 'startToken': 0, 'endToken': 1}], 'currentAnswerIndex': 1, 'status': 'ok'}\n"
     ]
    }
   ],
   "source": [
    "for item in temp:\n",
    "    print(item)\n",
    "    # print(item['span_list'])"
   ],
   "metadata": {
    "collapsed": false,
    "pycharm": {
     "name": "#%%\n"
    }
   }
  },
  {
   "cell_type": "code",
   "execution_count": null,
   "outputs": [],
   "source": [],
   "metadata": {
    "collapsed": false,
    "pycharm": {
     "name": "#%%\n"
    }
   }
  },
  {
   "cell_type": "code",
   "execution_count": null,
   "outputs": [],
   "source": [],
   "metadata": {
    "collapsed": false,
    "pycharm": {
     "name": "#%%\n"
    }
   }
  },
  {
   "cell_type": "code",
   "execution_count": null,
   "outputs": [],
   "source": [],
   "metadata": {
    "collapsed": false,
    "pycharm": {
     "name": "#%%\n"
    }
   }
  },
  {
   "cell_type": "code",
   "execution_count": null,
   "outputs": [],
   "source": [],
   "metadata": {
    "collapsed": false,
    "pycharm": {
     "name": "#%%\n"
    }
   }
  },
  {
   "cell_type": "code",
   "execution_count": null,
   "outputs": [],
   "source": [],
   "metadata": {
    "collapsed": false,
    "pycharm": {
     "name": "#%%\n"
    }
   }
  }
 ],
 "metadata": {
  "kernelspec": {
   "display_name": "Python 3",
   "language": "python",
   "name": "python3"
  },
  "language_info": {
   "codemirror_mode": {
    "name": "ipython",
    "version": 2
   },
   "file_extension": ".py",
   "mimetype": "text/x-python",
   "name": "python",
   "nbconvert_exporter": "python",
   "pygments_lexer": "ipython2",
   "version": "2.7.6"
  }
 },
 "nbformat": 4,
 "nbformat_minor": 0
}