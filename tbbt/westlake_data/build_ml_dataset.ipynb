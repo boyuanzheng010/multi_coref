{
 "cells": [
  {
   "cell_type": "code",
   "execution_count": 1,
   "metadata": {
    "collapsed": true
   },
   "outputs": [],
   "source": [
    "import pickle as pkl"
   ]
  },
  {
   "cell_type": "code",
   "execution_count": 2,
   "outputs": [],
   "source": [
    "data = []\n",
    "with open('all_train.pkl', 'rb') as f:\n",
    "    for x in pkl.load(f):\n",
    "        data.append(x)\n",
    "with open('all_test.pkl', 'rb') as f:\n",
    "    for x in pkl.load(f):\n",
    "        data.append(x)\n",
    "with open('all_dev.pkl', 'rb') as f:\n",
    "    for x in pkl.load(f):\n",
    "        data.append(x)"
   ],
   "metadata": {
    "collapsed": false,
    "pycharm": {
     "name": "#%%\n"
    }
   }
  },
  {
   "cell_type": "code",
   "execution_count": 5,
   "outputs": [
    {
     "name": "stdout",
     "output_type": "stream",
     "text": [
      "{'context': [\"i know, and i do yearn for faster downloads, but there's some poor woman is going to pin her hopes on my sperm, what if she winds up with a toddler who doesn't know if he should use an integral or a differential to solve the area under a curve.\"], 'target': [\"i'm sure she'll still love him.\"], 'feedback': [\"i wouldn't.\"], 'target_emotion': 'fear', 'context_emotion_sent': [\"i know, and i do yearn for faster downloads, but there's some poor woman is going to pin her hopes on my sperm, what if she winds up with a toddler who doesn't know if he should use an integral or a differential to solve the area under a curve.\"]}\n",
      "{'context': ['if the height of a single step is off by as little as two millimetres, most people will trip.'], 'target': [\"i don't care. two millimetres? that doesn't seem right.\"], 'feedback': [\"no, it's true, i did a series of experiments when i was twelve, my father broke his clavicle.\"], 'target_emotion': 'surprise', 'context_emotion_sent': ['if the height of a single step is off by as little as two millimetres, most people will trip.']}\n",
      "{'context': ['new neighbour?', 'evidently.'], 'target': ['significant improvement over the old neighbour.'], 'feedback': ['two hundred pound transvestite with a skin condition, yes she is.'], 'target_emotion': 'trust', 'context_emotion_sent': ['evidently.']}\n",
      "{'context': ['hi.', 'hi.', 'hi.'], 'target': ['hi?'], 'feedback': [\"we don't mean to interrupt, we live across the hall.\"], 'target_emotion': 'neutral', 'context_emotion_sent': ['hi.']}\n",
      "{'context': ['hi.', 'hi.', 'hi.'], 'target': ['hi?'], 'feedback': [\"we don't mean to interrupt, we live across the hall.\"], 'target_emotion': 'surprise', 'context_emotion_sent': ['hi.']}\n"
     ]
    }
   ],
   "source": [
    "for x in data[:5]:\n",
    "    print(x)"
   ],
   "metadata": {
    "collapsed": false,
    "pycharm": {
     "name": "#%%\n"
    }
   }
  },
  {
   "cell_type": "code",
   "execution_count": 6,
   "outputs": [
    {
     "name": "stdout",
     "output_type": "stream",
     "text": [
      "context [\"i know, and i do yearn for faster downloads, but there's some poor woman is going to pin her hopes on my sperm, what if she winds up with a toddler who doesn't know if he should use an integral or a differential to solve the area under a curve.\"]\n",
      "target [\"i'm sure she'll still love him.\"]\n",
      "feedback [\"i wouldn't.\"]\n",
      "target_emotion fear\n",
      "context_emotion_sent [\"i know, and i do yearn for faster downloads, but there's some poor woman is going to pin her hopes on my sperm, what if she winds up with a toddler who doesn't know if he should use an integral or a differential to solve the area under a curve.\"]\n"
     ]
    }
   ],
   "source": [
    "for item in data[0]:\n",
    "    print(item, data[0][item])"
   ],
   "metadata": {
    "collapsed": false,
    "pycharm": {
     "name": "#%%\n"
    }
   }
  },
  {
   "cell_type": "code",
   "execution_count": 10,
   "outputs": [],
   "source": [
    "output = []\n",
    "for x in data:\n",
    "    temp = [x['target'][0], x['target_emotion']]\n",
    "    output.append(temp)"
   ],
   "metadata": {
    "collapsed": false,
    "pycharm": {
     "name": "#%%\n"
    }
   }
  },
  {
   "cell_type": "code",
   "execution_count": 11,
   "outputs": [
    {
     "name": "stdout",
     "output_type": "stream",
     "text": [
      "[\"i'm sure she'll still love him.\", 'fear']\n",
      "[\"i don't care. two millimetres? that doesn't seem right.\", 'surprise']\n",
      "['significant improvement over the old neighbour.', 'trust']\n",
      "['hi?', 'neutral']\n"
     ]
    }
   ],
   "source": [
    "for x in output[:4]:\n",
    "    print(x)"
   ],
   "metadata": {
    "collapsed": false,
    "pycharm": {
     "name": "#%%\n"
    }
   }
  },
  {
   "cell_type": "code",
   "execution_count": 12,
   "outputs": [
    {
     "name": "stdout",
     "output_type": "stream",
     "text": [
      "3394\n"
     ]
    }
   ],
   "source": [
    "print(len(output))"
   ],
   "metadata": {
    "collapsed": false,
    "pycharm": {
     "name": "#%%\n"
    }
   }
  },
  {
   "cell_type": "code",
   "execution_count": 13,
   "outputs": [],
   "source": [
    "pkl.dump(output, open('utterance_emotion.pkl', 'wb'))"
   ],
   "metadata": {
    "collapsed": false,
    "pycharm": {
     "name": "#%%\n"
    }
   }
  },
  {
   "cell_type": "code",
   "execution_count": null,
   "outputs": [],
   "source": [],
   "metadata": {
    "collapsed": false,
    "pycharm": {
     "name": "#%%\n"
    }
   }
  }
 ],
 "metadata": {
  "kernelspec": {
   "display_name": "Python 3",
   "language": "python",
   "name": "python3"
  },
  "language_info": {
   "codemirror_mode": {
    "name": "ipython",
    "version": 2
   },
   "file_extension": ".py",
   "mimetype": "text/x-python",
   "name": "python",
   "nbconvert_exporter": "python",
   "pygments_lexer": "ipython2",
   "version": "2.7.6"
  }
 },
 "nbformat": 4,
 "nbformat_minor": 0
}