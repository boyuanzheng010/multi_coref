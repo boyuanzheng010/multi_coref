{
 "cells": [
  {
   "cell_type": "code",
   "execution_count": 1,
   "metadata": {
    "collapsed": true
   },
   "outputs": [],
   "source": [
    "import pickle as pkl"
   ]
  },
  {
   "cell_type": "code",
   "execution_count": 8,
   "outputs": [
    {
     "name": "stdout",
     "output_type": "stream",
     "text": [
      "193\n"
     ]
    }
   ],
   "source": [
    "with open('tbbt_en_zh.pkl', 'rb') as f:\n",
    "    data = pkl.load(f)\n",
    "print(len(data))"
   ],
   "metadata": {
    "collapsed": false,
    "pycharm": {
     "name": "#%%\n"
    }
   }
  },
  {
   "cell_type": "code",
   "execution_count": 13,
   "outputs": [
    {
     "name": "stdout",
     "output_type": "stream",
     "text": [
      "{'utterance': ' So if a photon is directed through a plane with two slits in it and either slit is observed it will not go through both slits. If it’s unobserved it will, however, if it’s observed after it’s left the plane but before it hits its target, it will not have gone through both slits.', 'speaker': 'Sheldon', 'en_subtitles': ['If a photon is directed through a plane with two slits in it and either is observed it will not go through both.'], 'zh_subtitles': ['اگه يه فوتون به طرف يک صفحه اي که داراي دو شياره هدايت بشه و هردو شيار تحت نظر باشن اين فوتون همزمان از هردو شيار رد نميشه']}\n",
      "{'utterance': ' Agreed, what’s your point?', 'speaker': 'Leonard'}\n",
      "{'utterance': ' There’s no point, I just think it’s a good idea for a tee-shirt. ', 'speaker': 'Sheldon'}\n",
      "{'utterance': ' Excuse me?', 'speaker': 'Leonard'}\n",
      "{'utterance': ' Hang on. ', 'speaker': 'Receptionist'}\n",
      "{'utterance': ' One across is Aegean, eight down is Nabakov, twenty-six across is MCM, fourteen down is… move your finger… phylum, which makes fourteen across Port-au-Prince. See, Papa Doc’s capital idea, that’s Port-au-Prince. Haiti. ', 'speaker': 'Leonard'}\n",
      "{'utterance': ' Can I help you?', 'speaker': 'Receptionist'}\n",
      "{'utterance': ' Yes. Um, is this the High IQ sperm bank?', 'speaker': 'Leonard'}\n",
      "{'utterance': ' If you have to ask, maybe you shouldn’t be here.', 'speaker': 'Receptionist'}\n",
      "{'utterance': ' I think this is the place.', 'speaker': 'Sheldon', 'en_subtitles': ['I think this is the place.'], 'zh_subtitles': ['فکر کنم همينجاست']}\n",
      "{'utterance': ' Fill these out.', 'speaker': 'Receptionist'}\n",
      "{'utterance': ' Thank-you. We’ll be right back.', 'speaker': 'Leonard'}\n",
      "{'utterance': ' Oh, take your time. I’ll just finish my crossword puzzle. Oh wait.', 'speaker': 'Receptionist'}\n",
      "{'utterance': ' Leonard, I don’t think I can do this.', 'speaker': 'Sheldon'}\n",
      "{'utterance': ' What, are you kidding? You’re a semi-pro. ', 'speaker': 'Leonard'}\n",
      "{'utterance': ' No. We are committing genetic fraud. There’s no guarantee that our sperm is going to generate high IQ offspring, think about that. I have a sister with the same basic DNA mix who hostesses at Fuddruckers.', 'speaker': 'Sheldon', 'en_subtitles': ['I have a sister with the same basic DNA mix who hostesses at Fuddruckers.'], 'zh_subtitles': ['که در شهر فوت راکرز خانه داره']}\n",
      "{'utterance': ' Sheldon, this was your idea. A little extra money to get fractional T1 bandwidth in the apartment.', 'speaker': 'Leonard', 'en_subtitles': ['A little extra money to get fractional T1 bandwidth in the apartment?'], 'zh_subtitles': ['يه کم پول بيشتر براي گرفتنه يه پهناي باند کوچک تي1 براي آپارتمانمون']}\n",
      "{'utterance': ' I know, and I do yearn for faster downloads, but there’s some poor woman is going to pin her hopes on my sperm, what if she winds up with a toddler who doesn’t know if he should use an integral or a differential to solve the area under a curve.', 'speaker': 'Sheldon', 'en_subtitles': [\"What if she winds up with a toddler who doesn't know if he should use a differential to solve for the area under a curve?\"], 'zh_subtitles': ['حالا اگه اين خانم با يه بچه نه نه ريخته روهم که حتي نميدونه براي بدست آوردن سطح زير نمودار بايد مشتق بگيره يا انتگرال چي؟']}\n",
      "{'utterance': ' I’m sure she’ll still love him.', 'speaker': 'Leonard'}\n",
      "{'utterance': ' I wouldn’t.', 'speaker': 'Sheldon'}\n",
      "{'utterance': ' Well, what do you want to do?', 'speaker': 'Leonard', 'en_subtitles': [\"- I'm sure she'll still love him.\", \"- I don't know. I've never reneged on a proffer of sperm before.\"], 'zh_subtitles': ['-من مطمئنم که بازم دوستش داره -من که ندارم', 'نميدونم من تا حالا سر تحويل دادن اسپرم دبه درنياوردم']}\n",
      "{'utterance': ' I want to leave.', 'speaker': 'Sheldon'}\n",
      "{'utterance': ' What’s the protocol for leaving?', 'speaker': 'Sheldon'}\n",
      "{'utterance': ' I don’t know, I’ve never reneged on a proffer of sperm before.', 'speaker': 'Leonard'}\n",
      "{'utterance': ' Let’s try just walking out.', 'speaker': 'Sheldon'}\n",
      "{'utterance': ' Okay.', 'speaker': 'Leonard'}\n",
      "{'utterance': ' Bye-bye', 'speaker': 'Sheldon'}\n",
      "{'utterance': ' See you.', 'speaker': 'Leonard'}\n"
     ]
    }
   ],
   "source": [
    "instance = data[(1,1)]\n",
    "scene = instance[0]\n",
    "for x in scene:\n",
    "    print(x)"
   ],
   "metadata": {
    "collapsed": false,
    "pycharm": {
     "name": "#%%\n"
    }
   }
  },
  {
   "cell_type": "code",
   "execution_count": null,
   "outputs": [],
   "source": [],
   "metadata": {
    "collapsed": false,
    "pycharm": {
     "name": "#%%\n"
    }
   }
  }
 ],
 "metadata": {
  "kernelspec": {
   "display_name": "Python 3",
   "language": "python",
   "name": "python3"
  },
  "language_info": {
   "codemirror_mode": {
    "name": "ipython",
    "version": 2
   },
   "file_extension": ".py",
   "mimetype": "text/x-python",
   "name": "python",
   "nbconvert_exporter": "python",
   "pygments_lexer": "ipython2",
   "version": "2.7.6"
  }
 },
 "nbformat": 4,
 "nbformat_minor": 0
}