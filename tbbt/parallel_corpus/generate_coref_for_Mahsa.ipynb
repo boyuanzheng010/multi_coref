{
 "cells": [
  {
   "cell_type": "code",
   "execution_count": null,
   "metadata": {
    "collapsed": true
   },
   "outputs": [],
   "source": []
  },
  {
   "cell_type": "code",
   "execution_count": 1,
   "outputs": [],
   "source": [
    "import pickle as pkl\n",
    "import spacy\n",
    "import csv\n",
    "import json\n",
    "from copy import deepcopy\n",
    "from tqdm import tqdm"
   ],
   "metadata": {
    "collapsed": false,
    "pycharm": {
     "name": "#%%\n"
    }
   }
  },
  {
   "cell_type": "code",
   "execution_count": 5,
   "outputs": [],
   "source": [
    "with open('tbbt_en_zh.pkl', 'rb') as f_zh:\n",
    "    with open('tbbt_en_fa.pkl', 'rb') as f_fa:\n",
    "        zh_source = pkl.load(f_zh)\n",
    "        fa_source = pkl.load(f_fa)\n",
    "        inter_keys = set(zh_source.keys()) & set(fa_source.keys())"
   ],
   "metadata": {
    "collapsed": false,
    "pycharm": {
     "name": "#%%\n"
    }
   }
  },
  {
   "cell_type": "code",
   "execution_count": 42,
   "outputs": [],
   "source": [
    "en_zh = []\n",
    "\n",
    "for epi_key in inter_keys:\n",
    "    scenes = zh_source[epi_key]\n",
    "    for scene in scenes:\n",
    "        for utt in scene:\n",
    "            if \"en_subtitles\" not in utt:\n",
    "                continue\n",
    "            for x, y in zip(utt['en_subtitles'], utt['zh_subtitles']):\n",
    "                en_zh.append({\n",
    "                    'en_subtitle': x,\n",
    "                    'zh_subtitle': y\n",
    "                })"
   ],
   "metadata": {
    "collapsed": false,
    "pycharm": {
     "name": "#%%\n"
    }
   }
  },
  {
   "cell_type": "code",
   "execution_count": 43,
   "outputs": [],
   "source": [
    "en_fa = []\n",
    "\n",
    "for epi_key in inter_keys:\n",
    "    scenes = fa_source[epi_key]\n",
    "    for scene in scenes:\n",
    "        for utt in scene:\n",
    "            if \"en_subtitles\" not in utt:\n",
    "                continue\n",
    "            for x, y in zip(utt['en_subtitles'], utt['zh_subtitles']):\n",
    "                en_fa.append({\n",
    "                    'en_subtitle': x,\n",
    "                    'fa_subtitle': y\n",
    "                })"
   ],
   "metadata": {
    "collapsed": false,
    "pycharm": {
     "name": "#%%\n"
    }
   }
  },
  {
   "cell_type": "code",
   "execution_count": 44,
   "outputs": [
    {
     "name": "stdout",
     "output_type": "stream",
     "text": [
      "25335 27919\n"
     ]
    }
   ],
   "source": [
    "print(len(en_zh), len(en_fa))"
   ],
   "metadata": {
    "collapsed": false,
    "pycharm": {
     "name": "#%%\n"
    }
   }
  },
  {
   "cell_type": "code",
   "execution_count": 45,
   "outputs": [],
   "source": [
    "with open('subtitles_en_zh.json', 'w') as f:\n",
    "    json.dump(en_zh, f)"
   ],
   "metadata": {
    "collapsed": false,
    "pycharm": {
     "name": "#%%\n"
    }
   }
  },
  {
   "cell_type": "code",
   "execution_count": 46,
   "outputs": [],
   "source": [
    "with open('subtitles_en_fa.json', 'w') as f:\n",
    "    json.dump(en_fa, f)"
   ],
   "metadata": {
    "collapsed": false,
    "pycharm": {
     "name": "#%%\n"
    }
   }
  },
  {
   "cell_type": "code",
   "execution_count": 47,
   "outputs": [
    {
     "name": "stdout",
     "output_type": "stream",
     "text": [
      "25335\n",
      "{'en_subtitle': 'So are you really not gonna do this movie?', 'zh_subtitle': '你真的不演这部电影了?'}\n",
      "{'en_subtitle': \"Well, I don't think it's the kind of part that's good for my career.\", 'zh_subtitle': '我觉得这种电影 对我的前途没啥帮助'}\n",
      "{'en_subtitle': \"Well, but don't a lot of famous actors get their start doing bad movies?\", 'zh_subtitle': '不是有很多著名演员 都是演烂电影起家的吗?'}\n",
      "{'en_subtitle': \"Okay, I don't think Meryl Streep ever had to say...\", 'zh_subtitle': '我可不认为梅姨会被逼着 说这样的台词'}\n",
      "{'en_subtitle': '\"Must keep gorilla hands from killing again!\"', 'zh_subtitle': '\"可不能让这猩猩怪手再去杀人了!\"'}\n",
      "{'en_subtitle': 'If she did, it would be amazing.', 'zh_subtitle': '要是她真演了 那一定是极好的'}\n",
      "{'en_subtitle': 'That woman can do no wrong.', 'zh_subtitle': '她演的角色肯定差不了'}\n",
      "{'en_subtitle': \"I-I don't know anything about show business, so if you think it's reasonable to turn down paid work and just burn through your savings, I'm sure you know what you're doing.\", 'zh_subtitle': '我对演艺圈一点都不了解 如果你觉得不接有钱赚的活儿 干在家吃老本是很正常的话 那你肯定是考虑过的'}\n",
      "{'en_subtitle': 'Are you sure?', 'zh_subtitle': '你确定吗?'}\n",
      "{'en_subtitle': 'We were making fun of failed careers.', 'zh_subtitle': '咱们可是在吐槽别人糟糕的事业呢'}\n",
      "{'en_subtitle': \"We didn't get to tap the juicy vein that is Howard's.\", 'zh_subtitle': '咱还没吐槽到Howard这个大悲剧呢'}\n",
      "{'en_subtitle': 'Hey, I work at the same university you do.', 'zh_subtitle': '嘿 咱俩可是在同一所大学工作'}\n",
      "{'en_subtitle': 'Yes, and Hawkeye\\'s in the Avengers, but no one ever says, \"Help, Hawkeye!\"', 'zh_subtitle': '是这样没错 鹰眼还算复仇者呢 但也没有人说过 \"快救我啊! 鹰眼!\"'}\n",
      "{'en_subtitle': 'Can I ask you something?', 'zh_subtitle': '我能问你点儿事吗?'}\n",
      "{'en_subtitle': 'Why do you constantly feel the need to put down my husband?', 'zh_subtitle': '你为什么总是 想方设法地挖苦我丈夫呢?'}\n",
      "{'en_subtitle': \"Oh, I'm sure he does it out of love.\", 'zh_subtitle': '我肯定那是出于关爱'}\n",
      "{'en_subtitle': 'The same way my boyfriend makes me feel terrible about my life choices.', 'zh_subtitle': '就像我男朋友拿我的人生抉择 来责备我一样'}\n",
      "{'en_subtitle': \"I think we're gonna go.\", 'zh_subtitle': '咱们还是先闪人吧'}\n",
      "{'en_subtitle': 'No, no, no. This is not a fight.', 'zh_subtitle': '别别别 这可不是吵架'}\n",
      "{'en_subtitle': \"I-I was just excited that someone offered you a part and a little surprised that you'd rather sit at home and do nothing than take it.\", 'zh_subtitle': '我很高兴有人找你去演戏 但却对你宁愿家里蹲 也不去演戏的行为感到惊讶'}\n"
     ]
    }
   ],
   "source": [
    "with open('subtitles_en_zh.json', 'r') as f:\n",
    "    data = json.load(f)\n",
    "    print(len(data))\n",
    "    for item in data[:20]:\n",
    "        print(item)"
   ],
   "metadata": {
    "collapsed": false,
    "pycharm": {
     "name": "#%%\n"
    }
   }
  },
  {
   "cell_type": "code",
   "execution_count": null,
   "outputs": [],
   "source": [],
   "metadata": {
    "collapsed": false,
    "pycharm": {
     "name": "#%%\n"
    }
   }
  }
 ],
 "metadata": {
  "kernelspec": {
   "display_name": "Python 3",
   "language": "python",
   "name": "python3"
  },
  "language_info": {
   "codemirror_mode": {
    "name": "ipython",
    "version": 2
   },
   "file_extension": ".py",
   "mimetype": "text/x-python",
   "name": "python",
   "nbconvert_exporter": "python",
   "pygments_lexer": "ipython2",
   "version": "2.7.6"
  }
 },
 "nbformat": 4,
 "nbformat_minor": 0
}