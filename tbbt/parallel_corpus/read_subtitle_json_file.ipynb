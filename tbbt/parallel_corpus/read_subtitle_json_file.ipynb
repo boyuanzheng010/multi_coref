{
 "cells": [
  {
   "cell_type": "code",
   "execution_count": 1,
   "metadata": {
    "collapsed": true
   },
   "outputs": [],
   "source": [
    "import json"
   ]
  },
  {
   "cell_type": "markdown",
   "source": [
    "## Check En_Fa"
   ],
   "metadata": {
    "collapsed": false,
    "pycharm": {
     "name": "#%% md\n"
    }
   }
  },
  {
   "cell_type": "code",
   "execution_count": 2,
   "outputs": [
    {
     "name": "stdout",
     "output_type": "stream",
     "text": [
      "Subtitle Number: 27919\n"
     ]
    }
   ],
   "source": [
    "with open('subtitles_en_fa.json', 'r') as f:\n",
    "    en_fa = json.load(f)\n",
    "    print(\"Subtitle Number:\", len(en_fa))"
   ],
   "metadata": {
    "collapsed": false,
    "pycharm": {
     "name": "#%%\n"
    }
   }
  },
  {
   "cell_type": "code",
   "execution_count": 3,
   "outputs": [
    {
     "name": "stdout",
     "output_type": "stream",
     "text": [
      "{'en_subtitle': 'So are you really not gonna do this movie?', 'fa_subtitle': 'پس يعني واقعا نميخواي اين فيلم رو بازي کني؟'}\n",
      "{'en_subtitle': \"Well, I don't think it's the kind of part that's good for my career.\", 'fa_subtitle': 'خب فکر نميکنم اين نقشي باشه که به درد سابقه بازيگريم بخوره'}\n",
      "{'en_subtitle': \"Well, but don't a lot of famous actors get their start doing bad movies?\", 'fa_subtitle': 'اما مگه بيشتر بازيگرهاي معروف با نقش هاي بد شروع نکردن؟'}\n",
      "{'en_subtitle': \"Okay, I don't think Meryl Streep ever had to say...\", 'fa_subtitle': 'نخير، فکر نميکنم مثلا \"مريل استريپ\" هيچ وقت مجبور شده باشه بگه'}\n",
      "{'en_subtitle': '\"Must keep gorilla hands from killing again!\"', 'fa_subtitle': 'نبايد بذارم دست هاي گوريليم\" \"دوباره کسي رو بُکشه'}\n",
      "{'en_subtitle': 'If she did, it would be amazing.', 'fa_subtitle': 'اگه اينکارو بکني شاهکار ميشه'}\n",
      "{'en_subtitle': 'That woman can do no wrong.', 'fa_subtitle': 'بدون نقص بازيش ميکني'}\n",
      "{'en_subtitle': \"I-I don't know anything about show business, so if you think it's reasonable to turn down paid work and just burn through your savings,\", 'fa_subtitle': 'من چيزي در مورد حرفه بازيگري نميدونم پس اگه فکر ميکني دليل منطقي هست که کاري بهت پول ميدن رو بپيچوني و پس اندازت رو تموم کني'}\n",
      "{'en_subtitle': \"I'm sure you know what you're doing.\", 'fa_subtitle': 'حتما ميدوني داري چيکار ميکني'}\n",
      "{'en_subtitle': 'We were making fun of failed careers.', 'fa_subtitle': 'داريم به شغل هاي ناموفق ميخنديم'}\n"
     ]
    }
   ],
   "source": [
    "for item in en_fa[:10]:\n",
    "    print(item)"
   ],
   "metadata": {
    "collapsed": false,
    "pycharm": {
     "name": "#%%\n"
    }
   }
  },
  {
   "cell_type": "markdown",
   "source": [
    "## Check En-ZH"
   ],
   "metadata": {
    "collapsed": false,
    "pycharm": {
     "name": "#%% md\n"
    }
   }
  },
  {
   "cell_type": "code",
   "execution_count": 4,
   "outputs": [
    {
     "name": "stdout",
     "output_type": "stream",
     "text": [
      "Subtitle Number: 25335\n"
     ]
    }
   ],
   "source": [
    "with open('subtitles_en_zh.json', 'r') as f:\n",
    "    en_zh = json.load(f)\n",
    "    print(\"Subtitle Number:\", len(en_zh))"
   ],
   "metadata": {
    "collapsed": false,
    "pycharm": {
     "name": "#%%\n"
    }
   }
  },
  {
   "cell_type": "code",
   "execution_count": 5,
   "outputs": [
    {
     "name": "stdout",
     "output_type": "stream",
     "text": [
      "{'en_subtitle': 'So are you really not gonna do this movie?', 'zh_subtitle': '你真的不演这部电影了?'}\n",
      "{'en_subtitle': \"Well, I don't think it's the kind of part that's good for my career.\", 'zh_subtitle': '我觉得这种电影 对我的前途没啥帮助'}\n",
      "{'en_subtitle': \"Well, but don't a lot of famous actors get their start doing bad movies?\", 'zh_subtitle': '不是有很多著名演员 都是演烂电影起家的吗?'}\n",
      "{'en_subtitle': \"Okay, I don't think Meryl Streep ever had to say...\", 'zh_subtitle': '我可不认为梅姨会被逼着 说这样的台词'}\n",
      "{'en_subtitle': '\"Must keep gorilla hands from killing again!\"', 'zh_subtitle': '\"可不能让这猩猩怪手再去杀人了!\"'}\n",
      "{'en_subtitle': 'If she did, it would be amazing.', 'zh_subtitle': '要是她真演了 那一定是极好的'}\n",
      "{'en_subtitle': 'That woman can do no wrong.', 'zh_subtitle': '她演的角色肯定差不了'}\n",
      "{'en_subtitle': \"I-I don't know anything about show business, so if you think it's reasonable to turn down paid work and just burn through your savings, I'm sure you know what you're doing.\", 'zh_subtitle': '我对演艺圈一点都不了解 如果你觉得不接有钱赚的活儿 干在家吃老本是很正常的话 那你肯定是考虑过的'}\n",
      "{'en_subtitle': 'Are you sure?', 'zh_subtitle': '你确定吗?'}\n",
      "{'en_subtitle': 'We were making fun of failed careers.', 'zh_subtitle': '咱们可是在吐槽别人糟糕的事业呢'}\n"
     ]
    }
   ],
   "source": [
    "for item in en_zh[:10]:\n",
    "    print(item)"
   ],
   "metadata": {
    "collapsed": false,
    "pycharm": {
     "name": "#%%\n"
    }
   }
  },
  {
   "cell_type": "code",
   "execution_count": null,
   "outputs": [],
   "source": [],
   "metadata": {
    "collapsed": false,
    "pycharm": {
     "name": "#%%\n"
    }
   }
  }
 ],
 "metadata": {
  "kernelspec": {
   "display_name": "Python 3",
   "language": "python",
   "name": "python3"
  },
  "language_info": {
   "codemirror_mode": {
    "name": "ipython",
    "version": 2
   },
   "file_extension": ".py",
   "mimetype": "text/x-python",
   "name": "python",
   "nbconvert_exporter": "python",
   "pygments_lexer": "ipython2",
   "version": "2.7.6"
  }
 },
 "nbformat": 4,
 "nbformat_minor": 0
}