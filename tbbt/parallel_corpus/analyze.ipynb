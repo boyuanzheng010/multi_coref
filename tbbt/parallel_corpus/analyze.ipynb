{
 "cells": [
  {
   "cell_type": "code",
   "execution_count": 34,
   "metadata": {
    "collapsed": true
   },
   "outputs": [],
   "source": [
    "import pickle as pkl\n",
    "from nltk import sent_tokenize, word_tokenize\n",
    "from tqdm import tqdm"
   ]
  },
  {
   "cell_type": "code",
   "execution_count": 7,
   "outputs": [
    {
     "name": "stdout",
     "output_type": "stream",
     "text": [
      "EN-FA Episode Number: 102\n",
      "EN-ZH Episode Number: 193\n",
      "Intersection Episode Number: 96\n"
     ]
    }
   ],
   "source": [
    "# Load Data\n",
    "with open('tbbt_en_fa.pkl', 'rb') as f:\n",
    "    tbbt_en_fa = pkl.load(f)\n",
    "\n",
    "with open('tbbt_en_zh.pkl', 'rb') as f:\n",
    "    tbbt_en_zh = pkl.load(f)\n",
    "\n",
    "intersection_keys = list(set(tbbt_en_zh.keys()) & set(tbbt_en_fa.keys()))\n",
    "\n",
    "print(\"EN-FA Episode Number:\", len(tbbt_en_fa))\n",
    "print(\"EN-ZH Episode Number:\", len(tbbt_en_zh))\n",
    "print(\"Intersection Episode Number:\", len(intersection_keys))"
   ],
   "metadata": {
    "collapsed": false,
    "pycharm": {
     "name": "#%%\n"
    }
   }
  },
  {
   "cell_type": "code",
   "execution_count": 22,
   "outputs": [],
   "source": [
    "def get_statistics_one_episode(episode):\n",
    "    utt_count = 0\n",
    "    sent_count = 0\n",
    "    scene_count = 0\n",
    "\n",
    "    scene_count += len(episode)\n",
    "\n",
    "    for scene in episode:\n",
    "        utt_count += len(scene)\n",
    "        for item in scene:\n",
    "            sent_count += len(sent_tokenize(item['utterance']))\n",
    "\n",
    "    return utt_count, sent_count, scene_count"
   ],
   "metadata": {
    "collapsed": false,
    "pycharm": {
     "name": "#%%\n"
    }
   }
  },
  {
   "cell_type": "code",
   "execution_count": 25,
   "outputs": [],
   "source": [
    "utt_count=0\n",
    "sent_count=0\n",
    "scene_count = 0\n",
    "\n",
    "for epi_key in intersection_keys:\n",
    "    episode = tbbt_en_zh[epi_key]\n",
    "    a, b, c = get_statistics_one_episode(episode)\n",
    "    utt_count += a\n",
    "    sent_count += b\n",
    "    scene_count += c"
   ],
   "metadata": {
    "collapsed": false,
    "pycharm": {
     "name": "#%%\n"
    }
   }
  },
  {
   "cell_type": "code",
   "execution_count": 28,
   "outputs": [
    {
     "name": "stdout",
     "output_type": "stream",
     "text": [
      "20517\n",
      "33363\n",
      "1070\n"
     ]
    }
   ],
   "source": [
    "print(utt_count)\n",
    "print(sent_count)\n",
    "print(scene_count)"
   ],
   "metadata": {
    "collapsed": false,
    "pycharm": {
     "name": "#%%\n"
    }
   }
  },
  {
   "cell_type": "code",
   "execution_count": null,
   "outputs": [],
   "source": [],
   "metadata": {
    "collapsed": false,
    "pycharm": {
     "name": "#%%\n"
    }
   }
  },
  {
   "cell_type": "code",
   "execution_count": null,
   "outputs": [],
   "source": [],
   "metadata": {
    "collapsed": false,
    "pycharm": {
     "name": "#%%\n"
    }
   }
  },
  {
   "cell_type": "code",
   "execution_count": null,
   "outputs": [],
   "source": [],
   "metadata": {
    "collapsed": false,
    "pycharm": {
     "name": "#%%\n"
    }
   }
  },
  {
   "cell_type": "code",
   "execution_count": null,
   "outputs": [],
   "source": [],
   "metadata": {
    "collapsed": false,
    "pycharm": {
     "name": "#%%\n"
    }
   }
  },
  {
   "cell_type": "markdown",
   "source": [
    "## Analyze Open Subtitle Corpus Statistics"
   ],
   "metadata": {
    "collapsed": false,
    "pycharm": {
     "name": "#%% md\n"
    }
   }
  },
  {
   "cell_type": "code",
   "execution_count": 29,
   "outputs": [],
   "source": [
    "with open('../../open_subtitle/en_zh/en_subtitles.pkl', 'rb') as f:\n",
    "    zh_subtitle = pkl.load(f)\n",
    "with open('../../open_subtitle/en_fa/en_subtitles.pkl', 'rb') as f:\n",
    "    fa_subtitle = pkl.load(f)"
   ],
   "metadata": {
    "collapsed": false,
    "pycharm": {
     "name": "#%%\n"
    }
   }
  },
  {
   "cell_type": "code",
   "execution_count": 38,
   "outputs": [
    {
     "name": "stdout",
     "output_type": "stream",
     "text": [
      "['Ah, this is greasy.', 'I want to eat kimchee.']\n"
     ]
    }
   ],
   "source": [
    "print(sent_tokenize(zh_subtitle[0]))"
   ],
   "metadata": {
    "collapsed": false,
    "pycharm": {
     "name": "#%%\n"
    }
   }
  },
  {
   "cell_type": "code",
   "execution_count": 46,
   "outputs": [
    {
     "name": "stdout",
     "output_type": "stream",
     "text": [
      "['A young, pious woman, confronted by a group of orthodox theologians and powerful judges.']\n"
     ]
    }
   ],
   "source": [
    "print(sent_tokenize(fa_subtitle[7]))"
   ],
   "metadata": {
    "collapsed": false,
    "pycharm": {
     "name": "#%%\n"
    }
   }
  },
  {
   "cell_type": "code",
   "execution_count": 36,
   "outputs": [
    {
     "name": "stderr",
     "output_type": "stream",
     "text": [
      "100%|██████████| 9969005/9969005 [02:18<00:00, 72080.55it/s]"
     ]
    },
    {
     "name": "stdout",
     "output_type": "stream",
     "text": [
      "11458463\n"
     ]
    },
    {
     "name": "stderr",
     "output_type": "stream",
     "text": [
      "\n"
     ]
    }
   ],
   "source": [
    "sent_count = 0\n",
    "for sent in tqdm(zh_subtitle):\n",
    "    sent_count += len(sent_tokenize(sent))\n",
    "print(sent_count)"
   ],
   "metadata": {
    "collapsed": false,
    "pycharm": {
     "name": "#%%\n"
    }
   }
  },
  {
   "cell_type": "code",
   "execution_count": 37,
   "outputs": [
    {
     "name": "stderr",
     "output_type": "stream",
     "text": [
      "100%|██████████| 5458435/5458435 [01:13<00:00, 73766.78it/s]"
     ]
    },
    {
     "name": "stdout",
     "output_type": "stream",
     "text": [
      "17601540\n"
     ]
    },
    {
     "name": "stderr",
     "output_type": "stream",
     "text": [
      "\n"
     ]
    }
   ],
   "source": [
    "sent_count_fa = 0\n",
    "for sent in tqdm(fa_subtitle):\n",
    "    sent_count_fa += len(sent_tokenize(sent))\n",
    "print(sent_count_fa)"
   ],
   "metadata": {
    "collapsed": false,
    "pycharm": {
     "name": "#%%\n"
    }
   }
  },
  {
   "cell_type": "code",
   "execution_count": 47,
   "outputs": [
    {
     "data": {
      "text/plain": "6143077"
     },
     "execution_count": 47,
     "metadata": {},
     "output_type": "execute_result"
    }
   ],
   "source": [
    "17601540-11458463"
   ],
   "metadata": {
    "collapsed": false,
    "pycharm": {
     "name": "#%%\n"
    }
   }
  },
  {
   "cell_type": "code",
   "execution_count": null,
   "outputs": [],
   "source": [],
   "metadata": {
    "collapsed": false,
    "pycharm": {
     "name": "#%%\n"
    }
   }
  },
  {
   "cell_type": "code",
   "execution_count": null,
   "outputs": [],
   "source": [],
   "metadata": {
    "collapsed": false,
    "pycharm": {
     "name": "#%%\n"
    }
   }
  }
 ],
 "metadata": {
  "kernelspec": {
   "display_name": "Python 3",
   "language": "python",
   "name": "python3"
  },
  "language_info": {
   "codemirror_mode": {
    "name": "ipython",
    "version": 2
   },
   "file_extension": ".py",
   "mimetype": "text/x-python",
   "name": "python",
   "nbconvert_exporter": "python",
   "pygments_lexer": "ipython2",
   "version": "2.7.6"
  }
 },
 "nbformat": 4,
 "nbformat_minor": 0
}