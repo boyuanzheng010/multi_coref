{
 "cells": [
  {
   "cell_type": "code",
   "execution_count": 107,
   "metadata": {
    "collapsed": true
   },
   "outputs": [],
   "source": [
    "import pickle as pkl\n",
    "import spacy\n",
    "import stanza\n",
    "import csv\n",
    "import json\n",
    "from copy import deepcopy"
   ]
  },
  {
   "cell_type": "code",
   "execution_count": 2,
   "outputs": [],
   "source": [
    "with open('tbbt_en_zh.pkl', 'rb') as f:\n",
    "    data = pkl.load(f)"
   ],
   "metadata": {
    "collapsed": false,
    "pycharm": {
     "name": "#%%\n"
    }
   }
  },
  {
   "cell_type": "code",
   "execution_count": 3,
   "outputs": [
    {
     "name": "stdout",
     "output_type": "stream",
     "text": [
      "[{'utterance': ' So if a photon is directed through a plane with two slits in it and either slit is observed it will not go through both slits. If it’s unobserved it will, however, if it’s observed after it’s left the plane but before it hits its target, it will not have gone through both slits.', 'speaker': 'Sheldon', 'en_subtitles': ['If a photon is directed through a plane with two slits in it and either is observed it will not go through both.', 'If unobserved, it will.', \"If it's observed after it left the plane, before it hits its target...\", '- ...it will not have gone through both slits.'], 'zh_subtitles': ['将光子正对平面上的双缝 观察任意一个隙缝 它不会穿过那两个隙缝', '如果没被观察 那就会', '总之 如果观察它在离开平面到击中目标之前', '它就不会穿过那两个隙缝']}, {'utterance': ' Agreed, what’s your point?', 'speaker': 'Leonard', 'en_subtitles': [\"- Agreed. What's your point?\"], 'zh_subtitles': ['没错 但你为什么要说这个?']}, {'utterance': ' There’s no point, I just think it’s a good idea for a tee-shirt. ', 'speaker': 'Sheldon', 'en_subtitles': [\"There's no point, I just think it's a good idea for a T-shirt.\"], 'zh_subtitles': ['没什么 我只是觉得这个主意 可以用于设计T恤衫']}, {'utterance': ' Excuse me?', 'speaker': 'Leonard'}, {'utterance': ' Hang on. ', 'speaker': 'Receptionist'}, {'utterance': ' One across is Aegean, eight down is Nabakov, twenty-six across is MCM, fourteen down is… move your finger… phylum, which makes fourteen across Port-au-Prince. See, Papa Doc’s capital idea, that’s Port-au-Prince. Haiti. ', 'speaker': 'Leonard', 'en_subtitles': ['One across is Aegean, eight down is Nabokov.', 'Twenty-six across is MCM.', 'Fourteen down is... Move your finger.', '...phylum, which makes 14 across Port-Au-Prince.', \"See, Papa Doc's capital idea, that's Port-Au-Prince.\", 'Haiti.'], 'zh_subtitles': ['横1是Aegean (爱情海)', '竖8是Nabokov (小说洛丽塔的作者) 横26是MCM', '竖14是...', '手指挪开点 Phylum (生物门类) 这样一来横14就是Port -au', '瞧 提示是\"Papa doc的首都\" (海地前总统) 所以是太子港', '海地的']}, {'utterance': ' Can I help you?', 'speaker': 'Receptionist', 'en_subtitles': ['- Can I help you? - Yes.'], 'zh_subtitles': ['- 能为你效劳吗?']}, {'utterance': ' Yes. Um, is this the High IQ sperm bank?', 'speaker': 'Leonard', 'en_subtitles': ['Um, is this the high-IQ sperm bank?'], 'zh_subtitles': ['这里是高智商精子银行吗?']}, {'utterance': ' If you have to ask, maybe you shouldn’t be here.', 'speaker': 'Receptionist', 'en_subtitles': [\"If you have to ask, maybe you shouldn't be here.\"], 'zh_subtitles': ['如果你这么问 也许你不该来这']}, {'utterance': ' I think this is the place.', 'speaker': 'Sheldon', 'en_subtitles': ['I think this is the place.'], 'zh_subtitles': ['我想就是这没错了']}, {'utterance': ' Fill these out.', 'speaker': 'Receptionist', 'en_subtitles': ['- Fill these out. - Thank you.'], 'zh_subtitles': ['- 把这个填一填']}, {'utterance': ' Thank-you. We’ll be right back.', 'speaker': 'Leonard', 'en_subtitles': [\"- We'll be right back.\"], 'zh_subtitles': ['- 谢谢 我们马上好']}, {'utterance': ' Oh, take your time. I’ll just finish my crossword puzzle. Oh wait.', 'speaker': 'Receptionist', 'en_subtitles': [\"- Oh, take your time. I'll just finish my crossword puzzle.\", 'Oh, wait.'], 'zh_subtitles': ['慢慢来 我还要玩填字游戏', '噢 慢着']}, {'utterance': ' Leonard, I don’t think I can do this.', 'speaker': 'Sheldon', 'en_subtitles': [\"Leonard, I don't think I can do this.\"], 'zh_subtitles': ['Leonard 我办不到']}, {'utterance': ' What, are you kidding? You’re a semi-pro. ', 'speaker': 'Leonard', 'en_subtitles': ['What, are you kidding?'], 'zh_subtitles': ['开玩笑? 你可是半职业人士']}, {'utterance': ' No. We are committing genetic fraud. There’s no guarantee that our sperm is going to generate high IQ offspring, think about that. I have a sister with the same basic DNA mix who hostesses at Fuddruckers.', 'speaker': 'Sheldon', 'en_subtitles': ['We are committing genetic fraud.', \"There's no guarantee our sperm's going to generate high-IQ offspring. Think about that.\", 'I have a sister with the same basic DNA mix who hostesses at Fuddruckers.'], 'zh_subtitles': ['不 我们这样是诈骗', '我们没法保证 生出来的一定是高智商小孩', '我姐姐跟我有一套相同的基本基因 她却在Fuddrucker餐厅当服务生']}, {'utterance': ' Sheldon, this was your idea. A little extra money to get fractional T1 bandwidth in the apartment.', 'speaker': 'Leonard', 'en_subtitles': ['Sheldon, this was your idea.', 'A little extra money to get fractional T1 bandwidth in the apartment?'], 'zh_subtitles': ['Sheldon 这可是你的主意啊', '轻松赚点钱 就有钱能升级我们的网络带宽']}, {'utterance': ' I know, and I do yearn for faster downloads, but there’s some poor woman is going to pin her hopes on my sperm, what if she winds up with a toddler who doesn’t know if he should use an integral or a differential to solve the area under a curve.', 'speaker': 'Sheldon', 'en_subtitles': ['I know. And I do yearn for faster downloads.', \"There's some poor woman who's gonna pin her hopes on my sperm.\", \"What if she winds up with a toddler who doesn't know if he should use a differential to solve for the area under a curve?\"], 'zh_subtitles': ['我知道 我确实很渴望高速下载', '但一些可怜的女人 会把希望寄托在我的精子上', '万一生出来一个 连曲线下部的面积用积分还是微分算 都搞不清楚的小屁孩怎么办?']}, {'utterance': ' I’m sure she’ll still love him.', 'speaker': 'Leonard', 'en_subtitles': [\"- I'm sure she'll still love him.\"], 'zh_subtitles': ['我想她还是会爱那个宝宝的']}, {'utterance': ' I wouldn’t.', 'speaker': 'Sheldon', 'en_subtitles': [\"- I wouldn't.\"], 'zh_subtitles': ['我不会']}, {'utterance': ' Well, what do you want to do?', 'speaker': 'Leonard', 'en_subtitles': ['Well, what do you wanna do?'], 'zh_subtitles': ['你想要怎样?']}, {'utterance': ' I want to leave.', 'speaker': 'Sheldon', 'en_subtitles': ['- I want to leave.'], 'zh_subtitles': ['- 我想要走']}, {'utterance': ' What’s the protocol for leaving?', 'speaker': 'Sheldon', 'en_subtitles': [\"- What's the protocol for leaving? - I don't know.\"], 'zh_subtitles': ['离开时要怎么说呢?']}, {'utterance': ' I don’t know, I’ve never reneged on a proffer of sperm before.', 'speaker': 'Leonard', 'en_subtitles': [\"I've never reneged on a proffer of sperm before.\"], 'zh_subtitles': ['我不知道 我可从没有拒绝过提供精子的要求']}, {'utterance': ' Let’s try just walking out.', 'speaker': 'Sheldon', 'en_subtitles': [\"Let's try just walking out.\"], 'zh_subtitles': ['我们就直接走出去吧']}, {'utterance': ' Okay.', 'speaker': 'Leonard'}, {'utterance': ' Bye-bye', 'speaker': 'Sheldon'}, {'utterance': ' See you.', 'speaker': 'Leonard'}]\n",
      "[{'utterance': ' Are you still mad about the sperm bank?', 'speaker': 'Sheldon', 'en_subtitles': ['- Are you still mad about the sperm bank?'], 'zh_subtitles': ['你还在为精子银行的事生气吗? 没有']}, {'utterance': ' No.', 'speaker': 'Leonard'}, {'utterance': ' You want to hear an interesting thing about stairs?', 'speaker': 'Sheldon', 'en_subtitles': ['You wanna hear an interesting thing about stairs?'], 'zh_subtitles': ['你想听一件关于楼梯的趣事吗?']}, {'utterance': ' Not really.', 'speaker': 'Leonard', 'en_subtitles': ['Not really.'], 'zh_subtitles': ['不是很想']}, {'utterance': ' If the height of a single step is off by as little as two millimetres, most people will trip.', 'speaker': 'Sheldon', 'en_subtitles': ['If the height of a step is off by as little as two millimeters... - ...most people will trip.'], 'zh_subtitles': ['如果一阶楼梯比普通的矮个2毫米 大部分人都会绊倒']}, {'utterance': ' I don’t care. Two millimetres? That doesn’t seem right.', 'speaker': 'Leonard', 'en_subtitles': [\"- I don't care.\", \"Two millime...? That doesn't seem right.\"], 'zh_subtitles': ['不关我事', '2毫米?']}, {'utterance': ' No, it’s true, I did a series of experiments when I was twelve, my father broke his clavicle.', 'speaker': 'Sheldon', 'en_subtitles': ['I did a series of experiments when I was 12.', 'My father broke his clavicle.'], 'zh_subtitles': ['是真的 我12岁时做了一系列的实验', '我爸爸因此还跌断了锁骨']}, {'utterance': ' Is that why they sent you to boarding school?', 'speaker': 'Leonard', 'en_subtitles': ['Is that why they sent you to boarding school? No.'], 'zh_subtitles': ['所以他们把你送去寄宿学校?']}, {'utterance': ' No, that was the result of my work with lasers.', 'speaker': 'Sheldon', 'en_subtitles': ['That was the result of my work with lasers.'], 'zh_subtitles': ['不 那是因为我研究激光惹的事']}, {'utterance': ' New neighbour?', 'speaker': 'Leonard'}, {'utterance': ' Evidently.', 'speaker': 'Sheldon'}, {'utterance': ' Significant improvement over the old neighbour.', 'speaker': 'Leonard', 'en_subtitles': ['Significant improvement over the old neighbor.'], 'zh_subtitles': ['比上一任有了明显可观的改善']}, {'utterance': ' Two hundred pound transvestite with a skin condition, yes she is.', 'speaker': 'Sheldon', 'en_subtitles': ['Two-hundred pound transvestite with a skin condition? Yes, she is.'], 'zh_subtitles': ['那个200磅重还患有皮肤病的异装癖?']}, {'utterance': ' Oh, hi!', 'speaker': 'Penny'}, {'utterance': ' Hi.', 'speaker': 'Leonard'}, {'utterance': ' Hi.', 'speaker': 'Sheldon'}, {'utterance': ' Hi?', 'speaker': 'Penny'}, {'utterance': ' We don’t mean to interrupt, we live across the hall.', 'speaker': 'Leonard', 'en_subtitles': [\"We don't mean to interrupt. We live across the hall.\"], 'zh_subtitles': ['我们不想打扰你 我们是住对面的邻居']}, {'utterance': ' Oh, that’s nice.', 'speaker': 'Penny', 'en_subtitles': [\"Oh, that's nice.\"], 'zh_subtitles': ['啊 太好了']}, {'utterance': ' Oh… uh… no… we don’t live together… um… we live together but in separate, heterosexual bedrooms.', 'speaker': 'Leonard', 'en_subtitles': [\"No. We don't live together.\", 'I mean we live together, but in separate, heterosexual bedrooms.'], 'zh_subtitles': ['噢不 我们不是同居', '我是说 虽然住在一起 但是在不同的... 直男房间里']}, {'utterance': ' Oh, okay, well, guess I’m your new neighbour, Penny.', 'speaker': 'Penny'}, {'utterance': ' Leonard, Sheldon.', 'speaker': 'Leonard'}, {'utterance': ' Hi.', 'speaker': 'Penny'}, {'utterance': ' Hi.', 'speaker': 'Leonard'}, {'utterance': ' Hi.', 'speaker': 'Sheldon'}, {'utterance': ' Hi. ', 'speaker': 'Penny'}, {'utterance': ' Hi. Well, uh, oh, welcome to the building.', 'speaker': 'Leonard', 'en_subtitles': ['Well... Oh, welcome to the building.'], 'zh_subtitles': ['欢迎你搬来']}, {'utterance': ' Thankyou, maybe we can have coffee sometime.', 'speaker': 'Penny'}, {'utterance': ' Oh, great.', 'speaker': 'Leonard'}, {'utterance': ' Great. ', 'speaker': 'Penny'}, {'utterance': ' Great.', 'speaker': 'Sheldon'}, {'utterance': ' Great. Well, bye.', 'speaker': 'Leonard'}, {'utterance': ' Bye.', 'speaker': 'Penny'}, {'utterance': ' Bye.', 'speaker': 'Sheldon'}, {'utterance': ' Bye. ', 'speaker': 'Leonard'}, {'utterance': ' Should we have invited her for lunch?', 'speaker': 'Leonard', 'en_subtitles': ['Should we have invited her for lunch? No.'], 'zh_subtitles': ['我们应该邀请她共进午餐吗?']}, {'utterance': ' No. We’re going to start Season Two of Battlestar Galactica.', 'speaker': 'Sheldon', 'en_subtitles': [\"We're gonna start season two of Battlestar Galactica.\"], 'zh_subtitles': ['不 我们要看Battlestar Galactica第二季 (太空堡垒卡拉狄加)']}, {'utterance': ' We already watched the Season Two DVDs.', 'speaker': 'Leonard', 'en_subtitles': ['We already watched the season two DVDs.'], 'zh_subtitles': ['我们已经看过第二季的DVD了']}, {'utterance': ' Not with commentary.', 'speaker': 'Sheldon', 'en_subtitles': ['Not with commentary.'], 'zh_subtitles': ['那时候没带评论音轨一起看啊']}, {'utterance': ' I think we should be good neighbours, invite her over, make her feel welcome.', 'speaker': 'Leonard', 'en_subtitles': ['I think we should be good neighbors. Invite her over, make her feel welcome.'], 'zh_subtitles': ['我们应该做好邻居 请她过来 让她感受到我们对她的欢迎']}, {'utterance': ' We never invited Louis-slash-Louise over.', 'speaker': 'Sheldon', 'en_subtitles': ['We never invited Louie/Louise over.'], 'zh_subtitles': ['我们从来没请那个Louis还不Louise过来啊']}, {'utterance': ' Well, then that was wrong of us. We need to widen our circle.', 'speaker': 'Leonard', 'en_subtitles': ['Well, and that was wrong of us.', 'We need to widen our circle.'], 'zh_subtitles': ['那是我们不对', '我们要扩大社交圈']}, {'utterance': ' I have a very wide circle. I have 212 friends on myspace. ', 'speaker': 'Sheldon', 'en_subtitles': ['I have a very wide circle.', 'I have 212 friends on MySpace.'], 'zh_subtitles': ['我的社交圈很广', '我在MySpace上有212个朋友']}, {'utterance': ' Yes, and you’ve never met one of them.', 'speaker': 'Leonard', 'en_subtitles': [\"Yes, and you've never met one of them.\"], 'zh_subtitles': ['是的 但你从没见过任何一个真人']}, {'utterance': ' That’s the beauty of it.', 'speaker': 'Sheldon', 'en_subtitles': [\"That's the beauty of it.\"], 'zh_subtitles': ['这正是它的美好之处']}, {'utterance': ' I’m going to invite her over. We’ll have a nice meal and chat.', 'speaker': 'Leonard', 'en_subtitles': [\"I'm gonna invite her over.\", \"We'll have a nice meal and chat.\"], 'zh_subtitles': ['我去请她过来', '我们好好吃一餐 闲聊一下']}, {'utterance': ' Chat? We don’t chat. At least not offline.', 'speaker': 'Sheldon', 'en_subtitles': [\"We don't chat, at least not off-line.\"], 'zh_subtitles': ['我们不闲聊 至少不线下闲聊']}, {'utterance': ' Well it’s not difficult, you just listen to what she says and then you say something appropriate in response.', 'speaker': 'Leonard', 'en_subtitles': [\"Well, it's not difficult.\", 'You just listen to what she says and then you say something appropriate in response.'], 'zh_subtitles': ['不会很难的 你就听她说', '然后给一些适当的回应就好了']}, {'utterance': ' To what end?', 'speaker': 'Sheldon', 'en_subtitles': ['To what end?'], 'zh_subtitles': ['直到什么时候?']}, {'utterance': ' Hi. Again.', 'speaker': 'Leonard'}, {'utterance': ' Hi.', 'speaker': 'Penny'}, {'utterance': ' Hi.', 'speaker': 'Sheldon'}, {'utterance': ' Hi.', 'speaker': 'Leonard'}, {'utterance': ' Hi. ', 'speaker': 'Penny'}, {'utterance': ' Anyway, um. We brought home Indian food. And, um. I know that moving can be stressful, and I find that when I’m undergoing stress, that good food and company can have a comforting effect. Also, curry is a natural laxative, and I don’t have to tell you that, uh, a clean colon is just one less thing to worry about.', 'speaker': 'Leonard', 'en_subtitles': [\"Anyway we brought home Indian food and I know that moving can be stressful and I find that when I'm undergoing stress that good food and company can have a comforting effect.\", \"Also, curry's a natural laxative and I don't have to tell you that, you know a clean colon is just one less thing to worry about.\"], 'zh_subtitles': ['我们买了些印度菜 那个... 我知道搬家会很累人', '此外 咖喱是天然的温和泻药 你也知道干净的结肠 会让你省去件烦心事']}, {'utterance': ' Leonard, I’m not expert here but I believe in the context of a luncheon invitation, you might want to skip the reference to bowel movements.', 'speaker': 'Sheldon', 'en_subtitles': [\"I'm no expert, but in the context of a lunch invitation you might wanna skip the reference to bowel movements.\"], 'zh_subtitles': ['Leonard 虽然我不是专家 但我相信当你邀请人吃午饭的时候 最好省略关于肠部运动的话题']}, {'utterance': ' Oh, you’re inviting me over to eat?', 'speaker': 'Penny', 'en_subtitles': [\"Oh, you're inviting me over to eat?\"], 'zh_subtitles': ['你们是在邀我一起吃饭?']}, {'utterance': ' Uh, yes.', 'speaker': 'Leonard'}, {'utterance': ' Oh, that’s so nice, I’d love to.', 'speaker': 'Penny', 'en_subtitles': [\"Oh, that's so nice. I'd love to.\"], 'zh_subtitles': ['真是太好了 我很愿意']}, {'utterance': ' Great.', 'speaker': 'Leonard'}, {'utterance': ' So, what do you guys do for fun around here?', 'speaker': 'Penny', 'en_subtitles': ['So, what do you guys do for fun around here?'], 'zh_subtitles': ['你们平时都玩什么呢?']}, {'utterance': ' Well, today we tried masturbating for money.', 'speaker': 'Sheldon', 'en_subtitles': ['Well, today we tried masturbating for money.'], 'zh_subtitles': ['今天我们尝试了靠手淫挣钱']}]\n",
      "[{'utterance': ' Okay, well, make yourself at home.', 'speaker': 'Leonard', 'en_subtitles': ['- Okay, well, make yourself at home.'], 'zh_subtitles': ['Tears 请随意']}, {'utterance': ' Okay, thankyou.', 'speaker': 'Penny'}, {'utterance': ' You’re very welcome.', 'speaker': 'Leonard'}, {'utterance': ' This looks like some serious stuff, Leonard, did you do this?', 'speaker': 'Penny', 'en_subtitles': ['This looks like some serious stuff. Leonard, did you do this?'], 'zh_subtitles': ['这些看起来好深奥啊 Leonard 这是你写的吗?']}, {'utterance': ' Actually that’s my work.', 'speaker': 'Sheldon', 'en_subtitles': [\"Actually, that's my work.\"], 'zh_subtitles': ['实际上 那些是我做的']}, {'utterance': ' Wow.', 'speaker': 'Penny'}, {'utterance': ' Yeah, well, it’s just some quantum mechanics, with a little string theory doodling around the edges. That part there, that’s just a joke, it’s a spoof of the Bourne-Oppenheimer approximation.', 'speaker': 'Sheldon', 'en_subtitles': [\"Yeah, well, it's just some quantum mechanics with a little string theory doodling around the edges.\", \"It's a spoof of the Born-Oppenheimer approximation.\"], 'zh_subtitles': ['就是些量子力学而已 边上我随便胡写了一点弦理论 那个部分 是开玩笑的', '是我乱改的伯恩 -奥本海默近似版']}, {'utterance': ' So you’re like, one of those, beautiful mind genius guys.', 'speaker': 'Penny', 'en_subtitles': [\"So you're, like, one of those Beautiful Mind genius guys.\"], 'zh_subtitles': ['看来你是\"美丽心灵\"那部电影 里面的那种天才人物啊']}, {'utterance': ' Yeah. ', 'speaker': 'Sheldon', 'en_subtitles': ['Yeah.'], 'zh_subtitles': ['可以这么说']}, {'utterance': ' This is really impressive.', 'speaker': 'Penny', 'en_subtitles': ['This is really impressive.'], 'zh_subtitles': ['好厉害啊']}, {'utterance': ' I have a board. If you like boards, this is my board.', 'speaker': 'Leonard', 'en_subtitles': ['I have a board, if you like boards. This is my board.'], 'zh_subtitles': ['我也有块纸板 如果你喜欢 这边是我的纸板']}, {'utterance': ' Holy smokes.', 'speaker': 'Penny'}, {'utterance': ' If by holy smokes you mean a derivative restatement of the kind of stuff you can find scribbled on the wall of any men’s room at MIT, sure.', 'speaker': 'Sheldon', 'en_subtitles': ['Holy smokes.', 'If by \"holy smokes,\" you mean a derivative restatement of the stuff you can find scribbled on the wall of any men\\'s room at MIT, sure.'], 'zh_subtitles': ['我的妈呀', '如果你说的\"我的妈呀\" 指的是在麻省理工大学 任何一个男生宿舍墙上都能看到的涂写 那我想是的']}, {'utterance': ' What?', 'speaker': 'Leonard'}, {'utterance': ' Oh, come on. Who hasn’t seen this differential below “here I sit broken hearted?”', 'speaker': 'Sheldon', 'en_subtitles': ['Who hasn\\'t seen this differential below \"here I sit brokenhearted\"?'], 'zh_subtitles': ['谁没见过\"我伤心地坐在这\" 下面的微分演算啊?']}, {'utterance': ' At least I didn’t have to invent twenty-six dimensions just to make the math come out.', 'speaker': 'Leonard', 'en_subtitles': [\"At least I didn't have to invent 26 dimensions just to make the math come out.\"], 'zh_subtitles': ['至少我不用自己发明26种量纲 才能让演算成立']}, {'utterance': ' I didn’t invent them, they’re there.', 'speaker': 'Sheldon', 'en_subtitles': [\"- I didn't invent them. They're there.\"], 'zh_subtitles': ['我没有发明它们 它们本来就是存在的']}, {'utterance': ' In what universe?', 'speaker': 'Leonard', 'en_subtitles': ['- In what universe?'], 'zh_subtitles': ['在哪个世界上存在啊?']}, {'utterance': ' In all of them, that is the point.', 'speaker': 'Sheldon', 'en_subtitles': ['In all of them, that is the point.'], 'zh_subtitles': ['所有的世界里都存在 这正是关键']}, {'utterance': ' Uh, do you guys mind if I start?', 'speaker': 'Penny', 'en_subtitles': ['Do you guys mind if I start?'], 'zh_subtitles': ['我可以开动了吗?']}, {'utterance': ' Um, Penny, that’s where I sit.', 'speaker': 'Sheldon'}, {'utterance': ' So, sit next to me. ', 'speaker': 'Penny', 'en_subtitles': ['So sit next to me.'], 'zh_subtitles': ['那你坐我旁边嘛']}, {'utterance': ' No, I sit there.', 'speaker': 'Sheldon', 'en_subtitles': ['- No, I sit there.'], 'zh_subtitles': ['不行 我只坐那个座位']}, {'utterance': ' What’s the difference?', 'speaker': 'Penny'}, {'utterance': ' What’s the difference?', 'speaker': 'Sheldon'}, {'utterance': ' Here we go.', 'speaker': 'Leonard', 'en_subtitles': ['- Here we go.'], 'zh_subtitles': ['又来了']}, {'utterance': ' In the winter that seat is close enough to the radiator to remain warm, and yet not so close as to cause perspiration. In the summer it’s directly in the path of a cross breeze created by open windows there, and there. It faces the television at an angle that is neither direct, thus discouraging conversation, nor so far wide to create a parallax distortion, I could go on, but I think I’ve made my point. ', 'speaker': 'Sheldon', 'en_subtitles': ['In winter, that seat is close enough to the radiator to remain warm yet not so close as to cause perspiration.', \"In the summer, it's in a cross breeze created by opening windows there and there.\", 'It faces the television at an angle that is neither direct, discouraging conversation nor so far wide as to create a parallax distortion.', \"I could go on, but I think I've made my point.\"], 'zh_subtitles': ['冬天 那个位置跟电暖炉之间的距离 正好能让人保持温暖 而又不会太近导致出汗', '夏天 坐在这儿正好能吹到 从这个窗口到那个窗口对吹的风', '而且这里对着电视的角度正好 既不会妨碍跟他人谈话 又不用把头扭得太过去 以致造成视差畸变', '我还能继续解释下去 但我想你应该明白了']}, {'utterance': ' Do you want me to move?', 'speaker': 'Penny', 'en_subtitles': ['Do you want me to move?'], 'zh_subtitles': ['你要我移开吗?']}, {'utterance': ' Well.', 'speaker': 'Sheldon'}, {'utterance': ' Just sit somewhere else.', 'speaker': 'Leonard', 'en_subtitles': ['- Just sit somewhere else.'], 'zh_subtitles': ['- 你就坐到旁边去吧']}, {'utterance': ' Fine. (Wanders in circles, looking lost.)', 'speaker': 'Sheldon'}, {'utterance': ' Sheldon, sit!', 'speaker': 'Leonard'}, {'utterance': ' Aaah!', 'speaker': 'Sheldon'}, {'utterance': ' Well this is nice. We don’t have a lot of company over.', 'speaker': 'Leonard', 'en_subtitles': ['Well, this is nice.', \"We don't have a lot of company over.\"], 'zh_subtitles': ['这样很不错', '我们不是经常有朋友过来']}, {'utterance': ' That’s not true. Koothrapali and Wolowitz come over all the time. ', 'speaker': 'Sheldon', 'en_subtitles': [\"That's not true. Koothrappali and Wolowitz come over.\"], 'zh_subtitles': ['你胡扯 Koothrappali和Wolowitz天天都来']}, {'utterance': ' Yes I now, but…', 'speaker': 'Leonard'}, {'utterance': ' Tuesday night we played Klingon boggle until one in the morning.', 'speaker': 'Sheldon', 'en_subtitles': ['Tuesday night we played Klingon Boggle until 1 in the morning.'], 'zh_subtitles': ['星期二晚上 我们玩Klingon拼字游戏到夜里1点']}, {'utterance': ' Yes, I remember.', 'speaker': 'Leonard', 'en_subtitles': ['- Yeah, I remember.'], 'zh_subtitles': ['是啦 我记得']}, {'utterance': ' I resent you saying we don’t have company.', 'speaker': 'Sheldon', 'en_subtitles': [\"- I resent you saying we don't have company.\"], 'zh_subtitles': ['我讨厌你说我们没有朋友 - 抱歉']}, {'utterance': ' I’m sorry.', 'speaker': 'Leonard'}, {'utterance': ' That is an antisocial implication.', 'speaker': 'Sheldon'}, {'utterance': ' I said I’m sorry.', 'speaker': 'Leonard', 'en_subtitles': [\"- I said I'm sorry.\"], 'zh_subtitles': ['我说了我很抱歉!']}, {'utterance': ' So, Klingon boggle?', 'speaker': 'Penny', 'en_subtitles': ['So Klingon Boggle?'], 'zh_subtitles': ['Klingon拼字游戏是什么?']}, {'utterance': ' Yeah, it’s like regular boggle but, in Klingon. That’s probably enough about us, tell us about you.', 'speaker': 'Leonard', 'en_subtitles': [\"Yeah. It's like regular Boggle, but in Klingon.\", \"That's probably enough about us. So tell us about you.\"], 'zh_subtitles': ['就像普通的拼字游戏 但是是Klingon语的 (星际迷航中外星武士一族的怪异语言)', '不聊我们了 说说你的事吧']}, {'utterance': ' Um, me, okay, I’m Sagittarius, which probably tells you way more than you need to know.', 'speaker': 'Penny', 'en_subtitles': [\"I'm a Sagittarius, which probably tells you way more than you need to know.\"], 'zh_subtitles': ['我是人马座的 这一点就很能说明我的个性啦']}, {'utterance': ' Yes, it tells us that you participate in the mass cultural delusion that the Sun’s apparent position relative to arbitrarily defined constellations and the time of your birth somehow effects your personality.', 'speaker': 'Sheldon', 'en_subtitles': [\"Yes, it tells us that you participate in the mass cultural delusion that the sun's position relative to arbitrary constellations at the time of your birth somehow affects your personality.\"], 'zh_subtitles': ['是啊 它告诉我们你也是 迷信那种大众文化妄想的一员 你相信你出生时太阳的视位置 跟任意划分的星群间的关系 能以某种方式影响你的性格']}, {'utterance': ' Participate in the what?', 'speaker': 'Penny', 'en_subtitles': ['Participate in the what?'], 'zh_subtitles': ['我相信什么?']}, {'utterance': ' I think what Sheldon’s trying to say, is that Sagittarius wouldn’t have been our first guess.', 'speaker': 'Leonard', 'en_subtitles': [\"I think what Sheldon's trying to say is that Sagittarius wouldn't have been our first guess.\"], 'zh_subtitles': ['我想Sheldon是说 你第一眼看上去不像人马座']}, {'utterance': ' Oh, yeah, a lot of people think I’m a water sign. Okay, let’s see, what else, oh, I’m a vegetarian, oh, except for fish, and the occasional steak, I love steak. ', 'speaker': 'Penny', 'en_subtitles': [\"Oh, yeah, a lot of people think I'm a water sign.\", \"Okay, let's see, what else?\", \"Oh, I'm a vegetarian.\", 'No, except for fish, and the occasional steak.'], 'zh_subtitles': ['对啊 很多人觉得我像水相星座', '让我想想 还有什么', '我是个素食者 嗯 鱼除外', '偶尔我也吃牛排 我好爱牛排!']}, {'utterance': ' That’s interesting. Leonard can’t process corn.', 'speaker': 'Sheldon', 'en_subtitles': [\"Well, that's interesting. Leonard can't process corn.\"], 'zh_subtitles': ['那真是有趣 Leonard不能消化玉米']}, {'utterance': ' Wu-uh, do you have some sort of a job?', 'speaker': 'Leonard', 'en_subtitles': ['So do you have some sort of a job? PENNY:'], 'zh_subtitles': ['你做什么工作呢?']}, {'utterance': ' Oh, yeah, I’m a waitress at the Cheesecake Factory.', 'speaker': 'Penny', 'en_subtitles': [\"Oh, yeah. I'm a waitress at The Cheesecake Factory.\"], 'zh_subtitles': ['我在\"芝士蛋糕工厂\"当女招待']}, {'utterance': ' Oh, okay. I love cheesecake.', 'speaker': 'Leonard', 'en_subtitles': ['I love cheesecake.'], 'zh_subtitles': ['我很喜欢芝士蛋糕']}, {'utterance': ' You’re lactose intolerant. ', 'speaker': 'Sheldon', 'en_subtitles': [\"- You're lactose intolerant.\"], 'zh_subtitles': ['你都不能忍受乳糖']}, {'utterance': ' I don’t eat it, I just think it’s a good idea.', 'speaker': 'Leonard', 'en_subtitles': [\"- I don't eat it, I think it's a good idea.\"], 'zh_subtitles': ['我不吃 不代表我不欣赏它']}, {'utterance': ' Oh, anyways, I’m also writing a screenplay. It’s about this sensitive girl who comes to L.A. from Lincoln Nebraska to be an actress, and winds up a waitress at the Cheesecake Factory.', 'speaker': 'Penny', 'en_subtitles': [\"Anyways, I'm also writing a screenplay.\", \"It's about this sensitive girl who comes to L.A. from Lincoln, Nebraska to be an actress and winds up a waitress at The Cheesecake Factory.\"], 'zh_subtitles': ['不管怎样 我还在写剧本', '是关于一个感情细腻的女孩 从内布拉斯加州Lincoln小镇来到洛杉矶 梦想成为演员 却只能在芝士蛋糕工厂当女招待']}, {'utterance': ' So it’s based on your life?', 'speaker': 'Leonard', 'en_subtitles': [\"So it's based on your life.\"], 'zh_subtitles': ['剧本是根据你的经历改编的哦?']}, {'utterance': ' No, I’m from Omaha. ', 'speaker': 'Penny', 'en_subtitles': [\"No, I'm from Omaha.\"], 'zh_subtitles': ['不 我是从奥马哈市来的']}, {'utterance': ' Well, if that was a movie I would go see it.', 'speaker': 'Leonard', 'en_subtitles': ['If that was a movie, I would go see it.'], 'zh_subtitles': ['如果真的拍成电影 我肯定会去看的']}, {'utterance': ' I know, right? Okay, let’s see, what else? Um, that’s about it. That’s the story of Penny.', 'speaker': 'Penny', 'en_subtitles': ['I know, right?', \"Okay, let's see, what else?\", \"I guess that's about it.\", \"That's the story of Penny.\"], 'zh_subtitles': ['我知道 故事不错是吧?', '我想想 还有什么?', '好像差不多了', '这就是Penny的故事']}, {'utterance': ' Well it sounds wonderful.', 'speaker': 'Leonard', 'en_subtitles': ['Well, it sounds wonderful.'], 'zh_subtitles': ['听起来很棒啊']}, {'utterance': ' It was. Until I fell in love with a jerk. ', 'speaker': 'Penny', 'en_subtitles': ['It was.', 'Until I fell in love with a jerk.'], 'zh_subtitles': ['以前是的', '直到我爱上了那个混球']}, {'utterance': ' What’s happening.', 'speaker': '(mouths)'}, {'utterance': ' I don’t know.', 'speaker': 'back)'}, {'utterance': ' Oh God, you know, four years I lived with him, four years, that’s like as long as High School. ', 'speaker': 'Penny', 'en_subtitles': ['Oh, God, you know, four years I lived with him.', \"Four years. That's like as long as high school.\"], 'zh_subtitles': ['你知道吗 我跟他同居了4年', '4年 跟高中一样久了']}, {'utterance': ' It took you four years to get through High School?', 'speaker': 'Sheldon', 'en_subtitles': ['It took you four years to get through high school?'], 'zh_subtitles': ['你花了4年才上完高中?']}, {'utterance': ' Don’t.', 'speaker': 'Leonard'}, {'utterance': ' I just, I can’t believe I trusted him.', 'speaker': 'Penny', 'en_subtitles': [\"I just... I can't believe I trusted him.\"], 'zh_subtitles': ['我不敢相信我居然那么信任他']}, {'utterance': ' Should I say something? I feel like I should say something.', 'speaker': 'Leonard', 'en_subtitles': ['Should I say something?', 'I feel I should say something. You?'], 'zh_subtitles': ['我该说些什么吗?', '我觉得我该说些什么']}, {'utterance': ' You? No, you’ll only make it worse.', 'speaker': 'Sheldon', 'en_subtitles': [\"No, you'll only make it worse.\"], 'zh_subtitles': ['你? 千万别 你只会让事情变得更糟糕']}, {'utterance': ' You want to know the most pathetic part? Even though I hate his lying, cheating guts, I still love him. Is that crazy?', 'speaker': 'Penny', 'en_subtitles': ['You wanna know the most pathetic part?', 'Even though I hate his lying, cheating guts I still love him.', 'Is that crazy?'], 'zh_subtitles': ['你知道最可悲的是什么吗?', '尽管我对他的谎言欺骗恨之入骨 我还是爱着他', '是不是很疯狂?']}, {'utterance': ' No, it’s not crazy it’s, uh, uh, it’s a paradox. And paradoxes are part of nature, think about light. Now if you look at Huygens, light is a wave, as confirmed by the double slit experiments, but then, along comes Albert Einstein and discovers that light behaves like particles too. Well, I didn’t make it worse.', 'speaker': 'Leonard', 'en_subtitles': [\"No, it's not crazy.\", \"It's a paradox.\", 'Paradoxes are part of nature.', 'I mean, think about light. If you look at Huygens, light is a wave, as confirmed by the double-slit experiments.', 'But then, along comes Albert Einstein and discovers that light behaves like particles too.'], 'zh_subtitles': ['不 那不是疯狂', '陷入一种矛盾', '矛盾是我们天性的一部分', '你想想光 惠更斯认为光是一种波动', '但后来 爱因斯坦出现了 他发现光也具有粒子的表现特征']}, {'utterance': ' Oh, I’m so sorry, I’m such a mess, and on top of everything else I’m all gross from moving and my stupid shower doesn’t even work.', 'speaker': 'Penny', 'en_subtitles': [\"Oh, I'm so sorry I'm such a mess.\", \"And on top of everything else, I'm all gross from moving and my stupid shower doesn't work.\"], 'zh_subtitles': ['很抱歉 我真是一团糟', '除了那些烂事 我搬家弄得一身臭汗 该死的淋浴还坏掉了']}, {'utterance': ' Our shower works.', 'speaker': 'Leonard', 'en_subtitles': ['Our shower works.'], 'zh_subtitles': ['我们的淋浴房能用']}, {'utterance': ' Really? Would it be totally weird if I used it?', 'speaker': 'Penny', 'en_subtitles': ['Would it be totally weird if I used it?'], 'zh_subtitles': ['我用你们的淋浴房 会不会很奇怪?']}, {'utterance': ' Yes. ', 'speaker': 'Sheldon'}, {'utterance': ' No?', 'speaker': 'Sheldon'}, {'utterance': ' No.', 'speaker': 'Leonard'}, {'utterance': ' No.', 'speaker': 'Sheldon'}, {'utterance': ' It’s right down the hall.', 'speaker': 'Leonard', 'en_subtitles': [\"It's right down the hall.\"], 'zh_subtitles': ['就在厅后面']}, {'utterance': ' Thanks. You guys are really sweet.', 'speaker': 'Penny', 'en_subtitles': ['Okay, thanks. You guys are really sweet.'], 'zh_subtitles': ['谢谢 你们真是大好人']}, {'utterance': ' Well this is an interesting development. ', 'speaker': 'Sheldon', 'en_subtitles': ['Well, this is an interesting development.'], 'zh_subtitles': ['真是有趣的进展啊']}, {'utterance': ' How so?', 'speaker': 'Leonard'}, {'utterance': ' It has been some time since we’ve had a woman take her clothes off in our apartment.', 'speaker': 'Sheldon', 'en_subtitles': [\"SHELDON: It has been some time since we've had a woman take her clothes off in our apartment.\"], 'zh_subtitles': ['已经有好长一段时间 没有女人在我们的公寓里脱光了']}, {'utterance': ' That’s not true, remember at Thanksgiving my grandmother with Alzheimer’s had that episode.', 'speaker': 'Leonard', 'en_subtitles': [\"That's not true. Remember at Thanksgiving my grandmother with Alzheimer's had that episode?\"], 'zh_subtitles': ['不对吧 还记得感恩节我那阿兹海默症 (老年痴呆)的奶奶病发闹出的那一段吗?']}, {'utterance': ' Point taken. It has been some time since we’ve had a woman take her clothes off after which we didn’t want to rip our eyes out. ', 'speaker': 'Sheldon', 'en_subtitles': [\"It has been some time since we've had a woman take her clothes off after which we didn't wanna rip our eyes out.\"], 'zh_subtitles': ['有道理 已经有好长一段时间 没有女人在我们公寓里脱光 而且我们不会想抠出自己的眼睛!']}, {'utterance': ' The worst part was watching her carve that turkey.', 'speaker': 'Leonard', 'en_subtitles': ['The worst part was watching her carve that turkey.'], 'zh_subtitles': ['看着她乱搞那只火鸡 是最折磨人的']}, {'utterance': ' So, what exactly are you trying to accomplish here?', 'speaker': 'Sheldon', 'en_subtitles': ['So, what exactly are you trying to accomplish here?'], 'zh_subtitles': ['你到底希望达到什么目标呢?']}, {'utterance': ' Excuse me?', 'speaker': 'Leonard'}, {'utterance': ' That woman in there’s not going to have sex with you.', 'speaker': 'Sheldon', 'en_subtitles': ['That woman in there is not going to have sex with you.'], 'zh_subtitles': ['那个女孩不会跟你上床的']}, {'utterance': ' Well I’m not trying to have sex with her.', 'speaker': 'Leonard', 'en_subtitles': [\"Well, I'm not trying to have sex with her.\"], 'zh_subtitles': ['我不是想跟她上床']}, {'utterance': ' Oh, good. Then you won’t be disappointed.', 'speaker': 'Sheldon', 'en_subtitles': [\"Oh, good. Then you won't be disappointed.\"], 'zh_subtitles': ['很好 那你就不会失望了']}, {'utterance': ' What makes you think she wouldn’t have sex with me, I’m a male and she’s a female?', 'speaker': 'Leonard', 'en_subtitles': [\"What makes you think she wouldn't have sex with me?\", \"I'm a male and she's a female.\"], 'zh_subtitles': ['你为什么认定她不会跟我上床?', '我是男人 她是女人']}, {'utterance': ' Yes, but not of the same species.', 'speaker': 'Sheldon', 'en_subtitles': ['Yes, but not of the same species.'], 'zh_subtitles': ['对 但你们不是一个种族的']}, {'utterance': ' I’m not going to engage in hypotheticals here, I’m just trying to be a good neighbour.', 'speaker': 'Leonard', 'en_subtitles': [\"I'm not gonna engage in hypotheticals here.\", \"- I'm just trying to be a good neighbor.\"], 'zh_subtitles': ['我不想跟你在这瞎猜', '我只是想当个好邻居']}, {'utterance': ' Oh, of course.', 'speaker': 'Sheldon', 'en_subtitles': ['- Oh, of course.'], 'zh_subtitles': ['当然了']}, {'utterance': ' That’s not to say that if a carnal relationship were to develop that I wouldn’t participate. However briefly.', 'speaker': 'Leonard', 'en_subtitles': [\"That's not to say that if a carnal relationship were to develop that I wouldn't participate.\", 'However briefly.'], 'zh_subtitles': ['但是如果真的要发展到肉体关系 我也不会拒绝的', '不管那有多短暂']}, {'utterance': ' Do you think this possibility will be helped or hindered when she discovers your Luke Skywalker no-more-tears shampoo?', 'speaker': 'Sheldon', 'en_subtitles': ['Do you think this possibility will be hindered when she discovers your Luke Skywalker \"no more tears\" shampoo?'], 'zh_subtitles': ['你觉得让她发现你的 \"天行者Luke\"无泪洗发水 是会帮助还是阻碍你们的发展呢?']}, {'utterance': ' It’s Darth Vader shampoo. (There is a knock on the door.) Luke Skywalker’s the conditioner.', 'speaker': 'Leonard', 'en_subtitles': [\"It's Darth Vader shampoo.\", \"Luke Skywalker's the conditioner.\"], 'zh_subtitles': ['那是Darth Vader洗发液 (星球大战中角色)', '\"天行者Luke\"是护发素']}, {'utterance': ' Wait till you see this.', 'speaker': 'Howard', 'en_subtitles': ['- Wait till you see this.'], 'zh_subtitles': ['你们得看看这个']}, {'utterance': ' It’s fantastic. Unbelievable.', 'speaker': 'Raj', 'en_subtitles': [\"- It's fantastic. Unbelievable.\"], 'zh_subtitles': ['超级赞 不可置信']}, {'utterance': ' See what?', 'speaker': 'Leonard', 'en_subtitles': ['See what?'], 'zh_subtitles': ['看什么?']}, {'utterance': ' It’s a Stephen Hawking lecture from MIT in 1974.', 'speaker': 'Howard', 'en_subtitles': [\"It's a Stephen Hawking lecture from MIT in 1974.\"], 'zh_subtitles': ['是施蒂芬 -霍金于1974年 在麻省理工做的演讲']}, {'utterance': ' This is not a good time.', 'speaker': 'Leonard', 'en_subtitles': [\"This isn't a good time.\"], 'zh_subtitles': ['现在不方便']}, {'utterance': ' It’s before he became a creepy computer voice:.', 'speaker': 'Howard'}, {'utterance': ' That’s great, you guys have to go.', 'speaker': 'Leonard', 'en_subtitles': [\"- That's great, you guys have to go.\"], 'zh_subtitles': ['很好 你们得走了']}, {'utterance': ' Why?', 'speaker': 'Raj'}, {'utterance': ' It’s just not a good time.', 'speaker': 'Leonard', 'en_subtitles': [\"- It's just not a good time.\"], 'zh_subtitles': ['现在不方便啊']}, {'utterance': ' Leonard has a lady over.', 'speaker': 'Sheldon', 'en_subtitles': ['- Leonard has a lady over.'], 'zh_subtitles': ['Leonard有女人拜访']}, {'utterance': ' Yeah, right, your grandmother back in town?', 'speaker': 'Howard'}, {'utterance': ' No. And she’s not a lady, she’s just a new neighbour.', 'speaker': 'Leonard', 'en_subtitles': ['No.', \"And she's not a lady, she's just a new neighbor.\"], 'zh_subtitles': ['不是什么女人的艳遇啦', '只是我们的新邻居']}, {'utterance': ' Hang on, there really is a lady here?', 'speaker': 'Howard', 'en_subtitles': ['Hang on, there really is a lady here?'], 'zh_subtitles': ['你等等 这儿真有个女人?']}, {'utterance': ' Uh-huh.', 'speaker': 'Leonard', 'en_subtitles': ['- Uh-huh.'], 'zh_subtitles': ['没错']}, {'utterance': ' And you want us out because you’re anticipating coitus?', 'speaker': 'Howard', 'en_subtitles': [\"- And you want us out because you're anticipating coitus?\"], 'zh_subtitles': ['你要我们走 是因为你准备跟她交媾?']}, {'utterance': ' I’m not anticipating coitus.', 'speaker': 'Leonard', 'en_subtitles': [\"- I'm not anticipating coitus.\"], 'zh_subtitles': ['我没准备跟她交媾']}, {'utterance': ' So she’s available for coitus?', 'speaker': 'Howard', 'en_subtitles': [\"- So she's available for coitus?\"], 'zh_subtitles': ['那她可以跟别人交媾?']}, {'utterance': ' Can we please stop saying coitus?', 'speaker': 'Leonard', 'en_subtitles': ['Can we please just stop saying \"coitus\"?'], 'zh_subtitles': ['能不能别用\"交媾\"这个词?']}, {'utterance': ' Technically that would be coitus interruptus.', 'speaker': 'Sheldon', 'en_subtitles': ['Technically, that would be coitus interruptus.'], 'zh_subtitles': ['用术语来说 就是交媾中止']}, {'utterance': ' Hey, is there a trick to getting it to switch from tub to shower. Oh. Hi, sorry. Hello!', 'speaker': 'Penny', 'en_subtitles': ['Hey, is there a trick to getting it to switch from tub to shower?', 'Oh, hi, sorry. Hello.'], 'zh_subtitles': ['从泡浴换成淋浴 是不是有个开关?', '噢 很抱歉 你们好']}, {'utterance': ' Enchante Madamoiselle. Howard Wolowitz, Cal-Tech department of Applied Physics. You may be familiar with some of my work, it’s currently orbiting Jupiter’s largest moon taking high-resolution digital photographs.', 'speaker': 'Howard', 'en_subtitles': ['Howard Wolowitz, CalTech Department of Applied Physics.', 'You may be familiar with some of my work.', \"It's currently orbiting Jupiter's largest moon taking high-resolution digital photographs.\"], 'zh_subtitles': ['我是Howard Wolowitz 加州理工大应用物理系', '你可能对我的工作成果有所了解', '它现在正绕着木星最大的卫星旋转 拍摄高清数码照片']}, {'utterance': ' Penny. I work at the Cheesecake Factory.', 'speaker': 'Penny', 'en_subtitles': ['Penny. I work at The Cheesecake Factory.'], 'zh_subtitles': ['我是Penny 我在芝士蛋糕工厂做侍应']}, {'utterance': ' Come on, I’ll show you the trick with the shower.', 'speaker': 'Leonard', 'en_subtitles': [\"- I'll show you the trick with the shower. - Okay.\"], 'zh_subtitles': ['来吧 我告诉你开关在哪']}, {'utterance': ' Bon douche.', 'speaker': 'Howard'}, {'utterance': ' I’m sorry?', 'speaker': 'Penny'}, {'utterance': ' It’s French for good shower. It’s a sentiment I can express in six languages.', 'speaker': 'Howard', 'en_subtitles': ['It\\'s French for \"good shower.\"', \"It's a sentiment I can express in six languages.\"], 'zh_subtitles': ['法语的\"洗个痛快澡\"', '我能用六国语言表达这一祝愿']}, {'utterance': ' Save it for your blog, Howard.', 'speaker': 'Leonard', 'en_subtitles': ['Save it for your blog, Howard.'], 'zh_subtitles': ['留着在你的Blog上写吧 Howard']}, {'utterance': ' See-ka-tong-guay-jow.', 'speaker': 'Howard'}]\n",
      "[{'utterance': ' Uh, there it goes, it sticks, I’m sorry.', 'speaker': 'Leonard'}, {'utterance': ' Okay. Thanks. ', 'speaker': 'Penny'}, {'utterance': ' You’re welcome, oh, you’re going to step right, okay, I’ll….', 'speaker': 'Leonard', 'en_subtitles': [\"- You're welcome. Oh, you're just gonna step right...?\"], 'zh_subtitles': ['不客气 你只要向右...']}, {'utterance': ' Hey, Leonard?', 'speaker': 'Penny'}, {'utterance': ' The hair products are Sheldon’s.', 'speaker': 'Leonard', 'en_subtitles': [\"- The hair products are Sheldon's.\"], 'zh_subtitles': ['- 那些洗发产品是Sheldon的']}, {'utterance': ' Um, okay. Can I ask you a favour.', 'speaker': 'Penny', 'en_subtitles': ['- Um, can I ask you a favor?'], 'zh_subtitles': ['我能麻烦你帮个忙吗?']}, {'utterance': ' A favour? Sure, you can ask me a favour, I would do you a favour for you.', 'speaker': 'Leonard', 'en_subtitles': ['Sure, you could ask me a favor. I would do you a favor for you.'], 'zh_subtitles': ['你当然可以要我帮忙 我很乐意帮你忙']}, {'utterance': ' It’s okay if you say no.', 'speaker': 'Penny', 'en_subtitles': [\"- It's okay if you say no.\"], 'zh_subtitles': ['你不答应也没事']}, {'utterance': ' Oh, I’ll probably say yes.', 'speaker': 'Leonard', 'en_subtitles': [\"- Oh, I'll probably say yes.\"], 'zh_subtitles': ['噢 我应该会答应的']}, {'utterance': ' It’s just not the kind of thing you ask a guy you’ve just met.', 'speaker': 'Penny', 'en_subtitles': [\"It's just not the kind of thing you ask a guy you just met.\"], 'zh_subtitles': ['这不是那种 你会请刚认识的人帮的忙']}, {'utterance': ' Wow.', 'speaker': 'Leonard'}]\n",
      "[{'utterance': ' I really think we should examine the chain of causality here.', 'speaker': 'Sheldon', 'en_subtitles': ['I really think we should examine the chain of causality here.'], 'zh_subtitles': ['我们得回顾下这起事件的前因后果']}, {'utterance': ' Must we?', 'speaker': 'Leonard', 'en_subtitles': ['- Must we?'], 'zh_subtitles': ['一定要吗?']}, {'utterance': ' Event A. A beautiful woman stands naked in our shower. Event B. We drive half way across town to retrieve a television set from the aforementioned woman’s ex-boyfriend. Query, on what plane of existence is there even a semi-rational link between these events?', 'speaker': 'Sheldon', 'en_subtitles': ['- Event A:', 'A beautiful woman stands naked in our shower.', 'Event B:', \"We drive halfway across town to retrieve a television set from the aforementioned woman's ex-boyfriend.\", 'On what plane of existence is there even a semi-rational link between these events?'], 'zh_subtitles': ['事件A:', '一个美女在我们的浴室裸体', '事件B:', '我们开车穿越整个小镇 就为了搬台电视机回来 目的地就在刚刚提到的美女的前男友家', '提问:']}, {'utterance': ' She asked me to do her a favour, Sheldon.', 'speaker': 'Leonard', 'en_subtitles': ['She asked me to do her a favor, Sheldon.'], 'zh_subtitles': ['因为Penny请我帮个忙 Sheldon']}, {'utterance': ' Ah, yes, well that may be the proximal cause of our journey, but we both know it only exists in contradistinction to the higher level distal cause.', 'speaker': 'Sheldon', 'en_subtitles': ['Well, that may be the proximal cause of our journey but we both know it exists in contradistinction to the higher-level distal cause.'], 'zh_subtitles': ['是啊 那也许是最近似可能的起因了 但我们都知道 它和更高级的末端起因截然不同']}, {'utterance': ' Which is?', 'speaker': 'Leonard', 'en_subtitles': ['- Which is?'], 'zh_subtitles': ['那是什么意思?']}, {'utterance': ' You think with your penis.', 'speaker': 'Sheldon', 'en_subtitles': ['- You think with your penis.'], 'zh_subtitles': ['你用你的老二思考']}, {'utterance': ' That’s a biological impossibility and you didn’t have to come.', 'speaker': 'Leonard', 'en_subtitles': [\"That's a biological impossibility, and you didn't have to come.\"], 'zh_subtitles': ['这在生理上是不可能的 你也不一定要来啊']}, {'utterance': ' Oh, right, yes, I could have stayed behind and watched Wolowitz try to hit on Penny in Russian, Arabic and Farsi. Why can’t she get her own TV.', 'speaker': 'Sheldon', 'en_subtitles': ['I could have stayed behind to watch Wolowitz hit on Penny in Russian, Arabic and Farsi.', \"And why can't she get her own TV?\"], 'zh_subtitles': ['对 我可以留在家里看着Wolowitz 试图用俄语 阿拉伯语及波斯语搭讪Penny', '她为什么不能自己去拿?']}, {'utterance': ' Come on, you know how it is with break-ups.', 'speaker': 'Leonard', 'en_subtitles': ['Come on, you know how it is with breakups.'], 'zh_subtitles': ['你知道分手这种事啦']}, {'utterance': ' No I don’t. And neither do you.', 'speaker': 'Sheldon', 'en_subtitles': [\"No, I don't, and neither do you.\"], 'zh_subtitles': ['不 我不知道 你也不知道']}, {'utterance': ' Wuh, I, I broke up with Joyce Kim.', 'speaker': 'Leonard', 'en_subtitles': ['But I... I broke up with Joyce Kim.'], 'zh_subtitles': ['什么啊 我跟Joyce Kim分过手']}, {'utterance': ' You did not break up with Joyce Kim, she defected to North Korea.', 'speaker': 'Sheldon', 'en_subtitles': ['You did not break up with Joyce Kim. She defected to North Korea.'], 'zh_subtitles': ['你才没有和Joyce Kim分手 是她跑到韩国去了']}, {'utterance': ' To mend her broken heart. This situation is much less complicated. There’s some kind of dispute between Penny and her ex-boyfriend as to who gets custody of the TV. She just wanted to avoid having a scene with him.', 'speaker': 'Leonard', 'en_subtitles': ['To mend her broken heart.', 'This situation is much less complicated.', \"There's some dispute between Penny and her ex-boyfriend as to who gets custody of the TV.\", '- She just wanted to avoid a scene with him.'], 'zh_subtitles': ['为了修复她受伤的心灵', '现在这情况更加复杂', 'Penny和她前男友不能达成一致 究竟电视机该归谁', '她不想再和他当面争执']}, {'utterance': ' So we get to have a scene with him?', 'speaker': 'Sheldon', 'en_subtitles': ['- So we get to have a scene with him?'], 'zh_subtitles': ['所以我们去和他当面争执?']}, {'utterance': ' No, Sheldon, there’s not going to be a scene. There’s two of us and one of him.', 'speaker': 'Leonard', 'en_subtitles': [\"No, Sheldon, there's not going to be a scene.\", \"There's two of us and one of him.\"], 'zh_subtitles': ['Sheldon 根本不会有争执', '我们两人 他一人']}, {'utterance': ' Leonard, the two of us can’t even carry a TV. ', 'speaker': 'Sheldon', 'en_subtitles': [\"Leonard, the two of us can't even carry a TV.\"], 'zh_subtitles': ['Leonard 我们俩加起来都抗不动一台电视']}]\n",
      "[{'utterance': ' So, you guys work with Leonard and Sheldon at the University?', 'speaker': 'Raj)', 'en_subtitles': ['So you guys work with Leonard and Sheldon at the university?'], 'zh_subtitles': ['你们跟Leonard和Sheldon一起在学校做事?']}, {'utterance': ' Uh, I’m sorry, do you speak English?', 'speaker': 'Penny', 'en_subtitles': [\"I'm sorry, do you speak English?\"], 'zh_subtitles': ['不好意思 你会说英语吗?']}, {'utterance': ' Oh, he speaks English, he just can’t speak to women.', 'speaker': 'Howard', 'en_subtitles': [\"Oh, he speaks English. He just can't speak to women.\"], 'zh_subtitles': ['他会 只是不能跟女人说']}, {'utterance': ' Really, why?', 'speaker': 'Penny'}, {'utterance': ' He’s kind of a nerd. Juice box?', 'speaker': 'Howard', 'en_subtitles': [\"He's kind of a nerd.\", 'Juice box?'], 'zh_subtitles': ['因为他是个书呆子', '盒装果汁? (谐音G -Spot 即高潮快点)']}]\n",
      "[{'utterance': ' I’ll do the talking.', 'speaker': 'buzzer)', 'en_subtitles': [\"- I'll do the talking.\"], 'zh_subtitles': ['我来跟他理论']}, {'utterance': ' Yeah.', 'speaker': 'buzzer'}, {'utterance': ' Hi, I’m Leonard, this is Sheldon.', 'speaker': 'Leonard', 'en_subtitles': [\"- Hi. I'm Leonard, this is Sheldon.\"], 'zh_subtitles': ['嗨 我是Leonard 他是Sheldon']}, {'utterance': ' Hello.', 'speaker': 'Sheldon'}, {'utterance': ' What did I just…. Uh, we’re here to pick up Penny’s TV.', 'speaker': 'Leonard', 'en_subtitles': ['What did I just...?', \"- We're here to pick up Penny's TV.\"], 'zh_subtitles': ['- 我...', '我们来拿Penny的电视']}, {'utterance': ' Get lost.', 'speaker': 'Voice', 'en_subtitles': ['- Get lost.'], 'zh_subtitles': ['滚']}, {'utterance': ' Okay, thanks for your time.', 'speaker': 'Sheldon', 'en_subtitles': ['Okay, thanks for your time.'], 'zh_subtitles': ['好的 打搅你了']}, {'utterance': ' We’re not going to give up just like that.', 'speaker': 'Leonard', 'en_subtitles': [\"- We're not gonna give up just like that.\"], 'zh_subtitles': ['我们不能就这么放弃']}, {'utterance': ' Leonard, the TV is in the building, we’ve been denied access to the building, ergo we are done.', 'speaker': 'Sheldon', 'en_subtitles': [\"- Leonard, the TV's in the building.\", \"We've been denied access to the building, ergo we are done.\"], 'zh_subtitles': ['Leonard 电视在这楼里', '他不放我们进去 我们没辙']}, {'utterance': ' Excuse me, if I were to give up at the first little hitch I never would have been able to identify the fingerprints of string theory in the aftermath of the big bang.', 'speaker': 'Leonard', 'en_subtitles': ['If I were to give up at the first hitch, I never would have identified the fingerprints of string theory in the aftermath of the big bang.'], 'zh_subtitles': ['不好意思 如果我第一次受挫就放弃 我就永远不可能在大爆炸理论提出后 发现关于弦理论的蛛丝马迹']}, {'utterance': ' My apologies. What’s your plan.', 'speaker': 'Sheldon', 'en_subtitles': [\"My apologies. What's your plan?\"], 'zh_subtitles': ['我道歉 你打算怎么做?']}, {'utterance': ' It’s just a privilege to watch your mind at work.', 'speaker': 'Sheldon', 'en_subtitles': [\"It's just a privilege to watch your mind at work.\"], 'zh_subtitles': ['看到你如此专注工作 真是种荣幸']}, {'utterance': ' Come on, we have a combined IQ of 360, we should be able to figure out how to get into a stupid building.', 'speaker': 'Leonard', 'en_subtitles': ['Come on, we have a combined IQ of 360.', 'We should be able to figure out how to get into a stupid building.'], 'zh_subtitles': ['来吧 我们俩智商加起来有360', '我们绝对能够想办法进入这蠢楼']}, {'utterance': ' What do you think their combined IQ is?', 'speaker': 'Sheldon', 'en_subtitles': ['- What do you think their combined IQ is?'], 'zh_subtitles': ['你觉得她俩智商加起来多少?']}, {'utterance': ' Just grab the door.', 'speaker': 'Leonard', 'en_subtitles': ['- Just grab the door.'], 'zh_subtitles': ['快去留住门!']}]\n",
      "[{'utterance': ' This is it. (Knocks.) I’ll do the talking.', 'speaker': 'Leonard', 'en_subtitles': ['LEONARD: This is it.', \"I'll do the talking.\"], 'zh_subtitles': ['就是这', '我来跟他理论']}, {'utterance': ' Good thinking, I’ll just be the muscle.', 'speaker': 'Sheldon', 'en_subtitles': [\"Good thinking, I'll just be the muscle.\"], 'zh_subtitles': ['好主意 我用武力威慑']}, {'utterance': ' Yeah?', 'speaker': 'man'}, {'utterance': ' I’m Leonard, this is Sheldon.', 'speaker': 'Leonard', 'en_subtitles': [\"- I'm Leonard, this is Sheldon.\"], 'zh_subtitles': ['我是Leonard 他是Sheldon']}, {'utterance': ' From the intercom.', 'speaker': 'Sheldon', 'en_subtitles': ['From the intercom.'], 'zh_subtitles': ['刚刚在对讲机上的']}, {'utterance': ' How the hell did you get in the building?', 'speaker': 'Man', 'en_subtitles': ['How the hell did you get in the building?'], 'zh_subtitles': ['他妈的你们怎么进来的?']}, {'utterance': ' Oh. We’re scientists.', 'speaker': 'Leonard'}, {'utterance': ' Tell him about our IQ.', 'speaker': 'Sheldon', 'en_subtitles': ['Tell him about our IQ.'], 'zh_subtitles': ['告诉他我们的智商']}]\n",
      "[{'utterance': ' Leonard.', 'speaker': 'Sheldon'}, {'utterance': ' What?', 'speaker': 'Leonard'}, {'utterance': ' My mom bought me those pants.', 'speaker': 'Sheldon', 'en_subtitles': ['- My mom bought me those pants.'], 'zh_subtitles': ['- 什么? 那条裤子是我妈给我买的']}, {'utterance': ' I’m sorry.', 'speaker': 'Leonard'}, {'utterance': ' You’re going to have to call her.', 'speaker': 'Sheldon', 'en_subtitles': [\"You're gonna have to call her.\"], 'zh_subtitles': ['你得给她打电话']}]\n",
      "[{'utterance': ' Sheldon, I’m so sorry I dragged you through this.', 'speaker': 'Leonard', 'en_subtitles': ['Sheldon, I am so sorry I dragged you through this.'], 'zh_subtitles': ['Sheldon 真对不起把你也扯进来了']}, {'utterance': ' It’s okay. It wasn’t my first pantsing, and it won’t be my last.', 'speaker': 'Sheldon', 'en_subtitles': [\"It's okay. It wasn't my first pantsing and it won't be my last.\"], 'zh_subtitles': ['没关系 这不是我第一次掉裤子了 也不会是最后一次']}, {'utterance': ' And you were right about my motives, I was hoping to establish a relationship with Penny that might have some day led to sex.', 'speaker': 'Leonard', 'en_subtitles': ['And you were right about my motives.', 'I was hoping to establish a relationship with Penny that might have someday led to sex.'], 'zh_subtitles': ['你说得对 关于我的动机', '我是指望着能跟Penny建立某种关系 并最终发展成肉体关系']}, {'utterance': ' Well you got me out of my pants.', 'speaker': 'Sheldon', 'en_subtitles': ['SHELDON: Well, you got me out of my pants.'], 'zh_subtitles': ['你倒是成功地脱下了我的裤子']}, {'utterance': ' Anyway, I’ve learned my lesson. She’s out of my league, I’m done with her, I’ve got my work, one day I’ll win the Nobel Prize and then I’ll die alone.', 'speaker': 'Leonard', 'en_subtitles': [\"Anyway, I've learned my lesson.\", \"She's out of my league, I'm done with her.\", \"I've got my work. One day I'll win the Nobel Prize and then I'll die alone.\"], 'zh_subtitles': ['无论如何 我得到了教训', '我配不上她 我放弃了', '我有工作 有一天我会赢得诺贝尔奖 然后孤老死去']}, {'utterance': ' Don’t think like that, you’re not going to die alone.', 'speaker': 'Sheldon', 'en_subtitles': [\"Don't think like that. You're not going to die alone.\"], 'zh_subtitles': ['别那么想 你不会孤老而死']}, {'utterance': ' Thank you Sheldon, you’re a good friend.', 'speaker': 'Leonard', 'en_subtitles': [\"Thank you, Sheldon. You're a good friend.\"], 'zh_subtitles': ['谢谢你 Sheldon 你真是个好朋友']}, {'utterance': ' And you’re certainly not going to win a Nobel Prize.', 'speaker': 'Sheldon'}]\n",
      "[{'utterance': ' This is one of my favourite places to kick back after a quest, they have a great house ale.', 'speaker': 'Howard', 'en_subtitles': ['This is one of my favorite places to kick back after a quest.', 'They have a great house ale.'], 'zh_subtitles': ['这里是我最喜欢的探险后休息的地方', '他家的啤酒很好喝']}, {'utterance': ' Wow, cool tiger.', 'speaker': 'Penny'}, {'utterance': ' Yeah, I’ve had him since level ten. His name is Buttons. Anyway, if you had your own game character we could hang out, maybe go on a quest.', 'speaker': 'Howard', 'en_subtitles': [\"Yeah, I've had him since Level 10.\", 'His name is Buttons.', 'Anyway, if you had your own game character we could hang out, maybe go on a quest.'], 'zh_subtitles': ['是的 我从10级开始就养它了', '它叫扣扣', '如果你也有自己的在线游戏人物 我们可以一起玩玩 一起探险']}, {'utterance': ' Uh, sounds interesting.', 'speaker': 'Penny', 'en_subtitles': ['- That sounds interesting.'], 'zh_subtitles': ['听上去挺有趣']}, {'utterance': ' So you’ll think about it?', 'speaker': 'Howard', 'en_subtitles': [\"- So you'll think about it?\"], 'zh_subtitles': ['那么 你会想想这个提议啦?']}, {'utterance': ' Oh, I don’t think I’ll be able to stop thinking about it.', 'speaker': 'Penny', 'en_subtitles': [\"Oh, I don't think I'll be able to stop thinking about it.\"], 'zh_subtitles': ['我想这个点子会让我思考许久的']}, {'utterance': ' Smooth.', 'speaker': 'Raj', 'en_subtitles': ['Smooth.'], 'zh_subtitles': ['干得漂亮']}, {'utterance': ' We’re home.', 'speaker': 'Leonard', 'en_subtitles': [\"- We're home.\"], 'zh_subtitles': ['我们回来了']}, {'utterance': ' Oh, my God, what happened?', 'speaker': 'Penny', 'en_subtitles': ['- Oh, my God. What happened?'], 'zh_subtitles': ['老天啊 发生了什么事?']}, {'utterance': ' Well, your ex-boyfriend sends his regards and I think the rest is fairly self-explanatory.', 'speaker': 'Leonard', 'en_subtitles': ['Well, your ex-boyfriend sends his regards and I think the rest is fairly self-explanatory.'], 'zh_subtitles': ['你前男友让我们跟你带声问候 其他的我想应该够一目了然了']}, {'utterance': ' I’m so sorry, I really thought if you guys went instead of me he wouldn’t be such an ass.', 'speaker': 'Penny', 'en_subtitles': [\"I really thought if you guys went instead of me he wouldn't be such an ass.\"], 'zh_subtitles': ['我真的以为如果你们替我去 他不会表现那么混蛋']}, {'utterance': ' No, it was a valid hypothesis.', 'speaker': 'Leonard', 'en_subtitles': ['No, it was a valid hypothesis.'], 'zh_subtitles': ['挺充分的假设']}, {'utterance': ' That was a valid hypothesis? What is happening to you?', 'speaker': 'Sheldon', 'en_subtitles': ['That was a valid hypo...?', 'What is happening to you?'], 'zh_subtitles': ['挺充分的假...', '? 你怎么了?']}, {'utterance': ' Really, thank you so much for going and trying you’re, uh, you’re so terrific. Why don’t you put some clothes on, I’ll get my purse and dinner is on me, okay?', 'speaker': 'Penny', 'en_subtitles': ['Really, thank you so much for going and trying.', \"You just... You're so terrific.\", \"Why don't you put some clothes on, I'll get my purse, and dinner is on me, okay?\"], 'zh_subtitles': ['说真的 太谢谢你们帮我跑这一趟了', '你们真是大好人', '真的 你们穿上衣服 我去拿钱包 今晚我请客 好吧?']}, {'utterance': ' Really? Great.', 'speaker': 'Leonard'}, {'utterance': ' Thank you. You’re not done with her, are you?', 'speaker': 'Sheldon', 'en_subtitles': ['- Thank you.', \"You're not done with her, are you?\"], 'zh_subtitles': ['太好了!', '你还没放弃 是吧?']}, {'utterance': ' Our babies will be smart and beautiful.', 'speaker': 'Leonard', 'en_subtitles': ['Our babies will be smart and beautiful.'], 'zh_subtitles': ['我们的小孩肯定又聪敏又漂亮']}, {'utterance': ' Not to mention imaginary.', 'speaker': 'Sheldon', 'en_subtitles': ['Not to mention imaginary.'], 'zh_subtitles': ['而且还是想象出来的']}]\n"
     ]
    }
   ],
   "source": [
    "scenes = data[(1,1)]\n",
    "for scene in scenes:\n",
    "    print(scene)"
   ],
   "metadata": {
    "collapsed": false,
    "pycharm": {
     "name": "#%%\n"
    }
   }
  },
  {
   "cell_type": "markdown",
   "source": [
    "## Perform Parsing"
   ],
   "metadata": {
    "collapsed": false,
    "pycharm": {
     "name": "#%% md\n"
    }
   }
  },
  {
   "cell_type": "code",
   "execution_count": 4,
   "outputs": [],
   "source": [
    "# Load Data\n",
    "scene = data[(1,1)][0]"
   ],
   "metadata": {
    "collapsed": false,
    "pycharm": {
     "name": "#%%\n"
    }
   }
  },
  {
   "cell_type": "code",
   "execution_count": 5,
   "outputs": [
    {
     "name": "stdout",
     "output_type": "stream",
     "text": [
      "{'utterance': ' So if a photon is directed through a plane with two slits in it and either slit is observed it will not go through both slits. If it’s unobserved it will, however, if it’s observed after it’s left the plane but before it hits its target, it will not have gone through both slits.', 'speaker': 'Sheldon', 'en_subtitles': ['If a photon is directed through a plane with two slits in it and either is observed it will not go through both.', 'If unobserved, it will.', \"If it's observed after it left the plane, before it hits its target...\", '- ...it will not have gone through both slits.'], 'zh_subtitles': ['将光子正对平面上的双缝 观察任意一个隙缝 它不会穿过那两个隙缝', '如果没被观察 那就会', '总之 如果观察它在离开平面到击中目标之前', '它就不会穿过那两个隙缝']}\n",
      "{'utterance': ' Agreed, what’s your point?', 'speaker': 'Leonard', 'en_subtitles': [\"- Agreed. What's your point?\"], 'zh_subtitles': ['没错 但你为什么要说这个?']}\n",
      "{'utterance': ' There’s no point, I just think it’s a good idea for a tee-shirt. ', 'speaker': 'Sheldon', 'en_subtitles': [\"There's no point, I just think it's a good idea for a T-shirt.\"], 'zh_subtitles': ['没什么 我只是觉得这个主意 可以用于设计T恤衫']}\n",
      "{'utterance': ' Excuse me?', 'speaker': 'Leonard'}\n",
      "{'utterance': ' Hang on. ', 'speaker': 'Receptionist'}\n",
      "{'utterance': ' One across is Aegean, eight down is Nabakov, twenty-six across is MCM, fourteen down is… move your finger… phylum, which makes fourteen across Port-au-Prince. See, Papa Doc’s capital idea, that’s Port-au-Prince. Haiti. ', 'speaker': 'Leonard', 'en_subtitles': ['One across is Aegean, eight down is Nabokov.', 'Twenty-six across is MCM.', 'Fourteen down is... Move your finger.', '...phylum, which makes 14 across Port-Au-Prince.', \"See, Papa Doc's capital idea, that's Port-Au-Prince.\", 'Haiti.'], 'zh_subtitles': ['横1是Aegean (爱情海)', '竖8是Nabokov (小说洛丽塔的作者) 横26是MCM', '竖14是...', '手指挪开点 Phylum (生物门类) 这样一来横14就是Port -au', '瞧 提示是\"Papa doc的首都\" (海地前总统) 所以是太子港', '海地的']}\n",
      "{'utterance': ' Can I help you?', 'speaker': 'Receptionist', 'en_subtitles': ['- Can I help you? - Yes.'], 'zh_subtitles': ['- 能为你效劳吗?']}\n",
      "{'utterance': ' Yes. Um, is this the High IQ sperm bank?', 'speaker': 'Leonard', 'en_subtitles': ['Um, is this the high-IQ sperm bank?'], 'zh_subtitles': ['这里是高智商精子银行吗?']}\n",
      "{'utterance': ' If you have to ask, maybe you shouldn’t be here.', 'speaker': 'Receptionist', 'en_subtitles': [\"If you have to ask, maybe you shouldn't be here.\"], 'zh_subtitles': ['如果你这么问 也许你不该来这']}\n",
      "{'utterance': ' I think this is the place.', 'speaker': 'Sheldon', 'en_subtitles': ['I think this is the place.'], 'zh_subtitles': ['我想就是这没错了']}\n",
      "{'utterance': ' Fill these out.', 'speaker': 'Receptionist', 'en_subtitles': ['- Fill these out. - Thank you.'], 'zh_subtitles': ['- 把这个填一填']}\n",
      "{'utterance': ' Thank-you. We’ll be right back.', 'speaker': 'Leonard', 'en_subtitles': [\"- We'll be right back.\"], 'zh_subtitles': ['- 谢谢 我们马上好']}\n",
      "{'utterance': ' Oh, take your time. I’ll just finish my crossword puzzle. Oh wait.', 'speaker': 'Receptionist', 'en_subtitles': [\"- Oh, take your time. I'll just finish my crossword puzzle.\", 'Oh, wait.'], 'zh_subtitles': ['慢慢来 我还要玩填字游戏', '噢 慢着']}\n",
      "{'utterance': ' Leonard, I don’t think I can do this.', 'speaker': 'Sheldon', 'en_subtitles': [\"Leonard, I don't think I can do this.\"], 'zh_subtitles': ['Leonard 我办不到']}\n",
      "{'utterance': ' What, are you kidding? You’re a semi-pro. ', 'speaker': 'Leonard', 'en_subtitles': ['What, are you kidding?'], 'zh_subtitles': ['开玩笑? 你可是半职业人士']}\n",
      "{'utterance': ' No. We are committing genetic fraud. There’s no guarantee that our sperm is going to generate high IQ offspring, think about that. I have a sister with the same basic DNA mix who hostesses at Fuddruckers.', 'speaker': 'Sheldon', 'en_subtitles': ['We are committing genetic fraud.', \"There's no guarantee our sperm's going to generate high-IQ offspring. Think about that.\", 'I have a sister with the same basic DNA mix who hostesses at Fuddruckers.'], 'zh_subtitles': ['不 我们这样是诈骗', '我们没法保证 生出来的一定是高智商小孩', '我姐姐跟我有一套相同的基本基因 她却在Fuddrucker餐厅当服务生']}\n",
      "{'utterance': ' Sheldon, this was your idea. A little extra money to get fractional T1 bandwidth in the apartment.', 'speaker': 'Leonard', 'en_subtitles': ['Sheldon, this was your idea.', 'A little extra money to get fractional T1 bandwidth in the apartment?'], 'zh_subtitles': ['Sheldon 这可是你的主意啊', '轻松赚点钱 就有钱能升级我们的网络带宽']}\n",
      "{'utterance': ' I know, and I do yearn for faster downloads, but there’s some poor woman is going to pin her hopes on my sperm, what if she winds up with a toddler who doesn’t know if he should use an integral or a differential to solve the area under a curve.', 'speaker': 'Sheldon', 'en_subtitles': ['I know. And I do yearn for faster downloads.', \"There's some poor woman who's gonna pin her hopes on my sperm.\", \"What if she winds up with a toddler who doesn't know if he should use a differential to solve for the area under a curve?\"], 'zh_subtitles': ['我知道 我确实很渴望高速下载', '但一些可怜的女人 会把希望寄托在我的精子上', '万一生出来一个 连曲线下部的面积用积分还是微分算 都搞不清楚的小屁孩怎么办?']}\n",
      "{'utterance': ' I’m sure she’ll still love him.', 'speaker': 'Leonard', 'en_subtitles': [\"- I'm sure she'll still love him.\"], 'zh_subtitles': ['我想她还是会爱那个宝宝的']}\n",
      "{'utterance': ' I wouldn’t.', 'speaker': 'Sheldon', 'en_subtitles': [\"- I wouldn't.\"], 'zh_subtitles': ['我不会']}\n",
      "{'utterance': ' Well, what do you want to do?', 'speaker': 'Leonard', 'en_subtitles': ['Well, what do you wanna do?'], 'zh_subtitles': ['你想要怎样?']}\n",
      "{'utterance': ' I want to leave.', 'speaker': 'Sheldon', 'en_subtitles': ['- I want to leave.'], 'zh_subtitles': ['- 我想要走']}\n",
      "{'utterance': ' What’s the protocol for leaving?', 'speaker': 'Sheldon', 'en_subtitles': [\"- What's the protocol for leaving? - I don't know.\"], 'zh_subtitles': ['离开时要怎么说呢?']}\n",
      "{'utterance': ' I don’t know, I’ve never reneged on a proffer of sperm before.', 'speaker': 'Leonard', 'en_subtitles': [\"I've never reneged on a proffer of sperm before.\"], 'zh_subtitles': ['我不知道 我可从没有拒绝过提供精子的要求']}\n",
      "{'utterance': ' Let’s try just walking out.', 'speaker': 'Sheldon', 'en_subtitles': [\"Let's try just walking out.\"], 'zh_subtitles': ['我们就直接走出去吧']}\n",
      "{'utterance': ' Okay.', 'speaker': 'Leonard'}\n",
      "{'utterance': ' Bye-bye', 'speaker': 'Sheldon'}\n",
      "{'utterance': ' See you.', 'speaker': 'Leonard'}\n"
     ]
    }
   ],
   "source": [
    "for x in scene:\n",
    "    print(x)"
   ],
   "metadata": {
    "collapsed": false,
    "pycharm": {
     "name": "#%%\n"
    }
   }
  },
  {
   "cell_type": "code",
   "execution_count": 105,
   "outputs": [],
   "source": [
    "parser = spacy.load(\"en_core_web_trf\")"
   ],
   "metadata": {
    "collapsed": false,
    "pycharm": {
     "name": "#%%\n"
    }
   }
  },
  {
   "cell_type": "code",
   "execution_count": 115,
   "outputs": [],
   "source": [
    "parser = spacy.load('en_core_web_sm')"
   ],
   "metadata": {
    "collapsed": false,
    "pycharm": {
     "name": "#%%\n"
    }
   }
  },
  {
   "cell_type": "code",
   "execution_count": 116,
   "outputs": [],
   "source": [
    "all_sentences = []\n",
    "all_speakers = []\n",
    "all_query_spans = []\n",
    "all_candidate_spans = []\n",
    "\n",
    "for i, utt in enumerate(scene):\n",
    "    speaker = utt['speaker']\n",
    "    transcript = speaker + \" : \" + utt['utterance']\n",
    "    doc = parser(transcript)\n",
    "\n",
    "    # Load tokens and build instance\n",
    "    sent_tokens = []\n",
    "    for j, item in enumerate(doc):\n",
    "        sent_tokens.append(str(item))\n",
    "    all_sentences.append(sent_tokens)\n",
    "    all_speakers.append(speaker)\n",
    "\n",
    "    # Fetch Noun\n",
    "    noun = set()\n",
    "    for j, item in enumerate(doc):\n",
    "        pos = item.pos_\n",
    "        if pos==\"NOUN\":\n",
    "            noun.add((i, j, j+1))\n",
    "            # print(j, str(item), pos, sent_tokens[j: j+1], noun_pron)\n",
    "    noun.add((j, 0, 1))\n",
    "\n",
    "    # Fetch Prons\n",
    "    pron = set()\n",
    "    for j, item in enumerate(doc):\n",
    "        pos = item.pos_\n",
    "        if pos==\"PRON\":\n",
    "            pron.add((i, j, j+1))\n",
    "            # print(j, str(item), pos, sent_tokens[j: j+1], noun_pron)\n",
    "\n",
    "    # Check Noun Phrase\n",
    "    noun_phrases = set()\n",
    "    for item in doc.noun_chunks:\n",
    "        noun_phrases.add((i, item.start, item.end))\n",
    "        # print(item, item.start, item.end, sent_tokens[item.start: item.end], noun_phrases)\n",
    "\n",
    "    # Add into Query Spans (Noun Phrases + Prons)\n",
    "    query_source = noun_phrases | pron\n",
    "    for (sentenceIndex, startToken, endToken) in query_source:\n",
    "        span = {\n",
    "            \"sentenceIndex\": sentenceIndex,\n",
    "            \"startToken\": startToken,\n",
    "            \"endToken\": endToken\n",
    "        }\n",
    "        all_query_spans.append(span)\n",
    "\n",
    "    # Add into Candidate Spans (Noun Phrases + Prons + Nouns)\n",
    "    candidate_source = query_source | noun\n",
    "    for (sentenceIndex, startToken, endToken) in query_source:\n",
    "        span = {\n",
    "            \"sentenceIndex\": sentenceIndex,\n",
    "            \"startToken\": startToken,\n",
    "            \"endToken\": endToken\n",
    "        }\n",
    "        all_candidate_spans.append(span)\n",
    "\n",
    "output = []\n",
    "for sent in all_sentences:\n",
    "    sent.append(\"\\n\")\n",
    "temp = {\n",
    "    \"sentences\": all_sentences,\n",
    "    \"querySpans\": all_query_spans,\n",
    "    \"candidateSpans\": all_candidate_spans\n",
    "}\n",
    "output.append(temp)"
   ],
   "metadata": {
    "collapsed": false,
    "pycharm": {
     "name": "#%%\n"
    }
   }
  },
  {
   "cell_type": "code",
   "execution_count": 108,
   "outputs": [],
   "source": [
    "trf = deepcopy(all_candidate_spans)"
   ],
   "metadata": {
    "collapsed": false,
    "pycharm": {
     "name": "#%%\n"
    }
   }
  },
  {
   "cell_type": "code",
   "execution_count": 111,
   "outputs": [],
   "source": [
    "lg = deepcopy(all_candidate_spans)"
   ],
   "metadata": {
    "collapsed": false,
    "pycharm": {
     "name": "#%%\n"
    }
   }
  },
  {
   "cell_type": "code",
   "execution_count": 114,
   "outputs": [],
   "source": [
    "md = deepcopy(all_candidate_spans)"
   ],
   "metadata": {
    "collapsed": false,
    "pycharm": {
     "name": "#%%\n"
    }
   }
  },
  {
   "cell_type": "code",
   "execution_count": 117,
   "outputs": [],
   "source": [
    "sm = deepcopy(all_candidate_spans)"
   ],
   "metadata": {
    "collapsed": false,
    "pycharm": {
     "name": "#%%\n"
    }
   }
  },
  {
   "cell_type": "code",
   "execution_count": 129,
   "outputs": [
    {
     "name": "stdout",
     "output_type": "stream",
     "text": [
      "120\n",
      "129\n",
      "131\n",
      "134\n"
     ]
    }
   ],
   "source": [
    "spans = [trf, lg, md, sm]\n",
    "for x in spans:\n",
    "    print(len(x))"
   ],
   "metadata": {
    "collapsed": false,
    "pycharm": {
     "name": "#%%\n"
    }
   }
  },
  {
   "cell_type": "code",
   "execution_count": 128,
   "outputs": [
    {
     "name": "stdout",
     "output_type": "stream",
     "text": [
      "['a photon', 'it', 'it', 'both slits', 'it', 'its', 'two slits', 'it', 'the plane', 'it', 'it', 'either slit', 'its target', 'both slits', 'it', 'it', 'a plane']\n",
      "['a photon', 'it', 'it', 'both slits', 'it', 'its', 'two slits', 'it', 'the plane', 'it', 'it', 'either slit', 'its target', 'both slits', 'it', 'it', 'a plane']\n",
      "['a photon', 'it', 'it', 'both slits', 'it', 'its', 'two slits', 'it', 'the plane', 'Sheldon', 'it', 'it', 'either slit', 'its target', 'both slits', 'it', 'it', 'a plane']\n",
      "['a photon', 'it', 'it', 'both slits', 'it', 'its', 'two slits', 'it', 'the plane', 'Sheldon', 'it', 'it', 'either slit', 'its target', 'both slits', 'it', 'it', 'a plane']\n",
      "Sheldon :   So if a photon is directed through a plane with two slits in it and either slit is observed it will not go through both slits . If it ’s unobserved it will , however , if it ’s observed after it ’s left the plane but before it hits its target , it will not have gone through both slits . \n",
      "\n"
     ]
    }
   ],
   "source": [
    "for x in spans:\n",
    "    temp = {}\n",
    "    for item in x:\n",
    "        sentenceIndex = item['sentenceIndex']\n",
    "        startToken = item['startToken']\n",
    "        endToken = item['endToken']\n",
    "        if sentenceIndex not in temp:\n",
    "            temp[sentenceIndex] = [\" \".join(all_sentences[sentenceIndex][startToken: endToken])]\n",
    "        else:\n",
    "            temp[sentenceIndex].append(\" \".join(all_sentences[sentenceIndex][startToken: endToken]))\n",
    "    print(temp[0])\n",
    "print(\" \".join(all_sentences[0]))"
   ],
   "metadata": {
    "collapsed": false,
    "pycharm": {
     "name": "#%%\n"
    }
   }
  },
  {
   "cell_type": "code",
   "execution_count": 127,
   "outputs": [
    {
     "name": "stdout",
     "output_type": "stream",
     "text": [
      "['what', 'your point', 'your']\n",
      "['what', 'your point', 'your']\n",
      "['what', 'your point', 'your']\n",
      "['what', 'your', 'Leonard', 'your point', 'Agreed']\n",
      "Leonard :   Agreed , what ’s your point ? \n",
      "\n"
     ]
    }
   ],
   "source": [
    "for x in spans:\n",
    "    temp = {}\n",
    "    for item in x:\n",
    "        sentenceIndex = item['sentenceIndex']\n",
    "        startToken = item['startToken']\n",
    "        endToken = item['endToken']\n",
    "        if sentenceIndex not in temp:\n",
    "            temp[sentenceIndex] = [\" \".join(all_sentences[sentenceIndex][startToken: endToken])]\n",
    "        else:\n",
    "            temp[sentenceIndex].append(\" \".join(all_sentences[sentenceIndex][startToken: endToken]))\n",
    "    print(temp[1])\n",
    "print(\" \".join(all_sentences[1]))"
   ],
   "metadata": {
    "collapsed": false,
    "pycharm": {
     "name": "#%%\n"
    }
   }
  },
  {
   "cell_type": "code",
   "execution_count": 104,
   "outputs": [],
   "source": [
    "with open('test_lg.csv', \"w\", encoding=\"utf-8\") as csv_fh:\n",
    "        fieldnames = ['json_data']\n",
    "        writer = csv.DictWriter(csv_fh, fieldnames, lineterminator='\\n')\n",
    "        writer.writeheader()\n",
    "        for line in output:\n",
    "            writer.writerow({'json_data': json.dumps(line)})"
   ],
   "metadata": {
    "collapsed": false,
    "pycharm": {
     "name": "#%%\n"
    }
   }
  },
  {
   "cell_type": "code",
   "execution_count": null,
   "outputs": [],
   "source": [],
   "metadata": {
    "collapsed": false,
    "pycharm": {
     "name": "#%%\n"
    }
   }
  },
  {
   "cell_type": "code",
   "execution_count": null,
   "outputs": [],
   "source": [],
   "metadata": {
    "collapsed": false,
    "pycharm": {
     "name": "#%%\n"
    }
   }
  },
  {
   "cell_type": "code",
   "execution_count": null,
   "outputs": [],
   "source": [],
   "metadata": {
    "collapsed": false,
    "pycharm": {
     "name": "#%%\n"
    }
   }
  },
  {
   "cell_type": "code",
   "execution_count": null,
   "outputs": [],
   "source": [],
   "metadata": {
    "collapsed": false,
    "pycharm": {
     "name": "#%%\n"
    }
   }
  },
  {
   "cell_type": "code",
   "execution_count": null,
   "outputs": [],
   "source": [],
   "metadata": {
    "collapsed": false,
    "pycharm": {
     "name": "#%%\n"
    }
   }
  },
  {
   "cell_type": "code",
   "execution_count": null,
   "outputs": [],
   "source": [],
   "metadata": {
    "collapsed": false,
    "pycharm": {
     "name": "#%%\n"
    }
   }
  },
  {
   "cell_type": "code",
   "execution_count": 22,
   "outputs": [
    {
     "name": "stderr",
     "output_type": "stream",
     "text": [
      "2022-02-28 10:59:02 INFO: Loading these models for language: en (English):\n",
      "===========================\n",
      "| Processor    | Package  |\n",
      "---------------------------\n",
      "| tokenize     | combined |\n",
      "| pos          | combined |\n",
      "| constituency | wsj      |\n",
      "===========================\n",
      "\n",
      "2022-02-28 10:59:02 INFO: Use device: cpu\n",
      "2022-02-28 10:59:02 INFO: Loading: tokenize\n",
      "2022-02-28 10:59:02 INFO: Loading: pos\n",
      "2022-02-28 10:59:02 INFO: Loading: constituency\n",
      "2022-02-28 10:59:02 INFO: Done loading processors!\n"
     ]
    }
   ],
   "source": [
    "nlp = stanza.Pipeline(lang='en', processors='tokenize, pos, constituency')"
   ],
   "metadata": {
    "collapsed": false,
    "pycharm": {
     "name": "#%%\n"
    }
   }
  },
  {
   "cell_type": "code",
   "execution_count": null,
   "outputs": [],
   "source": [],
   "metadata": {
    "collapsed": false,
    "pycharm": {
     "name": "#%%\n"
    }
   }
  },
  {
   "cell_type": "code",
   "execution_count": null,
   "outputs": [],
   "source": [],
   "metadata": {
    "collapsed": false,
    "pycharm": {
     "name": "#%%\n"
    }
   }
  }
 ],
 "metadata": {
  "kernelspec": {
   "display_name": "Python 3",
   "language": "python",
   "name": "python3"
  },
  "language_info": {
   "codemirror_mode": {
    "name": "ipython",
    "version": 2
   },
   "file_extension": ".py",
   "mimetype": "text/x-python",
   "name": "python",
   "nbconvert_exporter": "python",
   "pygments_lexer": "ipython2",
   "version": "2.7.6"
  }
 },
 "nbformat": 4,
 "nbformat_minor": 0
}