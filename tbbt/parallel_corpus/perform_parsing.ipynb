{
 "cells": [
  {
   "cell_type": "code",
   "execution_count": 1,
   "metadata": {
    "collapsed": true
   },
   "outputs": [],
   "source": [
    "import pickle as pkl\n",
    "import spacy\n",
    "import stanza\n",
    "import csv\n",
    "import json\n",
    "from copy import deepcopy"
   ]
  },
  {
   "cell_type": "code",
   "execution_count": 2,
   "outputs": [],
   "source": [
    "with open('tbbt_en_zh.pkl', 'rb') as f:\n",
    "    data = pkl.load(f)"
   ],
   "metadata": {
    "collapsed": false,
    "pycharm": {
     "name": "#%%\n"
    }
   }
  },
  {
   "cell_type": "code",
   "execution_count": 9,
   "outputs": [
    {
     "name": "stdout",
     "output_type": "stream",
     "text": [
      "0\n",
      " So if a photon is directed through a plane with two slits in it and either slit is observed it will not go through both slits. If it’s unobserved it will, however, if it’s observed after it’s left the plane but before it hits its target, it will not have gone through both slits.\n",
      " Agreed, what’s your point?\n",
      " There’s no point, I just think it’s a good idea for a tee-shirt. \n",
      " Excuse me?\n",
      " Hang on. \n",
      " One across is Aegean, eight down is Nabakov, twenty-six across is MCM, fourteen down is… move your finger… phylum, which makes fourteen across Port-au-Prince. See, Papa Doc’s capital idea, that’s Port-au-Prince. Haiti. \n",
      " Can I help you?\n",
      " Yes. Um, is this the High IQ sperm bank?\n",
      " If you have to ask, maybe you shouldn’t be here.\n",
      " I think this is the place.\n",
      " Fill these out.\n",
      " Thank-you. We’ll be right back.\n",
      " Oh, take your time. I’ll just finish my crossword puzzle. Oh wait.\n",
      " Leonard, I don’t think I can do this.\n",
      " What, are you kidding? You’re a semi-pro. \n",
      " No. We are committing genetic fraud. There’s no guarantee that our sperm is going to generate high IQ offspring, think about that. I have a sister with the same basic DNA mix who hostesses at Fuddruckers.\n",
      " Sheldon, this was your idea. A little extra money to get fractional T1 bandwidth in the apartment.\n",
      " I know, and I do yearn for faster downloads, but there’s some poor woman is going to pin her hopes on my sperm, what if she winds up with a toddler who doesn’t know if he should use an integral or a differential to solve the area under a curve.\n",
      " I’m sure she’ll still love him.\n",
      " I wouldn’t.\n",
      " Well, what do you want to do?\n",
      " I want to leave.\n",
      " What’s the protocol for leaving?\n",
      " I don’t know, I’ve never reneged on a proffer of sperm before.\n",
      " Let’s try just walking out.\n",
      " Okay.\n",
      " Bye-bye\n",
      " See you.\n",
      "====================================================================================================\n",
      "1\n",
      " Are you still mad about the sperm bank?\n",
      " No.\n",
      " You want to hear an interesting thing about stairs?\n",
      " Not really.\n",
      " If the height of a single step is off by as little as two millimetres, most people will trip.\n",
      " I don’t care. Two millimetres? That doesn’t seem right.\n",
      " No, it’s true, I did a series of experiments when I was twelve, my father broke his clavicle.\n",
      " Is that why they sent you to boarding school?\n",
      " No, that was the result of my work with lasers.\n",
      " New neighbour?\n",
      " Evidently.\n",
      " Significant improvement over the old neighbour.\n",
      " Two hundred pound transvestite with a skin condition, yes she is.\n",
      " Oh, hi!\n",
      " Hi.\n",
      " Hi.\n",
      " Hi?\n",
      " We don’t mean to interrupt, we live across the hall.\n",
      " Oh, that’s nice.\n",
      " Oh… uh… no… we don’t live together… um… we live together but in separate, heterosexual bedrooms.\n",
      " Oh, okay, well, guess I’m your new neighbour, Penny.\n",
      " Leonard, Sheldon.\n",
      " Hi.\n",
      " Hi.\n",
      " Hi.\n",
      " Hi. \n",
      " Hi. Well, uh, oh, welcome to the building.\n",
      " Thankyou, maybe we can have coffee sometime.\n",
      " Oh, great.\n",
      " Great. \n",
      " Great.\n",
      " Great. Well, bye.\n",
      " Bye.\n",
      " Bye.\n",
      " Bye. \n",
      " Should we have invited her for lunch?\n",
      " No. We’re going to start Season Two of Battlestar Galactica.\n",
      " We already watched the Season Two DVDs.\n",
      " Not with commentary.\n",
      " I think we should be good neighbours, invite her over, make her feel welcome.\n",
      " We never invited Louis-slash-Louise over.\n",
      " Well, then that was wrong of us. We need to widen our circle.\n",
      " I have a very wide circle. I have 212 friends on myspace. \n",
      " Yes, and you’ve never met one of them.\n",
      " That’s the beauty of it.\n",
      " I’m going to invite her over. We’ll have a nice meal and chat.\n",
      " Chat? We don’t chat. At least not offline.\n",
      " Well it’s not difficult, you just listen to what she says and then you say something appropriate in response.\n",
      " To what end?\n",
      " Hi. Again.\n",
      " Hi.\n",
      " Hi.\n",
      " Hi.\n",
      " Hi. \n",
      " Anyway, um. We brought home Indian food. And, um. I know that moving can be stressful, and I find that when I’m undergoing stress, that good food and company can have a comforting effect. Also, curry is a natural laxative, and I don’t have to tell you that, uh, a clean colon is just one less thing to worry about.\n",
      " Leonard, I’m not expert here but I believe in the context of a luncheon invitation, you might want to skip the reference to bowel movements.\n",
      " Oh, you’re inviting me over to eat?\n",
      " Uh, yes.\n",
      " Oh, that’s so nice, I’d love to.\n",
      " Great.\n",
      " So, what do you guys do for fun around here?\n",
      " Well, today we tried masturbating for money.\n",
      "====================================================================================================\n",
      "2\n",
      " Okay, well, make yourself at home.\n",
      " Okay, thankyou.\n",
      " You’re very welcome.\n",
      " This looks like some serious stuff, Leonard, did you do this?\n",
      " Actually that’s my work.\n",
      " Wow.\n",
      " Yeah, well, it’s just some quantum mechanics, with a little string theory doodling around the edges. That part there, that’s just a joke, it’s a spoof of the Bourne-Oppenheimer approximation.\n",
      " So you’re like, one of those, beautiful mind genius guys.\n",
      " Yeah. \n",
      " This is really impressive.\n",
      " I have a board. If you like boards, this is my board.\n",
      " Holy smokes.\n",
      " If by holy smokes you mean a derivative restatement of the kind of stuff you can find scribbled on the wall of any men’s room at MIT, sure.\n",
      " What?\n",
      " Oh, come on. Who hasn’t seen this differential below “here I sit broken hearted?”\n",
      " At least I didn’t have to invent twenty-six dimensions just to make the math come out.\n",
      " I didn’t invent them, they’re there.\n",
      " In what universe?\n",
      " In all of them, that is the point.\n",
      " Uh, do you guys mind if I start?\n",
      " Um, Penny, that’s where I sit.\n",
      " So, sit next to me. \n",
      " No, I sit there.\n",
      " What’s the difference?\n",
      " What’s the difference?\n",
      " Here we go.\n",
      " In the winter that seat is close enough to the radiator to remain warm, and yet not so close as to cause perspiration. In the summer it’s directly in the path of a cross breeze created by open windows there, and there. It faces the television at an angle that is neither direct, thus discouraging conversation, nor so far wide to create a parallax distortion, I could go on, but I think I’ve made my point. \n",
      " Do you want me to move?\n",
      " Well.\n",
      " Just sit somewhere else.\n",
      " Fine. (Wanders in circles, looking lost.)\n",
      " Sheldon, sit!\n",
      " Aaah!\n",
      " Well this is nice. We don’t have a lot of company over.\n",
      " That’s not true. Koothrapali and Wolowitz come over all the time. \n",
      " Yes I now, but…\n",
      " Tuesday night we played Klingon boggle until one in the morning.\n",
      " Yes, I remember.\n",
      " I resent you saying we don’t have company.\n",
      " I’m sorry.\n",
      " That is an antisocial implication.\n",
      " I said I’m sorry.\n",
      " So, Klingon boggle?\n",
      " Yeah, it’s like regular boggle but, in Klingon. That’s probably enough about us, tell us about you.\n",
      " Um, me, okay, I’m Sagittarius, which probably tells you way more than you need to know.\n",
      " Yes, it tells us that you participate in the mass cultural delusion that the Sun’s apparent position relative to arbitrarily defined constellations and the time of your birth somehow effects your personality.\n",
      " Participate in the what?\n",
      " I think what Sheldon’s trying to say, is that Sagittarius wouldn’t have been our first guess.\n",
      " Oh, yeah, a lot of people think I’m a water sign. Okay, let’s see, what else, oh, I’m a vegetarian, oh, except for fish, and the occasional steak, I love steak. \n",
      " That’s interesting. Leonard can’t process corn.\n",
      " Wu-uh, do you have some sort of a job?\n",
      " Oh, yeah, I’m a waitress at the Cheesecake Factory.\n",
      " Oh, okay. I love cheesecake.\n",
      " You’re lactose intolerant. \n",
      " I don’t eat it, I just think it’s a good idea.\n",
      " Oh, anyways, I’m also writing a screenplay. It’s about this sensitive girl who comes to L.A. from Lincoln Nebraska to be an actress, and winds up a waitress at the Cheesecake Factory.\n",
      " So it’s based on your life?\n",
      " No, I’m from Omaha. \n",
      " Well, if that was a movie I would go see it.\n",
      " I know, right? Okay, let’s see, what else? Um, that’s about it. That’s the story of Penny.\n",
      " Well it sounds wonderful.\n",
      " It was. Until I fell in love with a jerk. \n",
      " What’s happening.\n",
      " I don’t know.\n",
      " Oh God, you know, four years I lived with him, four years, that’s like as long as High School. \n",
      " It took you four years to get through High School?\n",
      " Don’t.\n",
      " I just, I can’t believe I trusted him.\n",
      " Should I say something? I feel like I should say something.\n",
      " You? No, you’ll only make it worse.\n",
      " You want to know the most pathetic part? Even though I hate his lying, cheating guts, I still love him. Is that crazy?\n",
      " No, it’s not crazy it’s, uh, uh, it’s a paradox. And paradoxes are part of nature, think about light. Now if you look at Huygens, light is a wave, as confirmed by the double slit experiments, but then, along comes Albert Einstein and discovers that light behaves like particles too. Well, I didn’t make it worse.\n",
      " Oh, I’m so sorry, I’m such a mess, and on top of everything else I’m all gross from moving and my stupid shower doesn’t even work.\n",
      " Our shower works.\n",
      " Really? Would it be totally weird if I used it?\n",
      " Yes. \n",
      " No?\n",
      " No.\n",
      " No.\n",
      " It’s right down the hall.\n",
      " Thanks. You guys are really sweet.\n",
      " Well this is an interesting development. \n",
      " How so?\n",
      " It has been some time since we’ve had a woman take her clothes off in our apartment.\n",
      " That’s not true, remember at Thanksgiving my grandmother with Alzheimer’s had that episode.\n",
      " Point taken. It has been some time since we’ve had a woman take her clothes off after which we didn’t want to rip our eyes out. \n",
      " The worst part was watching her carve that turkey.\n",
      " So, what exactly are you trying to accomplish here?\n",
      " Excuse me?\n",
      " That woman in there’s not going to have sex with you.\n",
      " Well I’m not trying to have sex with her.\n",
      " Oh, good. Then you won’t be disappointed.\n",
      " What makes you think she wouldn’t have sex with me, I’m a male and she’s a female?\n",
      " Yes, but not of the same species.\n",
      " I’m not going to engage in hypotheticals here, I’m just trying to be a good neighbour.\n",
      " Oh, of course.\n",
      " That’s not to say that if a carnal relationship were to develop that I wouldn’t participate. However briefly.\n",
      " Do you think this possibility will be helped or hindered when she discovers your Luke Skywalker no-more-tears shampoo?\n",
      " It’s Darth Vader shampoo. (There is a knock on the door.) Luke Skywalker’s the conditioner.\n",
      " Wait till you see this.\n",
      " It’s fantastic. Unbelievable.\n",
      " See what?\n",
      " It’s a Stephen Hawking lecture from MIT in 1974.\n",
      " This is not a good time.\n",
      " It’s before he became a creepy computer voice:.\n",
      " That’s great, you guys have to go.\n",
      " Why?\n",
      " It’s just not a good time.\n",
      " Leonard has a lady over.\n",
      " Yeah, right, your grandmother back in town?\n",
      " No. And she’s not a lady, she’s just a new neighbour.\n",
      " Hang on, there really is a lady here?\n",
      " Uh-huh.\n",
      " And you want us out because you’re anticipating coitus?\n",
      " I’m not anticipating coitus.\n",
      " So she’s available for coitus?\n",
      " Can we please stop saying coitus?\n",
      " Technically that would be coitus interruptus.\n",
      " Hey, is there a trick to getting it to switch from tub to shower. Oh. Hi, sorry. Hello!\n",
      " Enchante Madamoiselle. Howard Wolowitz, Cal-Tech department of Applied Physics. You may be familiar with some of my work, it’s currently orbiting Jupiter’s largest moon taking high-resolution digital photographs.\n",
      " Penny. I work at the Cheesecake Factory.\n",
      " Come on, I’ll show you the trick with the shower.\n",
      " Bon douche.\n",
      " I’m sorry?\n",
      " It’s French for good shower. It’s a sentiment I can express in six languages.\n",
      " Save it for your blog, Howard.\n",
      " See-ka-tong-guay-jow.\n",
      "====================================================================================================\n",
      "3\n",
      " Uh, there it goes, it sticks, I’m sorry.\n",
      " Okay. Thanks. \n",
      " You’re welcome, oh, you’re going to step right, okay, I’ll….\n",
      " Hey, Leonard?\n",
      " The hair products are Sheldon’s.\n",
      " Um, okay. Can I ask you a favour.\n",
      " A favour? Sure, you can ask me a favour, I would do you a favour for you.\n",
      " It’s okay if you say no.\n",
      " Oh, I’ll probably say yes.\n",
      " It’s just not the kind of thing you ask a guy you’ve just met.\n",
      " Wow.\n",
      "====================================================================================================\n",
      "4\n",
      " I really think we should examine the chain of causality here.\n",
      " Must we?\n",
      " Event A. A beautiful woman stands naked in our shower. Event B. We drive half way across town to retrieve a television set from the aforementioned woman’s ex-boyfriend. Query, on what plane of existence is there even a semi-rational link between these events?\n",
      " She asked me to do her a favour, Sheldon.\n",
      " Ah, yes, well that may be the proximal cause of our journey, but we both know it only exists in contradistinction to the higher level distal cause.\n",
      " Which is?\n",
      " You think with your penis.\n",
      " That’s a biological impossibility and you didn’t have to come.\n",
      " Oh, right, yes, I could have stayed behind and watched Wolowitz try to hit on Penny in Russian, Arabic and Farsi. Why can’t she get her own TV.\n",
      " Come on, you know how it is with break-ups.\n",
      " No I don’t. And neither do you.\n",
      " Wuh, I, I broke up with Joyce Kim.\n",
      " You did not break up with Joyce Kim, she defected to North Korea.\n",
      " To mend her broken heart. This situation is much less complicated. There’s some kind of dispute between Penny and her ex-boyfriend as to who gets custody of the TV. She just wanted to avoid having a scene with him.\n",
      " So we get to have a scene with him?\n",
      " No, Sheldon, there’s not going to be a scene. There’s two of us and one of him.\n",
      " Leonard, the two of us can’t even carry a TV. \n",
      "====================================================================================================\n",
      "5\n",
      " So, you guys work with Leonard and Sheldon at the University?\n",
      " Uh, I’m sorry, do you speak English?\n",
      " Oh, he speaks English, he just can’t speak to women.\n",
      " Really, why?\n",
      " He’s kind of a nerd. Juice box?\n",
      "====================================================================================================\n",
      "6\n",
      " I’ll do the talking.\n",
      " Yeah.\n",
      " Hi, I’m Leonard, this is Sheldon.\n",
      " Hello.\n",
      " What did I just…. Uh, we’re here to pick up Penny’s TV.\n",
      " Get lost.\n",
      " Okay, thanks for your time.\n",
      " We’re not going to give up just like that.\n",
      " Leonard, the TV is in the building, we’ve been denied access to the building, ergo we are done.\n",
      " Excuse me, if I were to give up at the first little hitch I never would have been able to identify the fingerprints of string theory in the aftermath of the big bang.\n",
      " My apologies. What’s your plan.\n",
      " It’s just a privilege to watch your mind at work.\n",
      " Come on, we have a combined IQ of 360, we should be able to figure out how to get into a stupid building.\n",
      " What do you think their combined IQ is?\n",
      " Just grab the door.\n",
      "====================================================================================================\n",
      "7\n",
      " This is it. (Knocks.) I’ll do the talking.\n",
      " Good thinking, I’ll just be the muscle.\n",
      " Yeah?\n",
      " I’m Leonard, this is Sheldon.\n",
      " From the intercom.\n",
      " How the hell did you get in the building?\n",
      " Oh. We’re scientists.\n",
      " Tell him about our IQ.\n",
      "====================================================================================================\n",
      "8\n",
      " Leonard.\n",
      " What?\n",
      " My mom bought me those pants.\n",
      " I’m sorry.\n",
      " You’re going to have to call her.\n",
      "====================================================================================================\n",
      "9\n",
      " Sheldon, I’m so sorry I dragged you through this.\n",
      " It’s okay. It wasn’t my first pantsing, and it won’t be my last.\n",
      " And you were right about my motives, I was hoping to establish a relationship with Penny that might have some day led to sex.\n",
      " Well you got me out of my pants.\n",
      " Anyway, I’ve learned my lesson. She’s out of my league, I’m done with her, I’ve got my work, one day I’ll win the Nobel Prize and then I’ll die alone.\n",
      " Don’t think like that, you’re not going to die alone.\n",
      " Thank you Sheldon, you’re a good friend.\n",
      " And you’re certainly not going to win a Nobel Prize.\n",
      "====================================================================================================\n",
      "10\n",
      " This is one of my favourite places to kick back after a quest, they have a great house ale.\n",
      " Wow, cool tiger.\n",
      " Yeah, I’ve had him since level ten. His name is Buttons. Anyway, if you had your own game character we could hang out, maybe go on a quest.\n",
      " Uh, sounds interesting.\n",
      " So you’ll think about it?\n",
      " Oh, I don’t think I’ll be able to stop thinking about it.\n",
      " Smooth.\n",
      " We’re home.\n",
      " Oh, my God, what happened?\n",
      " Well, your ex-boyfriend sends his regards and I think the rest is fairly self-explanatory.\n",
      " I’m so sorry, I really thought if you guys went instead of me he wouldn’t be such an ass.\n",
      " No, it was a valid hypothesis.\n",
      " That was a valid hypothesis? What is happening to you?\n",
      " Really, thank you so much for going and trying you’re, uh, you’re so terrific. Why don’t you put some clothes on, I’ll get my purse and dinner is on me, okay?\n",
      " Really? Great.\n",
      " Thank you. You’re not done with her, are you?\n",
      " Our babies will be smart and beautiful.\n",
      " Not to mention imaginary.\n",
      "====================================================================================================\n"
     ]
    }
   ],
   "source": [
    "scenes = data[(1,1)]\n",
    "for i, scene in enumerate(scenes):\n",
    "    print(i)\n",
    "    for item in scene:\n",
    "        print(item['utterance'])\n",
    "    print(\"==\"*50)"
   ],
   "metadata": {
    "collapsed": false,
    "pycharm": {
     "name": "#%%\n"
    }
   }
  },
  {
   "cell_type": "code",
   "execution_count": null,
   "outputs": [],
   "source": [],
   "metadata": {
    "collapsed": false,
    "pycharm": {
     "name": "#%%\n"
    }
   }
  },
  {
   "cell_type": "markdown",
   "source": [
    "## Perform Parsing"
   ],
   "metadata": {
    "collapsed": false,
    "pycharm": {
     "name": "#%% md\n"
    }
   }
  },
  {
   "cell_type": "code",
   "execution_count": 15,
   "outputs": [],
   "source": [
    "# Load Data\n",
    "scene = data[(1,1)][6]"
   ],
   "metadata": {
    "collapsed": false,
    "pycharm": {
     "name": "#%%\n"
    }
   }
  },
  {
   "cell_type": "code",
   "execution_count": 16,
   "outputs": [
    {
     "name": "stdout",
     "output_type": "stream",
     "text": [
      "{'utterance': ' I’ll do the talking.', 'speaker': 'buzzer)', 'en_subtitles': [\"- I'll do the talking.\"], 'zh_subtitles': ['我来跟他理论']}\n",
      "{'utterance': ' Yeah.', 'speaker': 'buzzer'}\n",
      "{'utterance': ' Hi, I’m Leonard, this is Sheldon.', 'speaker': 'Leonard', 'en_subtitles': [\"- Hi. I'm Leonard, this is Sheldon.\"], 'zh_subtitles': ['嗨 我是Leonard 他是Sheldon']}\n",
      "{'utterance': ' Hello.', 'speaker': 'Sheldon'}\n",
      "{'utterance': ' What did I just…. Uh, we’re here to pick up Penny’s TV.', 'speaker': 'Leonard', 'en_subtitles': ['What did I just...?', \"- We're here to pick up Penny's TV.\"], 'zh_subtitles': ['- 我...', '我们来拿Penny的电视']}\n",
      "{'utterance': ' Get lost.', 'speaker': 'Voice', 'en_subtitles': ['- Get lost.'], 'zh_subtitles': ['滚']}\n",
      "{'utterance': ' Okay, thanks for your time.', 'speaker': 'Sheldon', 'en_subtitles': ['Okay, thanks for your time.'], 'zh_subtitles': ['好的 打搅你了']}\n",
      "{'utterance': ' We’re not going to give up just like that.', 'speaker': 'Leonard', 'en_subtitles': [\"- We're not gonna give up just like that.\"], 'zh_subtitles': ['我们不能就这么放弃']}\n",
      "{'utterance': ' Leonard, the TV is in the building, we’ve been denied access to the building, ergo we are done.', 'speaker': 'Sheldon', 'en_subtitles': [\"- Leonard, the TV's in the building.\", \"We've been denied access to the building, ergo we are done.\"], 'zh_subtitles': ['Leonard 电视在这楼里', '他不放我们进去 我们没辙']}\n",
      "{'utterance': ' Excuse me, if I were to give up at the first little hitch I never would have been able to identify the fingerprints of string theory in the aftermath of the big bang.', 'speaker': 'Leonard', 'en_subtitles': ['If I were to give up at the first hitch, I never would have identified the fingerprints of string theory in the aftermath of the big bang.'], 'zh_subtitles': ['不好意思 如果我第一次受挫就放弃 我就永远不可能在大爆炸理论提出后 发现关于弦理论的蛛丝马迹']}\n",
      "{'utterance': ' My apologies. What’s your plan.', 'speaker': 'Sheldon', 'en_subtitles': [\"My apologies. What's your plan?\"], 'zh_subtitles': ['我道歉 你打算怎么做?']}\n",
      "{'utterance': ' It’s just a privilege to watch your mind at work.', 'speaker': 'Sheldon', 'en_subtitles': [\"It's just a privilege to watch your mind at work.\"], 'zh_subtitles': ['看到你如此专注工作 真是种荣幸']}\n",
      "{'utterance': ' Come on, we have a combined IQ of 360, we should be able to figure out how to get into a stupid building.', 'speaker': 'Leonard', 'en_subtitles': ['Come on, we have a combined IQ of 360.', 'We should be able to figure out how to get into a stupid building.'], 'zh_subtitles': ['来吧 我们俩智商加起来有360', '我们绝对能够想办法进入这蠢楼']}\n",
      "{'utterance': ' What do you think their combined IQ is?', 'speaker': 'Sheldon', 'en_subtitles': ['- What do you think their combined IQ is?'], 'zh_subtitles': ['你觉得她俩智商加起来多少?']}\n",
      "{'utterance': ' Just grab the door.', 'speaker': 'Leonard', 'en_subtitles': ['- Just grab the door.'], 'zh_subtitles': ['快去留住门!']}\n"
     ]
    }
   ],
   "source": [
    "for x in scene:\n",
    "    print(x)"
   ],
   "metadata": {
    "collapsed": false,
    "pycharm": {
     "name": "#%%\n"
    }
   }
  },
  {
   "cell_type": "code",
   "execution_count": 17,
   "outputs": [],
   "source": [
    "parser = spacy.load(\"en_core_web_trf\")"
   ],
   "metadata": {
    "collapsed": false,
    "pycharm": {
     "name": "#%%\n"
    }
   }
  },
  {
   "cell_type": "code",
   "execution_count": 12,
   "outputs": [],
   "source": [
    "parser = spacy.load('en_core_web_sm')"
   ],
   "metadata": {
    "collapsed": false,
    "pycharm": {
     "name": "#%%\n"
    }
   }
  },
  {
   "cell_type": "code",
   "execution_count": 18,
   "outputs": [
    {
     "name": "stderr",
     "output_type": "stream",
     "text": [
      "/Users/boyuanzheng/.conda/envs/multi_coref/lib/python3.8/site-packages/torch/autocast_mode.py:141: UserWarning: User provided device_type of 'cuda', but CUDA is not available. Disabling\n",
      "  warnings.warn('User provided device_type of \\'cuda\\', but CUDA is not available. Disabling')\n"
     ]
    }
   ],
   "source": [
    "all_sentences = []\n",
    "all_speakers = []\n",
    "all_query_spans = []\n",
    "all_candidate_spans = []\n",
    "\n",
    "for i, utt in enumerate(scene):\n",
    "    speaker = utt['speaker']\n",
    "    transcript = speaker + \" : \" + utt['utterance']\n",
    "    doc = parser(transcript)\n",
    "\n",
    "    # Load tokens and build instance\n",
    "    sent_tokens = []\n",
    "    for j, item in enumerate(doc):\n",
    "        sent_tokens.append(str(item))\n",
    "    all_sentences.append(sent_tokens)\n",
    "    all_speakers.append(speaker)\n",
    "\n",
    "    # Fetch Noun\n",
    "    noun = set()\n",
    "    for j, item in enumerate(doc):\n",
    "        pos = item.pos_\n",
    "        if pos==\"NOUN\":\n",
    "            noun.add((i, j, j+1))\n",
    "            # print(j, str(item), pos, sent_tokens[j: j+1], noun_pron)\n",
    "    noun.add((j, 0, 1))\n",
    "\n",
    "    # Fetch Prons\n",
    "    pron = set()\n",
    "    for j, item in enumerate(doc):\n",
    "        pos = item.pos_\n",
    "        if pos==\"PRON\":\n",
    "            pron.add((i, j, j+1))\n",
    "            # print(j, str(item), pos, sent_tokens[j: j+1], noun_pron)\n",
    "\n",
    "    # Check Noun Phrase\n",
    "    noun_phrases = set()\n",
    "    for item in doc.noun_chunks:\n",
    "        noun_phrases.add((i, item.start, item.end))\n",
    "        # print(item, item.start, item.end, sent_tokens[item.start: item.end], noun_phrases)\n",
    "\n",
    "    # Add into Query Spans (Noun Phrases + Prons)\n",
    "    query_source = noun_phrases | pron\n",
    "    for (sentenceIndex, startToken, endToken) in query_source:\n",
    "        span = {\n",
    "            \"sentenceIndex\": sentenceIndex,\n",
    "            \"startToken\": startToken,\n",
    "            \"endToken\": endToken\n",
    "        }\n",
    "        all_query_spans.append(span)\n",
    "\n",
    "    # Add into Candidate Spans (Noun Phrases + Prons + Nouns)\n",
    "    candidate_source = query_source | noun\n",
    "    for (sentenceIndex, startToken, endToken) in query_source:\n",
    "        span = {\n",
    "            \"sentenceIndex\": sentenceIndex,\n",
    "            \"startToken\": startToken,\n",
    "            \"endToken\": endToken\n",
    "        }\n",
    "        all_candidate_spans.append(span)\n",
    "\n",
    "output = []\n",
    "for sent in all_sentences:\n",
    "    sent.append(\"\\n\")\n",
    "temp = {\n",
    "    \"sentences\": all_sentences,\n",
    "    \"querySpans\": all_query_spans,\n",
    "    \"candidateSpans\": all_candidate_spans\n",
    "}\n",
    "output.append(temp)"
   ],
   "metadata": {
    "collapsed": false,
    "pycharm": {
     "name": "#%%\n"
    }
   }
  },
  {
   "cell_type": "code",
   "execution_count": 108,
   "outputs": [],
   "source": [
    "trf = deepcopy(all_candidate_spans)"
   ],
   "metadata": {
    "collapsed": false,
    "pycharm": {
     "name": "#%%\n"
    }
   }
  },
  {
   "cell_type": "code",
   "execution_count": 111,
   "outputs": [],
   "source": [
    "lg = deepcopy(all_candidate_spans)"
   ],
   "metadata": {
    "collapsed": false,
    "pycharm": {
     "name": "#%%\n"
    }
   }
  },
  {
   "cell_type": "code",
   "execution_count": 114,
   "outputs": [],
   "source": [
    "md = deepcopy(all_candidate_spans)"
   ],
   "metadata": {
    "collapsed": false,
    "pycharm": {
     "name": "#%%\n"
    }
   }
  },
  {
   "cell_type": "code",
   "execution_count": 117,
   "outputs": [],
   "source": [
    "sm = deepcopy(all_candidate_spans)"
   ],
   "metadata": {
    "collapsed": false,
    "pycharm": {
     "name": "#%%\n"
    }
   }
  },
  {
   "cell_type": "code",
   "execution_count": 129,
   "outputs": [
    {
     "name": "stdout",
     "output_type": "stream",
     "text": [
      "120\n",
      "129\n",
      "131\n",
      "134\n"
     ]
    }
   ],
   "source": [
    "spans = [trf, lg, md, sm]\n",
    "for x in spans:\n",
    "    print(len(x))"
   ],
   "metadata": {
    "collapsed": false,
    "pycharm": {
     "name": "#%%\n"
    }
   }
  },
  {
   "cell_type": "code",
   "execution_count": 128,
   "outputs": [
    {
     "name": "stdout",
     "output_type": "stream",
     "text": [
      "['a photon', 'it', 'it', 'both slits', 'it', 'its', 'two slits', 'it', 'the plane', 'it', 'it', 'either slit', 'its target', 'both slits', 'it', 'it', 'a plane']\n",
      "['a photon', 'it', 'it', 'both slits', 'it', 'its', 'two slits', 'it', 'the plane', 'it', 'it', 'either slit', 'its target', 'both slits', 'it', 'it', 'a plane']\n",
      "['a photon', 'it', 'it', 'both slits', 'it', 'its', 'two slits', 'it', 'the plane', 'Sheldon', 'it', 'it', 'either slit', 'its target', 'both slits', 'it', 'it', 'a plane']\n",
      "['a photon', 'it', 'it', 'both slits', 'it', 'its', 'two slits', 'it', 'the plane', 'Sheldon', 'it', 'it', 'either slit', 'its target', 'both slits', 'it', 'it', 'a plane']\n",
      "Sheldon :   So if a photon is directed through a plane with two slits in it and either slit is observed it will not go through both slits . If it ’s unobserved it will , however , if it ’s observed after it ’s left the plane but before it hits its target , it will not have gone through both slits . \n",
      "\n"
     ]
    }
   ],
   "source": [
    "for x in spans:\n",
    "    temp = {}\n",
    "    for item in x:\n",
    "        sentenceIndex = item['sentenceIndex']\n",
    "        startToken = item['startToken']\n",
    "        endToken = item['endToken']\n",
    "        if sentenceIndex not in temp:\n",
    "            temp[sentenceIndex] = [\" \".join(all_sentences[sentenceIndex][startToken: endToken])]\n",
    "        else:\n",
    "            temp[sentenceIndex].append(\" \".join(all_sentences[sentenceIndex][startToken: endToken]))\n",
    "    print(temp[0])\n",
    "print(\" \".join(all_sentences[0]))"
   ],
   "metadata": {
    "collapsed": false,
    "pycharm": {
     "name": "#%%\n"
    }
   }
  },
  {
   "cell_type": "code",
   "execution_count": 127,
   "outputs": [
    {
     "name": "stdout",
     "output_type": "stream",
     "text": [
      "['what', 'your point', 'your']\n",
      "['what', 'your point', 'your']\n",
      "['what', 'your point', 'your']\n",
      "['what', 'your', 'Leonard', 'your point', 'Agreed']\n",
      "Leonard :   Agreed , what ’s your point ? \n",
      "\n"
     ]
    }
   ],
   "source": [
    "for x in spans:\n",
    "    temp = {}\n",
    "    for item in x:\n",
    "        sentenceIndex = item['sentenceIndex']\n",
    "        startToken = item['startToken']\n",
    "        endToken = item['endToken']\n",
    "        if sentenceIndex not in temp:\n",
    "            temp[sentenceIndex] = [\" \".join(all_sentences[sentenceIndex][startToken: endToken])]\n",
    "        else:\n",
    "            temp[sentenceIndex].append(\" \".join(all_sentences[sentenceIndex][startToken: endToken]))\n",
    "    print(temp[1])\n",
    "print(\" \".join(all_sentences[1]))"
   ],
   "metadata": {
    "collapsed": false,
    "pycharm": {
     "name": "#%%\n"
    }
   }
  },
  {
   "cell_type": "code",
   "execution_count": 19,
   "outputs": [],
   "source": [
    "with open('test_short.csv', \"w\", encoding=\"utf-8\") as csv_fh:\n",
    "        fieldnames = ['json_data']\n",
    "        writer = csv.DictWriter(csv_fh, fieldnames, lineterminator='\\n')\n",
    "        writer.writeheader()\n",
    "        for line in output:\n",
    "            writer.writerow({'json_data': json.dumps(line)})"
   ],
   "metadata": {
    "collapsed": false,
    "pycharm": {
     "name": "#%%\n"
    }
   }
  },
  {
   "cell_type": "code",
   "execution_count": null,
   "outputs": [],
   "source": [],
   "metadata": {
    "collapsed": false,
    "pycharm": {
     "name": "#%%\n"
    }
   }
  },
  {
   "cell_type": "code",
   "execution_count": null,
   "outputs": [],
   "source": [],
   "metadata": {
    "collapsed": false,
    "pycharm": {
     "name": "#%%\n"
    }
   }
  },
  {
   "cell_type": "code",
   "execution_count": null,
   "outputs": [],
   "source": [],
   "metadata": {
    "collapsed": false,
    "pycharm": {
     "name": "#%%\n"
    }
   }
  },
  {
   "cell_type": "code",
   "execution_count": null,
   "outputs": [],
   "source": [],
   "metadata": {
    "collapsed": false,
    "pycharm": {
     "name": "#%%\n"
    }
   }
  },
  {
   "cell_type": "code",
   "execution_count": null,
   "outputs": [],
   "source": [],
   "metadata": {
    "collapsed": false,
    "pycharm": {
     "name": "#%%\n"
    }
   }
  },
  {
   "cell_type": "code",
   "execution_count": null,
   "outputs": [],
   "source": [],
   "metadata": {
    "collapsed": false,
    "pycharm": {
     "name": "#%%\n"
    }
   }
  },
  {
   "cell_type": "code",
   "execution_count": 22,
   "outputs": [
    {
     "name": "stderr",
     "output_type": "stream",
     "text": [
      "2022-02-28 10:59:02 INFO: Loading these models for language: en (English):\n",
      "===========================\n",
      "| Processor    | Package  |\n",
      "---------------------------\n",
      "| tokenize     | combined |\n",
      "| pos          | combined |\n",
      "| constituency | wsj      |\n",
      "===========================\n",
      "\n",
      "2022-02-28 10:59:02 INFO: Use device: cpu\n",
      "2022-02-28 10:59:02 INFO: Loading: tokenize\n",
      "2022-02-28 10:59:02 INFO: Loading: pos\n",
      "2022-02-28 10:59:02 INFO: Loading: constituency\n",
      "2022-02-28 10:59:02 INFO: Done loading processors!\n"
     ]
    }
   ],
   "source": [
    "nlp = stanza.Pipeline(lang='en', processors='tokenize, pos, constituency')"
   ],
   "metadata": {
    "collapsed": false,
    "pycharm": {
     "name": "#%%\n"
    }
   }
  },
  {
   "cell_type": "code",
   "execution_count": null,
   "outputs": [],
   "source": [],
   "metadata": {
    "collapsed": false,
    "pycharm": {
     "name": "#%%\n"
    }
   }
  },
  {
   "cell_type": "code",
   "execution_count": null,
   "outputs": [],
   "source": [],
   "metadata": {
    "collapsed": false,
    "pycharm": {
     "name": "#%%\n"
    }
   }
  }
 ],
 "metadata": {
  "kernelspec": {
   "display_name": "Python 3",
   "language": "python",
   "name": "python3"
  },
  "language_info": {
   "codemirror_mode": {
    "name": "ipython",
    "version": 2
   },
   "file_extension": ".py",
   "mimetype": "text/x-python",
   "name": "python",
   "nbconvert_exporter": "python",
   "pygments_lexer": "ipython2",
   "version": "2.7.6"
  }
 },
 "nbformat": 4,
 "nbformat_minor": 0
}