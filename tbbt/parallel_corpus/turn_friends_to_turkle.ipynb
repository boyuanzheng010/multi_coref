{
 "cells": [
  {
   "cell_type": "code",
   "execution_count": 182,
   "metadata": {
    "collapsed": true
   },
   "outputs": [],
   "source": [
    "import json\n",
    "import csv\n",
    "from copy import deepcopy"
   ]
  },
  {
   "cell_type": "code",
   "execution_count": 262,
   "outputs": [],
   "source": [
    "with open('friend_test.json') as f:\n",
    "    data = json.load(f)['episodes'][0]['scenes'][0]['utterances']"
   ],
   "metadata": {
    "collapsed": false,
    "pycharm": {
     "name": "#%%\n"
    }
   }
  },
  {
   "cell_type": "code",
   "execution_count": 263,
   "outputs": [],
   "source": [
    "# Gather all related data belonging to one scene\n",
    "all_sentences = []\n",
    "all_character_entities = []\n",
    "all_speakers = []\n",
    "\n",
    "for utt in data:\n",
    "    speaker = utt['speakers'][0]\n",
    "    sentences = utt['tokens']\n",
    "    character_entities = utt['character_entities']\n",
    "    temp = []\n",
    "    for item in character_entities[0]:\n",
    "        temp.append([item[0]+1, item[1]+1, item[2]])\n",
    "    character_entities[0] = temp\n",
    "    sentences[0].insert(0, speaker+\":\")\n",
    "    sentences[-1].append(\"\\n\")\n",
    "    all_sentences.extend(sentences)\n",
    "    all_character_entities.extend(character_entities)\n",
    "    all_speakers.append(speaker)\n",
    "\n",
    "\n",
    "output = []\n",
    "querySpans = []\n",
    "candidateSpans = []\n",
    "for j, x in enumerate(all_character_entities):\n",
    "    for item in x:\n",
    "        query_span = {\n",
    "            \"sentenceIndex\": j,\n",
    "            \"startToken\": item[0],\n",
    "            \"endToken\": item[1]\n",
    "        }\n",
    "        querySpans.append(query_span)\n",
    "\n",
    "temp = {\n",
    "    \"sentences\": all_sentences,\n",
    "    \"querySpans\": querySpans,\n",
    "    \"candidateSpans\": querySpans\n",
    "}\n",
    "output.append(temp)\n",
    "all_speakers = list(set(all_speakers))"
   ],
   "metadata": {
    "collapsed": false,
    "pycharm": {
     "name": "#%%\n"
    }
   }
  },
  {
   "cell_type": "code",
   "execution_count": 264,
   "outputs": [
    {
     "name": "stdout",
     "output_type": "stream",
     "text": [
      "sentences\n",
      "[['Chandler Bing:', 'I', 'ca', \"n't\", 'believe', 'you', 'would', 'actually', 'say', 'that', '.'], ['I', 'would', 'much', 'rather', 'be', 'Mr', '.', 'Peanut', 'than', 'Mr', '.', 'Salty', '.', '\\n'], ['Joey Tribbiani:', 'No', 'way', '!'], ['Mr', '.'], ['Salty', 'is', 'a', 'sailor', ',', 'all', 'right', ',', 'he', \"'s\", 'got', 'to', 'be', ',', 'like', ',', 'thetoughest', 'snack', 'there', 'is', '.', '\\n'], ['Ross Geller:', 'I', 'do', \"n't\", 'know', ',', 'you', 'do', \"n't\", 'wan', 'na', 'mess', 'with', 'corn', 'nuts', '.'], ['They', \"'re\", 'craaazy', '.', '\\n'], ['Monica Geller:', 'Oh', 'my', 'God', '.'], ['You', 'guys', '!'], ['You', 'got', 'ta', 'come', 'see', 'this', '!'], ['There', \"'s\", 'some', 'creep', 'out', 'there', 'with', 'a', 'telescope', '!', '\\n'], ['Ross Geller:', 'I', 'ca', \"n't\", 'believe', 'it', '!'], ['He', \"'s\", 'looking', 'right', 'at', 'us', '!', '\\n'], ['Rachel Green:', 'Oh', ',', 'that', 'is', 'so', 'sick', '.', '\\n'], ['Chandler Bing:', 'I', 'feel', 'violated', '.'], ['And', 'not', 'in', 'a', 'good', 'way', '.', '\\n'], ['Phoebe Buffay:', 'How', 'can', 'people', 'do', 'that', '?...'], ['Oh', ',', 'you', 'guys', ',', 'look', '!'], ['Ugly', 'Naked', 'Guy', 'got', 'gravity', 'boots', '!', '\\n']]\n",
      "\n",
      "querySpans\n",
      "[{'sentenceIndex': 0, 'startToken': 1, 'endToken': 2}, {'sentenceIndex': 0, 'startToken': 5, 'endToken': 6}, {'sentenceIndex': 1, 'startToken': 0, 'endToken': 1}, {'sentenceIndex': 4, 'startToken': 8, 'endToken': 9}, {'sentenceIndex': 5, 'startToken': 1, 'endToken': 2}, {'sentenceIndex': 5, 'startToken': 6, 'endToken': 7}, {'sentenceIndex': 8, 'startToken': 0, 'endToken': 1}, {'sentenceIndex': 9, 'startToken': 0, 'endToken': 1}, {'sentenceIndex': 11, 'startToken': 1, 'endToken': 2}, {'sentenceIndex': 12, 'startToken': 0, 'endToken': 1}, {'sentenceIndex': 12, 'startToken': 5, 'endToken': 6}, {'sentenceIndex': 14, 'startToken': 1, 'endToken': 2}, {'sentenceIndex': 17, 'startToken': 2, 'endToken': 3}, {'sentenceIndex': 18, 'startToken': 0, 'endToken': 3}]\n",
      "\n",
      "candidateSpans\n",
      "[{'sentenceIndex': 0, 'startToken': 1, 'endToken': 2}, {'sentenceIndex': 0, 'startToken': 5, 'endToken': 6}, {'sentenceIndex': 1, 'startToken': 0, 'endToken': 1}, {'sentenceIndex': 4, 'startToken': 8, 'endToken': 9}, {'sentenceIndex': 5, 'startToken': 1, 'endToken': 2}, {'sentenceIndex': 5, 'startToken': 6, 'endToken': 7}, {'sentenceIndex': 8, 'startToken': 0, 'endToken': 1}, {'sentenceIndex': 9, 'startToken': 0, 'endToken': 1}, {'sentenceIndex': 11, 'startToken': 1, 'endToken': 2}, {'sentenceIndex': 12, 'startToken': 0, 'endToken': 1}, {'sentenceIndex': 12, 'startToken': 5, 'endToken': 6}, {'sentenceIndex': 14, 'startToken': 1, 'endToken': 2}, {'sentenceIndex': 17, 'startToken': 2, 'endToken': 3}, {'sentenceIndex': 18, 'startToken': 0, 'endToken': 3}]\n",
      "\n"
     ]
    }
   ],
   "source": [
    "for x in output[0]:\n",
    "    print(x)\n",
    "    print(output[0][x])\n",
    "    print()"
   ],
   "metadata": {
    "collapsed": false,
    "pycharm": {
     "name": "#%%\n"
    }
   }
  },
  {
   "cell_type": "code",
   "execution_count": 1,
   "outputs": [
    {
     "ename": "NameError",
     "evalue": "name 'deepcopy' is not defined",
     "output_type": "error",
     "traceback": [
      "\u001B[0;31m---------------------------------------------------------------------------\u001B[0m",
      "\u001B[0;31mNameError\u001B[0m                                 Traceback (most recent call last)",
      "\u001B[0;32m/var/folders/w9/673mfrb56v7dvx7hhvw7s6240000gn/T/ipykernel_21598/3808177463.py\u001B[0m in \u001B[0;36m<module>\u001B[0;34m\u001B[0m\n\u001B[0;32m----> 1\u001B[0;31m \u001B[0mtemp\u001B[0m \u001B[0;34m=\u001B[0m \u001B[0mdeepcopy\u001B[0m\u001B[0;34m(\u001B[0m\u001B[0moutput\u001B[0m\u001B[0;34m[\u001B[0m\u001B[0;36m0\u001B[0m\u001B[0;34m]\u001B[0m\u001B[0;34m)\u001B[0m\u001B[0;34m\u001B[0m\u001B[0;34m\u001B[0m\u001B[0m\n\u001B[0m\u001B[1;32m      2\u001B[0m \u001B[0;34m\u001B[0m\u001B[0m\n\u001B[1;32m      3\u001B[0m \u001B[0;31m# sentences\u001B[0m\u001B[0;34m\u001B[0m\u001B[0;34m\u001B[0m\u001B[0;34m\u001B[0m\u001B[0m\n\u001B[1;32m      4\u001B[0m \u001B[0msentences\u001B[0m \u001B[0;34m=\u001B[0m \u001B[0mdeepcopy\u001B[0m\u001B[0;34m(\u001B[0m\u001B[0mtemp\u001B[0m\u001B[0;34m[\u001B[0m\u001B[0;34m'sentences'\u001B[0m\u001B[0;34m]\u001B[0m\u001B[0;34m)\u001B[0m\u001B[0;34m\u001B[0m\u001B[0;34m\u001B[0m\u001B[0m\n\u001B[1;32m      5\u001B[0m \u001B[0msentences\u001B[0m\u001B[0;34m.\u001B[0m\u001B[0minsert\u001B[0m\u001B[0;34m(\u001B[0m\u001B[0;36m0\u001B[0m\u001B[0;34m,\u001B[0m \u001B[0mall_speakers\u001B[0m\u001B[0;34m)\u001B[0m\u001B[0;34m\u001B[0m\u001B[0;34m\u001B[0m\u001B[0m\n",
      "\u001B[0;31mNameError\u001B[0m: name 'deepcopy' is not defined"
     ]
    }
   ],
   "source": [
    "temp = deepcopy(output[0])\n",
    "\n",
    "# sentences\n",
    "sentences = deepcopy(temp['sentences'])\n",
    "sentences.insert(0, all_speakers)\n",
    "\n",
    "# querySpans\n",
    "querySpans = temp['querySpans']\n",
    "for x in querySpans:\n",
    "    x['sentenceIndex'] += 1\n",
    "print(querySpans)\n",
    "print(\"==\"*50)\n",
    "\n",
    "# candidateSpans\n",
    "candidateSpans = deepcopy(querySpans)\n",
    "# Add the character into candidate spans\n",
    "speakers = []\n",
    "for speaker in sentences[0]:\n",
    "    speakers.append(\"|\")\n",
    "    speakers.append(speaker)\n",
    "speakers.append(\"\\n\")\n",
    "for i in range(len(speakers)):\n",
    "    if i % 2!=0:\n",
    "        # print(i, speakers[i])\n",
    "        query_span = {\n",
    "            \"sentenceIndex\": 0,\n",
    "            \"startToken\": i,\n",
    "            \"endToken\": i+1\n",
    "        }\n",
    "        candidateSpans.append(query_span)\n",
    "print(candidateSpans)\n",
    "print(\"==\"*50)\n",
    "\n",
    "\n",
    "sentences[0] = speakers\n",
    "print(sentences)\n",
    "print('=='*50)\n",
    "\n",
    "output = []\n",
    "temp = {\n",
    "    \"sentences\": [sent.append(\"\\n\") for sent in sentences],\n",
    "    \"querySpans\": querySpans,\n",
    "    \"candidateSpans\": candidateSpans\n",
    "}\n",
    "output.append(temp)"
   ],
   "metadata": {
    "collapsed": false,
    "pycharm": {
     "name": "#%%\n"
    }
   }
  },
  {
   "cell_type": "code",
   "execution_count": 266,
   "outputs": [],
   "source": [
    "with open('test.csv', \"w\", encoding=\"utf-8\") as csv_fh:\n",
    "        fieldnames = ['json_data']\n",
    "        writer = csv.DictWriter(csv_fh, fieldnames, lineterminator='\\n')\n",
    "        writer.writeheader()\n",
    "        for line in output:\n",
    "            writer.writerow({'json_data': json.dumps(line)})"
   ],
   "metadata": {
    "collapsed": false,
    "pycharm": {
     "name": "#%%\n"
    }
   }
  },
  {
   "cell_type": "code",
   "execution_count": 254,
   "outputs": [
    {
     "name": "stdout",
     "output_type": "stream",
     "text": [
      "sentences\n",
      "[['Joey Tribbiani', 'Ross Geller', 'Chandler Bing', 'Monica Geller', 'Phoebe Buffay', 'Rachel Green'], ['Chandler Bing:', 'I', 'ca', \"n't\", 'believe', 'you', 'would', 'actually', 'say', 'that', '.'], ['I', 'would', 'much', 'rather', 'be', 'Mr', '.', 'Peanut', 'than', 'Mr', '.', 'Salty', '.', '\\n'], ['Joey Tribbiani:', 'No', 'way', '!'], ['Mr', '.'], ['Salty', 'is', 'a', 'sailor', ',', 'all', 'right', ',', 'he', \"'s\", 'got', 'to', 'be', ',', 'like', ',', 'thetoughest', 'snack', 'there', 'is', '.', '\\n'], ['Ross Geller:', 'I', 'do', \"n't\", 'know', ',', 'you', 'do', \"n't\", 'wan', 'na', 'mess', 'with', 'corn', 'nuts', '.'], ['They', \"'re\", 'craaazy', '.', '\\n'], ['Monica Geller:', 'Oh', 'my', 'God', '.'], ['You', 'guys', '!'], ['You', 'got', 'ta', 'come', 'see', 'this', '!'], ['There', \"'s\", 'some', 'creep', 'out', 'there', 'with', 'a', 'telescope', '!', '\\n'], ['Ross Geller:', 'I', 'ca', \"n't\", 'believe', 'it', '!'], ['He', \"'s\", 'looking', 'right', 'at', 'us', '!', '\\n'], ['Rachel Green:', 'Oh', ',', 'that', 'is', 'so', 'sick', '.', '\\n'], ['Chandler Bing:', 'I', 'feel', 'violated', '.'], ['And', 'not', 'in', 'a', 'good', 'way', '.', '\\n'], ['Phoebe Buffay:', 'How', 'can', 'people', 'do', 'that', '?...'], ['Oh', ',', 'you', 'guys', ',', 'look', '!'], ['Ugly', 'Naked', 'Guy', 'got', 'gravity', 'boots', '!', '\\n']]\n",
      "\n",
      "querySpans\n",
      "[{'sentenceIndex': 1, 'startToken': 1, 'endToken': 2}, {'sentenceIndex': 1, 'startToken': 5, 'endToken': 6}, {'sentenceIndex': 2, 'startToken': 0, 'endToken': 1}, {'sentenceIndex': 5, 'startToken': 8, 'endToken': 9}, {'sentenceIndex': 6, 'startToken': 1, 'endToken': 2}, {'sentenceIndex': 6, 'startToken': 6, 'endToken': 7}, {'sentenceIndex': 9, 'startToken': 0, 'endToken': 1}, {'sentenceIndex': 10, 'startToken': 0, 'endToken': 1}, {'sentenceIndex': 12, 'startToken': 1, 'endToken': 2}, {'sentenceIndex': 13, 'startToken': 0, 'endToken': 1}, {'sentenceIndex': 13, 'startToken': 5, 'endToken': 6}, {'sentenceIndex': 15, 'startToken': 1, 'endToken': 2}, {'sentenceIndex': 18, 'startToken': 2, 'endToken': 3}, {'sentenceIndex': 19, 'startToken': 0, 'endToken': 3}]\n",
      "\n",
      "candidateSpans\n",
      "[{'sentenceIndex': 1, 'startToken': 1, 'endToken': 2}, {'sentenceIndex': 1, 'startToken': 5, 'endToken': 6}, {'sentenceIndex': 2, 'startToken': 0, 'endToken': 1}, {'sentenceIndex': 5, 'startToken': 8, 'endToken': 9}, {'sentenceIndex': 6, 'startToken': 1, 'endToken': 2}, {'sentenceIndex': 6, 'startToken': 6, 'endToken': 7}, {'sentenceIndex': 9, 'startToken': 0, 'endToken': 1}, {'sentenceIndex': 10, 'startToken': 0, 'endToken': 1}, {'sentenceIndex': 12, 'startToken': 1, 'endToken': 2}, {'sentenceIndex': 13, 'startToken': 0, 'endToken': 1}, {'sentenceIndex': 13, 'startToken': 5, 'endToken': 6}, {'sentenceIndex': 15, 'startToken': 1, 'endToken': 2}, {'sentenceIndex': 18, 'startToken': 2, 'endToken': 3}, {'sentenceIndex': 19, 'startToken': 0, 'endToken': 3}, {'sentenceIndex': 0, 'startToken': 1, 'endToken': 2}, {'sentenceIndex': 0, 'startToken': 3, 'endToken': 4}, {'sentenceIndex': 0, 'startToken': 5, 'endToken': 6}, {'sentenceIndex': 0, 'startToken': 7, 'endToken': 8}, {'sentenceIndex': 0, 'startToken': 9, 'endToken': 10}, {'sentenceIndex': 0, 'startToken': 11, 'endToken': 12}]\n",
      "\n"
     ]
    }
   ],
   "source": [
    "for x in output[0]:\n",
    "    print(x)\n",
    "    print(output[0][x])\n",
    "    print()"
   ],
   "metadata": {
    "collapsed": false,
    "pycharm": {
     "name": "#%%\n"
    }
   }
  },
  {
   "cell_type": "code",
   "execution_count": 72,
   "outputs": [
    {
     "name": "stdout",
     "output_type": "stream",
     "text": [
      "sentences [['I', 'ca', \"n't\", 'believe', 'you', 'would', 'actually', 'say', 'that', '.'], ['I', 'would', 'much', 'rather', 'be', 'Mr', '.', 'Peanut', 'than', 'Mr', '.', 'Salty', '.']]\n",
      "querySpans [{'sentenceIndex': 0, 'startToken': 0, 'endToken': 1}, {'sentenceIndex': 0, 'startToken': 4, 'endToken': 5}, {'sentenceIndex': 1, 'startToken': 0, 'endToken': 1}]\n",
      "candidateSpans [{'sentenceIndex': 0, 'startToken': 0, 'endToken': 1}, {'sentenceIndex': 0, 'startToken': 4, 'endToken': 5}, {'sentenceIndex': 1, 'startToken': 0, 'endToken': 1}]\n",
      "\n",
      "sentences [['No', 'way', '!'], ['Mr', '.'], ['Salty', 'is', 'a', 'sailor', ',', 'all', 'right', ',', 'he', \"'s\", 'got', 'to', 'be', ',', 'like', ',', 'thetoughest', 'snack', 'there', 'is', '.']]\n",
      "querySpans [{'sentenceIndex': 2, 'startToken': 8, 'endToken': 9}]\n",
      "candidateSpans [{'sentenceIndex': 2, 'startToken': 8, 'endToken': 9}]\n",
      "\n",
      "sentences [['I', 'do', \"n't\", 'know', ',', 'you', 'do', \"n't\", 'wan', 'na', 'mess', 'with', 'corn', 'nuts', '.'], ['They', \"'re\", 'craaazy', '.']]\n",
      "querySpans [{'sentenceIndex': 0, 'startToken': 0, 'endToken': 1}, {'sentenceIndex': 0, 'startToken': 5, 'endToken': 6}]\n",
      "candidateSpans [{'sentenceIndex': 0, 'startToken': 0, 'endToken': 1}, {'sentenceIndex': 0, 'startToken': 5, 'endToken': 6}]\n",
      "\n",
      "sentences [['Oh', 'my', 'God', '.'], ['You', 'guys', '!'], ['You', 'got', 'ta', 'come', 'see', 'this', '!'], ['There', \"'s\", 'some', 'creep', 'out', 'there', 'with', 'a', 'telescope', '!']]\n",
      "querySpans [{'sentenceIndex': 1, 'startToken': 0, 'endToken': 1}, {'sentenceIndex': 2, 'startToken': 0, 'endToken': 1}]\n",
      "candidateSpans [{'sentenceIndex': 1, 'startToken': 0, 'endToken': 1}, {'sentenceIndex': 2, 'startToken': 0, 'endToken': 1}]\n",
      "\n",
      "sentences [['I', 'ca', \"n't\", 'believe', 'it', '!'], ['He', \"'s\", 'looking', 'right', 'at', 'us', '!']]\n",
      "querySpans [{'sentenceIndex': 0, 'startToken': 0, 'endToken': 1}, {'sentenceIndex': 1, 'startToken': 0, 'endToken': 1}, {'sentenceIndex': 1, 'startToken': 5, 'endToken': 6}]\n",
      "candidateSpans [{'sentenceIndex': 0, 'startToken': 0, 'endToken': 1}, {'sentenceIndex': 1, 'startToken': 0, 'endToken': 1}, {'sentenceIndex': 1, 'startToken': 5, 'endToken': 6}]\n",
      "\n",
      "sentences [['Oh', ',', 'that', 'is', 'so', 'sick', '.']]\n",
      "querySpans []\n",
      "candidateSpans []\n",
      "\n",
      "sentences [['I', 'feel', 'violated', '.'], ['And', 'not', 'in', 'a', 'good', 'way', '.']]\n",
      "querySpans [{'sentenceIndex': 0, 'startToken': 0, 'endToken': 1}]\n",
      "candidateSpans [{'sentenceIndex': 0, 'startToken': 0, 'endToken': 1}]\n",
      "\n",
      "sentences [['How', 'can', 'people', 'do', 'that', '?...'], ['Oh', ',', 'you', 'guys', ',', 'look', '!'], ['Ugly', 'Naked', 'Guy', 'got', 'gravity', 'boots', '!']]\n",
      "querySpans [{'sentenceIndex': 1, 'startToken': 2, 'endToken': 3}, {'sentenceIndex': 2, 'startToken': 0, 'endToken': 3}]\n",
      "candidateSpans [{'sentenceIndex': 1, 'startToken': 2, 'endToken': 3}, {'sentenceIndex': 2, 'startToken': 0, 'endToken': 3}]\n",
      "\n"
     ]
    }
   ],
   "source": [
    "for item in output:\n",
    "    for x in item:\n",
    "        print(x, item[x])\n",
    "    print()"
   ],
   "metadata": {
    "collapsed": false,
    "pycharm": {
     "name": "#%%\n"
    }
   }
  },
  {
   "cell_type": "code",
   "execution_count": null,
   "outputs": [],
   "source": [],
   "metadata": {
    "collapsed": false,
    "pycharm": {
     "name": "#%%\n"
    }
   }
  },
  {
   "cell_type": "code",
   "execution_count": null,
   "outputs": [],
   "source": [],
   "metadata": {
    "collapsed": false,
    "pycharm": {
     "name": "#%%\n"
    }
   }
  },
  {
   "cell_type": "code",
   "execution_count": null,
   "outputs": [],
   "source": [],
   "metadata": {
    "collapsed": false,
    "pycharm": {
     "name": "#%%\n"
    }
   }
  },
  {
   "cell_type": "code",
   "execution_count": 29,
   "outputs": [
    {
     "name": "stdout",
     "output_type": "stream",
     "text": [
      "utterance_id s01_e20_c01_u001\n",
      "speakers ['Chandler Bing']\n",
      "transcript I can't believe you would actually say that. I would much rather be Mr. Peanut than Mr. Salty.\n",
      "tokens [['I', 'ca', \"n't\", 'believe', 'you', 'would', 'actually', 'say', 'that', '.'], ['I', 'would', 'much', 'rather', 'be', 'Mr', '.', 'Peanut', 'than', 'Mr', '.', 'Salty', '.']]\n",
      "character_entities [[[0, 1, 'Chandler Bing'], [4, 5, 'Joey Tribbiani']], [[0, 1, 'Chandler Bing']]]\n",
      "====================================================================================================\n",
      "utterance_id s01_e20_c01_u002\n",
      "speakers ['Joey Tribbiani']\n",
      "transcript No way! Mr.Salty is a sailor, all right, he's got to be, like, thetoughest snack there is.\n",
      "tokens [['No', 'way', '!'], ['Mr', '.'], ['Salty', 'is', 'a', 'sailor', ',', 'all', 'right', ',', 'he', \"'s\", 'got', 'to', 'be', ',', 'like', ',', 'thetoughest', 'snack', 'there', 'is', '.']]\n",
      "character_entities [[], [], [[8, 9, 'Mr. Salty']]]\n",
      "====================================================================================================\n",
      "utterance_id s01_e20_c01_u003\n",
      "speakers ['Ross Geller']\n",
      "transcript I don't know, you don't wanna mess with corn nuts. They're craaazy.\n",
      "tokens [['I', 'do', \"n't\", 'know', ',', 'you', 'do', \"n't\", 'wan', 'na', 'mess', 'with', 'corn', 'nuts', '.'], ['They', \"'re\", 'craaazy', '.']]\n",
      "character_entities [[[0, 1, 'Ross Geller'], [5, 6, 'Ross Geller', 'Joey Tribbiani', '#GENERAL#', 'Chandler Bing']], []]\n",
      "====================================================================================================\n",
      "utterance_id s01_e20_c01_u004\n",
      "speakers ['Monica Geller']\n",
      "transcript Oh my God. You guys! You gotta come see this! There's some creep out there with a telescope!\n",
      "tokens [['Oh', 'my', 'God', '.'], ['You', 'guys', '!'], ['You', 'got', 'ta', 'come', 'see', 'this', '!'], ['There', \"'s\", 'some', 'creep', 'out', 'there', 'with', 'a', 'telescope', '!']]\n",
      "character_entities [[], [[0, 1, 'Ross Geller', 'Joey Tribbiani', 'Phoebe Buffay', 'Rachel Green', 'Chandler Bing']], [[0, 1, 'Ross Geller', 'Joey Tribbiani', 'Phoebe Buffay', 'Rachel Green', 'Chandler Bing']], []]\n",
      "====================================================================================================\n",
      "utterance_id s01_e20_c01_u005\n",
      "speakers ['Ross Geller']\n",
      "transcript I can't believe it! He's looking right at us!\n",
      "tokens [['I', 'ca', \"n't\", 'believe', 'it', '!'], ['He', \"'s\", 'looking', 'right', 'at', 'us', '!']]\n",
      "character_entities [[[0, 1, 'Ross Geller']], [[0, 1, 'Man 1'], [5, 6, 'Ross Geller', 'Joey Tribbiani', 'Phoebe Buffay', 'Rachel Green', 'Monica Geller', 'Chandler Bing']]]\n",
      "====================================================================================================\n",
      "utterance_id s01_e20_c01_u006\n",
      "speakers ['Rachel Green']\n",
      "transcript Oh, that is so sick.\n",
      "tokens [['Oh', ',', 'that', 'is', 'so', 'sick', '.']]\n",
      "character_entities [[]]\n",
      "====================================================================================================\n",
      "utterance_id s01_e20_c01_u007\n",
      "speakers ['Chandler Bing']\n",
      "transcript I feel violated. And not in a good way.\n",
      "tokens [['I', 'feel', 'violated', '.'], ['And', 'not', 'in', 'a', 'good', 'way', '.']]\n",
      "character_entities [[[0, 1, 'Chandler Bing']], []]\n",
      "====================================================================================================\n",
      "utterance_id s01_e20_c01_u008\n",
      "speakers ['Phoebe Buffay']\n",
      "transcript How can people do that?... Oh, you guys, look! Ugly Naked Guy got gravity boots!\n",
      "tokens [['How', 'can', 'people', 'do', 'that', '?...'], ['Oh', ',', 'you', 'guys', ',', 'look', '!'], ['Ugly', 'Naked', 'Guy', 'got', 'gravity', 'boots', '!']]\n",
      "character_entities [[], [[2, 3, 'Ross Geller', 'Joey Tribbiani', 'Rachel Green', 'Monica Geller', 'Chandler Bing']], [[0, 3, 'Ugly Naked Guy']]]\n",
      "====================================================================================================\n"
     ]
    }
   ],
   "source": [
    "temp = data[0]['utterances']\n",
    "for utt in temp:\n",
    "    for x in utt:\n",
    "        print(x, utt[x])\n",
    "    print(\"==\"*50)"
   ],
   "metadata": {
    "collapsed": false,
    "pycharm": {
     "name": "#%%\n"
    }
   }
  },
  {
   "cell_type": "code",
   "execution_count": 33,
   "outputs": [
    {
     "name": "stdout",
     "output_type": "stream",
     "text": [
      "{'utterance_id': 's01_e20_c01_u001', 'speakers': ['Chandler Bing'], 'transcript': \"I can't believe you would actually say that. I would much rather be Mr. Peanut than Mr. Salty.\", 'tokens': [['I', 'ca', \"n't\", 'believe', 'you', 'would', 'actually', 'say', 'that', '.'], ['I', 'would', 'much', 'rather', 'be', 'Mr', '.', 'Peanut', 'than', 'Mr', '.', 'Salty', '.']], 'character_entities': [[[0, 1, 'Chandler Bing'], [4, 5, 'Joey Tribbiani']], [[0, 1, 'Chandler Bing']]]}\n"
     ]
    }
   ],
   "source": [
    "utterance = data[0]['utterances'][0]\n",
    "print(utterance)"
   ],
   "metadata": {
    "collapsed": false,
    "pycharm": {
     "name": "#%%\n"
    }
   }
  },
  {
   "cell_type": "code",
   "execution_count": 36,
   "outputs": [
    {
     "name": "stdout",
     "output_type": "stream",
     "text": [
      "I can't believe you would actually say that. I would much rather be Mr. Peanut than Mr. Salty.\n",
      "[['I', 'ca', \"n't\", 'believe', 'you', 'would', 'actually', 'say', 'that', '.'], ['I', 'would', 'much', 'rather', 'be', 'Mr', '.', 'Peanut', 'than', 'Mr', '.', 'Salty', '.']] 2\n",
      "[[[0, 1, 'Chandler Bing'], [4, 5, 'Joey Tribbiani']], [[0, 1, 'Chandler Bing']]] 2\n"
     ]
    }
   ],
   "source": [
    "transcript = utterance['transcript']\n",
    "tokens = utterance['tokens']\n",
    "character_entities = utterance['character_entities']\n",
    "print(transcript)\n",
    "print(tokens, len(tokens))\n",
    "print(character_entities, len(character_entities))"
   ],
   "metadata": {
    "collapsed": false,
    "pycharm": {
     "name": "#%%\n"
    }
   }
  },
  {
   "cell_type": "code",
   "execution_count": 38,
   "outputs": [
    {
     "name": "stdout",
     "output_type": "stream",
     "text": [
      "['I', 'ca', \"n't\", 'believe', 'you', 'would', 'actually', 'say', 'that', '.']\n",
      "[[0, 1, 'Chandler Bing'], [4, 5, 'Joey Tribbiani']]\n",
      "['I'] Chandler Bing\n",
      "['you'] Joey Tribbiani\n",
      "\n",
      "['I', 'would', 'much', 'rather', 'be', 'Mr', '.', 'Peanut', 'than', 'Mr', '.', 'Salty', '.']\n",
      "[[0, 1, 'Chandler Bing']]\n",
      "['I'] Chandler Bing\n",
      "\n"
     ]
    }
   ],
   "source": [
    "for token, characters in zip(tokens, character_entities):\n",
    "    print(token)\n",
    "    print(characters)\n",
    "    for item in characters:\n",
    "        print(token[item[0]:item[1]], item[-1])\n",
    "    print()"
   ],
   "metadata": {
    "collapsed": false,
    "pycharm": {
     "name": "#%%\n"
    }
   }
  },
  {
   "cell_type": "code",
   "execution_count": null,
   "outputs": [],
   "source": [],
   "metadata": {
    "collapsed": false,
    "pycharm": {
     "name": "#%%\n"
    }
   }
  },
  {
   "cell_type": "code",
   "execution_count": null,
   "outputs": [],
   "source": [],
   "metadata": {
    "collapsed": false,
    "pycharm": {
     "name": "#%%\n"
    }
   }
  },
  {
   "cell_type": "code",
   "execution_count": null,
   "outputs": [],
   "source": [],
   "metadata": {
    "collapsed": false,
    "pycharm": {
     "name": "#%%\n"
    }
   }
  },
  {
   "cell_type": "code",
   "execution_count": null,
   "outputs": [],
   "source": [],
   "metadata": {
    "collapsed": false,
    "pycharm": {
     "name": "#%%\n"
    }
   }
  },
  {
   "cell_type": "code",
   "execution_count": null,
   "outputs": [],
   "source": [],
   "metadata": {
    "collapsed": false,
    "pycharm": {
     "name": "#%%\n"
    }
   }
  },
  {
   "cell_type": "code",
   "execution_count": null,
   "outputs": [],
   "source": [],
   "metadata": {
    "collapsed": false,
    "pycharm": {
     "name": "#%%\n"
    }
   }
  },
  {
   "cell_type": "code",
   "execution_count": null,
   "outputs": [],
   "source": [],
   "metadata": {
    "collapsed": false,
    "pycharm": {
     "name": "#%%\n"
    }
   }
  },
  {
   "cell_type": "code",
   "execution_count": null,
   "outputs": [],
   "source": [],
   "metadata": {
    "collapsed": false,
    "pycharm": {
     "name": "#%%\n"
    }
   }
  },
  {
   "cell_type": "code",
   "execution_count": null,
   "outputs": [],
   "source": [],
   "metadata": {
    "collapsed": false,
    "pycharm": {
     "name": "#%%\n"
    }
   }
  },
  {
   "cell_type": "code",
   "execution_count": null,
   "outputs": [],
   "source": [],
   "metadata": {
    "collapsed": false,
    "pycharm": {
     "name": "#%%\n"
    }
   }
  }
 ],
 "metadata": {
  "kernelspec": {
   "display_name": "Python 3",
   "language": "python",
   "name": "python3"
  },
  "language_info": {
   "codemirror_mode": {
    "name": "ipython",
    "version": 2
   },
   "file_extension": ".py",
   "mimetype": "text/x-python",
   "name": "python",
   "nbconvert_exporter": "python",
   "pygments_lexer": "ipython2",
   "version": "2.7.6"
  }
 },
 "nbformat": 4,
 "nbformat_minor": 0
}