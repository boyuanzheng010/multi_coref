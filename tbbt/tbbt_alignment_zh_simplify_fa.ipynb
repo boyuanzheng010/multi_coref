{
 "cells": [
  {
   "cell_type": "code",
   "execution_count": 16,
   "metadata": {
    "collapsed": true
   },
   "outputs": [],
   "source": [
    "import pickle as pkl\n",
    "import json\n",
    "from collections import defaultdict\n",
    "import jiwer\n",
    "from copy import deepcopy\n",
    "from tqdm import tqdm\n",
    "import xlsxwriter\n",
    "import re"
   ]
  },
  {
   "cell_type": "code",
   "execution_count": 17,
   "outputs": [],
   "source": [
    "from utils.preprocessing import organize_tbbt_by_seasons\n",
    "from utils.preprocessing import get_epi_indexs_gaps\n",
    "from utils.preprocessing import find_all_continuous_subsets\n",
    "from utils.preprocessing import calculate_gaps\n",
    "from utils.preprocessing import fetch_subsets\n",
    "from utils.alignment import string_match_sliding_window\n",
    "from utils.alignment import filter_alignment_by_gap\n",
    "from utils.alignment import turn_sub2epi_into_epi2sub\n",
    "from utils.alignment import extend_neighbors\n",
    "from utils.alignment import exact_match\n",
    "from utils.alignment import add_cleaned_exact_match_result\n",
    "from utils.alignment import full_fill_gap\n",
    "from utils.alignment import get_subset_in_gaps"
   ],
   "metadata": {
    "collapsed": false,
    "pycharm": {
     "name": "#%%\n"
    }
   }
  },
  {
   "cell_type": "code",
   "execution_count": 18,
   "outputs": [],
   "source": [
    "# Define sentence transformation\n",
    "transformation = jiwer.Compose([\n",
    "    jiwer.ToLowerCase(),\n",
    "    jiwer.RemoveMultipleSpaces(),\n",
    "    jiwer.ExpandCommonEnglishContractions(),\n",
    "    jiwer.RemovePunctuation(),\n",
    "    jiwer.Strip()\n",
    "])"
   ],
   "metadata": {
    "collapsed": false,
    "pycharm": {
     "name": "#%%\n"
    }
   }
  },
  {
   "cell_type": "code",
   "execution_count": 19,
   "outputs": [],
   "source": [
    "# Load Open Subtitle\n",
    "with open('../open_subtitle/en_fa/en_subtitles.pkl', 'rb') as f:\n",
    "    en_subtitle = pkl.load(f)\n",
    "with open('../open_subtitle/en_fa/fa_subtitles.pkl', 'rb') as f:\n",
    "    zh_subtitle = pkl.load(f)"
   ],
   "metadata": {
    "collapsed": false,
    "pycharm": {
     "name": "#%%\n"
    }
   }
  },
  {
   "cell_type": "code",
   "execution_count": 20,
   "outputs": [],
   "source": [
    "with open('original_transcript/tbbt_transcripts.pkl', 'rb') as f:\n",
    "    tbbt_transcripts = pkl.load(f)"
   ],
   "metadata": {
    "collapsed": false,
    "pycharm": {
     "name": "#%%\n"
    }
   }
  },
  {
   "cell_type": "markdown",
   "source": [
    "# Section 1: Course-Grained Alignment\n",
    "Use string match to fetch relevant index of open subtitle for each episode\n",
    "The code is included in the \\backup\\align_memor_open.py"
   ],
   "metadata": {
    "collapsed": false,
    "pycharm": {
     "name": "#%% md\n"
    }
   }
  },
  {
   "cell_type": "code",
   "execution_count": 21,
   "outputs": [],
   "source": [
    "# Load alignment results after stage-2\n",
    "with open('alignment_results/fa/indexs_tbbt_fa.pkl', 'rb') as f:\n",
    "    temp = pkl.load(f)\n",
    "results = organize_tbbt_by_seasons(temp)"
   ],
   "metadata": {
    "collapsed": false,
    "pycharm": {
     "name": "#%%\n"
    }
   }
  },
  {
   "cell_type": "markdown",
   "source": [
    "# Section 2: Fine-Grained Alignment\n",
    "\n",
    "In this section, we fetch alignment within one episode using the course alignment indexs fetch in the last section.\n",
    "\n",
    "This include the following parts:\n",
    "\n",
    "2.1: Fetch transcript episode and open subtitle subset\n",
    "2.2: Exact String Match (Use as the seed, since it is more accurate)\n",
    "2.3: Substring Exact Match (Sliding Window Algorithm)\n",
    "2.4: Merge the alignment result of 2.2, 2.3 and filter by the index"
   ],
   "metadata": {
    "collapsed": false,
    "pycharm": {
     "name": "#%% md\n"
    }
   }
  },
  {
   "cell_type": "markdown",
   "source": [
    "#### Part 2.1: Fetch Transcript Episode and Open Subtitle Subset"
   ],
   "metadata": {
    "collapsed": false,
    "pycharm": {
     "name": "#%% md\n"
    }
   }
  },
  {
   "cell_type": "code",
   "execution_count": 11,
   "outputs": [],
   "source": [
    "(en_subset, zh_subset, tbbt_episode) = fetch_subsets(\n",
    "        episode=tbbt_transcripts,\n",
    "        en_subtitle=en_subtitle,\n",
    "        zh_subtitle=zh_subtitle,\n",
    "        results=results,\n",
    "        season_id=1,\n",
    "        episode_id=1,\n",
    "        bias=200\n",
    "    )"
   ],
   "metadata": {
    "collapsed": false,
    "pycharm": {
     "name": "#%%\n"
    }
   }
  },
  {
   "cell_type": "markdown",
   "source": [
    "#### Part 2.2: String Match with sliding window"
   ],
   "metadata": {
    "collapsed": false,
    "pycharm": {
     "name": "#%% md\n"
    }
   }
  },
  {
   "cell_type": "code",
   "execution_count": 7,
   "outputs": [],
   "source": [
    "# Part 1: String Match with sliding window\n",
    "def string_match_sliding_window(en_subset, episode, window_size=5):\n",
    "    res = {}\n",
    "    for i, subtitle in enumerate(en_subset):\n",
    "        subtitle = transformation(subtitle)\n",
    "        subtitle_tokens = subtitle.strip().split(\" \")\n",
    "        if len(subtitle_tokens) < window_size:\n",
    "            continue\n",
    "\n",
    "        subtitle_segments = []\n",
    "        for j in range(len(subtitle_tokens) - window_size):\n",
    "            subtitle_segments.append(\" \".join(subtitle_tokens[j: j + window_size]))\n",
    "            # print(\" \".join(subtitle_tokens[j: j+5]))\n",
    "\n",
    "        for j, (utt, speaker) in enumerate(episode):\n",
    "            utt = transformation(utt)\n",
    "            for sub_seg in subtitle_segments:\n",
    "                if sub_seg in utt:\n",
    "                    if i not in res:\n",
    "                        res[i] = set()\n",
    "                        res[i].add(j)\n",
    "                    else:\n",
    "                        res[i].add(j)\n",
    "    return res"
   ],
   "metadata": {
    "collapsed": false,
    "pycharm": {
     "name": "#%%\n"
    }
   }
  },
  {
   "cell_type": "code",
   "execution_count": null,
   "outputs": [
    {
     "name": "stdout",
     "output_type": "stream",
     "text": [
      "Season: 1 Episode: 1 Episode Number: 48 Subtitle Number: 42\n",
      "Season: 1 Episode: 3 Episode Number: 37 Subtitle Number: 36\n",
      "Season: 1 Episode: 4 Episode Number: 52 Subtitle Number: 42\n",
      "Season: 1 Episode: 6 Episode Number: 49 Subtitle Number: 48\n",
      "Season: 1 Episode: 7 Episode Number: 53 Subtitle Number: 50\n",
      "Season: 1 Episode: 8 Episode Number: 64 Subtitle Number: 54\n",
      "Season: 1 Episode: 9 Episode Number: 40 Subtitle Number: 35\n",
      "Season: 1 Episode: 10 Episode Number: 61 Subtitle Number: 53\n",
      "Season: 1 Episode: 11 Episode Number: 35 Subtitle Number: 34\n",
      "Season: 1 Episode: 12 Episode Number: 69 Subtitle Number: 57\n",
      "Season: 1 Episode: 13 Episode Number: 58 Subtitle Number: 53\n",
      "Season: 2 Episode: 4 Episode Number: 28 Subtitle Number: 26\n",
      "Season: 2 Episode: 6 Episode Number: 52 Subtitle Number: 46\n",
      "Season: 2 Episode: 21 Episode Number: 0 Subtitle Number: 0\n",
      "Season: 4 Episode: 23 Episode Number: 62 Subtitle Number: 56\n",
      "Season: 4 Episode: 24 Episode Number: 59 Subtitle Number: 52\n",
      "Season: 5 Episode: 14 Episode Number: 51 Subtitle Number: 40\n"
     ]
    }
   ],
   "source": [
    "result_0_all = {}\n",
    "for i in range(12):\n",
    "    for j in range(30):\n",
    "        try:\n",
    "            (en_subset, zh_subset, tbbt_episode) = fetch_subsets(\n",
    "                episode=tbbt_transcripts,\n",
    "                en_subtitle=en_subtitle,\n",
    "                zh_subtitle=zh_subtitle,\n",
    "                results=results,\n",
    "                season_id=i+1,\n",
    "                episode_id=j+1,\n",
    "                bias=200\n",
    "            )\n",
    "            temp = string_match_sliding_window(en_subset, tbbt_episode, window_size=9)\n",
    "            result_0_all[(i+1,j+1)] = temp\n",
    "            print(\"Season:\", i+1,\"Episode:\", j+1, \"Episode Number:\",len(temp), \"Subtitle Number:\",len(turn_sub2epi_into_epi2sub(temp)))\n",
    "        except:\n",
    "            pass"
   ],
   "metadata": {
    "collapsed": false,
    "pycharm": {
     "name": "#%%\n"
    }
   }
  },
  {
   "cell_type": "code",
   "execution_count": 79,
   "outputs": [],
   "source": [
    "with open('alignment_part_1_string_match.pkl', 'wb') as f:\n",
    "    pkl.dump(result_0_all, f)"
   ],
   "metadata": {
    "collapsed": false,
    "pycharm": {
     "name": "#%%\n"
    }
   }
  },
  {
   "cell_type": "code",
   "execution_count": 11,
   "outputs": [],
   "source": [
    "with open('alignment_part_1_string_match.pkl', 'rb') as f:\n",
    "    result_0_all = pkl.load(f)"
   ],
   "metadata": {
    "collapsed": false,
    "pycharm": {
     "name": "#%%\n"
    }
   }
  },
  {
   "cell_type": "markdown",
   "source": [
    "#### Part 2.2: Strict Match"
   ],
   "metadata": {
    "collapsed": false,
    "pycharm": {
     "name": "#%% md\n"
    }
   }
  },
  {
   "cell_type": "code",
   "execution_count": 327,
   "outputs": [],
   "source": [
    "(en_subset, zh_subset, tbbt_episode) = fetch_subsets(\n",
    "        episode=tbbt_transcripts,\n",
    "        en_subtitle=en_subtitle,\n",
    "        zh_subtitle=zh_subtitle,\n",
    "        results=results,\n",
    "        season_id=1,\n",
    "        episode_id=1,\n",
    "        bias=200\n",
    "    )"
   ],
   "metadata": {
    "collapsed": false,
    "pycharm": {
     "name": "#%%\n"
    }
   }
  },
  {
   "cell_type": "code",
   "execution_count": 8,
   "outputs": [],
   "source": [
    "def exact_match(en_subset, episode):\n",
    "    res = {}\n",
    "    for i, subtitle in enumerate(en_subset):\n",
    "        subtitle = transformation(subtitle)\n",
    "        if len(subtitle.strip().split(\" \")) <=5:\n",
    "            continue\n",
    "        # Exact Match for short sentences\n",
    "        for j, (utt, speaker) in enumerate(episode):\n",
    "            utt = transformation(utt)\n",
    "            if subtitle == utt:\n",
    "                if i not in res:\n",
    "                    res[i] = set()\n",
    "                    res[i].add(j)\n",
    "                else:\n",
    "                    res[i].add(j)\n",
    "    output = {}\n",
    "    for x in res:\n",
    "        output[x] = sorted(list(res[x]))\n",
    "\n",
    "    return output"
   ],
   "metadata": {
    "collapsed": false,
    "pycharm": {
     "name": "#%%\n"
    }
   }
  },
  {
   "cell_type": "code",
   "execution_count": 106,
   "outputs": [
    {
     "name": "stdout",
     "output_type": "stream",
     "text": [
      "Season: 1 Episode: 1 Episode Number: 31 Subtitle Number: 31\n",
      "Season: 1 Episode: 2 Episode Number: 23 Subtitle Number: 23\n",
      "Season: 1 Episode: 3 Episode Number: 17 Subtitle Number: 17\n",
      "Season: 1 Episode: 4 Episode Number: 13 Subtitle Number: 13\n",
      "Season: 1 Episode: 5 Episode Number: 12 Subtitle Number: 12\n",
      "Season: 1 Episode: 6 Episode Number: 29 Subtitle Number: 29\n",
      "Season: 1 Episode: 7 Episode Number: 22 Subtitle Number: 22\n",
      "Season: 1 Episode: 8 Episode Number: 31 Subtitle Number: 31\n",
      "Season: 1 Episode: 9 Episode Number: 21 Subtitle Number: 21\n",
      "Season: 1 Episode: 10 Episode Number: 25 Subtitle Number: 25\n",
      "Season: 1 Episode: 11 Episode Number: 25 Subtitle Number: 25\n",
      "Season: 1 Episode: 12 Episode Number: 18 Subtitle Number: 18\n",
      "Season: 1 Episode: 13 Episode Number: 15 Subtitle Number: 15\n",
      "Season: 1 Episode: 14 Episode Number: 17 Subtitle Number: 17\n",
      "Season: 1 Episode: 15 Episode Number: 24 Subtitle Number: 24\n",
      "Season: 1 Episode: 16 Episode Number: 19 Subtitle Number: 19\n",
      "Season: 2 Episode: 1 Episode Number: 24 Subtitle Number: 24\n",
      "Season: 2 Episode: 2 Episode Number: 22 Subtitle Number: 22\n",
      "Season: 2 Episode: 3 Episode Number: 21 Subtitle Number: 21\n",
      "Season: 2 Episode: 4 Episode Number: 18 Subtitle Number: 18\n",
      "Season: 2 Episode: 5 Episode Number: 28 Subtitle Number: 28\n",
      "Season: 2 Episode: 6 Episode Number: 30 Subtitle Number: 30\n",
      "Season: 2 Episode: 7 Episode Number: 30 Subtitle Number: 30\n",
      "Season: 2 Episode: 8 Episode Number: 13 Subtitle Number: 13\n",
      "Season: 2 Episode: 9 Episode Number: 24 Subtitle Number: 24\n",
      "Season: 2 Episode: 10 Episode Number: 16 Subtitle Number: 16\n",
      "Season: 2 Episode: 11 Episode Number: 28 Subtitle Number: 29\n",
      "Season: 2 Episode: 12 Episode Number: 22 Subtitle Number: 22\n",
      "Season: 2 Episode: 13 Episode Number: 9 Subtitle Number: 9\n",
      "Season: 2 Episode: 14 Episode Number: 35 Subtitle Number: 35\n",
      "Season: 2 Episode: 15 Episode Number: 26 Subtitle Number: 26\n",
      "Season: 2 Episode: 16 Episode Number: 33 Subtitle Number: 33\n",
      "Season: 2 Episode: 17 Episode Number: 24 Subtitle Number: 24\n",
      "Season: 2 Episode: 18 Episode Number: 13 Subtitle Number: 13\n",
      "Season: 2 Episode: 19 Episode Number: 21 Subtitle Number: 21\n",
      "Season: 2 Episode: 20 Episode Number: 26 Subtitle Number: 26\n",
      "Season: 2 Episode: 21 Episode Number: 24 Subtitle Number: 25\n",
      "Season: 2 Episode: 22 Episode Number: 17 Subtitle Number: 17\n",
      "Season: 2 Episode: 23 Episode Number: 23 Subtitle Number: 24\n",
      "Season: 3 Episode: 1 Episode Number: 26 Subtitle Number: 27\n",
      "Season: 3 Episode: 2 Episode Number: 29 Subtitle Number: 29\n",
      "Season: 3 Episode: 3 Episode Number: 22 Subtitle Number: 22\n",
      "Season: 3 Episode: 4 Episode Number: 25 Subtitle Number: 25\n",
      "Season: 3 Episode: 5 Episode Number: 33 Subtitle Number: 33\n",
      "Season: 3 Episode: 6 Episode Number: 17 Subtitle Number: 17\n",
      "Season: 3 Episode: 7 Episode Number: 21 Subtitle Number: 21\n",
      "Season: 3 Episode: 8 Episode Number: 25 Subtitle Number: 25\n",
      "Season: 3 Episode: 9 Episode Number: 28 Subtitle Number: 28\n",
      "Season: 3 Episode: 10 Episode Number: 45 Subtitle Number: 45\n",
      "Season: 3 Episode: 11 Episode Number: 33 Subtitle Number: 33\n",
      "Season: 3 Episode: 12 Episode Number: 26 Subtitle Number: 26\n",
      "Season: 3 Episode: 13 Episode Number: 21 Subtitle Number: 21\n",
      "Season: 3 Episode: 14 Episode Number: 16 Subtitle Number: 16\n",
      "Season: 3 Episode: 15 Episode Number: 19 Subtitle Number: 19\n",
      "Season: 3 Episode: 16 Episode Number: 23 Subtitle Number: 23\n",
      "Season: 3 Episode: 17 Episode Number: 14 Subtitle Number: 14\n",
      "Season: 3 Episode: 18 Episode Number: 16 Subtitle Number: 16\n",
      "Season: 3 Episode: 19 Episode Number: 26 Subtitle Number: 26\n",
      "Season: 3 Episode: 20 Episode Number: 41 Subtitle Number: 41\n",
      "Season: 3 Episode: 21 Episode Number: 22 Subtitle Number: 22\n",
      "Season: 3 Episode: 22 Episode Number: 28 Subtitle Number: 28\n",
      "Season: 3 Episode: 23 Episode Number: 19 Subtitle Number: 19\n",
      "Season: 4 Episode: 1 Episode Number: 41 Subtitle Number: 41\n",
      "Season: 4 Episode: 2 Episode Number: 34 Subtitle Number: 34\n",
      "Season: 4 Episode: 3 Episode Number: 45 Subtitle Number: 45\n",
      "Season: 4 Episode: 4 Episode Number: 39 Subtitle Number: 39\n",
      "Season: 4 Episode: 5 Episode Number: 24 Subtitle Number: 24\n",
      "Season: 4 Episode: 6 Episode Number: 35 Subtitle Number: 35\n",
      "Season: 4 Episode: 7 Episode Number: 34 Subtitle Number: 34\n",
      "Season: 4 Episode: 8 Episode Number: 16 Subtitle Number: 16\n",
      "Season: 4 Episode: 9 Episode Number: 40 Subtitle Number: 40\n",
      "Season: 4 Episode: 10 Episode Number: 25 Subtitle Number: 25\n",
      "Season: 4 Episode: 11 Episode Number: 27 Subtitle Number: 27\n",
      "Season: 4 Episode: 12 Episode Number: 22 Subtitle Number: 22\n",
      "Season: 4 Episode: 13 Episode Number: 35 Subtitle Number: 36\n",
      "Season: 4 Episode: 14 Episode Number: 27 Subtitle Number: 27\n",
      "Season: 4 Episode: 15 Episode Number: 25 Subtitle Number: 25\n",
      "Season: 4 Episode: 16 Episode Number: 0 Subtitle Number: 0\n",
      "Season: 4 Episode: 17 Episode Number: 35 Subtitle Number: 35\n",
      "Season: 4 Episode: 18 Episode Number: 28 Subtitle Number: 28\n",
      "Season: 4 Episode: 19 Episode Number: 38 Subtitle Number: 38\n",
      "Season: 4 Episode: 20 Episode Number: 34 Subtitle Number: 34\n",
      "Season: 4 Episode: 21 Episode Number: 28 Subtitle Number: 28\n",
      "Season: 4 Episode: 22 Episode Number: 34 Subtitle Number: 34\n",
      "Season: 4 Episode: 23 Episode Number: 39 Subtitle Number: 39\n",
      "Season: 4 Episode: 24 Episode Number: 26 Subtitle Number: 26\n",
      "Season: 5 Episode: 1 Episode Number: 18 Subtitle Number: 17\n",
      "Season: 5 Episode: 2 Episode Number: 28 Subtitle Number: 28\n",
      "Season: 5 Episode: 3 Episode Number: 13 Subtitle Number: 13\n",
      "Season: 5 Episode: 4 Episode Number: 30 Subtitle Number: 30\n",
      "Season: 5 Episode: 5 Episode Number: 21 Subtitle Number: 21\n",
      "Season: 5 Episode: 6 Episode Number: 29 Subtitle Number: 29\n",
      "Season: 5 Episode: 7 Episode Number: 24 Subtitle Number: 24\n",
      "Season: 5 Episode: 8 Episode Number: 25 Subtitle Number: 25\n",
      "Season: 5 Episode: 9 Episode Number: 17 Subtitle Number: 17\n",
      "Season: 5 Episode: 10 Episode Number: 15 Subtitle Number: 15\n",
      "Season: 5 Episode: 11 Episode Number: 38 Subtitle Number: 38\n",
      "Season: 5 Episode: 12 Episode Number: 30 Subtitle Number: 30\n",
      "Season: 5 Episode: 13 Episode Number: 28 Subtitle Number: 27\n",
      "Season: 5 Episode: 14 Episode Number: 20 Subtitle Number: 20\n",
      "Season: 5 Episode: 15 Episode Number: 20 Subtitle Number: 20\n",
      "Season: 5 Episode: 16 Episode Number: 19 Subtitle Number: 19\n",
      "Season: 5 Episode: 17 Episode Number: 10 Subtitle Number: 10\n",
      "Season: 5 Episode: 18 Episode Number: 18 Subtitle Number: 18\n",
      "Season: 5 Episode: 19 Episode Number: 22 Subtitle Number: 22\n",
      "Season: 5 Episode: 20 Episode Number: 18 Subtitle Number: 18\n",
      "Season: 5 Episode: 21 Episode Number: 30 Subtitle Number: 30\n",
      "Season: 5 Episode: 22 Episode Number: 23 Subtitle Number: 23\n",
      "Season: 5 Episode: 23 Episode Number: 18 Subtitle Number: 18\n",
      "Season: 6 Episode: 1 Episode Number: 23 Subtitle Number: 23\n",
      "Season: 6 Episode: 2 Episode Number: 33 Subtitle Number: 33\n",
      "Season: 6 Episode: 3 Episode Number: 10 Subtitle Number: 10\n",
      "Season: 6 Episode: 4 Episode Number: 17 Subtitle Number: 17\n",
      "Season: 6 Episode: 5 Episode Number: 20 Subtitle Number: 20\n",
      "Season: 6 Episode: 6 Episode Number: 17 Subtitle Number: 16\n",
      "Season: 6 Episode: 7 Episode Number: 19 Subtitle Number: 19\n",
      "Season: 6 Episode: 8 Episode Number: 30 Subtitle Number: 30\n",
      "Season: 6 Episode: 9 Episode Number: 15 Subtitle Number: 15\n",
      "Season: 6 Episode: 10 Episode Number: 18 Subtitle Number: 18\n",
      "Season: 6 Episode: 11 Episode Number: 26 Subtitle Number: 26\n",
      "Season: 6 Episode: 12 Episode Number: 20 Subtitle Number: 20\n",
      "Season: 6 Episode: 13 Episode Number: 27 Subtitle Number: 27\n",
      "Season: 6 Episode: 14 Episode Number: 26 Subtitle Number: 26\n",
      "Season: 6 Episode: 15 Episode Number: 21 Subtitle Number: 21\n",
      "Season: 6 Episode: 16 Episode Number: 19 Subtitle Number: 19\n",
      "Season: 6 Episode: 17 Episode Number: 12 Subtitle Number: 12\n",
      "Season: 6 Episode: 18 Episode Number: 23 Subtitle Number: 23\n",
      "Season: 6 Episode: 19 Episode Number: 20 Subtitle Number: 20\n",
      "Season: 6 Episode: 20 Episode Number: 21 Subtitle Number: 21\n",
      "Season: 6 Episode: 21 Episode Number: 21 Subtitle Number: 21\n",
      "Season: 6 Episode: 22 Episode Number: 17 Subtitle Number: 17\n",
      "Season: 6 Episode: 23 Episode Number: 16 Subtitle Number: 16\n",
      "Season: 6 Episode: 24 Episode Number: 21 Subtitle Number: 21\n",
      "Season: 7 Episode: 1 Episode Number: 38 Subtitle Number: 38\n",
      "Season: 7 Episode: 2 Episode Number: 36 Subtitle Number: 36\n",
      "Season: 7 Episode: 3 Episode Number: 32 Subtitle Number: 32\n",
      "Season: 7 Episode: 4 Episode Number: 25 Subtitle Number: 25\n",
      "Season: 7 Episode: 5 Episode Number: 29 Subtitle Number: 29\n",
      "Season: 7 Episode: 6 Episode Number: 17 Subtitle Number: 17\n",
      "Season: 7 Episode: 7 Episode Number: 27 Subtitle Number: 27\n",
      "Season: 7 Episode: 8 Episode Number: 31 Subtitle Number: 31\n",
      "Season: 7 Episode: 9 Episode Number: 37 Subtitle Number: 37\n",
      "Season: 7 Episode: 10 Episode Number: 28 Subtitle Number: 28\n",
      "Season: 7 Episode: 11 Episode Number: 37 Subtitle Number: 37\n",
      "Season: 7 Episode: 13 Episode Number: 25 Subtitle Number: 25\n",
      "Season: 7 Episode: 14 Episode Number: 40 Subtitle Number: 40\n",
      "Season: 7 Episode: 15 Episode Number: 23 Subtitle Number: 23\n",
      "Season: 7 Episode: 16 Episode Number: 39 Subtitle Number: 39\n",
      "Season: 7 Episode: 17 Episode Number: 37 Subtitle Number: 37\n",
      "Season: 7 Episode: 18 Episode Number: 46 Subtitle Number: 46\n",
      "Season: 7 Episode: 19 Episode Number: 29 Subtitle Number: 29\n",
      "Season: 7 Episode: 20 Episode Number: 35 Subtitle Number: 36\n",
      "Season: 7 Episode: 21 Episode Number: 33 Subtitle Number: 33\n",
      "Season: 7 Episode: 22 Episode Number: 29 Subtitle Number: 29\n",
      "Season: 7 Episode: 23 Episode Number: 37 Subtitle Number: 37\n",
      "Season: 7 Episode: 24 Episode Number: 33 Subtitle Number: 33\n",
      "Season: 8 Episode: 1 Episode Number: 17 Subtitle Number: 17\n",
      "Season: 8 Episode: 2 Episode Number: 29 Subtitle Number: 29\n",
      "Season: 8 Episode: 3 Episode Number: 30 Subtitle Number: 30\n",
      "Season: 8 Episode: 4 Episode Number: 32 Subtitle Number: 32\n",
      "Season: 8 Episode: 5 Episode Number: 44 Subtitle Number: 44\n",
      "Season: 8 Episode: 6 Episode Number: 48 Subtitle Number: 47\n",
      "Season: 8 Episode: 8 Episode Number: 27 Subtitle Number: 27\n",
      "Season: 8 Episode: 9 Episode Number: 38 Subtitle Number: 38\n",
      "Season: 8 Episode: 10 Episode Number: 38 Subtitle Number: 38\n",
      "Season: 8 Episode: 11 Episode Number: 39 Subtitle Number: 39\n",
      "Season: 8 Episode: 12 Episode Number: 26 Subtitle Number: 26\n",
      "Season: 8 Episode: 13 Episode Number: 25 Subtitle Number: 25\n",
      "Season: 8 Episode: 15 Episode Number: 38 Subtitle Number: 38\n",
      "Season: 8 Episode: 16 Episode Number: 31 Subtitle Number: 31\n",
      "Season: 8 Episode: 17 Episode Number: 34 Subtitle Number: 34\n",
      "Season: 8 Episode: 18 Episode Number: 37 Subtitle Number: 37\n",
      "Season: 8 Episode: 19 Episode Number: 33 Subtitle Number: 33\n",
      "Season: 8 Episode: 20 Episode Number: 42 Subtitle Number: 42\n",
      "Season: 8 Episode: 21 Episode Number: 36 Subtitle Number: 36\n",
      "Season: 8 Episode: 22 Episode Number: 29 Subtitle Number: 29\n",
      "Season: 8 Episode: 23 Episode Number: 26 Subtitle Number: 26\n",
      "Season: 8 Episode: 24 Episode Number: 27 Subtitle Number: 27\n",
      "Season: 9 Episode: 1 Episode Number: 30 Subtitle Number: 30\n",
      "Season: 9 Episode: 2 Episode Number: 32 Subtitle Number: 32\n",
      "Season: 9 Episode: 3 Episode Number: 30 Subtitle Number: 30\n",
      "Season: 9 Episode: 4 Episode Number: 19 Subtitle Number: 19\n",
      "Season: 9 Episode: 5 Episode Number: 32 Subtitle Number: 32\n",
      "Season: 9 Episode: 6 Episode Number: 43 Subtitle Number: 43\n",
      "Season: 9 Episode: 7 Episode Number: 28 Subtitle Number: 28\n",
      "Season: 9 Episode: 8 Episode Number: 0 Subtitle Number: 0\n",
      "Season: 9 Episode: 9 Episode Number: 27 Subtitle Number: 27\n",
      "Season: 9 Episode: 10 Episode Number: 27 Subtitle Number: 27\n",
      "Season: 9 Episode: 11 Episode Number: 25 Subtitle Number: 25\n",
      "Season: 9 Episode: 12 Episode Number: 34 Subtitle Number: 34\n",
      "Season: 9 Episode: 13 Episode Number: 30 Subtitle Number: 30\n",
      "Season: 9 Episode: 14 Episode Number: 29 Subtitle Number: 29\n",
      "Season: 9 Episode: 15 Episode Number: 30 Subtitle Number: 30\n",
      "Season: 9 Episode: 16 Episode Number: 28 Subtitle Number: 28\n",
      "Season: 9 Episode: 24 Episode Number: 48 Subtitle Number: 48\n"
     ]
    }
   ],
   "source": [
    "result_1_all = {}\n",
    "for i in range(12):\n",
    "    for j in range(30):\n",
    "        try:\n",
    "            (en_subset, zh_subset, tbbt_episode) = fetch_subsets(\n",
    "                episode=tbbt_transcripts,\n",
    "                en_subtitle=en_subtitle,\n",
    "                zh_subtitle=zh_subtitle,\n",
    "                results=results,\n",
    "                season_id=i+1,\n",
    "                episode_id=j+1,\n",
    "                bias=200\n",
    "            )\n",
    "            temp = exact_match(en_subset, tbbt_episode)\n",
    "            result_1_all[(i+1,j+1)] = temp\n",
    "            print(\"Season:\", i+1,\"Episode:\", j+1, \"Episode Number:\",len(turn_sub2epi_into_epi2sub(temp)), \"Subtitle Number:\",len(temp))\n",
    "        except:\n",
    "            pass"
   ],
   "metadata": {
    "collapsed": false,
    "pycharm": {
     "name": "#%%\n"
    }
   }
  },
  {
   "cell_type": "code",
   "execution_count": 107,
   "outputs": [],
   "source": [
    "with open('alignment_part_2_strict_match.pkl', 'wb') as f:\n",
    "    pkl.dump(result_1_all, f)"
   ],
   "metadata": {
    "collapsed": false,
    "pycharm": {
     "name": "#%%\n"
    }
   }
  },
  {
   "cell_type": "code",
   "execution_count": 13,
   "outputs": [],
   "source": [
    "with open('alignment_part_2_strict_match.pkl', 'rb') as f:\n",
    "    result_1_all = pkl.load(f)"
   ],
   "metadata": {
    "collapsed": false,
    "pycharm": {
     "name": "#%%\n"
    }
   }
  },
  {
   "cell_type": "markdown",
   "source": [
    "#### Part 2.4: Merge string match and exact match result as the alignment seeds"
   ],
   "metadata": {
    "collapsed": false,
    "pycharm": {
     "name": "#%% md\n"
    }
   }
  },
  {
   "cell_type": "code",
   "execution_count": 9,
   "outputs": [],
   "source": [
    "def merge_two_dict(dict_1, dict_2):\n",
    "    res = deepcopy(dict_1)\n",
    "    for sea_epi in dict_2:\n",
    "        if sea_epi not in res:\n",
    "            res[sea_epi] = dict_2[sea_epi]\n",
    "        else:\n",
    "            temp = {}\n",
    "            for x in res[sea_epi]:\n",
    "                temp[x] = list(res[sea_epi][x])\n",
    "            # add dict 2\n",
    "            if sea_epi in dict_2:\n",
    "                for x in dict_2[sea_epi]:\n",
    "                    if x not in temp:\n",
    "                        temp[x] = sorted(list(set(dict_2[sea_epi][x])))\n",
    "                    else:\n",
    "                        temp[x].extend(dict_2[sea_epi][x])\n",
    "                    temp[x] = sorted(list(set(temp[x])))\n",
    "            res[sea_epi] = temp\n",
    "\n",
    "    output = {}\n",
    "    for x in res:\n",
    "        if res[x]!={}:\n",
    "            output[x] = res[x]\n",
    "    return output"
   ],
   "metadata": {
    "collapsed": false,
    "pycharm": {
     "name": "#%%\n"
    }
   }
  },
  {
   "cell_type": "code",
   "execution_count": 10,
   "outputs": [],
   "source": [
    "# Perform index filtering on the alignment seeds\n",
    "\"\"\"\n",
    "Filter index based on the index before and after\n",
    "\"\"\"\n",
    "def filter_by_idx(sub2epi):\n",
    "    paris = []\n",
    "    for x in sorted(list(sub2epi.keys())):\n",
    "        for y in sorted(sub2epi[x]):\n",
    "            paris.append([x,y])\n",
    "\n",
    "    res = [paris[0]]\n",
    "    for i in range(1, len(paris)-1):\n",
    "        former = res[-1]\n",
    "        current = paris[i]\n",
    "        after = paris[i+1]\n",
    "        if former[0] <= current[0] <= after[0]:\n",
    "            if former[1]<=current[1]<=after[1]:\n",
    "                res.append(current)\n",
    "    if paris[-1][0] >= res[-1][0]:\n",
    "        if paris[-1][1] >= res[-1][1]:\n",
    "            res.append(paris[-1])\n",
    "\n",
    "    output = {}\n",
    "    for x in res:\n",
    "        sub = x[0]\n",
    "        epi = x[1]\n",
    "        if sub not in output:\n",
    "            output[sub] = [epi]\n",
    "        else:\n",
    "            output[sub].append(epi)\n",
    "\n",
    "    return output"
   ],
   "metadata": {
    "collapsed": false,
    "pycharm": {
     "name": "#%%\n"
    }
   }
  },
  {
   "cell_type": "code",
   "execution_count": 16,
   "outputs": [],
   "source": [
    "alignment_seeds = {}\n",
    "temp = merge_two_dict(result_0_all, result_1_all)\n",
    "for x in temp:\n",
    "    alignment_seeds[x] = filter_by_idx(temp[x])"
   ],
   "metadata": {
    "collapsed": false,
    "pycharm": {
     "name": "#%%\n"
    }
   }
  },
  {
   "cell_type": "code",
   "execution_count": 240,
   "outputs": [],
   "source": [
    "with open('alignment_seeds.pkl', 'wb') as f:\n",
    "    pkl.dump(alignment_seeds, f)"
   ],
   "metadata": {
    "collapsed": false,
    "pycharm": {
     "name": "#%%\n"
    }
   }
  },
  {
   "cell_type": "code",
   "execution_count": 11,
   "outputs": [],
   "source": [
    "with open('alignment_seeds.pkl', 'rb') as f:\n",
    "    alignment_seeds = pkl.load(f)"
   ],
   "metadata": {
    "collapsed": false,
    "pycharm": {
     "name": "#%%\n"
    }
   }
  },
  {
   "cell_type": "markdown",
   "source": [
    "# Section 3: Extend from Alignment Seeds\n",
    "\n",
    "This section add most alignment and we will further add alignments between gaps"
   ],
   "metadata": {
    "collapsed": false,
    "pycharm": {
     "name": "#%% md\n"
    }
   }
  },
  {
   "cell_type": "code",
   "execution_count": 28,
   "outputs": [],
   "source": [
    "def extend_neighbors(en_subset, epi2sub_alignment_2, episode):\n",
    "    temp = {}\n",
    "    for epi_id in epi2sub_alignment_2:\n",
    "        # Define episode utterance id\n",
    "        epi_id_former = epi_id - 1\n",
    "        epi_id = epi_id\n",
    "        epi_id_latter = epi_id + 1\n",
    "\n",
    "        # Define subtitle id\n",
    "        sub_id_former = min(epi2sub_alignment_2[epi_id]) - 1\n",
    "        sub_id_latter = max(epi2sub_alignment_2[epi_id]) + 1\n",
    "        sub_ids = sorted(list(epi2sub_alignment_2[epi_id]))\n",
    "        # print(epi_id)\n",
    "        # print(epi2sub_alignment_2[epi_id])\n",
    "        # print(sub_ids)\n",
    "\n",
    "        # Check whether subtitle nearby is in the utterance\n",
    "        sub_former = transformation(en_subset[sub_id_former])\n",
    "        sub_latter = transformation(en_subset[sub_id_latter])\n",
    "        epi = transformation(episode[epi_id][0])\n",
    "\n",
    "        if sub_former in epi:\n",
    "            sub_ids.append(sub_id_former)\n",
    "            # print(epi_id, sub_id_former)\n",
    "        if sub_latter in epi:\n",
    "            sub_ids.append(sub_id_latter)\n",
    "            # print(epi_id, sub_id_latter)\n",
    "        # print(sorted(sub_ids))\n",
    "        temp[epi_id] = sorted(sub_ids)\n",
    "        # epi2sub_alignment_2[epi_id] = sorted(sub_ids)\n",
    "        # print(\"==\"*50)\n",
    "    return temp"
   ],
   "metadata": {
    "collapsed": false,
    "pycharm": {
     "name": "#%%\n"
    }
   }
  },
  {
   "cell_type": "code",
   "execution_count": 29,
   "outputs": [],
   "source": [
    "def add_strict_match_within_gaps(gaps, epi2sub, en_subset):\n",
    "    for gap in gaps:\n",
    "        sub_ids = gap[1]\n",
    "        epi_ids = gap[0]\n",
    "\n",
    "        for sub_id in sub_ids:\n",
    "            sub = transformation(en_subset[sub_id].replace(\"’\", \"'\"))\n",
    "            for epi_id in epi_ids:\n",
    "                epi = transformation(tbbt_episode[epi_id][0].replace(\"’\", \"'\"))\n",
    "                if len(epi.strip().split(\" \"))<=2:\n",
    "                    continue\n",
    "                if sub == epi:\n",
    "\n",
    "                    if epi_id not in epi2sub:\n",
    "                        epi2sub[epi_id] = [sub_id]\n",
    "                    else:\n",
    "                        epi2sub[epi_id].append(sub_id)\n",
    "\n",
    "    output = {}\n",
    "    for epi_id in sorted(list(epi2sub.keys())):\n",
    "        output[epi_id] = sorted(list(set(epi2sub[epi_id])))\n",
    "\n",
    "    return output"
   ],
   "metadata": {
    "collapsed": false,
    "pycharm": {
     "name": "#%%\n"
    }
   }
  },
  {
   "cell_type": "code",
   "execution_count": 30,
   "outputs": [],
   "source": [
    "def get_optimal_wer_from_episode(ground_truth, hypothesis_pool):\n",
    "    scores = []\n",
    "    for i, hypothesis in enumerate(hypothesis_pool):\n",
    "        scores.append(jiwer.compute_measures(ground_truth, hypothesis)['wer'])\n",
    "    return min(scores), hypothesis_pool[scores.index(min(scores))], ground_truth, scores.index(min(scores))"
   ],
   "metadata": {
    "collapsed": false,
    "pycharm": {
     "name": "#%%\n"
    }
   }
  },
  {
   "cell_type": "code",
   "execution_count": 31,
   "outputs": [],
   "source": [
    "def add_wer_match_within_gaps(gaps, epi2sub, en_subset, tbbt_episode):\n",
    "    count = 0\n",
    "    for gap in gaps:\n",
    "        sub_ids = gap[1]\n",
    "        epi_ids = gap[0]\n",
    "\n",
    "        for epi_id in epi_ids:\n",
    "            best_score = 100\n",
    "            best_pair = [None, None]\n",
    "            epi = transformation(tbbt_episode[epi_id][0].replace(\"’\", \"'\"))\n",
    "            if len(epi.strip().split(\" \"))<=2:\n",
    "                continue\n",
    "            for sub_id in sub_ids:\n",
    "                sub = transformation(en_subset[sub_id].replace(\"’\", \"'\"))\n",
    "                score = jiwer.compute_measures(epi, sub)['wer']\n",
    "                if score < best_score:\n",
    "                    best_score = score\n",
    "                    best_pair = [epi_id, sub_id]\n",
    "            if best_score < 0.15:\n",
    "                count += 1\n",
    "                if best_pair[0] not in epi2sub:\n",
    "                    epi2sub[best_pair[0]] = [best_pair[1]]\n",
    "                else:\n",
    "                    epi2sub[best_pair[0]].append([best_pair[1]])\n",
    "    output = {}\n",
    "    for epi_id in sorted(list(epi2sub.keys())):\n",
    "        output[epi_id] = sorted(list(set(epi2sub[epi_id])))\n",
    "\n",
    "    return output"
   ],
   "metadata": {
    "collapsed": false,
    "pycharm": {
     "name": "#%%\n"
    }
   }
  },
  {
   "cell_type": "code",
   "execution_count": 32,
   "outputs": [],
   "source": [
    "def add_wer_substring_match_within_gaps(gaps, epi2sub, en_subset, tbbt_episode):\n",
    "    count = 0\n",
    "    pattern = r'\\.|\\?|\\!|\\;|- '\n",
    "    temp_sub2epi = {}\n",
    "    for gap in gaps:\n",
    "        # Build substrings\n",
    "        sub_ids = gap[1]\n",
    "        epi_ids = gap[0]\n",
    "        sub_lists = []\n",
    "        epi_lists = []\n",
    "\n",
    "        for epi_id in epi_ids:\n",
    "            epi = tbbt_episode[epi_id][0].replace(\"’\", \"'\")\n",
    "            epi_substring = re.split(pattern, epi)\n",
    "            for item in epi_substring:\n",
    "                if len(item.strip().split(\" \"))<=2:\n",
    "                    continue\n",
    "                temp_item = transformation(item.replace(\"-\", \" \").strip())\n",
    "                epi_lists.append([temp_item, epi_id])\n",
    "\n",
    "        for sub_id in sub_ids:\n",
    "            sub = en_subset[sub_id].replace(\"’\", \"'\")\n",
    "            sub_substring = re.split(pattern, sub)\n",
    "            for item in sub_substring:\n",
    "                if len(item.strip().split(\" \"))<=2:\n",
    "                    continue\n",
    "                temp_item = transformation(item.replace(\"-\", \" \").strip())\n",
    "                sub_lists.append([temp_item, sub_id])\n",
    "\n",
    "\n",
    "        # Calculate WER Similarity\n",
    "        for (sub, sub_id) in sub_lists:\n",
    "            for (epi, epi_id) in epi_lists:\n",
    "                cer = jiwer.cer(epi, sub)\n",
    "                if cer <= 0.2:\n",
    "                    count += 1\n",
    "                    if sub_id not in temp_sub2epi:\n",
    "                        temp_sub2epi[sub_id] = set()\n",
    "                        temp_sub2epi[sub_id].add(epi_id)\n",
    "                    else:\n",
    "                        temp_sub2epi[sub_id].add(epi_id)\n",
    "\n",
    "    for sub_id in temp_sub2epi:\n",
    "        epi_ids = list(temp_sub2epi[sub_id])\n",
    "        if len(epi_ids)!=1:\n",
    "            continue\n",
    "        epi_id = epi_ids[0]\n",
    "        if epi_id not in epi2sub:\n",
    "            epi2sub[epi_id] = [sub_id]\n",
    "        else:\n",
    "            epi2sub[epi_id].append(sub_id)\n",
    "\n",
    "    output = {}\n",
    "    for epi_id in sorted(list(epi2sub.keys())):\n",
    "        output[epi_id] = sorted(list(set(epi2sub[epi_id])))\n",
    "    return output"
   ],
   "metadata": {
    "collapsed": false,
    "pycharm": {
     "name": "#%%\n"
    }
   }
  },
  {
   "cell_type": "code",
   "execution_count": 33,
   "outputs": [],
   "source": [
    "def add_one_size_gap(gaps, epi2sub):\n",
    "    temp = {}\n",
    "    for gap in gaps:\n",
    "        sub_ids = gap[1]\n",
    "        epi_ids = gap[0]\n",
    "        if not(len(sub_ids)==1 and len(epi_ids)==1):\n",
    "            continue\n",
    "        sub_id = sub_ids[0]\n",
    "        epi_id = epi_ids[0]\n",
    "        if len(transformation(en_subset[sub_id]).strip().split(' '))==len(transformation(tbbt_episode[epi_id][0]).strip().split(' ')):\n",
    "            epi2sub[epi_id] = [sub_id]\n",
    "    output = {}\n",
    "    for epi_id in sorted(list(epi2sub.keys())):\n",
    "        output[epi_id] = sorted(list(set(epi2sub[epi_id])))\n",
    "    return output"
   ],
   "metadata": {
    "collapsed": false,
    "pycharm": {
     "name": "#%%\n"
    }
   }
  },
  {
   "cell_type": "code",
   "execution_count": 34,
   "outputs": [],
   "source": [
    "def extend_neighbors_sliding(en_subset, epi2sub_alignment_2, episode):\n",
    "    temp = {}\n",
    "    for epi_id in epi2sub_alignment_2:\n",
    "        # Define episode utterance id\n",
    "        epi_id_former = epi_id - 1\n",
    "        epi_id = epi_id\n",
    "        epi_id_latter = epi_id + 1\n",
    "        epi = transformation(episode[epi_id][0])\n",
    "\n",
    "        # Define subtitle id\n",
    "        sub_id_former = min(epi2sub_alignment_2[epi_id]) - 1\n",
    "        sub_id_latter = max(epi2sub_alignment_2[epi_id]) + 1\n",
    "        sub_ids = sorted(list(epi2sub_alignment_2[epi_id]))\n",
    "        # print(epi_id)\n",
    "        # print(epi2sub_alignment_2[epi_id])\n",
    "        # print(sub_ids)\n",
    "\n",
    "        # Check whether subtitle nearby is in the utterance\n",
    "        sub_former = transformation(en_subset[sub_id_former])\n",
    "        sub_former_tokens = sub_former.strip().split(' ')\n",
    "        sub_former_strings = []\n",
    "        for i in range(len(sub_former_tokens)-3):\n",
    "            sub_former_strings.append(\" \".join(sub_former_tokens[i: i+4]))\n",
    "        sub_former_strings.append(sub_former)\n",
    "        for item in sub_former_strings:\n",
    "            if item in epi:\n",
    "                sub_ids.append(sub_id_former)\n",
    "                break\n",
    "\n",
    "\n",
    "        sub_latter = transformation(en_subset[sub_id_latter])\n",
    "        sub_latter_tokens = sub_latter.strip().split(' ')\n",
    "        sub_latter_strings = []\n",
    "        for i in range(len(sub_latter_tokens)-3):\n",
    "            sub_latter_strings.append(\" \".join(sub_latter_tokens[i: i+4]))\n",
    "        sub_latter_strings.append(sub_latter)\n",
    "        for item in sub_latter_strings:\n",
    "            if item in epi:\n",
    "                sub_ids.append(sub_id_latter)\n",
    "                break\n",
    "\n",
    "        temp[epi_id] = sorted(sub_ids)\n",
    "    return temp"
   ],
   "metadata": {
    "collapsed": false,
    "pycharm": {
     "name": "#%%\n"
    }
   }
  },
  {
   "cell_type": "code",
   "execution_count": 35,
   "outputs": [],
   "source": [
    "\"\"\"\n",
    "Extend the former episode and latter episode near the substitle\n",
    "\"\"\"\n",
    "def extend_neighbors_subtitle_sliding(en_subset, epi2sub_alignment_2, episode):\n",
    "    temp = {}\n",
    "    sub2epi = turn_sub2epi_into_epi2sub(epi2sub_alignment_2)\n",
    "\n",
    "    for sub_id in sub2epi:\n",
    "        sub = transformation(en_subset[sub_id])\n",
    "\n",
    "        # Check whether the epi nearby is in the subtitle\n",
    "        epi_id_former = min(sub2epi[sub_id])-1\n",
    "        epi_former = transformation(episode[epi_id_former][0])\n",
    "        epi_former_tokens = epi_former.strip().split(' ')\n",
    "        epi_former_strings = []\n",
    "        for i in range(len(epi_former_tokens)-3):\n",
    "            epi_former_strings.append(\" \".join(epi_former_tokens[i: i+4]))\n",
    "        epi_former_strings.append(epi_former)\n",
    "        for item in epi_former_strings:\n",
    "            if item in sub:\n",
    "                epi_ids.append(epi_id_former)\n",
    "                break\n",
    "\n",
    "\n",
    "        epi_id_latter = max(sub2epi[sub_id])+1\n",
    "        epi_latter = transformation(episode[epi_id_latter][0])\n",
    "        epi_latter_tokens = epi_latter.strip().split(' ')\n",
    "        epi_latter_strings = []\n",
    "        for i in range(len(epi_latter_tokens)-3):\n",
    "            epi_latter_strings.append(\" \".join(epi_latter_tokens[i: i+4]))\n",
    "        epi_latter_strings.append(epi_latter)\n",
    "        for item in epi_latter_strings:\n",
    "            if item in sub:\n",
    "                epi_ids.append(epi_id_latter)\n",
    "                break\n",
    "        print(epi_former_strings)\n",
    "        print(epi_latter_strings)\n",
    "        print(sub)\n",
    "        print('=='*50)\n",
    "        temp[sub_id] = sorted(epi_ids)\n",
    "    return temp"
   ],
   "metadata": {
    "collapsed": false,
    "pycharm": {
     "name": "#%%\n"
    }
   }
  },
  {
   "cell_type": "code",
   "execution_count": 36,
   "outputs": [],
   "source": [
    "\"\"\"\n",
    "Collect all functions\n",
    "\"\"\"\n",
    "def get_alignment_extend_neighbors(tbbt, en_subtitle, other_subtitle, results, season_id, episode_id, bias):\n",
    "    # Fetch subset located by the stage-1 alignment\n",
    "    (en_subset, zh_subset, tbbt_episode) = fetch_subsets(\n",
    "        episode=tbbt,\n",
    "        en_subtitle=en_subtitle,\n",
    "        zh_subtitle=other_subtitle,\n",
    "        results=results,\n",
    "        season_id=season_id,\n",
    "        episode_id=episode_id,\n",
    "        bias=bias\n",
    "    )\n",
    "\n",
    "    # Extend the neighbors\n",
    "    epi2sub = extend_neighbors(en_subset, turn_sub2epi_into_epi2sub(alignment_seeds[(season_id,episode_id)]), tbbt_episode)\n",
    "    epi2sub = extend_neighbors(en_subset, epi2sub, tbbt_episode)\n",
    "    epi2sub = extend_neighbors(en_subset, epi2sub, tbbt_episode)\n",
    "    epi2sub = extend_neighbors(en_subset, epi2sub, tbbt_episode)\n",
    "\n",
    "    # Extend within gap using strict string match\n",
    "    gaps, abandons = get_subset_in_gaps(epi2sub)\n",
    "    epi2sub = add_strict_match_within_gaps(gaps, epi2sub, en_subset)\n",
    "\n",
    "    # Extend within gap using wer\n",
    "    gaps, abandons = get_subset_in_gaps(epi2sub)\n",
    "    epi2sub = add_wer_match_within_gaps(gaps, epi2sub, en_subset, tbbt_episode)\n",
    "\n",
    "    # Extend within gap using substring cer\n",
    "    gaps, abandons = get_subset_in_gaps(epi2sub)\n",
    "    epi2sub = add_wer_substring_match_within_gaps(gaps, epi2sub, en_subset, tbbt_episode)\n",
    "\n",
    "    # Add within the gap\n",
    "    gaps, abandons = get_subset_in_gaps(epi2sub)\n",
    "    epi2sub = add_one_size_gap(gaps, epi2sub)\n",
    "\n",
    "    return epi2sub"
   ],
   "metadata": {
    "collapsed": false,
    "pycharm": {
     "name": "#%%\n"
    }
   }
  },
  {
   "cell_type": "code",
   "execution_count": 46,
   "outputs": [
    {
     "ename": "IndexError",
     "evalue": "list index out of range",
     "output_type": "error",
     "traceback": [
      "\u001B[0;31m---------------------------------------------------------------------------\u001B[0m",
      "\u001B[0;31mIndexError\u001B[0m                                Traceback (most recent call last)",
      "\u001B[0;32m/var/folders/w9/673mfrb56v7dvx7hhvw7s6240000gn/T/ipykernel_3626/2282036363.py\u001B[0m in \u001B[0;36m<module>\u001B[0;34m\u001B[0m\n\u001B[1;32m      1\u001B[0m \u001B[0mfurther_alignment\u001B[0m \u001B[0;34m=\u001B[0m \u001B[0;34m{\u001B[0m\u001B[0;34m}\u001B[0m\u001B[0;34m\u001B[0m\u001B[0;34m\u001B[0m\u001B[0m\n\u001B[1;32m      2\u001B[0m \u001B[0;32mfor\u001B[0m \u001B[0;34m(\u001B[0m\u001B[0mi\u001B[0m\u001B[0;34m,\u001B[0m \u001B[0mj\u001B[0m\u001B[0;34m)\u001B[0m \u001B[0;32min\u001B[0m \u001B[0malignment_seeds\u001B[0m\u001B[0;34m.\u001B[0m\u001B[0mkeys\u001B[0m\u001B[0;34m(\u001B[0m\u001B[0;34m)\u001B[0m\u001B[0;34m:\u001B[0m\u001B[0;34m\u001B[0m\u001B[0;34m\u001B[0m\u001B[0m\n\u001B[0;32m----> 3\u001B[0;31m     \u001B[0mtemp\u001B[0m \u001B[0;34m=\u001B[0m \u001B[0mget_alignment_extend_neighbors\u001B[0m\u001B[0;34m(\u001B[0m\u001B[0mtbbt_transcripts\u001B[0m\u001B[0;34m,\u001B[0m \u001B[0men_subtitle\u001B[0m\u001B[0;34m,\u001B[0m \u001B[0mzh_subtitle\u001B[0m\u001B[0;34m,\u001B[0m \u001B[0mresults\u001B[0m\u001B[0;34m,\u001B[0m \u001B[0mi\u001B[0m\u001B[0;34m,\u001B[0m \u001B[0mj\u001B[0m\u001B[0;34m,\u001B[0m \u001B[0;36m200\u001B[0m\u001B[0;34m)\u001B[0m\u001B[0;34m\u001B[0m\u001B[0;34m\u001B[0m\u001B[0m\n\u001B[0m\u001B[1;32m      4\u001B[0m     \u001B[0mfurther_alignment\u001B[0m\u001B[0;34m[\u001B[0m\u001B[0;34m(\u001B[0m\u001B[0mi\u001B[0m\u001B[0;34m,\u001B[0m\u001B[0mj\u001B[0m\u001B[0;34m)\u001B[0m\u001B[0;34m]\u001B[0m \u001B[0;34m=\u001B[0m \u001B[0mtemp\u001B[0m\u001B[0;34m\u001B[0m\u001B[0;34m\u001B[0m\u001B[0m\n\u001B[1;32m      5\u001B[0m     \u001B[0mprint\u001B[0m\u001B[0;34m(\u001B[0m\u001B[0;34m\"Season:\"\u001B[0m\u001B[0;34m,\u001B[0m \u001B[0mi\u001B[0m\u001B[0;34m,\u001B[0m\u001B[0;34m\"Episode:\"\u001B[0m\u001B[0;34m,\u001B[0m \u001B[0mj\u001B[0m\u001B[0;34m,\u001B[0m \u001B[0;34m\"Episode Number:\"\u001B[0m\u001B[0;34m,\u001B[0m\u001B[0mlen\u001B[0m\u001B[0;34m(\u001B[0m\u001B[0mturn_sub2epi_into_epi2sub\u001B[0m\u001B[0;34m(\u001B[0m\u001B[0malignment_seeds\u001B[0m\u001B[0;34m[\u001B[0m\u001B[0;34m(\u001B[0m\u001B[0mi\u001B[0m\u001B[0;34m,\u001B[0m\u001B[0mj\u001B[0m\u001B[0;34m)\u001B[0m\u001B[0;34m]\u001B[0m\u001B[0;34m)\u001B[0m\u001B[0;34m)\u001B[0m\u001B[0;34m,\u001B[0m \u001B[0mlen\u001B[0m\u001B[0;34m(\u001B[0m\u001B[0mtemp\u001B[0m\u001B[0;34m)\u001B[0m\u001B[0;34m,\u001B[0m \u001B[0;34m\"Subtitle Number:\"\u001B[0m\u001B[0;34m,\u001B[0m \u001B[0mlen\u001B[0m\u001B[0;34m(\u001B[0m\u001B[0malignment_seeds\u001B[0m\u001B[0;34m[\u001B[0m\u001B[0;34m(\u001B[0m\u001B[0mi\u001B[0m\u001B[0;34m,\u001B[0m\u001B[0mj\u001B[0m\u001B[0;34m)\u001B[0m\u001B[0;34m]\u001B[0m\u001B[0;34m)\u001B[0m\u001B[0;34m,\u001B[0m\u001B[0mlen\u001B[0m\u001B[0;34m(\u001B[0m\u001B[0mturn_sub2epi_into_epi2sub\u001B[0m\u001B[0;34m(\u001B[0m\u001B[0mtemp\u001B[0m\u001B[0;34m)\u001B[0m\u001B[0;34m)\u001B[0m\u001B[0;34m)\u001B[0m\u001B[0;34m\u001B[0m\u001B[0;34m\u001B[0m\u001B[0m\n",
      "\u001B[0;32m/var/folders/w9/673mfrb56v7dvx7hhvw7s6240000gn/T/ipykernel_3626/2293528682.py\u001B[0m in \u001B[0;36mget_alignment_extend_neighbors\u001B[0;34m(tbbt, en_subtitle, other_subtitle, results, season_id, episode_id, bias)\u001B[0m\n\u001B[1;32m     15\u001B[0m \u001B[0;34m\u001B[0m\u001B[0m\n\u001B[1;32m     16\u001B[0m     \u001B[0;31m# Extend the neighbors\u001B[0m\u001B[0;34m\u001B[0m\u001B[0;34m\u001B[0m\u001B[0;34m\u001B[0m\u001B[0m\n\u001B[0;32m---> 17\u001B[0;31m     \u001B[0mepi2sub\u001B[0m \u001B[0;34m=\u001B[0m \u001B[0mextend_neighbors\u001B[0m\u001B[0;34m(\u001B[0m\u001B[0men_subset\u001B[0m\u001B[0;34m,\u001B[0m \u001B[0mturn_sub2epi_into_epi2sub\u001B[0m\u001B[0;34m(\u001B[0m\u001B[0malignment_seeds\u001B[0m\u001B[0;34m[\u001B[0m\u001B[0;34m(\u001B[0m\u001B[0mseason_id\u001B[0m\u001B[0;34m,\u001B[0m\u001B[0mepisode_id\u001B[0m\u001B[0;34m)\u001B[0m\u001B[0;34m]\u001B[0m\u001B[0;34m)\u001B[0m\u001B[0;34m,\u001B[0m \u001B[0mtbbt_episode\u001B[0m\u001B[0;34m)\u001B[0m\u001B[0;34m\u001B[0m\u001B[0;34m\u001B[0m\u001B[0m\n\u001B[0m\u001B[1;32m     18\u001B[0m     \u001B[0mepi2sub\u001B[0m \u001B[0;34m=\u001B[0m \u001B[0mextend_neighbors\u001B[0m\u001B[0;34m(\u001B[0m\u001B[0men_subset\u001B[0m\u001B[0;34m,\u001B[0m \u001B[0mepi2sub\u001B[0m\u001B[0;34m,\u001B[0m \u001B[0mtbbt_episode\u001B[0m\u001B[0;34m)\u001B[0m\u001B[0;34m\u001B[0m\u001B[0;34m\u001B[0m\u001B[0m\n\u001B[1;32m     19\u001B[0m     \u001B[0mepi2sub\u001B[0m \u001B[0;34m=\u001B[0m \u001B[0mextend_neighbors\u001B[0m\u001B[0;34m(\u001B[0m\u001B[0men_subset\u001B[0m\u001B[0;34m,\u001B[0m \u001B[0mepi2sub\u001B[0m\u001B[0;34m,\u001B[0m \u001B[0mtbbt_episode\u001B[0m\u001B[0;34m)\u001B[0m\u001B[0;34m\u001B[0m\u001B[0;34m\u001B[0m\u001B[0m\n",
      "\u001B[0;32m/var/folders/w9/673mfrb56v7dvx7hhvw7s6240000gn/T/ipykernel_3626/1782459427.py\u001B[0m in \u001B[0;36mextend_neighbors\u001B[0;34m(en_subset, epi2sub_alignment_2, episode)\u001B[0m\n\u001B[1;32m     18\u001B[0m         \u001B[0msub_former\u001B[0m \u001B[0;34m=\u001B[0m \u001B[0mtransformation\u001B[0m\u001B[0;34m(\u001B[0m\u001B[0men_subset\u001B[0m\u001B[0;34m[\u001B[0m\u001B[0msub_id_former\u001B[0m\u001B[0;34m]\u001B[0m\u001B[0;34m)\u001B[0m\u001B[0;34m\u001B[0m\u001B[0;34m\u001B[0m\u001B[0m\n\u001B[1;32m     19\u001B[0m         \u001B[0msub_latter\u001B[0m \u001B[0;34m=\u001B[0m \u001B[0mtransformation\u001B[0m\u001B[0;34m(\u001B[0m\u001B[0men_subset\u001B[0m\u001B[0;34m[\u001B[0m\u001B[0msub_id_latter\u001B[0m\u001B[0;34m]\u001B[0m\u001B[0;34m)\u001B[0m\u001B[0;34m\u001B[0m\u001B[0;34m\u001B[0m\u001B[0m\n\u001B[0;32m---> 20\u001B[0;31m         \u001B[0mepi\u001B[0m \u001B[0;34m=\u001B[0m \u001B[0mtransformation\u001B[0m\u001B[0;34m(\u001B[0m\u001B[0mepisode\u001B[0m\u001B[0;34m[\u001B[0m\u001B[0mepi_id\u001B[0m\u001B[0;34m]\u001B[0m\u001B[0;34m[\u001B[0m\u001B[0;36m0\u001B[0m\u001B[0;34m]\u001B[0m\u001B[0;34m)\u001B[0m\u001B[0;34m\u001B[0m\u001B[0;34m\u001B[0m\u001B[0m\n\u001B[0m\u001B[1;32m     21\u001B[0m \u001B[0;34m\u001B[0m\u001B[0m\n\u001B[1;32m     22\u001B[0m         \u001B[0;32mif\u001B[0m \u001B[0msub_former\u001B[0m \u001B[0;32min\u001B[0m \u001B[0mepi\u001B[0m\u001B[0;34m:\u001B[0m\u001B[0;34m\u001B[0m\u001B[0;34m\u001B[0m\u001B[0m\n",
      "\u001B[0;31mIndexError\u001B[0m: list index out of range"
     ]
    }
   ],
   "source": [
    "further_alignment = {}\n",
    "for (i, j) in alignment_seeds.keys():\n",
    "    temp = get_alignment_extend_neighbors(tbbt_transcripts, en_subtitle, zh_subtitle, results, i, j, 200)\n",
    "    further_alignment[(i,j)] = temp\n",
    "    print(\"Season:\", i,\"Episode:\", j, \"Episode Number:\",len(turn_sub2epi_into_epi2sub(alignment_seeds[(i,j)])), len(temp), \"Subtitle Number:\", len(alignment_seeds[(i,j)]),len(turn_sub2epi_into_epi2sub(temp)))"
   ],
   "metadata": {
    "collapsed": false,
    "pycharm": {
     "name": "#%%\n"
    }
   }
  },
  {
   "cell_type": "code",
   "execution_count": 56,
   "outputs": [],
   "source": [
    "with open('alignment_results/zh/final_stage_alignment.pkl', 'wb') as f:\n",
    "    pkl.dump(further_alignment, f)"
   ],
   "metadata": {
    "collapsed": false,
    "pycharm": {
     "name": "#%%\n"
    }
   }
  },
  {
   "cell_type": "code",
   "execution_count": null,
   "outputs": [],
   "source": [],
   "metadata": {
    "collapsed": false,
    "pycharm": {
     "name": "#%%\n"
    }
   }
  },
  {
   "cell_type": "code",
   "execution_count": 20,
   "outputs": [],
   "source": [
    "with open('alignment_results/fa/final_stage_alignment_1.pkl', 'rb') as f:\n",
    "    final_stage_alignment = pkl.load(f)"
   ],
   "metadata": {
    "collapsed": false,
    "pycharm": {
     "name": "#%%\n"
    }
   }
  },
  {
   "cell_type": "code",
   "execution_count": 319,
   "outputs": [],
   "source": [
    "alignment_seeds = final_stage_alignment"
   ],
   "metadata": {
    "collapsed": false,
    "pycharm": {
     "name": "#%%\n"
    }
   }
  },
  {
   "cell_type": "code",
   "execution_count": 327,
   "outputs": [],
   "source": [
    "with open('alignment_results/zh/cleaned_final_stage_alignment.pkl', 'wb') as f:\n",
    "    pkl.dump(further_alignment, f)"
   ],
   "metadata": {
    "collapsed": false,
    "pycharm": {
     "name": "#%%\n"
    }
   }
  },
  {
   "cell_type": "code",
   "execution_count": 22,
   "outputs": [],
   "source": [
    "with open('alignment_results/fa/final_stage_alignment.pkl', 'rb') as f:\n",
    "    final_stage_alignment = pkl.load(f)"
   ],
   "metadata": {
    "collapsed": false,
    "pycharm": {
     "name": "#%%\n"
    }
   }
  },
  {
   "cell_type": "code",
   "execution_count": 23,
   "outputs": [],
   "source": [
    "alignment_seeds = final_stage_alignment"
   ],
   "metadata": {
    "collapsed": false,
    "pycharm": {
     "name": "#%%\n"
    }
   }
  },
  {
   "cell_type": "code",
   "execution_count": 49,
   "outputs": [],
   "source": [
    "def get_alignment_extend_neighbors(tbbt, en_subtitle, other_subtitle, results, season_id, episode_id, bias):\n",
    "    # Fetch subset located by the stage-1 alignment\n",
    "    (en_subset, zh_subset, tbbt_episode) = fetch_subsets(\n",
    "        episode=tbbt,\n",
    "        en_subtitle=en_subtitle,\n",
    "        zh_subtitle=other_subtitle,\n",
    "        results=results,\n",
    "        season_id=season_id,\n",
    "        episode_id=episode_id,\n",
    "        bias=bias\n",
    "    )\n",
    "\n",
    "    epi2sub = alignment_seeds[(season_id,episode_id)]\n",
    "    # Extend the neighbors\n",
    "    while True:\n",
    "        temp = extend_neighbors(en_subset, epi2sub, tbbt_episode)\n",
    "        if len(temp)==len(epi2sub) and len(turn_sub2epi_into_epi2sub(temp))==len(turn_sub2epi_into_epi2sub(epi2sub)):\n",
    "            break\n",
    "        else:\n",
    "            epi2sub = temp\n",
    "\n",
    "    # # Extend within gap using strict string match\n",
    "    # gaps, abandons = get_subset_in_gaps(epi2sub)\n",
    "    # epi2sub = add_strict_match_within_gaps(gaps, epi2sub)\n",
    "\n",
    "    # Extend within gap using wer\n",
    "    gaps, abandons = get_subset_in_gaps(epi2sub)\n",
    "    epi2sub = add_wer_match_within_gaps(gaps, epi2sub, en_subset, tbbt_episode)\n",
    "\n",
    "    # Extend within gap using substring cer\n",
    "    gaps, abandons = get_subset_in_gaps(epi2sub)\n",
    "    epi2sub = add_wer_substring_match_within_gaps(gaps, epi2sub, en_subset, tbbt_episode)\n",
    "\n",
    "    while True:\n",
    "        start_epi_num = len(epi2sub)\n",
    "        start_sub_num = len(turn_sub2epi_into_epi2sub(epi2sub))\n",
    "        # Extend within gap using wer\n",
    "        gaps, abandons = get_subset_in_gaps(epi2sub)\n",
    "        epi2sub = add_wer_match_within_gaps(gaps, epi2sub, en_subset, tbbt_episode)\n",
    "\n",
    "        # Extend within gap using substring cer\n",
    "        gaps, abandons = get_subset_in_gaps(epi2sub)\n",
    "        epi2sub = add_wer_substring_match_within_gaps(gaps, epi2sub, en_subset, tbbt_episode)\n",
    "\n",
    "        if start_epi_num == len(epi2sub) and start_sub_num == len(turn_sub2epi_into_epi2sub(epi2sub)):\n",
    "            break\n",
    "\n",
    "    # # Add within the gap\n",
    "    # gaps, abandons = get_subset_in_gaps(epi2sub)\n",
    "    # epi2sub = add_one_size_gap(gaps, epi2sub)\n",
    "\n",
    "    # # Further extend neighbors\n",
    "    # epi2sub = extend_neighbors_sliding(en_subset, epi2sub, tbbt_episode)\n",
    "    # epi2sub = extend_neighbors_sliding(en_subset, epi2sub, tbbt_episode)\n",
    "    # epi2sub = extend_neighbors_sliding(en_subset, epi2sub, tbbt_episode)\n",
    "    # epi2sub = extend_neighbors_sliding(en_subset, epi2sub, tbbt_episode)\n",
    "\n",
    "    return epi2sub\n"
   ],
   "metadata": {
    "collapsed": false,
    "pycharm": {
     "name": "#%%\n"
    }
   }
  },
  {
   "cell_type": "code",
   "execution_count": 50,
   "outputs": [
    {
     "name": "stdout",
     "output_type": "stream",
     "text": [
      "Season: 1 Episode: 1 Episode Number: 74 210 Subtitle Number: 68 240\n",
      "Season: 1 Episode: 2 Episode Number: 73 156 Subtitle Number: 62 203\n",
      "Season: 1 Episode: 3 Episode Number: 42 141 Subtitle Number: 41 156\n",
      "Season: 1 Episode: 4 Episode Number: 62 140 Subtitle Number: 52 177\n",
      "Season: 1 Episode: 5 Episode Number: 64 154 Subtitle Number: 56 187\n",
      "Season: 1 Episode: 6 Episode Number: 66 159 Subtitle Number: 65 177\n",
      "Season: 1 Episode: 7 Episode Number: 69 184 Subtitle Number: 66 205\n",
      "Season: 1 Episode: 8 Episode Number: 82 180 Subtitle Number: 71 220\n",
      "Season: 1 Episode: 9 Episode Number: 50 137 Subtitle Number: 45 165\n",
      "Season: 1 Episode: 10 Episode Number: 80 142 Subtitle Number: 72 170\n",
      "Season: 1 Episode: 11 Episode Number: 51 162 Subtitle Number: 50 182\n",
      "Season: 1 Episode: 12 Episode Number: 53 96 Subtitle Number: 45 118\n",
      "Season: 1 Episode: 13 Episode Number: 80 160 Subtitle Number: 74 197\n",
      "Season: 1 Episode: 14 Episode Number: 75 154 Subtitle Number: 65 198\n",
      "Season: 1 Episode: 15 Episode Number: 69 151 Subtitle Number: 61 195\n",
      "Season: 1 Episode: 16 Episode Number: 71 148 Subtitle Number: 63 171\n",
      "Season: 2 Episode: 4 Episode Number: 40 133 Subtitle Number: 38 164\n",
      "Season: 2 Episode: 6 Episode Number: 71 167 Subtitle Number: 65 208\n",
      "Season: 2 Episode: 8 Episode Number: 74 166 Subtitle Number: 65 209\n",
      "Season: 2 Episode: 9 Episode Number: 76 146 Subtitle Number: 67 183\n",
      "Season: 3 Episode: 21 Episode Number: 76 186 Subtitle Number: 68 265\n",
      "Season: 3 Episode: 23 Episode Number: 72 189 Subtitle Number: 65 248\n",
      "Season: 4 Episode: 1 Episode Number: 72 160 Subtitle Number: 70 200\n",
      "Season: 4 Episode: 3 Episode Number: 91 194 Subtitle Number: 86 273\n",
      "Season: 4 Episode: 4 Episode Number: 78 195 Subtitle Number: 72 260\n",
      "Season: 4 Episode: 5 Episode Number: 81 174 Subtitle Number: 73 246\n",
      "Season: 4 Episode: 6 Episode Number: 87 165 Subtitle Number: 80 211\n",
      "Season: 4 Episode: 8 Episode Number: 83 160 Subtitle Number: 75 234\n",
      "Season: 4 Episode: 16 Episode Number: 74 175 Subtitle Number: 60 250\n",
      "Season: 4 Episode: 19 Episode Number: 91 189 Subtitle Number: 82 262\n",
      "Season: 4 Episode: 21 Episode Number: 71 158 Subtitle Number: 66 219\n",
      "Season: 4 Episode: 22 Episode Number: 81 201 Subtitle Number: 71 273\n",
      "Season: 4 Episode: 23 Episode Number: 79 194 Subtitle Number: 72 255\n",
      "Season: 4 Episode: 24 Episode Number: 73 179 Subtitle Number: 66 258\n",
      "Season: 5 Episode: 2 Episode Number: 59 141 Subtitle Number: 55 189\n",
      "Season: 5 Episode: 6 Episode Number: 98 164 Subtitle Number: 85 246\n",
      "Season: 5 Episode: 12 Episode Number: 84 166 Subtitle Number: 79 241\n",
      "Season: 5 Episode: 14 Episode Number: 67 143 Subtitle Number: 56 230\n",
      "Season: 5 Episode: 15 Episode Number: 91 156 Subtitle Number: 78 240\n",
      "Season: 5 Episode: 20 Episode Number: 63 169 Subtitle Number: 57 237\n",
      "Season: 5 Episode: 23 Episode Number: 85 157 Subtitle Number: 73 241\n",
      "Season: 6 Episode: 2 Episode Number: 71 172 Subtitle Number: 68 247\n",
      "Season: 6 Episode: 3 Episode Number: 66 160 Subtitle Number: 57 250\n",
      "Season: 6 Episode: 4 Episode Number: 53 173 Subtitle Number: 51 235\n",
      "Season: 6 Episode: 5 Episode Number: 84 173 Subtitle Number: 78 251\n",
      "Season: 6 Episode: 6 Episode Number: 70 161 Subtitle Number: 62 253\n",
      "Season: 6 Episode: 7 Episode Number: 80 163 Subtitle Number: 65 258\n",
      "Season: 6 Episode: 8 Episode Number: 70 176 Subtitle Number: 66 235\n",
      "Season: 6 Episode: 9 Episode Number: 66 156 Subtitle Number: 54 232\n",
      "Season: 6 Episode: 14 Episode Number: 70 166 Subtitle Number: 64 242\n",
      "Season: 6 Episode: 15 Episode Number: 77 175 Subtitle Number: 70 254\n",
      "Season: 6 Episode: 16 Episode Number: 84 155 Subtitle Number: 74 218\n",
      "Season: 6 Episode: 17 Episode Number: 64 128 Subtitle Number: 52 222\n",
      "Season: 6 Episode: 19 Episode Number: 70 170 Subtitle Number: 65 253\n",
      "Season: 6 Episode: 20 Episode Number: 72 149 Subtitle Number: 66 207\n",
      "Season: 6 Episode: 21 Episode Number: 76 151 Subtitle Number: 67 232\n",
      "Season: 6 Episode: 24 Episode Number: 85 165 Subtitle Number: 71 257\n",
      "Season: 7 Episode: 1 Episode Number: 49 126 Subtitle Number: 46 174\n",
      "Season: 7 Episode: 2 Episode Number: 90 189 Subtitle Number: 83 256\n",
      "Season: 7 Episode: 6 Episode Number: 82 167 Subtitle Number: 70 246\n",
      "Season: 7 Episode: 10 Episode Number: 82 181 Subtitle Number: 72 272\n",
      "Season: 7 Episode: 11 Episode Number: 75 182 Subtitle Number: 73 237\n",
      "Season: 7 Episode: 15 Episode Number: 83 180 Subtitle Number: 78 241\n",
      "Season: 7 Episode: 16 Episode Number: 90 200 Subtitle Number: 86 270\n",
      "Season: 7 Episode: 17 Episode Number: 94 160 Subtitle Number: 84 216\n",
      "Season: 7 Episode: 18 Episode Number: 99 189 Subtitle Number: 89 261\n",
      "Season: 7 Episode: 19 Episode Number: 82 168 Subtitle Number: 73 232\n",
      "Season: 7 Episode: 20 Episode Number: 60 158 Subtitle Number: 58 211\n",
      "Season: 7 Episode: 22 Episode Number: 75 163 Subtitle Number: 72 213\n",
      "Season: 7 Episode: 23 Episode Number: 88 191 Subtitle Number: 81 242\n",
      "Season: 8 Episode: 1 Episode Number: 80 172 Subtitle Number: 65 259\n",
      "Season: 8 Episode: 2 Episode Number: 84 167 Subtitle Number: 78 233\n",
      "Season: 8 Episode: 3 Episode Number: 83 171 Subtitle Number: 76 226\n",
      "Season: 8 Episode: 5 Episode Number: 88 182 Subtitle Number: 79 259\n",
      "Season: 8 Episode: 6 Episode Number: 105 191 Subtitle Number: 98 246\n",
      "Season: 8 Episode: 7 Episode Number: 81 176 Subtitle Number: 76 245\n",
      "Season: 8 Episode: 9 Episode Number: 82 170 Subtitle Number: 76 217\n",
      "Season: 8 Episode: 11 Episode Number: 89 182 Subtitle Number: 77 244\n",
      "Season: 8 Episode: 12 Episode Number: 87 172 Subtitle Number: 83 222\n",
      "Season: 8 Episode: 14 Episode Number: 79 186 Subtitle Number: 69 258\n",
      "Season: 8 Episode: 15 Episode Number: 82 180 Subtitle Number: 78 247\n",
      "Season: 8 Episode: 16 Episode Number: 74 178 Subtitle Number: 68 240\n",
      "Season: 8 Episode: 17 Episode Number: 95 174 Subtitle Number: 84 246\n",
      "Season: 8 Episode: 18 Episode Number: 98 190 Subtitle Number: 89 258\n",
      "Season: 8 Episode: 19 Episode Number: 91 172 Subtitle Number: 83 237\n",
      "Season: 8 Episode: 20 Episode Number: 91 186 Subtitle Number: 85 256\n",
      "Season: 8 Episode: 21 Episode Number: 99 175 Subtitle Number: 92 229\n",
      "Season: 8 Episode: 22 Episode Number: 86 155 Subtitle Number: 73 220\n",
      "Season: 8 Episode: 23 Episode Number: 84 156 Subtitle Number: 78 205\n",
      "Season: 8 Episode: 24 Episode Number: 71 195 Subtitle Number: 67 240\n",
      "Season: 9 Episode: 1 Episode Number: 64 198 Subtitle Number: 60 269\n",
      "Season: 9 Episode: 3 Episode Number: 82 190 Subtitle Number: 78 256\n",
      "Season: 9 Episode: 4 Episode Number: 62 154 Subtitle Number: 54 218\n",
      "Season: 9 Episode: 7 Episode Number: 92 162 Subtitle Number: 79 229\n",
      "Season: 9 Episode: 8 Episode Number: 92 182 Subtitle Number: 83 235\n",
      "Season: 9 Episode: 9 Episode Number: 91 192 Subtitle Number: 81 261\n",
      "Season: 9 Episode: 10 Episode Number: 81 166 Subtitle Number: 71 241\n",
      "Season: 9 Episode: 11 Episode Number: 70 154 Subtitle Number: 68 194\n",
      "Season: 9 Episode: 12 Episode Number: 96 192 Subtitle Number: 87 256\n",
      "Season: 9 Episode: 16 Episode Number: 71 173 Subtitle Number: 69 238\n",
      "Season: 9 Episode: 17 Episode Number: 76 148 Subtitle Number: 68 219\n",
      "Season: 9 Episode: 18 Episode Number: 86 194 Subtitle Number: 84 245\n"
     ]
    }
   ],
   "source": [
    "further_alignment = {}\n",
    "for (i, j) in alignment_seeds.keys():\n",
    "    temp = get_alignment_extend_neighbors(tbbt_transcripts, en_subtitle, zh_subtitle, results, i, j, 200)\n",
    "    further_alignment[(i,j)] = temp\n",
    "    # print(alignment_seeds[(i,j)])\n",
    "    # print(temp)\n",
    "    print(\"Season:\", i,\"Episode:\", j, \"Episode Number:\",len(turn_sub2epi_into_epi2sub(alignment_seeds[(i,j)])), len(temp), \"Subtitle Number:\", len(alignment_seeds[(i,j)]),len(turn_sub2epi_into_epi2sub(temp)))"
   ],
   "metadata": {
    "collapsed": false,
    "pycharm": {
     "name": "#%%\n"
    }
   }
  },
  {
   "cell_type": "code",
   "execution_count": 51,
   "outputs": [],
   "source": [
    "with open('alignment_results/fa/final_stage_alignment_1.pkl', 'wb') as f:\n",
    "    pkl.dump(further_alignment, f)"
   ],
   "metadata": {
    "collapsed": false,
    "pycharm": {
     "name": "#%%\n"
    }
   }
  },
  {
   "cell_type": "markdown",
   "source": [
    "# Section 4: Alignment between gaps\n",
    "\n",
    "In this section, we will use:\n",
    "4.1. Extend with exact string match\n",
    "4.2: WER based\n",
    "4.3: CER Based substring\n",
    "4.4: Extend neighbor"
   ],
   "metadata": {
    "collapsed": false,
    "pycharm": {
     "name": "#%% md\n"
    }
   }
  },
  {
   "cell_type": "code",
   "execution_count": 53,
   "outputs": [],
   "source": [
    "def get_final_stage_gap_pairs(epi2sub):\n",
    "    # Gather the gap of subtitle corresponding to episode utterance\n",
    "    epi_keys = sorted(list(epi2sub.keys()))\n",
    "    sub_keys = sorted(list(turn_sub2epi_into_epi2sub(epi2sub).keys()))\n",
    "\n",
    "    subtitle_gaps = {}\n",
    "    for i in range(len(epi_keys)-1):\n",
    "        epi_start = epi_keys[i]\n",
    "        epi_end = epi_keys[i+1]\n",
    "        key = (epi_start, epi_end)\n",
    "        if max(epi2sub[epi_start])+1<min(epi2sub[epi_end]):\n",
    "            subtitle_gaps[(epi_start, epi_end)] = [item for item in range(max(epi2sub[epi_start])+1, min(epi2sub[epi_end]))]\n",
    "\n",
    "    # Perform string match and CER Scoring\n",
    "    return subtitle_gaps"
   ],
   "metadata": {
    "collapsed": false,
    "pycharm": {
     "name": "#%%\n"
    }
   }
  },
  {
   "cell_type": "code",
   "execution_count": 54,
   "outputs": [],
   "source": [
    "\"\"\"\n",
    "Explore the neighbor subtitles of a episode.\n",
    "\n",
    "Given a episode utterance (epi_id), then we fetch the unaligned subtitle (sub_id)\n",
    "[epi_id_0, epi_id_1, etc., epi_id_n] - [sub_id_0, sub_id_1, etc. sub_id_m]\n",
    "\n",
    "Then, we search within the subset-pair\n",
    "\n",
    "For each subtitle, we use sliding window to fetch a set of substrings in each episode utterance and calculate the CER\n",
    "\"\"\"\n",
    "def extend_neighbors_episode_sliding(en_subset, epi2sub, tbbt_episode):\n",
    "    count = 0\n",
    "    # Gather the gap of subtitle corresponding to episode utterance\n",
    "    subtitle_gaps = get_final_stage_gap_pairs(epi2sub)\n",
    "\n",
    "    # Iterate the whole subtitle gaps to perform substring match\n",
    "    temp_epi2sub = deepcopy(epi2sub)\n",
    "    for item in subtitle_gaps:\n",
    "        epi_ids = [i for i in range(item[0], item[1]+1)]\n",
    "        sub_ids = [i for i in subtitle_gaps[item]]\n",
    "\n",
    "        # Fetch all episodes and subtitles\n",
    "        epis = [transformation(tbbt_episode[i][0].replace(\"’\", \" \").replace('…', \" \")) for i in epi_ids]\n",
    "        subs = [transformation(en_subset[i].replace(\"’\", \" \").replace('…', \" \")) for i in sub_ids]\n",
    "\n",
    "        # print(epi_ids)\n",
    "        # print(epis)\n",
    "        # print(sub_ids)\n",
    "        # print(subs)\n",
    "        for sub_id, sub in zip(sub_ids, subs):\n",
    "            sub_len = len(sub.strip().split(\" \"))\n",
    "            if sub_len <=3:\n",
    "                continue\n",
    "            min_score = float('inf')\n",
    "            min_substring = \"\"\n",
    "            source_episode = \"\"\n",
    "            source_sub_id = float('inf')\n",
    "            source_epi_id = float('inf')\n",
    "            for epi, epi_id in zip(epis, epi_ids):\n",
    "                # min_score = float('inf')\n",
    "                # min_substring = \"\"\n",
    "                epi_substrings = get_sliding_window_substrings(epi, window_size=sub_len)\n",
    "                for substring in epi_substrings:\n",
    "                    wer = jiwer.wer(sub, substring)\n",
    "                    if wer <= min_score:\n",
    "                        min_score = wer\n",
    "                        min_substring = substring\n",
    "                        source_episode = epi\n",
    "                        source_epi_id = epi_id\n",
    "            if min_score <= 0.5:\n",
    "                if source_epi_id not in temp_epi2sub:\n",
    "                    temp_epi2sub[source_epi_id] = [sub_id]\n",
    "                else:\n",
    "                    temp_epi2sub[source_epi_id].append(sub_id)\n",
    "                # print(sub_id+2, source_epi_id+2)\n",
    "                # print(\"Subtitle:\", sub_id+2, sub, len(sub.strip().split(\" \")))\n",
    "                # print(\"All Episode to compare:\")\n",
    "                # print(min_score, '|', min_substring, '|', source_episode)\n",
    "                # print('=='*50)\n",
    "                # count += 1\n",
    "    # print(temp_epi2sub)\n",
    "    # print(len(temp_epi2sub), len(turn_sub2epi_into_epi2sub(temp_epi2sub)))\n",
    "    # print(count)\n",
    "    output = {}\n",
    "    for epi_id in sorted(list(temp_epi2sub.keys())):\n",
    "        output[epi_id] = sorted(list(set(temp_epi2sub[epi_id])))\n",
    "    return output\n",
    "\n",
    "# epi2sub_0 = epi2sub\n",
    "# print(len(epi2sub_0), len(turn_sub2epi_into_epi2sub(epi2sub_0)))\n",
    "# epi2sub_1 = extend_neighbors_episode_sliding(en_subset, epi2sub_0, tbbt_episode)\n",
    "# print(len(epi2sub_1), len(turn_sub2epi_into_epi2sub(epi2sub_1)))\n",
    "# epi2sub_2 = extend_neighbors_episode_sliding(en_subset, epi2sub_1, tbbt_episode)\n",
    "# print(len(epi2sub_2), len(turn_sub2epi_into_epi2sub(epi2sub_2)))"
   ],
   "metadata": {
    "collapsed": false,
    "pycharm": {
     "name": "#%%\n"
    }
   }
  },
  {
   "cell_type": "code",
   "execution_count": 55,
   "outputs": [],
   "source": [
    "def get_alignment(tbbt, en_subtitle, other_subtitle, results, season_id, episode_id, bias):\n",
    "    # Fetch subset located by the stage-1 alignment\n",
    "    (en_subset, zh_subset, tbbt_episode) = fetch_subsets(\n",
    "        episode=tbbt,\n",
    "        en_subtitle=en_subtitle,\n",
    "        zh_subtitle=other_subtitle,\n",
    "        results=results,\n",
    "        season_id=season_id,\n",
    "        episode_id=episode_id,\n",
    "        bias=bias\n",
    "    )\n",
    "\n",
    "    epi2sub = alignment_seeds[(season_id,episode_id)]\n",
    "    # Extend the neighbors\n",
    "    while True:\n",
    "        temp = extend_neighbors(en_subset, epi2sub, tbbt_episode)\n",
    "        if len(temp)==len(epi2sub) and len(turn_sub2epi_into_epi2sub(temp))==len(turn_sub2epi_into_epi2sub(epi2sub)):\n",
    "            break\n",
    "        else:\n",
    "            epi2sub = temp\n",
    "\n",
    "    # Extend within gap using strict string match\n",
    "    gaps, abandons = get_subset_in_gaps(epi2sub)\n",
    "    epi2sub = add_strict_match_within_gaps(gaps, epi2sub, en_subset)\n",
    "\n",
    "    # Extend within gap using wer\n",
    "    gaps, abandons = get_subset_in_gaps(epi2sub)\n",
    "    epi2sub = add_wer_match_within_gaps(gaps, epi2sub, en_subset, tbbt_episode)\n",
    "\n",
    "    # Extend within gap using substring cer\n",
    "    gaps, abandons = get_subset_in_gaps(epi2sub)\n",
    "    epi2sub = add_wer_substring_match_within_gaps(gaps, epi2sub, en_subset, tbbt_episode)\n",
    "\n",
    "    # Extend the neighbors\n",
    "    epi2sub = extend_neighbors_episode_sliding(en_subset, epi2sub, tbbt_episode)\n",
    "\n",
    "    return epi2sub"
   ],
   "metadata": {
    "collapsed": false,
    "pycharm": {
     "name": "#%%\n"
    }
   }
  },
  {
   "cell_type": "code",
   "execution_count": 59,
   "outputs": [
    {
     "ename": "NameError",
     "evalue": "name 'tbbt_episode' is not defined",
     "output_type": "error",
     "traceback": [
      "\u001B[0;31m---------------------------------------------------------------------------\u001B[0m",
      "\u001B[0;31mNameError\u001B[0m                                 Traceback (most recent call last)",
      "\u001B[0;32m/var/folders/w9/673mfrb56v7dvx7hhvw7s6240000gn/T/ipykernel_4197/3816058396.py\u001B[0m in \u001B[0;36m<module>\u001B[0;34m\u001B[0m\n\u001B[1;32m      1\u001B[0m \u001B[0mfurther_alignment\u001B[0m \u001B[0;34m=\u001B[0m \u001B[0;34m{\u001B[0m\u001B[0;34m}\u001B[0m\u001B[0;34m\u001B[0m\u001B[0;34m\u001B[0m\u001B[0m\n\u001B[1;32m      2\u001B[0m \u001B[0;32mfor\u001B[0m \u001B[0;34m(\u001B[0m\u001B[0mi\u001B[0m\u001B[0;34m,\u001B[0m \u001B[0mj\u001B[0m\u001B[0;34m)\u001B[0m \u001B[0;32min\u001B[0m \u001B[0malignment_seeds\u001B[0m\u001B[0;34m.\u001B[0m\u001B[0mkeys\u001B[0m\u001B[0;34m(\u001B[0m\u001B[0;34m)\u001B[0m\u001B[0;34m:\u001B[0m\u001B[0;34m\u001B[0m\u001B[0;34m\u001B[0m\u001B[0m\n\u001B[0;32m----> 3\u001B[0;31m     \u001B[0mtemp\u001B[0m \u001B[0;34m=\u001B[0m \u001B[0mget_alignment\u001B[0m\u001B[0;34m(\u001B[0m\u001B[0mtbbt_transcripts\u001B[0m\u001B[0;34m,\u001B[0m \u001B[0men_subtitle\u001B[0m\u001B[0;34m,\u001B[0m \u001B[0mzh_subtitle\u001B[0m\u001B[0;34m,\u001B[0m \u001B[0mresults\u001B[0m\u001B[0;34m,\u001B[0m \u001B[0mi\u001B[0m\u001B[0;34m,\u001B[0m \u001B[0mj\u001B[0m\u001B[0;34m,\u001B[0m \u001B[0;36m200\u001B[0m\u001B[0;34m)\u001B[0m\u001B[0;34m\u001B[0m\u001B[0;34m\u001B[0m\u001B[0m\n\u001B[0m\u001B[1;32m      4\u001B[0m     \u001B[0mfurther_alignment\u001B[0m\u001B[0;34m[\u001B[0m\u001B[0;34m(\u001B[0m\u001B[0mi\u001B[0m\u001B[0;34m,\u001B[0m\u001B[0mj\u001B[0m\u001B[0;34m)\u001B[0m\u001B[0;34m]\u001B[0m \u001B[0;34m=\u001B[0m \u001B[0mtemp\u001B[0m\u001B[0;34m\u001B[0m\u001B[0;34m\u001B[0m\u001B[0m\n\u001B[1;32m      5\u001B[0m     \u001B[0mprint\u001B[0m\u001B[0;34m(\u001B[0m\u001B[0;34m\"Season:\"\u001B[0m\u001B[0;34m,\u001B[0m \u001B[0mi\u001B[0m\u001B[0;34m,\u001B[0m\u001B[0;34m\"Episode:\"\u001B[0m\u001B[0;34m,\u001B[0m \u001B[0mj\u001B[0m\u001B[0;34m,\u001B[0m \u001B[0;34m\"Episode Number:\"\u001B[0m\u001B[0;34m,\u001B[0m \u001B[0mlen\u001B[0m\u001B[0;34m(\u001B[0m\u001B[0malignment_seeds\u001B[0m\u001B[0;34m[\u001B[0m\u001B[0;34m(\u001B[0m\u001B[0mi\u001B[0m\u001B[0;34m,\u001B[0m\u001B[0mj\u001B[0m\u001B[0;34m)\u001B[0m\u001B[0;34m]\u001B[0m\u001B[0;34m)\u001B[0m\u001B[0;34m,\u001B[0m\u001B[0mlen\u001B[0m\u001B[0;34m(\u001B[0m\u001B[0mtemp\u001B[0m\u001B[0;34m)\u001B[0m\u001B[0;34m,\u001B[0m \u001B[0;34m\"|\"\u001B[0m\u001B[0;34m,\u001B[0m \u001B[0;34m\"Subtitle Number:\"\u001B[0m\u001B[0;34m,\u001B[0m \u001B[0mlen\u001B[0m\u001B[0;34m(\u001B[0m\u001B[0mturn_sub2epi_into_epi2sub\u001B[0m\u001B[0;34m(\u001B[0m\u001B[0malignment_seeds\u001B[0m\u001B[0;34m[\u001B[0m\u001B[0;34m(\u001B[0m\u001B[0mi\u001B[0m\u001B[0;34m,\u001B[0m\u001B[0mj\u001B[0m\u001B[0;34m)\u001B[0m\u001B[0;34m]\u001B[0m\u001B[0;34m)\u001B[0m\u001B[0;34m)\u001B[0m\u001B[0;34m,\u001B[0m\u001B[0mlen\u001B[0m\u001B[0;34m(\u001B[0m\u001B[0mturn_sub2epi_into_epi2sub\u001B[0m\u001B[0;34m(\u001B[0m\u001B[0mtemp\u001B[0m\u001B[0;34m)\u001B[0m\u001B[0;34m)\u001B[0m\u001B[0;34m)\u001B[0m\u001B[0;34m\u001B[0m\u001B[0;34m\u001B[0m\u001B[0m\n",
      "\u001B[0;32m/var/folders/w9/673mfrb56v7dvx7hhvw7s6240000gn/T/ipykernel_4197/1216439707.py\u001B[0m in \u001B[0;36mget_alignment\u001B[0;34m(tbbt, en_subtitle, other_subtitle, results, season_id, episode_id, bias)\u001B[0m\n\u001B[1;32m     22\u001B[0m     \u001B[0;31m# Extend within gap using strict string match\u001B[0m\u001B[0;34m\u001B[0m\u001B[0;34m\u001B[0m\u001B[0;34m\u001B[0m\u001B[0m\n\u001B[1;32m     23\u001B[0m     \u001B[0mgaps\u001B[0m\u001B[0;34m,\u001B[0m \u001B[0mabandons\u001B[0m \u001B[0;34m=\u001B[0m \u001B[0mget_subset_in_gaps\u001B[0m\u001B[0;34m(\u001B[0m\u001B[0mepi2sub\u001B[0m\u001B[0;34m)\u001B[0m\u001B[0;34m\u001B[0m\u001B[0;34m\u001B[0m\u001B[0m\n\u001B[0;32m---> 24\u001B[0;31m     \u001B[0mepi2sub\u001B[0m \u001B[0;34m=\u001B[0m \u001B[0madd_strict_match_within_gaps\u001B[0m\u001B[0;34m(\u001B[0m\u001B[0mgaps\u001B[0m\u001B[0;34m,\u001B[0m \u001B[0mepi2sub\u001B[0m\u001B[0;34m,\u001B[0m \u001B[0men_subset\u001B[0m\u001B[0;34m)\u001B[0m\u001B[0;34m\u001B[0m\u001B[0;34m\u001B[0m\u001B[0m\n\u001B[0m\u001B[1;32m     25\u001B[0m \u001B[0;34m\u001B[0m\u001B[0m\n\u001B[1;32m     26\u001B[0m     \u001B[0;31m# Extend within gap using wer\u001B[0m\u001B[0;34m\u001B[0m\u001B[0;34m\u001B[0m\u001B[0;34m\u001B[0m\u001B[0m\n",
      "\u001B[0;32m/var/folders/w9/673mfrb56v7dvx7hhvw7s6240000gn/T/ipykernel_4197/3466512246.py\u001B[0m in \u001B[0;36madd_strict_match_within_gaps\u001B[0;34m(gaps, epi2sub, en_subset)\u001B[0m\n\u001B[1;32m      7\u001B[0m             \u001B[0msub\u001B[0m \u001B[0;34m=\u001B[0m \u001B[0mtransformation\u001B[0m\u001B[0;34m(\u001B[0m\u001B[0men_subset\u001B[0m\u001B[0;34m[\u001B[0m\u001B[0msub_id\u001B[0m\u001B[0;34m]\u001B[0m\u001B[0;34m.\u001B[0m\u001B[0mreplace\u001B[0m\u001B[0;34m(\u001B[0m\u001B[0;34m\"’\"\u001B[0m\u001B[0;34m,\u001B[0m \u001B[0;34m\"'\"\u001B[0m\u001B[0;34m)\u001B[0m\u001B[0;34m)\u001B[0m\u001B[0;34m\u001B[0m\u001B[0;34m\u001B[0m\u001B[0m\n\u001B[1;32m      8\u001B[0m             \u001B[0;32mfor\u001B[0m \u001B[0mepi_id\u001B[0m \u001B[0;32min\u001B[0m \u001B[0mepi_ids\u001B[0m\u001B[0;34m:\u001B[0m\u001B[0;34m\u001B[0m\u001B[0;34m\u001B[0m\u001B[0m\n\u001B[0;32m----> 9\u001B[0;31m                 \u001B[0mepi\u001B[0m \u001B[0;34m=\u001B[0m \u001B[0mtransformation\u001B[0m\u001B[0;34m(\u001B[0m\u001B[0mtbbt_episode\u001B[0m\u001B[0;34m[\u001B[0m\u001B[0mepi_id\u001B[0m\u001B[0;34m]\u001B[0m\u001B[0;34m[\u001B[0m\u001B[0;36m0\u001B[0m\u001B[0;34m]\u001B[0m\u001B[0;34m.\u001B[0m\u001B[0mreplace\u001B[0m\u001B[0;34m(\u001B[0m\u001B[0;34m\"’\"\u001B[0m\u001B[0;34m,\u001B[0m \u001B[0;34m\"'\"\u001B[0m\u001B[0;34m)\u001B[0m\u001B[0;34m)\u001B[0m\u001B[0;34m\u001B[0m\u001B[0;34m\u001B[0m\u001B[0m\n\u001B[0m\u001B[1;32m     10\u001B[0m                 \u001B[0;32mif\u001B[0m \u001B[0mlen\u001B[0m\u001B[0;34m(\u001B[0m\u001B[0mepi\u001B[0m\u001B[0;34m.\u001B[0m\u001B[0mstrip\u001B[0m\u001B[0;34m(\u001B[0m\u001B[0;34m)\u001B[0m\u001B[0;34m.\u001B[0m\u001B[0msplit\u001B[0m\u001B[0;34m(\u001B[0m\u001B[0;34m\" \"\u001B[0m\u001B[0;34m)\u001B[0m\u001B[0;34m)\u001B[0m\u001B[0;34m<=\u001B[0m\u001B[0;36m2\u001B[0m\u001B[0;34m:\u001B[0m\u001B[0;34m\u001B[0m\u001B[0;34m\u001B[0m\u001B[0m\n\u001B[1;32m     11\u001B[0m                     \u001B[0;32mcontinue\u001B[0m\u001B[0;34m\u001B[0m\u001B[0;34m\u001B[0m\u001B[0m\n",
      "\u001B[0;31mNameError\u001B[0m: name 'tbbt_episode' is not defined"
     ]
    }
   ],
   "source": [
    "further_alignment = {}\n",
    "for (i, j) in alignment_seeds.keys():\n",
    "    temp = get_alignment(tbbt_transcripts, en_subtitle, zh_subtitle, results, i, j, 200)\n",
    "    further_alignment[(i,j)] = temp\n",
    "    print(\"Season:\", i,\"Episode:\", j, \"Episode Number:\", len(alignment_seeds[(i,j)]),len(temp), \"|\", \"Subtitle Number:\", len(turn_sub2epi_into_epi2sub(alignment_seeds[(i,j)])),len(turn_sub2epi_into_epi2sub(temp)))"
   ],
   "metadata": {
    "collapsed": false,
    "pycharm": {
     "name": "#%%\n"
    }
   }
  },
  {
   "cell_type": "code",
   "execution_count": 363,
   "outputs": [],
   "source": [
    "with open('alignment_results/zh/final_stage_alignment_1.pkl', 'wb') as f:\n",
    "    pkl.dump(further_alignment, f)"
   ],
   "metadata": {
    "collapsed": false,
    "pycharm": {
     "name": "#%%\n"
    }
   }
  },
  {
   "cell_type": "code",
   "execution_count": 18,
   "outputs": [],
   "source": [
    "with open('alignment_results/zh/final_stage_alignment_1.pkl', 'rb') as f:\n",
    "    further_alignment = pkl.load(f)"
   ],
   "metadata": {
    "collapsed": false,
    "pycharm": {
     "name": "#%%\n"
    }
   }
  },
  {
   "cell_type": "code",
   "execution_count": 19,
   "outputs": [],
   "source": [
    "alignment_seeds = further_alignment\n",
    "# for x in alignment_seeds:\n",
    "#     print(x)\n",
    "#     print(alignment_seeds[x])\n",
    "#     print()"
   ],
   "metadata": {
    "collapsed": false,
    "pycharm": {
     "name": "#%%\n"
    }
   }
  },
  {
   "cell_type": "markdown",
   "source": [
    "## Part 5: Ultimate Stage\n",
    "In this stage:\n",
    "1. Add the head and tail part\n",
    "2. add the alignment in the gap"
   ],
   "metadata": {
    "collapsed": false,
    "pycharm": {
     "name": "#%% md\n"
    }
   }
  },
  {
   "cell_type": "code",
   "execution_count": 60,
   "outputs": [],
   "source": [
    "with open('alignment_results/fa/final_stage_alignment_1.pkl', 'rb') as f:\n",
    "    alignment_seeds = pkl.load(f)"
   ],
   "metadata": {
    "collapsed": false,
    "pycharm": {
     "name": "#%%\n"
    }
   }
  },
  {
   "cell_type": "code",
   "execution_count": 61,
   "outputs": [
    {
     "name": "stdout",
     "output_type": "stream",
     "text": [
      "(1, 1) 210 333 123 63%\n",
      "(1, 2) 156 248 92 62%\n",
      "(1, 3) 141 259 118 54%\n",
      "(1, 4) 140 238 98 58%\n",
      "(1, 5) 154 232 78 66%\n",
      "(1, 6) 159 258 99 61%\n",
      "(1, 7) 184 291 107 63%\n",
      "(1, 8) 180 270 90 66%\n",
      "(1, 9) 137 234 97 58%\n",
      "(1, 10) 142 235 93 60%\n",
      "(1, 11) 162 257 95 63%\n",
      "(1, 12) 96 243 147 39%\n",
      "(1, 13) 160 265 105 60%\n",
      "(1, 14) 154 243 89 63%\n",
      "(1, 15) 151 248 97 60%\n",
      "(1, 16) 148 248 100 59%\n",
      "(2, 4) 133 269 136 49%\n",
      "(2, 6) 167 246 79 67%\n",
      "(2, 8) 166 241 75 68%\n",
      "(2, 9) 146 218 72 66%\n",
      "(3, 21) 186 268 82 69%\n",
      "(3, 23) 189 259 70 72%\n",
      "(4, 1) 160 257 97 62%\n",
      "(4, 3) 194 283 89 68%\n",
      "(4, 4) 195 270 75 72%\n",
      "(4, 5) 174 238 64 73%\n",
      "(4, 6) 165 265 100 62%\n",
      "(4, 8) 160 223 63 71%\n",
      "(4, 16) 175 245 70 71%\n",
      "(4, 19) 189 264 75 71%\n",
      "(4, 21) 158 216 58 73%\n",
      "(4, 22) 201 252 51 79%\n",
      "(4, 23) 194 249 55 77%\n",
      "(4, 24) 179 242 63 73%\n",
      "(5, 2) 141 222 81 63%\n",
      "(5, 6) 164 202 38 81%\n",
      "(5, 12) 166 196 30 84%\n",
      "(5, 14) 143 185 42 77%\n",
      "(5, 15) 156 201 45 77%\n",
      "(5, 20) 169 233 64 72%\n",
      "(5, 23) 157 216 59 72%\n",
      "(6, 2) 172 239 67 71%\n",
      "(6, 3) 160 210 50 76%\n",
      "(6, 4) 173 235 62 73%\n",
      "(6, 5) 173 232 59 74%\n",
      "(6, 6) 161 207 46 77%\n",
      "(6, 7) 163 199 36 81%\n",
      "(6, 8) 176 245 69 71%\n",
      "(6, 9) 156 214 58 72%\n",
      "(6, 14) 166 216 50 76%\n",
      "(6, 15) 175 243 68 72%\n",
      "(6, 16) 155 221 66 70%\n",
      "(6, 17) 128 174 46 73%\n",
      "(6, 19) 170 235 65 72%\n",
      "(6, 20) 149 219 70 68%\n",
      "(6, 21) 151 194 43 77%\n",
      "(6, 24) 165 224 59 73%\n",
      "(7, 1) 126 237 111 53%\n",
      "(7, 2) 189 260 71 72%\n",
      "(7, 6) 167 217 50 76%\n",
      "(7, 10) 181 224 43 80%\n",
      "(7, 11) 182 252 70 72%\n",
      "(7, 15) 180 236 56 76%\n",
      "(7, 16) 200 257 57 77%\n",
      "(7, 17) 160 226 66 70%\n",
      "(7, 18) 189 250 61 75%\n",
      "(7, 19) 168 237 69 70%\n",
      "(7, 20) 158 242 84 65%\n",
      "(7, 22) 163 227 64 71%\n",
      "(7, 23) 191 250 59 76%\n",
      "(8, 1) 172 222 50 77%\n",
      "(8, 2) 167 231 64 72%\n",
      "(8, 3) 171 219 48 78%\n",
      "(8, 5) 182 235 53 77%\n",
      "(8, 6) 191 254 63 75%\n",
      "(8, 7) 176 239 63 73%\n",
      "(8, 9) 170 238 68 71%\n",
      "(8, 11) 182 232 50 78%\n",
      "(8, 12) 172 227 55 75%\n",
      "(8, 14) 186 242 56 76%\n",
      "(8, 15) 180 245 65 73%\n",
      "(8, 16) 178 232 54 76%\n",
      "(8, 17) 174 231 57 75%\n",
      "(8, 18) 190 244 54 77%\n",
      "(8, 19) 172 217 45 79%\n",
      "(8, 20) 186 251 65 74%\n",
      "(8, 21) 175 241 66 72%\n",
      "(8, 22) 155 219 64 70%\n",
      "(8, 23) 156 210 54 74%\n",
      "(8, 24) 195 276 81 70%\n",
      "(9, 1) 198 268 70 73%\n",
      "(9, 3) 190 257 67 73%\n",
      "(9, 4) 154 199 45 77%\n",
      "(9, 7) 162 210 48 77%\n",
      "(9, 8) 182 240 58 75%\n",
      "(9, 9) 192 244 52 78%\n",
      "(9, 10) 166 215 49 77%\n",
      "(9, 11) 154 250 96 61%\n",
      "(9, 12) 192 255 63 75%\n",
      "(9, 16) 173 233 60 74%\n",
      "(9, 17) 148 196 48 75%\n",
      "(9, 18) 194 240 46 80%\n"
     ]
    }
   ],
   "source": [
    "for x in alignment_seeds:\n",
    "    num_aligned = len(alignment_seeds[x])\n",
    "    num_all = len(tbbt_transcripts[x])\n",
    "    print(x, num_aligned, num_all, (num_all-num_aligned), str(int(num_aligned/num_all*100))+\"%\")"
   ],
   "metadata": {
    "collapsed": false,
    "pycharm": {
     "name": "#%%\n"
    }
   }
  },
  {
   "cell_type": "code",
   "execution_count": 62,
   "outputs": [],
   "source": [
    "def fetch_before_after(en_subset, zh_subset, tbbt_episode, epi2sub):\n",
    "    gap_pairs = []\n",
    "    # Fetch the Episode-Subtitle Pair before the episode start\n",
    "    epi_ids = list(range(0, min(epi2sub.keys())))\n",
    "    num_epi_token = 0\n",
    "    for i in epi_ids:\n",
    "        num_epi_token += len(tbbt_episode[i][0].strip().split(\" \"))\n",
    "\n",
    "    sub_ids = [min(epi2sub[min(epi2sub.keys())])]\n",
    "    num_sub_token = len(en_subset[sub_ids[-1]].strip().split(\" \"))\n",
    "    while num_sub_token <= num_epi_token*3:\n",
    "        sub_ids.append(sub_ids[-1]-1)\n",
    "        num_sub_token += len(en_subset[sub_ids[-1]].strip().split(\" \"))\n",
    "    gap_pairs.append([epi_ids, sorted(sub_ids)])\n",
    "\n",
    "    # Fetch the Episode-Subtitle Pair after the episode end\n",
    "    epi_ids = list(range(max(epi2sub.keys())+1, len(tbbt_episode)))\n",
    "    num_epi_token = 0\n",
    "    for i in epi_ids:\n",
    "        num_epi_token += len(tbbt_episode[i][0].strip().split(\" \"))\n",
    "\n",
    "    sub_ids = [max(epi2sub[max(epi2sub.keys())])+1]\n",
    "    num_sub_token = len(en_subset[sub_ids[-1]].strip().split(\" \"))\n",
    "    while num_sub_token <= num_epi_token*3:\n",
    "        sub_ids.append(sub_ids[-1]+1)\n",
    "        num_sub_token += len(en_subset[sub_ids[-1]].strip().split(\" \"))\n",
    "    gap_pairs.append([epi_ids, sub_ids])\n",
    "\n",
    "    return gap_pairs"
   ],
   "metadata": {
    "collapsed": false,
    "pycharm": {
     "name": "#%%\n"
    }
   }
  },
  {
   "cell_type": "code",
   "execution_count": 63,
   "outputs": [],
   "source": [
    "def before_after_exact_match(en_subset, episode, epi_ids, sub_ids):\n",
    "    res = {}\n",
    "    for sub_id in sub_ids:\n",
    "        subtitle = transformation(en_subset[sub_id])\n",
    "        if len(subtitle.strip().split(\" \")) <=5:\n",
    "            continue\n",
    "        # Exact Match for short sentences\n",
    "        for epi_id in epi_ids:\n",
    "            utt = transformation(episode[epi_id][0])\n",
    "            speaker = episode[epi_id][1]\n",
    "            if subtitle == utt:\n",
    "                if i not in res:\n",
    "                    res[i] = set()\n",
    "                    res[i].add(j)\n",
    "                else:\n",
    "                    res[i].add(j)\n",
    "    output = {}\n",
    "    for x in res:\n",
    "        output[x] = sorted(list(res[x]))\n",
    "\n",
    "    return output"
   ],
   "metadata": {
    "collapsed": false,
    "pycharm": {
     "name": "#%%\n"
    }
   }
  },
  {
   "cell_type": "code",
   "execution_count": 64,
   "outputs": [],
   "source": [
    "def before_after_string_match_sliding_window_no_filter(en_subset, episode, epi_ids, sub_ids, window_size=5):\n",
    "    res = {}\n",
    "    for sub_id in sub_ids:\n",
    "        subtitle = transformation(en_subset[sub_id])\n",
    "        subtitle_tokens = subtitle.strip().split(\" \")\n",
    "        if len(subtitle_tokens) < window_size:\n",
    "            continue\n",
    "\n",
    "        subtitle_segments = []\n",
    "        for j in range(len(subtitle_tokens) - window_size):\n",
    "            subtitle_segments.append(\" \".join(subtitle_tokens[j: j + window_size]))\n",
    "            # print(\" \".join(subtitle_tokens[j: j+5]))\n",
    "\n",
    "        for epi_id in epi_ids:\n",
    "            utt = transformation(episode[epi_id][0])\n",
    "            speaker = episode[epi_id][1]\n",
    "            for sub_seg in subtitle_segments:\n",
    "                if sub_seg in utt:\n",
    "                    if i not in res:\n",
    "                        res[i] = set()\n",
    "                        res[i].add(j)\n",
    "                    else:\n",
    "                        res[i].add(j)\n",
    "    return res"
   ],
   "metadata": {
    "collapsed": false,
    "pycharm": {
     "name": "#%%\n"
    }
   }
  },
  {
   "cell_type": "code",
   "execution_count": 65,
   "outputs": [],
   "source": [
    "def add_wer_substring_match_within_gaps(gaps, epi2sub, en_subset, tbbt_episode):\n",
    "    count = 0\n",
    "    pattern = r'\\.|\\?|\\!|\\;|- '\n",
    "    temp_sub2epi = {}\n",
    "    for gap in gaps:\n",
    "        # Build substrings\n",
    "        sub_ids = gap[1]\n",
    "        epi_ids = gap[0]\n",
    "        sub_lists = []\n",
    "        epi_lists = []\n",
    "\n",
    "        for epi_id in epi_ids:\n",
    "            epi = tbbt_episode[epi_id][0].replace(\"’\", \"'\")\n",
    "            epi_substring = re.split(pattern, epi)\n",
    "            for item in epi_substring:\n",
    "                if len(item.strip().split(\" \"))<=2:\n",
    "                    continue\n",
    "                temp_item = transformation(item.replace(\"-\", \" \").strip())\n",
    "                epi_lists.append([temp_item, epi_id])\n",
    "\n",
    "        for sub_id in sub_ids:\n",
    "            sub = en_subset[sub_id].replace(\"’\", \"'\")\n",
    "            sub_substring = re.split(pattern, sub)\n",
    "            for item in sub_substring:\n",
    "                if len(item.strip().split(\" \"))<=2:\n",
    "                    continue\n",
    "                temp_item = transformation(item.replace(\"-\", \" \").strip())\n",
    "                sub_lists.append([temp_item, sub_id])\n",
    "\n",
    "\n",
    "        # Calculate WER Similarity\n",
    "        for (sub, sub_id) in sub_lists:\n",
    "            for (epi, epi_id) in epi_lists:\n",
    "                cer = jiwer.cer(epi, sub)\n",
    "                if cer <= 0.2:\n",
    "                    count += 1\n",
    "                    if sub_id not in temp_sub2epi:\n",
    "                        temp_sub2epi[sub_id] = set()\n",
    "                        temp_sub2epi[sub_id].add(epi_id)\n",
    "                    else:\n",
    "                        temp_sub2epi[sub_id].add(epi_id)\n",
    "\n",
    "    for sub_id in temp_sub2epi:\n",
    "        epi_ids = list(temp_sub2epi[sub_id])\n",
    "        if len(epi_ids)!=1:\n",
    "            continue\n",
    "        epi_id = epi_ids[0]\n",
    "        if epi_id not in epi2sub:\n",
    "            epi2sub[epi_id] = [sub_id]\n",
    "        else:\n",
    "            epi2sub[epi_id].append(sub_id)\n",
    "\n",
    "    output = {}\n",
    "    for epi_id in sorted(list(epi2sub.keys())):\n",
    "        output[epi_id] = sorted(list(set(epi2sub[epi_id])))\n",
    "    return output"
   ],
   "metadata": {
    "collapsed": false,
    "pycharm": {
     "name": "#%%\n"
    }
   }
  },
  {
   "cell_type": "code",
   "execution_count": 66,
   "outputs": [],
   "source": [
    "def get_optimal_wer_from_episode(ground_truth, hypothesis_pool):\n",
    "    scores = []\n",
    "    for i, hypothesis in enumerate(hypothesis_pool):\n",
    "        scores.append(jiwer.compute_measures(ground_truth, hypothesis)['wer'])\n",
    "    return min(scores), hypothesis_pool[scores.index(min(scores))], ground_truth, scores.index(min(scores))"
   ],
   "metadata": {
    "collapsed": false,
    "pycharm": {
     "name": "#%%\n"
    }
   }
  },
  {
   "cell_type": "code",
   "execution_count": 67,
   "outputs": [],
   "source": [
    "def get_optimal_cer_from_episode(ground_truth, hypothesis_pool, utt_ids):\n",
    "    scores = []\n",
    "    for i, hypothesis in enumerate(hypothesis_pool):\n",
    "        scores.append(jiwer.cer(ground_truth, hypothesis))\n",
    "    return min(scores), hypothesis_pool[scores.index(min(scores))], ground_truth, utt_ids[scores.index(min(scores))]"
   ],
   "metadata": {
    "collapsed": false,
    "pycharm": {
     "name": "#%%\n"
    }
   }
  },
  {
   "cell_type": "code",
   "execution_count": 68,
   "outputs": [],
   "source": [
    "def before_after_wer_match(en_subset, episode, epi_ids, sub_ids):\n",
    "    # Load Sub2Epi\n",
    "    temp_sub2epi = {}\n",
    "    temp_epi2sub = {}\n",
    "    for sub_id in sub_ids:\n",
    "        subtitle = transformation(en_subset[sub_id].replace(\"’\", \" \").replace('…', \" \"))\n",
    "        subtitle_tokens = subtitle.strip().split(\" \")\n",
    "        sub_len = len(subtitle_tokens)\n",
    "        if sub_len <= 4:\n",
    "            continue\n",
    "\n",
    "        utt_segments = []\n",
    "        utt_ids = []\n",
    "        for epi_id in epi_ids:\n",
    "            utt = transformation(episode[epi_id][0].replace(\"’\", \" \").replace('…', \" \"))\n",
    "            utt_tokens = utt.strip().split(\" \")\n",
    "            for j in range(len(utt_tokens) - sub_len+1):\n",
    "                utt_segments.append(\" \".join(utt_tokens[j: j + sub_len]))\n",
    "                utt_ids.append(epi_id)\n",
    "        if utt_segments != [] and subtitle not in [\" \", \"\"]:\n",
    "            score, hypo, truth, index = get_optimal_cer_from_episode(subtitle, utt_segments, utt_ids)\n",
    "            if score >= 0.5:\n",
    "                continue\n",
    "            # print(\"**********\")\n",
    "            # print(\"Score:\", score)\n",
    "            # print(\"Subtitle:\", truth)\n",
    "            # print(\"Episode:\", hypo)\n",
    "            # print(\"Epi ID:\", index, \"Sub ID:\", sub_id)\n",
    "            temp_sub2epi[sub_id] = [index]\n",
    "            if index not in temp_epi2sub:\n",
    "                temp_epi2sub[index] = [sub_id]\n",
    "            else:\n",
    "                temp_epi2sub[index].append(sub_id)\n",
    "    # print(\"Sub2Epi:\", temp_sub2epi)\n",
    "    # print(\"Epi2Sub:\", temp_epi2sub)\n",
    "    return temp_sub2epi"
   ],
   "metadata": {
    "collapsed": false,
    "pycharm": {
     "name": "#%%\n"
    }
   }
  },
  {
   "cell_type": "code",
   "execution_count": 69,
   "outputs": [],
   "source": [
    "def filter_alignment(epi2sub):\n",
    "    epi_ids = list(epi2sub.keys())\n",
    "    if len(epi_ids)<2:\n",
    "        return epi2sub\n",
    "\n",
    "    temp = {}\n",
    "    for i in range(len(epi_ids)-1):\n",
    "        if max(further_alignment[x][epi_ids[i]]) <= min(further_alignment[x][epi_ids[i+1]]):\n",
    "            temp[epi_ids[i]] = further_alignment[x][epi_ids[i]]\n",
    "        # print(epi_id, further_alignment[x][epi_id], min(further_alignment[x][epi_ids[i+1]]) >= max(further_alignment[x][epi_ids[i]]))\n",
    "    temp[epi_ids[-1]] = epi2sub[epi_ids[-1]]\n",
    "    return temp"
   ],
   "metadata": {
    "collapsed": false,
    "pycharm": {
     "name": "#%%\n"
    }
   }
  },
  {
   "cell_type": "code",
   "execution_count": 78,
   "outputs": [],
   "source": [
    "def get_alignment(tbbt, en_subtitle, other_subtitle, results, season_id, episode_id, bias):\n",
    "    # Fetch subset located by the stage-1 alignment\n",
    "    (en_subset, zh_subset, tbbt_episode) = fetch_subsets(\n",
    "        episode=tbbt,\n",
    "        en_subtitle=en_subtitle,\n",
    "        zh_subtitle=other_subtitle,\n",
    "        results=results,\n",
    "        season_id=season_id,\n",
    "        episode_id=episode_id,\n",
    "        bias=bias\n",
    "    )\n",
    "\n",
    "    head_tail_sub2epi = {}\n",
    "\n",
    "    epi2sub = alignment_seeds[(season_id,episode_id)]\n",
    "    print(min(epi2sub.keys()), max(epi2sub.keys()), len(tbbt_episode)-1, len(tbbt_episode)-max(epi2sub.keys())-1)\n",
    "\n",
    "    # Fetch episode-subtitle alignment pairs before and after the head and tail\n",
    "    gap_pairs = fetch_before_after(en_subset, zh_subset, tbbt_episode, epi2sub)\n",
    "    for item in gap_pairs:\n",
    "        # print(item)\n",
    "        # print(\"Episode:\")\n",
    "        # for i in item[0]:\n",
    "        #     print(transformation(tbbt_episode[i][0].replace(\"’\", \" \").replace('…', \" \")))\n",
    "        # print()\n",
    "        # print(\"Subtitle:\")\n",
    "        # for i in item[1]:\n",
    "        #     print(transformation(en_subset[i].replace(\"’\", \" \").replace('…', \" \")))\n",
    "        # print(\"------\")\n",
    "        temp = before_after_wer_match(en_subset, tbbt_episode, item[0], item[1])\n",
    "        for x in temp:\n",
    "            head_tail_sub2epi[x] = temp[x]\n",
    "\n",
    "    # Clean Alignment\n",
    "    head_tail_epi2sub = turn_sub2epi_into_epi2sub(head_tail_sub2epi)\n",
    "    # print(head_tail_epi2sub)\n",
    "    # head_tail_epi2sub = filter_alignment(head_tail_epi2sub)\n",
    "    # print(head_tail_epi2sub)\n",
    "\n",
    "\n",
    "    return head_tail_sub2epi\n",
    "\n",
    "    # for item in gap_pairs:\n",
    "    #     temp = before_after_string_match_sliding_window_no_filter(en_subset, tbbt_episode, item[0], item[1], 200)\n",
    "    #     print(temp)\n",
    "\n",
    "\n",
    "    # # Extend the neighbors\n",
    "    # while True:\n",
    "    #     temp = extend_neighbors(en_subset, epi2sub, tbbt_episode)\n",
    "    #     if len(temp)==len(epi2sub) and len(turn_sub2epi_into_epi2sub(temp))==len(turn_sub2epi_into_epi2sub(epi2sub)):\n",
    "    #         break\n",
    "    #     else:\n",
    "    #         epi2sub = temp\n",
    "    #\n",
    "    # # Extend within gap using strict string match\n",
    "    # gaps, abandons = get_subset_in_gaps(epi2sub)\n",
    "    # epi2sub = add_strict_match_within_gaps(gaps, epi2sub)\n",
    "    #\n",
    "    # # Extend within gap using wer\n",
    "    # gaps, abandons = get_subset_in_gaps(epi2sub)\n",
    "    # epi2sub = add_wer_match_within_gaps(gaps, epi2sub, en_subset, tbbt_episode)\n",
    "    #\n",
    "    # # Extend within gap using substring cer\n",
    "    # gaps, abandons = get_subset_in_gaps(epi2sub)\n",
    "    # epi2sub = add_wer_substring_match_within_gaps(gaps, epi2sub, en_subset, tbbt_episode)\n",
    "    #\n",
    "    # # Extend the neighbors\n",
    "    # epi2sub = extend_neighbors_episode_sliding(en_subset, epi2sub, tbbt_episode)\n",
    "\n",
    "    # return epi2sub"
   ],
   "metadata": {
    "collapsed": false,
    "pycharm": {
     "name": "#%%\n"
    }
   }
  },
  {
   "cell_type": "code",
   "execution_count": 79,
   "outputs": [
    {
     "name": "stdout",
     "output_type": "stream",
     "text": [
      "1 1\n",
      "0 314 314 0\n",
      "Season: 1 Episode: 1 Episode Number: 210 0 | Subtitle Number: 240 0\n",
      "====================================================================================================\n",
      "1 2\n",
      "2 232 234 2\n",
      "Season: 1 Episode: 2 Episode Number: 156 2 | Subtitle Number: 203 2\n",
      "====================================================================================================\n",
      "1 3\n",
      "3 240 247 7\n",
      "Season: 1 Episode: 3 Episode Number: 141 5 | Subtitle Number: 156 3\n",
      "====================================================================================================\n",
      "1 4\n",
      "2 215 223 8\n",
      "Season: 1 Episode: 4 Episode Number: 140 4 | Subtitle Number: 177 3\n",
      "====================================================================================================\n",
      "1 5\n",
      "0 220 222 2\n",
      "Season: 1 Episode: 5 Episode Number: 154 2 | Subtitle Number: 187 2\n",
      "====================================================================================================\n",
      "1 6\n",
      "2 238 250 12\n",
      "Season: 1 Episode: 6 Episode Number: 159 11 | Subtitle Number: 177 7\n",
      "====================================================================================================\n",
      "1 7\n",
      "10 272 283 11\n",
      "Season: 1 Episode: 7 Episode Number: 184 12 | Subtitle Number: 205 9\n",
      "====================================================================================================\n",
      "1 8\n",
      "2 261 263 2\n",
      "Season: 1 Episode: 8 Episode Number: 180 0 | Subtitle Number: 220 0\n",
      "====================================================================================================\n",
      "1 9\n",
      "1 218 224 6\n",
      "Season: 1 Episode: 9 Episode Number: 137 0 | Subtitle Number: 165 0\n",
      "====================================================================================================\n",
      "1 10\n",
      "0 223 224 1\n",
      "Season: 1 Episode: 10 Episode Number: 142 2 | Subtitle Number: 170 1\n",
      "====================================================================================================\n",
      "1 11\n",
      "4 243 245 2\n",
      "Season: 1 Episode: 11 Episode Number: 162 3 | Subtitle Number: 182 2\n",
      "====================================================================================================\n",
      "1 12\n",
      "103 229 230 1\n",
      "Season: 1 Episode: 12 Episode Number: 96 71 | Subtitle Number: 118 41\n",
      "====================================================================================================\n",
      "1 13\n",
      "4 245 254 9\n",
      "Season: 1 Episode: 13 Episode Number: 160 13 | Subtitle Number: 197 9\n",
      "====================================================================================================\n",
      "1 14\n",
      "0 230 233 3\n",
      "Season: 1 Episode: 14 Episode Number: 154 3 | Subtitle Number: 198 2\n",
      "====================================================================================================\n",
      "1 15\n",
      "0 230 237 7\n",
      "Season: 1 Episode: 15 Episode Number: 151 3 | Subtitle Number: 195 3\n",
      "====================================================================================================\n",
      "1 16\n",
      "0 221 236 15\n",
      "Season: 1 Episode: 16 Episode Number: 148 14 | Subtitle Number: 171 9\n",
      "====================================================================================================\n",
      "2 4\n",
      "5 255 257 2\n",
      "Season: 2 Episode: 4 Episode Number: 133 3 | Subtitle Number: 164 3\n",
      "====================================================================================================\n",
      "2 6\n",
      "0 224 233 9\n",
      "Season: 2 Episode: 6 Episode Number: 167 6 | Subtitle Number: 208 5\n",
      "====================================================================================================\n",
      "2 8\n",
      "0 226 227 1\n",
      "Season: 2 Episode: 8 Episode Number: 166 0 | Subtitle Number: 209 0\n",
      "====================================================================================================\n",
      "2 9\n",
      "4 201 207 6\n",
      "Season: 2 Episode: 9 Episode Number: 146 6 | Subtitle Number: 183 4\n",
      "====================================================================================================\n",
      "3 21\n",
      "10 254 256 2\n",
      "Season: 3 Episode: 21 Episode Number: 186 2 | Subtitle Number: 265 2\n",
      "====================================================================================================\n",
      "3 23\n",
      "3 246 246 0\n",
      "Season: 3 Episode: 23 Episode Number: 189 3 | Subtitle Number: 248 3\n",
      "====================================================================================================\n",
      "4 1\n",
      "3 240 243 3\n",
      "Season: 4 Episode: 1 Episode Number: 160 1 | Subtitle Number: 200 1\n",
      "====================================================================================================\n",
      "4 3\n",
      "1 266 269 3\n",
      "Season: 4 Episode: 3 Episode Number: 194 3 | Subtitle Number: 273 2\n",
      "====================================================================================================\n",
      "4 4\n",
      "0 246 251 5\n",
      "Season: 4 Episode: 4 Episode Number: 195 1 | Subtitle Number: 260 1\n",
      "====================================================================================================\n",
      "4 5\n",
      "0 224 224 0\n",
      "Season: 4 Episode: 5 Episode Number: 174 0 | Subtitle Number: 246 0\n",
      "====================================================================================================\n",
      "4 6\n",
      "10 242 255 13\n",
      "Season: 4 Episode: 6 Episode Number: 165 14 | Subtitle Number: 211 10\n",
      "====================================================================================================\n",
      "4 8\n",
      "4 207 207 0\n",
      "Season: 4 Episode: 8 Episode Number: 160 6 | Subtitle Number: 234 4\n",
      "====================================================================================================\n",
      "4 16\n",
      "2 225 232 7\n",
      "Season: 4 Episode: 16 Episode Number: 175 3 | Subtitle Number: 250 3\n",
      "====================================================================================================\n",
      "4 19\n",
      "0 237 249 12\n",
      "Season: 4 Episode: 19 Episode Number: 189 1 | Subtitle Number: 262 1\n",
      "====================================================================================================\n",
      "4 21\n",
      "0 201 202 1\n",
      "Season: 4 Episode: 21 Episode Number: 158 1 | Subtitle Number: 219 1\n",
      "====================================================================================================\n",
      "4 22\n",
      "0 239 240 1\n",
      "Season: 4 Episode: 22 Episode Number: 201 1 | Subtitle Number: 273 1\n",
      "====================================================================================================\n",
      "4 23\n",
      "2 237 237 0\n",
      "Season: 4 Episode: 23 Episode Number: 194 2 | Subtitle Number: 255 2\n",
      "====================================================================================================\n",
      "4 24\n",
      "0 222 229 7\n",
      "Season: 4 Episode: 24 Episode Number: 179 3 | Subtitle Number: 258 3\n",
      "====================================================================================================\n",
      "5 2\n",
      "1 209 209 0\n",
      "Season: 5 Episode: 2 Episode Number: 141 0 | Subtitle Number: 189 0\n",
      "====================================================================================================\n",
      "5 6\n",
      "1 184 190 6\n",
      "Season: 5 Episode: 6 Episode Number: 164 5 | Subtitle Number: 246 4\n",
      "====================================================================================================\n",
      "5 12\n",
      "1 184 185 1\n",
      "Season: 5 Episode: 12 Episode Number: 166 3 | Subtitle Number: 241 2\n",
      "====================================================================================================\n",
      "5 14\n",
      "0 171 172 1\n",
      "Season: 5 Episode: 14 Episode Number: 143 0 | Subtitle Number: 230 0\n",
      "====================================================================================================\n",
      "5 15\n",
      "4 185 189 4\n",
      "Season: 5 Episode: 15 Episode Number: 156 3 | Subtitle Number: 240 1\n",
      "====================================================================================================\n",
      "5 20\n",
      "0 217 222 5\n",
      "Season: 5 Episode: 20 Episode Number: 169 7 | Subtitle Number: 237 4\n",
      "====================================================================================================\n",
      "5 23\n",
      "2 194 205 11\n",
      "Season: 5 Episode: 23 Episode Number: 157 7 | Subtitle Number: 241 5\n",
      "====================================================================================================\n",
      "6 2\n",
      "0 225 225 0\n",
      "Season: 6 Episode: 2 Episode Number: 172 0 | Subtitle Number: 247 0\n",
      "====================================================================================================\n",
      "6 3\n",
      "2 195 197 2\n",
      "Season: 6 Episode: 3 Episode Number: 160 2 | Subtitle Number: 250 2\n",
      "====================================================================================================\n",
      "6 4\n",
      "3 221 221 0\n",
      "Season: 6 Episode: 4 Episode Number: 173 2 | Subtitle Number: 235 2\n",
      "====================================================================================================\n",
      "6 5\n",
      "0 209 219 10\n",
      "Season: 6 Episode: 5 Episode Number: 173 10 | Subtitle Number: 251 4\n",
      "====================================================================================================\n",
      "6 6\n",
      "1 194 194 0\n",
      "Season: 6 Episode: 6 Episode Number: 161 1 | Subtitle Number: 253 1\n",
      "====================================================================================================\n",
      "6 7\n",
      "0 184 188 4\n",
      "Season: 6 Episode: 7 Episode Number: 163 6 | Subtitle Number: 258 4\n",
      "====================================================================================================\n",
      "6 8\n",
      "0 228 232 4\n",
      "Season: 6 Episode: 8 Episode Number: 176 4 | Subtitle Number: 235 3\n",
      "====================================================================================================\n",
      "6 9\n",
      "7 201 201 0\n",
      "Season: 6 Episode: 9 Episode Number: 156 7 | Subtitle Number: 232 5\n",
      "====================================================================================================\n",
      "6 14\n",
      "3 199 200 1\n",
      "Season: 6 Episode: 14 Episode Number: 166 3 | Subtitle Number: 242 3\n",
      "====================================================================================================\n",
      "6 15\n",
      "0 221 225 4\n",
      "Season: 6 Episode: 15 Episode Number: 175 1 | Subtitle Number: 254 1\n",
      "====================================================================================================\n",
      "6 16\n",
      "2 206 206 0\n",
      "Season: 6 Episode: 16 Episode Number: 155 1 | Subtitle Number: 218 1\n",
      "====================================================================================================\n",
      "6 17\n",
      "0 160 160 0\n",
      "Season: 6 Episode: 17 Episode Number: 128 0 | Subtitle Number: 222 0\n",
      "====================================================================================================\n",
      "6 19\n",
      "3 221 222 1\n",
      "Season: 6 Episode: 19 Episode Number: 170 1 | Subtitle Number: 253 1\n",
      "====================================================================================================\n",
      "6 20\n",
      "0 195 201 6\n",
      "Season: 6 Episode: 20 Episode Number: 149 4 | Subtitle Number: 207 3\n",
      "====================================================================================================\n",
      "6 21\n",
      "0 179 179 0\n",
      "Season: 6 Episode: 21 Episode Number: 151 0 | Subtitle Number: 232 0\n",
      "====================================================================================================\n",
      "6 24\n",
      "0 210 210 0\n",
      "Season: 6 Episode: 24 Episode Number: 165 0 | Subtitle Number: 257 0\n",
      "====================================================================================================\n",
      "7 1\n",
      "5 215 221 6\n",
      "Season: 7 Episode: 1 Episode Number: 126 6 | Subtitle Number: 174 4\n",
      "====================================================================================================\n",
      "7 2\n",
      "2 247 247 0\n",
      "Season: 7 Episode: 2 Episode Number: 189 0 | Subtitle Number: 256 0\n",
      "====================================================================================================\n",
      "7 6\n",
      "3 201 204 3\n",
      "Season: 7 Episode: 6 Episode Number: 167 4 | Subtitle Number: 246 4\n",
      "====================================================================================================\n",
      "7 10\n",
      "0 209 212 3\n",
      "Season: 7 Episode: 10 Episode Number: 181 3 | Subtitle Number: 272 3\n",
      "====================================================================================================\n",
      "7 11\n",
      "4 248 248 0\n",
      "Season: 7 Episode: 11 Episode Number: 182 6 | Subtitle Number: 237 3\n",
      "====================================================================================================\n",
      "7 15\n",
      "0 220 220 0\n",
      "Season: 7 Episode: 15 Episode Number: 180 0 | Subtitle Number: 241 0\n",
      "====================================================================================================\n",
      "7 16\n",
      "2 240 242 2\n",
      "Season: 7 Episode: 16 Episode Number: 200 5 | Subtitle Number: 270 4\n",
      "====================================================================================================\n",
      "7 17\n",
      "3 208 210 2\n",
      "Season: 7 Episode: 17 Episode Number: 160 2 | Subtitle Number: 216 2\n",
      "====================================================================================================\n",
      "7 18\n",
      "3 229 235 6\n",
      "Season: 7 Episode: 18 Episode Number: 189 7 | Subtitle Number: 261 6\n",
      "====================================================================================================\n",
      "7 19\n",
      "0 210 221 11\n",
      "Season: 7 Episode: 19 Episode Number: 168 8 | Subtitle Number: 232 7\n",
      "====================================================================================================\n",
      "7 20\n",
      "0 207 219 12\n",
      "Season: 7 Episode: 20 Episode Number: 158 14 | Subtitle Number: 211 8\n",
      "====================================================================================================\n",
      "7 22\n",
      "6 206 211 5\n",
      "Season: 7 Episode: 22 Episode Number: 163 13 | Subtitle Number: 213 7\n",
      "====================================================================================================\n",
      "7 23\n",
      "4 229 235 6\n",
      "Season: 7 Episode: 23 Episode Number: 191 5 | Subtitle Number: 242 4\n",
      "====================================================================================================\n",
      "8 1\n",
      "0 205 205 0\n",
      "Season: 8 Episode: 1 Episode Number: 172 0 | Subtitle Number: 259 0\n",
      "====================================================================================================\n",
      "8 2\n",
      "0 211 216 5\n",
      "Season: 8 Episode: 2 Episode Number: 167 2 | Subtitle Number: 233 2\n",
      "====================================================================================================\n",
      "8 3\n",
      "1 201 205 4\n",
      "Season: 8 Episode: 3 Episode Number: 171 5 | Subtitle Number: 226 4\n",
      "====================================================================================================\n",
      "8 5\n",
      "0 220 221 1\n",
      "Season: 8 Episode: 5 Episode Number: 182 0 | Subtitle Number: 259 0\n",
      "====================================================================================================\n",
      "8 6\n",
      "1 239 239 0\n",
      "Season: 8 Episode: 6 Episode Number: 191 0 | Subtitle Number: 246 0\n",
      "====================================================================================================\n",
      "8 7\n",
      "0 221 224 3\n",
      "Season: 8 Episode: 7 Episode Number: 176 1 | Subtitle Number: 245 1\n",
      "====================================================================================================\n",
      "8 9\n",
      "12 215 222 7\n",
      "Season: 8 Episode: 9 Episode Number: 170 16 | Subtitle Number: 217 12\n",
      "====================================================================================================\n",
      "8 11\n",
      "0 216 216 0\n",
      "Season: 8 Episode: 11 Episode Number: 182 0 | Subtitle Number: 244 0\n",
      "====================================================================================================\n",
      "8 12\n",
      "1 203 213 10\n",
      "Season: 8 Episode: 12 Episode Number: 172 9 | Subtitle Number: 222 7\n",
      "====================================================================================================\n",
      "8 14\n",
      "3 225 226 1\n",
      "Season: 8 Episode: 14 Episode Number: 186 4 | Subtitle Number: 258 3\n",
      "====================================================================================================\n",
      "8 15\n",
      "0 230 232 2\n",
      "Season: 8 Episode: 15 Episode Number: 180 3 | Subtitle Number: 247 2\n",
      "====================================================================================================\n",
      "8 16\n",
      "0 210 214 4\n",
      "Season: 8 Episode: 16 Episode Number: 178 2 | Subtitle Number: 240 2\n",
      "====================================================================================================\n",
      "8 17\n",
      "0 211 215 4\n",
      "Season: 8 Episode: 17 Episode Number: 174 2 | Subtitle Number: 246 2\n",
      "====================================================================================================\n",
      "8 18\n",
      "0 228 229 1\n",
      "Season: 8 Episode: 18 Episode Number: 190 0 | Subtitle Number: 258 0\n",
      "====================================================================================================\n",
      "8 19\n",
      "0 203 203 0\n",
      "Season: 8 Episode: 19 Episode Number: 172 0 | Subtitle Number: 237 0\n",
      "====================================================================================================\n",
      "8 20\n",
      "3 221 234 13\n",
      "Season: 8 Episode: 20 Episode Number: 186 6 | Subtitle Number: 256 5\n",
      "====================================================================================================\n",
      "8 21\n",
      "6 218 226 8\n",
      "Season: 8 Episode: 21 Episode Number: 175 12 | Subtitle Number: 229 6\n",
      "====================================================================================================\n",
      "8 22\n",
      "2 201 203 2\n",
      "Season: 8 Episode: 22 Episode Number: 155 3 | Subtitle Number: 220 3\n",
      "====================================================================================================\n",
      "8 23\n",
      "4 188 196 8\n",
      "Season: 8 Episode: 23 Episode Number: 156 15 | Subtitle Number: 205 7\n",
      "====================================================================================================\n",
      "8 24\n",
      "1 250 255 5\n",
      "Season: 8 Episode: 24 Episode Number: 195 3 | Subtitle Number: 240 2\n",
      "====================================================================================================\n",
      "9 1\n",
      "0 247 252 5\n",
      "Season: 9 Episode: 1 Episode Number: 198 10 | Subtitle Number: 269 4\n",
      "====================================================================================================\n",
      "9 3\n",
      "2 237 238 1\n",
      "Season: 9 Episode: 3 Episode Number: 190 2 | Subtitle Number: 256 2\n",
      "====================================================================================================\n",
      "9 4\n",
      "0 184 184 0\n",
      "Season: 9 Episode: 4 Episode Number: 154 0 | Subtitle Number: 218 0\n",
      "====================================================================================================\n",
      "9 7\n",
      "0 197 197 0\n",
      "Season: 9 Episode: 7 Episode Number: 162 0 | Subtitle Number: 229 0\n",
      "====================================================================================================\n",
      "9 8\n",
      "1 222 227 5\n",
      "Season: 9 Episode: 8 Episode Number: 182 3 | Subtitle Number: 235 3\n",
      "====================================================================================================\n",
      "9 9\n",
      "0 227 228 1\n",
      "Season: 9 Episode: 9 Episode Number: 192 0 | Subtitle Number: 261 0\n",
      "====================================================================================================\n",
      "9 10\n",
      "0 198 198 0\n",
      "Season: 9 Episode: 10 Episode Number: 166 0 | Subtitle Number: 241 0\n",
      "====================================================================================================\n",
      "9 11\n",
      "18 221 229 8\n",
      "Season: 9 Episode: 11 Episode Number: 154 12 | Subtitle Number: 194 10\n",
      "====================================================================================================\n",
      "9 12\n",
      "2 235 237 2\n",
      "Season: 9 Episode: 12 Episode Number: 192 3 | Subtitle Number: 256 3\n",
      "====================================================================================================\n",
      "9 16\n",
      "4 213 213 0\n",
      "Season: 9 Episode: 16 Episode Number: 173 1 | Subtitle Number: 238 1\n",
      "====================================================================================================\n",
      "9 17\n",
      "0 179 182 3\n",
      "Season: 9 Episode: 17 Episode Number: 148 1 | Subtitle Number: 219 1\n",
      "====================================================================================================\n",
      "9 18\n",
      "0 227 228 1\n",
      "Season: 9 Episode: 18 Episode Number: 194 0 | Subtitle Number: 245 0\n",
      "====================================================================================================\n"
     ]
    }
   ],
   "source": [
    "further_alignment = {}\n",
    "for (i, j) in list(alignment_seeds.keys()):\n",
    "    print(i, j)\n",
    "    # if i==1 and j==12:\n",
    "    #     continue\n",
    "    temp = get_alignment(tbbt_transcripts, en_subtitle, zh_subtitle, results, i, j, 200)\n",
    "    further_alignment[(i,j)] = turn_sub2epi_into_epi2sub(temp)\n",
    "    print(\"Season:\", i,\"Episode:\", j, \"Episode Number:\", len(alignment_seeds[(i,j)]),len(temp), \"|\", \"Subtitle Number:\", len(turn_sub2epi_into_epi2sub(alignment_seeds[(i,j)])),len(turn_sub2epi_into_epi2sub(temp)))\n",
    "    print(\"==\"*50)"
   ],
   "metadata": {
    "collapsed": false,
    "pycharm": {
     "name": "#%%\n"
    }
   }
  },
  {
   "cell_type": "code",
   "execution_count": null,
   "outputs": [],
   "source": [],
   "metadata": {
    "collapsed": false,
    "pycharm": {
     "name": "#%%\n"
    }
   }
  },
  {
   "cell_type": "code",
   "execution_count": null,
   "outputs": [],
   "source": [],
   "metadata": {
    "collapsed": false,
    "pycharm": {
     "name": "#%%\n"
    }
   }
  },
  {
   "cell_type": "code",
   "execution_count": null,
   "outputs": [],
   "source": [],
   "metadata": {
    "collapsed": false,
    "pycharm": {
     "name": "#%%\n"
    }
   }
  },
  {
   "cell_type": "code",
   "execution_count": 80,
   "outputs": [],
   "source": [
    "def get_substrings(string, length):\n",
    "    substrings = []\n",
    "    string_tokens = transformation(string.replace(\"’\", \"'\").replace('…', \" \")).strip().split(\" \")\n",
    "    for k in range(len(string_tokens)-length+1):\n",
    "        substrings.append(\" \".join(string_tokens[k: k+ length]))\n",
    "    return substrings"
   ],
   "metadata": {
    "collapsed": false,
    "pycharm": {
     "name": "#%%\n"
    }
   }
  },
  {
   "cell_type": "code",
   "execution_count": 81,
   "outputs": [],
   "source": [
    "def get_optimal_cer(ground_truth, hypothesis_pool):\n",
    "    scores = []\n",
    "    for i, hypothesis in enumerate(hypothesis_pool):\n",
    "        scores.append(jiwer.cer(ground_truth, hypothesis))\n",
    "    return min(scores), hypothesis_pool[scores.index(min(scores))], ground_truth, scores.index(min(scores))"
   ],
   "metadata": {
    "collapsed": false,
    "pycharm": {
     "name": "#%%\n"
    }
   }
  },
  {
   "cell_type": "code",
   "execution_count": 82,
   "outputs": [],
   "source": [
    "def filter_alignment(epi2sub):\n",
    "    epi_ids = list(epi2sub.keys())\n",
    "    if len(epi_ids)<2:\n",
    "        return epi2sub\n",
    "\n",
    "    temp = {}\n",
    "    for i in range(len(epi_ids)-1):\n",
    "        if max(epi2sub[epi_ids[i]]) <= min(epi2sub[epi_ids[i+1]]):\n",
    "            temp[epi_ids[i]] = epi2sub[epi_ids[i]]\n",
    "    temp[epi_ids[-1]] = epi2sub[epi_ids[-1]]\n",
    "    return temp"
   ],
   "metadata": {
    "collapsed": false,
    "pycharm": {
     "name": "#%%\n"
    }
   }
  },
  {
   "cell_type": "code",
   "execution_count": 83,
   "outputs": [],
   "source": [
    "def get_alignment_temp(tbbt, en_subtitle, other_subtitle, results, season_id, episode_id, bias):\n",
    "    # Fetch subset located by the stage-1 alignment\n",
    "    (en_subset, zh_subset, tbbt_episode) = fetch_subsets(\n",
    "        episode=tbbt,\n",
    "        en_subtitle=en_subtitle,\n",
    "        zh_subtitle=other_subtitle,\n",
    "        results=results,\n",
    "        season_id=season_id,\n",
    "        episode_id=episode_id,\n",
    "        bias=bias\n",
    "    )\n",
    "\n",
    "    head_tail_sub2epi = {}\n",
    "\n",
    "    epi2sub = alignment_seeds[(season_id,episode_id)]\n",
    "    # print(min(epi2sub.keys()), max(epi2sub.keys()), len(tbbt_episode)-1, len(tbbt_episode)-max(epi2sub.keys())-1)\n",
    "\n",
    "    gap_pairs = fetch_before_after(en_subset, zh_subset, tbbt_episode, epi2sub)\n",
    "\n",
    "    # Fetch episode-subtitle alignment pairs before and after the head and tail\n",
    "    for item in gap_pairs:\n",
    "        temp = before_after_wer_match(en_subset, tbbt_episode, item[0], item[1])\n",
    "        for x in temp:\n",
    "            head_tail_sub2epi[x] = temp[x]\n",
    "    head_tail_epi2sub = turn_sub2epi_into_epi2sub(head_tail_sub2epi)\n",
    "\n",
    "    if 0 in gap_pairs[0][0]:\n",
    "        if 0 not in head_tail_epi2sub:\n",
    "            # utt = transformation(tbbt_episode[0][0].replace(\"’\", \" \").replace('…', \" \"))\n",
    "            utt = transformation(tbbt_episode[0][0].replace(\"’\", \"'\").replace('…', \" \"))\n",
    "            utt_tokens = utt.strip().split(\" \")\n",
    "            sub_ids = list(reversed(deepcopy(gap_pairs[0][1])))\n",
    "            # print(utt)\n",
    "            for i in sub_ids:\n",
    "                subtitle_substrings = get_substrings(transformation(en_subset[i].replace(\"’\", \" \").replace('…', \" \")), len(utt_tokens))\n",
    "                if subtitle_substrings==[]:\n",
    "                    continue\n",
    "                cer, substring, ground_truth, score_idx = get_optimal_cer(utt, subtitle_substrings)\n",
    "                if cer < 0.3:\n",
    "                    head_tail_epi2sub[0] = [i]\n",
    "                    break\n",
    "\n",
    "    temp_epi2sub = {}\n",
    "    for epi_id in sorted(list(head_tail_epi2sub.keys())):\n",
    "        temp_epi2sub[epi_id] = sorted(head_tail_epi2sub[epi_id])\n",
    "\n",
    "    epi2sub = filter_alignment(temp_epi2sub)\n",
    "    return turn_sub2epi_into_epi2sub(temp_epi2sub)"
   ],
   "metadata": {
    "collapsed": false,
    "pycharm": {
     "name": "#%%\n"
    }
   }
  },
  {
   "cell_type": "code",
   "execution_count": 84,
   "outputs": [],
   "source": [
    "further_alignment = {}\n",
    "for (i, j) in list(alignment_seeds.keys()):\n",
    "    # print(i, j)\n",
    "    # if i==1 and j==12:\n",
    "    #     continue\n",
    "    temp = get_alignment_temp(tbbt_transcripts, en_subtitle, zh_subtitle, results, i, j, 200)\n",
    "    further_alignment[(i,j)] = turn_sub2epi_into_epi2sub(temp)"
   ],
   "metadata": {
    "collapsed": false,
    "pycharm": {
     "name": "#%%\n"
    }
   }
  },
  {
   "cell_type": "code",
   "execution_count": 87,
   "outputs": [
    {
     "name": "stdout",
     "output_type": "stream",
     "text": [
      "(1, 1) 0 0\n",
      "(1, 2) 2 2\n",
      "(1, 3) 3 5\n",
      "(1, 4) 4 5\n",
      "(1, 5) 2 2\n",
      "(1, 6) 7 11\n",
      "(1, 7) 9 12\n",
      "(1, 8) 0 0\n",
      "(1, 9) 0 0\n",
      "(1, 10) 1 2\n",
      "(1, 11) 3 4\n",
      "(1, 12) 41 71\n",
      "(1, 13) 9 13\n",
      "(1, 14) 2 3\n",
      "(1, 15) 3 3\n",
      "(1, 16) 9 14\n",
      "(2, 4) 3 3\n",
      "(2, 6) 5 6\n",
      "(2, 8) 0 0\n",
      "(2, 9) 5 7\n",
      "(3, 21) 3 3\n",
      "(3, 23) 3 3\n",
      "(4, 1) 1 1\n",
      "(4, 3) 2 3\n",
      "(4, 4) 1 1\n",
      "(4, 5) 0 0\n",
      "(4, 6) 10 14\n",
      "(4, 8) 4 6\n",
      "(4, 16) 3 3\n",
      "(4, 19) 1 1\n",
      "(4, 21) 1 1\n",
      "(4, 22) 1 1\n",
      "(4, 23) 2 2\n",
      "(4, 24) 3 3\n",
      "(5, 2) 0 0\n",
      "(5, 6) 4 5\n",
      "(5, 12) 2 3\n",
      "(5, 14) 0 0\n",
      "(5, 15) 1 3\n",
      "(5, 20) 4 7\n",
      "(5, 23) 6 8\n",
      "(6, 2) 0 0\n",
      "(6, 3) 3 3\n",
      "(6, 4) 2 2\n",
      "(6, 5) 4 10\n",
      "(6, 6) 1 1\n",
      "(6, 7) 4 6\n",
      "(6, 8) 3 4\n",
      "(6, 9) 6 8\n",
      "(6, 14) 3 3\n",
      "(6, 15) 1 1\n",
      "(6, 16) 1 1\n",
      "(6, 17) 0 0\n",
      "(6, 19) 2 2\n",
      "(6, 20) 3 4\n",
      "(6, 21) 0 0\n",
      "(6, 24) 0 0\n",
      "(7, 1) 4 6\n",
      "(7, 2) 0 0\n",
      "(7, 6) 4 4\n",
      "(7, 10) 3 3\n",
      "(7, 11) 4 7\n",
      "(7, 15) 0 0\n",
      "(7, 16) 4 5\n",
      "(7, 17) 2 2\n",
      "(7, 18) 6 7\n",
      "(7, 19) 7 8\n",
      "(7, 20) 8 14\n",
      "(7, 22) 7 13\n",
      "(7, 23) 4 5\n",
      "(8, 1) 0 0\n",
      "(8, 2) 2 2\n",
      "(8, 3) 4 5\n",
      "(8, 5) 0 0\n",
      "(8, 6) 1 1\n",
      "(8, 7) 1 1\n",
      "(8, 9) 12 16\n",
      "(8, 11) 0 0\n",
      "(8, 12) 7 9\n",
      "(8, 14) 3 4\n",
      "(8, 15) 2 3\n",
      "(8, 16) 2 2\n",
      "(8, 17) 2 2\n",
      "(8, 18) 0 0\n",
      "(8, 19) 0 0\n",
      "(8, 20) 6 7\n",
      "(8, 21) 6 12\n",
      "(8, 22) 3 3\n",
      "(8, 23) 7 15\n",
      "(8, 24) 2 3\n",
      "(9, 1) 4 10\n",
      "(9, 3) 2 2\n",
      "(9, 4) 0 0\n",
      "(9, 7) 0 0\n",
      "(9, 8) 3 3\n",
      "(9, 9) 0 0\n",
      "(9, 10) 0 0\n",
      "(9, 11) 10 12\n",
      "(9, 12) 3 3\n",
      "(9, 16) 1 1\n",
      "(9, 17) 1 1\n",
      "(9, 18) 0 0\n"
     ]
    }
   ],
   "source": [
    "for x in further_alignment:\n",
    "    print(x, len(further_alignment[x]), len(turn_sub2epi_into_epi2sub(further_alignment[x])))"
   ],
   "metadata": {
    "collapsed": false,
    "pycharm": {
     "name": "#%%\n"
    }
   }
  },
  {
   "cell_type": "code",
   "execution_count": 88,
   "outputs": [],
   "source": [
    "with open('alignment_results/fa/head_tail_alignment.pkl', 'wb') as f:\n",
    "    pkl.dump(further_alignment, f)"
   ],
   "metadata": {
    "collapsed": false,
    "pycharm": {
     "name": "#%%\n"
    }
   }
  },
  {
   "cell_type": "code",
   "execution_count": 231,
   "outputs": [],
   "source": [
    "# Merge Head Tail with Final Stage alignment information"
   ],
   "metadata": {
    "collapsed": false,
    "pycharm": {
     "name": "#%%\n"
    }
   }
  },
  {
   "cell_type": "code",
   "execution_count": 94,
   "outputs": [],
   "source": [
    "with open('alignment_results/fa/head_tail_alignment.pkl', 'rb') as f:\n",
    "    head_tail = pkl.load(f)"
   ],
   "metadata": {
    "collapsed": false,
    "pycharm": {
     "name": "#%%\n"
    }
   }
  },
  {
   "cell_type": "code",
   "execution_count": 95,
   "outputs": [],
   "source": [
    "with open('alignment_results/fa/final_stage_alignment_1.pkl', 'rb') as f:\n",
    "    final_stage = pkl.load(f)"
   ],
   "metadata": {
    "collapsed": false,
    "pycharm": {
     "name": "#%%\n"
    }
   }
  },
  {
   "cell_type": "code",
   "execution_count": 96,
   "outputs": [],
   "source": [
    "further_alignment = {}\n",
    "for x in final_stage:\n",
    "    alignment = deepcopy(final_stage[x])\n",
    "    h_t = deepcopy(head_tail[x])\n",
    "    for epi_id in h_t:\n",
    "        if epi_id not in alignment:\n",
    "            alignment[epi_id] = h_t[epi_id]\n",
    "\n",
    "    temp = {}\n",
    "    for epi_id in sorted(list(alignment.keys())):\n",
    "        temp[epi_id] = alignment[epi_id]\n",
    "    further_alignment[x] = temp"
   ],
   "metadata": {
    "collapsed": false,
    "pycharm": {
     "name": "#%%\n"
    }
   }
  },
  {
   "cell_type": "code",
   "execution_count": 97,
   "outputs": [],
   "source": [
    "with open('alignment_results/fa/final_stage_alignment_1_with_head_tail.pkl', 'wb') as f:\n",
    "    pkl.dump(further_alignment, f)"
   ],
   "metadata": {
    "collapsed": false,
    "pycharm": {
     "name": "#%%\n"
    }
   }
  },
  {
   "cell_type": "markdown",
   "source": [
    "## Alignment within gaps\n",
    "\n",
    "In this part, we align from the subtile to episode. We iterate every subtitle within the start_index and end_indx.\n",
    "And if the subtitle is not aligned, reach to its neighbor episode utterance and try to align."
   ],
   "metadata": {
    "collapsed": false,
    "pycharm": {
     "name": "#%% md\n"
    }
   }
  },
  {
   "cell_type": "code",
   "execution_count": 98,
   "outputs": [],
   "source": [
    "alignment_seeds = deepcopy(further_alignment)"
   ],
   "metadata": {
    "collapsed": false,
    "pycharm": {
     "name": "#%%\n"
    }
   }
  },
  {
   "cell_type": "code",
   "execution_count": 99,
   "outputs": [],
   "source": [
    "def get_subtitle_candiate_episode_pairs(epi2sub):\n",
    "\n",
    "    temp_epi2sub = deepcopy(epi2sub)\n",
    "    temp_sub2epi = turn_sub2epi_into_epi2sub(temp_epi2sub)\n",
    "    epi_ids = sorted(list(temp_epi2sub.keys()))\n",
    "    sub_ids = sorted(list(temp_sub2epi.keys()))\n",
    "    print(max(sub_ids), min(sub_ids))\n",
    "    print(list(range(min(sub_ids), max(sub_ids)+1)))\n",
    "    print()\n",
    "    print(sub_ids)\n",
    "    return []"
   ],
   "metadata": {
    "collapsed": false,
    "pycharm": {
     "name": "#%%\n"
    }
   }
  },
  {
   "cell_type": "code",
   "execution_count": 100,
   "outputs": [],
   "source": [
    "def get_final_stage_gap_pairs(epi2sub):\n",
    "    # Gather the gap of subtitle corresponding to episode utterance\n",
    "    epi_keys = sorted(list(epi2sub.keys()))\n",
    "    sub_keys = sorted(list(turn_sub2epi_into_epi2sub(epi2sub).keys()))\n",
    "\n",
    "    subtitle_gaps = {}\n",
    "    for i in range(len(epi_keys)-1):\n",
    "        epi_start = epi_keys[i]\n",
    "        epi_end = epi_keys[i+1]\n",
    "        key = (epi_start, epi_end)\n",
    "        if max(epi2sub[epi_start])+1<min(epi2sub[epi_end]):\n",
    "            subtitle_gaps[(epi_start, epi_end)] = [item for item in range(max(epi2sub[epi_start])+1, min(epi2sub[epi_end]))]\n",
    "\n",
    "    # Perform string match and CER Scoring\n",
    "    return subtitle_gaps"
   ],
   "metadata": {
    "collapsed": false,
    "pycharm": {
     "name": "#%%\n"
    }
   }
  },
  {
   "cell_type": "code",
   "execution_count": 101,
   "outputs": [],
   "source": [
    "\"\"\"\n",
    "Remove the pattern of [ABCDEFG] and NAME:\n",
    "\"\"\"\n",
    "def remove_patterns(string):\n",
    "    pattern_1 = u\"\\\\(.*?\\\\)|\\\\[.*?]\"\n",
    "    string_1 = re.sub(pattern_1, \"\", string)\n",
    "    pattern_2 = r'[A-Z]+\\:'\n",
    "    string_2 = re.sub(pattern_2, \"\", string_1)\n",
    "    return string_2"
   ],
   "metadata": {
    "collapsed": false,
    "pycharm": {
     "name": "#%%\n"
    }
   }
  },
  {
   "cell_type": "code",
   "execution_count": 102,
   "outputs": [],
   "source": [
    "def get_alignment(tbbt, en_subtitle, other_subtitle, results, season_id, episode_id, bias):\n",
    "    # Fetch subset located by the stage-1 alignment\n",
    "    (en_subset, zh_subset, tbbt_episode) = fetch_subsets(\n",
    "        episode=tbbt,\n",
    "        en_subtitle=en_subtitle,\n",
    "        zh_subtitle=other_subtitle,\n",
    "        results=results,\n",
    "        season_id=season_id,\n",
    "        episode_id=episode_id,\n",
    "        bias=bias\n",
    "    )\n",
    "    epi2sub = alignment_seeds[(season_id,episode_id)]\n",
    "    gaps = get_final_stage_gap_pairs(epi2sub)\n",
    "    # print(gaps)\n",
    "    temp = {}\n",
    "    for (epi_start, epi_end) in gaps:\n",
    "        epi_ids = list(range(epi_start, epi_end+1))\n",
    "        sub_ids = gaps[(epi_start, epi_end)]\n",
    "\n",
    "        # print(sub_ids, \"|\", epi_ids)\n",
    "        # print(\"Subtitles:\")\n",
    "        # for sub_id in sub_ids:\n",
    "        #     print(transformation(remove_patterns(en_subset[sub_id])))\n",
    "        # print(\"Episodes:\")\n",
    "        # for epi_id in epi_ids:\n",
    "        #     print(transformation(remove_patterns(tbbt_episode[epi_id][0])))\n",
    "        # print('=='*50)\n",
    "\n",
    "\n",
    "        for sub_id in sub_ids:\n",
    "            sub_sent = transformation(remove_patterns(en_subset[sub_id]))\n",
    "            sub_tokens = sub_sent.strip().split(\" \")\n",
    "\n",
    "            all_epi_substrings = []\n",
    "            all_epi_substring_ids = []\n",
    "            for epi_id in epi_ids:\n",
    "                epi_sent = transformation(remove_patterns(tbbt_episode[epi_id][0]))\n",
    "                epi_substrings = get_substrings(epi_sent, len(sub_tokens))\n",
    "                for item in epi_substrings:\n",
    "                    all_epi_substrings.append(item)\n",
    "                    all_epi_substring_ids.append(epi_id)\n",
    "\n",
    "            if len(all_epi_substrings)!=0 and len(sub_sent)!=0:\n",
    "                cer, c_substring, c_ground_truth, c_score_idx = get_optimal_cer(sub_sent, all_epi_substrings)\n",
    "\n",
    "                if cer < 0.55:\n",
    "                    # for item in (cer, c_substring, c_ground_truth, c_score_idx):\n",
    "                    #     print(item)\n",
    "                    # print(all_epi_substring_ids, all_epi_substring_ids[c_score_idx])\n",
    "                    # print('--')\n",
    "                    temp[sub_id] = [all_epi_substring_ids[c_score_idx]]\n",
    "                else:\n",
    "                    wer, w_substring, w_ground_truth, w_score_idx = get_optimal_wer_from_episode(sub_sent, all_epi_substrings)\n",
    "                    if wer < 0.5:\n",
    "                        # for item in (wer, w_ground_truth, w_substring, w_score_idx):\n",
    "                        #     print(item)\n",
    "                        # print(all_epi_substring_ids, all_epi_substring_ids[w_score_idx])\n",
    "                        # print('--')\n",
    "                        temp[sub_id] = [all_epi_substring_ids[w_score_idx]]\n",
    "\n",
    "    sub2epi = turn_sub2epi_into_epi2sub(epi2sub)\n",
    "    # print(sub2epi)\n",
    "    for sub_id in temp:\n",
    "        sub2epi[sub_id] = temp[sub_id]\n",
    "    output = {}\n",
    "    for sub_id in sorted(list(sub2epi.keys())):\n",
    "        output[sub_id] = sub2epi[sub_id]\n",
    "\n",
    "    epi2sub = turn_sub2epi_into_epi2sub(output)\n",
    "    for epi_id in epi2sub:\n",
    "        sub_ids = epi2sub[epi_id]\n",
    "        num_epi_tokens = len(transformation(remove_patterns(tbbt_episode[epi_id][0])))\n",
    "        if len(sub_ids)!=max(sub_ids)-min(sub_ids)+1:\n",
    "            num_sub_tokens = 0\n",
    "            for sub_id in range(min(sub_ids), max(sub_ids)):\n",
    "                num_sub_tokens+=len(transformation(remove_patterns(en_subset[sub_id])))\n",
    "\n",
    "            print(num_epi_tokens, num_sub_tokens, str(abs(num_epi_tokens-num_sub_tokens)/num_epi_tokens*100)+\"%\")\n",
    "            if abs(num_epi_tokens-num_sub_tokens)/num_epi_tokens*100 < 100:\n",
    "                print(epi_id, epi2sub[epi_id])\n",
    "                epi2sub[epi_id] = list(range(min(sub_ids), max(sub_ids)+1))\n",
    "                print(epi_id, epi2sub[epi_id])\n",
    "            # print(epi_id, len(sub_ids),max(sub_ids)-min(sub_ids), min(sub_ids), max(sub_ids))\n",
    "            print()\n",
    "    return output\n"
   ],
   "metadata": {
    "collapsed": false,
    "pycharm": {
     "name": "#%%\n"
    }
   }
  },
  {
   "cell_type": "code",
   "execution_count": 103,
   "outputs": [
    {
     "name": "stdout",
     "output_type": "stream",
     "text": [
      "1 1\n",
      "397 367 7.5566750629722925%\n",
      "116 [320, 321, 322, 324, 325]\n",
      "116 [320, 321, 322, 323, 324, 325]\n",
      "\n",
      "82 61 25.609756097560975%\n",
      "149 [362, 363, 365]\n",
      "149 [362, 363, 364, 365]\n",
      "\n",
      "251 157 37.45019920318725%\n",
      "230 [459, 461, 462]\n",
      "230 [459, 460, 461, 462]\n",
      "\n",
      "====================================================================================================\n",
      "1 2\n",
      "293 149 49.14675767918089%\n",
      "81 [276, 277, 279, 280]\n",
      "81 [276, 277, 278, 279, 280]\n",
      "\n",
      "208 198 4.807692307692308%\n",
      "176 [385, 386, 388, 389]\n",
      "176 [385, 386, 387, 388, 389]\n",
      "\n",
      "====================================================================================================\n",
      "1 3\n",
      "59 31 47.45762711864407%\n",
      "8 [188, 190]\n",
      "8 [188, 189, 190]\n",
      "\n",
      "44 64 45.45454545454545%\n",
      "70 [264, 266]\n",
      "70 [264, 265, 266]\n",
      "\n",
      "342 315 7.894736842105263%\n",
      "126 [338, 340, 341]\n",
      "126 [338, 339, 340, 341]\n",
      "\n",
      "479 392 18.16283924843424%\n",
      "169 [394, 397, 398, 399, 400, 401, 402]\n",
      "169 [394, 395, 396, 397, 398, 399, 400, 401, 402]\n",
      "\n",
      "95 149 56.84210526315789%\n",
      "173 [406, 410]\n",
      "173 [406, 407, 408, 409, 410]\n",
      "\n",
      "199 102 48.743718592964825%\n",
      "242 [489, 492]\n",
      "242 [489, 490, 491, 492]\n",
      "\n",
      "====================================================================================================\n",
      "1 4\n",
      "83 50 39.75903614457831%\n",
      "129 [358, 360]\n",
      "129 [358, 359, 360]\n",
      "\n",
      "====================================================================================================\n",
      "1 5\n",
      "155 96 38.064516129032256%\n",
      "127 [345, 346, 347, 349, 350, 351]\n",
      "127 [345, 346, 347, 348, 349, 350, 351]\n",
      "\n",
      "97 27 72.16494845360825%\n",
      "134 [362, 364]\n",
      "134 [362, 363, 364]\n",
      "\n",
      "====================================================================================================\n",
      "1 6\n",
      "8 114 1325.0%\n",
      "\n",
      "====================================================================================================\n",
      "1 7\n",
      "34 43 26.47058823529412%\n",
      "3 [184, 186]\n",
      "3 [184, 185, 186]\n",
      "\n",
      "107 243 127.10280373831775%\n",
      "\n",
      "====================================================================================================\n",
      "1 8\n",
      "107 44 58.87850467289719%\n",
      "111 [293, 295]\n",
      "111 [293, 294, 295]\n",
      "\n",
      "3 5 66.66666666666666%\n",
      "116 [300, 302]\n",
      "116 [300, 301, 302]\n",
      "\n",
      "288 180 37.5%\n",
      "130 [314, 317, 318]\n",
      "130 [314, 315, 316, 317, 318]\n",
      "\n",
      "132 77 41.66666666666667%\n",
      "181 [390, 392]\n",
      "181 [390, 391, 392]\n",
      "\n",
      "====================================================================================================\n",
      "1 9\n",
      "342 225 34.21052631578947%\n",
      "188 [425, 426, 427, 429]\n",
      "188 [425, 426, 427, 428, 429]\n",
      "\n",
      "====================================================================================================\n",
      "1 10\n",
      "23 254 1004.3478260869565%\n",
      "\n",
      "41 62 51.21951219512195%\n",
      "27 [223, 225]\n",
      "27 [223, 224, 225]\n",
      "\n",
      "52 26 50.0%\n",
      "44 [238, 240]\n",
      "44 [238, 239, 240]\n",
      "\n",
      "206 96 53.398058252427184%\n",
      "76 [270, 272]\n",
      "76 [270, 271, 272]\n",
      "\n",
      "====================================================================================================\n",
      "1 11\n",
      "87 32 63.2183908045977%\n",
      "134 [347, 350]\n",
      "134 [347, 348, 349, 350]\n",
      "\n",
      "225 188 16.444444444444446%\n",
      "173 [402, 403, 404, 408]\n",
      "173 [402, 403, 404, 405, 406, 407, 408]\n",
      "\n",
      "31 39 25.806451612903224%\n",
      "196 [428, 432]\n",
      "196 [428, 429, 430, 431, 432]\n",
      "\n",
      "164 142 13.414634146341465%\n",
      "217 [459, 464]\n",
      "217 [459, 460, 461, 462, 463, 464]\n",
      "\n",
      "====================================================================================================\n",
      "1 12\n",
      "161 3743 2224.8447204968943%\n",
      "\n",
      "38 4613 12039.473684210527%\n",
      "\n",
      "45 16351 36235.555555555555%\n",
      "\n",
      "117 14341 12157.264957264957%\n",
      "\n",
      "78 12965 16521.794871794875%\n",
      "\n",
      "224 13035 5719.196428571428%\n",
      "\n",
      "129 9836 7524.806201550387%\n",
      "\n",
      "31 26592 85680.64516129032%\n",
      "\n",
      "57 5927 10298.245614035088%\n",
      "\n",
      "299 9086 2938.7959866220735%\n",
      "\n",
      "====================================================================================================\n",
      "1 13\n",
      "69 22 68.11594202898551%\n",
      "92 [325, 327]\n",
      "92 [325, 326, 327]\n",
      "\n",
      "299 297 0.6688963210702341%\n",
      "157 [398, 399, 400, 402, 403]\n",
      "157 [398, 399, 400, 401, 402, 403]\n",
      "\n",
      "219 180 17.80821917808219%\n",
      "190 [448, 449, 453, 454]\n",
      "190 [448, 449, 450, 451, 452, 453, 454]\n",
      "\n",
      "====================================================================================================\n",
      "1 14\n",
      "276 214 22.463768115942027%\n",
      "2 [202, 204, 205]\n",
      "2 [202, 203, 204, 205]\n",
      "\n",
      "5 7 40.0%\n",
      "24 [228, 231]\n",
      "24 [228, 229, 230, 231]\n",
      "\n",
      "262 236 9.923664122137405%\n",
      "50 [262, 263, 264, 265, 268]\n",
      "50 [262, 263, 264, 265, 266, 267, 268]\n",
      "\n",
      "29 55 89.65517241379311%\n",
      "65 [279, 283]\n",
      "65 [279, 280, 281, 282, 283]\n",
      "\n",
      "116 61 47.41379310344828%\n",
      "227 [505, 506, 508]\n",
      "227 [505, 506, 507, 508]\n",
      "\n",
      "====================================================================================================\n",
      "1 15\n",
      "289 130 55.017301038062286%\n",
      "178 [417, 418, 419, 421]\n",
      "178 [417, 418, 419, 420, 421]\n",
      "\n",
      "52 23 55.769230769230774%\n",
      "194 [444, 446]\n",
      "194 [444, 445, 446]\n",
      "\n",
      "====================================================================================================\n",
      "1 16\n",
      "255 173 32.15686274509804%\n",
      "88 [302, 304]\n",
      "88 [302, 303, 304]\n",
      "\n",
      "139 126 9.352517985611511%\n",
      "121 [339, 340, 342, 343, 344]\n",
      "121 [339, 340, 341, 342, 343, 344]\n",
      "\n",
      "162 119 26.543209876543212%\n",
      "132 [352, 355, 356]\n",
      "132 [352, 353, 354, 355, 356]\n",
      "\n",
      "181 1549 755.8011049723757%\n",
      "\n",
      "====================================================================================================\n",
      "2 4\n",
      "73 150 105.47945205479452%\n",
      "\n",
      "207 148 28.502415458937197%\n",
      "56 [299, 300, 302, 303, 304]\n",
      "56 [299, 300, 301, 302, 303, 304]\n",
      "\n",
      "72 78 8.333333333333332%\n",
      "99 [365, 366, 368]\n",
      "99 [365, 366, 367, 368]\n",
      "\n",
      "====================================================================================================\n",
      "2 6\n",
      "364 266 26.923076923076923%\n",
      "0 [195, 196, 199]\n",
      "0 [195, 196, 197, 198, 199]\n",
      "\n",
      "526 366 30.418250950570343%\n",
      "5 [204, 205, 206, 208, 209, 210]\n",
      "5 [204, 205, 206, 207, 208, 209, 210]\n",
      "\n",
      "99 69 30.303030303030305%\n",
      "20 [234, 236]\n",
      "20 [234, 235, 236]\n",
      "\n",
      "====================================================================================================\n",
      "2 8\n",
      "148 99 33.108108108108105%\n",
      "63 [255, 258]\n",
      "63 [255, 256, 257, 258]\n",
      "\n",
      "====================================================================================================\n",
      "2 9\n",
      "141 92 34.751773049645394%\n",
      "86 [312, 314]\n",
      "86 [312, 313, 314]\n",
      "\n",
      "369 326 11.653116531165312%\n",
      "141 [383, 384, 386, 387, 388]\n",
      "141 [383, 384, 385, 386, 387, 388]\n",
      "\n",
      "====================================================================================================\n",
      "3 21\n",
      "181 97 46.408839779005525%\n",
      "38 [247, 249]\n",
      "38 [247, 248, 249]\n",
      "\n",
      "75 48 36.0%\n",
      "52 [268, 269, 271]\n",
      "52 [268, 269, 270, 271]\n",
      "\n",
      "246 166 32.52032520325203%\n",
      "59 [280, 281, 282, 284]\n",
      "59 [280, 281, 282, 283, 284]\n",
      "\n",
      "133 103 22.55639097744361%\n",
      "82 [334, 335, 338]\n",
      "82 [334, 335, 336, 337, 338]\n",
      "\n",
      "297 216 27.27272727272727%\n",
      "84 [340, 348]\n",
      "84 [340, 341, 342, 343, 344, 345, 346, 347, 348]\n",
      "\n",
      "383 340 11.22715404699739%\n",
      "92 [358, 360, 362, 363]\n",
      "92 [358, 359, 360, 361, 362, 363]\n",
      "\n",
      "====================================================================================================\n",
      "3 23\n",
      "====================================================================================================\n",
      "4 1\n",
      "199 192 3.5175879396984926%\n",
      "37 [227, 229, 230, 231, 233, 234, 236]\n",
      "37 [227, 228, 229, 230, 231, 232, 233, 234, 235, 236]\n",
      "\n",
      "23 134 482.60869565217394%\n",
      "\n",
      "54 25 53.70370370370371%\n",
      "100 [308, 310]\n",
      "100 [308, 309, 310]\n",
      "\n",
      "3 14 366.66666666666663%\n",
      "\n",
      "41 52 26.82926829268293%\n",
      "186 [406, 408]\n",
      "186 [406, 407, 408]\n",
      "\n",
      "124 52 58.06451612903226%\n",
      "220 [448, 451]\n",
      "220 [448, 449, 450, 451]\n",
      "\n",
      "====================================================================================================\n",
      "4 3\n",
      "141 414 193.61702127659575%\n",
      "\n",
      "108 62 42.592592592592595%\n",
      "220 [491, 494]\n",
      "220 [491, 492, 493, 494]\n",
      "\n",
      "212 99 53.301886792452834%\n",
      "247 [531, 533]\n",
      "247 [531, 532, 533]\n",
      "\n",
      "48 52 8.333333333333332%\n",
      "268 [565, 566, 569]\n",
      "268 [565, 566, 567, 568, 569]\n",
      "\n",
      "====================================================================================================\n",
      "4 4\n",
      "383 271 29.242819843342037%\n",
      "11 [219, 221, 222]\n",
      "11 [219, 220, 221, 222]\n",
      "\n",
      "121 101 16.528925619834713%\n",
      "19 [232, 233, 234, 236]\n",
      "19 [232, 233, 234, 235, 236]\n",
      "\n",
      "77 57 25.97402597402597%\n",
      "227 [517, 518, 520]\n",
      "227 [517, 518, 519, 520]\n",
      "\n",
      "====================================================================================================\n",
      "4 5\n",
      "395 353 10.632911392405063%\n",
      "176 [411, 430, 431, 433]\n",
      "176 [411, 412, 413, 414, 415, 416, 417, 418, 419, 420, 421, 422, 423, 424, 425, 426, 427, 428, 429, 430, 431, 432, 433]\n",
      "\n",
      "134 116 13.432835820895523%\n",
      "208 [472, 474, 475]\n",
      "208 [472, 473, 474, 475]\n",
      "\n",
      "====================================================================================================\n",
      "4 6\n",
      "202 140 30.693069306930692%\n",
      "60 [264, 265, 267, 272, 273]\n",
      "60 [264, 265, 266, 267, 268, 269, 270, 271, 272, 273]\n",
      "\n",
      "259 150 42.084942084942085%\n",
      "88 [306, 307, 309, 310]\n",
      "88 [306, 307, 308, 309, 310]\n",
      "\n",
      "157 85 45.85987261146497%\n",
      "89 [311, 313, 314]\n",
      "89 [311, 312, 313, 314]\n",
      "\n",
      "231 152 34.1991341991342%\n",
      "176 [418, 420]\n",
      "176 [418, 419, 420]\n",
      "\n",
      "====================================================================================================\n",
      "4 8\n",
      "63 157 149.20634920634922%\n",
      "\n",
      "161 138 14.285714285714285%\n",
      "123 [369, 370, 373]\n",
      "123 [369, 370, 371, 372, 373]\n",
      "\n",
      "416 363 12.740384615384615%\n",
      "133 [389, 390, 394, 395, 396, 397, 398, 399, 400, 401]\n",
      "133 [389, 390, 391, 392, 393, 394, 395, 396, 397, 398, 399, 400, 401]\n",
      "\n",
      "====================================================================================================\n",
      "4 16\n",
      "452 394 12.831858407079647%\n",
      "83 [308, 309, 310, 311, 316]\n",
      "83 [308, 309, 310, 311, 312, 313, 314, 315, 316]\n",
      "\n",
      "====================================================================================================\n",
      "4 19\n",
      "31 83 167.74193548387098%\n",
      "\n",
      "76 48 36.84210526315789%\n",
      "42 [253, 254, 256]\n",
      "42 [253, 254, 255, 256]\n",
      "\n",
      "78 75 3.8461538461538463%\n",
      "45 [259, 260, 262, 263]\n",
      "45 [259, 260, 261, 262, 263]\n",
      "\n",
      "216 182 15.74074074074074%\n",
      "138 [402, 403, 406, 407]\n",
      "138 [402, 403, 404, 405, 406, 407]\n",
      "\n",
      "132 109 17.424242424242426%\n",
      "156 [429, 430, 431, 433, 434]\n",
      "156 [429, 430, 431, 432, 433, 434]\n",
      "\n",
      "47 22 53.191489361702125%\n",
      "162 [445, 447]\n",
      "162 [445, 446, 447]\n",
      "\n",
      "====================================================================================================\n",
      "4 21\n",
      "346 269 22.254335260115607%\n",
      "26 [233, 234, 235, 236, 237, 240]\n",
      "26 [233, 234, 235, 236, 237, 238, 239, 240]\n",
      "\n",
      "283 201 28.975265017667844%\n",
      "87 [336, 338, 339]\n",
      "87 [336, 337, 338, 339]\n",
      "\n",
      "====================================================================================================\n",
      "4 22\n",
      "261 214 18.007662835249043%\n",
      "21 [221, 222, 226]\n",
      "21 [221, 222, 223, 224, 225, 226]\n",
      "\n",
      "223 164 26.45739910313901%\n",
      "84 [312, 313, 316]\n",
      "84 [312, 313, 314, 315, 316]\n",
      "\n",
      "213 125 41.31455399061033%\n",
      "126 [369, 371]\n",
      "126 [369, 370, 371]\n",
      "\n",
      "124 106 14.516129032258066%\n",
      "162 [428, 430, 431]\n",
      "162 [428, 429, 430, 431]\n",
      "\n",
      "====================================================================================================\n",
      "4 23\n",
      "71 53 25.352112676056336%\n",
      "23 [219, 221]\n",
      "23 [219, 220, 221]\n",
      "\n",
      "151 128 15.2317880794702%\n",
      "77 [291, 292, 294, 295, 296]\n",
      "77 [291, 292, 293, 294, 295, 296]\n",
      "\n",
      "172 104 39.53488372093023%\n",
      "135 [373, 375]\n",
      "135 [373, 374, 375]\n",
      "\n",
      "102 70 31.372549019607842%\n",
      "190 [447, 449]\n",
      "190 [447, 448, 449]\n",
      "\n",
      "86 57 33.72093023255814%\n",
      "235 [493, 495]\n",
      "235 [493, 494, 495]\n",
      "\n",
      "====================================================================================================\n",
      "4 24\n",
      "239 120 49.7907949790795%\n",
      "162 [436, 437, 439]\n",
      "162 [436, 437, 438, 439]\n",
      "\n",
      "63 15 76.19047619047619%\n",
      "165 [445, 447]\n",
      "165 [445, 446, 447]\n",
      "\n",
      "80 23 71.25%\n",
      "210 [506, 508]\n",
      "210 [506, 507, 508]\n",
      "\n",
      "====================================================================================================\n",
      "5 2\n",
      "212 160 24.528301886792452%\n",
      "4 [181, 182, 184]\n",
      "4 [181, 182, 183, 184]\n",
      "\n",
      "102 62 39.21568627450981%\n",
      "35 [217, 219]\n",
      "35 [217, 218, 219]\n",
      "\n",
      "99 101 2.0202020202020203%\n",
      "37 [221, 222, 224]\n",
      "37 [221, 222, 223, 224]\n",
      "\n",
      "58 9 84.48275862068965%\n",
      "57 [255, 257]\n",
      "57 [255, 256, 257]\n",
      "\n",
      "325 236 27.384615384615387%\n",
      "77 [284, 287]\n",
      "77 [284, 285, 286, 287]\n",
      "\n",
      "35 9 74.28571428571429%\n",
      "87 [300, 302]\n",
      "87 [300, 301, 302]\n",
      "\n",
      "230 219 4.782608695652174%\n",
      "100 [317, 320, 321, 322, 323, 324]\n",
      "100 [317, 318, 319, 320, 321, 322, 323, 324]\n",
      "\n",
      "21 57 171.42857142857142%\n",
      "\n",
      "75 35 53.333333333333336%\n",
      "183 [435, 437, 438]\n",
      "183 [435, 436, 437, 438]\n",
      "\n",
      "====================================================================================================\n",
      "5 6\n",
      "152 73 51.973684210526315%\n",
      "10 [200, 202]\n",
      "10 [200, 201, 202]\n",
      "\n",
      "172 106 38.372093023255815%\n",
      "113 [378, 380]\n",
      "113 [378, 379, 380]\n",
      "\n",
      "469 445 5.11727078891258%\n",
      "157 [458, 459, 460, 463, 465, 466]\n",
      "157 [458, 459, 460, 461, 462, 463, 464, 465, 466]\n",
      "\n",
      "====================================================================================================\n",
      "5 12\n",
      "67 49 26.865671641791046%\n",
      "108 [387, 389, 390]\n",
      "108 [387, 388, 389, 390]\n",
      "\n",
      "53 28 47.16981132075472%\n",
      "118 [400, 402]\n",
      "118 [400, 401, 402]\n",
      "\n",
      "====================================================================================================\n",
      "5 14\n",
      "192 99 48.4375%\n",
      "0 [179, 181]\n",
      "0 [179, 180, 181]\n",
      "\n",
      "191 144 24.60732984293194%\n",
      "26 [231, 232, 234]\n",
      "26 [231, 232, 233, 234]\n",
      "\n",
      "190 152 20.0%\n",
      "30 [238, 240, 241]\n",
      "30 [238, 239, 240, 241]\n",
      "\n",
      "100 63 37.0%\n",
      "113 [363, 364, 366]\n",
      "113 [363, 364, 365, 366]\n",
      "\n",
      "265 280 5.660377358490567%\n",
      "131 [394, 396, 397, 398, 401, 402]\n",
      "131 [394, 395, 396, 397, 398, 399, 400, 401, 402]\n",
      "\n",
      "401 374 6.733167082294264%\n",
      "141 [414, 415, 416, 417, 419, 420]\n",
      "141 [414, 415, 416, 417, 418, 419, 420]\n",
      "\n",
      "====================================================================================================\n",
      "5 15\n",
      "284 86 69.71830985915493%\n",
      "37 [255, 257]\n",
      "37 [255, 256, 257]\n",
      "\n",
      "639 585 8.450704225352112%\n",
      "64 [297, 298, 301, 309, 310]\n",
      "64 [297, 298, 299, 300, 301, 302, 303, 304, 305, 306, 307, 308, 309, 310]\n",
      "\n",
      "126 71 43.65079365079365%\n",
      "122 [399, 400, 401, 402, 404]\n",
      "122 [399, 400, 401, 402, 403, 404]\n",
      "\n",
      "====================================================================================================\n",
      "5 20\n",
      "84 41 51.19047619047619%\n",
      "61 [275, 277]\n",
      "61 [275, 276, 277]\n",
      "\n",
      "37 35 5.405405405405405%\n",
      "62 [276, 278, 279]\n",
      "62 [276, 277, 278, 279]\n",
      "\n",
      "364 333 8.516483516483516%\n",
      "112 [346, 347, 350, 352, 353, 354, 358, 359, 361, 362]\n",
      "112 [346, 347, 348, 349, 350, 351, 352, 353, 354, 355, 356, 357, 358, 359, 360, 361, 362]\n",
      "\n",
      "40 161 302.5%\n",
      "\n",
      "179 137 23.463687150837988%\n",
      "138 [396, 398, 399]\n",
      "138 [396, 397, 398, 399]\n",
      "\n",
      "58 39 32.758620689655174%\n",
      "152 [423, 425]\n",
      "152 [423, 424, 425]\n",
      "\n",
      "84 19 77.38095238095238%\n",
      "155 [430, 432]\n",
      "155 [430, 431, 432]\n",
      "\n",
      "67 31 53.73134328358209%\n",
      "180 [470, 472]\n",
      "180 [470, 471, 472]\n",
      "\n",
      "84 87 3.571428571428571%\n",
      "185 [480, 483, 484]\n",
      "185 [480, 481, 482, 483, 484]\n",
      "\n",
      "====================================================================================================\n",
      "5 23\n",
      "315 220 30.158730158730158%\n",
      "4 [182, 183, 184, 185, 186, 192]\n",
      "4 [182, 183, 184, 185, 186, 187, 188, 189, 190, 191, 192]\n",
      "\n",
      "78 57 26.923076923076923%\n",
      "26 [225, 227]\n",
      "26 [225, 226, 227]\n",
      "\n",
      "160 90 43.75%\n",
      "53 [269, 271]\n",
      "53 [269, 270, 271]\n",
      "\n",
      "124 108 12.903225806451612%\n",
      "92 [335, 338]\n",
      "92 [335, 336, 337, 338]\n",
      "\n",
      "309 281 9.06148867313916%\n",
      "163 [467, 469, 470, 471]\n",
      "163 [467, 468, 469, 470, 471]\n",
      "\n",
      "293 247 15.699658703071673%\n",
      "174 [485, 486, 487, 489]\n",
      "174 [485, 486, 487, 488, 489]\n",
      "\n",
      "125 87 30.4%\n",
      "175 [490, 492]\n",
      "175 [490, 491, 492]\n",
      "\n",
      "====================================================================================================\n",
      "6 2\n",
      "137 73 46.715328467153284%\n",
      "94 [334, 335, 336, 337, 339, 340]\n",
      "94 [334, 335, 336, 337, 338, 339, 340]\n",
      "\n",
      "104 91 12.5%\n",
      "221 [505, 506, 508, 509]\n",
      "221 [505, 506, 507, 508, 509]\n",
      "\n",
      "====================================================================================================\n",
      "6 3\n",
      "65 22 66.15384615384615%\n",
      "6 [193, 195]\n",
      "6 [193, 194, 195]\n",
      "\n",
      "184 89 51.63043478260869%\n",
      "36 [239, 241]\n",
      "36 [239, 240, 241]\n",
      "\n",
      "349 303 13.18051575931232%\n",
      "50 [270, 271, 272, 273, 274, 277, 278]\n",
      "50 [270, 271, 272, 273, 274, 275, 276, 277, 278]\n",
      "\n",
      "219 149 31.963470319634702%\n",
      "170 [472, 473, 474, 476]\n",
      "170 [472, 473, 474, 475, 476]\n",
      "\n",
      "103 62 39.80582524271845%\n",
      "179 [487, 489, 490]\n",
      "179 [487, 488, 489, 490]\n",
      "\n",
      "====================================================================================================\n",
      "6 4\n",
      "121 100 17.355371900826448%\n",
      "54 [284, 285, 287, 288]\n",
      "54 [284, 285, 286, 287, 288]\n",
      "\n",
      "69 40 42.028985507246375%\n",
      "168 [436, 438, 439]\n",
      "168 [436, 437, 438, 439]\n",
      "\n",
      "====================================================================================================\n",
      "6 5\n",
      "82 45 45.1219512195122%\n",
      "26 [233, 235]\n",
      "26 [233, 234, 235]\n",
      "\n",
      "169 108 36.09467455621302%\n",
      "52 [266, 268]\n",
      "52 [266, 267, 268]\n",
      "\n",
      "182 1117 513.7362637362638%\n",
      "\n",
      "====================================================================================================\n",
      "6 6\n",
      "146 92 36.986301369863014%\n",
      "43 [285, 287]\n",
      "43 [285, 286, 287]\n",
      "\n",
      "308 252 18.181818181818183%\n",
      "84 [360, 361, 363, 364, 365]\n",
      "84 [360, 361, 362, 363, 364, 365]\n",
      "\n",
      "203 184 9.35960591133005%\n",
      "105 [391, 392, 393, 395, 396]\n",
      "105 [391, 392, 393, 394, 395, 396]\n",
      "\n",
      "====================================================================================================\n",
      "6 7\n",
      "615 443 27.967479674796746%\n",
      "0 [179, 180, 181, 183, 184, 187]\n",
      "0 [179, 180, 181, 182, 183, 184, 185, 186, 187]\n",
      "\n",
      "172 132 23.25581395348837%\n",
      "30 [235, 236, 238]\n",
      "30 [235, 236, 237, 238]\n",
      "\n",
      "237 190 19.831223628691983%\n",
      "44 [262, 264, 265]\n",
      "44 [262, 263, 264, 265]\n",
      "\n",
      "159 95 40.25157232704403%\n",
      "54 [277, 280]\n",
      "54 [277, 278, 279, 280]\n",
      "\n",
      "195 146 25.128205128205128%\n",
      "70 [302, 303, 305]\n",
      "70 [302, 303, 304, 305]\n",
      "\n",
      "95 72 24.210526315789473%\n",
      "84 [326, 328]\n",
      "84 [326, 327, 328]\n",
      "\n",
      "191 118 38.21989528795812%\n",
      "103 [358, 361]\n",
      "103 [358, 359, 360, 361]\n",
      "\n",
      "434 408 5.990783410138248%\n",
      "110 [369, 370, 371, 375, 376, 377]\n",
      "110 [369, 370, 371, 372, 373, 374, 375, 376, 377]\n",
      "\n",
      "367 318 13.35149863760218%\n",
      "161 [471, 472, 474, 475, 476]\n",
      "161 [471, 472, 473, 474, 475, 476]\n",
      "\n",
      "117 71 39.31623931623932%\n",
      "177 [496, 497, 498, 500]\n",
      "177 [496, 497, 498, 499, 500]\n",
      "\n",
      "343 276 19.533527696793%\n",
      "184 [510, 511, 513, 514]\n",
      "184 [510, 511, 512, 513, 514]\n",
      "\n",
      "====================================================================================================\n",
      "6 8\n",
      "201 117 41.7910447761194%\n",
      "13 [202, 206]\n",
      "13 [202, 203, 204, 205, 206]\n",
      "\n",
      "86 54 37.2093023255814%\n",
      "30 [234, 236]\n",
      "30 [234, 235, 236]\n",
      "\n",
      "57 42 26.31578947368421%\n",
      "151 [385, 387]\n",
      "151 [385, 386, 387]\n",
      "\n",
      "145 122 15.862068965517242%\n",
      "208 [471, 473, 474, 475, 476]\n",
      "208 [471, 472, 473, 474, 475, 476]\n",
      "\n",
      "335 243 27.46268656716418%\n",
      "227 [498, 499, 500, 503]\n",
      "227 [498, 499, 500, 501, 502, 503]\n",
      "\n",
      "113 43 61.94690265486725%\n",
      "232 [507, 509]\n",
      "232 [507, 508, 509]\n",
      "\n",
      "====================================================================================================\n",
      "6 9\n",
      "319 260 18.495297805642632%\n",
      "25 [209, 210, 211, 212, 214, 215]\n",
      "25 [209, 210, 211, 212, 213, 214, 215]\n",
      "\n",
      "603 496 17.744610281923716%\n",
      "33 [227, 228, 229, 231, 233, 234, 235, 236, 237, 238, 239]\n",
      "33 [227, 228, 229, 230, 231, 232, 233, 234, 235, 236, 237, 238, 239]\n",
      "\n",
      "81 8 90.12345679012346%\n",
      "57 [279, 281]\n",
      "57 [279, 280, 281]\n",
      "\n",
      "193 152 21.243523316062177%\n",
      "150 [408, 410, 411]\n",
      "150 [408, 409, 410, 411]\n",
      "\n",
      "194 60 69.0721649484536%\n",
      "176 [455, 457]\n",
      "176 [455, 456, 457]\n",
      "\n",
      "126 134 6.349206349206349%\n",
      "193 [481, 484, 486]\n",
      "193 [481, 482, 483, 484, 485, 486]\n",
      "\n",
      "====================================================================================================\n",
      "6 14\n",
      "98 82 16.3265306122449%\n",
      "29 [241, 242, 244]\n",
      "29 [241, 242, 243, 244]\n",
      "\n",
      "78 44 43.58974358974359%\n",
      "60 [289, 291]\n",
      "60 [289, 290, 291]\n",
      "\n",
      "265 221 16.60377358490566%\n",
      "173 [456, 458, 459]\n",
      "173 [456, 457, 458, 459]\n",
      "\n",
      "====================================================================================================\n",
      "6 15\n",
      "207 132 36.231884057971016%\n",
      "9 [213, 214, 216]\n",
      "9 [213, 214, 215, 216]\n",
      "\n",
      "313 288 7.987220447284344%\n",
      "13 [224, 225, 226, 229, 230]\n",
      "13 [224, 225, 226, 227, 228, 229, 230]\n",
      "\n",
      "546 392 28.205128205128204%\n",
      "47 [270, 271, 273, 275, 276]\n",
      "47 [270, 271, 272, 273, 274, 275, 276]\n",
      "\n",
      "148 128 13.513513513513514%\n",
      "57 [288, 290, 291, 292]\n",
      "57 [288, 289, 290, 291, 292]\n",
      "\n",
      "361 306 15.23545706371191%\n",
      "200 [488, 489, 492, 494]\n",
      "200 [488, 489, 490, 491, 492, 493, 494]\n",
      "\n",
      "====================================================================================================\n",
      "6 16\n",
      "239 165 30.962343096234306%\n",
      "82 [301, 302, 305]\n",
      "82 [301, 302, 303, 304, 305]\n",
      "\n",
      "73 34 53.42465753424658%\n",
      "191 [439, 441]\n",
      "191 [439, 440, 441]\n",
      "\n",
      "521 443 14.971209213051823%\n",
      "199 [450, 451, 452, 453, 456, 460]\n",
      "199 [450, 451, 452, 453, 454, 455, 456, 457, 458, 459, 460]\n",
      "\n",
      "479 350 26.931106471816285%\n",
      "206 [466, 467, 468, 472, 474]\n",
      "206 [466, 467, 468, 469, 470, 471, 472, 473, 474]\n",
      "\n",
      "====================================================================================================\n",
      "6 17\n",
      "207 145 29.951690821256037%\n",
      "15 [235, 236, 238]\n",
      "15 [235, 236, 237, 238]\n",
      "\n",
      "114 66 42.10526315789473%\n",
      "48 [284, 286]\n",
      "48 [284, 285, 286]\n",
      "\n",
      "67 51 23.88059701492537%\n",
      "105 [377, 379]\n",
      "105 [377, 378, 379]\n",
      "\n",
      "48 30 37.5%\n",
      "129 [418, 420]\n",
      "129 [418, 419, 420]\n",
      "\n",
      "219 197 10.045662100456621%\n",
      "146 [445, 448, 449, 450, 451, 452]\n",
      "146 [445, 446, 447, 448, 449, 450, 451, 452]\n",
      "\n",
      "281 268 4.6263345195729535%\n",
      "156 [465, 466, 468, 469, 470, 471]\n",
      "156 [465, 466, 467, 468, 469, 470, 471]\n",
      "\n",
      "====================================================================================================\n",
      "6 19\n",
      "====================================================================================================\n",
      "6 20\n",
      "193 166 13.989637305699482%\n",
      "15 [211, 213]\n",
      "15 [211, 212, 213]\n",
      "\n",
      "180 90 50.0%\n",
      "95 [321, 323]\n",
      "95 [321, 322, 323]\n",
      "\n",
      "172 113 34.30232558139535%\n",
      "119 [356, 358]\n",
      "119 [356, 357, 358]\n",
      "\n",
      "====================================================================================================\n",
      "6 21\n",
      "329 287 12.76595744680851%\n",
      "43 [277, 278, 279, 281, 282, 283]\n",
      "43 [277, 278, 279, 280, 281, 282, 283]\n",
      "\n",
      "236 174 26.27118644067797%\n",
      "109 [391, 392, 393, 395]\n",
      "109 [391, 392, 393, 394, 395]\n",
      "\n",
      "372 299 19.623655913978492%\n",
      "179 [490, 492, 496, 497, 498]\n",
      "179 [490, 491, 492, 493, 494, 495, 496, 497, 498]\n",
      "\n",
      "====================================================================================================\n",
      "6 24\n",
      "96 67 30.208333333333332%\n",
      "24 [233, 235, 236]\n",
      "24 [233, 234, 235, 236]\n",
      "\n",
      "222 197 11.26126126126126%\n",
      "102 [364, 365, 366, 369]\n",
      "102 [364, 365, 366, 367, 368, 369]\n",
      "\n",
      "279 169 39.42652329749104%\n",
      "114 [392, 393, 395]\n",
      "114 [392, 393, 394, 395]\n",
      "\n",
      "111 92 17.117117117117118%\n",
      "146 [435, 438]\n",
      "146 [435, 436, 437, 438]\n",
      "\n",
      "523 245 53.15487571701721%\n",
      "210 [528, 529, 530, 531, 533, 535]\n",
      "210 [528, 529, 530, 531, 532, 533, 534, 535]\n",
      "\n",
      "====================================================================================================\n",
      "7 1\n",
      "59 45 23.728813559322035%\n",
      "7 [194, 195, 197]\n",
      "7 [194, 195, 196, 197]\n",
      "\n",
      "92 53 42.391304347826086%\n",
      "83 [325, 326, 328]\n",
      "83 [325, 326, 327, 328]\n",
      "\n",
      "93 30 67.74193548387096%\n",
      "94 [335, 337]\n",
      "94 [335, 336, 337]\n",
      "\n",
      "125 91 27.200000000000003%\n",
      "131 [383, 386]\n",
      "131 [383, 384, 385, 386]\n",
      "\n",
      "76 46 39.473684210526315%\n",
      "133 [389, 391, 392]\n",
      "133 [389, 390, 391, 392]\n",
      "\n",
      "36 8 77.77777777777779%\n",
      "166 [435, 437]\n",
      "166 [435, 436, 437]\n",
      "\n",
      "75 34 54.666666666666664%\n",
      "170 [447, 450]\n",
      "170 [447, 448, 449, 450]\n",
      "\n",
      "====================================================================================================\n",
      "7 2\n",
      "110 62 43.63636363636363%\n",
      "85 [315, 318]\n",
      "85 [315, 316, 317, 318]\n",
      "\n",
      "270 197 27.037037037037038%\n",
      "104 [347, 348, 353]\n",
      "104 [347, 348, 349, 350, 351, 352, 353]\n",
      "\n",
      "136 103 24.264705882352942%\n",
      "152 [416, 419, 420]\n",
      "152 [416, 417, 418, 419, 420]\n",
      "\n",
      "103 81 21.35922330097087%\n",
      "219 [512, 515]\n",
      "219 [512, 513, 514, 515]\n",
      "\n",
      "316 252 20.253164556962027%\n",
      "225 [523, 524, 525, 526, 527, 528, 529, 530, 532]\n",
      "225 [523, 524, 525, 526, 527, 528, 529, 530, 531, 532]\n",
      "\n",
      "====================================================================================================\n",
      "7 6\n",
      "260 256 1.5384615384615385%\n",
      "123 [385, 386, 387, 388, 391, 392]\n",
      "123 [385, 386, 387, 388, 389, 390, 391, 392]\n",
      "\n",
      "122 98 19.672131147540984%\n",
      "152 [431, 434]\n",
      "152 [431, 432, 433, 434]\n",
      "\n",
      "262 348 32.82442748091603%\n",
      "169 [480, 481, 482, 483, 484, 486, 487, 491]\n",
      "169 [480, 481, 482, 483, 484, 485, 486, 487, 488, 489, 490, 491]\n",
      "\n",
      "100 150 50.0%\n",
      "170 [485, 488, 489, 490]\n",
      "170 [485, 486, 487, 488, 489, 490]\n",
      "\n",
      "====================================================================================================\n",
      "7 10\n",
      "115 93 19.130434782608695%\n",
      "32 [255, 258]\n",
      "32 [255, 256, 257, 258]\n",
      "\n",
      "====================================================================================================\n",
      "7 11\n",
      "92 68 26.08695652173913%\n",
      "20 [221, 223]\n",
      "20 [221, 222, 223]\n",
      "\n",
      "59 35 40.67796610169492%\n",
      "39 [243, 245]\n",
      "39 [243, 244, 245]\n",
      "\n",
      "232 138 40.51724137931034%\n",
      "207 [454, 455, 457]\n",
      "207 [454, 455, 456, 457]\n",
      "\n",
      "====================================================================================================\n",
      "7 15\n",
      "190 119 37.368421052631575%\n",
      "24 [237, 241]\n",
      "24 [237, 238, 239, 240, 241]\n",
      "\n",
      "99 141 42.42424242424242%\n",
      "62 [294, 295, 297]\n",
      "62 [294, 295, 296, 297]\n",
      "\n",
      "99 107 8.080808080808081%\n",
      "86 [330, 331, 333]\n",
      "86 [330, 331, 332, 333]\n",
      "\n",
      "159 141 11.320754716981133%\n",
      "198 [472, 473, 475, 476, 477]\n",
      "198 [472, 473, 474, 475, 476, 477]\n",
      "\n",
      "====================================================================================================\n",
      "7 16\n",
      "90 39 56.666666666666664%\n",
      "52 [268, 270]\n",
      "52 [268, 269, 270]\n",
      "\n",
      "====================================================================================================\n",
      "7 17\n",
      "133 90 32.33082706766917%\n",
      "164 [408, 410]\n",
      "164 [408, 409, 410]\n",
      "\n",
      "189 152 19.576719576719576%\n",
      "175 [424, 425, 428]\n",
      "175 [424, 425, 426, 427, 428]\n",
      "\n",
      "187 154 17.647058823529413%\n",
      "193 [449, 451, 452]\n",
      "193 [449, 450, 451, 452]\n",
      "\n",
      "====================================================================================================\n",
      "7 18\n",
      "309 141 54.36893203883495%\n",
      "75 [309, 310, 313]\n",
      "75 [309, 310, 311, 312, 313]\n",
      "\n",
      "15 48 220.00000000000003%\n",
      "\n",
      "162 147 9.25925925925926%\n",
      "167 [445, 447, 448]\n",
      "167 [445, 446, 447, 448]\n",
      "\n",
      "224 160 28.57142857142857%\n",
      "180 [461, 463, 464]\n",
      "180 [461, 462, 463, 464]\n",
      "\n",
      "====================================================================================================\n",
      "7 19\n",
      "189 112 40.74074074074074%\n",
      "28 [236, 239]\n",
      "28 [236, 237, 238, 239]\n",
      "\n",
      "112 76 32.142857142857146%\n",
      "41 [254, 257]\n",
      "41 [254, 255, 256, 257]\n",
      "\n",
      "261 175 32.95019157088122%\n",
      "54 [279, 284]\n",
      "54 [279, 280, 281, 282, 283, 284]\n",
      "\n",
      "312 225 27.884615384615387%\n",
      "153 [423, 424, 425, 428, 429]\n",
      "153 [423, 424, 425, 426, 427, 428, 429]\n",
      "\n",
      "130 66 49.23076923076923%\n",
      "160 [437, 439]\n",
      "160 [437, 438, 439]\n",
      "\n",
      "====================================================================================================\n",
      "7 20\n",
      "224 583 160.26785714285714%\n",
      "\n",
      "124 95 23.387096774193548%\n",
      "12 [225, 227, 228, 229]\n",
      "12 [225, 226, 227, 228, 229]\n",
      "\n",
      "221 168 23.981900452488688%\n",
      "52 [299, 303]\n",
      "52 [299, 300, 301, 302, 303]\n",
      "\n",
      "132 79 40.15151515151515%\n",
      "157 [463, 465, 466, 467]\n",
      "157 [463, 464, 465, 466, 467]\n",
      "\n",
      "102 34 66.66666666666666%\n",
      "172 [490, 492]\n",
      "172 [490, 491, 492]\n",
      "\n",
      "46 76 65.21739130434783%\n",
      "197 [527, 529]\n",
      "197 [527, 528, 529]\n",
      "\n",
      "86 54 37.2093023255814%\n",
      "213 [566, 569]\n",
      "213 [566, 567, 568, 569]\n",
      "\n",
      "51 129 152.94117647058823%\n",
      "\n",
      "30 13 56.666666666666664%\n",
      "214 [576, 579]\n",
      "214 [576, 577, 578, 579]\n",
      "\n",
      "101 70 30.693069306930692%\n",
      "218 [592, 593, 595]\n",
      "218 [592, 593, 594, 595]\n",
      "\n",
      "====================================================================================================\n",
      "7 22\n",
      "208 133 36.05769230769231%\n",
      "87 [320, 321, 324]\n",
      "87 [320, 321, 322, 323, 324]\n",
      "\n",
      "43 47 9.30232558139535%\n",
      "119 [365, 369]\n",
      "119 [365, 366, 367, 368, 369]\n",
      "\n",
      "====================================================================================================\n",
      "7 23\n",
      "154 103 33.116883116883116%\n",
      "96 [315, 319]\n",
      "96 [315, 316, 317, 318, 319]\n",
      "\n",
      "131 96 26.717557251908396%\n",
      "140 [380, 384]\n",
      "140 [380, 381, 382, 383, 384]\n",
      "\n",
      "31 46 48.38709677419355%\n",
      "151 [397, 399]\n",
      "151 [397, 398, 399]\n",
      "\n",
      "193 146 24.352331606217618%\n",
      "152 [398, 400, 401, 402, 403, 404]\n",
      "152 [398, 399, 400, 401, 402, 403, 404]\n",
      "\n",
      "180 106 41.11111111111111%\n",
      "205 [469, 470, 473, 474]\n",
      "205 [469, 470, 471, 472, 473, 474]\n",
      "\n",
      "194 131 32.47422680412371%\n",
      "210 [483, 485]\n",
      "210 [483, 484, 485]\n",
      "\n",
      "====================================================================================================\n",
      "8 1\n",
      "620 586 5.483870967741936%\n",
      "2 [214, 215, 216, 218, 221, 222, 223, 224, 225, 226]\n",
      "2 [214, 215, 216, 217, 218, 219, 220, 221, 222, 223, 224, 225, 226]\n",
      "\n",
      "26 384 1376.923076923077%\n",
      "\n",
      "125 44 64.8%\n",
      "12 [250, 252]\n",
      "12 [250, 251, 252]\n",
      "\n",
      "133 69 48.1203007518797%\n",
      "50 [295, 297]\n",
      "50 [295, 296, 297]\n",
      "\n",
      "82 96 17.073170731707318%\n",
      "135 [439, 440, 442]\n",
      "135 [439, 440, 441, 442]\n",
      "\n",
      "127 19 85.03937007874016%\n",
      "137 [441, 443]\n",
      "137 [441, 442, 443]\n",
      "\n",
      "188 130 30.851063829787233%\n",
      "141 [448, 450, 452]\n",
      "141 [448, 449, 450, 451, 452]\n",
      "\n",
      "272 204 25.0%\n",
      "149 [464, 466, 467, 468, 469]\n",
      "149 [464, 465, 466, 467, 468, 469]\n",
      "\n",
      "39 46 17.94871794871795%\n",
      "168 [488, 489, 491]\n",
      "168 [488, 489, 490, 491]\n",
      "\n",
      "73 49 32.87671232876712%\n",
      "181 [510, 511, 513]\n",
      "181 [510, 511, 512, 513]\n",
      "\n",
      "245 168 31.428571428571427%\n",
      "203 [547, 548, 551]\n",
      "203 [547, 548, 549, 550, 551]\n",
      "\n",
      "====================================================================================================\n",
      "8 2\n",
      "268 188 29.850746268656714%\n",
      "74 [290, 292, 294]\n",
      "74 [290, 291, 292, 293, 294]\n",
      "\n",
      "====================================================================================================\n",
      "8 3\n",
      "107 32 70.09345794392523%\n",
      "81 [292, 294, 295]\n",
      "81 [292, 293, 294, 295]\n",
      "\n",
      "258 174 32.55813953488372%\n",
      "91 [308, 309, 311]\n",
      "91 [308, 309, 310, 311]\n",
      "\n",
      "101 63 37.62376237623762%\n",
      "106 [333, 334, 338]\n",
      "106 [333, 334, 335, 336, 337, 338]\n",
      "\n",
      "182 129 29.120879120879124%\n",
      "165 [414, 415, 416, 418]\n",
      "165 [414, 415, 416, 417, 418]\n",
      "\n",
      "468 430 8.11965811965812%\n",
      "198 [456, 457, 459, 461, 462, 463]\n",
      "198 [456, 457, 458, 459, 460, 461, 462, 463]\n",
      "\n",
      "====================================================================================================\n",
      "8 5\n",
      "202 95 52.97029702970298%\n",
      "3 [142, 145]\n",
      "3 [142, 143, 144, 145]\n",
      "\n",
      "53 29 45.28301886792453%\n",
      "7 [149, 150, 152]\n",
      "7 [149, 150, 151, 152]\n",
      "\n",
      "128 72 43.75%\n",
      "17 [164, 165, 167, 168]\n",
      "17 [164, 165, 166, 167, 168]\n",
      "\n",
      "175 118 32.57142857142858%\n",
      "34 [190, 192]\n",
      "34 [190, 191, 192]\n",
      "\n",
      "32 47 46.875%\n",
      "35 [193, 195]\n",
      "35 [193, 194, 195]\n",
      "\n",
      "70 52 25.71428571428571%\n",
      "64 [230, 232, 233]\n",
      "64 [230, 231, 232, 233]\n",
      "\n",
      "293 182 37.883959044368595%\n",
      "74 [247, 250]\n",
      "74 [247, 248, 249, 250]\n",
      "\n",
      "204 144 29.411764705882355%\n",
      "180 [397, 400]\n",
      "180 [397, 398, 399, 400]\n",
      "\n",
      "190 177 6.842105263157896%\n",
      "219 [460, 461, 465, 466, 467, 468]\n",
      "219 [460, 461, 462, 463, 464, 465, 466, 467, 468]\n",
      "\n",
      "====================================================================================================\n",
      "8 6\n",
      "55 23 58.18181818181818%\n",
      "97 [310, 312]\n",
      "97 [310, 311, 312]\n",
      "\n",
      "87 75 13.793103448275861%\n",
      "116 [343, 345, 346, 347]\n",
      "116 [343, 344, 345, 346, 347]\n",
      "\n",
      "30 64 113.33333333333333%\n",
      "\n",
      "54 14 74.07407407407408%\n",
      "213 [481, 483]\n",
      "213 [481, 482, 483]\n",
      "\n",
      "409 374 8.557457212713937%\n",
      "222 [498, 499, 500, 501, 506, 507]\n",
      "222 [498, 499, 500, 501, 502, 503, 504, 505, 506, 507]\n",
      "\n",
      "====================================================================================================\n",
      "8 7\n",
      "231 114 50.649350649350644%\n",
      "13 [219, 220, 222]\n",
      "13 [219, 220, 221, 222]\n",
      "\n",
      "91 66 27.472527472527474%\n",
      "43 [267, 269, 270]\n",
      "43 [267, 268, 269, 270]\n",
      "\n",
      "====================================================================================================\n",
      "8 9\n",
      "168 110 34.523809523809526%\n",
      "48 [250, 252]\n",
      "48 [250, 251, 252]\n",
      "\n",
      "29 104 258.62068965517244%\n",
      "\n",
      "65 55 15.384615384615385%\n",
      "127 [358, 360]\n",
      "127 [358, 359, 360]\n",
      "\n",
      "205 150 26.82926829268293%\n",
      "176 [427, 429]\n",
      "176 [427, 428, 429]\n",
      "\n",
      "39 832 2033.3333333333333%\n",
      "\n",
      "====================================================================================================\n",
      "8 11\n",
      "102 58 43.13725490196079%\n",
      "202 [457, 458, 460]\n",
      "202 [457, 458, 459, 460]\n",
      "\n",
      "185 117 36.75675675675676%\n",
      "215 [484, 486]\n",
      "215 [484, 485, 486]\n",
      "\n",
      "====================================================================================================\n",
      "8 12\n",
      "265 126 52.45283018867924%\n",
      "196 [464, 465, 466, 467, 469]\n",
      "196 [464, 465, 466, 467, 468, 469]\n",
      "\n",
      "362 216 40.331491712707184%\n",
      "198 [471, 475]\n",
      "198 [471, 472, 473, 474, 475]\n",
      "\n",
      "====================================================================================================\n",
      "8 14\n",
      "143 77 46.15384615384615%\n",
      "23 [236, 238]\n",
      "23 [236, 237, 238]\n",
      "\n",
      "183 150 18.0327868852459%\n",
      "119 [358, 359, 362]\n",
      "119 [358, 359, 360, 361, 362]\n",
      "\n",
      "320 280 12.5%\n",
      "153 [407, 408, 409, 411, 412, 413]\n",
      "153 [407, 408, 409, 410, 411, 412, 413]\n",
      "\n",
      "75 23 69.33333333333334%\n",
      "184 [472, 474]\n",
      "184 [472, 473, 474]\n",
      "\n",
      "193 160 17.098445595854923%\n",
      "210 [525, 526, 529, 530, 531]\n",
      "210 [525, 526, 527, 528, 529, 530, 531]\n",
      "\n",
      "====================================================================================================\n",
      "8 15\n",
      "54 227 320.3703703703704%\n",
      "\n",
      "149 65 56.375838926174495%\n",
      "15 [215, 218]\n",
      "15 [215, 216, 217, 218]\n",
      "\n",
      "221 193 12.669683257918551%\n",
      "23 [230, 231, 235, 236]\n",
      "23 [230, 231, 232, 233, 234, 235, 236]\n",
      "\n",
      "81 85 4.938271604938271%\n",
      "161 [420, 422, 423, 424]\n",
      "161 [420, 421, 422, 423, 424]\n",
      "\n",
      "107 53 50.467289719626166%\n",
      "218 [487, 490]\n",
      "218 [487, 488, 489, 490]\n",
      "\n",
      "78 34 56.41025641025641%\n",
      "232 [512, 514]\n",
      "232 [512, 513, 514]\n",
      "\n",
      "====================================================================================================\n",
      "8 16\n",
      "136 86 36.76470588235294%\n",
      "11 [217, 219, 220]\n",
      "11 [217, 218, 219, 220]\n",
      "\n",
      "117 96 17.94871794871795%\n",
      "70 [310, 313]\n",
      "70 [310, 311, 312, 313]\n",
      "\n",
      "242 167 30.991735537190085%\n",
      "117 [373, 375, 376, 377, 378]\n",
      "117 [373, 374, 375, 376, 377, 378]\n",
      "\n",
      "48 25 47.91666666666667%\n",
      "182 [470, 472]\n",
      "182 [470, 471, 472]\n",
      "\n",
      "22 66 200.0%\n",
      "\n",
      "====================================================================================================\n",
      "8 17\n",
      "58 29 50.0%\n",
      "41 [242, 244]\n",
      "41 [242, 243, 244]\n",
      "\n",
      "199 138 30.65326633165829%\n",
      "52 [262, 264]\n",
      "52 [262, 263, 264]\n",
      "\n",
      "79 55 30.37974683544304%\n",
      "107 [328, 329, 331, 332]\n",
      "107 [328, 329, 330, 331, 332]\n",
      "\n",
      "518 459 11.389961389961389%\n",
      "139 [374, 380, 384, 385]\n",
      "139 [374, 375, 376, 377, 378, 379, 380, 381, 382, 383, 384, 385]\n",
      "\n",
      "411 397 3.40632603406326%\n",
      "143 [390, 391, 392, 397, 398]\n",
      "143 [390, 391, 392, 393, 394, 395, 396, 397, 398]\n",
      "\n",
      "195 122 37.43589743589744%\n",
      "197 [460, 462]\n",
      "197 [460, 461, 462]\n",
      "\n",
      "181 95 47.51381215469613%\n",
      "199 [464, 467]\n",
      "199 [464, 465, 466, 467]\n",
      "\n",
      "====================================================================================================\n",
      "8 18\n",
      "151 105 30.4635761589404%\n",
      "49 [234, 236, 237]\n",
      "49 [234, 235, 236, 237]\n",
      "\n",
      "366 281 23.224043715846996%\n",
      "55 [245, 246, 247, 248, 251]\n",
      "55 [245, 246, 247, 248, 249, 250, 251]\n",
      "\n",
      "116 70 39.6551724137931%\n",
      "178 [394, 395, 397]\n",
      "178 [394, 395, 396, 397]\n",
      "\n",
      "====================================================================================================\n",
      "8 19\n",
      "192 114 40.625%\n",
      "13 [220, 222]\n",
      "13 [220, 221, 222]\n",
      "\n",
      "79 137 73.41772151898735%\n",
      "15 [226, 227, 230]\n",
      "15 [226, 227, 228, 229, 230]\n",
      "\n",
      "230 147 36.08695652173913%\n",
      "154 [428, 429, 431]\n",
      "154 [428, 429, 430, 431]\n",
      "\n",
      "182 79 56.59340659340659%\n",
      "191 [489, 491]\n",
      "191 [489, 490, 491]\n",
      "\n",
      "====================================================================================================\n",
      "8 20\n",
      "210 99 52.85714285714286%\n",
      "47 [226, 228]\n",
      "47 [226, 227, 228]\n",
      "\n",
      "73 59 19.17808219178082%\n",
      "132 [343, 345]\n",
      "132 [343, 344, 345]\n",
      "\n",
      "93 45 51.61290322580645%\n",
      "144 [358, 360]\n",
      "144 [358, 359, 360]\n",
      "\n",
      "140 83 40.714285714285715%\n",
      "184 [416, 418]\n",
      "184 [416, 417, 418]\n",
      "\n",
      "94 67 28.723404255319153%\n",
      "205 [448, 450]\n",
      "205 [448, 449, 450]\n",
      "\n",
      "====================================================================================================\n",
      "8 21\n",
      "223 159 28.699551569506728%\n",
      "4 [181, 182, 186, 187]\n",
      "4 [181, 182, 183, 184, 185, 186, 187]\n",
      "\n",
      "221 166 24.8868778280543%\n",
      "209 [463, 466]\n",
      "209 [463, 464, 465, 466]\n",
      "\n",
      "====================================================================================================\n",
      "8 22\n",
      "214 469 119.1588785046729%\n",
      "\n",
      "220 158 28.18181818181818%\n",
      "70 [298, 300, 301]\n",
      "70 [298, 299, 300, 301]\n",
      "\n",
      "379 236 37.73087071240106%\n",
      "163 [417, 418, 419, 420, 422]\n",
      "163 [417, 418, 419, 420, 421, 422]\n",
      "\n",
      "991 875 11.70534813319879%\n",
      "185 [452, 453, 455, 456, 457, 459, 460, 462, 469]\n",
      "185 [452, 453, 454, 455, 456, 457, 458, 459, 460, 461, 462, 463, 464, 465, 466, 467, 468, 469]\n",
      "\n",
      "347 319 8.069164265129682%\n",
      "187 [471, 473, 474]\n",
      "187 [471, 472, 473, 474]\n",
      "\n",
      "204 76 62.745098039215684%\n",
      "189 [478, 480]\n",
      "189 [478, 479, 480]\n",
      "\n",
      "====================================================================================================\n",
      "8 23\n",
      "87 43 50.57471264367817%\n",
      "34 [239, 241]\n",
      "34 [239, 240, 241]\n",
      "\n",
      "289 290 0.34602076124567477%\n",
      "196 [459, 460, 461, 462, 463, 464, 465, 470]\n",
      "196 [459, 460, 461, 462, 463, 464, 465, 466, 467, 468, 469, 470]\n",
      "\n",
      "====================================================================================================\n",
      "8 24\n",
      "176 120 31.818181818181817%\n",
      "41 [241, 242, 244]\n",
      "41 [241, 242, 243, 244]\n",
      "\n",
      "88 98 11.363636363636363%\n",
      "109 [327, 329]\n",
      "109 [327, 328, 329]\n",
      "\n",
      "63 38 39.682539682539684%\n",
      "110 [328, 330, 331]\n",
      "110 [328, 329, 330, 331]\n",
      "\n",
      "143 104 27.27272727272727%\n",
      "248 [491, 492, 494]\n",
      "248 [491, 492, 493, 494]\n",
      "\n",
      "====================================================================================================\n",
      "9 1\n",
      "55 37 32.72727272727273%\n",
      "78 [298, 300]\n",
      "78 [298, 299, 300]\n",
      "\n",
      "109 72 33.94495412844037%\n",
      "198 [453, 455]\n",
      "198 [453, 454, 455]\n",
      "\n",
      "====================================================================================================\n",
      "9 3\n",
      "209 151 27.751196172248804%\n",
      "95 [325, 327]\n",
      "95 [325, 326, 327]\n",
      "\n",
      "54 35 35.18518518518518%\n",
      "137 [384, 386]\n",
      "137 [384, 385, 386]\n",
      "\n",
      "====================================================================================================\n",
      "9 4\n",
      "175 95 45.714285714285715%\n",
      "17 [208, 210]\n",
      "17 [208, 209, 210]\n",
      "\n",
      "205 160 21.951219512195124%\n",
      "58 [257, 258, 261]\n",
      "58 [257, 258, 259, 260, 261]\n",
      "\n",
      "498 375 24.69879518072289%\n",
      "62 [266, 267, 269]\n",
      "62 [266, 267, 268, 269]\n",
      "\n",
      "190 192 1.0526315789473684%\n",
      "71 [282, 283, 284, 285, 287, 288]\n",
      "71 [282, 283, 284, 285, 286, 287, 288]\n",
      "\n",
      "215 110 48.837209302325576%\n",
      "108 [352, 354]\n",
      "108 [352, 353, 354]\n",
      "\n",
      "====================================================================================================\n",
      "9 7\n",
      "416 359 13.701923076923078%\n",
      "25 [228, 229, 230, 232, 233, 234]\n",
      "25 [228, 229, 230, 231, 232, 233, 234]\n",
      "\n",
      "109 115 5.5045871559633035%\n",
      "110 [350, 351, 353]\n",
      "110 [350, 351, 352, 353]\n",
      "\n",
      "395 325 17.72151898734177%\n",
      "112 [354, 355, 357, 358, 359, 360]\n",
      "112 [354, 355, 356, 357, 358, 359, 360]\n",
      "\n",
      "268 209 22.01492537313433%\n",
      "131 [379, 380, 381, 383, 384]\n",
      "131 [379, 380, 381, 382, 383, 384]\n",
      "\n",
      "45 25 44.44444444444444%\n",
      "192 [469, 471]\n",
      "192 [469, 470, 471]\n",
      "\n",
      "====================================================================================================\n",
      "9 8\n",
      "175 106 39.42857142857143%\n",
      "72 [290, 291, 293]\n",
      "72 [290, 291, 292, 293]\n",
      "\n",
      "109 64 41.284403669724774%\n",
      "148 [393, 396, 397]\n",
      "148 [393, 394, 395, 396, 397]\n",
      "\n",
      "====================================================================================================\n",
      "9 9\n",
      "181 150 17.12707182320442%\n",
      "93 [316, 317, 320]\n",
      "93 [316, 317, 318, 319, 320]\n",
      "\n",
      "269 190 29.36802973977695%\n",
      "153 [403, 405, 408]\n",
      "153 [403, 404, 405, 406, 407, 408]\n",
      "\n",
      "268 233 13.059701492537313%\n",
      "199 [477, 479, 482]\n",
      "199 [477, 478, 479, 480, 481, 482]\n",
      "\n",
      "====================================================================================================\n",
      "9 10\n",
      "271 225 16.974169741697416%\n",
      "15 [219, 220, 221, 222, 224, 225]\n",
      "15 [219, 220, 221, 222, 223, 224, 225]\n",
      "\n",
      "326 278 14.723926380368098%\n",
      "56 [286, 287, 290, 291, 292]\n",
      "56 [286, 287, 288, 289, 290, 291, 292]\n",
      "\n",
      "85 49 42.35294117647059%\n",
      "67 [307, 309]\n",
      "67 [307, 308, 309]\n",
      "\n",
      "71 41 42.25352112676056%\n",
      "96 [350, 352]\n",
      "96 [350, 351, 352]\n",
      "\n",
      "560 529 5.535714285714286%\n",
      "99 [354, 355, 356, 357, 361, 364, 365, 366]\n",
      "99 [354, 355, 356, 357, 358, 359, 360, 361, 362, 363, 364, 365, 366]\n",
      "\n",
      "173 103 40.46242774566474%\n",
      "141 [427, 429]\n",
      "141 [427, 428, 429]\n",
      "\n",
      "262 274 4.580152671755725%\n",
      "143 [431, 432, 433, 436, 437, 438, 439, 440]\n",
      "143 [431, 432, 433, 434, 435, 436, 437, 438, 439, 440]\n",
      "\n",
      "183 145 20.76502732240437%\n",
      "169 [473, 474, 475, 476, 479]\n",
      "169 [473, 474, 475, 476, 477, 478, 479]\n",
      "\n",
      "====================================================================================================\n",
      "9 11\n",
      "49 1185 2318.3673469387754%\n",
      "\n",
      "118 89 24.576271186440678%\n",
      "29 [221, 222, 224]\n",
      "29 [221, 222, 223, 224]\n",
      "\n",
      "108 65 39.81481481481482%\n",
      "98 [312, 315]\n",
      "98 [312, 313, 314, 315]\n",
      "\n",
      "34 45 32.35294117647059%\n",
      "222 [456, 458]\n",
      "222 [456, 457, 458]\n",
      "\n",
      "====================================================================================================\n",
      "9 12\n",
      "236 179 24.152542372881356%\n",
      "80 [297, 298, 299, 301]\n",
      "80 [297, 298, 299, 300, 301]\n",
      "\n",
      "53 19 64.15094339622641%\n",
      "99 [331, 333]\n",
      "99 [331, 332, 333]\n",
      "\n",
      "====================================================================================================\n",
      "9 16\n",
      "157 82 47.77070063694268%\n",
      "166 [428, 430]\n",
      "166 [428, 429, 430]\n",
      "\n",
      "53 177 233.96226415094338%\n",
      "\n",
      "111 242 118.01801801801801%\n",
      "\n",
      "====================================================================================================\n",
      "9 17\n",
      "166 103 37.95180722891566%\n",
      "20 [219, 221]\n",
      "20 [219, 220, 221]\n",
      "\n",
      "156 87 44.230769230769226%\n",
      "24 [226, 228]\n",
      "24 [226, 227, 228]\n",
      "\n",
      "87 62 28.735632183908045%\n",
      "102 [342, 344, 345]\n",
      "102 [342, 343, 344, 345]\n",
      "\n",
      "====================================================================================================\n",
      "9 18\n",
      "196 183 6.63265306122449%\n",
      "104 [329, 330, 331, 333]\n",
      "104 [329, 330, 331, 332, 333]\n",
      "\n",
      "316 240 24.050632911392405%\n",
      "208 [470, 471, 475]\n",
      "208 [470, 471, 472, 473, 474, 475]\n",
      "\n",
      "====================================================================================================\n"
     ]
    }
   ],
   "source": [
    "further_alignment = {}\n",
    "for (i, j) in list(alignment_seeds.keys()):\n",
    "    print(i, j)\n",
    "    temp = get_alignment(tbbt_transcripts, en_subtitle, zh_subtitle, results, i, j, 200)\n",
    "    further_alignment[(i,j)] = turn_sub2epi_into_epi2sub(temp)\n",
    "    print('=='*50)"
   ],
   "metadata": {
    "collapsed": false,
    "pycharm": {
     "name": "#%%\n"
    }
   }
  },
  {
   "cell_type": "code",
   "execution_count": 104,
   "outputs": [
    {
     "name": "stdout",
     "output_type": "stream",
     "text": [
      "(1, 1)\n",
      "{0: [200, 201, 202, 203], 1: [204], 2: [205], 3: [206], 5: [207, 208, 209, 210, 211, 212, 213], 6: [214], 7: [215], 8: [216], 9: [217], 10: [218], 11: [219], 12: [220, 221, 222], 13: [223], 14: [224, 225], 15: [226, 227, 228, 229], 16: [230, 231], 17: [232, 233, 234], 18: [235], 20: [236], 21: [237], 22: [238], 23: [239], 24: [240], 28: [242], 30: [243], 32: [244, 245, 246], 33: [247], 34: [248, 249], 35: [250], 36: [251], 39: [254], 40: [255], 41: [256], 45: [257], 46: [258], 47: [259, 260], 48: [261], 49: [262], 54: [263], 59: [266], 63: [267], 64: [268], 65: [269], 66: [270], 67: [271, 272], 68: [273], 69: [274, 275], 70: [276, 277], 71: [278], 72: [279], 73: [280, 281], 74: [282], 75: [283, 284], 76: [285], 77: [286, 287], 82: [289, 290], 83: [291], 84: [292], 86: [293], 88: [294], 89: [295], 90: [296], 92: [298], 93: [299, 300], 94: [301], 95: [302], 96: [303, 304], 97: [305], 99: [306], 100: [307], 102: [308, 309], 104: [310], 105: [311], 106: [312], 107: [313], 108: [314], 109: [315], 110: [316, 317], 115: [318], 116: [320, 321, 322, 324, 325], 117: [326], 119: [327], 121: [328], 123: [329, 330], 124: [331], 125: [332], 126: [333], 127: [334], 128: [335], 131: [337], 132: [338], 133: [339, 340, 341], 134: [342], 135: [343], 136: [344], 137: [345], 138: [346, 347, 348, 349], 139: [350, 351], 140: [352], 141: [353], 142: [354], 143: [355], 144: [356], 145: [357, 358], 146: [359], 147: [360], 148: [361], 149: [362, 363, 365], 150: [366], 151: [367, 368], 152: [369], 154: [370, 371, 372], 155: [373], 157: [374, 375], 158: [376], 159: [377], 160: [378, 379, 380], 161: [381, 382, 383, 384, 385, 386], 162: [387, 388], 163: [389], 164: [390], 165: [391], 169: [392], 170: [394], 171: [395], 172: [397], 173: [398], 174: [399, 400], 175: [401], 176: [402], 177: [403], 179: [404], 180: [405], 181: [406], 182: [407, 408], 183: [409], 184: [410, 411], 186: [412, 413], 187: [414], 188: [415, 416], 189: [417], 190: [418], 192: [419], 193: [420], 194: [421], 195: [422], 197: [423], 198: [424], 199: [425], 200: [426], 201: [427], 203: [428], 204: [429], 205: [430], 206: [431], 207: [432], 208: [433, 434], 209: [435, 436, 437, 438], 210: [439], 211: [440], 214: [442, 443], 215: [444], 217: [445, 446], 218: [447], 219: [448], 220: [449], 221: [450], 222: [451, 452], 223: [453], 224: [454], 225: [455], 226: [456], 228: [457], 229: [458], 230: [459, 461, 462], 231: [463], 232: [464], 233: [465], 234: [466], 235: [467], 236: [468, 469], 237: [470], 238: [471], 239: [472], 240: [473], 241: [474, 475, 476, 477], 242: [478], 243: [479, 480], 244: [481], 245: [482], 246: [483], 247: [484], 248: [485], 249: [486, 487], 250: [488], 252: [490], 253: [491], 254: [492], 256: [493], 257: [494], 258: [495, 496], 259: [497], 260: [498], 261: [499], 262: [500, 501], 263: [502], 264: [503], 265: [505], 266: [506], 268: [507], 269: [508], 270: [509], 271: [510], 272: [511], 273: [512], 274: [513], 275: [514], 277: [515], 278: [516], 279: [517], 280: [518, 519], 281: [520], 282: [521, 522, 523], 283: [524], 284: [525], 285: [526], 286: [527, 528], 287: [529], 288: [530, 531, 532], 289: [533], 290: [534], 291: [535], 292: [536], 293: [537], 294: [538], 295: [539], 296: [540, 541], 297: [542], 298: [543], 299: [544, 545, 546], 301: [547], 302: [548], 303: [549], 304: [550], 305: [551], 306: [552], 307: [554], 309: [555, 556], 310: [557], 311: [558, 559], 312: [560], 314: [561]}\n",
      "(1, 2)\n",
      "{0: [165], 1: [166], 2: [167], 3: [168], 4: [169], 5: [170], 6: [171], 7: [172, 173], 8: [174, 175], 9: [176, 177], 11: [178], 12: [179], 13: [180], 14: [181], 15: [182], 16: [183], 17: [184, 185], 18: [186], 19: [187], 20: [188, 189], 22: [191], 24: [192], 25: [193], 26: [194], 27: [195], 28: [196], 30: [198, 199], 31: [200, 201], 32: [202, 203], 33: [204], 34: [205], 35: [206], 36: [207], 39: [209], 40: [210, 211], 41: [212], 42: [213, 214, 215], 44: [216], 45: [217], 46: [218, 219, 220, 221, 222], 47: [223], 48: [224, 225, 226, 227], 49: [228, 229], 50: [230], 51: [231], 52: [232], 53: [233], 54: [234], 55: [235, 236], 56: [237], 57: [238, 239, 240], 60: [241], 61: [242, 243, 244, 245, 246], 62: [247], 63: [248], 64: [249], 65: [250, 251, 252], 66: [253], 67: [254, 255, 256], 68: [257], 69: [258, 259], 70: [260], 71: [261], 72: [262], 73: [263], 74: [264, 265], 75: [266, 267], 76: [268, 269, 270], 77: [271, 272], 79: [274], 80: [275], 81: [276, 277, 279, 280], 82: [281], 84: [282, 283], 85: [284], 86: [285], 88: [286], 90: [288], 91: [289], 92: [290], 93: [291, 292], 94: [293], 95: [294], 97: [295], 98: [296], 103: [297], 104: [298], 105: [299, 300], 106: [301], 107: [302], 108: [303], 109: [304], 113: [305], 114: [306, 307], 115: [308, 309], 116: [310], 117: [311], 118: [312, 313], 119: [314], 120: [315], 121: [316], 123: [317, 318], 124: [319], 125: [320], 126: [321, 322], 127: [323], 129: [324], 130: [325], 133: [326, 327], 134: [328, 329], 135: [330], 137: [331], 138: [332], 139: [333], 140: [334, 335], 141: [336], 142: [337], 143: [338, 339, 340], 145: [341], 146: [342], 147: [343], 148: [344], 150: [345], 151: [346], 152: [347], 153: [348], 154: [349], 155: [350], 156: [351], 157: [352], 158: [353], 159: [354], 160: [355, 356, 357, 358], 161: [359], 162: [360], 164: [361, 362], 165: [363], 166: [364], 167: [365, 366, 367, 368], 168: [369, 370], 169: [371], 171: [372, 373], 173: [374, 375, 376, 377], 174: [378, 379, 380, 381], 175: [382, 383, 384], 176: [385, 386, 388, 389], 177: [390, 391, 392, 393], 178: [394, 395, 396], 179: [397], 180: [398], 181: [399, 400], 182: [401], 183: [402], 184: [403], 185: [404], 186: [405], 187: [406], 188: [407], 189: [408, 409], 190: [410], 191: [411], 192: [412, 413], 193: [414, 415, 416], 194: [417], 197: [418], 198: [419, 420, 421, 422, 423], 201: [424], 202: [425], 203: [426], 204: [427], 205: [428, 429, 430], 206: [431], 207: [432, 433], 208: [434], 210: [435, 436], 211: [437], 212: [438, 439], 213: [440], 214: [441], 215: [442], 216: [443], 217: [444], 218: [445, 446, 447], 219: [448], 220: [449, 450], 221: [451], 222: [452, 453, 454], 223: [455], 224: [456], 225: [457], 226: [458, 459], 227: [460], 228: [461, 462, 463], 229: [464], 230: [465], 232: [466]}\n",
      "(1, 3)\n",
      "{0: [179, 180], 1: [181], 3: [182], 4: [183, 184], 5: [185], 6: [186], 7: [187], 8: [188, 190], 9: [191], 10: [192], 11: [193], 13: [195, 196], 14: [197], 15: [198], 16: [199], 17: [200], 18: [201], 19: [202], 21: [203], 23: [205], 24: [206], 25: [207, 208], 26: [209, 210, 211], 27: [212], 28: [213, 214, 215], 29: [216], 30: [217], 32: [218], 34: [220], 35: [221], 36: [222, 223], 37: [224], 38: [225], 39: [226], 40: [227], 41: [228], 42: [229, 230], 43: [231], 44: [232, 233], 45: [234], 47: [235], 48: [236, 237], 49: [238], 50: [239], 51: [240], 52: [241, 242], 53: [243], 54: [244], 55: [245], 56: [246, 247], 57: [248, 249], 58: [250], 59: [251], 60: [252], 62: [253, 254, 255], 63: [256], 65: [257, 258, 259], 66: [260, 261], 67: [262], 71: [263], 70: [264, 266], 73: [267], 74: [268, 269], 75: [270], 77: [272], 78: [273, 274, 275], 79: [276, 277], 80: [278], 81: [279], 82: [280], 84: [281], 86: [283], 87: [284], 88: [285], 89: [286, 287], 90: [288, 289, 290, 291], 91: [292, 293], 93: [294], 95: [295], 96: [296], 97: [297, 298], 98: [299], 99: [300], 100: [301], 101: [302, 303], 102: [304], 103: [305], 105: [306], 106: [307], 107: [308], 108: [309], 109: [310], 110: [311, 312], 111: [313, 314, 315], 112: [316], 113: [317, 318], 114: [319, 320, 321], 115: [322, 323], 116: [324], 117: [325], 118: [326, 327], 119: [328, 329], 120: [330], 121: [331], 122: [332], 123: [333], 124: [334, 335], 125: [336, 337], 126: [338, 340, 341], 127: [342], 128: [343, 344], 129: [345, 346], 130: [347], 132: [348, 349], 133: [350], 134: [351, 352, 353, 354], 136: [355, 356], 137: [357], 139: [358], 140: [359], 141: [360], 142: [361, 362, 363, 364, 365, 366], 143: [367], 144: [368], 146: [370], 148: [371], 149: [372], 150: [373], 152: [374, 375], 153: [376], 154: [377], 155: [378], 156: [379, 380], 158: [381, 382], 159: [383], 160: [384], 161: [385], 162: [386], 163: [387, 388], 164: [389], 165: [390], 166: [391], 167: [392], 168: [393], 169: [394, 397, 398, 399, 400, 401, 402], 170: [403], 171: [404], 172: [405], 173: [406, 410], 174: [407, 408, 409], 176: [411], 178: [412], 179: [413], 180: [414, 415, 416, 417, 418], 181: [419, 420, 421], 183: [422], 184: [423], 185: [424], 187: [425], 188: [426, 427], 191: [429], 192: [430], 193: [431, 432], 194: [433], 195: [434, 435], 196: [436], 197: [437, 438], 199: [439], 200: [440], 202: [441], 203: [442, 443, 444], 204: [445], 205: [446], 206: [447, 448], 207: [449], 208: [450, 451], 209: [452], 210: [453], 211: [454], 212: [455], 213: [456, 457], 214: [458], 215: [459, 460], 216: [461, 462], 217: [463], 219: [465], 220: [466, 467, 468], 222: [469], 223: [470], 224: [471], 225: [472], 226: [473, 474], 228: [475], 229: [476], 231: [478], 234: [479], 235: [480], 236: [481, 482], 237: [484], 239: [485], 240: [486, 487], 241: [488], 242: [489, 492], 243: [493], 244: [494], 245: [495]}\n",
      "(1, 4)\n",
      "{0: [189], 1: [190], 2: [191, 192, 193, 194, 195], 4: [196], 5: [197, 198], 6: [199], 7: [200], 8: [201, 202], 9: [203], 10: [204], 11: [205], 12: [206, 207], 15: [208], 16: [209, 210, 211, 212, 213, 214, 215, 216, 217, 218, 219], 17: [220], 18: [221], 19: [222], 20: [223, 224], 21: [225], 22: [226, 227, 228], 23: [229], 24: [230], 25: [231], 26: [232, 233], 29: [235], 31: [237], 32: [238], 33: [239], 34: [240], 35: [241], 36: [242, 243], 39: [244], 40: [245], 41: [246], 42: [247], 43: [248, 249], 44: [250], 45: [251], 46: [252, 253, 254, 255, 256], 47: [257], 48: [258], 49: [259], 50: [260], 51: [261], 52: [262], 54: [263, 264, 265], 56: [266], 57: [267], 58: [268, 269], 60: [270], 61: [271], 62: [272], 63: [273], 64: [274, 275], 65: [276, 277], 67: [279], 69: [280], 71: [282], 72: [283], 73: [284, 285], 75: [286, 287], 76: [288], 77: [289], 78: [290], 79: [291, 292, 293, 294, 295], 80: [296, 297, 298], 82: [299, 300, 301], 83: [302, 303], 84: [304], 85: [305], 86: [306, 307], 87: [308], 89: [309], 92: [310, 311], 93: [312], 94: [313], 95: [314, 315], 96: [316, 317], 97: [318, 319], 99: [320, 321], 100: [322], 101: [323], 102: [324], 103: [325, 326, 327, 328], 104: [329], 105: [330, 331], 106: [332], 107: [333], 108: [334], 109: [335, 336], 110: [337], 111: [338, 339], 113: [340], 114: [341, 342], 115: [343], 116: [344], 119: [346, 347, 348, 349], 120: [350], 121: [351], 122: [352, 353], 123: [354], 124: [355], 128: [357], 129: [358, 360], 130: [361], 131: [362], 132: [363], 133: [364, 365, 366], 134: [367], 137: [369, 370], 138: [371], 139: [372, 373], 141: [375], 142: [376], 144: [377], 146: [378], 148: [379], 149: [380, 381], 150: [382], 151: [383], 152: [384], 153: [385, 386, 387, 388, 389, 390], 154: [391, 392], 155: [393, 394, 395], 156: [396], 157: [397, 398], 158: [399], 159: [400, 401, 402, 403], 160: [404], 161: [405, 406], 162: [407], 163: [408, 409, 410], 164: [411, 412, 413, 414], 165: [415], 167: [416, 417, 418, 419, 420, 421, 422], 168: [423], 169: [424, 425], 170: [426], 171: [427], 172: [428], 173: [429, 430], 174: [431, 432, 433], 175: [434], 176: [435], 178: [436], 179: [437], 180: [438], 181: [439], 182: [440], 184: [441, 442], 186: [443], 187: [444], 188: [445, 446], 189: [447], 190: [448, 449], 192: [450, 451, 452, 453], 193: [454], 194: [455], 195: [456], 196: [457, 458], 197: [459], 199: [461], 202: [462], 203: [463, 464], 204: [465], 205: [466], 206: [467], 207: [468], 208: [469], 209: [470], 210: [471, 472], 212: [473], 213: [474], 215: [475, 476], 216: [477], 217: [478, 479], 218: [480], 220: [481]}\n",
      "(1, 5)\n",
      "{0: [189], 1: [190, 191], 2: [192, 193], 3: [194], 4: [195], 5: [196, 197], 6: [198], 7: [199], 8: [200, 201], 9: [202], 10: [203], 11: [204], 12: [205], 13: [206], 14: [207], 17: [209], 18: [210, 211], 19: [212], 20: [213], 21: [214, 215], 22: [216], 23: [217], 24: [218], 27: [220], 28: [221], 29: [222], 30: [223], 31: [224], 32: [225, 226], 33: [227], 34: [228], 35: [229], 36: [230], 37: [231, 232, 233], 38: [234], 39: [235, 236], 40: [237], 41: [238], 42: [239], 43: [240], 44: [241, 242], 45: [243], 46: [244], 47: [245, 246, 247], 48: [248, 249], 49: [250, 251], 50: [252], 51: [253], 52: [254], 53: [255], 54: [256], 55: [257], 56: [258], 57: [259], 58: [260], 59: [261, 262, 263, 264], 60: [265, 266, 267, 268], 61: [269], 62: [270], 63: [271], 64: [272], 65: [273], 66: [274], 68: [275], 71: [277], 73: [279], 74: [280], 75: [281], 77: [282], 78: [283], 79: [284], 80: [285], 81: [286, 287], 82: [288], 83: [289, 290, 291], 85: [292], 86: [293], 87: [294, 295], 88: [296, 297, 298], 89: [299], 90: [300, 301], 91: [302], 92: [303], 94: [305], 95: [306], 96: [307], 97: [308], 99: [309], 100: [310], 102: [311, 312], 103: [313], 104: [314], 105: [315], 106: [316], 107: [317], 108: [318], 109: [319], 110: [320, 321], 111: [322], 112: [323], 113: [324], 114: [325], 115: [326], 116: [327], 117: [328, 329], 118: [330], 119: [331], 120: [332], 121: [333, 334], 122: [335, 336, 337], 123: [338], 125: [339, 340, 341, 342], 126: [343, 344], 127: [345, 346, 347, 349, 350, 351], 128: [352, 353, 354], 129: [355], 130: [356], 132: [357, 358, 359], 133: [360, 361], 134: [362, 364], 136: [365], 137: [366, 367, 368, 369], 139: [370], 140: [371], 141: [372], 142: [373], 143: [374], 145: [375, 376], 146: [377], 147: [378], 148: [379], 149: [380, 381], 150: [382], 151: [383], 154: [384], 155: [385], 156: [386, 387], 157: [388, 389], 158: [390], 161: [391], 162: [392, 393, 394, 395], 163: [396], 164: [397], 165: [398, 399, 400, 401, 402, 403], 166: [404], 167: [405, 406, 407, 408], 172: [411], 173: [412, 413], 176: [414], 178: [415], 179: [416], 180: [417], 181: [418], 183: [419, 420], 184: [421], 185: [422], 186: [423, 424, 425], 188: [427, 428], 189: [429, 430], 190: [431], 193: [433], 194: [434], 196: [435], 198: [437], 199: [438], 200: [439], 201: [440], 202: [441, 442], 203: [443], 204: [444], 205: [445], 206: [446], 207: [447], 208: [448], 210: [449, 450], 211: [451], 212: [452], 214: [453], 215: [454, 455], 216: [456], 217: [457, 458, 459], 218: [460, 461], 219: [462, 463, 464], 220: [465], 221: [466], 222: [467, 468]}\n",
      "(1, 6)\n",
      "{0: [196, 197], 1: [198], 2: [199], 3: [200], 4: [201, 202], 5: [203], 6: [204], 7: [205], 8: [206], 9: [207], 10: [208], 11: [209], 13: [210], 14: [211], 15: [212, 213], 16: [214, 215], 18: [216], 19: [217], 20: [218, 219, 220], 22: [221], 23: [222], 26: [223], 27: [224], 28: [225], 29: [226], 31: [227], 32: [228], 33: [229], 34: [230], 35: [231], 41: [235], 42: [236, 237], 43: [238], 44: [239], 48: [240], 49: [241], 50: [242], 51: [243], 52: [244], 53: [245, 246, 247], 55: [248], 57: [249], 58: [250], 59: [251, 252, 253, 254, 255, 256], 60: [257, 258], 61: [259, 260], 62: [261], 63: [262, 263], 65: [264], 66: [265, 266], 67: [267], 68: [268], 69: [269, 270, 271], 70: [272, 273], 71: [274, 275], 72: [276], 73: [277, 278], 77: [279, 282], 78: [283, 284], 79: [285], 80: [286], 81: [287], 82: [288], 83: [289, 290], 84: [291], 85: [292], 86: [293, 294], 88: [296], 89: [297, 298], 90: [299], 91: [300], 92: [301, 302, 303], 94: [304], 95: [305], 96: [306, 307], 97: [308, 309], 98: [310], 99: [311], 100: [312], 101: [313, 314], 102: [315], 103: [316], 104: [317, 318], 105: [319], 106: [320, 321, 322, 323], 107: [324], 108: [325], 109: [326, 327], 110: [328], 111: [329], 112: [330], 113: [331, 332], 114: [333], 116: [334, 335, 336, 337], 117: [338], 118: [339, 340], 119: [341], 120: [342], 121: [343], 123: [345], 124: [346], 126: [347], 127: [348], 128: [349, 350], 132: [351], 133: [352], 134: [353], 135: [354], 136: [355], 137: [356], 139: [357], 140: [358], 141: [359, 360], 142: [361], 143: [362], 144: [363], 145: [364], 148: [366], 149: [367, 368], 150: [369], 151: [370, 371], 152: [372, 373], 153: [374], 154: [375], 155: [376, 377], 156: [377], 157: [378], 158: [379, 380], 159: [381], 160: [382, 383, 384], 161: [385], 162: [386, 387], 163: [389], 164: [390], 165: [391], 166: [392], 167: [393], 168: [394], 169: [395], 170: [396], 171: [397], 172: [398], 173: [399], 174: [400], 175: [401, 402], 176: [403], 177: [404], 178: [405], 179: [406], 180: [407, 408], 182: [409, 410], 183: [411], 184: [412, 413], 185: [414, 415], 186: [416], 187: [417], 188: [418], 189: [419], 190: [420], 191: [421, 422, 423, 424, 425], 192: [426], 193: [427], 195: [428], 196: [429], 197: [430], 198: [431, 432], 199: [433], 200: [434], 201: [435], 202: [436], 203: [437], 204: [438, 439], 206: [440, 441], 207: [442], 208: [443, 444, 445], 209: [446], 210: [447, 448, 449, 450], 212: [452], 217: [454], 219: [455], 220: [456], 221: [457, 458], 222: [459], 223: [460, 461, 462, 463, 464], 225: [465], 226: [466], 229: [468], 232: [469], 233: [470], 234: [471], 235: [472, 473], 236: [474], 237: [475, 476], 238: [477], 239: [478], 242: [479, 480], 244: [481], 245: [482, 483], 246: [484], 247: [485], 249: [487], 250: [488, 489, 490]}\n",
      "(1, 7)\n",
      "{0: [180, 181], 1: [182, 183], 3: [184, 186], 5: [185], 6: [187], 7: [188, 189], 8: [190, 191, 192, 193], 9: [194], 10: [195], 11: [196], 12: [197], 13: [198], 16: [200], 17: [201, 202], 19: [203, 204, 205, 206], 20: [207], 21: [208], 22: [209], 23: [210], 24: [212], 25: [213], 26: [214, 215], 27: [216], 28: [217, 218, 219, 220], 29: [221], 30: [222], 31: [223], 32: [224], 33: [225, 226], 34: [228], 35: [230], 36: [231, 232], 37: [233], 39: [234, 235, 236], 41: [237], 42: [238], 43: [239, 240], 44: [241], 45: [242], 46: [243], 47: [244], 48: [245], 49: [246], 50: [247, 248], 51: [249], 52: [250], 53: [251], 55: [252, 253], 56: [254], 58: [255, 256], 59: [257], 60: [258], 61: [259], 62: [260], 63: [261, 262], 64: [263], 65: [264], 68: [266], 69: [267], 70: [268], 71: [269], 73: [271], 74: [272], 75: [273], 77: [274], 79: [275, 276, 277], 80: [278, 279], 81: [280], 82: [281], 83: [282], 84: [283], 85: [284], 86: [285, 286], 87: [287], 88: [288], 90: [289], 91: [290], 92: [291], 93: [292], 95: [293, 294, 295], 96: [296], 97: [297, 298, 299], 98: [300], 99: [301], 100: [302], 102: [303], 104: [304], 106: [305, 306, 307], 107: [308], 109: [309], 110: [310, 311, 312], 111: [313], 112: [314], 113: [315], 117: [316, 317, 318, 319], 118: [320], 119: [321, 322], 121: [321, 322, 324], 122: [325, 326], 123: [327], 124: [328], 125: [329], 126: [330], 127: [331], 128: [332], 129: [333, 334], 130: [335], 131: [336, 337], 132: [338], 133: [339, 340], 134: [341, 342, 343], 135: [344], 136: [345, 346], 137: [347], 138: [348], 140: [349], 141: [350], 143: [351], 144: [352], 147: [354], 148: [355], 149: [356], 150: [357, 358, 359], 151: [360], 153: [362, 363], 155: [365], 156: [366, 367, 368], 157: [369], 159: [370, 371], 160: [372], 161: [373, 374], 162: [375, 376], 163: [377], 164: [378], 165: [379], 166: [380], 167: [381], 168: [382], 169: [383, 384], 170: [385, 386], 171: [387], 173: [388], 174: [389], 175: [390], 176: [391, 392, 393], 177: [394], 178: [395], 179: [396], 180: [397, 398], 181: [399], 182: [400, 401], 183: [402, 403], 184: [404, 405], 185: [406], 186: [407], 187: [408], 188: [409], 189: [410], 190: [411], 192: [413], 193: [414], 194: [415], 195: [416], 196: [417, 418], 197: [419, 420], 198: [421], 199: [422], 200: [423, 424], 201: [425], 204: [426, 427, 428, 429], 205: [430], 207: [431], 208: [432], 209: [433], 210: [434], 211: [435], 213: [436], 214: [437], 215: [438], 216: [439, 440, 441], 217: [442], 218: [443], 222: [445], 223: [446], 224: [447], 225: [448], 226: [449], 227: [450], 228: [451, 452], 229: [453], 230: [454], 232: [455, 456], 233: [457], 234: [458], 235: [459], 236: [460], 237: [461], 238: [462], 239: [463], 240: [464], 241: [465], 242: [466], 243: [467], 244: [468], 245: [469, 470], 246: [471], 247: [472], 248: [473], 249: [474], 250: [475], 251: [476], 252: [477], 253: [478, 479], 254: [480], 255: [481], 256: [482], 257: [483, 484], 258: [485], 259: [486, 487, 488], 260: [489], 261: [490], 262: [491], 263: [492], 265: [493], 266: [494], 268: [495], 269: [496], 271: [497], 272: [498], 273: [499], 277: [502], 278: [503], 279: [504], 280: [505, 506], 281: [507], 283: [508]}\n",
      "(1, 8)\n",
      "{2: [164, 165], 3: [166], 4: [167], 6: [168, 169], 7: [170], 8: [171], 9: [172, 173], 10: [174], 11: [175, 176], 12: [177], 13: [178], 15: [179], 17: [180], 18: [181], 19: [182], 20: [183, 184], 21: [185], 22: [186], 24: [187], 25: [188], 26: [189], 27: [190], 28: [191], 30: [193, 194], 31: [195], 32: [196], 33: [197], 34: [198], 35: [199], 36: [200], 37: [201], 38: [202], 41: [204, 205], 43: [206], 44: [207], 45: [208, 209, 210], 46: [211], 47: [212], 48: [213], 49: [215, 216, 217], 51: [218], 52: [219, 220], 53: [221], 54: [222], 55: [223], 58: [225, 226, 227], 59: [228], 60: [229], 61: [230, 231, 232], 62: [233], 63: [234], 64: [235], 65: [236], 66: [237], 68: [238], 70: [239], 71: [240], 72: [241], 73: [242], 74: [243, 244, 245, 246], 75: [247], 76: [248], 77: [249, 250], 78: [251, 252, 253], 80: [254], 81: [255], 83: [256], 84: [257], 85: [258], 87: [259], 89: [260, 261, 262, 263, 264, 265], 90: [266, 267], 91: [268], 92: [269], 93: [270], 94: [271], 95: [272], 96: [273], 98: [274], 99: [275, 276, 277], 100: [278, 279], 101: [280], 102: [281], 103: [282, 283], 104: [284], 105: [285], 106: [286, 287], 107: [288], 108: [290, 291], 110: [292], 111: [293, 295], 112: [296], 113: [297, 298], 115: [299], 116: [300, 302], 117: [301], 120: [303], 122: [304], 123: [305, 306], 125: [307], 126: [308], 127: [309], 128: [310, 311, 312], 129: [313], 130: [314, 317, 318], 131: [319], 132: [320], 133: [321, 322, 323], 134: [324], 136: [325], 137: [326], 138: [327], 139: [328, 329, 330], 141: [331, 332], 142: [333], 143: [334, 335, 336, 337], 144: [338], 146: [339, 340, 341], 148: [342], 149: [343], 150: [344, 345, 346, 347], 152: [348, 349, 350], 153: [351], 154: [352], 155: [353], 156: [354, 355, 356], 157: [357], 158: [358], 159: [359], 160: [360, 361], 161: [362], 163: [363, 364], 165: [365], 166: [366], 167: [367, 368], 169: [369], 170: [370], 171: [371], 172: [372], 173: [373], 174: [374], 175: [375, 376, 377], 176: [378], 177: [379, 380], 178: [381, 382], 179: [383, 384, 385, 386], 180: [387, 388, 389], 181: [390, 392], 183: [393], 184: [394, 395], 185: [396], 186: [397], 187: [398], 189: [399, 400, 401], 190: [402], 191: [403], 192: [404], 194: [406, 407], 195: [408], 197: [409], 199: [410], 200: [411], 201: [412], 202: [413], 203: [414, 415], 204: [416, 417, 418], 205: [419], 208: [421], 209: [422], 210: [423], 211: [424], 214: [425], 215: [426], 216: [427], 217: [428], 218: [429], 219: [430, 431], 220: [432], 221: [433], 222: [434], 223: [435], 224: [436, 437], 225: [438], 226: [439], 227: [440], 228: [441], 229: [442], 230: [443], 231: [444], 232: [445], 233: [446, 447], 235: [448, 449], 236: [450, 451, 452], 237: [453], 238: [454], 239: [455, 456], 241: [457], 242: [458], 243: [459], 244: [460], 245: [461], 246: [462], 247: [463], 248: [464, 465], 249: [466], 252: [467], 253: [468], 254: [469], 255: [470, 471], 256: [472], 257: [473], 258: [474, 475], 259: [476], 260: [477], 261: [478]}\n",
      "(1, 9)\n",
      "{1: [200, 201, 202, 203], 3: [205], 4: [206], 7: [208], 8: [209, 210], 10: [211], 11: [212], 12: [213], 13: [214, 215], 14: [216], 15: [217], 17: [218], 19: [219], 20: [220, 221], 21: [222], 22: [223], 23: [224], 24: [225], 25: [226], 26: [227], 27: [228], 30: [230], 31: [231, 232], 32: [233, 234, 235], 33: [236, 237], 34: [238], 35: [239], 36: [240], 37: [241], 38: [242], 39: [243, 244], 40: [245, 246], 41: [247, 248], 44: [250, 251], 45: [252], 46: [253], 47: [254, 255], 48: [256, 257], 49: [258, 259], 50: [260], 51: [261], 52: [262], 53: [263, 264, 265], 54: [266], 55: [267], 56: [268], 57: [269], 58: [270, 271], 59: [272], 60: [273], 61: [274], 62: [275], 63: [276, 277], 67: [278, 279, 280, 281, 282, 283, 284], 68: [285], 69: [286], 70: [287, 288, 289], 71: [290], 72: [291], 74: [292], 75: [293], 77: [294, 295], 78: [296], 79: [297], 80: [298], 81: [299], 82: [300, 301], 84: [302], 87: [304, 305], 88: [306], 90: [307, 308], 91: [309, 310, 311], 93: [312, 313], 94: [314], 95: [315], 96: [316, 317], 97: [318], 98: [319, 320], 99: [321, 322, 323], 100: [324, 325], 101: [326, 327], 103: [328], 104: [329], 106: [331], 107: [332], 108: [333], 109: [334], 110: [335], 111: [336, 337, 338], 112: [339], 113: [340, 341], 114: [342], 115: [343], 116: [344, 345], 117: [346], 119: [347], 120: [348], 121: [349], 122: [350, 351], 123: [352], 124: [353], 125: [354], 126: [355], 128: [356], 129: [357, 358], 130: [359], 131: [360], 132: [362], 133: [363], 134: [364], 137: [366], 138: [367], 139: [368], 142: [369], 143: [370], 144: [371], 145: [372], 146: [373], 149: [375], 150: [376], 151: [377], 152: [378, 379], 153: [380], 156: [382], 158: [383], 159: [384], 160: [385], 161: [386], 162: [387], 163: [388], 165: [389, 390], 166: [391], 167: [392, 393, 394, 395, 396], 168: [397], 171: [399], 172: [400, 401, 402], 173: [403, 404], 174: [405], 175: [406, 407], 176: [408], 177: [409, 410], 178: [411], 179: [412], 180: [413], 181: [414], 182: [415], 183: [416, 417, 418], 184: [419], 185: [420], 186: [421], 187: [422, 423, 424], 188: [425, 426, 427, 429], 189: [430], 190: [431, 432, 433], 191: [434], 192: [435], 193: [436], 194: [437], 195: [438, 439], 196: [440], 197: [441, 442], 198: [443, 444], 199: [445, 446, 447], 200: [448, 449], 201: [450], 202: [451], 205: [452], 206: [453, 454, 455], 207: [456], 208: [457], 209: [458], 210: [459, 460], 211: [461], 212: [462], 214: [463], 215: [464, 465], 216: [478], 217: [479, 480], 218: [481]}\n",
      "(1, 10)\n",
      "{0: [191], 1: [192, 193], 2: [194, 195], 3: [196], 4: [197, 198], 5: [199], 8: [200], 9: [201, 202], 7: [203], 10: [204], 11: [205], 12: [206], 13: [207, 208, 209], 14: [210], 15: [211, 212], 16: [213], 17: [214], 18: [215], 23: [215, 220], 19: [216], 24: [221], 26: [222], 27: [223, 225], 28: [224], 29: [226], 31: [228], 32: [229], 33: [230], 35: [231], 36: [232], 37: [233], 38: [234], 40: [235], 41: [236], 44: [238, 240], 47: [241], 48: [242], 49: [243, 244, 245], 50: [246], 51: [247], 52: [248], 55: [250], 57: [251], 58: [252], 59: [253, 254, 255], 60: [256, 257], 62: [258, 259], 63: [260], 64: [261], 65: [262], 67: [263], 69: [264], 70: [265], 72: [266, 267], 73: [268], 75: [269], 76: [270, 272], 78: [273], 79: [274], 80: [275], 81: [276], 82: [277], 83: [278], 84: [279, 280], 85: [281, 282], 86: [283], 87: [284], 88: [285], 89: [286], 90: [287, 288, 289, 290], 91: [291], 92: [292], 94: [294], 95: [295], 96: [296, 297], 97: [298, 299], 98: [300, 301, 302], 100: [303], 101: [304], 102: [305], 103: [306], 104: [307, 308], 105: [309], 106: [310], 107: [311], 108: [312], 109: [313], 110: [313, 314], 111: [315], 112: [316, 317], 113: [318], 114: [319], 115: [320, 321], 116: [322], 118: [323, 324, 325], 119: [326], 120: [327], 121: [328], 122: [329], 125: [330], 126: [331], 127: [332], 129: [333], 133: [334, 335, 336], 134: [337, 338], 135: [339], 136: [340, 341], 137: [342], 138: [343, 344, 345, 346], 139: [347], 140: [348, 349, 350], 141: [351], 142: [352, 353, 354], 143: [355], 144: [356], 147: [357, 358], 148: [359], 149: [360], 151: [361], 152: [362, 363], 153: [364, 365, 366], 156: [368], 157: [369, 370], 158: [371], 160: [372, 373], 161: [374, 375], 162: [376], 163: [377, 378], 164: [379], 165: [380], 166: [381], 167: [382, 383, 384], 168: [385], 170: [386], 171: [387, 388, 389], 173: [390], 174: [391], 175: [392], 176: [393, 394, 395, 396], 177: [397, 398], 178: [399], 179: [400, 401], 181: [402, 403], 182: [404, 405, 406], 183: [407, 408], 184: [409], 186: [410, 411], 187: [412, 413], 188: [414], 189: [415, 416], 190: [417], 191: [418], 192: [419], 193: [420, 421, 422], 194: [423], 195: [424, 425], 197: [426], 198: [427, 428], 199: [429, 430], 200: [431], 201: [432], 202: [433], 203: [434], 204: [435, 436, 437, 438, 439, 440, 441], 205: [442], 208: [444], 209: [445], 210: [446, 447], 211: [448], 212: [449], 213: [450], 214: [451], 215: [452], 216: [453], 217: [454], 218: [455], 219: [456], 220: [457, 458, 459], 221: [460, 461], 222: [462, 463], 223: [464], 224: [465, 466]}\n",
      "(1, 11)\n",
      "{0: [189], 2: [190, 191], 3: [192], 4: [193], 5: [194], 7: [195], 8: [196, 197], 9: [198, 199], 10: [200, 201], 11: [202], 12: [203], 13: [204, 205, 206], 15: [207], 16: [208], 17: [209], 18: [210, 211, 212], 19: [213, 214], 20: [215], 21: [216, 217], 22: [218, 219], 23: [220, 221, 222], 24: [223, 224], 25: [225], 26: [226], 27: [227], 28: [228], 29: [229], 30: [230, 231], 33: [232], 34: [233], 35: [234, 235], 36: [236], 37: [237, 238], 38: [239, 240], 39: [241, 242, 243], 40: [244], 41: [245], 42: [246], 43: [247], 45: [248], 46: [249], 47: [250], 48: [251], 49: [252], 50: [253], 51: [254], 52: [255], 53: [256], 55: [257], 56: [258], 57: [259], 58: [260], 60: [261], 61: [262], 62: [263], 63: [264], 64: [265, 266], 65: [267], 66: [268], 67: [269], 68: [270], 69: [271], 70: [272], 71: [273], 72: [274], 73: [275], 74: [276], 76: [277], 77: [278], 78: [279], 79: [280], 80: [281], 82: [282], 83: [283], 84: [284, 285], 85: [286], 86: [287], 87: [288], 88: [289], 89: [290], 90: [291], 91: [292], 92: [293], 93: [294, 295], 94: [296], 97: [298], 99: [299], 100: [300, 301], 101: [302], 102: [303, 304], 103: [305], 104: [306], 105: [307, 308], 106: [309, 310], 107: [311], 108: [312, 313], 109: [314, 315], 110: [316], 111: [317, 318], 112: [319, 320], 113: [321], 114: [322, 323, 324], 115: [325], 116: [326], 117: [327, 328], 118: [329, 330], 119: [331], 120: [332, 333, 334], 121: [335], 122: [336], 123: [337], 124: [338], 126: [339, 340], 127: [341], 128: [342], 129: [343], 130: [344], 131: [345], 132: [346], 134: [347, 350], 133: [348, 349], 135: [351], 136: [353], 137: [354], 138: [355], 139: [356, 357, 358, 359, 360], 140: [361], 141: [362], 142: [363], 143: [364, 365], 144: [366], 145: [367], 146: [368], 147: [369, 370], 148: [371], 149: [372], 150: [373], 151: [374, 375], 152: [376], 153: [377], 154: [378, 379], 155: [380], 156: [381], 158: [382, 383, 384, 385], 160: [386, 387], 161: [388, 389], 162: [390], 163: [391], 165: [392, 393], 166: [394, 395, 396], 168: [397], 170: [399], 171: [400], 172: [401], 173: [402, 403, 404, 408], 174: [409], 175: [410], 176: [411], 179: [412, 413], 180: [414], 181: [415], 182: [416], 183: [417], 184: [418], 185: [419], 186: [420], 188: [421], 190: [422], 191: [423], 192: [424], 193: [425], 195: [426], 196: [428, 432], 197: [433], 198: [434, 435], 199: [436], 200: [437], 201: [438], 202: [439], 203: [440, 441], 205: [442, 443, 444], 206: [445], 207: [446, 447], 208: [448], 209: [449, 450, 451], 213: [453, 454], 214: [455], 215: [456, 457], 216: [458], 217: [459, 464], 218: [465], 220: [466], 221: [467], 222: [468], 223: [469], 225: [470], 226: [471], 227: [472], 229: [473], 231: [475], 232: [476], 234: [477], 236: [478], 237: [479], 238: [480], 239: [481], 240: [482], 241: [483], 242: [484], 243: [485], 244: [486]}\n",
      "(1, 12)\n",
      "{47: [-385], 48: [-384, -383], 49: [-382], 50: [-381], 51: [-380, -379], 52: [-378], 53: [-377], 54: [-376], 55: [-375], 56: [-374], 57: [-373], 58: [-372, -371, -370], 59: [-369, -368], 60: [-367], 62: [-366, -365], 63: [-364, -363, -362, -361, -282], 65: [-359, -258], 66: [-358], 67: [-357], 68: [-356, -355], 69: [-354], 70: [-353, -352], 71: [-351], 72: [-350], 73: [-349, -348], 74: [-347], 75: [-346], 76: [-345, -303, 2, 28], 77: [-344, -343], 78: [-342, -341], 81: [-340], 82: [-339, -338, -15], 84: [-337], 85: [-336], 86: [-335, -334], 87: [-333], 88: [-331, -330, -41], 90: [-328], 93: [-326], 94: [-325, -324, -323], 95: [-322, -321, -33], 98: [-319, -318], 99: [-317, -316, -315, -314], 100: [-313, -312], 101: [-311], 102: [-310, -309, -308, -132, -99, -93], 103: [-307, -248, -199, -130, 1, 28, 334], 20: [-232, -196, -192, -168, -108], 21: [-198, -197, -154, -137, -107, 5], 17: [-149], 104: [335], 105: [336], 106: [337, 338], 107: [339], 109: [341], 110: [342], 111: [343, 344, 345], 112: [346, 347, 348], 113: [349], 114: [350, 351], 118: [352], 119: [353], 120: [354, 355], 122: [356], 123: [357], 124: [358], 125: [359, 360], 126: [361], 127: [362], 128: [363], 129: [364], 130: [365], 131: [366], 132: [367, 368], 133: [369], 134: [370, 371], 135: [372], 136: [373, 374], 137: [375], 139: [376, 377], 140: [378], 141: [379, 380], 142: [381], 143: [382], 144: [383, 384, 385, 386], 146: [387], 148: [388], 149: [389], 150: [390], 151: [391, 392], 152: [393], 153: [394, 395, 396, 397], 154: [398], 155: [399, 400], 156: [401], 157: [402], 158: [403], 159: [404], 160: [405], 161: [406, 407, 408], 162: [409, 410, 411, 412], 163: [413], 164: [414, 415], 165: [416], 166: [417], 167: [418], 168: [419], 169: [420], 170: [421], 171: [422], 172: [423], 176: [425], 177: [426], 178: [427], 179: [428], 180: [429], 181: [430], 184: [432], 185: [433, 434, 435], 186: [436, 437], 187: [438], 188: [439, 440, 441], 189: [442], 190: [443], 191: [444, 445], 192: [446, 447, 448], 193: [449], 194: [450], 195: [451], 196: [452], 197: [453], 198: [454], 199: [455, 456], 201: [458], 204: [460, 461, 462], 205: [463], 206: [464], 207: [465], 208: [466, 467], 210: [468], 211: [469], 213: [470], 214: [471], 215: [472], 216: [473, 474, 475], 219: [477], 220: [478, 479], 221: [480], 222: [481, 482], 223: [483], 224: [484], 225: [485, 486], 226: [487, 488], 227: [489], 228: [490], 229: [491], 230: [492]}\n",
      "(1, 13)\n",
      "{0: [199, 200], 1: [201], 2: [202, 203], 3: [205], 4: [207], 5: [208, 209, 210], 6: [210, 211, 212, 213], 7: [214], 8: [215, 216, 217, 218], 9: [219], 10: [220, 221], 12: [222], 13: [223], 14: [224], 15: [225, 226, 227], 17: [228], 18: [229], 21: [231, 232, 233, 234], 22: [235], 23: [236], 24: [237], 25: [238], 26: [239], 27: [240], 28: [241], 29: [242, 243], 30: [244, 245], 31: [246, 247, 248], 33: [249], 34: [250], 35: [251, 252], 36: [253], 37: [254, 255], 38: [256, 257], 39: [258, 259], 40: [260, 261, 262], 41: [263], 42: [264], 43: [265, 266], 44: [267], 45: [268], 46: [269, 270, 271, 272], 50: [274, 275], 51: [276, 277], 52: [278], 53: [279], 54: [280, 281, 282], 55: [283], 58: [285, 286, 287], 59: [288], 61: [289], 62: [290], 63: [291, 292], 64: [293], 65: [294], 66: [295], 67: [296], 68: [297], 70: [298], 71: [299, 300, 301], 72: [302], 73: [303, 304], 74: [305], 75: [306], 79: [308], 80: [309, 310], 81: [311], 83: [312], 84: [313], 85: [314], 86: [315], 87: [316, 317, 318, 319, 320], 88: [321], 89: [322], 90: [323], 91: [324], 92: [325, 327], 93: [328], 94: [329], 96: [330], 97: [331], 98: [332], 99: [333, 334], 100: [335, 336], 102: [337], 103: [338], 104: [339, 340], 105: [341], 106: [342], 107: [343], 109: [344], 110: [345], 111: [346], 112: [347, 348, 349, 350], 113: [351], 114: [352], 115: [353], 117: [354], 118: [355], 120: [356], 121: [357, 358], 122: [359], 123: [360], 124: [361], 125: [362], 126: [363], 128: [364], 129: [365], 130: [366, 367], 132: [369], 133: [370], 134: [371], 135: [372, 373], 136: [374], 137: [375, 376], 138: [377], 139: [378], 140: [379], 141: [380, 381], 142: [382], 143: [383], 144: [385], 146: [386], 147: [387], 148: [388, 389, 390, 391, 392], 149: [393], 150: [394], 151: [395], 155: [396], 156: [397], 157: [398, 399, 400, 402, 403], 159: [404], 160: [405, 406], 161: [407, 408], 162: [409], 163: [410], 164: [411], 165: [412, 413], 166: [414], 167: [415], 168: [416, 417, 418, 419], 169: [420], 170: [421, 422, 423, 424], 171: [425], 174: [426], 175: [427], 176: [428, 429, 430, 431], 177: [432], 178: [433, 434, 435, 436], 179: [437], 180: [439], 183: [441], 184: [442], 185: [443], 186: [444], 187: [445], 188: [446], 189: [447], 190: [448, 449, 453, 454], 191: [455], 193: [456], 194: [457], 195: [458], 196: [459], 198: [460], 199: [461], 200: [462], 201: [464, 465], 202: [466, 467], 203: [468], 204: [469], 205: [470], 206: [471, 472], 207: [473], 208: [474, 475, 476, 477], 209: [478], 210: [479], 211: [480], 212: [481], 215: [483], 219: [485], 218: [486], 222: [488], 223: [489], 225: [491], 226: [492], 228: [493], 229: [494], 230: [495], 231: [496], 232: [497], 234: [498, 499], 235: [500], 236: [501], 239: [503], 241: [505], 242: [506, 507, 508, 509, 510], 244: [511, 512, 513], 245: [514], 246: [515, 516, 517], 248: [519], 249: [520], 251: [521], 252: [522, 523], 253: [524], 254: [525]}\n",
      "(1, 14)\n",
      "{0: [199, 200], 1: [201], 2: [202, 204, 205], 5: [207], 6: [208], 7: [209], 8: [210, 211], 11: [212], 12: [213], 13: [214], 14: [215, 216], 15: [217], 16: [218], 17: [219], 18: [220, 221, 222], 20: [223], 22: [226], 24: [228, 231], 33: [234], 34: [235], 35: [236, 237], 36: [238], 37: [239, 240], 38: [241, 242, 243], 39: [244, 245], 40: [246], 41: [249], 42: [250, 251], 43: [252, 253], 44: [254, 255], 45: [256], 46: [257], 47: [258], 48: [259], 49: [260, 261], 50: [262, 263, 264, 265, 268], 51: [269], 52: [270], 53: [271], 54: [272], 57: [274], 59: [276], 60: [277], 62: [278], 65: [279, 283], 63: [280, 281], 64: [282], 66: [284], 67: [285, 286, 287], 68: [288], 69: [289], 70: [290], 71: [291, 292, 293], 72: [294], 73: [295], 74: [296, 297], 75: [298, 299], 76: [300], 77: [301, 302], 78: [303], 79: [304, 305, 306, 307, 308], 80: [309], 81: [310, 311, 312], 82: [313], 83: [314, 315, 316], 84: [317], 85: [318], 86: [319, 320], 88: [321], 89: [322], 90: [323], 91: [324], 93: [325, 326, 327, 328], 94: [329], 95: [331], 96: [332], 97: [333, 334], 98: [335], 99: [336, 337], 100: [338, 339], 101: [340, 341], 102: [342], 103: [343], 104: [344, 345, 346], 105: [347], 106: [348], 107: [349], 108: [350, 351], 109: [352], 110: [353], 112: [354, 355, 356], 113: [357], 115: [359, 360, 361, 362], 117: [363, 364, 365], 118: [366, 367], 119: [368, 369], 121: [370], 123: [371, 372], 124: [373], 125: [374, 375, 376, 377], 126: [378], 127: [379, 380], 128: [381], 129: [382], 130: [383], 131: [384], 132: [385], 133: [386, 387, 388, 389], 134: [390], 135: [391, 392], 136: [393], 137: [394], 138: [395], 139: [396], 140: [397, 398], 141: [399, 400, 401], 142: [402], 143: [403, 404, 405], 144: [406], 145: [407, 408], 146: [409], 147: [410], 149: [411], 151: [412], 152: [413], 153: [414, 415], 154: [416], 155: [417], 156: [418], 157: [419], 159: [420], 161: [421], 162: [422, 423, 424], 163: [425], 164: [426], 165: [427], 166: [428, 429], 168: [430], 170: [431], 171: [432], 172: [433], 173: [434], 174: [435], 176: [437], 177: [438], 178: [439], 179: [440, 441, 442], 180: [443, 444], 181: [445], 182: [446], 183: [447], 184: [448], 186: [449], 187: [450, 451], 188: [452], 189: [453, 454], 190: [455], 191: [456], 192: [457], 193: [458, 459], 194: [460], 195: [461], 196: [462, 463], 197: [464, 465], 198: [466, 467], 199: [468], 200: [469], 201: [470], 202: [471], 203: [472], 204: [473], 205: [474, 475, 476, 477, 478], 206: [479, 480], 207: [481], 208: [482], 210: [483, 484, 485, 486, 487], 211: [488, 489], 212: [490], 213: [491, 492], 214: [493], 215: [494, 495], 219: [496, 497], 220: [498], 221: [499], 222: [500], 223: [501], 224: [502], 225: [503], 226: [504], 227: [505, 506, 508], 228: [509], 229: [510], 230: [511], 231: [512, 513], 232: [514, 515]}\n",
      "(1, 15)\n",
      "{0: [176], 1: [177, 178], 2: [179, 180], 3: [181, 182, 183], 4: [184, 185], 5: [186, 187], 6: [188], 7: [189, 190], 8: [191], 9: [192], 11: [193, 194], 12: [195], 13: [196], 14: [197, 198], 16: [199, 200], 17: [201, 202], 18: [203, 204, 205], 19: [206], 20: [207, 208], 24: [210], 25: [211], 27: [212, 213], 28: [214], 29: [215, 216], 30: [217, 218], 31: [219, 220, 221], 32: [222], 33: [225], 34: [226, 227], 35: [228], 36: [229], 37: [230], 38: [231, 232], 39: [233], 40: [234, 235, 236], 42: [237], 43: [238, 239, 240], 44: [241], 45: [242], 46: [243], 47: [244, 245], 48: [246], 49: [247], 50: [248], 51: [249], 52: [250, 251], 53: [252], 54: [253], 55: [254], 56: [255], 57: [256], 58: [257], 59: [258, 259], 60: [260], 61: [261], 62: [262, 263], 63: [264], 64: [265], 65: [266], 66: [267, 268, 269, 270, 271, 272], 68: [273], 69: [274], 70: [275, 276], 72: [277, 278], 73: [279], 74: [280], 75: [281], 76: [282], 77: [283], 78: [284, 285, 286], 79: [287], 80: [288], 81: [289], 82: [290], 83: [291, 292], 84: [293], 85: [294], 86: [295, 296], 87: [297], 88: [298], 89: [299], 90: [300], 91: [301], 92: [302], 94: [303], 95: [304, 305], 96: [306], 97: [307, 308], 98: [309], 99: [310], 100: [311], 104: [312], 106: [313], 107: [314], 108: [315, 316], 109: [317], 110: [318, 319], 111: [320, 321], 112: [322], 113: [323], 114: [324, 325, 326], 115: [327], 116: [328], 118: [330], 119: [331, 332], 120: [333], 121: [334], 122: [334, 335, 336], 123: [337], 124: [338], 125: [339, 340], 126: [341], 127: [342], 128: [343], 129: [344, 345], 131: [346], 132: [347], 133: [348, 349], 134: [350, 351], 136: [352], 137: [353], 138: [354], 139: [355, 356], 140: [357], 141: [358, 359, 360, 361], 142: [362], 143: [363, 364], 144: [365], 146: [366, 367], 147: [368], 148: [369, 370], 149: [371], 150: [372, 373], 151: [374], 152: [375], 154: [376, 377], 155: [378, 379], 156: [380], 157: [381, 382], 158: [383, 384], 159: [385], 160: [386, 387], 161: [388], 163: [389], 164: [390, 391, 392], 166: [393, 394], 167: [395], 168: [396], 169: [397, 398], 170: [399], 171: [400, 401, 402, 403], 173: [404, 405, 406], 174: [407], 175: [408, 409], 176: [410, 411, 412], 177: [413, 414, 415, 416], 178: [417, 418, 419, 421], 179: [422], 181: [423, 424, 425, 426], 182: [427, 428], 183: [429], 184: [430, 431], 185: [433, 434], 186: [435], 188: [437], 191: [438, 439], 192: [441], 193: [443], 194: [444, 446], 195: [447], 196: [448], 198: [449, 450], 199: [451], 200: [452, 453], 202: [454], 203: [455, 456], 204: [457, 458], 205: [459], 209: [461], 210: [462], 211: [463, 464], 214: [465, 466], 215: [467], 216: [468, 469], 220: [470, 471, 472], 221: [473], 222: [474, 475], 223: [476, 477], 224: [478], 225: [479], 226: [480], 227: [481], 228: [482, 483], 230: [484], 231: [485], 232: [486], 233: [487], 234: [488, 489], 237: [491]}\n",
      "(1, 16)\n",
      "{0: [184], 1: [185], 2: [186], 3: [187, 188], 4: [190, 191], 5: [192, 193], 6: [194], 8: [195], 9: [196], 10: [197], 11: [198], 12: [199, 200], 13: [201, 202], 14: [203, 204], 15: [205], 17: [206], 19: [207, 208], 20: [209], 21: [210], 22: [212], 23: [213, 214, 215], 24: [216], 25: [217, 218], 26: [219, 220], 27: [221], 28: [222], 29: [223, 224, 225, 226, 227], 31: [228], 32: [229], 33: [230, 231], 34: [232], 35: [233, 234], 36: [235], 37: [236, 237], 38: [238], 40: [240, 241], 41: [242], 42: [243], 43: [244, 245], 44: [246], 45: [247], 46: [248], 47: [249, 250], 48: [251], 49: [252, 253, 254], 50: [255, 256, 257], 52: [258, 259], 53: [260], 54: [261], 55: [262], 56: [263], 57: [264, 265, 266, 267, 268], 58: [269], 59: [270], 60: [271, 272], 61: [273, 274], 62: [275], 63: [276], 65: [278], 66: [279], 67: [280], 68: [281], 69: [282, 283], 70: [284], 75: [287], 76: [288], 77: [289], 78: [290, 291, 292, 293], 79: [294], 80: [295], 81: [296], 82: [297], 84: [298], 85: [299], 86: [300], 87: [301], 88: [302, 304], 89: [305, 306], 91: [307], 92: [308], 93: [309], 94: [310], 95: [311], 98: [312], 100: [313], 101: [314], 102: [315, 316, 317], 103: [318], 104: [319], 105: [320, 321], 106: [322], 107: [323], 108: [324], 111: [326], 112: [327, 328], 113: [329, 330], 114: [331], 115: [332, 333], 116: [334], 117: [335], 118: [336], 120: [337, 338], 121: [339, 340, 342, 343, 344], 124: [345], 125: [346], 126: [347], 127: [348], 128: [349], 130: [350], 131: [351], 132: [352, 355, 356], 133: [357], 134: [358], 135: [359], 136: [360], 138: [361, 362], 139: [363], 141: [364], 142: [365, 366], 143: [367], 144: [368], 146: [369, 370, 371], 148: [372], 149: [373], 150: [374], 153: [375], 154: [376], 156: [377], 157: [378], 158: [380], 159: [381], 160: [382, 383], 162: [384], 164: [386], 165: [387], 166: [388], 167: [389, 390, 391], 170: [393, 394], 171: [395], 172: [396], 173: [397], 174: [398], 175: [399], 177: [400], 178: [401], 179: [402], 180: [403, 404], 181: [406], 182: [407], 183: [408, 409], 184: [410], 186: [411, 412], 188: [414], 189: [415], 190: [416], 191: [417], 192: [418], 193: [419], 194: [420, 421], 195: [422], 196: [423], 197: [424, 425], 198: [426], 199: [427, 428], 200: [429, 430], 201: [431, 432], 203: [433], 204: [434], 205: [435], 207: [436], 208: [437, 438], 209: [439], 210: [440], 211: [441], 214: [443, 444], 215: [445], 216: [446], 218: [448], 219: [449], 220: [450, 451], 221: [452, 453, 454], 222: [455], 226: [457], 227: [458], 228: [460], 229: [461, 462], 230: [463, 464, 465, 466, 496], 231: [467, 468], 232: [469], 233: [470], 234: [471], 236: [473]}\n",
      "(2, 4)\n",
      "{0: [192], 1: [193], 2: [194], 3: [195], 4: [196], 5: [197], 6: [198, 199, 200], 7: [201], 8: [202], 9: [203], 11: [205], 13: [206, 207, 208, 209], 14: [210], 16: [212, 213, 214, 215, 216], 17: [217, 218], 18: [219, 220, 221, 222], 19: [223], 20: [224, 225, 226, 227], 21: [228], 22: [229], 23: [230, 231], 25: [233, 234, 235, 236], 26: [238], 27: [239], 28: [240, 241], 29: [242], 30: [243, 244, 245, 246, 247, 248], 31: [249], 32: [250], 33: [251, 252], 34: [253, 254, 255, 256, 257, 258], 35: [259, 260], 36: [261], 37: [262, 263, 264, 265], 38: [266, 267], 39: [268], 40: [269], 41: [270, 271, 272, 273, 274, 275, 276, 277], 42: [278, 279], 43: [280], 44: [281], 45: [282, 283, 284], 46: [285], 47: [286, 287], 48: [288], 49: [289, 290], 50: [291], 51: [292, 293], 52: [294], 53: [295], 54: [296, 297, 301], 55: [298], 56: [299, 300, 302, 303, 304], 57: [305, 306, 307], 58: [308], 60: [309, 310], 61: [311], 62: [312, 313], 63: [314, 315], 64: [316], 65: [317, 318, 319, 320, 321, 322, 323], 66: [324], 68: [325], 69: [326, 327], 70: [328], 71: [329, 330], 72: [331], 73: [332], 74: [334], 75: [335, 336], 78: [338], 79: [339], 84: [342, 343, 344, 345], 85: [346], 86: [347, 348, 349], 87: [350, 351, 352], 88: [353], 89: [354], 90: [355, 356], 91: [357], 92: [358], 93: [359], 95: [360, 361], 96: [362, 363], 98: [364], 99: [365, 366, 368], 100: [367], 103: [369, 370, 371], 104: [372], 105: [373, 374, 375], 106: [376], 107: [377, 378], 108: [379, 380], 109: [381], 111: [382, 383, 384], 113: [386, 387, 388, 389, 390, 391, 392, 393], 114: [394, 395], 115: [396, 397], 116: [398, 399, 400], 117: [401], 119: [402, 403, 404, 405, 406], 120: [407], 121: [408, 409], 123: [410, 411], 126: [412, 413, 414], 127: [415], 128: [416, 417, 418, 419], 129: [420, 421, 422, 423, 424, 425, 426], 130: [427, 428], 131: [429], 132: [430], 133: [431], 134: [432], 135: [433], 136: [434], 137: [435], 138: [436], 139: [437, 438, 439, 440], 140: [441, 442, 443], 141: [444, 445], 142: [446, 447, 448], 143: [449], 144: [450, 451], 145: [452], 146: [453], 147: [454, 455], 150: [456, 457], 151: [458], 153: [460], 154: [461, 462], 155: [463, 464, 465], 156: [466], 157: [467], 158: [468], 159: [469, 470], 160: [471, 472], 161: [473, 474], 162: [475], 165: [477], 167: [478], 169: [479], 171: [480], 173: [481], 177: [483, 484, 485, 486], 179: [487, 488], 180: [489], 181: [490, 491], 182: [492], 183: [493, 494], 184: [495], 185: [496, 497], 186: [498, 499, 500], 187: [501, 502], 188: [503], 189: [504], 190: [505, 506], 191: [507], 195: [508, 509], 196: [510], 199: [512], 201: [513, 514], 202: [515], 203: [516, 517, 518], 204: [519], 205: [520, 521], 206: [522], 207: [523, 524, 525, 526], 210: [527], 211: [528], 212: [529, 530, 531, 532, 533, 534], 213: [535], 214: [536, 537, 538], 216: [539], 217: [540], 218: [541, 542, 543, 544, 545, 546], 219: [547, 548], 220: [549, 550, 551], 221: [552], 222: [553, 554, 555, 556, 557, 558, 559, 560], 223: [561], 224: [562, 563], 225: [564, 565, 566], 226: [567, 568], 227: [569, 570], 230: [572, 573], 232: [574], 234: [575], 235: [576], 236: [577], 237: [578, 579, 580], 238: [581], 239: [582], 240: [583], 241: [584, 585], 242: [586], 243: [587], 244: [588], 245: [589], 246: [590], 247: [591, 592], 248: [593, 594, 595], 249: [596], 250: [597, 598, 599], 251: [600, 601, 602, 603], 252: [604], 253: [605, 606, 607, 608, 609], 254: [610], 255: [611, 612, 613], 257: [614]}\n",
      "(2, 6)\n",
      "{0: [195, 196, 199], 2: [200], 3: [201], 4: [202, 203], 5: [204, 205, 206, 208, 209, 210], 6: [211], 7: [212, 213, 214, 215, 216, 217], 8: [218], 9: [219, 220], 10: [221, 222, 223], 11: [224], 12: [225], 13: [226], 16: [228], 17: [229, 230], 18: [231], 19: [232, 233], 20: [234, 236], 21: [237], 22: [238], 23: [239, 240], 24: [241, 242], 25: [243], 27: [244], 28: [245], 29: [246], 30: [247], 31: [248, 249, 250], 32: [251], 33: [252], 34: [253], 35: [254], 36: [255], 37: [256], 39: [257], 40: [258, 259, 260], 41: [261], 42: [262, 263, 264], 43: [265, 266], 44: [267], 45: [268], 46: [269], 47: [270, 271], 48: [273], 49: [274], 51: [276], 52: [277], 53: [278], 54: [279], 55: [280, 281], 56: [282], 59: [283], 60: [284], 61: [285, 286], 62: [287], 63: [288, 289, 290], 65: [291, 292], 66: [293], 67: [294, 295, 296], 68: [297], 69: [298, 299], 70: [300], 71: [301], 72: [302], 73: [303], 74: [304, 305], 75: [306, 307, 308], 76: [309], 77: [310, 311, 312, 313], 78: [314], 79: [315], 80: [316, 317, 318], 82: [319], 83: [320], 84: [321], 85: [322], 86: [323], 88: [324], 89: [325], 90: [326], 91: [327], 92: [328, 329, 330], 93: [331], 94: [332], 96: [333], 97: [334], 98: [335], 99: [336, 337], 100: [338], 101: [339], 102: [340, 341], 103: [342, 343], 104: [344], 105: [345, 346, 347], 106: [348], 109: [350], 110: [351], 112: [352, 353], 113: [354, 355], 114: [356], 115: [357], 116: [358, 359], 117: [360], 118: [361], 119: [362], 120: [363], 121: [364, 365], 122: [366], 124: [367], 125: [368], 126: [369], 128: [370], 129: [371, 372], 130: [373, 374], 131: [375], 132: [376], 133: [377], 135: [380], 136: [381], 137: [382], 138: [383], 139: [384], 140: [385], 141: [386], 142: [387, 388], 143: [389], 144: [390], 145: [391, 392], 146: [393], 148: [394], 149: [395, 396, 397, 398], 152: [399, 400], 153: [401, 402], 154: [403], 155: [404], 157: [405], 158: [406], 160: [407], 161: [408], 162: [409], 163: [410], 164: [411, 412, 413], 165: [414], 166: [415], 167: [416], 168: [417], 169: [418], 170: [419, 420], 171: [421], 172: [422], 173: [423], 174: [424, 425], 175: [426], 176: [427], 177: [428], 179: [429], 180: [430], 181: [431], 182: [432], 183: [433, 434], 184: [435], 186: [436, 437], 187: [438], 188: [439], 189: [440], 191: [442], 192: [443], 193: [444], 195: [445], 196: [446], 197: [447], 198: [448], 199: [449], 200: [450], 201: [451], 202: [452], 203: [453], 204: [454, 455], 205: [456], 206: [457], 207: [458], 208: [459, 460, 461], 209: [462], 210: [463], 211: [464], 212: [465], 216: [466], 218: [467, 468, 469], 219: [470], 220: [471], 221: [472, 473, 474], 222: [475, 476], 224: [477], 225: [478, 479], 226: [480], 227: [481], 228: [482], 229: [483], 231: [484], 232: [485]}\n",
      "(2, 8)\n",
      "{0: [170], 1: [171], 2: [172], 3: [173], 4: [174], 5: [175], 6: [176, 177], 7: [178], 8: [179, 180], 10: [181, 182, 183, 184, 185, 186, 187], 11: [188], 12: [189], 13: [190], 14: [191], 15: [192, 193, 194], 16: [195], 17: [196], 18: [197, 198], 19: [199], 20: [200, 201], 21: [202], 22: [203, 204], 23: [205, 206], 24: [207], 26: [208, 209], 27: [210], 28: [211], 29: [212], 30: [213], 31: [214], 32: [215], 34: [216, 217, 218], 35: [219], 37: [220, 221], 38: [222], 39: [223], 40: [224, 225], 41: [226, 227], 42: [228, 229, 230], 43: [231], 44: [232], 45: [233, 234], 46: [235], 49: [237], 51: [238, 239], 53: [240], 54: [241], 55: [242, 243], 56: [244], 57: [245, 246], 58: [247], 59: [248, 249], 60: [250, 251], 61: [252, 253], 62: [254], 63: [255, 258], 64: [259, 260], 68: [262], 69: [263], 70: [264], 71: [265, 266], 72: [267, 268, 269, 270], 73: [271], 74: [272, 273, 274], 75: [275], 76: [276], 77: [277], 78: [278], 79: [279], 80: [280], 81: [281], 82: [282, 283], 83: [284], 84: [285], 85: [286, 287], 86: [288], 87: [289], 88: [290], 89: [291], 91: [292], 92: [293], 93: [294], 94: [295], 95: [296], 96: [297], 97: [298], 98: [299], 100: [300, 301], 101: [302, 303], 102: [304], 103: [305], 104: [306], 105: [307], 106: [308], 108: [309], 109: [310], 110: [311], 111: [312], 112: [313], 113: [314], 115: [315], 116: [316], 117: [317], 119: [318], 120: [319], 121: [320], 122: [321, 322, 323], 123: [324], 124: [325], 125: [326], 126: [327], 128: [328], 129: [329], 130: [330], 131: [331], 132: [332], 133: [333], 134: [334, 335, 336], 135: [337], 137: [338], 138: [339], 141: [340], 142: [342, 343, 344, 345, 346], 143: [347], 144: [348], 145: [349], 146: [351, 352, 353, 354, 355], 147: [356], 148: [357], 149: [358], 152: [359, 360], 153: [361, 362], 154: [363], 155: [364], 156: [365], 160: [366], 163: [368], 165: [369], 166: [370], 167: [371], 168: [372, 373], 169: [374], 170: [375], 171: [376, 377], 172: [378, 379, 380, 381], 175: [383], 177: [384], 179: [385, 386], 180: [387], 182: [388], 183: [389], 184: [390], 185: [391, 392, 393], 186: [394], 188: [395, 396], 189: [397, 398], 190: [399], 191: [400, 401, 402, 403, 404, 405, 406, 407], 192: [408], 193: [409], 194: [410], 195: [411], 202: [413, 414], 203: [415], 204: [416], 205: [417, 418, 419], 206: [420], 207: [421, 422], 208: [423], 210: [424], 211: [425], 212: [426], 215: [427], 216: [428], 217: [429], 218: [430], 221: [431, 432], 222: [433, 434], 223: [435, 436, 437], 224: [438], 225: [439], 226: [440, 441, 442]}\n",
      "(2, 9)\n",
      "{0: [197], 1: [198], 2: [199], 4: [200, 201, 202], 5: [203, 204], 6: [205, 206], 7: [207], 8: [208], 9: [209], 12: [210, 211], 13: [212], 14: [213, 214], 16: [216], 17: [217], 18: [218], 19: [219], 20: [220], 21: [221], 22: [222], 23: [223], 24: [224, 225, 226, 227, 228], 25: [229], 26: [230, 231], 27: [232], 28: [233], 29: [234], 30: [235], 31: [236], 32: [237], 33: [238], 34: [239], 35: [240, 241, 242, 243], 36: [244], 38: [245], 39: [246, 247, 248], 41: [249], 42: [250], 43: [251, 252], 44: [253], 45: [254], 46: [255], 47: [256, 257], 49: [260], 50: [261], 51: [262, 263, 264, 265, 266], 53: [267, 268, 269], 54: [270], 55: [271, 272], 56: [273], 57: [274, 275], 58: [276], 59: [277, 278], 60: [279], 61: [280], 62: [281, 282], 63: [283], 65: [284], 66: [285, 286], 67: [287], 68: [288, 289, 290, 291, 292], 70: [292, 293, 294], 72: [295], 73: [296], 74: [297], 75: [298], 76: [299, 300], 77: [301], 78: [302], 79: [303], 80: [304], 81: [305, 306], 82: [307], 83: [308], 84: [309, 310], 85: [311], 86: [312, 314], 87: [315], 88: [316, 317], 89: [318, 319, 320, 321], 90: [322, 323, 324, 325], 91: [326], 95: [328], 96: [329], 97: [330], 98: [331], 99: [332, 333], 101: [334], 103: [335], 104: [336], 105: [337, 338, 339], 107: [340, 341, 342, 343], 108: [344], 109: [345], 110: [346, 347, 348], 111: [349], 112: [350], 113: [351], 114: [352], 115: [353], 116: [354], 117: [355], 118: [356], 119: [357], 120: [358], 121: [359], 122: [360], 123: [361], 124: [362], 125: [363, 364, 365], 126: [366], 127: [367, 368, 369, 370], 128: [371, 372], 133: [374], 135: [375, 376, 377], 136: [378], 137: [379], 139: [381, 382], 141: [383, 384, 386, 387, 388], 142: [389, 390], 143: [391, 392], 147: [394, 395], 149: [396], 150: [397], 151: [398], 152: [399], 153: [400, 401, 402], 154: [403], 155: [404, 405], 158: [407], 159: [408], 160: [409, 410], 162: [411], 163: [412], 164: [413], 165: [414], 166: [415], 167: [416], 168: [417], 169: [418, 419, 420, 421], 170: [422], 171: [423], 172: [424, 425], 174: [426], 175: [427], 176: [428], 177: [429, 430, 431], 178: [432], 179: [433], 180: [434], 181: [435], 182: [436], 183: [437], 185: [438, 439], 186: [440], 187: [441], 189: [442], 192: [444, 445], 193: [446], 194: [447, 448], 195: [449, 450], 196: [451, 452], 197: [453], 198: [454], 199: [455], 200: [456], 201: [457, 458, 459], 203: [461], 204: [462, 463, 464], 205: [465, 466], 206: [467, 468], 207: [469, 470]}\n",
      "(3, 21)\n",
      "{0: [196], 2: [197], 4: [198], 7: [200], 8: [201, 202], 9: [203], 10: [204], 12: [205], 13: [206], 14: [207], 15: [208, 209], 16: [210, 211], 17: [212], 18: [213], 19: [214], 20: [215], 21: [216], 22: [217], 23: [218, 219, 220], 24: [221, 222], 25: [223, 224, 225], 26: [226, 227], 27: [228], 28: [229, 230], 29: [231], 30: [232], 31: [233, 234], 32: [235, 236], 33: [237], 34: [238, 239], 35: [240], 36: [241, 242, 243, 244, 245], 37: [246], 38: [247, 249], 39: [250], 40: [251], 41: [252, 253, 254], 42: [256], 43: [257, 258, 259], 44: [260], 45: [261], 47: [262], 49: [263, 264], 50: [265, 266], 51: [267], 52: [268, 269, 271], 53: [272, 273], 55: [274], 56: [275], 57: [276], 58: [277, 278, 279], 59: [280, 281, 282, 284], 60: [285], 61: [286, 287, 288, 289, 290, 291], 63: [293], 64: [294, 295], 65: [296, 297, 298, 299, 300, 301], 66: [303, 304], 67: [305, 306, 307, 308, 309], 68: [310, 311], 69: [312, 313, 314, 315], 70: [316, 317], 71: [318, 319], 72: [320], 73: [321], 74: [322, 323], 75: [324], 76: [325], 77: [326], 78: [327], 79: [328, 329, 330], 80: [331, 332], 81: [333], 82: [334, 335, 338], 83: [339], 84: [340, 348], 85: [349], 86: [350, 351, 352], 87: [353], 88: [354], 89: [355], 90: [356], 91: [357], 92: [358, 360, 362, 363], 94: [364, 365, 366, 367], 95: [368], 96: [369], 98: [370, 371, 372, 373, 374], 100: [375], 102: [376], 103: [377], 104: [378], 105: [379], 106: [380], 107: [381], 108: [382], 109: [383], 110: [384, 385], 112: [386], 113: [387], 114: [388, 389], 115: [390], 116: [391, 392, 393], 117: [394], 120: [395], 121: [396], 122: [397], 123: [398], 126: [399, 400], 127: [401], 128: [402, 403], 129: [404], 130: [405, 406], 131: [407, 408, 409], 132: [410], 133: [411, 412], 134: [413], 135: [414], 138: [415, 416], 139: [417], 140: [418], 141: [419], 143: [420, 421], 145: [422, 423, 424, 425, 426], 147: [428], 148: [429], 149: [430, 431, 432, 433], 150: [434], 151: [435], 152: [436, 437], 154: [439], 155: [440, 441], 156: [442, 443], 159: [444], 160: [445], 161: [446], 162: [447], 163: [448, 449], 164: [450, 451], 165: [452], 166: [453], 167: [454], 168: [455], 169: [456], 171: [457], 172: [458], 173: [459, 460, 461], 174: [462, 463], 175: [464], 176: [465], 177: [466, 467], 178: [468], 179: [469], 180: [470, 471, 472, 473, 474, 475, 476], 181: [477], 182: [478], 184: [479], 185: [480, 481], 186: [482], 187: [483], 188: [484], 189: [485, 486], 191: [487], 193: [488], 195: [489], 196: [490], 198: [491, 492], 199: [493], 200: [494], 201: [495], 202: [496], 204: [497], 205: [498], 206: [499, 500], 207: [501], 208: [502, 503], 210: [504], 211: [505, 506], 212: [507], 214: [508, 509], 215: [510, 511], 216: [512, 513, 514], 218: [516, 517, 518], 219: [519], 220: [520, 521], 221: [522], 223: [523, 524], 224: [525], 225: [526], 226: [527], 228: [528, 529], 231: [530], 232: [531], 233: [532], 234: [533], 235: [534], 237: [535], 238: [536, 537], 239: [538], 240: [539], 241: [540], 242: [541], 243: [542], 245: [543, 544], 246: [545, 546, 547], 247: [548], 248: [549], 249: [550], 250: [551], 251: [552], 252: [553], 253: [554], 254: [555]}\n",
      "(3, 23)\n",
      "{0: [189], 1: [190], 2: [191], 3: [192, 193], 4: [194], 5: [195], 6: [196, 197], 7: [198, 199, 200], 8: [201, 202, 203, 204], 9: [205], 10: [206], 11: [207], 12: [208], 13: [209], 14: [210], 15: [211, 212], 17: [214], 18: [215], 19: [216, 217], 20: [218], 21: [219, 220], 22: [221], 23: [222], 24: [223, 224, 225], 25: [226], 26: [227], 27: [228], 28: [229, 230], 29: [231], 31: [232, 233], 32: [234], 34: [236, 237], 35: [238], 36: [239], 37: [240], 38: [241], 40: [242, 243], 41: [244], 42: [245], 43: [246], 44: [247], 45: [248], 46: [249, 250], 47: [251], 48: [252], 50: [253], 51: [254, 255], 52: [256], 53: [257], 54: [258, 259, 260, 261], 56: [262], 57: [263], 58: [264], 59: [265], 60: [266], 61: [267], 62: [268], 63: [269, 270, 271], 64: [272, 273], 66: [274, 275, 276], 68: [278, 279], 69: [280], 70: [281], 71: [282], 72: [283, 284], 73: [285], 74: [286, 287], 75: [288, 289], 76: [290], 77: [291], 78: [292], 79: [294], 81: [295], 82: [296], 85: [297, 298], 86: [299], 87: [300, 301, 302], 88: [303], 89: [304], 90: [305], 91: [306, 307], 92: [308], 94: [309, 310], 95: [311], 96: [312], 97: [313, 314], 98: [315], 99: [316, 317, 318], 100: [319, 320], 101: [321], 103: [322], 105: [323], 106: [324], 107: [325], 108: [326], 109: [327, 328], 110: [329, 330], 111: [331], 112: [332], 113: [333, 334], 114: [335], 115: [336], 116: [337], 118: [338], 119: [339], 120: [340, 341], 121: [342], 122: [343, 344, 345], 123: [346], 124: [347], 125: [348], 126: [349], 127: [350], 128: [351, 352, 353, 354], 129: [355], 130: [356], 131: [357], 132: [358, 359, 360], 133: [361], 134: [362], 135: [363, 364], 136: [365], 138: [367], 139: [368, 369], 140: [370, 371], 141: [372, 373], 142: [374], 143: [375, 376], 144: [377], 145: [378], 146: [379, 380], 147: [381, 382], 149: [383, 384], 150: [385], 151: [386, 387, 388], 152: [389], 155: [391], 157: [392], 158: [393, 394], 159: [395], 160: [396], 162: [397, 398], 163: [399], 164: [400], 167: [402], 168: [403], 169: [404, 405, 406], 170: [407, 408], 172: [409, 410], 173: [411], 174: [412], 175: [413], 176: [414], 177: [415], 178: [417], 180: [418], 181: [419, 420], 182: [421, 422], 184: [423, 424], 186: [425], 187: [426], 188: [427], 189: [428, 429], 190: [430], 191: [431], 192: [432], 193: [433], 194: [434], 195: [435], 197: [436, 437], 198: [438], 199: [439], 200: [440], 201: [441, 442], 203: [443, 444, 445], 204: [446, 447], 205: [448, 449, 450], 206: [451], 207: [452], 208: [453, 454, 455], 209: [456], 210: [457, 458], 211: [459, 460], 212: [461], 213: [462], 214: [463, 464], 215: [465, 466, 467], 216: [468], 217: [469], 218: [470], 219: [471, 472], 221: [473], 222: [474], 223: [475, 476], 224: [477], 225: [478], 226: [479], 227: [480], 228: [481], 229: [482], 231: [483], 232: [484], 233: [485], 234: [486, 487, 488, 489], 235: [490], 236: [491], 237: [492, 493], 238: [494, 495, 496], 239: [497, 498, 499], 240: [500, 501], 241: [502], 242: [503], 243: [504, 505], 244: [506], 245: [507], 246: [508]}\n",
      "(4, 1)\n",
      "{3: [177], 4: [178], 5: [179, 180], 6: [181], 7: [182], 8: [183], 9: [184, 185], 10: [186], 11: [187], 12: [188, 189], 13: [190], 14: [191], 16: [192], 17: [193], 18: [194], 20: [196], 21: [197], 22: [198], 23: [199], 24: [200], 25: [201, 202], 26: [203], 27: [204, 205, 206], 28: [207], 29: [209], 31: [212], 32: [213], 33: [221], 34: [222, 223], 35: [224], 36: [225, 226], 37: [227, 229, 230, 231, 233, 234, 236], 40: [238], 41: [239], 44: [240, 243], 45: [244], 46: [245], 47: [246], 48: [247, 248], 49: [249], 50: [250, 251, 252, 253], 51: [254], 52: [255], 54: [259, 260], 55: [261], 56: [262], 57: [263], 59: [264, 265], 60: [266], 61: [267, 268], 64: [269, 270, 271], 65: [272], 66: [273], 67: [274], 72: [276], 73: [277, 278, 279, 280], 75: [282], 76: [283, 284], 77: [285], 78: [286], 79: [287], 80: [288], 81: [289], 82: [290], 84: [291], 88: [293, 294], 89: [295], 90: [296, 297, 298, 299], 91: [300, 301], 94: [302], 95: [303], 96: [304], 97: [305], 98: [306], 99: [307], 100: [308, 310], 102: [311, 312, 313], 103: [314], 104: [315], 105: [316], 106: [317], 107: [318], 109: [320, 321], 110: [322], 111: [323, 324], 113: [325], 114: [326], 115: [327, 328], 116: [329], 117: [330], 119: [331, 332], 121: [333], 122: [334], 124: [335, 336, 337, 338], 125: [340], 126: [341], 130: [342], 131: [343, 344], 132: [345], 133: [346], 134: [347], 135: [348], 137: [350], 138: [351], 139: [352, 353], 140: [354], 141: [355], 142: [356], 143: [357], 144: [358], 145: [359, 360], 146: [361], 147: [362], 148: [363], 149: [364], 150: [365, 367], 151: [366], 152: [368], 153: [369], 154: [371], 155: [372], 156: [373], 157: [374], 159: [375], 160: [376], 161: [377], 162: [378, 379], 163: [380, 381], 164: [382, 383], 165: [384], 169: [386], 172: [387], 174: [388], 175: [389], 176: [390], 177: [391, 392, 393], 178: [394, 395], 179: [396], 180: [397], 181: [398, 399], 182: [400], 183: [401], 184: [402, 403], 185: [404, 405], 186: [406, 408], 187: [410], 188: [411], 189: [412, 413, 414], 193: [415, 416], 194: [417], 196: [418], 198: [419], 199: [420], 200: [421], 201: [422, 423], 202: [424, 425], 203: [426, 427, 428, 429], 204: [430, 431], 205: [432], 206: [433], 207: [434], 208: [435], 209: [436], 212: [438, 439], 213: [440], 214: [441, 442], 215: [443], 216: [444], 219: [447], 220: [448, 451], 221: [452], 222: [453, 454], 225: [455], 226: [456, 457, 458], 227: [459], 228: [460, 461], 229: [462], 230: [463], 231: [464], 232: [465], 233: [466], 234: [467], 235: [468, 469, 470, 471], 236: [472], 237: [473, 474], 238: [475], 239: [476], 240: [478, 479], 241: [480]}\n",
      "(4, 3)\n",
      "{0: [199], 1: [200], 2: [201], 3: [202], 4: [203, 204, 205, 206], 6: [207], 7: [208], 8: [209], 9: [210], 10: [211, 212], 11: [213], 12: [214, 215], 13: [216], 14: [217, 218], 15: [219, 220], 16: [221, 222], 17: [223], 18: [224, 225], 19: [226, 227, 228], 20: [229], 22: [230, 231, 232, 233, 234], 23: [235, 236], 24: [237], 25: [238, 239], 26: [240], 27: [241, 242], 28: [243], 29: [244, 245], 30: [248, 257, 258, 259], 31: [260], 32: [261], 33: [262, 263, 264], 34: [265], 35: [266], 37: [267], 38: [268], 39: [269, 270], 40: [271], 41: [272], 42: [273], 44: [274], 46: [275], 47: [276, 277], 48: [278], 50: [279], 51: [280, 281], 52: [282], 53: [283], 54: [284, 285], 56: [286, 287], 57: [288, 289], 58: [290], 59: [291], 60: [292], 61: [293, 294, 295, 296], 62: [297], 63: [298], 64: [299, 300], 65: [301, 302], 66: [303, 304], 67: [305], 68: [306, 307], 69: [308], 70: [309, 310], 71: [311], 72: [312], 73: [313, 314, 315], 74: [316], 75: [317, 318], 77: [319, 320], 78: [321], 79: [322], 80: [323], 81: [324, 325, 326], 82: [327, 328], 84: [329], 85: [330], 86: [331, 332], 87: [333, 334, 335, 336], 89: [337], 91: [339, 340, 341], 92: [342], 93: [343], 94: [344, 345], 95: [346], 96: [347, 348], 97: [349, 350], 98: [351], 99: [352], 100: [353], 101: [354, 355], 102: [356], 103: [357], 104: [358], 105: [359], 106: [360], 107: [361, 362], 109: [363], 110: [364], 111: [365], 112: [366], 114: [367], 115: [369], 118: [370], 119: [371], 120: [372, 373], 121: [374], 122: [375], 123: [376], 124: [377], 125: [378], 126: [379], 130: [380, 381], 133: [383], 134: [384], 135: [385], 136: [386, 387, 388], 138: [389], 139: [390, 391], 140: [392], 141: [393, 394, 395], 142: [396], 143: [397], 144: [398, 399], 145: [400], 146: [401], 147: [402], 148: [403], 149: [404], 151: [405], 152: [406], 153: [407, 408], 154: [409], 157: [410], 158: [411, 412], 159: [413, 414], 160: [415], 161: [416], 162: [417], 163: [418], 164: [419, 420, 421, 422], 166: [423], 167: [424, 425], 168: [426], 169: [427], 170: [428, 429, 430], 171: [431], 172: [432], 173: [433], 174: [434], 176: [435], 177: [436], 178: [437], 179: [438], 180: [439, 440], 181: [441], 182: [442], 183: [443, 444], 184: [445], 185: [446], 186: [447, 448], 189: [450], 190: [451], 192: [452], 193: [453], 194: [454], 200: [455, 456], 203: [457, 458], 204: [459], 205: [460], 206: [461, 462], 207: [463, 464], 208: [465, 466, 467, 468, 469, 470, 471], 209: [472], 210: [473, 474], 211: [475], 212: [476, 477, 478, 479, 480, 481], 213: [482, 483, 484, 485], 214: [486], 216: [487], 217: [488], 218: [489], 219: [490], 220: [491, 494], 221: [495, 496, 497], 222: [498], 225: [499], 226: [500], 227: [501, 502], 228: [503, 504], 229: [505], 230: [506, 507], 231: [508, 509], 232: [510], 233: [511, 512, 513, 514], 234: [515], 235: [516], 237: [517], 238: [518, 519], 239: [520], 240: [521, 522], 241: [523], 242: [524], 243: [525, 526, 527], 244: [528, 529], 245: [530], 247: [531, 533], 248: [534, 535], 249: [536], 250: [537, 538], 251: [539], 252: [540], 253: [541], 254: [542], 255: [543, 544, 545], 256: [546], 257: [547], 259: [548], 260: [549, 550], 261: [551], 262: [552, 553, 554], 263: [555], 264: [556], 265: [557, 558, 559, 560, 561, 562], 266: [563], 268: [565, 566, 569]}\n",
      "(4, 4)\n",
      "{0: [199], 1: [200, 201], 2: [202, 203, 204, 205], 3: [206, 207], 4: [208], 5: [209], 6: [210, 211], 7: [212, 213], 8: [214], 9: [215, 216], 10: [217, 218], 11: [219, 221, 222], 12: [223, 224], 13: [225], 14: [226], 15: [227], 16: [228], 17: [229, 230], 18: [231], 19: [232, 233, 234, 236], 22: [238], 23: [239], 24: [241], 25: [242], 26: [243], 27: [244], 28: [245], 29: [246], 30: [247, 248], 31: [249, 250], 32: [251], 33: [252], 34: [253], 35: [254], 36: [255, 256, 257], 37: [258], 38: [259, 260], 39: [261], 40: [262], 41: [263, 264], 42: [265], 43: [267], 44: [268], 45: [269], 46: [270], 48: [271, 272], 49: [273, 274], 50: [275, 276], 51: [277, 278], 52: [279], 53: [280], 54: [282, 283], 55: [284], 56: [285, 286], 57: [287, 288], 58: [289], 59: [290], 60: [291], 61: [292], 62: [293, 294], 63: [295], 64: [296, 297], 65: [298], 66: [299, 300], 67: [301], 68: [302, 303], 69: [304, 305], 70: [306], 71: [307], 72: [308], 73: [309], 74: [310], 75: [311, 312], 76: [313], 78: [314], 79: [315], 80: [316], 82: [317], 84: [318], 85: [319], 86: [320, 321], 87: [322], 88: [323], 89: [324], 90: [325], 91: [326], 92: [327], 93: [328], 94: [329], 95: [330, 331], 96: [332], 97: [333], 98: [334, 335, 336], 99: [337], 100: [338, 339], 101: [340, 341], 102: [342, 343], 103: [344], 104: [345], 105: [346], 106: [347, 348], 107: [349, 350], 108: [351], 109: [352], 110: [353], 111: [354, 355], 112: [356, 357], 113: [358], 114: [359, 360], 115: [361], 116: [362], 117: [363, 364, 365], 118: [366], 119: [367], 120: [368], 121: [369, 370, 371], 122: [372], 123: [373, 374], 124: [375], 125: [376], 126: [377], 128: [378], 130: [379], 131: [380], 132: [381, 382], 133: [383], 134: [384, 385], 135: [386], 136: [387], 137: [388], 138: [390], 140: [391], 141: [392, 393], 142: [394], 143: [395, 396, 397, 398], 144: [402], 145: [403, 404], 146: [405], 147: [406], 148: [407], 150: [408], 151: [409, 410], 152: [411, 412], 153: [413, 414, 415], 155: [416], 156: [417], 158: [418, 419], 159: [420, 421], 160: [422, 423, 424], 161: [425], 162: [426, 427], 163: [428], 164: [429, 430, 431], 165: [432], 166: [433, 434], 167: [435], 168: [436], 169: [437], 170: [438], 172: [439], 174: [440, 441], 175: [442], 176: [443], 177: [444], 178: [445], 179: [446, 447], 180: [448], 181: [449], 182: [450], 183: [451, 452], 184: [453], 185: [454], 186: [455, 456], 188: [461, 462], 189: [463, 464, 465, 466], 190: [467], 191: [468, 469], 192: [470, 471], 193: [472], 195: [473], 196: [474, 475, 476], 197: [477], 198: [478], 199: [479], 200: [480], 201: [481], 203: [482], 204: [483, 484, 485], 205: [486], 206: [487, 488], 207: [489], 208: [490], 209: [491], 210: [492], 211: [493], 212: [494], 213: [495], 214: [496], 215: [497, 498, 499], 216: [500, 501], 217: [502], 218: [503, 504], 219: [505], 220: [506, 507], 221: [508, 509], 222: [510], 223: [511], 225: [512, 513], 226: [514, 515, 516], 227: [517, 518, 520], 228: [521], 229: [522, 523], 230: [524], 231: [525], 232: [526], 233: [527, 528], 234: [529], 235: [530], 236: [531, 532, 533], 237: [534, 535, 536], 238: [537, 538], 239: [539], 240: [540, 541], 241: [542], 242: [543], 243: [544, 545], 244: [546, 547], 245: [548], 246: [549], 247: [550]}\n",
      "(4, 5)\n",
      "{0: [176], 1: [177, 178, 179], 3: [180], 4: [181], 5: [182, 183, 184, 185], 6: [186, 187, 188], 7: [189, 190, 191], 9: [192], 10: [193], 11: [194, 195], 12: [196], 13: [197, 198], 14: [199], 15: [200, 201], 16: [202], 17: [203], 18: [204], 19: [205], 20: [206, 207, 208], 21: [209], 22: [210], 23: [211], 24: [212, 213], 25: [214], 26: [215, 216], 27: [217, 218], 28: [219], 29: [220], 30: [221, 222, 223], 31: [224], 34: [225], 35: [226, 227, 228], 36: [229, 230], 37: [231], 38: [232], 39: [233, 234, 235], 40: [236, 237], 42: [238], 43: [239, 240], 45: [241], 47: [242, 243], 48: [244, 245, 246], 49: [247], 50: [248, 249, 250], 51: [251], 52: [252], 54: [253], 55: [254], 56: [255, 256], 57: [257], 58: [258], 59: [259], 60: [260], 61: [261], 63: [262], 65: [263], 67: [265], 68: [266], 69: [267], 70: [268], 71: [269], 72: [270, 271, 272], 73: [273], 74: [274], 77: [276, 277], 78: [278], 79: [279, 280, 281], 81: [282, 283], 82: [284, 285, 286], 84: [288], 85: [289, 290, 291], 88: [293, 294], 89: [295, 296], 90: [297], 92: [298], 93: [299], 94: [300], 97: [303], 98: [304], 99: [305], 100: [306], 102: [307], 103: [308], 104: [309], 105: [310, 311, 312], 106: [313], 107: [314, 315, 316, 317], 108: [318], 109: [319, 320], 110: [321], 111: [322], 112: [323], 113: [324], 114: [325, 326], 115: [327], 116: [328], 117: [329, 330], 118: [331], 119: [332], 120: [333, 334], 121: [335, 336], 122: [337], 123: [338, 339], 124: [340], 125: [341, 342], 126: [343], 127: [344], 128: [345, 346, 347], 129: [348, 349], 130: [350], 131: [351], 132: [352, 353], 133: [354], 134: [355], 135: [356], 136: [357], 138: [358], 139: [359], 140: [360], 142: [361], 143: [362], 144: [363], 145: [364, 365, 366], 146: [367, 368], 147: [369, 370, 371, 372], 149: [373], 150: [374, 375], 151: [376], 152: [377, 378], 153: [379], 154: [380], 155: [381], 156: [382], 157: [383, 384], 159: [385], 160: [386], 161: [387, 388, 389], 162: [390], 163: [391, 392], 164: [393, 394], 165: [395, 396], 167: [397, 398], 169: [399, 400, 401, 402], 170: [403], 171: [404, 405, 406], 172: [407, 408], 174: [409], 175: [410], 176: [411, 430, 431, 433], 177: [434], 178: [435], 179: [436], 180: [437], 181: [438], 182: [439], 183: [440], 185: [441, 442, 443], 186: [444], 187: [445, 446, 447], 188: [448], 189: [449], 190: [450], 191: [451, 452], 192: [453, 454], 193: [455], 195: [456], 196: [457, 458], 197: [459], 198: [460], 199: [461], 200: [462], 203: [464, 465], 204: [466, 467, 468], 205: [469], 206: [470], 207: [471], 208: [472, 474, 475], 209: [476], 210: [477], 211: [478, 479], 212: [480], 213: [481], 214: [482], 215: [483, 484], 216: [485], 218: [486, 487], 219: [488], 220: [489, 490, 491, 492], 221: [493], 223: [494], 224: [495, 496, 497, 498, 499]}\n",
      "(4, 6)\n",
      "{2: [182, 183], 3: [184, 185], 4: [186, 187, 188], 5: [189, 190, 191, 192], 6: [193], 7: [194], 8: [195, 196], 9: [197, 198], 10: [199], 11: [200], 12: [201], 13: [202], 14: [203], 15: [204, 205], 16: [206, 207], 17: [208, 209], 18: [210], 19: [211], 20: [212], 21: [213], 22: [214, 215], 23: [216], 25: [217], 26: [218], 27: [219], 28: [220], 31: [222], 32: [223], 33: [224], 35: [225, 226, 227], 36: [228], 37: [229], 38: [230, 231, 232, 233], 39: [234], 40: [235], 41: [236], 42: [237], 43: [238], 44: [239], 45: [240], 46: [241], 47: [242], 48: [243, 244], 49: [245], 50: [246], 51: [247], 52: [248], 53: [249], 54: [250, 251, 252, 253, 254, 255, 256], 55: [257, 258], 56: [259], 57: [260], 58: [261, 262], 59: [263], 60: [264, 265, 267, 272, 273], 61: [274], 62: [275], 63: [276], 64: [277], 65: [278, 279], 66: [280], 67: [281], 68: [282, 283], 71: [285, 286], 72: [287], 73: [288], 75: [289], 76: [290], 77: [291, 292], 78: [293], 79: [294], 80: [295, 296], 81: [297, 298], 82: [299, 300], 83: [301], 84: [302], 85: [303], 86: [304], 87: [305], 88: [306, 307, 309, 310], 89: [311, 313, 314], 91: [315], 92: [316], 95: [319, 320], 96: [321], 97: [322, 323], 98: [324], 99: [325, 326], 100: [327], 101: [328], 102: [329], 103: [330, 331, 332], 104: [333], 105: [334], 106: [335, 336, 337], 107: [338, 339, 340], 111: [341], 112: [342, 343], 113: [344, 345], 114: [346], 115: [347], 116: [348, 349], 117: [350, 351, 352], 118: [353], 119: [354], 120: [355], 121: [356, 357], 123: [358, 359], 125: [360, 361], 126: [362, 363], 127: [364], 128: [365], 129: [366, 367], 130: [368], 131: [369], 133: [371], 134: [372], 135: [373, 374], 136: [375], 137: [376], 139: [377], 140: [378], 141: [379, 380], 142: [381], 143: [382], 144: [383], 145: [384], 146: [385, 386], 147: [387], 149: [388, 389, 390, 391, 392, 393], 150: [394], 152: [395], 155: [396], 156: [397, 398], 157: [399, 400], 158: [401, 402], 159: [403], 161: [404], 162: [405, 406, 407], 163: [408], 164: [409], 165: [410], 167: [411, 412], 171: [414], 172: [415], 174: [416], 175: [417], 176: [418, 420], 177: [421], 178: [422], 180: [423], 181: [424, 425], 182: [426], 183: [427, 428], 184: [429, 430, 431], 186: [432, 433], 188: [434, 435], 189: [436, 437, 438], 191: [439], 192: [440], 193: [441, 442], 194: [443], 197: [445], 199: [447], 200: [448, 449], 201: [450, 451], 202: [452, 453], 204: [454], 205: [455, 456, 457], 206: [458], 207: [459], 208: [460, 461], 209: [462], 210: [463], 211: [464], 213: [465], 214: [466], 215: [467, 468], 216: [469], 217: [470], 218: [471], 219: [472], 220: [473], 221: [474], 222: [475, 476, 477], 225: [478], 226: [479], 227: [480], 228: [481], 229: [482, 483], 230: [484], 231: [485, 486, 487], 232: [488], 233: [489], 234: [490], 235: [491], 236: [492], 237: [493], 238: [494, 495, 496], 239: [497, 498], 240: [499], 241: [500, 501], 242: [502], 243: [503], 245: [504], 246: [505, 506], 247: [507], 248: [508, 509], 250: [510], 252: [511], 253: [512], 254: [513], 255: [514, 515, 516]}\n",
      "(4, 8)\n",
      "{0: [180, 181], 1: [182, 183], 2: [184], 3: [185], 4: [186, 187], 5: [188, 189], 6: [190], 7: [191, 192, 193, 194], 8: [195], 9: [196], 10: [197], 11: [198, 199], 12: [200, 201], 13: [202], 14: [203], 15: [204, 205, 206, 207], 16: [208, 209], 17: [210], 18: [211], 19: [212, 215], 20: [223], 21: [224], 22: [225, 226], 23: [227], 24: [228], 25: [229, 230], 26: [231], 27: [232], 28: [233, 234], 29: [234, 235, 236, 237, 238], 30: [239], 32: [240, 241], 33: [242, 243], 34: [244], 35: [245, 246], 37: [247], 38: [248], 40: [249], 41: [250], 42: [251], 45: [252], 46: [253], 47: [254, 255], 48: [256], 49: [257, 258, 259, 260, 261], 50: [262], 51: [263], 52: [265], 53: [266], 55: [267, 268], 58: [269, 270], 59: [271, 272], 60: [273], 61: [274], 62: [275], 63: [276], 66: [277], 67: [278], 68: [279, 280, 281], 69: [282, 283, 284, 285], 70: [286, 287], 71: [288], 72: [289], 73: [290, 291], 74: [292], 75: [293, 294], 76: [295], 77: [296, 297], 79: [298], 80: [299, 300], 81: [301], 82: [302], 83: [303, 304, 305], 84: [307, 308], 85: [309, 310, 311, 312], 86: [313], 87: [314, 315, 316, 317], 88: [318], 89: [319, 320], 90: [321], 91: [322, 323], 92: [324, 325], 93: [326, 327], 94: [328], 95: [329], 96: [330, 331], 97: [332], 98: [333], 99: [334, 335, 336, 337], 100: [338], 101: [339], 102: [340, 341], 103: [342, 343], 105: [344, 345], 106: [346], 107: [347], 108: [348], 109: [349, 350], 110: [351, 352], 111: [353], 112: [354], 113: [355, 356], 114: [357], 116: [358], 117: [359, 360], 118: [361, 362], 119: [363], 120: [364], 121: [365, 366, 367], 122: [368], 123: [369, 370, 373], 124: [374], 125: [375, 376], 126: [377], 127: [378, 379], 128: [380], 129: [381, 382], 130: [383], 131: [384, 385, 386], 132: [387, 388], 133: [389, 390, 394, 395, 396, 397, 398, 399, 400, 401], 134: [402], 135: [403, 404, 405], 136: [406], 137: [407, 408, 409, 410], 139: [411], 140: [412], 141: [413], 142: [414], 143: [415, 416], 144: [417, 418, 419, 420, 421], 145: [422, 423], 148: [424, 425], 149: [426], 150: [427, 428], 151: [429], 152: [430], 153: [431, 432], 154: [433, 434, 435], 155: [436, 437], 156: [438], 157: [439], 158: [440], 159: [441], 160: [442], 161: [443, 444, 445], 163: [446, 447, 448], 164: [449, 450], 165: [451, 452], 166: [453, 454], 168: [455], 169: [456, 457], 170: [458], 171: [459], 173: [460, 461], 174: [462], 175: [463], 176: [464], 177: [465], 179: [466], 180: [467], 182: [468, 469], 183: [470], 185: [471, 472], 186: [473], 187: [474], 188: [475, 476], 189: [477, 478], 190: [479], 191: [480], 192: [481], 195: [482], 196: [483], 197: [484], 198: [485], 199: [486], 200: [487, 488], 201: [489], 202: [490], 203: [491], 205: [492, 493, 494], 206: [495], 207: [496]}\n",
      "(4, 16)\n",
      "{1: [205], 2: [206], 3: [207, 208, 209], 4: [210], 5: [211], 6: [212, 213], 8: [214], 9: [215, 216], 10: [217], 11: [218], 12: [219, 220, 221], 13: [222], 14: [223, 224], 16: [225], 17: [226], 18: [227], 19: [228], 20: [229, 230], 21: [231, 232], 22: [233], 24: [234, 235], 26: [236], 27: [237], 28: [238], 29: [239], 30: [240], 31: [241, 242, 243], 32: [244], 33: [245], 34: [246], 35: [247, 248, 249, 250], 36: [251, 252], 37: [253], 38: [254, 255], 39: [257], 40: [258], 41: [259], 42: [260], 43: [261], 44: [262, 263], 46: [264, 265], 47: [266], 49: [267], 50: [268], 51: [269, 270, 271], 52: [272, 273], 53: [274, 275], 54: [276, 277], 55: [278], 56: [279, 280], 57: [281], 58: [282, 283], 59: [284], 60: [285, 286], 61: [287], 62: [288], 64: [289], 65: [290], 66: [291], 67: [292], 68: [293], 69: [294], 70: [295], 71: [296, 297], 73: [298], 74: [299], 76: [300], 77: [301], 78: [302], 79: [303, 304], 80: [305, 306], 83: [308, 309, 310, 311, 316], 84: [317, 318], 85: [319], 86: [320], 87: [321], 90: [323, 324], 91: [325], 92: [326], 93: [327], 94: [328], 95: [329], 96: [330, 331, 332, 333, 334, 335], 97: [336, 337], 98: [338], 99: [339, 340], 100: [341], 102: [342], 103: [343], 104: [344], 105: [345], 106: [346], 108: [347], 110: [348, 349], 111: [350, 351, 352], 112: [353, 354], 114: [355, 356, 357], 117: [358, 359], 118: [360], 121: [361], 123: [362, 363, 364], 124: [365], 125: [366, 367], 127: [368], 128: [369], 129: [370, 371, 372], 130: [373, 374], 131: [375, 376, 377], 132: [378, 379, 380], 133: [381, 382, 383, 384, 385, 386], 134: [387], 136: [388, 389, 390], 137: [391], 138: [392], 139: [393], 140: [394], 141: [395], 142: [396, 397], 143: [398], 144: [399], 145: [400], 146: [401, 402, 403, 404], 147: [405], 148: [406, 407, 408], 149: [409], 150: [410], 151: [411], 152: [412, 413], 153: [414, 415, 416], 154: [417], 155: [418, 419, 420], 156: [421, 422], 157: [423], 158: [424], 159: [425], 160: [426, 427, 428], 161: [429, 430], 162: [431], 164: [432, 433], 165: [434, 435, 436], 166: [437, 438, 439, 440, 441], 167: [442], 168: [443], 169: [444], 170: [445, 446, 447], 171: [448, 449, 450, 451, 452], 174: [454], 175: [455], 176: [456, 457], 178: [458], 179: [459], 180: [460], 182: [461], 183: [462], 184: [463, 464, 465], 186: [466], 188: [467, 468, 469], 189: [470, 471], 190: [472, 473], 191: [474], 192: [475], 193: [476, 477], 194: [478, 479], 196: [480, 481], 197: [482, 483], 198: [484, 485], 199: [486, 487], 200: [488], 201: [489], 202: [490], 203: [491, 492], 205: [493, 494], 206: [495], 207: [496], 209: [497], 210: [498, 499], 211: [500], 213: [501], 215: [502], 216: [503, 504], 217: [505], 218: [506], 219: [507], 220: [508], 221: [509], 222: [510], 223: [511, 512], 224: [513], 225: [514, 515], 227: [516], 229: [517], 230: [518], 231: [519, 520]}\n",
      "(4, 19)\n",
      "{0: [192], 1: [193], 3: [194], 4: [195], 5: [196], 6: [197], 7: [198], 8: [199, 200], 9: [201], 10: [202, 203, 204], 11: [205], 12: [206], 13: [207], 14: [208, 209], 15: [210], 17: [212], 18: [213, 214], 20: [215], 21: [216], 22: [217, 218], 23: [219, 220, 221, 222], 25: [223], 27: [224], 28: [225, 226], 29: [227], 30: [228], 32: [229, 230], 33: [231, 232, 233, 234], 34: [235, 237], 35: [242, 243], 36: [244, 245], 37: [246], 38: [247], 39: [248], 40: [249, 250], 41: [251, 252], 42: [253, 254, 256], 43: [257], 44: [258], 45: [259, 260, 262, 263], 46: [264, 265, 266], 47: [267], 48: [268], 49: [269], 50: [270], 51: [271], 52: [272], 54: [273, 274, 275], 55: [276], 56: [277], 57: [278], 58: [279, 280], 59: [281, 282, 283], 60: [284, 285], 61: [286, 287], 62: [288], 63: [289], 64: [290], 65: [291, 292, 293, 294], 66: [295, 296, 297], 68: [298], 69: [299, 300], 70: [301, 302], 71: [303, 304], 72: [305], 73: [306, 307], 74: [308], 75: [309, 310], 76: [311], 77: [312, 313], 78: [314], 79: [315], 80: [316, 317], 81: [319, 320], 82: [321, 322], 83: [324], 84: [325], 85: [326], 86: [327, 328], 87: [329, 330], 88: [331], 89: [332, 333], 90: [334, 335], 91: [336], 92: [337, 338], 93: [339], 94: [340], 95: [341, 342], 96: [343], 97: [344], 98: [345], 99: [346, 347, 348], 100: [349], 101: [351], 102: [352], 103: [354, 355], 104: [356], 106: [357], 107: [358], 108: [359], 109: [360], 110: [361, 362], 111: [363], 112: [364], 113: [365], 114: [366], 115: [368], 117: [369], 118: [370, 371], 119: [372], 120: [373], 121: [374], 122: [375, 376], 123: [377], 124: [378, 379, 380], 125: [381], 126: [382], 127: [383], 128: [384], 129: [385, 386], 130: [387, 388, 389], 131: [390], 132: [391], 133: [392, 393], 134: [394], 135: [395], 136: [396, 397, 398, 399, 400], 137: [401], 138: [402, 403, 406, 407], 139: [408], 141: [409], 143: [411], 144: [412, 413], 145: [414], 148: [416, 417], 149: [418, 419], 150: [420, 421, 422, 423], 152: [425], 153: [426], 154: [427], 155: [428], 156: [429, 430, 431, 433, 434], 157: [435, 436], 158: [437], 159: [438], 160: [439], 161: [440, 441, 442, 443, 444], 162: [445, 447], 165: [450, 451], 166: [452], 167: [453], 169: [454], 170: [455, 456, 457], 171: [458, 459], 172: [460, 461, 462], 173: [463], 174: [464], 175: [465, 466], 176: [467], 177: [468], 178: [469], 179: [471, 472], 180: [473], 181: [474], 182: [475], 183: [476], 184: [477], 185: [478], 186: [479, 480, 481], 187: [482], 189: [483], 191: [484], 192: [485], 193: [486], 194: [487], 195: [488, 489], 196: [490], 198: [491], 199: [492], 200: [493], 201: [494, 495], 202: [496, 497], 203: [498], 204: [499], 205: [500], 206: [501, 502], 207: [503], 208: [504], 211: [505, 506, 507], 215: [509], 217: [510], 218: [511], 219: [512], 220: [513], 221: [514, 515], 222: [516], 223: [517, 518], 224: [519], 225: [520], 226: [521, 522], 227: [523], 228: [524], 230: [525], 233: [526, 527, 528], 235: [529], 236: [530], 237: [531, 532, 533], 239: [534, 535], 240: [537], 241: [538], 243: [539], 244: [540], 246: [541], 248: [543], 249: [544, 545]}\n",
      "(4, 21)\n",
      "{0: [199], 1: [201, 202], 3: [203], 4: [204, 205], 5: [206, 207], 6: [208], 7: [209], 8: [210], 9: [211], 10: [212], 12: [213], 13: [214, 215], 14: [216], 15: [217, 218, 219], 16: [220], 17: [221], 20: [222], 21: [225, 226], 22: [227], 23: [228, 229], 24: [230, 231], 25: [232], 26: [233, 234, 235, 236, 237, 240], 27: [241], 28: [242], 29: [243], 30: [244, 245], 31: [246], 32: [247], 33: [248, 249], 34: [250, 251], 35: [252, 253], 36: [254, 255], 37: [256, 257], 38: [258], 39: [259, 260], 41: [261, 262, 263, 264], 42: [265], 43: [266], 44: [267], 45: [268, 269], 47: [270, 271], 48: [272, 273], 49: [274], 50: [275, 276], 51: [277], 52: [278], 53: [279, 280, 281, 282], 56: [284, 285], 57: [286], 58: [287], 59: [288], 60: [289, 290, 291, 292, 293], 61: [294, 295], 62: [296], 63: [297, 298, 299], 64: [300, 301], 65: [302, 303], 66: [304, 305], 67: [306], 68: [307], 69: [308], 70: [309], 71: [310, 311, 312], 72: [313, 314], 73: [315, 316], 74: [317, 318], 75: [319], 76: [320], 77: [321, 322, 323], 79: [324], 80: [325, 326, 327], 81: [328, 329], 82: [330], 83: [331], 84: [333], 85: [334], 86: [335], 87: [336, 338, 339], 88: [340, 341], 89: [342], 90: [343], 91: [344, 345], 92: [346, 347], 93: [348], 94: [349], 95: [350, 351], 96: [352, 353, 354], 98: [355, 356, 357], 99: [358], 100: [359, 360], 101: [361], 102: [362], 103: [363], 104: [364, 365], 105: [366], 106: [367], 107: [368, 369, 370], 108: [371], 109: [372, 373], 110: [374], 111: [375], 112: [376], 113: [377], 114: [378], 115: [379], 116: [380], 117: [381], 118: [382], 119: [383], 120: [384], 121: [385], 122: [386, 387], 123: [388], 124: [389, 390], 126: [391], 127: [392], 128: [393], 129: [394, 395], 130: [396], 131: [397, 398], 132: [399, 400], 133: [401], 134: [402], 135: [403], 136: [404], 137: [405], 138: [406], 139: [407, 408], 141: [409, 410, 411], 142: [412], 143: [413], 145: [414], 146: [415, 416], 147: [417, 418], 148: [419], 149: [420, 421, 422], 150: [423], 151: [424], 152: [425, 426], 153: [427], 154: [428, 429, 430], 155: [431], 156: [432, 433], 157: [434], 158: [435, 436, 437, 438, 439], 160: [440], 161: [441], 162: [442], 163: [443, 444], 165: [445], 166: [446], 167: [447], 168: [448], 169: [449], 170: [450], 172: [451], 173: [452], 174: [453], 175: [454], 176: [455], 177: [456], 178: [457], 183: [458, 459], 184: [460], 190: [462], 191: [463], 192: [464], 193: [465], 194: [466, 467], 195: [468, 469], 197: [470, 471], 198: [472, 473], 199: [474], 200: [475, 476, 477], 201: [478], 202: [479]}\n",
      "(4, 22)\n",
      "{0: [190], 1: [191], 2: [192, 193], 3: [194], 4: [195, 196], 5: [197], 6: [198], 7: [199], 8: [200, 201], 9: [202, 203], 10: [204], 11: [205], 12: [206, 207], 13: [208], 14: [209], 15: [210], 16: [211, 212, 213, 214], 18: [216, 217], 19: [218], 20: [219, 220], 21: [221, 222, 226], 22: [227], 23: [228], 24: [229], 25: [230, 231], 26: [232], 27: [233, 234, 235], 28: [236, 237], 29: [238, 239], 30: [240, 241], 31: [242], 32: [243], 33: [244], 34: [246], 35: [247], 36: [248], 37: [249, 250, 251], 38: [252], 39: [253, 254, 255, 256], 40: [257], 41: [258], 43: [259, 260], 44: [261], 45: [262], 46: [263], 49: [264, 265, 266, 267], 50: [268], 51: [269, 270], 53: [271], 54: [272], 55: [273], 57: [274, 275], 59: [277], 60: [278], 62: [279, 280], 63: [281], 65: [282], 66: [283], 67: [284, 285], 69: [287], 70: [288, 289], 71: [290], 72: [291, 292, 293], 73: [294], 74: [295], 75: [296, 297, 298, 299, 300], 76: [301], 77: [302, 303, 304], 78: [305], 80: [306, 307], 81: [308], 82: [309, 310], 83: [311], 84: [312, 313, 316], 85: [317], 86: [318], 87: [319], 88: [320], 89: [321, 322], 90: [323], 91: [324], 92: [326], 93: [327], 94: [328], 95: [329], 96: [330], 97: [331], 99: [332], 100: [333, 334], 101: [335], 102: [336, 337], 103: [338], 104: [339], 105: [340], 106: [341], 107: [342, 343], 108: [344, 345, 346], 109: [347], 110: [348], 111: [349], 112: [350], 113: [351, 352], 114: [353], 115: [354], 116: [355], 118: [356, 357, 358, 359], 119: [360, 361], 120: [362, 363], 122: [364], 123: [365, 366], 124: [367, 368], 126: [369, 371], 128: [372, 373, 374], 129: [375], 130: [376, 377], 131: [378, 379], 132: [380], 133: [381, 382], 134: [383], 135: [384, 385], 136: [386, 387], 137: [388, 389], 138: [390], 140: [391], 141: [393, 394], 142: [395, 396], 143: [397, 398], 144: [399], 145: [400], 146: [401], 148: [402, 403], 150: [405, 406], 151: [407], 152: [408, 409], 153: [410], 154: [411], 155: [412], 156: [413], 157: [414, 415, 416], 158: [417], 159: [418, 419], 160: [424, 425], 161: [426, 427], 162: [428, 430, 431], 163: [432], 164: [433], 165: [434], 166: [435], 167: [436], 169: [437], 170: [438], 171: [439, 440], 172: [441], 173: [442], 174: [443, 444], 175: [445], 176: [446], 177: [447], 178: [448], 179: [449], 180: [450], 181: [451], 182: [452], 183: [453], 184: [455], 185: [456], 187: [457], 188: [458, 459, 460], 189: [461], 190: [462, 463], 191: [464, 465, 466], 192: [467, 468], 193: [469, 470], 195: [471], 196: [472], 197: [473, 474, 475], 199: [476], 201: [477], 202: [478], 203: [479], 204: [480, 481], 205: [482], 206: [483], 207: [484, 485], 208: [486], 209: [487], 210: [488, 489, 490, 491, 492], 211: [493], 212: [494, 495, 496], 213: [497], 214: [498], 215: [499], 217: [500, 501], 218: [502], 219: [503], 220: [504], 221: [505], 222: [506], 223: [507, 508], 224: [509, 510], 225: [511, 512], 226: [513], 227: [514], 228: [515], 229: [516], 230: [517, 518], 231: [519, 520, 521], 232: [522, 523, 524], 233: [525], 234: [526], 235: [527, 528, 529], 236: [530], 237: [531, 532, 533], 238: [534, 535, 536, 537], 239: [538], 240: [539]}\n",
      "(4, 23)\n",
      "{0: [192], 1: [193], 2: [194], 3: [195], 4: [196], 5: [197, 198], 6: [199], 8: [200], 9: [201, 202], 10: [203], 11: [204, 205], 12: [206], 13: [207, 208, 209], 14: [210, 211, 212], 15: [213], 16: [214], 18: [215], 19: [216], 20: [217], 21: [218], 23: [219, 221], 24: [225, 226], 25: [227], 26: [228], 27: [229], 28: [230], 29: [231], 30: [232], 31: [233, 234], 32: [235], 33: [236], 34: [237], 35: [238, 239, 240], 36: [241], 37: [242], 39: [243, 244], 40: [245], 41: [246, 247], 43: [248, 249], 44: [250], 45: [251], 46: [252], 47: [253], 48: [254], 49: [255], 50: [256], 52: [257], 53: [258], 54: [259, 260], 55: [261], 56: [262, 263], 57: [264], 58: [265], 59: [266], 61: [267], 62: [268], 63: [269], 64: [270], 65: [271], 66: [272, 273], 67: [274], 68: [275, 276, 277], 69: [278, 279], 70: [280, 281], 71: [282], 72: [283], 73: [284, 285, 286], 74: [287, 288], 75: [289], 76: [290], 77: [291, 292, 294, 295, 296], 80: [297, 298], 81: [299, 300], 82: [301], 83: [302], 84: [303, 304], 85: [305], 86: [306, 307, 308, 309], 87: [310], 88: [311], 89: [312], 90: [313], 91: [314], 92: [315], 93: [316], 94: [317], 95: [318, 319], 97: [320], 98: [321, 322, 323], 99: [324], 101: [325], 102: [326, 327, 328], 103: [329], 104: [330], 105: [331, 332, 333], 106: [334, 335, 336, 337], 107: [338], 108: [339], 109: [340], 110: [341, 342], 111: [343, 344], 112: [345], 113: [346, 347], 114: [348], 115: [349, 350], 116: [351], 117: [352], 118: [353], 119: [354, 355], 120: [356], 121: [357], 122: [358], 123: [359], 124: [360], 125: [361, 362], 126: [363], 127: [364, 365], 129: [366], 130: [367, 368], 131: [369], 132: [370], 133: [371], 134: [372], 135: [373, 375], 136: [376], 137: [377], 139: [378], 140: [379], 141: [380], 142: [381], 143: [382, 383], 144: [384], 145: [385, 386, 387], 146: [388], 147: [389], 148: [390, 391], 149: [392], 150: [393], 151: [394, 395], 152: [396, 397, 398], 153: [399, 400], 154: [401, 402], 156: [403, 404], 157: [405], 158: [406], 159: [407, 408], 160: [409], 161: [410, 411], 162: [412], 163: [413, 414], 164: [415], 165: [416], 166: [417], 167: [418, 419], 168: [420], 170: [421, 422], 172: [423], 173: [424, 425], 174: [426], 175: [427], 177: [428, 429], 178: [430], 179: [431, 432, 433], 180: [434], 182: [435], 183: [436, 437], 184: [438], 185: [439, 440], 186: [441, 442], 187: [443], 188: [444, 445], 189: [446], 190: [447, 449], 192: [450], 194: [451, 452], 195: [453], 196: [454], 197: [455], 198: [456], 199: [457], 200: [458], 202: [459], 203: [460], 204: [461], 205: [462], 206: [463], 207: [464], 209: [465], 210: [466], 211: [467], 212: [468], 215: [470], 216: [471], 217: [472], 218: [473, 474], 220: [475, 476], 221: [477], 222: [478, 479], 223: [480], 224: [481], 226: [482, 483], 227: [484], 228: [485], 229: [486], 230: [487], 231: [488, 489], 233: [490, 491], 234: [492], 235: [493, 495], 236: [496, 497], 237: [498]}\n",
      "(4, 24)\n",
      "{0: [194], 3: [196], 4: [197, 198], 5: [199], 7: [200, 201], 8: [202, 203], 9: [204, 205], 10: [206, 207], 11: [208], 12: [209], 13: [210], 14: [211, 212], 15: [213], 16: [214, 215], 17: [216], 18: [217, 218], 21: [220], 24: [221], 25: [222, 223], 26: [224], 27: [225, 226, 227], 29: [228, 229], 30: [230], 31: [231, 232], 32: [233, 234], 33: [236, 237, 238], 34: [239], 35: [240, 241], 36: [243], 37: [245, 246], 38: [247, 248], 39: [249], 40: [250, 251], 41: [252], 42: [253], 43: [255], 44: [256, 257], 45: [258], 47: [259], 48: [260, 261], 49: [262], 51: [263, 264], 52: [265, 266], 53: [267], 54: [268], 55: [269], 56: [270], 57: [271], 58: [272], 59: [273], 60: [274, 275], 61: [276, 277], 62: [278, 279, 280, 281], 63: [282, 283, 284], 64: [285], 65: [286, 287], 66: [288], 67: [289], 68: [290], 70: [291], 71: [292], 72: [293], 73: [294], 74: [295, 296], 75: [297, 298, 299], 76: [300, 301, 302], 77: [303], 78: [304], 79: [305], 81: [306, 307], 82: [308, 309], 83: [310, 311], 84: [312], 85: [313, 314], 86: [315, 316], 87: [317], 88: [318, 319], 89: [320], 90: [321, 322, 323], 92: [324], 94: [325], 95: [326], 96: [327, 328], 97: [329], 98: [330], 99: [331], 100: [332, 333], 101: [334, 335], 102: [336, 337], 103: [338, 339, 340], 104: [341], 105: [342, 343], 106: [344], 107: [345], 108: [346], 109: [347], 110: [348], 112: [349], 113: [350], 114: [351, 352, 353, 354], 115: [355], 116: [356, 357, 358], 117: [359], 118: [360, 361, 362, 363], 119: [364], 120: [365, 366, 367], 121: [368], 122: [369, 370], 123: [371], 124: [372, 373], 125: [374], 126: [375, 376, 377, 378], 127: [379], 128: [380, 381, 382, 383, 384, 385], 129: [386], 130: [387], 132: [388], 133: [389, 390, 391], 134: [392, 393], 135: [394], 136: [395], 137: [396, 397], 138: [398, 399], 139: [400], 140: [401, 402], 141: [403, 404], 142: [405], 143: [406], 144: [407, 408], 145: [409], 146: [411], 147: [412], 148: [413], 149: [414, 415, 416, 417], 150: [418, 419], 151: [420, 421], 152: [422, 423], 153: [424, 425], 155: [426, 427], 156: [428], 157: [429], 158: [430, 431, 432], 159: [433], 160: [434], 161: [435], 162: [436, 437, 439], 163: [440, 441, 442, 443], 164: [444], 165: [445, 447], 167: [449], 168: [450, 451], 169: [452, 453], 171: [454, 455], 172: [456, 457, 458], 173: [459], 174: [460], 175: [461, 462, 463], 176: [464], 177: [466, 467, 468], 179: [469, 470], 181: [471], 183: [472, 473], 184: [474, 475], 185: [476], 186: [477], 187: [478, 479, 480], 188: [481], 189: [482], 190: [483, 484], 193: [485], 194: [486], 195: [487], 196: [488], 198: [489, 490, 491], 199: [492], 200: [493, 494, 495], 201: [496], 202: [497], 203: [498], 204: [499], 205: [500], 206: [501], 207: [502, 503], 208: [504], 209: [505], 210: [506, 508], 211: [509], 212: [510, 511, 512], 215: [513], 217: [514], 218: [515], 219: [516, 517], 220: [518, 519], 222: [520], 223: [521], 225: [522], 227: [523], 228: [524], 229: [525]}\n",
      "(5, 2)\n",
      "{1: [176], 2: [177, 178], 3: [179, 180], 4: [181, 182, 184], 5: [185], 6: [186, 187], 7: [188, 189], 8: [190, 191, 192], 9: [193], 10: [194, 195], 11: [196], 12: [197, 198], 13: [199], 14: [200, 201, 202], 16: [203, 204], 17: [205, 206], 18: [207], 28: [210], 29: [211], 30: [212], 31: [213], 32: [214], 33: [215], 34: [216], 35: [217, 219], 36: [220], 37: [221, 222, 224], 38: [223], 40: [225, 226], 42: [227, 228], 43: [229, 230], 44: [231], 45: [232], 46: [233], 47: [234], 48: [235], 49: [236], 50: [245], 51: [246, 247], 52: [248], 53: [249], 54: [251, 252], 55: [253], 56: [254], 57: [255, 257], 58: [258], 59: [260], 60: [261], 61: [262, 263], 62: [264], 63: [265], 65: [266, 267], 66: [268], 67: [269], 68: [270], 69: [271], 70: [272, 273, 274], 71: [275], 72: [276], 73: [277, 278], 74: [279, 280], 75: [281, 282], 76: [283], 77: [284, 287], 78: [288], 79: [289, 290], 80: [291], 81: [292], 82: [293, 294], 84: [295], 85: [296, 297, 298], 86: [299], 87: [300, 302], 90: [305], 89: [306], 93: [307], 95: [310], 96: [311], 97: [312], 98: [313, 314, 315], 99: [316], 100: [317, 320, 321, 322, 323, 324], 101: [325, 326], 102: [327], 103: [329], 104: [330], 105: [331, 332], 106: [333], 107: [334], 108: [335], 109: [336, 337, 338, 339, 340], 110: [341, 342], 111: [343, 344, 345, 346], 113: [347, 348], 114: [349], 117: [350], 118: [351], 120: [352], 121: [353, 354, 355], 122: [356], 123: [357, 358], 124: [359, 360], 125: [361], 127: [362, 363, 364], 129: [365], 130: [366], 131: [367], 132: [368], 133: [369], 134: [370, 371], 135: [372, 373], 136: [375], 137: [376], 138: [377, 378], 141: [380, 381], 142: [381, 382, 383], 144: [384, 385], 147: [386], 150: [387], 151: [388], 152: [389], 153: [390], 154: [391], 155: [392], 156: [393], 157: [394], 158: [395], 159: [396, 397, 398, 399, 400], 160: [401], 161: [402, 403, 404, 405, 406, 407, 408, 409], 162: [410], 163: [411, 412, 415], 164: [413, 414], 168: [416], 169: [417, 418], 170: [419, 420], 171: [421, 422], 172: [423], 173: [424], 175: [426, 427], 176: [428, 429], 178: [430, 431], 179: [432], 180: [433], 183: [435, 437, 438], 184: [439], 186: [440, 441], 187: [442], 188: [443], 189: [444, 445, 446], 190: [447, 448], 191: [449], 192: [450], 194: [451], 195: [452], 196: [454], 198: [456], 200: [457, 458], 201: [459], 202: [460, 461], 203: [462], 204: [463], 205: [464, 465], 206: [466, 467, 468], 209: [469]}\n",
      "(5, 6)\n",
      "{0: [180], 1: [181, 182, 183], 2: [184], 3: [185, 186, 187, 188, 189, 190], 4: [191], 5: [192, 193], 6: [194], 7: [195, 196], 8: [197, 198], 9: [199], 10: [200, 202], 11: [203, 204], 12: [205, 206, 207], 13: [208], 14: [209], 15: [210, 211], 16: [212], 17: [213, 214], 18: [215], 19: [216, 217], 21: [218, 219], 22: [223], 23: [224, 225], 24: [226], 25: [227], 26: [228, 229, 230], 27: [231], 28: [232], 29: [233], 30: [234], 31: [235, 236, 237], 32: [238], 33: [239, 240, 241, 242], 34: [243, 244], 35: [245, 246, 247, 248], 36: [249, 250, 251, 252, 253], 37: [254, 255], 38: [256, 257], 39: [258], 40: [259], 41: [260, 261], 42: [262], 43: [263], 44: [264], 45: [265], 46: [266], 47: [267, 268], 48: [269, 270], 49: [271], 50: [272, 273], 51: [274, 275], 52: [276, 277], 53: [278], 54: [279], 56: [280], 57: [281], 58: [282, 283, 284], 59: [285, 286], 60: [287], 61: [288], 63: [289, 290, 291, 292, 293, 294, 295, 296, 297], 64: [298], 65: [299], 66: [300], 67: [301], 68: [302], 69: [303], 70: [304], 71: [305], 72: [306, 307], 73: [308, 309], 74: [310], 75: [311], 76: [312], 77: [313], 78: [314, 315, 316, 317], 79: [318], 80: [319], 81: [320, 321], 82: [322, 323], 83: [324], 84: [325, 326], 85: [327], 86: [328], 87: [329, 330, 331, 332], 88: [333, 334, 335], 89: [336], 90: [337], 91: [338, 339, 340], 92: [341], 93: [342], 94: [343, 344, 345], 95: [346, 347, 348, 349, 350], 96: [351, 352], 97: [353], 98: [354], 99: [355], 100: [356], 102: [357, 358], 103: [359, 360], 104: [361], 105: [362, 363, 364], 106: [365], 107: [366, 367, 368, 369], 108: [370], 109: [371], 110: [372, 373, 374], 111: [375], 112: [376, 377], 113: [378, 380], 114: [381], 115: [382, 383], 116: [384], 117: [385], 118: [386], 119: [387], 120: [388, 389, 390], 121: [391], 122: [392], 124: [393, 394, 395], 125: [396], 126: [397, 398], 127: [399], 128: [400], 129: [401], 130: [402], 131: [403], 132: [404, 405, 406], 133: [407, 408], 134: [409], 135: [410, 411], 136: [412, 413, 414], 137: [415, 416], 138: [417], 139: [418], 140: [419], 141: [420, 421], 142: [422], 143: [423], 144: [424, 425], 145: [426, 427], 146: [428], 147: [429, 430, 431, 432, 433, 434], 148: [435, 436, 437, 438, 439], 149: [440, 441, 442, 443], 150: [444, 445, 446], 151: [447, 448, 449, 450], 152: [451, 452, 453], 153: [454], 154: [455], 155: [456], 156: [457], 157: [458, 459, 460, 463, 465, 466], 158: [467], 159: [468, 469, 470], 160: [471], 162: [472, 473], 163: [474], 164: [475], 165: [476, 477], 167: [478], 168: [479], 169: [480], 170: [481], 171: [482], 172: [483], 173: [484], 174: [485, 486], 175: [487], 176: [488], 177: [489, 490], 178: [491, 492], 179: [493], 180: [494], 181: [495], 182: [496], 183: [497, 498, 499], 184: [500], 185: [501], 186: [502], 187: [503, 504], 189: [506, 507], 190: [508, 509]}\n",
      "(5, 12)\n",
      "{0: [200], 1: [201, 202], 2: [203, 204], 3: [205], 4: [206, 207], 5: [208], 6: [209, 210], 7: [211], 8: [212, 213], 9: [214], 10: [215, 216, 217, 218], 11: [219, 220, 221], 12: [222], 13: [223, 224], 14: [225, 226], 15: [227, 228], 17: [230, 231], 18: [232], 19: [233], 20: [237, 238], 21: [239], 22: [240], 23: [241], 24: [242], 25: [243, 244], 27: [245, 246, 247], 28: [248, 249, 250], 29: [251], 30: [252], 31: [253, 254], 32: [255, 256], 33: [257, 258], 34: [259], 35: [260], 36: [261, 262, 263], 37: [264], 38: [265, 266, 267], 39: [268], 40: [269, 270, 271], 41: [272, 273, 274], 42: [275], 43: [276], 44: [277, 278, 279, 280], 45: [281], 46: [282, 283], 47: [284], 48: [285, 286], 49: [287, 288, 289], 50: [290, 291], 51: [292], 52: [293], 53: [294, 295], 54: [296], 55: [297], 56: [298, 299], 57: [300, 301], 58: [302, 303, 304], 59: [305], 60: [307, 308, 309, 310, 311], 61: [312], 63: [313, 314], 64: [315, 316], 65: [317], 66: [318], 67: [319], 68: [320], 69: [321], 70: [322], 71: [323, 324], 72: [325, 326, 327, 328], 73: [329, 330], 74: [331], 75: [332], 76: [333], 77: [334], 78: [335], 79: [336], 80: [337], 81: [338], 82: [339], 83: [340], 84: [341, 342], 85: [343, 344, 345], 86: [346, 347], 87: [348], 88: [349], 89: [350], 90: [351], 91: [352, 353], 92: [354], 93: [355], 94: [356], 95: [357], 96: [358, 359, 360], 97: [361, 362, 363], 98: [364, 365], 99: [366, 367, 368], 100: [369, 370], 102: [371, 372, 373], 103: [374], 104: [375, 376], 105: [377, 378], 106: [379], 107: [380, 381, 382, 383, 384, 385, 386], 108: [387, 389, 390], 109: [391], 110: [392, 393], 111: [394], 113: [395], 114: [396], 115: [397], 116: [398], 117: [399], 118: [400, 402], 119: [403, 404], 120: [405, 406, 407], 121: [408], 122: [409, 410], 123: [411], 124: [412], 125: [413, 414], 126: [415], 127: [416], 128: [417], 129: [418], 130: [419, 420, 421], 131: [422, 423], 132: [424], 133: [425, 426], 134: [427, 428, 429], 135: [430, 431], 136: [432, 433], 137: [434, 435], 138: [436], 139: [437, 438, 439, 440], 140: [441], 141: [442, 443], 142: [444], 143: [445], 144: [446, 447], 145: [448], 146: [449], 147: [450, 451, 452], 148: [453], 149: [455], 150: [456, 457, 458], 151: [459], 152: [460], 155: [462], 156: [463], 157: [464, 465, 466], 158: [467], 159: [468, 469, 470], 160: [471], 162: [472], 163: [473, 474, 475, 476, 477, 478], 165: [479], 166: [480], 167: [481, 482], 168: [483], 169: [484, 485], 171: [486], 172: [487], 173: [488, 489], 174: [490], 175: [491, 492], 176: [493], 177: [494], 178: [495, 496], 180: [497], 182: [498], 183: [499], 184: [500], 185: [501, 502, 503]}\n",
      "(5, 14)\n",
      "{0: [179, 181], 1: [182, 183], 2: [184], 3: [185], 4: [186], 5: [187], 6: [188, 189, 190, 191, 192, 193, 194, 195, 196], 7: [197], 8: [198], 9: [199], 10: [200, 201, 202, 203], 11: [204], 12: [205], 13: [206, 207], 14: [208], 16: [209, 210, 211, 212, 213], 17: [214], 18: [215], 19: [216, 217], 20: [218, 219], 21: [222, 223], 22: [224], 23: [225, 226], 24: [227, 228], 25: [229, 230], 26: [231, 232, 234], 27: [235], 28: [236], 29: [237], 30: [238, 240, 241], 31: [242], 32: [243, 244], 33: [245], 34: [246, 247, 248, 249, 250, 251], 35: [252], 36: [253, 254], 37: [255], 38: [256, 257, 258], 39: [259], 40: [260], 41: [261], 42: [262, 263], 43: [264], 44: [265, 266], 45: [267], 46: [268, 269, 270], 48: [271, 272, 273, 274], 49: [275], 50: [276, 277], 53: [278, 279], 54: [280], 55: [281], 56: [282], 57: [283, 284, 285], 58: [286, 287], 59: [288], 60: [289], 61: [290, 291], 62: [292], 63: [293], 64: [294], 65: [295, 296], 66: [297], 67: [297, 298], 68: [299, 300], 69: [301, 302], 70: [303], 71: [304], 73: [305], 74: [306], 75: [307], 77: [308, 309, 310, 311, 312, 313], 78: [314], 80: [315], 81: [316, 317, 318, 319], 82: [320], 84: [321, 322], 86: [323], 87: [324, 325], 88: [326], 89: [327], 90: [328, 329], 91: [330, 331], 92: [332, 333], 93: [334], 94: [335, 336, 337, 338], 95: [339], 96: [340], 97: [341], 99: [343, 344], 101: [345], 102: [346], 103: [347], 104: [348, 349], 105: [350], 106: [351, 352, 353], 107: [354], 109: [355], 110: [356, 357, 358], 111: [359, 360, 361], 112: [362], 113: [363, 364, 366], 114: [367, 368], 115: [369, 370], 116: [371], 117: [372, 373, 374], 118: [375, 376], 119: [377, 378], 122: [379, 380], 123: [381], 124: [382], 125: [383], 126: [384], 127: [385, 386, 387, 388, 389, 390], 128: [391, 392, 393], 131: [394, 396, 397, 398, 401, 402], 130: [395], 132: [403, 404], 134: [405], 135: [406], 136: [407, 408, 409], 137: [410, 411], 138: [412], 139: [413], 141: [414, 415, 416, 417, 419, 420], 142: [421], 143: [422, 423, 424], 144: [425], 145: [426, 427], 146: [428, 429, 430], 147: [431], 148: [432], 149: [433, 434, 435], 150: [436], 151: [437], 152: [438], 153: [439, 440], 154: [441, 442], 155: [443], 156: [444, 445], 157: [446], 158: [447, 448, 449], 159: [450], 160: [451, 452], 161: [453], 162: [454, 455, 456], 163: [457], 164: [458, 459], 165: [460], 166: [461, 462], 167: [463], 168: [464], 169: [465], 171: [466, 467, 468, 469]}\n",
      "(5, 15)\n",
      "{3: [181, 182, 183], 4: [184], 5: [185, 186, 187, 188, 189], 6: [190], 7: [191], 9: [192, 193, 194, 195, 196, 197, 198], 10: [199, 200], 11: [201, 202, 203], 12: [204], 13: [205, 206, 207], 15: [208], 16: [212], 17: [213, 214, 215, 216], 18: [217], 19: [218], 20: [219, 220], 21: [221], 22: [222, 223], 23: [224, 225, 226], 24: [227], 25: [228], 27: [229], 28: [230, 231, 232, 233, 234, 235, 236, 237], 29: [238, 239, 240], 30: [241, 242], 31: [243], 32: [244, 245, 246], 33: [247], 34: [248], 35: [249, 250], 36: [251, 252, 253, 254], 37: [255, 257], 38: [258, 259], 40: [260], 41: [261], 42: [262, 263, 264, 265], 43: [266], 44: [267], 46: [269, 270, 271, 272], 47: [273], 48: [274], 49: [275, 276], 51: [277], 52: [278], 53: [279], 54: [280, 281], 56: [282, 283], 57: [284], 58: [285, 286], 59: [287, 288, 289], 60: [290, 291], 61: [292, 293], 62: [294], 63: [295, 296], 64: [297, 298, 301, 309, 310], 65: [311], 66: [312], 67: [313], 68: [314], 69: [315, 316], 70: [317, 318], 72: [319, 320, 321], 73: [322, 323], 74: [324, 325, 326, 327], 76: [328], 78: [329, 330], 80: [331, 332, 333, 334], 81: [335], 82: [336, 337], 83: [338, 339, 340, 341], 84: [342, 343], 85: [344, 345], 86: [346, 347], 87: [348], 88: [349], 89: [350], 91: [351, 352], 92: [353, 354], 93: [355, 356], 94: [357], 95: [358, 359, 360], 96: [361], 97: [362], 98: [363], 99: [364], 100: [364, 365], 101: [366, 367, 368], 102: [369], 103: [370], 106: [371], 107: [372, 373, 374], 108: [375, 376], 109: [377], 110: [378], 111: [379], 112: [380, 381, 382], 113: [383], 114: [384], 115: [385, 386], 116: [387, 388], 118: [390, 391, 392, 393], 119: [394, 395], 120: [396, 397], 121: [398], 122: [399, 400, 401, 402, 404], 123: [405, 406], 124: [407, 408, 409, 410], 125: [411], 126: [412, 413], 127: [414, 415], 128: [416, 417, 418], 129: [419], 130: [420], 131: [421], 132: [422, 423], 133: [424], 134: [425, 426], 135: [427, 428, 429, 430], 136: [431], 137: [432, 433], 138: [434, 435], 139: [436], 140: [437], 141: [438, 439, 440, 441], 143: [442, 443], 144: [444], 145: [445, 446], 146: [447], 147: [448], 148: [449], 149: [450, 451, 452, 453, 454], 150: [455, 456, 457, 458], 151: [459], 152: [460, 461], 153: [462], 154: [463], 155: [464], 156: [465], 157: [466, 467, 468, 469], 158: [470], 159: [471, 472, 473, 474], 160: [475], 161: [476], 162: [477], 164: [478], 165: [479, 480], 166: [481], 167: [482, 483], 168: [484], 169: [485], 170: [486, 487], 171: [488, 489], 172: [490, 491], 173: [492], 174: [493, 494], 175: [495], 176: [496, 497], 177: [498], 178: [499], 179: [500], 180: [501, 502], 181: [503, 504], 182: [505], 183: [506, 507], 184: [508, 509], 185: [510]}\n",
      "(5, 20)\n",
      "{0: [185], 1: [186], 2: [187, 188, 189], 3: [190, 191, 192], 4: [193, 194], 5: [195], 6: [196, 197, 198], 7: [199, 200, 201], 8: [202], 9: [203, 204, 205], 10: [206, 207], 11: [208, 209, 210], 12: [211], 13: [212], 14: [213, 214], 15: [215], 16: [216], 17: [217, 218], 18: [219], 20: [220, 221], 21: [224], 22: [225], 23: [226, 227], 24: [228, 229, 230], 25: [231, 232], 26: [233, 234], 27: [235, 236], 29: [237], 30: [238], 31: [239], 32: [240, 241], 34: [242], 35: [243], 36: [244], 37: [245], 38: [246], 39: [247], 40: [248, 249], 41: [250], 42: [251], 43: [252, 253, 254], 44: [255], 47: [257], 48: [258], 49: [259], 52: [261, 262], 53: [263], 54: [265], 55: [266], 56: [267], 57: [268, 269, 270], 58: [271], 59: [272], 60: [273, 274], 61: [275, 277], 62: [276, 278, 279], 63: [281], 64: [282], 65: [283], 66: [284, 285], 68: [286], 69: [287, 288], 72: [291], 74: [293], 75: [294, 295, 296], 76: [297], 77: [298, 299], 78: [300, 301], 79: [302, 303], 80: [304], 81: [305], 82: [306], 83: [307], 84: [308], 85: [309, 310], 86: [311], 87: [312, 313, 314], 88: [315], 89: [316, 317], 94: [319, 320], 95: [321], 97: [322], 98: [323], 99: [324], 100: [325, 326], 101: [327, 328], 102: [329], 103: [330, 331, 332], 104: [333], 105: [334, 335], 106: [336], 107: [337, 338], 108: [339], 109: [340], 110: [341, 342, 343], 111: [344, 345], 112: [346, 347, 350, 352, 353, 354, 358, 359, 361, 362], 113: [363], 114: [364], 115: [365, 366], 116: [367], 117: [368], 118: [369, 370], 119: [371, 372], 120: [373], 121: [374], 122: [375], 123: [376], 124: [377], 125: [378], 126: [379], 127: [380], 128: [381], 129: [382], 130: [383], 131: [384], 132: [385, 386], 133: [387, 388], 134: [389], 135: [390], 136: [391, 392, 397], 137: [393, 394, 395], 138: [396, 398, 399], 139: [400, 401], 140: [402], 141: [403], 142: [404, 405, 406], 143: [407], 144: [408], 145: [409, 410], 146: [411, 412], 147: [413, 414, 415, 416], 148: [417], 149: [418], 150: [419], 151: [420, 421, 422], 152: [423, 425], 153: [426, 427, 428], 154: [429], 155: [430, 432], 156: [433], 157: [434], 158: [435, 436, 437], 159: [438], 160: [439, 440, 441], 161: [442], 162: [443, 444], 163: [445], 164: [446, 447], 165: [448, 449], 166: [450, 451, 452, 453], 167: [454, 455], 168: [456, 457], 169: [458], 170: [459, 460], 171: [461], 172: [462], 173: [463], 175: [464], 177: [465], 178: [466], 179: [467, 468, 469], 180: [470, 472], 181: [473], 182: [474], 183: [475, 476, 477], 184: [478, 479], 185: [480, 483, 484], 190: [485], 191: [486, 487], 192: [488, 489, 490], 193: [491, 492], 195: [493], 196: [494], 197: [495, 496, 497], 198: [498], 199: [499, 500], 200: [501], 201: [502, 503, 504, 505], 202: [506], 204: [507, 508], 205: [509], 207: [510], 208: [511, 512], 209: [513], 210: [515], 211: [516, 517], 212: [518], 214: [519], 215: [520], 216: [521], 217: [522], 218: [523, 524], 219: [525, 526], 220: [527, 528], 221: [529, 530, 531]}\n",
      "(5, 23)\n",
      "{0: [174], 1: [175, 176], 2: [177, 178], 3: [179, 180, 181], 4: [182, 183, 184, 185, 186, 192], 5: [196, 197], 7: [198], 8: [199], 9: [200, 201], 10: [202, 203], 11: [204], 12: [205, 206], 13: [207], 14: [208], 15: [209], 16: [210, 211, 212], 17: [213, 214], 19: [215], 20: [216], 21: [217], 22: [218], 23: [219, 220, 221], 24: [222, 223], 25: [224], 26: [225, 227], 27: [228], 28: [229], 29: [230], 30: [231], 31: [232, 233, 234, 235, 236, 237, 238, 239], 32: [240], 33: [241], 34: [242, 243, 244], 36: [245], 37: [246], 38: [247, 248, 249, 250, 251], 39: [252], 40: [253], 41: [254, 255], 42: [256], 43: [258, 259, 260], 44: [261], 45: [262], 47: [263], 48: [264], 50: [265], 51: [266, 267], 52: [268], 53: [269, 271], 54: [272, 273], 55: [274, 275, 276], 56: [277], 57: [278, 279], 58: [280], 59: [281, 282, 283, 284], 60: [285], 61: [286], 62: [287, 288], 63: [289, 290, 291], 64: [292], 65: [293, 294], 66: [295], 67: [296, 297, 298], 68: [299, 300, 301], 69: [302], 70: [303, 304], 71: [305], 73: [306, 307], 74: [308, 309], 76: [310], 77: [311], 78: [312], 79: [313, 314], 80: [315, 316], 81: [317], 82: [318], 83: [319, 320], 84: [321, 322, 323], 85: [324, 325], 86: [326, 327], 87: [328], 88: [329], 89: [330, 331], 90: [332], 91: [333, 334], 92: [335, 338], 93: [339, 340], 94: [341, 342], 95: [343], 96: [344, 345, 346, 347], 97: [348], 98: [349, 350, 351], 99: [352, 353], 100: [354], 101: [355, 356, 357], 102: [358], 103: [359, 360, 361, 362, 363, 364, 365, 366, 367, 368, 369], 104: [370], 105: [371], 106: [372], 107: [373, 374], 108: [375], 109: [376], 111: [377], 112: [378], 113: [379, 380, 381], 114: [382, 383], 115: [384, 385], 116: [386, 387], 117: [388], 118: [389, 390], 119: [391, 392, 393, 394], 120: [395], 121: [396], 122: [397, 398], 123: [399], 124: [400, 401], 125: [402], 126: [403], 127: [404, 405], 128: [406], 129: [407, 408], 130: [409, 410], 131: [411, 412], 132: [413], 133: [414, 415], 134: [416, 417], 135: [418], 136: [419, 420, 421, 422], 137: [423], 138: [424], 139: [425], 140: [426, 427], 141: [428], 142: [429, 430, 431, 432, 433], 143: [434, 435, 436], 144: [437], 146: [438, 439], 147: [440], 148: [441], 149: [442], 150: [443], 151: [444, 445], 152: [446, 447, 448], 153: [449], 154: [450, 451], 155: [452, 453], 156: [454], 157: [455, 456], 158: [457, 458, 459], 159: [460], 160: [461, 462], 161: [463, 464, 465], 162: [466], 163: [467, 469, 470, 471], 164: [477], 167: [478, 479], 166: [480], 168: [481], 169: [482], 170: [483], 172: [484], 174: [485, 486, 487, 489], 175: [490, 492], 176: [493, 494], 177: [495], 178: [496, 497], 179: [498], 180: [499], 181: [500, 501, 502], 182: [503], 183: [504], 184: [505], 186: [506], 188: [507], 189: [508], 190: [509, 510], 191: [511], 192: [512], 193: [513, 514], 194: [515], 195: [516], 197: [517, 518], 199: [519], 200: [520], 201: [521], 202: [522, 523], 203: [524]}\n",
      "(6, 2)\n",
      "{0: [195], 1: [196], 2: [197, 198], 3: [199], 4: [200], 5: [201], 6: [202], 7: [203], 8: [204], 9: [205, 206, 207, 208], 10: [209], 11: [210], 12: [211], 13: [212, 213], 14: [214], 15: [215], 16: [216], 17: [217], 18: [218], 19: [219], 20: [220], 21: [221], 22: [222], 23: [223], 24: [224], 25: [225], 26: [226], 27: [227, 228, 229, 230, 231], 28: [232, 233], 29: [234], 30: [235, 236, 237, 238], 31: [240], 32: [241, 242, 243], 33: [244], 34: [245, 246, 247], 35: [248], 36: [249], 37: [250, 251], 38: [252], 39: [253, 254, 255], 40: [256, 257], 41: [258], 42: [259, 260, 261, 262], 43: [263], 44: [264], 46: [265, 266], 47: [267], 48: [268, 269], 49: [270], 50: [271], 51: [272, 273], 53: [274], 54: [275], 56: [276], 58: [277], 59: [278], 60: [279], 61: [280], 62: [281, 282, 283], 63: [284, 285], 64: [286, 287], 65: [288], 66: [289], 67: [290], 68: [291], 69: [292], 70: [293], 71: [294, 295, 296], 73: [297, 298], 74: [299], 75: [300], 76: [301], 77: [302], 78: [303, 304, 305], 79: [306], 80: [307, 308], 81: [309], 82: [310, 311, 312, 313], 83: [314], 84: [315], 86: [316], 87: [317], 88: [318, 319, 320, 321, 322], 89: [323], 90: [324, 325, 326, 327, 328, 329, 330], 91: [331], 92: [332], 93: [333], 94: [334, 335, 336, 337, 339, 340], 95: [341], 96: [342, 343], 98: [344, 345], 99: [346], 100: [347], 101: [348, 349], 102: [350, 351], 106: [352, 353], 107: [354], 108: [355], 110: [356, 357], 111: [358], 112: [359, 360, 361, 362, 363], 113: [364], 115: [365], 116: [366], 117: [367, 368], 120: [369], 121: [370], 122: [371, 372], 123: [373], 124: [374], 125: [375], 126: [376], 127: [377], 128: [378, 379], 129: [380], 130: [381], 131: [382], 132: [383, 384, 385], 133: [386], 134: [387, 388], 135: [389], 136: [390, 391, 392], 137: [393], 138: [394, 395, 396], 139: [397, 398], 140: [399, 400], 142: [401], 143: [402], 144: [403, 404, 405, 406, 407, 408, 409], 145: [410, 411], 146: [412], 149: [413], 150: [414], 151: [415, 416, 417], 154: [418, 419, 420], 155: [421], 156: [422, 423, 424], 157: [425], 158: [426], 159: [427], 160: [428, 429], 161: [430, 431, 432, 433], 164: [434], 165: [435], 166: [436], 167: [437, 438], 168: [439], 169: [440, 441], 170: [442], 171: [443], 172: [444, 445], 173: [446], 174: [447], 175: [448, 449], 176: [450], 177: [451], 178: [452], 179: [453], 180: [454], 181: [455, 456], 182: [457, 458], 183: [459], 184: [460], 185: [461, 462], 186: [463], 187: [464], 188: [465, 466], 189: [467, 468, 469, 470, 471], 190: [472], 191: [473], 192: [474], 193: [475, 476], 194: [477], 196: [478, 479], 197: [480], 198: [481], 199: [482, 483], 200: [484], 202: [485, 486, 487], 204: [488], 206: [489], 207: [490], 208: [491], 209: [492], 211: [493], 214: [494, 495], 215: [496], 216: [497], 217: [498], 218: [499, 500], 219: [501, 502, 503], 220: [504], 221: [505, 506, 508, 509], 222: [510, 511], 224: [512], 225: [513]}\n",
      "(6, 3)\n",
      "{0: [186], 1: [187], 2: [188, 189], 3: [190, 191], 5: [192], 6: [193, 195], 8: [196, 197, 198], 9: [199], 10: [200], 11: [201, 202, 203], 12: [204], 14: [205, 206], 15: [207, 208, 209], 16: [210, 211], 17: [212], 18: [213, 214], 19: [215], 20: [216], 21: [217, 218], 22: [219, 220], 23: [221], 24: [222], 25: [223], 26: [224], 27: [225], 29: [226, 227], 30: [228, 229, 230], 31: [231, 232, 233], 32: [234], 33: [235, 236], 34: [237], 35: [238], 36: [239, 241], 37: [242], 38: [243, 244, 245, 246], 39: [247], 40: [248, 249], 41: [250], 42: [251], 43: [252, 253, 254, 255], 44: [256, 257], 45: [258], 46: [262, 263, 264], 47: [265], 48: [266, 267, 268], 49: [269], 50: [270, 271, 272, 273, 274, 277, 278], 51: [279], 52: [280, 281, 282], 53: [283], 54: [284], 55: [285, 286], 56: [287], 57: [288], 58: [289, 290], 59: [291], 60: [292, 293, 294, 295, 296], 61: [297], 63: [298], 64: [299, 300], 65: [301], 66: [302, 303, 304], 67: [305, 306], 68: [307, 308], 69: [309], 70: [310], 71: [311, 312], 72: [313], 73: [314], 74: [315, 316], 75: [317], 77: [318, 319], 79: [320, 321, 322, 323, 324], 80: [325, 326], 81: [327, 328, 329], 82: [330, 331, 332, 333], 83: [334, 335], 84: [336, 337], 85: [338, 339], 86: [340, 341], 87: [342], 88: [343, 344, 345], 89: [346], 90: [347], 91: [348], 92: [349], 93: [350], 94: [351], 95: [352], 96: [353, 354, 355, 356], 97: [357], 98: [358], 100: [359, 360], 101: [361], 102: [362, 363], 103: [364], 104: [365], 105: [366, 367], 106: [368, 369, 370], 107: [371], 108: [372, 373], 109: [374, 375, 376], 110: [377], 113: [378], 114: [379, 380], 115: [381, 382], 116: [383], 117: [384, 385], 118: [386, 387], 119: [388], 120: [389], 121: [390], 123: [391], 124: [392], 125: [393], 126: [394], 127: [395], 128: [396, 397], 129: [398], 130: [399], 131: [400, 401], 132: [402, 403], 133: [404], 134: [405, 406, 407], 135: [408], 136: [409], 138: [410, 411], 139: [412, 413], 140: [414], 141: [415], 142: [416], 143: [417, 418, 419], 145: [420], 146: [421, 422], 147: [423, 424, 425], 148: [426], 149: [427], 150: [428], 151: [429], 152: [430, 431], 153: [432], 155: [433, 434], 156: [435, 436], 157: [437, 438, 439, 440, 441, 442], 159: [443, 444, 445], 160: [446], 161: [447, 448, 449, 450, 451], 162: [452], 163: [453], 164: [454, 455, 456], 165: [457, 458], 166: [459, 460], 167: [461, 462, 463], 168: [464], 169: [465, 466, 467, 468, 469, 470, 471], 170: [472, 473, 474, 476], 171: [477], 172: [478, 479, 480], 174: [481], 175: [482], 176: [483, 484], 178: [485, 486], 179: [487, 489, 490], 181: [491, 492], 182: [493, 494], 183: [495, 496], 184: [497], 185: [498, 499, 500], 186: [501, 502], 187: [503, 504], 188: [505, 506, 507], 189: [508, 509], 191: [510], 192: [511], 193: [512], 194: [513], 195: [514, 515, 516, 517], 196: [518, 519, 520]}\n",
      "(6, 4)\n",
      "{0: [200], 1: [201], 2: [202], 3: [203, 204, 205], 4: [206, 207], 5: [208, 209], 6: [210, 211], 7: [212], 8: [213], 9: [214], 10: [215, 216], 11: [217], 12: [218], 14: [219], 15: [220, 221, 222, 223, 224], 16: [225, 226], 17: [230], 18: [231], 19: [232], 20: [233], 21: [234, 235, 236], 23: [237, 238], 24: [239], 25: [240], 26: [241, 242], 27: [243], 28: [244, 245], 29: [246], 30: [247, 248, 249], 31: [250, 251], 32: [252], 33: [253, 254], 34: [255, 256], 35: [257, 258], 36: [259], 37: [260, 261], 38: [262], 40: [263, 264], 41: [265], 42: [266, 267], 43: [268], 44: [269], 45: [270], 47: [271], 48: [272, 273], 49: [274, 275, 276, 277], 50: [278, 279, 280], 52: [281, 282], 53: [283], 54: [284, 285, 287, 288], 55: [289], 56: [290], 57: [291], 58: [292], 59: [293], 61: [294], 63: [295], 64: [296, 297], 65: [298], 66: [299, 300], 67: [301, 302, 303], 68: [304], 69: [305], 71: [306, 307], 74: [308, 309], 75: [310, 311], 76: [312], 77: [313, 314, 315], 78: [316], 79: [317, 318, 319, 320, 321, 322], 80: [323, 324], 81: [325, 326], 82: [327], 83: [328], 84: [329], 85: [330], 87: [331, 332], 88: [333], 90: [334], 91: [335, 336, 337, 338], 93: [339, 340, 341], 95: [342], 96: [343, 344], 97: [345], 98: [346, 347], 99: [348, 349, 350], 101: [351, 352], 102: [353, 354], 103: [355, 356, 357], 104: [358], 105: [359, 360], 106: [361, 362], 107: [363], 108: [364, 365], 109: [366], 110: [367], 111: [368], 112: [369, 370, 371], 113: [372], 114: [373], 115: [374], 116: [375, 376], 117: [377, 378], 118: [379], 120: [380, 381], 121: [382], 122: [383, 384], 123: [385, 386], 124: [387], 127: [388], 128: [389], 129: [390, 391], 130: [392, 393], 131: [394], 132: [395], 133: [396, 397], 134: [398], 135: [399], 136: [400], 137: [401, 402], 138: [403, 404], 140: [405, 406, 407], 141: [408], 142: [409], 143: [410], 144: [411], 146: [412], 147: [413], 148: [414, 415], 149: [416, 417], 150: [418], 151: [419, 420], 152: [421], 153: [422], 154: [423], 155: [424], 156: [425], 157: [426, 427], 158: [428], 159: [429], 160: [430], 161: [431, 432], 162: [433], 165: [434, 435], 168: [436, 438, 439], 169: [440], 170: [441, 442, 443], 171: [444, 445], 172: [446, 447], 173: [448], 174: [449], 175: [450, 451], 176: [452, 453], 177: [454, 455], 178: [456], 179: [457], 180: [458], 181: [459], 182: [460], 183: [461], 184: [462], 185: [463, 464], 186: [465], 187: [466], 189: [467], 190: [468], 191: [469, 470], 192: [471], 193: [472, 473], 194: [474], 195: [475, 476], 196: [477], 197: [478, 479], 198: [480], 199: [481], 200: [482], 201: [483], 202: [484, 485], 203: [486], 204: [487, 488], 206: [489], 207: [490, 491], 208: [492], 209: [493], 210: [494], 211: [495], 212: [496], 213: [497], 214: [498], 216: [499, 500], 218: [501, 502], 219: [503, 504, 505], 220: [506], 221: [507, 508, 509]}\n",
      "(6, 5)\n",
      "{0: [190], 1: [191], 2: [192, 193], 3: [194], 4: [195, 196], 5: [197], 6: [198, 199], 7: [200], 8: [201, 202], 9: [203, 204], 10: [205, 206], 11: [207, 208], 13: [209, 210], 14: [211, 212, 213, 214], 15: [215], 16: [216, 217], 17: [218, 219], 18: [220, 221, 222], 19: [223, 224, 225, 226], 22: [227, 228], 23: [230, 231], 25: [232], 26: [233, 235], 27: [236], 28: [237, 238], 29: [239], 30: [240], 31: [241, 242], 32: [243], 33: [244, 245], 34: [246], 35: [247, 248], 36: [249], 37: [250], 38: [251], 39: [252, 253, 254], 40: [254], 41: [255], 42: [256], 44: [257], 45: [258], 46: [259], 47: [260], 48: [261], 49: [262], 50: [263], 51: [264, 265], 52: [266, 268], 53: [269], 54: [270], 55: [271, 272, 273, 274], 57: [275, 276], 58: [277, 278], 59: [279], 60: [280, 281], 61: [282, 283, 284, 285], 63: [286], 64: [287], 65: [288, 289], 66: [290, 291, 292], 67: [293], 68: [294], 69: [295], 71: [296], 72: [297], 73: [298, 299], 74: [300], 75: [301], 76: [302, 303], 77: [304], 78: [305, 306], 79: [307], 80: [308, 309], 81: [310], 82: [311], 83: [312, 313, 314], 84: [315], 85: [316], 86: [317], 87: [318], 89: [319, 320], 92: [321], 93: [322], 94: [323], 97: [324, 325], 99: [326, 327], 100: [328, 329, 330], 101: [331], 102: [332], 103: [333], 104: [334], 105: [335, 336], 106: [337, 338, 339, 340], 107: [341, 342, 343, 344], 108: [345], 109: [346], 111: [347], 112: [348], 113: [349, 350], 114: [351], 115: [352, 353, 354, 355, 356, 357, 358], 116: [359], 118: [360, 361, 362], 119: [363], 120: [364], 121: [365, 366], 122: [367], 123: [368], 124: [369], 125: [370], 127: [371, 372, 373], 128: [374, 375, 376], 129: [377], 130: [378], 132: [379, 380, 381], 133: [382], 134: [383], 135: [384], 136: [385], 137: [386], 138: [387], 139: [388, 389, 390, 391], 140: [392], 141: [393, 394], 142: [395], 143: [396], 144: [397], 145: [398, 399], 146: [400], 149: [401, 402], 150: [403, 404], 153: [405, 406, 407], 154: [408], 155: [409], 156: [410, 411, 412], 157: [413], 159: [414], 160: [415, 416, 417], 161: [418, 419, 420], 162: [421, 422, 423], 163: [424], 166: [425, 426, 427], 167: [428], 168: [429, 430], 169: [431, 432, 433], 170: [434, 435], 171: [436], 172: [437, 438], 173: [439], 174: [440, 441], 175: [442], 176: [443], 177: [444, 445, 446], 178: [447], 179: [448], 180: [449], 181: [450], 182: [451], 184: [452], 185: [453, 454, 455], 186: [456], 187: [457], 188: [458], 189: [459], 190: [460], 191: [461], 193: [462, 463, 464, 465], 194: [466, 467, 468], 195: [469], 196: [470, 471], 197: [472, 473], 198: [474, 475], 199: [476, 477], 200: [478, 479, 480], 202: [481, 482, 483], 203: [484], 204: [485], 205: [486], 206: [487, 488, 489], 207: [490], 208: [491], 209: [492], 210: [493], 211: [494, 495, 496], 214: [497, 498], 215: [499, 500], 216: [501], 217: [502], 218: [503, 504, 505, 506, 508, 509, 545]}\n",
      "(6, 6)\n",
      "{0: [198, 199], 1: [200], 2: [201], 3: [202], 4: [203], 5: [204], 6: [205, 206, 207, 208], 7: [209, 210, 211], 8: [212, 213, 214, 215, 216, 217], 9: [218, 219], 10: [220, 221, 222, 223, 224], 11: [225], 12: [226, 227, 228, 229], 13: [230, 231], 14: [232, 233], 15: [234], 16: [235, 236, 237, 238, 239, 240, 241], 17: [242, 243], 18: [246, 247, 248, 249, 250], 19: [251, 252, 253], 20: [254], 21: [255], 22: [256], 23: [257], 24: [258], 25: [259, 260], 26: [261], 27: [262, 263], 28: [264, 265], 29: [266], 30: [267, 268], 31: [269], 32: [270, 271], 33: [272], 34: [273], 35: [274], 36: [275], 37: [276, 277], 38: [278, 279], 39: [280, 281, 282], 40: [283], 42: [284], 43: [285, 287], 44: [288, 289], 45: [290, 291, 292], 47: [293, 294, 295], 48: [296], 49: [297, 298], 50: [299], 51: [300], 52: [301, 302, 303], 53: [304, 305, 306], 54: [307], 55: [308, 309, 310, 311], 56: [312], 57: [313, 314], 58: [315, 316], 59: [317], 60: [318, 319], 61: [320, 321, 322, 323], 62: [324, 325, 326], 63: [327], 64: [328], 67: [329, 330, 331], 68: [332, 333], 69: [334], 70: [335, 336], 72: [337, 338], 73: [339], 74: [340, 341], 75: [342, 343, 344], 76: [345], 77: [346], 78: [347], 79: [348, 349], 80: [350, 351], 81: [352, 353, 354], 82: [355, 356, 357, 358, 359], 84: [360, 361, 363, 364, 365], 85: [366], 86: [366], 88: [367], 89: [368], 90: [369], 91: [370, 371], 94: [372, 373, 374, 375], 95: [376], 96: [377], 98: [378, 379, 380], 99: [381, 382, 383], 100: [384], 101: [385, 386], 102: [387, 388], 103: [389], 104: [390], 105: [391, 392, 393, 395, 396], 106: [397, 398, 399], 107: [400, 401, 402, 403, 404, 405], 108: [406, 407], 109: [408, 409], 110: [410, 411, 412, 413, 414], 111: [415, 416, 417, 418, 419, 420], 112: [421], 113: [422], 114: [423], 115: [424], 116: [425], 117: [426], 118: [427], 120: [428, 429, 430], 122: [431], 124: [432, 433, 434], 125: [435], 126: [436], 127: [437, 438], 128: [439, 440], 129: [441, 442, 443], 130: [444, 445], 131: [446], 132: [447, 448], 133: [449, 450], 135: [450, 451, 452], 136: [453], 137: [454, 455, 456], 138: [457, 458, 459], 139: [460, 461, 462], 140: [463, 464], 141: [465], 142: [466, 467, 468, 469, 470], 143: [471], 144: [472, 473], 145: [477], 146: [478, 479], 147: [480], 148: [481, 482, 483], 149: [484], 150: [485, 486, 487, 488], 151: [489], 152: [490, 491, 492], 153: [493], 154: [494], 156: [495], 157: [496], 158: [497], 159: [498], 160: [499, 500, 501], 161: [502], 162: [503, 504], 163: [505, 506], 164: [507, 508, 509], 166: [510, 511], 168: [512, 513, 514, 515, 516], 169: [517], 170: [518], 171: [519], 173: [520, 521], 174: [522], 176: [523, 524], 177: [525, 526], 178: [527], 182: [528], 183: [529], 184: [530], 185: [531], 186: [532], 187: [533], 188: [534], 189: [535], 190: [536, 537], 191: [538, 539, 540], 192: [541], 193: [542], 194: [543, 544, 545]}\n",
      "(6, 7)\n",
      "{0: [179, 180, 181, 183, 184, 187], 1: [188], 2: [189], 4: [190, 191, 192], 6: [193, 194, 195], 7: [196], 8: [197, 198], 9: [199], 10: [200, 201, 202], 11: [203], 12: [204], 13: [205, 206, 207], 14: [208, 209], 15: [210, 211, 212], 16: [213, 214], 18: [215, 216, 217], 19: [218, 219], 20: [220, 221, 222, 223], 21: [224], 22: [225], 23: [226], 24: [227], 25: [228, 229, 230], 26: [231], 27: [232], 28: [233], 29: [234], 30: [235, 236, 238], 31: [239], 32: [240], 33: [241, 242], 34: [243, 244, 245], 35: [246], 36: [247, 248, 249, 250], 37: [251], 38: [252, 253], 39: [256], 40: [257, 258], 41: [259], 42: [260], 43: [261], 44: [262, 264, 265], 45: [266], 46: [267, 268], 47: [269], 49: [270], 50: [271], 51: [272, 273], 52: [274], 53: [275, 276], 54: [277, 280], 56: [281], 57: [282, 283], 58: [284, 285], 59: [286], 60: [287, 288], 61: [289], 62: [290, 291], 63: [292], 64: [293, 294, 295, 296], 65: [297], 66: [298], 67: [299], 68: [300], 69: [301], 70: [302, 303, 305], 71: [306], 72: [307], 73: [308], 74: [309, 310], 75: [311], 76: [312, 313, 314], 78: [315, 316, 317, 318], 79: [319], 80: [320, 321], 81: [322], 82: [323, 324], 83: [325], 84: [326, 328], 85: [329, 330], 86: [331, 332], 87: [333], 88: [334], 89: [335], 90: [336, 337], 91: [338], 92: [339, 340, 341], 93: [342], 94: [343, 344], 95: [345], 96: [346], 97: [347], 98: [348, 349], 99: [350], 100: [351, 352, 353], 101: [354, 355, 356], 102: [357], 103: [358, 361], 104: [362], 105: [363, 364], 106: [365], 108: [366], 109: [367, 368], 110: [369, 370, 371, 375, 376, 377], 111: [378], 112: [379], 113: [380], 114: [381, 382, 383], 115: [384, 385, 386, 387, 388], 116: [389, 390, 391], 117: [392], 118: [393], 119: [394], 120: [395, 396, 397, 398], 121: [399], 122: [400], 123: [401], 124: [402, 403], 125: [404, 405], 126: [406, 407, 408, 409], 127: [410], 128: [411, 412], 129: [413], 130: [414], 131: [415], 132: [416], 133: [417], 134: [418, 419], 135: [420, 421, 422], 136: [423, 424, 425, 426], 137: [427], 138: [428, 429, 430, 431, 432, 433, 434], 139: [435], 140: [436, 437], 141: [438, 439, 440], 142: [441], 143: [442, 443], 144: [444, 445], 146: [446], 147: [447], 148: [448, 449, 450], 149: [451], 150: [452, 453], 151: [454], 152: [455], 153: [456, 457], 154: [458, 459], 155: [460, 461], 156: [462, 463], 157: [464, 465], 158: [466], 159: [467, 468, 469], 160: [470], 161: [471, 472, 474, 475, 476], 162: [477], 163: [478], 164: [479, 480], 165: [481], 166: [482], 167: [483], 168: [484], 169: [485, 486], 170: [487], 171: [488], 172: [489], 173: [490, 491], 174: [492], 175: [493, 494], 176: [495], 177: [496, 497, 498, 500], 178: [501], 179: [502, 503], 180: [504], 181: [505], 183: [506, 507, 508, 509], 184: [510, 511, 513, 514], 185: [515, 516], 186: [517, 518], 187: [519, 520], 188: [521, 522]}\n",
      "(6, 8)\n",
      "{0: [188], 1: [189], 2: [190], 3: [191], 4: [192, 193, 194], 5: [195], 6: [196], 7: [197], 9: [198], 10: [199], 11: [200], 12: [201], 13: [202, 206], 14: [207], 15: [208], 16: [209, 210], 17: [211], 18: [212], 19: [213], 20: [223], 21: [224], 23: [225], 24: [226], 25: [227], 26: [228], 27: [229, 230], 28: [231, 232], 29: [233], 30: [234, 236], 31: [237], 32: [238, 239], 33: [240], 34: [241], 35: [242], 36: [243], 37: [244, 245, 246], 38: [247, 248], 39: [249], 44: [250], 45: [251], 46: [252], 47: [253], 48: [254, 255, 256], 49: [257], 50: [259], 51: [260], 52: [261, 262], 53: [263], 54: [264, 265], 55: [266], 56: [267, 268], 57: [269], 58: [270], 59: [271], 64: [274], 65: [275, 276], 66: [277], 67: [278], 69: [279], 70: [280], 71: [281], 72: [282], 73: [283], 74: [284], 75: [285], 76: [286, 287], 77: [288], 79: [289], 80: [290], 81: [291], 82: [292, 293, 294], 83: [295], 84: [296, 297], 85: [298, 299], 86: [300], 87: [301, 302, 303, 304, 305], 88: [306], 89: [307, 308], 90: [309, 310, 311], 92: [312, 313, 314], 93: [315, 316], 94: [317], 95: [318], 96: [319], 97: [320], 98: [321, 322, 323, 324], 99: [325, 326], 100: [327], 102: [328, 329], 103: [330], 104: [331, 332], 105: [333], 106: [334], 107: [335], 108: [336], 109: [337, 338], 111: [339], 113: [340], 114: [341, 342], 116: [343, 344], 117: [345], 118: [346, 347], 119: [348], 120: [349, 350, 351], 121: [352], 122: [353], 123: [354], 124: [355], 125: [356], 126: [357], 127: [358], 128: [359], 129: [360, 361, 362], 130: [363], 131: [364, 365], 132: [366], 133: [367], 134: [368], 135: [369], 137: [371, 372, 373], 139: [374], 140: [375], 143: [376], 144: [377], 145: [378, 379], 146: [380], 147: [381, 382], 149: [383], 150: [384], 151: [385, 387], 152: [388], 153: [389, 390], 154: [391], 155: [392, 393, 394, 395, 396], 156: [397], 159: [399, 400, 401], 160: [402], 161: [403, 404, 405], 162: [406, 407, 408], 163: [409, 410, 411, 412, 413], 164: [414, 415], 165: [416], 166: [417, 418], 169: [420, 421], 171: [422], 172: [423, 424], 173: [425, 426], 174: [427], 175: [428], 176: [429], 177: [430], 178: [431, 432], 179: [433], 180: [434, 435], 181: [436], 182: [437, 438], 183: [439], 184: [440, 441, 442], 186: [443, 444], 187: [445], 188: [446], 189: [447], 191: [448], 192: [449], 193: [450], 194: [451], 195: [452], 197: [453], 198: [454], 199: [455, 456], 200: [457, 458, 459, 460, 461, 462], 201: [463, 464, 465], 202: [466], 204: [467], 205: [468], 206: [469], 207: [470], 208: [471, 473, 474, 475, 476], 209: [477, 478], 210: [479], 211: [480], 212: [481], 213: [482], 214: [483], 215: [484], 217: [485, 486], 218: [487, 488], 219: [489, 490, 491], 221: [492], 222: [493], 223: [494], 224: [495], 225: [496], 226: [497], 227: [498, 499, 500, 503], 228: [504], 229: [505], 230: [506], 232: [507, 509]}\n",
      "(6, 9)\n",
      "{0: [175], 2: [176, 177], 3: [178, 179], 4: [180, 181], 5: [182], 6: [183, 184], 7: [185, 186, 187], 8: [188], 9: [189], 10: [190], 11: [191], 12: [192], 13: [193], 14: [194], 15: [195], 16: [196, 197], 17: [198], 19: [199], 20: [200, 201, 202], 21: [203], 22: [204], 23: [205, 206], 24: [207, 208], 25: [209, 210, 211, 212, 214, 215], 26: [216, 217], 27: [218, 219, 220], 28: [221], 29: [222, 223, 224], 31: [225], 32: [226], 33: [227, 228, 229, 231, 233, 234, 235, 236, 237, 238, 239], 34: [240, 241], 35: [242, 243], 36: [244, 245], 37: [246, 247, 248, 249, 250, 251], 38: [252], 39: [253, 254], 40: [255], 42: [256], 43: [257, 258], 44: [259, 260, 261, 262], 45: [263], 46: [264, 265], 47: [266], 48: [267, 268, 269], 49: [270, 271], 50: [272], 51: [273, 274], 52: [275], 53: [276], 54: [277], 55: [278], 57: [279, 281], 56: [280], 58: [282], 59: [283, 284], 60: [285, 286], 61: [287], 62: [288, 289], 63: [290], 64: [291], 65: [292], 66: [293, 294], 68: [295, 296, 297], 69: [298, 299], 70: [300, 301], 71: [302, 303, 304], 72: [305, 306, 307], 74: [308, 309, 310], 75: [311], 76: [312, 313, 314, 315], 77: [316, 317, 318], 79: [319], 80: [320], 81: [321], 82: [322], 83: [323, 324], 84: [325], 85: [326, 327], 86: [328], 87: [329], 88: [330], 89: [331, 332], 90: [333, 334], 91: [335, 336, 337], 92: [338, 339], 94: [340, 341, 342], 95: [343, 344, 345], 96: [346], 97: [347], 98: [348], 99: [349, 350], 100: [351, 352], 101: [353], 103: [354, 355], 104: [356], 105: [357, 358, 359, 360], 106: [361, 362], 107: [363, 364], 109: [365], 110: [367], 111: [368], 112: [369, 370], 113: [371, 372], 114: [373], 116: [374], 118: [375], 119: [376], 123: [378], 124: [379, 380], 125: [381], 127: [382, 383], 129: [384], 130: [385], 131: [386], 132: [387, 388], 133: [389], 134: [390], 135: [391], 136: [392], 137: [393], 138: [394], 139: [395], 140: [396], 141: [397], 143: [398], 144: [399, 400, 401, 402], 146: [403, 404], 147: [405], 148: [406], 149: [407], 150: [408, 410, 411], 151: [412], 152: [413, 414], 153: [415], 154: [416, 417, 418], 155: [419], 156: [420, 421], 157: [422], 158: [423, 424], 159: [425], 160: [426], 161: [427, 428, 429, 430], 162: [431, 432, 433, 434, 435], 163: [436], 164: [437], 165: [438, 439], 166: [440], 167: [441], 168: [442], 169: [443], 170: [444, 445], 171: [446], 172: [447, 448, 449], 173: [450, 451], 174: [452, 453], 175: [454], 176: [455, 457], 177: [458, 459, 460], 179: [461, 462, 463], 180: [464], 181: [465, 466], 182: [467], 183: [468], 184: [469, 470, 471], 185: [472], 186: [473], 187: [474], 188: [475], 189: [476], 191: [477, 478, 479, 480], 193: [481, 484, 486], 194: [485], 195: [487, 488], 196: [489], 197: [490, 491], 198: [492], 199: [493], 200: [494], 201: [495, 496, 497, 498]}\n",
      "(6, 14)\n",
      "{0: [189], 1: [190, 191], 2: [192], 3: [193, 194], 5: [196, 197], 6: [198], 7: [199, 200, 201], 8: [202], 9: [203], 10: [204, 205], 11: [206], 13: [207], 14: [208], 15: [209], 16: [210], 18: [212, 213, 214, 215, 216, 217, 218, 219, 220, 221, 222], 20: [223, 224], 22: [225, 226], 23: [227, 228, 229, 230], 24: [231, 232, 233], 25: [234], 26: [235, 236, 237], 27: [238], 28: [239, 240], 29: [241, 242, 244], 30: [245], 31: [246, 247], 32: [248, 249, 250], 33: [251], 34: [252], 36: [253], 38: [254], 39: [255, 256, 257, 258], 40: [259], 41: [260], 42: [261], 43: [262, 263], 45: [264, 265, 266], 46: [267], 47: [268, 269], 48: [270], 49: [271, 272], 50: [273], 51: [274, 275, 276], 52: [277], 53: [278, 279], 54: [280], 55: [281, 282], 56: [283], 57: [284, 285], 58: [286], 59: [287, 288], 60: [289, 291], 61: [292, 293], 62: [294], 63: [295, 296], 64: [297], 65: [298], 66: [299, 300], 67: [301, 302], 68: [303, 304], 69: [305], 70: [306], 72: [307], 74: [308], 75: [309], 76: [310, 311], 77: [312], 78: [313], 80: [314, 315, 316, 317, 318], 81: [319], 82: [320, 321, 322], 83: [323], 84: [324, 325], 85: [326], 86: [327, 328], 87: [329, 330], 88: [331], 89: [332], 90: [333, 334], 91: [335, 336, 337], 93: [338, 339], 95: [340], 96: [341, 342, 343], 97: [344, 345], 98: [346], 100: [347, 348], 101: [349, 350], 102: [351], 103: [352], 104: [353], 105: [354], 107: [355], 108: [356], 109: [357, 358, 359, 360], 110: [361, 362, 363], 111: [364, 365, 366], 112: [367, 368], 113: [369, 370], 114: [371], 115: [372], 116: [373], 117: [374, 375], 118: [376], 119: [377, 378], 120: [379], 121: [380], 122: [381, 382], 123: [383, 384], 124: [385], 125: [386, 387], 126: [388, 389], 127: [390, 391], 128: [392], 129: [393], 131: [394], 132: [395, 396], 133: [397], 134: [398, 399, 400], 135: [401, 402], 136: [403, 404], 137: [405, 406], 139: [407], 140: [408, 409], 141: [410, 411], 142: [412], 143: [413], 144: [414], 145: [415, 416], 147: [417], 148: [418], 149: [419, 420, 421], 150: [422], 151: [423], 152: [424, 425], 153: [426, 427], 154: [428], 155: [429, 430, 431, 432, 433], 156: [434, 435, 436], 157: [437, 438], 158: [439, 440], 159: [441], 160: [442, 443], 161: [444], 162: [445], 164: [446], 165: [447], 166: [448], 167: [449], 168: [450], 169: [451, 452, 453], 170: [454], 171: [455], 173: [456, 458, 459], 174: [460], 175: [461, 462], 176: [463], 177: [464], 181: [465, 466], 182: [467, 468], 183: [469], 184: [470], 185: [471], 186: [472], 187: [473], 188: [474], 190: [475], 191: [476, 477], 192: [478], 193: [479], 194: [480], 195: [481], 196: [482], 197: [483], 198: [484, 485], 199: [486, 487]}\n",
      "(6, 15)\n",
      "{0: [195, 196, 197], 1: [198, 199, 200], 2: [201], 3: [202, 203, 204, 205], 4: [206], 6: [207, 208], 7: [209, 210, 211], 8: [212], 9: [213, 214, 216], 10: [217, 218, 219], 11: [220, 221], 12: [222, 223], 13: [224, 225, 226, 229, 230], 14: [231, 232], 15: [233], 16: [234], 17: [235], 19: [236, 237], 20: [238, 239], 22: [240, 241], 25: [242], 27: [243], 30: [245], 31: [246, 247], 32: [248, 249, 250], 33: [251, 252], 34: [253], 35: [254], 36: [255], 37: [256], 38: [257, 258], 39: [259], 41: [260, 261], 42: [262, 263], 43: [264, 265], 44: [266, 267], 45: [268], 46: [269], 47: [270, 271, 273, 275, 276], 48: [277], 49: [278], 50: [279], 51: [280, 281, 282], 52: [283, 284, 285], 54: [286], 56: [287], 57: [288, 290, 291, 292], 58: [293], 59: [294], 61: [295, 296, 297, 298], 62: [299], 63: [300, 301, 302], 64: [303], 65: [304, 305], 66: [306], 67: [307, 308, 309], 68: [310, 311, 312], 69: [313, 314], 71: [315], 72: [316], 73: [317, 318], 74: [319, 320], 75: [321], 76: [322], 77: [323, 324], 78: [325, 326], 79: [327, 328, 329], 80: [330, 331], 81: [332, 333], 82: [334, 335], 83: [336], 84: [337], 86: [338], 87: [339, 340], 89: [341], 90: [343, 344, 345, 346], 91: [347], 92: [348, 349, 350], 94: [351, 352], 95: [353], 97: [354], 98: [355, 356, 357], 100: [358], 101: [359], 102: [360, 361, 362, 363], 103: [364], 104: [365], 106: [366, 367], 108: [368, 369], 110: [370, 371], 111: [372], 112: [373, 374, 375], 114: [376, 377], 116: [378, 379], 117: [380], 118: [381, 382], 119: [383, 384, 385], 120: [386], 121: [387], 122: [388, 389], 123: [390], 125: [391, 392, 393], 126: [394], 129: [395], 130: [396], 131: [397], 132: [398], 133: [399], 134: [400, 401], 135: [402], 136: [403, 404, 405, 406], 137: [407, 408], 138: [409], 139: [410, 411], 140: [412], 141: [413], 142: [414], 143: [415, 416], 144: [417, 418], 145: [419], 146: [420, 421], 147: [422], 149: [423, 424, 425], 150: [426, 427], 151: [428, 429, 430], 152: [431, 432], 153: [433, 434], 154: [435, 436], 155: [437], 156: [438, 439], 157: [440], 158: [441], 159: [442], 160: [443], 161: [444], 163: [445, 446], 164: [447], 165: [448], 166: [449], 167: [450], 168: [451, 452], 169: [453], 170: [454, 455, 456], 171: [457, 458], 172: [459], 173: [460], 174: [461], 175: [462, 463], 176: [464], 177: [465], 178: [466], 179: [467], 180: [468], 181: [469], 183: [470], 184: [471], 185: [472], 187: [473], 188: [474, 475], 189: [476], 190: [477], 191: [478], 192: [479], 193: [480], 194: [481], 195: [482], 196: [483, 484], 197: [485], 198: [486, 487], 200: [488, 489, 492, 494], 201: [495], 203: [496, 497, 498], 205: [499, 500, 501, 502], 207: [503], 208: [504, 505], 209: [506], 210: [507, 508], 211: [509], 212: [510], 213: [511], 214: [512], 215: [513], 216: [514], 217: [515, 516], 219: [517], 221: [518], 223: [519]}\n",
      "(6, 16)\n",
      "{0: [183], 1: [184], 2: [185], 3: [186], 4: [187, 188, 189], 5: [190], 6: [191], 7: [192], 8: [193], 9: [194, 195], 10: [196], 11: [197], 12: [198, 199], 13: [200, 201, 202, 203], 14: [204], 15: [205, 206], 16: [207, 208], 17: [209], 20: [213, 214], 21: [215], 22: [216, 217], 23: [218], 24: [219], 25: [220], 26: [222], 27: [223], 28: [224, 225], 29: [226, 227], 30: [228, 229], 31: [230], 32: [231, 232, 233, 234, 235, 236, 237], 33: [238], 34: [239, 240], 35: [241], 36: [242], 37: [243], 38: [244], 39: [245], 40: [246], 41: [247, 248], 42: [249, 250], 44: [251, 252], 45: [253], 46: [254, 255], 47: [256], 48: [257], 49: [258, 259], 50: [260, 261], 51: [262, 263, 264, 265, 266], 52: [267], 53: [268, 269, 270], 54: [271], 56: [272], 57: [273], 58: [274, 275], 59: [276], 60: [277], 61: [278], 62: [279, 280, 281, 282], 63: [283], 65: [284], 66: [285], 67: [286], 68: [287], 69: [288], 71: [289], 72: [290], 73: [291], 74: [292, 293], 77: [294], 78: [295, 296], 79: [297], 80: [298], 81: [299, 300], 82: [301, 302, 305], 83: [306], 84: [307], 85: [308], 86: [309], 87: [310], 90: [311], 91: [312], 92: [313], 94: [314], 96: [315], 97: [316], 98: [317, 318], 100: [319, 320], 103: [321], 104: [322, 323], 105: [324, 325], 108: [326], 109: [327, 328], 110: [329], 111: [330], 112: [331, 332], 113: [333, 334, 335], 114: [336], 115: [337], 117: [338], 118: [339, 340], 119: [341, 342], 120: [343], 121: [344, 345, 346], 122: [347], 123: [348, 349, 350], 124: [351], 125: [352, 353, 354, 355, 356], 126: [357, 358], 127: [359], 128: [360], 129: [361], 130: [362, 363], 131: [364, 365], 132: [366], 134: [367, 368], 135: [369, 370], 139: [371], 140: [372], 141: [373], 144: [374], 145: [375], 146: [376], 147: [377, 378, 379], 148: [380, 381, 382], 150: [383, 384, 385], 152: [386], 153: [387], 154: [388], 155: [389, 390], 156: [391, 392], 157: [393, 394], 160: [395, 396], 161: [397], 162: [398, 399, 400, 401], 163: [402], 164: [403], 165: [404], 166: [405], 167: [406], 169: [407, 408, 409], 170: [410, 411], 171: [412], 172: [413], 173: [414, 415, 416], 174: [417], 175: [418], 176: [419], 177: [420], 178: [421], 179: [422, 423, 424], 180: [425], 181: [426], 183: [427, 428, 429, 430, 431], 184: [432], 185: [433, 434, 435], 186: [436], 188: [437], 190: [438], 191: [439, 441], 192: [442], 193: [443], 194: [444, 445], 195: [446], 196: [447], 197: [448], 198: [449], 199: [450, 451, 452, 453, 456, 460], 200: [461], 202: [462], 203: [463, 464], 205: [465], 206: [466, 467, 468, 472, 474]}\n",
      "(6, 17)\n",
      "{0: [193, 194, 195, 196, 197, 198, 199], 2: [200, 201, 202, 203, 204, 205, 206, 207, 208], 3: [210, 211, 212, 213, 214, 215, 216, 217, 218, 219], 5: [220, 221], 6: [222, 223, 224], 7: [225], 8: [226], 10: [227, 228], 11: [229, 230], 12: [231, 232], 13: [233], 14: [234], 15: [235, 236, 238], 16: [239, 240], 17: [241, 242, 243, 244, 245], 18: [246, 247], 19: [248], 20: [249, 250], 22: [251], 23: [252], 24: [253], 25: [254, 255], 26: [256], 27: [257], 30: [258], 31: [259, 260], 32: [261], 33: [262], 34: [263], 35: [264], 36: [265], 37: [266, 267, 268], 38: [269, 270], 39: [271], 40: [272, 273, 274], 41: [275], 42: [276, 277, 278], 43: [279, 280], 44: [281], 45: [282, 283], 48: [284, 286], 49: [287], 50: [288], 51: [289, 290, 291, 292, 293], 52: [294, 295], 53: [296], 54: [297, 298, 299, 300, 301, 302], 55: [303], 56: [304], 57: [305], 59: [306, 307], 61: [308, 309, 310, 311], 62: [312], 64: [313], 65: [314], 66: [315], 67: [316, 317, 318, 319, 320], 69: [321], 70: [322], 72: [323, 324], 73: [325, 326], 74: [327], 75: [328], 77: [329, 330], 78: [331, 332, 333], 79: [334], 80: [335], 81: [336, 337, 338], 83: [339, 340, 341], 84: [342], 86: [343], 87: [344, 345, 346], 88: [347], 89: [348, 349], 90: [350], 91: [351], 92: [352, 353, 354, 355], 93: [356], 94: [357, 358], 95: [359], 96: [360, 361], 97: [362], 98: [363], 99: [364], 100: [365, 366, 367, 368], 101: [369], 102: [370, 371, 372], 103: [373, 374, 375], 104: [376], 105: [377, 379], 106: [380, 381], 107: [382], 108: [383, 384, 385, 386, 387, 388, 389], 109: [390], 110: [391, 392], 111: [393], 112: [394, 395, 396], 114: [397, 398], 115: [399], 116: [400, 401], 117: [402], 118: [403], 120: [404, 405], 121: [406], 122: [407], 123: [408, 409], 125: [410, 411, 412], 126: [413], 127: [414, 415], 128: [416, 417], 129: [418, 420], 130: [421, 422], 132: [423], 133: [424], 135: [425, 426, 427], 136: [428, 429, 430, 431], 137: [432, 433], 138: [434], 139: [435, 436, 437], 140: [438], 142: [439, 440], 143: [441, 442], 144: [443], 145: [444], 146: [445, 448, 449, 450, 451, 452], 147: [453], 148: [454], 149: [455], 150: [456, 457], 152: [459, 460, 461], 153: [462], 154: [463], 155: [464], 156: [465, 466, 468, 469, 470, 471], 157: [472], 158: [473], 159: [474], 160: [475, 476]}\n",
      "(6, 19)\n",
      "{0: [185], 1: [186, 187], 2: [188], 3: [189, 190], 4: [191], 5: [192, 193], 6: [194, 195], 7: [196, 197], 8: [198, 199], 9: [200, 201], 11: [202, 203, 204, 205, 206], 12: [207, 208], 13: [209, 210], 14: [211], 16: [212], 17: [213], 18: [214], 19: [215], 20: [216, 217], 21: [218], 22: [219, 220], 23: [221], 24: [222], 25: [223], 26: [227, 228], 27: [229], 28: [230], 29: [231], 30: [232], 31: [233], 32: [234], 33: [235, 236], 34: [237, 238], 35: [239, 240], 36: [241, 242], 37: [243], 38: [244, 245, 246], 39: [247], 40: [248, 249], 41: [250], 42: [251, 252, 253], 43: [254, 255, 256, 257], 45: [258], 46: [259], 47: [260, 261, 262], 48: [263], 49: [264, 265], 50: [266, 267], 51: [268], 52: [269, 270, 271], 53: [272], 55: [273], 56: [274], 57: [275], 58: [276, 277], 59: [278, 279, 280], 60: [281], 61: [282], 62: [283, 284], 63: [285, 286, 287], 64: [288], 66: [289], 67: [290, 291], 68: [292, 293], 69: [294], 70: [295], 72: [296], 73: [297, 298, 299, 300], 74: [301, 302], 75: [303, 304], 76: [305, 306], 77: [307], 81: [309, 310], 82: [311], 83: [312, 313, 314, 315], 84: [316], 85: [317], 86: [318, 319], 87: [320, 321], 88: [322], 89: [323], 91: [324], 92: [325], 93: [326], 94: [327], 95: [328, 329], 96: [330], 97: [331, 332], 98: [333], 100: [334], 101: [335, 336], 102: [337], 103: [338, 339], 104: [340, 341], 105: [342, 343, 344, 345], 106: [346, 347], 107: [348], 108: [349], 109: [350, 351], 110: [352], 111: [353], 112: [354, 355, 356, 357], 113: [358, 359, 360], 114: [361, 362], 115: [363], 116: [364, 365, 366], 117: [367, 368], 118: [369, 370], 120: [371, 372], 121: [373], 122: [374, 375, 376], 123: [377], 124: [378], 125: [379], 126: [380], 127: [381], 128: [382], 130: [383], 131: [384, 385], 132: [386], 135: [388], 136: [389], 137: [390], 138: [391], 139: [392], 141: [393], 142: [394], 144: [395], 145: [396, 397], 146: [398], 147: [399], 148: [400], 149: [401], 150: [402], 151: [403], 152: [404], 153: [405, 406], 154: [407], 156: [408], 157: [409, 410, 411], 158: [412], 159: [413, 414], 160: [415], 161: [416], 162: [417], 163: [418], 165: [419], 166: [420], 167: [421, 422, 423, 424, 425], 168: [426], 170: [427], 171: [428, 429, 430, 431, 432], 172: [433], 173: [434], 174: [435, 436, 437], 175: [438, 439], 176: [440, 441], 177: [442], 178: [443], 179: [444], 180: [445, 446, 447, 448, 449, 450, 451, 452], 182: [453], 183: [454, 455], 186: [456], 187: [457, 458], 189: [459, 460], 190: [461], 191: [462, 463], 192: [464, 465, 466], 193: [467], 195: [468, 469], 197: [470], 198: [471, 472, 473], 199: [474], 200: [475], 201: [476, 477], 202: [478], 203: [479, 480], 204: [481, 482], 206: [483], 208: [485, 486, 487], 209: [488], 210: [489, 490], 211: [491], 212: [492], 213: [493], 214: [494], 215: [495], 216: [496], 217: [497], 218: [498], 219: [499, 500, 501], 220: [502, 503], 221: [504, 505]}\n",
      "(6, 20)\n",
      "{0: [196, 197], 1: [198], 2: [199], 3: [200], 4: [201], 5: [202], 7: [203], 9: [204, 205], 10: [206], 12: [207], 13: [208, 209], 14: [210], 15: [211, 213], 16: [214, 215, 216], 17: [217], 19: [218], 20: [219], 21: [220], 22: [221, 222, 223, 224], 23: [225], 24: [226], 26: [228], 28: [229], 29: [230], 30: [231], 31: [232, 233, 234], 32: [235], 33: [236], 34: [237], 35: [238, 239], 36: [240, 241], 37: [242], 38: [243, 244, 245, 246], 39: [247], 40: [248], 41: [249], 42: [250, 251], 43: [252, 253, 254], 44: [255], 46: [257, 258, 259, 260], 47: [261], 48: [262], 49: [263, 264], 50: [265], 51: [266], 52: [267], 53: [268], 54: [269], 56: [270, 271], 57: [272], 59: [274], 60: [275], 61: [276], 62: [277], 65: [278], 66: [279], 67: [280], 68: [281, 282], 70: [283, 284, 285, 286], 71: [287], 72: [288], 73: [289], 74: [290, 291, 292, 293], 75: [294], 76: [295], 77: [296], 79: [297, 298], 80: [299], 81: [300], 82: [301], 83: [302, 303], 84: [304], 85: [305], 86: [306], 87: [307, 308, 309], 88: [310, 311], 90: [312, 313], 92: [314], 93: [315, 316, 317, 318, 319, 320], 95: [321, 323], 96: [324], 97: [325, 326], 98: [327, 328, 329], 99: [330], 100: [331, 332], 101: [333], 102: [334, 335], 103: [336], 104: [337], 105: [338], 106: [339, 340, 341, 342, 343], 107: [344], 109: [345], 110: [346], 111: [347, 348], 112: [349], 115: [350], 116: [351, 352], 117: [353], 118: [354, 355], 119: [356, 358], 120: [359], 121: [360, 361, 362, 363, 364], 122: [365], 123: [366], 124: [367, 368, 369], 125: [370, 371], 126: [372], 127: [373, 374, 375], 128: [376, 377], 129: [378], 130: [379], 131: [380, 381], 132: [382], 133: [383], 134: [384, 385], 135: [386], 136: [387, 388, 389, 390, 391, 392, 393], 137: [394], 139: [395], 140: [396], 141: [397, 398], 142: [399], 143: [400], 144: [401], 147: [402, 403], 148: [404], 149: [405, 406], 150: [407], 151: [408, 409, 410], 152: [411], 153: [412], 154: [413], 155: [414], 156: [415], 157: [416], 158: [417], 159: [418, 419], 160: [420], 161: [421, 422, 423, 424], 162: [425], 163: [426, 427], 164: [428], 166: [429], 167: [430], 168: [431], 169: [432], 171: [433], 172: [434, 435], 173: [436], 174: [437], 175: [438, 439], 176: [440], 177: [441], 178: [442], 179: [443, 444], 180: [445], 181: [446], 182: [447, 448], 183: [449], 184: [450], 185: [451], 186: [452, 453, 454], 187: [455], 188: [456], 189: [457, 458, 459, 460], 190: [461], 191: [462, 463], 193: [464, 465], 194: [466], 195: [467], 196: [468], 197: [469, 470], 199: [471], 200: [472]}\n",
      "(6, 21)\n",
      "{0: [199, 200], 2: [201, 202, 203], 3: [204, 205], 4: [206, 207], 5: [208], 6: [209, 210], 7: [211], 8: [212, 213], 9: [214, 215, 216], 10: [217, 218, 219], 11: [220, 221], 12: [222, 223], 13: [224], 14: [225, 226], 15: [227], 16: [228], 17: [229, 230], 18: [231], 19: [232, 233, 234, 235, 236], 20: [237], 21: [238, 239, 240, 241, 242], 22: [243], 23: [244, 245], 24: [247, 248], 25: [249], 26: [250, 251], 27: [252, 253], 29: [254], 30: [255], 31: [256, 257, 258], 32: [259], 33: [260, 261], 34: [262, 263, 264], 35: [265], 36: [266], 37: [267, 268, 269], 38: [270, 271], 39: [272], 40: [273], 41: [274, 275], 42: [276], 43: [277, 278, 279, 281, 282, 283], 44: [284], 45: [285], 46: [286, 287, 288, 289, 290, 291, 292, 293, 294, 295], 47: [296, 297], 48: [298], 49: [299], 50: [300, 301, 302], 51: [303, 304], 52: [305, 306], 54: [307, 308], 55: [309], 56: [310], 60: [311, 312, 313], 61: [314], 62: [315], 63: [316, 317, 318], 64: [319], 65: [320], 66: [321], 67: [322], 68: [323, 324, 325], 69: [326, 327], 70: [328, 329], 71: [330, 331, 332, 333], 72: [334], 73: [335, 336], 74: [337], 75: [338, 339], 76: [340], 77: [341, 342], 78: [343], 79: [344], 81: [345, 346], 82: [347], 84: [348, 349], 86: [350, 351, 352, 353], 87: [354, 355, 356], 88: [357, 358], 89: [359], 90: [360], 91: [361], 92: [362, 363, 364], 93: [365], 94: [366], 95: [367], 96: [368, 369, 370, 371, 372], 97: [373], 98: [374, 375], 99: [376], 100: [377], 101: [378], 102: [379, 380], 103: [381], 104: [382, 383], 105: [384, 385], 106: [386], 107: [387], 108: [388, 389, 390], 109: [391, 392, 393, 395], 110: [396, 397], 111: [398], 113: [399], 114: [400], 116: [401, 402], 117: [403], 118: [404, 405], 119: [406], 120: [407, 408, 409, 410], 123: [411], 124: [412, 413], 125: [414, 415, 416], 126: [417], 128: [418], 129: [418, 419], 130: [420], 131: [421, 422, 423], 132: [424], 133: [425], 134: [426], 135: [427, 428, 429, 430], 136: [431, 432], 137: [433], 138: [434, 435, 436], 141: [437, 438], 142: [439], 143: [440, 441], 144: [442], 145: [443, 444], 146: [445, 446, 447, 448], 147: [449], 148: [450, 451], 149: [452, 453, 454], 150: [455], 151: [456], 153: [457], 154: [458], 155: [459], 156: [460, 461], 157: [462, 463], 158: [464], 159: [465, 466], 160: [467], 161: [468, 469, 470, 471, 472, 473], 162: [474], 163: [475], 164: [476], 165: [477], 166: [478], 167: [479], 168: [480], 170: [481], 171: [482], 172: [483], 175: [484], 176: [485, 486], 177: [488, 489], 179: [490, 492, 496, 497, 498]}\n",
      "(6, 24)\n",
      "{0: [198], 1: [199], 2: [200, 201], 3: [202], 4: [203], 5: [204, 205], 6: [206], 7: [207], 8: [208], 9: [209], 10: [210, 211], 11: [212, 213], 12: [214], 13: [215, 216, 217, 218, 219], 14: [220], 15: [221, 222, 223], 16: [224, 225], 17: [226], 18: [227], 20: [228, 229], 21: [230], 22: [231], 23: [232], 24: [233, 235, 236], 25: [237], 26: [238, 239, 240], 27: [241, 242], 28: [243, 244, 245], 29: [248], 30: [249], 31: [250, 251], 32: [252], 33: [253, 254, 255], 34: [256], 35: [257, 258, 259], 36: [260, 261, 262, 263, 264, 265], 37: [266], 38: [267], 40: [268, 269, 270], 41: [271, 272], 42: [273], 43: [274, 275], 44: [276], 45: [277], 46: [278, 279], 47: [280, 281], 48: [282, 283], 49: [284], 50: [285], 51: [286], 52: [287], 53: [288], 54: [289, 290], 55: [291, 292], 56: [293, 294], 57: [295, 296, 297], 58: [298], 59: [299, 300, 301, 302], 60: [303], 62: [304], 64: [305, 306], 65: [307], 66: [308], 67: [309], 68: [310], 69: [311], 70: [312, 313, 314], 71: [315, 316], 72: [317, 318], 73: [319], 74: [320], 75: [321], 76: [322], 77: [323, 324], 78: [325, 326], 79: [327, 328], 80: [329], 81: [330], 82: [331], 83: [332], 84: [333], 85: [334], 86: [335], 87: [336, 337], 89: [338], 90: [339, 340], 91: [341], 92: [342], 93: [343, 344, 345, 346, 347], 94: [348], 95: [349, 350], 96: [351], 97: [352], 98: [353, 354, 355, 356], 99: [357, 358, 359], 100: [360, 361], 101: [362, 363], 102: [364, 365, 366, 369], 103: [370], 104: [371, 372], 105: [373, 374], 106: [375], 107: [376, 377], 108: [378], 109: [379, 380], 110: [381, 382, 383, 384], 111: [385, 386, 387, 388], 112: [389], 113: [390, 391], 114: [392, 393, 395], 116: [396, 397, 398, 399], 117: [400], 118: [401, 402], 119: [403], 122: [404, 405], 123: [406], 126: [407, 408, 409], 127: [410], 128: [411], 130: [412, 413], 132: [414, 415, 416], 134: [417], 135: [418], 136: [419, 420], 138: [421, 422, 423, 424, 425], 139: [426], 140: [427], 142: [428, 429], 143: [430, 431], 144: [432, 433], 145: [434], 146: [435, 438], 147: [439], 148: [440, 441, 442, 443, 444], 149: [445, 446, 447, 448], 150: [449, 450], 151: [451, 452, 453], 154: [454], 156: [455], 158: [456], 160: [457], 161: [458, 459, 460, 461, 462, 463], 163: [464], 165: [465, 466], 167: [467], 168: [468], 169: [469, 470, 471], 170: [472], 171: [473], 172: [474, 475], 173: [476], 174: [477, 478], 175: [479], 177: [480, 481], 178: [482], 180: [483, 484], 181: [485, 486], 182: [487], 183: [488, 489, 490, 491], 186: [492, 493, 494], 187: [495, 496], 189: [497, 498], 190: [499, 500], 191: [501, 502, 503], 194: [504], 195: [505], 196: [506, 507], 197: [508], 198: [509, 510], 199: [511], 200: [512, 513], 201: [514], 202: [515], 203: [516], 204: [517], 205: [518], 206: [519, 520], 207: [521], 208: [522, 523, 524, 525, 526], 209: [527], 210: [528, 529, 530, 531, 533, 535]}\n",
      "(7, 1)\n",
      "{0: [182, 183], 1: [184, 185], 2: [186], 3: [187, 188, 189], 5: [190, 191], 6: [192, 193], 7: [194, 195, 197], 9: [199], 10: [200, 201], 12: [202, 203, 204], 13: [205], 14: [206, 207, 208, 209], 15: [210], 16: [211], 18: [212, 213], 19: [214], 20: [215, 216, 217, 218], 21: [219, 220], 22: [221, 222], 23: [229, 230, 231, 232], 24: [233], 25: [234], 26: [235, 236, 237, 238, 239], 28: [240, 241, 242, 243, 244], 29: [245, 246], 30: [247, 248], 31: [249, 250, 251, 252, 253], 32: [254], 33: [255, 256], 34: [257], 35: [258], 36: [259], 37: [260, 261], 38: [262, 263], 39: [264, 265], 40: [266, 267], 41: [268], 42: [269, 270], 43: [271], 44: [272], 46: [273, 274], 47: [275, 276], 48: [277], 50: [278, 279, 280, 281, 282, 283, 284], 51: [286], 52: [287], 54: [288], 56: [289], 58: [290, 291], 59: [292], 60: [293], 61: [294, 295, 296], 64: [298], 65: [299], 66: [300, 301, 302], 67: [303, 304], 68: [305], 69: [306], 70: [307], 71: [308], 72: [309], 73: [310], 74: [311], 75: [313], 76: [314, 315], 77: [316, 317], 78: [318], 80: [319, 320, 321], 81: [322, 323], 82: [324], 83: [325, 326, 328], 84: [329], 89: [330], 90: [331], 91: [332], 92: [333], 93: [334], 94: [335, 337], 95: [338, 339, 340, 341, 342, 343], 96: [344], 97: [345], 98: [347], 100: [348, 349], 104: [351], 105: [352, 353], 108: [354], 109: [355], 110: [356], 111: [358, 359, 360], 112: [362], 114: [363, 364], 115: [365], 116: [366], 117: [367], 119: [368], 120: [369, 370], 121: [371, 372], 122: [373], 123: [374], 124: [375], 125: [376, 377], 126: [378, 379], 130: [382], 131: [383, 386], 132: [387, 388], 133: [389, 391, 392], 134: [393, 394], 135: [395, 396], 136: [397, 398], 137: [399], 139: [400], 140: [401, 402, 403, 404], 141: [405], 142: [406, 407], 145: [408], 146: [409], 147: [410], 148: [411, 412], 149: [413], 150: [414], 151: [415], 153: [416], 155: [417], 157: [418, 419, 420], 158: [421, 422], 159: [423, 424], 160: [425], 161: [426], 162: [427], 163: [428, 429], 164: [431], 165: [432, 433, 434], 166: [435, 437], 167: [438], 168: [439, 440], 169: [441, 442, 443, 444, 445, 446], 170: [447, 450], 172: [452, 453, 454], 174: [455, 456, 457, 458, 459], 175: [460], 176: [461, 462], 177: [463, 464], 178: [465], 179: [466], 180: [467, 468], 182: [469], 183: [470], 184: [471], 185: [472], 186: [473], 187: [474], 188: [475, 476], 189: [477], 190: [478, 479], 191: [480], 192: [481, 482], 193: [483, 484], 194: [485, 486], 195: [487, 488, 489], 196: [491, 492, 493], 197: [494], 198: [495], 199: [496, 497], 200: [498, 499], 203: [501, 502, 503, 504], 204: [505], 206: [506, 507, 508, 509], 208: [510], 209: [511], 212: [513, 514], 214: [515, 516], 215: [517, 518], 218: [520, 521]}\n",
      "(7, 2)\n",
      "{2: [201], 3: [202], 4: [203, 204], 5: [205], 6: [206, 207, 208], 7: [209], 8: [210], 9: [211, 212], 11: [213], 12: [215], 13: [216], 14: [217], 15: [218], 16: [219], 17: [220], 18: [221], 19: [222], 20: [223, 224, 225], 21: [228], 22: [229], 23: [230, 231, 232], 24: [233, 234], 25: [235], 26: [236, 237, 238], 27: [239, 240], 28: [241, 242], 29: [243, 244], 30: [245], 31: [246, 247, 248, 249, 250], 33: [251], 34: [252, 253], 35: [254], 36: [255, 256], 37: [257, 258], 38: [260], 39: [261, 262], 40: [263, 264], 41: [265, 266], 43: [267], 45: [268, 269], 46: [270], 47: [271], 49: [272, 273], 52: [275], 53: [276], 54: [277], 55: [278, 279], 57: [280, 281, 282], 58: [283], 59: [284, 285], 60: [286, 287], 61: [288, 289], 62: [290, 291], 63: [292], 65: [293, 294], 66: [295, 296, 297], 67: [298, 299], 68: [300], 69: [301], 72: [302], 73: [303], 74: [304], 75: [305], 76: [306, 307, 308], 77: [309], 79: [310], 81: [311, 312], 84: [313, 314], 85: [315, 318], 86: [319, 320], 87: [321], 88: [322, 323], 89: [324, 325], 90: [326], 91: [327, 328, 329], 92: [330], 93: [331], 94: [332, 333], 95: [334], 96: [335, 336], 97: [337], 98: [338, 339], 99: [340], 100: [341], 101: [342, 343], 102: [344, 345], 103: [346], 104: [347, 348, 353], 105: [354], 106: [355], 107: [356], 108: [357], 109: [358], 111: [359], 113: [360, 361], 114: [362], 115: [363, 364, 365], 116: [366], 117: [367], 118: [368], 119: [369], 120: [370], 121: [371], 122: [372, 373, 374], 123: [375], 124: [376], 125: [377, 378], 126: [379, 380, 381], 127: [382], 131: [383], 132: [384, 385, 386], 133: [387, 388], 134: [389, 390], 135: [391, 392], 136: [393, 394], 137: [395], 138: [396, 397], 139: [398], 141: [399], 142: [400], 143: [402], 144: [403], 145: [404], 146: [405], 147: [406, 407, 408, 409], 148: [410], 149: [411, 412, 413], 150: [414], 151: [415], 152: [416, 419, 420], 153: [421], 154: [422, 423], 155: [424, 425, 426], 156: [427], 157: [428, 429, 430], 158: [431], 159: [432], 160: [433, 434, 435, 436, 437], 162: [438, 439], 164: [440, 441, 442], 165: [443], 166: [444], 167: [445, 446], 168: [447, 448], 169: [449, 450], 170: [451], 171: [452], 172: [453], 173: [454, 455], 174: [456], 177: [457], 178: [458, 459], 179: [460], 180: [461, 462, 463, 464, 465], 181: [466, 467], 182: [468], 183: [469], 184: [470], 185: [471, 472], 186: [473], 187: [474], 188: [475], 189: [476, 477], 190: [478], 191: [479], 192: [480], 193: [481], 194: [482], 195: [483], 196: [484], 198: [485], 199: [486], 200: [487], 201: [488], 202: [489, 490], 203: [491], 204: [492], 205: [493], 206: [494, 495], 207: [496, 497], 208: [498], 209: [499], 210: [500, 501, 502], 211: [503, 504], 212: [505, 506], 214: [507], 215: [508], 216: [509], 217: [510], 218: [511], 219: [512, 515], 220: [516, 517], 221: [518], 222: [519], 223: [520], 224: [521, 522], 225: [523, 524, 525, 526, 527, 528, 529, 530, 532], 226: [533], 227: [534], 229: [535], 231: [536, 537], 232: [538], 233: [539, 540], 234: [541], 235: [542], 237: [543, 544], 238: [545], 239: [546], 240: [547, 548], 242: [549], 243: [550], 244: [551], 245: [552], 246: [553], 247: [554]}\n",
      "(7, 6)\n",
      "{0: [185], 1: [186], 2: [187], 3: [188, 189, 190, 191], 4: [192, 193], 5: [194, 195, 196], 6: [197, 198], 7: [199, 200], 8: [201], 9: [202, 203], 10: [204], 11: [205, 206], 12: [207], 13: [208, 209], 14: [210], 15: [211], 16: [212], 17: [213], 18: [214], 20: [215, 216], 22: [217], 23: [218], 25: [219], 26: [222], 27: [223], 28: [224], 29: [225, 226], 30: [227, 228], 31: [229], 32: [230], 33: [231], 34: [232, 233], 35: [234, 235, 236], 36: [237, 238], 37: [239, 240], 38: [241, 242], 40: [243], 41: [244], 42: [245, 246, 247], 43: [248], 44: [249], 45: [250, 251, 252], 46: [253], 47: [254, 255, 256, 257, 258], 48: [259], 49: [260, 261], 50: [262, 263, 264], 51: [265], 52: [266], 53: [267], 54: [268, 269], 55: [270, 271, 272], 56: [273], 57: [274, 275], 58: [276, 277, 278], 59: [279], 60: [280, 281, 282, 283], 61: [284], 62: [285, 286, 287, 288], 63: [289], 64: [290, 291], 65: [292], 66: [293, 294], 67: [295], 68: [296], 69: [297], 70: [298, 299, 300], 71: [301, 302, 303, 304, 305, 306], 72: [307, 308, 309], 73: [310, 311, 312], 74: [313], 75: [314], 76: [315, 316], 77: [317], 78: [318], 79: [319], 80: [320, 321, 322], 81: [323], 82: [324, 325, 326, 327], 83: [328], 84: [329, 330, 331], 86: [332], 87: [333], 90: [334], 92: [335, 336], 93: [337], 94: [338], 95: [339], 96: [340, 341, 342], 97: [343], 98: [344], 99: [345, 346], 100: [347, 348], 101: [349], 102: [350, 351], 103: [352, 353], 104: [354, 355], 105: [356, 357], 106: [358, 359, 360, 361], 107: [362, 363, 364], 108: [365], 109: [366], 111: [367, 368], 112: [369], 113: [370, 371, 372], 115: [374, 375], 116: [376], 118: [377], 119: [378, 379, 380], 120: [381], 121: [382, 383], 122: [384], 123: [385, 386, 387, 388, 391, 392], 124: [393, 394], 125: [395, 396, 397, 398], 126: [399], 127: [400], 128: [401], 129: [402, 403], 130: [404], 131: [405, 406], 132: [407], 133: [408], 134: [409], 135: [410, 411], 136: [412], 137: [413], 138: [414, 415, 416, 417, 418], 139: [419], 140: [420], 141: [421, 422], 142: [423], 143: [424], 144: [425], 146: [426], 148: [427], 149: [428], 150: [429], 151: [430], 152: [431, 434], 153: [435, 436, 437], 154: [438], 155: [439], 156: [440], 157: [441], 158: [442, 443], 160: [444, 445, 446], 161: [447], 162: [448], 163: [449, 450, 451, 452, 453, 454, 455, 456, 457, 458], 164: [459, 460], 165: [461, 462, 463, 464, 465, 466, 467, 468, 469], 166: [470], 167: [471, 472, 473, 474, 475, 476, 477, 478], 168: [479], 169: [480, 481, 482, 483, 484, 486, 487, 491], 170: [485, 488, 489, 490], 171: [492, 493], 172: [494], 173: [495], 174: [496, 497, 498, 499, 500], 175: [501, 502], 176: [503, 504], 177: [505], 178: [506], 179: [507, 508], 180: [509], 181: [510], 182: [511, 512, 513], 183: [514, 515], 185: [516], 186: [517, 518, 519], 187: [520, 521], 188: [522], 189: [523, 524], 190: [525, 526, 527, 528, 529, 530, 531, 532], 191: [533], 192: [534, 535], 195: [536], 196: [537, 538], 197: [539, 540], 198: [541], 199: [542, 543], 201: [544, 545, 546, 547], 202: [548], 203: [549, 550], 204: [551]}\n",
      "(7, 10)\n",
      "{0: [195, 196], 1: [197, 198, 199], 2: [200], 4: [201, 202], 5: [203, 204], 6: [205, 206, 207], 7: [208, 209], 8: [210, 211, 212, 213], 9: [214, 215, 216, 217], 10: [220, 221, 222, 223, 224], 11: [225, 226], 12: [227], 13: [228], 14: [229, 230, 231], 15: [232, 233], 16: [234, 235], 17: [236], 18: [237], 19: [238, 239], 20: [240], 21: [241, 242], 22: [243], 23: [244], 24: [245, 246], 25: [247], 27: [248], 28: [249], 29: [250, 251], 30: [252], 31: [253, 254], 32: [255, 258], 33: [259], 34: [260], 36: [261, 262], 37: [263, 264], 39: [265], 40: [266, 267], 41: [268], 42: [269], 43: [270, 271], 44: [272, 273], 45: [274, 275, 276], 46: [277, 278, 279], 47: [280, 281], 48: [282], 49: [283, 284], 50: [285], 51: [286, 287], 52: [288, 289], 54: [290], 57: [291, 292, 293, 294], 58: [295], 59: [296], 60: [297], 61: [298], 62: [299, 300], 63: [301, 302], 64: [303, 304], 65: [305], 66: [306], 67: [307], 68: [308, 309, 310], 69: [311], 70: [312, 313], 71: [314, 315], 72: [316], 73: [317, 318], 74: [319, 320], 75: [321], 76: [322, 323], 77: [324], 78: [325], 80: [326, 327], 81: [328, 329, 330, 331, 332, 333, 334, 335, 336, 337, 338, 339], 82: [340], 83: [341], 84: [342, 343, 344, 345], 85: [346, 347], 86: [348, 349], 88: [350], 89: [351], 90: [352], 92: [353], 93: [354], 95: [355, 356], 96: [357, 358, 359], 97: [360, 361, 362], 98: [363, 364], 99: [365], 100: [366], 101: [367, 368], 102: [369, 370], 103: [371], 104: [372], 105: [373, 374, 375], 106: [376, 377, 378], 107: [379, 380, 381], 108: [382], 109: [383], 110: [384, 385], 111: [386], 112: [387, 388], 113: [389, 390], 114: [391, 392, 393, 394], 115: [395], 116: [396], 117: [397], 118: [398], 119: [399], 120: [400, 401, 402], 121: [403], 122: [404, 405], 123: [406], 124: [407], 127: [408, 409], 128: [410], 129: [411, 412], 130: [413], 131: [414], 132: [415], 133: [416, 417], 134: [418, 419, 420, 421], 135: [422], 137: [423], 138: [424], 139: [425, 426, 427], 140: [428], 141: [429, 430, 431], 142: [432], 143: [433], 144: [434, 435, 436], 145: [437], 146: [438, 439, 440, 441], 147: [442], 148: [443, 444, 445, 446], 149: [447, 448, 449], 150: [450, 451, 452], 151: [453, 454], 152: [455, 456, 457], 153: [458, 459, 460], 154: [461], 155: [462, 463, 464], 156: [465], 157: [466], 159: [467, 468], 160: [469, 470, 471, 472, 473], 161: [474, 475], 162: [476, 477], 163: [478, 479], 164: [480], 165: [481, 482, 483], 166: [484, 485], 167: [486], 168: [487], 169: [488], 170: [489], 171: [490], 172: [491], 173: [492], 174: [493], 175: [494], 176: [495, 496, 497], 177: [498], 178: [499], 179: [500, 501], 180: [502, 503, 504], 181: [505], 182: [506], 183: [507], 184: [508, 509], 185: [510], 186: [511, 512], 187: [513], 188: [514], 189: [515], 190: [516, 517, 518], 192: [519, 520], 194: [521], 195: [522, 523], 197: [524], 198: [525], 200: [526], 201: [527, 528, 529], 202: [530], 203: [531, 532, 533], 204: [534], 205: [535, 536], 206: [537, 538], 207: [539], 208: [540, 541], 209: [542], 210: [543], 211: [544, 545], 212: [546]}\n",
      "(7, 11)\n",
      "{0: [196], 1: [197, 198], 2: [199], 3: [200, 201, 202], 4: [203], 5: [204], 7: [205], 9: [206], 10: [207], 11: [208, 209], 12: [210], 13: [211], 14: [212, 213], 15: [214], 16: [215, 216], 17: [217], 18: [218, 219], 19: [220], 20: [221, 223], 21: [225, 226], 22: [227], 23: [228], 24: [229], 25: [230], 26: [231, 232], 27: [233, 234], 28: [235], 29: [236], 30: [237], 33: [238], 35: [239], 37: [240], 38: [241, 242], 39: [243, 245], 41: [247], 46: [248], 48: [250, 251], 49: [252], 50: [253], 51: [254, 255], 52: [256], 53: [257], 54: [258], 55: [259, 260], 56: [261, 262], 57: [263], 58: [264, 265], 59: [266], 60: [267], 61: [268], 62: [269], 63: [270, 271], 64: [272, 273], 65: [274], 66: [275, 276], 67: [277], 68: [278, 279], 69: [280], 70: [281, 282, 283], 71: [284, 285, 286], 72: [287], 74: [288], 75: [289, 290], 76: [291, 292], 77: [293], 78: [294], 79: [295], 80: [296], 81: [297], 82: [298], 83: [299], 84: [300], 85: [301], 88: [302], 89: [303], 90: [304, 305], 91: [306], 92: [307, 308], 93: [309], 94: [310], 95: [311], 96: [312], 97: [313], 98: [314, 315, 316], 99: [317, 318], 101: [319], 102: [320], 103: [321], 104: [322], 105: [323], 106: [324], 108: [325], 109: [326], 111: [327], 112: [328], 113: [329], 114: [330], 115: [331], 116: [332], 117: [333], 118: [334], 119: [335], 120: [336], 121: [337, 338], 122: [339], 123: [340, 341, 342], 124: [343, 344, 345, 346], 125: [347], 126: [348, 349, 350, 351, 352], 127: [353, 354, 355], 128: [356, 357], 129: [358, 359], 130: [360], 131: [361], 134: [362], 135: [363, 364, 365], 136: [366, 367, 368, 369], 137: [370], 138: [371], 141: [373], 142: [374], 143: [375], 144: [376], 145: [377], 146: [378], 147: [379, 380], 148: [381, 382, 383], 149: [384], 150: [385], 151: [386], 152: [387], 153: [388], 154: [389], 155: [390], 156: [391], 157: [392], 158: [393, 394, 395, 396], 159: [397, 398], 161: [399, 400], 162: [401], 163: [402], 164: [403], 165: [404], 166: [405], 168: [406, 407], 169: [408], 170: [409, 410], 171: [411, 412, 413], 172: [414, 415], 173: [416, 417], 174: [418], 175: [419, 420], 176: [421, 422], 177: [423], 178: [424, 425], 179: [426], 180: [427], 181: [428, 429], 182: [430], 183: [431], 184: [432], 185: [433], 186: [434], 187: [435], 188: [436], 189: [437], 191: [438], 192: [439], 193: [440], 194: [441], 195: [442], 196: [443, 444], 197: [445], 198: [446], 200: [447, 448, 449], 201: [450], 203: [451], 206: [452], 207: [454, 455, 457], 208: [458, 459], 209: [460, 461, 462], 210: [463], 211: [464], 213: [465], 214: [466, 467], 215: [468], 216: [469], 217: [470, 471, 472, 473], 218: [474], 219: [475, 476], 220: [477, 478, 479], 222: [480], 223: [481, 482, 483, 484], 224: [485, 486], 225: [487, 488], 227: [489], 228: [490], 230: [491], 231: [492], 233: [493], 234: [494], 235: [495], 237: [496], 238: [497], 240: [498], 241: [499, 500], 242: [501, 502], 243: [503], 244: [504, 505], 245: [506], 246: [507], 247: [508, 509, 510], 248: [511]}\n",
      "(7, 15)\n",
      "{0: [195, 196, 197], 1: [198], 2: [199], 3: [200, 201], 4: [202, 203, 204, 205], 5: [206, 207], 6: [208], 7: [209], 8: [210], 9: [211, 212], 10: [213], 11: [214], 12: [215, 216], 13: [217, 218, 219, 220], 14: [221], 15: [222], 16: [223, 224], 17: [225], 18: [226, 227], 19: [228], 20: [229, 230], 21: [231, 232], 22: [234, 235], 23: [236], 24: [237, 241], 25: [242], 26: [243], 27: [244], 28: [245], 29: [246], 30: [247], 31: [248], 32: [249, 250, 251, 252, 253], 33: [254], 34: [255], 35: [256], 36: [257, 258], 37: [259], 39: [260, 261], 40: [262], 41: [263], 42: [264, 265], 43: [266], 44: [267, 268], 45: [269, 270, 271, 272], 46: [273], 47: [274, 275], 48: [276, 277], 49: [278], 50: [279, 280, 281], 51: [282], 52: [283, 284], 53: [285], 54: [286], 55: [287], 56: [288], 57: [289], 58: [290], 59: [291], 61: [292, 293], 62: [294, 295, 297], 64: [297], 65: [298], 66: [299, 300, 301], 67: [302], 68: [303], 69: [304], 71: [305], 72: [306, 307], 73: [308, 309], 74: [310], 75: [311, 312, 313], 76: [314], 77: [315, 316], 78: [317], 79: [318, 319], 80: [320, 321, 322], 81: [323, 324], 82: [325, 326, 327], 83: [328], 84: [329, 330, 331], 86: [330, 331, 333], 87: [334], 88: [335], 89: [336], 90: [337, 338], 91: [339, 340, 341], 93: [342], 94: [343], 95: [344], 96: [345], 97: [346], 98: [347], 99: [348], 100: [349], 101: [350, 351], 102: [352], 103: [353], 107: [354, 355, 356, 357], 108: [358], 109: [359], 110: [360, 361], 111: [362, 363, 364, 365, 366], 112: [367, 368], 113: [369, 370], 114: [371, 372], 115: [373], 117: [374], 118: [375], 119: [376, 377], 120: [378, 379, 380], 121: [381, 382], 122: [383], 123: [384], 124: [385], 125: [386], 127: [387], 128: [388, 389], 129: [390, 391], 130: [392], 131: [393], 132: [394, 395], 133: [396], 134: [397, 398], 135: [399, 400, 401], 136: [402, 403], 138: [404, 405], 139: [406], 140: [407, 408], 141: [409], 142: [410], 144: [411], 145: [412], 146: [413], 147: [414], 148: [416], 149: [417, 418], 151: [419, 420, 421, 422, 423, 424, 425], 152: [426], 153: [427, 428], 155: [429], 156: [430], 157: [431], 158: [432], 159: [433], 160: [434], 161: [435], 162: [436], 164: [437], 166: [438, 439], 167: [440], 168: [441, 442], 169: [443], 170: [444, 445], 171: [446], 174: [447], 178: [448], 179: [449], 180: [450], 181: [451, 452, 453], 182: [454], 183: [455, 456], 184: [457], 185: [458], 187: [459], 188: [460], 189: [461, 462], 190: [463, 464], 191: [465], 195: [466, 467], 196: [468, 469], 197: [470, 471], 198: [472, 473, 475, 476, 477], 200: [478, 479], 202: [480, 481], 203: [482], 206: [483], 207: [484, 485, 486, 487, 488, 489, 490, 491, 492, 493, 494], 209: [495, 496], 210: [497], 211: [498], 212: [499], 213: [500, 501], 214: [502, 503, 504], 215: [505, 506], 216: [507], 217: [508], 218: [509, 510], 219: [511], 220: [512]}\n",
      "(7, 16)\n",
      "{0: [197], 1: [198, 199], 2: [200], 3: [201, 202], 4: [203, 204, 205, 206], 5: [207], 6: [208], 9: [210], 10: [211, 212], 11: [213], 12: [214], 13: [215], 14: [216], 15: [217], 16: [218], 17: [219], 18: [220], 19: [221], 20: [222], 21: [223], 22: [224, 225], 23: [226, 227], 24: [228], 25: [229, 230], 26: [231], 27: [232], 28: [233], 29: [234], 30: [235], 31: [238, 239], 32: [240], 33: [241, 242], 34: [243, 244], 35: [245], 36: [246], 37: [247], 38: [248, 249], 39: [250, 251], 40: [252, 253], 41: [254, 255], 42: [256, 257], 44: [258], 45: [259], 46: [260, 261, 262, 263], 48: [264], 49: [265], 50: [266], 51: [267], 52: [268, 270], 53: [271], 54: [272, 273, 274, 275], 55: [276, 277], 56: [278, 279, 280], 57: [281, 282], 58: [283], 59: [284], 60: [285], 61: [286], 62: [287], 64: [288, 289], 65: [290], 66: [291], 68: [292], 69: [293], 70: [294, 295], 71: [296], 72: [297], 73: [298], 74: [299, 300], 75: [301, 302, 303], 76: [304, 305], 78: [306], 80: [307, 308], 81: [309], 82: [310, 311], 83: [312], 84: [313, 314], 85: [315], 86: [316, 317, 318], 87: [319, 320], 88: [321], 89: [322], 90: [323], 91: [324, 325], 92: [326, 327, 328], 93: [329], 94: [330], 95: [331], 96: [332], 97: [333], 98: [334, 335, 336, 337], 99: [338], 100: [339], 101: [340], 102: [341], 104: [342], 105: [343, 344, 345], 107: [346], 108: [347], 109: [348], 110: [349], 111: [350, 351, 352], 112: [353], 113: [354, 355, 356], 114: [357], 115: [358], 116: [359], 117: [360], 118: [361, 362], 119: [363, 364], 120: [365], 121: [366], 122: [367], 123: [368], 124: [369, 370, 371], 125: [372], 126: [373, 374, 375, 376], 127: [377, 378, 379], 128: [380, 381, 382], 129: [383, 384], 130: [385, 386], 132: [388, 389, 390], 133: [391, 392], 134: [393, 394], 135: [395], 136: [396, 397, 398], 137: [399, 400], 138: [401], 139: [403], 140: [404], 141: [405], 142: [406], 143: [407], 144: [408], 145: [409, 410], 147: [411, 412], 148: [413, 414], 149: [415], 151: [416], 152: [417], 153: [418], 154: [419], 155: [420], 157: [421], 159: [422], 160: [423, 424], 161: [425], 162: [426], 163: [427], 164: [428], 166: [429, 430], 167: [431, 432, 433], 169: [434], 170: [435], 171: [436], 172: [437], 173: [438], 174: [439], 177: [440], 178: [441, 442], 179: [443, 444], 180: [445], 181: [446], 182: [447], 183: [448], 184: [449], 185: [450], 186: [451, 452], 187: [453], 189: [454], 190: [455], 191: [456, 457], 192: [458], 193: [459], 194: [460], 195: [461], 196: [462], 197: [463], 198: [464], 199: [465], 200: [466], 201: [467], 202: [468, 469, 470], 203: [471], 204: [472, 473, 474], 205: [475], 206: [476, 477, 478], 207: [479], 209: [480], 210: [481], 211: [482, 483], 213: [484], 214: [485, 486], 216: [487, 488], 218: [489], 219: [490, 491], 220: [492, 493], 221: [494], 222: [495], 223: [496, 497, 498], 224: [499], 225: [500], 226: [501], 227: [502, 503, 504, 505], 228: [506], 229: [507, 508], 230: [509], 231: [510], 232: [511, 512], 233: [513], 234: [514, 515], 235: [516], 237: [517], 238: [518, 519], 239: [520], 240: [521], 241: [522], 242: [523]}\n",
      "(7, 17)\n",
      "{1: [194], 2: [195], 3: [196], 4: [197], 5: [198, 199], 6: [200], 7: [201], 8: [202], 9: [203], 10: [204], 11: [205, 206], 12: [207], 13: [208, 209], 14: [210], 15: [211, 212], 16: [213, 214], 17: [215, 216], 18: [217], 19: [218, 219], 20: [220, 221], 21: [222], 22: [224], 23: [225], 24: [226], 25: [227, 228], 26: [229, 230], 27: [231, 232], 28: [234, 235], 29: [236], 30: [237], 31: [238, 239], 32: [240, 241], 34: [242, 243, 244], 35: [245, 246, 247], 36: [248], 37: [249, 250, 251], 38: [252], 39: [253], 40: [254], 42: [255, 256], 43: [257], 44: [258, 259, 260], 45: [261], 46: [262, 263], 47: [264, 265], 48: [266], 49: [267], 50: [268], 51: [269, 270], 52: [271], 53: [272], 54: [273], 55: [274], 58: [275], 59: [276], 60: [277, 278], 61: [279], 62: [280], 63: [281, 282, 283], 64: [284, 285, 286, 287], 65: [288, 289], 67: [290], 68: [291], 69: [292, 293], 70: [294, 295], 71: [296, 297], 72: [298, 299], 73: [300], 74: [301], 76: [302], 78: [303], 79: [304], 80: [305], 81: [306, 307], 82: [308, 309], 83: [310], 84: [311, 312, 313], 85: [314], 86: [315, 316, 317], 87: [318], 88: [319], 89: [320, 321, 322], 90: [323, 324], 91: [325], 93: [326, 327], 94: [328, 329], 95: [330, 331], 96: [332], 97: [333], 98: [334], 99: [335, 336, 337], 103: [339], 104: [340], 106: [341], 111: [344, 345], 112: [346], 113: [347, 348, 349], 114: [350, 351], 115: [352, 353, 354], 116: [355, 356], 117: [357], 118: [358, 359], 119: [360], 120: [361], 121: [362], 122: [363], 123: [364], 124: [365], 125: [366], 126: [367, 368], 127: [369, 370, 371], 128: [372], 129: [373], 130: [374], 132: [375], 133: [376], 134: [377, 378], 135: [379], 136: [380, 381], 138: [382], 139: [383], 140: [384], 141: [385, 386], 142: [387, 388], 146: [390], 147: [391], 148: [392], 149: [393], 150: [394], 151: [395], 155: [396], 156: [397, 398], 157: [399], 158: [400], 160: [401], 161: [402], 162: [403, 404], 163: [405, 406, 407], 164: [408, 410], 166: [411, 412], 168: [413], 169: [414, 415], 170: [416, 417, 418], 171: [419, 420, 421], 172: [422], 173: [423], 175: [424, 425, 428], 176: [429, 430, 431], 179: [433, 434], 180: [435, 436], 181: [437, 438, 439], 182: [440, 441], 183: [442], 185: [443], 189: [444, 445], 190: [446, 447], 191: [448], 193: [449, 451, 452], 194: [453], 195: [454, 455], 197: [456], 198: [457], 199: [458, 459], 200: [460], 201: [461], 202: [462], 203: [463], 204: [464, 465], 205: [466, 467], 208: [469]}\n",
      "(7, 18)\n",
      "{0: [198], 1: [199], 2: [200], 3: [201, 202, 203], 4: [204], 5: [205], 6: [206], 7: [207, 208], 10: [210], 11: [211], 13: [212, 213, 214], 14: [215], 15: [216], 16: [217], 18: [218, 219, 220], 19: [221], 20: [222], 21: [223], 22: [224], 23: [225], 24: [226], 25: [227], 26: [228], 27: [229], 28: [230], 29: [231], 30: [232, 233], 31: [234], 32: [235, 236], 33: [237], 34: [238], 35: [239], 36: [240], 37: [251, 252], 38: [253], 39: [254, 255], 41: [256, 257], 42: [258, 259, 260, 261], 43: [262], 44: [263], 45: [264], 46: [265, 266, 267], 47: [268, 269], 48: [270, 271], 49: [271], 50: [271, 272], 51: [273, 274, 275], 52: [276, 277], 53: [278], 54: [279], 55: [280], 56: [281, 282], 57: [283], 58: [284], 59: [285], 60: [286], 61: [287, 288], 62: [289, 290], 63: [291], 64: [292], 65: [293, 294], 66: [295], 67: [296, 297], 68: [298], 69: [299, 300], 70: [301, 302, 303], 71: [304], 72: [305, 306], 73: [307], 74: [308], 75: [309, 310, 313], 76: [314], 77: [315, 316], 78: [317, 318], 79: [319, 320], 80: [321], 81: [322, 323], 82: [324, 325], 83: [326], 84: [327], 85: [328], 86: [329, 330], 87: [331], 88: [332], 89: [333], 90: [334], 91: [335, 336], 92: [337, 338, 339], 93: [340], 95: [342], 96: [343], 97: [344], 98: [345, 346], 99: [347, 348, 349], 100: [350, 351], 101: [352], 103: [353], 104: [354], 105: [355], 106: [356], 107: [357, 358], 108: [359, 360], 109: [361, 362, 363], 110: [364, 365, 366, 367], 111: [368, 369, 370, 371, 372, 373], 112: [374, 375], 113: [376], 114: [377], 115: [378], 116: [379], 118: [380, 381], 119: [382, 383, 384], 120: [385], 121: [386], 123: [387], 124: [388, 389], 125: [390], 126: [391, 392], 127: [393], 128: [394, 395], 129: [396], 130: [397], 131: [398, 399, 400], 132: [401], 133: [402], 134: [403, 404, 405], 135: [406], 136: [407], 137: [408], 139: [409], 140: [410, 411], 142: [412], 143: [413], 145: [414, 415], 146: [416, 417], 147: [418], 148: [419, 420, 421], 149: [422], 150: [423, 424], 151: [425], 152: [426], 153: [427], 154: [428], 155: [429, 430], 156: [431], 158: [432], 159: [433, 434, 435, 436], 160: [437], 161: [438], 163: [438, 440], 162: [439], 164: [441], 165: [442], 166: [443, 444], 167: [445, 447, 448], 168: [449], 169: [450], 170: [451, 452], 171: [453], 172: [454], 173: [455], 174: [456], 176: [457], 177: [458], 179: [460], 180: [461, 463, 464], 181: [465, 466], 182: [467], 183: [468, 469, 470], 184: [471], 185: [472, 473, 474], 186: [475, 476, 477, 478], 187: [479], 188: [480, 481], 189: [482, 483], 190: [484], 191: [485], 192: [486], 194: [487, 488, 489, 490, 491], 195: [492], 196: [493], 197: [494, 495, 496], 198: [497], 200: [498], 202: [499, 500], 203: [501, 502], 204: [503], 205: [504], 206: [505, 506], 207: [507, 508, 509], 208: [510], 209: [511, 512], 210: [513], 211: [514, 515], 212: [516], 213: [517], 214: [518], 215: [519], 216: [520, 521], 217: [522, 523], 218: [524], 219: [525], 221: [526], 222: [527], 223: [528], 224: [529], 225: [530], 226: [531, 532, 533], 228: [534], 229: [535], 230: [536], 231: [537, 538], 232: [539], 233: [540], 234: [541]}\n",
      "(7, 19)\n",
      "{0: [198], 1: [199], 2: [200], 3: [201], 6: [202, 203], 7: [204], 8: [205, 206], 9: [207], 11: [208], 12: [209, 210], 13: [211], 14: [212, 213, 214], 16: [215], 17: [216], 18: [227], 19: [228], 21: [229], 22: [230], 23: [231, 232], 24: [233], 26: [234], 27: [235], 28: [236, 239], 30: [241], 31: [242], 32: [243], 33: [244, 245, 246, 247], 34: [248], 35: [249], 36: [250], 37: [251], 38: [252], 40: [253], 41: [254, 257], 42: [258], 43: [259], 44: [260, 261], 45: [262], 47: [263], 48: [264, 265], 49: [266, 267, 268, 269, 270], 50: [271, 272, 273], 51: [274], 52: [275], 53: [277, 278], 54: [279, 284], 55: [285], 56: [286, 287, 288], 57: [289, 290], 58: [291, 292], 59: [293, 294], 60: [295], 62: [296, 297], 63: [298], 64: [299, 300, 301, 302], 66: [303, 304], 67: [305, 306], 68: [307, 308, 309], 69: [310, 311], 70: [312], 71: [313], 72: [314, 315], 73: [316, 317], 74: [319], 75: [320, 321], 76: [322, 323, 324, 325], 77: [326, 327, 328, 329], 78: [330], 79: [331, 332], 80: [333], 81: [334], 82: [335], 83: [336], 84: [337, 338], 85: [339, 340], 86: [341], 87: [342], 88: [343], 89: [344], 90: [345], 92: [346, 347], 93: [348], 95: [349], 96: [350, 351, 352, 353], 97: [354], 98: [355, 356, 357], 99: [358], 100: [359, 360], 101: [361], 102: [362, 363], 103: [364], 104: [365, 366, 367], 106: [368], 107: [369, 370], 108: [371], 109: [372], 111: [373], 112: [374], 113: [375], 114: [376], 115: [377], 116: [378], 117: [379], 118: [380], 119: [381], 120: [382, 383], 121: [384, 385], 123: [386, 387], 124: [388, 389], 125: [390, 391], 126: [392, 393], 127: [394], 128: [395, 396], 130: [397], 131: [397, 398], 132: [399], 133: [400, 401], 137: [402], 138: [403], 139: [404], 140: [405, 406], 141: [407], 142: [408], 143: [409], 144: [410], 145: [411], 146: [412], 147: [413, 414, 415], 148: [416], 149: [417], 150: [418], 151: [419, 420, 421], 152: [422], 153: [423, 424, 425, 428, 429], 154: [430], 155: [431], 156: [432, 433], 158: [434, 435], 159: [436], 160: [437, 439], 161: [440], 162: [441], 163: [442, 443, 444, 445], 164: [446], 168: [447], 169: [448, 449, 450], 170: [451], 171: [452, 453], 172: [454], 173: [455], 174: [456], 175: [457, 458], 176: [459], 177: [460, 461, 462], 178: [463], 179: [464, 465], 180: [466, 467, 468, 469], 181: [470], 182: [471, 472, 473], 183: [474], 184: [475], 185: [476, 477], 186: [478, 479, 480], 188: [481], 189: [482], 191: [483], 192: [484, 485], 193: [486], 194: [487], 195: [488, 489, 490, 491], 196: [492], 197: [493], 198: [494], 199: [495, 496], 200: [497, 498], 201: [499], 202: [500], 204: [501], 205: [502, 503], 207: [504], 208: [505, 506], 209: [507, 508], 210: [509, 510], 211: [511], 212: [512, 513], 213: [514], 214: [515, 516], 215: [517, 518], 217: [519, 520], 218: [521], 219: [522], 220: [523]}\n",
      "(7, 20)\n",
      "{0: [200, 201], 1: [202], 2: [203], 3: [204], 4: [205], 6: [206], 10: [207, 218, 219, 220, 221, 222], 11: [223, 224], 12: [225, 227, 228, 229], 13: [230, 231], 14: [232], 15: [233, 234], 16: [235, 236, 237, 238], 17: [239, 240], 18: [241], 19: [251], 20: [252], 21: [253], 22: [254], 23: [255], 24: [256], 25: [257], 26: [258, 259, 260, 261], 27: [262, 263, 264, 265, 266], 28: [267], 29: [268], 31: [269], 32: [270, 271, 272, 273], 33: [274], 34: [275], 35: [276], 36: [277, 278], 37: [279], 38: [280, 281], 39: [282], 40: [283], 41: [284], 42: [285, 286, 287, 288], 44: [289], 45: [291], 46: [292], 47: [293], 48: [294, 295], 49: [296], 50: [297], 51: [298], 52: [299, 303], 53: [304], 54: [305, 306, 307, 308, 309], 56: [310], 57: [311], 58: [312, 313, 314, 315, 316], 59: [317], 60: [318, 319, 320], 62: [323, 324], 63: [325, 326], 64: [327], 65: [328], 66: [329, 330], 67: [331, 332], 68: [333], 69: [334, 335, 336], 72: [337], 73: [338], 74: [339], 75: [340, 341], 76: [342], 77: [343], 79: [344], 80: [345, 346], 81: [347, 348], 82: [349, 350], 83: [351, 352], 84: [353, 354], 85: [355, 356, 357], 86: [358, 359], 87: [360], 88: [361], 89: [362], 90: [363], 91: [364], 94: [365, 366], 95: [368], 96: [369], 97: [371, 372], 98: [373], 99: [374], 100: [375, 376], 101: [377], 102: [378, 379, 380, 381], 103: [382], 104: [383], 105: [384], 106: [385], 107: [386], 108: [387], 110: [388], 111: [389, 390, 391], 112: [392], 113: [393, 394, 395, 396], 114: [397], 115: [398], 116: [399], 117: [400], 118: [401], 119: [402, 403, 404, 405], 120: [406, 407], 121: [408, 409, 410, 411], 122: [413], 123: [414, 415, 416, 417], 124: [418], 125: [419, 420], 126: [421], 127: [422, 423], 128: [424], 129: [425, 426], 130: [427], 131: [428], 132: [429], 133: [430], 134: [431, 432, 433, 434], 135: [435, 436, 437], 137: [438, 439], 138: [440], 139: [441, 442, 443], 140: [444], 141: [445], 142: [446], 143: [447], 144: [448, 449], 145: [450], 146: [451, 452, 453], 147: [454, 455], 148: [456], 152: [458], 153: [460], 154: [461], 156: [462], 157: [463, 465, 466, 467], 158: [468], 159: [469, 470, 471], 160: [472], 161: [474, 475], 162: [476], 163: [477, 478], 164: [480, 481], 165: [482, 483], 166: [484], 168: [485, 486], 169: [487], 170: [488], 171: [489], 172: [490, 492], 173: [493, 494], 174: [495, 496], 175: [497], 176: [498], 177: [499, 500, 501, 502, 503, 504, 505, 506, 507], 178: [508], 181: [510], 182: [511], 183: [512, 513], 185: [514], 186: [515], 187: [516], 189: [517], 190: [518], 191: [519, 520], 192: [521], 193: [522, 523], 194: [524], 195: [525], 197: [527, 529], 199: [530, 531, 532], 200: [533], 201: [534], 202: [535], 203: [536, 537], 204: [538, 539], 205: [540, 541], 206: [542, 543, 544, 545], 207: [546, 547, 548, 549, 550, 551, 552], 208: [553, 554, 555], 209: [556], 210: [557], 211: [558, 559, 560, 561], 212: [562, 563, 564], 213: [566, 569], 215: [570, 577, 581, 582, 583], 214: [576, 579], 216: [587, 588, 589, 590], 218: [592, 593, 595]}\n",
      "(7, 22)\n",
      "{0: [191, 192], 1: [193, 194], 2: [195, 196], 3: [197], 4: [198, 199, 200], 6: [200], 7: [201], 8: [202], 10: [214], 11: [215, 216, 217], 12: [218], 13: [219], 14: [220], 15: [221], 18: [222], 19: [223], 20: [224], 21: [225], 22: [226, 227], 24: [228], 25: [229, 230, 231, 232, 233], 26: [234], 27: [235, 236, 237, 238], 28: [239], 29: [240], 31: [241, 242, 243], 32: [244], 33: [245], 34: [246], 35: [247], 37: [248], 39: [249, 250], 40: [251], 41: [252, 253, 254, 255], 42: [256, 257], 43: [258, 259], 44: [260], 45: [261], 46: [262, 263], 48: [264], 49: [265, 266], 50: [267, 268], 51: [269, 270, 271, 272], 52: [273], 53: [274, 275], 54: [276, 277], 55: [278, 279], 56: [280], 57: [281, 282], 58: [283, 284], 59: [285], 60: [286, 287], 61: [288], 62: [289], 64: [290], 66: [291, 292, 293], 67: [294], 68: [295, 296, 297], 70: [298], 71: [299, 300], 72: [301], 74: [302, 303], 75: [304], 76: [305], 77: [306, 307, 308, 309, 310], 78: [310, 311], 79: [312], 81: [313, 314], 82: [315], 83: [316], 84: [317], 85: [318], 86: [319], 87: [320, 321, 324], 89: [325, 326, 327, 328], 91: [329], 92: [330], 93: [331], 94: [332], 95: [333], 96: [334], 97: [335, 336], 98: [337], 99: [338], 101: [339], 103: [340, 341], 104: [342], 105: [343], 106: [344, 345, 346], 108: [347, 348], 109: [349, 350], 110: [351, 352], 111: [353, 354, 355], 112: [356, 357], 113: [358], 114: [359, 360], 115: [361], 116: [362, 363], 117: [364], 119: [365, 369], 118: [366, 367, 368], 120: [370], 121: [371], 122: [372], 123: [373], 124: [374], 125: [375], 126: [376], 127: [377], 128: [378], 129: [379], 131: [380], 132: [381], 134: [382, 383], 136: [384], 137: [385], 138: [386], 139: [387, 388], 140: [389, 390], 141: [391, 392], 142: [393], 143: [394], 144: [395], 145: [396], 146: [397, 398], 147: [399, 400], 148: [401], 149: [402, 403], 150: [404], 151: [405, 406, 407], 152: [408], 153: [409], 154: [410, 411], 155: [411], 156: [412, 413], 157: [414], 158: [415], 159: [416], 160: [417, 418, 419], 161: [420, 421], 163: [423, 424, 425], 164: [426, 427], 165: [428, 429, 430, 431], 167: [432, 433], 168: [434], 169: [435, 436], 170: [437], 171: [438, 439], 172: [440], 173: [441], 174: [442], 175: [443], 176: [444, 445], 177: [446, 447], 178: [448], 179: [449, 450], 180: [451], 181: [452, 453], 182: [454, 455, 456], 183: [457], 184: [458, 459], 185: [460, 461], 186: [462, 463], 187: [464, 465, 466, 467, 468], 188: [469, 470], 189: [471], 190: [472], 191: [473], 192: [474], 193: [475], 194: [476], 195: [477], 196: [478], 197: [479, 480], 198: [481], 199: [482], 200: [483, 484], 203: [485, 486, 487], 204: [488], 205: [489], 206: [490], 207: [491], 209: [492, 493], 210: [494], 211: [495]}\n",
      "(7, 23)\n",
      "{0: [193], 1: [194, 195], 2: [196], 3: [197], 4: [198], 5: [199], 6: [200], 7: [201], 8: [202, 203], 10: [204], 11: [205], 12: [206, 207, 208], 13: [209], 14: [211], 15: [212], 16: [213], 17: [214], 18: [215, 216], 19: [217], 20: [218], 21: [219], 22: [220], 23: [221], 24: [222, 223], 25: [224], 26: [225], 27: [226], 28: [227, 228], 29: [229], 31: [230], 32: [231], 33: [232], 35: [233, 234], 36: [235, 236], 37: [237, 238], 38: [239], 39: [240, 241], 40: [242], 41: [243, 244], 42: [245, 246], 43: [247], 44: [248], 45: [249, 250], 46: [251], 47: [252], 48: [253], 49: [254, 255], 50: [256, 257], 51: [258], 52: [259, 260], 53: [261], 54: [262], 55: [263, 264], 56: [265, 266, 267], 57: [268, 269], 58: [270], 59: [271], 60: [272], 61: [273], 62: [274], 64: [275], 66: [276], 68: [277], 69: [278], 70: [279], 72: [280], 73: [281], 74: [282, 283], 75: [284, 285], 76: [286], 77: [287, 288], 78: [289, 290, 291], 79: [292, 293], 80: [294], 81: [295, 296], 82: [297], 83: [298, 299], 84: [300], 85: [301], 86: [302], 87: [303], 88: [304], 89: [305], 90: [306], 91: [307, 308], 92: [309, 310], 93: [311], 94: [312], 95: [313, 314], 96: [315, 319], 97: [320], 98: [321, 322, 323, 324], 99: [325], 100: [326, 327, 328, 329], 101: [330], 102: [331, 332], 103: [333], 104: [334], 105: [335], 106: [336], 108: [337, 338], 109: [339], 110: [340], 111: [341, 342], 112: [343], 113: [344, 345], 114: [346], 115: [347], 116: [348, 349], 117: [350], 118: [351], 119: [352], 120: [353, 354], 121: [355, 356], 122: [357], 123: [358], 124: [359, 360, 361, 362, 363], 125: [364], 126: [365], 127: [366], 128: [367], 130: [368, 369], 131: [370], 132: [371], 133: [372], 134: [373], 135: [374], 136: [375], 137: [376], 138: [377, 378], 139: [379], 140: [380, 384], 141: [385, 386], 142: [387, 388], 143: [389, 390], 145: [391], 146: [392], 147: [393], 148: [394], 150: [395, 396], 151: [397, 399], 152: [398, 400, 401, 402, 403, 404], 153: [405, 406], 154: [407], 155: [408], 157: [409], 158: [410, 411], 159: [412], 160: [413, 414], 161: [415], 162: [416], 163: [417, 418, 419, 420], 164: [421, 422, 423], 165: [424], 166: [425, 426], 168: [427], 169: [428, 429], 170: [430, 431], 171: [432], 172: [433, 434, 435], 175: [436], 176: [437, 438, 439], 177: [440], 178: [441], 179: [442], 181: [443, 444], 183: [445, 446], 185: [447, 448], 186: [449], 187: [450], 188: [451], 189: [452, 453], 190: [454], 192: [455], 193: [456], 194: [457], 196: [458], 197: [459], 198: [460], 199: [461], 200: [462], 201: [463], 202: [464], 203: [465, 466], 204: [467, 468], 205: [469, 470, 473, 474], 206: [475], 207: [476, 477, 478, 479], 208: [480, 481], 209: [482], 210: [483, 485], 211: [486], 212: [487], 213: [488], 214: [489], 215: [490, 491, 492], 216: [493], 217: [494, 495], 218: [496], 221: [497, 498], 222: [499], 223: [500, 501], 224: [502], 225: [503, 504], 226: [505], 227: [506], 228: [507], 229: [508], 230: [509]}\n",
      "(8, 1)\n",
      "{0: [210, 211, 212, 213], 2: [214, 215, 216, 218, 221, 222, 223, 224, 225, 226], 4: [229, 239], 5: [240], 6: [241], 7: [242], 8: [243], 9: [244, 245], 10: [246, 247, 248], 11: [249], 12: [250, 252], 13: [253], 14: [254, 255], 15: [256], 20: [257, 258], 21: [259, 260, 261, 262], 22: [263], 24: [264], 26: [265], 27: [266], 28: [267], 29: [268, 269, 270], 30: [271], 32: [272], 33: [273], 34: [274], 35: [275], 37: [276, 277], 38: [278, 279], 39: [280, 281], 40: [282], 41: [283], 42: [284, 285, 286], 44: [287], 45: [288], 46: [289, 290], 47: [291], 48: [292, 293], 49: [294], 50: [295, 297], 51: [298], 52: [299], 53: [300, 301], 55: [302, 303, 304], 57: [305, 306, 307], 58: [308, 309], 59: [310, 311, 312], 60: [313], 61: [314, 315], 62: [316, 317, 318, 319], 63: [320, 321, 322], 64: [323], 65: [324], 66: [325, 326, 327], 67: [328, 329], 68: [330, 331], 69: [332], 70: [333], 71: [334], 72: [335], 73: [336], 74: [337, 338, 339], 75: [340], 76: [341, 342, 343], 77: [344], 78: [345, 346], 79: [347, 348, 349], 80: [350], 81: [351], 82: [352], 83: [353, 354], 84: [355, 356], 85: [357], 86: [358], 87: [359], 88: [360], 89: [361, 362], 90: [363], 91: [364, 365], 92: [366], 93: [367], 94: [368, 369, 370, 371, 372], 95: [373, 374], 96: [375, 376], 97: [377], 98: [378, 379], 99: [380, 381], 100: [382], 101: [383, 384], 102: [385], 103: [386, 387], 104: [388], 105: [389], 106: [390], 107: [391, 392, 393, 394, 395, 396], 108: [397], 109: [398], 110: [399], 111: [400, 401, 402], 112: [403], 114: [404, 405], 115: [406, 407], 116: [408], 117: [409, 410, 411, 412, 413, 414], 118: [415], 119: [416, 417], 120: [418], 121: [419], 122: [420], 123: [421], 124: [422], 125: [423], 126: [424], 127: [425, 426], 128: [427, 428], 129: [429], 130: [430, 431, 432, 433], 131: [434], 132: [435], 133: [436, 437], 134: [438], 135: [439, 440, 442], 137: [441, 443], 139: [444, 445, 446], 140: [447], 141: [448, 450, 452], 143: [453, 454, 455], 144: [456], 145: [457], 146: [458, 459], 147: [460], 148: [461, 462, 463], 149: [464, 466, 467, 468, 469], 150: [470], 151: [471, 472], 152: [473, 474], 153: [475], 154: [476], 155: [477, 478], 156: [479], 158: [480], 159: [481], 161: [482, 483], 162: [484], 163: [485], 165: [486], 167: [487], 168: [488, 489, 491], 169: [490], 170: [492, 493, 494, 495], 171: [496, 497], 172: [498], 173: [499], 174: [500], 175: [501, 502, 503], 176: [504], 177: [505], 178: [506, 507], 179: [508], 180: [509], 181: [510, 511, 513], 182: [514, 515], 184: [517], 185: [518, 519], 186: [520], 187: [521], 188: [522], 189: [523], 190: [524, 525, 526], 191: [527, 528, 529, 530], 192: [531], 193: [532, 533, 534], 194: [535], 195: [536, 537], 196: [538], 197: [539], 198: [540, 541, 542], 199: [543], 200: [544], 201: [545], 202: [546], 203: [547, 548, 551], 204: [552], 205: [553]}\n",
      "(8, 2)\n",
      "{0: [193, 194], 1: [195], 2: [196], 3: [197], 4: [198, 199], 5: [200], 6: [201, 202], 7: [203], 8: [204, 205], 9: [206], 10: [207], 11: [208], 12: [209], 13: [210], 14: [211], 15: [212], 17: [213], 18: [214, 215], 19: [216, 217], 20: [218], 21: [219], 22: [220], 23: [221, 222], 24: [223], 25: [227, 228], 26: [229], 27: [230, 231], 28: [232], 29: [233], 30: [234, 235], 31: [236], 32: [237], 33: [238, 239, 240], 34: [241, 242], 35: [243], 37: [244], 39: [245], 40: [246], 41: [247, 248, 249], 42: [250], 43: [251, 252], 44: [253], 46: [254], 47: [255], 48: [256], 49: [257], 50: [258], 51: [259], 52: [260, 261], 53: [262, 263], 54: [264], 55: [265], 56: [266], 57: [267], 58: [268, 269, 270], 59: [271], 60: [272], 61: [273], 62: [274], 63: [275], 64: [276], 65: [277], 66: [278], 67: [279, 280, 281], 68: [282], 69: [283], 70: [284], 71: [285], 72: [286, 287, 288], 73: [289], 74: [290, 292, 294], 75: [295, 296, 297], 78: [298, 299, 300], 79: [301], 80: [302], 81: [303], 82: [304], 83: [305], 84: [306, 307], 85: [308], 86: [309], 87: [310, 311], 88: [312], 89: [313], 90: [314, 315], 91: [316], 92: [317], 93: [318], 94: [319], 95: [320, 321], 97: [322], 98: [323, 324], 99: [325], 100: [326, 327, 328, 329, 330, 331], 101: [332], 102: [333], 105: [335], 106: [336, 337, 338], 107: [339], 108: [340], 111: [341], 112: [342], 113: [343], 114: [344], 115: [345], 116: [346, 347, 348], 118: [349], 119: [350], 121: [351, 352, 353, 354], 122: [355, 356], 123: [357, 358], 124: [359, 360], 125: [361], 127: [362, 363], 128: [364], 129: [365, 366, 367, 368], 130: [369], 131: [370, 371], 132: [372], 133: [373], 134: [374, 375], 135: [376, 377, 378], 136: [379], 139: [380, 381], 141: [382], 142: [383, 384, 385], 143: [386, 387], 145: [388, 389], 146: [390], 147: [391], 148: [392], 149: [393], 150: [394], 151: [395, 396, 397], 155: [399], 156: [400, 401, 402], 159: [403], 161: [404], 162: [405, 406, 407, 408], 163: [409, 410], 164: [411, 412], 166: [413, 414, 415, 416], 167: [417], 168: [418, 419, 420, 421], 169: [422, 423], 170: [424, 425, 426], 171: [427], 172: [428, 429], 173: [430, 431], 174: [432, 433, 434], 175: [435, 436], 176: [437, 438, 439], 177: [440], 178: [441, 442, 443], 179: [444, 445, 446], 181: [447, 448], 182: [449], 183: [450], 184: [451], 185: [452], 186: [453], 187: [454, 455, 456], 188: [457], 189: [458, 459], 190: [460], 192: [461], 193: [462], 194: [463], 195: [464, 465, 466, 467, 468], 196: [469, 470], 197: [471], 198: [472], 200: [473], 201: [474], 202: [475], 203: [476, 477, 478], 204: [479], 206: [480], 209: [482], 210: [483, 484], 211: [485, 486], 212: [487], 213: [488], 214: [489], 215: [490]}\n",
      "(8, 3)\n",
      "{0: [188, 189], 1: [190], 3: [191], 4: [192], 5: [193, 194], 6: [195, 196], 8: [197], 9: [198], 10: [199], 12: [200], 13: [201], 14: [202], 15: [203, 204], 16: [205, 206], 17: [207], 18: [208], 19: [209], 20: [210], 21: [211], 22: [212], 23: [214], 24: [215], 25: [216], 26: [217, 218], 27: [219], 28: [220], 29: [221], 30: [222], 31: [223], 32: [224], 33: [225], 34: [226], 35: [227, 228], 37: [229], 38: [230, 231], 39: [232], 40: [233], 41: [234, 235], 42: [236, 237], 43: [238], 44: [239, 240], 45: [241, 242], 46: [243], 47: [244], 48: [245], 49: [247], 50: [248, 249], 51: [250], 52: [251, 252], 53: [253], 54: [254], 55: [255], 56: [256], 57: [257, 258], 58: [259], 59: [260, 261, 262], 60: [263], 61: [264, 265, 266, 267, 268, 269], 62: [270, 271], 63: [272], 64: [273], 66: [274, 275], 67: [276], 68: [277, 278, 279], 69: [280], 70: [281, 282], 73: [283], 74: [284], 75: [285], 76: [286], 77: [287], 78: [288], 79: [289], 80: [290, 291], 81: [292, 294, 295], 82: [296], 83: [297, 298], 84: [299], 85: [300], 86: [301], 87: [302, 303], 88: [304], 89: [305, 306], 90: [307], 91: [308, 309, 311], 92: [312], 93: [313, 314], 94: [315, 316, 317], 95: [318, 319], 96: [320], 97: [321], 98: [322], 99: [323, 324], 100: [325], 101: [326], 103: [327, 328], 104: [329, 330, 331], 105: [332], 106: [333, 334, 338], 107: [339], 108: [340], 109: [341], 110: [342, 343, 344], 111: [345], 112: [346], 113: [347], 114: [348], 115: [349, 350], 116: [351], 117: [352], 118: [353], 119: [354], 120: [355], 121: [356], 123: [357], 124: [358], 126: [359, 360], 127: [361, 362], 128: [363, 364], 130: [365, 366], 131: [367], 133: [368], 135: [369], 137: [370, 371], 138: [372], 139: [373], 140: [374], 141: [375], 142: [376], 143: [377], 144: [378], 145: [379], 147: [380, 381], 148: [382, 383, 384, 385], 149: [386], 150: [387, 388, 389], 151: [390], 152: [391], 153: [392, 393, 394], 154: [395, 396], 155: [397, 398, 399], 156: [400], 157: [401], 158: [402], 159: [403, 404, 405], 160: [406], 161: [407], 162: [408, 409], 163: [410, 411], 164: [412, 413], 165: [414, 415, 416, 418], 166: [419], 167: [420], 168: [421], 169: [422], 170: [423, 424], 171: [425, 426], 172: [427, 428, 429, 430], 173: [431], 174: [432], 175: [433, 434], 176: [435, 436], 177: [437], 178: [438, 439], 179: [440], 180: [441], 181: [442], 182: [443, 444], 183: [445], 185: [446], 186: [447], 187: [448], 189: [449], 191: [450], 192: [451], 193: [452], 195: [453], 196: [454], 197: [455], 198: [456, 457, 459, 461, 462, 463], 199: [464], 200: [465], 201: [466, 467], 202: [468], 203: [469], 204: [470], 205: [471]}\n",
      "(8, 5)\n",
      "{0: [138], 1: [139, 140], 2: [141], 3: [142, 145], 4: [146], 5: [147], 6: [148], 7: [149, 150, 152], 8: [153], 9: [154], 10: [155, 156], 11: [157], 12: [158], 13: [159], 14: [160], 15: [161, 162], 16: [163], 17: [164, 165, 167, 168], 18: [169], 19: [170], 20: [171, 172], 21: [173], 22: [174, 175], 23: [176], 24: [177], 25: [179], 26: [180], 27: [181], 28: [182, 183, 184], 29: [185], 30: [186], 31: [187], 32: [188], 34: [190, 192], 35: [193, 195], 37: [194], 38: [196], 39: [197], 40: [198], 41: [199, 200], 42: [201], 45: [202], 47: [203], 48: [204], 49: [205], 50: [206, 207, 208, 209], 51: [210], 52: [211], 53: [212, 213], 54: [214], 56: [216], 57: [217, 218], 58: [219], 59: [220, 221], 60: [222], 61: [223, 224, 225, 226], 62: [227], 63: [228, 229], 64: [230, 232, 233], 65: [234], 66: [235], 67: [236], 68: [237, 238], 69: [239], 70: [240], 71: [241, 242, 243], 72: [244], 73: [245], 74: [247, 250], 75: [252, 253], 76: [254], 77: [255], 78: [256], 79: [257], 80: [258], 81: [259], 83: [260], 84: [261], 85: [262], 86: [263], 87: [264], 91: [265], 92: [266, 267], 93: [268], 94: [269, 270, 271], 96: [272, 273], 98: [274, 275], 99: [276], 100: [277], 101: [278, 279], 103: [280], 104: [281], 105: [282], 107: [283, 284, 285, 286, 287], 108: [288, 289, 290], 109: [291, 292], 111: [293], 112: [294], 113: [295], 114: [296, 297], 115: [298], 117: [299, 300, 301, 302], 118: [303, 304], 119: [305], 120: [306], 121: [307, 308, 309, 310, 311, 312], 122: [313, 314, 315, 316], 123: [317], 125: [318, 319], 126: [320], 127: [321, 322], 128: [323], 129: [324], 130: [325], 131: [326], 132: [327, 328, 329], 133: [330, 331, 332, 333], 135: [334, 335, 336], 137: [337, 338, 339], 138: [340], 139: [341, 342], 141: [343, 344, 345], 143: [346, 347], 144: [348], 145: [349], 146: [350], 147: [351], 148: [352], 149: [353, 354, 355], 150: [356, 357], 151: [358, 359], 152: [360, 361, 362], 153: [363], 154: [364, 365], 155: [366], 156: [367], 157: [368, 369], 158: [370], 159: [371], 160: [372, 373, 374], 161: [375], 162: [376], 163: [377], 164: [379], 165: [380], 166: [381, 382], 167: [383], 169: [384], 170: [385], 171: [386], 172: [387], 173: [388], 174: [389], 175: [390, 391], 176: [392], 177: [393, 394], 178: [395], 179: [396], 180: [397, 400], 181: [401, 402, 403, 404, 405, 406, 407], 182: [408], 183: [409], 184: [410], 185: [411, 412], 186: [413], 187: [414, 415], 188: [416, 417, 418], 189: [419], 190: [420, 421, 422, 423], 191: [424, 425, 426], 192: [427], 193: [428], 196: [429, 430], 197: [431, 432, 433], 198: [434, 435, 436], 199: [437], 200: [438, 439], 201: [440], 202: [441], 203: [442], 204: [443], 205: [444], 206: [445, 446, 447], 207: [448, 449], 208: [450], 209: [451, 452], 210: [453], 211: [454], 214: [455], 215: [456], 216: [457], 217: [458], 218: [459], 219: [460, 461, 465, 466, 467, 468], 220: [469]}\n",
      "(8, 6)\n",
      "{0: [180], 1: [181], 2: [182], 3: [183], 4: [184], 5: [185], 6: [186], 7: [187], 8: [188], 9: [189], 10: [190], 11: [191], 12: [193, 194], 13: [195], 14: [196], 15: [197], 16: [198], 17: [199], 18: [200, 201], 19: [203], 20: [204], 21: [205], 22: [206], 24: [207], 25: [209, 210, 211], 26: [212], 27: [213], 28: [214], 31: [215], 32: [216, 217], 33: [218], 34: [219, 220], 35: [221], 36: [222], 37: [223], 38: [224], 40: [226], 41: [227], 43: [228, 229], 44: [230, 231], 45: [232, 233], 46: [234], 47: [235, 236], 48: [237], 49: [238], 50: [239, 240], 51: [241, 242], 52: [243], 53: [244], 54: [245], 55: [246], 56: [248], 57: [249, 250, 251, 252, 253], 58: [254], 59: [255, 256], 60: [257, 258], 61: [259, 260], 62: [261], 63: [262, 263], 64: [264], 65: [265], 66: [266], 67: [267, 268], 68: [269, 270], 69: [271, 272], 70: [273], 72: [274], 73: [275, 276], 74: [277], 76: [279], 77: [280], 78: [281], 79: [282], 80: [283, 284], 81: [285], 82: [286], 84: [287, 288, 289], 85: [290, 291], 86: [293], 87: [294], 88: [295], 89: [296, 297, 298, 299], 90: [300], 91: [301], 92: [302, 303, 304, 305, 306], 95: [306, 307], 96: [308, 309], 97: [310, 312], 98: [313, 314, 315, 316], 99: [317, 318, 319], 100: [320, 321], 101: [322, 323], 102: [324], 103: [325, 326], 104: [327], 105: [328], 106: [329], 107: [330, 331], 108: [332, 333, 334], 109: [335], 110: [336], 111: [337], 112: [338, 339], 114: [341], 115: [342], 116: [343, 345, 346, 347], 117: [348, 349], 118: [350, 351], 119: [352], 120: [353, 354], 121: [355], 122: [356], 123: [357, 358], 124: [359], 127: [361, 362], 128: [363], 129: [364, 365], 130: [366], 131: [367], 132: [368, 369], 133: [370], 134: [371], 135: [372], 136: [373], 138: [374], 139: [375], 140: [376], 141: [377], 143: [379], 144: [380, 381], 145: [382], 146: [383], 147: [384, 385], 149: [387, 388, 389, 390, 391], 150: [392], 151: [393, 394, 395], 152: [397], 153: [398, 399, 400, 401], 154: [402], 155: [403], 156: [404, 405], 157: [406], 158: [407, 408], 159: [409], 162: [411, 412], 163: [413], 164: [414], 165: [415, 416, 417], 166: [419], 167: [420, 421, 422], 168: [423, 424], 169: [425], 170: [426, 427], 171: [428, 430], 173: [430], 174: [431], 175: [432], 176: [433, 434], 177: [435], 178: [436], 179: [437], 180: [438], 181: [439], 182: [440], 183: [441], 184: [442, 443], 185: [444], 186: [445], 187: [446], 188: [447], 189: [448], 190: [449, 450], 191: [451], 192: [452], 193: [453, 454], 194: [455, 456], 195: [457], 196: [458, 459], 197: [460], 198: [461], 199: [462], 200: [463], 201: [464, 465, 466], 202: [467], 203: [468], 204: [469], 205: [470], 206: [471, 472, 473], 207: [474], 208: [475], 209: [476, 477], 210: [478], 211: [479], 212: [480], 213: [481, 483], 214: [484], 215: [485], 216: [486], 217: [487, 488, 489, 490, 491, 492], 218: [493, 494], 219: [494, 495, 496], 221: [497], 222: [498, 499, 500, 501, 506, 507], 223: [508], 224: [509], 225: [510], 226: [511], 227: [512], 228: [513, 514, 515], 229: [516], 231: [517, 518, 519], 232: [520], 233: [521], 234: [522], 236: [523], 237: [524, 525, 526, 527, 528], 238: [529, 530, 531, 532], 239: [533]}\n",
      "(8, 7)\n",
      "{0: [199], 1: [200], 2: [201], 3: [202], 4: [203, 204], 5: [205, 206], 6: [207, 208, 209, 210], 7: [211], 8: [212], 9: [213, 214, 215], 10: [216], 11: [217], 12: [218], 13: [219, 220, 222], 14: [223], 15: [224], 16: [225, 226, 227], 18: [229, 230, 231, 232], 19: [233, 234], 20: [235], 21: [236, 237], 23: [238, 239], 24: [240], 25: [241, 242], 26: [243], 27: [244, 245], 28: [246], 29: [247], 30: [248], 32: [249], 33: [250], 34: [251, 252], 35: [253], 36: [254, 255], 38: [256], 39: [257], 40: [258, 259, 260], 41: [261, 262], 42: [263, 264, 265, 266], 43: [267, 269, 270], 44: [271], 46: [272], 48: [273, 274], 50: [275, 276, 277, 278], 52: [279, 280], 53: [281, 282, 283, 284], 54: [285], 55: [286], 56: [287], 57: [288], 58: [289], 59: [290], 60: [291, 292], 61: [293, 294, 295], 62: [296, 297, 298, 299], 64: [300], 65: [301], 66: [302], 67: [303], 68: [304, 305], 69: [306], 70: [307], 71: [308], 72: [309], 73: [310, 311, 312], 74: [313], 75: [314, 315], 76: [316, 317], 77: [318, 319], 78: [320], 79: [321], 80: [322], 81: [323], 83: [324], 84: [325], 86: [326], 88: [327], 89: [328, 329], 90: [330], 91: [331], 92: [332, 333], 93: [334], 94: [335, 336, 337, 338], 97: [340], 99: [341], 100: [342, 343], 101: [344, 345, 346, 347, 348], 102: [349], 103: [350], 104: [351], 106: [352], 107: [353], 108: [354], 110: [355, 356], 111: [357, 358, 359], 112: [360, 361, 362], 115: [364], 116: [365], 118: [366], 119: [367, 368], 120: [369, 370], 122: [371, 372, 373, 374], 123: [375, 376], 124: [377], 125: [378, 379], 126: [380, 381], 127: [382, 383], 128: [384, 385], 129: [386], 130: [387, 388], 131: [389, 390], 132: [391, 392], 133: [393], 135: [394, 395, 396], 136: [397, 398], 137: [399], 138: [400], 139: [401], 140: [402], 142: [403], 143: [404], 144: [405], 145: [406, 407], 146: [408], 147: [409, 410], 148: [411], 149: [412, 413], 150: [414], 151: [415], 152: [416, 417], 153: [418], 154: [419, 420], 155: [421], 156: [422, 423], 157: [424], 158: [425, 426], 160: [427], 161: [428], 163: [430, 431], 164: [432], 165: [433, 434], 167: [435], 168: [436], 169: [437], 170: [438], 171: [439], 172: [440], 173: [441], 174: [442], 175: [444, 445], 176: [446], 177: [447, 448], 178: [449], 179: [450], 180: [451], 181: [452], 182: [453, 454], 183: [455, 456], 184: [457], 185: [458], 186: [459], 187: [460], 188: [461], 189: [462], 190: [463, 464, 465], 191: [466], 192: [467], 193: [468], 194: [469], 195: [470, 471], 196: [472, 473, 474, 475], 197: [476, 477], 198: [478], 199: [479], 200: [480, 481, 482], 201: [483], 202: [484], 203: [485, 486], 204: [487, 488], 206: [489, 490], 207: [491], 208: [492], 209: [493], 212: [495], 213: [496], 214: [497, 498], 215: [499], 216: [500], 217: [501, 502], 219: [503], 220: [504], 221: [505], 224: [507, 508]}\n",
      "(8, 9)\n",
      "{0: [186, 187], 1: [188], 2: [189], 3: [190], 4: [191, 192], 5: [193, 194], 6: [195, 196], 7: [197], 11: [199, 200], 12: [201], 13: [202], 14: [203, 204, 205], 15: [206], 16: [207, 208], 17: [209], 18: [210, 211], 19: [212, 213], 20: [214, 215, 216], 21: [217], 22: [218, 219], 24: [220], 26: [221, 222], 27: [223], 28: [224, 225], 29: [226], 30: [227, 228], 31: [229], 32: [230, 231], 34: [232, 233], 35: [234], 36: [235, 236], 37: [237], 38: [238], 39: [239], 40: [240, 241, 242], 41: [243], 42: [244], 44: [245], 45: [246], 46: [247, 248], 47: [249], 48: [250, 252], 49: [253], 50: [254], 51: [255], 52: [256], 53: [257], 54: [258, 259], 55: [260], 56: [261], 57: [262, 263], 58: [264], 59: [265, 266], 60: [267], 61: [268, 269], 62: [270], 63: [271, 272, 273], 64: [274], 65: [275], 66: [276], 67: [277, 278], 68: [279], 69: [280, 281], 70: [282, 283], 71: [284], 72: [285, 286, 287], 73: [288, 289], 74: [290], 75: [291], 76: [292, 293], 77: [294, 295, 296], 78: [297, 298, 299, 300, 301, 302], 81: [303], 82: [304, 305], 83: [306], 84: [307], 85: [308], 86: [309, 310], 87: [311, 312], 88: [313, 314], 89: [315], 90: [316, 317], 91: [318], 92: [319], 93: [320, 321, 322], 94: [323], 95: [324, 325, 326], 99: [328], 101: [329, 330], 102: [331], 103: [332, 335], 104: [333, 334], 105: [336], 106: [337], 108: [338], 109: [339, 340], 110: [341], 111: [342], 112: [343], 113: [344, 345, 346], 115: [347], 117: [348, 349], 118: [350], 119: [351, 352], 120: [353], 121: [354], 122: [355], 124: [356], 126: [357], 127: [358, 360], 128: [361], 129: [362], 130: [363], 131: [364], 132: [365], 133: [366], 134: [367], 135: [368, 369], 136: [370], 137: [371, 372, 373], 138: [374], 139: [375, 376], 140: [377], 141: [378], 142: [379], 143: [380, 381], 144: [382], 145: [383, 384, 385], 146: [386], 147: [387], 148: [388, 389], 149: [390], 150: [391], 151: [392], 152: [393], 153: [394, 395], 154: [396, 397], 155: [398], 156: [399, 400, 401], 157: [402], 158: [403], 160: [404], 161: [405], 162: [406, 407], 164: [408, 409], 165: [410, 411, 412, 413], 166: [414], 167: [415], 168: [416, 417], 169: [418], 170: [419, 420, 421], 171: [422], 172: [423], 173: [424], 174: [425], 175: [426], 176: [427, 429], 177: [430], 178: [432], 180: [433], 181: [434], 182: [435, 436], 184: [437, 438], 185: [439], 186: [440], 187: [441], 188: [442], 189: [443, 444], 190: [445, 446], 191: [447], 192: [448], 193: [449], 194: [450], 195: [451, 452], 196: [453, 454], 197: [455], 198: [456], 199: [457, 458, 459], 200: [460], 201: [461, 462, 463], 202: [464], 203: [465], 204: [466], 205: [467, 468], 206: [469, 470, 471, 472], 207: [473], 208: [474], 209: [475], 210: [476, 477], 211: [478, 479], 212: [480], 213: [481, 482], 214: [483], 215: [484], 216: [485], 217: [486, 487], 218: [488, 489], 219: [490, 491, 492], 220: [493], 221: [494, 517]}\n",
      "(8, 11)\n",
      "{0: [188], 1: [189, 190, 191], 2: [192, 193], 3: [194], 4: [195], 5: [196, 197, 198], 6: [199], 7: [200, 201, 202], 9: [203, 204], 10: [205, 206, 207], 11: [208], 12: [209], 13: [210], 14: [211], 15: [212, 213], 16: [214], 20: [215], 21: [216, 217, 218, 219], 22: [220], 23: [221, 222], 24: [223], 25: [224], 26: [225], 27: [226], 28: [227], 29: [228], 30: [229], 31: [230], 32: [231, 232], 33: [233], 34: [234], 35: [235], 36: [236], 37: [237, 238], 38: [239, 240], 39: [241], 41: [243], 42: [244, 245], 43: [246], 44: [247], 45: [248, 249], 46: [250], 47: [251], 48: [252], 50: [253], 51: [254, 255, 256, 257], 53: [258, 259], 54: [260], 55: [261, 262, 263], 56: [264, 265, 266], 57: [267], 58: [268], 59: [269], 61: [270], 62: [271], 63: [272, 273, 274], 64: [275], 65: [276, 277], 66: [278, 279, 280], 67: [281], 68: [282], 69: [283, 284, 285, 286, 287], 70: [288], 71: [289, 290], 73: [291, 292], 75: [293], 76: [294], 77: [295, 296], 78: [297], 79: [298], 80: [299], 81: [300], 82: [301, 302], 83: [303], 84: [304, 305], 85: [306], 86: [307], 87: [308, 309], 88: [310], 89: [311], 90: [312], 91: [313], 92: [314], 93: [315], 94: [316], 95: [317], 96: [318], 97: [319, 320], 98: [321], 99: [322], 100: [323], 101: [324], 102: [325, 326], 103: [327, 328, 329], 104: [330, 331], 106: [332, 333, 334], 107: [335], 108: [336, 337], 109: [338], 111: [339], 113: [340], 114: [341], 115: [342], 116: [343, 344], 117: [345, 346, 347, 348], 118: [349], 119: [350], 120: [351], 122: [352], 123: [353, 354], 124: [355], 125: [356, 357, 358, 359], 126: [360], 127: [361], 128: [362], 129: [363], 130: [364], 131: [365], 132: [366, 367], 133: [368, 369, 370], 134: [371, 372], 136: [373], 137: [374, 375], 138: [376], 140: [377, 378, 379, 380], 141: [381], 142: [382], 143: [383], 146: [384], 147: [385], 148: [386], 150: [387], 151: [388], 152: [389], 153: [390], 154: [391, 392], 155: [393], 156: [394, 395, 396, 397], 157: [398], 158: [399], 159: [400, 401], 160: [402], 161: [403, 404], 162: [405], 163: [406, 407], 165: [408], 166: [409], 167: [410, 411], 168: [412], 169: [413, 414, 415], 170: [416], 171: [417, 418, 419], 172: [420, 421], 173: [422, 423], 174: [424, 425], 175: [426], 176: [427, 428, 429], 177: [430, 431], 178: [432, 433], 179: [434], 180: [435], 182: [436], 183: [437], 184: [438], 187: [439, 440], 188: [441], 189: [442], 190: [443], 191: [444], 192: [445], 193: [446], 194: [447], 195: [448], 196: [449], 197: [450], 198: [451], 199: [452], 200: [453, 454], 201: [455, 456], 202: [457, 458, 460], 203: [461], 204: [462, 463, 464, 465, 466, 467, 468], 205: [469, 470], 206: [471], 207: [472], 208: [473], 209: [474, 475], 210: [476, 477], 211: [478], 212: [479, 480, 481], 213: [482], 214: [483], 215: [484, 486], 216: [487]}\n",
      "(8, 12)\n",
      "{0: [186], 1: [187], 2: [188, 189], 3: [190], 4: [191], 5: [192], 6: [193], 7: [194], 8: [195], 9: [196], 10: [197], 12: [198], 14: [199], 15: [200], 16: [201], 17: [202, 203], 18: [204, 205], 19: [206], 20: [207], 21: [208], 22: [209], 23: [210], 24: [211], 26: [212], 27: [213], 29: [214], 30: [215, 216, 217], 31: [218, 219, 220, 221], 32: [222], 33: [223], 34: [224, 225], 35: [226], 36: [227], 37: [228], 38: [229, 230], 39: [231], 40: [232], 41: [233, 234, 235], 42: [236], 43: [237], 44: [238, 239], 45: [240], 46: [247], 47: [248], 48: [249], 50: [250, 251], 51: [252, 253], 52: [254], 53: [255], 54: [256, 257], 55: [258, 259], 56: [260], 57: [261, 262], 58: [263], 59: [264], 60: [265], 61: [266], 62: [267], 63: [268], 64: [269], 65: [270, 271], 66: [272], 67: [273, 274, 275, 276], 69: [277], 70: [278], 71: [279], 72: [280], 73: [281, 282], 74: [283], 75: [284], 76: [285], 77: [286], 78: [287], 79: [288, 289], 80: [290], 81: [291], 83: [292], 84: [293], 85: [294], 87: [295], 88: [296, 297, 298, 299], 89: [300], 90: [301, 302], 91: [303], 92: [304, 305, 306], 93: [307, 308], 94: [309], 95: [310, 311], 96: [312], 98: [313, 314], 99: [315, 316], 101: [317, 318], 102: [319], 103: [320, 321, 322, 323], 104: [324, 325], 105: [326], 106: [327, 328, 329], 107: [330], 108: [332], 109: [333], 110: [334, 335], 111: [336, 337], 113: [338, 339], 114: [340, 341, 342, 343, 344], 115: [345, 346], 116: [347, 348], 117: [349], 118: [350, 351, 352, 353, 354, 355], 119: [356], 120: [357, 358], 121: [359], 122: [360, 361], 123: [362], 124: [363, 364], 125: [365], 126: [366], 127: [367], 128: [368], 130: [369], 131: [370, 371, 372], 132: [373], 134: [374], 135: [375, 376], 136: [377], 137: [378, 379, 380], 138: [380], 139: [381], 140: [382], 141: [383], 142: [384, 385], 144: [386], 147: [388, 389, 390], 148: [391, 392, 393, 394], 150: [396], 151: [397], 152: [398], 153: [399, 400, 401], 154: [402], 155: [403, 404], 156: [405, 406, 407], 157: [408], 158: [409, 410], 159: [411], 160: [412, 413, 414], 161: [415], 162: [416, 417], 163: [418, 419, 420, 421, 422], 164: [423, 424], 165: [425], 167: [426], 168: [427], 169: [428, 429], 172: [431, 432], 173: [433, 434, 435], 174: [436], 175: [437, 438], 176: [439, 440], 177: [441], 178: [442], 179: [443], 180: [444], 181: [445, 446], 182: [447, 448], 184: [449], 186: [450, 451], 187: [452], 188: [453, 454, 455], 189: [456], 190: [457], 191: [458, 459], 192: [460], 193: [461], 194: [462], 195: [463], 196: [464, 465, 466, 467, 469], 197: [470], 198: [471, 475], 199: [476], 200: [477, 478], 201: [479, 480], 202: [481, 482], 203: [483], 204: [484, 485], 206: [487], 208: [488], 210: [489], 211: [490, 491], 212: [492], 213: [493, 494]}\n",
      "(8, 14)\n",
      "{0: [198], 1: [199], 2: [200, 201], 3: [202, 203], 4: [204, 205], 5: [206, 207], 6: [208], 7: [209, 210], 8: [211, 212, 213], 9: [214, 215], 10: [216, 217], 11: [218, 219, 220, 221, 222], 12: [223], 13: [224], 14: [225, 226], 16: [227], 17: [228, 229, 230], 18: [231, 232], 21: [233, 234], 22: [235], 23: [236, 238], 24: [239], 25: [240, 241], 26: [242], 27: [243], 28: [244], 29: [246], 30: [247, 248], 31: [249], 32: [250, 251], 33: [252], 34: [253], 35: [254], 36: [255], 37: [256], 38: [257], 39: [258], 40: [259, 260], 41: [261, 262], 42: [263], 43: [264], 44: [265, 266, 267], 45: [268], 46: [269], 49: [270], 50: [271], 51: [272], 52: [273], 53: [274], 54: [275], 55: [276], 56: [277], 57: [278], 58: [279], 59: [280], 60: [281], 61: [282], 62: [283], 64: [284], 65: [285], 67: [286], 68: [287], 69: [288], 70: [289, 290], 71: [291], 73: [292], 74: [293], 75: [294], 76: [295], 77: [296, 297], 78: [298], 79: [299, 300, 301], 80: [302], 81: [303, 304], 82: [305, 306], 83: [307], 84: [308, 309, 310, 311], 85: [312], 86: [313], 87: [314], 88: [315], 89: [316, 317], 90: [318, 319], 91: [320], 93: [321, 322, 323, 324, 325, 326], 94: [327], 95: [328], 96: [329, 330], 97: [331], 98: [332, 333], 99: [334], 100: [335], 101: [336], 102: [337], 103: [338], 104: [339], 106: [340], 108: [341, 342], 109: [343, 344], 110: [345], 111: [346], 112: [347, 348, 349, 350, 351], 113: [352], 114: [353], 115: [354], 116: [355], 117: [356], 118: [357], 119: [358, 359, 362], 120: [363], 121: [364, 365], 122: [366], 123: [367], 124: [368], 125: [369], 127: [370], 128: [371], 129: [372], 130: [373], 131: [374], 132: [375], 133: [376], 134: [377], 135: [378, 379], 136: [380], 139: [381], 140: [382], 141: [383, 384, 385, 386, 387], 142: [388], 143: [389, 390, 391, 392, 393, 394], 144: [395, 396], 145: [397, 398], 146: [399], 147: [400, 401], 148: [402], 150: [403], 151: [404], 152: [405, 406], 153: [407, 408, 409, 411, 412, 413], 155: [414], 156: [415], 157: [416, 417], 158: [418, 419, 420], 159: [421], 160: [422], 161: [423], 162: [424, 425], 164: [426], 165: [427, 428], 166: [429], 167: [430, 431, 432], 168: [433], 169: [434, 435, 436, 437, 438], 170: [439], 171: [440, 441, 442], 172: [443, 444, 445, 446, 447, 448, 449], 174: [450, 451, 452, 453, 454, 455, 456, 457], 175: [458], 176: [459, 460], 177: [461], 178: [462], 179: [463], 180: [464, 465], 181: [466], 182: [467, 468, 469], 183: [470, 471], 184: [472, 474], 185: [475, 476, 477], 186: [478], 187: [479], 188: [480], 189: [481], 190: [482, 483], 191: [484], 192: [485, 486, 487], 193: [488, 489], 194: [490, 491], 195: [492], 196: [493], 197: [494], 198: [495, 496, 497], 199: [498], 200: [499], 201: [500], 202: [501], 203: [502, 503], 204: [504, 505, 506, 507], 206: [508, 509, 510, 511, 512, 513, 514, 515, 516], 207: [517], 208: [518, 519, 520, 521, 522, 523, 524], 210: [525, 526, 529, 530, 531], 211: [532], 213: [533], 214: [534], 215: [535, 536], 216: [537, 538], 217: [539, 540, 541, 542], 218: [543], 219: [544, 545], 220: [546], 221: [547, 548], 222: [549], 224: [550], 225: [551], 226: [552]}\n",
      "(8, 15)\n",
      "{0: [198], 2: [199, 205], 8: [205], 9: [206], 10: [207], 11: [208], 12: [209], 13: [210, 211, 212], 14: [213, 214], 15: [215, 218], 16: [219, 220], 17: [221], 18: [222], 19: [223], 20: [224], 21: [225, 226], 22: [227, 228, 229], 23: [230, 231, 235, 236], 24: [237, 238, 239], 25: [240], 26: [241, 242, 243], 27: [244], 28: [245], 29: [246], 30: [247], 31: [248, 249], 32: [250, 251], 33: [252], 37: [253, 254, 255], 39: [256], 40: [257], 41: [258], 42: [259], 43: [260, 261, 262, 263], 44: [264], 45: [265], 46: [266, 267], 47: [268], 48: [269, 270], 49: [271, 272, 273, 274], 50: [275], 51: [276, 277, 278, 279], 52: [280], 53: [281], 54: [282], 57: [284], 58: [285], 59: [286], 60: [287], 61: [288], 63: [289], 64: [290, 291], 65: [292, 293], 66: [294, 295], 67: [296], 68: [297], 69: [298, 299], 70: [300], 71: [301], 72: [302], 73: [303, 304], 74: [305], 75: [306, 307], 76: [308, 309, 310], 77: [311], 79: [312], 80: [313], 81: [314, 315, 316], 83: [316, 317, 318], 84: [319], 85: [320], 87: [321, 322], 88: [323], 89: [324], 90: [325], 91: [326], 93: [327], 94: [328, 329], 95: [330], 96: [331], 98: [332, 333], 99: [334], 101: [335, 336], 102: [337, 338, 339], 103: [340], 105: [341, 342], 106: [343], 107: [344, 345, 346], 108: [347], 109: [348, 349, 350], 110: [351, 352], 111: [353, 354], 112: [355, 356], 113: [357, 358], 114: [359], 115: [360, 361, 362, 363], 118: [364], 119: [365], 120: [366, 367], 121: [368, 369], 122: [370, 371], 123: [372, 373, 374], 124: [375], 125: [376], 126: [377], 127: [378], 128: [379], 129: [380, 381, 382], 130: [383], 131: [384], 133: [385], 134: [386], 135: [387, 388], 136: [389], 137: [390, 391, 392, 393, 394], 138: [395, 396], 139: [397], 140: [398, 399], 141: [400], 142: [401, 402], 143: [403], 144: [404, 405, 406], 146: [407], 147: [408], 148: [409], 149: [410], 151: [411], 153: [412], 154: [413, 414, 415, 416], 155: [417, 418], 156: [419], 161: [420, 422, 423, 424], 162: [425, 426], 163: [427, 428], 164: [429, 430, 431, 432], 167: [433], 168: [434], 169: [435, 436], 170: [437], 171: [438], 172: [439, 440], 173: [441], 174: [442], 175: [443], 177: [444], 178: [445], 179: [446, 447], 180: [448, 449], 182: [450, 451], 183: [452], 185: [453], 186: [454, 455], 187: [456], 188: [457], 189: [458, 459], 190: [460], 191: [461], 192: [462], 193: [463, 464, 465], 194: [466], 195: [467], 196: [468, 469], 197: [470], 198: [471], 199: [472], 200: [473], 201: [474], 204: [475], 206: [476, 477, 478], 207: [479], 212: [480], 213: [481], 215: [482], 216: [483, 484, 485], 217: [486], 218: [487, 490], 219: [491], 220: [492], 221: [493], 222: [494, 495, 496], 223: [497], 224: [498, 499], 225: [500, 501, 502, 503, 504], 226: [505], 227: [506], 228: [507], 229: [508, 509], 230: [510], 231: [511], 232: [512, 514]}\n",
      "(8, 16)\n",
      "{0: [198], 1: [199, 200], 2: [201], 3: [202, 203, 204], 4: [205], 5: [206, 207, 208], 6: [209], 7: [210], 8: [211, 212], 9: [213, 214], 10: [215, 216], 11: [217, 219, 220], 13: [221], 15: [223, 224], 16: [225], 17: [226], 18: [227], 20: [228, 229], 21: [230, 231], 22: [232], 23: [233], 24: [234, 235], 25: [236, 237, 238], 26: [239], 27: [241, 242], 28: [243], 29: [244], 30: [245, 246, 247], 32: [248, 249, 250, 251], 33: [252], 34: [253, 254, 255], 35: [256], 36: [257], 37: [258], 38: [259], 39: [260], 40: [261], 41: [262, 263], 42: [264, 265], 43: [266, 267], 45: [268], 46: [269], 47: [270], 48: [271], 49: [272], 50: [273, 274], 51: [275], 52: [276, 277], 53: [279, 280], 55: [282], 56: [283], 57: [284], 58: [285, 286], 59: [287], 60: [288], 61: [289], 62: [290], 63: [291, 292], 64: [293, 294, 295, 296, 297], 65: [298, 299, 300], 66: [301], 67: [302, 303], 68: [304, 305, 306, 307], 69: [308, 309], 70: [310, 313], 71: [314], 72: [315, 316, 317], 73: [318], 74: [319], 75: [320], 77: [322, 323], 78: [324], 79: [325], 80: [326, 327], 82: [328], 83: [329], 84: [330], 85: [331], 86: [332, 333, 334], 87: [335, 336, 337], 88: [338], 89: [339], 90: [340, 341, 342], 91: [343], 92: [344], 94: [345], 96: [346], 97: [347], 98: [348], 99: [349], 101: [350], 102: [351, 352], 103: [353], 104: [354], 105: [355, 356, 357], 106: [358, 359], 107: [360, 361], 108: [362, 363], 109: [364, 365], 110: [366], 111: [367], 112: [368], 113: [369], 114: [370, 371], 115: [372], 117: [373, 375, 376, 377, 378], 118: [379, 380, 381, 382], 119: [383], 120: [384], 121: [385, 386, 387, 388, 389], 122: [390], 123: [391], 124: [392], 126: [393], 127: [394], 128: [395], 130: [396, 397], 131: [398], 132: [399], 133: [400], 134: [401, 402], 135: [403, 404], 136: [405, 406], 137: [407], 138: [408, 409], 139: [410], 140: [411], 141: [412], 143: [413, 414, 415, 416, 417], 144: [418], 146: [419], 147: [420], 148: [421], 149: [422], 150: [423], 151: [424, 425, 426, 427], 152: [428, 429, 430], 153: [431], 154: [432], 155: [433], 156: [434], 157: [435], 158: [436], 159: [437], 160: [438], 161: [439], 162: [440], 163: [441, 442], 164: [443, 444], 165: [445], 167: [446, 447], 168: [448, 449, 450], 169: [451], 170: [452], 171: [453, 454], 173: [455, 456], 174: [457], 175: [458, 459], 176: [460, 461, 462], 177: [463], 178: [464, 465, 466], 179: [467], 180: [468], 181: [469], 182: [470, 472], 185: [473, 474], 188: [474, 476], 186: [475], 189: [477], 190: [478, 479, 480], 191: [481], 192: [482, 483], 193: [484], 194: [485, 486], 195: [487], 197: [488, 489], 198: [490, 491], 199: [492], 200: [493], 201: [494], 202: [495, 496, 497], 203: [498], 204: [499, 500, 501, 502], 205: [503, 504], 206: [505, 506, 507, 508], 208: [509, 510, 511], 209: [512], 210: [513], 211: [514, 515], 212: [516], 214: [518]}\n",
      "(8, 17)\n",
      "{0: [195, 196, 197, 198], 1: [199], 2: [200], 3: [201], 5: [202], 8: [203], 9: [204], 10: [205, 206], 12: [207], 14: [208], 15: [209], 16: [210], 17: [211], 18: [212], 20: [213], 21: [214], 23: [215], 24: [216], 25: [217], 26: [218, 219], 27: [220], 28: [221, 222], 29: [223, 224], 31: [225], 32: [226], 33: [227, 228], 34: [229, 230], 35: [231, 232], 36: [233, 234], 37: [235, 236, 237], 38: [238, 239, 240], 39: [241], 41: [242, 244], 42: [245], 43: [246, 247], 44: [248], 45: [249, 250], 46: [251], 47: [252, 253], 48: [254, 255, 256, 257], 49: [258, 259, 260], 50: [261], 52: [262, 264], 53: [265], 54: [266], 56: [267, 268], 57: [269], 58: [270], 59: [271], 61: [272], 62: [273], 63: [274], 64: [275, 276], 67: [277, 278], 68: [279], 69: [280], 70: [281], 71: [282], 72: [283], 74: [284, 285], 75: [286], 76: [287], 77: [288], 78: [289, 290], 79: [291], 80: [292], 81: [293, 294], 82: [295], 83: [296, 297], 84: [298], 85: [299, 300], 87: [301], 89: [302], 90: [303], 91: [304, 305], 92: [306, 307, 308], 93: [309], 94: [310], 95: [311, 312], 97: [313], 98: [314], 100: [315], 101: [316, 317], 102: [318], 103: [319, 320, 321], 104: [322, 323], 106: [324, 325, 326, 327], 107: [328, 329, 331, 332], 108: [333], 109: [334], 110: [335], 111: [336, 337], 112: [338], 113: [339, 340, 341], 114: [342], 115: [343], 116: [344], 117: [345, 346], 118: [347, 348], 119: [349, 350], 120: [351], 121: [352], 122: [353], 123: [354], 124: [355], 125: [356], 126: [357], 127: [358], 128: [358, 359], 129: [360], 130: [361], 132: [362, 363], 133: [364, 365], 134: [366, 367], 135: [368], 136: [369, 370, 371], 137: [372], 138: [373], 139: [374, 380, 384, 385], 140: [386], 141: [387], 142: [388, 389], 143: [390, 391, 392, 397, 398], 144: [399], 145: [400, 401], 146: [402], 147: [403], 148: [404, 405], 149: [406], 150: [407], 151: [408], 152: [409], 153: [410], 154: [411], 155: [412], 158: [413], 159: [414], 160: [415, 416, 417], 161: [418], 163: [419], 164: [420], 166: [421, 422], 167: [423], 168: [424], 169: [425], 170: [426], 171: [427], 173: [428], 174: [429, 430], 176: [431], 177: [432, 433], 178: [434], 179: [435], 180: [436], 181: [437], 182: [438, 439], 183: [440], 184: [441], 185: [442], 186: [443], 187: [444], 188: [445, 446, 447, 448], 189: [449, 450, 451], 190: [452], 191: [453], 192: [454], 193: [455, 456], 194: [457], 195: [458], 196: [459], 197: [460, 462], 198: [463], 199: [464, 467], 200: [468], 201: [469], 202: [470, 471], 203: [472, 473, 474, 475, 476, 477], 204: [478], 205: [479, 480], 206: [481], 207: [482], 208: [483, 484, 485], 209: [486], 211: [487], 212: [488], 213: [489], 214: [490]}\n",
      "(8, 18)\n",
      "{0: [166, 167], 1: [168], 2: [169], 3: [170], 4: [171, 172, 173], 5: [174], 6: [175], 7: [176, 177], 8: [178, 179], 9: [180], 10: [181, 182], 11: [183], 12: [184, 185], 13: [186, 187], 14: [188], 15: [189], 16: [190], 18: [191], 19: [192], 20: [193, 194], 21: [195, 196], 22: [197, 198, 199], 23: [200], 24: [201], 26: [202, 203], 27: [205], 28: [206, 207, 208, 209, 210, 211], 29: [212, 213], 30: [214, 215], 31: [216], 32: [217, 218], 33: [219], 35: [220, 221], 36: [222], 37: [223], 38: [224], 39: [225], 41: [226], 42: [227], 43: [228, 229], 45: [230], 46: [231], 47: [232, 233], 49: [234, 236, 237], 50: [238], 51: [239, 240, 241], 52: [242], 53: [243], 54: [244], 55: [245, 246, 247, 248, 251], 56: [252], 57: [253], 58: [254], 59: [255], 60: [256], 61: [257], 62: [258], 63: [259, 260, 261], 64: [262], 65: [263], 67: [264], 68: [265], 69: [266], 70: [267, 268, 269, 270, 271, 272], 71: [273], 72: [274], 73: [275], 74: [276, 277, 278, 279], 75: [280], 76: [281, 282], 77: [283], 78: [284, 285], 79: [286], 80: [287, 288, 289], 81: [290], 82: [291], 83: [292], 84: [293], 85: [294], 86: [295], 87: [296], 88: [297], 89: [298], 90: [299], 91: [300], 93: [301], 94: [302], 95: [303], 96: [304], 97: [305], 98: [306], 99: [307], 101: [308], 102: [309], 105: [310], 106: [311, 312], 107: [313, 314], 108: [315], 109: [316], 110: [317], 111: [318], 113: [320, 321, 322, 323], 114: [324], 115: [325], 116: [326, 327, 328, 329, 330, 331, 332], 117: [333], 118: [334, 335], 119: [336], 120: [337], 121: [338], 122: [339], 123: [340], 125: [341], 126: [342], 127: [343], 128: [344], 129: [345, 346], 131: [347], 132: [348], 134: [349], 135: [350], 136: [351], 137: [352], 138: [353], 139: [354], 140: [355, 356, 357, 358], 142: [359], 143: [360], 144: [361], 145: [362], 146: [363], 147: [364], 149: [365], 150: [366], 152: [367], 153: [368], 154: [369], 155: [370], 156: [371], 157: [372], 158: [373], 160: [374], 161: [375], 162: [376], 163: [377], 164: [378], 165: [379], 166: [380], 167: [381], 170: [383, 384], 171: [385], 172: [386], 173: [387, 388], 174: [389, 390], 175: [391], 176: [392], 177: [393], 178: [394, 395, 397], 180: [398], 181: [399], 182: [400, 401], 183: [402], 184: [403, 404], 185: [405], 186: [406], 187: [407], 188: [408], 189: [409, 410, 411], 190: [412, 413, 414], 191: [415, 416, 417], 192: [418], 193: [419, 420, 421, 422, 423, 424, 425, 426, 427], 196: [428, 429, 430, 431], 197: [432, 433], 198: [434, 435, 436, 437], 199: [438, 439], 200: [440], 201: [441], 202: [442], 203: [443, 444], 204: [445], 205: [446], 206: [447, 448], 207: [449], 208: [450], 209: [451], 210: [452, 453], 211: [454, 455], 212: [456], 213: [457], 214: [458, 459, 460, 461, 462], 215: [463], 218: [465], 219: [466, 467], 220: [468], 222: [469], 223: [470], 224: [471], 225: [472], 226: [473], 227: [474], 228: [476]}\n",
      "(8, 19)\n",
      "{0: [197], 1: [198, 199], 2: [200, 201, 202], 3: [203], 4: [204], 5: [205, 206, 207], 7: [208, 209], 8: [210], 10: [211, 212, 213, 214, 215, 216, 217], 11: [218], 12: [219], 13: [220, 222], 14: [223, 224, 225], 15: [226, 227, 230], 17: [229, 230], 18: [231, 232], 19: [233], 20: [234, 235], 21: [236, 237], 22: [238, 239, 240], 23: [241, 242, 243], 24: [244], 25: [245], 26: [246], 27: [247], 28: [248, 249], 29: [250, 251, 252], 30: [253], 31: [254], 32: [255, 256], 33: [257], 34: [258], 35: [259], 36: [260], 37: [261], 38: [262, 263, 264], 39: [265], 40: [266], 41: [267, 268], 42: [269], 43: [270], 44: [271], 46: [272], 48: [273], 49: [274], 50: [275], 51: [276], 52: [277, 278], 53: [279, 280], 54: [281], 55: [282], 56: [283], 57: [284], 58: [285, 286], 59: [287], 61: [288], 62: [289, 290, 291, 292, 293], 63: [294, 295], 64: [296, 297, 298], 65: [299], 67: [300], 68: [301], 69: [302, 303], 70: [304, 305], 71: [306], 72: [307, 308], 73: [309, 310], 74: [311], 75: [312], 76: [313, 314], 77: [315], 78: [316, 317, 318], 79: [319], 80: [320], 81: [321], 82: [322], 83: [323, 324, 325], 84: [326], 85: [327], 86: [328, 329], 87: [330, 331], 88: [332], 89: [333, 334], 90: [335], 91: [336], 92: [337], 93: [338, 339], 94: [340], 95: [341], 96: [342], 97: [343, 344], 98: [345, 346], 99: [347, 348], 101: [349], 102: [350], 103: [351, 352], 104: [353, 354], 105: [355], 106: [356], 107: [357, 358], 108: [359], 109: [360, 361], 110: [362], 111: [363], 112: [364], 113: [365], 114: [366], 115: [367], 116: [368], 117: [369, 370], 118: [371, 372], 119: [373, 374], 120: [375, 376, 377, 378], 121: [379, 380], 122: [381, 382], 123: [383], 124: [384], 126: [385, 386, 387, 388, 389, 390], 127: [391, 392, 393, 394], 128: [395], 129: [396], 130: [397, 398], 132: [399], 133: [400, 401, 402], 134: [403, 404, 405, 406], 135: [407, 408], 137: [409, 410, 411], 138: [412], 140: [413], 141: [414, 415], 143: [416], 144: [417, 418], 145: [419], 147: [420], 148: [421], 149: [422, 423], 150: [424], 151: [425], 152: [426], 153: [427], 154: [428, 429, 431], 155: [432], 156: [433], 157: [434], 158: [435, 436], 159: [437], 160: [438], 161: [439, 440], 162: [441, 442, 443], 163: [444, 445, 446, 447, 448, 449], 164: [450, 451, 452], 165: [453], 166: [454, 455], 167: [456, 457], 171: [458], 172: [459, 460, 461], 173: [462, 463], 174: [464, 465], 175: [466, 467], 176: [468, 469, 470, 471, 472], 177: [473], 178: [474], 179: [475], 180: [476], 181: [477], 182: [478], 184: [479], 185: [480], 186: [481], 187: [482], 188: [483, 484, 485], 189: [486, 487], 190: [488], 191: [489, 491], 192: [492], 194: [493], 195: [494, 495], 196: [496], 199: [498, 499], 200: [500], 201: [501, 502, 503], 202: [504, 505, 506], 203: [507]}\n",
      "(8, 20)\n",
      "{0: [166], 3: [167, 168, 169], 4: [170, 171], 5: [172], 6: [173], 7: [174], 8: [175], 9: [176, 177], 10: [178], 11: [179], 12: [180], 13: [181], 15: [182], 17: [184], 18: [185], 19: [186, 187, 188], 20: [189, 190, 191, 192], 21: [193], 23: [194, 195, 196, 197], 24: [198], 25: [199], 26: [200, 201, 202, 203], 27: [204], 29: [205], 30: [206, 207], 32: [208, 209, 210], 33: [211], 34: [212], 35: [213], 36: [214], 37: [215], 38: [216], 39: [217], 40: [218], 41: [219, 220], 42: [221], 43: [222], 44: [223], 45: [224], 46: [225], 47: [226, 228], 48: [229], 49: [230], 50: [231], 51: [232, 233], 52: [234, 235], 53: [236], 54: [237], 56: [238], 57: [239], 59: [240], 61: [241, 242], 64: [244, 245, 246], 65: [247], 67: [248, 249, 250, 251], 68: [252], 69: [253, 254], 73: [256, 257], 74: [258, 259, 260], 75: [261], 76: [262, 263], 78: [264, 265], 79: [266], 80: [267, 268, 269], 81: [270, 271], 82: [272, 273], 83: [274], 84: [275, 276], 85: [277], 86: [278, 279], 87: [280, 281, 282], 90: [283, 284, 285], 92: [286, 287, 288, 289, 290], 93: [291], 94: [292], 95: [293], 96: [294], 97: [295], 98: [296], 99: [297], 100: [298], 101: [299], 102: [300], 103: [301, 302], 104: [303, 304], 105: [305, 306], 106: [307, 308], 107: [309], 108: [310, 311], 109: [312], 110: [313], 111: [314], 112: [315, 316], 113: [317, 318], 116: [320], 117: [321], 118: [322, 323], 119: [324, 325], 120: [326], 121: [327, 328], 122: [329], 124: [330], 125: [331], 126: [332, 333, 334], 127: [335, 336], 128: [337], 129: [338, 339, 340], 130: [341], 131: [342], 132: [343, 345], 133: [346], 134: [347], 135: [348], 136: [349, 350], 137: [351], 138: [352], 139: [353], 140: [354], 141: [355], 142: [356], 143: [357], 144: [358, 360], 145: [361], 146: [362], 147: [363], 148: [364, 365], 149: [366], 150: [367, 368, 369], 151: [370], 152: [371], 153: [372], 154: [373], 155: [374, 375], 156: [376, 377, 378], 157: [379, 380], 158: [381], 159: [382, 383], 160: [384], 161: [385, 386], 162: [387], 163: [388, 389], 165: [390, 391], 166: [392, 393, 394], 167: [395, 396, 397], 168: [398, 399], 169: [400], 170: [401], 171: [402], 172: [403], 173: [404, 405], 174: [406], 175: [407], 176: [408], 177: [409], 178: [410], 179: [411], 180: [412], 181: [413], 182: [414], 183: [415], 184: [416, 418], 185: [419], 186: [420], 187: [421, 422], 188: [423], 189: [424], 190: [425], 191: [426], 192: [427, 428, 429, 430], 193: [431], 194: [432], 195: [433], 196: [434, 435, 436], 197: [437], 198: [438], 199: [439], 200: [440], 201: [441], 202: [442, 443, 444, 445], 203: [446, 447], 205: [448, 450], 206: [451, 452], 207: [453], 208: [454, 455], 209: [456], 210: [457, 458], 211: [459, 460], 212: [461], 213: [462], 214: [463, 464], 215: [465, 466], 216: [467], 217: [468], 218: [469], 219: [470], 220: [471, 472], 221: [473], 223: [474], 224: [475], 225: [476], 226: [477, 478], 227: [479], 228: [480], 229: [481, 482], 230: [483, 484], 231: [485]}\n",
      "(8, 21)\n",
      "{0: [176, 177], 3: [179, 180], 4: [181, 182, 186, 187], 5: [189], 6: [190, 191, 192], 7: [194], 8: [195, 196], 13: [198], 15: [199], 16: [200], 17: [201], 18: [202, 203], 20: [204], 22: [205], 23: [206], 24: [207], 25: [209], 26: [210, 211], 27: [212], 28: [213, 214, 215], 29: [216], 30: [217], 31: [218], 32: [219, 220], 33: [221, 222], 34: [223], 35: [224, 225], 36: [226], 37: [227], 38: [228], 39: [229], 40: [230], 41: [231, 232], 42: [233], 43: [234, 235, 236, 237], 44: [238], 45: [239], 46: [240], 47: [241], 49: [242], 50: [243], 51: [244, 245], 52: [246], 53: [247, 248, 249], 54: [250], 55: [251], 57: [253], 58: [254, 255], 59: [256, 257], 60: [258], 61: [259, 260], 62: [261], 63: [262, 263, 264, 265], 64: [266], 65: [267], 66: [268], 67: [269], 68: [270], 69: [271], 71: [272, 273], 72: [274], 73: [275, 276], 74: [277, 278], 75: [279], 76: [280], 77: [281], 78: [282], 79: [283, 284, 285], 80: [286], 81: [287, 288], 82: [289], 83: [290], 84: [291], 85: [292], 86: [293, 294], 87: [295], 88: [296], 89: [297, 298, 299], 90: [300], 91: [301], 92: [302], 93: [303], 95: [304, 305], 96: [306, 307], 97: [308, 309], 98: [310, 311], 99: [312, 313, 314, 315], 100: [316], 101: [317], 102: [318, 319], 103: [320], 104: [321], 105: [322], 106: [323, 324], 107: [325], 108: [326], 109: [327], 110: [328], 111: [329], 112: [330], 113: [331], 114: [332], 115: [333, 334], 116: [335], 117: [336, 337], 118: [338], 119: [339, 340], 120: [341, 342], 121: [343], 122: [344], 123: [345], 124: [346, 347], 125: [348], 126: [349], 128: [350], 129: [351], 131: [352], 132: [353], 133: [354, 355, 356], 134: [358, 359], 135: [360, 361], 138: [363, 364], 139: [365], 140: [366], 141: [367], 142: [368], 143: [369, 370], 144: [371], 145: [372], 148: [374], 149: [375, 376, 377], 150: [378], 151: [379], 153: [380, 381, 382, 383, 384, 385, 386, 387], 154: [388, 389], 155: [390, 391], 156: [392], 157: [393], 158: [394, 395], 159: [396, 397], 160: [398, 399], 161: [400], 162: [401], 163: [402], 164: [403], 165: [404], 168: [406], 169: [407], 170: [408], 171: [409, 410], 172: [411], 173: [412], 175: [413], 176: [414], 178: [415], 179: [416, 417], 181: [418, 419], 182: [420], 183: [421], 184: [422, 423], 185: [424], 186: [425, 426], 187: [427, 428], 188: [429], 189: [430], 190: [431], 191: [432], 192: [433], 193: [434, 435], 194: [436], 195: [437], 196: [438, 439], 197: [440], 198: [441], 199: [442], 200: [443, 444], 201: [445], 202: [446, 447], 203: [448, 449], 204: [450, 451, 452, 453, 454, 455], 205: [456, 457], 206: [458, 459], 207: [460], 208: [461, 462], 209: [463, 466], 210: [467], 211: [468], 212: [469], 213: [470, 471], 214: [472, 473], 215: [474], 216: [475], 218: [476], 220: [477], 222: [478], 224: [479, 480, 481]}\n",
      "(8, 22)\n",
      "{0: [200], 2: [202], 3: [203], 4: [204], 5: [205], 6: [206], 7: [207], 8: [208], 9: [209], 10: [210], 11: [211, 212], 12: [213], 13: [214, 215], 14: [216, 217], 15: [218], 16: [219], 17: [220], 18: [221, 222], 19: [223], 20: [224], 21: [225], 22: [226], 23: [227, 228], 24: [229], 25: [230, 231], 26: [232], 27: [233], 28: [234, 235], 29: [236], 30: [237, 238, 239], 32: [240], 33: [241], 35: [242, 243], 37: [244], 38: [245], 39: [246], 40: [247], 41: [248], 42: [249], 44: [250], 45: [251, 252, 253], 46: [254], 48: [256], 49: [257], 51: [258, 259, 260, 261, 262, 263, 264], 53: [265], 54: [266], 55: [267, 268, 269, 280], 59: [278, 279, 280, 281], 60: [282], 61: [283], 62: [284], 63: [285], 64: [286], 65: [287, 288], 66: [289], 67: [290, 291, 292], 68: [293, 294, 295], 69: [296, 297], 70: [298, 300, 301], 71: [302], 72: [303], 73: [304], 76: [305, 306], 77: [307], 79: [309, 310], 80: [311], 81: [312, 313, 314, 315], 83: [316], 84: [317], 85: [318, 319], 87: [320, 321], 88: [322], 90: [323], 91: [324, 325], 92: [326], 93: [327], 95: [328], 96: [329], 97: [330], 98: [331], 99: [332, 333], 100: [334], 101: [335], 102: [336], 103: [337, 338], 104: [339], 105: [340], 109: [341, 342], 110: [343, 344], 111: [345], 112: [346], 113: [347], 114: [348, 349], 116: [350, 351], 117: [352, 353], 119: [354, 355, 356, 357], 120: [358, 359], 121: [360, 361], 122: [362, 363], 123: [364, 365, 366, 367], 124: [368], 125: [369, 370], 126: [371], 127: [372], 128: [373, 374], 129: [375, 376], 130: [377], 131: [378], 132: [379, 380], 133: [381], 136: [383], 137: [384, 385], 140: [387], 141: [388, 389, 390], 142: [391], 143: [392, 393, 394], 144: [395], 145: [396], 146: [397, 398], 147: [399], 149: [400, 401, 402], 150: [403, 404, 405, 406, 407], 151: [408], 152: [409, 410], 157: [411, 412], 158: [413], 160: [414], 161: [415], 162: [416], 163: [417, 418, 419, 420, 422], 164: [423], 165: [424], 166: [425], 167: [426, 427, 428, 429], 169: [430], 168: [431], 170: [432], 172: [433], 173: [434], 175: [436], 176: [437], 177: [438, 439], 178: [440, 441], 179: [442], 180: [443], 181: [444], 182: [445, 446, 447], 183: [448], 184: [449, 450, 451], 185: [452, 453, 455, 456, 457, 459, 460, 462, 469], 186: [470], 187: [471, 473, 474], 188: [475, 476, 477], 189: [478, 480], 190: [481, 482], 191: [483, 484], 192: [485], 193: [486], 194: [487], 195: [488], 196: [489], 197: [490, 491], 198: [492, 493, 494], 200: [495], 201: [496], 202: [497], 203: [498]}\n",
      "(8, 23)\n",
      "{0: [194], 1: [195], 2: [196], 3: [197, 198, 199], 4: [200], 5: [201, 202], 6: [203], 7: [204, 205], 8: [206], 9: [207], 10: [208, 209], 11: [210], 12: [211], 13: [212], 14: [213], 15: [214, 215], 16: [217], 17: [218], 18: [219], 19: [220, 221], 20: [222], 21: [223], 22: [224], 23: [225, 226], 24: [227], 25: [228, 229], 26: [230, 231], 27: [232], 28: [233], 30: [234], 31: [235, 236, 237], 33: [238], 34: [239, 241], 35: [242, 243], 36: [244], 37: [245], 38: [246], 39: [247, 248], 41: [249], 44: [251], 45: [252], 46: [253, 254], 48: [255, 256], 49: [257], 50: [258], 51: [259], 52: [260], 53: [261], 54: [262, 263], 55: [264, 265], 56: [266], 57: [267], 60: [268, 269, 270], 62: [272], 63: [273, 274], 65: [275, 276], 66: [277], 67: [278, 279], 68: [280, 281, 282], 69: [283, 284], 70: [285], 71: [286], 72: [287, 288], 73: [289, 290], 74: [291, 292, 293, 294], 75: [295, 296], 76: [297], 77: [298], 78: [299], 80: [300, 301], 81: [302], 82: [303, 304, 305], 83: [306], 84: [307], 85: [308, 309], 86: [310], 87: [311], 88: [312, 313], 89: [314], 90: [315], 91: [316, 317], 92: [318], 93: [319], 94: [320, 321], 95: [322], 96: [323, 324], 97: [325, 326], 99: [327], 100: [328], 101: [329], 102: [330], 103: [331], 104: [332], 105: [333], 106: [334, 335], 107: [336, 337], 108: [338, 339, 340], 109: [341], 110: [342], 111: [343], 112: [344], 113: [345, 346], 114: [347], 115: [348, 349, 350], 116: [351], 117: [352], 118: [353, 354, 355], 119: [356, 357, 358], 120: [359], 121: [360, 361], 122: [362, 363], 123: [364, 365], 124: [366], 125: [367, 368, 369], 126: [370, 371, 372], 127: [373], 128: [374, 375], 129: [376], 131: [377, 378], 132: [379, 380], 133: [381, 382], 135: [383, 384, 385], 136: [386, 387], 137: [388, 389], 138: [390], 139: [391], 140: [392], 141: [393], 142: [394], 143: [395], 144: [396, 397], 145: [398], 146: [399], 147: [400], 148: [401, 402], 149: [403], 150: [404, 405, 406], 151: [407], 152: [408, 409], 153: [410], 154: [411, 412], 155: [413], 156: [414, 415], 157: [416], 158: [417], 159: [418], 160: [419], 161: [420], 162: [421, 422, 423], 163: [424], 165: [425], 166: [426], 168: [427], 169: [428], 170: [429, 430, 431, 432], 172: [433], 173: [434], 174: [435], 175: [436, 437], 178: [438, 439], 179: [440, 441, 442, 443], 180: [444], 181: [445, 446], 182: [447], 183: [448], 184: [449], 186: [450], 187: [451], 188: [452], 189: [453], 190: [454, 455], 191: [456], 192: [457], 193: [458], 196: [459, 460, 461, 462, 463, 464, 465, 470]}\n",
      "(8, 24)\n",
      "{0: [192], 1: [193], 2: [194], 3: [195], 4: [196], 5: [197, 198, 199], 7: [200], 8: [201, 202], 9: [203, 204], 10: [205, 206], 11: [207, 208], 12: [209], 13: [210], 14: [211], 15: [212], 16: [213, 214], 17: [215], 18: [216], 19: [217], 20: [218, 219, 220], 21: [221], 22: [222, 223], 24: [224], 25: [225], 26: [226], 27: [227], 29: [228, 229], 30: [230], 32: [232], 34: [234], 35: [235], 36: [236], 38: [237, 238], 39: [239], 40: [240], 41: [241, 242, 244], 42: [245], 43: [246, 247], 44: [248], 45: [249], 46: [250, 251], 47: [252], 48: [253, 254], 49: [255, 256], 50: [257], 51: [258], 52: [259], 53: [260], 54: [261], 55: [262], 56: [263], 57: [264, 265, 266], 58: [267], 60: [268], 61: [269, 270, 271], 62: [272], 63: [273, 274], 64: [275, 276, 277], 65: [278, 279, 280], 66: [281], 67: [282], 68: [283], 69: [284], 70: [285], 71: [286, 287, 288], 72: [289, 290, 291], 73: [292, 293], 74: [294], 75: [295], 77: [296], 78: [297], 79: [298], 80: [299, 300, 301], 81: [302, 303], 83: [304, 305], 84: [306, 307], 85: [308], 87: [309], 88: [310], 89: [311], 91: [312], 92: [313], 93: [314], 97: [316], 98: [317], 101: [318], 102: [319], 103: [320], 104: [321], 105: [322], 106: [323], 107: [324, 325], 108: [326], 109: [327, 329], 110: [328, 330, 331], 111: [332], 112: [333], 113: [334], 114: [335], 115: [336], 116: [337], 117: [338, 339], 118: [340], 119: [341], 121: [342], 122: [343], 123: [344], 124: [345], 125: [346, 347, 348, 349], 126: [350], 127: [351], 128: [352], 129: [353], 130: [354], 131: [355], 132: [356], 133: [357], 134: [358], 135: [359, 360], 138: [362], 139: [363], 141: [364], 142: [365, 366], 143: [367], 144: [368], 145: [369], 146: [370, 371], 147: [372, 373], 148: [374], 149: [375], 150: [376, 377], 151: [378], 152: [379, 380], 153: [381, 382, 383, 384], 154: [385, 386], 155: [387], 156: [388], 157: [389], 158: [390, 391], 159: [392], 160: [393, 394], 161: [395], 162: [396], 163: [397], 164: [398, 399], 165: [400, 401], 166: [402], 168: [403], 169: [404, 405, 406], 172: [408], 173: [409], 175: [410], 176: [411, 412, 413, 414], 177: [415], 178: [416, 417], 180: [418], 182: [419], 184: [420], 185: [421, 422], 186: [423], 187: [424], 188: [425], 189: [426], 190: [427], 191: [428], 192: [429], 193: [430, 431, 432], 194: [433, 434, 435, 436], 195: [437], 197: [439], 198: [440], 199: [441], 200: [442], 201: [443], 202: [444], 203: [445], 204: [446], 205: [447, 448, 449, 450], 206: [451], 207: [452], 208: [453], 209: [454], 211: [455], 212: [456], 213: [457], 215: [458], 217: [459, 460], 219: [461, 462, 463, 464], 221: [465], 223: [466], 224: [467], 226: [468], 227: [469, 470], 228: [471], 229: [472], 230: [473], 231: [474, 475], 232: [476], 233: [477, 478], 236: [479, 480, 481], 239: [482, 483], 240: [484], 241: [485], 242: [486], 244: [487], 245: [488], 246: [489], 247: [490], 248: [491, 492, 494], 249: [495], 250: [496, 497], 254: [499], 255: [500, 501]}\n",
      "(9, 1)\n",
      "{0: [188], 1: [189, 190], 2: [191], 3: [192, 193], 4: [194, 195], 5: [196], 6: [197, 198, 199], 7: [200, 201], 8: [202], 10: [203], 12: [204, 205, 206, 207], 13: [208], 14: [209], 17: [210], 19: [211], 21: [212, 213], 22: [214, 215], 23: [216], 24: [217], 26: [218], 27: [219], 28: [220, 221], 29: [222], 30: [223], 31: [224], 32: [225], 33: [226], 34: [227], 35: [228, 229, 230, 231], 36: [232, 233], 38: [234, 235, 236], 39: [237, 238], 40: [239], 41: [240, 241, 242, 243], 44: [253], 45: [254], 46: [255, 256], 47: [257], 48: [258, 259], 50: [260], 51: [261], 52: [262, 263], 53: [264, 265], 54: [266], 55: [267], 56: [268, 269], 57: [270, 271], 58: [272, 273, 274], 59: [275], 60: [276, 277], 61: [278, 279], 63: [280], 64: [281], 65: [282, 283], 66: [284], 69: [285], 70: [286], 71: [287, 288, 289, 290], 72: [291], 73: [292], 74: [293], 75: [294], 76: [295], 77: [296, 297], 78: [298, 300], 80: [301, 302], 81: [303, 304], 82: [305], 83: [306, 307], 84: [308], 85: [309, 310, 311], 86: [312], 88: [313], 89: [314], 90: [315, 316], 91: [317], 92: [318, 319], 93: [320], 94: [321], 95: [323], 96: [324], 97: [325], 98: [326], 100: [327], 101: [328], 105: [329], 106: [330], 107: [331], 108: [332], 109: [333], 110: [334], 111: [335], 112: [336], 113: [337], 114: [338, 339], 115: [340, 341, 342], 116: [343], 117: [344], 119: [345], 120: [346], 122: [347, 348], 124: [349, 350], 125: [351], 126: [352, 353], 127: [354, 355, 356, 357], 130: [359, 360, 361, 362, 363, 364, 365], 131: [366], 132: [367], 134: [368], 135: [369], 136: [370], 137: [371, 372], 138: [373], 139: [374], 140: [375, 376, 377], 141: [378], 142: [379], 143: [380], 144: [383], 145: [384], 146: [385], 147: [386, 387], 148: [388], 149: [389], 150: [390, 391], 151: [392], 152: [393], 153: [394], 154: [395], 156: [396], 157: [397], 158: [398, 399], 159: [400, 401], 160: [402], 161: [403, 404, 405, 406], 162: [407], 163: [408], 164: [409], 165: [410, 411], 166: [412], 167: [413, 414], 168: [415], 169: [416, 417], 170: [418, 419], 171: [420], 172: [421], 173: [422, 423, 424], 175: [425, 426], 176: [427, 428], 177: [429], 178: [430], 179: [431], 180: [432, 433], 181: [434, 435], 182: [436, 437, 438, 439], 183: [440], 184: [441], 185: [442], 186: [443], 187: [444, 445], 188: [446], 189: [447], 190: [448], 192: [449], 193: [450], 195: [451], 197: [452], 198: [453, 455], 199: [456], 201: [457, 458], 202: [459], 203: [460], 204: [461, 462], 205: [463], 206: [464], 207: [465], 209: [466], 210: [467], 211: [468, 469, 470], 212: [471], 213: [472, 473], 214: [474], 215: [475, 476], 216: [477], 217: [478], 219: [479, 480], 221: [482, 483], 222: [484], 223: [485, 486], 224: [487], 225: [488, 489, 490], 226: [491, 492], 227: [493, 494, 495], 228: [496, 497], 229: [497, 498, 499], 230: [500], 231: [501], 232: [502], 233: [503, 504], 235: [505], 236: [506, 507], 237: [508], 238: [509], 239: [510], 240: [511, 512], 242: [513], 243: [514], 244: [515, 516], 245: [517], 246: [518, 519, 520], 247: [521], 248: [522, 523, 524, 525, 526, 527], 249: [528], 250: [529, 530], 251: [531], 252: [532]}\n",
      "(9, 3)\n",
      "{0: [198], 1: [199], 2: [200], 4: [201, 202], 6: [203, 204], 7: [205, 206], 9: [207], 10: [208, 209, 210, 211], 11: [212], 13: [213], 14: [214], 15: [215], 16: [216], 17: [217], 18: [218, 219], 19: [220], 20: [221], 21: [227, 228], 22: [229], 23: [230], 24: [231, 232], 26: [233], 27: [234, 235], 28: [236], 29: [237], 30: [238], 31: [239], 32: [240, 241], 34: [242], 35: [243], 36: [244], 37: [245], 38: [246, 247, 248], 39: [249], 40: [250], 41: [251, 252, 253], 42: [254, 255], 43: [256, 257], 44: [258, 259], 47: [260, 261], 48: [262, 263], 49: [264], 50: [265, 266], 51: [267], 52: [268, 269], 53: [270], 54: [271, 272], 55: [273], 56: [274, 275], 57: [276], 58: [277, 278, 279], 59: [280], 60: [281], 61: [282], 62: [283, 284], 63: [285], 64: [286, 287], 65: [288], 66: [289, 290, 291], 67: [292], 68: [293, 294, 295], 69: [297], 71: [298], 72: [299], 73: [300], 74: [301], 75: [302], 77: [303], 78: [304], 80: [306], 81: [307], 82: [308], 83: [309], 84: [310], 85: [311], 86: [312], 87: [313, 314], 88: [315], 89: [316, 317], 90: [318], 91: [319, 320], 92: [321, 322], 93: [323], 94: [324], 95: [325, 327], 96: [328], 97: [329, 330], 98: [331, 332], 99: [333, 334], 101: [335], 102: [336, 337, 338, 339], 103: [340], 106: [341], 107: [342, 343], 108: [344, 345, 346], 109: [347], 110: [348, 349], 112: [350], 115: [351, 352], 116: [353], 117: [354, 355], 118: [356], 119: [357], 120: [358, 359, 360], 121: [361], 122: [362], 123: [363, 364], 124: [365], 125: [366], 126: [367], 127: [368, 369], 128: [370, 371], 129: [372], 130: [373, 374, 375], 131: [376], 132: [377, 378], 133: [379], 134: [380], 135: [381], 136: [382, 383], 137: [384, 386], 138: [387, 388], 139: [389, 390], 140: [391, 392], 141: [393], 142: [394, 395], 143: [396], 144: [397, 398], 145: [399], 146: [400, 401], 147: [402, 403], 148: [404, 405, 406], 149: [407, 408, 409], 151: [410, 411, 412, 413], 152: [414], 153: [415], 154: [416], 155: [417, 418], 156: [419], 157: [420], 158: [421, 422, 423], 159: [424], 160: [425], 162: [426, 427, 428, 429], 163: [430], 164: [431], 165: [432], 166: [433, 434], 168: [435], 169: [436], 170: [437, 438, 439], 171: [440], 173: [441, 442], 174: [443], 175: [444], 176: [445], 177: [446, 447, 448], 178: [449], 179: [450], 180: [451], 181: [452, 453, 454, 455], 182: [456], 183: [457], 185: [458, 459], 186: [460], 187: [461], 188: [462], 189: [463, 464], 190: [465, 466, 467], 191: [468], 193: [469], 194: [470, 471, 472, 473], 195: [474, 475, 476, 477, 478], 196: [479], 197: [480], 198: [481], 199: [482], 200: [483, 484], 201: [485], 202: [486], 203: [487], 204: [488, 489], 205: [490, 491, 492], 207: [494], 208: [495, 496, 497, 498, 499, 500, 501, 502], 210: [503], 211: [504, 505], 212: [506], 213: [507], 214: [508], 215: [509], 216: [510], 217: [511], 219: [512], 220: [513, 514], 221: [515, 516], 222: [517], 224: [518], 225: [519], 226: [520], 227: [521, 522], 228: [523], 229: [524, 525], 230: [526, 527], 231: [528], 234: [529, 530], 235: [531], 236: [532], 237: [533]}\n",
      "(9, 4)\n",
      "{0: [181], 1: [182], 2: [183, 184], 3: [185, 186], 4: [187, 188, 189], 5: [190, 191], 6: [192], 7: [193], 8: [194, 195], 9: [196], 10: [197, 198], 11: [199], 12: [200, 201, 202], 13: [205], 15: [206], 16: [207], 17: [208, 210], 18: [211], 19: [212], 21: [213, 214, 215], 22: [216, 217, 218], 23: [219, 220, 221, 222], 25: [223], 26: [224], 27: [225, 226], 28: [227], 29: [228], 31: [229], 32: [230], 33: [231, 232], 34: [233], 35: [234], 38: [236], 40: [237, 238], 41: [239], 42: [240], 43: [241], 44: [242], 45: [243], 47: [244, 245], 48: [246, 247, 248], 49: [249], 50: [250], 52: [251, 252], 53: [253], 54: [254], 55: [255], 57: [256], 58: [257, 258, 261], 59: [262], 60: [263, 264], 61: [265], 62: [266, 267, 269], 64: [270], 65: [271], 66: [272], 67: [273, 274], 68: [275], 69: [276, 277, 278, 279], 70: [280, 281], 71: [282, 283, 284, 285, 287, 288], 72: [289, 290, 291], 73: [292], 74: [293], 75: [294], 76: [295, 296, 297, 298], 77: [299], 78: [300], 80: [301], 81: [302, 303], 83: [304, 305], 84: [306], 85: [307], 86: [308], 87: [309, 310], 88: [311, 312, 313], 89: [314], 90: [315, 316], 91: [317], 92: [318, 319, 320, 321], 93: [322, 323], 94: [324, 325, 326], 95: [327], 96: [328], 97: [329], 98: [330], 99: [331], 100: [332, 333], 101: [334, 335, 336, 337, 338, 339, 340, 341, 342, 343, 344], 102: [345], 103: [346], 104: [347], 105: [348, 349], 106: [350], 107: [351], 108: [352, 354], 109: [355], 110: [356], 111: [357, 358], 112: [359], 113: [360, 361], 114: [362], 115: [363, 364], 116: [365], 117: [366], 118: [367, 368], 119: [369], 120: [370], 121: [371, 372], 122: [373], 123: [374], 124: [375, 376], 125: [377], 126: [378, 379], 127: [380, 381, 382], 128: [383, 384], 129: [385], 130: [386, 387], 131: [388], 132: [389], 133: [390], 134: [391], 135: [392, 393, 394], 137: [395], 138: [396], 139: [397, 398], 140: [399, 400], 141: [401, 402], 142: [403], 143: [404], 144: [405, 406], 145: [407, 408, 409], 146: [410, 411], 147: [412, 413], 148: [414, 415, 416], 149: [417, 418], 150: [419, 420], 151: [421], 152: [422], 153: [423, 424], 154: [425, 426, 427], 155: [428, 429, 430], 156: [431, 432], 157: [433, 434], 158: [435], 159: [436], 160: [437, 438], 161: [439, 440], 162: [441], 163: [442], 164: [443], 165: [444], 167: [445], 168: [446, 447], 169: [448], 170: [449, 450, 451, 452, 453], 171: [454, 455], 172: [456], 174: [457], 175: [458, 459, 460], 176: [461, 462, 463], 178: [464, 465, 466, 467, 468], 179: [469], 181: [474], 182: [475], 183: [477, 478], 184: [479]}\n",
      "(9, 7)\n",
      "{0: [188], 1: [189], 2: [190], 3: [191, 192, 193], 4: [194], 5: [195], 6: [196, 197, 198, 199], 8: [200], 9: [201, 202], 10: [203, 204], 11: [205], 12: [206, 207], 13: [210], 14: [211], 15: [212], 16: [213, 214, 215], 17: [216], 18: [217], 19: [218, 219], 20: [220, 221], 21: [222, 223, 224, 225, 226], 23: [227], 25: [228, 229, 230, 232, 233, 234], 26: [235], 27: [236], 29: [237], 30: [238], 31: [239, 240], 32: [241], 34: [243], 35: [244], 37: [245], 38: [246, 247], 39: [248], 40: [249], 41: [250], 42: [251], 43: [252], 44: [253, 254, 255], 45: [256], 46: [257, 258], 47: [259, 260], 48: [261], 49: [262], 50: [263], 51: [264], 52: [265], 53: [266], 54: [267, 268, 269, 270, 271], 55: [272], 56: [273, 274, 275, 276, 277, 278, 279, 280, 281], 57: [282, 283], 58: [284], 59: [285], 60: [286], 61: [287, 288, 289], 62: [290, 291], 63: [292], 64: [293], 65: [294], 66: [295], 67: [296], 68: [297], 69: [298], 70: [299], 71: [300], 72: [301], 73: [302], 74: [303, 304], 76: [305], 78: [306, 307], 79: [308], 80: [309], 81: [310], 82: [311], 83: [312], 84: [313, 314], 85: [315, 316], 86: [317, 318], 87: [319, 320], 88: [321], 89: [322, 323], 90: [324], 91: [325, 326, 327], 92: [328, 329], 93: [330], 95: [331, 332], 96: [333], 97: [334, 335], 98: [336], 99: [337], 100: [338], 101: [339, 340], 103: [341], 104: [342, 343], 105: [344], 106: [345, 346], 107: [347], 108: [348], 109: [349], 110: [350, 351, 353], 111: [352], 112: [354, 355, 357, 358, 359, 360], 113: [361], 114: [362], 115: [363], 116: [364], 117: [365, 366, 367, 368], 119: [369, 370], 120: [371], 121: [372], 124: [374], 125: [375], 128: [376, 377], 130: [378], 131: [379, 380, 381, 383, 384], 132: [385], 133: [386], 134: [387], 135: [388], 136: [389, 390, 391, 392], 137: [393], 139: [394], 140: [395, 396], 141: [397], 142: [398, 399], 143: [400, 401], 144: [402], 145: [403], 146: [404, 405, 406, 407], 148: [408, 409, 410], 149: [411], 150: [412], 151: [413], 152: [414], 153: [415, 416], 156: [417], 157: [418], 159: [419], 162: [421, 422, 423], 163: [424], 165: [425], 166: [426], 167: [427, 428, 429], 169: [430, 431, 432], 170: [433], 171: [434], 172: [435], 173: [436], 174: [437], 175: [438], 176: [439, 440, 441], 177: [442, 443, 444], 178: [445, 446, 447], 179: [448, 449], 180: [450], 181: [451, 452], 182: [453, 454, 455, 456], 184: [457, 458, 459], 185: [460], 186: [461, 462], 187: [463], 188: [464], 189: [465], 190: [466], 191: [467, 468], 192: [469, 471], 193: [472, 473, 474, 475, 476], 194: [477, 478], 197: [479]}\n",
      "(9, 8)\n",
      "{0: [200], 1: [201, 202], 2: [203], 3: [204, 205, 206], 4: [207], 5: [208], 6: [209], 7: [210, 211], 8: [212], 9: [213], 10: [214, 215], 11: [216], 12: [217], 13: [218], 14: [219], 15: [220], 16: [221, 222], 17: [223, 224], 18: [226], 20: [227], 21: [228, 229], 22: [230, 231], 23: [232, 233], 24: [234, 235], 25: [236, 237], 26: [238], 28: [239], 29: [240], 30: [241, 242], 31: [243], 32: [244, 245], 33: [246], 36: [248], 37: [249], 38: [250], 39: [251, 252], 41: [254], 42: [255], 43: [256, 257], 44: [258], 45: [259], 46: [260], 47: [261, 262], 48: [263], 49: [264], 50: [265], 51: [266], 52: [267], 53: [268], 54: [269], 55: [270], 56: [271], 57: [272], 58: [273], 59: [274], 60: [275], 61: [276], 62: [277, 278], 63: [279], 64: [280, 281], 65: [282], 66: [283], 67: [284], 68: [285, 286], 69: [287], 70: [288], 71: [289], 72: [290, 291, 293], 73: [294], 74: [295], 75: [296], 76: [297], 77: [298], 78: [299], 79: [300], 80: [301], 81: [302], 82: [303, 304], 83: [305], 84: [306], 85: [307], 87: [308, 309], 88: [310], 90: [311], 91: [312], 92: [313], 93: [314], 94: [315], 95: [316, 317], 96: [318], 97: [319], 98: [320, 321, 322], 99: [322, 323], 100: [324], 101: [325, 326, 327], 102: [328], 103: [329], 104: [330], 105: [331], 106: [332], 107: [333, 334, 335], 108: [336], 109: [337, 338], 110: [339], 111: [340], 113: [341], 114: [342, 343], 115: [344], 117: [345, 346, 347], 118: [348], 120: [350], 121: [351], 122: [352, 353], 123: [354], 124: [355, 356], 126: [357], 127: [359, 360], 128: [361, 362, 363], 129: [364], 130: [365], 131: [366, 367, 368], 132: [369], 133: [370, 371], 134: [372, 373], 135: [374], 136: [375], 137: [376], 138: [377], 139: [378], 140: [379, 380], 141: [381], 142: [382, 383, 384], 143: [385, 386, 387], 144: [388, 389], 145: [390], 146: [391], 147: [392], 148: [393, 396, 397], 149: [398, 399], 151: [400], 152: [402], 153: [403, 404], 154: [405], 155: [406, 407], 156: [408, 409, 410], 157: [411], 158: [412], 159: [413], 160: [414], 161: [415, 416, 417], 162: [418, 419], 163: [420, 421, 422], 165: [423], 166: [424], 168: [426], 169: [427, 428], 172: [430], 174: [431], 175: [432], 178: [434, 435], 180: [436, 437, 438], 181: [439], 182: [440], 183: [441, 442], 184: [443], 185: [444], 186: [445, 446], 187: [447], 188: [448], 190: [449, 450, 451], 192: [452], 194: [453], 195: [454], 196: [455, 456], 198: [457], 199: [458, 459], 200: [460, 461], 201: [462], 202: [463, 464, 465, 466], 203: [467], 204: [468], 206: [469], 208: [470, 471, 472, 473, 474], 209: [475], 210: [476], 211: [477], 212: [478, 479], 213: [480, 481], 214: [482], 215: [483, 484, 485], 216: [486], 217: [487], 218: [488, 489], 219: [490, 491], 222: [492, 493], 224: [494], 225: [495], 226: [496]}\n",
      "(9, 9)\n",
      "{0: [198], 1: [199], 2: [200], 3: [201], 4: [202, 203], 5: [204], 6: [205], 7: [206], 8: [207], 9: [208, 209, 210, 211, 212, 213, 214, 215], 10: [216], 11: [217], 12: [218], 13: [219], 14: [220], 16: [221], 17: [222], 18: [223], 19: [224], 20: [225], 21: [228], 22: [229], 23: [230], 24: [231, 232], 25: [233], 26: [234, 235], 27: [236, 237], 28: [238], 29: [239, 240, 241], 30: [242, 243], 31: [244], 32: [245, 246], 33: [247], 34: [248], 35: [249], 36: [250], 37: [251], 38: [252], 39: [253], 40: [254], 41: [255], 42: [256], 43: [257], 44: [258, 259], 45: [260], 46: [261], 47: [262], 48: [263, 264], 49: [265], 50: [266], 53: [267, 268], 54: [269], 55: [270], 56: [271, 272, 273], 57: [274], 58: [275], 59: [276], 60: [277], 62: [278, 279], 64: [280], 67: [282], 68: [283], 69: [284, 285], 70: [286], 71: [287], 72: [288, 289], 73: [290, 291], 75: [292], 76: [293], 77: [294], 78: [295, 296, 297], 80: [298], 81: [299], 82: [300], 83: [301], 84: [302, 303], 85: [304, 305, 306], 86: [307], 88: [308, 309, 310], 89: [311], 90: [312], 91: [313, 314], 92: [315], 93: [316, 317, 320], 94: [321, 322], 95: [323], 96: [324], 97: [325, 326], 98: [327], 99: [328], 100: [329, 330], 102: [331], 104: [332], 107: [334, 335, 336], 108: [337], 109: [338], 110: [339], 111: [340], 112: [341, 342], 113: [343], 114: [344], 115: [345], 116: [346], 117: [347], 118: [348], 119: [349, 350], 120: [351], 121: [352], 122: [353, 354, 355], 123: [356], 124: [357, 358, 359], 125: [360], 126: [361], 127: [362], 130: [363], 131: [364, 365], 132: [366], 133: [367, 368], 134: [369], 135: [370], 136: [371], 137: [372, 373, 374], 138: [375], 139: [376, 377, 378], 140: [379, 380], 141: [381], 142: [382], 143: [383], 144: [384, 385, 386, 387], 145: [388, 389, 390], 146: [391], 147: [392, 393], 149: [394], 150: [395], 152: [396, 397, 398, 399, 400, 401, 402], 153: [403, 405, 408], 154: [409], 155: [410], 156: [411, 412, 413], 157: [414], 158: [415], 159: [416], 160: [417, 418], 161: [419], 162: [420], 164: [421], 166: [422], 167: [423, 424], 168: [425, 426, 427, 428, 429], 169: [430, 431], 170: [432, 433, 434], 171: [435], 172: [436, 437], 173: [438], 174: [439], 175: [440], 176: [441, 442, 443, 444, 445], 177: [446, 447], 179: [448, 449, 450], 180: [451, 452], 181: [453], 182: [454], 183: [455], 184: [456], 185: [457], 186: [458], 187: [459, 460], 188: [461], 190: [462], 191: [463], 192: [464], 193: [465, 466], 194: [467, 468, 469], 195: [470], 196: [471, 472, 473, 474], 197: [475], 198: [476], 199: [477, 479, 482], 200: [483, 484], 201: [485], 202: [486], 203: [487], 204: [488], 205: [489, 490], 206: [491, 492], 208: [493, 494], 209: [495, 496, 497], 210: [498, 499], 212: [500, 501], 213: [502, 503], 214: [504], 215: [505, 506], 216: [507], 217: [508, 509], 218: [510], 219: [511], 220: [512, 513], 221: [514, 515, 516], 222: [517, 518], 223: [519], 225: [520, 521, 522], 227: [523]}\n",
      "(9, 10)\n",
      "{0: [197, 198, 199], 1: [200], 3: [201], 4: [202], 5: [203], 6: [204, 205, 206], 7: [207, 208], 9: [210], 10: [211, 212], 11: [213], 12: [214], 13: [215], 14: [216], 15: [219, 220, 221, 222, 224, 225], 16: [226], 17: [227, 228], 18: [229, 230, 231], 19: [232], 20: [233, 234, 235], 21: [235], 22: [236], 24: [237, 238], 25: [239], 26: [240], 27: [241], 28: [242, 243], 29: [244], 30: [245], 31: [246], 32: [247], 33: [248], 34: [249], 35: [250, 251, 252, 253, 254], 36: [255], 38: [256], 39: [257, 258], 40: [259, 260], 41: [261], 42: [262, 263], 43: [264, 265, 266, 267], 44: [268, 269], 45: [270], 46: [271, 272, 273, 274], 47: [275], 49: [276], 50: [277, 278, 279, 280], 51: [281], 52: [282], 53: [283], 54: [284], 55: [285], 56: [286, 287, 290, 291, 292], 57: [293], 58: [294, 295, 296, 297], 59: [298], 60: [299], 61: [300], 62: [301, 302, 303], 63: [304], 64: [305], 65: [306], 67: [307, 309], 68: [310, 311, 312], 69: [313, 314], 71: [315], 72: [316], 73: [317], 74: [318, 319], 75: [320], 76: [321], 77: [322, 323, 324], 78: [325, 326], 79: [327], 80: [328], 81: [329], 82: [330], 84: [332, 333, 334, 335], 85: [336, 337], 86: [338, 339], 87: [340], 88: [341], 89: [342, 343], 90: [344, 345], 91: [346], 92: [347, 348], 95: [349], 96: [350, 352], 98: [353], 99: [354, 355, 356, 357, 361, 364, 365, 366], 100: [367], 101: [368, 369], 102: [370], 103: [371, 372], 105: [373], 106: [374, 375], 107: [376, 377], 108: [378], 109: [379], 110: [380], 111: [381, 382], 112: [383], 113: [384], 114: [385], 115: [386], 116: [387, 388], 117: [389, 390], 118: [391], 119: [392], 120: [393], 121: [394], 122: [395], 123: [396], 125: [397], 126: [398], 127: [399, 400], 128: [401], 129: [402, 403, 404], 130: [405, 406, 407], 131: [408], 132: [409, 410], 133: [411], 134: [412, 413], 135: [414, 415, 416], 136: [418], 137: [419], 138: [420, 421], 139: [422, 423], 140: [424, 425, 426], 141: [427, 429], 142: [430], 143: [431, 432, 433, 436, 437, 438, 439, 440], 144: [441], 145: [442, 443], 146: [444], 147: [445], 148: [446, 447, 448], 149: [449, 450, 451], 150: [452], 151: [453, 454], 152: [455], 153: [456], 154: [457], 156: [458], 157: [459], 159: [460], 160: [464], 161: [465], 162: [466], 163: [467], 164: [468], 165: [469, 470], 167: [471], 168: [472], 169: [473, 474, 475, 476, 479], 170: [480], 171: [481, 482], 172: [483], 173: [484], 176: [485, 486], 177: [487, 488], 178: [489, 490, 491], 179: [492, 493], 180: [494, 495], 181: [496, 497], 183: [498], 184: [499], 185: [500], 186: [501, 502, 503, 504, 505], 188: [506, 507, 508, 509], 189: [510], 190: [511], 191: [512, 513], 192: [514], 195: [515], 196: [516], 197: [517], 198: [520, 521, 522, 523, 524, 525]}\n",
      "(9, 11)\n",
      "{10: [165, 196], 9: [195], 11: [197], 12: [198, 199], 13: [200], 18: [203, 204, 205, 206, 207], 20: [208], 21: [210], 23: [211, 212], 24: [213, 214], 25: [215], 26: [216, 217], 27: [218, 219], 28: [220], 29: [221, 222, 224], 30: [225, 226], 31: [227], 32: [228], 33: [229, 230], 34: [231], 35: [232, 233, 234], 36: [235, 236], 37: [237, 238], 38: [239], 39: [240], 40: [241], 41: [242], 42: [243], 43: [244], 44: [245], 45: [246, 247, 248], 49: [249], 50: [250], 51: [251], 53: [252, 253], 54: [254], 55: [255], 56: [256, 257], 57: [258], 58: [259], 59: [260], 60: [261], 62: [262], 63: [263, 264, 265, 266, 267, 268], 64: [269, 270, 271], 67: [272], 68: [273], 70: [274, 275], 72: [276, 277], 73: [278], 74: [279, 280], 75: [281], 76: [282, 283], 78: [284, 285, 286], 79: [287], 80: [288, 289, 290], 81: [291], 82: [292], 83: [293], 84: [294, 295], 85: [296, 297], 86: [298], 87: [299], 88: [300], 89: [301], 90: [302, 303], 91: [304, 305], 92: [306], 94: [307], 95: [308, 309], 97: [310, 311], 98: [312, 315], 99: [316], 100: [317, 318], 101: [319], 102: [320], 103: [321], 104: [322], 105: [323, 324], 106: [325], 107: [326, 327], 108: [328], 109: [329], 110: [330], 111: [331], 112: [332], 113: [333], 114: [334, 335], 115: [336], 116: [337], 117: [338], 118: [339], 119: [340, 341], 120: [342], 121: [343], 122: [344], 123: [345, 346], 124: [347], 125: [348], 126: [349], 127: [350, 351], 128: [352, 353], 129: [354], 130: [355, 356], 131: [357, 358], 132: [359, 360], 133: [361], 134: [362, 363], 135: [364], 136: [365], 137: [366], 138: [367], 139: [368, 369], 140: [370], 141: [371], 142: [372], 144: [373], 145: [374], 147: [375], 149: [376], 150: [377], 151: [378], 152: [379], 153: [380], 154: [381, 382], 157: [383, 384], 158: [385], 159: [386], 160: [387], 161: [388], 162: [389], 163: [390], 164: [391, 392], 168: [393, 394], 169: [395, 396, 397], 170: [398, 399], 172: [400], 173: [401], 174: [402, 403], 175: [404], 176: [405, 406], 177: [407, 408, 409], 178: [410], 179: [411], 180: [412], 182: [414], 183: [415, 416], 184: [417, 418, 419], 186: [420], 187: [421], 188: [422, 423, 424], 189: [425, 426], 190: [427, 428], 191: [429, 430], 193: [431], 194: [432], 195: [433], 196: [434, 435, 436], 198: [437], 202: [439], 212: [440], 214: [450], 215: [451], 217: [452], 219: [453], 220: [454], 221: [455], 222: [456, 458], 223: [457], 224: [459], 225: [460, 461], 226: [462, 463, 464], 227: [465], 228: [466, 467]}\n",
      "(9, 12)\n",
      "{0: [200, 201], 1: [202], 2: [203, 204, 205], 3: [206], 4: [207, 208], 5: [209], 6: [210], 7: [211, 212], 8: [213, 214], 9: [215], 10: [216], 11: [217], 12: [218, 219, 220, 221], 13: [222, 223], 14: [224], 15: [225, 226], 16: [227], 17: [228], 18: [229], 19: [230], 20: [231], 26: [236, 237], 27: [238, 239, 240], 28: [241, 242, 243, 244], 29: [245, 246], 30: [247], 31: [248], 32: [249], 33: [250, 251], 34: [252], 35: [253], 36: [254], 37: [255, 256], 38: [257], 39: [258], 40: [259], 41: [260], 42: [261, 262], 43: [263, 264], 44: [265], 45: [266], 46: [267], 47: [268], 48: [269], 49: [270, 271], 51: [272], 52: [273], 53: [274], 54: [275], 55: [276], 56: [277], 57: [278], 58: [279], 59: [280], 60: [281], 61: [282], 62: [283], 64: [284], 65: [285], 66: [286], 67: [287], 68: [288], 69: [289, 290], 73: [291], 75: [292], 76: [293], 77: [294], 78: [295], 79: [296], 80: [297, 298, 299, 301], 81: [302, 303, 304], 82: [305, 306, 307], 83: [308], 84: [309], 85: [310, 311], 86: [312], 87: [313, 314], 88: [315, 316], 90: [317, 318, 319], 91: [320], 92: [321, 322], 93: [323, 324], 94: [325], 95: [326], 96: [327, 328], 97: [329], 98: [330], 99: [331, 333], 100: [334], 101: [335, 336], 102: [337], 103: [338], 104: [339], 105: [340], 106: [341], 107: [342], 108: [343, 344], 110: [345], 111: [347], 114: [348, 349, 350], 115: [351, 352], 116: [353, 354], 117: [355, 356], 118: [357], 119: [358], 122: [359, 360], 123: [361], 124: [362], 125: [363], 126: [364], 127: [365], 128: [366], 129: [367, 368], 130: [369, 370], 131: [371], 132: [372, 373], 133: [374], 134: [375], 135: [376], 136: [377], 137: [378], 138: [379], 139: [380], 140: [381, 382], 142: [383], 143: [384, 385, 386], 144: [387], 145: [388], 146: [389, 390], 147: [391, 392], 148: [393], 149: [394], 150: [395], 151: [396], 152: [397], 153: [398, 399, 400], 154: [401, 402], 155: [403], 156: [404], 157: [405], 158: [406], 159: [407], 160: [408, 409, 410], 162: [411], 163: [412], 164: [413], 165: [414], 166: [415], 167: [416, 417, 418], 168: [419], 169: [420, 421, 422], 170: [423], 171: [424], 172: [425], 173: [426], 174: [427, 428], 175: [429], 176: [430], 177: [431], 178: [432], 180: [433, 434], 181: [435, 436], 182: [437], 183: [438], 184: [439], 185: [440, 441], 186: [442], 187: [443], 188: [444], 189: [445], 190: [446], 191: [447, 448], 192: [449, 450, 451], 193: [452], 194: [453], 195: [454, 455], 196: [456, 457], 197: [458], 198: [459], 199: [460, 461, 462, 463], 200: [464], 201: [465], 204: [467], 205: [468], 206: [469, 470], 208: [471, 472], 209: [473, 474], 210: [475], 211: [476, 477], 212: [478], 213: [479, 480], 214: [481, 482, 483, 484], 215: [485, 486], 217: [487], 218: [488], 219: [489, 490], 220: [491, 492, 493], 221: [494, 495, 496, 497], 223: [499], 224: [500, 501], 225: [502], 226: [503], 227: [504, 505], 228: [506, 507], 229: [508, 509, 510], 231: [511], 232: [512], 233: [513], 234: [514], 235: [515], 236: [516]}\n",
      "(9, 16)\n",
      "{3: [198], 4: [199, 200, 201, 202, 203], 5: [204, 205, 206, 207, 208], 9: [209, 210], 10: [211, 212, 213, 214], 11: [215], 12: [216, 217, 218], 13: [219], 14: [220, 221, 222, 223, 224], 15: [225], 16: [226, 227, 228, 229, 230], 17: [231], 18: [232, 233, 234, 235], 19: [238], 20: [239, 240], 21: [241, 242], 22: [243, 244], 26: [245], 27: [246, 247], 28: [248], 30: [249], 32: [250], 34: [252], 35: [253, 254, 255, 256, 257], 36: [258], 37: [259, 260], 38: [261], 39: [262], 40: [263], 41: [264], 42: [265, 266, 267], 43: [268], 45: [269, 270, 271], 47: [272], 48: [273], 49: [274], 50: [275], 51: [276, 277, 278, 279], 52: [280, 281], 53: [282, 283], 54: [284], 55: [285], 56: [286], 57: [287, 288], 58: [289, 290], 59: [291], 60: [292, 293, 294], 61: [295, 296, 297], 62: [298], 63: [299, 300, 301], 64: [302], 65: [303, 304], 66: [305, 306, 307], 67: [308], 69: [309], 70: [310, 311], 71: [312], 72: [313], 73: [314, 315], 74: [316], 75: [317, 318], 76: [319], 77: [320], 79: [321], 80: [322], 81: [323], 82: [324, 325], 83: [326], 84: [327, 328], 85: [329], 86: [330, 331], 87: [332], 88: [333], 90: [334, 335, 336], 91: [337], 92: [338, 339], 93: [340], 94: [341], 95: [342, 343], 96: [344, 345, 346], 97: [347], 98: [348], 99: [349], 100: [350], 101: [351], 102: [352, 353], 103: [354, 355], 104: [356], 105: [357, 358], 106: [359], 107: [360], 108: [361], 109: [362], 110: [363], 111: [364], 112: [365], 114: [366], 115: [367], 116: [368], 117: [369, 370], 118: [371], 120: [372], 121: [373, 374], 122: [375], 123: [376], 124: [377], 125: [378], 126: [379, 380, 381], 127: [382, 383], 130: [385], 131: [386], 132: [387, 388], 133: [389], 134: [390], 135: [391], 136: [392, 393], 137: [394], 140: [395, 396, 397], 141: [398], 142: [399], 143: [400], 144: [401], 145: [402], 146: [403], 147: [404], 148: [405], 149: [406, 407], 150: [408], 151: [409], 152: [410], 153: [411, 412], 154: [413], 155: [414], 156: [415], 157: [416, 417], 158: [418], 160: [419, 420, 421], 161: [422], 162: [423], 163: [424], 164: [425, 426], 165: [427], 166: [428, 430], 167: [431], 168: [432], 170: [433], 171: [434], 172: [435, 436], 173: [437, 438, 439, 440, 441, 442, 443, 444, 445], 174: [447, 448, 449, 451, 452, 454, 455], 177: [456], 179: [457], 180: [458, 459, 460], 181: [461, 462], 183: [463], 184: [464, 465], 185: [466, 467], 186: [468], 187: [469, 470], 189: [471, 472], 190: [473, 474], 191: [475, 476], 192: [477], 193: [478], 194: [480, 481, 482, 483, 489], 195: [484, 485, 486, 487], 196: [488], 198: [491], 200: [492, 493, 494], 201: [497, 498, 499, 500, 501, 502, 503], 202: [504, 505], 203: [506], 204: [507], 205: [508], 206: [509, 510], 207: [511, 512], 208: [513], 209: [514], 210: [515, 516], 211: [517], 212: [518], 213: [519]}\n",
      "(9, 17)\n",
      "{0: [194], 1: [195], 3: [196, 197, 198], 4: [199], 5: [200], 6: [201, 202], 7: [203], 8: [205], 10: [206], 13: [207, 208, 209, 210], 14: [211], 15: [212, 213], 16: [214, 215], 17: [216, 217], 19: [218], 20: [219, 221], 22: [222, 223, 224], 24: [226, 228], 25: [229], 26: [230], 27: [231, 232], 28: [233], 29: [234], 31: [235, 236], 32: [237, 238], 33: [239, 240], 34: [241, 242, 243], 35: [244], 36: [245], 37: [246], 38: [247, 248], 39: [249, 250, 251], 40: [252], 41: [253, 254], 43: [255, 256, 257], 44: [258], 45: [259, 260, 261], 46: [262], 47: [263], 48: [264], 49: [265], 50: [266, 267], 51: [268], 52: [269, 270, 271], 53: [272, 273], 54: [274], 55: [275, 276, 277], 56: [278], 57: [279], 58: [280, 281], 59: [282, 283], 60: [284], 61: [285], 62: [286], 63: [287], 64: [288], 66: [289], 67: [290, 291], 68: [292], 69: [293], 70: [294, 295], 71: [296, 297, 298, 299], 72: [300, 301, 302], 73: [303, 304, 305, 306, 307], 74: [308], 75: [309, 310, 311], 76: [312], 78: [313], 79: [314], 80: [315], 81: [316], 82: [317], 83: [318, 319, 320], 84: [321], 85: [322], 86: [323, 324, 325], 87: [326], 88: [327, 328], 89: [329], 90: [330, 331, 332], 91: [333], 92: [334], 93: [335], 95: [336], 96: [337], 97: [338], 98: [339], 100: [340], 101: [341], 102: [342, 344, 345], 103: [346], 104: [347], 105: [348], 106: [349], 107: [350], 108: [351], 109: [352], 110: [353], 111: [354], 112: [355], 113: [356], 114: [357], 115: [358], 116: [359, 360], 117: [361], 118: [362, 363, 364, 365], 119: [366, 367], 120: [368, 369, 370], 121: [371], 122: [372, 373], 123: [374], 124: [375, 376, 377], 125: [378], 126: [379, 380], 127: [381, 382], 131: [383, 384, 385], 132: [386], 133: [387], 134: [388, 389, 390], 135: [391, 392], 136: [393, 394], 137: [395, 396, 397], 138: [398, 399, 400, 401, 402], 139: [403, 404, 405, 406], 140: [408, 409, 410, 411], 141: [412], 142: [413], 143: [414, 415, 416], 144: [417, 418], 145: [419, 420, 421, 422, 423], 146: [424, 425], 147: [426, 427], 148: [428, 429], 149: [430], 150: [431], 151: [432, 433, 434, 435], 152: [436, 437], 153: [438, 439, 440, 441], 154: [442], 155: [443], 156: [444, 445, 446], 157: [447, 448], 158: [450, 451], 159: [452], 160: [453, 454, 455, 456, 457, 458], 162: [459], 163: [461], 164: [462, 463], 165: [464, 465, 466], 166: [467], 167: [468], 168: [469], 169: [470], 170: [471], 171: [472], 173: [473], 174: [474], 175: [475], 176: [476], 177: [477, 478, 479], 178: [480, 481], 179: [482], 182: [487]}\n",
      "(9, 18)\n",
      "{0: [197], 1: [198, 199], 2: [200], 3: [201, 202], 4: [203], 5: [204], 6: [205, 206], 7: [207], 10: [209], 11: [210], 12: [211], 13: [212], 14: [213], 15: [214], 16: [215], 17: [216], 18: [217], 19: [218, 219], 21: [220, 221, 222], 22: [223], 23: [224], 24: [225, 226], 25: [227, 228], 26: [229], 27: [230, 231], 28: [232], 29: [233], 30: [234, 235], 31: [236], 32: [237], 33: [238], 34: [239], 35: [241], 36: [242], 37: [243], 38: [244, 245], 39: [246], 40: [247, 248], 41: [249], 43: [250], 44: [251, 252, 253], 45: [254], 46: [255], 47: [256, 257], 48: [258], 49: [259, 260], 50: [261], 51: [262], 52: [263], 53: [264, 265], 54: [266], 55: [267, 268], 56: [269], 58: [270, 271], 59: [272], 60: [273], 61: [274, 275], 62: [276], 63: [277], 64: [278], 65: [279], 66: [280], 67: [281], 68: [282], 69: [283, 284], 70: [285, 286, 287], 71: [288, 289], 72: [290], 73: [291], 74: [292], 75: [293], 76: [294], 77: [295], 78: [296], 79: [297], 80: [298, 299], 81: [300], 82: [301], 83: [302], 84: [303], 85: [304], 86: [305], 87: [306], 88: [307], 89: [308], 90: [309], 91: [310], 92: [311], 93: [312, 313], 94: [314, 315, 316], 96: [317, 318], 97: [319], 98: [320, 321], 99: [322], 100: [323], 101: [324], 102: [325, 326, 327], 103: [328], 104: [329, 330, 331, 333], 105: [334, 335], 106: [336], 107: [337], 108: [338], 109: [339], 110: [340], 112: [341], 114: [342], 115: [343, 344], 116: [345], 117: [346], 118: [347], 120: [348], 121: [349], 122: [350], 123: [351], 124: [352], 125: [353, 354, 355], 126: [356], 127: [357], 128: [358, 359], 129: [360], 130: [361, 362, 363, 364], 132: [365], 133: [366], 134: [367], 139: [370], 140: [371], 141: [372, 373], 143: [374], 144: [375, 376], 145: [377], 146: [378, 379, 380], 147: [381, 382], 148: [383], 149: [384, 385, 386], 150: [387, 388], 152: [389, 390], 153: [391, 392, 393, 394, 395, 396], 155: [397, 398], 156: [399, 400], 157: [401], 158: [402], 159: [403, 404, 405, 406], 160: [407, 408], 161: [409, 410, 411, 412], 162: [413], 163: [414, 415], 164: [416], 165: [417], 166: [418], 167: [419], 168: [420], 169: [421, 422], 172: [423], 173: [424, 425], 174: [426, 427], 175: [428, 429], 176: [430, 431], 177: [432], 178: [433], 179: [434], 180: [435, 436], 181: [437], 182: [438], 183: [439], 184: [440, 441], 185: [442], 186: [443, 444, 445], 187: [446], 188: [447], 189: [448, 449], 191: [450, 451], 192: [452], 193: [453], 194: [454], 196: [455], 197: [456], 198: [457], 199: [458, 459, 460], 200: [461, 462], 202: [463], 203: [464, 465], 204: [466], 205: [467], 206: [468], 207: [469], 208: [470, 471, 475], 209: [476], 210: [477], 212: [478], 213: [479], 214: [480], 215: [481], 216: [482], 217: [483, 484, 485], 218: [486], 219: [487], 220: [488, 489], 221: [490], 222: [491], 224: [493], 225: [494], 226: [495, 496], 227: [497, 498]}\n"
     ]
    }
   ],
   "source": [
    "for x in further_alignment:\n",
    "    print(x)\n",
    "    print(further_alignment[x])"
   ],
   "metadata": {
    "collapsed": false,
    "pycharm": {
     "name": "#%%\n"
    }
   }
  },
  {
   "cell_type": "code",
   "execution_count": 105,
   "outputs": [],
   "source": [
    "with open('alignment_results/fa/ultimate_data.pkl', 'wb') as f:\n",
    "    pkl.dump(further_alignment, f)"
   ],
   "metadata": {
    "collapsed": false,
    "pycharm": {
     "name": "#%%\n"
    }
   }
  },
  {
   "cell_type": "markdown",
   "source": [
    "## Check Alignment Precentage"
   ],
   "metadata": {
    "collapsed": false,
    "pycharm": {
     "name": "#%% md\n"
    }
   }
  },
  {
   "cell_type": "code",
   "execution_count": null,
   "outputs": [],
   "source": [],
   "metadata": {
    "collapsed": false,
    "pycharm": {
     "name": "#%%\n"
    }
   }
  },
  {
   "cell_type": "code",
   "execution_count": null,
   "outputs": [],
   "source": [],
   "metadata": {
    "collapsed": false,
    "pycharm": {
     "name": "#%%\n"
    }
   }
  },
  {
   "cell_type": "code",
   "execution_count": null,
   "outputs": [],
   "source": [],
   "metadata": {
    "collapsed": false,
    "pycharm": {
     "name": "#%%\n"
    }
   }
  },
  {
   "cell_type": "code",
   "execution_count": null,
   "outputs": [],
   "source": [],
   "metadata": {
    "collapsed": false,
    "pycharm": {
     "name": "#%%\n"
    }
   }
  },
  {
   "cell_type": "code",
   "execution_count": null,
   "outputs": [],
   "source": [],
   "metadata": {
    "collapsed": false,
    "pycharm": {
     "name": "#%%\n"
    }
   }
  },
  {
   "cell_type": "code",
   "execution_count": null,
   "outputs": [],
   "source": [],
   "metadata": {
    "collapsed": false,
    "pycharm": {
     "name": "#%%\n"
    }
   }
  },
  {
   "cell_type": "code",
   "execution_count": null,
   "outputs": [],
   "source": [],
   "metadata": {
    "collapsed": false,
    "pycharm": {
     "name": "#%%\n"
    }
   }
  },
  {
   "cell_type": "code",
   "execution_count": null,
   "outputs": [],
   "source": [],
   "metadata": {
    "collapsed": false,
    "pycharm": {
     "name": "#%%\n"
    }
   }
  },
  {
   "cell_type": "code",
   "execution_count": null,
   "outputs": [],
   "source": [],
   "metadata": {
    "collapsed": false,
    "pycharm": {
     "name": "#%%\n"
    }
   }
  },
  {
   "cell_type": "code",
   "execution_count": null,
   "outputs": [],
   "source": [],
   "metadata": {
    "collapsed": false,
    "pycharm": {
     "name": "#%%\n"
    }
   }
  },
  {
   "cell_type": "code",
   "execution_count": null,
   "outputs": [],
   "source": [],
   "metadata": {
    "collapsed": false,
    "pycharm": {
     "name": "#%%\n"
    }
   }
  },
  {
   "cell_type": "code",
   "execution_count": null,
   "outputs": [],
   "source": [],
   "metadata": {
    "collapsed": false,
    "pycharm": {
     "name": "#%%\n"
    }
   }
  },
  {
   "cell_type": "code",
   "execution_count": null,
   "outputs": [],
   "source": [],
   "metadata": {
    "collapsed": false,
    "pycharm": {
     "name": "#%%\n"
    }
   }
  },
  {
   "cell_type": "code",
   "execution_count": null,
   "outputs": [],
   "source": [],
   "metadata": {
    "collapsed": false,
    "pycharm": {
     "name": "#%%\n"
    }
   }
  },
  {
   "cell_type": "code",
   "execution_count": null,
   "outputs": [],
   "source": [],
   "metadata": {
    "collapsed": false,
    "pycharm": {
     "name": "#%%\n"
    }
   }
  },
  {
   "cell_type": "code",
   "execution_count": null,
   "outputs": [],
   "source": [],
   "metadata": {
    "collapsed": false,
    "pycharm": {
     "name": "#%%\n"
    }
   }
  },
  {
   "cell_type": "code",
   "execution_count": null,
   "outputs": [],
   "source": [],
   "metadata": {
    "collapsed": false,
    "pycharm": {
     "name": "#%%\n"
    }
   }
  },
  {
   "cell_type": "code",
   "execution_count": null,
   "outputs": [],
   "source": [],
   "metadata": {
    "collapsed": false,
    "pycharm": {
     "name": "#%%\n"
    }
   }
  },
  {
   "cell_type": "code",
   "execution_count": null,
   "outputs": [],
   "source": [],
   "metadata": {
    "collapsed": false,
    "pycharm": {
     "name": "#%%\n"
    }
   }
  },
  {
   "cell_type": "code",
   "execution_count": null,
   "outputs": [],
   "source": [],
   "metadata": {
    "collapsed": false,
    "pycharm": {
     "name": "#%%\n"
    }
   }
  },
  {
   "cell_type": "code",
   "execution_count": null,
   "outputs": [],
   "source": [],
   "metadata": {
    "collapsed": false,
    "pycharm": {
     "name": "#%%\n"
    }
   }
  },
  {
   "cell_type": "code",
   "execution_count": 448,
   "outputs": [
    {
     "name": "stdout",
     "output_type": "stream",
     "text": [
      "1 1\n",
      "no it s not crazy it s uh uh it s a paradox and paradoxes are part of nature think about light now if you look at huygens light is a wave as confirmed by the double slit experiments but then along comes albert einstein and discovers that light behaves like particles too well i didn t make it worse\n",
      "no it is not crazy it is a it is a paradox paradoxes are part of nature i mean think about light if you look at huygens light is a wave as confirmed by the doubleslit experiments but then along comes albert einstein and discovers that light behaves like particles too\n",
      "161 [370, 372, 373, 374, 375] 1 60 51 0.35294117647058826\n",
      "--\n",
      "====================================================================================================\n"
     ]
    },
    {
     "ename": "NameError",
     "evalue": "name 'epi2sub' is not defined",
     "output_type": "error",
     "traceback": [
      "\u001B[0;31m---------------------------------------------------------------------------\u001B[0m",
      "\u001B[0;31mNameError\u001B[0m                                 Traceback (most recent call last)",
      "\u001B[0;32m/var/folders/w9/673mfrb56v7dvx7hhvw7s6240000gn/T/ipykernel_1465/1384531709.py\u001B[0m in \u001B[0;36m<module>\u001B[0;34m\u001B[0m\n\u001B[1;32m     40\u001B[0m \u001B[0mfurther_alignment\u001B[0m \u001B[0;34m=\u001B[0m \u001B[0;34m{\u001B[0m\u001B[0;34m}\u001B[0m\u001B[0;34m\u001B[0m\u001B[0;34m\u001B[0m\u001B[0m\n\u001B[1;32m     41\u001B[0m \u001B[0;32mfor\u001B[0m \u001B[0;34m(\u001B[0m\u001B[0mi\u001B[0m\u001B[0;34m,\u001B[0m \u001B[0mj\u001B[0m\u001B[0;34m)\u001B[0m \u001B[0;32min\u001B[0m \u001B[0malignment_seeds\u001B[0m\u001B[0;34m.\u001B[0m\u001B[0mkeys\u001B[0m\u001B[0;34m(\u001B[0m\u001B[0;34m)\u001B[0m\u001B[0;34m:\u001B[0m\u001B[0;34m\u001B[0m\u001B[0;34m\u001B[0m\u001B[0m\n\u001B[0;32m---> 42\u001B[0;31m     \u001B[0mtemp\u001B[0m \u001B[0;34m=\u001B[0m \u001B[0mcheck_alignment\u001B[0m\u001B[0;34m(\u001B[0m\u001B[0mtbbt_transcripts\u001B[0m\u001B[0;34m,\u001B[0m \u001B[0men_subtitle\u001B[0m\u001B[0;34m,\u001B[0m \u001B[0mzh_subtitle\u001B[0m\u001B[0;34m,\u001B[0m \u001B[0mresults\u001B[0m\u001B[0;34m,\u001B[0m \u001B[0mi\u001B[0m\u001B[0;34m,\u001B[0m \u001B[0mj\u001B[0m\u001B[0;34m,\u001B[0m \u001B[0;36m200\u001B[0m\u001B[0;34m)\u001B[0m\u001B[0;34m\u001B[0m\u001B[0;34m\u001B[0m\u001B[0m\n\u001B[0m",
      "\u001B[0;32m/var/folders/w9/673mfrb56v7dvx7hhvw7s6240000gn/T/ipykernel_1465/1384531709.py\u001B[0m in \u001B[0;36mcheck_alignment\u001B[0;34m(tbbt, en_subtitle, other_subtitle, results, season_id, episode_id, bias)\u001B[0m\n\u001B[1;32m     35\u001B[0m     \u001B[0;31m# print(\"==\"*50)\u001B[0m\u001B[0;34m\u001B[0m\u001B[0;34m\u001B[0m\u001B[0;34m\u001B[0m\u001B[0m\n\u001B[1;32m     36\u001B[0m \u001B[0;34m\u001B[0m\u001B[0m\n\u001B[0;32m---> 37\u001B[0;31m     \u001B[0;32mreturn\u001B[0m \u001B[0mepi2sub\u001B[0m\u001B[0;34m\u001B[0m\u001B[0;34m\u001B[0m\u001B[0m\n\u001B[0m\u001B[1;32m     38\u001B[0m \u001B[0;34m\u001B[0m\u001B[0m\n\u001B[1;32m     39\u001B[0m \u001B[0;34m\u001B[0m\u001B[0m\n",
      "\u001B[0;31mNameError\u001B[0m: name 'epi2sub' is not defined"
     ]
    }
   ],
   "source": [
    "# Check the result\n",
    "def check_alignment(tbbt, en_subtitle, other_subtitle, results, season_id, episode_id, bias):\n",
    "    # Fetch subset located by the stage-1 alignment\n",
    "    (en_subset, zh_subset, tbbt_episode) = fetch_subsets(\n",
    "        episode=tbbt,\n",
    "        en_subtitle=en_subtitle,\n",
    "        zh_subtitle=other_subtitle,\n",
    "        results=results,\n",
    "        season_id=season_id,\n",
    "        episode_id=episode_id,\n",
    "        bias=bias\n",
    "    )\n",
    "    print(season_id, episode_id)\n",
    "    alignment = alignment_seeds[(season_id,episode_id)]\n",
    "    for epi_id in alignment:\n",
    "        if len(alignment[epi_id])!=max(alignment[epi_id])-min(alignment[epi_id])+1:\n",
    "        # if max(temp[epi_id])-min(temp[epi_id])+1-len(temp[epi_id])==2:\n",
    "            epi = transformation(tbbt_episode[epi_id][0].replace(\"’\", \" \").replace('…', \" \"))\n",
    "            sub_ids = [i for i in range(min(alignment[epi_id]), max(alignment[epi_id])+1)]\n",
    "            sub = \" \".join([transformation(en_subset[i].replace(\"’\", \" \").replace('…', \" \")) for i in sub_ids])\n",
    "            print(epi)\n",
    "            print(sub)\n",
    "            print(epi_id, alignment[epi_id], max(alignment[epi_id])-min(alignment[epi_id])+1-len(alignment[epi_id]), len(epi.strip().split(\" \")), len(sub.strip().split(\" \")), jiwer.wer(sub, epi))\n",
    "            print('--')\n",
    "\n",
    "\n",
    "    print(\"==\"*50)\n",
    "\n",
    "    # print(season_id, episode_id)\n",
    "    # alignment = alignment_seeds[(season_id,episode_id)]\n",
    "    # for item in alignment:\n",
    "    #     epi = transformation(tbbt_episode[item][0].replace(\"’\", \" \").replace('…', \" \"))\n",
    "    #     sub = \" \".join([transformation(en_subset[i].replace(\"’\", \" \").replace('…', \" \")) for i in alignment[item]])\n",
    "    #     print(item, alignment[item], len(epi.strip().split(\" \")), len(sub.strip().split(\" \")))\n",
    "    # print(\"==\"*50)\n",
    "\n",
    "    return epi2sub\n",
    "\n",
    "\n",
    "further_alignment = {}\n",
    "for (i, j) in alignment_seeds.keys():\n",
    "    temp = check_alignment(tbbt_transcripts, en_subtitle, zh_subtitle, results, i, j, 200)"
   ],
   "metadata": {
    "collapsed": false,
    "pycharm": {
     "name": "#%%\n"
    }
   }
  },
  {
   "cell_type": "code",
   "execution_count": null,
   "outputs": [],
   "source": [
    "alignment_seeds = further_alignment"
   ],
   "metadata": {
    "collapsed": false,
    "pycharm": {
     "name": "#%%\n"
    }
   }
  },
  {
   "cell_type": "code",
   "execution_count": null,
   "outputs": [],
   "source": [
    "for (i, j) in further_alignment:\n",
    "    print(i, j)\n",
    "    alignment = further_alignment[(i, j)]\n",
    "    sub2epi = turn_sub2epi_into_epi2sub(alignment)\n",
    "    for sub_id in sub2epi:\n",
    "        if len(sub2epi[sub_id])!=1:\n",
    "            print(sub_id, sub2epi[sub_id])\n",
    "    print('=='*50)"
   ],
   "metadata": {
    "collapsed": false,
    "pycharm": {
     "name": "#%%\n"
    }
   }
  },
  {
   "cell_type": "code",
   "execution_count": null,
   "outputs": [],
   "source": [
    "for x in further_alignment:\n",
    "    print(x, len(further_alignment[x]), len(turn_sub2epi_into_epi2sub(further_alignment[x])))"
   ],
   "metadata": {
    "collapsed": false,
    "pycharm": {
     "name": "#%%\n"
    }
   }
  },
  {
   "cell_type": "code",
   "execution_count": null,
   "outputs": [],
   "source": [
    "alignment_seeds = further_alignment"
   ],
   "metadata": {
    "collapsed": false,
    "pycharm": {
     "name": "#%%\n"
    }
   }
  },
  {
   "cell_type": "code",
   "execution_count": null,
   "outputs": [],
   "source": [],
   "metadata": {
    "collapsed": false,
    "pycharm": {
     "name": "#%%\n"
    }
   }
  },
  {
   "cell_type": "code",
   "execution_count": null,
   "outputs": [],
   "source": [],
   "metadata": {
    "collapsed": false,
    "pycharm": {
     "name": "#%%\n"
    }
   }
  },
  {
   "cell_type": "code",
   "execution_count": null,
   "outputs": [],
   "source": [],
   "metadata": {
    "collapsed": false,
    "pycharm": {
     "name": "#%%\n"
    }
   }
  },
  {
   "cell_type": "code",
   "execution_count": null,
   "outputs": [],
   "source": [],
   "metadata": {
    "collapsed": false,
    "pycharm": {
     "name": "#%%\n"
    }
   }
  },
  {
   "cell_type": "code",
   "execution_count": null,
   "outputs": [],
   "source": [],
   "metadata": {
    "collapsed": false,
    "pycharm": {
     "name": "#%%\n"
    }
   }
  },
  {
   "cell_type": "code",
   "execution_count": null,
   "outputs": [],
   "source": [],
   "metadata": {
    "collapsed": false,
    "pycharm": {
     "name": "#%%\n"
    }
   }
  },
  {
   "cell_type": "code",
   "execution_count": null,
   "outputs": [],
   "source": [],
   "metadata": {
    "collapsed": false,
    "pycharm": {
     "name": "#%%\n"
    }
   }
  },
  {
   "cell_type": "code",
   "execution_count": null,
   "outputs": [],
   "source": [],
   "metadata": {
    "collapsed": false,
    "pycharm": {
     "name": "#%%\n"
    }
   }
  },
  {
   "cell_type": "code",
   "execution_count": null,
   "outputs": [],
   "source": [],
   "metadata": {
    "collapsed": false,
    "pycharm": {
     "name": "#%%\n"
    }
   }
  },
  {
   "cell_type": "code",
   "execution_count": null,
   "outputs": [],
   "source": [],
   "metadata": {
    "collapsed": false,
    "pycharm": {
     "name": "#%%\n"
    }
   }
  },
  {
   "cell_type": "code",
   "execution_count": null,
   "outputs": [],
   "source": [],
   "metadata": {
    "collapsed": false,
    "pycharm": {
     "name": "#%%\n"
    }
   }
  },
  {
   "cell_type": "code",
   "execution_count": null,
   "outputs": [],
   "source": [],
   "metadata": {
    "collapsed": false,
    "pycharm": {
     "name": "#%%\n"
    }
   }
  },
  {
   "cell_type": "code",
   "execution_count": null,
   "outputs": [],
   "source": [],
   "metadata": {
    "collapsed": false,
    "pycharm": {
     "name": "#%%\n"
    }
   }
  },
  {
   "cell_type": "code",
   "execution_count": null,
   "outputs": [],
   "source": [],
   "metadata": {
    "collapsed": false,
    "pycharm": {
     "name": "#%%\n"
    }
   }
  },
  {
   "cell_type": "code",
   "execution_count": null,
   "outputs": [],
   "source": [],
   "metadata": {
    "collapsed": false,
    "pycharm": {
     "name": "#%%\n"
    }
   }
  },
  {
   "cell_type": "code",
   "execution_count": null,
   "outputs": [],
   "source": [
    "# Load Data\n",
    "(en_subset, zh_subset, tbbt_episode) = fetch_subsets(\n",
    "        episode=tbbt_transcripts,\n",
    "        en_subtitle=en_subtitle,\n",
    "        zh_subtitle=zh_subtitle,\n",
    "        results=results,\n",
    "        season_id=1,\n",
    "        episode_id=1,\n",
    "        bias=200\n",
    "    )\n",
    "epi2sub = alignment_seeds[(1,1)]"
   ],
   "metadata": {
    "collapsed": false,
    "pycharm": {
     "name": "#%%\n"
    }
   }
  },
  {
   "cell_type": "code",
   "execution_count": null,
   "outputs": [],
   "source": [
    "def get_sliding_window_substrings(input_string, window_size):\n",
    "    input_tokens = input_string.strip().split(\" \")\n",
    "    substrings = []\n",
    "    for i in range(len(input_tokens)-window_size):\n",
    "        substrings.append(\" \".join(input_tokens[i: i+window_size]))\n",
    "    return substrings"
   ],
   "metadata": {
    "collapsed": false,
    "pycharm": {
     "name": "#%%\n"
    }
   }
  },
  {
   "cell_type": "code",
   "execution_count": null,
   "outputs": [],
   "source": [
    "def add_one_size_gap(gaps, epi2sub):\n",
    "    temp = {}\n",
    "    for gap in gaps:\n",
    "        sub_ids = gap[1]\n",
    "        epi_ids = gap[0]\n",
    "        if not(len(sub_ids)==1 and len(epi_ids)==1):\n",
    "            continue\n",
    "        sub_id = sub_ids[0]\n",
    "        epi_id = epi_ids[0]\n",
    "        if len(transformation(en_subset[sub_id]).strip().split(' '))==len(transformation(tbbt_episode[epi_id][0]).strip().split(' ')):\n",
    "            epi2sub[epi_id] = [sub_id]\n",
    "    output = {}\n",
    "    for epi_id in sorted(list(epi2sub.keys())):\n",
    "        output[epi_id] = sorted(list(set(epi2sub[epi_id])))\n",
    "    return output"
   ],
   "metadata": {
    "collapsed": false,
    "pycharm": {
     "name": "#%%\n"
    }
   }
  },
  {
   "cell_type": "code",
   "execution_count": null,
   "outputs": [],
   "source": [
    "def add_one_size_gap(gaps, epi2sub):\n",
    "    temp = {}\n",
    "    for gap in gaps:\n",
    "        sub_ids = gap[1]\n",
    "        epi_ids = gap[0]\n",
    "        if not(len(sub_ids)==1 and len(epi_ids)==1):\n",
    "            continue\n",
    "        sub_id = sub_ids[0]\n",
    "        epi_id = epi_ids[0]\n",
    "        if len(transformation(en_subset[sub_id]).strip().split(' '))==len(transformation(tbbt_episode[epi_id][0]).strip().split(' ')):\n",
    "            epi2sub[epi_id] = [sub_id]\n",
    "    output = {}\n",
    "    for epi_id in sorted(list(epi2sub.keys())):\n",
    "        output[epi_id] = sorted(list(set(epi2sub[epi_id])))\n",
    "    return output"
   ],
   "metadata": {
    "collapsed": false,
    "pycharm": {
     "name": "#%%\n"
    }
   }
  },
  {
   "cell_type": "code",
   "execution_count": null,
   "outputs": [],
   "source": [
    "def sliding_within_gap(gaps, epi2sub):\n",
    "    temp = {}\n",
    "    for gap in gaps:\n",
    "        sub_ids = gap[1]\n",
    "        epi_ids = gap[0]\n",
    "        for epi_id in epi_ids:\n",
    "            epi = tbbt_episode\n",
    "\n",
    "        if not(len(sub_ids)==1 and len(epi_ids)==1):\n",
    "            continue\n",
    "        sub_id = sub_ids[0]\n",
    "        epi_id = epi_ids[0]\n",
    "\n",
    "\n",
    "    output = {}\n",
    "    for epi_id in sorted(list(epi2sub.keys())):\n",
    "        output[epi_id] = sorted(list(set(epi2sub[epi_id])))\n",
    "    return output"
   ],
   "metadata": {
    "collapsed": false,
    "pycharm": {
     "name": "#%%\n"
    }
   }
  },
  {
   "cell_type": "code",
   "execution_count": null,
   "outputs": [],
   "source": [
    "\"\"\"\n",
    "Add neighbor subtitle from the utterance\n",
    "\"\"\"\n",
    "def extend_subtitles_to_episode_sliding_window(en_subset, epi2sub_alignment_2, episode):\n",
    "    temp = {}\n",
    "    for epi_id in epi2sub_alignment_2:\n",
    "        # Define episode utterance id\n",
    "        epi_id_former = epi_id - 1\n",
    "        epi_id = epi_id\n",
    "        epi_id_latter = epi_id + 1\n",
    "        epi = transformation(episode[epi_id][0])\n",
    "\n",
    "        # Define subtitle id\n",
    "        sub_id_former = min(epi2sub_alignment_2[epi_id]) - 1\n",
    "        sub_id_latter = max(epi2sub_alignment_2[epi_id]) + 1\n",
    "        sub_ids = sorted(list(epi2sub_alignment_2[epi_id]))\n",
    "\n",
    "        # Check whether subtitle nearby is in the utterance\n",
    "        sub_former = transformation(en_subset[sub_id_former])\n",
    "        sub_former_tokens = sub_former.strip().split(' ')\n",
    "        sub_former_strings = []\n",
    "        for i in range(len(sub_former_tokens)-3):\n",
    "            sub_former_strings.append(\" \".join(sub_former_tokens[i: i+4]))\n",
    "        sub_former_strings.append(sub_former)\n",
    "        for item in sub_former_strings:\n",
    "            if item in epi:\n",
    "                sub_ids.append(sub_id_former)\n",
    "                break\n",
    "\n",
    "\n",
    "        sub_latter = transformation(en_subset[sub_id_latter])\n",
    "        sub_latter_tokens = sub_latter.strip().split(' ')\n",
    "        sub_latter_strings = []\n",
    "        for i in range(len(sub_latter_tokens)-3):\n",
    "            sub_latter_strings.append(\" \".join(sub_latter_tokens[i: i+4]))\n",
    "        sub_latter_strings.append(sub_latter)\n",
    "        for item in sub_latter_strings:\n",
    "            if item in epi:\n",
    "                sub_ids.append(sub_id_latter)\n",
    "                break\n",
    "\n",
    "        temp[epi_id] = sorted(sub_ids)\n",
    "    return temp\n",
    "\n",
    "extend_subtitles_to_episode_sliding_window(en_subset, epi2sub, tbbt_transcripts)"
   ],
   "metadata": {
    "collapsed": false,
    "pycharm": {
     "name": "#%%\n"
    }
   }
  },
  {
   "cell_type": "code",
   "execution_count": null,
   "outputs": [],
   "source": [
    "\"\"\"\n",
    "Extend the former episode and latter episode near the substitle\n",
    "\"\"\"\n",
    "def extend_episodes_to_subtitle_sliding_window(en_subset, epi2sub_alignment_2, episode):\n",
    "    temp = {}\n",
    "    sub2epi = turn_sub2epi_into_epi2sub(epi2sub_alignment_2)\n",
    "\n",
    "    for sub_id in sub2epi:\n",
    "        sub = transformation(en_subset[sub_id])\n",
    "\n",
    "        # Check whether the epi nearby is in the subtitle\n",
    "        epi_id_former = min(sub2epi[sub_id])-1\n",
    "        epi_former = transformation(episode[epi_id_former][0])\n",
    "        epi_former_tokens = epi_former.strip().split(' ')\n",
    "        epi_former_strings = []\n",
    "        for i in range(len(epi_former_tokens)-3):\n",
    "            epi_former_strings.append(\" \".join(epi_former_tokens[i: i+4]))\n",
    "        epi_former_strings.append(epi_former)\n",
    "        for item in epi_former_strings:\n",
    "            if item in sub:\n",
    "                epi_ids.append(epi_id_former)\n",
    "                break\n",
    "\n",
    "\n",
    "        epi_id_latter = max(sub2epi[sub_id])+1\n",
    "        epi_latter = transformation(episode[epi_id_latter][0])\n",
    "        epi_latter_tokens = epi_latter.strip().split(' ')\n",
    "        epi_latter_strings = []\n",
    "        for i in range(len(epi_latter_tokens)-3):\n",
    "            epi_latter_strings.append(\" \".join(epi_latter_tokens[i: i+4]))\n",
    "        epi_latter_strings.append(epi_latter)\n",
    "        for item in epi_latter_strings:\n",
    "            if item in sub:\n",
    "                epi_ids.append(epi_id_latter)\n",
    "                break\n",
    "        print(epi_former_strings)\n",
    "        print(epi_latter_strings)\n",
    "        print(sub)\n",
    "        print('=='*50)\n",
    "        temp[sub_id] = sorted(epi_ids)\n",
    "    return temp"
   ],
   "metadata": {
    "collapsed": false,
    "pycharm": {
     "name": "#%%\n"
    }
   }
  },
  {
   "cell_type": "code",
   "execution_count": null,
   "outputs": [],
   "source": [
    "alignment_seeds = final_stage_alignment"
   ],
   "metadata": {
    "collapsed": false,
    "pycharm": {
     "name": "#%%\n"
    }
   }
  },
  {
   "cell_type": "code",
   "execution_count": null,
   "outputs": [],
   "source": [
    "# for x in alignment_seeds:\n",
    "#     print(x)\n",
    "#     print(alignment_seeds[x])\n",
    "#     print(\"==\"*50)"
   ],
   "metadata": {
    "collapsed": false,
    "pycharm": {
     "name": "#%%\n"
    }
   }
  },
  {
   "cell_type": "code",
   "execution_count": null,
   "outputs": [],
   "source": [
    "# Load Data\n",
    "(en_subset, zh_subset, tbbt_episode) = fetch_subsets(\n",
    "        episode=tbbt_transcripts,\n",
    "        en_subtitle=en_subtitle,\n",
    "        zh_subtitle=zh_subtitle,\n",
    "        results=results,\n",
    "        season_id=1,\n",
    "        episode_id=1,\n",
    "        bias=200\n",
    "    )\n",
    "epi2sub = alignment_seeds[(1,1)]"
   ],
   "metadata": {
    "collapsed": false,
    "pycharm": {
     "name": "#%%\n"
    }
   }
  },
  {
   "cell_type": "code",
   "execution_count": null,
   "outputs": [],
   "source": [
    "\"\"\"\n",
    "Extend the former subtitle and latter subtitle near the episode\n",
    "\"\"\"\n",
    "def extend_neighbors_episode_sliding(en_subset, epi2sub, tbbt_episode):\n",
    "    # Gather the gap of subtitle corresponding to episode utterance\n",
    "    epi_keys = sorted(list(epi2sub.keys()))\n",
    "    sub_keys = sorted(list(turn_sub2epi_into_epi2sub(epi2sub).keys()))\n",
    "\n",
    "    subtitle_gaps = {}\n",
    "    for i in range(len(epi_keys)-1):\n",
    "        epi_start = epi_keys[i]\n",
    "        epi_end = epi_keys[i+1]\n",
    "        key = (epi_start, epi_end)\n",
    "        if max(epi2sub[epi_start])+1<min(epi2sub[epi_end]):\n",
    "            subtitle_gaps[(epi_start, epi_end)] = [item for item in range(max(epi2sub[epi_start])+1, min(epi2sub[epi_end]))]\n",
    "    print(subtitle_gaps)\n",
    "\n",
    "    # Check whether the subtitle could be merged into utterances using sliding window\n",
    "    for start_epi_id, end_epi_id in subtitle_gaps:\n",
    "        start_epi = transformation(tbbt_episode[start_epi_id][0].replace(\"’\", \" \"))\n",
    "        end_epi = transformation(tbbt_episode[end_epi_id][0].replace(\"’\", \" \"))\n",
    "        # print(start_epi_id, start_epi)\n",
    "        # print(end_epi_id, end_epi)\n",
    "        # print('--')\n",
    "\n",
    "        for sub_id in subtitle_gaps[(start_epi_id, end_epi_id)]:\n",
    "            sub = transformation(en_subset[sub_id])\n",
    "            sub_substrings = get_sliding_window_substrings(sub, 6)\n",
    "            sub_substrings.append(sub)\n",
    "            # print(sub_id, sub)\n",
    "            # print(sub_substrings)\n",
    "            temp_start = [substring in start_epi for substring in sub_substrings]\n",
    "            signal_start = True in temp_start\n",
    "            temp_end = [substring in end_epi for substring in sub_substrings]\n",
    "            signal_end = True in temp_end\n",
    "            # print(temp_start, signal_start)\n",
    "            # print(temp_end, signal_end)\n",
    "            if signal_start==True and signal_end==True:\n",
    "                print(start_epi_id, start_epi)\n",
    "                print(end_epi_id, end_epi)\n",
    "                print(sub, \"|\", signal_start, \"|\", signal_end)\n",
    "                print('--')\n",
    "\n",
    "        # print('=='*50)\n",
    "\n",
    "extend_neighbors_episode_sliding(en_subset, epi2sub, tbbt_episode)"
   ],
   "metadata": {
    "collapsed": false,
    "pycharm": {
     "name": "#%%\n"
    }
   }
  },
  {
   "cell_type": "code",
   "execution_count": null,
   "outputs": [],
   "source": [
    "def get_final_stage_gap_pairs(epi2sub):\n",
    "    # Gather the gap of subtitle corresponding to episode utterance\n",
    "    epi_keys = sorted(list(epi2sub.keys()))\n",
    "    sub_keys = sorted(list(turn_sub2epi_into_epi2sub(epi2sub).keys()))\n",
    "\n",
    "    subtitle_gaps = {}\n",
    "    for i in range(len(epi_keys)-1):\n",
    "        epi_start = epi_keys[i]\n",
    "        epi_end = epi_keys[i+1]\n",
    "        key = (epi_start, epi_end)\n",
    "        if max(epi2sub[epi_start])+1<min(epi2sub[epi_end]):\n",
    "            subtitle_gaps[(epi_start, epi_end)] = [item for item in range(max(epi2sub[epi_start])+1, min(epi2sub[epi_end]))]\n",
    "\n",
    "    # Perform string match and CER Scoring\n",
    "    return subtitle_gaps\n",
    "\n",
    "final_gap = get_final_stage_gap_pairs(epi2sub)\n",
    "\n",
    "for item in final_gap:\n",
    "    epi_ids = [i+2 for i in range(item[0], item[1]+1)]\n",
    "    sub_ids = [x+2 for x in final_gap[item]]\n",
    "    print(epi_ids)\n",
    "    print(sub_ids)\n",
    "    print('=='*50)"
   ],
   "metadata": {
    "collapsed": false,
    "pycharm": {
     "name": "#%%\n"
    }
   }
  },
  {
   "cell_type": "code",
   "execution_count": null,
   "outputs": [],
   "source": [],
   "metadata": {
    "collapsed": false,
    "pycharm": {
     "name": "#%%\n"
    }
   }
  },
  {
   "cell_type": "code",
   "execution_count": null,
   "outputs": [],
   "source": [],
   "metadata": {
    "collapsed": false,
    "pycharm": {
     "name": "#%%\n"
    }
   }
  },
  {
   "cell_type": "code",
   "execution_count": null,
   "outputs": [],
   "source": [],
   "metadata": {
    "collapsed": false,
    "pycharm": {
     "name": "#%%\n"
    }
   }
  },
  {
   "cell_type": "code",
   "execution_count": null,
   "outputs": [],
   "source": [
    "with open('alignment_results/zh/final_stage_alignment.pkl', 'rb') as f:\n",
    "    final_stage_alignment = pkl.load(f)\n",
    "\n",
    "# Load Data\n",
    "(en_subset, zh_subset, tbbt_episode) = fetch_subsets(\n",
    "        episode=tbbt_transcripts,\n",
    "        en_subtitle=en_subtitle,\n",
    "        zh_subtitle=zh_subtitle,\n",
    "        results=results,\n",
    "        season_id=1,\n",
    "        episode_id=1,\n",
    "        bias=200\n",
    "    )\n",
    "\n",
    "alignment_seeds = final_stage_alignment\n",
    "epi2sub = alignment_seeds[(1,1)]"
   ],
   "metadata": {
    "collapsed": false,
    "pycharm": {
     "name": "#%%\n"
    }
   }
  },
  {
   "cell_type": "code",
   "execution_count": null,
   "outputs": [],
   "source": [
    "\"\"\"\n",
    "Explore the neighbor subtitles of a episode.\n",
    "\n",
    "Given a episode utterance (epi_id), then we fetch the unaligned subtitle (sub_id)\n",
    "[epi_id_0, epi_id_1, etc., epi_id_n] - [sub_id_0, sub_id_1, etc. sub_id_m]\n",
    "\n",
    "Then, we search within the subset-pair\n",
    "\n",
    "For each subtitle, we use sliding window to fetch a set of substrings in each episode utterance and calculate the CER\n",
    "\"\"\"\n",
    "def extend_neighbors_episode_sliding(en_subset, epi2sub, tbbt_episode):\n",
    "    count = 0\n",
    "    # Gather the gap of subtitle corresponding to episode utterance\n",
    "    subtitle_gaps = get_final_stage_gap_pairs(epi2sub)\n",
    "\n",
    "    # Iterate the whole subtitle gaps to perform substring match\n",
    "    temp_epi2sub = deepcopy(epi2sub)\n",
    "    for item in subtitle_gaps:\n",
    "        epi_ids = [i for i in range(item[0], item[1]+1)]\n",
    "        sub_ids = [i for i in subtitle_gaps[item]]\n",
    "\n",
    "        # Fetch all episodes and subtitles\n",
    "        epis = [transformation(tbbt_episode[i][0].replace(\"’\", \" \").replace('…', \" \")) for i in epi_ids]\n",
    "        subs = [transformation(en_subset[i].replace(\"’\", \" \").replace('…', \" \")) for i in sub_ids]\n",
    "\n",
    "        # print(epi_ids)\n",
    "        # print(epis)\n",
    "        # print(sub_ids)\n",
    "        # print(subs)\n",
    "        for sub_id, sub in zip(sub_ids, subs):\n",
    "            sub_len = len(sub.strip().split(\" \"))\n",
    "            if sub_len <=3:\n",
    "                continue\n",
    "            min_score = float('inf')\n",
    "            min_substring = \"\"\n",
    "            source_episode = \"\"\n",
    "            source_sub_id = float('inf')\n",
    "            source_epi_id = float('inf')\n",
    "            for epi, epi_id in zip(epis, epi_ids):\n",
    "                # min_score = float('inf')\n",
    "                # min_substring = \"\"\n",
    "                epi_substrings = get_sliding_window_substrings(epi, window_size=sub_len)\n",
    "                for substring in epi_substrings:\n",
    "                    wer = jiwer.wer(sub, substring)\n",
    "                    if wer <= min_score:\n",
    "                        min_score = wer\n",
    "                        min_substring = substring\n",
    "                        source_episode = epi\n",
    "                        source_epi_id = epi_id\n",
    "            if min_score <= 0.5:\n",
    "                if source_epi_id not in temp_epi2sub:\n",
    "                    temp_epi2sub[source_epi_id] = [sub_id]\n",
    "                else:\n",
    "                    temp_epi2sub[source_epi_id].append(sub_id)\n",
    "                # print(sub_id+2, source_epi_id+2)\n",
    "                # print(\"Subtitle:\", sub_id+2, sub, len(sub.strip().split(\" \")))\n",
    "                # print(\"All Episode to compare:\")\n",
    "                # print(min_score, '|', min_substring, '|', source_episode)\n",
    "                # print('=='*50)\n",
    "                # count += 1\n",
    "    # print(temp_epi2sub)\n",
    "    # print(len(temp_epi2sub), len(turn_sub2epi_into_epi2sub(temp_epi2sub)))\n",
    "    # print(count)\n",
    "    output = {}\n",
    "    for epi_id in sorted(list(temp_epi2sub.keys())):\n",
    "        output[epi_id] = sorted(list(set(temp_epi2sub[epi_id])))\n",
    "    return output\n",
    "\n",
    "# epi2sub_0 = epi2sub\n",
    "# print(len(epi2sub_0), len(turn_sub2epi_into_epi2sub(epi2sub_0)))\n",
    "# epi2sub_1 = extend_neighbors_episode_sliding(en_subset, epi2sub_0, tbbt_episode)\n",
    "# print(len(epi2sub_1), len(turn_sub2epi_into_epi2sub(epi2sub_1)))\n",
    "# epi2sub_2 = extend_neighbors_episode_sliding(en_subset, epi2sub_1, tbbt_episode)\n",
    "# print(len(epi2sub_2), len(turn_sub2epi_into_epi2sub(epi2sub_2)))"
   ],
   "metadata": {
    "collapsed": false,
    "pycharm": {
     "name": "#%%\n"
    }
   }
  },
  {
   "cell_type": "code",
   "execution_count": null,
   "outputs": [],
   "source": [
    "def get_alignment(tbbt, en_subtitle, other_subtitle, results, season_id, episode_id, bias):\n",
    "    # Fetch subset located by the stage-1 alignment\n",
    "    (en_subset, zh_subset, tbbt_episode) = fetch_subsets(\n",
    "        episode=tbbt,\n",
    "        en_subtitle=en_subtitle,\n",
    "        zh_subtitle=other_subtitle,\n",
    "        results=results,\n",
    "        season_id=season_id,\n",
    "        episode_id=episode_id,\n",
    "        bias=bias\n",
    "    )\n",
    "\n",
    "    # Extend the neighbors\n",
    "    epi2sub = extend_neighbors_episode_sliding(en_subset, alignment_seeds[(i,j)], tbbt_episode)\n",
    "\n",
    "    return epi2sub"
   ],
   "metadata": {
    "collapsed": false,
    "pycharm": {
     "name": "#%%\n"
    }
   }
  },
  {
   "cell_type": "code",
   "execution_count": null,
   "outputs": [],
   "source": [
    "further_alignment = {}\n",
    "for (i, j) in alignment_seeds.keys():\n",
    "    temp = get_alignment(tbbt_transcripts, en_subtitle, zh_subtitle, results, i, j, 200)\n",
    "    further_alignment[(i,j)] = temp\n",
    "    print(\"Season:\", i,\"Episode:\", j, \"Episode Number:\", len(alignment_seeds[(i,j)]),len(temp), \"|\", \"Subtitle Number:\", len(turn_sub2epi_into_epi2sub(alignment_seeds[(i,j)])),len(turn_sub2epi_into_epi2sub(temp)))"
   ],
   "metadata": {
    "collapsed": false,
    "pycharm": {
     "name": "#%%\n"
    }
   }
  },
  {
   "cell_type": "code",
   "execution_count": null,
   "outputs": [],
   "source": [
    "with open('alignment_results/zh/final_stage_alignment_0.pkl', 'wb') as f:\n",
    "    pkl.dump(further_alignment, f)"
   ],
   "metadata": {
    "collapsed": false,
    "pycharm": {
     "name": "#%%\n"
    }
   }
  },
  {
   "cell_type": "code",
   "execution_count": null,
   "outputs": [],
   "source": [
    "with open('alignment_results/zh/final_stage_alignment_0.pkl', 'rb') as f:\n",
    "    further_alignment = pkl.load(f)"
   ],
   "metadata": {
    "collapsed": false,
    "pycharm": {
     "name": "#%%\n"
    }
   }
  },
  {
   "cell_type": "code",
   "execution_count": null,
   "outputs": [],
   "source": [],
   "metadata": {
    "collapsed": false,
    "pycharm": {
     "name": "#%%\n"
    }
   }
  },
  {
   "cell_type": "code",
   "execution_count": null,
   "outputs": [],
   "source": [],
   "metadata": {
    "collapsed": false,
    "pycharm": {
     "name": "#%%\n"
    }
   }
  },
  {
   "cell_type": "code",
   "execution_count": null,
   "outputs": [],
   "source": [
    "for x in further_alignment:\n",
    "    aligned_epi_num = len(alignment_seeds[x])\n",
    "    aligned_sub_num = len(turn_sub2epi_into_epi2sub(alignment_seeds[x]))\n",
    "    all_epi_num = max(alignment_seeds[x])-min(alignment_seeds[x])\n",
    "    all_sub_num = max(turn_sub2epi_into_epi2sub(alignment_seeds[x]))-min(turn_sub2epi_into_epi2sub(alignment_seeds[x]))\n",
    "    print(x, aligned_epi_num, all_epi_num, int(100*(aligned_epi_num/all_epi_num)), \"|\", aligned_sub_num, all_sub_num, int(100*(aligned_sub_num/all_sub_num)))"
   ],
   "metadata": {
    "collapsed": false,
    "pycharm": {
     "name": "#%%\n"
    }
   }
  },
  {
   "cell_type": "code",
   "execution_count": null,
   "outputs": [],
   "source": [
    "def get_alignment(tbbt, en_subtitle, other_subtitle, results, season_id, episode_id, bias):\n",
    "    # Fetch subset located by the stage-1 alignment\n",
    "    (en_subset, zh_subset, tbbt_episode) = fetch_subsets(\n",
    "        episode=tbbt,\n",
    "        en_subtitle=en_subtitle,\n",
    "        zh_subtitle=other_subtitle,\n",
    "        results=results,\n",
    "        season_id=season_id,\n",
    "        episode_id=episode_id,\n",
    "        bias=bias\n",
    "    )\n",
    "\n",
    "    # Extend the neighbors\n",
    "    epi2sub = extend_neighbors_episode_sliding(en_subset, alignment_seeds[(i,j)], tbbt_episode)\n",
    "\n",
    "    return epi2sub"
   ],
   "metadata": {
    "collapsed": false,
    "pycharm": {
     "name": "#%%\n"
    }
   }
  },
  {
   "cell_type": "code",
   "execution_count": null,
   "outputs": [],
   "source": [
    "for (i, j) in alignment_seeds.keys():\n",
    "    temp = get_alignment(tbbt_transcripts, en_subtitle, zh_subtitle, results, i, j, 200)\n",
    "    # print(\"Season:\", i,\"Episode:\", j, \"Episode Number:\",len(turn_sub2epi_into_epi2sub(alignment_seeds[(i,j)])), len(temp), \"Subtitle Number:\", len(alignment_seeds[(i,j)]),len(turn_sub2epi_into_epi2sub(temp)))"
   ],
   "metadata": {
    "collapsed": false,
    "pycharm": {
     "name": "#%%\n"
    }
   }
  },
  {
   "cell_type": "code",
   "execution_count": null,
   "outputs": [],
   "source": [],
   "metadata": {
    "collapsed": false,
    "pycharm": {
     "name": "#%%\n"
    }
   }
  },
  {
   "cell_type": "code",
   "execution_count": null,
   "outputs": [],
   "source": [],
   "metadata": {
    "collapsed": false,
    "pycharm": {
     "name": "#%%\n"
    }
   }
  },
  {
   "cell_type": "code",
   "execution_count": null,
   "outputs": [],
   "source": [],
   "metadata": {
    "collapsed": false,
    "pycharm": {
     "name": "#%%\n"
    }
   }
  },
  {
   "cell_type": "code",
   "execution_count": null,
   "outputs": [],
   "source": [],
   "metadata": {
    "collapsed": false,
    "pycharm": {
     "name": "#%%\n"
    }
   }
  },
  {
   "cell_type": "code",
   "execution_count": null,
   "outputs": [],
   "source": [],
   "metadata": {
    "collapsed": false,
    "pycharm": {
     "name": "#%%\n"
    }
   }
  },
  {
   "cell_type": "code",
   "execution_count": null,
   "outputs": [],
   "source": [],
   "metadata": {
    "collapsed": false,
    "pycharm": {
     "name": "#%%\n"
    }
   }
  },
  {
   "cell_type": "code",
   "execution_count": null,
   "outputs": [],
   "source": [],
   "metadata": {
    "collapsed": false,
    "pycharm": {
     "name": "#%%\n"
    }
   }
  },
  {
   "cell_type": "code",
   "execution_count": null,
   "outputs": [],
   "source": [],
   "metadata": {
    "collapsed": false,
    "pycharm": {
     "name": "#%%\n"
    }
   }
  },
  {
   "cell_type": "code",
   "execution_count": null,
   "outputs": [],
   "source": [],
   "metadata": {
    "collapsed": false,
    "pycharm": {
     "name": "#%%\n"
    }
   }
  },
  {
   "cell_type": "code",
   "execution_count": null,
   "outputs": [],
   "source": [],
   "metadata": {
    "collapsed": false,
    "pycharm": {
     "name": "#%%\n"
    }
   }
  },
  {
   "cell_type": "code",
   "execution_count": null,
   "outputs": [],
   "source": [
    "def get_alignment(tbbt, en_subtitle, other_subtitle, results, season_id, episode_id, bias):\n",
    "    # Fetch subset located by the stage-1 alignment\n",
    "    (en_subset, zh_subset, tbbt_episode) = fetch_subsets(\n",
    "        episode=tbbt,\n",
    "        en_subtitle=en_subtitle,\n",
    "        zh_subtitle=other_subtitle,\n",
    "        results=results,\n",
    "        season_id=season_id,\n",
    "        episode_id=episode_id,\n",
    "        bias=bias\n",
    "    )\n",
    "\n",
    "    # Extend the neighbors\n",
    "    epi2sub = extend_neighbors(en_subset, turn_sub2epi_into_epi2sub(alignment_seeds[(season_id,episode_id)]), tbbt_episode)\n",
    "    epi2sub = extend_neighbors(en_subset, epi2sub, tbbt_episode)\n",
    "    epi2sub = extend_neighbors(en_subset, epi2sub, tbbt_episode)\n",
    "    epi2sub = extend_neighbors(en_subset, epi2sub, tbbt_episode)\n",
    "\n",
    "    # Extend within gap using strict string match\n",
    "    gaps, abandons = get_subset_in_gaps(epi2sub)\n",
    "    epi2sub = add_strict_match_within_gaps(gaps, epi2sub)\n",
    "\n",
    "    # Extend within gap using wer\n",
    "    gaps, abandons = get_subset_in_gaps(epi2sub)\n",
    "    epi2sub = add_wer_match_within_gaps(gaps, epi2sub, en_subset, tbbt_episode)\n",
    "\n",
    "    # Extend within gap using substring cer\n",
    "    gaps, abandons = get_subset_in_gaps(epi2sub)\n",
    "    epi2sub = add_wer_substring_match_within_gaps(gaps, epi2sub, en_subset, tbbt_episode)\n",
    "\n",
    "    # Add within the gap\n",
    "    gaps, abandons = get_subset_in_gaps(epi2sub)\n",
    "    epi2sub = add_one_size_gap(gaps, epi2sub)\n",
    "\n",
    "    # Further extend neighbors\n",
    "    epi2sub = extend_neighbors_sliding(en_subset, epi2sub, tbbt_episode)\n",
    "    epi2sub = extend_neighbors_sliding(en_subset, epi2sub, tbbt_episode)\n",
    "    epi2sub = extend_neighbors_sliding(en_subset, epi2sub, tbbt_episode)\n",
    "    epi2sub = extend_neighbors_sliding(en_subset, epi2sub, tbbt_episode)\n",
    "\n",
    "    return epi2sub"
   ],
   "metadata": {
    "collapsed": false,
    "pycharm": {
     "name": "#%%\n"
    }
   }
  },
  {
   "cell_type": "code",
   "execution_count": null,
   "outputs": [],
   "source": [
    "further_alignment = {}\n",
    "for (i, j) in alignment_seeds.keys():\n",
    "    try:\n",
    "        temp = get_alignment(tbbt_transcripts, en_subtitle, zh_subtitle, results, i, j, 200)\n",
    "        further_alignment[(i,j)] = temp\n",
    "        print(\"Season:\", i,\"Episode:\", j, \"Episode Number:\",len(temp), \"Subtitle Number:\",len(turn_sub2epi_into_epi2sub(temp)))\n",
    "    except:\n",
    "        pass"
   ],
   "metadata": {
    "collapsed": false,
    "pycharm": {
     "name": "#%%\n"
    }
   }
  },
  {
   "cell_type": "code",
   "execution_count": null,
   "outputs": [],
   "source": [
    "further_alignment = {}\n",
    "for i in tqdm(range(3)):\n",
    "    for j in tqdm(range(4)):\n",
    "        try:\n",
    "            temp = get_alignment(tbbt_transcripts, en_subtitle, zh_subtitle, alignment_seeds, i+1, j+1, 200)\n",
    "            further_alignment[(i,j)] = temp\n",
    "            print(\"Season:\", i+1,\"Episode:\", j+1, \"Episode Number:\",len(temp), \"Subtitle Number:\",len(turn_sub2epi_into_epi2sub(temp)))\n",
    "        except:\n",
    "            pass"
   ],
   "metadata": {
    "collapsed": false,
    "pycharm": {
     "name": "#%%\n"
    }
   }
  },
  {
   "cell_type": "code",
   "execution_count": null,
   "outputs": [],
   "source": [
    "with open('final_stage_alignment.pkl', 'wb') as f:\n",
    "    pkl.dump(further_alignment, f)"
   ],
   "metadata": {
    "collapsed": false,
    "pycharm": {
     "name": "#%%\n"
    }
   }
  },
  {
   "cell_type": "code",
   "execution_count": null,
   "outputs": [],
   "source": [
    "with open('final_stage_alignment.pkl', 'rb') as f:\n",
    "    further_alignment = pkl.load(f)"
   ],
   "metadata": {
    "collapsed": false,
    "pycharm": {
     "name": "#%%\n"
    }
   }
  },
  {
   "cell_type": "code",
   "execution_count": null,
   "outputs": [],
   "source": [
    "def get_sliding_window_substrings(input_string, window_size):\n",
    "    input_tokens = input_string.strip().split(' ')\n",
    "    substrings = []\n",
    "    for i in range(len(input_tokens)-3):\n",
    "        substrings.append(\" \".join(input_tokens[i: i+4]))\n",
    "    return substrings"
   ],
   "metadata": {
    "collapsed": false,
    "pycharm": {
     "name": "#%%\n"
    }
   }
  },
  {
   "cell_type": "code",
   "execution_count": null,
   "outputs": [],
   "source": [
    "def add_one_size_gap(gaps, epi2sub):\n",
    "    temp = {}\n",
    "    for gap in gaps:\n",
    "        sub_ids = gap[1]\n",
    "        epi_ids = gap[0]\n",
    "        if not(len(sub_ids)==1 and len(epi_ids)==1):\n",
    "            continue\n",
    "        sub_id = sub_ids[0]\n",
    "        epi_id = epi_ids[0]\n",
    "        if len(transformation(en_subset[sub_id]).strip().split(' '))==len(transformation(tbbt_episode[epi_id][0]).strip().split(' ')):\n",
    "            epi2sub[epi_id] = [sub_id]\n",
    "    output = {}\n",
    "    for epi_id in sorted(list(epi2sub.keys())):\n",
    "        output[epi_id] = sorted(list(set(epi2sub[epi_id])))\n",
    "    return output"
   ],
   "metadata": {
    "collapsed": false,
    "pycharm": {
     "name": "#%%\n"
    }
   }
  },
  {
   "cell_type": "code",
   "execution_count": null,
   "outputs": [],
   "source": [
    "def sliding_within_gap(gaps, epi2sub):\n",
    "    temp = {}\n",
    "    for gap in gaps:\n",
    "        sub_ids = gap[1]\n",
    "        epi_ids = gap[0]\n",
    "        for epi_id in epi_ids:\n",
    "            epi = tbbt_episode\n",
    "\n",
    "        if not(len(sub_ids)==1 and len(epi_ids)==1):\n",
    "            continue\n",
    "        sub_id = sub_ids[0]\n",
    "        epi_id = epi_ids[0]\n",
    "\n",
    "\n",
    "    output = {}\n",
    "    for epi_id in sorted(list(epi2sub.keys())):\n",
    "        output[epi_id] = sorted(list(set(epi2sub[epi_id])))\n",
    "    return output"
   ],
   "metadata": {
    "collapsed": false,
    "pycharm": {
     "name": "#%%\n"
    }
   }
  },
  {
   "cell_type": "code",
   "execution_count": null,
   "outputs": [],
   "source": [
    "\"\"\"\n",
    "Add neighbor subtitle from the utterance\n",
    "\"\"\"\n",
    "def extend_subtitles_to_episode_sliding_window(en_subset, epi2sub_alignment_2, episode):\n",
    "    temp = {}\n",
    "    for epi_id in epi2sub_alignment_2:\n",
    "        # Define episode utterance id\n",
    "        epi_id_former = epi_id - 1\n",
    "        epi_id = epi_id\n",
    "        epi_id_latter = epi_id + 1\n",
    "        epi = transformation(episode[epi_id][0])\n",
    "\n",
    "        # Define subtitle id\n",
    "        sub_id_former = min(epi2sub_alignment_2[epi_id]) - 1\n",
    "        sub_id_latter = max(epi2sub_alignment_2[epi_id]) + 1\n",
    "        sub_ids = sorted(list(epi2sub_alignment_2[epi_id]))\n",
    "\n",
    "        # Check whether subtitle nearby is in the utterance\n",
    "        sub_former = transformation(en_subset[sub_id_former])\n",
    "        sub_former_tokens = sub_former.strip().split(' ')\n",
    "        sub_former_strings = []\n",
    "        for i in range(len(sub_former_tokens)-3):\n",
    "            sub_former_strings.append(\" \".join(sub_former_tokens[i: i+4]))\n",
    "        sub_former_strings.append(sub_former)\n",
    "        for item in sub_former_strings:\n",
    "            if item in epi:\n",
    "                sub_ids.append(sub_id_former)\n",
    "                break\n",
    "\n",
    "\n",
    "        sub_latter = transformation(en_subset[sub_id_latter])\n",
    "        sub_latter_tokens = sub_latter.strip().split(' ')\n",
    "        sub_latter_strings = []\n",
    "        for i in range(len(sub_latter_tokens)-3):\n",
    "            sub_latter_strings.append(\" \".join(sub_latter_tokens[i: i+4]))\n",
    "        sub_latter_strings.append(sub_latter)\n",
    "        for item in sub_latter_strings:\n",
    "            if item in epi:\n",
    "                sub_ids.append(sub_id_latter)\n",
    "                break\n",
    "\n",
    "        temp[epi_id] = sorted(sub_ids)\n",
    "    return temp"
   ],
   "metadata": {
    "collapsed": false,
    "pycharm": {
     "name": "#%%\n"
    }
   }
  },
  {
   "cell_type": "code",
   "execution_count": null,
   "outputs": [],
   "source": [
    "\"\"\"\n",
    "Extend the former episode and latter episode near the substitle\n",
    "\"\"\"\n",
    "def extend_episodes_to_subtitle_sliding_window(en_subset, epi2sub_alignment_2, episode):\n",
    "    temp = {}\n",
    "    sub2epi = turn_sub2epi_into_epi2sub(epi2sub_alignment_2)\n",
    "\n",
    "    for sub_id in sub2epi:\n",
    "        sub = transformation(en_subset[sub_id])\n",
    "\n",
    "        # Check whether the epi nearby is in the subtitle\n",
    "        epi_id_former = min(sub2epi[sub_id])-1\n",
    "        epi_former = transformation(episode[epi_id_former][0])\n",
    "        epi_former_tokens = epi_former.strip().split(' ')\n",
    "        epi_former_strings = []\n",
    "        for i in range(len(epi_former_tokens)-3):\n",
    "            epi_former_strings.append(\" \".join(epi_former_tokens[i: i+4]))\n",
    "        epi_former_strings.append(epi_former)\n",
    "        for item in epi_former_strings:\n",
    "            if item in sub:\n",
    "                epi_ids.append(epi_id_former)\n",
    "                break\n",
    "\n",
    "\n",
    "        epi_id_latter = max(sub2epi[sub_id])+1\n",
    "        epi_latter = transformation(episode[epi_id_latter][0])\n",
    "        epi_latter_tokens = epi_latter.strip().split(' ')\n",
    "        epi_latter_strings = []\n",
    "        for i in range(len(epi_latter_tokens)-3):\n",
    "            epi_latter_strings.append(\" \".join(epi_latter_tokens[i: i+4]))\n",
    "        epi_latter_strings.append(epi_latter)\n",
    "        for item in epi_latter_strings:\n",
    "            if item in sub:\n",
    "                epi_ids.append(epi_id_latter)\n",
    "                break\n",
    "        print(epi_former_strings)\n",
    "        print(epi_latter_strings)\n",
    "        print(sub)\n",
    "        print('=='*50)\n",
    "        temp[sub_id] = sorted(epi_ids)\n",
    "    return temp"
   ],
   "metadata": {
    "collapsed": false,
    "pycharm": {
     "name": "#%%\n"
    }
   }
  },
  {
   "cell_type": "code",
   "execution_count": null,
   "outputs": [],
   "source": [
    "# Load Data\n",
    "(en_subset, zh_subset, tbbt_episode) = fetch_subsets(\n",
    "        episode=tbbt_transcripts,\n",
    "        en_subtitle=en_subtitle,\n",
    "        zh_subtitle=zh_subtitle,\n",
    "        results=results,\n",
    "        season_id=1,\n",
    "        episode_id=1,\n",
    "        bias=200\n",
    "    )\n",
    "epi2sub = alignment_seeds[(1,1)]\n",
    "print(epi2sub)\n",
    "print(len(epi2sub), len(turn_sub2epi_into_epi2sub(epi2sub)))"
   ],
   "metadata": {
    "collapsed": false,
    "pycharm": {
     "name": "#%%\n"
    }
   }
  },
  {
   "cell_type": "code",
   "execution_count": null,
   "outputs": [],
   "source": [
    "\"\"\"\n",
    "Extend the former subtitle and latter subtitle near the episode\n",
    "\"\"\"\n",
    "def extend_neighbors_episode_sliding(en_subset, epi2sub, tbbt_episode):\n",
    "    # Gather the gap of subtitle corresponding to episode utterance\n",
    "    epi_keys = sorted(list(epi2sub.keys()))\n",
    "    sub_keys = sorted(list(turn_sub2epi_into_epi2sub(epi2sub).keys()))\n",
    "\n",
    "    subtitle_gaps = {}\n",
    "    for i in range(len(epi_keys)-1):\n",
    "        epi_start = epi_keys[i]\n",
    "        epi_end = epi_keys[i+1]\n",
    "        key = (epi_start, epi_end)\n",
    "        if max(epi2sub[epi_start])+1<min(epi2sub[epi_end]):\n",
    "            subtitle_gaps[(epi_start, epi_end)] = [item for item in range(max(epi2sub[epi_start])+1, min(epi2sub[epi_end]))]\n",
    "\n",
    "    # Check whether the subtitle could be merged into utterances using sliding window\n",
    "    for start_epi_id, end_epi_id in subtitle_gaps:\n",
    "        start_epi = transformation(tbbt_episode[start_epi_id][0].replace(\"’\", \" \"))\n",
    "        end_epi = transformation(tbbt_episode[end_epi_id][0].replace(\"’\", \" \"))\n",
    "        # print(start_epi_id, start_epi)\n",
    "        # print(end_epi_id, end_epi)\n",
    "        # print('--')\n",
    "\n",
    "        for sub_id in subtitle_gaps[(start_epi_id, end_epi_id)]:\n",
    "            sub = transformation(en_subset[sub_id])\n",
    "            sub_substrings = get_sliding_window_substrings(sub, 6)\n",
    "            sub_substrings.append(sub)\n",
    "            # print(sub_id, sub)\n",
    "            # print(sub_substrings)\n",
    "            temp_start = [substring in start_epi for substring in sub_substrings]\n",
    "            signal_start = True in temp_start\n",
    "            temp_end = [substring in end_epi for substring in sub_substrings]\n",
    "            signal_end = True in temp_end\n",
    "            # print(temp_start, signal_start)\n",
    "            # print(temp_end, signal_end)\n",
    "            if signal_start==True and signal_end==True:\n",
    "                print(start_epi_id, start_epi)\n",
    "                print(end_epi_id, end_epi)\n",
    "                print(sub, \"|\", signal_start, \"|\", signal_end)\n",
    "            # print('--')\n",
    "\n",
    "        print('=='*50)\n",
    "\n",
    "extend_neighbors_episode_sliding(en_subset, epi2sub, tbbt_episode)"
   ],
   "metadata": {
    "collapsed": false,
    "pycharm": {
     "name": "#%%\n"
    }
   }
  },
  {
   "cell_type": "code",
   "execution_count": null,
   "outputs": [],
   "source": [
    "# Gather the gap of subtitle corresponding to episode utterance\n",
    "epi_keys = sorted(list(epi2sub.keys()))\n",
    "sub_keys = sorted(list(turn_sub2epi_into_epi2sub(epi2sub).keys()))\n",
    "\n",
    "subtitle_gaps = {}\n",
    "for i in range(len(epi_keys)-1):\n",
    "    epi_start = epi_keys[i]\n",
    "    epi_end = epi_keys[i+1]\n",
    "    key = (epi_start, epi_end)\n",
    "    if max(epi2sub[epi_start])+1<min(epi2sub[epi_end]):\n",
    "        subtitle_gaps[(epi_start, epi_end)] = [item for item in range(max(epi2sub[epi_start])+1, min(epi2sub[epi_end]))]\n",
    "\n",
    "\n",
    "# Check whether the subtitle could be merged into utterances using sliding window\n",
    "for start_epi_id, end_epi_id in subtitle_gaps:\n",
    "    start_epi = transformation(tbbt_episode[start_epi_id][0].replace(\"’\", \" \"))\n",
    "    end_epi = transformation(tbbt_episode[end_epi_id][0].replace(\"’\", \" \"))\n",
    "    print(start_epi_id, start_epi)\n",
    "    print(end_epi_id, end_epi)\n",
    "    print('--')\n",
    "\n",
    "    for sub_id in subtitle_gaps[(start_epi_id, end_epi_id)]:\n",
    "        sub = transformation(en_subset[sub_id])\n",
    "        sub_substrings = get_sliding_window_substrings(sub, 4)\n",
    "        sub_substrings.append(sub)\n",
    "        print(sub_id, sub)\n",
    "        print(sub_substrings)\n",
    "        temp_start = [substring in start_epi for substring in sub_substrings]\n",
    "        temp_end = [substring in end_epi for substring in sub_substrings]\n",
    "        print(temp_start)\n",
    "        print(temp_end)\n",
    "        print('--')\n",
    "\n",
    "    print('=='*50)"
   ],
   "metadata": {
    "collapsed": false,
    "pycharm": {
     "name": "#%%\n"
    }
   }
  },
  {
   "cell_type": "code",
   "execution_count": null,
   "outputs": [],
   "source": [
    "input_string = transformation(\"One across is Aegean\")\n",
    "substrings = get_sliding_window_substrings(input_string, 7)\n",
    "print(substrings)"
   ],
   "metadata": {
    "collapsed": false,
    "pycharm": {
     "name": "#%%\n"
    }
   }
  },
  {
   "cell_type": "code",
   "execution_count": null,
   "outputs": [],
   "source": [],
   "metadata": {
    "collapsed": false,
    "pycharm": {
     "name": "#%%\n"
    }
   }
  },
  {
   "cell_type": "code",
   "execution_count": null,
   "outputs": [],
   "source": [],
   "metadata": {
    "collapsed": false,
    "pycharm": {
     "name": "#%%\n"
    }
   }
  },
  {
   "cell_type": "code",
   "execution_count": null,
   "outputs": [],
   "source": [],
   "metadata": {
    "collapsed": false,
    "pycharm": {
     "name": "#%%\n"
    }
   }
  },
  {
   "cell_type": "code",
   "execution_count": null,
   "outputs": [],
   "source": [],
   "metadata": {
    "collapsed": false,
    "pycharm": {
     "name": "#%%\n"
    }
   }
  },
  {
   "cell_type": "code",
   "execution_count": null,
   "outputs": [],
   "source": [
    "# Gather the gap of subtitle corresponding to episode utterance\n",
    "epi_keys = sorted(list(epi2sub.keys()))\n",
    "sub_keys = sorted(list(turn_sub2epi_into_epi2sub(epi2sub).keys()))\n",
    "\n",
    "subtitle_gaps = {}\n",
    "for i in range(len(epi_keys)-1):\n",
    "    epi_start = epi_keys[i]\n",
    "    epi_end = epi_keys[i+1]\n",
    "    print(epi_start, epi2sub[epi_start])\n",
    "    print(epi_end, epi2sub[epi_end])\n",
    "    key = (epi_start, epi_end)\n",
    "    if max(epi2sub[epi_start])+1<min(epi2sub[epi_end]):\n",
    "        # value = (max(epi2sub[epi_start])+1, min(epi2sub[epi_end])-1)\n",
    "        value = [item for item in range(max(epi2sub[epi_start])+1, min(epi2sub[epi_end]))]\n",
    "        print(key, value)\n",
    "    else:\n",
    "        print(\"False\")\n",
    "    print()"
   ],
   "metadata": {
    "collapsed": false,
    "pycharm": {
     "name": "#%%\n"
    }
   }
  },
  {
   "cell_type": "code",
   "execution_count": null,
   "outputs": [],
   "source": [],
   "metadata": {
    "collapsed": false,
    "pycharm": {
     "name": "#%%\n"
    }
   }
  },
  {
   "cell_type": "code",
   "execution_count": null,
   "outputs": [],
   "source": [],
   "metadata": {
    "collapsed": false,
    "pycharm": {
     "name": "#%%\n"
    }
   }
  },
  {
   "cell_type": "code",
   "execution_count": null,
   "outputs": [],
   "source": [],
   "metadata": {
    "collapsed": false,
    "pycharm": {
     "name": "#%%\n"
    }
   }
  },
  {
   "cell_type": "code",
   "execution_count": null,
   "outputs": [],
   "source": [],
   "metadata": {
    "collapsed": false,
    "pycharm": {
     "name": "#%%\n"
    }
   }
  },
  {
   "cell_type": "code",
   "execution_count": null,
   "outputs": [],
   "source": [
    "# Gather the gap of subtitle corresponding to episode utterance\n",
    "epi_keys = sorted(list(epi2sub.keys()))\n",
    "sub_keys = sorted(list(turn_sub2epi_into_epi2sub(epi2sub).keys()))\n",
    "start = min(epi2sub[epi_keys[0]])\n",
    "end = max(epi2sub[epi_keys[-1]])\n",
    "for j in range(start, end+1):\n",
    "    print(j)"
   ],
   "metadata": {
    "collapsed": false,
    "pycharm": {
     "name": "#%%\n"
    }
   }
  },
  {
   "cell_type": "code",
   "execution_count": null,
   "outputs": [],
   "source": [
    "print(start, end)\n",
    "print(epi_keys)\n",
    "print(sub_keys)"
   ],
   "metadata": {
    "collapsed": false,
    "pycharm": {
     "name": "#%%\n"
    }
   }
  },
  {
   "cell_type": "code",
   "execution_count": null,
   "outputs": [],
   "source": [
    "# Extend the neighbor subtitles to episode utterance\n"
   ],
   "metadata": {
    "collapsed": false,
    "pycharm": {
     "name": "#%%\n"
    }
   }
  },
  {
   "cell_type": "code",
   "execution_count": null,
   "outputs": [],
   "source": [],
   "metadata": {
    "collapsed": false,
    "pycharm": {
     "name": "#%%\n"
    }
   }
  },
  {
   "cell_type": "code",
   "execution_count": null,
   "outputs": [],
   "source": [],
   "metadata": {
    "collapsed": false,
    "pycharm": {
     "name": "#%%\n"
    }
   }
  },
  {
   "cell_type": "code",
   "execution_count": null,
   "outputs": [],
   "source": [],
   "metadata": {
    "collapsed": false,
    "pycharm": {
     "name": "#%%\n"
    }
   }
  },
  {
   "cell_type": "code",
   "execution_count": null,
   "outputs": [],
   "source": [],
   "metadata": {
    "collapsed": false,
    "pycharm": {
     "name": "#%%\n"
    }
   }
  },
  {
   "cell_type": "code",
   "execution_count": null,
   "outputs": [],
   "source": [],
   "metadata": {
    "collapsed": false,
    "pycharm": {
     "name": "#%%\n"
    }
   }
  },
  {
   "cell_type": "code",
   "execution_count": null,
   "outputs": [],
   "source": [],
   "metadata": {
    "collapsed": false,
    "pycharm": {
     "name": "#%%\n"
    }
   }
  },
  {
   "cell_type": "code",
   "execution_count": null,
   "outputs": [],
   "source": [],
   "metadata": {
    "collapsed": false,
    "pycharm": {
     "name": "#%%\n"
    }
   }
  },
  {
   "cell_type": "code",
   "execution_count": null,
   "outputs": [],
   "source": [],
   "metadata": {
    "collapsed": false,
    "pycharm": {
     "name": "#%%\n"
    }
   }
  },
  {
   "cell_type": "code",
   "execution_count": null,
   "outputs": [],
   "source": [],
   "metadata": {
    "collapsed": false,
    "pycharm": {
     "name": "#%%\n"
    }
   }
  },
  {
   "cell_type": "code",
   "execution_count": null,
   "outputs": [],
   "source": [],
   "metadata": {
    "collapsed": false,
    "pycharm": {
     "name": "#%%\n"
    }
   }
  },
  {
   "cell_type": "code",
   "execution_count": null,
   "outputs": [],
   "source": [
    "epi2sub = extend_neighbors_sliding(en_subset, epi2sub, tbbt_episode)\n",
    "epi2sub = extend_neighbors_sliding(en_subset, epi2sub, tbbt_episode)\n",
    "epi2sub = extend_neighbors_sliding(en_subset, epi2sub, tbbt_episode)\n",
    "epi2sub = extend_neighbors_sliding(en_subset, epi2sub, tbbt_episode)\n",
    "print(epi2sub)\n",
    "print(len(epi2sub), len(turn_sub2epi_into_epi2sub(epi2sub)))"
   ],
   "metadata": {
    "collapsed": false,
    "pycharm": {
     "name": "#%%\n"
    }
   }
  },
  {
   "cell_type": "code",
   "execution_count": null,
   "outputs": [],
   "source": [
    "# Add within the gap\n",
    "gaps, abandons = get_subset_in_gaps(epi2sub)\n",
    "epi2sub = add_one_size_gap(gaps, epi2sub)\n",
    "print(epi2sub)\n",
    "print(len(epi2sub), len(turn_sub2epi_into_epi2sub(epi2sub)))"
   ],
   "metadata": {
    "collapsed": false,
    "pycharm": {
     "name": "#%%\n"
    }
   }
  },
  {
   "cell_type": "code",
   "execution_count": null,
   "outputs": [],
   "source": [
    "for x in gaps:\n",
    "    print(x)"
   ],
   "metadata": {
    "collapsed": false,
    "pycharm": {
     "name": "#%%\n"
    }
   }
  },
  {
   "cell_type": "code",
   "execution_count": null,
   "outputs": [],
   "source": [
    "count = 0\n",
    "for gap in gaps:\n",
    "    sub_ids = gap[1]\n",
    "    epi_ids = gap[0]\n",
    "    if not(len(sub_ids)==1 and len(epi_ids)==1):\n",
    "        continue\n",
    "    print(sub_ids, epi_ids)\n",
    "    print(\"Episode:\")\n",
    "    for epi_id in epi_ids:\n",
    "        print(len(transformation(tbbt_episode[epi_id][0]).strip().split(' ')), tbbt_episode[epi_id][0])\n",
    "\n",
    "    print()\n",
    "    print(\"Subtitle:\")\n",
    "    for sub_id in sub_ids:\n",
    "        print(len(transformation(en_subset[sub_id]).strip().split(' ')), en_subset[sub_id])\n",
    "\n",
    "    # if len(transformation(en_subset[sub_id]).strip().split(' '))==len(transformation(tbbt_episode[epi_id][0]).strip().split(' ')):\n",
    "    #     count += 1\n",
    "    count += 1\n",
    "    print('=='*50)"
   ],
   "metadata": {
    "collapsed": false,
    "pycharm": {
     "name": "#%%\n"
    }
   }
  },
  {
   "cell_type": "code",
   "execution_count": null,
   "outputs": [],
   "source": [],
   "metadata": {
    "collapsed": false,
    "pycharm": {
     "name": "#%%\n"
    }
   }
  },
  {
   "cell_type": "code",
   "execution_count": null,
   "outputs": [],
   "source": [],
   "metadata": {
    "collapsed": false,
    "pycharm": {
     "name": "#%%\n"
    }
   }
  },
  {
   "cell_type": "code",
   "execution_count": null,
   "outputs": [],
   "source": [],
   "metadata": {
    "collapsed": false,
    "pycharm": {
     "name": "#%%\n"
    }
   }
  },
  {
   "cell_type": "code",
   "execution_count": null,
   "outputs": [],
   "source": [],
   "metadata": {
    "collapsed": false,
    "pycharm": {
     "name": "#%%\n"
    }
   }
  },
  {
   "cell_type": "code",
   "execution_count": null,
   "outputs": [],
   "source": [],
   "metadata": {
    "collapsed": false,
    "pycharm": {
     "name": "#%%\n"
    }
   }
  },
  {
   "cell_type": "code",
   "execution_count": null,
   "outputs": [],
   "source": [
    "epi2sub = extend_neighbors_sliding(en_subset, epi2sub, tbbt_episode)\n",
    "epi2sub = extend_neighbors_sliding(en_subset, epi2sub, tbbt_episode)\n",
    "epi2sub = extend_neighbors_sliding(en_subset, epi2sub, tbbt_episode)\n",
    "epi2sub = extend_neighbors_sliding(en_subset, epi2sub, tbbt_episode)\n",
    "print(epi2sub)\n",
    "print(len(epi2sub), len(turn_sub2epi_into_epi2sub(epi2sub)))"
   ],
   "metadata": {
    "collapsed": false,
    "pycharm": {
     "name": "#%%\n"
    }
   }
  },
  {
   "cell_type": "code",
   "execution_count": null,
   "outputs": [],
   "source": [],
   "metadata": {
    "collapsed": false,
    "pycharm": {
     "name": "#%%\n"
    }
   }
  },
  {
   "cell_type": "code",
   "execution_count": null,
   "outputs": [],
   "source": [],
   "metadata": {
    "collapsed": false,
    "pycharm": {
     "name": "#%%\n"
    }
   }
  },
  {
   "cell_type": "code",
   "execution_count": null,
   "outputs": [],
   "source": [],
   "metadata": {
    "collapsed": false,
    "pycharm": {
     "name": "#%%\n"
    }
   }
  },
  {
   "cell_type": "code",
   "execution_count": null,
   "outputs": [],
   "source": [],
   "metadata": {
    "collapsed": false,
    "pycharm": {
     "name": "#%%\n"
    }
   }
  },
  {
   "cell_type": "code",
   "execution_count": null,
   "outputs": [],
   "source": [],
   "metadata": {
    "collapsed": false,
    "pycharm": {
     "name": "#%%\n"
    }
   }
  },
  {
   "cell_type": "code",
   "execution_count": null,
   "outputs": [],
   "source": [],
   "metadata": {
    "collapsed": false,
    "pycharm": {
     "name": "#%%\n"
    }
   }
  },
  {
   "cell_type": "code",
   "execution_count": null,
   "outputs": [],
   "source": [],
   "metadata": {
    "collapsed": false,
    "pycharm": {
     "name": "#%%\n"
    }
   }
  },
  {
   "cell_type": "code",
   "execution_count": null,
   "outputs": [],
   "source": [],
   "metadata": {
    "collapsed": false,
    "pycharm": {
     "name": "#%%\n"
    }
   }
  },
  {
   "cell_type": "code",
   "execution_count": null,
   "outputs": [],
   "source": [],
   "metadata": {
    "collapsed": false,
    "pycharm": {
     "name": "#%%\n"
    }
   }
  },
  {
   "cell_type": "code",
   "execution_count": null,
   "outputs": [],
   "source": [],
   "metadata": {
    "collapsed": false,
    "pycharm": {
     "name": "#%%\n"
    }
   }
  },
  {
   "cell_type": "code",
   "execution_count": null,
   "outputs": [],
   "source": [],
   "metadata": {
    "collapsed": false,
    "pycharm": {
     "name": "#%%\n"
    }
   }
  },
  {
   "cell_type": "code",
   "execution_count": null,
   "outputs": [],
   "source": [],
   "metadata": {
    "collapsed": false,
    "pycharm": {
     "name": "#%%\n"
    }
   }
  },
  {
   "cell_type": "code",
   "execution_count": null,
   "outputs": [],
   "source": [],
   "metadata": {
    "collapsed": false,
    "pycharm": {
     "name": "#%%\n"
    }
   }
  },
  {
   "cell_type": "code",
   "execution_count": null,
   "outputs": [],
   "source": [],
   "metadata": {
    "collapsed": false,
    "pycharm": {
     "name": "#%%\n"
    }
   }
  },
  {
   "cell_type": "code",
   "execution_count": null,
   "outputs": [],
   "source": [],
   "metadata": {
    "collapsed": false,
    "pycharm": {
     "name": "#%%\n"
    }
   }
  },
  {
   "cell_type": "code",
   "execution_count": null,
   "outputs": [],
   "source": [],
   "metadata": {
    "collapsed": false,
    "pycharm": {
     "name": "#%%\n"
    }
   }
  },
  {
   "cell_type": "code",
   "execution_count": null,
   "outputs": [],
   "source": [],
   "metadata": {
    "collapsed": false,
    "pycharm": {
     "name": "#%%\n"
    }
   }
  },
  {
   "cell_type": "code",
   "execution_count": null,
   "outputs": [],
   "source": [],
   "metadata": {
    "collapsed": false,
    "pycharm": {
     "name": "#%%\n"
    }
   }
  },
  {
   "cell_type": "code",
   "execution_count": null,
   "outputs": [],
   "source": [],
   "metadata": {
    "collapsed": false,
    "pycharm": {
     "name": "#%%\n"
    }
   }
  },
  {
   "cell_type": "code",
   "execution_count": null,
   "outputs": [],
   "source": [],
   "metadata": {
    "collapsed": false,
    "pycharm": {
     "name": "#%%\n"
    }
   }
  },
  {
   "cell_type": "code",
   "execution_count": null,
   "outputs": [],
   "source": [],
   "metadata": {
    "collapsed": false,
    "pycharm": {
     "name": "#%%\n"
    }
   }
  },
  {
   "cell_type": "code",
   "execution_count": null,
   "outputs": [],
   "source": [],
   "metadata": {
    "collapsed": false,
    "pycharm": {
     "name": "#%%\n"
    }
   }
  },
  {
   "cell_type": "code",
   "execution_count": null,
   "outputs": [],
   "source": [],
   "metadata": {
    "collapsed": false,
    "pycharm": {
     "name": "#%%\n"
    }
   }
  },
  {
   "cell_type": "code",
   "execution_count": null,
   "outputs": [],
   "source": [],
   "metadata": {
    "collapsed": false,
    "pycharm": {
     "name": "#%%\n"
    }
   }
  },
  {
   "cell_type": "code",
   "execution_count": null,
   "outputs": [],
   "source": [],
   "metadata": {
    "collapsed": false,
    "pycharm": {
     "name": "#%%\n"
    }
   }
  },
  {
   "cell_type": "code",
   "execution_count": 367,
   "outputs": [
    {
     "name": "stdout",
     "output_type": "stream",
     "text": [
      "[235] [23]\n",
      "Episode:\n",
      "12  I don’t know, I’ve never reneged on a proffer of sperm before.\n",
      "\n",
      "Subtitle:\n",
      "10 I've never reneged on a proffer of sperm before.\n",
      "====================================================================================================\n",
      "[241] [31]\n",
      "Episode:\n",
      "2  Not really.\n",
      "\n",
      "Subtitle:\n",
      "2 Not really.\n",
      "====================================================================================================\n",
      "[287] [83]\n",
      "Episode:\n",
      "25  Leonard, I’m not expert here but I believe in the context of a luncheon invitation, you might want to skip the reference to bowel movements.\n",
      "\n",
      "Subtitle:\n",
      "21 I'm no expert, but in the context of a lunch invitation you might wanna skip the reference to bowel movements.\n",
      "====================================================================================================\n",
      "[298] [98]\n",
      "Episode:\n",
      "1  Yeah. \n",
      "\n",
      "Subtitle:\n",
      "1 Yeah.\n",
      "====================================================================================================\n",
      "[324] [125]\n",
      "Episode:\n",
      "4  Yes I now, but…\n",
      "\n",
      "Subtitle:\n",
      "3 Yes, I know.\n",
      "====================================================================================================\n",
      "[385] [172]\n",
      "Episode:\n",
      "2  How so?\n",
      "\n",
      "Subtitle:\n",
      "3 LEONARD: How so?\n",
      "====================================================================================================\n",
      "[407] [191]\n",
      "Episode:\n",
      "2  See what?\n",
      "\n",
      "Subtitle:\n",
      "2 See what?\n",
      "====================================================================================================\n",
      "[410] [194]\n",
      "Episode:\n",
      "8  It’s before he became a creepy computer voice:.\n",
      "\n",
      "Subtitle:\n",
      "12 [IMITATING COMPUTERIZED VOICE] It's before he became a creepy computer voice.\n",
      "====================================================================================================\n",
      "[418] [202]\n",
      "Episode:\n",
      "1  Uh-huh.\n",
      "\n",
      "Subtitle:\n",
      "1 - Uh-huh.\n",
      "====================================================================================================\n",
      "[451] [229]\n",
      "Episode:\n",
      "2  Must we?\n",
      "\n",
      "Subtitle:\n",
      "2 - Must we?\n",
      "====================================================================================================\n",
      "[459] [233]\n",
      "Episode:\n",
      "2  Which is?\n",
      "\n",
      "Subtitle:\n",
      "2 - Which is?\n",
      "====================================================================================================\n",
      "[482] [251]\n",
      "Episode:\n",
      "1  Yeah.\n",
      "\n",
      "Subtitle:\n",
      "2 MAN: Yeah?\n",
      "====================================================================================================\n",
      "[486] [255]\n",
      "Episode:\n",
      "2  Get lost.\n",
      "\n",
      "Subtitle:\n",
      "2 - Get lost.\n",
      "====================================================================================================\n",
      "[528] [292]\n",
      "Episode:\n",
      "1  Smooth.\n",
      "\n",
      "Subtitle:\n",
      "1 Smooth.\n",
      "====================================================================================================\n",
      "[547] [308]\n",
      "Episode:\n",
      "1  So?\n",
      "\n",
      "Subtitle:\n",
      "5 - It would be gastronomically redundant.\n",
      "====================================================================================================\n"
     ]
    }
   ],
   "source": [
    "count = 0\n",
    "for gap in gaps:\n",
    "    sub_ids = gap[1]\n",
    "    epi_ids = gap[0]\n",
    "    if not(len(sub_ids)==1 and len(epi_ids)==1):\n",
    "        continue\n",
    "    print(sub_ids, epi_ids)\n",
    "    print(\"Episode:\")\n",
    "    for epi_id in epi_ids:\n",
    "        print(len(transformation(tbbt_episode[epi_id][0]).strip().split(' ')), tbbt_episode[epi_id][0])\n",
    "\n",
    "    print()\n",
    "    print(\"Subtitle:\")\n",
    "    for sub_id in sub_ids:\n",
    "        print(len(transformation(en_subset[sub_id]).strip().split(' ')), en_subset[sub_id])\n",
    "\n",
    "    # if len(transformation(en_subset[sub_id]).strip().split(' '))==len(transformation(tbbt_episode[epi_id][0]).strip().split(' ')):\n",
    "    #     count += 1\n",
    "    count += 1\n",
    "    print('=='*50)"
   ],
   "metadata": {
    "collapsed": false,
    "pycharm": {
     "name": "#%%\n"
    }
   }
  },
  {
   "cell_type": "code",
   "execution_count": null,
   "outputs": [],
   "source": [],
   "metadata": {
    "collapsed": false,
    "pycharm": {
     "name": "#%%\n"
    }
   }
  },
  {
   "cell_type": "code",
   "execution_count": null,
   "outputs": [],
   "source": [],
   "metadata": {
    "collapsed": false,
    "pycharm": {
     "name": "#%%\n"
    }
   }
  },
  {
   "cell_type": "code",
   "execution_count": null,
   "outputs": [],
   "source": [],
   "metadata": {
    "collapsed": false,
    "pycharm": {
     "name": "#%%\n"
    }
   }
  },
  {
   "cell_type": "code",
   "execution_count": null,
   "outputs": [],
   "source": [],
   "metadata": {
    "collapsed": false,
    "pycharm": {
     "name": "#%%\n"
    }
   }
  },
  {
   "cell_type": "code",
   "execution_count": null,
   "outputs": [],
   "source": [],
   "metadata": {
    "collapsed": false,
    "pycharm": {
     "name": "#%%\n"
    }
   }
  },
  {
   "cell_type": "code",
   "execution_count": 503,
   "outputs": [
    {
     "name": "stdout",
     "output_type": "stream",
     "text": [
      "{(1, 2): {168: [2], 169: [3], 170: [4], 171: [5], 172: [6], 173: [7], 174: [7], 175: [8], 176: [9], 177: [9], 178: [11], 179: [12], 180: [14], 181: [15], 182: [16], 183: [17], 184: [17], 185: [18], 186: [19], 187: [20], 188: [20], 190: [22], 191: [22], 192: [24], 193: [25], 194: [26], 195: [27], 196: [28], 200: [31], 201: [32], 202: [33], 204: [35], 205: [36], 206: [36], 208: [39], 209: [40], 210: [40], 211: [41], 212: [42], 213: [42], 214: [42], 215: [44], 216: [45], 217: [46], 218: [46], 219: [46], 220: [46], 221: [47], 222: [48], 223: [48], 224: [48], 225: [48], 226: [49], 231: [52], 232: [53], 233: [54], 234: [54], 235: [55], 236: [55], 237: [56], 240: [57], 241: [57], 242: [58], 243: [60], 245: [61], 246: [61], 250: [62], 251: [63], 252: [64], 253: [65], 254: [65], 255: [65], 260: [68], 263: [70], 264: [71], 265: [72], 266: [73], 267: [74], 268: [74], 273: [77], 274: [77], 278: [80, 81], 279: [80, 81], 280: [81], 282: [81], 283: [81], 284: [82], 285: [82], 287: [84], 288: [84], 289: [86], 290: [88], 291: [90], 292: [91], 293: [92], 294: [93], 295: [93], 296: [94], 297: [97], 298: [97, 98], 299: [97, 99], 300: [100], 303: [103], 305: [105], 306: [105], 307: [108], 310: [109], 311: [111, 112], 312: [112], 313: [113], 314: [114], 315: [115], 316: [116], 317: [117], 318: [118], 319: [118], 320: [119], 321: [119], 322: [120], 323: [121, 123], 324: [123], 325: [123], 327: [128], 329: [129], 330: [132], 331: [133], 332: [133], 334: [134], 335: [136], 336: [137], 338: [139], 339: [140], 340: [141, 142], 341: [141, 142], 342: [143], 343: [143], 344: [143], 345: [143], 346: [146], 347: [147], 348: [148], 351: [151], 353: [153], 354: [154], 355: [155], 356: [157], 357: [158], 358: [159], 363: [161], 364: [162], 365: [164], 366: [164], 367: [164], 368: [166], 370: [167], 371: [167], 372: [167], 373: [168], 374: [169], 376: [171], 377: [171], 378: [173], 379: [173], 380: [173], 381: [174], 382: [174], 383: [174], 384: [174], 385: [175], 386: [175], 387: [175], 388: [176], 390: [176], 391: [176], 392: [177], 393: [177], 394: [177], 395: [177], 397: [178], 398: [179], 399: [180], 400: [181], 402: [182], 403: [183], 404: [184], 405: [185], 406: [186], 408: [188], 409: [189], 410: [190], 411: [191], 412: [191], 413: [192], 414: [192], 415: [193], 416: [193], 417: [193], 418: [194], 419: [197], 421: [198], 422: [198], 423: [198], 424: [198], 426: [202], 427: [203], 428: [205], 429: [205], 430: [205], 431: [206], 432: [207], 433: [207], 434: [208], 435: [210], 436: [210], 437: [211], 440: [213], 441: [214], 442: [215], 445: [218], 446: [218], 447: [218], 448: [219], 452: [221], 455: [222], 456: [223], 458: [225], 460: [226], 467: [232]}}\n"
     ]
    }
   ],
   "source": [
    "print(alignment)"
   ],
   "metadata": {
    "collapsed": false,
    "pycharm": {
     "name": "#%%\n"
    }
   }
  },
  {
   "cell_type": "code",
   "execution_count": 312,
   "outputs": [],
   "source": [],
   "metadata": {
    "collapsed": false,
    "pycharm": {
     "name": "#%%\n"
    }
   }
  },
  {
   "cell_type": "code",
   "execution_count": 312,
   "outputs": [],
   "source": [],
   "metadata": {
    "collapsed": false,
    "pycharm": {
     "name": "#%%\n"
    }
   }
  },
  {
   "cell_type": "code",
   "execution_count": 312,
   "outputs": [],
   "source": [],
   "metadata": {
    "collapsed": false,
    "pycharm": {
     "name": "#%%\n"
    }
   }
  },
  {
   "cell_type": "code",
   "execution_count": null,
   "outputs": [],
   "source": [],
   "metadata": {
    "collapsed": false,
    "pycharm": {
     "name": "#%%\n"
    }
   }
  },
  {
   "cell_type": "code",
   "execution_count": null,
   "outputs": [],
   "source": [],
   "metadata": {
    "collapsed": false,
    "pycharm": {
     "name": "#%%\n"
    }
   }
  },
  {
   "cell_type": "code",
   "execution_count": null,
   "outputs": [],
   "source": [],
   "metadata": {
    "collapsed": false,
    "pycharm": {
     "name": "#%%\n"
    }
   }
  },
  {
   "cell_type": "code",
   "execution_count": null,
   "outputs": [],
   "source": [],
   "metadata": {
    "collapsed": false,
    "pycharm": {
     "name": "#%%\n"
    }
   }
  },
  {
   "cell_type": "code",
   "execution_count": null,
   "outputs": [],
   "source": [],
   "metadata": {
    "collapsed": false,
    "pycharm": {
     "name": "#%%\n"
    }
   }
  },
  {
   "cell_type": "code",
   "execution_count": null,
   "outputs": [],
   "source": [],
   "metadata": {
    "collapsed": false,
    "pycharm": {
     "name": "#%%\n"
    }
   }
  },
  {
   "cell_type": "code",
   "execution_count": null,
   "outputs": [],
   "source": [],
   "metadata": {
    "collapsed": false,
    "pycharm": {
     "name": "#%%\n"
    }
   }
  },
  {
   "cell_type": "code",
   "execution_count": null,
   "outputs": [],
   "source": [],
   "metadata": {
    "collapsed": false,
    "pycharm": {
     "name": "#%%\n"
    }
   }
  },
  {
   "cell_type": "code",
   "execution_count": null,
   "outputs": [],
   "source": [],
   "metadata": {
    "collapsed": false,
    "pycharm": {
     "name": "#%%\n"
    }
   }
  },
  {
   "cell_type": "code",
   "execution_count": null,
   "outputs": [],
   "source": [],
   "metadata": {
    "collapsed": false,
    "pycharm": {
     "name": "#%%\n"
    }
   }
  },
  {
   "cell_type": "code",
   "execution_count": null,
   "outputs": [],
   "source": [],
   "metadata": {
    "collapsed": false,
    "pycharm": {
     "name": "#%%\n"
    }
   }
  },
  {
   "cell_type": "code",
   "execution_count": null,
   "outputs": [],
   "source": [],
   "metadata": {
    "collapsed": false,
    "pycharm": {
     "name": "#%%\n"
    }
   }
  },
  {
   "cell_type": "code",
   "execution_count": null,
   "outputs": [],
   "source": [],
   "metadata": {
    "collapsed": false,
    "pycharm": {
     "name": "#%%\n"
    }
   }
  },
  {
   "cell_type": "code",
   "execution_count": null,
   "outputs": [],
   "source": [],
   "metadata": {
    "collapsed": false,
    "pycharm": {
     "name": "#%%\n"
    }
   }
  },
  {
   "cell_type": "code",
   "execution_count": null,
   "outputs": [],
   "source": [],
   "metadata": {
    "collapsed": false,
    "pycharm": {
     "name": "#%%\n"
    }
   }
  },
  {
   "cell_type": "code",
   "execution_count": null,
   "outputs": [],
   "source": [],
   "metadata": {
    "collapsed": false,
    "pycharm": {
     "name": "#%%\n"
    }
   }
  },
  {
   "cell_type": "code",
   "execution_count": null,
   "outputs": [],
   "source": [],
   "metadata": {
    "collapsed": false,
    "pycharm": {
     "name": "#%%\n"
    }
   }
  },
  {
   "cell_type": "code",
   "execution_count": 17,
   "outputs": [],
   "source": [
    "def temp_string_match_sliding_window(en_subset, episode, window_size=5):\n",
    "    res = {}\n",
    "    for i, subtitle in enumerate(en_subset):\n",
    "        subtitle = transformation(subtitle)\n",
    "        subtitle_tokens = subtitle.strip().split(\" \")\n",
    "        if len(subtitle_tokens) < window_size:\n",
    "            continue\n",
    "\n",
    "        subtitle_segments = []\n",
    "        for j in range(len(subtitle_tokens) - window_size):\n",
    "            subtitle_segments.append(\" \".join(subtitle_tokens[j: j + window_size]))\n",
    "            # print(\" \".join(subtitle_tokens[j: j+5]))\n",
    "\n",
    "        for j, (utt, speaker) in enumerate(episode):\n",
    "            utt = transformation(utt)\n",
    "            for sub_seg in subtitle_segments:\n",
    "                if sub_seg in utt:\n",
    "                    if i not in res:\n",
    "                        res[i] = set()\n",
    "                        res[i].add(j)\n",
    "                    else:\n",
    "                        res[i].add(j)\n",
    "\n",
    "    temp = filter_alignment_by_gap(res)\n",
    "\n",
    "    final = {}\n",
    "    for x in temp:\n",
    "        if len(temp[x])==1:\n",
    "            final[x] = temp[x]\n",
    "\n",
    "    return final"
   ],
   "metadata": {
    "collapsed": false,
    "pycharm": {
     "name": "#%%\n"
    }
   }
  },
  {
   "cell_type": "code",
   "execution_count": 24,
   "outputs": [],
   "source": [
    "def temp_string_match_sliding_window_no_filter(en_subset, episode, window_size=5):\n",
    "    res = {}\n",
    "    for i, subtitle in enumerate(en_subset):\n",
    "        subtitle = transformation(subtitle)\n",
    "        subtitle_tokens = subtitle.strip().split(\" \")\n",
    "        if len(subtitle_tokens) < window_size:\n",
    "            continue\n",
    "\n",
    "        subtitle_segments = []\n",
    "        for j in range(len(subtitle_tokens) - window_size):\n",
    "            subtitle_segments.append(\" \".join(subtitle_tokens[j: j + window_size]))\n",
    "            # print(\" \".join(subtitle_tokens[j: j+5]))\n",
    "\n",
    "        for j, (utt, speaker) in enumerate(episode):\n",
    "            utt = transformation(utt)\n",
    "            for sub_seg in subtitle_segments:\n",
    "                if sub_seg in utt:\n",
    "                    if i not in res:\n",
    "                        res[i] = set()\n",
    "                        res[i].add(j)\n",
    "                    else:\n",
    "                        res[i].add(j)\n",
    "    return res"
   ],
   "metadata": {
    "collapsed": false,
    "pycharm": {
     "name": "#%%\n"
    }
   }
  },
  {
   "cell_type": "code",
   "execution_count": 15,
   "outputs": [],
   "source": [
    "# Check one episode and adapt to the new tbbt transcript corpus\n",
    "\n",
    "(en_subset, zh_subset, tbbt_episode) = fetch_subsets(\n",
    "        episode=tbbt_transcripts,\n",
    "        en_subtitle=en_subtitle,\n",
    "        zh_subtitle=zh_subtitle,\n",
    "        results=results,\n",
    "        season_id=1,\n",
    "        episode_id=3,\n",
    "        bias=200\n",
    "    )"
   ],
   "metadata": {
    "collapsed": false,
    "pycharm": {
     "name": "#%%\n"
    }
   }
  },
  {
   "cell_type": "code",
   "execution_count": 60,
   "outputs": [
    {
     "name": "stdout",
     "output_type": "stream",
     "text": [
      "155 120\n",
      "112 91\n",
      "81 68\n"
     ]
    }
   ],
   "source": [
    "# Firstly perform exact match\n",
    "sub2epi = temp_string_match_sliding_window_no_filter(en_subset, tbbt_episode, window_size=5)\n",
    "epi2sub = turn_sub2epi_into_epi2sub(sub2epi)\n",
    "print(len(sub2epi), len(epi2sub))\n",
    "\n",
    "sub2epi = temp_string_match_sliding_window_no_filter(en_subset, tbbt_episode, window_size=6)\n",
    "epi2sub = turn_sub2epi_into_epi2sub(sub2epi)\n",
    "print(len(sub2epi), len(epi2sub))\n",
    "\n",
    "sub2epi = temp_string_match_sliding_window_no_filter(en_subset, tbbt_episode, window_size=7)\n",
    "epi2sub = turn_sub2epi_into_epi2sub(sub2epi)\n",
    "print(len(sub2epi), len(epi2sub))"
   ],
   "metadata": {
    "collapsed": false,
    "pycharm": {
     "name": "#%%\n"
    }
   }
  },
  {
   "cell_type": "code",
   "execution_count": 58,
   "outputs": [
    {
     "name": "stdout",
     "output_type": "stream",
     "text": [
      "95 72\n",
      "6 5\n",
      "4 4\n"
     ]
    }
   ],
   "source": [
    "# Firstly perform exact match\n",
    "sub2epi = temp_string_match_sliding_window(en_subset, tbbt_episode, window_size=5)\n",
    "epi2sub = turn_sub2epi_into_epi2sub(sub2epi)\n",
    "print(len(sub2epi), len(epi2sub))\n",
    "\n",
    "sub2epi = temp_string_match_sliding_window(en_subset, tbbt_episode, window_size=6)\n",
    "epi2sub = turn_sub2epi_into_epi2sub(sub2epi)\n",
    "print(len(sub2epi), len(epi2sub))\n",
    "\n",
    "sub2epi = temp_string_match_sliding_window(en_subset, tbbt_episode, window_size=7)\n",
    "epi2sub = turn_sub2epi_into_epi2sub(sub2epi)\n",
    "print(len(sub2epi), len(epi2sub))"
   ],
   "metadata": {
    "collapsed": false,
    "pycharm": {
     "name": "#%%\n"
    }
   }
  },
  {
   "cell_type": "code",
   "execution_count": 42,
   "outputs": [
    {
     "name": "stdout",
     "output_type": "stream",
     "text": [
      "191 [2]\n",
      "192 [2]\n",
      "194 [5]\n",
      "196 [6]\n",
      "197 [7]\n",
      "208 [15]\n",
      "221 [26]\n",
      "227 [30]\n",
      "229 [31]\n",
      "231 [34]\n",
      "233 [36]\n",
      "236 [38]\n",
      "242 [42]\n",
      "245 [44]\n",
      "258 [53]\n",
      "260 [54]\n",
      "263 [57]\n",
      "264 [58]\n",
      "265 [58]\n",
      "267 [59]\n",
      "271 [62]\n",
      "274 [64]\n",
      "275 [65]\n",
      "279 [68]\n",
      "280 [68]\n",
      "284 [74, 72]\n",
      "286 [74, 72]\n",
      "287 [75]\n",
      "288 [76]\n",
      "289 [76]\n",
      "291 [78]\n",
      "293 [79]\n",
      "294 [80]\n",
      "295 [80]\n",
      "296 [80]\n",
      "297 [81]\n",
      "299 [83]\n",
      "304 [89]\n",
      "306 [91]\n",
      "307 [92]\n",
      "313 [98]\n",
      "314 [99]\n",
      "315 [100]\n",
      "317 [101]\n",
      "318 [102]\n",
      "320 [103]\n",
      "321 [105]\n",
      "327 [111]\n",
      "328 [112]\n",
      "329 [112]\n",
      "331 [113]\n",
      "334 [115]\n",
      "335 [115]\n",
      "344 [120]\n",
      "345 [120]\n",
      "347 [121]\n",
      "350 [123]\n",
      "351 [124]\n",
      "356 [127]\n",
      "358 [128]\n",
      "359 [128]\n",
      "365 [131]\n",
      "370 [134]\n",
      "372 [136]\n",
      "373 [136]\n",
      "374 [136]\n",
      "377 [138]\n",
      "379 [141]\n",
      "381 [143]\n",
      "383 [144]\n",
      "384 [144]\n",
      "386 [144]\n",
      "398 [158]\n",
      "400 [160]\n",
      "403 [163]\n",
      "405 [165]\n",
      "406 [166]\n",
      "408 [168]\n",
      "412 [171]\n",
      "413 [171]\n",
      "416 [171]\n",
      "418 [171]\n",
      "427 [175]\n",
      "431 [180]\n",
      "435 [182]\n",
      "437 [183]\n",
      "438 [183]\n",
      "442 [189]\n",
      "444 [190]\n",
      "450 [196]\n",
      "452 [197]\n",
      "453 [198]\n",
      "455 [201]\n",
      "458 [205]\n",
      "459 [205]\n",
      "463 [208]\n",
      "467 [211]\n",
      "471 [214]\n",
      "473 [215]\n",
      "474 [215]\n",
      "477 [217]\n",
      "479 [218]\n",
      "481 [219]\n",
      "486 [222]\n",
      "490 [226]\n",
      "499 [236]\n",
      "500 [237]\n",
      "505 [241]\n",
      "507 [242]\n",
      "509 [244]\n",
      "512 [244]\n",
      "515 [247]\n"
     ]
    }
   ],
   "source": [
    "temp = sub2epi\n",
    "sub2epi = {}\n",
    "for x in sorted(list(temp.keys())):\n",
    "    sub2epi[x+2] = [item+2 for item in temp[x]]\n",
    "for x in sub2epi:\n",
    "    print(x, sub2epi[x])"
   ],
   "metadata": {
    "collapsed": false,
    "pycharm": {
     "name": "#%%\n"
    }
   }
  },
  {
   "cell_type": "code",
   "execution_count": 43,
   "outputs": [
    {
     "name": "stdout",
     "output_type": "stream",
     "text": [
      "2 [191, 192]\n",
      "5 [194]\n",
      "6 [196]\n",
      "7 [197]\n",
      "15 [208]\n",
      "26 [221]\n",
      "30 [227]\n",
      "31 [229]\n",
      "34 [231]\n",
      "36 [233]\n",
      "38 [236]\n",
      "42 [242]\n",
      "44 [245]\n",
      "53 [258]\n",
      "54 [260]\n",
      "57 [263]\n",
      "58 [264, 265]\n",
      "59 [267]\n",
      "62 [271]\n",
      "64 [274]\n",
      "65 [275]\n",
      "68 [279, 280]\n",
      "72 [284, 286]\n",
      "74 [284, 286]\n",
      "75 [287]\n",
      "76 [288, 289]\n",
      "78 [291]\n",
      "79 [293]\n",
      "80 [294, 295, 296]\n",
      "81 [297]\n",
      "83 [299]\n",
      "89 [304]\n",
      "91 [306]\n",
      "92 [307]\n",
      "98 [313]\n",
      "99 [314]\n",
      "100 [315]\n",
      "101 [317]\n",
      "102 [318]\n",
      "103 [320]\n",
      "105 [321]\n",
      "111 [327]\n",
      "112 [328, 329]\n",
      "113 [331]\n",
      "115 [334, 335]\n",
      "120 [344, 345]\n",
      "121 [347]\n",
      "123 [350]\n",
      "124 [351]\n",
      "127 [356]\n",
      "128 [358, 359]\n",
      "131 [365]\n",
      "134 [370]\n",
      "136 [372, 373, 374]\n",
      "138 [377]\n",
      "141 [379]\n",
      "143 [381]\n",
      "144 [383, 384, 386]\n",
      "158 [398]\n",
      "160 [400]\n",
      "163 [403]\n",
      "165 [405]\n",
      "166 [406]\n",
      "168 [408]\n",
      "171 [412, 413, 416, 418]\n",
      "175 [427]\n",
      "180 [431]\n",
      "182 [435]\n",
      "183 [437, 438]\n",
      "189 [442]\n",
      "190 [444]\n",
      "196 [450]\n",
      "197 [452]\n",
      "198 [453]\n",
      "201 [455]\n",
      "205 [458, 459]\n",
      "208 [463]\n",
      "211 [467]\n",
      "214 [471]\n",
      "215 [473, 474]\n",
      "217 [477]\n",
      "218 [479]\n",
      "219 [481]\n",
      "222 [486]\n",
      "226 [490]\n",
      "236 [499]\n",
      "237 [500]\n",
      "241 [505]\n",
      "242 [507]\n",
      "244 [509, 512]\n",
      "247 [515]\n"
     ]
    }
   ],
   "source": [
    "temp = epi2sub\n",
    "epi2sub = {}\n",
    "for x in sorted(list(temp.keys())):\n",
    "    epi2sub[x+2] = [item+2 for item in temp[x]]\n",
    "\n",
    "for x in epi2sub:\n",
    "    print(x, epi2sub[x])"
   ],
   "metadata": {
    "collapsed": false,
    "pycharm": {
     "name": "#%%\n"
    }
   }
  },
  {
   "cell_type": "code",
   "execution_count": 44,
   "outputs": [
    {
     "name": "stdout",
     "output_type": "stream",
     "text": [
      "112\n",
      "91\n"
     ]
    }
   ],
   "source": [
    "print(len(sub2epi))\n",
    "print(len(epi2sub))"
   ],
   "metadata": {
    "collapsed": false,
    "pycharm": {
     "name": "#%%\n"
    }
   }
  },
  {
   "cell_type": "code",
   "execution_count": null,
   "outputs": [],
   "source": [],
   "metadata": {
    "collapsed": false,
    "pycharm": {
     "name": "#%%\n"
    }
   }
  },
  {
   "cell_type": "code",
   "execution_count": 8,
   "outputs": [],
   "source": [
    "def look_alignment(tbbt, en_subtitle, other_subtitle, alignment, season_id, episode_id, bias):\n",
    "    # Fetch subset located by the stage-1 alignment\n",
    "    (en_subset, zh_subset, tbbt_episode) = fetch_subsets(\n",
    "        episode=tbbt,\n",
    "        en_subtitle=en_subtitle,\n",
    "        zh_subtitle=other_subtitle,\n",
    "        results=alignment,\n",
    "        season_id=season_id,\n",
    "        episode_id=episode_id,\n",
    "        bias=bias\n",
    "    )\n",
    "\n",
    "    temp = []\n",
    "\n",
    "    # Perform string match with sliding window\n",
    "    count = 0\n",
    "    sub2epi = string_match_sliding_window(en_subset, tbbt_episode, 5)\n",
    "    epi2sub = turn_sub2epi_into_epi2sub(sub2epi)\n",
    "    temp.append(epi2sub)\n",
    "    # print(epi2sub)\n",
    "    # print(\"Episode Number:\", len(epi2sub), \"Subtitle Number:\", len(sub2epi))\n",
    "    # print(\"==\"*50)\n",
    "\n",
    "\n",
    "    # Extend the neighbors\n",
    "    epi2sub = extend_neighbors(en_subset, epi2sub, tbbt_episode)\n",
    "    sub2epi = turn_sub2epi_into_epi2sub(epi2sub)\n",
    "    temp.append(epi2sub)\n",
    "    # print(epi2sub)\n",
    "    # print(\"Episode Number:\", len(epi2sub), \"Subtitle Number:\", len(sub2epi))\n",
    "    # print(\"==\"*50)\n",
    "\n",
    "\n",
    "    # Perform exact match and add it to the whole alignment\n",
    "    exact_match_result = exact_match(en_subset, tbbt_episode)\n",
    "    sub2epi = add_cleaned_exact_match_result(sub2epi, exact_match_result)\n",
    "    epi2sub = turn_sub2epi_into_epi2sub(sub2epi)\n",
    "    temp.append(epi2sub)\n",
    "    # print(epi2sub)\n",
    "    # print(\"Episode Number:\", len(epi2sub), \"Subtitle Number:\", len(sub2epi))\n",
    "    # print(\"==\"*50)\n",
    "\n",
    "\n",
    "    # Extend the gap\n",
    "    sub2epi = full_fill_gap(sub2epi)\n",
    "    epi2sub = turn_sub2epi_into_epi2sub(sub2epi)\n",
    "    temp.append(epi2sub)\n",
    "\n",
    "    # Extend the neighbors\n",
    "    epi2sub = extend_neighbors(en_subset, epi2sub, tbbt_episode)\n",
    "    sub2epi = turn_sub2epi_into_epi2sub(epi2sub)\n",
    "    temp.append(epi2sub)\n",
    "\n",
    "    return temp"
   ],
   "metadata": {
    "collapsed": false,
    "pycharm": {
     "name": "#%%\n"
    }
   }
  },
  {
   "cell_type": "code",
   "execution_count": 9,
   "outputs": [
    {
     "name": "stderr",
     "output_type": "stream",
     "text": [
      "  0%|          | 0/2 [00:00<?, ?it/s]\n",
      "  0%|          | 0/4 [00:00<?, ?it/s]\u001B[A\n",
      " 25%|██▌       | 1/4 [00:29<01:27, 29.08s/it]\u001B[A\n",
      " 50%|█████     | 2/4 [00:43<00:41, 20.61s/it]\u001B[A\n",
      " 75%|███████▌  | 3/4 [00:58<00:17, 17.78s/it]\u001B[A\n",
      "100%|██████████| 4/4 [01:09<00:00, 17.45s/it]\u001B[A\n",
      " 50%|█████     | 1/2 [01:09<01:09, 69.81s/it]\n",
      "  0%|          | 0/4 [00:00<?, ?it/s]\u001B[A\n",
      " 25%|██▌       | 1/4 [00:13<00:39, 13.30s/it]\u001B[A\n",
      " 50%|█████     | 2/4 [00:30<00:31, 15.66s/it]\u001B[A\n",
      " 75%|███████▌  | 3/4 [00:43<00:14, 14.20s/it]\u001B[A\n",
      "100%|██████████| 4/4 [00:57<00:00, 14.41s/it]\u001B[A\n",
      "100%|██████████| 2/2 [02:07<00:00, 63.73s/it]\n"
     ]
    }
   ],
   "source": [
    "further_alignment = {}\n",
    "for i in tqdm(range(2)):\n",
    "    for j in tqdm(range(4)):\n",
    "        try:\n",
    "            temp = look_alignment(tbbt_transcripts, en_subtitle, zh_subtitle, results, i+1, j+1, 200)\n",
    "            further_alignment[(i,j)] = temp\n",
    "            print(\"Season:\", i+1,\"Episode:\", j+1, \"Episode Number:\",len(temp), \"Subtitle Number:\",len(turn_sub2epi_into_epi2sub(temp)))\n",
    "        except:\n",
    "            pass"
   ],
   "metadata": {
    "collapsed": false,
    "pycharm": {
     "name": "#%%\n"
    }
   }
  },
  {
   "cell_type": "code",
   "execution_count": 10,
   "outputs": [
    {
     "name": "stdout",
     "output_type": "stream",
     "text": [
      "(0, 0) 133 133 171 171\n",
      "(0, 1) 109 109 130 130\n",
      "(0, 2) 72 72 90 90\n",
      "(0, 3) 112 112 134 134\n",
      "(1, 0) 1 1 1 1\n",
      "(1, 1) 84 84 104 104\n",
      "(1, 2) 113 113 135 135\n",
      "(1, 3) 124 124 159 159\n"
     ]
    }
   ],
   "source": [
    "for x in further_alignment:\n",
    "    print(x, len(further_alignment[x][0]), len(further_alignment[x][1]),len(further_alignment[x][2]),len(further_alignment[x][3]))"
   ],
   "metadata": {
    "collapsed": false,
    "pycharm": {
     "name": "#%%\n"
    }
   }
  },
  {
   "cell_type": "code",
   "execution_count": 14,
   "outputs": [],
   "source": [
    "with open('further_alignment.pkl', 'rb') as f:\n",
    "    alignment = pkl.load(f)"
   ],
   "metadata": {
    "collapsed": false,
    "pycharm": {
     "name": "#%%\n"
    }
   }
  },
  {
   "cell_type": "code",
   "execution_count": 11,
   "outputs": [],
   "source": [
    "alignment = further_alignment"
   ],
   "metadata": {
    "collapsed": false,
    "pycharm": {
     "name": "#%%\n"
    }
   }
  },
  {
   "cell_type": "code",
   "execution_count": 12,
   "outputs": [
    {
     "name": "stdout",
     "output_type": "stream",
     "text": [
      "(0, 0) 133 133 171 171\n",
      "(0, 1) 109 109 130 130\n",
      "(0, 2) 72 72 90 90\n",
      "(0, 3) 112 112 134 134\n",
      "(1, 0) 1 1 1 1\n",
      "(1, 1) 84 84 104 104\n",
      "(1, 2) 113 113 135 135\n",
      "(1, 3) 124 124 159 159\n"
     ]
    }
   ],
   "source": [
    "for x in alignment:\n",
    "    print(x, len(alignment[x][0]), len(alignment[x][1]),len(alignment[x][2]),len(alignment[x][3]))"
   ],
   "metadata": {
    "collapsed": false,
    "pycharm": {
     "name": "#%%\n"
    }
   }
  },
  {
   "cell_type": "code",
   "execution_count": 47,
   "outputs": [
    {
     "name": "stdout",
     "output_type": "stream",
     "text": [
      "{2: [191, 192], 5: [194], 6: [196], 7: [197], 15: [208], 26: [221], 30: [227], 31: [229], 34: [231], 36: [233], 38: [236], 42: [242], 44: [245], 53: [258], 54: [260], 57: [263], 58: [264, 265], 59: [267], 62: [271], 64: [274], 65: [275], 68: [279, 280], 72: [284, 286], 74: [284, 286], 75: [287], 76: [288, 289], 78: [291], 79: [293], 80: [294, 295, 296], 81: [297], 83: [299], 89: [304], 91: [306], 92: [307], 98: [313], 99: [314], 100: [315], 101: [317], 102: [318], 103: [320], 105: [321], 111: [327], 112: [328, 329], 113: [331], 115: [334, 335], 120: [344, 345], 121: [347], 123: [350], 124: [351], 127: [356], 128: [358, 359], 131: [365], 134: [370], 136: [372, 373, 374], 138: [377], 141: [379], 143: [381], 144: [383, 384, 386], 158: [398], 160: [400], 163: [403], 165: [405], 166: [406], 168: [408], 171: [412, 413, 416, 418], 175: [427], 180: [431], 182: [435], 183: [437, 438], 189: [442], 190: [444], 196: [450], 197: [452], 198: [453], 201: [455], 205: [458, 459], 208: [463], 211: [467], 214: [471], 215: [473, 474], 217: [477], 218: [479], 219: [481], 222: [486], 226: [490], 236: [499], 237: [500], 241: [505], 242: [507], 244: [509, 512], 247: [515]}\n"
     ]
    }
   ],
   "source": [
    "print(epi2sub)"
   ],
   "metadata": {
    "collapsed": false,
    "pycharm": {
     "name": "#%%\n"
    }
   }
  },
  {
   "cell_type": "code",
   "execution_count": 244,
   "outputs": [],
   "source": [
    "alignment = alignment_seeds"
   ],
   "metadata": {
    "collapsed": false,
    "pycharm": {
     "name": "#%%\n"
    }
   }
  },
  {
   "cell_type": "code",
   "execution_count": 248,
   "outputs": [
    {
     "name": "stdout",
     "output_type": "stream",
     "text": [
      "(1, 1)\n",
      "(1, 2)\n",
      "(1, 3)\n",
      "(1, 4)\n",
      "(1, 5)\n",
      "(1, 6)\n",
      "(1, 7)\n",
      "(1, 8)\n",
      "(1, 9)\n",
      "(1, 10)\n",
      "(1, 11)\n",
      "(1, 12)\n",
      "(1, 13)\n",
      "(1, 14)\n",
      "(1, 15)\n",
      "(1, 16)\n",
      "(2, 1)\n",
      "(2, 2)\n",
      "(2, 3)\n",
      "(2, 4)\n",
      "(2, 5)\n",
      "(2, 6)\n",
      "(2, 7)\n",
      "(2, 8)\n",
      "(2, 9)\n",
      "(2, 10)\n",
      "(2, 11)\n",
      "(2, 12)\n",
      "(2, 13)\n",
      "(2, 14)\n",
      "(2, 15)\n",
      "(2, 16)\n",
      "(2, 17)\n",
      "(2, 18)\n",
      "(2, 19)\n",
      "(2, 20)\n",
      "(2, 21)\n",
      "(2, 22)\n",
      "(2, 23)\n",
      "(3, 1)\n",
      "(3, 2)\n",
      "(3, 3)\n",
      "(3, 4)\n",
      "(3, 5)\n",
      "(3, 6)\n",
      "(3, 7)\n",
      "(3, 8)\n",
      "(3, 9)\n",
      "(3, 10)\n",
      "(3, 11)\n",
      "(3, 12)\n",
      "(3, 13)\n",
      "(3, 14)\n",
      "(3, 15)\n",
      "(3, 16)\n",
      "(3, 17)\n",
      "(3, 18)\n",
      "(3, 19)\n",
      "(3, 20)\n",
      "(3, 21)\n",
      "(3, 22)\n",
      "(3, 23)\n",
      "(4, 1)\n",
      "(4, 2)\n",
      "(4, 3)\n",
      "(4, 4)\n",
      "(4, 5)\n",
      "(4, 6)\n",
      "(4, 7)\n",
      "(4, 8)\n",
      "(4, 9)\n",
      "(4, 10)\n",
      "(4, 11)\n",
      "(4, 12)\n",
      "(4, 13)\n",
      "(4, 14)\n",
      "(4, 15)\n",
      "(4, 17)\n",
      "(4, 18)\n",
      "(4, 19)\n",
      "(4, 20)\n",
      "(4, 21)\n",
      "(4, 22)\n",
      "(4, 23)\n",
      "(4, 24)\n",
      "(5, 1)\n",
      "(5, 2)\n",
      "(5, 3)\n",
      "(5, 4)\n",
      "(5, 5)\n",
      "(5, 6)\n",
      "(5, 7)\n",
      "(5, 8)\n",
      "(5, 9)\n",
      "(5, 10)\n",
      "(5, 11)\n",
      "(5, 12)\n",
      "(5, 13)\n",
      "(5, 14)\n",
      "(5, 15)\n",
      "(5, 16)\n",
      "(5, 17)\n",
      "(5, 18)\n",
      "(5, 19)\n",
      "(5, 20)\n",
      "(5, 21)\n",
      "(5, 22)\n",
      "(5, 23)\n",
      "(6, 1)\n",
      "(6, 2)\n",
      "(6, 3)\n",
      "(6, 4)\n",
      "(6, 5)\n",
      "(6, 6)\n",
      "(6, 7)\n",
      "(6, 8)\n",
      "(6, 9)\n",
      "(6, 10)\n",
      "(6, 11)\n",
      "(6, 12)\n",
      "(6, 13)\n",
      "(6, 14)\n",
      "(6, 15)\n",
      "(6, 16)\n",
      "(6, 17)\n",
      "(6, 18)\n",
      "(6, 19)\n",
      "(6, 20)\n",
      "(6, 21)\n",
      "(6, 22)\n",
      "(6, 23)\n",
      "(6, 24)\n",
      "(7, 1)\n",
      "(7, 2)\n",
      "(7, 3)\n",
      "(7, 4)\n",
      "(7, 5)\n",
      "(7, 6)\n",
      "(7, 7)\n",
      "(7, 8)\n",
      "(7, 9)\n",
      "(7, 10)\n",
      "(7, 11)\n",
      "(7, 13)\n",
      "(7, 14)\n",
      "(7, 15)\n",
      "(7, 16)\n",
      "(7, 17)\n",
      "(7, 18)\n",
      "(7, 19)\n",
      "(7, 20)\n",
      "(7, 21)\n",
      "(7, 22)\n",
      "(7, 23)\n",
      "(7, 24)\n",
      "(8, 1)\n",
      "(8, 2)\n",
      "(8, 3)\n",
      "(8, 4)\n",
      "(8, 5)\n",
      "(8, 6)\n",
      "(8, 8)\n",
      "(8, 9)\n",
      "(8, 10)\n",
      "(8, 11)\n",
      "(8, 12)\n",
      "(8, 13)\n",
      "(8, 15)\n",
      "(8, 16)\n",
      "(8, 17)\n",
      "(8, 18)\n",
      "(8, 19)\n",
      "(8, 20)\n",
      "(8, 21)\n",
      "(8, 22)\n",
      "(8, 23)\n",
      "(8, 24)\n",
      "(9, 1)\n",
      "(9, 2)\n",
      "(9, 3)\n",
      "(9, 4)\n",
      "(9, 5)\n",
      "(9, 6)\n",
      "(9, 7)\n",
      "(9, 9)\n",
      "(9, 10)\n",
      "(9, 11)\n",
      "(9, 12)\n",
      "(9, 13)\n",
      "(9, 14)\n",
      "(9, 15)\n",
      "(9, 16)\n",
      "(9, 24)\n"
     ]
    }
   ],
   "source": [
    "for x in alignment:\n",
    "    print(x)"
   ],
   "metadata": {
    "collapsed": false,
    "pycharm": {
     "name": "#%%\n"
    }
   }
  },
  {
   "cell_type": "code",
   "execution_count": 290,
   "outputs": [
    {
     "ename": "TypeError",
     "evalue": "list indices must be integers or slices, not str",
     "output_type": "error",
     "traceback": [
      "\u001B[1;31m---------------------------------------------------------------------------\u001B[0m",
      "\u001B[1;31mTypeError\u001B[0m                                 Traceback (most recent call last)",
      "\u001B[1;32m~\\AppData\\Local\\Temp/ipykernel_17804/518642356.py\u001B[0m in \u001B[0;36m<module>\u001B[1;34m\u001B[0m\n\u001B[1;32m----> 1\u001B[1;33m \u001B[0malignment\u001B[0m \u001B[1;33m=\u001B[0m \u001B[1;33m{\u001B[0m\u001B[1;33m(\u001B[0m\u001B[1;36m1\u001B[0m\u001B[1;33m,\u001B[0m\u001B[1;36m1\u001B[0m\u001B[1;33m)\u001B[0m\u001B[1;33m:\u001B[0m \u001B[0mturn_sub2epi_into_epi2sub\u001B[0m\u001B[1;33m(\u001B[0m\u001B[0mtemp\u001B[0m\u001B[1;33m)\u001B[0m\u001B[1;33m}\u001B[0m\u001B[1;33m\u001B[0m\u001B[1;33m\u001B[0m\u001B[0m\n\u001B[0m",
      "\u001B[1;32mD:\\projects\\multi_coref\\tbbt\\utils\\alignment.py\u001B[0m in \u001B[0;36mturn_sub2epi_into_epi2sub\u001B[1;34m(sub2epi)\u001B[0m\n\u001B[0;32m     99\u001B[0m     \u001B[0mepi2sub\u001B[0m \u001B[1;33m=\u001B[0m \u001B[1;33m{\u001B[0m\u001B[1;33m}\u001B[0m\u001B[1;33m\u001B[0m\u001B[1;33m\u001B[0m\u001B[0m\n\u001B[0;32m    100\u001B[0m     \u001B[1;32mfor\u001B[0m \u001B[0msub_id\u001B[0m \u001B[1;32min\u001B[0m \u001B[0msub2epi\u001B[0m\u001B[1;33m:\u001B[0m\u001B[1;33m\u001B[0m\u001B[1;33m\u001B[0m\u001B[0m\n\u001B[1;32m--> 101\u001B[1;33m         \u001B[1;32mfor\u001B[0m \u001B[0mepi_id\u001B[0m \u001B[1;32min\u001B[0m \u001B[0msub2epi\u001B[0m\u001B[1;33m[\u001B[0m\u001B[0msub_id\u001B[0m\u001B[1;33m]\u001B[0m\u001B[1;33m:\u001B[0m\u001B[1;33m\u001B[0m\u001B[1;33m\u001B[0m\u001B[0m\n\u001B[0m\u001B[0;32m    102\u001B[0m             \u001B[1;32mif\u001B[0m \u001B[0mepi_id\u001B[0m \u001B[1;32mnot\u001B[0m \u001B[1;32min\u001B[0m \u001B[0mepi2sub\u001B[0m\u001B[1;33m:\u001B[0m\u001B[1;33m\u001B[0m\u001B[1;33m\u001B[0m\u001B[0m\n\u001B[0;32m    103\u001B[0m                 \u001B[0mepi2sub\u001B[0m\u001B[1;33m[\u001B[0m\u001B[0mepi_id\u001B[0m\u001B[1;33m]\u001B[0m \u001B[1;33m=\u001B[0m \u001B[1;33m[\u001B[0m\u001B[0msub_id\u001B[0m\u001B[1;33m]\u001B[0m\u001B[1;33m\u001B[0m\u001B[1;33m\u001B[0m\u001B[0m\n",
      "\u001B[1;31mTypeError\u001B[0m: list indices must be integers or slices, not str"
     ]
    }
   ],
   "source": [
    "alignment = {(1,1): turn_sub2epi_into_epi2sub(temp)}"
   ],
   "metadata": {
    "collapsed": false,
    "pycharm": {
     "name": "#%%\n"
    }
   }
  },
  {
   "cell_type": "code",
   "execution_count": 294,
   "outputs": [
    {
     "name": "stdout",
     "output_type": "stream",
     "text": [
      "{0: [200], 9: [215], 15: [224], 16: [225, 226], 17: [229], 28: [239], 34: [246, 247], 35: [248], 65: [268], 75: [282], 82: [285, 286], 88: [290], 89: [291], 90: [292], 93: [293], 96: [295], 100: [300], 102: [301, 302], 108: [307], 116: [314, 316], 117: [318], 134: [333], 135: [334], 145: [348], 148: [351], 154: [360], 155: [362], 160: [368, 369], 161: [373, 374, 375], 162: [378], 171: [384], 173: [386], 174: [387], 175: [388], 176: [389], 177: [390], 183: [396], 186: [400, 401], 193: [409], 201: [417], 207: [423], 208: [424, 425], 210: [430], 215: [435], 226: [449], 228: [450], 230: [452, 453, 454, 455, 456], 232: [458], 237: [464], 240: [467], 241: [468, 469, 470], 242: [472], 245: [476], 258: [489, 490], 259: [491], 262: [494, 495], 263: [496], 270: [503], 275: [506], 280: [510, 511], 288: [523, 524], 295: [531], 296: [532], 297: [533], 302: [542], 309: [548], 311: [550, 551], 314: [555]}\n"
     ]
    }
   ],
   "source": [
    "# Write into xlsx file\n",
    "for x in alignment:\n",
    "    print(alignment[x])\n",
    "    # Define season and episode\n",
    "    season_id = x[0]\n",
    "    episode_id = x[1]\n",
    "\n",
    "    # Define xlsx file\n",
    "    episode_book = xlsxwriter.Workbook('xlsx_files/episodes/test_episode_s%de%d.xlsx'%(season_id, episode_id))\n",
    "    episode_sheet = episode_book.add_worksheet()\n",
    "    episode_bold = episode_book.add_format({'bold':1})\n",
    "    for j, item in enumerate(['utterance', 'speaker', 'subtitle id']):\n",
    "        episode_sheet.write(0, j, item, episode_bold)\n",
    "\n",
    "    subtitle_book = xlsxwriter.Workbook('xlsx_files/subtitles/test_subtitle_s%de%d.xlsx'%(season_id, episode_id))\n",
    "    subtitle_sheet = subtitle_book.add_worksheet()\n",
    "    subtitle_bold = subtitle_book.add_format({'bold':1})\n",
    "    for j, item in enumerate(['subtitle_en', 'subtitle_zh', 'episode id']):\n",
    "        subtitle_sheet.write(0, j, item, subtitle_bold)\n",
    "\n",
    "    # Load Data\n",
    "    sub2epi = alignment[x]\n",
    "    epi2sub = turn_sub2epi_into_epi2sub(sub2epi)\n",
    "\n",
    "    (en_subset, zh_subset, tbbt_episode) = fetch_subsets(\n",
    "        episode=tbbt_transcripts,\n",
    "        en_subtitle=en_subtitle,\n",
    "        zh_subtitle=zh_subtitle,\n",
    "        results=results,\n",
    "        season_id=season_id,\n",
    "        episode_id=episode_id,\n",
    "        bias=200\n",
    "    )\n",
    "\n",
    "    # Write into file\n",
    "    for i, (utt, speaker) in enumerate(tbbt_episode):\n",
    "        if i in epi2sub:\n",
    "            temp = [utt, str(speaker), \" \".join([str(item+2) for item in epi2sub[i]])]\n",
    "            for j, item in enumerate(temp):\n",
    "                episode_sheet.write(i+1, j, item, episode_bold)\n",
    "        else:\n",
    "            temp = [utt, str(speaker), \" \"]\n",
    "            for j, item in enumerate(temp):\n",
    "                episode_sheet.write(i+1, j, item)\n",
    "\n",
    "    for i, subtitle in enumerate(en_subset):\n",
    "        if i in sub2epi:\n",
    "            temp = [subtitle, zh_subset[i], \" \".join([str(item+2) for item in sub2epi[i]])]\n",
    "            for j, item in enumerate(temp):\n",
    "                subtitle_sheet.write(i+1, j, item, subtitle_bold)\n",
    "        else:\n",
    "            temp = [subtitle, zh_subset[i], \" \"]\n",
    "            for j, item in enumerate(temp):\n",
    "                subtitle_sheet.write(i+1, j, item)\n",
    "\n",
    "    episode_book.close()\n",
    "    subtitle_book.close()"
   ],
   "metadata": {
    "collapsed": false,
    "pycharm": {
     "name": "#%%\n"
    }
   }
  },
  {
   "cell_type": "code",
   "execution_count": null,
   "outputs": [],
   "source": [
    "# Check current alignments\n",
    "for x in alignment:\n",
    "    # Load Data\n",
    "    epi2sub = alignment[x][-1]\n",
    "\n",
    "    pass\n"
   ],
   "metadata": {
    "collapsed": false,
    "pycharm": {
     "name": "#%%\n"
    }
   }
  },
  {
   "cell_type": "code",
   "execution_count": null,
   "outputs": [],
   "source": [],
   "metadata": {
    "collapsed": false,
    "pycharm": {
     "name": "#%%\n"
    }
   }
  },
  {
   "cell_type": "code",
   "execution_count": 36,
   "outputs": [
    {
     "name": "stdout",
     "output_type": "stream",
     "text": [
      "{0: [200, 201, 202, 203], 2: [205], 5: [206, 207], 8: [214], 9: [215], 12: [218, 219], 15: [222, 223, 224], 16: [225, 226], 17: [227, 228, 229], 21: [233], 24: [235], 29: [239], 31: [240], 32: [241], 33: [242], 35: [246, 247], 36: [248], 37: [249], 39: [251], 40: [252], 41: [253], 42: [254], 48: [256], 50: [259], 52: [261], 58: [263], 59: [264], 66: [266], 67: [267], 68: [268], 69: [269], 70: [270], 72: [273], 73: [274, 275], 76: [279], 78: [282], 79: [283], 85: [285, 286], 86: [287], 91: [290], 92: [291], 93: [292], 96: [293], 99: [295], 100: [297], 102: [299], 103: [300], 104: [301], 105: [302], 108: [304], 110: [306], 111: [307], 112: [308], 114: [311], 115: [312], 118: [313], 119: [314, 315, 316, 317], 120: [318], 122: [319], 124: [320], 126: [321, 322], 129: [325], 131: [327], 135: [330], 136: [331], 137: [333], 138: [334], 139: [335], 140: [336], 141: [337, 338, 339, 340], 143: [342], 151: [351], 153: [356], 154: [357, 358], 157: [360, 361], 158: [362], 163: [368, 369], 165: [373, 374, 375], 166: [378], 167: [379], 168: [380], 175: [383], 176: [384], 179: [387], 181: [389], 182: [390], 184: [391], 185: [392], 187: [394], 188: [396], 189: [398], 190: [399], 191: [400, 401], 192: [402], 194: [405], 196: [407], 197: [408], 198: [409], 199: [410], 200: [411], 203: [413], 204: [414], 206: [417], 207: [418], 208: [419], 212: [423], 213: [424, 425], 214: [427, 428, 429], 215: [430], 216: [431], 219: [434], 220: [435], 222: [437], 223: [438], 226: [442], 227: [444], 228: [446], 231: [449], 233: [450], 234: [451], 235: [452, 453, 454, 455, 456], 236: [457], 237: [458], 238: [459], 239: [460], 240: [461], 241: [462], 242: [464], 244: [466], 245: [467], 246: [468, 469, 470, 471], 247: [472], 248: [473, 474], 249: [475], 250: [476], 252: [478], 259: [484, 485], 260: [486], 261: [487], 263: [489, 490], 264: [491], 266: [493], 267: [494, 495], 268: [496], 269: [497], 274: [502], 275: [503], 277: [504], 280: [506], 283: [508], 284: [509], 285: [510, 511], 286: [512], 287: [514, 515], 291: [519, 520], 293: [523, 524], 296: [527], 297: [528], 299: [530], 300: [531], 301: [532], 302: [533], 304: [536, 537, 538], 305: [539], 306: [540, 541], 307: [542], 308: [543], 309: [544], 315: [548], 317: [550, 551], 320: [555]}\n"
     ]
    }
   ],
   "source": [
    "print(further_alignment[(0,0)][-1])"
   ],
   "metadata": {
    "collapsed": false,
    "pycharm": {
     "name": "#%%\n"
    }
   }
  },
  {
   "cell_type": "code",
   "execution_count": 35,
   "outputs": [
    {
     "name": "stdout",
     "output_type": "stream",
     "text": [
      "4\n"
     ]
    }
   ],
   "source": [
    "print(len(further_alignment[(0,0)]))"
   ],
   "metadata": {
    "collapsed": false,
    "pycharm": {
     "name": "#%%\n"
    }
   }
  },
  {
   "cell_type": "code",
   "execution_count": 25,
   "outputs": [
    {
     "name": "stdout",
     "output_type": "stream",
     "text": [
      "(0, 0) 171 171 133\n",
      "(0, 1) 130 130 109\n",
      "(0, 2) 90 90 72\n",
      "(0, 3) 134 134 112\n",
      "(0, 4) 132 132 106\n",
      "(0, 5) 24 24 16\n",
      "(0, 6) 75 75 66\n",
      "(0, 7) 7 7 7\n",
      "(0, 8) 130 130 100\n",
      "(0, 9) 57 57 50\n",
      "(0, 10) 46 46 32\n",
      "(0, 11) 93 93 75\n",
      "(0, 12) 137 137 114\n",
      "(0, 13) 10 10 9\n",
      "(0, 14) 124 124 103\n",
      "(0, 15) 130 130 102\n",
      "(1, 0) 1 1 1\n",
      "(1, 1) 104 104 84\n",
      "(1, 2) 135 135 113\n",
      "(1, 3) 159 159 124\n",
      "(1, 4) 74 74 60\n",
      "(1, 5) 60 60 43\n",
      "(1, 6) 29 29 24\n",
      "(1, 7) 110 110 98\n",
      "(1, 8) 70 70 61\n",
      "(1, 9) 80 80 68\n",
      "(1, 11) 133 133 112\n",
      "(1, 12) 136 136 108\n",
      "(1, 13) 161 161 131\n",
      "(1, 14) 31 31 26\n",
      "(1, 15) 106 106 83\n",
      "(1, 16) 140 140 119\n",
      "(1, 17) 127 127 102\n",
      "(1, 18) 134 134 111\n",
      "(1, 19) 46 46 40\n",
      "(1, 20) 95 95 74\n",
      "(1, 21) 137 137 104\n",
      "(1, 22) 56 56 47\n",
      "(2, 0) 125 125 102\n",
      "(2, 1) 134 134 115\n",
      "(2, 2) 103 103 81\n",
      "(2, 3) 105 105 84\n",
      "(2, 4) 131 131 105\n",
      "(2, 5) 17 17 13\n",
      "(2, 6) 159 159 131\n",
      "(2, 7) 109 109 93\n",
      "(2, 8) 133 133 106\n",
      "(2, 9) 162 162 125\n",
      "(2, 10) 129 129 112\n",
      "(2, 11) 125 125 105\n",
      "(2, 12) 109 109 86\n",
      "(2, 13) 106 106 83\n",
      "(2, 14) 124 124 103\n",
      "(2, 15) 142 142 119\n",
      "(2, 16) 100 100 81\n",
      "(2, 17) 107 107 92\n",
      "(2, 18) 142 142 114\n",
      "(2, 19) 124 124 98\n",
      "(2, 20) 145 145 117\n",
      "(2, 21) 141 141 115\n",
      "(2, 22) 144 144 111\n",
      "(3, 0) 164 164 133\n",
      "(3, 1) 70 70 53\n",
      "(3, 2) 178 178 137\n",
      "(3, 3) 161 161 130\n",
      "(3, 4) 121 121 95\n",
      "(3, 5) 43 43 36\n",
      "(3, 6) 88 88 69\n",
      "(3, 7) 140 140 120\n",
      "(3, 8) 158 158 135\n",
      "(3, 9) 136 136 113\n",
      "(3, 11) 62 62 50\n",
      "(3, 12) 149 149 120\n",
      "(3, 13) 92 92 79\n",
      "(3, 14) 141 141 115\n",
      "(3, 16) 114 114 95\n",
      "(3, 17) 145 145 117\n",
      "(3, 18) 156 156 132\n",
      "(3, 19) 157 157 129\n",
      "(3, 20) 141 141 106\n",
      "(3, 21) 161 161 128\n",
      "(3, 22) 36 36 25\n",
      "(3, 23) 11 11 10\n",
      "(4, 0) 116 116 94\n",
      "(4, 1) 63 63 53\n",
      "(4, 2) 12 12 12\n",
      "(4, 3) 128 128 116\n",
      "(4, 4) 13 13 13\n",
      "(4, 5) 156 156 133\n",
      "(4, 6) 93 93 71\n",
      "(4, 7) 72 72 58\n",
      "(4, 8) 92 92 76\n",
      "(4, 9) 119 119 97\n",
      "(4, 10) 168 168 130\n",
      "(4, 11) 143 143 127\n",
      "(4, 12) 144 144 116\n",
      "(4, 14) 127 127 110\n",
      "(4, 15) 127 127 108\n",
      "(4, 16) 137 137 100\n",
      "(4, 17) 135 135 107\n",
      "(4, 18) 125 125 118\n",
      "(4, 19) 50 50 44\n",
      "(4, 20) 59 59 51\n",
      "(4, 21) 129 129 105\n",
      "(4, 22) 119 119 108\n",
      "(5, 0) 142 142 115\n",
      "(5, 1) 147 147 113\n",
      "(5, 2) 123 123 108\n",
      "(5, 3) 74 74 59\n",
      "(5, 4) 140 140 112\n",
      "(5, 5) 124 124 111\n",
      "(5, 6) 8 8 8\n",
      "(5, 7) 141 141 115\n",
      "(5, 8) 116 116 101\n",
      "(5, 9) 90 90 73\n",
      "(5, 10) 142 142 115\n",
      "(5, 11) 129 129 109\n",
      "(5, 12) 71 71 61\n",
      "(5, 13) 125 125 111\n",
      "(5, 14) 63 63 49\n",
      "(5, 15) 88 88 78\n",
      "(5, 16) 23 23 18\n",
      "(5, 17) 107 107 94\n",
      "(5, 18) 150 150 116\n",
      "(5, 19) 95 95 73\n",
      "(5, 20) 126 126 107\n",
      "(5, 21) 114 114 101\n",
      "(5, 22) 82 82 66\n",
      "(5, 23) 145 145 125\n",
      "(6, 0) 152 152 123\n",
      "(6, 1) 159 159 138\n",
      "(6, 2) 147 147 120\n",
      "(6, 3) 136 136 117\n",
      "(6, 4) 131 131 117\n",
      "(6, 5) 135 135 114\n",
      "(6, 6) 144 144 116\n",
      "(6, 7) 132 132 112\n",
      "(6, 8) 154 154 130\n",
      "(6, 9) 151 151 132\n",
      "(6, 10) 27 27 21\n",
      "(6, 12) 75 75 65\n",
      "(6, 13) 150 150 126\n",
      "(6, 14) 150 150 130\n",
      "(6, 15) 170 170 142\n",
      "(6, 17) 147 147 134\n",
      "(6, 18) 63 63 51\n",
      "(6, 19) 152 152 118\n",
      "(6, 20) 140 140 119\n",
      "(6, 21) 134 134 112\n",
      "(6, 22) 143 143 115\n",
      "(6, 23) 154 154 126\n",
      "(7, 0) 149 149 116\n",
      "(7, 1) 159 159 133\n",
      "(7, 2) 155 155 117\n",
      "(7, 3) 163 163 137\n",
      "(7, 4) 70 70 60\n",
      "(7, 5) 35 35 28\n",
      "(7, 7) 150 150 116\n",
      "(7, 8) 161 161 141\n",
      "(7, 9) 155 155 125\n",
      "(7, 10) 166 166 128\n",
      "(7, 11) 151 151 127\n",
      "(7, 12) 138 138 116\n",
      "(7, 14) 135 135 113\n",
      "(7, 15) 149 149 119\n",
      "(7, 16) 1 1 1\n",
      "(7, 17) 159 159 125\n",
      "(7, 18) 71 71 58\n",
      "(7, 19) 177 177 140\n",
      "(7, 20) 158 158 131\n",
      "(7, 21) 138 138 117\n",
      "(7, 22) 158 158 120\n",
      "(7, 23) 153 153 120\n",
      "(8, 0) 164 164 120\n",
      "(8, 1) 155 155 124\n",
      "(8, 2) 163 163 129\n",
      "(8, 3) 126 126 101\n",
      "(8, 4) 135 135 107\n",
      "(8, 5) 166 166 139\n",
      "(8, 6) 141 141 111\n",
      "(8, 7) 2 2 2\n",
      "(8, 8) 155 155 126\n",
      "(8, 9) 133 133 113\n",
      "(8, 10) 108 108 85\n",
      "(8, 11) 177 177 134\n",
      "(8, 12) 116 116 91\n",
      "(8, 13) 172 172 141\n",
      "(8, 14) 72 72 60\n",
      "(8, 15) 136 136 120\n",
      "(8, 23) 73 73 61\n"
     ]
    }
   ],
   "source": [
    "for x in further_alignment:\n",
    "    print(x, len(further_alignment[x][-1]), len(further_alignment[x][-2]), len(further_alignment[x][-3]))\n",
    "    # print(further_alignment[x])"
   ],
   "metadata": {
    "collapsed": false,
    "pycharm": {
     "name": "#%%\n"
    }
   }
  },
  {
   "cell_type": "code",
   "execution_count": 27,
   "outputs": [],
   "source": [
    "old_alignment = further_alignment"
   ],
   "metadata": {
    "collapsed": false,
    "pycharm": {
     "name": "#%%\n"
    }
   }
  },
  {
   "cell_type": "code",
   "execution_count": 34,
   "outputs": [
    {
     "name": "stdout",
     "output_type": "stream",
     "text": [
      "{2: [200, 201, 202, 203], 4: [206], 5: [208], 6: [209, 210], 7: [211], 10: [217, 218], 14: [220], 18: [223], 19: [224, 225], 20: [229], 21: [230], 22: [232], 23: [233, 234], 26: [238], 28: [240, 241], 30: [242], 31: [243], 32: [244], 33: [245], 34: [246], 36: [249, 250], 37: [251], 40: [253], 41: [254, 255], 44: [258], 45: [259, 260, 261], 46: [262, 263], 47: [264], 48: [266], 49: [267], 52: [269], 56: [274], 57: [276, 277], 58: [278], 59: [279], 60: [280, 281], 61: [282], 63: [283], 64: [284], 65: [285], 67: [286], 68: [287, 288, 289], 70: [291, 292], 73: [295], 74: [296], 75: [297, 298, 299], 76: [300], 77: [302], 79: [304], 80: [305], 81: [306], 82: [308], 83: [310], 84: [311], 85: [312, 313], 87: [315], 88: [317], 89: [319], 90: [320, 321], 91: [322], 92: [325, 326], 94: [328], 95: [329], 96: [330], 97: [331], 99: [334], 100: [335, 336], 101: [337], 102: [338], 104: [339], 107: [342, 343], 109: [344], 110: [345], 111: [346], 112: [347], 113: [348, 349, 350], 115: [351], 116: [352, 353], 119: [356], 121: [358], 122: [359], 125: [362], 128: [365], 129: [366], 130: [368], 131: [369], 132: [370, 371, 372], 133: [374], 138: [379], 139: [380, 381, 382], 141: [383], 142: [384], 143: [385], 146: [390], 147: [391, 392, 393], 148: [394], 149: [395, 396], 150: [397], 151: [398], 152: [399], 154: [402], 157: [405], 158: [406], 159: [407, 408]}\n"
     ]
    }
   ],
   "source": [
    "print(old_alignment[(1,1)][-1])"
   ],
   "metadata": {
    "collapsed": false,
    "pycharm": {
     "name": "#%%\n"
    }
   }
  },
  {
   "cell_type": "code",
   "execution_count": 33,
   "outputs": [
    {
     "name": "stdout",
     "output_type": "stream",
     "text": [
      "104\n",
      "140\n"
     ]
    }
   ],
   "source": [
    "print(len(old_alignment[(1,1)][-1]))\n",
    "print(len(turn_sub2epi_into_epi2sub(old_alignment[(1,1)][-1])))"
   ],
   "metadata": {
    "collapsed": false,
    "pycharm": {
     "name": "#%%\n"
    }
   }
  },
  {
   "cell_type": "code",
   "execution_count": 38,
   "outputs": [],
   "source": [
    "alignment = further_alignment\n",
    "for x in alignment:\n",
    "    # Define season and episode\n",
    "    season_id = x[0]+1\n",
    "    episode_id = x[1]+1\n",
    "\n",
    "    # Define xlsx file\n",
    "    episode_book = xlsxwriter.Workbook('xlsx_files/episodes/episode_s%de%d.xlsx'%(season_id, episode_id))\n",
    "    episode_sheet = episode_book.add_worksheet()\n",
    "    episode_bold = episode_book.add_format({'bold':1})\n",
    "    for j, item in enumerate(['utterance', 'speaker', 'subtitle id']):\n",
    "        episode_sheet.write(0, j, item, episode_bold)\n",
    "\n",
    "    subtitle_book = xlsxwriter.Workbook('xlsx_files/subtitles/subtitle_s%de%d.xlsx'%(season_id, episode_id))\n",
    "    subtitle_sheet = subtitle_book.add_worksheet()\n",
    "    subtitle_bold = subtitle_book.add_format({'bold':1})\n",
    "    for j, item in enumerate(['subtitle_en', 'subtitle_zh', 'episode id']):\n",
    "        subtitle_sheet.write(0, j, item, subtitle_bold)\n",
    "\n",
    "    # Load Data\n",
    "    epi2sub = alignment[x][-1]\n",
    "    sub2epi = turn_sub2epi_into_epi2sub(epi2sub)\n",
    "\n",
    "    (en_subset, zh_subset, tbbt_episode) = fetch_subsets(\n",
    "        episode=tbbt_transcripts,\n",
    "        en_subtitle=en_subtitle,\n",
    "        zh_subtitle=zh_subtitle,\n",
    "        results=results,\n",
    "        season_id=season_id,\n",
    "        episode_id=episode_id,\n",
    "        bias=200\n",
    "    )\n",
    "\n",
    "    tbbt_episode = []\n",
    "    for x in tbbt_transcripts[(season_id, episode_id)]:\n",
    "        if x[1]!='Scene':\n",
    "            tbbt_episode.append(x)\n",
    "\n",
    "    # Write into file\n",
    "    for i, (utt, speaker) in enumerate(tbbt_episode):\n",
    "        if i in epi2sub:\n",
    "            temp = [utt, str(speaker), \" \".join([str(item+2) for item in epi2sub[i]])]\n",
    "            for j, item in enumerate(temp):\n",
    "                episode_sheet.write(i+1, j, item, episode_bold)\n",
    "        else:\n",
    "            temp = [utt, \"\", \" \"]\n",
    "            for j, item in enumerate(temp):\n",
    "                episode_sheet.write(i+1, j, item)\n",
    "\n",
    "    for i, subtitle in enumerate(en_subset):\n",
    "        if i in sub2epi:\n",
    "            temp = [subtitle, zh_subset[i], \" \".join([str(item+2) for item in sub2epi[i]])]\n",
    "            for j, item in enumerate(temp):\n",
    "                subtitle_sheet.write(i+1, j, item, subtitle_bold)\n",
    "        else:\n",
    "            temp = [subtitle, zh_subset[i], \" \"]\n",
    "            for j, item in enumerate(temp):\n",
    "                subtitle_sheet.write(i+1, j, item)\n",
    "\n",
    "    episode_book.close()\n",
    "    subtitle_book.close()"
   ],
   "metadata": {
    "collapsed": false,
    "pycharm": {
     "name": "#%%\n"
    }
   }
  },
  {
   "cell_type": "code",
   "execution_count": 22,
   "outputs": [
    {
     "name": "stdout",
     "output_type": "stream",
     "text": [
      "dict_keys([(0, 0), (0, 1), (0, 2), (0, 3), (1, 0), (1, 1), (1, 2), (1, 3), (2, 0), (2, 1), (2, 2), (2, 3), (3, 0), (3, 1), (3, 2), (3, 3)])\n"
     ]
    }
   ],
   "source": [
    "print(further_alignment.keys())"
   ],
   "metadata": {
    "collapsed": false,
    "pycharm": {
     "name": "#%%\n"
    }
   }
  },
  {
   "cell_type": "code",
   "execution_count": null,
   "outputs": [],
   "source": [],
   "metadata": {
    "collapsed": false,
    "pycharm": {
     "name": "#%%\n"
    }
   }
  },
  {
   "cell_type": "code",
   "execution_count": null,
   "outputs": [],
   "source": [],
   "metadata": {
    "collapsed": false,
    "pycharm": {
     "name": "#%%\n"
    }
   }
  },
  {
   "cell_type": "code",
   "execution_count": 14,
   "outputs": [],
   "source": [
    "temp = []\n",
    "# Perform string match with sliding window\n",
    "sub2epi = string_match_sliding_window(en_subset, tbbt_episode, 4)\n",
    "epi2sub = turn_sub2epi_into_epi2sub(sub2epi)\n",
    "temp.append(epi2sub)\n",
    "\n",
    "print(sub2epi)\n",
    "print(len(sub2epi))\n",
    "print(len(epi2sub), len(tbbt_episode))"
   ],
   "metadata": {
    "collapsed": false,
    "pycharm": {
     "name": "#%%\n"
    }
   }
  },
  {
   "cell_type": "code",
   "execution_count": 18,
   "outputs": [],
   "source": [
    "# Extend the neighbors\n",
    "epi2sub = extend_neighbors(en_subset, epi2sub, tbbt_episode)\n",
    "sub2epi = turn_sub2epi_into_epi2sub(epi2sub)\n",
    "temp.append(epi2sub)\n",
    "\n",
    "print(sub2epi)\n",
    "print(len(sub2epi))\n",
    "print(len(epi2sub), len(tbbt_episode))"
   ],
   "metadata": {
    "collapsed": false,
    "pycharm": {
     "name": "#%%\n"
    }
   }
  },
  {
   "cell_type": "code",
   "execution_count": 20,
   "outputs": [],
   "source": [
    "# Perform exact match and add it to the whole alignment\n",
    "exact_match_result = exact_match(en_subset, tbbt_episode)\n",
    "sub2epi = add_cleaned_exact_match_result(sub2epi, exact_match_result)\n",
    "epi2sub = turn_sub2epi_into_epi2sub(sub2epi)\n",
    "temp.append(epi2sub)\n",
    "\n",
    "print(sub2epi)\n",
    "print(len(sub2epi))\n",
    "print(len(epi2sub), len(tbbt_episode))"
   ],
   "metadata": {
    "collapsed": false,
    "pycharm": {
     "name": "#%%\n"
    }
   }
  },
  {
   "cell_type": "code",
   "execution_count": 21,
   "outputs": [
    {
     "name": "stdout",
     "output_type": "stream",
     "text": [
      "{200: [0], 202: [0], 203: [0], 205: [2], 206: [5], 207: [5], 212: [6], 213: [7], 214: [8], 215: [9], 218: [12], 219: [12], 220: [13], 222: [15], 223: [15], 224: [15], 225: [16], 226: [16], 227: [17], 228: [17], 229: [17], 232: [20], 233: [21], 234: [23], 235: [24], 239: [29], 240: [31], 241: [32], 242: [33], 246: [35], 247: [35], 248: [36], 249: [37], 251: [39], 252: [40], 253: [41], 254: [42], 256: [48], 259: [50], 260: [51], 261: [52], 262: [57], 263: [58], 264: [59], 266: [66], 267: [67], 268: [68], 269: [69], 270: [70], 272: [72], 273: [72], 274: [73], 275: [73], 276: [74], 279: [76], 280: [77], 282: [78], 283: [79], 285: [85], 286: [85], 287: [86], 288: [87], 290: [91], 291: [92], 292: [93], 293: [96], 295: [99], 296: [99], 297: [100], 299: [102], 300: [103], 301: [104], 302: [105], 303: [107], 304: [108], 306: [110], 307: [111], 308: [112], 311: [114], 312: [115], 313: [118], 314: [119], 315: [119], 316: [119], 317: [119], 318: [120], 319: [122], 320: [124], 321: [126], 322: [126], 325: [129], 327: [131], 330: [135], 331: [136], 332: [136], 333: [137], 334: [138], 335: [139], 336: [140], 337: [141], 340: [141], 342: [143], 351: [151], 356: [153], 357: [154], 358: [154], 360: [157], 361: [157], 362: [158], 363: [160], 364: [161], 365: [161], 367: [163], 368: [163], 369: [163], 373: [165], 374: [165], 375: [165], 378: [166], 379: [167], 380: [168], 383: [175], 384: [176], 387: [179], 389: [181], 390: [182], 393: [186], 394: [187], 395: [187], 396: [188], 398: [189], 399: [190], 400: [191], 401: [191], 402: [192], 405: [194], 407: [196], 408: [197], 409: [198], 410: [199], 411: [200], 412: [202], 413: [203], 414: [204], 415: [205], 416: [205], 417: [206], 418: [207], 419: [208], 423: [212], 424: [213], 425: [213], 427: [214], 428: [214], 429: [214], 430: [215], 431: [216], 434: [219], 435: [220], 437: [222], 438: [223], 442: [226], 444: [227], 446: [228], 447: [229], 449: [231], 450: [233], 451: [234], 452: [235], 453: [235], 455: [235], 456: [235], 457: [236], 458: [237], 459: [238], 460: [239], 461: [240], 462: [241], 463: [241], 464: [242], 466: [244], 467: [245], 468: [246], 469: [246], 470: [246], 471: [246], 472: [247], 473: [248], 474: [248], 475: [249], 476: [250], 477: [251], 478: [252], 484: [259], 485: [259], 486: [260], 487: [261], 488: [262], 489: [263], 490: [263], 491: [264], 493: [266], 494: [267], 495: [267], 496: [268], 497: [269], 502: [274], 503: [275], 504: [277], 506: [280], 508: [283], 509: [284], 510: [285], 511: [285], 512: [286], 514: [287], 515: [287], 516: [288], 517: [289], 519: [291], 520: [291], 522: [293], 524: [293], 527: [296], 528: [297], 530: [299], 531: [300], 532: [301], 533: [302], 534: [303], 535: [303], 536: [304], 538: [304], 539: [305], 540: [306], 541: [306], 542: [307], 543: [308], 544: [309], 545: [311], 548: [315], 550: [317], 551: [317], 555: [320]}\n",
      "244\n",
      "192 321\n"
     ]
    }
   ],
   "source": [],
   "metadata": {
    "collapsed": false,
    "pycharm": {
     "name": "#%%\n"
    }
   }
  },
  {
   "cell_type": "code",
   "execution_count": 24,
   "outputs": [
    {
     "name": "stdout",
     "output_type": "stream",
     "text": [
      "{200: [0], 202: [0], 203: [0], 205: [2], 206: [5], 207: [5], 212: [6], 213: [7], 214: [8], 215: [9], 218: [12], 219: [12], 220: [13], 222: [15], 223: [15], 224: [15], 225: [16], 226: [16], 227: [17], 228: [17], 229: [17], 232: [20], 233: [21], 234: [23], 235: [24], 239: [29], 240: [31], 241: [32], 242: [33], 246: [35], 247: [35], 248: [36], 249: [37], 251: [39], 252: [40], 253: [41], 254: [42], 255: [42], 256: [48], 259: [50], 260: [51], 261: [52], 262: [57], 263: [58], 264: [59], 266: [66], 267: [67], 268: [68], 269: [69], 270: [70], 272: [72], 273: [72], 274: [73], 275: [73], 276: [74], 279: [76], 280: [77], 282: [78], 283: [79], 285: [85], 286: [85], 287: [86], 288: [87], 290: [91], 291: [92], 292: [93], 293: [96], 295: [99], 296: [99], 297: [100], 299: [102], 300: [103], 301: [104, 105], 302: [105], 303: [107], 304: [108], 306: [110], 307: [111], 308: [112], 311: [114], 312: [115], 313: [118], 314: [119], 315: [119], 316: [119], 317: [119], 318: [120], 319: [122], 320: [124], 321: [126], 322: [126], 325: [129], 327: [131], 330: [135], 331: [136], 332: [136], 333: [137], 334: [138], 335: [139], 336: [140], 337: [141], 340: [141], 342: [143], 351: [151], 356: [153], 357: [154], 358: [154], 360: [157], 361: [157], 362: [158], 363: [160], 364: [161], 365: [161], 367: [163], 368: [163], 369: [163], 373: [165], 374: [165], 375: [165], 378: [166], 379: [167], 380: [168], 383: [175], 384: [176], 387: [179], 389: [181], 390: [182], 393: [186], 394: [187], 395: [187], 396: [188], 398: [189], 399: [190], 400: [191], 401: [191], 402: [192], 405: [194], 407: [196], 408: [197], 409: [198], 410: [199], 411: [200], 412: [202], 413: [203], 414: [204], 415: [205], 416: [205], 417: [206], 418: [207], 419: [208], 423: [212], 424: [213], 425: [213], 427: [214], 428: [214], 429: [214], 430: [215], 431: [216], 434: [219], 435: [220], 437: [222], 438: [223], 442: [226], 444: [227], 446: [228], 447: [229], 449: [231], 450: [233], 451: [234], 452: [235], 453: [235], 455: [235], 456: [235], 457: [236], 458: [237], 459: [238], 460: [239], 461: [240], 462: [241], 463: [241], 464: [242], 466: [244], 467: [245], 468: [246], 469: [246], 470: [246], 471: [246], 472: [247], 473: [248], 474: [248], 475: [249], 476: [250], 477: [251], 478: [252], 484: [259], 485: [259], 486: [260], 487: [261], 488: [262], 489: [263], 490: [263], 491: [264], 493: [266], 494: [267], 495: [267], 496: [268], 497: [269], 502: [274], 503: [275], 504: [277], 506: [280], 508: [283], 509: [284], 510: [285], 511: [285], 512: [286], 514: [287], 515: [287], 516: [288], 517: [289], 519: [291], 520: [291], 522: [293], 524: [293], 527: [296], 528: [297], 530: [299], 531: [300], 532: [301], 533: [302], 534: [303], 535: [303], 536: [304], 538: [304], 539: [305], 540: [306], 541: [306], 542: [307], 543: [308], 544: [309], 545: [311], 548: [315], 550: [317], 551: [317], 555: [320]}\n",
      "245\n",
      "192 321\n"
     ]
    }
   ],
   "source": [
    "# Extend the neighbors\n",
    "epi2sub = extend_neighbors(en_subset, epi2sub, tbbt_episode)\n",
    "sub2epi = turn_sub2epi_into_epi2sub(epi2sub)\n",
    "temp.append(epi2sub)\n",
    "\n",
    "print(sub2epi)\n",
    "print(len(sub2epi))\n",
    "print(len(epi2sub), len(tbbt_episode))"
   ],
   "metadata": {
    "collapsed": false,
    "pycharm": {
     "name": "#%%\n"
    }
   }
  },
  {
   "cell_type": "code",
   "execution_count": 22,
   "outputs": [
    {
     "name": "stdout",
     "output_type": "stream",
     "text": [
      "0 |||| [200, 202, 203] Sheldon  So if a photon is directed through a plane with two slits in it and either slit is observed it will not go through both slits. If it’s unobserved it will, however, if it’s observed after it’s left the plane but before it hits its target, it will not have gone through both slits.\n",
      "1 Leonard  Agreed, what’s your point?\n",
      "2 |||| [205] Sheldon  There’s no point, I just think it’s a good idea for a tee-shirt. \n",
      "3 Leonard  Excuse me?\n",
      "4 Receptionist  Hang on. \n",
      "5 |||| [206, 207] Leonard  One across is Aegean, eight down is Nabakov, twenty-six across is MCM, fourteen down is… move your finger… phylum, which makes fourteen across Port-au-Prince. See, Papa Doc’s capital idea, that’s Port-au-Prince. Haiti. \n",
      "6 |||| [212] Receptionist  Can I help you?\n",
      "7 |||| [213] Leonard  Yes. Um, is this the High IQ sperm bank?\n",
      "8 |||| [214] Receptionist  If you have to ask, maybe you shouldn’t be here.\n",
      "9 |||| [215] Sheldon  I think this is the place.\n",
      "10 Receptionist  Fill these out.\n",
      "11 Leonard  Thank-you. We’ll be right back.\n",
      "12 |||| [218, 219] Receptionist  Oh, take your time. I’ll just finish my crossword puzzle. Oh wait.\n",
      "13 |||| [220] Sheldon  Leonard, I don’t think I can do this.\n",
      "14 Leonard  What, are you kidding? You’re a semi-pro. \n",
      "15 |||| [222, 223, 224] Sheldon  No. We are committing genetic fraud. There’s no guarantee that our sperm is going to generate high IQ offspring, think about that. I have a sister with the same basic DNA mix who hostesses at Fuddruckers.\n",
      "16 |||| [225, 226] Leonard  Sheldon, this was your idea. A little extra money to get fractional T1 bandwidth in the apartment.\n",
      "17 |||| [227, 228, 229] Sheldon  I know, and I do yearn for faster downloads, but there’s some poor woman is going to pin her hopes on my sperm, what if she winds up with a toddler who doesn’t know if he should use an integral or a differential to solve the area under a curve.\n",
      "18 Leonard  I’m sure she’ll still love him.\n",
      "19 Sheldon  I wouldn’t.\n",
      "20 |||| [232] Leonard  Well, what do you want to do?\n",
      "21 |||| [233] Sheldon  I want to leave.\n",
      "22 Leonard  Okay.\n",
      "23 |||| [234] Sheldon  What’s the protocol for leaving?\n",
      "24 |||| [235] Leonard  I don’t know, I’ve never reneged on a proffer of sperm before.\n",
      "25 Sheldon  Let’s try just walking out.\n",
      "26 Leonard  Okay.\n",
      "27 Sheldon  Bye-bye\n",
      "28 Leonard  See you.\n",
      "29 |||| [239] Sheldon  Are you still mad about the sperm bank?\n",
      "30 Leonard  No.\n",
      "31 |||| [240] Sheldon  You want to hear an interesting thing about stairs?\n",
      "32 |||| [241] Leonard  Not really.\n",
      "33 |||| [242] Sheldon  If the height of a single step is off by as little as two millimetres, most people will trip.\n",
      "34 Leonard  I don’t care. Two millimetres? That doesn’t seem right.\n",
      "35 |||| [246, 247] Sheldon  No, it’s true, I did a series of experiments when I was twelve, my father broke his clavicle.\n",
      "36 |||| [248] Leonard  Is that why they sent you to boarding school?\n",
      "37 |||| [249] Sheldon  No, that was the result of my work with lasers.\n",
      "38 Leonard  New neighbour?\n",
      "39 |||| [251] Sheldon  Evidently.\n",
      "40 |||| [252] Leonard  Significant improvement over the old neighbour.\n",
      "41 |||| [253] Sheldon  Two hundred pound transvestite with a skin condition, yes she is.\n",
      "42 |||| [254] Penny  Oh, hi!\n",
      "43 Leonard  Hi.\n",
      "44 Sheldon  Hi.\n",
      "45 Leonard  Hi.\n",
      "46 Sheldon  Hi.\n",
      "47 Penny  Hi?\n",
      "48 |||| [256] Leonard  We don’t mean to interrupt, we live across the hall.\n",
      "49 Penny  Oh, that’s nice.\n",
      "50 |||| [259] Leonard  Oh… uh… no… we don’t live together… um… we live together but in separate, heterosexual bedrooms.\n",
      "51 |||| [260] Penny  Oh, okay, well, guess I’m your new neighbour, Penny.\n",
      "52 |||| [261] Leonard  Leonard, Sheldon.\n",
      "53 Penny  Hi.\n",
      "54 Leonard  Hi.\n",
      "55 Sheldon  Hi.\n",
      "56 Penny  Hi. \n",
      "57 |||| [262] Leonard  Hi. Well, uh, oh, welcome to the building.\n",
      "58 |||| [263] Penny  Thankyou, maybe we can have coffee sometime.\n",
      "59 |||| [264] Leonard  Oh, great.\n",
      "60 Penny  Great. \n",
      "61 Sheldon  Great.\n",
      "62 Leonard  Great. Well, bye.\n",
      "63 Penny  Bye.\n",
      "64 Sheldon  Bye.\n",
      "65 Leonard  Bye. \n",
      "66 |||| [266] Leonard  Should we have invited her for lunch?\n",
      "67 |||| [267] Sheldon  No. We’re going to start Season Two of Battlestar Galactica.\n",
      "68 |||| [268] Leonard  We already watched the Season Two DVDs.\n",
      "69 |||| [269] Sheldon  Not with commentary.\n",
      "70 |||| [270] Leonard  I think we should be good neighbours, invite her over, make her feel welcome.\n",
      "71 Sheldon  We never invited Louis-slash-Louise over.\n",
      "72 |||| [272, 273] Leonard  Well, then that was wrong of us. We need to widen our circle.\n",
      "73 |||| [274, 275] Sheldon  I have a very wide circle. I have 212 friends on myspace. \n",
      "74 |||| [276] Leonard  Yes, and you’ve never met one of them.\n",
      "75 Sheldon  That’s the beauty of it.\n",
      "76 |||| [279] Leonard  I’m going to invite her over. We’ll have a nice meal and chat.\n",
      "77 |||| [280] Sheldon  Chat? We don’t chat. At least not offline.\n",
      "78 |||| [282] Leonard  Well it’s not difficult, you just listen to what she says and then you say something appropriate in response.\n",
      "79 |||| [283] Sheldon  To what end?\n",
      "80 Leonard  Hi. Again.\n",
      "81 Penny  Hi.\n",
      "82 Sheldon  Hi.\n",
      "83 Leonard  Hi.\n",
      "84 Penny  Hi. \n",
      "85 |||| [285, 286] Leonard  Anyway, um. We brought home Indian food. And, um. I know that moving can be stressful, and I find that when I’m undergoing stress, that good food and company can have a comforting effect. Also, curry is a natural laxative, and I don’t have to tell you that, uh, a clean colon is just one less thing to worry about.\n",
      "86 |||| [287] Sheldon  Leonard, I’m not expert here but I believe in the context of a luncheon invitation, you might want to skip the reference to bowel movements.\n",
      "87 |||| [288] Penny  Oh, you’re inviting me over to eat?\n",
      "88 Leonard  Uh, yes.\n",
      "89 Penny  Oh, that’s so nice, I’d love to.\n",
      "90 Leonard  Great.\n",
      "91 |||| [290] Penny  So, what do you guys do for fun around here?\n",
      "92 |||| [291] Sheldon  Well, today we tried masturbating for money.\n",
      "93 |||| [292] Leonard  Okay, well, make yourself at home.\n",
      "94 Penny  Okay, thankyou.\n",
      "95 Leonard  You’re very welcome.\n",
      "96 |||| [293] Penny  This looks like some serious stuff, Leonard, did you do this?\n",
      "97 Sheldon  Actually that’s my work.\n",
      "98 Penny  Wow.\n",
      "99 |||| [295, 296] Sheldon  Yeah, well, it’s just some quantum mechanics, with a little string theory doodling around the edges. That part there, that’s just a joke, it’s a spoof of the Bourne-Oppenheimer approximation.\n",
      "100 |||| [297] Penny  So you’re like, one of those, beautiful mind genius guys.\n",
      "101 Sheldon  Yeah. \n",
      "102 |||| [299] Penny  This is really impressive.\n",
      "103 |||| [300] Leonard  I have a board. If you like boards, this is my board.\n",
      "104 |||| [301] Penny  Holy smokes.\n",
      "105 |||| [302] Sheldon  If by holy smokes you mean a derivative restatement of the kind of stuff you can find scribbled on the wall of any men’s room at MIT, sure.\n",
      "106 Leonard  What?\n",
      "107 |||| [303] Sheldon  Oh, come on. Who hasn’t seen this differential below “here I sit broken hearted?”\n",
      "108 |||| [304] Leonard  At least I didn’t have to invent twenty-six dimensions just to make the math come out.\n",
      "109 Sheldon  I didn’t invent them, they’re there.\n",
      "110 |||| [306] Leonard  In what universe?\n",
      "111 |||| [307] Sheldon  In all of them, that is the point.\n",
      "112 |||| [308] Penny  Uh, do you guys mind if I start?\n",
      "113 Sheldon  Um, Penny, that’s where I sit.\n",
      "114 |||| [311] Penny  So, sit next to me. \n",
      "115 |||| [312] Sheldon  No, I sit there.\n",
      "116 Penny  What’s the difference?\n",
      "117 Sheldon  What’s the difference?\n",
      "118 |||| [313] Leonard  Here we go.\n",
      "119 |||| [314, 315, 316, 317] Sheldon  In the winter that seat is close enough to the radiator to remain warm, and yet not so close as to cause perspiration. In the summer it’s directly in the path of a cross breeze created by open windows there, and there. It faces the television at an angle that is neither direct, thus discouraging conversation, nor so far wide to create a parallax distortion, I could go on, but I think I’ve made my point. \n",
      "120 |||| [318] Penny  Do you want me to move?\n",
      "121 Sheldon  Well.\n",
      "122 |||| [319] Leonard  Just sit somewhere else.\n",
      "123 Sheldon  Fine. (Wanders in circles, looking lost.)\n",
      "124 |||| [320] Leonard  Sheldon, sit!\n",
      "125 Sheldon  Aaah!\n",
      "126 |||| [321, 322] Leonard  Well this is nice. We don’t have a lot of company over.\n",
      "127 Sheldon  That’s not true. Koothrapali and Wolowitz come over all the time. \n",
      "128 Leonard  Yes I now, but…\n",
      "129 |||| [325] Sheldon  Tuesday night we played Klingon boggle until one in the morning.\n",
      "130 Leonard  Yes, I remember.\n",
      "131 |||| [327] Sheldon  I resent you saying we don’t have company.\n",
      "132 Leonard  I’m sorry.\n",
      "133 Sheldon  That is an antisocial implication.\n",
      "134 Leonard  I said I’m sorry.\n",
      "135 |||| [330] Penny  So, Klingon boggle?\n",
      "136 |||| [331, 332] Leonard  Yeah, it’s like regular boggle but, in Klingon. That’s probably enough about us, tell us about you.\n",
      "137 |||| [333] Penny  Um, me, okay, I’m Sagittarius, which probably tells you way more than you need to know.\n",
      "138 |||| [334] Sheldon  Yes, it tells us that you participate in the mass cultural delusion that the Sun’s apparent position relative to arbitrarily defined constellations and the time of your birth somehow effects your personality.\n",
      "139 |||| [335] Penny  Participate in the what?\n",
      "140 |||| [336] Leonard  I think what Sheldon’s trying to say, is that Sagittarius wouldn’t have been our first guess.\n",
      "141 |||| [337, 340] Penny  Oh, yeah, a lot of people think I’m a water sign. Okay, let’s see, what else, oh, I’m a vegetarian, oh, except for fish, and the occasional steak, I love steak. \n",
      "142 Sheldon  That’s interesting. Leonard can’t process corn.\n",
      "143 |||| [342] Leonard  Wu-uh, do you have some sort of a job?\n",
      "144 Penny  Oh, yeah, I’m a waitress at the Cheesecake Factory.\n",
      "145 Leonard  Oh, okay. I love cheesecake.\n",
      "146 Sheldon  You’re lactose intolerant. \n",
      "147 Leonard  I don’t eat it, I just think it’s a good idea.\n",
      "148 Penny  Oh, anyways, I’m also writing a screenplay. It’s about this sensitive girl who comes to L.A. from Lincoln Nebraska to be an actress, and winds up a waitress at the Cheesecake Factory.\n",
      "149 Leonard  So it’s based on your life?\n",
      "150 Penny  No, I’m from Omaha. \n",
      "151 |||| [351] Leonard  Well, if that was a movie I would go see it.\n",
      "152 Penny  I know, right? Okay, let’s see, what else? Um, that’s about it. That’s the story of Penny.\n",
      "153 |||| [356] Leonard  Well it sounds wonderful.\n",
      "154 |||| [357, 358] Penny  It was. Until I fell in love with a jerk. \n",
      "155 (mouths)  What’s happening.\n",
      "156 back)  I don’t know.\n",
      "157 |||| [360, 361] Penny  Oh God, you know, four years I lived with him, four years, that’s like as long as High School. \n",
      "158 |||| [362] Sheldon  It took you four years to get through High School?\n",
      "159 Leonard  Don’t.\n",
      "160 |||| [363] Penny  I just, I can’t believe I trusted him.\n",
      "161 |||| [364, 365] Leonard  Should I say something? I feel like I should say something.\n",
      "162 Sheldon  You? No, you’ll only make it worse.\n",
      "163 |||| [367, 368, 369] Penny  You want to know the most pathetic part? Even though I hate his lying, cheating guts, I still love him. Is that crazy?\n",
      "164 Sheldon  Yes. \n",
      "165 |||| [373, 374, 375] Leonard  No, it’s not crazy it’s, uh, uh, it’s a paradox. And paradoxes are part of nature, think about light. Now if you look at Huygens, light is a wave, as confirmed by the double slit experiments, but then, along comes Albert Einstein and discovers that light behaves like particles too. Well, I didn’t make it worse.\n",
      "166 |||| [378] Penny  Oh, I’m so sorry, I’m such a mess, and on top of everything else I’m all gross from moving and my stupid shower doesn’t even work.\n",
      "167 |||| [379] Leonard  Our shower works.\n",
      "168 |||| [380] Penny  Really? Would it be totally weird if I used it?\n",
      "169 Sheldon  Yes. \n",
      "170 Leonard  No.\n",
      "171 Sheldon  No?\n",
      "172 Leonard  No.\n",
      "173 Sheldon  No.\n",
      "174 Leonard  It’s right down the hall.\n",
      "175 |||| [383] Penny  Thanks. You guys are really sweet.\n",
      "176 |||| [384] Sheldon  Well this is an interesting development. \n",
      "177 Leonard  How so?\n",
      "178 Sheldon  It has been some time since we’ve had a woman take her clothes off in our apartment.\n",
      "179 |||| [387] Leonard  That’s not true, remember at Thanksgiving my grandmother with Alzheimer’s had that episode.\n",
      "180 Sheldon  Point taken. It has been some time since we’ve had a woman take her clothes off after which we didn’t want to rip our eyes out. \n",
      "181 |||| [389] Leonard  The worst part was watching her carve that turkey.\n",
      "182 |||| [390] Sheldon  So, what exactly are you trying to accomplish here?\n",
      "183 Leonard  Excuse me?\n",
      "184 Sheldon  That woman in there’s not going to have sex with you.\n",
      "185 Leonard  Well I’m not trying to have sex with her.\n",
      "186 |||| [393] Sheldon  Oh, good. Then you won’t be disappointed.\n",
      "187 |||| [394, 395] Leonard  What makes you think she wouldn’t have sex with me, I’m a male and she’s a female?\n",
      "188 |||| [396] Sheldon  Yes, but not of the same species.\n",
      "189 |||| [398] Leonard  I’m not going to engage in hypotheticals here, I’m just trying to be a good neighbour.\n",
      "190 |||| [399] Sheldon  Oh, of course.\n",
      "191 |||| [400, 401] Leonard  That’s not to say that if a carnal relationship were to develop that I wouldn’t participate. However briefly.\n",
      "192 |||| [402] Sheldon  Do you think this possibility will be helped or hindered when she discovers your Luke Skywalker no-more-tears shampoo?\n",
      "193 Leonard  It’s Darth Vader shampoo. (There is a knock on the door.) Luke Skywalker’s the conditioner.\n",
      "194 |||| [405] Howard  Wait till you see this.\n",
      "195 Raj  It’s fantastic. Unbelievable.\n",
      "196 |||| [407] Leonard  See what?\n",
      "197 |||| [408] Howard  It’s a Stephen Hawking lecture from MIT in 1974.\n",
      "198 |||| [409] Leonard  This is not a good time.\n",
      "199 |||| [410] Howard  It’s before he became a creepy computer voice:.\n",
      "200 |||| [411] Leonard  That’s great, you guys have to go.\n",
      "201 Raj  Why?\n",
      "202 |||| [412] Leonard  It’s just not a good time.\n",
      "203 |||| [413] Sheldon  Leonard has a lady over.\n",
      "204 |||| [414] Howard  Yeah, right, your grandmother back in town?\n",
      "205 |||| [415, 416] Leonard  No. And she’s not a lady, she’s just a new neighbour.\n",
      "206 |||| [417] Howard  Hang on, there really is a lady here?\n",
      "207 |||| [418] Leonard  Uh-huh.\n",
      "208 |||| [419] Howard  And you want us out because you’re anticipating coitus?\n",
      "209 Leonard  I’m not anticipating coitus.\n",
      "210 Howard  So she’s available for coitus?\n",
      "211 Leonard  Can we please stop saying coitus?\n",
      "212 |||| [423] Sheldon  Technically that would be coitus interruptus.\n",
      "213 |||| [424, 425] Penny  Hey, is there a trick to getting it to switch from tub to shower. Oh. Hi, sorry. Hello!\n",
      "214 |||| [427, 428, 429] Howard  Enchante Madamoiselle. Howard Wolowitz, Cal-Tech department of Applied Physics. You may be familiar with some of my work, it’s currently orbiting Jupiter’s largest moon taking high-resolution digital photographs.\n",
      "215 |||| [430] Penny  Penny. I work at the Cheesecake Factory.\n",
      "216 |||| [431] Leonard  Come on, I’ll show you the trick with the shower.\n",
      "217 Howard  Bon douche.\n",
      "218 Penny  I’m sorry?\n",
      "219 |||| [434] Howard  It’s French for good shower. It’s a sentiment I can express in six languages.\n",
      "220 |||| [435] Leonard  Save it for your blog, Howard.\n",
      "221 Howard  See-ka-tong-guay-jow.\n",
      "222 |||| [437] Leonard  Uh, there it goes, it sticks, I’m sorry.\n",
      "223 |||| [438] Penny  Okay. Thanks. \n",
      "224 Leonard  You’re welcome, oh, you’re going to step right, okay, I’ll….\n",
      "225 Penny  Hey, Leonard?\n",
      "226 |||| [442] Leonard  The hair products are Sheldon’s.\n",
      "227 |||| [444] Penny  Um, okay. Can I ask you a favour.\n",
      "228 |||| [446] Leonard  A favour? Sure, you can ask me a favour, I would do you a favour for you.\n",
      "229 |||| [447] Penny  It’s okay if you say no.\n",
      "230 Leonard  Oh, I’ll probably say yes.\n",
      "231 |||| [449] Penny  It’s just not the kind of thing you ask a guy you’ve just met.\n",
      "232 Leonard  Wow.\n",
      "233 |||| [450] Sheldon  I really think we should examine the chain of causality here.\n",
      "234 |||| [451] Leonard  Must we?\n",
      "235 |||| [452, 453, 455, 456] Sheldon  Event A. A beautiful woman stands naked in our shower. Event B. We drive half way across town to retrieve a television set from the aforementioned woman’s ex-boyfriend. Query, on what plane of existence is there even a semi-rational link between these events?\n",
      "236 |||| [457] Leonard  She asked me to do her a favour, Sheldon.\n",
      "237 |||| [458] Sheldon  Ah, yes, well that may be the proximal cause of our journey, but we both know it only exists in contradistinction to the higher level distal cause.\n",
      "238 |||| [459] Leonard  Which is?\n",
      "239 |||| [460] Sheldon  You think with your penis.\n",
      "240 |||| [461] Leonard  That’s a biological impossibility and you didn’t have to come.\n",
      "241 |||| [462, 463] Sheldon  Oh, right, yes, I could have stayed behind and watched Wolowitz try to hit on Penny in Russian, Arabic and Farsi. Why can’t she get her own TV.\n",
      "242 |||| [464] Leonard  Come on, you know how it is with break-ups.\n",
      "243 Sheldon  No I don’t. And neither do you.\n",
      "244 |||| [466] Leonard  Wuh, I, I broke up with Joyce Kim.\n",
      "245 |||| [467] Sheldon  You did not break up with Joyce Kim, she defected to North Korea.\n",
      "246 |||| [468, 469, 470, 471] Leonard  To mend her broken heart. This situation is much less complicated. There’s some kind of dispute between Penny and her ex-boyfriend as to who gets custody of the TV. She just wanted to avoid having a scene with him.\n",
      "247 |||| [472] Sheldon  So we get to have a scene with him?\n",
      "248 |||| [473, 474] Leonard  No, Sheldon, there’s not going to be a scene. There’s two of us and one of him.\n",
      "249 |||| [475] Sheldon  Leonard, the two of us can’t even carry a TV. \n",
      "250 |||| [476] Raj)  So, you guys work with Leonard and Sheldon at the University?\n",
      "251 |||| [477] Penny  Uh, I’m sorry, do you speak English?\n",
      "252 |||| [478] Howard  Oh, he speaks English, he just can’t speak to women.\n",
      "253 Penny  Really, why?\n",
      "254 Howard  He’s kind of a nerd. Juice box?\n",
      "255 buzzer)  I’ll do the talking.\n",
      "256 buzzer  Yeah.\n",
      "257 Leonard  Hi, I’m Leonard, this is Sheldon.\n",
      "258 Sheldon  Hello.\n",
      "259 |||| [484, 485] Leonard  What did I just…. Uh, we’re here to pick up Penny’s TV.\n",
      "260 |||| [486] Voice  Get lost.\n",
      "261 |||| [487] Sheldon  Okay, thanks for your time.\n",
      "262 |||| [488] Leonard  We’re not going to give up just like that.\n",
      "263 |||| [489, 490] Sheldon  Leonard, the TV is in the building, we’ve been denied access to the building, ergo we are done.\n",
      "264 |||| [491] Leonard  Excuse me, if I were to give up at the first little hitch I never would have been able to identify the fingerprints of string theory in the aftermath of the big bang.\n",
      "265 Sheldon  My apologies. What’s your plan.\n",
      "266 |||| [493] Sheldon  It’s just a privilege to watch your mind at work.\n",
      "267 |||| [494, 495] Leonard  Come on, we have a combined IQ of 360, we should be able to figure out how to get into a stupid building.\n",
      "268 |||| [496] Sheldon  What do you think their combined IQ is?\n",
      "269 |||| [497] Leonard  Just grab the door.\n",
      "270 Leonard  This is it. (Knocks.) I’ll do the talking.\n",
      "271 Sheldon  Good thinking, I’ll just be the muscle.\n",
      "272 man  Yeah?\n",
      "273 Leonard  I’m Leonard, this is Sheldon.\n",
      "274 |||| [502] Sheldon  From the intercom.\n",
      "275 |||| [503] Man  How the hell did you get in the building?\n",
      "276 Leonard  Oh. We’re scientists.\n",
      "277 |||| [504] Sheldon  Tell him about our IQ.\n",
      "278 Sheldon  Leonard.\n",
      "279 Leonard  What?\n",
      "280 |||| [506] Sheldon  My mom bought me those pants.\n",
      "281 Leonard  I’m sorry.\n",
      "282 Sheldon  You’re going to have to call her.\n",
      "283 |||| [508] Leonard  Sheldon, I’m so sorry I dragged you through this.\n",
      "284 |||| [509] Sheldon  It’s okay. It wasn’t my first pantsing, and it won’t be my last.\n",
      "285 |||| [510, 511] Leonard  And you were right about my motives, I was hoping to establish a relationship with Penny that might have some day led to sex.\n",
      "286 |||| [512] Sheldon  Well you got me out of my pants.\n",
      "287 |||| [514, 515] Leonard  Anyway, I’ve learned my lesson. She’s out of my league, I’m done with her, I’ve got my work, one day I’ll win the Nobel Prize and then I’ll die alone.\n",
      "288 |||| [516] Sheldon  Don’t think like that, you’re not going to die alone.\n",
      "289 |||| [517] Leonard  Thank you Sheldon, you’re a good friend.\n",
      "290 Sheldon  And you’re certainly not going to win a Nobel Prize.\n",
      "291 |||| [519, 520] Howard  This is one of my favourite places to kick back after a quest, they have a great house ale.\n",
      "292 Penny  Wow, cool tiger.\n",
      "293 |||| [522, 524] Howard  Yeah, I’ve had him since level ten. His name is Buttons. Anyway, if you had your own game character we could hang out, maybe go on a quest.\n",
      "294 Penny  Uh, sounds interesting.\n",
      "295 Howard  So you’ll think about it?\n",
      "296 |||| [527] Penny  Oh, I don’t think I’ll be able to stop thinking about it.\n",
      "297 |||| [528] Raj  Smooth.\n",
      "298 Leonard  We’re home.\n",
      "299 |||| [530] Penny  Oh, my God, what happened?\n",
      "300 |||| [531] Leonard  Well, your ex-boyfriend sends his regards and I think the rest is fairly self-explanatory.\n",
      "301 |||| [532] Penny  I’m so sorry, I really thought if you guys went instead of me he wouldn’t be such an ass.\n",
      "302 |||| [533] Leonard  No, it was a valid hypothesis.\n",
      "303 |||| [534, 535] Sheldon  That was a valid hypothesis? What is happening to you?\n",
      "304 |||| [536, 538] Penny  Really, thank you so much for going and trying you’re, uh, you’re so terrific. Why don’t you put some clothes on, I’ll get my purse and dinner is on me, okay?\n",
      "305 |||| [539] Leonard  Really? Great.\n",
      "306 |||| [540, 541] Sheldon  Thank you. You’re not done with her, are you?\n",
      "307 |||| [542] Leonard  Our babies will be smart and beautiful.\n",
      "308 |||| [543] Sheldon  Not to mention imaginary.\n",
      "309 |||| [544] Leonard  Is Thai food okay with you Penny?\n",
      "310 Penny  Sure.\n",
      "311 |||| [545] Sheldon  We can’t have Thai food, we had Indian for lunch.\n",
      "312 Penny  So?\n",
      "313 Sheldon  They’re both curry based cuisines.\n",
      "314 Penny  So?\n",
      "315 |||| [548] Sheldon  They would be gastronomically redundant. I can see we’re going to have to spell out everything for this girl.\n",
      "316 Penny  Any ideas Raj? (He just looks at her with a worried expression.)\n",
      "317 |||| [550, 551] Howard  Turn left on Lake Street and head up to Colorado. I know a wonderful little sushi bar that has karaoke.\n",
      "318 Penny  That sounds like fun.\n",
      "319 (sings)  Baby, baby don’t get hooked on me. Uh, baby, baby don’t get hooked on me.\n",
      "320 |||| [555] Sheldon  I don’t know what your odds are in the world as a whole, but as far as the population of this car goes, you’re a veritable Mack Daddy.\n"
     ]
    }
   ],
   "source": [
    "# Show TBBT Episode\n",
    "for i, (utt, speaker) in enumerate(tbbt_episode):\n",
    "    if i in epi2sub:\n",
    "        print(i, \"||||\",epi2sub[i], speaker, utt)\n",
    "    else:\n",
    "        print(i, speaker, utt)"
   ],
   "metadata": {
    "collapsed": false,
    "pycharm": {
     "name": "#%%\n"
    }
   }
  },
  {
   "cell_type": "code",
   "execution_count": 23,
   "outputs": [
    {
     "name": "stdout",
     "output_type": "stream",
     "text": [
      "0 Thank you very much. Good day to you. 多谢了 日安\n",
      "1 Good day to you. 日安\n",
      "2 Come and buy a dresser! 来买梳妆台了\n",
      "3 The years with Iisakki passed quickly. 由丽萨奇的日子过的很快\n",
      "4 Before I knew it, I was all grown up, with a beard and all. 在我知道之前 我已经长大 还有着胡须\n",
      "5 The village had grown. 村子也大了 有很多新的小孩\n",
      "6 There were so many new children - that me and Iisakki could not keep count. 我和丽萨奇都无法数过来\n",
      "7 But we had a secret helper. 但是我们有个秘密\n",
      "8 Nikolas. -尼古拉斯\n",
      "9 -Eemeli. -艾美利\n",
      "10 Long time no see. You should come more often. 很久没见了 你应该常来\n",
      "11 I've been busy. Iisakki is no longer young. 我一直很忙 丽萨奇已经不再年轻了\n",
      "12 Do you have the list? 你有名单吗\n",
      "13 Well, I'll be... So many new children. 呃 我 好多新生的孩子啊\n",
      "14 As a matter of fact, one name is missing from that list. Elsa? 事实上 有一个名字漏掉了 埃尔莎\n",
      "15 Is that... -是吗\n",
      "16 -A girl, three months. -一个女孩 三个月大\n",
      "17 Let's add her to the list. 那我们加上她的名字吧\n",
      "18 What is the name of this little princess? 这个小公主叫什么名字\n",
      "19 Aada. 亚达\n",
      "20 Aada? 亚达\n",
      "21 Hello, Aada. 你好 亚达\n",
      "22 Nikolas, meet Henrik and Hermanni. 尼古拉斯 见一下汉瑞克和赫曼尼\n",
      "23 My sons. 我的儿子\n",
      "24 I sought them out and asked them here. 我在外面找到他们带到这里来\n",
      "25 We were wrong when we... 我们错了\n",
      "26 We want to make it up to our father. 我们想弥补我们的父亲\n",
      "27 We came to take him to live with us. -我们来带他跟我们一起过\n",
      "28 -To live with you? Where? -跟你们一起过 在哪里\n",
      "29 Away from here. Father is too old to be living in arctic conditions. 离这里很远 父亲太老了 无法住在北极地区了\n",
      "30 You'll get the house and the workshop. You've earned them. 你会得到房子和工作室 它们属于你的了\n",
      "31 Wait, Nikolas. 等等 尼古拉斯\n",
      "32 Nikolas... 尼古拉斯\n",
      "33 Nikolas, try to understand. 尼古拉斯 试着去理解\n",
      "34 Even though I love you like my own son... 尽管我把你当成自己的儿子 一样疼爱\n",
      "35 This key opens the chest under my bed. 这钥匙可以打开我床下的柜子\n",
      "36 I've always been skimpy, maybe too much so. 我一直很吝啬 也许太吝啬了\n",
      "37 I think you can do better. 我想你可以做的更好\n",
      "38 Try to understand. 试着去理解\n",
      "39 Eemeli. -艾美利\n",
      "40 -Nikolas. -尼古拉斯\n",
      "41 Where have you been? -你去哪里了\n",
      "42 Here! But everything is unfinished. 这里 但是一切都没完成呢\n",
      "43 These should last for ten years. 这些应该持续10年\n",
      "44 This is barely enough for next Christmas. 这几乎不够明年圣诞节\n",
      "45 -A map. -地图\n",
      "46 There, there... To this remote village, to these houses. 那里 那里 到这个遥远的村子 到这些房子\n",
      "47 There, there, there, there, there... Christmas presents. 那里 那里 那里 那里 那里 圣诞礼物\n",
      "48 Christmas presents? -圣诞礼物\n",
      "49 So many villages and children. How do you know who'll get what? 这么多村子和孩子 你怎么知道谁得到什么\n",
      "50 There's a simple way. -有个简单的办法\n",
      "51 -What is it? -是什么\n",
      "52 I shall write names on the wrapping. 我会把名字写在包装纸上\n",
      "53 Wrapping? -包装纸\n",
      "54 -Ingenious, isn't it? -很聪明 是吗\n",
      "55 How is all this possible? 这都怎么可能\n",
      "56 Iisakki's life savings. 丽萨奇的生活积蓄\n",
      "57 Now I can bring Christmas cheer to the children. 现在我可以把圣诞的欢乐 带给孩子们\n",
      "58 Nobody can live just for Christmas. 没人可以为了圣诞节而活\n",
      "59 I've been selfish. I've only brought presents to those - who have helped me. 我一直很自私 我只送礼物给那些\n",
      "60 -Selfish? -帮助过我的人 -自私\n",
      "61 From now on, I'm going to appear only on Christmas Eve. -从现在开始 我只出现在圣诞前夕\n",
      "62 -Nikolas! -尼古拉斯\n",
      "63 I'll visit your shop once a year - to replenish my supplies and to get a list of new children. 我会每年去你店里一次 来补充我的供给以及收集新生孩子的名单\n",
      "64 There's more to life than just Christmas. 生活不光是圣诞节\n",
      "65 Like what? -比如什么\n",
      "66 -It's an impossible task. -这是个不可能的任务\n",
      "67 You don't have room for all those presents. 你没有地方放那些礼物\n",
      "68 And Hilma won't be able to pull the load. 希拉 也无法拉的动\n",
      "69 It can't be done. -做不到\n",
      "70 -Yes, it can. -是的 能做到\n",
      "71 Christmas is around the corner. -圣诞近在旦夕\n",
      "72 -Animals are quick to learn. -动物们学的很快\n",
      "73 Reindeer are not horses. -驯鹿不是马\n",
      "74 -Hilla, this is child's play. -希拉 这是孩子们玩的\n",
      "75 I can handle reindeer, dear. \"Reindeer, dear.\" 我能对付驯鹿 亲爱的 \"驯鹿 亲爱的\n",
      "76 You can try. 你可以试试\n",
      "77 Reindeer obey me better when I'm wearing this colourful cap. 当我戴上这顶彩色的帽子时 驯鹿更听我的话\n",
      "78 Even the squirrels are afraid of such a garish colour. 就连松鼠也害怕这样炫目的颜色\n",
      "79 Reindeer would obey me even if I had a potholder on my head. 如果我头上顶块厚布 驯鹿就会听我的话\n",
      "80 I don't need any red caps. 我不需要什么红帽子\n",
      "81 Okay, fall in line. Put your antlers down. 好的 列队 把你们的鹿角放低\n",
      "82 Come to Nikolas, chop-chop. 到尼古拉斯这里来\n",
      "83 Dasher, Dancer, Prancer and Blitzen, your training begins. 达舍尔 丹赛 普兰斯和布利申 你们的训练开始了\n",
      "84 The first lesson... Lassoing. Dancer, behave yourself. 第一课 套索 丹赛 注意点\n",
      "85 Sit there! 坐在那里\n",
      "86 Sit! Sit! Stay! 坐下 坐下 别动\n",
      "87 Dasher, if you don't behave, Nikolas will catch you! Prancer! 达舍尔 如果你不动 尼古拉斯要抓你了 普兰斯\n",
      "88 Let's try again. 我们再来\n",
      "89 Hold it! 别动\n",
      "90 Dancer! Prancer! 丹赛 普兰斯\n",
      "91 A red cap, a red coat... And frieze trousers to boot. 红帽子 红帽子 还有长至靴子的棉裤\n",
      "92 What was the colour? -是什么颜色\n",
      "93 -Red. -红色\n",
      "94 Could you repeat that? 你可以重复一遍吗\n",
      "95 Red! 红色\n",
      "96 I'll show you. 我给你看下\n",
      "97 Let's see, Aada. What do you have there? 亚达 我们看下 你那里有什么\n",
      "98 A spinning top. -一个抽陀螺\n",
      "99 -That's nice. -好极了\n",
      "100 In a few years the mysterious present-bearer - became the staple of children's stories. 很多年了一直显得很神秘 成为孩子们的神话\n",
      "101 Some swore to have seen elves bringing presents at Christmas. 有人看到恶作剧的孩子 在圣诞节带来礼物\n",
      "102 Others claimed that the presents were from a child-friendly gnome. 另外一些人则说那礼物 是来自友好的矮子那里\n",
      "103 Luckily, they didn't suspect me. 幸运的是 他们不尊重我\n",
      "104 Nikolas is coming! -尼古拉斯来了\n",
      "105 -Run away! -快跑\n",
      "106 Good day. 好日子\n",
      "107 Where are the others? -其他人去哪了\n",
      "108 -They are afraid of you. -他们害怕你\n",
      "109 Mikko said that it's not you who brings us presents at Christmas. 米科说就是你在圣诞节 不给他们带礼物\n",
      "110 That you hate children. Is it true? -你讨厌孩子 那是真的吗\n",
      "111 -Mikko is half right. -米科说对了一半\n",
      "112 I don't bring presents. But I don't hate children, either. 我没有带礼物 但我也不讨厌孩子\n",
      "113 Who brings the presents? 谁带礼物了\n",
      "114 Nikolas told me when I asked him. 当我问尼古拉斯的时候 他就告诉了我\n",
      "115 Aada claims that you don't bring us presents. 亚达说你不给我们带礼物\n",
      "116 Aada is right. 亚达说的对\n",
      "117 Aada! 亚达\n",
      "118 Why did you say so? Tell her the truth. 你为什么要这样说 告诉她事实\n",
      "119 No way. Children must not associate me with the presents. 不行 孩子们不应该向我要礼物\n",
      "120 It would ruin everything. -一切都会变糟的\n",
      "121 -Why is that? -为什么会那样\n",
      "122 Nikolas! -尼古拉斯\n",
      "123 -Eemeli? -艾美利\n",
      "124 Is Aada here? -亚达在这里吗\n",
      "125 Aada has gone missing. -亚达失踪了\n",
      "126 \"Dear mother and father. Don't worry. 亲爱的爸爸妈妈 不要担心 我去查明\n",
      "127 I went to find out - who brings all the presents.\" 谁给我们带来了礼物\n",
      "128 We have to wake everybody up and arrange a search party. 我们得叫醒大家 安排一个搜查小组\n",
      "129 You must lend me some clothes. Otherwise I'll be exposed. 你得借我一些服装 不然我会暴露的\n",
      "130 Okay, boys. Hurry on home. 好的 伙计们 快点回家\n",
      "131 Let's form groups of two. A torch and a lantern for each group. 让我们分成两组 每组拿个火把和一盏灯\n",
      "132 Aada couldn't have gone far. Let's hurry. 亚达不会走远的 我们赶快\n",
      "133 I know where she is. -我知道她在哪\n",
      "134 -What did you say, Mikko? -米科 你在说什么\n",
      "135 Aada wants to deliver you a present. 亚达想要送你一件礼物\n",
      "136 Me? Why? -我 为什么\n",
      "137 -Aada doesn't believe that you don't bring us presents. -亚达不相信你没有给我们送礼物\n",
      "138 Why didn't you tell us earlier? -你为什么不早点告诉我\n",
      "139 -I promised not to tell. -我答应过不说的\n",
      "140 Will Aada return? 亚达会回来吗\n",
      "141 Aada doesn't know where you live. 亚达不知道该怎么活 如果她知道\n",
      "142 And even if she knew - she won't be able to walk that far. Aada! 她就不会走那么远的 亚达\n",
      "143 Nikolas? -尼古拉斯\n",
      "144 -Aada! -亚达\n",
      "145 Nobody thought that you'd manage to get this far. 没人能想到你会走这么远\n",
      "146 Twelve miles in a blizzard. How is it possible? 在暴风雪里走了20英里 这怎么可能呢\n",
      "147 It was nothing on a reindeer sleigh. -在驯鹿雪橇上就没什么了\n",
      "148 -A reindeer sleigh? -一个驯鹿雪橇\n",
      "149 What reindeer sleigh? -什么驯鹿雪橇\n",
      "150 -Suddenly, a sleigh appeared. -突然有一个驯鹿雪橇\n",
      "151 I thought it was you but the sleigh was empty... Well, not quite. 我想那是你的但雪橇里面是空的 好了 不安静了\n",
      "152 I was cold so I put on your clothes. Then the reindeer brought me here. 我很冷所以带上了你的帽子 是雪橇把我送到这的\n",
      "153 I told Aada everything. 我什么都告诉亚达了 我怎么会那么做\n",
      "154 How I'd become the way I am - and why it was so important to deliver presents at Christmas. 为什么在圣诞节送礼物会如此重要\n",
      "155 I even revealed my dream of continuing this tradition - when I would be gone. 我甚至表明了我的梦想 就是继续这样下去 一直到我死去\n",
      "156 What kind of girl would Aada be now if she hadn't become a water nymph? 如果亚达没有变成一个水仙的话 那她现在会是什么样子\n",
      "157 Hopefully she'd be like you. 希望她会像你一样\n",
      "158 Aada kept her promise. 亚达坚守了她的承诺\n",
      "159 She didn't reveal my secret. Quite the opposite. 她没有说出我的秘密 真是不敢相信\n",
      "160 He didn't look like Nikolas. 他看起来不像是尼古拉斯 他是一个白发老人\n",
      "161 He was a wrinkly old man - who called himself Christmas Codger. 自己叫做圣诞老人\n",
      "162 The years passed, and before I knew it - my friendship with Aada had lasted almost twenty years. 几年过去了 在我知道之前 我跟亚达的友谊 已经持续了20年了\n",
      "163 Nikolas! 尼古拉斯\n",
      "164 Well? -什么事\n",
      "165 -I'm getting married. -我要结婚了\n",
      "166 To Mikko? 嫁给米科\n",
      "167 Nikolas, will you pick me up on Christmas morning? 尼古拉斯 你圣诞节早上会来接我吗\n",
      "168 Of course I will. 我当然会了\n",
      "169 -For what? -为了什么\n",
      "170 For everything. 为了一切\n",
      "171 Fear of losing love is part of love. It's part of life. 害怕失去爱也是爱的一部分 这是生活的一部分\n",
      "172 Your father... Eemeli taught me that. 你爸爸 艾美利告诉我那个的\n",
      "173 You have taught me how wonderful it is to give. 你已经告诉我 给予是多么的幸福\n",
      "174 Nikolas, maybe you should think of yourself for a change. 尼古拉斯 也许你自己该想想改变一下\n",
      "175 Nothing lasts forever. 没有什么是永久的\n",
      "176 It was time for me to give in to my years. 是我该服老的时候了\n",
      "177 Next Christmas would be the last. My last Christmas. 下一个圣诞节将是最后一个 我最后的圣诞节\n",
      "178 It's beautiful. Who is it for? 很漂亮 这是给谁的\n",
      "179 Can I gift wrap it? -No. -我能包装礼物吗\n",
      "180 I want to do it myself. -不 我想自己来做\n",
      "181 See you on Christmas morning. 圣诞节早上见\n",
      "182 Are you sure you don't want any help at Christmas? 你确定你不想 在圣诞节做任何事吗\n",
      "183 Yes. I want to do my rounds alone. 是的 我想一个人到处去游玩\n",
      "184 Nikolas, remember your promise. This is the last Christmas. 尼古拉斯 记住你的承诺 这是最后一个圣诞节\n",
      "185 This is the last Christmas. 这是最后一个圣诞节\n",
      "186 Nikolas? 尼古拉斯\n",
      "187 \"Merry Christmas to little Aada. Your brother, Nikolas.\" 祝小亚达圣诞节快乐 你的兄弟 尼古拉斯\n",
      "188 -We won't be seeing Nikolas again. -我们再也见不到尼古拉斯了\n",
      "189 -I can't explain. I just know it. -我解释不清 我只知道\n",
      "190 What are you doing? There's no sense in doing that. 你在做什么 那样做没有任何意义\n",
      "191 Nikolas wanted this to continue. -尼古拉斯想要这个继续下去\n",
      "192 A present for our Nikolas will disappoint other children. 一件给我们尼古拉斯的礼物 将会使孩子失望\n",
      "193 Other fathers have done this too... -It's not the same thing. 其他爸爸们也得做这个 这不是同一件事\n",
      "194 Mikko, that's cheating. 米科 那是骗人的\n",
      "195 Mikko? 米科\n",
      "196 Merry Christmas, little Aada. 圣诞节快乐 小亚达\n",
      "197 Merry Christmas, Nikolas. 圣诞节快乐 尼古拉斯\n",
      "198 Dasher, Dancer, Prancer and Blitzen, ahoy! 达舍尔 丹赛 普兰斯和布利申\n",
      "199 Merry Christmas! 圣诞节快乐\n",
      "200 |||| [0] If a photon is directed through a plane with two slits in it and either is observed it will not go through both. 将光子正对平面上的双缝 观察任意一个隙缝 它不会穿过那两个隙缝\n",
      "201 If unobserved, it will. 如果没被观察 那就会\n",
      "202 |||| [0] If it's observed after it left the plane, before it hits its target... 总之 如果观察它在离开平面到击中目标之前\n",
      "203 |||| [0] - ...it will not have gone through both slits. 它就不会穿过那两个隙缝\n",
      "204 - Agreed. What's your point? 没错 但你为什么要说这个?\n",
      "205 |||| [2] There's no point, I just think it's a good idea for a T-shirt. 没什么 我只是觉得这个主意 可以用于设计T恤衫\n",
      "206 |||| [5] One across is Aegean, eight down is Nabokov. 横1是Aegean (爱情海)\n",
      "207 |||| [5] Twenty-six across is MCM. 竖8是Nabokov (小说洛丽塔的作者) 横26是MCM\n",
      "208 Fourteen down is... Move your finger. 竖14是...\n",
      "209 ...phylum, which makes 14 across Port-Au-Prince. 手指挪开点 Phylum (生物门类) 这样一来横14就是Port -au\n",
      "210 See, Papa Doc's capital idea, that's Port-Au-Prince. 瞧 提示是\"Papa doc的首都\" (海地前总统) 所以是太子港\n",
      "211 Haiti. 海地的\n",
      "212 |||| [6] - Can I help you? - Yes. - 能为你效劳吗?\n",
      "213 |||| [7] Um, is this the high-IQ sperm bank? 这里是高智商精子银行吗?\n",
      "214 |||| [8] If you have to ask, maybe you shouldn't be here. 如果你这么问 也许你不该来这\n",
      "215 |||| [9] I think this is the place. 我想就是这没错了\n",
      "216 - Fill these out. - Thank you. - 把这个填一填\n",
      "217 - We'll be right back. - 谢谢 我们马上好\n",
      "218 |||| [12] - Oh, take your time. I'll just finish my crossword puzzle. 慢慢来 我还要玩填字游戏\n",
      "219 |||| [12] Oh, wait. 噢 慢着\n",
      "220 |||| [13] Leonard, I don't think I can do this. Leonard 我办不到\n",
      "221 What, are you kidding? 开玩笑? 你可是半职业人士\n",
      "222 |||| [15] We are committing genetic fraud. 不 我们这样是诈骗\n",
      "223 |||| [15] There's no guarantee our sperm's going to generate high-IQ offspring. Think about that. 我们没法保证 生出来的一定是高智商小孩\n",
      "224 |||| [15] I have a sister with the same basic DNA mix who hostesses at Fuddruckers. 我姐姐跟我有一套相同的基本基因 她却在Fuddrucker餐厅当服务生\n",
      "225 |||| [16] Sheldon, this was your idea. Sheldon 这可是你的主意啊\n",
      "226 |||| [16] A little extra money to get fractional T1 bandwidth in the apartment? 轻松赚点钱 就有钱能升级我们的网络带宽\n",
      "227 |||| [17] I know. And I do yearn for faster downloads. 我知道 我确实很渴望高速下载\n",
      "228 |||| [17] There's some poor woman who's gonna pin her hopes on my sperm. 但一些可怜的女人 会把希望寄托在我的精子上\n",
      "229 |||| [17] What if she winds up with a toddler who doesn't know if he should use a differential to solve for the area under a curve? 万一生出来一个 连曲线下部的面积用积分还是微分算 都搞不清楚的小屁孩怎么办?\n",
      "230 - I'm sure she'll still love him. 我想她还是会爱那个宝宝的\n",
      "231 - I wouldn't. 我不会\n",
      "232 |||| [20] Well, what do you wanna do? 你想要怎样?\n",
      "233 |||| [21] - I want to leave. - 我想要走\n",
      "234 |||| [23] - What's the protocol for leaving? - I don't know. 离开时要怎么说呢?\n",
      "235 |||| [24] I've never reneged on a proffer of sperm before. 我不知道 我可从没有拒绝过提供精子的要求\n",
      "236 Let's try just walking out. 我们就直接走出去吧\n",
      "237 - Bye. - Bye-bye. - 再见\n",
      "238 Nice meeting you. - 再见 很高兴认识你\n",
      "239 |||| [29] - Are you still mad about the sperm bank? 你还在为精子银行的事生气吗? 没有\n",
      "240 |||| [31] You wanna hear an interesting thing about stairs? 你想听一件关于楼梯的趣事吗?\n",
      "241 |||| [32] Not really. 不是很想\n",
      "242 |||| [33] If the height of a step is off by as little as two millimeters... - ...most people will trip. 如果一阶楼梯比普通的矮个2毫米 大部分人都会绊倒\n",
      "243 - I don't care. 不关我事\n",
      "244 Two millime...? That doesn't seem right. 2毫米?\n",
      "245 It's true. 不会吧\n",
      "246 |||| [35] I did a series of experiments when I was 12. 是真的 我12岁时做了一系列的实验\n",
      "247 |||| [35] My father broke his clavicle. 我爸爸因此还跌断了锁骨\n",
      "248 |||| [36] Is that why they sent you to boarding school? No. 所以他们把你送去寄宿学校?\n",
      "249 |||| [37] That was the result of my work with lasers. 不 那是因为我研究激光惹的事\n",
      "250 New neighbor? SHELDON: - 新邻居?\n",
      "251 |||| [39] Evidently. - 显然是\n",
      "252 |||| [40] Significant improvement over the old neighbor. 比上一任有了明显可观的改善\n",
      "253 |||| [41] Two-hundred pound transvestite with a skin condition? Yes, she is. 那个200磅重还患有皮肤病的异装癖?\n",
      "254 |||| [42] Oh, hi. - 嗨\n",
      "255 - Hi. - 嗨 - 嗨 - 嗨\n",
      "256 |||| [48] We don't mean to interrupt. We live across the hall. 我们不想打扰你 我们是住对面的邻居\n",
      "257 Oh, that's nice. 啊 太好了\n",
      "258 No. We don't live together. 噢不 我们不是同居\n",
      "259 |||| [50] I mean we live together, but in separate, heterosexual bedrooms. 我是说 虽然住在一起 但是在不同的... 直男房间里\n",
      "260 |||| [51] Okay, well, guess I'm your new neighbor. - Penny. 那好吧 我是你们的新邻居 我叫Penny\n",
      "261 |||| [52] - Leonard. Sheldon. 我是Leonard 他是Sheldon\n",
      "262 |||| [57] Well... Oh, welcome to the building. 欢迎你搬来\n",
      "263 |||| [58] Oh, thank you. Maybe we can have coffee sometime. 谢谢 有空一起喝个咖啡吧\n",
      "264 |||| [59] - Oh, great. - 噢 好啊\n",
      "265 Well, bye. - 那么 再见啦\n",
      "266 |||| [66] Should we have invited her for lunch? No. 我们应该邀请她共进午餐吗?\n",
      "267 |||| [67] We're gonna start season two of Battlestar Galactica. 不 我们要看Battlestar Galactica第二季 (太空堡垒卡拉狄加)\n",
      "268 |||| [68] We already watched the season two DVDs. 我们已经看过第二季的DVD了\n",
      "269 |||| [69] Not with commentary. 那时候没带评论音轨一起看啊\n",
      "270 |||| [70] I think we should be good neighbors. Invite her over, make her feel welcome. 我们应该做好邻居 请她过来 让她感受到我们对她的欢迎\n",
      "271 We never invited Louie/Louise over. 我们从来没请那个Louis还不Louise过来啊\n",
      "272 |||| [72] Well, and that was wrong of us. 那是我们不对\n",
      "273 |||| [72] We need to widen our circle. 我们要扩大社交圈\n",
      "274 |||| [73] I have a very wide circle. 我的社交圈很广\n",
      "275 |||| [73] I have 212 friends on MySpace. 我在MySpace上有212个朋友\n",
      "276 |||| [74] Yes, and you've never met one of them. 是的 但你从没见过任何一个真人\n",
      "277 That's the beauty of it. 这正是它的美好之处\n",
      "278 I'm gonna invite her over. 我去请她过来\n",
      "279 |||| [76] We'll have a nice meal and chat. 我们好好吃一餐 闲聊一下\n",
      "280 |||| [77] We don't chat, at least not off-line. 我们不闲聊 至少不线下闲聊\n",
      "281 Well, it's not difficult. 不会很难的 你就听她说\n",
      "282 |||| [78] You just listen to what she says and then you say something appropriate in response. 然后给一些适当的回应就好了\n",
      "283 |||| [79] To what end? 直到什么时候?\n",
      "284 - Hi. Again. - Hi. 嗨 又是我们\n",
      "285 |||| [85] Anyway we brought home Indian food and I know that moving can be stressful and I find that when I'm undergoing stress that good food and company can have a comforting effect. 我们买了些印度菜 那个... 我知道搬家会很累人\n",
      "286 |||| [85] Also, curry's a natural laxative and I don't have to tell you that, you know a clean colon is just one less thing to worry about. 此外 咖喱是天然的温和泻药 你也知道干净的结肠 会让你省去件烦心事\n",
      "287 |||| [86] I'm no expert, but in the context of a lunch invitation you might wanna skip the reference to bowel movements. Leonard 虽然我不是专家 但我相信当你邀请人吃午饭的时候 最好省略关于肠部运动的话题\n",
      "288 |||| [87] Oh, you're inviting me over to eat? 你们是在邀我一起吃饭?\n",
      "289 Oh, that's so nice. I'd love to. 真是太好了 我很愿意\n",
      "290 |||| [91] So, what do you guys do for fun around here? 你们平时都玩什么呢?\n",
      "291 |||| [92] Well, today we tried masturbating for money. 今天我们尝试了靠手淫挣钱\n",
      "292 |||| [93] - Okay, well, make yourself at home. Tears 请随意\n",
      "293 |||| [96] This looks like some serious stuff. Leonard, did you do this? 这些看起来好深奥啊 Leonard 这是你写的吗?\n",
      "294 Actually, that's my work. 实际上 那些是我做的\n",
      "295 |||| [99] Yeah, well, it's just some quantum mechanics with a little string theory doodling around the edges. 就是些量子力学而已 边上我随便胡写了一点弦理论 那个部分 是开玩笑的\n",
      "296 |||| [99] It's a spoof of the Born-Oppenheimer approximation. 是我乱改的伯恩 -奥本海默近似版\n",
      "297 |||| [100] So you're, like, one of those Beautiful Mind genius guys. 看来你是\"美丽心灵\"那部电影 里面的那种天才人物啊\n",
      "298 Yeah. 可以这么说\n",
      "299 |||| [102] This is really impressive. 好厉害啊\n",
      "300 |||| [103] I have a board, if you like boards. This is my board. 我也有块纸板 如果你喜欢 这边是我的纸板\n",
      "301 |||| [104] Holy smokes. 我的妈呀\n",
      "302 |||| [105] If by \"holy smokes,\" you mean a derivative restatement of the stuff you can find scribbled on the wall of any men's room at MIT, sure. 如果你说的\"我的妈呀\" 指的是在麻省理工大学 任何一个男生宿舍墙上都能看到的涂写 那我想是的\n",
      "303 |||| [107] Who hasn't seen this differential below \"here I sit brokenhearted\"? 谁没见过\"我伤心地坐在这\" 下面的微分演算啊?\n",
      "304 |||| [108] At least I didn't have to invent 26 dimensions just to make the math come out. 至少我不用自己发明26种量纲 才能让演算成立\n",
      "305 - I didn't invent them. They're there. 我没有发明它们 它们本来就是存在的\n",
      "306 |||| [110] - In what universe? 在哪个世界上存在啊?\n",
      "307 |||| [111] In all of them, that is the point. 所有的世界里都存在 这正是关键\n",
      "308 |||| [112] Do you guys mind if I start? 我可以开动了吗?\n",
      "309 - Penny. - Yeah? Penny\n",
      "310 That's where I sit. 你坐了我的座位\n",
      "311 |||| [114] So sit next to me. 那你坐我旁边嘛\n",
      "312 |||| [115] - No, I sit there. 不行 我只坐那个座位\n",
      "313 |||| [118] - Here we go. 又来了\n",
      "314 |||| [119] In winter, that seat is close enough to the radiator to remain warm yet not so close as to cause perspiration. 冬天 那个位置跟电暖炉之间的距离 正好能让人保持温暖 而又不会太近导致出汗\n",
      "315 |||| [119] In the summer, it's in a cross breeze created by opening windows there and there. 夏天 坐在这儿正好能吹到 从这个窗口到那个窗口对吹的风\n",
      "316 |||| [119] It faces the television at an angle that is neither direct, discouraging conversation nor so far wide as to create a parallax distortion. 而且这里对着电视的角度正好 既不会妨碍跟他人谈话 又不用把头扭得太过去 以致造成视差畸变\n",
      "317 |||| [119] I could go on, but I think I've made my point. 我还能继续解释下去 但我想你应该明白了\n",
      "318 |||| [120] Do you want me to move? 你要我移开吗?\n",
      "319 |||| [122] - Just sit somewhere else. - 你就坐到旁边去吧\n",
      "320 |||| [124] Sheldon, sit. Sheldon 给我坐下!\n",
      "321 |||| [126] Well, this is nice. 这样很不错\n",
      "322 |||| [126] We don't have a lot of company over. 我们不是经常有朋友过来\n",
      "323 That's not true. Koothrappali and Wolowitz come over. 你胡扯 Koothrappali和Wolowitz天天都来\n",
      "324 Yes, I know. 我知道 但...\n",
      "325 |||| [129] Tuesday night we played Klingon Boggle until 1 in the morning. 星期二晚上 我们玩Klingon拼字游戏到夜里1点\n",
      "326 - Yeah, I remember. 是啦 我记得\n",
      "327 |||| [131] - I resent you saying we don't have company. 我讨厌你说我们没有朋友 - 抱歉\n",
      "328 - That has a negative social implication. - 那会产生消极的交际暗示\n",
      "329 - I said I'm sorry. 我说了我很抱歉!\n",
      "330 |||| [135] So Klingon Boggle? Klingon拼字游戏是什么?\n",
      "331 |||| [136] Yeah. It's like regular Boggle, but in Klingon. 就像普通的拼字游戏 但是是Klingon语的 (星际迷航中外星武士一族的怪异语言)\n",
      "332 |||| [136] That's probably enough about us. So tell us about you. 不聊我们了 说说你的事吧\n",
      "333 |||| [137] I'm a Sagittarius, which probably tells you way more than you need to know. 我是人马座的 这一点就很能说明我的个性啦\n",
      "334 |||| [138] Yes, it tells us that you participate in the mass cultural delusion that the sun's position relative to arbitrary constellations at the time of your birth somehow affects your personality. 是啊 它告诉我们你也是 迷信那种大众文化妄想的一员 你相信你出生时太阳的视位置 跟任意划分的星群间的关系 能以某种方式影响你的性格\n",
      "335 |||| [139] Participate in the what? 我相信什么?\n",
      "336 |||| [140] I think what Sheldon's trying to say is that Sagittarius wouldn't have been our first guess. 我想Sheldon是说 你第一眼看上去不像人马座\n",
      "337 |||| [141] Oh, yeah, a lot of people think I'm a water sign. 对啊 很多人觉得我像水相星座\n",
      "338 Okay, let's see, what else? 让我想想 还有什么\n",
      "339 Oh, I'm a vegetarian. 我是个素食者 嗯 鱼除外\n",
      "340 |||| [141] No, except for fish, and the occasional steak. 偶尔我也吃牛排 我好爱牛排!\n",
      "341 Well, that's interesting. Leonard can't process corn. 那真是有趣 Leonard不能消化玉米\n",
      "342 |||| [143] So do you have some sort of a job? PENNY: 你做什么工作呢?\n",
      "343 Oh, yeah. I'm a waitress at The Cheesecake Factory. 我在\"芝士蛋糕工厂\"当女招待\n",
      "344 I love cheesecake. 我很喜欢芝士蛋糕\n",
      "345 - You're lactose intolerant. 你都不能忍受乳糖\n",
      "346 - I don't eat it, I think it's a good idea. 我不吃 不代表我不欣赏它\n",
      "347 Anyways, I'm also writing a screenplay. 不管怎样 我还在写剧本\n",
      "348 It's about this sensitive girl who comes to L.A. from Lincoln, Nebraska to be an actress and winds up a waitress at The Cheesecake Factory. 是关于一个感情细腻的女孩 从内布拉斯加州Lincoln小镇来到洛杉矶 梦想成为演员 却只能在芝士蛋糕工厂当女招待\n",
      "349 So it's based on your life. 剧本是根据你的经历改编的哦?\n",
      "350 No, I'm from Omaha. 不 我是从奥马哈市来的\n",
      "351 |||| [151] If that was a movie, I would go see it. 如果真的拍成电影 我肯定会去看的\n",
      "352 I know, right? 我知道 故事不错是吧?\n",
      "353 Okay, let's see, what else? 我想想 还有什么?\n",
      "354 I guess that's about it. 好像差不多了\n",
      "355 That's the story of Penny. 这就是Penny的故事\n",
      "356 |||| [153] Well, it sounds wonderful. 听起来很棒啊\n",
      "357 |||| [154] It was. 以前是的\n",
      "358 |||| [154] Until I fell in love with a jerk. 直到我爱上了那个混球\n",
      "359 [MOUTHS] I don't know. 我不知道\n",
      "360 |||| [157] Oh, God, you know, four years I lived with him. 你知道吗 我跟他同居了4年\n",
      "361 |||| [157] Four years. That's like as long as high school. 4年 跟高中一样久了\n",
      "362 |||| [158] It took you four years to get through high school? 你花了4年才上完高中?\n",
      "363 |||| [160] I just... I can't believe I trusted him. 我不敢相信我居然那么信任他\n",
      "364 |||| [161] Should I say something? 我该说些什么吗?\n",
      "365 |||| [161] I feel I should say something. You? 我觉得我该说些什么\n",
      "366 No, you'll only make it worse. 你? 千万别 你只会让事情变得更糟糕\n",
      "367 |||| [163] You wanna know the most pathetic part? 你知道最可悲的是什么吗?\n",
      "368 |||| [163] Even though I hate his lying, cheating guts I still love him. 尽管我对他的谎言欺骗恨之入骨 我还是爱着他\n",
      "369 |||| [163] Is that crazy? 是不是很疯狂?\n",
      "370 No, it's not crazy. 不 那不是疯狂\n",
      "371 It's a... 你只是...\n",
      "372 It's a paradox. 陷入一种矛盾\n",
      "373 |||| [165] Paradoxes are part of nature. 矛盾是我们天性的一部分\n",
      "374 |||| [165] I mean, think about light. If you look at Huygens, light is a wave, as confirmed by the double-slit experiments. 你想想光 惠更斯认为光是一种波动\n",
      "375 |||| [165] But then, along comes Albert Einstein and discovers that light behaves like particles too. 但后来 爱因斯坦出现了 他发现光也具有粒子的表现特征\n",
      "376 Well, I didn't make it worse. 呃 我没让情况变得更糟\n",
      "377 Oh, I'm so sorry I'm such a mess. 很抱歉 我真是一团糟\n",
      "378 |||| [166] And on top of everything else, I'm all gross from moving and my stupid shower doesn't work. 除了那些烂事 我搬家弄得一身臭汗 该死的淋浴还坏掉了\n",
      "379 |||| [167] Our shower works. 我们的淋浴房能用\n",
      "380 |||| [168] Would it be totally weird if I used it? 我用你们的淋浴房 会不会很奇怪?\n",
      "381 - No? - 不会?\n",
      "382 It's right down the hall. 就在厅后面\n",
      "383 |||| [175] Okay, thanks. You guys are really sweet. 谢谢 你们真是大好人\n",
      "384 |||| [176] Well, this is an interesting development. 真是有趣的进展啊\n",
      "385 LEONARD: How so? 为什么?\n",
      "386 SHELDON: It has been some time since we've had a woman take her clothes off in our apartment. 已经有好长一段时间 没有女人在我们的公寓里脱光了\n",
      "387 |||| [179] That's not true. Remember at Thanksgiving my grandmother with Alzheimer's had that episode? 不对吧 还记得感恩节我那阿兹海默症 (老年痴呆)的奶奶病发闹出的那一段吗?\n",
      "388 It has been some time since we've had a woman take her clothes off after which we didn't wanna rip our eyes out. 有道理 已经有好长一段时间 没有女人在我们公寓里脱光 而且我们不会想抠出自己的眼睛!\n",
      "389 |||| [181] The worst part was watching her carve that turkey. 看着她乱搞那只火鸡 是最折磨人的\n",
      "390 |||| [182] So, what exactly are you trying to accomplish here? 你到底希望达到什么目标呢?\n",
      "391 That woman in there is not going to have sex with you. 那个女孩不会跟你上床的\n",
      "392 Well, I'm not trying to have sex with her. 我不是想跟她上床\n",
      "393 |||| [186] Oh, good. Then you won't be disappointed. 很好 那你就不会失望了\n",
      "394 |||| [187] What makes you think she wouldn't have sex with me? 你为什么认定她不会跟我上床?\n",
      "395 |||| [187] I'm a male and she's a female. 我是男人 她是女人\n",
      "396 |||| [188] Yes, but not of the same species. 对 但你们不是一个种族的\n",
      "397 I'm not gonna engage in hypotheticals here. 我不想跟你在这瞎猜\n",
      "398 |||| [189] - I'm just trying to be a good neighbor. 我只是想当个好邻居\n",
      "399 |||| [190] - Oh, of course. 当然了\n",
      "400 |||| [191] That's not to say that if a carnal relationship were to develop that I wouldn't participate. 但是如果真的要发展到肉体关系 我也不会拒绝的\n",
      "401 |||| [191] However briefly. 不管那有多短暂\n",
      "402 |||| [192] Do you think this possibility will be hindered when she discovers your Luke Skywalker \"no more tears\" shampoo? 你觉得让她发现你的 \"天行者Luke\"无泪洗发水 是会帮助还是阻碍你们的发展呢?\n",
      "403 It's Darth Vader shampoo. 那是Darth Vader洗发液 (星球大战中角色)\n",
      "404 Luke Skywalker's the conditioner. \"天行者Luke\"是护发素\n",
      "405 |||| [194] - Wait till you see this. 你们得看看这个\n",
      "406 - It's fantastic. Unbelievable. 超级赞 不可置信\n",
      "407 |||| [196] See what? 看什么?\n",
      "408 |||| [197] It's a Stephen Hawking lecture from MIT in 1974. 是施蒂芬 -霍金于1974年 在麻省理工做的演讲\n",
      "409 |||| [198] This isn't a good time. 现在不方便\n",
      "410 |||| [199] [IMITATING COMPUTERIZED VOICE] It's before he became a creepy computer voice. 这是在他变成诡异的 电脑合成声音之前的讲座\n",
      "411 |||| [200] - That's great, you guys have to go. 很好 你们得走了\n",
      "412 |||| [202] - It's just not a good time. 现在不方便啊\n",
      "413 |||| [203] - Leonard has a lady over. Leonard有女人拜访\n",
      "414 |||| [204] [IN NORMAL VOICE] Yeah, right. Your grandmother back in town? 这样啊 你奶奶又进城了?\n",
      "415 |||| [205] No. 不是什么女人的艳遇啦\n",
      "416 |||| [205] And she's not a lady, she's just a new neighbor. 只是我们的新邻居\n",
      "417 |||| [206] Hang on, there really is a lady here? 你等等 这儿真有个女人?\n",
      "418 |||| [207] - Uh-huh. 没错\n",
      "419 |||| [208] - And you want us out because you're anticipating coitus? 你要我们走 是因为你准备跟她交媾?\n",
      "420 - I'm not anticipating coitus. 我没准备跟她交媾\n",
      "421 - So she's available for coitus? 那她可以跟别人交媾?\n",
      "422 Can we please just stop saying \"coitus\"? 能不能别用\"交媾\"这个词?\n",
      "423 |||| [212] Technically, that would be coitus interruptus. 用术语来说 就是交媾中止\n",
      "424 |||| [213] Hey, is there a trick to getting it to switch from tub to shower? 从泡浴换成淋浴 是不是有个开关?\n",
      "425 |||| [213] Oh, hi, sorry. Hello. 噢 很抱歉 你们好\n",
      "426 Enchanté, mademoiselle. 很高兴认识您 小姐\n",
      "427 |||| [214] Howard Wolowitz, CalTech Department of Applied Physics. 我是Howard Wolowitz 加州理工大应用物理系\n",
      "428 |||| [214] You may be familiar with some of my work. 你可能对我的工作成果有所了解\n",
      "429 |||| [214] It's currently orbiting Jupiter's largest moon taking high-resolution digital photographs. 它现在正绕着木星最大的卫星旋转 拍摄高清数码照片\n",
      "430 |||| [215] Penny. I work at The Cheesecake Factory. 我是Penny 我在芝士蛋糕工厂做侍应\n",
      "431 |||| [216] - I'll show you the trick with the shower. - Okay. 来吧 我告诉你开关在哪\n",
      "432 [SPEAKS IN FRENCH] Bonne douche!\n",
      "433 It's French for \"good shower.\" 法语的\"洗个痛快澡\"\n",
      "434 |||| [219] It's a sentiment I can express in six languages. 我能用六国语言表达这一祝愿\n",
      "435 |||| [220] Save it for your blog, Howard. 留着在你的Blog上写吧 Howard\n",
      "436 [SPEAKS IN FOREIGN LANGUAGE] 洗个痛快澡 (中文)\n",
      "437 |||| [222] LEONARD: All right, there it goes. It sticks, I'm sorry. 这样就行 开关卡住了 抱歉\n",
      "438 |||| [223] - Okay, thanks. 好的 谢谢\n",
      "439 - You're welcome. Oh, you're just gonna step right...? 不客气 你只要向右...\n",
      "440 Okay. 好 我撤了\n",
      "441 PENNY: Hey, Leonard? - Leonard\n",
      "442 |||| [226] - The hair products are Sheldon's. - 那些洗发产品是Sheldon的\n",
      "443 PENNY: Okay. 好的\n",
      "444 |||| [227] - Um, can I ask you a favor? 我能麻烦你帮个忙吗?\n",
      "445 - A favor? 帮忙?\n",
      "446 |||| [228] Sure, you could ask me a favor. I would do you a favor for you. 你当然可以要我帮忙 我很乐意帮你忙\n",
      "447 |||| [229] - It's okay if you say no. 你不答应也没事\n",
      "448 - Oh, I'll probably say yes. 噢 我应该会答应的\n",
      "449 |||| [231] It's just not the kind of thing you ask a guy you just met. 这不是那种 你会请刚认识的人帮的忙\n",
      "450 |||| [233] I really think we should examine the chain of causality here. 我们得回顾下这起事件的前因后果\n",
      "451 |||| [234] - Must we? 一定要吗?\n",
      "452 |||| [235] - Event A: 事件A:\n",
      "453 |||| [235] A beautiful woman stands naked in our shower. 一个美女在我们的浴室裸体\n",
      "454 Event B: 事件B:\n",
      "455 |||| [235] We drive halfway across town to retrieve a television set from the aforementioned woman's ex-boyfriend. 我们开车穿越整个小镇 就为了搬台电视机回来 目的地就在刚刚提到的美女的前男友家\n",
      "456 |||| [235] On what plane of existence is there even a semi-rational link between these events? 提问:\n",
      "457 |||| [236] She asked me to do her a favor, Sheldon. 因为Penny请我帮个忙 Sheldon\n",
      "458 |||| [237] Well, that may be the proximal cause of our journey but we both know it exists in contradistinction to the higher-level distal cause. 是啊 那也许是最近似可能的起因了 但我们都知道 它和更高级的末端起因截然不同\n",
      "459 |||| [238] - Which is? 那是什么意思?\n",
      "460 |||| [239] - You think with your penis. 你用你的老二思考\n",
      "461 |||| [240] That's a biological impossibility, and you didn't have to come. 这在生理上是不可能的 你也不一定要来啊\n",
      "462 |||| [241] I could have stayed behind to watch Wolowitz hit on Penny in Russian, Arabic and Farsi. 对 我可以留在家里看着Wolowitz 试图用俄语 阿拉伯语及波斯语搭讪Penny\n",
      "463 |||| [241] And why can't she get her own TV? 她为什么不能自己去拿?\n",
      "464 |||| [242] Come on, you know how it is with breakups. 你知道分手这种事啦\n",
      "465 No, I don't, and neither do you. 不 我不知道 你也不知道\n",
      "466 |||| [244] But I... I broke up with Joyce Kim. 什么啊 我跟Joyce Kim分过手\n",
      "467 |||| [245] You did not break up with Joyce Kim. She defected to North Korea. 你才没有和Joyce Kim分手 是她跑到韩国去了\n",
      "468 |||| [246] To mend her broken heart. 为了修复她受伤的心灵\n",
      "469 |||| [246] This situation is much less complicated. 现在这情况更加复杂\n",
      "470 |||| [246] There's some dispute between Penny and her ex-boyfriend as to who gets custody of the TV. Penny和她前男友不能达成一致 究竟电视机该归谁\n",
      "471 |||| [246] - She just wanted to avoid a scene with him. 她不想再和他当面争执\n",
      "472 |||| [247] - So we get to have a scene with him? 所以我们去和他当面争执?\n",
      "473 |||| [248] No, Sheldon, there's not going to be a scene. Sheldon 根本不会有争执\n",
      "474 |||| [248] There's two of us and one of him. 我们两人 他一人\n",
      "475 |||| [249] Leonard, the two of us can't even carry a TV. Leonard 我们俩加起来都抗不动一台电视\n",
      "476 |||| [250] So you guys work with Leonard and Sheldon at the university? 你们跟Leonard和Sheldon一起在学校做事?\n",
      "477 |||| [251] I'm sorry, do you speak English? 不好意思 你会说英语吗?\n",
      "478 |||| [252] Oh, he speaks English. He just can't speak to women. 他会 只是不能跟女人说\n",
      "479 He's kind of a nerd. 因为他是个书呆子\n",
      "480 Juice box? 盒装果汁? (谐音G -Spot 即高潮快点)\n",
      "481 - I'll do the talking. 我来跟他理论\n",
      "482 MAN: Yeah? 谁?\n",
      "483 - Hi. I'm Leonard, this is Sheldon. 嗨 我是Leonard 他是Sheldon\n",
      "484 |||| [259] What did I just...? - 我...\n",
      "485 |||| [259] - We're here to pick up Penny's TV. 我们来拿Penny的电视\n",
      "486 |||| [260] - Get lost. 滚\n",
      "487 |||| [261] Okay, thanks for your time. 好的 打搅你了\n",
      "488 |||| [262] - We're not gonna give up just like that. 我们不能就这么放弃\n",
      "489 |||| [263] - Leonard, the TV's in the building. Leonard 电视在这楼里\n",
      "490 |||| [263] We've been denied access to the building, ergo we are done. 他不放我们进去 我们没辙\n",
      "491 |||| [264] If I were to give up at the first hitch, I never would have identified the fingerprints of string theory in the aftermath of the big bang. 不好意思 如果我第一次受挫就放弃 我就永远不可能在大爆炸理论提出后 发现关于弦理论的蛛丝马迹\n",
      "492 My apologies. What's your plan? 我道歉 你打算怎么做?\n",
      "493 |||| [266] It's just a privilege to watch your mind at work. 看到你如此专注工作 真是种荣幸\n",
      "494 |||| [267] Come on, we have a combined IQ of 360. 来吧 我们俩智商加起来有360\n",
      "495 |||| [267] We should be able to figure out how to get into a stupid building. 我们绝对能够想办法进入这蠢楼\n",
      "496 |||| [268] - What do you think their combined IQ is? 你觉得她俩智商加起来多少?\n",
      "497 |||| [269] - Just grab the door. 快去留住门!\n",
      "498 LEONARD: This is it. 就是这\n",
      "499 I'll do the talking. 我来跟他理论\n",
      "500 Good thinking, I'll just be the muscle. 好主意 我用武力威慑\n",
      "501 - I'm Leonard, this is Sheldon. 我是Leonard 他是Sheldon\n",
      "502 |||| [274] From the intercom. 刚刚在对讲机上的\n",
      "503 |||| [275] How the hell did you get in the building? 他妈的你们怎么进来的?\n",
      "504 |||| [277] Tell him about our IQ. 告诉他我们的智商\n",
      "505 - Leonard. - What? - Leonard\n",
      "506 |||| [280] - My mom bought me those pants. - 什么? 那条裤子是我妈给我买的\n",
      "507 You're gonna have to call her. 你得给她打电话\n",
      "508 |||| [283] Sheldon, I am so sorry I dragged you through this. Sheldon 真对不起把你也扯进来了\n",
      "509 |||| [284] It's okay. It wasn't my first pantsing and it won't be my last. 没关系 这不是我第一次掉裤子了 也不会是最后一次\n",
      "510 |||| [285] And you were right about my motives. 你说得对 关于我的动机\n",
      "511 |||| [285] I was hoping to establish a relationship with Penny that might have someday led to sex. 我是指望着能跟Penny建立某种关系 并最终发展成肉体关系\n",
      "512 |||| [286] SHELDON: Well, you got me out of my pants. 你倒是成功地脱下了我的裤子\n",
      "513 Anyway, I've learned my lesson. 无论如何 我得到了教训\n",
      "514 |||| [287] She's out of my league, I'm done with her. 我配不上她 我放弃了\n",
      "515 |||| [287] I've got my work. One day I'll win the Nobel Prize and then I'll die alone. 我有工作 有一天我会赢得诺贝尔奖 然后孤老死去\n",
      "516 |||| [288] Don't think like that. You're not going to die alone. 别那么想 你不会孤老而死\n",
      "517 |||| [289] Thank you, Sheldon. You're a good friend. 谢谢你 Sheldon 你真是个好朋友\n",
      "518 SHELDON: And you're certainly not gonna win a Nobel Prize. 你当然也没可能赢诺贝尔奖\n",
      "519 |||| [291] This is one of my favorite places to kick back after a quest. 这里是我最喜欢的探险后休息的地方\n",
      "520 |||| [291] They have a great house ale. 他家的啤酒很好喝\n",
      "521 PENNY: Wow, cool tiger. 好酷的老虎\n",
      "522 |||| [293] Yeah, I've had him since Level 10. 是的 我从10级开始就养它了\n",
      "523 His name is Buttons. 它叫扣扣\n",
      "524 |||| [293] Anyway, if you had your own game character we could hang out, maybe go on a quest. 如果你也有自己的在线游戏人物 我们可以一起玩玩 一起探险\n",
      "525 - That sounds interesting. 听上去挺有趣\n",
      "526 - So you'll think about it? 那么 你会想想这个提议啦?\n",
      "527 |||| [296] Oh, I don't think I'll be able to stop thinking about it. 我想这个点子会让我思考许久的\n",
      "528 |||| [297] Smooth. 干得漂亮\n",
      "529 - We're home. 我们回来了\n",
      "530 |||| [299] - Oh, my God. What happened? 老天啊 发生了什么事?\n",
      "531 |||| [300] Well, your ex-boyfriend sends his regards and I think the rest is fairly self-explanatory. 你前男友让我们跟你带声问候 其他的我想应该够一目了然了\n",
      "532 |||| [301] I really thought if you guys went instead of me he wouldn't be such an ass. 我真的以为如果你们替我去 他不会表现那么混蛋\n",
      "533 |||| [302] No, it was a valid hypothesis. 挺充分的假设\n",
      "534 |||| [303] That was a valid hypo...? 挺充分的假...\n",
      "535 |||| [303] What is happening to you? ? 你怎么了?\n",
      "536 |||| [304] Really, thank you so much for going and trying. 说真的 太谢谢你们帮我跑这一趟了\n",
      "537 You just... You're so terrific. 你们真是大好人\n",
      "538 |||| [304] Why don't you put some clothes on, I'll get my purse, and dinner is on me, okay? 真的 你们穿上衣服 我去拿钱包 今晚我请客 好吧?\n",
      "539 |||| [305] - Really? Great. - 真的吗?\n",
      "540 |||| [306] - Thank you. 太好了!\n",
      "541 |||| [306] You're not done with her, are you? 你还没放弃 是吧?\n",
      "542 |||| [307] Our babies will be smart and beautiful. 我们的小孩肯定又聪敏又漂亮\n",
      "543 |||| [308] Not to mention imaginary. 而且还是想象出来的\n",
      "544 |||| [309] - Is Thai food okay with you, Penny? - Sure. - Penny 你能吃泰国菜吗?\n",
      "545 |||| [311] We can't have Thai, we had Indian for lunch. - 可以啊 我们不能吃泰国菜 中午已经吃了印度菜\n",
      "546 - They're both curry-based cuisines. 所以? 它们都是以咖喱为主的菜系\n",
      "547 - It would be gastronomically redundant. 那会造成\"肠胃不能承受之腹泻\"\n",
      "548 |||| [315] I can see we're going to have to spell out everything for this girl. 我发现我们什么都得帮她解释清楚\n",
      "549 Any ideas, Raj? Raj 你有什么主意吗?\n",
      "550 |||| [317] Turn left on Lake Street and head up to Colorado. 在Lake街左转 朝Colorado开\n",
      "551 |||| [317] I know a wonderful little sushi bar that has karaoke. 那边有个带卡拉OK的寿司吧\n",
      "552 Oh, that sounds like fun. 好像很好玩\n",
      "553 [SINGING] Baby, baby, don't get hooked on me * 宝贝 宝贝 不要被我迷上 *\n",
      "554 Oh, baby, baby Don't get hooked on me * 宝贝 宝贝 不要被我迷上 *\n",
      "555 |||| [320] I don't know your odds in the world as a whole but as far as the population of this car goes, you're a veritable mac daddy. 我不知道按整个世界算 你追她成功的机率有多大 但就这辆车里的人来讲 你绝对是名副其实的万人迷\n",
      "556 Baby, don't get hooked on me - - -\n",
      "557 Yo, we should just play this straight up. 我说，直接上去搞定他们得了\n",
      "558 Those cats will fold under pressure. 他们会被吓得像小猫一样乖的\n",
      "559 We can take these fools with our eyes closed. Come on. 我们闭着眼睛都能搞定这些笨蛋\n",
      "560 No doubt, but I don't wanna diss them in front of their home crowd. 当然，不过我不想在他们家门口羞辱他们\n",
      "561 D, I got you. D，我明白\n",
      "562 I got y'all. 我明白了\n",
      "563 -All right, man. -Come on, let's do it. 好了，伙计们　走吧，开始行动\n",
      "564 All right, all right, y'all, that was hot! 好了，劲爆极了\n",
      "565 And the winner is... . 获胜者是...\n",
      "566 Sphere and the Thug Unit! 斯斐尔和他的\"恶棍组合\"！\n",
      "567 Who wants next? 谁想下一个上？\n",
      "568 Let's get it going on in here. 让我们继续吧\n",
      "569 -Y'all want some of this? 你们是想比吗？\n",
      "570 -We got next. 该我们了\n",
      "571 All right, all right, y'all, let's get it popping in this mall ! 好了，好了，让我们玩转这个舞厅\n",
      "572 You haven't seen him pop. Come on, come on. 你还没见过他跳呢，来吧\n",
      "573 -Hey, I got that. -Get out of here! 嘿，知道厉害了吧　滚\n",
      "574 -Get back. -Break it up. 退回去　分开他们\n",
      "575 -Get back. Get back. -We good. 都松手　我们没事\n",
      "576 All right, all right, let's hear it for the Thug Unit. 好了，支持\"恶棍组合\"的，大声喊出来\n",
      "577 Give it up for the Goon Squad ! 支持\"打手新兵\"的！\n",
      "578 What's up? I think the Goon Squad got it, y'all. 哈，我觉得是\"打手新兵\"赢了\n",
      "579 Double or nothing says you got lucky. 等等，赌双倍，若不敢刚才就是狗屎运\n",
      "580 It's on. 奉陪\n",
      "581 -Let's go! Let's go! -What the hell are you doing? 开始吧，开始吧　你干什么呢你？\n",
      "582 Man, I'm out. 伙计，我退出\n",
      "583 What the hell you walking away for? 你他妈的为什么不干了？\n",
      "584 I say we double up on these niggas. 我都说了要加倍和他们赌\n",
      "585 -You know this ain't our spot, D. -你知道这不是我们的地盘，D\n",
      "586 -Sphere's crew don't know us. -斯斐尔的手下不了解我们\n",
      "587 Don't know what we're bringing, period. 不知道我们有多强\n",
      "588 -The more paper we take home. -我们能赢更多的钱\n",
      "589 -Did you see that cat? -你没看见那哥们吗？\n",
      "590 If he thinks he's being hustled, that's paper we won't spend. 如果他觉得不爽，有再多钱我们也没命花\n",
      "591 -Why are you acting all scared? 你怎么变得胆小如鼠了？\n",
      "592 -l'm not. 我没有\n",
      "593 -l'm acting smart. You try it! -我只是学着聪明点而已，你也学着点\n",
      "594 -Don't I always got your back? -我不是一直罩着你吗？\n",
      "595 Don't I always have your back? 难道我不是一直罩着你吗？\n",
      "596 -You know I got it, man, but I'm... . -我知道，我一直很感激你，但是...\n",
      "597 -lf you ain't with it, just go home. -如果你不想干的话，就回家呆着去吧\n",
      "598 -Like you could do this without me. -好像没了我你还能赢似的\n",
      "599 -For real, DJ. -真的，DJ\n",
      "600 We ain't shit without your brother. 没你弟弟的话我们屁都不算\n",
      "601 You know, it's gonna get nasty up in here! 这里就要沸腾了！\n",
      "602 -Don't wanna let stuff get out of hand-- -我只是不想事情失去控制而已\n",
      "603 -Don't sweat it. -别担心那个\n",
      "604 We came too far to turn back now, baby boy. I want this. 我们已经走的太远，没法回头了 小弟，我想赢\n",
      "605 You want this? 你想赢？\n",
      "606 I knew you'd say something like you want this. 我就知道你要说 什么我想赢之类的\n",
      "607 That's all this is about. Typical DJ. 一切都是为了你自己 这是你的一贯作风\n",
      "608 It's not just about you, it's about all of us. We're a team. 这不是为你一个人，是为了我们全部人 我们是一个团队\n",
      "609 Well, this team's about to double up on their asses. Come on. 那我们这个团队要和他们赌双倍的\n",
      "610 All right now, y'all ready to rip this? 好了，准备好甩碟了吗？\n",
      "611 Let's get it going on up in this mall ! 那就开始尽情的跳吧\n",
      "612 Let's go! 上位了！\n",
      "613 It's over! It's over! All right, all right, y'all ! 结束了，结束了，好了，好了\n",
      "614 This one, hands down, the Goon Squad ! 这次，没有悬念的\"打手新兵\"获胜\n",
      "615 You're dead ! You're dead ! 你死定了！\n",
      "616 Goon Squad ! Goon Squad is up. \"打手新兵\"要雄起了\n",
      "617 I'm telling you, man, we're taking over L.A. 早就说了，哥们，洛杉矶是我们的天下了\n",
      "618 -Believe that. -Yeah. 我信　没错\n",
      "619 Hold up, guys. 伙计们，等会\n",
      "620 -Hey, man, what's your brother doing? 嘿，你弟弟干什么呢？\n",
      "621 -Man, I don't know. 不知道\n",
      "622 -l got a little something for y'all. -All right. All right. 给大家个小小的惊喜　好极了\n",
      "623 That's what's up. You know what I'm saying? 就这样了，都明白我想说什么吧？\n",
      "624 Yeah, man. 嗯\n",
      "625 We gotta take Von home. His mom's gonna trip. 我们送芳回家吧，要不他妈会发狂的\n",
      "626 I have your mama. 我来搞定你老妈\n",
      "627 -He'll get a beating. -他会挨揍的\n",
      "628 -Miss Williams ain't banging on me. -威廉姆斯小姐不会上我的\n",
      "629 -Why you gotta do my mom like that? -你为什么要那样说我妈妈？\n",
      "630 -l was doing her like that. Last night. -我就是那么上她的，昨晚\n",
      "631 I got it! I got it! 让我来！\n",
      "632 -l want my money. -The money's mine. 把钱给我　钱是我的\n",
      "633 I want it. 可我想要\n",
      "634 Where's my money? 在哪？\n",
      "635 -Let's get out of here! Let's go! 我们离开这，快走！\n",
      "636 -Let's go. Move it! 走，快走！\n",
      "637 Get up, D! 振作点，D！\n",
      "638 Come on ! 振作！\n",
      "639 I'm sorry, man, I'm sorry. 对不起，伙计，对不起\n",
      "640 Somebody do something ! 大家做点什么啊\n",
      "641 We'd Iike to welcome all arriving passengers to Atlanta. 热烈欢迎来到亚特兰大的各位旅客\n",
      "642 We are so glad to have you here, DJ. 我们很高兴你来这，DJ\n",
      "643 You're in Atlanta, we'll get you a Hawks jersey or something. 你现在在亚特兰大了 我们会带你去看鹰队的比赛什么的\n",
      "644 Honey, nobody watches the Hawks. 亲爱的，没人看鹰队的比赛的\n",
      "645 That's your uncle's way of saying welcome to Georgia. 那是你叔叔说 欢迎来到乔治亚州的方式\n",
      "646 You'll get used to the humidity. 你会适应潮湿的气候的\n",
      "647 You must be so excited to start school. 要上学了你一定很兴奋吧\n",
      "648 Or nervous. 或者很紧张\n",
      "649 But don't be. You'll do just fine. 不过别担心，你会做的很好的\n",
      "650 You know that's where l met your uncle. 那是我遇到你叔叔的地方\n",
      "651 You guys went to Truth? 你们以前也在真理大学念的？\n",
      "652 I did. Your uncle was working there. 我是，你叔叔在那里工作\n",
      "653 Come on, let me show you up to your room. This way. 好了，我把你带到你房间去吧，跟我来\n",
      "654 That's your bathroom over there, and this is your room. 浴室在那，这个就是你的房间了\n",
      "655 If you get tired of campus food, you're more than welcome... 如果你吃腻了学校的饭菜，随时欢迎你\n",
      "656 ... tospendyourweekends here with us, anytime. 周末的时候回来和我们一起过\n",
      "657 You know, whatever makes you comfortable. 只要你觉得舒适就好\n",
      "658 DJ, I didn't get a chance to tell you at the funeral... DJ，有件事在葬礼上一直没机会和你说\n",
      "659 ... butyouknowweloved him. 但是你知道我们都很爱他\n",
      "660 I know how close you two were. 我知道你们两个关系有多亲密\n",
      "661 I gotta run and show a house... 我得去带人家看房子\n",
      "662 ... sowhenIget back, I'll make us all some dinner. 我回来之后就做晚餐\n",
      "663 Honey, go ahead and help yourself to some apple pie. 亲爱的，再吃些苹果派吧\n",
      "664 I know it's your favourite. 我知道你最喜欢了\n",
      "665 No, no, thanks. 不，谢谢了\n",
      "666 You know I had to call in a favour to get you into this school. 你知道让你进这个学校，让我欠别人个情\n",
      "667 -Don't make me look bad. -Nate. 别给我丢脸　纳特\n",
      "668 -No, that's cool. I'm listening. -Good. 不，没事，我听着呢　那就好\n",
      "669 Because the rules are very simple. 规矩其实很简单\n",
      "670 There's three things you have to deal with. 你只要做好三件事情就可以了\n",
      "671 First, you must keep your grades up at all times. 首先，不管什么时候都要保证 你学业能跟上\n",
      "672 Second, I'm in charge of your work study programme... 第二，我会负责你的勤工俭学\n",
      "673 ... butyou'llnot be treated differently... 但是我不会对你额外开恩的\n",
      "674 ... norwillyou behaveanydifferent than my other 26 employees. 你也要像我其他的26个雇员一样 勤勤恳恳的工作\n",
      "675 -And third? 第三呢？\n",
      "676 -lf there's a strike three, you out. 做不到前面两条就出局\n",
      "677 Period. 就这些了\n",
      "678 DJ? DJ？\n",
      "679 What the hell is going on, man? 你干什么呢？\n",
      "680 I'm not gonna sit out here and act like I wanna be here when I don't. 我可不想假装很喜欢呆在这里\n",
      "681 This whole college boy thing is not for me, man. 上大学这鬼主意并不适合我\n",
      "682 You're the only thing your mama's got left. 你是你妈妈仅有的希望了\n",
      "683 There's no way I'm gonna let you put my sister through any more pain. 我绝不允许你又让妹妹再痛苦一次的\n",
      "684 So you better make this college thing work out. Can you appreciate that? 所以你最好乖乖读你的大学去 明白了吗？\n",
      "685 Get your black ungrateful ass in the goddamn truck. 你这不知好歹的混球 赶快滚回车上去\n",
      "686 What'd I say, man? 听到我说的了吗？\n",
      "687 Get in the truck! 上车！\n",
      "688 At least you don't have a problem with waking up early. 至少你早起还不会有问题\n",
      "689 Looks like you're just in time for registration. 看起来你刚好赶上了注册的时间\n",
      "690 Yo, yo, hold my spot real quick. 嘿，帮忙占一下，很快就回来\n",
      "691 -This is my spot, thanks. -刚才我在这的，谢谢\n",
      "692 -Excuse me? -干什么呢？\n",
      "693 -There was a girl saving my space. -刚才我让个女孩帮我占着的\n",
      "694 -Nice try. -说的真好听\n",
      "695 You have to wait in line like everybody else. 你得和其他人一样慢慢排队\n",
      "696 You saw me behind the sister with the fro. 你刚才都看见我是在她后面的\n",
      "697 Now, one of you come up to the counter. 好了，你们其中一个到这来\n",
      "698 I'm just saying it's a little early to tell, Mom. That's all. 我只是说现在还很难说\n",
      "699 No, I'm not saying I hate it. 我没说我讨厌读书\n",
      "700 I'm not quitting. I promised you I'd try. That's my word. 我没想放弃，我发誓我会试试看的 我保证\n",
      "701 I love you too. 我也爱您\n",
      "702 There are only a select few things of mine that are absolutely off-limits. 我只有少数的几样东西是 你不能动的\n",
      "703 My toothbrush, my toothpaste, my shaving cream, and my condoms. 我的牙刷，牙膏，剃须膏 还有避孕套\n",
      "704 Magnums, of course. You know about the gold packs? 当然是大号的 你知道所谓的\"金装版\"吧？\n",
      "705 Yeah, yeah, yeah. 嗯，好的\n",
      "706 Other than that, playboy, anything else of mine... 除了那些，伙计 我的其它东西\n",
      "707 ... you'rewelcometo . 你都可以用 我是里奇.\n",
      "708 RichBrown. 布朗\n",
      "709 -DJ. -DJ\n",
      "710 -Nice to meet you, sir. -很高兴见到你\n",
      "711 The Deltas are having a little barbecue. 得尔塔斯在举行烧烤野炊\n",
      "712 -l've got some juice, I can get you in. -我可以让你混进来\n",
      "713 -l gotta work. -我要干活\n",
      "714 -Classes ain't started yet. -还没开始上课呢\n",
      "715 -l got a job. -我找了份工作\n",
      "716 Okay, I feel you. Which--? 好吧，我明白了，哪个...\n",
      "717 All right, bro. ln that case, I'll holler. 好了，哥们 那我就自己去了\n",
      "718 Yes. 棒极了\n",
      "719 Don't just stand there, man. Sit down. 别傻站在那里啊 坐下吧\n",
      "720 is this your office? 这个就是你的办公室？\n",
      "721 Awfully nice digs for somebody who cuts grass. 对修剪草坪的人来说 这里像是天堂了\n",
      "722 No, I don't cut grass. 不，我不是修剪的\n",
      "723 But you do. 你才是\n",
      "724 You ever wonder where them trains be going? 你有没有想过这些火车要开到哪里去？\n",
      "725 They probably be going to Japan or something. 它们可能是开往日本或者什么地方吧\n",
      "726 -Japan? -日本？\n",
      "727 -Oh, yeah, they can't cross water. -哦，对了，火车不能过水\n",
      "728 You going to college? 你是要去上大学了？\n",
      "729 Don't say that when you get there. 你别到了那还这样说哦\n",
      "730 I'm just playing with you, man. 和你开玩笑的啦\n",
      "731 The key to success in going to school, what you do, you get a group of girls... 上学成功的关键就是 你要找到一堆女孩子\n",
      "732 ... yougetthem to do your homework. 来帮你写作业\n",
      "733 When they do your homework, you get A's. 有她们帮你，你就能得A了\n",
      "734 -How's it going, man? -今天怎么样？\n",
      "735 -l'm still standing. -还活着呢\n",
      "736 Get in, man. I'll give you a ride back. 进来吧，小子 我载你回家\n",
      "737 Come on, come on. Pass the ball. Pass the ball. 传球啊\n"
     ]
    }
   ],
   "source": [
    "# Show Open Subtitle\n",
    "for i, subtitle in enumerate(en_subset):\n",
    "    if i in sub2epi:\n",
    "        print(i, \"||||\", sub2epi[i], subtitle, zh_subset[i])\n",
    "    else:\n",
    "        print(i, subtitle, zh_subset[i])"
   ],
   "metadata": {
    "collapsed": false,
    "pycharm": {
     "name": "#%%\n"
    }
   }
  },
  {
   "cell_type": "code",
   "execution_count": null,
   "outputs": [],
   "source": [],
   "metadata": {
    "collapsed": false,
    "pycharm": {
     "name": "#%%\n"
    }
   }
  },
  {
   "cell_type": "code",
   "execution_count": 90,
   "outputs": [
    {
     "name": "stdout",
     "output_type": "stream",
     "text": [
      "[{0: [200, 203], 5: [206], 8: [214], 15: [224], 16: [226], 17: [227, 229], 24: [235], 29: [239], 33: [242], 35: [246], 36: [248], 37: [249], 41: [253], 48: [256], 50: [259]}, {0: [200, 203], 5: [206, 207], 8: [214], 15: [224], 16: [225, 226], 17: [227, 229], 24: [235], 29: [239], 33: [242], 35: [246, 247], 36: [248], 37: [249], 41: [253], 48: [256], 50: [259]}, {0: [200, 203], 5: [206, 207], 8: [214], 9: [215], 15: [224], 16: [225, 226], 17: [227, 229], 21: [233], 24: [235], 29: [239], 32: [241], 33: [242], 35: [246, 247], 36: [248], 37: [249], 39: [251], 41: [253], 42: [254], 48: [256], 50: [259]}]\n"
     ]
    }
   ],
   "source": [
    "print(temp)"
   ],
   "metadata": {
    "collapsed": false,
    "pycharm": {
     "name": "#%%\n"
    }
   }
  },
  {
   "cell_type": "code",
   "execution_count": 91,
   "outputs": [
    {
     "name": "stdout",
     "output_type": "stream",
     "text": [
      "3\n"
     ]
    }
   ],
   "source": [
    "for x in temp:\n",
    "    print(x)"
   ],
   "metadata": {
    "collapsed": false,
    "pycharm": {
     "name": "#%%\n"
    }
   }
  },
  {
   "cell_type": "code",
   "execution_count": null,
   "outputs": [],
   "source": [
    "    temp = []\n",
    "\n",
    "    # Perform string match with sliding window\n",
    "    count = 0\n",
    "    sub2epi = string_match_sliding_window(en_subset, tbbt_episode, 5)\n",
    "    epi2sub = turn_sub2epi_into_epi2sub(sub2epi)\n",
    "    temp.append(epi2sub)\n",
    "    # print(epi2sub)\n",
    "    # print(\"Episode Number:\", len(epi2sub), \"Subtitle Number:\", len(sub2epi))\n",
    "    # print(\"==\"*50)\n",
    "\n",
    "\n",
    "    # Extend the neighbors\n",
    "    epi2sub = extend_neighbors(en_subset, epi2sub, tbbt_episode)\n",
    "    sub2epi = turn_sub2epi_into_epi2sub(epi2sub)\n",
    "    temp.append(epi2sub)\n",
    "    # print(epi2sub)\n",
    "    # print(\"Episode Number:\", len(epi2sub), \"Subtitle Number:\", len(sub2epi))\n",
    "    # print(\"==\"*50)\n",
    "\n",
    "\n",
    "    # Perform exact match and add it to the whole alignment\n",
    "    exact_match_result = exact_match(en_subset, tbbt_episode)\n",
    "    sub2epi = add_cleaned_exact_match_result(sub2epi, exact_match_result)\n",
    "    epi2sub = turn_sub2epi_into_epi2sub(sub2epi)\n",
    "    temp.append(epi2sub)\n",
    "    # print(epi2sub)\n",
    "    # print(\"Episode Number:\", len(epi2sub), \"Subtitle Number:\", len(sub2epi))\n",
    "    # print(\"==\"*50)\n",
    "\n",
    "\n",
    "    # Extend the gap\n",
    "    sub2epi = full_fill_gap(sub2epi)\n",
    "    epi2sub = turn_sub2epi_into_epi2sub(sub2epi)\n",
    "    temp.append(epi2sub)"
   ],
   "metadata": {
    "collapsed": false,
    "pycharm": {
     "name": "#%%\n"
    }
   }
  },
  {
   "cell_type": "code",
   "execution_count": 56,
   "outputs": [],
   "source": [
    "def extend_with_wer(en_subset, epi2sub_alignment_2, episode):\n",
    "    temp = {}\n",
    "\n",
    "    for epi_id in epi2sub_alignment_2:\n",
    "        # Define episode utterance id\n",
    "        epi_id_former = epi_id - 1\n",
    "        epi_id = epi_id\n",
    "        epi_id_latter = epi_id + 1\n",
    "\n",
    "        # Define subtitle id\n",
    "        sub_id_former = min(epi2sub_alignment_2[epi_id]) - 1\n",
    "        sub_id_latter = max(epi2sub_alignment_2[epi_id]) + 1\n",
    "        sub_ids = sorted(list(epi2sub_alignment_2[epi_id]))\n",
    "        # print(epi_id)\n",
    "        # print(sub_ids)\n",
    "\n",
    "        # Check whether subtitle nearby is in the utterance\n",
    "        sub_former = transformation(en_subset[sub_id_former])\n",
    "        sub_latter = transformation(en_subset[sub_id_latter])\n",
    "        # sub = transformation(en_subset[sub_id])\n",
    "        epi = transformation(episode[epi_id][0])\n",
    "\n",
    "        # Fetch all relevant sentences\n",
    "        epi_sentences = [episode[idx][0] for idx in [epi_id_former, epi_id, epi_id_latter] if idx>=0]\n",
    "        print(epi_id_former, epi_id, epi_id_latter)\n",
    "        print(epi_sentences)\n",
    "\n",
    "        sub_sentences = [en_subset[sub_id_former, sub_id_latter] for idx in [sub_former, sub_id_latter] if idx>=0]\n",
    "        print(sub_id_former, sub_id_latter)\n",
    "        print(sub_sentences)\n",
    "\n",
    "        print(\"==\"*50)\n",
    "\n",
    "\n",
    "        if sub_former in epi:\n",
    "            sub_ids.append(sub_id_former)\n",
    "        if sub_latter in epi:\n",
    "            sub_ids.append(sub_id_latter)\n",
    "        # print(sorted(sub_ids))\n",
    "        temp[epi_id] = sorted(sub_ids)\n",
    "        # epi2sub_alignment_2[epi_id] = sorted(sub_ids)\n",
    "        # print(\"==\"*50)\n",
    "    return temp"
   ],
   "metadata": {
    "collapsed": false,
    "pycharm": {
     "name": "#%%\n"
    }
   }
  },
  {
   "cell_type": "code",
   "execution_count": 26,
   "outputs": [],
   "source": [
    "def look_alignment(tbbt, en_subtitle, other_subtitle, alignment, season_id, episode_id, bias):\n",
    "    # Fetch subset located by the stage-1 alignment\n",
    "    (en_subset, zh_subset, tbbt_episode) = fetch_subsets(\n",
    "        episode=tbbt,\n",
    "        en_subtitle=en_subtitle,\n",
    "        zh_subtitle=other_subtitle,\n",
    "        results=alignment,\n",
    "        season_id=season_id,\n",
    "        episode_id=episode_id,\n",
    "        bias=bias\n",
    "    )\n",
    "\n",
    "    tbbt_episode = []\n",
    "    for x in tbbt_transcripts[(1,1)]:\n",
    "        if x[1]!='Scene':\n",
    "            tbbt_episode.append(x)\n",
    "\n",
    "    temp = []\n",
    "\n",
    "    # Perform string match with sliding window\n",
    "    count = 0\n",
    "    sub2epi = string_match_sliding_window(en_subset, tbbt_episode, 5)\n",
    "    epi2sub = turn_sub2epi_into_epi2sub(sub2epi)\n",
    "    temp.append(epi2sub)\n",
    "    # print(epi2sub)\n",
    "    # print(\"Episode Number:\", len(epi2sub), \"Subtitle Number:\", len(sub2epi))\n",
    "    # print(\"==\"*50)\n",
    "\n",
    "\n",
    "    # Extend the neighbors\n",
    "    epi2sub = extend_neighbors(en_subset, epi2sub, tbbt_episode)\n",
    "    sub2epi = turn_sub2epi_into_epi2sub(epi2sub)\n",
    "    temp.append(epi2sub)\n",
    "    # print(epi2sub)\n",
    "    # print(\"Episode Number:\", len(epi2sub), \"Subtitle Number:\", len(sub2epi))\n",
    "    # print(\"==\"*50)\n",
    "\n",
    "\n",
    "    # Perform exact match and add it to the whole alignment\n",
    "    exact_match_result = exact_match(en_subset, tbbt_episode)\n",
    "    sub2epi = add_cleaned_exact_match_result(sub2epi, exact_match_result)\n",
    "    epi2sub = turn_sub2epi_into_epi2sub(sub2epi)\n",
    "    temp.append(epi2sub)\n",
    "    # print(epi2sub)\n",
    "    # print(\"Episode Number:\", len(epi2sub), \"Subtitle Number:\", len(sub2epi))\n",
    "    # print(\"==\"*50)\n",
    "\n",
    "\n",
    "    # Extend the gap\n",
    "    sub2epi = full_fill_gap(sub2epi)\n",
    "    epi2sub = turn_sub2epi_into_epi2sub(sub2epi)\n",
    "    temp.append(epi2sub)\n",
    "\n",
    "    # # Extend with WER\n",
    "    # # for x in sub2epi:\n",
    "    # #     print(x, sub2epi[x])\n",
    "    # extend_with_wer(en_subset, epi2sub, tbbt_episode)\n",
    "\n",
    "\n",
    "\n",
    "\n",
    "    return temp"
   ],
   "metadata": {
    "collapsed": false,
    "pycharm": {
     "name": "#%%\n"
    }
   }
  },
  {
   "cell_type": "code",
   "execution_count": null,
   "outputs": [],
   "source": [
    "further_alignment = {}\n",
    "for i in tqdm(range(12)):\n",
    "    for j in tqdm(range(30)):\n",
    "        try:\n",
    "            temp = look_alignment(tbbt, en_subtitle, zh_subtitle, results, i+1, j+1, 200)\n",
    "            further_alignment[(i,j)] = temp\n",
    "            print(\"Season:\", i+1,\"Episode:\", j+1, \"Episode Number:\",len(temp), \"Subtitle Number:\",len(turn_sub2epi_into_epi2sub(temp)))\n",
    "        except:\n",
    "            pass"
   ],
   "metadata": {
    "collapsed": false,
    "pycharm": {
     "name": "#%%\n"
    }
   }
  },
  {
   "cell_type": "code",
   "execution_count": 28,
   "outputs": [],
   "source": [
    "temp = look_alignment(tbbt, en_subtitle, zh_subtitle, results, 1, 1, 200)"
   ],
   "metadata": {
    "collapsed": false,
    "pycharm": {
     "name": "#%%\n"
    }
   }
  },
  {
   "cell_type": "code",
   "execution_count": 35,
   "outputs": [
    {
     "name": "stdout",
     "output_type": "stream",
     "text": [
      "{0: [200, 201, 202, 203], 2: [205], 5: [206, 207], 8: [214], 9: [215], 12: [218, 219], 15: [222, 223, 224], 16: [225, 226], 17: [227, 228, 229], 21: [233], 24: [235], 29: [239], 31: [240], 32: [241], 33: [242], 35: [246, 247], 36: [248], 37: [249], 39: [251], 40: [252], 41: [253], 42: [254], 48: [256], 50: [259], 52: [261], 58: [263], 59: [264], 66: [266], 67: [267], 68: [268], 69: [269], 70: [270], 72: [273], 73: [274, 275], 76: [279], 78: [282], 79: [283], 85: [285, 286], 86: [287], 91: [290], 92: [291], 93: [292], 96: [293], 99: [295], 100: [297], 102: [299], 103: [300], 104: [301], 105: [302], 108: [304], 110: [306], 111: [307], 112: [308], 114: [311], 115: [312], 118: [313], 119: [314, 315, 316, 317], 120: [318], 122: [319], 124: [320], 126: [321, 322], 129: [325], 131: [327], 135: [330], 136: [331], 137: [333], 138: [334], 139: [335], 140: [336], 141: [337, 338, 339, 340], 143: [342], 151: [351], 153: [356], 154: [357, 358], 157: [360, 361], 158: [362], 163: [368, 369], 165: [373, 374, 375], 166: [378], 167: [379], 168: [380], 175: [383], 176: [384], 179: [387], 181: [389], 182: [390], 184: [391], 185: [392], 187: [394], 188: [396], 189: [398], 190: [399], 191: [400, 401], 192: [402], 194: [405], 196: [407], 197: [408], 198: [409], 199: [410], 200: [411], 203: [413], 204: [414], 206: [417], 207: [418], 208: [419], 212: [423], 213: [424, 425], 214: [427, 428, 429], 215: [430], 216: [431], 219: [434], 220: [435], 222: [437], 223: [438], 226: [442], 227: [444], 228: [446], 231: [449], 233: [450], 234: [451], 235: [452, 453, 454, 455, 456], 236: [457], 237: [458], 238: [459], 239: [460], 240: [461], 241: [462], 242: [464], 244: [466], 245: [467], 246: [468, 469, 470, 471], 247: [472], 248: [473, 474], 249: [475], 250: [476], 252: [478], 259: [484, 485], 260: [486], 261: [487], 263: [489, 490], 264: [491], 266: [493], 267: [494, 495], 268: [496], 269: [497], 274: [502], 275: [503], 277: [504], 280: [506], 283: [508], 284: [509], 285: [510, 511], 286: [512], 287: [514, 515], 291: [519, 520], 293: [523, 524], 296: [527], 297: [528], 299: [530], 300: [531], 301: [532], 302: [533], 304: [536, 537, 538], 305: [539], 306: [540, 541], 307: [542], 308: [543], 309: [544], 315: [548], 317: [550, 551], 320: [555]}\n"
     ]
    }
   ],
   "source": [
    "print(temp[-1])"
   ],
   "metadata": {
    "collapsed": false,
    "pycharm": {
     "name": "#%%\n"
    }
   }
  },
  {
   "cell_type": "code",
   "execution_count": 46,
   "outputs": [
    {
     "name": "stdout",
     "output_type": "stream",
     "text": [
      "(0, 0) 133 80 80 100 100\n"
     ]
    }
   ],
   "source": [
    "for x in further_alignment:\n",
    "    (en_subset, zh_subset, tbbt_episode) = fetch_subsets(\n",
    "        episode=tbbt,\n",
    "        en_subtitle=en_subtitle,\n",
    "        zh_subtitle=zh_subtitle,\n",
    "        results=results,\n",
    "        season_id=x[0]+1,\n",
    "        episode_id=x[1]+1,\n",
    "        bias=200\n",
    "    )\n",
    "    total = len(tbbt_episode)\n",
    "    print(x, total, len(further_alignment[x][0]), len(further_alignment[x][1]), len(further_alignment[x][2]), len(further_alignment[x][3]))\n",
    "    # print(further_alignment[x])\n",
    "    # print(\"==\"*50)"
   ],
   "metadata": {
    "collapsed": false,
    "pycharm": {
     "name": "#%%\n"
    }
   }
  }
 ],
 "metadata": {
  "kernelspec": {
   "display_name": "Python 3",
   "language": "python",
   "name": "python3"
  },
  "language_info": {
   "codemirror_mode": {
    "name": "ipython",
    "version": 2
   },
   "file_extension": ".py",
   "mimetype": "text/x-python",
   "name": "python",
   "nbconvert_exporter": "python",
   "pygments_lexer": "ipython2",
   "version": "2.7.6"
  }
 },
 "nbformat": 4,
 "nbformat_minor": 0
}