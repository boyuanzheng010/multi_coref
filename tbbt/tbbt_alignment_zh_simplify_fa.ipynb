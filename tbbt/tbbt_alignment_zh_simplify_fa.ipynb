{
 "cells": [
  {
   "cell_type": "code",
   "execution_count": 1,
   "metadata": {
    "collapsed": true
   },
   "outputs": [],
   "source": [
    "import pickle as pkl\n",
    "import json\n",
    "from collections import defaultdict\n",
    "import jiwer\n",
    "from copy import deepcopy\n",
    "from tqdm import tqdm\n",
    "import xlsxwriter\n",
    "import re"
   ]
  },
  {
   "cell_type": "code",
   "execution_count": 2,
   "outputs": [],
   "source": [
    "from utils.preprocessing import organize_tbbt_by_seasons\n",
    "from utils.preprocessing import get_epi_indexs_gaps\n",
    "from utils.preprocessing import find_all_continuous_subsets\n",
    "from utils.preprocessing import calculate_gaps\n",
    "from utils.preprocessing import fetch_subsets\n",
    "from utils.alignment import string_match_sliding_window\n",
    "from utils.alignment import filter_alignment_by_gap\n",
    "from utils.alignment import turn_sub2epi_into_epi2sub\n",
    "from utils.alignment import extend_neighbors\n",
    "from utils.alignment import exact_match\n",
    "from utils.alignment import add_cleaned_exact_match_result\n",
    "from utils.alignment import full_fill_gap\n",
    "from utils.alignment import get_subset_in_gaps"
   ],
   "metadata": {
    "collapsed": false,
    "pycharm": {
     "name": "#%%\n"
    }
   }
  },
  {
   "cell_type": "code",
   "execution_count": 3,
   "outputs": [],
   "source": [
    "# Define sentence transformation\n",
    "transformation = jiwer.Compose([\n",
    "    jiwer.ToLowerCase(),\n",
    "    jiwer.RemoveMultipleSpaces(),\n",
    "    jiwer.ExpandCommonEnglishContractions(),\n",
    "    jiwer.RemovePunctuation(),\n",
    "    jiwer.Strip()\n",
    "])"
   ],
   "metadata": {
    "collapsed": false,
    "pycharm": {
     "name": "#%%\n"
    }
   }
  },
  {
   "cell_type": "code",
   "execution_count": 4,
   "outputs": [],
   "source": [
    "# Load Open Subtitle\n",
    "with open('../open_subtitle/en_zh/en_subtitles.pkl', 'rb') as f:\n",
    "    en_subtitle = pkl.load(f)\n",
    "with open('../open_subtitle/en_zh/zh_subtitles.pkl', 'rb') as f:\n",
    "    zh_subtitle = pkl.load(f)"
   ],
   "metadata": {
    "collapsed": false,
    "pycharm": {
     "name": "#%%\n"
    }
   }
  },
  {
   "cell_type": "code",
   "execution_count": 5,
   "outputs": [],
   "source": [
    "with open('original_transcript/tbbt_transcripts.pkl', 'rb') as f:\n",
    "    tbbt_transcripts = pkl.load(f)"
   ],
   "metadata": {
    "collapsed": false,
    "pycharm": {
     "name": "#%%\n"
    }
   }
  },
  {
   "cell_type": "markdown",
   "source": [
    "# Section 1: Course-Grained Alignment\n",
    "Use string match to fetch relevant index of open subtitle for each episode\n",
    "The code is included in the \\backup\\align_memor_open.py"
   ],
   "metadata": {
    "collapsed": false,
    "pycharm": {
     "name": "#%% md\n"
    }
   }
  },
  {
   "cell_type": "code",
   "execution_count": 6,
   "outputs": [],
   "source": [
    "# Load alignment results after stage-2\n",
    "with open('alignment_results/zh/indexs_tbbt_zh.pkl', 'rb') as f:\n",
    "    temp = pkl.load(f)\n",
    "results = organize_tbbt_by_seasons(temp)"
   ],
   "metadata": {
    "collapsed": false,
    "pycharm": {
     "name": "#%%\n"
    }
   }
  },
  {
   "cell_type": "markdown",
   "source": [
    "# Section 2: Fine-Grained Alignment\n",
    "\n",
    "In this section, we fetch alignment within one episode using the course alignment indexs fetch in the last section.\n",
    "\n",
    "This include the following parts:\n",
    "\n",
    "2.1: Fetch transcript episode and open subtitle subset\n",
    "2.2: Exact String Match (Use as the seed, since it is more accurate)\n",
    "2.3: Substring Exact Match (Sliding Window Algorithm)\n",
    "2.4: Merge the alignment result of 2.2, 2.3 and filter by the index"
   ],
   "metadata": {
    "collapsed": false,
    "pycharm": {
     "name": "#%% md\n"
    }
   }
  },
  {
   "cell_type": "markdown",
   "source": [
    "#### Part 2.1: Fetch Transcript Episode and Open Subtitle Subset"
   ],
   "metadata": {
    "collapsed": false,
    "pycharm": {
     "name": "#%% md\n"
    }
   }
  },
  {
   "cell_type": "code",
   "execution_count": 11,
   "outputs": [],
   "source": [
    "(en_subset, zh_subset, tbbt_episode) = fetch_subsets(\n",
    "        episode=tbbt_transcripts,\n",
    "        en_subtitle=en_subtitle,\n",
    "        zh_subtitle=zh_subtitle,\n",
    "        results=results,\n",
    "        season_id=1,\n",
    "        episode_id=1,\n",
    "        bias=200\n",
    "    )"
   ],
   "metadata": {
    "collapsed": false,
    "pycharm": {
     "name": "#%%\n"
    }
   }
  },
  {
   "cell_type": "markdown",
   "source": [
    "#### Part 2.2: String Match with sliding window"
   ],
   "metadata": {
    "collapsed": false,
    "pycharm": {
     "name": "#%% md\n"
    }
   }
  },
  {
   "cell_type": "code",
   "execution_count": 7,
   "outputs": [],
   "source": [
    "# Part 1: String Match with sliding window\n",
    "def string_match_sliding_window(en_subset, episode, window_size=5):\n",
    "    res = {}\n",
    "    for i, subtitle in enumerate(en_subset):\n",
    "        subtitle = transformation(subtitle)\n",
    "        subtitle_tokens = subtitle.strip().split(\" \")\n",
    "        if len(subtitle_tokens) < window_size:\n",
    "            continue\n",
    "\n",
    "        subtitle_segments = []\n",
    "        for j in range(len(subtitle_tokens) - window_size):\n",
    "            subtitle_segments.append(\" \".join(subtitle_tokens[j: j + window_size]))\n",
    "            # print(\" \".join(subtitle_tokens[j: j+5]))\n",
    "\n",
    "        for j, (utt, speaker) in enumerate(episode):\n",
    "            utt = transformation(utt)\n",
    "            for sub_seg in subtitle_segments:\n",
    "                if sub_seg in utt:\n",
    "                    if i not in res:\n",
    "                        res[i] = set()\n",
    "                        res[i].add(j)\n",
    "                    else:\n",
    "                        res[i].add(j)\n",
    "    return res"
   ],
   "metadata": {
    "collapsed": false,
    "pycharm": {
     "name": "#%%\n"
    }
   }
  },
  {
   "cell_type": "code",
   "execution_count": 78,
   "outputs": [
    {
     "name": "stdout",
     "output_type": "stream",
     "text": [
      "Season: 1 Episode: 1 Episode Number: 50 Subtitle Number: 45\n",
      "Season: 1 Episode: 2 Episode Number: 57 Subtitle Number: 46\n",
      "Season: 1 Episode: 3 Episode Number: 42 Subtitle Number: 40\n",
      "Season: 1 Episode: 4 Episode Number: 51 Subtitle Number: 41\n",
      "Season: 1 Episode: 5 Episode Number: 49 Subtitle Number: 41\n",
      "Season: 1 Episode: 6 Episode Number: 49 Subtitle Number: 47\n",
      "Season: 1 Episode: 7 Episode Number: 52 Subtitle Number: 49\n",
      "Season: 1 Episode: 8 Episode Number: 58 Subtitle Number: 50\n",
      "Season: 1 Episode: 9 Episode Number: 38 Subtitle Number: 33\n",
      "Season: 1 Episode: 10 Episode Number: 60 Subtitle Number: 52\n",
      "Season: 1 Episode: 11 Episode Number: 38 Subtitle Number: 36\n",
      "Season: 1 Episode: 12 Episode Number: 53 Subtitle Number: 46\n",
      "Season: 1 Episode: 13 Episode Number: 57 Subtitle Number: 54\n",
      "Season: 1 Episode: 14 Episode Number: 51 Subtitle Number: 42\n",
      "Season: 1 Episode: 15 Episode Number: 47 Subtitle Number: 43\n",
      "Season: 1 Episode: 16 Episode Number: 47 Subtitle Number: 40\n",
      "Season: 2 Episode: 1 Episode Number: 59 Subtitle Number: 57\n",
      "Season: 2 Episode: 2 Episode Number: 59 Subtitle Number: 58\n",
      "Season: 2 Episode: 3 Episode Number: 47 Subtitle Number: 43\n",
      "Season: 2 Episode: 4 Episode Number: 55 Subtitle Number: 50\n",
      "Season: 2 Episode: 5 Episode Number: 53 Subtitle Number: 43\n",
      "Season: 2 Episode: 6 Episode Number: 46 Subtitle Number: 42\n",
      "Season: 2 Episode: 7 Episode Number: 69 Subtitle Number: 59\n",
      "Season: 2 Episode: 8 Episode Number: 48 Subtitle Number: 40\n",
      "Season: 2 Episode: 9 Episode Number: 68 Subtitle Number: 57\n",
      "Season: 2 Episode: 10 Episode Number: 50 Subtitle Number: 40\n",
      "Season: 2 Episode: 11 Episode Number: 55 Subtitle Number: 49\n",
      "Season: 2 Episode: 12 Episode Number: 55 Subtitle Number: 45\n",
      "Season: 2 Episode: 13 Episode Number: 55 Subtitle Number: 47\n",
      "Season: 2 Episode: 14 Episode Number: 61 Subtitle Number: 58\n",
      "Season: 2 Episode: 15 Episode Number: 61 Subtitle Number: 58\n",
      "Season: 2 Episode: 16 Episode Number: 53 Subtitle Number: 46\n",
      "Season: 2 Episode: 17 Episode Number: 80 Subtitle Number: 65\n",
      "Season: 2 Episode: 18 Episode Number: 42 Subtitle Number: 41\n",
      "Season: 2 Episode: 19 Episode Number: 46 Subtitle Number: 41\n",
      "Season: 2 Episode: 20 Episode Number: 53 Subtitle Number: 52\n",
      "Season: 2 Episode: 21 Episode Number: 53 Subtitle Number: 47\n",
      "Season: 2 Episode: 22 Episode Number: 57 Subtitle Number: 49\n",
      "Season: 2 Episode: 23 Episode Number: 68 Subtitle Number: 57\n",
      "Season: 3 Episode: 1 Episode Number: 56 Subtitle Number: 49\n",
      "Season: 3 Episode: 2 Episode Number: 59 Subtitle Number: 49\n",
      "Season: 3 Episode: 3 Episode Number: 44 Subtitle Number: 38\n",
      "Season: 3 Episode: 4 Episode Number: 46 Subtitle Number: 41\n",
      "Season: 3 Episode: 5 Episode Number: 59 Subtitle Number: 56\n",
      "Season: 3 Episode: 6 Episode Number: 50 Subtitle Number: 39\n",
      "Season: 3 Episode: 7 Episode Number: 55 Subtitle Number: 51\n",
      "Season: 3 Episode: 8 Episode Number: 44 Subtitle Number: 38\n",
      "Season: 3 Episode: 9 Episode Number: 64 Subtitle Number: 51\n",
      "Season: 3 Episode: 10 Episode Number: 70 Subtitle Number: 61\n",
      "Season: 3 Episode: 11 Episode Number: 70 Subtitle Number: 58\n",
      "Season: 3 Episode: 12 Episode Number: 59 Subtitle Number: 53\n",
      "Season: 3 Episode: 13 Episode Number: 44 Subtitle Number: 34\n",
      "Season: 3 Episode: 14 Episode Number: 37 Subtitle Number: 32\n",
      "Season: 3 Episode: 15 Episode Number: 71 Subtitle Number: 57\n",
      "Season: 3 Episode: 16 Episode Number: 71 Subtitle Number: 61\n",
      "Season: 3 Episode: 17 Episode Number: 57 Subtitle Number: 51\n",
      "Season: 3 Episode: 18 Episode Number: 63 Subtitle Number: 50\n",
      "Season: 3 Episode: 19 Episode Number: 52 Subtitle Number: 48\n",
      "Season: 3 Episode: 20 Episode Number: 55 Subtitle Number: 50\n",
      "Season: 3 Episode: 21 Episode Number: 54 Subtitle Number: 46\n",
      "Season: 3 Episode: 22 Episode Number: 45 Subtitle Number: 41\n",
      "Season: 3 Episode: 23 Episode Number: 56 Subtitle Number: 51\n",
      "Season: 4 Episode: 1 Episode Number: 64 Subtitle Number: 59\n",
      "Season: 4 Episode: 2 Episode Number: 53 Subtitle Number: 49\n",
      "Season: 4 Episode: 3 Episode Number: 72 Subtitle Number: 65\n",
      "Season: 4 Episode: 4 Episode Number: 57 Subtitle Number: 52\n",
      "Season: 4 Episode: 5 Episode Number: 74 Subtitle Number: 65\n",
      "Season: 4 Episode: 6 Episode Number: 68 Subtitle Number: 61\n",
      "Season: 4 Episode: 7 Episode Number: 77 Subtitle Number: 67\n",
      "Season: 4 Episode: 8 Episode Number: 60 Subtitle Number: 54\n",
      "Season: 4 Episode: 9 Episode Number: 84 Subtitle Number: 74\n",
      "Season: 4 Episode: 10 Episode Number: 75 Subtitle Number: 63\n",
      "Season: 4 Episode: 11 Episode Number: 48 Subtitle Number: 46\n",
      "Season: 4 Episode: 12 Episode Number: 63 Subtitle Number: 53\n",
      "Season: 4 Episode: 13 Episode Number: 71 Subtitle Number: 66\n",
      "Season: 4 Episode: 14 Episode Number: 75 Subtitle Number: 64\n",
      "Season: 4 Episode: 15 Episode Number: 64 Subtitle Number: 58\n",
      "Season: 4 Episode: 16 Episode Number: 0 Subtitle Number: 0\n",
      "Season: 4 Episode: 17 Episode Number: 81 Subtitle Number: 69\n",
      "Season: 4 Episode: 18 Episode Number: 72 Subtitle Number: 64\n",
      "Season: 4 Episode: 19 Episode Number: 74 Subtitle Number: 63\n",
      "Season: 4 Episode: 20 Episode Number: 67 Subtitle Number: 62\n",
      "Season: 4 Episode: 21 Episode Number: 58 Subtitle Number: 49\n",
      "Season: 4 Episode: 22 Episode Number: 65 Subtitle Number: 55\n",
      "Season: 4 Episode: 23 Episode Number: 64 Subtitle Number: 58\n",
      "Season: 4 Episode: 24 Episode Number: 65 Subtitle Number: 58\n",
      "Season: 5 Episode: 1 Episode Number: 57 Subtitle Number: 44\n",
      "Season: 5 Episode: 2 Episode Number: 42 Subtitle Number: 38\n",
      "Season: 5 Episode: 3 Episode Number: 45 Subtitle Number: 41\n",
      "Season: 5 Episode: 4 Episode Number: 62 Subtitle Number: 55\n",
      "Season: 5 Episode: 5 Episode Number: 66 Subtitle Number: 57\n",
      "Season: 5 Episode: 6 Episode Number: 81 Subtitle Number: 69\n",
      "Season: 5 Episode: 7 Episode Number: 45 Subtitle Number: 42\n",
      "Season: 5 Episode: 8 Episode Number: 60 Subtitle Number: 55\n",
      "Season: 5 Episode: 9 Episode Number: 55 Subtitle Number: 46\n",
      "Season: 5 Episode: 10 Episode Number: 62 Subtitle Number: 54\n",
      "Season: 5 Episode: 11 Episode Number: 66 Subtitle Number: 58\n",
      "Season: 5 Episode: 12 Episode Number: 65 Subtitle Number: 60\n",
      "Season: 5 Episode: 13 Episode Number: 63 Subtitle Number: 56\n",
      "Season: 5 Episode: 14 Episode Number: 50 Subtitle Number: 40\n",
      "Season: 5 Episode: 15 Episode Number: 71 Subtitle Number: 60\n",
      "Season: 5 Episode: 16 Episode Number: 90 Subtitle Number: 67\n",
      "Season: 5 Episode: 17 Episode Number: 52 Subtitle Number: 42\n",
      "Season: 5 Episode: 18 Episode Number: 50 Subtitle Number: 42\n",
      "Season: 5 Episode: 19 Episode Number: 83 Subtitle Number: 65\n",
      "Season: 5 Episode: 20 Episode Number: 49 Subtitle Number: 44\n",
      "Season: 5 Episode: 21 Episode Number: 62 Subtitle Number: 54\n",
      "Season: 5 Episode: 22 Episode Number: 75 Subtitle Number: 61\n",
      "Season: 5 Episode: 23 Episode Number: 55 Subtitle Number: 47\n",
      "Season: 6 Episode: 1 Episode Number: 52 Subtitle Number: 50\n",
      "Season: 6 Episode: 2 Episode Number: 51 Subtitle Number: 45\n",
      "Season: 6 Episode: 3 Episode Number: 49 Subtitle Number: 41\n",
      "Season: 6 Episode: 4 Episode Number: 45 Subtitle Number: 43\n",
      "Season: 6 Episode: 5 Episode Number: 55 Subtitle Number: 51\n",
      "Season: 6 Episode: 6 Episode Number: 63 Subtitle Number: 55\n",
      "Season: 6 Episode: 7 Episode Number: 58 Subtitle Number: 47\n",
      "Season: 6 Episode: 8 Episode Number: 52 Subtitle Number: 48\n",
      "Season: 6 Episode: 9 Episode Number: 52 Subtitle Number: 42\n",
      "Season: 6 Episode: 10 Episode Number: 58 Subtitle Number: 49\n",
      "Season: 6 Episode: 11 Episode Number: 86 Subtitle Number: 68\n",
      "Season: 6 Episode: 12 Episode Number: 69 Subtitle Number: 55\n",
      "Season: 6 Episode: 13 Episode Number: 43 Subtitle Number: 40\n",
      "Season: 6 Episode: 14 Episode Number: 58 Subtitle Number: 48\n",
      "Season: 6 Episode: 15 Episode Number: 69 Subtitle Number: 62\n",
      "Season: 6 Episode: 16 Episode Number: 74 Subtitle Number: 63\n",
      "Season: 6 Episode: 17 Episode Number: 59 Subtitle Number: 47\n",
      "Season: 6 Episode: 18 Episode Number: 66 Subtitle Number: 49\n",
      "Season: 6 Episode: 19 Episode Number: 66 Subtitle Number: 59\n",
      "Season: 6 Episode: 20 Episode Number: 55 Subtitle Number: 48\n",
      "Season: 6 Episode: 21 Episode Number: 73 Subtitle Number: 61\n",
      "Season: 6 Episode: 22 Episode Number: 50 Subtitle Number: 44\n",
      "Season: 6 Episode: 23 Episode Number: 64 Subtitle Number: 57\n",
      "Season: 6 Episode: 24 Episode Number: 73 Subtitle Number: 57\n",
      "Season: 7 Episode: 1 Episode Number: 77 Subtitle Number: 67\n",
      "Season: 7 Episode: 2 Episode Number: 65 Subtitle Number: 59\n",
      "Season: 7 Episode: 3 Episode Number: 57 Subtitle Number: 47\n",
      "Season: 7 Episode: 4 Episode Number: 80 Subtitle Number: 64\n",
      "Season: 7 Episode: 5 Episode Number: 74 Subtitle Number: 62\n",
      "Season: 7 Episode: 6 Episode Number: 61 Subtitle Number: 54\n",
      "Season: 7 Episode: 7 Episode Number: 49 Subtitle Number: 47\n",
      "Season: 7 Episode: 8 Episode Number: 77 Subtitle Number: 66\n",
      "Season: 7 Episode: 9 Episode Number: 70 Subtitle Number: 63\n",
      "Season: 7 Episode: 10 Episode Number: 70 Subtitle Number: 60\n",
      "Season: 7 Episode: 11 Episode Number: 49 Subtitle Number: 47\n",
      "Season: 7 Episode: 13 Episode Number: 65 Subtitle Number: 55\n",
      "Season: 7 Episode: 14 Episode Number: 73 Subtitle Number: 64\n",
      "Season: 7 Episode: 15 Episode Number: 52 Subtitle Number: 46\n",
      "Season: 7 Episode: 16 Episode Number: 73 Subtitle Number: 69\n",
      "Season: 7 Episode: 17 Episode Number: 77 Subtitle Number: 66\n",
      "Season: 7 Episode: 18 Episode Number: 77 Subtitle Number: 66\n",
      "Season: 7 Episode: 19 Episode Number: 74 Subtitle Number: 61\n",
      "Season: 7 Episode: 20 Episode Number: 61 Subtitle Number: 52\n",
      "Season: 7 Episode: 21 Episode Number: 67 Subtitle Number: 63\n",
      "Season: 7 Episode: 22 Episode Number: 62 Subtitle Number: 59\n",
      "Season: 7 Episode: 23 Episode Number: 66 Subtitle Number: 59\n",
      "Season: 7 Episode: 24 Episode Number: 76 Subtitle Number: 67\n",
      "Season: 8 Episode: 1 Episode Number: 63 Subtitle Number: 49\n",
      "Season: 8 Episode: 2 Episode Number: 75 Subtitle Number: 69\n",
      "Season: 8 Episode: 3 Episode Number: 64 Subtitle Number: 58\n",
      "Season: 8 Episode: 4 Episode Number: 79 Subtitle Number: 70\n",
      "Season: 8 Episode: 5 Episode Number: 63 Subtitle Number: 54\n",
      "Season: 8 Episode: 6 Episode Number: 89 Subtitle Number: 81\n",
      "Season: 8 Episode: 8 Episode Number: 72 Subtitle Number: 64\n",
      "Season: 8 Episode: 9 Episode Number: 85 Subtitle Number: 74\n",
      "Season: 8 Episode: 10 Episode Number: 77 Subtitle Number: 68\n",
      "Season: 8 Episode: 11 Episode Number: 61 Subtitle Number: 49\n",
      "Season: 8 Episode: 12 Episode Number: 69 Subtitle Number: 64\n",
      "Season: 8 Episode: 13 Episode Number: 71 Subtitle Number: 59\n",
      "Season: 8 Episode: 15 Episode Number: 55 Subtitle Number: 49\n",
      "Season: 8 Episode: 16 Episode Number: 58 Subtitle Number: 52\n",
      "Season: 8 Episode: 17 Episode Number: 69 Subtitle Number: 58\n",
      "Season: 8 Episode: 18 Episode Number: 75 Subtitle Number: 66\n",
      "Season: 8 Episode: 19 Episode Number: 70 Subtitle Number: 62\n",
      "Season: 8 Episode: 20 Episode Number: 62 Subtitle Number: 56\n",
      "Season: 8 Episode: 21 Episode Number: 80 Subtitle Number: 74\n",
      "Season: 8 Episode: 22 Episode Number: 64 Subtitle Number: 50\n",
      "Season: 8 Episode: 23 Episode Number: 67 Subtitle Number: 61\n",
      "Season: 8 Episode: 24 Episode Number: 51 Subtitle Number: 48\n",
      "Season: 9 Episode: 1 Episode Number: 44 Subtitle Number: 40\n",
      "Season: 9 Episode: 2 Episode Number: 66 Subtitle Number: 58\n",
      "Season: 9 Episode: 3 Episode Number: 62 Subtitle Number: 58\n",
      "Season: 9 Episode: 4 Episode Number: 51 Subtitle Number: 42\n",
      "Season: 9 Episode: 5 Episode Number: 52 Subtitle Number: 46\n",
      "Season: 9 Episode: 6 Episode Number: 63 Subtitle Number: 59\n",
      "Season: 9 Episode: 7 Episode Number: 65 Subtitle Number: 57\n",
      "Season: 9 Episode: 8 Episode Number: 0 Subtitle Number: 0\n",
      "Season: 9 Episode: 9 Episode Number: 71 Subtitle Number: 63\n",
      "Season: 9 Episode: 10 Episode Number: 63 Subtitle Number: 53\n",
      "Season: 9 Episode: 11 Episode Number: 50 Subtitle Number: 48\n",
      "Season: 9 Episode: 12 Episode Number: 77 Subtitle Number: 69\n",
      "Season: 9 Episode: 13 Episode Number: 62 Subtitle Number: 58\n",
      "Season: 9 Episode: 14 Episode Number: 62 Subtitle Number: 59\n",
      "Season: 9 Episode: 15 Episode Number: 55 Subtitle Number: 47\n",
      "Season: 9 Episode: 16 Episode Number: 54 Subtitle Number: 53\n",
      "Season: 9 Episode: 24 Episode Number: 59 Subtitle Number: 57\n"
     ]
    }
   ],
   "source": [
    "result_0_all = {}\n",
    "for i in range(12):\n",
    "    for j in range(30):\n",
    "        try:\n",
    "            (en_subset, zh_subset, tbbt_episode) = fetch_subsets(\n",
    "                episode=tbbt_transcripts,\n",
    "                en_subtitle=en_subtitle,\n",
    "                zh_subtitle=zh_subtitle,\n",
    "                results=results,\n",
    "                season_id=i+1,\n",
    "                episode_id=j+1,\n",
    "                bias=200\n",
    "            )\n",
    "            temp = string_match_sliding_window(en_subset, tbbt_episode, window_size=9)\n",
    "            result_0_all[(i+1,j+1)] = temp\n",
    "            print(\"Season:\", i+1,\"Episode:\", j+1, \"Episode Number:\",len(temp), \"Subtitle Number:\",len(turn_sub2epi_into_epi2sub(temp)))\n",
    "        except:\n",
    "            pass"
   ],
   "metadata": {
    "collapsed": false,
    "pycharm": {
     "name": "#%%\n"
    }
   }
  },
  {
   "cell_type": "code",
   "execution_count": 79,
   "outputs": [],
   "source": [
    "with open('alignment_part_1_string_match.pkl', 'wb') as f:\n",
    "    pkl.dump(result_0_all, f)"
   ],
   "metadata": {
    "collapsed": false,
    "pycharm": {
     "name": "#%%\n"
    }
   }
  },
  {
   "cell_type": "code",
   "execution_count": 11,
   "outputs": [],
   "source": [
    "with open('alignment_part_1_string_match.pkl', 'rb') as f:\n",
    "    result_0_all = pkl.load(f)"
   ],
   "metadata": {
    "collapsed": false,
    "pycharm": {
     "name": "#%%\n"
    }
   }
  },
  {
   "cell_type": "markdown",
   "source": [
    "#### Part 2.2: Strict Match"
   ],
   "metadata": {
    "collapsed": false,
    "pycharm": {
     "name": "#%% md\n"
    }
   }
  },
  {
   "cell_type": "code",
   "execution_count": 327,
   "outputs": [],
   "source": [
    "(en_subset, zh_subset, tbbt_episode) = fetch_subsets(\n",
    "        episode=tbbt_transcripts,\n",
    "        en_subtitle=en_subtitle,\n",
    "        zh_subtitle=zh_subtitle,\n",
    "        results=results,\n",
    "        season_id=1,\n",
    "        episode_id=1,\n",
    "        bias=200\n",
    "    )"
   ],
   "metadata": {
    "collapsed": false,
    "pycharm": {
     "name": "#%%\n"
    }
   }
  },
  {
   "cell_type": "code",
   "execution_count": 8,
   "outputs": [],
   "source": [
    "def exact_match(en_subset, episode):\n",
    "    res = {}\n",
    "    for i, subtitle in enumerate(en_subset):\n",
    "        subtitle = transformation(subtitle)\n",
    "        if len(subtitle.strip().split(\" \")) <=5:\n",
    "            continue\n",
    "        # Exact Match for short sentences\n",
    "        for j, (utt, speaker) in enumerate(episode):\n",
    "            utt = transformation(utt)\n",
    "            if subtitle == utt:\n",
    "                if i not in res:\n",
    "                    res[i] = set()\n",
    "                    res[i].add(j)\n",
    "                else:\n",
    "                    res[i].add(j)\n",
    "    output = {}\n",
    "    for x in res:\n",
    "        output[x] = sorted(list(res[x]))\n",
    "\n",
    "    return output"
   ],
   "metadata": {
    "collapsed": false,
    "pycharm": {
     "name": "#%%\n"
    }
   }
  },
  {
   "cell_type": "code",
   "execution_count": 106,
   "outputs": [
    {
     "name": "stdout",
     "output_type": "stream",
     "text": [
      "Season: 1 Episode: 1 Episode Number: 31 Subtitle Number: 31\n",
      "Season: 1 Episode: 2 Episode Number: 23 Subtitle Number: 23\n",
      "Season: 1 Episode: 3 Episode Number: 17 Subtitle Number: 17\n",
      "Season: 1 Episode: 4 Episode Number: 13 Subtitle Number: 13\n",
      "Season: 1 Episode: 5 Episode Number: 12 Subtitle Number: 12\n",
      "Season: 1 Episode: 6 Episode Number: 29 Subtitle Number: 29\n",
      "Season: 1 Episode: 7 Episode Number: 22 Subtitle Number: 22\n",
      "Season: 1 Episode: 8 Episode Number: 31 Subtitle Number: 31\n",
      "Season: 1 Episode: 9 Episode Number: 21 Subtitle Number: 21\n",
      "Season: 1 Episode: 10 Episode Number: 25 Subtitle Number: 25\n",
      "Season: 1 Episode: 11 Episode Number: 25 Subtitle Number: 25\n",
      "Season: 1 Episode: 12 Episode Number: 18 Subtitle Number: 18\n",
      "Season: 1 Episode: 13 Episode Number: 15 Subtitle Number: 15\n",
      "Season: 1 Episode: 14 Episode Number: 17 Subtitle Number: 17\n",
      "Season: 1 Episode: 15 Episode Number: 24 Subtitle Number: 24\n",
      "Season: 1 Episode: 16 Episode Number: 19 Subtitle Number: 19\n",
      "Season: 2 Episode: 1 Episode Number: 24 Subtitle Number: 24\n",
      "Season: 2 Episode: 2 Episode Number: 22 Subtitle Number: 22\n",
      "Season: 2 Episode: 3 Episode Number: 21 Subtitle Number: 21\n",
      "Season: 2 Episode: 4 Episode Number: 18 Subtitle Number: 18\n",
      "Season: 2 Episode: 5 Episode Number: 28 Subtitle Number: 28\n",
      "Season: 2 Episode: 6 Episode Number: 30 Subtitle Number: 30\n",
      "Season: 2 Episode: 7 Episode Number: 30 Subtitle Number: 30\n",
      "Season: 2 Episode: 8 Episode Number: 13 Subtitle Number: 13\n",
      "Season: 2 Episode: 9 Episode Number: 24 Subtitle Number: 24\n",
      "Season: 2 Episode: 10 Episode Number: 16 Subtitle Number: 16\n",
      "Season: 2 Episode: 11 Episode Number: 28 Subtitle Number: 29\n",
      "Season: 2 Episode: 12 Episode Number: 22 Subtitle Number: 22\n",
      "Season: 2 Episode: 13 Episode Number: 9 Subtitle Number: 9\n",
      "Season: 2 Episode: 14 Episode Number: 35 Subtitle Number: 35\n",
      "Season: 2 Episode: 15 Episode Number: 26 Subtitle Number: 26\n",
      "Season: 2 Episode: 16 Episode Number: 33 Subtitle Number: 33\n",
      "Season: 2 Episode: 17 Episode Number: 24 Subtitle Number: 24\n",
      "Season: 2 Episode: 18 Episode Number: 13 Subtitle Number: 13\n",
      "Season: 2 Episode: 19 Episode Number: 21 Subtitle Number: 21\n",
      "Season: 2 Episode: 20 Episode Number: 26 Subtitle Number: 26\n",
      "Season: 2 Episode: 21 Episode Number: 24 Subtitle Number: 25\n",
      "Season: 2 Episode: 22 Episode Number: 17 Subtitle Number: 17\n",
      "Season: 2 Episode: 23 Episode Number: 23 Subtitle Number: 24\n",
      "Season: 3 Episode: 1 Episode Number: 26 Subtitle Number: 27\n",
      "Season: 3 Episode: 2 Episode Number: 29 Subtitle Number: 29\n",
      "Season: 3 Episode: 3 Episode Number: 22 Subtitle Number: 22\n",
      "Season: 3 Episode: 4 Episode Number: 25 Subtitle Number: 25\n",
      "Season: 3 Episode: 5 Episode Number: 33 Subtitle Number: 33\n",
      "Season: 3 Episode: 6 Episode Number: 17 Subtitle Number: 17\n",
      "Season: 3 Episode: 7 Episode Number: 21 Subtitle Number: 21\n",
      "Season: 3 Episode: 8 Episode Number: 25 Subtitle Number: 25\n",
      "Season: 3 Episode: 9 Episode Number: 28 Subtitle Number: 28\n",
      "Season: 3 Episode: 10 Episode Number: 45 Subtitle Number: 45\n",
      "Season: 3 Episode: 11 Episode Number: 33 Subtitle Number: 33\n",
      "Season: 3 Episode: 12 Episode Number: 26 Subtitle Number: 26\n",
      "Season: 3 Episode: 13 Episode Number: 21 Subtitle Number: 21\n",
      "Season: 3 Episode: 14 Episode Number: 16 Subtitle Number: 16\n",
      "Season: 3 Episode: 15 Episode Number: 19 Subtitle Number: 19\n",
      "Season: 3 Episode: 16 Episode Number: 23 Subtitle Number: 23\n",
      "Season: 3 Episode: 17 Episode Number: 14 Subtitle Number: 14\n",
      "Season: 3 Episode: 18 Episode Number: 16 Subtitle Number: 16\n",
      "Season: 3 Episode: 19 Episode Number: 26 Subtitle Number: 26\n",
      "Season: 3 Episode: 20 Episode Number: 41 Subtitle Number: 41\n",
      "Season: 3 Episode: 21 Episode Number: 22 Subtitle Number: 22\n",
      "Season: 3 Episode: 22 Episode Number: 28 Subtitle Number: 28\n",
      "Season: 3 Episode: 23 Episode Number: 19 Subtitle Number: 19\n",
      "Season: 4 Episode: 1 Episode Number: 41 Subtitle Number: 41\n",
      "Season: 4 Episode: 2 Episode Number: 34 Subtitle Number: 34\n",
      "Season: 4 Episode: 3 Episode Number: 45 Subtitle Number: 45\n",
      "Season: 4 Episode: 4 Episode Number: 39 Subtitle Number: 39\n",
      "Season: 4 Episode: 5 Episode Number: 24 Subtitle Number: 24\n",
      "Season: 4 Episode: 6 Episode Number: 35 Subtitle Number: 35\n",
      "Season: 4 Episode: 7 Episode Number: 34 Subtitle Number: 34\n",
      "Season: 4 Episode: 8 Episode Number: 16 Subtitle Number: 16\n",
      "Season: 4 Episode: 9 Episode Number: 40 Subtitle Number: 40\n",
      "Season: 4 Episode: 10 Episode Number: 25 Subtitle Number: 25\n",
      "Season: 4 Episode: 11 Episode Number: 27 Subtitle Number: 27\n",
      "Season: 4 Episode: 12 Episode Number: 22 Subtitle Number: 22\n",
      "Season: 4 Episode: 13 Episode Number: 35 Subtitle Number: 36\n",
      "Season: 4 Episode: 14 Episode Number: 27 Subtitle Number: 27\n",
      "Season: 4 Episode: 15 Episode Number: 25 Subtitle Number: 25\n",
      "Season: 4 Episode: 16 Episode Number: 0 Subtitle Number: 0\n",
      "Season: 4 Episode: 17 Episode Number: 35 Subtitle Number: 35\n",
      "Season: 4 Episode: 18 Episode Number: 28 Subtitle Number: 28\n",
      "Season: 4 Episode: 19 Episode Number: 38 Subtitle Number: 38\n",
      "Season: 4 Episode: 20 Episode Number: 34 Subtitle Number: 34\n",
      "Season: 4 Episode: 21 Episode Number: 28 Subtitle Number: 28\n",
      "Season: 4 Episode: 22 Episode Number: 34 Subtitle Number: 34\n",
      "Season: 4 Episode: 23 Episode Number: 39 Subtitle Number: 39\n",
      "Season: 4 Episode: 24 Episode Number: 26 Subtitle Number: 26\n",
      "Season: 5 Episode: 1 Episode Number: 18 Subtitle Number: 17\n",
      "Season: 5 Episode: 2 Episode Number: 28 Subtitle Number: 28\n",
      "Season: 5 Episode: 3 Episode Number: 13 Subtitle Number: 13\n",
      "Season: 5 Episode: 4 Episode Number: 30 Subtitle Number: 30\n",
      "Season: 5 Episode: 5 Episode Number: 21 Subtitle Number: 21\n",
      "Season: 5 Episode: 6 Episode Number: 29 Subtitle Number: 29\n",
      "Season: 5 Episode: 7 Episode Number: 24 Subtitle Number: 24\n",
      "Season: 5 Episode: 8 Episode Number: 25 Subtitle Number: 25\n",
      "Season: 5 Episode: 9 Episode Number: 17 Subtitle Number: 17\n",
      "Season: 5 Episode: 10 Episode Number: 15 Subtitle Number: 15\n",
      "Season: 5 Episode: 11 Episode Number: 38 Subtitle Number: 38\n",
      "Season: 5 Episode: 12 Episode Number: 30 Subtitle Number: 30\n",
      "Season: 5 Episode: 13 Episode Number: 28 Subtitle Number: 27\n",
      "Season: 5 Episode: 14 Episode Number: 20 Subtitle Number: 20\n",
      "Season: 5 Episode: 15 Episode Number: 20 Subtitle Number: 20\n",
      "Season: 5 Episode: 16 Episode Number: 19 Subtitle Number: 19\n",
      "Season: 5 Episode: 17 Episode Number: 10 Subtitle Number: 10\n",
      "Season: 5 Episode: 18 Episode Number: 18 Subtitle Number: 18\n",
      "Season: 5 Episode: 19 Episode Number: 22 Subtitle Number: 22\n",
      "Season: 5 Episode: 20 Episode Number: 18 Subtitle Number: 18\n",
      "Season: 5 Episode: 21 Episode Number: 30 Subtitle Number: 30\n",
      "Season: 5 Episode: 22 Episode Number: 23 Subtitle Number: 23\n",
      "Season: 5 Episode: 23 Episode Number: 18 Subtitle Number: 18\n",
      "Season: 6 Episode: 1 Episode Number: 23 Subtitle Number: 23\n",
      "Season: 6 Episode: 2 Episode Number: 33 Subtitle Number: 33\n",
      "Season: 6 Episode: 3 Episode Number: 10 Subtitle Number: 10\n",
      "Season: 6 Episode: 4 Episode Number: 17 Subtitle Number: 17\n",
      "Season: 6 Episode: 5 Episode Number: 20 Subtitle Number: 20\n",
      "Season: 6 Episode: 6 Episode Number: 17 Subtitle Number: 16\n",
      "Season: 6 Episode: 7 Episode Number: 19 Subtitle Number: 19\n",
      "Season: 6 Episode: 8 Episode Number: 30 Subtitle Number: 30\n",
      "Season: 6 Episode: 9 Episode Number: 15 Subtitle Number: 15\n",
      "Season: 6 Episode: 10 Episode Number: 18 Subtitle Number: 18\n",
      "Season: 6 Episode: 11 Episode Number: 26 Subtitle Number: 26\n",
      "Season: 6 Episode: 12 Episode Number: 20 Subtitle Number: 20\n",
      "Season: 6 Episode: 13 Episode Number: 27 Subtitle Number: 27\n",
      "Season: 6 Episode: 14 Episode Number: 26 Subtitle Number: 26\n",
      "Season: 6 Episode: 15 Episode Number: 21 Subtitle Number: 21\n",
      "Season: 6 Episode: 16 Episode Number: 19 Subtitle Number: 19\n",
      "Season: 6 Episode: 17 Episode Number: 12 Subtitle Number: 12\n",
      "Season: 6 Episode: 18 Episode Number: 23 Subtitle Number: 23\n",
      "Season: 6 Episode: 19 Episode Number: 20 Subtitle Number: 20\n",
      "Season: 6 Episode: 20 Episode Number: 21 Subtitle Number: 21\n",
      "Season: 6 Episode: 21 Episode Number: 21 Subtitle Number: 21\n",
      "Season: 6 Episode: 22 Episode Number: 17 Subtitle Number: 17\n",
      "Season: 6 Episode: 23 Episode Number: 16 Subtitle Number: 16\n",
      "Season: 6 Episode: 24 Episode Number: 21 Subtitle Number: 21\n",
      "Season: 7 Episode: 1 Episode Number: 38 Subtitle Number: 38\n",
      "Season: 7 Episode: 2 Episode Number: 36 Subtitle Number: 36\n",
      "Season: 7 Episode: 3 Episode Number: 32 Subtitle Number: 32\n",
      "Season: 7 Episode: 4 Episode Number: 25 Subtitle Number: 25\n",
      "Season: 7 Episode: 5 Episode Number: 29 Subtitle Number: 29\n",
      "Season: 7 Episode: 6 Episode Number: 17 Subtitle Number: 17\n",
      "Season: 7 Episode: 7 Episode Number: 27 Subtitle Number: 27\n",
      "Season: 7 Episode: 8 Episode Number: 31 Subtitle Number: 31\n",
      "Season: 7 Episode: 9 Episode Number: 37 Subtitle Number: 37\n",
      "Season: 7 Episode: 10 Episode Number: 28 Subtitle Number: 28\n",
      "Season: 7 Episode: 11 Episode Number: 37 Subtitle Number: 37\n",
      "Season: 7 Episode: 13 Episode Number: 25 Subtitle Number: 25\n",
      "Season: 7 Episode: 14 Episode Number: 40 Subtitle Number: 40\n",
      "Season: 7 Episode: 15 Episode Number: 23 Subtitle Number: 23\n",
      "Season: 7 Episode: 16 Episode Number: 39 Subtitle Number: 39\n",
      "Season: 7 Episode: 17 Episode Number: 37 Subtitle Number: 37\n",
      "Season: 7 Episode: 18 Episode Number: 46 Subtitle Number: 46\n",
      "Season: 7 Episode: 19 Episode Number: 29 Subtitle Number: 29\n",
      "Season: 7 Episode: 20 Episode Number: 35 Subtitle Number: 36\n",
      "Season: 7 Episode: 21 Episode Number: 33 Subtitle Number: 33\n",
      "Season: 7 Episode: 22 Episode Number: 29 Subtitle Number: 29\n",
      "Season: 7 Episode: 23 Episode Number: 37 Subtitle Number: 37\n",
      "Season: 7 Episode: 24 Episode Number: 33 Subtitle Number: 33\n",
      "Season: 8 Episode: 1 Episode Number: 17 Subtitle Number: 17\n",
      "Season: 8 Episode: 2 Episode Number: 29 Subtitle Number: 29\n",
      "Season: 8 Episode: 3 Episode Number: 30 Subtitle Number: 30\n",
      "Season: 8 Episode: 4 Episode Number: 32 Subtitle Number: 32\n",
      "Season: 8 Episode: 5 Episode Number: 44 Subtitle Number: 44\n",
      "Season: 8 Episode: 6 Episode Number: 48 Subtitle Number: 47\n",
      "Season: 8 Episode: 8 Episode Number: 27 Subtitle Number: 27\n",
      "Season: 8 Episode: 9 Episode Number: 38 Subtitle Number: 38\n",
      "Season: 8 Episode: 10 Episode Number: 38 Subtitle Number: 38\n",
      "Season: 8 Episode: 11 Episode Number: 39 Subtitle Number: 39\n",
      "Season: 8 Episode: 12 Episode Number: 26 Subtitle Number: 26\n",
      "Season: 8 Episode: 13 Episode Number: 25 Subtitle Number: 25\n",
      "Season: 8 Episode: 15 Episode Number: 38 Subtitle Number: 38\n",
      "Season: 8 Episode: 16 Episode Number: 31 Subtitle Number: 31\n",
      "Season: 8 Episode: 17 Episode Number: 34 Subtitle Number: 34\n",
      "Season: 8 Episode: 18 Episode Number: 37 Subtitle Number: 37\n",
      "Season: 8 Episode: 19 Episode Number: 33 Subtitle Number: 33\n",
      "Season: 8 Episode: 20 Episode Number: 42 Subtitle Number: 42\n",
      "Season: 8 Episode: 21 Episode Number: 36 Subtitle Number: 36\n",
      "Season: 8 Episode: 22 Episode Number: 29 Subtitle Number: 29\n",
      "Season: 8 Episode: 23 Episode Number: 26 Subtitle Number: 26\n",
      "Season: 8 Episode: 24 Episode Number: 27 Subtitle Number: 27\n",
      "Season: 9 Episode: 1 Episode Number: 30 Subtitle Number: 30\n",
      "Season: 9 Episode: 2 Episode Number: 32 Subtitle Number: 32\n",
      "Season: 9 Episode: 3 Episode Number: 30 Subtitle Number: 30\n",
      "Season: 9 Episode: 4 Episode Number: 19 Subtitle Number: 19\n",
      "Season: 9 Episode: 5 Episode Number: 32 Subtitle Number: 32\n",
      "Season: 9 Episode: 6 Episode Number: 43 Subtitle Number: 43\n",
      "Season: 9 Episode: 7 Episode Number: 28 Subtitle Number: 28\n",
      "Season: 9 Episode: 8 Episode Number: 0 Subtitle Number: 0\n",
      "Season: 9 Episode: 9 Episode Number: 27 Subtitle Number: 27\n",
      "Season: 9 Episode: 10 Episode Number: 27 Subtitle Number: 27\n",
      "Season: 9 Episode: 11 Episode Number: 25 Subtitle Number: 25\n",
      "Season: 9 Episode: 12 Episode Number: 34 Subtitle Number: 34\n",
      "Season: 9 Episode: 13 Episode Number: 30 Subtitle Number: 30\n",
      "Season: 9 Episode: 14 Episode Number: 29 Subtitle Number: 29\n",
      "Season: 9 Episode: 15 Episode Number: 30 Subtitle Number: 30\n",
      "Season: 9 Episode: 16 Episode Number: 28 Subtitle Number: 28\n",
      "Season: 9 Episode: 24 Episode Number: 48 Subtitle Number: 48\n"
     ]
    }
   ],
   "source": [
    "result_1_all = {}\n",
    "for i in range(12):\n",
    "    for j in range(30):\n",
    "        try:\n",
    "            (en_subset, zh_subset, tbbt_episode) = fetch_subsets(\n",
    "                episode=tbbt_transcripts,\n",
    "                en_subtitle=en_subtitle,\n",
    "                zh_subtitle=zh_subtitle,\n",
    "                results=results,\n",
    "                season_id=i+1,\n",
    "                episode_id=j+1,\n",
    "                bias=200\n",
    "            )\n",
    "            temp = exact_match(en_subset, tbbt_episode)\n",
    "            result_1_all[(i+1,j+1)] = temp\n",
    "            print(\"Season:\", i+1,\"Episode:\", j+1, \"Episode Number:\",len(turn_sub2epi_into_epi2sub(temp)), \"Subtitle Number:\",len(temp))\n",
    "        except:\n",
    "            pass"
   ],
   "metadata": {
    "collapsed": false,
    "pycharm": {
     "name": "#%%\n"
    }
   }
  },
  {
   "cell_type": "code",
   "execution_count": 107,
   "outputs": [],
   "source": [
    "with open('alignment_part_2_strict_match.pkl', 'wb') as f:\n",
    "    pkl.dump(result_1_all, f)"
   ],
   "metadata": {
    "collapsed": false,
    "pycharm": {
     "name": "#%%\n"
    }
   }
  },
  {
   "cell_type": "code",
   "execution_count": 13,
   "outputs": [],
   "source": [
    "with open('alignment_part_2_strict_match.pkl', 'rb') as f:\n",
    "    result_1_all = pkl.load(f)"
   ],
   "metadata": {
    "collapsed": false,
    "pycharm": {
     "name": "#%%\n"
    }
   }
  },
  {
   "cell_type": "markdown",
   "source": [
    "#### Part 2.4: Merge string match and exact match result as the alignment seeds"
   ],
   "metadata": {
    "collapsed": false,
    "pycharm": {
     "name": "#%% md\n"
    }
   }
  },
  {
   "cell_type": "code",
   "execution_count": 9,
   "outputs": [],
   "source": [
    "def merge_two_dict(dict_1, dict_2):\n",
    "    res = deepcopy(dict_1)\n",
    "    for sea_epi in dict_2:\n",
    "        if sea_epi not in res:\n",
    "            res[sea_epi] = dict_2[sea_epi]\n",
    "        else:\n",
    "            temp = {}\n",
    "            for x in res[sea_epi]:\n",
    "                temp[x] = list(res[sea_epi][x])\n",
    "            # add dict 2\n",
    "            if sea_epi in dict_2:\n",
    "                for x in dict_2[sea_epi]:\n",
    "                    if x not in temp:\n",
    "                        temp[x] = sorted(list(set(dict_2[sea_epi][x])))\n",
    "                    else:\n",
    "                        temp[x].extend(dict_2[sea_epi][x])\n",
    "                    temp[x] = sorted(list(set(temp[x])))\n",
    "            res[sea_epi] = temp\n",
    "\n",
    "    output = {}\n",
    "    for x in res:\n",
    "        if res[x]!={}:\n",
    "            output[x] = res[x]\n",
    "    return output"
   ],
   "metadata": {
    "collapsed": false,
    "pycharm": {
     "name": "#%%\n"
    }
   }
  },
  {
   "cell_type": "code",
   "execution_count": 10,
   "outputs": [],
   "source": [
    "# Perform index filtering on the alignment seeds\n",
    "\"\"\"\n",
    "Filter index based on the index before and after\n",
    "\"\"\"\n",
    "def filter_by_idx(sub2epi):\n",
    "    paris = []\n",
    "    for x in sorted(list(sub2epi.keys())):\n",
    "        for y in sorted(sub2epi[x]):\n",
    "            paris.append([x,y])\n",
    "\n",
    "    res = [paris[0]]\n",
    "    for i in range(1, len(paris)-1):\n",
    "        former = res[-1]\n",
    "        current = paris[i]\n",
    "        after = paris[i+1]\n",
    "        if former[0] <= current[0] <= after[0]:\n",
    "            if former[1]<=current[1]<=after[1]:\n",
    "                res.append(current)\n",
    "    if paris[-1][0] >= res[-1][0]:\n",
    "        if paris[-1][1] >= res[-1][1]:\n",
    "            res.append(paris[-1])\n",
    "\n",
    "    output = {}\n",
    "    for x in res:\n",
    "        sub = x[0]\n",
    "        epi = x[1]\n",
    "        if sub not in output:\n",
    "            output[sub] = [epi]\n",
    "        else:\n",
    "            output[sub].append(epi)\n",
    "\n",
    "    return output"
   ],
   "metadata": {
    "collapsed": false,
    "pycharm": {
     "name": "#%%\n"
    }
   }
  },
  {
   "cell_type": "code",
   "execution_count": 16,
   "outputs": [],
   "source": [
    "alignment_seeds = {}\n",
    "temp = merge_two_dict(result_0_all, result_1_all)\n",
    "for x in temp:\n",
    "    alignment_seeds[x] = filter_by_idx(temp[x])"
   ],
   "metadata": {
    "collapsed": false,
    "pycharm": {
     "name": "#%%\n"
    }
   }
  },
  {
   "cell_type": "code",
   "execution_count": 240,
   "outputs": [],
   "source": [
    "with open('alignment_seeds.pkl', 'wb') as f:\n",
    "    pkl.dump(alignment_seeds, f)"
   ],
   "metadata": {
    "collapsed": false,
    "pycharm": {
     "name": "#%%\n"
    }
   }
  },
  {
   "cell_type": "code",
   "execution_count": 11,
   "outputs": [],
   "source": [
    "with open('alignment_seeds.pkl', 'rb') as f:\n",
    "    alignment_seeds = pkl.load(f)"
   ],
   "metadata": {
    "collapsed": false,
    "pycharm": {
     "name": "#%%\n"
    }
   }
  },
  {
   "cell_type": "markdown",
   "source": [
    "# Section 3: Extend from Alignment Seeds\n",
    "\n",
    "This section add most alignment and we will further add alignments between gaps"
   ],
   "metadata": {
    "collapsed": false,
    "pycharm": {
     "name": "#%% md\n"
    }
   }
  },
  {
   "cell_type": "code",
   "execution_count": 14,
   "outputs": [],
   "source": [
    "def extend_neighbors(en_subset, epi2sub_alignment_2, episode):\n",
    "    temp = {}\n",
    "    for epi_id in epi2sub_alignment_2:\n",
    "        # Define episode utterance id\n",
    "        epi_id_former = epi_id - 1\n",
    "        epi_id = epi_id\n",
    "        epi_id_latter = epi_id + 1\n",
    "\n",
    "        # Define subtitle id\n",
    "        sub_id_former = min(epi2sub_alignment_2[epi_id]) - 1\n",
    "        sub_id_latter = max(epi2sub_alignment_2[epi_id]) + 1\n",
    "        sub_ids = sorted(list(epi2sub_alignment_2[epi_id]))\n",
    "        # print(epi_id)\n",
    "        # print(epi2sub_alignment_2[epi_id])\n",
    "        # print(sub_ids)\n",
    "\n",
    "        # Check whether subtitle nearby is in the utterance\n",
    "        sub_former = transformation(en_subset[sub_id_former])\n",
    "        sub_latter = transformation(en_subset[sub_id_latter])\n",
    "        epi = transformation(episode[epi_id][0])\n",
    "\n",
    "        if sub_former in epi:\n",
    "            sub_ids.append(sub_id_former)\n",
    "            # print(epi_id, sub_id_former)\n",
    "        if sub_latter in epi:\n",
    "            sub_ids.append(sub_id_latter)\n",
    "            # print(epi_id, sub_id_latter)\n",
    "        # print(sorted(sub_ids))\n",
    "        temp[epi_id] = sorted(sub_ids)\n",
    "        # epi2sub_alignment_2[epi_id] = sorted(sub_ids)\n",
    "        # print(\"==\"*50)\n",
    "    return temp"
   ],
   "metadata": {
    "collapsed": false,
    "pycharm": {
     "name": "#%%\n"
    }
   }
  },
  {
   "cell_type": "code",
   "execution_count": 15,
   "outputs": [],
   "source": [
    "def add_strict_match_within_gaps(gaps, epi2sub):\n",
    "    for gap in gaps:\n",
    "        sub_ids = gap[1]\n",
    "        epi_ids = gap[0]\n",
    "\n",
    "        for sub_id in sub_ids:\n",
    "            sub = transformation(en_subset[sub_id].replace(\"’\", \"'\"))\n",
    "            for epi_id in epi_ids:\n",
    "                epi = transformation(tbbt_episode[epi_id][0].replace(\"’\", \"'\"))\n",
    "                if len(epi.strip().split(\" \"))<=2:\n",
    "                    continue\n",
    "                if sub == epi:\n",
    "\n",
    "                    if epi_id not in epi2sub:\n",
    "                        epi2sub[epi_id] = [sub_id]\n",
    "                    else:\n",
    "                        epi2sub[epi_id].append(sub_id)\n",
    "\n",
    "    output = {}\n",
    "    for epi_id in sorted(list(epi2sub.keys())):\n",
    "        output[epi_id] = sorted(list(set(epi2sub[epi_id])))\n",
    "\n",
    "    return output"
   ],
   "metadata": {
    "collapsed": false,
    "pycharm": {
     "name": "#%%\n"
    }
   }
  },
  {
   "cell_type": "code",
   "execution_count": 16,
   "outputs": [],
   "source": [
    "def get_optimal_wer_from_episode(ground_truth, hypothesis_pool):\n",
    "    scores = []\n",
    "    for i, hypothesis in enumerate(hypothesis_pool):\n",
    "        scores.append(jiwer.compute_measures(ground_truth, hypothesis)['wer'])\n",
    "    return min(scores), hypothesis_pool[scores.index(min(scores))], ground_truth, scores.index(min(scores))"
   ],
   "metadata": {
    "collapsed": false,
    "pycharm": {
     "name": "#%%\n"
    }
   }
  },
  {
   "cell_type": "code",
   "execution_count": 17,
   "outputs": [],
   "source": [
    "def add_wer_match_within_gaps(gaps, epi2sub, en_subset, tbbt_episode):\n",
    "    count = 0\n",
    "    for gap in gaps:\n",
    "        sub_ids = gap[1]\n",
    "        epi_ids = gap[0]\n",
    "\n",
    "        for epi_id in epi_ids:\n",
    "            best_score = 100\n",
    "            best_pair = [None, None]\n",
    "            epi = transformation(tbbt_episode[epi_id][0].replace(\"’\", \"'\"))\n",
    "            if len(epi.strip().split(\" \"))<=2:\n",
    "                continue\n",
    "            for sub_id in sub_ids:\n",
    "                sub = transformation(en_subset[sub_id].replace(\"’\", \"'\"))\n",
    "                score = jiwer.compute_measures(epi, sub)['wer']\n",
    "                if score < best_score:\n",
    "                    best_score = score\n",
    "                    best_pair = [epi_id, sub_id]\n",
    "            if best_score < 0.15:\n",
    "                count += 1\n",
    "                if best_pair[0] not in epi2sub:\n",
    "                    epi2sub[best_pair[0]] = [best_pair[1]]\n",
    "                else:\n",
    "                    epi2sub[best_pair[0]].append([best_pair[1]])\n",
    "    output = {}\n",
    "    for epi_id in sorted(list(epi2sub.keys())):\n",
    "        output[epi_id] = sorted(list(set(epi2sub[epi_id])))\n",
    "\n",
    "    return output"
   ],
   "metadata": {
    "collapsed": false,
    "pycharm": {
     "name": "#%%\n"
    }
   }
  },
  {
   "cell_type": "code",
   "execution_count": 18,
   "outputs": [],
   "source": [
    "def add_wer_substring_match_within_gaps(gaps, epi2sub, en_subset, tbbt_episode):\n",
    "    count = 0\n",
    "    pattern = r'\\.|\\?|\\!|\\;|- '\n",
    "    temp_sub2epi = {}\n",
    "    for gap in gaps:\n",
    "        # Build substrings\n",
    "        sub_ids = gap[1]\n",
    "        epi_ids = gap[0]\n",
    "        sub_lists = []\n",
    "        epi_lists = []\n",
    "\n",
    "        for epi_id in epi_ids:\n",
    "            epi = tbbt_episode[epi_id][0].replace(\"’\", \"'\")\n",
    "            epi_substring = re.split(pattern, epi)\n",
    "            for item in epi_substring:\n",
    "                if len(item.strip().split(\" \"))<=2:\n",
    "                    continue\n",
    "                temp_item = transformation(item.replace(\"-\", \" \").strip())\n",
    "                epi_lists.append([temp_item, epi_id])\n",
    "\n",
    "        for sub_id in sub_ids:\n",
    "            sub = en_subset[sub_id].replace(\"’\", \"'\")\n",
    "            sub_substring = re.split(pattern, sub)\n",
    "            for item in sub_substring:\n",
    "                if len(item.strip().split(\" \"))<=2:\n",
    "                    continue\n",
    "                temp_item = transformation(item.replace(\"-\", \" \").strip())\n",
    "                sub_lists.append([temp_item, sub_id])\n",
    "\n",
    "\n",
    "        # Calculate WER Similarity\n",
    "        for (sub, sub_id) in sub_lists:\n",
    "            for (epi, epi_id) in epi_lists:\n",
    "                cer = jiwer.cer(epi, sub)\n",
    "                if cer <= 0.2:\n",
    "                    count += 1\n",
    "                    if sub_id not in temp_sub2epi:\n",
    "                        temp_sub2epi[sub_id] = set()\n",
    "                        temp_sub2epi[sub_id].add(epi_id)\n",
    "                    else:\n",
    "                        temp_sub2epi[sub_id].add(epi_id)\n",
    "\n",
    "    for sub_id in temp_sub2epi:\n",
    "        epi_ids = list(temp_sub2epi[sub_id])\n",
    "        if len(epi_ids)!=1:\n",
    "            continue\n",
    "        epi_id = epi_ids[0]\n",
    "        if epi_id not in epi2sub:\n",
    "            epi2sub[epi_id] = [sub_id]\n",
    "        else:\n",
    "            epi2sub[epi_id].append(sub_id)\n",
    "\n",
    "    output = {}\n",
    "    for epi_id in sorted(list(epi2sub.keys())):\n",
    "        output[epi_id] = sorted(list(set(epi2sub[epi_id])))\n",
    "    return output"
   ],
   "metadata": {
    "collapsed": false,
    "pycharm": {
     "name": "#%%\n"
    }
   }
  },
  {
   "cell_type": "code",
   "execution_count": 19,
   "outputs": [],
   "source": [
    "def add_one_size_gap(gaps, epi2sub):\n",
    "    temp = {}\n",
    "    for gap in gaps:\n",
    "        sub_ids = gap[1]\n",
    "        epi_ids = gap[0]\n",
    "        if not(len(sub_ids)==1 and len(epi_ids)==1):\n",
    "            continue\n",
    "        sub_id = sub_ids[0]\n",
    "        epi_id = epi_ids[0]\n",
    "        if len(transformation(en_subset[sub_id]).strip().split(' '))==len(transformation(tbbt_episode[epi_id][0]).strip().split(' ')):\n",
    "            epi2sub[epi_id] = [sub_id]\n",
    "    output = {}\n",
    "    for epi_id in sorted(list(epi2sub.keys())):\n",
    "        output[epi_id] = sorted(list(set(epi2sub[epi_id])))\n",
    "    return output"
   ],
   "metadata": {
    "collapsed": false,
    "pycharm": {
     "name": "#%%\n"
    }
   }
  },
  {
   "cell_type": "code",
   "execution_count": 20,
   "outputs": [],
   "source": [
    "def extend_neighbors_sliding(en_subset, epi2sub_alignment_2, episode):\n",
    "    temp = {}\n",
    "    for epi_id in epi2sub_alignment_2:\n",
    "        # Define episode utterance id\n",
    "        epi_id_former = epi_id - 1\n",
    "        epi_id = epi_id\n",
    "        epi_id_latter = epi_id + 1\n",
    "        epi = transformation(episode[epi_id][0])\n",
    "\n",
    "        # Define subtitle id\n",
    "        sub_id_former = min(epi2sub_alignment_2[epi_id]) - 1\n",
    "        sub_id_latter = max(epi2sub_alignment_2[epi_id]) + 1\n",
    "        sub_ids = sorted(list(epi2sub_alignment_2[epi_id]))\n",
    "        # print(epi_id)\n",
    "        # print(epi2sub_alignment_2[epi_id])\n",
    "        # print(sub_ids)\n",
    "\n",
    "        # Check whether subtitle nearby is in the utterance\n",
    "        sub_former = transformation(en_subset[sub_id_former])\n",
    "        sub_former_tokens = sub_former.strip().split(' ')\n",
    "        sub_former_strings = []\n",
    "        for i in range(len(sub_former_tokens)-3):\n",
    "            sub_former_strings.append(\" \".join(sub_former_tokens[i: i+4]))\n",
    "        sub_former_strings.append(sub_former)\n",
    "        for item in sub_former_strings:\n",
    "            if item in epi:\n",
    "                sub_ids.append(sub_id_former)\n",
    "                break\n",
    "\n",
    "\n",
    "        sub_latter = transformation(en_subset[sub_id_latter])\n",
    "        sub_latter_tokens = sub_latter.strip().split(' ')\n",
    "        sub_latter_strings = []\n",
    "        for i in range(len(sub_latter_tokens)-3):\n",
    "            sub_latter_strings.append(\" \".join(sub_latter_tokens[i: i+4]))\n",
    "        sub_latter_strings.append(sub_latter)\n",
    "        for item in sub_latter_strings:\n",
    "            if item in epi:\n",
    "                sub_ids.append(sub_id_latter)\n",
    "                break\n",
    "\n",
    "        temp[epi_id] = sorted(sub_ids)\n",
    "    return temp"
   ],
   "metadata": {
    "collapsed": false,
    "pycharm": {
     "name": "#%%\n"
    }
   }
  },
  {
   "cell_type": "code",
   "execution_count": 21,
   "outputs": [],
   "source": [
    "\"\"\"\n",
    "Extend the former episode and latter episode near the substitle\n",
    "\"\"\"\n",
    "def extend_neighbors_subtitle_sliding(en_subset, epi2sub_alignment_2, episode):\n",
    "    temp = {}\n",
    "    sub2epi = turn_sub2epi_into_epi2sub(epi2sub_alignment_2)\n",
    "\n",
    "    for sub_id in sub2epi:\n",
    "        sub = transformation(en_subset[sub_id])\n",
    "\n",
    "        # Check whether the epi nearby is in the subtitle\n",
    "        epi_id_former = min(sub2epi[sub_id])-1\n",
    "        epi_former = transformation(episode[epi_id_former][0])\n",
    "        epi_former_tokens = epi_former.strip().split(' ')\n",
    "        epi_former_strings = []\n",
    "        for i in range(len(epi_former_tokens)-3):\n",
    "            epi_former_strings.append(\" \".join(epi_former_tokens[i: i+4]))\n",
    "        epi_former_strings.append(epi_former)\n",
    "        for item in epi_former_strings:\n",
    "            if item in sub:\n",
    "                epi_ids.append(epi_id_former)\n",
    "                break\n",
    "\n",
    "\n",
    "        epi_id_latter = max(sub2epi[sub_id])+1\n",
    "        epi_latter = transformation(episode[epi_id_latter][0])\n",
    "        epi_latter_tokens = epi_latter.strip().split(' ')\n",
    "        epi_latter_strings = []\n",
    "        for i in range(len(epi_latter_tokens)-3):\n",
    "            epi_latter_strings.append(\" \".join(epi_latter_tokens[i: i+4]))\n",
    "        epi_latter_strings.append(epi_latter)\n",
    "        for item in epi_latter_strings:\n",
    "            if item in sub:\n",
    "                epi_ids.append(epi_id_latter)\n",
    "                break\n",
    "        print(epi_former_strings)\n",
    "        print(epi_latter_strings)\n",
    "        print(sub)\n",
    "        print('=='*50)\n",
    "        temp[sub_id] = sorted(epi_ids)\n",
    "    return temp"
   ],
   "metadata": {
    "collapsed": false,
    "pycharm": {
     "name": "#%%\n"
    }
   }
  },
  {
   "cell_type": "code",
   "execution_count": 54,
   "outputs": [],
   "source": [
    "\"\"\"\n",
    "Collect all functions\n",
    "\"\"\"\n",
    "def get_alignment_extend_neighbors(tbbt, en_subtitle, other_subtitle, results, season_id, episode_id, bias):\n",
    "    # Fetch subset located by the stage-1 alignment\n",
    "    (en_subset, zh_subset, tbbt_episode) = fetch_subsets(\n",
    "        episode=tbbt,\n",
    "        en_subtitle=en_subtitle,\n",
    "        zh_subtitle=other_subtitle,\n",
    "        results=results,\n",
    "        season_id=season_id,\n",
    "        episode_id=episode_id,\n",
    "        bias=bias\n",
    "    )\n",
    "\n",
    "    # Extend the neighbors\n",
    "    epi2sub = extend_neighbors(en_subset, turn_sub2epi_into_epi2sub(alignment_seeds[(season_id,episode_id)]), tbbt_episode)\n",
    "    epi2sub = extend_neighbors(en_subset, epi2sub, tbbt_episode)\n",
    "    epi2sub = extend_neighbors(en_subset, epi2sub, tbbt_episode)\n",
    "    epi2sub = extend_neighbors(en_subset, epi2sub, tbbt_episode)\n",
    "\n",
    "    # Extend within gap using strict string match\n",
    "    gaps, abandons = get_subset_in_gaps(epi2sub)\n",
    "    epi2sub = add_strict_match_within_gaps(gaps, epi2sub)\n",
    "\n",
    "    # Extend within gap using wer\n",
    "    gaps, abandons = get_subset_in_gaps(epi2sub)\n",
    "    epi2sub = add_wer_match_within_gaps(gaps, epi2sub, en_subset, tbbt_episode)\n",
    "\n",
    "    # Extend within gap using substring cer\n",
    "    gaps, abandons = get_subset_in_gaps(epi2sub)\n",
    "    epi2sub = add_wer_substring_match_within_gaps(gaps, epi2sub, en_subset, tbbt_episode)\n",
    "\n",
    "    # Add within the gap\n",
    "    gaps, abandons = get_subset_in_gaps(epi2sub)\n",
    "    epi2sub = add_one_size_gap(gaps, epi2sub)\n",
    "\n",
    "    return epi2sub"
   ],
   "metadata": {
    "collapsed": false,
    "pycharm": {
     "name": "#%%\n"
    }
   }
  },
  {
   "cell_type": "code",
   "execution_count": 55,
   "outputs": [
    {
     "name": "stdout",
     "output_type": "stream",
     "text": [
      "Season: 1 Episode: 1 Episode Number: 68 226 Subtitle Number: 73 260\n",
      "Season: 1 Episode: 2 Episode Number: 66 161 Subtitle Number: 77 203\n",
      "Season: 1 Episode: 3 Episode Number: 56 163 Subtitle Number: 58 191\n",
      "Season: 1 Episode: 4 Episode Number: 54 143 Subtitle Number: 64 174\n",
      "Season: 1 Episode: 5 Episode Number: 50 144 Subtitle Number: 58 178\n",
      "Season: 1 Episode: 6 Episode Number: 67 165 Subtitle Number: 69 187\n",
      "Season: 1 Episode: 7 Episode Number: 65 166 Subtitle Number: 68 186\n",
      "Season: 1 Episode: 8 Episode Number: 69 195 Subtitle Number: 77 243\n",
      "Season: 1 Episode: 9 Episode Number: 46 146 Subtitle Number: 51 177\n",
      "Season: 1 Episode: 10 Episode Number: 72 144 Subtitle Number: 80 176\n",
      "Season: 1 Episode: 11 Episode Number: 56 164 Subtitle Number: 58 187\n",
      "Season: 1 Episode: 12 Episode Number: 36 95 Subtitle Number: 41 118\n",
      "Season: 1 Episode: 13 Episode Number: 66 145 Subtitle Number: 69 175\n",
      "Season: 1 Episode: 14 Episode Number: 54 151 Subtitle Number: 63 188\n",
      "Season: 1 Episode: 15 Episode Number: 57 157 Subtitle Number: 61 193\n",
      "Season: 1 Episode: 16 Episode Number: 56 144 Subtitle Number: 63 164\n",
      "Season: 2 Episode: 1 Episode Number: 69 161 Subtitle Number: 71 206\n",
      "Season: 2 Episode: 2 Episode Number: 74 166 Subtitle Number: 75 191\n",
      "Season: 2 Episode: 3 Episode Number: 60 152 Subtitle Number: 64 175\n",
      "Season: 2 Episode: 4 Episode Number: 62 162 Subtitle Number: 67 193\n",
      "Season: 2 Episode: 5 Episode Number: 60 138 Subtitle Number: 70 166\n",
      "Season: 2 Episode: 6 Episode Number: 65 171 Subtitle Number: 69 200\n",
      "Season: 2 Episode: 7 Episode Number: 73 173 Subtitle Number: 83 212\n",
      "Season: 2 Episode: 8 Episode Number: 49 135 Subtitle Number: 57 161\n",
      "Season: 2 Episode: 9 Episode Number: 72 150 Subtitle Number: 83 194\n",
      "Season: 2 Episode: 10 Episode Number: 52 144 Subtitle Number: 62 183\n",
      "Season: 2 Episode: 11 Episode Number: 68 162 Subtitle Number: 74 203\n",
      "Season: 2 Episode: 12 Episode Number: 59 149 Subtitle Number: 69 192\n",
      "Season: 2 Episode: 13 Episode Number: 56 156 Subtitle Number: 64 205\n",
      "Season: 2 Episode: 14 Episode Number: 80 190 Subtitle Number: 82 234\n",
      "Season: 2 Episode: 15 Episode Number: 71 183 Subtitle Number: 74 216\n",
      "Season: 2 Episode: 16 Episode Number: 66 183 Subtitle Number: 73 233\n",
      "Season: 2 Episode: 17 Episode Number: 78 169 Subtitle Number: 93 220\n",
      "Season: 2 Episode: 18 Episode Number: 49 142 Subtitle Number: 50 158\n",
      "Season: 2 Episode: 19 Episode Number: 56 166 Subtitle Number: 61 201\n",
      "Season: 2 Episode: 20 Episode Number: 67 164 Subtitle Number: 69 200\n",
      "Season: 2 Episode: 21 Episode Number: 63 166 Subtitle Number: 70 204\n",
      "Season: 2 Episode: 22 Episode Number: 62 148 Subtitle Number: 70 186\n",
      "Season: 2 Episode: 23 Episode Number: 71 168 Subtitle Number: 83 219\n",
      "Season: 3 Episode: 1 Episode Number: 65 156 Subtitle Number: 72 198\n",
      "Season: 3 Episode: 2 Episode Number: 67 158 Subtitle Number: 77 210\n",
      "Season: 3 Episode: 3 Episode Number: 54 157 Subtitle Number: 60 188\n",
      "Season: 3 Episode: 4 Episode Number: 59 175 Subtitle Number: 64 218\n",
      "Season: 3 Episode: 5 Episode Number: 75 175 Subtitle Number: 78 221\n",
      "Season: 3 Episode: 6 Episode Number: 51 156 Subtitle Number: 62 209\n",
      "Season: 3 Episode: 7 Episode Number: 63 185 Subtitle Number: 67 228\n",
      "Season: 3 Episode: 8 Episode Number: 56 149 Subtitle Number: 62 182\n",
      "Season: 3 Episode: 9 Episode Number: 68 155 Subtitle Number: 81 206\n",
      "Season: 3 Episode: 10 Episode Number: 87 191 Subtitle Number: 96 254\n",
      "Season: 3 Episode: 11 Episode Number: 76 160 Subtitle Number: 88 208\n",
      "Season: 3 Episode: 12 Episode Number: 68 158 Subtitle Number: 74 201\n",
      "Season: 3 Episode: 13 Episode Number: 50 133 Subtitle Number: 60 185\n",
      "Season: 3 Episode: 14 Episode Number: 42 141 Subtitle Number: 47 172\n",
      "Season: 3 Episode: 15 Episode Number: 68 159 Subtitle Number: 82 210\n",
      "Season: 3 Episode: 16 Episode Number: 79 161 Subtitle Number: 89 212\n",
      "Season: 3 Episode: 17 Episode Number: 59 145 Subtitle Number: 65 193\n",
      "Season: 3 Episode: 18 Episode Number: 58 136 Subtitle Number: 71 197\n",
      "Season: 3 Episode: 19 Episode Number: 67 173 Subtitle Number: 71 215\n",
      "Season: 3 Episode: 20 Episode Number: 82 196 Subtitle Number: 87 230\n",
      "Season: 3 Episode: 21 Episode Number: 60 185 Subtitle Number: 68 253\n",
      "Season: 3 Episode: 22 Episode Number: 63 180 Subtitle Number: 67 214\n",
      "Season: 3 Episode: 23 Episode Number: 60 181 Subtitle Number: 66 231\n",
      "Season: 4 Episode: 1 Episode Number: 83 192 Subtitle Number: 88 258\n",
      "Season: 4 Episode: 2 Episode Number: 67 175 Subtitle Number: 71 214\n",
      "Season: 4 Episode: 3 Episode Number: 96 195 Subtitle Number: 103 247\n",
      "Season: 4 Episode: 4 Episode Number: 78 178 Subtitle Number: 83 223\n",
      "Season: 4 Episode: 5 Episode Number: 78 175 Subtitle Number: 87 227\n",
      "Season: 4 Episode: 6 Episode Number: 83 182 Subtitle Number: 90 236\n",
      "Season: 4 Episode: 7 Episode Number: 79 167 Subtitle Number: 89 227\n",
      "Season: 4 Episode: 8 Episode Number: 63 154 Subtitle Number: 69 196\n",
      "Season: 4 Episode: 9 Episode Number: 96 192 Subtitle Number: 106 251\n",
      "Season: 4 Episode: 10 Episode Number: 76 164 Subtitle Number: 88 219\n",
      "Season: 4 Episode: 11 Episode Number: 60 173 Subtitle Number: 62 222\n",
      "Season: 4 Episode: 12 Episode Number: 65 176 Subtitle Number: 75 229\n",
      "Season: 4 Episode: 13 Episode Number: 85 184 Subtitle Number: 90 221\n",
      "Season: 4 Episode: 14 Episode Number: 74 156 Subtitle Number: 85 211\n",
      "Season: 4 Episode: 15 Episode Number: 71 169 Subtitle Number: 77 216\n",
      "Season: 4 Episode: 17 Episode Number: 86 185 Subtitle Number: 98 255\n",
      "Season: 4 Episode: 18 Episode Number: 77 172 Subtitle Number: 85 238\n",
      "Season: 4 Episode: 19 Episode Number: 91 191 Subtitle Number: 102 254\n",
      "Season: 4 Episode: 20 Episode Number: 81 193 Subtitle Number: 86 252\n",
      "Season: 4 Episode: 21 Episode Number: 68 164 Subtitle Number: 77 210\n",
      "Season: 4 Episode: 22 Episode Number: 77 202 Subtitle Number: 87 255\n",
      "Season: 4 Episode: 23 Episode Number: 75 192 Subtitle Number: 81 239\n",
      "Season: 4 Episode: 24 Episode Number: 72 179 Subtitle Number: 79 236\n",
      "Season: 5 Episode: 1 Episode Number: 54 143 Subtitle Number: 67 214\n",
      "Season: 5 Episode: 2 Episode Number: 55 147 Subtitle Number: 59 179\n",
      "Season: 5 Episode: 3 Episode Number: 50 160 Subtitle Number: 54 223\n",
      "Season: 5 Episode: 4 Episode Number: 76 163 Subtitle Number: 83 239\n",
      "Season: 5 Episode: 5 Episode Number: 69 174 Subtitle Number: 78 249\n",
      "Season: 5 Episode: 6 Episode Number: 84 165 Subtitle Number: 96 247\n",
      "Season: 5 Episode: 7 Episode Number: 54 155 Subtitle Number: 57 222\n",
      "Season: 5 Episode: 8 Episode Number: 71 162 Subtitle Number: 76 223\n",
      "Season: 5 Episode: 9 Episode Number: 58 142 Subtitle Number: 67 201\n",
      "Season: 5 Episode: 10 Episode Number: 64 145 Subtitle Number: 72 221\n",
      "Season: 5 Episode: 11 Episode Number: 81 195 Subtitle Number: 89 275\n",
      "Season: 5 Episode: 12 Episode Number: 79 164 Subtitle Number: 84 229\n",
      "Season: 5 Episode: 13 Episode Number: 71 175 Subtitle Number: 78 213\n",
      "Season: 5 Episode: 14 Episode Number: 54 142 Subtitle Number: 65 222\n",
      "Season: 5 Episode: 15 Episode Number: 75 148 Subtitle Number: 86 210\n",
      "Season: 5 Episode: 16 Episode Number: 81 161 Subtitle Number: 104 245\n",
      "Season: 5 Episode: 17 Episode Number: 49 151 Subtitle Number: 59 228\n",
      "Season: 5 Episode: 18 Episode Number: 56 143 Subtitle Number: 64 215\n",
      "Season: 5 Episode: 19 Episode Number: 79 157 Subtitle Number: 96 214\n",
      "Season: 5 Episode: 20 Episode Number: 54 171 Subtitle Number: 59 234\n",
      "Season: 5 Episode: 21 Episode Number: 74 161 Subtitle Number: 82 218\n",
      "Season: 5 Episode: 22 Episode Number: 74 156 Subtitle Number: 88 237\n",
      "Season: 5 Episode: 23 Episode Number: 59 155 Subtitle Number: 67 208\n",
      "Season: 6 Episode: 1 Episode Number: 63 175 Subtitle Number: 65 223\n",
      "Season: 6 Episode: 2 Episode Number: 70 180 Subtitle Number: 76 236\n",
      "Season: 6 Episode: 3 Episode Number: 50 140 Subtitle Number: 58 196\n",
      "Season: 6 Episode: 4 Episode Number: 52 162 Subtitle Number: 54 206\n",
      "Season: 6 Episode: 5 Episode Number: 67 166 Subtitle Number: 71 212\n",
      "Season: 6 Episode: 6 Episode Number: 65 159 Subtitle Number: 72 229\n",
      "Season: 6 Episode: 7 Episode Number: 58 161 Subtitle Number: 69 238\n",
      "Season: 6 Episode: 8 Episode Number: 67 176 Subtitle Number: 71 224\n",
      "Season: 6 Episode: 9 Episode Number: 52 155 Subtitle Number: 62 218\n",
      "Season: 6 Episode: 10 Episode Number: 58 146 Subtitle Number: 67 202\n",
      "Season: 6 Episode: 11 Episode Number: 79 173 Subtitle Number: 96 236\n",
      "Season: 6 Episode: 12 Episode Number: 62 154 Subtitle Number: 76 206\n",
      "Season: 6 Episode: 13 Episode Number: 61 178 Subtitle Number: 64 237\n",
      "Season: 6 Episode: 14 Episode Number: 64 163 Subtitle Number: 74 237\n",
      "Season: 6 Episode: 15 Episode Number: 74 172 Subtitle Number: 81 235\n",
      "Season: 6 Episode: 16 Episode Number: 75 144 Subtitle Number: 86 193\n",
      "Season: 6 Episode: 17 Episode Number: 54 129 Subtitle Number: 66 203\n",
      "Season: 6 Episode: 18 Episode Number: 61 122 Subtitle Number: 78 171\n",
      "Season: 6 Episode: 19 Episode Number: 65 173 Subtitle Number: 71 234\n",
      "Season: 6 Episode: 20 Episode Number: 60 144 Subtitle Number: 67 184\n",
      "Season: 6 Episode: 21 Episode Number: 73 156 Subtitle Number: 85 216\n",
      "Season: 6 Episode: 22 Episode Number: 53 151 Subtitle Number: 59 203\n",
      "Season: 6 Episode: 23 Episode Number: 67 156 Subtitle Number: 74 213\n",
      "Season: 6 Episode: 24 Episode Number: 68 168 Subtitle Number: 84 230\n",
      "Season: 7 Episode: 1 Episode Number: 82 170 Subtitle Number: 92 219\n",
      "Season: 7 Episode: 2 Episode Number: 83 188 Subtitle Number: 89 249\n",
      "Season: 7 Episode: 3 Episode Number: 66 195 Subtitle Number: 76 261\n",
      "Season: 7 Episode: 4 Episode Number: 83 157 Subtitle Number: 99 235\n",
      "Season: 7 Episode: 5 Episode Number: 79 147 Subtitle Number: 91 208\n",
      "Season: 7 Episode: 6 Episode Number: 65 153 Subtitle Number: 72 230\n",
      "Season: 7 Episode: 7 Episode Number: 65 176 Subtitle Number: 67 226\n",
      "Season: 7 Episode: 8 Episode Number: 79 161 Subtitle Number: 90 229\n",
      "Season: 7 Episode: 9 Episode Number: 83 187 Subtitle Number: 90 247\n",
      "Season: 7 Episode: 10 Episode Number: 74 179 Subtitle Number: 84 267\n",
      "Season: 7 Episode: 11 Episode Number: 73 183 Subtitle Number: 75 241\n",
      "Season: 7 Episode: 13 Episode Number: 71 196 Subtitle Number: 81 264\n",
      "Season: 7 Episode: 14 Episode Number: 89 165 Subtitle Number: 98 215\n",
      "Season: 7 Episode: 15 Episode Number: 63 147 Subtitle Number: 69 205\n",
      "Season: 7 Episode: 16 Episode Number: 92 206 Subtitle Number: 96 270\n",
      "Season: 7 Episode: 17 Episode Number: 87 175 Subtitle Number: 98 235\n",
      "Season: 7 Episode: 18 Episode Number: 95 180 Subtitle Number: 106 232\n",
      "Season: 7 Episode: 19 Episode Number: 76 167 Subtitle Number: 89 227\n",
      "Season: 7 Episode: 20 Episode Number: 75 187 Subtitle Number: 84 233\n",
      "Season: 7 Episode: 21 Episode Number: 83 162 Subtitle Number: 87 213\n",
      "Season: 7 Episode: 22 Episode Number: 72 154 Subtitle Number: 75 198\n",
      "Season: 7 Episode: 23 Episode Number: 82 187 Subtitle Number: 89 227\n",
      "Season: 7 Episode: 24 Episode Number: 83 195 Subtitle Number: 92 256\n",
      "Season: 8 Episode: 1 Episode Number: 64 174 Subtitle Number: 78 270\n",
      "Season: 8 Episode: 2 Episode Number: 85 170 Subtitle Number: 91 231\n",
      "Season: 8 Episode: 3 Episode Number: 78 173 Subtitle Number: 84 223\n",
      "Season: 8 Episode: 4 Episode Number: 86 191 Subtitle Number: 95 242\n",
      "Season: 8 Episode: 5 Episode Number: 79 183 Subtitle Number: 88 250\n",
      "Season: 8 Episode: 6 Episode Number: 104 196 Subtitle Number: 111 245\n",
      "Season: 8 Episode: 8 Episode Number: 79 175 Subtitle Number: 86 243\n",
      "Season: 8 Episode: 9 Episode Number: 89 189 Subtitle Number: 100 224\n",
      "Season: 8 Episode: 10 Episode Number: 89 179 Subtitle Number: 98 242\n",
      "Season: 8 Episode: 11 Episode Number: 79 190 Subtitle Number: 91 260\n",
      "Season: 8 Episode: 12 Episode Number: 82 174 Subtitle Number: 87 237\n",
      "Season: 8 Episode: 13 Episode Number: 72 165 Subtitle Number: 84 234\n",
      "Season: 8 Episode: 15 Episode Number: 75 176 Subtitle Number: 81 238\n",
      "Season: 8 Episode: 16 Episode Number: 68 178 Subtitle Number: 74 246\n",
      "Season: 8 Episode: 17 Episode Number: 81 178 Subtitle Number: 92 260\n",
      "Season: 8 Episode: 18 Episode Number: 87 195 Subtitle Number: 96 277\n",
      "Season: 8 Episode: 19 Episode Number: 81 180 Subtitle Number: 89 254\n",
      "Season: 8 Episode: 20 Episode Number: 85 198 Subtitle Number: 91 274\n",
      "Season: 8 Episode: 21 Episode Number: 89 174 Subtitle Number: 95 243\n",
      "Season: 8 Episode: 22 Episode Number: 68 147 Subtitle Number: 82 213\n",
      "Season: 8 Episode: 23 Episode Number: 77 157 Subtitle Number: 83 216\n",
      "Season: 8 Episode: 24 Episode Number: 64 196 Subtitle Number: 67 246\n",
      "Season: 9 Episode: 1 Episode Number: 59 199 Subtitle Number: 63 279\n",
      "Season: 9 Episode: 2 Episode Number: 80 175 Subtitle Number: 88 237\n",
      "Season: 9 Episode: 3 Episode Number: 77 191 Subtitle Number: 81 259\n",
      "Season: 9 Episode: 4 Episode Number: 55 142 Subtitle Number: 64 205\n",
      "Season: 9 Episode: 5 Episode Number: 67 169 Subtitle Number: 73 246\n",
      "Season: 9 Episode: 6 Episode Number: 86 212 Subtitle Number: 90 300\n",
      "Season: 9 Episode: 7 Episode Number: 75 165 Subtitle Number: 83 230\n",
      "Season: 9 Episode: 9 Episode Number: 77 195 Subtitle Number: 85 277\n",
      "Season: 9 Episode: 10 Episode Number: 64 165 Subtitle Number: 74 254\n",
      "Season: 9 Episode: 11 Episode Number: 59 158 Subtitle Number: 61 213\n",
      "Season: 9 Episode: 12 Episode Number: 85 197 Subtitle Number: 93 260\n",
      "Season: 9 Episode: 13 Episode Number: 74 180 Subtitle Number: 78 246\n",
      "Season: 9 Episode: 14 Episode Number: 72 196 Subtitle Number: 75 263\n",
      "Season: 9 Episode: 15 Episode Number: 67 181 Subtitle Number: 75 262\n",
      "Season: 9 Episode: 16 Episode Number: 69 175 Subtitle Number: 70 243\n",
      "Season: 9 Episode: 24 Episode Number: 86 200 Subtitle Number: 88 263\n"
     ]
    }
   ],
   "source": [
    "further_alignment = {}\n",
    "for (i, j) in alignment_seeds.keys():\n",
    "    temp = get_alignment_extend_neighbors(tbbt_transcripts, en_subtitle, zh_subtitle, results, i, j, 200)\n",
    "    further_alignment[(i,j)] = temp\n",
    "    print(\"Season:\", i,\"Episode:\", j, \"Episode Number:\",len(turn_sub2epi_into_epi2sub(alignment_seeds[(i,j)])), len(temp), \"Subtitle Number:\", len(alignment_seeds[(i,j)]),len(turn_sub2epi_into_epi2sub(temp)))"
   ],
   "metadata": {
    "collapsed": false,
    "pycharm": {
     "name": "#%%\n"
    }
   }
  },
  {
   "cell_type": "code",
   "execution_count": 56,
   "outputs": [],
   "source": [
    "with open('alignment_results/zh/final_stage_alignment.pkl', 'wb') as f:\n",
    "    pkl.dump(further_alignment, f)"
   ],
   "metadata": {
    "collapsed": false,
    "pycharm": {
     "name": "#%%\n"
    }
   }
  },
  {
   "cell_type": "code",
   "execution_count": 284,
   "outputs": [],
   "source": [
    "with open('alignment_results/zh/final_stage_alignment.pkl', 'rb') as f:\n",
    "    final_stage_alignment = pkl.load(f)"
   ],
   "metadata": {
    "collapsed": false,
    "pycharm": {
     "name": "#%%\n"
    }
   }
  },
  {
   "cell_type": "code",
   "execution_count": 319,
   "outputs": [],
   "source": [
    "alignment_seeds = final_stage_alignment"
   ],
   "metadata": {
    "collapsed": false,
    "pycharm": {
     "name": "#%%\n"
    }
   }
  },
  {
   "cell_type": "code",
   "execution_count": 327,
   "outputs": [],
   "source": [
    "with open('alignment_results/zh/cleaned_final_stage_alignment.pkl', 'wb') as f:\n",
    "    pkl.dump(further_alignment, f)"
   ],
   "metadata": {
    "collapsed": false,
    "pycharm": {
     "name": "#%%\n"
    }
   }
  },
  {
   "cell_type": "code",
   "execution_count": 394,
   "outputs": [],
   "source": [
    "with open('alignment_results/zh/cleaned_final_stage_alignment.pkl', 'rb') as f:\n",
    "    final_stage_alignment = pkl.load(f)"
   ],
   "metadata": {
    "collapsed": false,
    "pycharm": {
     "name": "#%%\n"
    }
   }
  },
  {
   "cell_type": "code",
   "execution_count": 395,
   "outputs": [],
   "source": [
    "alignment_seeds = final_stage_alignment"
   ],
   "metadata": {
    "collapsed": false,
    "pycharm": {
     "name": "#%%\n"
    }
   }
  },
  {
   "cell_type": "code",
   "execution_count": 397,
   "outputs": [],
   "source": [
    "def get_alignment_extend_neighbors(tbbt, en_subtitle, other_subtitle, results, season_id, episode_id, bias):\n",
    "    # Fetch subset located by the stage-1 alignment\n",
    "    (en_subset, zh_subset, tbbt_episode) = fetch_subsets(\n",
    "        episode=tbbt,\n",
    "        en_subtitle=en_subtitle,\n",
    "        zh_subtitle=other_subtitle,\n",
    "        results=results,\n",
    "        season_id=season_id,\n",
    "        episode_id=episode_id,\n",
    "        bias=bias\n",
    "    )\n",
    "\n",
    "    epi2sub = alignment_seeds[(season_id,episode_id)]\n",
    "    # Extend the neighbors\n",
    "    while True:\n",
    "        temp = extend_neighbors(en_subset, epi2sub, tbbt_episode)\n",
    "        if len(temp)==len(epi2sub) and len(turn_sub2epi_into_epi2sub(temp))==len(turn_sub2epi_into_epi2sub(epi2sub)):\n",
    "            break\n",
    "        else:\n",
    "            epi2sub = temp\n",
    "\n",
    "    # Extend within gap using strict string match\n",
    "    gaps, abandons = get_subset_in_gaps(epi2sub)\n",
    "    epi2sub = add_strict_match_within_gaps(gaps, epi2sub)\n",
    "\n",
    "    # Extend within gap using wer\n",
    "    gaps, abandons = get_subset_in_gaps(epi2sub)\n",
    "    epi2sub = add_wer_match_within_gaps(gaps, epi2sub, en_subset, tbbt_episode)\n",
    "\n",
    "    # Extend within gap using substring cer\n",
    "    gaps, abandons = get_subset_in_gaps(epi2sub)\n",
    "    epi2sub = add_wer_substring_match_within_gaps(gaps, epi2sub, en_subset, tbbt_episode)\n",
    "\n",
    "    # # Add within the gap\n",
    "    # gaps, abandons = get_subset_in_gaps(epi2sub)\n",
    "    # epi2sub = add_one_size_gap(gaps, epi2sub)\n",
    "\n",
    "    # # Further extend neighbors\n",
    "    # epi2sub = extend_neighbors_sliding(en_subset, epi2sub, tbbt_episode)\n",
    "    # epi2sub = extend_neighbors_sliding(en_subset, epi2sub, tbbt_episode)\n",
    "    # epi2sub = extend_neighbors_sliding(en_subset, epi2sub, tbbt_episode)\n",
    "    # epi2sub = extend_neighbors_sliding(en_subset, epi2sub, tbbt_episode)\n",
    "\n",
    "    return epi2sub\n"
   ],
   "metadata": {
    "collapsed": false,
    "pycharm": {
     "name": "#%%\n"
    }
   }
  },
  {
   "cell_type": "code",
   "execution_count": 398,
   "outputs": [
    {
     "name": "stdout",
     "output_type": "stream",
     "text": [
      "Season: 1 Episode: 1 Episode Number: 262 226 Subtitle Number: 226 270\n",
      "Season: 1 Episode: 2 Episode Number: 205 161 Subtitle Number: 161 217\n",
      "Season: 1 Episode: 3 Episode Number: 190 163 Subtitle Number: 163 197\n",
      "Season: 1 Episode: 4 Episode Number: 176 143 Subtitle Number: 143 185\n",
      "Season: 1 Episode: 5 Episode Number: 181 144 Subtitle Number: 144 191\n",
      "Season: 1 Episode: 6 Episode Number: 187 165 Subtitle Number: 165 191\n",
      "Season: 1 Episode: 7 Episode Number: 184 166 Subtitle Number: 164 190\n",
      "Season: 1 Episode: 8 Episode Number: 251 195 Subtitle Number: 195 259\n",
      "Season: 1 Episode: 9 Episode Number: 178 146 Subtitle Number: 146 186\n",
      "Season: 1 Episode: 10 Episode Number: 177 144 Subtitle Number: 144 184\n",
      "Season: 1 Episode: 11 Episode Number: 193 165 Subtitle Number: 164 205\n",
      "Season: 1 Episode: 12 Episode Number: 120 95 Subtitle Number: 95 124\n",
      "Season: 1 Episode: 13 Episode Number: 181 145 Subtitle Number: 145 191\n",
      "Season: 1 Episode: 14 Episode Number: 191 151 Subtitle Number: 151 196\n",
      "Season: 1 Episode: 15 Episode Number: 194 157 Subtitle Number: 157 205\n",
      "Season: 1 Episode: 16 Episode Number: 168 144 Subtitle Number: 144 176\n",
      "Season: 2 Episode: 1 Episode Number: 207 161 Subtitle Number: 161 213\n",
      "Season: 2 Episode: 2 Episode Number: 190 168 Subtitle Number: 165 201\n",
      "Season: 2 Episode: 3 Episode Number: 178 152 Subtitle Number: 152 186\n",
      "Season: 2 Episode: 4 Episode Number: 194 162 Subtitle Number: 162 201\n",
      "Season: 2 Episode: 5 Episode Number: 179 139 Subtitle Number: 137 186\n",
      "Season: 2 Episode: 6 Episode Number: 202 171 Subtitle Number: 171 210\n",
      "Season: 2 Episode: 7 Episode Number: 219 175 Subtitle Number: 173 224\n",
      "Season: 2 Episode: 8 Episode Number: 162 138 Subtitle Number: 135 175\n",
      "Season: 2 Episode: 9 Episode Number: 195 151 Subtitle Number: 150 202\n",
      "Season: 2 Episode: 10 Episode Number: 186 144 Subtitle Number: 144 196\n",
      "Season: 2 Episode: 11 Episode Number: 210 163 Subtitle Number: 162 222\n",
      "Season: 2 Episode: 12 Episode Number: 196 149 Subtitle Number: 148 204\n",
      "Season: 2 Episode: 13 Episode Number: 218 156 Subtitle Number: 156 224\n",
      "Season: 2 Episode: 14 Episode Number: 238 190 Subtitle Number: 190 244\n",
      "Season: 2 Episode: 15 Episode Number: 217 182 Subtitle Number: 182 221\n",
      "Season: 2 Episode: 16 Episode Number: 236 184 Subtitle Number: 183 243\n",
      "Season: 2 Episode: 17 Episode Number: 223 170 Subtitle Number: 169 228\n",
      "Season: 2 Episode: 18 Episode Number: 158 143 Subtitle Number: 142 163\n",
      "Season: 2 Episode: 19 Episode Number: 207 166 Subtitle Number: 166 216\n",
      "Season: 2 Episode: 20 Episode Number: 202 164 Subtitle Number: 164 206\n",
      "Season: 2 Episode: 21 Episode Number: 204 166 Subtitle Number: 166 208\n",
      "Season: 2 Episode: 22 Episode Number: 188 148 Subtitle Number: 148 190\n",
      "Season: 2 Episode: 23 Episode Number: 226 169 Subtitle Number: 168 229\n",
      "Season: 3 Episode: 1 Episode Number: 200 156 Subtitle Number: 156 206\n",
      "Season: 3 Episode: 2 Episode Number: 213 159 Subtitle Number: 158 226\n",
      "Season: 3 Episode: 3 Episode Number: 191 157 Subtitle Number: 157 199\n",
      "Season: 3 Episode: 4 Episode Number: 220 176 Subtitle Number: 175 227\n",
      "Season: 3 Episode: 5 Episode Number: 223 175 Subtitle Number: 175 230\n",
      "Season: 3 Episode: 6 Episode Number: 212 157 Subtitle Number: 156 224\n",
      "Season: 3 Episode: 7 Episode Number: 231 185 Subtitle Number: 185 244\n",
      "Season: 3 Episode: 8 Episode Number: 180 149 Subtitle Number: 145 185\n",
      "Season: 3 Episode: 9 Episode Number: 211 155 Subtitle Number: 155 216\n",
      "Season: 3 Episode: 10 Episode Number: 256 191 Subtitle Number: 191 265\n",
      "Season: 3 Episode: 11 Episode Number: 209 165 Subtitle Number: 160 219\n",
      "Season: 3 Episode: 12 Episode Number: 202 159 Subtitle Number: 157 209\n",
      "Season: 3 Episode: 13 Episode Number: 192 133 Subtitle Number: 133 204\n",
      "Season: 3 Episode: 14 Episode Number: 178 141 Subtitle Number: 141 183\n",
      "Season: 3 Episode: 15 Episode Number: 216 159 Subtitle Number: 159 233\n",
      "Season: 3 Episode: 16 Episode Number: 216 163 Subtitle Number: 161 224\n",
      "Season: 3 Episode: 17 Episode Number: 199 145 Subtitle Number: 142 216\n",
      "Season: 3 Episode: 18 Episode Number: 204 136 Subtitle Number: 136 213\n",
      "Season: 3 Episode: 19 Episode Number: 217 174 Subtitle Number: 173 225\n",
      "Season: 3 Episode: 20 Episode Number: 232 198 Subtitle Number: 194 247\n",
      "Season: 3 Episode: 21 Episode Number: 259 185 Subtitle Number: 185 270\n",
      "Season: 3 Episode: 22 Episode Number: 216 180 Subtitle Number: 180 223\n",
      "Season: 3 Episode: 23 Episode Number: 231 182 Subtitle Number: 181 244\n",
      "Season: 4 Episode: 1 Episode Number: 263 192 Subtitle Number: 192 275\n",
      "Season: 4 Episode: 2 Episode Number: 216 176 Subtitle Number: 175 221\n",
      "Season: 4 Episode: 3 Episode Number: 251 195 Subtitle Number: 195 258\n",
      "Season: 4 Episode: 4 Episode Number: 224 178 Subtitle Number: 178 234\n",
      "Season: 4 Episode: 5 Episode Number: 228 176 Subtitle Number: 175 239\n",
      "Season: 4 Episode: 6 Episode Number: 243 182 Subtitle Number: 182 250\n",
      "Season: 4 Episode: 7 Episode Number: 230 168 Subtitle Number: 167 233\n",
      "Season: 4 Episode: 8 Episode Number: 200 157 Subtitle Number: 153 213\n",
      "Season: 4 Episode: 9 Episode Number: 256 193 Subtitle Number: 192 273\n",
      "Season: 4 Episode: 10 Episode Number: 221 166 Subtitle Number: 163 235\n",
      "Season: 4 Episode: 11 Episode Number: 222 174 Subtitle Number: 173 234\n",
      "Season: 4 Episode: 12 Episode Number: 237 178 Subtitle Number: 176 250\n",
      "Season: 4 Episode: 13 Episode Number: 221 186 Subtitle Number: 183 235\n",
      "Season: 4 Episode: 14 Episode Number: 216 162 Subtitle Number: 155 233\n",
      "Season: 4 Episode: 15 Episode Number: 219 170 Subtitle Number: 169 224\n",
      "Season: 4 Episode: 17 Episode Number: 259 187 Subtitle Number: 185 271\n",
      "Season: 4 Episode: 18 Episode Number: 237 172 Subtitle Number: 171 244\n",
      "Season: 4 Episode: 19 Episode Number: 255 193 Subtitle Number: 191 264\n",
      "Season: 4 Episode: 20 Episode Number: 255 194 Subtitle Number: 193 264\n",
      "Season: 4 Episode: 21 Episode Number: 212 164 Subtitle Number: 164 220\n",
      "Season: 4 Episode: 22 Episode Number: 261 203 Subtitle Number: 202 270\n",
      "Season: 4 Episode: 23 Episode Number: 242 193 Subtitle Number: 192 253\n",
      "Season: 4 Episode: 24 Episode Number: 238 181 Subtitle Number: 179 248\n",
      "Season: 5 Episode: 1 Episode Number: 235 144 Subtitle Number: 143 257\n",
      "Season: 5 Episode: 2 Episode Number: 179 147 Subtitle Number: 147 185\n",
      "Season: 5 Episode: 3 Episode Number: 225 160 Subtitle Number: 160 237\n",
      "Season: 5 Episode: 4 Episode Number: 246 164 Subtitle Number: 163 258\n",
      "Season: 5 Episode: 5 Episode Number: 251 174 Subtitle Number: 174 268\n",
      "Season: 5 Episode: 6 Episode Number: 253 165 Subtitle Number: 165 266\n",
      "Season: 5 Episode: 7 Episode Number: 223 156 Subtitle Number: 154 247\n",
      "Season: 5 Episode: 8 Episode Number: 225 162 Subtitle Number: 162 246\n",
      "Season: 5 Episode: 9 Episode Number: 217 142 Subtitle Number: 142 226\n",
      "Season: 5 Episode: 10 Episode Number: 224 148 Subtitle Number: 145 237\n",
      "Season: 5 Episode: 11 Episode Number: 277 195 Subtitle Number: 195 289\n",
      "Season: 5 Episode: 12 Episode Number: 229 166 Subtitle Number: 164 239\n",
      "Season: 5 Episode: 13 Episode Number: 219 178 Subtitle Number: 174 234\n",
      "Season: 5 Episode: 14 Episode Number: 229 143 Subtitle Number: 140 246\n",
      "Season: 5 Episode: 15 Episode Number: 220 148 Subtitle Number: 148 226\n",
      "Season: 5 Episode: 16 Episode Number: 247 161 Subtitle Number: 161 256\n",
      "Season: 5 Episode: 17 Episode Number: 232 151 Subtitle Number: 150 255\n",
      "Season: 5 Episode: 18 Episode Number: 218 143 Subtitle Number: 143 230\n",
      "Season: 5 Episode: 19 Episode Number: 219 156 Subtitle Number: 153 226\n",
      "Season: 5 Episode: 20 Episode Number: 245 172 Subtitle Number: 171 262\n",
      "Season: 5 Episode: 21 Episode Number: 218 164 Subtitle Number: 161 230\n",
      "Season: 5 Episode: 22 Episode Number: 257 158 Subtitle Number: 156 270\n",
      "Season: 5 Episode: 23 Episode Number: 213 155 Subtitle Number: 155 226\n",
      "Season: 6 Episode: 1 Episode Number: 224 175 Subtitle Number: 174 228\n",
      "Season: 6 Episode: 2 Episode Number: 240 180 Subtitle Number: 180 250\n",
      "Season: 6 Episode: 3 Episode Number: 199 143 Subtitle Number: 140 207\n",
      "Season: 6 Episode: 4 Episode Number: 208 164 Subtitle Number: 162 224\n",
      "Season: 6 Episode: 5 Episode Number: 214 166 Subtitle Number: 166 229\n",
      "Season: 6 Episode: 6 Episode Number: 231 160 Subtitle Number: 157 243\n",
      "Season: 6 Episode: 7 Episode Number: 253 161 Subtitle Number: 161 260\n",
      "Season: 6 Episode: 8 Episode Number: 229 177 Subtitle Number: 174 237\n",
      "Season: 6 Episode: 9 Episode Number: 219 155 Subtitle Number: 154 228\n",
      "Season: 6 Episode: 10 Episode Number: 202 146 Subtitle Number: 146 210\n",
      "Season: 6 Episode: 11 Episode Number: 243 175 Subtitle Number: 172 251\n",
      "Season: 6 Episode: 12 Episode Number: 210 156 Subtitle Number: 154 221\n",
      "Season: 6 Episode: 13 Episode Number: 238 176 Subtitle Number: 176 244\n",
      "Season: 6 Episode: 14 Episode Number: 244 164 Subtitle Number: 163 249\n",
      "Season: 6 Episode: 15 Episode Number: 245 173 Subtitle Number: 172 250\n",
      "Season: 6 Episode: 16 Episode Number: 202 148 Subtitle Number: 144 212\n",
      "Season: 6 Episode: 17 Episode Number: 208 129 Subtitle Number: 129 213\n",
      "Season: 6 Episode: 18 Episode Number: 182 122 Subtitle Number: 120 185\n",
      "Season: 6 Episode: 19 Episode Number: 234 173 Subtitle Number: 173 243\n",
      "Season: 6 Episode: 20 Episode Number: 188 144 Subtitle Number: 144 189\n",
      "Season: 6 Episode: 21 Episode Number: 221 158 Subtitle Number: 154 230\n",
      "Season: 6 Episode: 22 Episode Number: 209 151 Subtitle Number: 149 223\n",
      "Season: 6 Episode: 23 Episode Number: 217 157 Subtitle Number: 156 230\n",
      "Season: 6 Episode: 24 Episode Number: 234 168 Subtitle Number: 168 239\n",
      "Season: 7 Episode: 1 Episode Number: 222 170 Subtitle Number: 170 227\n",
      "Season: 7 Episode: 2 Episode Number: 258 188 Subtitle Number: 188 266\n",
      "Season: 7 Episode: 3 Episode Number: 262 193 Subtitle Number: 187 279\n",
      "Season: 7 Episode: 4 Episode Number: 247 157 Subtitle Number: 157 255\n",
      "Season: 7 Episode: 5 Episode Number: 213 147 Subtitle Number: 147 221\n",
      "Season: 7 Episode: 6 Episode Number: 235 155 Subtitle Number: 152 247\n",
      "Season: 7 Episode: 7 Episode Number: 228 176 Subtitle Number: 176 236\n",
      "Season: 7 Episode: 8 Episode Number: 233 162 Subtitle Number: 161 238\n",
      "Season: 7 Episode: 9 Episode Number: 252 188 Subtitle Number: 187 256\n",
      "Season: 7 Episode: 10 Episode Number: 269 179 Subtitle Number: 179 279\n",
      "Season: 7 Episode: 11 Episode Number: 245 183 Subtitle Number: 183 259\n",
      "Season: 7 Episode: 13 Episode Number: 265 196 Subtitle Number: 196 278\n",
      "Season: 7 Episode: 14 Episode Number: 220 165 Subtitle Number: 165 227\n",
      "Season: 7 Episode: 15 Episode Number: 213 150 Subtitle Number: 147 230\n",
      "Season: 7 Episode: 16 Episode Number: 271 206 Subtitle Number: 206 282\n",
      "Season: 7 Episode: 17 Episode Number: 239 175 Subtitle Number: 175 248\n",
      "Season: 7 Episode: 18 Episode Number: 238 181 Subtitle Number: 178 250\n",
      "Season: 7 Episode: 19 Episode Number: 235 169 Subtitle Number: 165 246\n",
      "Season: 7 Episode: 20 Episode Number: 236 188 Subtitle Number: 187 249\n",
      "Season: 7 Episode: 21 Episode Number: 215 162 Subtitle Number: 162 222\n",
      "Season: 7 Episode: 22 Episode Number: 199 155 Subtitle Number: 154 208\n",
      "Season: 7 Episode: 23 Episode Number: 231 191 Subtitle Number: 187 246\n",
      "Season: 7 Episode: 24 Episode Number: 262 197 Subtitle Number: 195 274\n",
      "Season: 8 Episode: 1 Episode Number: 277 175 Subtitle Number: 171 291\n",
      "Season: 8 Episode: 2 Episode Number: 232 170 Subtitle Number: 170 241\n",
      "Season: 8 Episode: 3 Episode Number: 227 173 Subtitle Number: 173 229\n",
      "Season: 8 Episode: 4 Episode Number: 246 191 Subtitle Number: 191 253\n",
      "Season: 8 Episode: 5 Episode Number: 261 183 Subtitle Number: 183 273\n",
      "Season: 8 Episode: 6 Episode Number: 247 197 Subtitle Number: 194 259\n",
      "Season: 8 Episode: 8 Episode Number: 248 175 Subtitle Number: 173 260\n",
      "Season: 8 Episode: 9 Episode Number: 226 191 Subtitle Number: 189 231\n",
      "Season: 8 Episode: 10 Episode Number: 248 180 Subtitle Number: 179 258\n",
      "Season: 8 Episode: 11 Episode Number: 262 190 Subtitle Number: 190 266\n",
      "Season: 8 Episode: 12 Episode Number: 245 174 Subtitle Number: 174 257\n",
      "Season: 8 Episode: 13 Episode Number: 240 165 Subtitle Number: 165 252\n",
      "Season: 8 Episode: 15 Episode Number: 238 180 Subtitle Number: 175 254\n",
      "Season: 8 Episode: 16 Episode Number: 251 178 Subtitle Number: 176 267\n",
      "Season: 8 Episode: 17 Episode Number: 282 178 Subtitle Number: 178 299\n",
      "Season: 8 Episode: 18 Episode Number: 282 195 Subtitle Number: 195 291\n",
      "Season: 8 Episode: 19 Episode Number: 256 181 Subtitle Number: 180 287\n",
      "Season: 8 Episode: 20 Episode Number: 281 198 Subtitle Number: 198 299\n",
      "Season: 8 Episode: 21 Episode Number: 243 174 Subtitle Number: 173 260\n",
      "Season: 8 Episode: 22 Episode Number: 223 151 Subtitle Number: 146 243\n",
      "Season: 8 Episode: 23 Episode Number: 218 157 Subtitle Number: 157 230\n",
      "Season: 8 Episode: 24 Episode Number: 247 196 Subtitle Number: 196 271\n",
      "Season: 9 Episode: 1 Episode Number: 280 199 Subtitle Number: 199 302\n",
      "Season: 9 Episode: 2 Episode Number: 243 175 Subtitle Number: 175 256\n",
      "Season: 9 Episode: 3 Episode Number: 263 191 Subtitle Number: 191 282\n",
      "Season: 9 Episode: 4 Episode Number: 216 144 Subtitle Number: 142 224\n",
      "Season: 9 Episode: 5 Episode Number: 256 169 Subtitle Number: 169 275\n",
      "Season: 9 Episode: 6 Episode Number: 300 212 Subtitle Number: 212 323\n",
      "Season: 9 Episode: 7 Episode Number: 242 165 Subtitle Number: 165 256\n",
      "Season: 9 Episode: 9 Episode Number: 283 195 Subtitle Number: 194 317\n",
      "Season: 9 Episode: 10 Episode Number: 264 165 Subtitle Number: 164 290\n",
      "Season: 9 Episode: 11 Episode Number: 217 158 Subtitle Number: 158 237\n",
      "Season: 9 Episode: 12 Episode Number: 262 197 Subtitle Number: 197 283\n",
      "Season: 9 Episode: 13 Episode Number: 250 181 Subtitle Number: 179 262\n",
      "Season: 9 Episode: 14 Episode Number: 263 196 Subtitle Number: 194 292\n",
      "Season: 9 Episode: 15 Episode Number: 271 181 Subtitle Number: 181 294\n",
      "Season: 9 Episode: 16 Episode Number: 245 175 Subtitle Number: 175 255\n",
      "Season: 9 Episode: 24 Episode Number: 264 200 Subtitle Number: 198 275\n"
     ]
    }
   ],
   "source": [
    "further_alignment = {}\n",
    "for (i, j) in alignment_seeds.keys():\n",
    "    temp = get_alignment_extend_neighbors(tbbt_transcripts, en_subtitle, zh_subtitle, results, i, j, 200)\n",
    "    further_alignment[(i,j)] = temp\n",
    "    print(\"Season:\", i,\"Episode:\", j, \"Episode Number:\",len(turn_sub2epi_into_epi2sub(alignment_seeds[(i,j)])), len(temp), \"Subtitle Number:\", len(alignment_seeds[(i,j)]),len(turn_sub2epi_into_epi2sub(temp)))"
   ],
   "metadata": {
    "collapsed": false,
    "pycharm": {
     "name": "#%%\n"
    }
   }
  },
  {
   "cell_type": "markdown",
   "source": [
    "# Section 4: Alignment between gaps\n",
    "\n",
    "In this section, we will use:\n",
    "4.1. Extend with exact string match\n",
    "4.2: WER based\n",
    "4.3: CER Based substring\n",
    "4.4: Extend neighbor"
   ],
   "metadata": {
    "collapsed": false,
    "pycharm": {
     "name": "#%% md\n"
    }
   }
  },
  {
   "cell_type": "code",
   "execution_count": 399,
   "outputs": [],
   "source": [
    "def get_final_stage_gap_pairs(epi2sub):\n",
    "    # Gather the gap of subtitle corresponding to episode utterance\n",
    "    epi_keys = sorted(list(epi2sub.keys()))\n",
    "    sub_keys = sorted(list(turn_sub2epi_into_epi2sub(epi2sub).keys()))\n",
    "\n",
    "    subtitle_gaps = {}\n",
    "    for i in range(len(epi_keys)-1):\n",
    "        epi_start = epi_keys[i]\n",
    "        epi_end = epi_keys[i+1]\n",
    "        key = (epi_start, epi_end)\n",
    "        if max(epi2sub[epi_start])+1<min(epi2sub[epi_end]):\n",
    "            subtitle_gaps[(epi_start, epi_end)] = [item for item in range(max(epi2sub[epi_start])+1, min(epi2sub[epi_end]))]\n",
    "\n",
    "    # Perform string match and CER Scoring\n",
    "    return subtitle_gaps"
   ],
   "metadata": {
    "collapsed": false,
    "pycharm": {
     "name": "#%%\n"
    }
   }
  },
  {
   "cell_type": "code",
   "execution_count": 400,
   "outputs": [],
   "source": [
    "\"\"\"\n",
    "Explore the neighbor subtitles of a episode.\n",
    "\n",
    "Given a episode utterance (epi_id), then we fetch the unaligned subtitle (sub_id)\n",
    "[epi_id_0, epi_id_1, etc., epi_id_n] - [sub_id_0, sub_id_1, etc. sub_id_m]\n",
    "\n",
    "Then, we search within the subset-pair\n",
    "\n",
    "For each subtitle, we use sliding window to fetch a set of substrings in each episode utterance and calculate the CER\n",
    "\"\"\"\n",
    "def extend_neighbors_episode_sliding(en_subset, epi2sub, tbbt_episode):\n",
    "    count = 0\n",
    "    # Gather the gap of subtitle corresponding to episode utterance\n",
    "    subtitle_gaps = get_final_stage_gap_pairs(epi2sub)\n",
    "\n",
    "    # Iterate the whole subtitle gaps to perform substring match\n",
    "    temp_epi2sub = deepcopy(epi2sub)\n",
    "    for item in subtitle_gaps:\n",
    "        epi_ids = [i for i in range(item[0], item[1]+1)]\n",
    "        sub_ids = [i for i in subtitle_gaps[item]]\n",
    "\n",
    "        # Fetch all episodes and subtitles\n",
    "        epis = [transformation(tbbt_episode[i][0].replace(\"’\", \" \").replace('…', \" \")) for i in epi_ids]\n",
    "        subs = [transformation(en_subset[i].replace(\"’\", \" \").replace('…', \" \")) for i in sub_ids]\n",
    "\n",
    "        # print(epi_ids)\n",
    "        # print(epis)\n",
    "        # print(sub_ids)\n",
    "        # print(subs)\n",
    "        for sub_id, sub in zip(sub_ids, subs):\n",
    "            sub_len = len(sub.strip().split(\" \"))\n",
    "            if sub_len <=3:\n",
    "                continue\n",
    "            min_score = float('inf')\n",
    "            min_substring = \"\"\n",
    "            source_episode = \"\"\n",
    "            source_sub_id = float('inf')\n",
    "            source_epi_id = float('inf')\n",
    "            for epi, epi_id in zip(epis, epi_ids):\n",
    "                # min_score = float('inf')\n",
    "                # min_substring = \"\"\n",
    "                epi_substrings = get_sliding_window_substrings(epi, window_size=sub_len)\n",
    "                for substring in epi_substrings:\n",
    "                    wer = jiwer.wer(sub, substring)\n",
    "                    if wer <= min_score:\n",
    "                        min_score = wer\n",
    "                        min_substring = substring\n",
    "                        source_episode = epi\n",
    "                        source_epi_id = epi_id\n",
    "            if min_score <= 0.5:\n",
    "                if source_epi_id not in temp_epi2sub:\n",
    "                    temp_epi2sub[source_epi_id] = [sub_id]\n",
    "                else:\n",
    "                    temp_epi2sub[source_epi_id].append(sub_id)\n",
    "                # print(sub_id+2, source_epi_id+2)\n",
    "                # print(\"Subtitle:\", sub_id+2, sub, len(sub.strip().split(\" \")))\n",
    "                # print(\"All Episode to compare:\")\n",
    "                # print(min_score, '|', min_substring, '|', source_episode)\n",
    "                # print('=='*50)\n",
    "                # count += 1\n",
    "    # print(temp_epi2sub)\n",
    "    # print(len(temp_epi2sub), len(turn_sub2epi_into_epi2sub(temp_epi2sub)))\n",
    "    # print(count)\n",
    "    output = {}\n",
    "    for epi_id in sorted(list(temp_epi2sub.keys())):\n",
    "        output[epi_id] = sorted(list(set(temp_epi2sub[epi_id])))\n",
    "    return output\n",
    "\n",
    "# epi2sub_0 = epi2sub\n",
    "# print(len(epi2sub_0), len(turn_sub2epi_into_epi2sub(epi2sub_0)))\n",
    "# epi2sub_1 = extend_neighbors_episode_sliding(en_subset, epi2sub_0, tbbt_episode)\n",
    "# print(len(epi2sub_1), len(turn_sub2epi_into_epi2sub(epi2sub_1)))\n",
    "# epi2sub_2 = extend_neighbors_episode_sliding(en_subset, epi2sub_1, tbbt_episode)\n",
    "# print(len(epi2sub_2), len(turn_sub2epi_into_epi2sub(epi2sub_2)))"
   ],
   "metadata": {
    "collapsed": false,
    "pycharm": {
     "name": "#%%\n"
    }
   }
  },
  {
   "cell_type": "code",
   "execution_count": 401,
   "outputs": [],
   "source": [
    "def get_alignment(tbbt, en_subtitle, other_subtitle, results, season_id, episode_id, bias):\n",
    "    # Fetch subset located by the stage-1 alignment\n",
    "    (en_subset, zh_subset, tbbt_episode) = fetch_subsets(\n",
    "        episode=tbbt,\n",
    "        en_subtitle=en_subtitle,\n",
    "        zh_subtitle=other_subtitle,\n",
    "        results=results,\n",
    "        season_id=season_id,\n",
    "        episode_id=episode_id,\n",
    "        bias=bias\n",
    "    )\n",
    "\n",
    "    epi2sub = alignment_seeds[(season_id,episode_id)]\n",
    "    # Extend the neighbors\n",
    "    while True:\n",
    "        temp = extend_neighbors(en_subset, epi2sub, tbbt_episode)\n",
    "        if len(temp)==len(epi2sub) and len(turn_sub2epi_into_epi2sub(temp))==len(turn_sub2epi_into_epi2sub(epi2sub)):\n",
    "            break\n",
    "        else:\n",
    "            epi2sub = temp\n",
    "\n",
    "    # Extend within gap using strict string match\n",
    "    gaps, abandons = get_subset_in_gaps(epi2sub)\n",
    "    epi2sub = add_strict_match_within_gaps(gaps, epi2sub)\n",
    "\n",
    "    # Extend within gap using wer\n",
    "    gaps, abandons = get_subset_in_gaps(epi2sub)\n",
    "    epi2sub = add_wer_match_within_gaps(gaps, epi2sub, en_subset, tbbt_episode)\n",
    "\n",
    "    # Extend within gap using substring cer\n",
    "    gaps, abandons = get_subset_in_gaps(epi2sub)\n",
    "    epi2sub = add_wer_substring_match_within_gaps(gaps, epi2sub, en_subset, tbbt_episode)\n",
    "\n",
    "    # Extend the neighbors\n",
    "    epi2sub = extend_neighbors_episode_sliding(en_subset, epi2sub, tbbt_episode)\n",
    "\n",
    "    return epi2sub"
   ],
   "metadata": {
    "collapsed": false,
    "pycharm": {
     "name": "#%%\n"
    }
   }
  },
  {
   "cell_type": "code",
   "execution_count": 402,
   "outputs": [
    {
     "name": "stdout",
     "output_type": "stream",
     "text": [
      "Season: 1 Episode: 1 Episode Number: 226 235 | Subtitle Number: 262 317\n",
      "Season: 1 Episode: 2 Episode Number: 161 177 | Subtitle Number: 205 264\n",
      "Season: 1 Episode: 3 Episode Number: 163 188 | Subtitle Number: 190 268\n",
      "Season: 1 Episode: 4 Episode Number: 143 156 | Subtitle Number: 176 240\n",
      "Season: 1 Episode: 5 Episode Number: 144 160 | Subtitle Number: 181 236\n",
      "Season: 1 Episode: 6 Episode Number: 165 178 | Subtitle Number: 187 238\n",
      "Season: 1 Episode: 7 Episode Number: 164 187 | Subtitle Number: 184 253\n",
      "Season: 1 Episode: 8 Episode Number: 195 211 | Subtitle Number: 251 310\n",
      "Season: 1 Episode: 9 Episode Number: 146 177 | Subtitle Number: 178 251\n",
      "Season: 1 Episode: 10 Episode Number: 144 171 | Subtitle Number: 177 253\n",
      "Season: 1 Episode: 11 Episode Number: 164 182 | Subtitle Number: 193 243\n",
      "Season: 1 Episode: 12 Episode Number: 95 107 | Subtitle Number: 120 165\n",
      "Season: 1 Episode: 13 Episode Number: 145 160 | Subtitle Number: 181 230\n",
      "Season: 1 Episode: 14 Episode Number: 151 170 | Subtitle Number: 191 250\n",
      "Season: 1 Episode: 15 Episode Number: 157 179 | Subtitle Number: 194 259\n",
      "Season: 1 Episode: 16 Episode Number: 144 171 | Subtitle Number: 168 248\n",
      "Season: 2 Episode: 1 Episode Number: 161 176 | Subtitle Number: 207 265\n",
      "Season: 2 Episode: 2 Episode Number: 165 186 | Subtitle Number: 190 255\n",
      "Season: 2 Episode: 3 Episode Number: 152 172 | Subtitle Number: 178 243\n",
      "Season: 2 Episode: 4 Episode Number: 162 180 | Subtitle Number: 194 249\n",
      "Season: 2 Episode: 5 Episode Number: 137 151 | Subtitle Number: 179 226\n",
      "Season: 2 Episode: 6 Episode Number: 171 177 | Subtitle Number: 202 240\n",
      "Season: 2 Episode: 7 Episode Number: 173 179 | Subtitle Number: 219 252\n",
      "Season: 2 Episode: 8 Episode Number: 135 143 | Subtitle Number: 162 199\n",
      "Season: 2 Episode: 9 Episode Number: 150 158 | Subtitle Number: 195 249\n",
      "Season: 2 Episode: 10 Episode Number: 144 151 | Subtitle Number: 186 225\n",
      "Season: 2 Episode: 11 Episode Number: 162 175 | Subtitle Number: 210 258\n",
      "Season: 2 Episode: 12 Episode Number: 148 158 | Subtitle Number: 196 252\n",
      "Season: 2 Episode: 13 Episode Number: 156 161 | Subtitle Number: 218 270\n",
      "Season: 2 Episode: 14 Episode Number: 190 195 | Subtitle Number: 238 273\n",
      "Season: 2 Episode: 15 Episode Number: 182 185 | Subtitle Number: 217 245\n",
      "Season: 2 Episode: 16 Episode Number: 183 187 | Subtitle Number: 236 257\n",
      "Season: 2 Episode: 17 Episode Number: 169 174 | Subtitle Number: 223 261\n",
      "Season: 2 Episode: 18 Episode Number: 142 147 | Subtitle Number: 158 203\n",
      "Season: 2 Episode: 19 Episode Number: 166 178 | Subtitle Number: 207 259\n",
      "Season: 2 Episode: 20 Episode Number: 164 172 | Subtitle Number: 202 237\n",
      "Season: 2 Episode: 21 Episode Number: 166 179 | Subtitle Number: 204 251\n",
      "Season: 2 Episode: 22 Episode Number: 148 156 | Subtitle Number: 188 222\n",
      "Season: 2 Episode: 23 Episode Number: 168 176 | Subtitle Number: 226 263\n",
      "Season: 3 Episode: 1 Episode Number: 156 164 | Subtitle Number: 200 249\n",
      "Season: 3 Episode: 2 Episode Number: 158 167 | Subtitle Number: 213 270\n",
      "Season: 3 Episode: 3 Episode Number: 157 171 | Subtitle Number: 191 234\n",
      "Season: 3 Episode: 4 Episode Number: 175 187 | Subtitle Number: 220 272\n",
      "Season: 3 Episode: 5 Episode Number: 175 177 | Subtitle Number: 223 250\n",
      "Season: 3 Episode: 6 Episode Number: 156 159 | Subtitle Number: 212 248\n",
      "Season: 3 Episode: 7 Episode Number: 185 195 | Subtitle Number: 231 291\n",
      "Season: 3 Episode: 8 Episode Number: 145 154 | Subtitle Number: 180 212\n",
      "Season: 3 Episode: 9 Episode Number: 155 158 | Subtitle Number: 211 238\n",
      "Season: 3 Episode: 10 Episode Number: 191 194 | Subtitle Number: 256 290\n",
      "Season: 3 Episode: 11 Episode Number: 160 171 | Subtitle Number: 209 242\n",
      "Season: 3 Episode: 12 Episode Number: 157 164 | Subtitle Number: 202 240\n",
      "Season: 3 Episode: 13 Episode Number: 133 141 | Subtitle Number: 192 223\n",
      "Season: 3 Episode: 14 Episode Number: 141 149 | Subtitle Number: 178 211\n",
      "Season: 3 Episode: 15 Episode Number: 159 161 | Subtitle Number: 216 268\n",
      "Season: 3 Episode: 16 Episode Number: 161 174 | Subtitle Number: 216 267\n",
      "Season: 3 Episode: 17 Episode Number: 142 157 | Subtitle Number: 199 262\n",
      "Season: 3 Episode: 18 Episode Number: 136 139 | Subtitle Number: 204 264\n",
      "Season: 3 Episode: 19 Episode Number: 173 184 | Subtitle Number: 217 252\n",
      "Season: 3 Episode: 20 Episode Number: 194 200 | Subtitle Number: 232 263\n",
      "Season: 3 Episode: 21 Episode Number: 185 187 | Subtitle Number: 259 296\n",
      "Season: 3 Episode: 22 Episode Number: 180 185 | Subtitle Number: 216 260\n",
      "Season: 3 Episode: 23 Episode Number: 181 186 | Subtitle Number: 231 271\n",
      "Season: 4 Episode: 1 Episode Number: 192 196 | Subtitle Number: 263 292\n",
      "Season: 4 Episode: 2 Episode Number: 175 179 | Subtitle Number: 216 248\n",
      "Season: 4 Episode: 3 Episode Number: 195 197 | Subtitle Number: 251 281\n",
      "Season: 4 Episode: 4 Episode Number: 178 181 | Subtitle Number: 224 245\n",
      "Season: 4 Episode: 5 Episode Number: 175 177 | Subtitle Number: 228 262\n",
      "Season: 4 Episode: 6 Episode Number: 182 190 | Subtitle Number: 243 281\n",
      "Season: 4 Episode: 7 Episode Number: 167 171 | Subtitle Number: 230 262\n",
      "Season: 4 Episode: 8 Episode Number: 153 163 | Subtitle Number: 200 241\n",
      "Season: 4 Episode: 9 Episode Number: 192 194 | Subtitle Number: 256 304\n",
      "Season: 4 Episode: 10 Episode Number: 163 170 | Subtitle Number: 221 260\n",
      "Season: 4 Episode: 11 Episode Number: 173 176 | Subtitle Number: 222 245\n",
      "Season: 4 Episode: 12 Episode Number: 176 185 | Subtitle Number: 237 273\n",
      "Season: 4 Episode: 13 Episode Number: 183 192 | Subtitle Number: 221 262\n",
      "Season: 4 Episode: 14 Episode Number: 155 165 | Subtitle Number: 216 248\n",
      "Season: 4 Episode: 15 Episode Number: 169 174 | Subtitle Number: 219 250\n",
      "Season: 4 Episode: 17 Episode Number: 185 191 | Subtitle Number: 259 294\n",
      "Season: 4 Episode: 18 Episode Number: 171 173 | Subtitle Number: 237 259\n",
      "Season: 4 Episode: 19 Episode Number: 191 195 | Subtitle Number: 255 280\n",
      "Season: 4 Episode: 20 Episode Number: 193 196 | Subtitle Number: 255 289\n",
      "Season: 4 Episode: 21 Episode Number: 164 165 | Subtitle Number: 212 232\n",
      "Season: 4 Episode: 22 Episode Number: 202 205 | Subtitle Number: 261 290\n",
      "Season: 4 Episode: 23 Episode Number: 192 193 | Subtitle Number: 242 261\n",
      "Season: 4 Episode: 24 Episode Number: 179 181 | Subtitle Number: 238 270\n",
      "Season: 5 Episode: 1 Episode Number: 143 145 | Subtitle Number: 235 276\n",
      "Season: 5 Episode: 2 Episode Number: 147 151 | Subtitle Number: 179 207\n",
      "Season: 5 Episode: 3 Episode Number: 160 161 | Subtitle Number: 225 265\n",
      "Season: 5 Episode: 4 Episode Number: 163 164 | Subtitle Number: 246 282\n",
      "Season: 5 Episode: 5 Episode Number: 174 182 | Subtitle Number: 251 313\n",
      "Season: 5 Episode: 6 Episode Number: 165 166 | Subtitle Number: 253 307\n",
      "Season: 5 Episode: 7 Episode Number: 154 161 | Subtitle Number: 223 271\n",
      "Season: 5 Episode: 8 Episode Number: 162 166 | Subtitle Number: 225 280\n",
      "Season: 5 Episode: 9 Episode Number: 142 149 | Subtitle Number: 217 265\n",
      "Season: 5 Episode: 10 Episode Number: 145 152 | Subtitle Number: 224 269\n",
      "Season: 5 Episode: 11 Episode Number: 195 202 | Subtitle Number: 277 327\n",
      "Season: 5 Episode: 12 Episode Number: 164 167 | Subtitle Number: 229 265\n",
      "Season: 5 Episode: 13 Episode Number: 174 183 | Subtitle Number: 219 255\n",
      "Season: 5 Episode: 14 Episode Number: 140 145 | Subtitle Number: 229 266\n",
      "Season: 5 Episode: 15 Episode Number: 148 156 | Subtitle Number: 220 261\n",
      "Season: 5 Episode: 16 Episode Number: 161 162 | Subtitle Number: 247 283\n",
      "Season: 5 Episode: 17 Episode Number: 150 154 | Subtitle Number: 232 277\n",
      "Season: 5 Episode: 18 Episode Number: 143 152 | Subtitle Number: 218 273\n",
      "Season: 5 Episode: 19 Episode Number: 153 158 | Subtitle Number: 219 258\n",
      "Season: 5 Episode: 20 Episode Number: 171 182 | Subtitle Number: 245 290\n",
      "Season: 5 Episode: 21 Episode Number: 161 167 | Subtitle Number: 218 258\n",
      "Season: 5 Episode: 22 Episode Number: 156 163 | Subtitle Number: 257 309\n",
      "Season: 5 Episode: 23 Episode Number: 155 163 | Subtitle Number: 213 272\n",
      "Season: 6 Episode: 1 Episode Number: 174 182 | Subtitle Number: 224 260\n",
      "Season: 6 Episode: 2 Episode Number: 180 187 | Subtitle Number: 240 277\n",
      "Season: 6 Episode: 3 Episode Number: 140 144 | Subtitle Number: 199 233\n",
      "Season: 6 Episode: 4 Episode Number: 162 168 | Subtitle Number: 208 242\n",
      "Season: 6 Episode: 5 Episode Number: 166 175 | Subtitle Number: 214 262\n",
      "Season: 6 Episode: 6 Episode Number: 157 165 | Subtitle Number: 231 287\n",
      "Season: 6 Episode: 7 Episode Number: 161 162 | Subtitle Number: 253 288\n",
      "Season: 6 Episode: 8 Episode Number: 174 180 | Subtitle Number: 229 261\n",
      "Season: 6 Episode: 9 Episode Number: 154 158 | Subtitle Number: 219 264\n",
      "Season: 6 Episode: 10 Episode Number: 146 151 | Subtitle Number: 202 226\n",
      "Season: 6 Episode: 11 Episode Number: 172 186 | Subtitle Number: 243 292\n",
      "Season: 6 Episode: 12 Episode Number: 154 165 | Subtitle Number: 210 263\n",
      "Season: 6 Episode: 13 Episode Number: 176 181 | Subtitle Number: 238 271\n",
      "Season: 6 Episode: 14 Episode Number: 163 164 | Subtitle Number: 244 267\n",
      "Season: 6 Episode: 15 Episode Number: 172 178 | Subtitle Number: 245 276\n",
      "Season: 6 Episode: 16 Episode Number: 144 151 | Subtitle Number: 202 241\n",
      "Season: 6 Episode: 17 Episode Number: 129 133 | Subtitle Number: 208 250\n",
      "Season: 6 Episode: 18 Episode Number: 120 129 | Subtitle Number: 182 212\n",
      "Season: 6 Episode: 19 Episode Number: 173 173 | Subtitle Number: 234 256\n",
      "Season: 6 Episode: 20 Episode Number: 144 148 | Subtitle Number: 188 224\n",
      "Season: 6 Episode: 21 Episode Number: 154 159 | Subtitle Number: 221 262\n",
      "Season: 6 Episode: 22 Episode Number: 149 155 | Subtitle Number: 209 249\n",
      "Season: 6 Episode: 23 Episode Number: 156 160 | Subtitle Number: 217 259\n",
      "Season: 6 Episode: 24 Episode Number: 168 172 | Subtitle Number: 234 272\n",
      "Season: 7 Episode: 1 Episode Number: 170 175 | Subtitle Number: 222 250\n",
      "Season: 7 Episode: 2 Episode Number: 188 191 | Subtitle Number: 258 309\n",
      "Season: 7 Episode: 3 Episode Number: 187 197 | Subtitle Number: 262 308\n",
      "Season: 7 Episode: 4 Episode Number: 157 159 | Subtitle Number: 247 287\n",
      "Season: 7 Episode: 5 Episode Number: 147 150 | Subtitle Number: 213 252\n",
      "Season: 7 Episode: 6 Episode Number: 152 168 | Subtitle Number: 235 309\n",
      "Season: 7 Episode: 7 Episode Number: 176 182 | Subtitle Number: 228 276\n",
      "Season: 7 Episode: 8 Episode Number: 161 164 | Subtitle Number: 233 269\n",
      "Season: 7 Episode: 9 Episode Number: 187 188 | Subtitle Number: 252 277\n",
      "Season: 7 Episode: 10 Episode Number: 179 184 | Subtitle Number: 269 319\n",
      "Season: 7 Episode: 11 Episode Number: 183 189 | Subtitle Number: 245 288\n",
      "Season: 7 Episode: 13 Episode Number: 196 198 | Subtitle Number: 265 290\n",
      "Season: 7 Episode: 14 Episode Number: 165 169 | Subtitle Number: 220 262\n",
      "Season: 7 Episode: 15 Episode Number: 147 169 | Subtitle Number: 213 301\n",
      "Season: 7 Episode: 16 Episode Number: 206 210 | Subtitle Number: 271 303\n",
      "Season: 7 Episode: 17 Episode Number: 175 176 | Subtitle Number: 239 271\n",
      "Season: 7 Episode: 18 Episode Number: 178 184 | Subtitle Number: 238 273\n",
      "Season: 7 Episode: 19 Episode Number: 165 170 | Subtitle Number: 235 263\n",
      "Season: 7 Episode: 20 Episode Number: 187 191 | Subtitle Number: 236 274\n",
      "Season: 7 Episode: 21 Episode Number: 162 167 | Subtitle Number: 215 250\n",
      "Season: 7 Episode: 22 Episode Number: 154 161 | Subtitle Number: 199 242\n",
      "Season: 7 Episode: 23 Episode Number: 187 192 | Subtitle Number: 231 266\n",
      "Season: 7 Episode: 24 Episode Number: 195 198 | Subtitle Number: 262 298\n",
      "Season: 8 Episode: 1 Episode Number: 171 175 | Subtitle Number: 277 326\n",
      "Season: 8 Episode: 2 Episode Number: 170 175 | Subtitle Number: 232 269\n",
      "Season: 8 Episode: 3 Episode Number: 173 174 | Subtitle Number: 227 251\n",
      "Season: 8 Episode: 4 Episode Number: 191 194 | Subtitle Number: 246 280\n",
      "Season: 8 Episode: 5 Episode Number: 183 187 | Subtitle Number: 261 303\n",
      "Season: 8 Episode: 6 Episode Number: 194 209 | Subtitle Number: 247 315\n",
      "Season: 8 Episode: 8 Episode Number: 173 175 | Subtitle Number: 248 289\n",
      "Season: 8 Episode: 9 Episode Number: 189 194 | Subtitle Number: 226 246\n",
      "Season: 8 Episode: 10 Episode Number: 179 185 | Subtitle Number: 248 283\n",
      "Season: 8 Episode: 11 Episode Number: 190 194 | Subtitle Number: 262 307\n",
      "Season: 8 Episode: 12 Episode Number: 174 179 | Subtitle Number: 245 302\n",
      "Season: 8 Episode: 13 Episode Number: 165 168 | Subtitle Number: 240 285\n",
      "Season: 8 Episode: 15 Episode Number: 175 184 | Subtitle Number: 238 288\n",
      "Season: 8 Episode: 16 Episode Number: 176 182 | Subtitle Number: 251 306\n",
      "Season: 8 Episode: 17 Episode Number: 178 181 | Subtitle Number: 282 312\n",
      "Season: 8 Episode: 18 Episode Number: 195 196 | Subtitle Number: 282 320\n",
      "Season: 8 Episode: 19 Episode Number: 180 184 | Subtitle Number: 256 317\n",
      "Season: 8 Episode: 20 Episode Number: 198 205 | Subtitle Number: 281 330\n",
      "Season: 8 Episode: 21 Episode Number: 173 184 | Subtitle Number: 243 292\n",
      "Season: 8 Episode: 22 Episode Number: 146 154 | Subtitle Number: 223 269\n",
      "Season: 8 Episode: 23 Episode Number: 157 159 | Subtitle Number: 218 251\n",
      "Season: 8 Episode: 24 Episode Number: 196 198 | Subtitle Number: 247 293\n",
      "Season: 9 Episode: 1 Episode Number: 199 202 | Subtitle Number: 280 321\n",
      "Season: 9 Episode: 2 Episode Number: 175 181 | Subtitle Number: 243 289\n",
      "Season: 9 Episode: 3 Episode Number: 191 196 | Subtitle Number: 263 316\n",
      "Season: 9 Episode: 4 Episode Number: 142 148 | Subtitle Number: 216 254\n",
      "Season: 9 Episode: 5 Episode Number: 169 171 | Subtitle Number: 256 297\n",
      "Season: 9 Episode: 6 Episode Number: 212 217 | Subtitle Number: 300 348\n",
      "Season: 9 Episode: 7 Episode Number: 165 168 | Subtitle Number: 242 294\n",
      "Season: 9 Episode: 9 Episode Number: 194 197 | Subtitle Number: 283 346\n",
      "Season: 9 Episode: 10 Episode Number: 164 170 | Subtitle Number: 264 329\n",
      "Season: 9 Episode: 11 Episode Number: 158 165 | Subtitle Number: 217 271\n",
      "Season: 9 Episode: 12 Episode Number: 197 201 | Subtitle Number: 262 310\n",
      "Season: 9 Episode: 13 Episode Number: 179 188 | Subtitle Number: 250 296\n",
      "Season: 9 Episode: 14 Episode Number: 194 204 | Subtitle Number: 263 330\n",
      "Season: 9 Episode: 15 Episode Number: 181 187 | Subtitle Number: 271 317\n",
      "Season: 9 Episode: 16 Episode Number: 175 182 | Subtitle Number: 245 309\n",
      "Season: 9 Episode: 24 Episode Number: 198 204 | Subtitle Number: 264 296\n"
     ]
    }
   ],
   "source": [
    "further_alignment = {}\n",
    "for (i, j) in alignment_seeds.keys():\n",
    "    temp = get_alignment(tbbt_transcripts, en_subtitle, zh_subtitle, results, i, j, 200)\n",
    "    further_alignment[(i,j)] = temp\n",
    "    print(\"Season:\", i,\"Episode:\", j, \"Episode Number:\", len(alignment_seeds[(i,j)]),len(temp), \"|\", \"Subtitle Number:\", len(turn_sub2epi_into_epi2sub(alignment_seeds[(i,j)])),len(turn_sub2epi_into_epi2sub(temp)))"
   ],
   "metadata": {
    "collapsed": false,
    "pycharm": {
     "name": "#%%\n"
    }
   }
  },
  {
   "cell_type": "code",
   "execution_count": 363,
   "outputs": [],
   "source": [
    "with open('alignment_results/zh/final_stage_alignment_1.pkl', 'wb') as f:\n",
    "    pkl.dump(further_alignment, f)"
   ],
   "metadata": {
    "collapsed": false,
    "pycharm": {
     "name": "#%%\n"
    }
   }
  },
  {
   "cell_type": "code",
   "execution_count": 18,
   "outputs": [],
   "source": [
    "with open('alignment_results/zh/final_stage_alignment_1.pkl', 'rb') as f:\n",
    "    further_alignment = pkl.load(f)"
   ],
   "metadata": {
    "collapsed": false,
    "pycharm": {
     "name": "#%%\n"
    }
   }
  },
  {
   "cell_type": "code",
   "execution_count": 19,
   "outputs": [],
   "source": [
    "alignment_seeds = further_alignment\n",
    "# for x in alignment_seeds:\n",
    "#     print(x)\n",
    "#     print(alignment_seeds[x])\n",
    "#     print()"
   ],
   "metadata": {
    "collapsed": false,
    "pycharm": {
     "name": "#%%\n"
    }
   }
  },
  {
   "cell_type": "markdown",
   "source": [
    "## Part 5: Ultimate Stage\n",
    "In this stage:\n",
    "1. Add the head and tail part\n",
    "2. add the alignment in the gap"
   ],
   "metadata": {
    "collapsed": false,
    "pycharm": {
     "name": "#%% md\n"
    }
   }
  },
  {
   "cell_type": "code",
   "execution_count": 62,
   "outputs": [],
   "source": [
    "with open('alignment_results/zh/final_stage_alignment_1.pkl', 'rb') as f:\n",
    "    alignment_seeds = pkl.load(f)"
   ],
   "metadata": {
    "collapsed": false,
    "pycharm": {
     "name": "#%%\n"
    }
   }
  },
  {
   "cell_type": "code",
   "execution_count": 37,
   "outputs": [
    {
     "name": "stdout",
     "output_type": "stream",
     "text": [
      "(1, 1) 235 333 98 70%\n",
      "(1, 2) 177 248 71 71%\n",
      "(1, 3) 188 259 71 72%\n",
      "(1, 4) 156 238 82 65%\n",
      "(1, 5) 160 232 72 68%\n",
      "(1, 6) 178 258 80 68%\n",
      "(1, 7) 187 291 104 64%\n",
      "(1, 8) 211 270 59 78%\n",
      "(1, 9) 177 234 57 75%\n",
      "(1, 10) 171 235 64 72%\n",
      "(1, 11) 182 257 75 70%\n",
      "(1, 12) 107 243 136 44%\n",
      "(1, 13) 160 265 105 60%\n",
      "(1, 14) 170 243 73 69%\n",
      "(1, 15) 179 248 69 72%\n",
      "(1, 16) 171 248 77 68%\n",
      "(2, 1) 176 247 71 71%\n",
      "(2, 2) 186 259 73 71%\n",
      "(2, 3) 172 246 74 69%\n",
      "(2, 4) 180 269 89 66%\n",
      "(2, 5) 151 223 72 67%\n",
      "(2, 6) 177 246 69 71%\n",
      "(2, 7) 179 278 99 64%\n",
      "(2, 8) 143 241 98 59%\n",
      "(2, 9) 158 218 60 72%\n",
      "(2, 10) 151 232 81 65%\n",
      "(2, 11) 175 230 55 76%\n",
      "(2, 12) 158 219 61 72%\n",
      "(2, 13) 161 211 50 76%\n",
      "(2, 14) 195 255 60 76%\n",
      "(2, 15) 185 233 48 79%\n",
      "(2, 16) 187 255 68 73%\n",
      "(2, 17) 174 217 43 80%\n",
      "(2, 18) 147 232 85 63%\n",
      "(2, 19) 178 245 67 72%\n",
      "(2, 20) 172 231 59 74%\n",
      "(2, 21) 179 248 69 72%\n",
      "(2, 22) 156 223 67 69%\n",
      "(2, 23) 176 246 70 71%\n",
      "(3, 1) 164 222 58 73%\n",
      "(3, 2) 167 228 61 73%\n",
      "(3, 3) 171 244 73 70%\n",
      "(3, 4) 187 251 64 74%\n",
      "(3, 5) 177 242 65 73%\n",
      "(3, 6) 159 227 68 70%\n",
      "(3, 7) 195 250 55 78%\n",
      "(3, 8) 154 223 69 69%\n",
      "(3, 9) 158 206 48 76%\n",
      "(3, 10) 194 257 63 75%\n",
      "(3, 11) 171 231 60 74%\n",
      "(3, 12) 164 210 46 78%\n",
      "(3, 13) 141 178 37 79%\n",
      "(3, 14) 149 219 70 68%\n",
      "(3, 15) 161 212 51 75%\n",
      "(3, 16) 174 228 54 76%\n",
      "(3, 17) 157 208 51 75%\n",
      "(3, 18) 139 170 31 81%\n",
      "(3, 19) 184 247 63 74%\n",
      "(3, 20) 200 257 57 77%\n",
      "(3, 21) 187 268 81 69%\n",
      "(3, 22) 185 255 70 72%\n",
      "(3, 23) 186 259 73 71%\n",
      "(4, 1) 196 257 61 76%\n",
      "(4, 2) 179 233 54 76%\n",
      "(4, 3) 197 283 86 69%\n",
      "(4, 4) 181 270 89 67%\n",
      "(4, 5) 177 238 61 74%\n",
      "(4, 6) 190 265 75 71%\n",
      "(4, 7) 171 229 58 74%\n",
      "(4, 8) 163 223 60 73%\n",
      "(4, 9) 194 257 63 75%\n",
      "(4, 10) 170 224 54 75%\n",
      "(4, 11) 176 244 68 72%\n",
      "(4, 12) 185 250 65 74%\n",
      "(4, 13) 192 258 66 74%\n",
      "(4, 14) 165 227 62 72%\n",
      "(4, 15) 174 225 51 77%\n",
      "(4, 17) 191 242 51 78%\n",
      "(4, 18) 173 245 72 70%\n",
      "(4, 19) 195 264 69 73%\n",
      "(4, 20) 196 255 59 76%\n",
      "(4, 21) 165 216 51 76%\n",
      "(4, 22) 205 252 47 81%\n",
      "(4, 23) 193 249 56 77%\n",
      "(4, 24) 181 242 61 74%\n",
      "(5, 1) 145 202 57 71%\n",
      "(5, 2) 151 222 71 68%\n",
      "(5, 3) 161 213 52 75%\n",
      "(5, 4) 164 203 39 80%\n",
      "(5, 5) 182 250 68 72%\n",
      "(5, 6) 166 202 36 82%\n",
      "(5, 7) 161 213 52 75%\n",
      "(5, 8) 166 213 47 77%\n",
      "(5, 9) 149 210 61 70%\n",
      "(5, 10) 152 204 52 74%\n",
      "(5, 11) 202 247 45 81%\n",
      "(5, 12) 167 196 29 85%\n",
      "(5, 13) 183 262 79 69%\n",
      "(5, 14) 145 185 40 78%\n",
      "(5, 15) 156 201 45 77%\n",
      "(5, 16) 162 214 52 75%\n",
      "(5, 17) 154 235 81 65%\n",
      "(5, 18) 152 184 32 82%\n",
      "(5, 19) 158 201 43 78%\n",
      "(5, 20) 182 233 51 78%\n",
      "(5, 21) 167 207 40 80%\n",
      "(5, 22) 163 201 38 81%\n",
      "(5, 23) 163 216 53 75%\n",
      "(6, 1) 182 243 61 74%\n",
      "(6, 2) 187 239 52 78%\n",
      "(6, 3) 144 210 66 68%\n",
      "(6, 4) 168 235 67 71%\n",
      "(6, 5) 175 232 57 75%\n",
      "(6, 6) 165 207 42 79%\n",
      "(6, 7) 162 199 37 81%\n",
      "(6, 8) 180 245 65 73%\n",
      "(6, 9) 158 214 56 73%\n",
      "(6, 10) 151 207 56 72%\n",
      "(6, 11) 186 223 37 83%\n",
      "(6, 12) 165 213 48 77%\n",
      "(6, 13) 181 241 60 75%\n",
      "(6, 14) 164 216 52 75%\n",
      "(6, 15) 178 243 65 73%\n",
      "(6, 16) 151 221 70 68%\n",
      "(6, 17) 133 174 41 76%\n",
      "(6, 18) 129 155 26 83%\n",
      "(6, 19) 173 235 62 73%\n",
      "(6, 20) 148 219 71 67%\n",
      "(6, 21) 159 194 35 81%\n",
      "(6, 22) 155 223 68 69%\n",
      "(6, 23) 160 210 50 76%\n",
      "(6, 24) 172 224 52 76%\n",
      "(7, 1) 175 237 62 73%\n",
      "(7, 2) 191 260 69 73%\n",
      "(7, 3) 197 264 67 74%\n",
      "(7, 4) 159 212 53 75%\n",
      "(7, 5) 150 199 49 75%\n",
      "(7, 6) 168 217 49 77%\n",
      "(7, 7) 182 231 49 78%\n",
      "(7, 8) 164 210 46 78%\n",
      "(7, 9) 188 253 65 74%\n",
      "(7, 10) 184 224 40 82%\n",
      "(7, 11) 189 252 63 75%\n",
      "(7, 13) 198 276 78 71%\n",
      "(7, 14) 169 229 60 73%\n",
      "(7, 15) 169 236 67 71%\n",
      "(7, 16) 210 257 47 81%\n",
      "(7, 17) 176 226 50 77%\n",
      "(7, 18) 184 250 66 73%\n",
      "(7, 19) 170 237 67 71%\n",
      "(7, 20) 191 242 51 78%\n",
      "(7, 21) 167 209 42 79%\n",
      "(7, 22) 161 227 66 70%\n",
      "(7, 23) 192 250 58 76%\n",
      "(7, 24) 198 267 69 74%\n",
      "(8, 1) 175 222 47 78%\n",
      "(8, 2) 175 231 56 75%\n",
      "(8, 3) 174 219 45 79%\n",
      "(8, 4) 194 255 61 76%\n",
      "(8, 5) 187 235 48 79%\n",
      "(8, 6) 209 254 45 82%\n",
      "(8, 8) 175 230 55 76%\n",
      "(8, 9) 194 238 44 81%\n",
      "(8, 10) 185 221 36 83%\n",
      "(8, 11) 194 232 38 83%\n",
      "(8, 12) 179 227 48 78%\n",
      "(8, 13) 168 220 52 76%\n",
      "(8, 15) 184 245 61 75%\n",
      "(8, 16) 182 232 50 78%\n",
      "(8, 17) 181 231 50 78%\n",
      "(8, 18) 196 244 48 80%\n",
      "(8, 19) 184 217 33 84%\n",
      "(8, 20) 205 251 46 81%\n",
      "(8, 21) 184 241 57 76%\n",
      "(8, 22) 154 219 65 70%\n",
      "(8, 23) 159 210 51 75%\n",
      "(8, 24) 198 276 78 71%\n",
      "(9, 1) 202 268 66 75%\n",
      "(9, 2) 181 222 41 81%\n",
      "(9, 3) 196 257 61 76%\n",
      "(9, 4) 148 199 51 74%\n",
      "(9, 5) 171 212 41 80%\n",
      "(9, 6) 217 261 44 83%\n",
      "(9, 7) 168 210 42 80%\n",
      "(9, 9) 197 244 47 80%\n",
      "(9, 10) 170 215 45 79%\n",
      "(9, 11) 165 250 85 66%\n",
      "(9, 12) 201 255 54 78%\n",
      "(9, 13) 188 233 45 80%\n",
      "(9, 14) 204 254 50 80%\n",
      "(9, 15) 187 246 59 76%\n",
      "(9, 16) 182 233 51 78%\n",
      "(9, 24) 204 276 72 73%\n"
     ]
    }
   ],
   "source": [
    "for x in alignment_seeds:\n",
    "    num_aligned = len(alignment_seeds[x])\n",
    "    num_all = len(tbbt_transcripts[x])\n",
    "    print(x, num_aligned, num_all, (num_all-num_aligned), str(int(num_aligned/num_all*100))+\"%\")"
   ],
   "metadata": {
    "collapsed": false,
    "pycharm": {
     "name": "#%%\n"
    }
   }
  },
  {
   "cell_type": "code",
   "execution_count": 38,
   "outputs": [],
   "source": [
    "def fetch_before_after(en_subset, zh_subset, tbbt_episode, epi2sub):\n",
    "    gap_pairs = []\n",
    "    # Fetch the Episode-Subtitle Pair before the episode start\n",
    "    epi_ids = list(range(0, min(epi2sub.keys())))\n",
    "    num_epi_token = 0\n",
    "    for i in epi_ids:\n",
    "        num_epi_token += len(tbbt_episode[i][0].strip().split(\" \"))\n",
    "\n",
    "    sub_ids = [min(epi2sub[min(epi2sub.keys())])]\n",
    "    num_sub_token = len(en_subset[sub_ids[-1]].strip().split(\" \"))\n",
    "    while num_sub_token <= num_epi_token*3:\n",
    "        sub_ids.append(sub_ids[-1]-1)\n",
    "        num_sub_token += len(en_subset[sub_ids[-1]].strip().split(\" \"))\n",
    "    gap_pairs.append([epi_ids, sorted(sub_ids)])\n",
    "\n",
    "    # Fetch the Episode-Subtitle Pair after the episode end\n",
    "    epi_ids = list(range(max(epi2sub.keys())+1, len(tbbt_episode)))\n",
    "    num_epi_token = 0\n",
    "    for i in epi_ids:\n",
    "        num_epi_token += len(tbbt_episode[i][0].strip().split(\" \"))\n",
    "\n",
    "    sub_ids = [max(epi2sub[max(epi2sub.keys())])+1]\n",
    "    num_sub_token = len(en_subset[sub_ids[-1]].strip().split(\" \"))\n",
    "    while num_sub_token <= num_epi_token*3:\n",
    "        sub_ids.append(sub_ids[-1]+1)\n",
    "        num_sub_token += len(en_subset[sub_ids[-1]].strip().split(\" \"))\n",
    "    gap_pairs.append([epi_ids, sub_ids])\n",
    "\n",
    "    return gap_pairs"
   ],
   "metadata": {
    "collapsed": false,
    "pycharm": {
     "name": "#%%\n"
    }
   }
  },
  {
   "cell_type": "code",
   "execution_count": 39,
   "outputs": [],
   "source": [
    "def before_after_exact_match(en_subset, episode, epi_ids, sub_ids):\n",
    "    res = {}\n",
    "    for sub_id in sub_ids:\n",
    "        subtitle = transformation(en_subset[sub_id])\n",
    "        if len(subtitle.strip().split(\" \")) <=5:\n",
    "            continue\n",
    "        # Exact Match for short sentences\n",
    "        for epi_id in epi_ids:\n",
    "            utt = transformation(episode[epi_id][0])\n",
    "            speaker = episode[epi_id][1]\n",
    "            if subtitle == utt:\n",
    "                if i not in res:\n",
    "                    res[i] = set()\n",
    "                    res[i].add(j)\n",
    "                else:\n",
    "                    res[i].add(j)\n",
    "    output = {}\n",
    "    for x in res:\n",
    "        output[x] = sorted(list(res[x]))\n",
    "\n",
    "    return output"
   ],
   "metadata": {
    "collapsed": false,
    "pycharm": {
     "name": "#%%\n"
    }
   }
  },
  {
   "cell_type": "code",
   "execution_count": 40,
   "outputs": [],
   "source": [
    "def before_after_string_match_sliding_window_no_filter(en_subset, episode, epi_ids, sub_ids, window_size=5):\n",
    "    res = {}\n",
    "    for sub_id in sub_ids:\n",
    "        subtitle = transformation(en_subset[sub_id])\n",
    "        subtitle_tokens = subtitle.strip().split(\" \")\n",
    "        if len(subtitle_tokens) < window_size:\n",
    "            continue\n",
    "\n",
    "        subtitle_segments = []\n",
    "        for j in range(len(subtitle_tokens) - window_size):\n",
    "            subtitle_segments.append(\" \".join(subtitle_tokens[j: j + window_size]))\n",
    "            # print(\" \".join(subtitle_tokens[j: j+5]))\n",
    "\n",
    "        for epi_id in epi_ids:\n",
    "            utt = transformation(episode[epi_id][0])\n",
    "            speaker = episode[epi_id][1]\n",
    "            for sub_seg in subtitle_segments:\n",
    "                if sub_seg in utt:\n",
    "                    if i not in res:\n",
    "                        res[i] = set()\n",
    "                        res[i].add(j)\n",
    "                    else:\n",
    "                        res[i].add(j)\n",
    "    return res"
   ],
   "metadata": {
    "collapsed": false,
    "pycharm": {
     "name": "#%%\n"
    }
   }
  },
  {
   "cell_type": "code",
   "execution_count": 41,
   "outputs": [],
   "source": [
    "def add_wer_substring_match_within_gaps(gaps, epi2sub, en_subset, tbbt_episode):\n",
    "    count = 0\n",
    "    pattern = r'\\.|\\?|\\!|\\;|- '\n",
    "    temp_sub2epi = {}\n",
    "    for gap in gaps:\n",
    "        # Build substrings\n",
    "        sub_ids = gap[1]\n",
    "        epi_ids = gap[0]\n",
    "        sub_lists = []\n",
    "        epi_lists = []\n",
    "\n",
    "        for epi_id in epi_ids:\n",
    "            epi = tbbt_episode[epi_id][0].replace(\"’\", \"'\")\n",
    "            epi_substring = re.split(pattern, epi)\n",
    "            for item in epi_substring:\n",
    "                if len(item.strip().split(\" \"))<=2:\n",
    "                    continue\n",
    "                temp_item = transformation(item.replace(\"-\", \" \").strip())\n",
    "                epi_lists.append([temp_item, epi_id])\n",
    "\n",
    "        for sub_id in sub_ids:\n",
    "            sub = en_subset[sub_id].replace(\"’\", \"'\")\n",
    "            sub_substring = re.split(pattern, sub)\n",
    "            for item in sub_substring:\n",
    "                if len(item.strip().split(\" \"))<=2:\n",
    "                    continue\n",
    "                temp_item = transformation(item.replace(\"-\", \" \").strip())\n",
    "                sub_lists.append([temp_item, sub_id])\n",
    "\n",
    "\n",
    "        # Calculate WER Similarity\n",
    "        for (sub, sub_id) in sub_lists:\n",
    "            for (epi, epi_id) in epi_lists:\n",
    "                cer = jiwer.cer(epi, sub)\n",
    "                if cer <= 0.2:\n",
    "                    count += 1\n",
    "                    if sub_id not in temp_sub2epi:\n",
    "                        temp_sub2epi[sub_id] = set()\n",
    "                        temp_sub2epi[sub_id].add(epi_id)\n",
    "                    else:\n",
    "                        temp_sub2epi[sub_id].add(epi_id)\n",
    "\n",
    "    for sub_id in temp_sub2epi:\n",
    "        epi_ids = list(temp_sub2epi[sub_id])\n",
    "        if len(epi_ids)!=1:\n",
    "            continue\n",
    "        epi_id = epi_ids[0]\n",
    "        if epi_id not in epi2sub:\n",
    "            epi2sub[epi_id] = [sub_id]\n",
    "        else:\n",
    "            epi2sub[epi_id].append(sub_id)\n",
    "\n",
    "    output = {}\n",
    "    for epi_id in sorted(list(epi2sub.keys())):\n",
    "        output[epi_id] = sorted(list(set(epi2sub[epi_id])))\n",
    "    return output"
   ],
   "metadata": {
    "collapsed": false,
    "pycharm": {
     "name": "#%%\n"
    }
   }
  },
  {
   "cell_type": "code",
   "execution_count": 42,
   "outputs": [],
   "source": [
    "def get_optimal_wer_from_episode(ground_truth, hypothesis_pool):\n",
    "    scores = []\n",
    "    for i, hypothesis in enumerate(hypothesis_pool):\n",
    "        scores.append(jiwer.compute_measures(ground_truth, hypothesis)['wer'])\n",
    "    return min(scores), hypothesis_pool[scores.index(min(scores))], ground_truth, scores.index(min(scores))"
   ],
   "metadata": {
    "collapsed": false,
    "pycharm": {
     "name": "#%%\n"
    }
   }
  },
  {
   "cell_type": "code",
   "execution_count": 167,
   "outputs": [],
   "source": [
    "def get_optimal_cer_from_episode(ground_truth, hypothesis_pool, utt_ids):\n",
    "    scores = []\n",
    "    for i, hypothesis in enumerate(hypothesis_pool):\n",
    "        scores.append(jiwer.cer(ground_truth, hypothesis))\n",
    "    return min(scores), hypothesis_pool[scores.index(min(scores))], ground_truth, utt_ids[scores.index(min(scores))]"
   ],
   "metadata": {
    "collapsed": false,
    "pycharm": {
     "name": "#%%\n"
    }
   }
  },
  {
   "cell_type": "code",
   "execution_count": 44,
   "outputs": [],
   "source": [
    "def before_after_wer_match(en_subset, episode, epi_ids, sub_ids):\n",
    "    # Load Sub2Epi\n",
    "    temp_sub2epi = {}\n",
    "    temp_epi2sub = {}\n",
    "    for sub_id in sub_ids:\n",
    "        subtitle = transformation(en_subset[sub_id].replace(\"’\", \" \").replace('…', \" \"))\n",
    "        subtitle_tokens = subtitle.strip().split(\" \")\n",
    "        sub_len = len(subtitle_tokens)\n",
    "        if sub_len <= 4:\n",
    "            continue\n",
    "\n",
    "        utt_segments = []\n",
    "        utt_ids = []\n",
    "        for epi_id in epi_ids:\n",
    "            utt = transformation(episode[epi_id][0].replace(\"’\", \" \").replace('…', \" \"))\n",
    "            utt_tokens = utt.strip().split(\" \")\n",
    "            for j in range(len(utt_tokens) - sub_len+1):\n",
    "                utt_segments.append(\" \".join(utt_tokens[j: j + sub_len]))\n",
    "                utt_ids.append(epi_id)\n",
    "        if utt_segments != [] and subtitle not in [\" \", \"\"]:\n",
    "            score, hypo, truth, index = get_optimal_cer_from_episode(subtitle, utt_segments, utt_ids)\n",
    "            if score >= 0.5:\n",
    "                continue\n",
    "            # print(\"**********\")\n",
    "            # print(\"Score:\", score)\n",
    "            # print(\"Subtitle:\", truth)\n",
    "            # print(\"Episode:\", hypo)\n",
    "            # print(\"Epi ID:\", index, \"Sub ID:\", sub_id)\n",
    "            temp_sub2epi[sub_id] = [index]\n",
    "            if index not in temp_epi2sub:\n",
    "                temp_epi2sub[index] = [sub_id]\n",
    "            else:\n",
    "                temp_epi2sub[index].append(sub_id)\n",
    "    # print(\"Sub2Epi:\", temp_sub2epi)\n",
    "    # print(\"Epi2Sub:\", temp_epi2sub)\n",
    "    return temp_sub2epi"
   ],
   "metadata": {
    "collapsed": false,
    "pycharm": {
     "name": "#%%\n"
    }
   }
  },
  {
   "cell_type": "code",
   "execution_count": 198,
   "outputs": [],
   "source": [
    "def filter_alignment(epi2sub):\n",
    "    epi_ids = list(epi2sub.keys())\n",
    "    if len(epi_ids)<2:\n",
    "        return epi2sub\n",
    "\n",
    "    temp = {}\n",
    "    for i in range(len(epi_ids)-1):\n",
    "        if max(further_alignment[x][epi_ids[i]]) <= min(further_alignment[x][epi_ids[i+1]]):\n",
    "            temp[epi_ids[i]] = further_alignment[x][epi_ids[i]]\n",
    "        # print(epi_id, further_alignment[x][epi_id], min(further_alignment[x][epi_ids[i+1]]) >= max(further_alignment[x][epi_ids[i]]))\n",
    "    temp[epi_ids[-1]] = epi2sub[epi_ids[-1]]\n",
    "    return temp"
   ],
   "metadata": {
    "collapsed": false,
    "pycharm": {
     "name": "#%%\n"
    }
   }
  },
  {
   "cell_type": "code",
   "execution_count": 46,
   "outputs": [],
   "source": [
    "def get_alignment(tbbt, en_subtitle, other_subtitle, results, season_id, episode_id, bias):\n",
    "    # Fetch subset located by the stage-1 alignment\n",
    "    (en_subset, zh_subset, tbbt_episode) = fetch_subsets(\n",
    "        episode=tbbt,\n",
    "        en_subtitle=en_subtitle,\n",
    "        zh_subtitle=other_subtitle,\n",
    "        results=results,\n",
    "        season_id=season_id,\n",
    "        episode_id=episode_id,\n",
    "        bias=bias\n",
    "    )\n",
    "\n",
    "    head_tail_sub2epi = {}\n",
    "\n",
    "    epi2sub = alignment_seeds[(season_id,episode_id)]\n",
    "    print(min(epi2sub.keys()), max(epi2sub.keys()), len(tbbt_episode)-1, len(tbbt_episode)-max(epi2sub.keys())-1)\n",
    "\n",
    "    # Fetch episode-subtitle alignment pairs before and after the head and tail\n",
    "    gap_pairs = fetch_before_after(en_subset, zh_subset, tbbt_episode, epi2sub)\n",
    "    for item in gap_pairs:\n",
    "        # print(item)\n",
    "        # print(\"Episode:\")\n",
    "        # for i in item[0]:\n",
    "        #     print(transformation(tbbt_episode[i][0].replace(\"’\", \" \").replace('…', \" \")))\n",
    "        # print()\n",
    "        # print(\"Subtitle:\")\n",
    "        # for i in item[1]:\n",
    "        #     print(transformation(en_subset[i].replace(\"’\", \" \").replace('…', \" \")))\n",
    "        # print(\"------\")\n",
    "        temp = before_after_wer_match(en_subset, tbbt_episode, item[0], item[1])\n",
    "        for x in temp:\n",
    "            head_tail_sub2epi[x] = temp[x]\n",
    "\n",
    "    # Clean Alignment\n",
    "    head_tail_epi2sub = turn_sub2epi_into_epi2sub(head_tail_sub2epi)\n",
    "    # print(head_tail_epi2sub)\n",
    "    # head_tail_epi2sub = filter_alignment(head_tail_epi2sub)\n",
    "    # print(head_tail_epi2sub)\n",
    "\n",
    "\n",
    "    return head_tail_sub2epi\n",
    "\n",
    "    # for item in gap_pairs:\n",
    "    #     temp = before_after_string_match_sliding_window_no_filter(en_subset, tbbt_episode, item[0], item[1], 200)\n",
    "    #     print(temp)\n",
    "\n",
    "\n",
    "    # # Extend the neighbors\n",
    "    # while True:\n",
    "    #     temp = extend_neighbors(en_subset, epi2sub, tbbt_episode)\n",
    "    #     if len(temp)==len(epi2sub) and len(turn_sub2epi_into_epi2sub(temp))==len(turn_sub2epi_into_epi2sub(epi2sub)):\n",
    "    #         break\n",
    "    #     else:\n",
    "    #         epi2sub = temp\n",
    "    #\n",
    "    # # Extend within gap using strict string match\n",
    "    # gaps, abandons = get_subset_in_gaps(epi2sub)\n",
    "    # epi2sub = add_strict_match_within_gaps(gaps, epi2sub)\n",
    "    #\n",
    "    # # Extend within gap using wer\n",
    "    # gaps, abandons = get_subset_in_gaps(epi2sub)\n",
    "    # epi2sub = add_wer_match_within_gaps(gaps, epi2sub, en_subset, tbbt_episode)\n",
    "    #\n",
    "    # # Extend within gap using substring cer\n",
    "    # gaps, abandons = get_subset_in_gaps(epi2sub)\n",
    "    # epi2sub = add_wer_substring_match_within_gaps(gaps, epi2sub, en_subset, tbbt_episode)\n",
    "    #\n",
    "    # # Extend the neighbors\n",
    "    # epi2sub = extend_neighbors_episode_sliding(en_subset, epi2sub, tbbt_episode)\n",
    "\n",
    "    # return epi2sub"
   ],
   "metadata": {
    "collapsed": false,
    "pycharm": {
     "name": "#%%\n"
    }
   }
  },
  {
   "cell_type": "code",
   "execution_count": null,
   "outputs": [],
   "source": [
    "further_alignment = {}\n",
    "for (i, j) in list(alignment_seeds.keys()):\n",
    "    print(i, j)\n",
    "    if i==1 and j==12:\n",
    "        continue\n",
    "    temp = get_alignment(tbbt_transcripts, en_subtitle, zh_subtitle, results, i, j, 200)\n",
    "    further_alignment[(i,j)] = turn_sub2epi_into_epi2sub(temp)\n",
    "    print(\"Season:\", i,\"Episode:\", j, \"Episode Number:\", len(alignment_seeds[(i,j)]),len(temp), \"|\", \"Subtitle Number:\", len(turn_sub2epi_into_epi2sub(alignment_seeds[(i,j)])),len(turn_sub2epi_into_epi2sub(temp)))\n",
    "    print(\"==\"*50)"
   ],
   "metadata": {
    "collapsed": false,
    "pycharm": {
     "name": "#%%\n"
    }
   }
  },
  {
   "cell_type": "code",
   "execution_count": null,
   "outputs": [],
   "source": [],
   "metadata": {
    "collapsed": false,
    "pycharm": {
     "name": "#%%\n"
    }
   }
  },
  {
   "cell_type": "code",
   "execution_count": null,
   "outputs": [],
   "source": [],
   "metadata": {
    "collapsed": false,
    "pycharm": {
     "name": "#%%\n"
    }
   }
  },
  {
   "cell_type": "code",
   "execution_count": null,
   "outputs": [],
   "source": [],
   "metadata": {
    "collapsed": false,
    "pycharm": {
     "name": "#%%\n"
    }
   }
  },
  {
   "cell_type": "code",
   "execution_count": 349,
   "outputs": [],
   "source": [
    "def get_substrings(string, length):\n",
    "    substrings = []\n",
    "    string_tokens = transformation(string.replace(\"’\", \"'\").replace('…', \" \")).strip().split(\" \")\n",
    "    for k in range(len(string_tokens)-length+1):\n",
    "        substrings.append(\" \".join(string_tokens[k: k+ length]))\n",
    "    return substrings"
   ],
   "metadata": {
    "collapsed": false,
    "pycharm": {
     "name": "#%%\n"
    }
   }
  },
  {
   "cell_type": "code",
   "execution_count": 215,
   "outputs": [],
   "source": [
    "def get_optimal_cer(ground_truth, hypothesis_pool):\n",
    "    scores = []\n",
    "    for i, hypothesis in enumerate(hypothesis_pool):\n",
    "        scores.append(jiwer.cer(ground_truth, hypothesis))\n",
    "    return min(scores), hypothesis_pool[scores.index(min(scores))], ground_truth, scores.index(min(scores))"
   ],
   "metadata": {
    "collapsed": false,
    "pycharm": {
     "name": "#%%\n"
    }
   }
  },
  {
   "cell_type": "code",
   "execution_count": 216,
   "outputs": [],
   "source": [
    "def filter_alignment(epi2sub):\n",
    "    epi_ids = list(epi2sub.keys())\n",
    "    if len(epi_ids)<2:\n",
    "        return epi2sub\n",
    "\n",
    "    temp = {}\n",
    "    for i in range(len(epi_ids)-1):\n",
    "        if max(epi2sub[epi_ids[i]]) <= min(epi2sub[epi_ids[i+1]]):\n",
    "            temp[epi_ids[i]] = epi2sub[epi_ids[i]]\n",
    "    temp[epi_ids[-1]] = epi2sub[epi_ids[-1]]\n",
    "    return temp"
   ],
   "metadata": {
    "collapsed": false,
    "pycharm": {
     "name": "#%%\n"
    }
   }
  },
  {
   "cell_type": "code",
   "execution_count": 217,
   "outputs": [],
   "source": [
    "def get_alignment_temp(tbbt, en_subtitle, other_subtitle, results, season_id, episode_id, bias):\n",
    "    # Fetch subset located by the stage-1 alignment\n",
    "    (en_subset, zh_subset, tbbt_episode) = fetch_subsets(\n",
    "        episode=tbbt,\n",
    "        en_subtitle=en_subtitle,\n",
    "        zh_subtitle=other_subtitle,\n",
    "        results=results,\n",
    "        season_id=season_id,\n",
    "        episode_id=episode_id,\n",
    "        bias=bias\n",
    "    )\n",
    "\n",
    "    head_tail_sub2epi = {}\n",
    "\n",
    "    epi2sub = alignment_seeds[(season_id,episode_id)]\n",
    "    # print(min(epi2sub.keys()), max(epi2sub.keys()), len(tbbt_episode)-1, len(tbbt_episode)-max(epi2sub.keys())-1)\n",
    "\n",
    "    gap_pairs = fetch_before_after(en_subset, zh_subset, tbbt_episode, epi2sub)\n",
    "\n",
    "    # Fetch episode-subtitle alignment pairs before and after the head and tail\n",
    "    for item in gap_pairs:\n",
    "        temp = before_after_wer_match(en_subset, tbbt_episode, item[0], item[1])\n",
    "        for x in temp:\n",
    "            head_tail_sub2epi[x] = temp[x]\n",
    "    head_tail_epi2sub = turn_sub2epi_into_epi2sub(head_tail_sub2epi)\n",
    "\n",
    "    if 0 in gap_pairs[0][0]:\n",
    "        if 0 not in head_tail_epi2sub:\n",
    "            # utt = transformation(tbbt_episode[0][0].replace(\"’\", \" \").replace('…', \" \"))\n",
    "            utt = transformation(tbbt_episode[0][0].replace(\"’\", \"'\").replace('…', \" \"))\n",
    "            utt_tokens = utt.strip().split(\" \")\n",
    "            sub_ids = list(reversed(deepcopy(gap_pairs[0][1])))\n",
    "            # print(utt)\n",
    "            for i in sub_ids:\n",
    "                subtitle_substrings = get_substrings(transformation(en_subset[i].replace(\"’\", \" \").replace('…', \" \")), len(utt_tokens))\n",
    "                if subtitle_substrings==[]:\n",
    "                    continue\n",
    "                cer, substring, ground_truth, score_idx = get_optimal_cer(utt, subtitle_substrings)\n",
    "                if cer < 0.3:\n",
    "                    head_tail_epi2sub[0] = [i]\n",
    "                    break\n",
    "\n",
    "    temp_epi2sub = {}\n",
    "    for epi_id in sorted(list(head_tail_epi2sub.keys())):\n",
    "        temp_epi2sub[epi_id] = sorted(head_tail_epi2sub[epi_id])\n",
    "\n",
    "    epi2sub = filter_alignment(temp_epi2sub)\n",
    "    return turn_sub2epi_into_epi2sub(temp_epi2sub)"
   ],
   "metadata": {
    "collapsed": false,
    "pycharm": {
     "name": "#%%\n"
    }
   }
  },
  {
   "cell_type": "code",
   "execution_count": 218,
   "outputs": [],
   "source": [
    "further_alignment = {}\n",
    "for (i, j) in list(alignment_seeds.keys()):\n",
    "    # print(i, j)\n",
    "    if i==1 and j==12:\n",
    "        continue\n",
    "    temp = get_alignment_temp(tbbt_transcripts, en_subtitle, zh_subtitle, results, i, j, 200)\n",
    "    further_alignment[(i,j)] = turn_sub2epi_into_epi2sub(temp)"
   ],
   "metadata": {
    "collapsed": false,
    "pycharm": {
     "name": "#%%\n"
    }
   }
  },
  {
   "cell_type": "code",
   "execution_count": 223,
   "outputs": [],
   "source": [
    "with open('alignment_results/zh/head_tail_alignment.pkl', 'wb') as f:\n",
    "    pkl.dump(further_alignment, f)"
   ],
   "metadata": {
    "collapsed": false,
    "pycharm": {
     "name": "#%%\n"
    }
   }
  },
  {
   "cell_type": "code",
   "execution_count": 231,
   "outputs": [],
   "source": [
    "# Merge Head Tail with Final Stage alignment information"
   ],
   "metadata": {
    "collapsed": false,
    "pycharm": {
     "name": "#%%\n"
    }
   }
  },
  {
   "cell_type": "code",
   "execution_count": 232,
   "outputs": [],
   "source": [
    "with open('alignment_results/zh/head_tail_alignment.pkl', 'rb') as f:\n",
    "    head_tail = pkl.load(f)"
   ],
   "metadata": {
    "collapsed": false,
    "pycharm": {
     "name": "#%%\n"
    }
   }
  },
  {
   "cell_type": "code",
   "execution_count": 233,
   "outputs": [],
   "source": [
    "with open('alignment_results/zh/final_stage_alignment_1.pkl', 'rb') as f:\n",
    "    final_stage = pkl.load(f)"
   ],
   "metadata": {
    "collapsed": false,
    "pycharm": {
     "name": "#%%\n"
    }
   }
  },
  {
   "cell_type": "code",
   "execution_count": 239,
   "outputs": [],
   "source": [
    "further_alignment = {}\n",
    "for x in final_stage:\n",
    "    if x == (1,12):\n",
    "        continue\n",
    "    alignment = deepcopy(final_stage[x])\n",
    "    h_t = deepcopy(head_tail[x])\n",
    "    for epi_id in h_t:\n",
    "        if epi_id not in alignment:\n",
    "            alignment[epi_id] = h_t[epi_id]\n",
    "\n",
    "    temp = {}\n",
    "    for epi_id in sorted(list(alignment.keys())):\n",
    "        temp[epi_id] = alignment[epi_id]\n",
    "    further_alignment[x] = temp"
   ],
   "metadata": {
    "collapsed": false,
    "pycharm": {
     "name": "#%%\n"
    }
   }
  },
  {
   "cell_type": "code",
   "execution_count": 241,
   "outputs": [],
   "source": [
    "with open('alignment_results/zh/final_stage_alignment_1_with_head_tail.pkl', 'wb') as f:\n",
    "    pkl.dump(further_alignment, f)"
   ],
   "metadata": {
    "collapsed": false,
    "pycharm": {
     "name": "#%%\n"
    }
   }
  },
  {
   "cell_type": "markdown",
   "source": [
    "## Alignment within gaps\n",
    "\n",
    "In this part, we align from the subtile to episode. We iterate every subtitle within the start_index and end_indx.\n",
    "And if the subtitle is not aligned, reach to its neighbor episode utterance and try to align."
   ],
   "metadata": {
    "collapsed": false,
    "pycharm": {
     "name": "#%% md\n"
    }
   }
  },
  {
   "cell_type": "code",
   "execution_count": 242,
   "outputs": [],
   "source": [
    "alignment_seeds = deepcopy(further_alignment)"
   ],
   "metadata": {
    "collapsed": false,
    "pycharm": {
     "name": "#%%\n"
    }
   }
  },
  {
   "cell_type": "code",
   "execution_count": 277,
   "outputs": [],
   "source": [
    "def get_subtitle_candiate_episode_pairs(epi2sub):\n",
    "\n",
    "    temp_epi2sub = deepcopy(epi2sub)\n",
    "    temp_sub2epi = turn_sub2epi_into_epi2sub(temp_epi2sub)\n",
    "    epi_ids = sorted(list(temp_epi2sub.keys()))\n",
    "    sub_ids = sorted(list(temp_sub2epi.keys()))\n",
    "    print(max(sub_ids), min(sub_ids))\n",
    "    print(list(range(min(sub_ids), max(sub_ids)+1)))\n",
    "    print()\n",
    "    print(sub_ids)\n",
    "    return []"
   ],
   "metadata": {
    "collapsed": false,
    "pycharm": {
     "name": "#%%\n"
    }
   }
  },
  {
   "cell_type": "code",
   "execution_count": 284,
   "outputs": [],
   "source": [
    "def get_final_stage_gap_pairs(epi2sub):\n",
    "    # Gather the gap of subtitle corresponding to episode utterance\n",
    "    epi_keys = sorted(list(epi2sub.keys()))\n",
    "    sub_keys = sorted(list(turn_sub2epi_into_epi2sub(epi2sub).keys()))\n",
    "\n",
    "    subtitle_gaps = {}\n",
    "    for i in range(len(epi_keys)-1):\n",
    "        epi_start = epi_keys[i]\n",
    "        epi_end = epi_keys[i+1]\n",
    "        key = (epi_start, epi_end)\n",
    "        if max(epi2sub[epi_start])+1<min(epi2sub[epi_end]):\n",
    "            subtitle_gaps[(epi_start, epi_end)] = [item for item in range(max(epi2sub[epi_start])+1, min(epi2sub[epi_end]))]\n",
    "\n",
    "    # Perform string match and CER Scoring\n",
    "    return subtitle_gaps"
   ],
   "metadata": {
    "collapsed": false,
    "pycharm": {
     "name": "#%%\n"
    }
   }
  },
  {
   "cell_type": "code",
   "execution_count": 333,
   "outputs": [],
   "source": [
    "\"\"\"\n",
    "Remove the pattern of [ABCDEFG] and NAME:\n",
    "\"\"\"\n",
    "def remove_patterns(string):\n",
    "    pattern_1 = u\"\\\\(.*?\\\\)|\\\\[.*?]\"\n",
    "    string_1 = re.sub(pattern_1, \"\", string)\n",
    "    pattern_2 = r'[A-Z]+\\:'\n",
    "    string_2 = re.sub(pattern_2, \"\", string_1)\n",
    "    return string_2"
   ],
   "metadata": {
    "collapsed": false,
    "pycharm": {
     "name": "#%%\n"
    }
   }
  },
  {
   "cell_type": "code",
   "execution_count": 500,
   "outputs": [],
   "source": [
    "def get_alignment(tbbt, en_subtitle, other_subtitle, results, season_id, episode_id, bias):\n",
    "    # Fetch subset located by the stage-1 alignment\n",
    "    (en_subset, zh_subset, tbbt_episode) = fetch_subsets(\n",
    "        episode=tbbt,\n",
    "        en_subtitle=en_subtitle,\n",
    "        zh_subtitle=other_subtitle,\n",
    "        results=results,\n",
    "        season_id=season_id,\n",
    "        episode_id=episode_id,\n",
    "        bias=bias\n",
    "    )\n",
    "    epi2sub = alignment_seeds[(season_id,episode_id)]\n",
    "    gaps = get_final_stage_gap_pairs(epi2sub)\n",
    "    # print(gaps)\n",
    "    temp = {}\n",
    "    for (epi_start, epi_end) in gaps:\n",
    "        epi_ids = list(range(epi_start, epi_end+1))\n",
    "        sub_ids = gaps[(epi_start, epi_end)]\n",
    "\n",
    "        # print(sub_ids, \"|\", epi_ids)\n",
    "        # print(\"Subtitles:\")\n",
    "        # for sub_id in sub_ids:\n",
    "        #     print(transformation(remove_patterns(en_subset[sub_id])))\n",
    "        # print(\"Episodes:\")\n",
    "        # for epi_id in epi_ids:\n",
    "        #     print(transformation(remove_patterns(tbbt_episode[epi_id][0])))\n",
    "        # print('=='*50)\n",
    "\n",
    "\n",
    "        for sub_id in sub_ids:\n",
    "            sub_sent = transformation(remove_patterns(en_subset[sub_id]))\n",
    "            sub_tokens = sub_sent.strip().split(\" \")\n",
    "\n",
    "            all_epi_substrings = []\n",
    "            all_epi_substring_ids = []\n",
    "            for epi_id in epi_ids:\n",
    "                epi_sent = transformation(remove_patterns(tbbt_episode[epi_id][0]))\n",
    "                epi_substrings = get_substrings(epi_sent, len(sub_tokens))\n",
    "                for item in epi_substrings:\n",
    "                    all_epi_substrings.append(item)\n",
    "                    all_epi_substring_ids.append(epi_id)\n",
    "\n",
    "            if len(all_epi_substrings)!=0 and len(sub_sent)!=0:\n",
    "                cer, c_substring, c_ground_truth, c_score_idx = get_optimal_cer(sub_sent, all_epi_substrings)\n",
    "\n",
    "                if cer < 0.55:\n",
    "                    # for item in (cer, c_substring, c_ground_truth, c_score_idx):\n",
    "                    #     print(item)\n",
    "                    # print(all_epi_substring_ids, all_epi_substring_ids[c_score_idx])\n",
    "                    # print('--')\n",
    "                    temp[sub_id] = [all_epi_substring_ids[c_score_idx]]\n",
    "                else:\n",
    "                    wer, w_substring, w_ground_truth, w_score_idx = get_optimal_wer_from_episode(sub_sent, all_epi_substrings)\n",
    "                    if wer < 0.5:\n",
    "                        # for item in (wer, w_ground_truth, w_substring, w_score_idx):\n",
    "                        #     print(item)\n",
    "                        # print(all_epi_substring_ids, all_epi_substring_ids[w_score_idx])\n",
    "                        # print('--')\n",
    "                        temp[sub_id] = [all_epi_substring_ids[w_score_idx]]\n",
    "\n",
    "    sub2epi = turn_sub2epi_into_epi2sub(epi2sub)\n",
    "    # print(sub2epi)\n",
    "    for sub_id in temp:\n",
    "        sub2epi[sub_id] = temp[sub_id]\n",
    "    output = {}\n",
    "    for sub_id in sorted(list(sub2epi.keys())):\n",
    "        output[sub_id] = sub2epi[sub_id]\n",
    "\n",
    "    epi2sub = turn_sub2epi_into_epi2sub(output)\n",
    "    for epi_id in epi2sub:\n",
    "        sub_ids = epi2sub[epi_id]\n",
    "        num_epi_tokens = len(transformation(remove_patterns(tbbt_episode[epi_id][0])))\n",
    "        if len(sub_ids)!=max(sub_ids)-min(sub_ids)+1:\n",
    "            num_sub_tokens = 0\n",
    "            for sub_id in range(min(sub_ids), max(sub_ids)):\n",
    "                num_sub_tokens+=len(transformation(remove_patterns(en_subset[sub_id])))\n",
    "\n",
    "            print(num_epi_tokens, num_sub_tokens, str(abs(num_epi_tokens-num_sub_tokens)/num_epi_tokens*100)+\"%\")\n",
    "            if abs(num_epi_tokens-num_sub_tokens)/num_epi_tokens*100 < 100:\n",
    "                print(epi_id, epi2sub[epi_id])\n",
    "                epi2sub[epi_id] = list(range(min(sub_ids), max(sub_ids)+1))\n",
    "                print(epi_id, epi2sub[epi_id])\n",
    "            # print(epi_id, len(sub_ids),max(sub_ids)-min(sub_ids), min(sub_ids), max(sub_ids))\n",
    "            print()\n",
    "    return output\n"
   ],
   "metadata": {
    "collapsed": false,
    "pycharm": {
     "name": "#%%\n"
    }
   }
  },
  {
   "cell_type": "code",
   "execution_count": 501,
   "outputs": [
    {
     "name": "stdout",
     "output_type": "stream",
     "text": [
      "1 1\n",
      "298 262 12.080536912751679%\n",
      "161 [370, 372, 373, 374, 375, 376]\n",
      "161 [370, 371, 372, 373, 374, 375, 376]\n",
      "\n",
      "====================================================================================================\n",
      "1 2\n",
      "183 119 34.97267759562842%\n",
      "57 [238, 240, 241]\n",
      "57 [238, 239, 240, 241]\n",
      "\n",
      "2 38 1800.0%\n",
      "\n",
      "14 29 107.14285714285714%\n",
      "\n",
      "106 39 63.20754716981132%\n",
      "222 [453, 455]\n",
      "222 [453, 454, 455]\n",
      "\n",
      "====================================================================================================\n",
      "1 3\n",
      "117 83 29.059829059829063%\n",
      "26 [222, 224]\n",
      "26 [222, 223, 224]\n",
      "\n",
      "479 428 10.647181628392484%\n",
      "169 [409, 410, 411, 412, 413, 414, 416, 418, 420]\n",
      "169 [409, 410, 411, 412, 413, 414, 415, 416, 417, 418, 419, 420]\n",
      "\n",
      "199 113 43.21608040201005%\n",
      "242 [507, 509, 510]\n",
      "242 [507, 508, 509, 510]\n",
      "\n",
      "====================================================================================================\n",
      "1 4\n",
      "12 72 500.0%\n",
      "\n",
      "====================================================================================================\n",
      "1 5\n",
      "51 226 343.1372549019608%\n",
      "\n",
      "156 108 30.76923076923077%\n",
      "167 [408, 409, 410, 412, 413]\n",
      "167 [408, 409, 410, 411, 412, 413]\n",
      "\n",
      "75 47 37.333333333333336%\n",
      "210 [458, 460]\n",
      "210 [458, 459, 460]\n",
      "\n",
      "====================================================================================================\n",
      "1 6\n",
      "248 177 28.62903225806452%\n",
      "59 [262, 263, 265, 266, 267]\n",
      "59 [262, 263, 264, 265, 266, 267]\n",
      "\n",
      "106 62 41.509433962264154%\n",
      "92 [314, 317]\n",
      "92 [314, 315, 316, 317]\n",
      "\n",
      "334 277 17.065868263473057%\n",
      "223 [471, 472, 473, 474, 476]\n",
      "223 [471, 472, 473, 474, 475, 476]\n",
      "\n",
      "====================================================================================================\n",
      "1 7\n",
      "34 43 26.47058823529412%\n",
      "3 [183, 185]\n",
      "3 [183, 184, 185]\n",
      "\n",
      "16 86 437.5%\n",
      "\n",
      "169 177 4.733727810650888%\n",
      "97 [297, 299, 300, 301]\n",
      "97 [297, 298, 299, 300, 301]\n",
      "\n",
      "34 164 382.3529411764706%\n",
      "\n",
      "62 118 90.32258064516128%\n",
      "143 [345, 348]\n",
      "143 [345, 346, 347, 348]\n",
      "\n",
      "68 228 235.29411764705884%\n",
      "\n",
      "49 190 287.7551020408163%\n",
      "\n",
      "19 137 621.0526315789474%\n",
      "\n",
      "66 27 59.09090909090909%\n",
      "252 [483, 485]\n",
      "252 [483, 484, 485]\n",
      "\n",
      "15 82 446.6666666666667%\n",
      "\n",
      "41 156 280.4878048780488%\n",
      "\n",
      "33 87 163.63636363636365%\n",
      "\n",
      "====================================================================================================\n",
      "1 8\n",
      "107 152 42.05607476635514%\n",
      "111 [305, 306, 308, 311]\n",
      "111 [305, 306, 307, 308, 309, 310, 311]\n",
      "\n",
      "10 24 140.0%\n",
      "\n",
      "====================================================================================================\n",
      "1 9\n",
      "95 117 23.157894736842106%\n",
      "13 [216, 217, 220]\n",
      "13 [216, 217, 218, 219, 220]\n",
      "\n",
      "30 75 150.0%\n",
      "\n",
      "282 216 23.404255319148938%\n",
      "67 [295, 296, 297, 298, 300, 301]\n",
      "67 [295, 296, 297, 298, 299, 300, 301]\n",
      "\n",
      "74 54 27.027027027027028%\n",
      "99 [340, 342]\n",
      "99 [340, 341, 342]\n",
      "\n",
      "55 219 298.1818181818182%\n",
      "\n",
      "====================================================================================================\n",
      "1 10\n",
      "121 57 52.892561983471076%\n",
      "182 [417, 419]\n",
      "182 [417, 418, 419]\n",
      "\n",
      "====================================================================================================\n",
      "1 11\n",
      "36 116 222.22222222222223%\n",
      "\n",
      "58 240 313.7931034482759%\n",
      "\n",
      "192 163 15.104166666666666%\n",
      "139 [355, 356, 357, 359, 361]\n",
      "139 [355, 356, 357, 358, 359, 360, 361]\n",
      "\n",
      "====================================================================================================\n",
      "1 13\n",
      "22 43 95.45454545454545%\n",
      "9 [215, 218]\n",
      "9 [215, 216, 217, 218]\n",
      "\n",
      "152 602 296.0526315789474%\n",
      "\n",
      "====================================================================================================\n",
      "1 14\n",
      "116 130 12.068965517241379%\n",
      "0 [200, 201, 203]\n",
      "0 [200, 201, 202, 203]\n",
      "\n",
      "39 192 392.30769230769226%\n",
      "\n",
      "142 193 35.91549295774648%\n",
      "18 [221, 230]\n",
      "18 [221, 222, 223, 224, 225, 226, 227, 228, 229, 230]\n",
      "\n",
      "50 167 234.0%\n",
      "\n",
      "143 104 27.27272727272727%\n",
      "81 [305, 306, 307, 309]\n",
      "81 [305, 306, 307, 308, 309]\n",
      "\n",
      "223 199 10.762331838565023%\n",
      "205 [477, 478, 480, 481, 482]\n",
      "205 [477, 478, 479, 480, 481, 482]\n",
      "\n",
      "====================================================================================================\n",
      "1 15\n",
      "72 48 33.33333333333333%\n",
      "11 [192, 193, 195]\n",
      "11 [192, 193, 194, 195]\n",
      "\n",
      "47 117 148.93617021276594%\n",
      "\n",
      "19 247 1200.0%\n",
      "\n",
      "52 23 55.769230769230774%\n",
      "194 [449, 451]\n",
      "194 [449, 450, 451]\n",
      "\n",
      "====================================================================================================\n",
      "1 16\n",
      "139 126 9.352517985611511%\n",
      "121 [345, 346, 348, 350]\n",
      "121 [345, 346, 347, 348, 349, 350]\n",
      "\n",
      "54 28 48.148148148148145%\n",
      "186 [419, 421, 422]\n",
      "186 [419, 420, 421, 422]\n",
      "\n",
      "24 592 2366.666666666667%\n",
      "\n",
      "====================================================================================================\n",
      "2 1\n",
      "57 94 64.91228070175438%\n",
      "16 [196, 198]\n",
      "16 [196, 197, 198]\n",
      "\n",
      "281 245 12.811387900355871%\n",
      "117 [338, 339, 341]\n",
      "117 [338, 339, 340, 341]\n",
      "\n",
      "261 184 29.50191570881226%\n",
      "197 [441, 442, 443, 444, 445, 447]\n",
      "197 [441, 442, 443, 444, 445, 446, 447]\n",
      "\n",
      "====================================================================================================\n",
      "2 2\n",
      "13 183 1307.6923076923076%\n",
      "\n",
      "100 132 32.0%\n",
      "45 [256, 259, 260, 261]\n",
      "45 [256, 257, 258, 259, 260, 261]\n",
      "\n",
      "154 83 46.103896103896105%\n",
      "92 [323, 325, 326]\n",
      "92 [323, 324, 325, 326]\n",
      "\n",
      "====================================================================================================\n",
      "2 3\n",
      "82 148 80.48780487804879%\n",
      "21 [229, 233]\n",
      "21 [229, 230, 231, 232, 233]\n",
      "\n",
      "8 32 300.0%\n",
      "\n",
      "30 32 6.666666666666667%\n",
      "37 [245, 247]\n",
      "37 [245, 246, 247]\n",
      "\n",
      "====================================================================================================\n",
      "2 4\n",
      "85 224 163.52941176470588%\n",
      "\n",
      "286 206 27.972027972027973%\n",
      "222 [453, 455, 456, 457]\n",
      "222 [453, 454, 455, 456, 457]\n",
      "\n",
      "197 142 27.918781725888326%\n",
      "253 [501, 502, 503, 505]\n",
      "253 [501, 502, 503, 504, 505]\n",
      "\n",
      "====================================================================================================\n",
      "2 5\n",
      "86 97 12.790697674418606%\n",
      "9 [201, 203]\n",
      "9 [201, 202, 203]\n",
      "\n",
      "357 267 25.210084033613445%\n",
      "136 [371, 373, 374, 375, 376]\n",
      "136 [371, 372, 373, 374, 375, 376]\n",
      "\n",
      "====================================================================================================\n",
      "2 6\n",
      "86 126 46.51162790697674%\n",
      "9 [215, 218, 219]\n",
      "9 [215, 216, 217, 218, 219]\n",
      "\n",
      "30 123 310.0%\n",
      "\n",
      "517 212 58.99419729206963%\n",
      "150 [402, 409]\n",
      "150 [402, 403, 404, 405, 406, 407, 408, 409]\n",
      "\n",
      "====================================================================================================\n",
      "2 7\n",
      "14 64 357.14285714285717%\n",
      "\n",
      "19 53 178.94736842105263%\n",
      "\n",
      "39 157 302.56410256410254%\n",
      "\n",
      "365 333 8.767123287671232%\n",
      "240 [458, 459, 460, 461, 462, 463, 464, 465, 467]\n",
      "240 [458, 459, 460, 461, 462, 463, 464, 465, 466, 467]\n",
      "\n",
      "3 23 666.6666666666667%\n",
      "\n",
      "====================================================================================================\n",
      "2 8\n",
      "117 96 17.94871794871795%\n",
      "72 [269, 271, 272]\n",
      "72 [269, 270, 271, 272]\n",
      "\n",
      "9 47 422.22222222222223%\n",
      "\n",
      "28 44 57.14285714285714%\n",
      "110 [308, 310]\n",
      "110 [308, 309, 310]\n",
      "\n",
      "101 67 33.663366336633665%\n",
      "115 [313, 315, 316]\n",
      "115 [313, 314, 315, 316]\n",
      "\n",
      "28 60 114.28571428571428%\n",
      "\n",
      "34 128 276.4705882352941%\n",
      "\n",
      "7 26 271.42857142857144%\n",
      "\n",
      "247 109 55.87044534412956%\n",
      "202 [419, 421, 422]\n",
      "202 [419, 420, 421, 422]\n",
      "\n",
      "====================================================================================================\n",
      "2 9\n",
      "150 58 61.33333333333333%\n",
      "68 [289, 291, 292]\n",
      "68 [289, 290, 291, 292]\n",
      "\n",
      "125 78 37.6%\n",
      "125 [366, 367, 369]\n",
      "125 [366, 367, 368, 369]\n",
      "\n",
      "====================================================================================================\n",
      "2 10\n",
      "174 74 57.47126436781609%\n",
      "45 [261, 264]\n",
      "45 [261, 262, 263, 264]\n",
      "\n",
      "37 48 29.72972972972973%\n",
      "63 [286, 287, 289]\n",
      "63 [286, 287, 288, 289]\n",
      "\n",
      "68 35 48.529411764705884%\n",
      "78 [310, 311, 313]\n",
      "78 [310, 311, 312, 313]\n",
      "\n",
      "====================================================================================================\n",
      "2 11\n",
      "52 102 96.15384615384616%\n",
      "100 [300, 304]\n",
      "100 [300, 301, 302, 303, 304]\n",
      "\n",
      "====================================================================================================\n",
      "2 12\n",
      "272 478 75.73529411764706%\n",
      "45 [244, 245, 246, 247, 248, 256]\n",
      "45 [244, 245, 246, 247, 248, 249, 250, 251, 252, 253, 254, 255, 256]\n",
      "\n",
      "48 243 406.25%\n",
      "\n",
      "89 293 229.2134831460674%\n",
      "\n",
      "41 46 12.195121951219512%\n",
      "182 [457, 458, 460]\n",
      "182 [457, 458, 459, 460]\n",
      "\n",
      "13 36 176.9230769230769%\n",
      "\n",
      "11 23 109.09090909090908%\n",
      "\n",
      "====================================================================================================\n",
      "2 13\n",
      "14 311 2121.4285714285716%\n",
      "\n",
      "84 113 34.523809523809526%\n",
      "46 [257, 259, 260]\n",
      "46 [257, 258, 259, 260]\n",
      "\n",
      "247 170 31.17408906882591%\n",
      "58 [277, 278, 280, 281]\n",
      "58 [277, 278, 279, 280, 281]\n",
      "\n",
      "105 153 45.714285714285715%\n",
      "73 [304, 305, 308]\n",
      "73 [304, 305, 306, 307, 308]\n",
      "\n",
      "407 347 14.742014742014742%\n",
      "103 [344, 346, 347, 348, 349, 350, 351, 352, 353]\n",
      "103 [344, 345, 346, 347, 348, 349, 350, 351, 352, 353]\n",
      "\n",
      "331 236 28.700906344410875%\n",
      "183 [478, 479, 481, 482]\n",
      "183 [478, 479, 480, 481, 482]\n",
      "\n",
      "====================================================================================================\n",
      "2 14\n",
      "33 182 451.51515151515156%\n",
      "\n",
      "119 88 26.05042016806723%\n",
      "244 [483, 485, 486]\n",
      "244 [483, 484, 485, 486]\n",
      "\n",
      "====================================================================================================\n",
      "2 15\n",
      "88 26 70.45454545454545%\n",
      "44 [200, 202]\n",
      "44 [200, 201, 202]\n",
      "\n",
      "38 168 342.10526315789474%\n",
      "\n",
      "====================================================================================================\n",
      "2 16\n",
      "50 255 409.99999999999994%\n",
      "\n",
      "====================================================================================================\n",
      "2 17\n",
      "====================================================================================================\n",
      "2 18\n",
      "338 273 19.230769230769234%\n",
      "89 [268, 270, 271, 272]\n",
      "89 [268, 269, 270, 271, 272]\n",
      "\n",
      "5 486 9620.0%\n",
      "\n",
      "62 102 64.51612903225806%\n",
      "106 [303, 305]\n",
      "106 [303, 304, 305]\n",
      "\n",
      "46 51 10.869565217391305%\n",
      "128 [327, 329]\n",
      "128 [327, 328, 329]\n",
      "\n",
      "90 119 32.22222222222222%\n",
      "147 [350, 353, 354]\n",
      "147 [350, 351, 352, 353, 354]\n",
      "\n",
      "58 364 527.5862068965517%\n",
      "\n",
      "55 214 289.0909090909091%\n",
      "\n",
      "52 152 192.30769230769232%\n",
      "\n",
      "49 195 297.9591836734694%\n",
      "\n",
      "====================================================================================================\n",
      "2 19\n",
      "====================================================================================================\n",
      "2 20\n",
      "43 69 60.46511627906976%\n",
      "65 [266, 268]\n",
      "65 [266, 267, 268]\n",
      "\n",
      "37 75 102.7027027027027%\n",
      "\n",
      "153 96 37.254901960784316%\n",
      "219 [464, 466, 467]\n",
      "219 [464, 465, 466, 467]\n",
      "\n",
      "====================================================================================================\n",
      "2 21\n",
      "80 91 13.750000000000002%\n",
      "220 [464, 465, 469, 470]\n",
      "220 [464, 465, 466, 467, 468, 469, 470]\n",
      "\n",
      "====================================================================================================\n",
      "2 22\n",
      "30 406 1253.3333333333333%\n",
      "\n",
      "121 93 23.140495867768596%\n",
      "143 [377, 380]\n",
      "143 [377, 378, 379, 380]\n",
      "\n",
      "131 55 58.01526717557252%\n",
      "186 [436, 439]\n",
      "186 [436, 437, 438, 439]\n",
      "\n",
      "====================================================================================================\n",
      "2 23\n",
      "231 140 39.39393939393939%\n",
      "8 [200, 201, 203, 204]\n",
      "8 [200, 201, 202, 203, 204]\n",
      "\n",
      "5 24 380.0%\n",
      "\n",
      "7 24 242.85714285714283%\n",
      "\n",
      "====================================================================================================\n",
      "3 1\n",
      "440 404 8.181818181818182%\n",
      "4 [204, 205, 207, 208, 209, 210, 211, 212, 213]\n",
      "4 [204, 205, 206, 207, 208, 209, 210, 211, 212, 213]\n",
      "\n",
      "56 63 12.5%\n",
      "10 [218, 221]\n",
      "10 [218, 219, 220, 221]\n",
      "\n",
      "====================================================================================================\n",
      "3 2\n",
      "====================================================================================================\n",
      "3 3\n",
      "====================================================================================================\n",
      "3 4\n",
      "35 83 137.14285714285714%\n",
      "\n",
      "====================================================================================================\n",
      "3 5\n",
      "24 142 491.6666666666667%\n",
      "\n",
      "====================================================================================================\n",
      "3 6\n",
      "119 133 11.76470588235294%\n",
      "13 [215, 216, 217, 220]\n",
      "13 [215, 216, 217, 218, 219, 220]\n",
      "\n",
      "115 166 44.34782608695652%\n",
      "17 [221, 222, 224]\n",
      "17 [221, 222, 223, 224]\n",
      "\n",
      "63 324 414.28571428571433%\n",
      "\n",
      "74 56 24.324324324324326%\n",
      "163 [425, 427, 428, 429]\n",
      "163 [425, 426, 427, 428, 429]\n",
      "\n",
      "34 63 85.29411764705883%\n",
      "169 [436, 439]\n",
      "169 [436, 437, 438, 439]\n",
      "\n",
      "====================================================================================================\n",
      "3 7\n",
      "159 79 50.314465408805034%\n",
      "21 [197, 199]\n",
      "21 [197, 198, 199]\n",
      "\n",
      "13 142 992.3076923076924%\n",
      "\n",
      "40 47 17.5%\n",
      "76 [283, 285]\n",
      "76 [283, 284, 285]\n",
      "\n",
      "338 280 17.159763313609467%\n",
      "112 [335, 336, 337, 338, 340, 341, 342]\n",
      "112 [335, 336, 337, 338, 339, 340, 341, 342]\n",
      "\n",
      "79 42 46.835443037974684%\n",
      "224 [490, 492]\n",
      "224 [490, 491, 492]\n",
      "\n",
      "33 225 581.8181818181819%\n",
      "\n",
      "====================================================================================================\n",
      "3 8\n",
      "51 209 309.80392156862746%\n",
      "\n",
      "281 217 22.77580071174377%\n",
      "111 [306, 307, 308, 309, 311]\n",
      "111 [306, 307, 308, 309, 310, 311]\n",
      "\n",
      "22 182 727.2727272727273%\n",
      "\n",
      "====================================================================================================\n",
      "3 9\n",
      "====================================================================================================\n",
      "3 10\n",
      "83 88 6.024096385542169%\n",
      "52 [264, 265, 267]\n",
      "52 [264, 265, 266, 267]\n",
      "\n",
      "266 265 0.37593984962406013%\n",
      "130 [375, 377, 378, 379, 380, 381]\n",
      "130 [375, 376, 377, 378, 379, 380, 381]\n",
      "\n",
      "====================================================================================================\n",
      "3 11\n",
      "====================================================================================================\n",
      "3 12\n",
      "====================================================================================================\n",
      "3 13\n",
      "====================================================================================================\n",
      "3 14\n",
      "21 41 95.23809523809523%\n",
      "39 [246, 249]\n",
      "39 [246, 247, 248, 249]\n",
      "\n",
      "35 42 20.0%\n",
      "71 [273, 276]\n",
      "71 [273, 274, 275, 276]\n",
      "\n",
      "152 204 34.21052631578947%\n",
      "72 [277, 282, 283, 284]\n",
      "72 [277, 278, 279, 280, 281, 282, 283, 284]\n",
      "\n",
      "141 72 48.93617021276596%\n",
      "105 [331, 333]\n",
      "105 [331, 332, 333]\n",
      "\n",
      "88 67 23.863636363636363%\n",
      "132 [358, 362]\n",
      "132 [358, 359, 360, 361, 362]\n",
      "\n",
      "308 283 8.116883116883116%\n",
      "202 [460, 461, 462, 463, 464, 465, 466, 468, 469]\n",
      "202 [460, 461, 462, 463, 464, 465, 466, 467, 468, 469]\n",
      "\n",
      "====================================================================================================\n",
      "3 15\n",
      "122 76 37.704918032786885%\n",
      "0 [200, 202, 203]\n",
      "0 [200, 201, 202, 203]\n",
      "\n",
      "72 50 30.555555555555557%\n",
      "18 [230, 232]\n",
      "18 [230, 231, 232]\n",
      "\n",
      "====================================================================================================\n",
      "3 16\n",
      "216 275 27.314814814814813%\n",
      "12 [210, 212]\n",
      "12 [210, 211, 212]\n",
      "\n",
      "====================================================================================================\n",
      "3 17\n",
      "70 38 45.714285714285715%\n",
      "13 [205, 207]\n",
      "13 [205, 206, 207]\n",
      "\n",
      "35 48 37.142857142857146%\n",
      "30 [233, 235]\n",
      "30 [233, 234, 235]\n",
      "\n",
      "138 105 23.91304347826087%\n",
      "121 [366, 368, 369, 370]\n",
      "121 [366, 367, 368, 369, 370]\n",
      "\n",
      "70 97 38.57142857142858%\n",
      "183 [455, 456, 458]\n",
      "183 [455, 456, 457, 458]\n",
      "\n",
      "30 51 70.0%\n",
      "196 [483, 487]\n",
      "196 [483, 484, 485, 486, 487]\n",
      "\n",
      "====================================================================================================\n",
      "3 18\n",
      "226 137 39.38053097345133%\n",
      "123 [376, 378, 379]\n",
      "123 [376, 377, 378, 379]\n",
      "\n",
      "559 485 13.237924865831843%\n",
      "137 [405, 406, 407, 408, 409, 410, 411, 413, 414, 415, 417]\n",
      "137 [405, 406, 407, 408, 409, 410, 411, 412, 413, 414, 415, 416, 417]\n",
      "\n",
      "1018 1100 8.055009823182711%\n",
      "151 [435, 436, 437, 438, 439, 440, 441, 442, 443, 444, 445, 446, 447, 449, 450, 451, 452, 453, 455, 456, 457, 458, 464]\n",
      "151 [435, 436, 437, 438, 439, 440, 441, 442, 443, 444, 445, 446, 447, 448, 449, 450, 451, 452, 453, 454, 455, 456, 457, 458, 459, 460, 461, 462, 463, 464]\n",
      "\n",
      "====================================================================================================\n",
      "3 19\n",
      "74 58 21.62162162162162%\n",
      "66 [269, 271]\n",
      "66 [269, 270, 271]\n",
      "\n",
      "73 123 68.4931506849315%\n",
      "190 [434, 438, 440]\n",
      "190 [434, 435, 436, 437, 438, 439, 440]\n",
      "\n",
      "====================================================================================================\n",
      "3 20\n",
      "====================================================================================================\n",
      "3 21\n",
      "75 43 42.66666666666667%\n",
      "52 [265, 267]\n",
      "52 [265, 266, 267]\n",
      "\n",
      "====================================================================================================\n",
      "3 22\n",
      "10 182 1720.0%\n",
      "\n",
      "78 165 111.53846153846155%\n",
      "\n",
      "63 300 376.1904761904762%\n",
      "\n",
      "200 129 35.5%\n",
      "97 [308, 310, 311, 312]\n",
      "97 [308, 309, 310, 311, 312]\n",
      "\n",
      "186 68 63.44086021505376%\n",
      "99 [314, 315, 317]\n",
      "99 [314, 315, 316, 317]\n",
      "\n",
      "178 134 24.719101123595504%\n",
      "184 [415, 416, 417, 419]\n",
      "184 [415, 416, 417, 418, 419]\n",
      "\n",
      "====================================================================================================\n",
      "3 23\n",
      "107 256 139.25233644859813%\n",
      "\n",
      "125 207 65.60000000000001%\n",
      "66 [269, 275, 276]\n",
      "66 [269, 270, 271, 272, 273, 274, 275, 276]\n",
      "\n",
      "====================================================================================================\n",
      "4 1\n",
      "22 77 250.0%\n",
      "\n",
      "28 90 221.42857142857144%\n",
      "\n",
      "59 188 218.64406779661016%\n",
      "\n",
      "====================================================================================================\n",
      "4 2\n",
      "62 113 82.25806451612904%\n",
      "28 [236, 237, 239]\n",
      "28 [236, 237, 238, 239]\n",
      "\n",
      "====================================================================================================\n",
      "4 3\n",
      "20 115 475.0%\n",
      "\n",
      "48 52 8.333333333333332%\n",
      "268 [526, 527, 528, 530]\n",
      "268 [526, 527, 528, 529, 530]\n",
      "\n",
      "====================================================================================================\n",
      "4 4\n",
      "30 138 360.0%\n",
      "\n",
      "31 123 296.7741935483871%\n",
      "\n",
      "====================================================================================================\n",
      "4 5\n",
      "21 182 766.6666666666667%\n",
      "\n",
      "34 118 247.05882352941177%\n",
      "\n",
      "395 345 12.658227848101266%\n",
      "176 [405, 406, 407, 408, 413, 414, 415, 416, 417]\n",
      "176 [405, 406, 407, 408, 409, 410, 411, 412, 413, 414, 415, 416, 417]\n",
      "\n",
      "====================================================================================================\n",
      "4 6\n",
      "160 130 18.75%\n",
      "54 [255, 256, 257, 258, 259, 261]\n",
      "54 [255, 256, 257, 258, 259, 260, 261]\n",
      "\n",
      "====================================================================================================\n",
      "4 7\n",
      "256 218 14.84375%\n",
      "168 [416, 417, 420, 421, 422]\n",
      "168 [416, 417, 418, 419, 420, 421, 422]\n",
      "\n",
      "====================================================================================================\n",
      "4 8\n",
      "113 107 5.3097345132743365%\n",
      "68 [262, 263, 265, 266, 267]\n",
      "68 [262, 263, 264, 265, 266, 267]\n",
      "\n",
      "54 35 35.18518518518518%\n",
      "128 [358, 360]\n",
      "128 [358, 359, 360]\n",
      "\n",
      "416 305 26.682692307692307%\n",
      "133 [368, 369, 370, 371, 372, 373, 374, 375, 378]\n",
      "133 [368, 369, 370, 371, 372, 373, 374, 375, 376, 377, 378]\n",
      "\n",
      "109 67 38.53211009174312%\n",
      "205 [468, 470]\n",
      "205 [468, 469, 470]\n",
      "\n",
      "====================================================================================================\n",
      "4 9\n",
      "32 94 193.75%\n",
      "\n",
      "====================================================================================================\n",
      "4 10\n",
      "620 569 8.225806451612904%\n",
      "159 [391, 392, 393, 394, 395, 396, 397, 399, 400, 401, 402, 403, 405, 406]\n",
      "159 [391, 392, 393, 394, 395, 396, 397, 398, 399, 400, 401, 402, 403, 404, 405, 406]\n",
      "\n",
      "====================================================================================================\n",
      "4 11\n",
      "13 93 615.3846153846155%\n",
      "\n",
      "====================================================================================================\n",
      "4 12\n",
      "18 390 2066.666666666667%\n",
      "\n",
      "207 207 0.0%\n",
      "233 [497, 498, 499, 500, 501, 502, 508]\n",
      "233 [497, 498, 499, 500, 501, 502, 503, 504, 505, 506, 507, 508]\n",
      "\n",
      "====================================================================================================\n",
      "4 13\n",
      "====================================================================================================\n",
      "4 14\n",
      "56 151 169.64285714285714%\n",
      "\n",
      "102 64 37.254901960784316%\n",
      "212 [478, 479, 481]\n",
      "212 [478, 479, 480, 481]\n",
      "\n",
      "====================================================================================================\n",
      "4 15\n",
      "====================================================================================================\n",
      "4 17\n",
      "50 23 54.0%\n",
      "106 [339, 341]\n",
      "106 [339, 340, 341]\n",
      "\n",
      "====================================================================================================\n",
      "4 18\n",
      "22 21 4.545454545454546%\n",
      "133 [351, 353]\n",
      "133 [351, 352, 353]\n",
      "\n",
      "====================================================================================================\n",
      "4 19\n",
      "====================================================================================================\n",
      "4 20\n",
      "====================================================================================================\n",
      "4 21\n",
      "29 76 162.06896551724137%\n",
      "\n",
      "17 113 564.7058823529412%\n",
      "\n",
      "====================================================================================================\n",
      "4 22\n",
      "79 25 68.35443037974683%\n",
      "102 [331, 333]\n",
      "102 [331, 332, 333]\n",
      "\n",
      "43 44 2.3255813953488373%\n",
      "103 [332, 334]\n",
      "103 [332, 333, 334]\n",
      "\n",
      "87 46 47.12643678160919%\n",
      "108 [339, 341]\n",
      "108 [339, 340, 341]\n",
      "\n",
      "====================================================================================================\n",
      "4 23\n",
      "32 76 137.5%\n",
      "\n",
      "73 220 201.36986301369865%\n",
      "\n",
      "====================================================================================================\n",
      "4 24\n",
      "====================================================================================================\n",
      "5 1\n",
      "====================================================================================================\n",
      "5 2\n",
      "64 242 278.125%\n",
      "\n",
      "20 150 650.0%\n",
      "\n",
      "9 31 244.44444444444446%\n",
      "\n",
      "106 330 211.32075471698113%\n",
      "\n",
      "86 198 130.2325581395349%\n",
      "\n",
      "====================================================================================================\n",
      "5 3\n",
      "45 188 317.77777777777777%\n",
      "\n",
      "156 50 67.94871794871796%\n",
      "40 [255, 257]\n",
      "40 [255, 256, 257]\n",
      "\n",
      "23 128 456.52173913043475%\n",
      "\n",
      "26 59 126.92307692307692%\n",
      "\n",
      "====================================================================================================\n",
      "5 4\n",
      "59 71 20.33898305084746%\n",
      "19 [231, 234]\n",
      "19 [231, 232, 233, 234]\n",
      "\n",
      "83 347 318.0722891566265%\n",
      "\n",
      "90 100 11.11111111111111%\n",
      "27 [257, 258, 260]\n",
      "27 [257, 258, 259, 260]\n",
      "\n",
      "284 254 10.56338028169014%\n",
      "146 [445, 446, 447, 448, 449, 452]\n",
      "146 [445, 446, 447, 448, 449, 450, 451, 452]\n",
      "\n",
      "226 186 17.699115044247787%\n",
      "162 [479, 482, 483, 484, 485]\n",
      "162 [479, 480, 481, 482, 483, 484, 485]\n",
      "\n",
      "====================================================================================================\n",
      "5 5\n",
      "18 123 583.3333333333333%\n",
      "\n",
      "87 118 35.63218390804598%\n",
      "88 [290, 293, 294, 295]\n",
      "88 [290, 291, 292, 293, 294, 295]\n",
      "\n",
      "====================================================================================================\n",
      "5 6\n",
      "443 316 28.66817155756208%\n",
      "63 [297, 298, 299, 300, 302, 303, 304, 305]\n",
      "63 [297, 298, 299, 300, 301, 302, 303, 304, 305]\n",
      "\n",
      "====================================================================================================\n",
      "5 7\n",
      "201 260 29.35323383084577%\n",
      "8 [204, 205, 208]\n",
      "8 [204, 205, 206, 207, 208]\n",
      "\n",
      "19 278 1363.157894736842%\n",
      "\n",
      "91 98 7.6923076923076925%\n",
      "166 [446, 447, 449]\n",
      "166 [446, 447, 448, 449]\n",
      "\n",
      "====================================================================================================\n",
      "5 8\n",
      "5 51 919.9999999999999%\n",
      "\n",
      "152 86 43.42105263157895%\n",
      "123 [396, 397, 399]\n",
      "123 [396, 397, 398, 399]\n",
      "\n",
      "====================================================================================================\n",
      "5 9\n",
      "558 509 8.781362007168457%\n",
      "45 [243, 244, 245, 246, 248, 249, 250, 251, 252, 253, 254, 255, 256]\n",
      "45 [243, 244, 245, 246, 247, 248, 249, 250, 251, 252, 253, 254, 255, 256]\n",
      "\n",
      "====================================================================================================\n",
      "5 10\n",
      "25 34 36.0%\n",
      "43 [300, 301, 303]\n",
      "43 [300, 301, 302, 303]\n",
      "\n",
      "59 75 27.11864406779661%\n",
      "142 [459, 462, 464, 465]\n",
      "142 [459, 460, 461, 462, 463, 464, 465]\n",
      "\n",
      "====================================================================================================\n",
      "5 11\n",
      "====================================================================================================\n",
      "5 12\n",
      "89 184 106.74157303370787%\n",
      "\n",
      "====================================================================================================\n",
      "5 13\n",
      "====================================================================================================\n",
      "5 14\n",
      "61 175 186.88524590163937%\n",
      "\n",
      "76 81 6.578947368421052%\n",
      "44 [269, 270, 272]\n",
      "44 [269, 270, 271, 272]\n",
      "\n",
      "35 8 77.14285714285715%\n",
      "45 [271, 273]\n",
      "45 [271, 272, 273]\n",
      "\n",
      "====================================================================================================\n",
      "5 15\n",
      "286 211 26.223776223776223%\n",
      "124 [383, 384, 385, 387]\n",
      "124 [383, 384, 385, 386, 387]\n",
      "\n",
      "====================================================================================================\n",
      "5 16\n",
      "7 384 5385.714285714285%\n",
      "\n",
      "====================================================================================================\n",
      "5 17\n",
      "96 45 53.125%\n",
      "2 [196, 198]\n",
      "2 [196, 197, 198]\n",
      "\n",
      "37 369 897.2972972972974%\n",
      "\n",
      "75 290 286.6666666666667%\n",
      "\n",
      "45 49 8.88888888888889%\n",
      "31 [242, 244]\n",
      "31 [242, 243, 244]\n",
      "\n",
      "32 25 21.875%\n",
      "32 [243, 245, 246]\n",
      "32 [243, 244, 245, 246]\n",
      "\n",
      "52 288 453.8461538461538%\n",
      "\n",
      "====================================================================================================\n",
      "5 18\n",
      "140 86 38.57142857142858%\n",
      "44 [264, 265, 268, 269]\n",
      "44 [264, 265, 266, 267, 268, 269]\n",
      "\n",
      "310 204 34.193548387096776%\n",
      "108 [383, 385, 386, 387, 388]\n",
      "108 [383, 384, 385, 386, 387, 388]\n",
      "\n",
      "====================================================================================================\n",
      "5 19\n",
      "====================================================================================================\n",
      "5 20\n",
      "95 391 311.57894736842104%\n",
      "\n",
      "29 182 527.5862068965517%\n",
      "\n",
      "84 41 51.19047619047619%\n",
      "61 [277, 279]\n",
      "61 [277, 278, 279]\n",
      "\n",
      "179 43 75.97765363128491%\n",
      "138 [406, 408]\n",
      "138 [406, 407, 408]\n",
      "\n",
      "84 45 46.42857142857143%\n",
      "185 [491, 493]\n",
      "185 [491, 492, 493]\n",
      "\n",
      "====================================================================================================\n",
      "5 21\n",
      "====================================================================================================\n",
      "5 22\n",
      "61 70 14.754098360655737%\n",
      "21 [230, 231, 233]\n",
      "21 [230, 231, 232, 233]\n",
      "\n",
      "42 35 16.666666666666664%\n",
      "87 [360, 362, 363]\n",
      "87 [360, 361, 362, 363]\n",
      "\n",
      "====================================================================================================\n",
      "5 23\n",
      "310 267 13.870967741935484%\n",
      "103 [335, 336, 337, 338, 340, 341, 343, 344]\n",
      "103 [335, 336, 337, 338, 339, 340, 341, 342, 343, 344]\n",
      "\n",
      "72 1094 1419.4444444444446%\n",
      "\n",
      "====================================================================================================\n",
      "6 1\n",
      "98 138 40.816326530612244%\n",
      "52 [275, 278, 279]\n",
      "52 [275, 276, 277, 278, 279]\n",
      "\n",
      "====================================================================================================\n",
      "6 2\n",
      "====================================================================================================\n",
      "6 3\n",
      "18 83 361.11111111111114%\n",
      "\n",
      "34 692 1935.2941176470588%\n",
      "\n",
      "36 140 288.88888888888886%\n",
      "\n",
      "====================================================================================================\n",
      "6 4\n",
      "68 94 38.23529411764706%\n",
      "13 [217, 220]\n",
      "13 [217, 218, 219, 220]\n",
      "\n",
      "11 88 700.0%\n",
      "\n",
      "121 164 35.53719008264463%\n",
      "54 [275, 278, 279, 280, 281, 282]\n",
      "54 [275, 276, 277, 278, 279, 280, 281, 282]\n",
      "\n",
      "69 41 40.57971014492754%\n",
      "168 [421, 423, 424, 425]\n",
      "168 [421, 422, 423, 424, 425]\n",
      "\n",
      "====================================================================================================\n",
      "6 5\n",
      "124 115 7.258064516129033%\n",
      "28 [235, 239]\n",
      "28 [235, 236, 237, 238, 239]\n",
      "\n",
      "86 39 54.65116279069767%\n",
      "66 [285, 287]\n",
      "66 [285, 286, 287]\n",
      "\n",
      "182 118 35.16483516483517%\n",
      "218 [491, 492, 493, 494, 496]\n",
      "218 [491, 492, 493, 494, 495, 496]\n",
      "\n",
      "====================================================================================================\n",
      "6 6\n",
      "79 57 27.848101265822784%\n",
      "7 [209, 211]\n",
      "7 [209, 210, 211]\n",
      "\n",
      "89 188 111.23595505617978%\n",
      "\n",
      "166 122 26.506024096385545%\n",
      "150 [472, 475, 476]\n",
      "150 [472, 473, 474, 475, 476]\n",
      "\n",
      "====================================================================================================\n",
      "6 7\n",
      "====================================================================================================\n",
      "6 8\n",
      "88 271 207.95454545454547%\n",
      "\n",
      "113 43 61.94690265486725%\n",
      "232 [482, 484]\n",
      "232 [482, 483, 484]\n",
      "\n",
      "====================================================================================================\n",
      "6 9\n",
      "====================================================================================================\n",
      "6 10\n",
      "56 97 73.21428571428571%\n",
      "13 [217, 220]\n",
      "13 [217, 218, 219, 220]\n",
      "\n",
      "248 264 6.451612903225806%\n",
      "18 [226, 227, 228, 230]\n",
      "18 [226, 227, 228, 229, 230]\n",
      "\n",
      "15 77 413.33333333333337%\n",
      "\n",
      "47 249 429.7872340425532%\n",
      "\n",
      "====================================================================================================\n",
      "6 11\n",
      "27 38 40.74074074074074%\n",
      "204 [499, 501]\n",
      "204 [499, 500, 501]\n",
      "\n",
      "====================================================================================================\n",
      "6 12\n",
      "182 122 32.967032967032964%\n",
      "2 [195, 196, 198]\n",
      "2 [195, 196, 197, 198]\n",
      "\n",
      "14 128 814.2857142857142%\n",
      "\n",
      "19 55 189.4736842105263%\n",
      "\n",
      "407 336 17.444717444717444%\n",
      "78 [316, 317, 318, 319, 321]\n",
      "78 [316, 317, 318, 319, 320, 321]\n",
      "\n",
      "139 105 24.46043165467626%\n",
      "127 [392, 394, 395, 396]\n",
      "127 [392, 393, 394, 395, 396]\n",
      "\n",
      "====================================================================================================\n",
      "6 13\n",
      "29 78 168.9655172413793%\n",
      "\n",
      "232 56 75.86206896551724%\n",
      "96 [334, 335, 337]\n",
      "96 [334, 335, 336, 337]\n",
      "\n",
      "46 101 119.56521739130434%\n",
      "\n",
      "====================================================================================================\n",
      "6 14\n",
      "====================================================================================================\n",
      "6 15\n",
      "87 184 111.49425287356323%\n",
      "\n",
      "14 73 421.42857142857144%\n",
      "\n",
      "145 162 11.724137931034482%\n",
      "90 [332, 334, 335, 336, 337]\n",
      "90 [332, 333, 334, 335, 336, 337]\n",
      "\n",
      "====================================================================================================\n",
      "6 16\n",
      "27 181 570.3703703703703%\n",
      "\n",
      "====================================================================================================\n",
      "6 17\n",
      "393 355 9.669211195928753%\n",
      "0 [192, 193, 194, 195, 196, 198]\n",
      "0 [192, 193, 194, 195, 196, 197, 198]\n",
      "\n",
      "====================================================================================================\n",
      "6 18\n",
      "29 291 903.4482758620691%\n",
      "\n",
      "====================================================================================================\n",
      "6 19\n",
      "====================================================================================================\n",
      "6 20\n",
      "75 87 16.0%\n",
      "66 [269, 274]\n",
      "66 [269, 270, 271, 272, 273, 274]\n",
      "\n",
      "30 116 286.6666666666667%\n",
      "\n",
      "224 99 55.80357142857143%\n",
      "74 [284, 286, 287, 288, 289]\n",
      "74 [284, 285, 286, 287, 288, 289]\n",
      "\n",
      "====================================================================================================\n",
      "6 21\n",
      "====================================================================================================\n",
      "6 22\n",
      "22 248 1027.2727272727273%\n",
      "\n",
      "14 54 285.7142857142857%\n",
      "\n",
      "5 143 2760.0%\n",
      "\n",
      "207 136 34.29951690821256%\n",
      "139 [378, 379, 381]\n",
      "139 [378, 379, 380, 381]\n",
      "\n",
      "55 24 56.36363636363636%\n",
      "196 [471, 473]\n",
      "196 [471, 472, 473]\n",
      "\n",
      "====================================================================================================\n",
      "6 23\n",
      "====================================================================================================\n",
      "6 24\n",
      "96 101 5.208333333333334%\n",
      "24 [231, 233, 234, 236]\n",
      "24 [231, 232, 233, 234, 235, 236]\n",
      "\n",
      "69 25 63.76811594202898%\n",
      "70 [298, 300]\n",
      "70 [298, 299, 300]\n",
      "\n",
      "====================================================================================================\n",
      "7 1\n",
      "====================================================================================================\n",
      "7 2\n",
      "71 86 21.12676056338028%\n",
      "9 [211, 212, 215]\n",
      "9 [211, 212, 213, 214, 215]\n",
      "\n",
      "67 145 116.4179104477612%\n",
      "\n",
      "138 95 31.15942028985507%\n",
      "160 [437, 438, 440, 441, 442]\n",
      "160 [437, 438, 439, 440, 441, 442]\n",
      "\n",
      "====================================================================================================\n",
      "7 3\n",
      "55 85 54.54545454545454%\n",
      "242 [540, 542, 544]\n",
      "242 [540, 541, 542, 543, 544]\n",
      "\n",
      "====================================================================================================\n",
      "7 4\n",
      "11 21 90.9090909090909%\n",
      "1 [197, 199]\n",
      "1 [197, 198, 199]\n",
      "\n",
      "====================================================================================================\n",
      "7 5\n",
      "69 479 594.2028985507246%\n",
      "\n",
      "211 173 18.009478672985782%\n",
      "106 [345, 347, 348, 349, 350]\n",
      "106 [345, 346, 347, 348, 349, 350]\n",
      "\n",
      "====================================================================================================\n",
      "7 6\n",
      "250 187 25.2%\n",
      "55 [276, 277, 278, 279, 281]\n",
      "55 [276, 277, 278, 279, 280, 281]\n",
      "\n",
      "262 616 135.1145038167939%\n",
      "\n",
      "163 93 42.944785276073624%\n",
      "174 [481, 483, 484, 485]\n",
      "174 [481, 482, 483, 484, 485]\n",
      "\n",
      "====================================================================================================\n",
      "7 7\n",
      "52 174 234.6153846153846%\n",
      "\n",
      "43 102 137.2093023255814%\n",
      "\n",
      "78 95 21.794871794871796%\n",
      "28 [236, 237, 239]\n",
      "28 [236, 237, 238, 239]\n",
      "\n",
      "====================================================================================================\n",
      "7 8\n",
      "35 89 154.2857142857143%\n",
      "\n",
      "207 188 9.178743961352657%\n",
      "106 [356, 357, 358, 360, 361]\n",
      "106 [356, 357, 358, 359, 360, 361]\n",
      "\n",
      "====================================================================================================\n",
      "7 9\n",
      "====================================================================================================\n",
      "7 10\n",
      "355 313 11.830985915492958%\n",
      "81 [330, 331, 332, 333, 334, 335, 336, 338, 339]\n",
      "81 [330, 331, 332, 333, 334, 335, 336, 337, 338, 339]\n",
      "\n",
      "====================================================================================================\n",
      "7 11\n",
      "====================================================================================================\n",
      "7 13\n",
      "====================================================================================================\n",
      "7 14\n",
      "170 127 25.294117647058822%\n",
      "150 [414, 415, 417]\n",
      "150 [414, 415, 416, 417]\n",
      "\n",
      "====================================================================================================\n",
      "7 15\n",
      "190 164 13.684210526315791%\n",
      "24 [239, 240, 242, 243, 244]\n",
      "24 [239, 240, 241, 242, 243, 244]\n",
      "\n",
      "406 351 13.546798029556651%\n",
      "207 [514, 516, 517, 518, 519, 520, 521, 522, 523, 524]\n",
      "207 [514, 515, 516, 517, 518, 519, 520, 521, 522, 523, 524]\n",
      "\n",
      "136 121 11.029411764705882%\n",
      "212 [530, 531, 532, 534, 535]\n",
      "212 [530, 531, 532, 533, 534, 535]\n",
      "\n",
      "====================================================================================================\n",
      "7 16\n",
      "====================================================================================================\n",
      "7 17\n",
      "====================================================================================================\n",
      "7 18\n",
      "====================================================================================================\n",
      "7 19\n",
      "====================================================================================================\n",
      "7 20\n",
      "86 54 37.2093023255814%\n",
      "213 [509, 512]\n",
      "213 [509, 510, 511, 512]\n",
      "\n",
      "51 35 31.372549019607842%\n",
      "215 [517, 519]\n",
      "215 [517, 518, 519]\n",
      "\n",
      "====================================================================================================\n",
      "7 21\n",
      "174 263 51.14942528735632%\n",
      "7 [209, 210, 212, 213]\n",
      "7 [209, 210, 211, 212, 213]\n",
      "\n",
      "77 114 48.05194805194805%\n",
      "8 [211, 214]\n",
      "8 [211, 212, 213, 214]\n",
      "\n",
      "29 128 341.37931034482756%\n",
      "\n",
      "====================================================================================================\n",
      "7 22\n",
      "15 85 466.6666666666667%\n",
      "\n",
      "====================================================================================================\n",
      "7 23\n",
      "14 209 1392.857142857143%\n",
      "\n",
      "20 81 305.0%\n",
      "\n",
      "====================================================================================================\n",
      "7 24\n",
      "====================================================================================================\n",
      "8 1\n",
      "127 29 77.16535433070865%\n",
      "137 [457, 459]\n",
      "137 [457, 458, 459]\n",
      "\n",
      "39 46 17.94871794871795%\n",
      "168 [509, 510, 512]\n",
      "168 [509, 510, 511, 512]\n",
      "\n",
      "====================================================================================================\n",
      "8 2\n",
      "====================================================================================================\n",
      "8 3\n",
      "18 167 827.7777777777778%\n",
      "\n",
      "107 32 70.09345794392523%\n",
      "81 [295, 297, 298]\n",
      "81 [295, 296, 297, 298]\n",
      "\n",
      "====================================================================================================\n",
      "8 4\n",
      "46 351 663.0434782608695%\n",
      "\n",
      "174 127 27.011494252873565%\n",
      "74 [304, 306, 307, 308]\n",
      "74 [304, 305, 306, 307, 308]\n",
      "\n",
      "====================================================================================================\n",
      "8 5\n",
      "3 121 3933.3333333333335%\n",
      "\n",
      "122 120 1.639344262295082%\n",
      "137 [338, 342, 343, 344]\n",
      "137 [338, 339, 340, 341, 342, 343, 344]\n",
      "\n",
      "12 40 233.33333333333334%\n",
      "\n",
      "====================================================================================================\n",
      "8 6\n",
      "17 74 335.29411764705884%\n",
      "\n",
      "30 64 113.33333333333333%\n",
      "\n",
      "409 386 5.623471882640587%\n",
      "222 [501, 502, 503, 504, 505, 506, 507, 508, 509, 511]\n",
      "222 [501, 502, 503, 504, 505, 506, 507, 508, 509, 510, 511]\n",
      "\n",
      "====================================================================================================\n",
      "8 8\n",
      "37 321 767.5675675675675%\n",
      "\n",
      "116 96 17.24137931034483%\n",
      "214 [508, 510, 511, 513]\n",
      "214 [508, 509, 510, 511, 512, 513]\n",
      "\n",
      "====================================================================================================\n",
      "8 9\n",
      "====================================================================================================\n",
      "8 10\n",
      "53 62 16.9811320754717%\n",
      "33 [257, 258, 260]\n",
      "33 [257, 258, 259, 260]\n",
      "\n",
      "55 17 69.0909090909091%\n",
      "34 [259, 261]\n",
      "34 [259, 260, 261]\n",
      "\n",
      "====================================================================================================\n",
      "8 11\n",
      "====================================================================================================\n",
      "8 12\n",
      "44 410 831.8181818181819%\n",
      "\n",
      "====================================================================================================\n",
      "8 13\n",
      "93 300 222.5806451612903%\n",
      "\n",
      "15 31 106.66666666666667%\n",
      "\n",
      "264 209 20.833333333333336%\n",
      "52 [276, 278, 279, 280]\n",
      "52 [276, 277, 278, 279, 280]\n",
      "\n",
      "34 32 5.88235294117647%\n",
      "144 [431, 435, 436]\n",
      "144 [431, 432, 433, 434, 435, 436]\n",
      "\n",
      "====================================================================================================\n",
      "8 15\n",
      "66 352 433.3333333333333%\n",
      "\n",
      "53 364 586.7924528301887%\n",
      "\n",
      "213 191 10.328638497652582%\n",
      "137 [405, 406, 408, 409, 410]\n",
      "137 [405, 406, 407, 408, 409, 410]\n",
      "\n",
      "78 34 56.41025641025641%\n",
      "232 [538, 540]\n",
      "232 [538, 539, 540]\n",
      "\n",
      "====================================================================================================\n",
      "8 16\n",
      "77 128 66.23376623376623%\n",
      "8 [211, 212, 214]\n",
      "8 [211, 212, 213, 214]\n",
      "\n",
      "====================================================================================================\n",
      "8 17\n",
      "153 255 66.66666666666666%\n",
      "0 [195, 196, 197, 198, 203]\n",
      "0 [195, 196, 197, 198, 199, 200, 201, 202, 203]\n",
      "\n",
      "27 108 300.0%\n",
      "\n",
      "96 65 32.29166666666667%\n",
      "45 [265, 267]\n",
      "45 [265, 266, 267]\n",
      "\n",
      "411 414 0.7299270072992701%\n",
      "143 [435, 436, 437, 438, 439, 440, 441, 442, 443, 445]\n",
      "143 [435, 436, 437, 438, 439, 440, 441, 442, 443, 444, 445]\n",
      "\n",
      "====================================================================================================\n",
      "8 18\n",
      "====================================================================================================\n",
      "8 19\n",
      "10 90 800.0%\n",
      "\n",
      "====================================================================================================\n",
      "8 20\n",
      "59 107 81.35593220338984%\n",
      "86 [289, 294, 295]\n",
      "86 [289, 290, 291, 292, 293, 294, 295]\n",
      "\n",
      "84 64 23.809523809523807%\n",
      "168 [426, 428]\n",
      "168 [426, 427, 428]\n",
      "\n",
      "====================================================================================================\n",
      "8 21\n",
      "223 208 6.726457399103139%\n",
      "4 [173, 174, 178, 179, 180]\n",
      "4 [173, 174, 175, 176, 177, 178, 179, 180]\n",
      "\n",
      "30 58 93.33333333333333%\n",
      "45 [253, 256]\n",
      "45 [253, 254, 255, 256]\n",
      "\n",
      "====================================================================================================\n",
      "8 22\n",
      "140 109 22.142857142857142%\n",
      "30 [241, 244, 245]\n",
      "30 [241, 242, 243, 244, 245]\n",
      "\n",
      "52 47 9.615384615384617%\n",
      "129 [396, 398]\n",
      "129 [396, 397, 398]\n",
      "\n",
      "====================================================================================================\n",
      "8 23\n",
      "====================================================================================================\n",
      "8 24\n",
      "21 158 652.3809523809524%\n",
      "\n",
      "76 97 27.631578947368425%\n",
      "17 [226, 228]\n",
      "17 [226, 227, 228]\n",
      "\n",
      "20 47 135.0%\n",
      "\n",
      "29 62 113.79310344827587%\n",
      "\n",
      "284 286 0.7042253521126761%\n",
      "205 [485, 486, 487, 488, 490]\n",
      "205 [485, 486, 487, 488, 489, 490]\n",
      "\n",
      "124 130 4.838709677419355%\n",
      "236 [527, 528, 530]\n",
      "236 [527, 528, 529, 530]\n",
      "\n",
      "====================================================================================================\n",
      "9 1\n",
      "17 124 629.4117647058823%\n",
      "\n",
      "274 196 28.467153284671532%\n",
      "130 [380, 381, 382, 383, 385, 386, 387]\n",
      "130 [380, 381, 382, 383, 384, 385, 386, 387]\n",
      "\n",
      "====================================================================================================\n",
      "9 2\n",
      "664 561 15.512048192771086%\n",
      "120 [381, 382, 384, 385, 386, 387, 388, 389, 390, 391, 392, 393, 394]\n",
      "120 [381, 382, 383, 384, 385, 386, 387, 388, 389, 390, 391, 392, 393, 394]\n",
      "\n",
      "====================================================================================================\n",
      "9 3\n",
      "45 38 15.555555555555555%\n",
      "28 [239, 241]\n",
      "28 [239, 240, 241]\n",
      "\n",
      "169 71 57.98816568047337%\n",
      "194 [499, 501, 505]\n",
      "194 [499, 500, 501, 502, 503, 504, 505]\n",
      "\n",
      "====================================================================================================\n",
      "9 4\n",
      "102 594 482.35294117647055%\n",
      "\n",
      "190 194 2.1052631578947367%\n",
      "71 [292, 293, 294, 295, 297, 298]\n",
      "71 [292, 293, 294, 295, 296, 297, 298]\n",
      "\n",
      "87 128 47.12643678160919%\n",
      "76 [306, 307, 308, 310, 311]\n",
      "76 [306, 307, 308, 309, 310, 311]\n",
      "\n",
      "====================================================================================================\n",
      "9 5\n",
      "7 330 4614.285714285715%\n",
      "\n",
      "272 179 34.19117647058824%\n",
      "67 [317, 318, 320, 321, 322, 323, 324, 325, 326, 327, 328, 329]\n",
      "67 [317, 318, 319, 320, 321, 322, 323, 324, 325, 326, 327, 328, 329]\n",
      "\n",
      "60 102 70.0%\n",
      "78 [354, 355, 357, 358, 359]\n",
      "78 [354, 355, 356, 357, 358, 359]\n",
      "\n",
      "====================================================================================================\n",
      "9 6\n",
      "165 102 38.18181818181819%\n",
      "59 [257, 259, 260]\n",
      "59 [257, 258, 259, 260]\n",
      "\n",
      "37 57 54.054054054054056%\n",
      "72 [277, 279]\n",
      "72 [277, 278, 279]\n",
      "\n",
      "32 25 21.875%\n",
      "188 [479, 481, 482]\n",
      "188 [479, 480, 481, 482]\n",
      "\n",
      "19 31 63.1578947368421%\n",
      "189 [480, 483]\n",
      "189 [480, 481, 482, 483]\n",
      "\n",
      "38 24 36.84210526315789%\n",
      "216 [520, 522, 523]\n",
      "216 [520, 521, 522, 523]\n",
      "\n",
      "====================================================================================================\n",
      "9 7\n",
      "175 131 25.142857142857146%\n",
      "21 [225, 227, 228, 229]\n",
      "21 [225, 226, 227, 228, 229]\n",
      "\n",
      "360 308 14.444444444444443%\n",
      "56 [285, 286, 287, 288, 290, 291, 293]\n",
      "56 [285, 286, 287, 288, 289, 290, 291, 292, 293]\n",
      "\n",
      "395 339 14.177215189873419%\n",
      "112 [377, 379, 380, 381, 382, 383, 384, 385]\n",
      "112 [377, 378, 379, 380, 381, 382, 383, 384, 385]\n",
      "\n",
      "174 153 12.068965517241379%\n",
      "146 [441, 442, 443, 444, 445, 448]\n",
      "146 [441, 442, 443, 444, 445, 446, 447, 448]\n",
      "\n",
      "262 143 45.41984732824427%\n",
      "193 [516, 518, 519, 520, 521]\n",
      "193 [516, 517, 518, 519, 520, 521]\n",
      "\n",
      "====================================================================================================\n",
      "9 9\n",
      "====================================================================================================\n",
      "9 10\n",
      "14 22 57.14285714285714%\n",
      "25 [249, 250, 252]\n",
      "25 [249, 250, 251, 252]\n",
      "\n",
      "71 50 29.577464788732392%\n",
      "96 [387, 390]\n",
      "96 [387, 388, 389, 390]\n",
      "\n",
      "262 246 6.106870229007633%\n",
      "143 [478, 479, 480, 482, 483, 485, 486]\n",
      "143 [478, 479, 480, 481, 482, 483, 484, 485, 486]\n",
      "\n",
      "====================================================================================================\n",
      "9 11\n",
      "143 231 61.53846153846154%\n",
      "45 [249, 250, 251, 255]\n",
      "45 [249, 250, 251, 252, 253, 254, 255]\n",
      "\n",
      "17 11 35.294117647058826%\n",
      "66 [282, 284]\n",
      "66 [282, 283, 284]\n",
      "\n",
      "79 93 17.72151898734177%\n",
      "116 [359, 361]\n",
      "116 [359, 360, 361]\n",
      "\n",
      "34 51 50.0%\n",
      "222 [512, 516]\n",
      "222 [512, 513, 514, 515, 516]\n",
      "\n",
      "69 21 69.56521739130434%\n",
      "224 [515, 517]\n",
      "224 [515, 516, 517]\n",
      "\n",
      "====================================================================================================\n",
      "9 12\n",
      "118 266 125.42372881355932%\n",
      "\n",
      "====================================================================================================\n",
      "9 13\n",
      "113 80 29.20353982300885%\n",
      "139 [413, 415]\n",
      "139 [413, 414, 415]\n",
      "\n",
      "====================================================================================================\n",
      "9 14\n",
      "204 308 50.98039215686274%\n",
      "13 [190, 191, 192, 193, 196]\n",
      "13 [190, 191, 192, 193, 194, 195, 196]\n",
      "\n",
      "79 85 7.59493670886076%\n",
      "229 [548, 549, 551]\n",
      "229 [548, 549, 550, 551]\n",
      "\n",
      "====================================================================================================\n",
      "9 15\n",
      "67 102 52.23880597014925%\n",
      "24 [232, 233, 236]\n",
      "24 [232, 233, 234, 235, 236]\n",
      "\n",
      "====================================================================================================\n",
      "9 16\n",
      "93 168 80.64516129032258%\n",
      "5 [204, 205, 206, 207, 208, 212]\n",
      "5 [204, 205, 206, 207, 208, 209, 210, 211, 212]\n",
      "\n",
      "120 76 36.666666666666664%\n",
      "66 [310, 311, 313]\n",
      "66 [310, 311, 312, 313]\n",
      "\n",
      "53 157 196.22641509433961%\n",
      "\n",
      "111 93 16.216216216216218%\n",
      "194 [504, 506, 507, 508]\n",
      "194 [504, 505, 506, 507, 508]\n",
      "\n",
      "47 242 414.89361702127655%\n",
      "\n",
      "====================================================================================================\n",
      "9 24\n",
      "86 37 56.97674418604651%\n",
      "23 [226, 229, 230]\n",
      "23 [226, 227, 228, 229, 230]\n",
      "\n",
      "====================================================================================================\n"
     ]
    }
   ],
   "source": [
    "further_alignment = {}\n",
    "for (i, j) in list(alignment_seeds.keys()):\n",
    "    print(i, j)\n",
    "    temp = get_alignment(tbbt_transcripts, en_subtitle, zh_subtitle, results, i, j, 200)\n",
    "    further_alignment[(i,j)] = turn_sub2epi_into_epi2sub(temp)\n",
    "    print('=='*50)"
   ],
   "metadata": {
    "collapsed": false,
    "pycharm": {
     "name": "#%%\n"
    }
   }
  },
  {
   "cell_type": "code",
   "execution_count": 502,
   "outputs": [],
   "source": [
    "with open('alignment_results/zh/ultimate_data.pkl', 'wb') as f:\n",
    "    pkl.dump(further_alignment, f)"
   ],
   "metadata": {
    "collapsed": false,
    "pycharm": {
     "name": "#%%\n"
    }
   }
  },
  {
   "cell_type": "markdown",
   "source": [
    "## Check Alignment Precentage"
   ],
   "metadata": {
    "collapsed": false,
    "pycharm": {
     "name": "#%% md\n"
    }
   }
  },
  {
   "cell_type": "code",
   "execution_count": null,
   "outputs": [],
   "source": [],
   "metadata": {
    "collapsed": false,
    "pycharm": {
     "name": "#%%\n"
    }
   }
  },
  {
   "cell_type": "code",
   "execution_count": null,
   "outputs": [],
   "source": [],
   "metadata": {
    "collapsed": false,
    "pycharm": {
     "name": "#%%\n"
    }
   }
  },
  {
   "cell_type": "code",
   "execution_count": null,
   "outputs": [],
   "source": [],
   "metadata": {
    "collapsed": false,
    "pycharm": {
     "name": "#%%\n"
    }
   }
  },
  {
   "cell_type": "code",
   "execution_count": null,
   "outputs": [],
   "source": [],
   "metadata": {
    "collapsed": false,
    "pycharm": {
     "name": "#%%\n"
    }
   }
  },
  {
   "cell_type": "code",
   "execution_count": null,
   "outputs": [],
   "source": [],
   "metadata": {
    "collapsed": false,
    "pycharm": {
     "name": "#%%\n"
    }
   }
  },
  {
   "cell_type": "code",
   "execution_count": null,
   "outputs": [],
   "source": [],
   "metadata": {
    "collapsed": false,
    "pycharm": {
     "name": "#%%\n"
    }
   }
  },
  {
   "cell_type": "code",
   "execution_count": null,
   "outputs": [],
   "source": [],
   "metadata": {
    "collapsed": false,
    "pycharm": {
     "name": "#%%\n"
    }
   }
  },
  {
   "cell_type": "code",
   "execution_count": null,
   "outputs": [],
   "source": [],
   "metadata": {
    "collapsed": false,
    "pycharm": {
     "name": "#%%\n"
    }
   }
  },
  {
   "cell_type": "code",
   "execution_count": null,
   "outputs": [],
   "source": [],
   "metadata": {
    "collapsed": false,
    "pycharm": {
     "name": "#%%\n"
    }
   }
  },
  {
   "cell_type": "code",
   "execution_count": null,
   "outputs": [],
   "source": [],
   "metadata": {
    "collapsed": false,
    "pycharm": {
     "name": "#%%\n"
    }
   }
  },
  {
   "cell_type": "code",
   "execution_count": null,
   "outputs": [],
   "source": [],
   "metadata": {
    "collapsed": false,
    "pycharm": {
     "name": "#%%\n"
    }
   }
  },
  {
   "cell_type": "code",
   "execution_count": null,
   "outputs": [],
   "source": [],
   "metadata": {
    "collapsed": false,
    "pycharm": {
     "name": "#%%\n"
    }
   }
  },
  {
   "cell_type": "code",
   "execution_count": null,
   "outputs": [],
   "source": [],
   "metadata": {
    "collapsed": false,
    "pycharm": {
     "name": "#%%\n"
    }
   }
  },
  {
   "cell_type": "code",
   "execution_count": null,
   "outputs": [],
   "source": [],
   "metadata": {
    "collapsed": false,
    "pycharm": {
     "name": "#%%\n"
    }
   }
  },
  {
   "cell_type": "code",
   "execution_count": null,
   "outputs": [],
   "source": [],
   "metadata": {
    "collapsed": false,
    "pycharm": {
     "name": "#%%\n"
    }
   }
  },
  {
   "cell_type": "code",
   "execution_count": null,
   "outputs": [],
   "source": [],
   "metadata": {
    "collapsed": false,
    "pycharm": {
     "name": "#%%\n"
    }
   }
  },
  {
   "cell_type": "code",
   "execution_count": null,
   "outputs": [],
   "source": [],
   "metadata": {
    "collapsed": false,
    "pycharm": {
     "name": "#%%\n"
    }
   }
  },
  {
   "cell_type": "code",
   "execution_count": null,
   "outputs": [],
   "source": [],
   "metadata": {
    "collapsed": false,
    "pycharm": {
     "name": "#%%\n"
    }
   }
  },
  {
   "cell_type": "code",
   "execution_count": null,
   "outputs": [],
   "source": [],
   "metadata": {
    "collapsed": false,
    "pycharm": {
     "name": "#%%\n"
    }
   }
  },
  {
   "cell_type": "code",
   "execution_count": null,
   "outputs": [],
   "source": [],
   "metadata": {
    "collapsed": false,
    "pycharm": {
     "name": "#%%\n"
    }
   }
  },
  {
   "cell_type": "code",
   "execution_count": null,
   "outputs": [],
   "source": [],
   "metadata": {
    "collapsed": false,
    "pycharm": {
     "name": "#%%\n"
    }
   }
  },
  {
   "cell_type": "code",
   "execution_count": 448,
   "outputs": [
    {
     "name": "stdout",
     "output_type": "stream",
     "text": [
      "1 1\n",
      "no it s not crazy it s uh uh it s a paradox and paradoxes are part of nature think about light now if you look at huygens light is a wave as confirmed by the double slit experiments but then along comes albert einstein and discovers that light behaves like particles too well i didn t make it worse\n",
      "no it is not crazy it is a it is a paradox paradoxes are part of nature i mean think about light if you look at huygens light is a wave as confirmed by the doubleslit experiments but then along comes albert einstein and discovers that light behaves like particles too\n",
      "161 [370, 372, 373, 374, 375] 1 60 51 0.35294117647058826\n",
      "--\n",
      "====================================================================================================\n"
     ]
    },
    {
     "ename": "NameError",
     "evalue": "name 'epi2sub' is not defined",
     "output_type": "error",
     "traceback": [
      "\u001B[0;31m---------------------------------------------------------------------------\u001B[0m",
      "\u001B[0;31mNameError\u001B[0m                                 Traceback (most recent call last)",
      "\u001B[0;32m/var/folders/w9/673mfrb56v7dvx7hhvw7s6240000gn/T/ipykernel_1465/1384531709.py\u001B[0m in \u001B[0;36m<module>\u001B[0;34m\u001B[0m\n\u001B[1;32m     40\u001B[0m \u001B[0mfurther_alignment\u001B[0m \u001B[0;34m=\u001B[0m \u001B[0;34m{\u001B[0m\u001B[0;34m}\u001B[0m\u001B[0;34m\u001B[0m\u001B[0;34m\u001B[0m\u001B[0m\n\u001B[1;32m     41\u001B[0m \u001B[0;32mfor\u001B[0m \u001B[0;34m(\u001B[0m\u001B[0mi\u001B[0m\u001B[0;34m,\u001B[0m \u001B[0mj\u001B[0m\u001B[0;34m)\u001B[0m \u001B[0;32min\u001B[0m \u001B[0malignment_seeds\u001B[0m\u001B[0;34m.\u001B[0m\u001B[0mkeys\u001B[0m\u001B[0;34m(\u001B[0m\u001B[0;34m)\u001B[0m\u001B[0;34m:\u001B[0m\u001B[0;34m\u001B[0m\u001B[0;34m\u001B[0m\u001B[0m\n\u001B[0;32m---> 42\u001B[0;31m     \u001B[0mtemp\u001B[0m \u001B[0;34m=\u001B[0m \u001B[0mcheck_alignment\u001B[0m\u001B[0;34m(\u001B[0m\u001B[0mtbbt_transcripts\u001B[0m\u001B[0;34m,\u001B[0m \u001B[0men_subtitle\u001B[0m\u001B[0;34m,\u001B[0m \u001B[0mzh_subtitle\u001B[0m\u001B[0;34m,\u001B[0m \u001B[0mresults\u001B[0m\u001B[0;34m,\u001B[0m \u001B[0mi\u001B[0m\u001B[0;34m,\u001B[0m \u001B[0mj\u001B[0m\u001B[0;34m,\u001B[0m \u001B[0;36m200\u001B[0m\u001B[0;34m)\u001B[0m\u001B[0;34m\u001B[0m\u001B[0;34m\u001B[0m\u001B[0m\n\u001B[0m",
      "\u001B[0;32m/var/folders/w9/673mfrb56v7dvx7hhvw7s6240000gn/T/ipykernel_1465/1384531709.py\u001B[0m in \u001B[0;36mcheck_alignment\u001B[0;34m(tbbt, en_subtitle, other_subtitle, results, season_id, episode_id, bias)\u001B[0m\n\u001B[1;32m     35\u001B[0m     \u001B[0;31m# print(\"==\"*50)\u001B[0m\u001B[0;34m\u001B[0m\u001B[0;34m\u001B[0m\u001B[0;34m\u001B[0m\u001B[0m\n\u001B[1;32m     36\u001B[0m \u001B[0;34m\u001B[0m\u001B[0m\n\u001B[0;32m---> 37\u001B[0;31m     \u001B[0;32mreturn\u001B[0m \u001B[0mepi2sub\u001B[0m\u001B[0;34m\u001B[0m\u001B[0;34m\u001B[0m\u001B[0m\n\u001B[0m\u001B[1;32m     38\u001B[0m \u001B[0;34m\u001B[0m\u001B[0m\n\u001B[1;32m     39\u001B[0m \u001B[0;34m\u001B[0m\u001B[0m\n",
      "\u001B[0;31mNameError\u001B[0m: name 'epi2sub' is not defined"
     ]
    }
   ],
   "source": [
    "# Check the result\n",
    "def check_alignment(tbbt, en_subtitle, other_subtitle, results, season_id, episode_id, bias):\n",
    "    # Fetch subset located by the stage-1 alignment\n",
    "    (en_subset, zh_subset, tbbt_episode) = fetch_subsets(\n",
    "        episode=tbbt,\n",
    "        en_subtitle=en_subtitle,\n",
    "        zh_subtitle=other_subtitle,\n",
    "        results=results,\n",
    "        season_id=season_id,\n",
    "        episode_id=episode_id,\n",
    "        bias=bias\n",
    "    )\n",
    "    print(season_id, episode_id)\n",
    "    alignment = alignment_seeds[(season_id,episode_id)]\n",
    "    for epi_id in alignment:\n",
    "        if len(alignment[epi_id])!=max(alignment[epi_id])-min(alignment[epi_id])+1:\n",
    "        # if max(temp[epi_id])-min(temp[epi_id])+1-len(temp[epi_id])==2:\n",
    "            epi = transformation(tbbt_episode[epi_id][0].replace(\"’\", \" \").replace('…', \" \"))\n",
    "            sub_ids = [i for i in range(min(alignment[epi_id]), max(alignment[epi_id])+1)]\n",
    "            sub = \" \".join([transformation(en_subset[i].replace(\"’\", \" \").replace('…', \" \")) for i in sub_ids])\n",
    "            print(epi)\n",
    "            print(sub)\n",
    "            print(epi_id, alignment[epi_id], max(alignment[epi_id])-min(alignment[epi_id])+1-len(alignment[epi_id]), len(epi.strip().split(\" \")), len(sub.strip().split(\" \")), jiwer.wer(sub, epi))\n",
    "            print('--')\n",
    "\n",
    "\n",
    "    print(\"==\"*50)\n",
    "\n",
    "    # print(season_id, episode_id)\n",
    "    # alignment = alignment_seeds[(season_id,episode_id)]\n",
    "    # for item in alignment:\n",
    "    #     epi = transformation(tbbt_episode[item][0].replace(\"’\", \" \").replace('…', \" \"))\n",
    "    #     sub = \" \".join([transformation(en_subset[i].replace(\"’\", \" \").replace('…', \" \")) for i in alignment[item]])\n",
    "    #     print(item, alignment[item], len(epi.strip().split(\" \")), len(sub.strip().split(\" \")))\n",
    "    # print(\"==\"*50)\n",
    "\n",
    "    return epi2sub\n",
    "\n",
    "\n",
    "further_alignment = {}\n",
    "for (i, j) in alignment_seeds.keys():\n",
    "    temp = check_alignment(tbbt_transcripts, en_subtitle, zh_subtitle, results, i, j, 200)"
   ],
   "metadata": {
    "collapsed": false,
    "pycharm": {
     "name": "#%%\n"
    }
   }
  },
  {
   "cell_type": "code",
   "execution_count": null,
   "outputs": [],
   "source": [
    "alignment_seeds = further_alignment"
   ],
   "metadata": {
    "collapsed": false,
    "pycharm": {
     "name": "#%%\n"
    }
   }
  },
  {
   "cell_type": "code",
   "execution_count": null,
   "outputs": [],
   "source": [
    "for (i, j) in further_alignment:\n",
    "    print(i, j)\n",
    "    alignment = further_alignment[(i, j)]\n",
    "    sub2epi = turn_sub2epi_into_epi2sub(alignment)\n",
    "    for sub_id in sub2epi:\n",
    "        if len(sub2epi[sub_id])!=1:\n",
    "            print(sub_id, sub2epi[sub_id])\n",
    "    print('=='*50)"
   ],
   "metadata": {
    "collapsed": false,
    "pycharm": {
     "name": "#%%\n"
    }
   }
  },
  {
   "cell_type": "code",
   "execution_count": null,
   "outputs": [],
   "source": [
    "for x in further_alignment:\n",
    "    print(x, len(further_alignment[x]), len(turn_sub2epi_into_epi2sub(further_alignment[x])))"
   ],
   "metadata": {
    "collapsed": false,
    "pycharm": {
     "name": "#%%\n"
    }
   }
  },
  {
   "cell_type": "code",
   "execution_count": null,
   "outputs": [],
   "source": [
    "alignment_seeds = further_alignment"
   ],
   "metadata": {
    "collapsed": false,
    "pycharm": {
     "name": "#%%\n"
    }
   }
  },
  {
   "cell_type": "code",
   "execution_count": null,
   "outputs": [],
   "source": [],
   "metadata": {
    "collapsed": false,
    "pycharm": {
     "name": "#%%\n"
    }
   }
  },
  {
   "cell_type": "code",
   "execution_count": null,
   "outputs": [],
   "source": [],
   "metadata": {
    "collapsed": false,
    "pycharm": {
     "name": "#%%\n"
    }
   }
  },
  {
   "cell_type": "code",
   "execution_count": null,
   "outputs": [],
   "source": [],
   "metadata": {
    "collapsed": false,
    "pycharm": {
     "name": "#%%\n"
    }
   }
  },
  {
   "cell_type": "code",
   "execution_count": null,
   "outputs": [],
   "source": [],
   "metadata": {
    "collapsed": false,
    "pycharm": {
     "name": "#%%\n"
    }
   }
  },
  {
   "cell_type": "code",
   "execution_count": null,
   "outputs": [],
   "source": [],
   "metadata": {
    "collapsed": false,
    "pycharm": {
     "name": "#%%\n"
    }
   }
  },
  {
   "cell_type": "code",
   "execution_count": null,
   "outputs": [],
   "source": [],
   "metadata": {
    "collapsed": false,
    "pycharm": {
     "name": "#%%\n"
    }
   }
  },
  {
   "cell_type": "code",
   "execution_count": null,
   "outputs": [],
   "source": [],
   "metadata": {
    "collapsed": false,
    "pycharm": {
     "name": "#%%\n"
    }
   }
  },
  {
   "cell_type": "code",
   "execution_count": null,
   "outputs": [],
   "source": [],
   "metadata": {
    "collapsed": false,
    "pycharm": {
     "name": "#%%\n"
    }
   }
  },
  {
   "cell_type": "code",
   "execution_count": null,
   "outputs": [],
   "source": [],
   "metadata": {
    "collapsed": false,
    "pycharm": {
     "name": "#%%\n"
    }
   }
  },
  {
   "cell_type": "code",
   "execution_count": null,
   "outputs": [],
   "source": [],
   "metadata": {
    "collapsed": false,
    "pycharm": {
     "name": "#%%\n"
    }
   }
  },
  {
   "cell_type": "code",
   "execution_count": null,
   "outputs": [],
   "source": [],
   "metadata": {
    "collapsed": false,
    "pycharm": {
     "name": "#%%\n"
    }
   }
  },
  {
   "cell_type": "code",
   "execution_count": null,
   "outputs": [],
   "source": [],
   "metadata": {
    "collapsed": false,
    "pycharm": {
     "name": "#%%\n"
    }
   }
  },
  {
   "cell_type": "code",
   "execution_count": null,
   "outputs": [],
   "source": [],
   "metadata": {
    "collapsed": false,
    "pycharm": {
     "name": "#%%\n"
    }
   }
  },
  {
   "cell_type": "code",
   "execution_count": null,
   "outputs": [],
   "source": [],
   "metadata": {
    "collapsed": false,
    "pycharm": {
     "name": "#%%\n"
    }
   }
  },
  {
   "cell_type": "code",
   "execution_count": null,
   "outputs": [],
   "source": [],
   "metadata": {
    "collapsed": false,
    "pycharm": {
     "name": "#%%\n"
    }
   }
  },
  {
   "cell_type": "code",
   "execution_count": null,
   "outputs": [],
   "source": [
    "# Load Data\n",
    "(en_subset, zh_subset, tbbt_episode) = fetch_subsets(\n",
    "        episode=tbbt_transcripts,\n",
    "        en_subtitle=en_subtitle,\n",
    "        zh_subtitle=zh_subtitle,\n",
    "        results=results,\n",
    "        season_id=1,\n",
    "        episode_id=1,\n",
    "        bias=200\n",
    "    )\n",
    "epi2sub = alignment_seeds[(1,1)]"
   ],
   "metadata": {
    "collapsed": false,
    "pycharm": {
     "name": "#%%\n"
    }
   }
  },
  {
   "cell_type": "code",
   "execution_count": null,
   "outputs": [],
   "source": [
    "def get_sliding_window_substrings(input_string, window_size):\n",
    "    input_tokens = input_string.strip().split(\" \")\n",
    "    substrings = []\n",
    "    for i in range(len(input_tokens)-window_size):\n",
    "        substrings.append(\" \".join(input_tokens[i: i+window_size]))\n",
    "    return substrings"
   ],
   "metadata": {
    "collapsed": false,
    "pycharm": {
     "name": "#%%\n"
    }
   }
  },
  {
   "cell_type": "code",
   "execution_count": null,
   "outputs": [],
   "source": [
    "def add_one_size_gap(gaps, epi2sub):\n",
    "    temp = {}\n",
    "    for gap in gaps:\n",
    "        sub_ids = gap[1]\n",
    "        epi_ids = gap[0]\n",
    "        if not(len(sub_ids)==1 and len(epi_ids)==1):\n",
    "            continue\n",
    "        sub_id = sub_ids[0]\n",
    "        epi_id = epi_ids[0]\n",
    "        if len(transformation(en_subset[sub_id]).strip().split(' '))==len(transformation(tbbt_episode[epi_id][0]).strip().split(' ')):\n",
    "            epi2sub[epi_id] = [sub_id]\n",
    "    output = {}\n",
    "    for epi_id in sorted(list(epi2sub.keys())):\n",
    "        output[epi_id] = sorted(list(set(epi2sub[epi_id])))\n",
    "    return output"
   ],
   "metadata": {
    "collapsed": false,
    "pycharm": {
     "name": "#%%\n"
    }
   }
  },
  {
   "cell_type": "code",
   "execution_count": null,
   "outputs": [],
   "source": [
    "def add_one_size_gap(gaps, epi2sub):\n",
    "    temp = {}\n",
    "    for gap in gaps:\n",
    "        sub_ids = gap[1]\n",
    "        epi_ids = gap[0]\n",
    "        if not(len(sub_ids)==1 and len(epi_ids)==1):\n",
    "            continue\n",
    "        sub_id = sub_ids[0]\n",
    "        epi_id = epi_ids[0]\n",
    "        if len(transformation(en_subset[sub_id]).strip().split(' '))==len(transformation(tbbt_episode[epi_id][0]).strip().split(' ')):\n",
    "            epi2sub[epi_id] = [sub_id]\n",
    "    output = {}\n",
    "    for epi_id in sorted(list(epi2sub.keys())):\n",
    "        output[epi_id] = sorted(list(set(epi2sub[epi_id])))\n",
    "    return output"
   ],
   "metadata": {
    "collapsed": false,
    "pycharm": {
     "name": "#%%\n"
    }
   }
  },
  {
   "cell_type": "code",
   "execution_count": null,
   "outputs": [],
   "source": [
    "def sliding_within_gap(gaps, epi2sub):\n",
    "    temp = {}\n",
    "    for gap in gaps:\n",
    "        sub_ids = gap[1]\n",
    "        epi_ids = gap[0]\n",
    "        for epi_id in epi_ids:\n",
    "            epi = tbbt_episode\n",
    "\n",
    "        if not(len(sub_ids)==1 and len(epi_ids)==1):\n",
    "            continue\n",
    "        sub_id = sub_ids[0]\n",
    "        epi_id = epi_ids[0]\n",
    "\n",
    "\n",
    "    output = {}\n",
    "    for epi_id in sorted(list(epi2sub.keys())):\n",
    "        output[epi_id] = sorted(list(set(epi2sub[epi_id])))\n",
    "    return output"
   ],
   "metadata": {
    "collapsed": false,
    "pycharm": {
     "name": "#%%\n"
    }
   }
  },
  {
   "cell_type": "code",
   "execution_count": null,
   "outputs": [],
   "source": [
    "\"\"\"\n",
    "Add neighbor subtitle from the utterance\n",
    "\"\"\"\n",
    "def extend_subtitles_to_episode_sliding_window(en_subset, epi2sub_alignment_2, episode):\n",
    "    temp = {}\n",
    "    for epi_id in epi2sub_alignment_2:\n",
    "        # Define episode utterance id\n",
    "        epi_id_former = epi_id - 1\n",
    "        epi_id = epi_id\n",
    "        epi_id_latter = epi_id + 1\n",
    "        epi = transformation(episode[epi_id][0])\n",
    "\n",
    "        # Define subtitle id\n",
    "        sub_id_former = min(epi2sub_alignment_2[epi_id]) - 1\n",
    "        sub_id_latter = max(epi2sub_alignment_2[epi_id]) + 1\n",
    "        sub_ids = sorted(list(epi2sub_alignment_2[epi_id]))\n",
    "\n",
    "        # Check whether subtitle nearby is in the utterance\n",
    "        sub_former = transformation(en_subset[sub_id_former])\n",
    "        sub_former_tokens = sub_former.strip().split(' ')\n",
    "        sub_former_strings = []\n",
    "        for i in range(len(sub_former_tokens)-3):\n",
    "            sub_former_strings.append(\" \".join(sub_former_tokens[i: i+4]))\n",
    "        sub_former_strings.append(sub_former)\n",
    "        for item in sub_former_strings:\n",
    "            if item in epi:\n",
    "                sub_ids.append(sub_id_former)\n",
    "                break\n",
    "\n",
    "\n",
    "        sub_latter = transformation(en_subset[sub_id_latter])\n",
    "        sub_latter_tokens = sub_latter.strip().split(' ')\n",
    "        sub_latter_strings = []\n",
    "        for i in range(len(sub_latter_tokens)-3):\n",
    "            sub_latter_strings.append(\" \".join(sub_latter_tokens[i: i+4]))\n",
    "        sub_latter_strings.append(sub_latter)\n",
    "        for item in sub_latter_strings:\n",
    "            if item in epi:\n",
    "                sub_ids.append(sub_id_latter)\n",
    "                break\n",
    "\n",
    "        temp[epi_id] = sorted(sub_ids)\n",
    "    return temp\n",
    "\n",
    "extend_subtitles_to_episode_sliding_window(en_subset, epi2sub, tbbt_transcripts)"
   ],
   "metadata": {
    "collapsed": false,
    "pycharm": {
     "name": "#%%\n"
    }
   }
  },
  {
   "cell_type": "code",
   "execution_count": null,
   "outputs": [],
   "source": [
    "\"\"\"\n",
    "Extend the former episode and latter episode near the substitle\n",
    "\"\"\"\n",
    "def extend_episodes_to_subtitle_sliding_window(en_subset, epi2sub_alignment_2, episode):\n",
    "    temp = {}\n",
    "    sub2epi = turn_sub2epi_into_epi2sub(epi2sub_alignment_2)\n",
    "\n",
    "    for sub_id in sub2epi:\n",
    "        sub = transformation(en_subset[sub_id])\n",
    "\n",
    "        # Check whether the epi nearby is in the subtitle\n",
    "        epi_id_former = min(sub2epi[sub_id])-1\n",
    "        epi_former = transformation(episode[epi_id_former][0])\n",
    "        epi_former_tokens = epi_former.strip().split(' ')\n",
    "        epi_former_strings = []\n",
    "        for i in range(len(epi_former_tokens)-3):\n",
    "            epi_former_strings.append(\" \".join(epi_former_tokens[i: i+4]))\n",
    "        epi_former_strings.append(epi_former)\n",
    "        for item in epi_former_strings:\n",
    "            if item in sub:\n",
    "                epi_ids.append(epi_id_former)\n",
    "                break\n",
    "\n",
    "\n",
    "        epi_id_latter = max(sub2epi[sub_id])+1\n",
    "        epi_latter = transformation(episode[epi_id_latter][0])\n",
    "        epi_latter_tokens = epi_latter.strip().split(' ')\n",
    "        epi_latter_strings = []\n",
    "        for i in range(len(epi_latter_tokens)-3):\n",
    "            epi_latter_strings.append(\" \".join(epi_latter_tokens[i: i+4]))\n",
    "        epi_latter_strings.append(epi_latter)\n",
    "        for item in epi_latter_strings:\n",
    "            if item in sub:\n",
    "                epi_ids.append(epi_id_latter)\n",
    "                break\n",
    "        print(epi_former_strings)\n",
    "        print(epi_latter_strings)\n",
    "        print(sub)\n",
    "        print('=='*50)\n",
    "        temp[sub_id] = sorted(epi_ids)\n",
    "    return temp"
   ],
   "metadata": {
    "collapsed": false,
    "pycharm": {
     "name": "#%%\n"
    }
   }
  },
  {
   "cell_type": "code",
   "execution_count": null,
   "outputs": [],
   "source": [
    "alignment_seeds = final_stage_alignment"
   ],
   "metadata": {
    "collapsed": false,
    "pycharm": {
     "name": "#%%\n"
    }
   }
  },
  {
   "cell_type": "code",
   "execution_count": null,
   "outputs": [],
   "source": [
    "# for x in alignment_seeds:\n",
    "#     print(x)\n",
    "#     print(alignment_seeds[x])\n",
    "#     print(\"==\"*50)"
   ],
   "metadata": {
    "collapsed": false,
    "pycharm": {
     "name": "#%%\n"
    }
   }
  },
  {
   "cell_type": "code",
   "execution_count": null,
   "outputs": [],
   "source": [
    "# Load Data\n",
    "(en_subset, zh_subset, tbbt_episode) = fetch_subsets(\n",
    "        episode=tbbt_transcripts,\n",
    "        en_subtitle=en_subtitle,\n",
    "        zh_subtitle=zh_subtitle,\n",
    "        results=results,\n",
    "        season_id=1,\n",
    "        episode_id=1,\n",
    "        bias=200\n",
    "    )\n",
    "epi2sub = alignment_seeds[(1,1)]"
   ],
   "metadata": {
    "collapsed": false,
    "pycharm": {
     "name": "#%%\n"
    }
   }
  },
  {
   "cell_type": "code",
   "execution_count": null,
   "outputs": [],
   "source": [
    "\"\"\"\n",
    "Extend the former subtitle and latter subtitle near the episode\n",
    "\"\"\"\n",
    "def extend_neighbors_episode_sliding(en_subset, epi2sub, tbbt_episode):\n",
    "    # Gather the gap of subtitle corresponding to episode utterance\n",
    "    epi_keys = sorted(list(epi2sub.keys()))\n",
    "    sub_keys = sorted(list(turn_sub2epi_into_epi2sub(epi2sub).keys()))\n",
    "\n",
    "    subtitle_gaps = {}\n",
    "    for i in range(len(epi_keys)-1):\n",
    "        epi_start = epi_keys[i]\n",
    "        epi_end = epi_keys[i+1]\n",
    "        key = (epi_start, epi_end)\n",
    "        if max(epi2sub[epi_start])+1<min(epi2sub[epi_end]):\n",
    "            subtitle_gaps[(epi_start, epi_end)] = [item for item in range(max(epi2sub[epi_start])+1, min(epi2sub[epi_end]))]\n",
    "    print(subtitle_gaps)\n",
    "\n",
    "    # Check whether the subtitle could be merged into utterances using sliding window\n",
    "    for start_epi_id, end_epi_id in subtitle_gaps:\n",
    "        start_epi = transformation(tbbt_episode[start_epi_id][0].replace(\"’\", \" \"))\n",
    "        end_epi = transformation(tbbt_episode[end_epi_id][0].replace(\"’\", \" \"))\n",
    "        # print(start_epi_id, start_epi)\n",
    "        # print(end_epi_id, end_epi)\n",
    "        # print('--')\n",
    "\n",
    "        for sub_id in subtitle_gaps[(start_epi_id, end_epi_id)]:\n",
    "            sub = transformation(en_subset[sub_id])\n",
    "            sub_substrings = get_sliding_window_substrings(sub, 6)\n",
    "            sub_substrings.append(sub)\n",
    "            # print(sub_id, sub)\n",
    "            # print(sub_substrings)\n",
    "            temp_start = [substring in start_epi for substring in sub_substrings]\n",
    "            signal_start = True in temp_start\n",
    "            temp_end = [substring in end_epi for substring in sub_substrings]\n",
    "            signal_end = True in temp_end\n",
    "            # print(temp_start, signal_start)\n",
    "            # print(temp_end, signal_end)\n",
    "            if signal_start==True and signal_end==True:\n",
    "                print(start_epi_id, start_epi)\n",
    "                print(end_epi_id, end_epi)\n",
    "                print(sub, \"|\", signal_start, \"|\", signal_end)\n",
    "                print('--')\n",
    "\n",
    "        # print('=='*50)\n",
    "\n",
    "extend_neighbors_episode_sliding(en_subset, epi2sub, tbbt_episode)"
   ],
   "metadata": {
    "collapsed": false,
    "pycharm": {
     "name": "#%%\n"
    }
   }
  },
  {
   "cell_type": "code",
   "execution_count": null,
   "outputs": [],
   "source": [
    "def get_final_stage_gap_pairs(epi2sub):\n",
    "    # Gather the gap of subtitle corresponding to episode utterance\n",
    "    epi_keys = sorted(list(epi2sub.keys()))\n",
    "    sub_keys = sorted(list(turn_sub2epi_into_epi2sub(epi2sub).keys()))\n",
    "\n",
    "    subtitle_gaps = {}\n",
    "    for i in range(len(epi_keys)-1):\n",
    "        epi_start = epi_keys[i]\n",
    "        epi_end = epi_keys[i+1]\n",
    "        key = (epi_start, epi_end)\n",
    "        if max(epi2sub[epi_start])+1<min(epi2sub[epi_end]):\n",
    "            subtitle_gaps[(epi_start, epi_end)] = [item for item in range(max(epi2sub[epi_start])+1, min(epi2sub[epi_end]))]\n",
    "\n",
    "    # Perform string match and CER Scoring\n",
    "    return subtitle_gaps\n",
    "\n",
    "final_gap = get_final_stage_gap_pairs(epi2sub)\n",
    "\n",
    "for item in final_gap:\n",
    "    epi_ids = [i+2 for i in range(item[0], item[1]+1)]\n",
    "    sub_ids = [x+2 for x in final_gap[item]]\n",
    "    print(epi_ids)\n",
    "    print(sub_ids)\n",
    "    print('=='*50)"
   ],
   "metadata": {
    "collapsed": false,
    "pycharm": {
     "name": "#%%\n"
    }
   }
  },
  {
   "cell_type": "code",
   "execution_count": null,
   "outputs": [],
   "source": [],
   "metadata": {
    "collapsed": false,
    "pycharm": {
     "name": "#%%\n"
    }
   }
  },
  {
   "cell_type": "code",
   "execution_count": null,
   "outputs": [],
   "source": [],
   "metadata": {
    "collapsed": false,
    "pycharm": {
     "name": "#%%\n"
    }
   }
  },
  {
   "cell_type": "code",
   "execution_count": null,
   "outputs": [],
   "source": [],
   "metadata": {
    "collapsed": false,
    "pycharm": {
     "name": "#%%\n"
    }
   }
  },
  {
   "cell_type": "code",
   "execution_count": null,
   "outputs": [],
   "source": [
    "with open('alignment_results/zh/final_stage_alignment.pkl', 'rb') as f:\n",
    "    final_stage_alignment = pkl.load(f)\n",
    "\n",
    "# Load Data\n",
    "(en_subset, zh_subset, tbbt_episode) = fetch_subsets(\n",
    "        episode=tbbt_transcripts,\n",
    "        en_subtitle=en_subtitle,\n",
    "        zh_subtitle=zh_subtitle,\n",
    "        results=results,\n",
    "        season_id=1,\n",
    "        episode_id=1,\n",
    "        bias=200\n",
    "    )\n",
    "\n",
    "alignment_seeds = final_stage_alignment\n",
    "epi2sub = alignment_seeds[(1,1)]"
   ],
   "metadata": {
    "collapsed": false,
    "pycharm": {
     "name": "#%%\n"
    }
   }
  },
  {
   "cell_type": "code",
   "execution_count": null,
   "outputs": [],
   "source": [
    "\"\"\"\n",
    "Explore the neighbor subtitles of a episode.\n",
    "\n",
    "Given a episode utterance (epi_id), then we fetch the unaligned subtitle (sub_id)\n",
    "[epi_id_0, epi_id_1, etc., epi_id_n] - [sub_id_0, sub_id_1, etc. sub_id_m]\n",
    "\n",
    "Then, we search within the subset-pair\n",
    "\n",
    "For each subtitle, we use sliding window to fetch a set of substrings in each episode utterance and calculate the CER\n",
    "\"\"\"\n",
    "def extend_neighbors_episode_sliding(en_subset, epi2sub, tbbt_episode):\n",
    "    count = 0\n",
    "    # Gather the gap of subtitle corresponding to episode utterance\n",
    "    subtitle_gaps = get_final_stage_gap_pairs(epi2sub)\n",
    "\n",
    "    # Iterate the whole subtitle gaps to perform substring match\n",
    "    temp_epi2sub = deepcopy(epi2sub)\n",
    "    for item in subtitle_gaps:\n",
    "        epi_ids = [i for i in range(item[0], item[1]+1)]\n",
    "        sub_ids = [i for i in subtitle_gaps[item]]\n",
    "\n",
    "        # Fetch all episodes and subtitles\n",
    "        epis = [transformation(tbbt_episode[i][0].replace(\"’\", \" \").replace('…', \" \")) for i in epi_ids]\n",
    "        subs = [transformation(en_subset[i].replace(\"’\", \" \").replace('…', \" \")) for i in sub_ids]\n",
    "\n",
    "        # print(epi_ids)\n",
    "        # print(epis)\n",
    "        # print(sub_ids)\n",
    "        # print(subs)\n",
    "        for sub_id, sub in zip(sub_ids, subs):\n",
    "            sub_len = len(sub.strip().split(\" \"))\n",
    "            if sub_len <=3:\n",
    "                continue\n",
    "            min_score = float('inf')\n",
    "            min_substring = \"\"\n",
    "            source_episode = \"\"\n",
    "            source_sub_id = float('inf')\n",
    "            source_epi_id = float('inf')\n",
    "            for epi, epi_id in zip(epis, epi_ids):\n",
    "                # min_score = float('inf')\n",
    "                # min_substring = \"\"\n",
    "                epi_substrings = get_sliding_window_substrings(epi, window_size=sub_len)\n",
    "                for substring in epi_substrings:\n",
    "                    wer = jiwer.wer(sub, substring)\n",
    "                    if wer <= min_score:\n",
    "                        min_score = wer\n",
    "                        min_substring = substring\n",
    "                        source_episode = epi\n",
    "                        source_epi_id = epi_id\n",
    "            if min_score <= 0.5:\n",
    "                if source_epi_id not in temp_epi2sub:\n",
    "                    temp_epi2sub[source_epi_id] = [sub_id]\n",
    "                else:\n",
    "                    temp_epi2sub[source_epi_id].append(sub_id)\n",
    "                # print(sub_id+2, source_epi_id+2)\n",
    "                # print(\"Subtitle:\", sub_id+2, sub, len(sub.strip().split(\" \")))\n",
    "                # print(\"All Episode to compare:\")\n",
    "                # print(min_score, '|', min_substring, '|', source_episode)\n",
    "                # print('=='*50)\n",
    "                # count += 1\n",
    "    # print(temp_epi2sub)\n",
    "    # print(len(temp_epi2sub), len(turn_sub2epi_into_epi2sub(temp_epi2sub)))\n",
    "    # print(count)\n",
    "    output = {}\n",
    "    for epi_id in sorted(list(temp_epi2sub.keys())):\n",
    "        output[epi_id] = sorted(list(set(temp_epi2sub[epi_id])))\n",
    "    return output\n",
    "\n",
    "# epi2sub_0 = epi2sub\n",
    "# print(len(epi2sub_0), len(turn_sub2epi_into_epi2sub(epi2sub_0)))\n",
    "# epi2sub_1 = extend_neighbors_episode_sliding(en_subset, epi2sub_0, tbbt_episode)\n",
    "# print(len(epi2sub_1), len(turn_sub2epi_into_epi2sub(epi2sub_1)))\n",
    "# epi2sub_2 = extend_neighbors_episode_sliding(en_subset, epi2sub_1, tbbt_episode)\n",
    "# print(len(epi2sub_2), len(turn_sub2epi_into_epi2sub(epi2sub_2)))"
   ],
   "metadata": {
    "collapsed": false,
    "pycharm": {
     "name": "#%%\n"
    }
   }
  },
  {
   "cell_type": "code",
   "execution_count": null,
   "outputs": [],
   "source": [
    "def get_alignment(tbbt, en_subtitle, other_subtitle, results, season_id, episode_id, bias):\n",
    "    # Fetch subset located by the stage-1 alignment\n",
    "    (en_subset, zh_subset, tbbt_episode) = fetch_subsets(\n",
    "        episode=tbbt,\n",
    "        en_subtitle=en_subtitle,\n",
    "        zh_subtitle=other_subtitle,\n",
    "        results=results,\n",
    "        season_id=season_id,\n",
    "        episode_id=episode_id,\n",
    "        bias=bias\n",
    "    )\n",
    "\n",
    "    # Extend the neighbors\n",
    "    epi2sub = extend_neighbors_episode_sliding(en_subset, alignment_seeds[(i,j)], tbbt_episode)\n",
    "\n",
    "    return epi2sub"
   ],
   "metadata": {
    "collapsed": false,
    "pycharm": {
     "name": "#%%\n"
    }
   }
  },
  {
   "cell_type": "code",
   "execution_count": null,
   "outputs": [],
   "source": [
    "further_alignment = {}\n",
    "for (i, j) in alignment_seeds.keys():\n",
    "    temp = get_alignment(tbbt_transcripts, en_subtitle, zh_subtitle, results, i, j, 200)\n",
    "    further_alignment[(i,j)] = temp\n",
    "    print(\"Season:\", i,\"Episode:\", j, \"Episode Number:\", len(alignment_seeds[(i,j)]),len(temp), \"|\", \"Subtitle Number:\", len(turn_sub2epi_into_epi2sub(alignment_seeds[(i,j)])),len(turn_sub2epi_into_epi2sub(temp)))"
   ],
   "metadata": {
    "collapsed": false,
    "pycharm": {
     "name": "#%%\n"
    }
   }
  },
  {
   "cell_type": "code",
   "execution_count": null,
   "outputs": [],
   "source": [
    "with open('alignment_results/zh/final_stage_alignment_0.pkl', 'wb') as f:\n",
    "    pkl.dump(further_alignment, f)"
   ],
   "metadata": {
    "collapsed": false,
    "pycharm": {
     "name": "#%%\n"
    }
   }
  },
  {
   "cell_type": "code",
   "execution_count": null,
   "outputs": [],
   "source": [
    "with open('alignment_results/zh/final_stage_alignment_0.pkl', 'rb') as f:\n",
    "    further_alignment = pkl.load(f)"
   ],
   "metadata": {
    "collapsed": false,
    "pycharm": {
     "name": "#%%\n"
    }
   }
  },
  {
   "cell_type": "code",
   "execution_count": null,
   "outputs": [],
   "source": [],
   "metadata": {
    "collapsed": false,
    "pycharm": {
     "name": "#%%\n"
    }
   }
  },
  {
   "cell_type": "code",
   "execution_count": null,
   "outputs": [],
   "source": [],
   "metadata": {
    "collapsed": false,
    "pycharm": {
     "name": "#%%\n"
    }
   }
  },
  {
   "cell_type": "code",
   "execution_count": null,
   "outputs": [],
   "source": [
    "for x in further_alignment:\n",
    "    aligned_epi_num = len(alignment_seeds[x])\n",
    "    aligned_sub_num = len(turn_sub2epi_into_epi2sub(alignment_seeds[x]))\n",
    "    all_epi_num = max(alignment_seeds[x])-min(alignment_seeds[x])\n",
    "    all_sub_num = max(turn_sub2epi_into_epi2sub(alignment_seeds[x]))-min(turn_sub2epi_into_epi2sub(alignment_seeds[x]))\n",
    "    print(x, aligned_epi_num, all_epi_num, int(100*(aligned_epi_num/all_epi_num)), \"|\", aligned_sub_num, all_sub_num, int(100*(aligned_sub_num/all_sub_num)))"
   ],
   "metadata": {
    "collapsed": false,
    "pycharm": {
     "name": "#%%\n"
    }
   }
  },
  {
   "cell_type": "code",
   "execution_count": null,
   "outputs": [],
   "source": [
    "def get_alignment(tbbt, en_subtitle, other_subtitle, results, season_id, episode_id, bias):\n",
    "    # Fetch subset located by the stage-1 alignment\n",
    "    (en_subset, zh_subset, tbbt_episode) = fetch_subsets(\n",
    "        episode=tbbt,\n",
    "        en_subtitle=en_subtitle,\n",
    "        zh_subtitle=other_subtitle,\n",
    "        results=results,\n",
    "        season_id=season_id,\n",
    "        episode_id=episode_id,\n",
    "        bias=bias\n",
    "    )\n",
    "\n",
    "    # Extend the neighbors\n",
    "    epi2sub = extend_neighbors_episode_sliding(en_subset, alignment_seeds[(i,j)], tbbt_episode)\n",
    "\n",
    "    return epi2sub"
   ],
   "metadata": {
    "collapsed": false,
    "pycharm": {
     "name": "#%%\n"
    }
   }
  },
  {
   "cell_type": "code",
   "execution_count": null,
   "outputs": [],
   "source": [
    "for (i, j) in alignment_seeds.keys():\n",
    "    temp = get_alignment(tbbt_transcripts, en_subtitle, zh_subtitle, results, i, j, 200)\n",
    "    # print(\"Season:\", i,\"Episode:\", j, \"Episode Number:\",len(turn_sub2epi_into_epi2sub(alignment_seeds[(i,j)])), len(temp), \"Subtitle Number:\", len(alignment_seeds[(i,j)]),len(turn_sub2epi_into_epi2sub(temp)))"
   ],
   "metadata": {
    "collapsed": false,
    "pycharm": {
     "name": "#%%\n"
    }
   }
  },
  {
   "cell_type": "code",
   "execution_count": null,
   "outputs": [],
   "source": [],
   "metadata": {
    "collapsed": false,
    "pycharm": {
     "name": "#%%\n"
    }
   }
  },
  {
   "cell_type": "code",
   "execution_count": null,
   "outputs": [],
   "source": [],
   "metadata": {
    "collapsed": false,
    "pycharm": {
     "name": "#%%\n"
    }
   }
  },
  {
   "cell_type": "code",
   "execution_count": null,
   "outputs": [],
   "source": [],
   "metadata": {
    "collapsed": false,
    "pycharm": {
     "name": "#%%\n"
    }
   }
  },
  {
   "cell_type": "code",
   "execution_count": null,
   "outputs": [],
   "source": [],
   "metadata": {
    "collapsed": false,
    "pycharm": {
     "name": "#%%\n"
    }
   }
  },
  {
   "cell_type": "code",
   "execution_count": null,
   "outputs": [],
   "source": [],
   "metadata": {
    "collapsed": false,
    "pycharm": {
     "name": "#%%\n"
    }
   }
  },
  {
   "cell_type": "code",
   "execution_count": null,
   "outputs": [],
   "source": [],
   "metadata": {
    "collapsed": false,
    "pycharm": {
     "name": "#%%\n"
    }
   }
  },
  {
   "cell_type": "code",
   "execution_count": null,
   "outputs": [],
   "source": [],
   "metadata": {
    "collapsed": false,
    "pycharm": {
     "name": "#%%\n"
    }
   }
  },
  {
   "cell_type": "code",
   "execution_count": null,
   "outputs": [],
   "source": [],
   "metadata": {
    "collapsed": false,
    "pycharm": {
     "name": "#%%\n"
    }
   }
  },
  {
   "cell_type": "code",
   "execution_count": null,
   "outputs": [],
   "source": [],
   "metadata": {
    "collapsed": false,
    "pycharm": {
     "name": "#%%\n"
    }
   }
  },
  {
   "cell_type": "code",
   "execution_count": null,
   "outputs": [],
   "source": [],
   "metadata": {
    "collapsed": false,
    "pycharm": {
     "name": "#%%\n"
    }
   }
  },
  {
   "cell_type": "code",
   "execution_count": null,
   "outputs": [],
   "source": [
    "def get_alignment(tbbt, en_subtitle, other_subtitle, results, season_id, episode_id, bias):\n",
    "    # Fetch subset located by the stage-1 alignment\n",
    "    (en_subset, zh_subset, tbbt_episode) = fetch_subsets(\n",
    "        episode=tbbt,\n",
    "        en_subtitle=en_subtitle,\n",
    "        zh_subtitle=other_subtitle,\n",
    "        results=results,\n",
    "        season_id=season_id,\n",
    "        episode_id=episode_id,\n",
    "        bias=bias\n",
    "    )\n",
    "\n",
    "    # Extend the neighbors\n",
    "    epi2sub = extend_neighbors(en_subset, turn_sub2epi_into_epi2sub(alignment_seeds[(season_id,episode_id)]), tbbt_episode)\n",
    "    epi2sub = extend_neighbors(en_subset, epi2sub, tbbt_episode)\n",
    "    epi2sub = extend_neighbors(en_subset, epi2sub, tbbt_episode)\n",
    "    epi2sub = extend_neighbors(en_subset, epi2sub, tbbt_episode)\n",
    "\n",
    "    # Extend within gap using strict string match\n",
    "    gaps, abandons = get_subset_in_gaps(epi2sub)\n",
    "    epi2sub = add_strict_match_within_gaps(gaps, epi2sub)\n",
    "\n",
    "    # Extend within gap using wer\n",
    "    gaps, abandons = get_subset_in_gaps(epi2sub)\n",
    "    epi2sub = add_wer_match_within_gaps(gaps, epi2sub, en_subset, tbbt_episode)\n",
    "\n",
    "    # Extend within gap using substring cer\n",
    "    gaps, abandons = get_subset_in_gaps(epi2sub)\n",
    "    epi2sub = add_wer_substring_match_within_gaps(gaps, epi2sub, en_subset, tbbt_episode)\n",
    "\n",
    "    # Add within the gap\n",
    "    gaps, abandons = get_subset_in_gaps(epi2sub)\n",
    "    epi2sub = add_one_size_gap(gaps, epi2sub)\n",
    "\n",
    "    # Further extend neighbors\n",
    "    epi2sub = extend_neighbors_sliding(en_subset, epi2sub, tbbt_episode)\n",
    "    epi2sub = extend_neighbors_sliding(en_subset, epi2sub, tbbt_episode)\n",
    "    epi2sub = extend_neighbors_sliding(en_subset, epi2sub, tbbt_episode)\n",
    "    epi2sub = extend_neighbors_sliding(en_subset, epi2sub, tbbt_episode)\n",
    "\n",
    "    return epi2sub"
   ],
   "metadata": {
    "collapsed": false,
    "pycharm": {
     "name": "#%%\n"
    }
   }
  },
  {
   "cell_type": "code",
   "execution_count": null,
   "outputs": [],
   "source": [
    "further_alignment = {}\n",
    "for (i, j) in alignment_seeds.keys():\n",
    "    try:\n",
    "        temp = get_alignment(tbbt_transcripts, en_subtitle, zh_subtitle, results, i, j, 200)\n",
    "        further_alignment[(i,j)] = temp\n",
    "        print(\"Season:\", i,\"Episode:\", j, \"Episode Number:\",len(temp), \"Subtitle Number:\",len(turn_sub2epi_into_epi2sub(temp)))\n",
    "    except:\n",
    "        pass"
   ],
   "metadata": {
    "collapsed": false,
    "pycharm": {
     "name": "#%%\n"
    }
   }
  },
  {
   "cell_type": "code",
   "execution_count": null,
   "outputs": [],
   "source": [
    "further_alignment = {}\n",
    "for i in tqdm(range(3)):\n",
    "    for j in tqdm(range(4)):\n",
    "        try:\n",
    "            temp = get_alignment(tbbt_transcripts, en_subtitle, zh_subtitle, alignment_seeds, i+1, j+1, 200)\n",
    "            further_alignment[(i,j)] = temp\n",
    "            print(\"Season:\", i+1,\"Episode:\", j+1, \"Episode Number:\",len(temp), \"Subtitle Number:\",len(turn_sub2epi_into_epi2sub(temp)))\n",
    "        except:\n",
    "            pass"
   ],
   "metadata": {
    "collapsed": false,
    "pycharm": {
     "name": "#%%\n"
    }
   }
  },
  {
   "cell_type": "code",
   "execution_count": null,
   "outputs": [],
   "source": [
    "with open('final_stage_alignment.pkl', 'wb') as f:\n",
    "    pkl.dump(further_alignment, f)"
   ],
   "metadata": {
    "collapsed": false,
    "pycharm": {
     "name": "#%%\n"
    }
   }
  },
  {
   "cell_type": "code",
   "execution_count": null,
   "outputs": [],
   "source": [
    "with open('final_stage_alignment.pkl', 'rb') as f:\n",
    "    further_alignment = pkl.load(f)"
   ],
   "metadata": {
    "collapsed": false,
    "pycharm": {
     "name": "#%%\n"
    }
   }
  },
  {
   "cell_type": "code",
   "execution_count": null,
   "outputs": [],
   "source": [
    "def get_sliding_window_substrings(input_string, window_size):\n",
    "    input_tokens = input_string.strip().split(' ')\n",
    "    substrings = []\n",
    "    for i in range(len(input_tokens)-3):\n",
    "        substrings.append(\" \".join(input_tokens[i: i+4]))\n",
    "    return substrings"
   ],
   "metadata": {
    "collapsed": false,
    "pycharm": {
     "name": "#%%\n"
    }
   }
  },
  {
   "cell_type": "code",
   "execution_count": null,
   "outputs": [],
   "source": [
    "def add_one_size_gap(gaps, epi2sub):\n",
    "    temp = {}\n",
    "    for gap in gaps:\n",
    "        sub_ids = gap[1]\n",
    "        epi_ids = gap[0]\n",
    "        if not(len(sub_ids)==1 and len(epi_ids)==1):\n",
    "            continue\n",
    "        sub_id = sub_ids[0]\n",
    "        epi_id = epi_ids[0]\n",
    "        if len(transformation(en_subset[sub_id]).strip().split(' '))==len(transformation(tbbt_episode[epi_id][0]).strip().split(' ')):\n",
    "            epi2sub[epi_id] = [sub_id]\n",
    "    output = {}\n",
    "    for epi_id in sorted(list(epi2sub.keys())):\n",
    "        output[epi_id] = sorted(list(set(epi2sub[epi_id])))\n",
    "    return output"
   ],
   "metadata": {
    "collapsed": false,
    "pycharm": {
     "name": "#%%\n"
    }
   }
  },
  {
   "cell_type": "code",
   "execution_count": null,
   "outputs": [],
   "source": [
    "def sliding_within_gap(gaps, epi2sub):\n",
    "    temp = {}\n",
    "    for gap in gaps:\n",
    "        sub_ids = gap[1]\n",
    "        epi_ids = gap[0]\n",
    "        for epi_id in epi_ids:\n",
    "            epi = tbbt_episode\n",
    "\n",
    "        if not(len(sub_ids)==1 and len(epi_ids)==1):\n",
    "            continue\n",
    "        sub_id = sub_ids[0]\n",
    "        epi_id = epi_ids[0]\n",
    "\n",
    "\n",
    "    output = {}\n",
    "    for epi_id in sorted(list(epi2sub.keys())):\n",
    "        output[epi_id] = sorted(list(set(epi2sub[epi_id])))\n",
    "    return output"
   ],
   "metadata": {
    "collapsed": false,
    "pycharm": {
     "name": "#%%\n"
    }
   }
  },
  {
   "cell_type": "code",
   "execution_count": null,
   "outputs": [],
   "source": [
    "\"\"\"\n",
    "Add neighbor subtitle from the utterance\n",
    "\"\"\"\n",
    "def extend_subtitles_to_episode_sliding_window(en_subset, epi2sub_alignment_2, episode):\n",
    "    temp = {}\n",
    "    for epi_id in epi2sub_alignment_2:\n",
    "        # Define episode utterance id\n",
    "        epi_id_former = epi_id - 1\n",
    "        epi_id = epi_id\n",
    "        epi_id_latter = epi_id + 1\n",
    "        epi = transformation(episode[epi_id][0])\n",
    "\n",
    "        # Define subtitle id\n",
    "        sub_id_former = min(epi2sub_alignment_2[epi_id]) - 1\n",
    "        sub_id_latter = max(epi2sub_alignment_2[epi_id]) + 1\n",
    "        sub_ids = sorted(list(epi2sub_alignment_2[epi_id]))\n",
    "\n",
    "        # Check whether subtitle nearby is in the utterance\n",
    "        sub_former = transformation(en_subset[sub_id_former])\n",
    "        sub_former_tokens = sub_former.strip().split(' ')\n",
    "        sub_former_strings = []\n",
    "        for i in range(len(sub_former_tokens)-3):\n",
    "            sub_former_strings.append(\" \".join(sub_former_tokens[i: i+4]))\n",
    "        sub_former_strings.append(sub_former)\n",
    "        for item in sub_former_strings:\n",
    "            if item in epi:\n",
    "                sub_ids.append(sub_id_former)\n",
    "                break\n",
    "\n",
    "\n",
    "        sub_latter = transformation(en_subset[sub_id_latter])\n",
    "        sub_latter_tokens = sub_latter.strip().split(' ')\n",
    "        sub_latter_strings = []\n",
    "        for i in range(len(sub_latter_tokens)-3):\n",
    "            sub_latter_strings.append(\" \".join(sub_latter_tokens[i: i+4]))\n",
    "        sub_latter_strings.append(sub_latter)\n",
    "        for item in sub_latter_strings:\n",
    "            if item in epi:\n",
    "                sub_ids.append(sub_id_latter)\n",
    "                break\n",
    "\n",
    "        temp[epi_id] = sorted(sub_ids)\n",
    "    return temp"
   ],
   "metadata": {
    "collapsed": false,
    "pycharm": {
     "name": "#%%\n"
    }
   }
  },
  {
   "cell_type": "code",
   "execution_count": null,
   "outputs": [],
   "source": [
    "\"\"\"\n",
    "Extend the former episode and latter episode near the substitle\n",
    "\"\"\"\n",
    "def extend_episodes_to_subtitle_sliding_window(en_subset, epi2sub_alignment_2, episode):\n",
    "    temp = {}\n",
    "    sub2epi = turn_sub2epi_into_epi2sub(epi2sub_alignment_2)\n",
    "\n",
    "    for sub_id in sub2epi:\n",
    "        sub = transformation(en_subset[sub_id])\n",
    "\n",
    "        # Check whether the epi nearby is in the subtitle\n",
    "        epi_id_former = min(sub2epi[sub_id])-1\n",
    "        epi_former = transformation(episode[epi_id_former][0])\n",
    "        epi_former_tokens = epi_former.strip().split(' ')\n",
    "        epi_former_strings = []\n",
    "        for i in range(len(epi_former_tokens)-3):\n",
    "            epi_former_strings.append(\" \".join(epi_former_tokens[i: i+4]))\n",
    "        epi_former_strings.append(epi_former)\n",
    "        for item in epi_former_strings:\n",
    "            if item in sub:\n",
    "                epi_ids.append(epi_id_former)\n",
    "                break\n",
    "\n",
    "\n",
    "        epi_id_latter = max(sub2epi[sub_id])+1\n",
    "        epi_latter = transformation(episode[epi_id_latter][0])\n",
    "        epi_latter_tokens = epi_latter.strip().split(' ')\n",
    "        epi_latter_strings = []\n",
    "        for i in range(len(epi_latter_tokens)-3):\n",
    "            epi_latter_strings.append(\" \".join(epi_latter_tokens[i: i+4]))\n",
    "        epi_latter_strings.append(epi_latter)\n",
    "        for item in epi_latter_strings:\n",
    "            if item in sub:\n",
    "                epi_ids.append(epi_id_latter)\n",
    "                break\n",
    "        print(epi_former_strings)\n",
    "        print(epi_latter_strings)\n",
    "        print(sub)\n",
    "        print('=='*50)\n",
    "        temp[sub_id] = sorted(epi_ids)\n",
    "    return temp"
   ],
   "metadata": {
    "collapsed": false,
    "pycharm": {
     "name": "#%%\n"
    }
   }
  },
  {
   "cell_type": "code",
   "execution_count": null,
   "outputs": [],
   "source": [
    "# Load Data\n",
    "(en_subset, zh_subset, tbbt_episode) = fetch_subsets(\n",
    "        episode=tbbt_transcripts,\n",
    "        en_subtitle=en_subtitle,\n",
    "        zh_subtitle=zh_subtitle,\n",
    "        results=results,\n",
    "        season_id=1,\n",
    "        episode_id=1,\n",
    "        bias=200\n",
    "    )\n",
    "epi2sub = alignment_seeds[(1,1)]\n",
    "print(epi2sub)\n",
    "print(len(epi2sub), len(turn_sub2epi_into_epi2sub(epi2sub)))"
   ],
   "metadata": {
    "collapsed": false,
    "pycharm": {
     "name": "#%%\n"
    }
   }
  },
  {
   "cell_type": "code",
   "execution_count": null,
   "outputs": [],
   "source": [
    "\"\"\"\n",
    "Extend the former subtitle and latter subtitle near the episode\n",
    "\"\"\"\n",
    "def extend_neighbors_episode_sliding(en_subset, epi2sub, tbbt_episode):\n",
    "    # Gather the gap of subtitle corresponding to episode utterance\n",
    "    epi_keys = sorted(list(epi2sub.keys()))\n",
    "    sub_keys = sorted(list(turn_sub2epi_into_epi2sub(epi2sub).keys()))\n",
    "\n",
    "    subtitle_gaps = {}\n",
    "    for i in range(len(epi_keys)-1):\n",
    "        epi_start = epi_keys[i]\n",
    "        epi_end = epi_keys[i+1]\n",
    "        key = (epi_start, epi_end)\n",
    "        if max(epi2sub[epi_start])+1<min(epi2sub[epi_end]):\n",
    "            subtitle_gaps[(epi_start, epi_end)] = [item for item in range(max(epi2sub[epi_start])+1, min(epi2sub[epi_end]))]\n",
    "\n",
    "    # Check whether the subtitle could be merged into utterances using sliding window\n",
    "    for start_epi_id, end_epi_id in subtitle_gaps:\n",
    "        start_epi = transformation(tbbt_episode[start_epi_id][0].replace(\"’\", \" \"))\n",
    "        end_epi = transformation(tbbt_episode[end_epi_id][0].replace(\"’\", \" \"))\n",
    "        # print(start_epi_id, start_epi)\n",
    "        # print(end_epi_id, end_epi)\n",
    "        # print('--')\n",
    "\n",
    "        for sub_id in subtitle_gaps[(start_epi_id, end_epi_id)]:\n",
    "            sub = transformation(en_subset[sub_id])\n",
    "            sub_substrings = get_sliding_window_substrings(sub, 6)\n",
    "            sub_substrings.append(sub)\n",
    "            # print(sub_id, sub)\n",
    "            # print(sub_substrings)\n",
    "            temp_start = [substring in start_epi for substring in sub_substrings]\n",
    "            signal_start = True in temp_start\n",
    "            temp_end = [substring in end_epi for substring in sub_substrings]\n",
    "            signal_end = True in temp_end\n",
    "            # print(temp_start, signal_start)\n",
    "            # print(temp_end, signal_end)\n",
    "            if signal_start==True and signal_end==True:\n",
    "                print(start_epi_id, start_epi)\n",
    "                print(end_epi_id, end_epi)\n",
    "                print(sub, \"|\", signal_start, \"|\", signal_end)\n",
    "            # print('--')\n",
    "\n",
    "        print('=='*50)\n",
    "\n",
    "extend_neighbors_episode_sliding(en_subset, epi2sub, tbbt_episode)"
   ],
   "metadata": {
    "collapsed": false,
    "pycharm": {
     "name": "#%%\n"
    }
   }
  },
  {
   "cell_type": "code",
   "execution_count": null,
   "outputs": [],
   "source": [
    "# Gather the gap of subtitle corresponding to episode utterance\n",
    "epi_keys = sorted(list(epi2sub.keys()))\n",
    "sub_keys = sorted(list(turn_sub2epi_into_epi2sub(epi2sub).keys()))\n",
    "\n",
    "subtitle_gaps = {}\n",
    "for i in range(len(epi_keys)-1):\n",
    "    epi_start = epi_keys[i]\n",
    "    epi_end = epi_keys[i+1]\n",
    "    key = (epi_start, epi_end)\n",
    "    if max(epi2sub[epi_start])+1<min(epi2sub[epi_end]):\n",
    "        subtitle_gaps[(epi_start, epi_end)] = [item for item in range(max(epi2sub[epi_start])+1, min(epi2sub[epi_end]))]\n",
    "\n",
    "\n",
    "# Check whether the subtitle could be merged into utterances using sliding window\n",
    "for start_epi_id, end_epi_id in subtitle_gaps:\n",
    "    start_epi = transformation(tbbt_episode[start_epi_id][0].replace(\"’\", \" \"))\n",
    "    end_epi = transformation(tbbt_episode[end_epi_id][0].replace(\"’\", \" \"))\n",
    "    print(start_epi_id, start_epi)\n",
    "    print(end_epi_id, end_epi)\n",
    "    print('--')\n",
    "\n",
    "    for sub_id in subtitle_gaps[(start_epi_id, end_epi_id)]:\n",
    "        sub = transformation(en_subset[sub_id])\n",
    "        sub_substrings = get_sliding_window_substrings(sub, 4)\n",
    "        sub_substrings.append(sub)\n",
    "        print(sub_id, sub)\n",
    "        print(sub_substrings)\n",
    "        temp_start = [substring in start_epi for substring in sub_substrings]\n",
    "        temp_end = [substring in end_epi for substring in sub_substrings]\n",
    "        print(temp_start)\n",
    "        print(temp_end)\n",
    "        print('--')\n",
    "\n",
    "    print('=='*50)"
   ],
   "metadata": {
    "collapsed": false,
    "pycharm": {
     "name": "#%%\n"
    }
   }
  },
  {
   "cell_type": "code",
   "execution_count": null,
   "outputs": [],
   "source": [
    "input_string = transformation(\"One across is Aegean\")\n",
    "substrings = get_sliding_window_substrings(input_string, 7)\n",
    "print(substrings)"
   ],
   "metadata": {
    "collapsed": false,
    "pycharm": {
     "name": "#%%\n"
    }
   }
  },
  {
   "cell_type": "code",
   "execution_count": null,
   "outputs": [],
   "source": [],
   "metadata": {
    "collapsed": false,
    "pycharm": {
     "name": "#%%\n"
    }
   }
  },
  {
   "cell_type": "code",
   "execution_count": null,
   "outputs": [],
   "source": [],
   "metadata": {
    "collapsed": false,
    "pycharm": {
     "name": "#%%\n"
    }
   }
  },
  {
   "cell_type": "code",
   "execution_count": null,
   "outputs": [],
   "source": [],
   "metadata": {
    "collapsed": false,
    "pycharm": {
     "name": "#%%\n"
    }
   }
  },
  {
   "cell_type": "code",
   "execution_count": null,
   "outputs": [],
   "source": [],
   "metadata": {
    "collapsed": false,
    "pycharm": {
     "name": "#%%\n"
    }
   }
  },
  {
   "cell_type": "code",
   "execution_count": null,
   "outputs": [],
   "source": [
    "# Gather the gap of subtitle corresponding to episode utterance\n",
    "epi_keys = sorted(list(epi2sub.keys()))\n",
    "sub_keys = sorted(list(turn_sub2epi_into_epi2sub(epi2sub).keys()))\n",
    "\n",
    "subtitle_gaps = {}\n",
    "for i in range(len(epi_keys)-1):\n",
    "    epi_start = epi_keys[i]\n",
    "    epi_end = epi_keys[i+1]\n",
    "    print(epi_start, epi2sub[epi_start])\n",
    "    print(epi_end, epi2sub[epi_end])\n",
    "    key = (epi_start, epi_end)\n",
    "    if max(epi2sub[epi_start])+1<min(epi2sub[epi_end]):\n",
    "        # value = (max(epi2sub[epi_start])+1, min(epi2sub[epi_end])-1)\n",
    "        value = [item for item in range(max(epi2sub[epi_start])+1, min(epi2sub[epi_end]))]\n",
    "        print(key, value)\n",
    "    else:\n",
    "        print(\"False\")\n",
    "    print()"
   ],
   "metadata": {
    "collapsed": false,
    "pycharm": {
     "name": "#%%\n"
    }
   }
  },
  {
   "cell_type": "code",
   "execution_count": null,
   "outputs": [],
   "source": [],
   "metadata": {
    "collapsed": false,
    "pycharm": {
     "name": "#%%\n"
    }
   }
  },
  {
   "cell_type": "code",
   "execution_count": null,
   "outputs": [],
   "source": [],
   "metadata": {
    "collapsed": false,
    "pycharm": {
     "name": "#%%\n"
    }
   }
  },
  {
   "cell_type": "code",
   "execution_count": null,
   "outputs": [],
   "source": [],
   "metadata": {
    "collapsed": false,
    "pycharm": {
     "name": "#%%\n"
    }
   }
  },
  {
   "cell_type": "code",
   "execution_count": null,
   "outputs": [],
   "source": [],
   "metadata": {
    "collapsed": false,
    "pycharm": {
     "name": "#%%\n"
    }
   }
  },
  {
   "cell_type": "code",
   "execution_count": null,
   "outputs": [],
   "source": [
    "# Gather the gap of subtitle corresponding to episode utterance\n",
    "epi_keys = sorted(list(epi2sub.keys()))\n",
    "sub_keys = sorted(list(turn_sub2epi_into_epi2sub(epi2sub).keys()))\n",
    "start = min(epi2sub[epi_keys[0]])\n",
    "end = max(epi2sub[epi_keys[-1]])\n",
    "for j in range(start, end+1):\n",
    "    print(j)"
   ],
   "metadata": {
    "collapsed": false,
    "pycharm": {
     "name": "#%%\n"
    }
   }
  },
  {
   "cell_type": "code",
   "execution_count": null,
   "outputs": [],
   "source": [
    "print(start, end)\n",
    "print(epi_keys)\n",
    "print(sub_keys)"
   ],
   "metadata": {
    "collapsed": false,
    "pycharm": {
     "name": "#%%\n"
    }
   }
  },
  {
   "cell_type": "code",
   "execution_count": null,
   "outputs": [],
   "source": [
    "# Extend the neighbor subtitles to episode utterance\n"
   ],
   "metadata": {
    "collapsed": false,
    "pycharm": {
     "name": "#%%\n"
    }
   }
  },
  {
   "cell_type": "code",
   "execution_count": null,
   "outputs": [],
   "source": [],
   "metadata": {
    "collapsed": false,
    "pycharm": {
     "name": "#%%\n"
    }
   }
  },
  {
   "cell_type": "code",
   "execution_count": null,
   "outputs": [],
   "source": [],
   "metadata": {
    "collapsed": false,
    "pycharm": {
     "name": "#%%\n"
    }
   }
  },
  {
   "cell_type": "code",
   "execution_count": null,
   "outputs": [],
   "source": [],
   "metadata": {
    "collapsed": false,
    "pycharm": {
     "name": "#%%\n"
    }
   }
  },
  {
   "cell_type": "code",
   "execution_count": null,
   "outputs": [],
   "source": [],
   "metadata": {
    "collapsed": false,
    "pycharm": {
     "name": "#%%\n"
    }
   }
  },
  {
   "cell_type": "code",
   "execution_count": null,
   "outputs": [],
   "source": [],
   "metadata": {
    "collapsed": false,
    "pycharm": {
     "name": "#%%\n"
    }
   }
  },
  {
   "cell_type": "code",
   "execution_count": null,
   "outputs": [],
   "source": [],
   "metadata": {
    "collapsed": false,
    "pycharm": {
     "name": "#%%\n"
    }
   }
  },
  {
   "cell_type": "code",
   "execution_count": null,
   "outputs": [],
   "source": [],
   "metadata": {
    "collapsed": false,
    "pycharm": {
     "name": "#%%\n"
    }
   }
  },
  {
   "cell_type": "code",
   "execution_count": null,
   "outputs": [],
   "source": [],
   "metadata": {
    "collapsed": false,
    "pycharm": {
     "name": "#%%\n"
    }
   }
  },
  {
   "cell_type": "code",
   "execution_count": null,
   "outputs": [],
   "source": [],
   "metadata": {
    "collapsed": false,
    "pycharm": {
     "name": "#%%\n"
    }
   }
  },
  {
   "cell_type": "code",
   "execution_count": null,
   "outputs": [],
   "source": [],
   "metadata": {
    "collapsed": false,
    "pycharm": {
     "name": "#%%\n"
    }
   }
  },
  {
   "cell_type": "code",
   "execution_count": null,
   "outputs": [],
   "source": [
    "epi2sub = extend_neighbors_sliding(en_subset, epi2sub, tbbt_episode)\n",
    "epi2sub = extend_neighbors_sliding(en_subset, epi2sub, tbbt_episode)\n",
    "epi2sub = extend_neighbors_sliding(en_subset, epi2sub, tbbt_episode)\n",
    "epi2sub = extend_neighbors_sliding(en_subset, epi2sub, tbbt_episode)\n",
    "print(epi2sub)\n",
    "print(len(epi2sub), len(turn_sub2epi_into_epi2sub(epi2sub)))"
   ],
   "metadata": {
    "collapsed": false,
    "pycharm": {
     "name": "#%%\n"
    }
   }
  },
  {
   "cell_type": "code",
   "execution_count": null,
   "outputs": [],
   "source": [
    "# Add within the gap\n",
    "gaps, abandons = get_subset_in_gaps(epi2sub)\n",
    "epi2sub = add_one_size_gap(gaps, epi2sub)\n",
    "print(epi2sub)\n",
    "print(len(epi2sub), len(turn_sub2epi_into_epi2sub(epi2sub)))"
   ],
   "metadata": {
    "collapsed": false,
    "pycharm": {
     "name": "#%%\n"
    }
   }
  },
  {
   "cell_type": "code",
   "execution_count": null,
   "outputs": [],
   "source": [
    "for x in gaps:\n",
    "    print(x)"
   ],
   "metadata": {
    "collapsed": false,
    "pycharm": {
     "name": "#%%\n"
    }
   }
  },
  {
   "cell_type": "code",
   "execution_count": null,
   "outputs": [],
   "source": [
    "count = 0\n",
    "for gap in gaps:\n",
    "    sub_ids = gap[1]\n",
    "    epi_ids = gap[0]\n",
    "    if not(len(sub_ids)==1 and len(epi_ids)==1):\n",
    "        continue\n",
    "    print(sub_ids, epi_ids)\n",
    "    print(\"Episode:\")\n",
    "    for epi_id in epi_ids:\n",
    "        print(len(transformation(tbbt_episode[epi_id][0]).strip().split(' ')), tbbt_episode[epi_id][0])\n",
    "\n",
    "    print()\n",
    "    print(\"Subtitle:\")\n",
    "    for sub_id in sub_ids:\n",
    "        print(len(transformation(en_subset[sub_id]).strip().split(' ')), en_subset[sub_id])\n",
    "\n",
    "    # if len(transformation(en_subset[sub_id]).strip().split(' '))==len(transformation(tbbt_episode[epi_id][0]).strip().split(' ')):\n",
    "    #     count += 1\n",
    "    count += 1\n",
    "    print('=='*50)"
   ],
   "metadata": {
    "collapsed": false,
    "pycharm": {
     "name": "#%%\n"
    }
   }
  },
  {
   "cell_type": "code",
   "execution_count": null,
   "outputs": [],
   "source": [],
   "metadata": {
    "collapsed": false,
    "pycharm": {
     "name": "#%%\n"
    }
   }
  },
  {
   "cell_type": "code",
   "execution_count": null,
   "outputs": [],
   "source": [],
   "metadata": {
    "collapsed": false,
    "pycharm": {
     "name": "#%%\n"
    }
   }
  },
  {
   "cell_type": "code",
   "execution_count": null,
   "outputs": [],
   "source": [],
   "metadata": {
    "collapsed": false,
    "pycharm": {
     "name": "#%%\n"
    }
   }
  },
  {
   "cell_type": "code",
   "execution_count": null,
   "outputs": [],
   "source": [],
   "metadata": {
    "collapsed": false,
    "pycharm": {
     "name": "#%%\n"
    }
   }
  },
  {
   "cell_type": "code",
   "execution_count": null,
   "outputs": [],
   "source": [],
   "metadata": {
    "collapsed": false,
    "pycharm": {
     "name": "#%%\n"
    }
   }
  },
  {
   "cell_type": "code",
   "execution_count": null,
   "outputs": [],
   "source": [
    "epi2sub = extend_neighbors_sliding(en_subset, epi2sub, tbbt_episode)\n",
    "epi2sub = extend_neighbors_sliding(en_subset, epi2sub, tbbt_episode)\n",
    "epi2sub = extend_neighbors_sliding(en_subset, epi2sub, tbbt_episode)\n",
    "epi2sub = extend_neighbors_sliding(en_subset, epi2sub, tbbt_episode)\n",
    "print(epi2sub)\n",
    "print(len(epi2sub), len(turn_sub2epi_into_epi2sub(epi2sub)))"
   ],
   "metadata": {
    "collapsed": false,
    "pycharm": {
     "name": "#%%\n"
    }
   }
  },
  {
   "cell_type": "code",
   "execution_count": null,
   "outputs": [],
   "source": [],
   "metadata": {
    "collapsed": false,
    "pycharm": {
     "name": "#%%\n"
    }
   }
  },
  {
   "cell_type": "code",
   "execution_count": null,
   "outputs": [],
   "source": [],
   "metadata": {
    "collapsed": false,
    "pycharm": {
     "name": "#%%\n"
    }
   }
  },
  {
   "cell_type": "code",
   "execution_count": null,
   "outputs": [],
   "source": [],
   "metadata": {
    "collapsed": false,
    "pycharm": {
     "name": "#%%\n"
    }
   }
  },
  {
   "cell_type": "code",
   "execution_count": null,
   "outputs": [],
   "source": [],
   "metadata": {
    "collapsed": false,
    "pycharm": {
     "name": "#%%\n"
    }
   }
  },
  {
   "cell_type": "code",
   "execution_count": null,
   "outputs": [],
   "source": [],
   "metadata": {
    "collapsed": false,
    "pycharm": {
     "name": "#%%\n"
    }
   }
  },
  {
   "cell_type": "code",
   "execution_count": null,
   "outputs": [],
   "source": [],
   "metadata": {
    "collapsed": false,
    "pycharm": {
     "name": "#%%\n"
    }
   }
  },
  {
   "cell_type": "code",
   "execution_count": null,
   "outputs": [],
   "source": [],
   "metadata": {
    "collapsed": false,
    "pycharm": {
     "name": "#%%\n"
    }
   }
  },
  {
   "cell_type": "code",
   "execution_count": null,
   "outputs": [],
   "source": [],
   "metadata": {
    "collapsed": false,
    "pycharm": {
     "name": "#%%\n"
    }
   }
  },
  {
   "cell_type": "code",
   "execution_count": null,
   "outputs": [],
   "source": [],
   "metadata": {
    "collapsed": false,
    "pycharm": {
     "name": "#%%\n"
    }
   }
  },
  {
   "cell_type": "code",
   "execution_count": null,
   "outputs": [],
   "source": [],
   "metadata": {
    "collapsed": false,
    "pycharm": {
     "name": "#%%\n"
    }
   }
  },
  {
   "cell_type": "code",
   "execution_count": null,
   "outputs": [],
   "source": [],
   "metadata": {
    "collapsed": false,
    "pycharm": {
     "name": "#%%\n"
    }
   }
  },
  {
   "cell_type": "code",
   "execution_count": null,
   "outputs": [],
   "source": [],
   "metadata": {
    "collapsed": false,
    "pycharm": {
     "name": "#%%\n"
    }
   }
  },
  {
   "cell_type": "code",
   "execution_count": null,
   "outputs": [],
   "source": [],
   "metadata": {
    "collapsed": false,
    "pycharm": {
     "name": "#%%\n"
    }
   }
  },
  {
   "cell_type": "code",
   "execution_count": null,
   "outputs": [],
   "source": [],
   "metadata": {
    "collapsed": false,
    "pycharm": {
     "name": "#%%\n"
    }
   }
  },
  {
   "cell_type": "code",
   "execution_count": null,
   "outputs": [],
   "source": [],
   "metadata": {
    "collapsed": false,
    "pycharm": {
     "name": "#%%\n"
    }
   }
  },
  {
   "cell_type": "code",
   "execution_count": null,
   "outputs": [],
   "source": [],
   "metadata": {
    "collapsed": false,
    "pycharm": {
     "name": "#%%\n"
    }
   }
  },
  {
   "cell_type": "code",
   "execution_count": null,
   "outputs": [],
   "source": [],
   "metadata": {
    "collapsed": false,
    "pycharm": {
     "name": "#%%\n"
    }
   }
  },
  {
   "cell_type": "code",
   "execution_count": null,
   "outputs": [],
   "source": [],
   "metadata": {
    "collapsed": false,
    "pycharm": {
     "name": "#%%\n"
    }
   }
  },
  {
   "cell_type": "code",
   "execution_count": null,
   "outputs": [],
   "source": [],
   "metadata": {
    "collapsed": false,
    "pycharm": {
     "name": "#%%\n"
    }
   }
  },
  {
   "cell_type": "code",
   "execution_count": null,
   "outputs": [],
   "source": [],
   "metadata": {
    "collapsed": false,
    "pycharm": {
     "name": "#%%\n"
    }
   }
  },
  {
   "cell_type": "code",
   "execution_count": null,
   "outputs": [],
   "source": [],
   "metadata": {
    "collapsed": false,
    "pycharm": {
     "name": "#%%\n"
    }
   }
  },
  {
   "cell_type": "code",
   "execution_count": null,
   "outputs": [],
   "source": [],
   "metadata": {
    "collapsed": false,
    "pycharm": {
     "name": "#%%\n"
    }
   }
  },
  {
   "cell_type": "code",
   "execution_count": null,
   "outputs": [],
   "source": [],
   "metadata": {
    "collapsed": false,
    "pycharm": {
     "name": "#%%\n"
    }
   }
  },
  {
   "cell_type": "code",
   "execution_count": null,
   "outputs": [],
   "source": [],
   "metadata": {
    "collapsed": false,
    "pycharm": {
     "name": "#%%\n"
    }
   }
  },
  {
   "cell_type": "code",
   "execution_count": null,
   "outputs": [],
   "source": [],
   "metadata": {
    "collapsed": false,
    "pycharm": {
     "name": "#%%\n"
    }
   }
  },
  {
   "cell_type": "code",
   "execution_count": 367,
   "outputs": [
    {
     "name": "stdout",
     "output_type": "stream",
     "text": [
      "[235] [23]\n",
      "Episode:\n",
      "12  I don’t know, I’ve never reneged on a proffer of sperm before.\n",
      "\n",
      "Subtitle:\n",
      "10 I've never reneged on a proffer of sperm before.\n",
      "====================================================================================================\n",
      "[241] [31]\n",
      "Episode:\n",
      "2  Not really.\n",
      "\n",
      "Subtitle:\n",
      "2 Not really.\n",
      "====================================================================================================\n",
      "[287] [83]\n",
      "Episode:\n",
      "25  Leonard, I’m not expert here but I believe in the context of a luncheon invitation, you might want to skip the reference to bowel movements.\n",
      "\n",
      "Subtitle:\n",
      "21 I'm no expert, but in the context of a lunch invitation you might wanna skip the reference to bowel movements.\n",
      "====================================================================================================\n",
      "[298] [98]\n",
      "Episode:\n",
      "1  Yeah. \n",
      "\n",
      "Subtitle:\n",
      "1 Yeah.\n",
      "====================================================================================================\n",
      "[324] [125]\n",
      "Episode:\n",
      "4  Yes I now, but…\n",
      "\n",
      "Subtitle:\n",
      "3 Yes, I know.\n",
      "====================================================================================================\n",
      "[385] [172]\n",
      "Episode:\n",
      "2  How so?\n",
      "\n",
      "Subtitle:\n",
      "3 LEONARD: How so?\n",
      "====================================================================================================\n",
      "[407] [191]\n",
      "Episode:\n",
      "2  See what?\n",
      "\n",
      "Subtitle:\n",
      "2 See what?\n",
      "====================================================================================================\n",
      "[410] [194]\n",
      "Episode:\n",
      "8  It’s before he became a creepy computer voice:.\n",
      "\n",
      "Subtitle:\n",
      "12 [IMITATING COMPUTERIZED VOICE] It's before he became a creepy computer voice.\n",
      "====================================================================================================\n",
      "[418] [202]\n",
      "Episode:\n",
      "1  Uh-huh.\n",
      "\n",
      "Subtitle:\n",
      "1 - Uh-huh.\n",
      "====================================================================================================\n",
      "[451] [229]\n",
      "Episode:\n",
      "2  Must we?\n",
      "\n",
      "Subtitle:\n",
      "2 - Must we?\n",
      "====================================================================================================\n",
      "[459] [233]\n",
      "Episode:\n",
      "2  Which is?\n",
      "\n",
      "Subtitle:\n",
      "2 - Which is?\n",
      "====================================================================================================\n",
      "[482] [251]\n",
      "Episode:\n",
      "1  Yeah.\n",
      "\n",
      "Subtitle:\n",
      "2 MAN: Yeah?\n",
      "====================================================================================================\n",
      "[486] [255]\n",
      "Episode:\n",
      "2  Get lost.\n",
      "\n",
      "Subtitle:\n",
      "2 - Get lost.\n",
      "====================================================================================================\n",
      "[528] [292]\n",
      "Episode:\n",
      "1  Smooth.\n",
      "\n",
      "Subtitle:\n",
      "1 Smooth.\n",
      "====================================================================================================\n",
      "[547] [308]\n",
      "Episode:\n",
      "1  So?\n",
      "\n",
      "Subtitle:\n",
      "5 - It would be gastronomically redundant.\n",
      "====================================================================================================\n"
     ]
    }
   ],
   "source": [
    "count = 0\n",
    "for gap in gaps:\n",
    "    sub_ids = gap[1]\n",
    "    epi_ids = gap[0]\n",
    "    if not(len(sub_ids)==1 and len(epi_ids)==1):\n",
    "        continue\n",
    "    print(sub_ids, epi_ids)\n",
    "    print(\"Episode:\")\n",
    "    for epi_id in epi_ids:\n",
    "        print(len(transformation(tbbt_episode[epi_id][0]).strip().split(' ')), tbbt_episode[epi_id][0])\n",
    "\n",
    "    print()\n",
    "    print(\"Subtitle:\")\n",
    "    for sub_id in sub_ids:\n",
    "        print(len(transformation(en_subset[sub_id]).strip().split(' ')), en_subset[sub_id])\n",
    "\n",
    "    # if len(transformation(en_subset[sub_id]).strip().split(' '))==len(transformation(tbbt_episode[epi_id][0]).strip().split(' ')):\n",
    "    #     count += 1\n",
    "    count += 1\n",
    "    print('=='*50)"
   ],
   "metadata": {
    "collapsed": false,
    "pycharm": {
     "name": "#%%\n"
    }
   }
  },
  {
   "cell_type": "code",
   "execution_count": null,
   "outputs": [],
   "source": [],
   "metadata": {
    "collapsed": false,
    "pycharm": {
     "name": "#%%\n"
    }
   }
  },
  {
   "cell_type": "code",
   "execution_count": null,
   "outputs": [],
   "source": [],
   "metadata": {
    "collapsed": false,
    "pycharm": {
     "name": "#%%\n"
    }
   }
  },
  {
   "cell_type": "code",
   "execution_count": null,
   "outputs": [],
   "source": [],
   "metadata": {
    "collapsed": false,
    "pycharm": {
     "name": "#%%\n"
    }
   }
  },
  {
   "cell_type": "code",
   "execution_count": null,
   "outputs": [],
   "source": [],
   "metadata": {
    "collapsed": false,
    "pycharm": {
     "name": "#%%\n"
    }
   }
  },
  {
   "cell_type": "code",
   "execution_count": null,
   "outputs": [],
   "source": [],
   "metadata": {
    "collapsed": false,
    "pycharm": {
     "name": "#%%\n"
    }
   }
  },
  {
   "cell_type": "code",
   "execution_count": 503,
   "outputs": [
    {
     "name": "stdout",
     "output_type": "stream",
     "text": [
      "{(1, 2): {168: [2], 169: [3], 170: [4], 171: [5], 172: [6], 173: [7], 174: [7], 175: [8], 176: [9], 177: [9], 178: [11], 179: [12], 180: [14], 181: [15], 182: [16], 183: [17], 184: [17], 185: [18], 186: [19], 187: [20], 188: [20], 190: [22], 191: [22], 192: [24], 193: [25], 194: [26], 195: [27], 196: [28], 200: [31], 201: [32], 202: [33], 204: [35], 205: [36], 206: [36], 208: [39], 209: [40], 210: [40], 211: [41], 212: [42], 213: [42], 214: [42], 215: [44], 216: [45], 217: [46], 218: [46], 219: [46], 220: [46], 221: [47], 222: [48], 223: [48], 224: [48], 225: [48], 226: [49], 231: [52], 232: [53], 233: [54], 234: [54], 235: [55], 236: [55], 237: [56], 240: [57], 241: [57], 242: [58], 243: [60], 245: [61], 246: [61], 250: [62], 251: [63], 252: [64], 253: [65], 254: [65], 255: [65], 260: [68], 263: [70], 264: [71], 265: [72], 266: [73], 267: [74], 268: [74], 273: [77], 274: [77], 278: [80, 81], 279: [80, 81], 280: [81], 282: [81], 283: [81], 284: [82], 285: [82], 287: [84], 288: [84], 289: [86], 290: [88], 291: [90], 292: [91], 293: [92], 294: [93], 295: [93], 296: [94], 297: [97], 298: [97, 98], 299: [97, 99], 300: [100], 303: [103], 305: [105], 306: [105], 307: [108], 310: [109], 311: [111, 112], 312: [112], 313: [113], 314: [114], 315: [115], 316: [116], 317: [117], 318: [118], 319: [118], 320: [119], 321: [119], 322: [120], 323: [121, 123], 324: [123], 325: [123], 327: [128], 329: [129], 330: [132], 331: [133], 332: [133], 334: [134], 335: [136], 336: [137], 338: [139], 339: [140], 340: [141, 142], 341: [141, 142], 342: [143], 343: [143], 344: [143], 345: [143], 346: [146], 347: [147], 348: [148], 351: [151], 353: [153], 354: [154], 355: [155], 356: [157], 357: [158], 358: [159], 363: [161], 364: [162], 365: [164], 366: [164], 367: [164], 368: [166], 370: [167], 371: [167], 372: [167], 373: [168], 374: [169], 376: [171], 377: [171], 378: [173], 379: [173], 380: [173], 381: [174], 382: [174], 383: [174], 384: [174], 385: [175], 386: [175], 387: [175], 388: [176], 390: [176], 391: [176], 392: [177], 393: [177], 394: [177], 395: [177], 397: [178], 398: [179], 399: [180], 400: [181], 402: [182], 403: [183], 404: [184], 405: [185], 406: [186], 408: [188], 409: [189], 410: [190], 411: [191], 412: [191], 413: [192], 414: [192], 415: [193], 416: [193], 417: [193], 418: [194], 419: [197], 421: [198], 422: [198], 423: [198], 424: [198], 426: [202], 427: [203], 428: [205], 429: [205], 430: [205], 431: [206], 432: [207], 433: [207], 434: [208], 435: [210], 436: [210], 437: [211], 440: [213], 441: [214], 442: [215], 445: [218], 446: [218], 447: [218], 448: [219], 452: [221], 455: [222], 456: [223], 458: [225], 460: [226], 467: [232]}}\n"
     ]
    }
   ],
   "source": [
    "print(alignment)"
   ],
   "metadata": {
    "collapsed": false,
    "pycharm": {
     "name": "#%%\n"
    }
   }
  },
  {
   "cell_type": "code",
   "execution_count": 312,
   "outputs": [],
   "source": [],
   "metadata": {
    "collapsed": false,
    "pycharm": {
     "name": "#%%\n"
    }
   }
  },
  {
   "cell_type": "code",
   "execution_count": 312,
   "outputs": [],
   "source": [],
   "metadata": {
    "collapsed": false,
    "pycharm": {
     "name": "#%%\n"
    }
   }
  },
  {
   "cell_type": "code",
   "execution_count": 312,
   "outputs": [],
   "source": [],
   "metadata": {
    "collapsed": false,
    "pycharm": {
     "name": "#%%\n"
    }
   }
  },
  {
   "cell_type": "code",
   "execution_count": null,
   "outputs": [],
   "source": [],
   "metadata": {
    "collapsed": false,
    "pycharm": {
     "name": "#%%\n"
    }
   }
  },
  {
   "cell_type": "code",
   "execution_count": null,
   "outputs": [],
   "source": [],
   "metadata": {
    "collapsed": false,
    "pycharm": {
     "name": "#%%\n"
    }
   }
  },
  {
   "cell_type": "code",
   "execution_count": null,
   "outputs": [],
   "source": [],
   "metadata": {
    "collapsed": false,
    "pycharm": {
     "name": "#%%\n"
    }
   }
  },
  {
   "cell_type": "code",
   "execution_count": null,
   "outputs": [],
   "source": [],
   "metadata": {
    "collapsed": false,
    "pycharm": {
     "name": "#%%\n"
    }
   }
  },
  {
   "cell_type": "code",
   "execution_count": null,
   "outputs": [],
   "source": [],
   "metadata": {
    "collapsed": false,
    "pycharm": {
     "name": "#%%\n"
    }
   }
  },
  {
   "cell_type": "code",
   "execution_count": null,
   "outputs": [],
   "source": [],
   "metadata": {
    "collapsed": false,
    "pycharm": {
     "name": "#%%\n"
    }
   }
  },
  {
   "cell_type": "code",
   "execution_count": null,
   "outputs": [],
   "source": [],
   "metadata": {
    "collapsed": false,
    "pycharm": {
     "name": "#%%\n"
    }
   }
  },
  {
   "cell_type": "code",
   "execution_count": null,
   "outputs": [],
   "source": [],
   "metadata": {
    "collapsed": false,
    "pycharm": {
     "name": "#%%\n"
    }
   }
  },
  {
   "cell_type": "code",
   "execution_count": null,
   "outputs": [],
   "source": [],
   "metadata": {
    "collapsed": false,
    "pycharm": {
     "name": "#%%\n"
    }
   }
  },
  {
   "cell_type": "code",
   "execution_count": null,
   "outputs": [],
   "source": [],
   "metadata": {
    "collapsed": false,
    "pycharm": {
     "name": "#%%\n"
    }
   }
  },
  {
   "cell_type": "code",
   "execution_count": null,
   "outputs": [],
   "source": [],
   "metadata": {
    "collapsed": false,
    "pycharm": {
     "name": "#%%\n"
    }
   }
  },
  {
   "cell_type": "code",
   "execution_count": null,
   "outputs": [],
   "source": [],
   "metadata": {
    "collapsed": false,
    "pycharm": {
     "name": "#%%\n"
    }
   }
  },
  {
   "cell_type": "code",
   "execution_count": null,
   "outputs": [],
   "source": [],
   "metadata": {
    "collapsed": false,
    "pycharm": {
     "name": "#%%\n"
    }
   }
  },
  {
   "cell_type": "code",
   "execution_count": null,
   "outputs": [],
   "source": [],
   "metadata": {
    "collapsed": false,
    "pycharm": {
     "name": "#%%\n"
    }
   }
  },
  {
   "cell_type": "code",
   "execution_count": null,
   "outputs": [],
   "source": [],
   "metadata": {
    "collapsed": false,
    "pycharm": {
     "name": "#%%\n"
    }
   }
  },
  {
   "cell_type": "code",
   "execution_count": null,
   "outputs": [],
   "source": [],
   "metadata": {
    "collapsed": false,
    "pycharm": {
     "name": "#%%\n"
    }
   }
  },
  {
   "cell_type": "code",
   "execution_count": null,
   "outputs": [],
   "source": [],
   "metadata": {
    "collapsed": false,
    "pycharm": {
     "name": "#%%\n"
    }
   }
  },
  {
   "cell_type": "code",
   "execution_count": 17,
   "outputs": [],
   "source": [
    "def temp_string_match_sliding_window(en_subset, episode, window_size=5):\n",
    "    res = {}\n",
    "    for i, subtitle in enumerate(en_subset):\n",
    "        subtitle = transformation(subtitle)\n",
    "        subtitle_tokens = subtitle.strip().split(\" \")\n",
    "        if len(subtitle_tokens) < window_size:\n",
    "            continue\n",
    "\n",
    "        subtitle_segments = []\n",
    "        for j in range(len(subtitle_tokens) - window_size):\n",
    "            subtitle_segments.append(\" \".join(subtitle_tokens[j: j + window_size]))\n",
    "            # print(\" \".join(subtitle_tokens[j: j+5]))\n",
    "\n",
    "        for j, (utt, speaker) in enumerate(episode):\n",
    "            utt = transformation(utt)\n",
    "            for sub_seg in subtitle_segments:\n",
    "                if sub_seg in utt:\n",
    "                    if i not in res:\n",
    "                        res[i] = set()\n",
    "                        res[i].add(j)\n",
    "                    else:\n",
    "                        res[i].add(j)\n",
    "\n",
    "    temp = filter_alignment_by_gap(res)\n",
    "\n",
    "    final = {}\n",
    "    for x in temp:\n",
    "        if len(temp[x])==1:\n",
    "            final[x] = temp[x]\n",
    "\n",
    "    return final"
   ],
   "metadata": {
    "collapsed": false,
    "pycharm": {
     "name": "#%%\n"
    }
   }
  },
  {
   "cell_type": "code",
   "execution_count": 24,
   "outputs": [],
   "source": [
    "def temp_string_match_sliding_window_no_filter(en_subset, episode, window_size=5):\n",
    "    res = {}\n",
    "    for i, subtitle in enumerate(en_subset):\n",
    "        subtitle = transformation(subtitle)\n",
    "        subtitle_tokens = subtitle.strip().split(\" \")\n",
    "        if len(subtitle_tokens) < window_size:\n",
    "            continue\n",
    "\n",
    "        subtitle_segments = []\n",
    "        for j in range(len(subtitle_tokens) - window_size):\n",
    "            subtitle_segments.append(\" \".join(subtitle_tokens[j: j + window_size]))\n",
    "            # print(\" \".join(subtitle_tokens[j: j+5]))\n",
    "\n",
    "        for j, (utt, speaker) in enumerate(episode):\n",
    "            utt = transformation(utt)\n",
    "            for sub_seg in subtitle_segments:\n",
    "                if sub_seg in utt:\n",
    "                    if i not in res:\n",
    "                        res[i] = set()\n",
    "                        res[i].add(j)\n",
    "                    else:\n",
    "                        res[i].add(j)\n",
    "    return res"
   ],
   "metadata": {
    "collapsed": false,
    "pycharm": {
     "name": "#%%\n"
    }
   }
  },
  {
   "cell_type": "code",
   "execution_count": 15,
   "outputs": [],
   "source": [
    "# Check one episode and adapt to the new tbbt transcript corpus\n",
    "\n",
    "(en_subset, zh_subset, tbbt_episode) = fetch_subsets(\n",
    "        episode=tbbt_transcripts,\n",
    "        en_subtitle=en_subtitle,\n",
    "        zh_subtitle=zh_subtitle,\n",
    "        results=results,\n",
    "        season_id=1,\n",
    "        episode_id=3,\n",
    "        bias=200\n",
    "    )"
   ],
   "metadata": {
    "collapsed": false,
    "pycharm": {
     "name": "#%%\n"
    }
   }
  },
  {
   "cell_type": "code",
   "execution_count": 60,
   "outputs": [
    {
     "name": "stdout",
     "output_type": "stream",
     "text": [
      "155 120\n",
      "112 91\n",
      "81 68\n"
     ]
    }
   ],
   "source": [
    "# Firstly perform exact match\n",
    "sub2epi = temp_string_match_sliding_window_no_filter(en_subset, tbbt_episode, window_size=5)\n",
    "epi2sub = turn_sub2epi_into_epi2sub(sub2epi)\n",
    "print(len(sub2epi), len(epi2sub))\n",
    "\n",
    "sub2epi = temp_string_match_sliding_window_no_filter(en_subset, tbbt_episode, window_size=6)\n",
    "epi2sub = turn_sub2epi_into_epi2sub(sub2epi)\n",
    "print(len(sub2epi), len(epi2sub))\n",
    "\n",
    "sub2epi = temp_string_match_sliding_window_no_filter(en_subset, tbbt_episode, window_size=7)\n",
    "epi2sub = turn_sub2epi_into_epi2sub(sub2epi)\n",
    "print(len(sub2epi), len(epi2sub))"
   ],
   "metadata": {
    "collapsed": false,
    "pycharm": {
     "name": "#%%\n"
    }
   }
  },
  {
   "cell_type": "code",
   "execution_count": 58,
   "outputs": [
    {
     "name": "stdout",
     "output_type": "stream",
     "text": [
      "95 72\n",
      "6 5\n",
      "4 4\n"
     ]
    }
   ],
   "source": [
    "# Firstly perform exact match\n",
    "sub2epi = temp_string_match_sliding_window(en_subset, tbbt_episode, window_size=5)\n",
    "epi2sub = turn_sub2epi_into_epi2sub(sub2epi)\n",
    "print(len(sub2epi), len(epi2sub))\n",
    "\n",
    "sub2epi = temp_string_match_sliding_window(en_subset, tbbt_episode, window_size=6)\n",
    "epi2sub = turn_sub2epi_into_epi2sub(sub2epi)\n",
    "print(len(sub2epi), len(epi2sub))\n",
    "\n",
    "sub2epi = temp_string_match_sliding_window(en_subset, tbbt_episode, window_size=7)\n",
    "epi2sub = turn_sub2epi_into_epi2sub(sub2epi)\n",
    "print(len(sub2epi), len(epi2sub))"
   ],
   "metadata": {
    "collapsed": false,
    "pycharm": {
     "name": "#%%\n"
    }
   }
  },
  {
   "cell_type": "code",
   "execution_count": 42,
   "outputs": [
    {
     "name": "stdout",
     "output_type": "stream",
     "text": [
      "191 [2]\n",
      "192 [2]\n",
      "194 [5]\n",
      "196 [6]\n",
      "197 [7]\n",
      "208 [15]\n",
      "221 [26]\n",
      "227 [30]\n",
      "229 [31]\n",
      "231 [34]\n",
      "233 [36]\n",
      "236 [38]\n",
      "242 [42]\n",
      "245 [44]\n",
      "258 [53]\n",
      "260 [54]\n",
      "263 [57]\n",
      "264 [58]\n",
      "265 [58]\n",
      "267 [59]\n",
      "271 [62]\n",
      "274 [64]\n",
      "275 [65]\n",
      "279 [68]\n",
      "280 [68]\n",
      "284 [74, 72]\n",
      "286 [74, 72]\n",
      "287 [75]\n",
      "288 [76]\n",
      "289 [76]\n",
      "291 [78]\n",
      "293 [79]\n",
      "294 [80]\n",
      "295 [80]\n",
      "296 [80]\n",
      "297 [81]\n",
      "299 [83]\n",
      "304 [89]\n",
      "306 [91]\n",
      "307 [92]\n",
      "313 [98]\n",
      "314 [99]\n",
      "315 [100]\n",
      "317 [101]\n",
      "318 [102]\n",
      "320 [103]\n",
      "321 [105]\n",
      "327 [111]\n",
      "328 [112]\n",
      "329 [112]\n",
      "331 [113]\n",
      "334 [115]\n",
      "335 [115]\n",
      "344 [120]\n",
      "345 [120]\n",
      "347 [121]\n",
      "350 [123]\n",
      "351 [124]\n",
      "356 [127]\n",
      "358 [128]\n",
      "359 [128]\n",
      "365 [131]\n",
      "370 [134]\n",
      "372 [136]\n",
      "373 [136]\n",
      "374 [136]\n",
      "377 [138]\n",
      "379 [141]\n",
      "381 [143]\n",
      "383 [144]\n",
      "384 [144]\n",
      "386 [144]\n",
      "398 [158]\n",
      "400 [160]\n",
      "403 [163]\n",
      "405 [165]\n",
      "406 [166]\n",
      "408 [168]\n",
      "412 [171]\n",
      "413 [171]\n",
      "416 [171]\n",
      "418 [171]\n",
      "427 [175]\n",
      "431 [180]\n",
      "435 [182]\n",
      "437 [183]\n",
      "438 [183]\n",
      "442 [189]\n",
      "444 [190]\n",
      "450 [196]\n",
      "452 [197]\n",
      "453 [198]\n",
      "455 [201]\n",
      "458 [205]\n",
      "459 [205]\n",
      "463 [208]\n",
      "467 [211]\n",
      "471 [214]\n",
      "473 [215]\n",
      "474 [215]\n",
      "477 [217]\n",
      "479 [218]\n",
      "481 [219]\n",
      "486 [222]\n",
      "490 [226]\n",
      "499 [236]\n",
      "500 [237]\n",
      "505 [241]\n",
      "507 [242]\n",
      "509 [244]\n",
      "512 [244]\n",
      "515 [247]\n"
     ]
    }
   ],
   "source": [
    "temp = sub2epi\n",
    "sub2epi = {}\n",
    "for x in sorted(list(temp.keys())):\n",
    "    sub2epi[x+2] = [item+2 for item in temp[x]]\n",
    "for x in sub2epi:\n",
    "    print(x, sub2epi[x])"
   ],
   "metadata": {
    "collapsed": false,
    "pycharm": {
     "name": "#%%\n"
    }
   }
  },
  {
   "cell_type": "code",
   "execution_count": 43,
   "outputs": [
    {
     "name": "stdout",
     "output_type": "stream",
     "text": [
      "2 [191, 192]\n",
      "5 [194]\n",
      "6 [196]\n",
      "7 [197]\n",
      "15 [208]\n",
      "26 [221]\n",
      "30 [227]\n",
      "31 [229]\n",
      "34 [231]\n",
      "36 [233]\n",
      "38 [236]\n",
      "42 [242]\n",
      "44 [245]\n",
      "53 [258]\n",
      "54 [260]\n",
      "57 [263]\n",
      "58 [264, 265]\n",
      "59 [267]\n",
      "62 [271]\n",
      "64 [274]\n",
      "65 [275]\n",
      "68 [279, 280]\n",
      "72 [284, 286]\n",
      "74 [284, 286]\n",
      "75 [287]\n",
      "76 [288, 289]\n",
      "78 [291]\n",
      "79 [293]\n",
      "80 [294, 295, 296]\n",
      "81 [297]\n",
      "83 [299]\n",
      "89 [304]\n",
      "91 [306]\n",
      "92 [307]\n",
      "98 [313]\n",
      "99 [314]\n",
      "100 [315]\n",
      "101 [317]\n",
      "102 [318]\n",
      "103 [320]\n",
      "105 [321]\n",
      "111 [327]\n",
      "112 [328, 329]\n",
      "113 [331]\n",
      "115 [334, 335]\n",
      "120 [344, 345]\n",
      "121 [347]\n",
      "123 [350]\n",
      "124 [351]\n",
      "127 [356]\n",
      "128 [358, 359]\n",
      "131 [365]\n",
      "134 [370]\n",
      "136 [372, 373, 374]\n",
      "138 [377]\n",
      "141 [379]\n",
      "143 [381]\n",
      "144 [383, 384, 386]\n",
      "158 [398]\n",
      "160 [400]\n",
      "163 [403]\n",
      "165 [405]\n",
      "166 [406]\n",
      "168 [408]\n",
      "171 [412, 413, 416, 418]\n",
      "175 [427]\n",
      "180 [431]\n",
      "182 [435]\n",
      "183 [437, 438]\n",
      "189 [442]\n",
      "190 [444]\n",
      "196 [450]\n",
      "197 [452]\n",
      "198 [453]\n",
      "201 [455]\n",
      "205 [458, 459]\n",
      "208 [463]\n",
      "211 [467]\n",
      "214 [471]\n",
      "215 [473, 474]\n",
      "217 [477]\n",
      "218 [479]\n",
      "219 [481]\n",
      "222 [486]\n",
      "226 [490]\n",
      "236 [499]\n",
      "237 [500]\n",
      "241 [505]\n",
      "242 [507]\n",
      "244 [509, 512]\n",
      "247 [515]\n"
     ]
    }
   ],
   "source": [
    "temp = epi2sub\n",
    "epi2sub = {}\n",
    "for x in sorted(list(temp.keys())):\n",
    "    epi2sub[x+2] = [item+2 for item in temp[x]]\n",
    "\n",
    "for x in epi2sub:\n",
    "    print(x, epi2sub[x])"
   ],
   "metadata": {
    "collapsed": false,
    "pycharm": {
     "name": "#%%\n"
    }
   }
  },
  {
   "cell_type": "code",
   "execution_count": 44,
   "outputs": [
    {
     "name": "stdout",
     "output_type": "stream",
     "text": [
      "112\n",
      "91\n"
     ]
    }
   ],
   "source": [
    "print(len(sub2epi))\n",
    "print(len(epi2sub))"
   ],
   "metadata": {
    "collapsed": false,
    "pycharm": {
     "name": "#%%\n"
    }
   }
  },
  {
   "cell_type": "code",
   "execution_count": null,
   "outputs": [],
   "source": [],
   "metadata": {
    "collapsed": false,
    "pycharm": {
     "name": "#%%\n"
    }
   }
  },
  {
   "cell_type": "code",
   "execution_count": 8,
   "outputs": [],
   "source": [
    "def look_alignment(tbbt, en_subtitle, other_subtitle, alignment, season_id, episode_id, bias):\n",
    "    # Fetch subset located by the stage-1 alignment\n",
    "    (en_subset, zh_subset, tbbt_episode) = fetch_subsets(\n",
    "        episode=tbbt,\n",
    "        en_subtitle=en_subtitle,\n",
    "        zh_subtitle=other_subtitle,\n",
    "        results=alignment,\n",
    "        season_id=season_id,\n",
    "        episode_id=episode_id,\n",
    "        bias=bias\n",
    "    )\n",
    "\n",
    "    temp = []\n",
    "\n",
    "    # Perform string match with sliding window\n",
    "    count = 0\n",
    "    sub2epi = string_match_sliding_window(en_subset, tbbt_episode, 5)\n",
    "    epi2sub = turn_sub2epi_into_epi2sub(sub2epi)\n",
    "    temp.append(epi2sub)\n",
    "    # print(epi2sub)\n",
    "    # print(\"Episode Number:\", len(epi2sub), \"Subtitle Number:\", len(sub2epi))\n",
    "    # print(\"==\"*50)\n",
    "\n",
    "\n",
    "    # Extend the neighbors\n",
    "    epi2sub = extend_neighbors(en_subset, epi2sub, tbbt_episode)\n",
    "    sub2epi = turn_sub2epi_into_epi2sub(epi2sub)\n",
    "    temp.append(epi2sub)\n",
    "    # print(epi2sub)\n",
    "    # print(\"Episode Number:\", len(epi2sub), \"Subtitle Number:\", len(sub2epi))\n",
    "    # print(\"==\"*50)\n",
    "\n",
    "\n",
    "    # Perform exact match and add it to the whole alignment\n",
    "    exact_match_result = exact_match(en_subset, tbbt_episode)\n",
    "    sub2epi = add_cleaned_exact_match_result(sub2epi, exact_match_result)\n",
    "    epi2sub = turn_sub2epi_into_epi2sub(sub2epi)\n",
    "    temp.append(epi2sub)\n",
    "    # print(epi2sub)\n",
    "    # print(\"Episode Number:\", len(epi2sub), \"Subtitle Number:\", len(sub2epi))\n",
    "    # print(\"==\"*50)\n",
    "\n",
    "\n",
    "    # Extend the gap\n",
    "    sub2epi = full_fill_gap(sub2epi)\n",
    "    epi2sub = turn_sub2epi_into_epi2sub(sub2epi)\n",
    "    temp.append(epi2sub)\n",
    "\n",
    "    # Extend the neighbors\n",
    "    epi2sub = extend_neighbors(en_subset, epi2sub, tbbt_episode)\n",
    "    sub2epi = turn_sub2epi_into_epi2sub(epi2sub)\n",
    "    temp.append(epi2sub)\n",
    "\n",
    "    return temp"
   ],
   "metadata": {
    "collapsed": false,
    "pycharm": {
     "name": "#%%\n"
    }
   }
  },
  {
   "cell_type": "code",
   "execution_count": 9,
   "outputs": [
    {
     "name": "stderr",
     "output_type": "stream",
     "text": [
      "  0%|          | 0/2 [00:00<?, ?it/s]\n",
      "  0%|          | 0/4 [00:00<?, ?it/s]\u001B[A\n",
      " 25%|██▌       | 1/4 [00:29<01:27, 29.08s/it]\u001B[A\n",
      " 50%|█████     | 2/4 [00:43<00:41, 20.61s/it]\u001B[A\n",
      " 75%|███████▌  | 3/4 [00:58<00:17, 17.78s/it]\u001B[A\n",
      "100%|██████████| 4/4 [01:09<00:00, 17.45s/it]\u001B[A\n",
      " 50%|█████     | 1/2 [01:09<01:09, 69.81s/it]\n",
      "  0%|          | 0/4 [00:00<?, ?it/s]\u001B[A\n",
      " 25%|██▌       | 1/4 [00:13<00:39, 13.30s/it]\u001B[A\n",
      " 50%|█████     | 2/4 [00:30<00:31, 15.66s/it]\u001B[A\n",
      " 75%|███████▌  | 3/4 [00:43<00:14, 14.20s/it]\u001B[A\n",
      "100%|██████████| 4/4 [00:57<00:00, 14.41s/it]\u001B[A\n",
      "100%|██████████| 2/2 [02:07<00:00, 63.73s/it]\n"
     ]
    }
   ],
   "source": [
    "further_alignment = {}\n",
    "for i in tqdm(range(2)):\n",
    "    for j in tqdm(range(4)):\n",
    "        try:\n",
    "            temp = look_alignment(tbbt_transcripts, en_subtitle, zh_subtitle, results, i+1, j+1, 200)\n",
    "            further_alignment[(i,j)] = temp\n",
    "            print(\"Season:\", i+1,\"Episode:\", j+1, \"Episode Number:\",len(temp), \"Subtitle Number:\",len(turn_sub2epi_into_epi2sub(temp)))\n",
    "        except:\n",
    "            pass"
   ],
   "metadata": {
    "collapsed": false,
    "pycharm": {
     "name": "#%%\n"
    }
   }
  },
  {
   "cell_type": "code",
   "execution_count": 10,
   "outputs": [
    {
     "name": "stdout",
     "output_type": "stream",
     "text": [
      "(0, 0) 133 133 171 171\n",
      "(0, 1) 109 109 130 130\n",
      "(0, 2) 72 72 90 90\n",
      "(0, 3) 112 112 134 134\n",
      "(1, 0) 1 1 1 1\n",
      "(1, 1) 84 84 104 104\n",
      "(1, 2) 113 113 135 135\n",
      "(1, 3) 124 124 159 159\n"
     ]
    }
   ],
   "source": [
    "for x in further_alignment:\n",
    "    print(x, len(further_alignment[x][0]), len(further_alignment[x][1]),len(further_alignment[x][2]),len(further_alignment[x][3]))"
   ],
   "metadata": {
    "collapsed": false,
    "pycharm": {
     "name": "#%%\n"
    }
   }
  },
  {
   "cell_type": "code",
   "execution_count": 14,
   "outputs": [],
   "source": [
    "with open('further_alignment.pkl', 'rb') as f:\n",
    "    alignment = pkl.load(f)"
   ],
   "metadata": {
    "collapsed": false,
    "pycharm": {
     "name": "#%%\n"
    }
   }
  },
  {
   "cell_type": "code",
   "execution_count": 11,
   "outputs": [],
   "source": [
    "alignment = further_alignment"
   ],
   "metadata": {
    "collapsed": false,
    "pycharm": {
     "name": "#%%\n"
    }
   }
  },
  {
   "cell_type": "code",
   "execution_count": 12,
   "outputs": [
    {
     "name": "stdout",
     "output_type": "stream",
     "text": [
      "(0, 0) 133 133 171 171\n",
      "(0, 1) 109 109 130 130\n",
      "(0, 2) 72 72 90 90\n",
      "(0, 3) 112 112 134 134\n",
      "(1, 0) 1 1 1 1\n",
      "(1, 1) 84 84 104 104\n",
      "(1, 2) 113 113 135 135\n",
      "(1, 3) 124 124 159 159\n"
     ]
    }
   ],
   "source": [
    "for x in alignment:\n",
    "    print(x, len(alignment[x][0]), len(alignment[x][1]),len(alignment[x][2]),len(alignment[x][3]))"
   ],
   "metadata": {
    "collapsed": false,
    "pycharm": {
     "name": "#%%\n"
    }
   }
  },
  {
   "cell_type": "code",
   "execution_count": 47,
   "outputs": [
    {
     "name": "stdout",
     "output_type": "stream",
     "text": [
      "{2: [191, 192], 5: [194], 6: [196], 7: [197], 15: [208], 26: [221], 30: [227], 31: [229], 34: [231], 36: [233], 38: [236], 42: [242], 44: [245], 53: [258], 54: [260], 57: [263], 58: [264, 265], 59: [267], 62: [271], 64: [274], 65: [275], 68: [279, 280], 72: [284, 286], 74: [284, 286], 75: [287], 76: [288, 289], 78: [291], 79: [293], 80: [294, 295, 296], 81: [297], 83: [299], 89: [304], 91: [306], 92: [307], 98: [313], 99: [314], 100: [315], 101: [317], 102: [318], 103: [320], 105: [321], 111: [327], 112: [328, 329], 113: [331], 115: [334, 335], 120: [344, 345], 121: [347], 123: [350], 124: [351], 127: [356], 128: [358, 359], 131: [365], 134: [370], 136: [372, 373, 374], 138: [377], 141: [379], 143: [381], 144: [383, 384, 386], 158: [398], 160: [400], 163: [403], 165: [405], 166: [406], 168: [408], 171: [412, 413, 416, 418], 175: [427], 180: [431], 182: [435], 183: [437, 438], 189: [442], 190: [444], 196: [450], 197: [452], 198: [453], 201: [455], 205: [458, 459], 208: [463], 211: [467], 214: [471], 215: [473, 474], 217: [477], 218: [479], 219: [481], 222: [486], 226: [490], 236: [499], 237: [500], 241: [505], 242: [507], 244: [509, 512], 247: [515]}\n"
     ]
    }
   ],
   "source": [
    "print(epi2sub)"
   ],
   "metadata": {
    "collapsed": false,
    "pycharm": {
     "name": "#%%\n"
    }
   }
  },
  {
   "cell_type": "code",
   "execution_count": 244,
   "outputs": [],
   "source": [
    "alignment = alignment_seeds"
   ],
   "metadata": {
    "collapsed": false,
    "pycharm": {
     "name": "#%%\n"
    }
   }
  },
  {
   "cell_type": "code",
   "execution_count": 248,
   "outputs": [
    {
     "name": "stdout",
     "output_type": "stream",
     "text": [
      "(1, 1)\n",
      "(1, 2)\n",
      "(1, 3)\n",
      "(1, 4)\n",
      "(1, 5)\n",
      "(1, 6)\n",
      "(1, 7)\n",
      "(1, 8)\n",
      "(1, 9)\n",
      "(1, 10)\n",
      "(1, 11)\n",
      "(1, 12)\n",
      "(1, 13)\n",
      "(1, 14)\n",
      "(1, 15)\n",
      "(1, 16)\n",
      "(2, 1)\n",
      "(2, 2)\n",
      "(2, 3)\n",
      "(2, 4)\n",
      "(2, 5)\n",
      "(2, 6)\n",
      "(2, 7)\n",
      "(2, 8)\n",
      "(2, 9)\n",
      "(2, 10)\n",
      "(2, 11)\n",
      "(2, 12)\n",
      "(2, 13)\n",
      "(2, 14)\n",
      "(2, 15)\n",
      "(2, 16)\n",
      "(2, 17)\n",
      "(2, 18)\n",
      "(2, 19)\n",
      "(2, 20)\n",
      "(2, 21)\n",
      "(2, 22)\n",
      "(2, 23)\n",
      "(3, 1)\n",
      "(3, 2)\n",
      "(3, 3)\n",
      "(3, 4)\n",
      "(3, 5)\n",
      "(3, 6)\n",
      "(3, 7)\n",
      "(3, 8)\n",
      "(3, 9)\n",
      "(3, 10)\n",
      "(3, 11)\n",
      "(3, 12)\n",
      "(3, 13)\n",
      "(3, 14)\n",
      "(3, 15)\n",
      "(3, 16)\n",
      "(3, 17)\n",
      "(3, 18)\n",
      "(3, 19)\n",
      "(3, 20)\n",
      "(3, 21)\n",
      "(3, 22)\n",
      "(3, 23)\n",
      "(4, 1)\n",
      "(4, 2)\n",
      "(4, 3)\n",
      "(4, 4)\n",
      "(4, 5)\n",
      "(4, 6)\n",
      "(4, 7)\n",
      "(4, 8)\n",
      "(4, 9)\n",
      "(4, 10)\n",
      "(4, 11)\n",
      "(4, 12)\n",
      "(4, 13)\n",
      "(4, 14)\n",
      "(4, 15)\n",
      "(4, 17)\n",
      "(4, 18)\n",
      "(4, 19)\n",
      "(4, 20)\n",
      "(4, 21)\n",
      "(4, 22)\n",
      "(4, 23)\n",
      "(4, 24)\n",
      "(5, 1)\n",
      "(5, 2)\n",
      "(5, 3)\n",
      "(5, 4)\n",
      "(5, 5)\n",
      "(5, 6)\n",
      "(5, 7)\n",
      "(5, 8)\n",
      "(5, 9)\n",
      "(5, 10)\n",
      "(5, 11)\n",
      "(5, 12)\n",
      "(5, 13)\n",
      "(5, 14)\n",
      "(5, 15)\n",
      "(5, 16)\n",
      "(5, 17)\n",
      "(5, 18)\n",
      "(5, 19)\n",
      "(5, 20)\n",
      "(5, 21)\n",
      "(5, 22)\n",
      "(5, 23)\n",
      "(6, 1)\n",
      "(6, 2)\n",
      "(6, 3)\n",
      "(6, 4)\n",
      "(6, 5)\n",
      "(6, 6)\n",
      "(6, 7)\n",
      "(6, 8)\n",
      "(6, 9)\n",
      "(6, 10)\n",
      "(6, 11)\n",
      "(6, 12)\n",
      "(6, 13)\n",
      "(6, 14)\n",
      "(6, 15)\n",
      "(6, 16)\n",
      "(6, 17)\n",
      "(6, 18)\n",
      "(6, 19)\n",
      "(6, 20)\n",
      "(6, 21)\n",
      "(6, 22)\n",
      "(6, 23)\n",
      "(6, 24)\n",
      "(7, 1)\n",
      "(7, 2)\n",
      "(7, 3)\n",
      "(7, 4)\n",
      "(7, 5)\n",
      "(7, 6)\n",
      "(7, 7)\n",
      "(7, 8)\n",
      "(7, 9)\n",
      "(7, 10)\n",
      "(7, 11)\n",
      "(7, 13)\n",
      "(7, 14)\n",
      "(7, 15)\n",
      "(7, 16)\n",
      "(7, 17)\n",
      "(7, 18)\n",
      "(7, 19)\n",
      "(7, 20)\n",
      "(7, 21)\n",
      "(7, 22)\n",
      "(7, 23)\n",
      "(7, 24)\n",
      "(8, 1)\n",
      "(8, 2)\n",
      "(8, 3)\n",
      "(8, 4)\n",
      "(8, 5)\n",
      "(8, 6)\n",
      "(8, 8)\n",
      "(8, 9)\n",
      "(8, 10)\n",
      "(8, 11)\n",
      "(8, 12)\n",
      "(8, 13)\n",
      "(8, 15)\n",
      "(8, 16)\n",
      "(8, 17)\n",
      "(8, 18)\n",
      "(8, 19)\n",
      "(8, 20)\n",
      "(8, 21)\n",
      "(8, 22)\n",
      "(8, 23)\n",
      "(8, 24)\n",
      "(9, 1)\n",
      "(9, 2)\n",
      "(9, 3)\n",
      "(9, 4)\n",
      "(9, 5)\n",
      "(9, 6)\n",
      "(9, 7)\n",
      "(9, 9)\n",
      "(9, 10)\n",
      "(9, 11)\n",
      "(9, 12)\n",
      "(9, 13)\n",
      "(9, 14)\n",
      "(9, 15)\n",
      "(9, 16)\n",
      "(9, 24)\n"
     ]
    }
   ],
   "source": [
    "for x in alignment:\n",
    "    print(x)"
   ],
   "metadata": {
    "collapsed": false,
    "pycharm": {
     "name": "#%%\n"
    }
   }
  },
  {
   "cell_type": "code",
   "execution_count": 290,
   "outputs": [
    {
     "ename": "TypeError",
     "evalue": "list indices must be integers or slices, not str",
     "output_type": "error",
     "traceback": [
      "\u001B[1;31m---------------------------------------------------------------------------\u001B[0m",
      "\u001B[1;31mTypeError\u001B[0m                                 Traceback (most recent call last)",
      "\u001B[1;32m~\\AppData\\Local\\Temp/ipykernel_17804/518642356.py\u001B[0m in \u001B[0;36m<module>\u001B[1;34m\u001B[0m\n\u001B[1;32m----> 1\u001B[1;33m \u001B[0malignment\u001B[0m \u001B[1;33m=\u001B[0m \u001B[1;33m{\u001B[0m\u001B[1;33m(\u001B[0m\u001B[1;36m1\u001B[0m\u001B[1;33m,\u001B[0m\u001B[1;36m1\u001B[0m\u001B[1;33m)\u001B[0m\u001B[1;33m:\u001B[0m \u001B[0mturn_sub2epi_into_epi2sub\u001B[0m\u001B[1;33m(\u001B[0m\u001B[0mtemp\u001B[0m\u001B[1;33m)\u001B[0m\u001B[1;33m}\u001B[0m\u001B[1;33m\u001B[0m\u001B[1;33m\u001B[0m\u001B[0m\n\u001B[0m",
      "\u001B[1;32mD:\\projects\\multi_coref\\tbbt\\utils\\alignment.py\u001B[0m in \u001B[0;36mturn_sub2epi_into_epi2sub\u001B[1;34m(sub2epi)\u001B[0m\n\u001B[0;32m     99\u001B[0m     \u001B[0mepi2sub\u001B[0m \u001B[1;33m=\u001B[0m \u001B[1;33m{\u001B[0m\u001B[1;33m}\u001B[0m\u001B[1;33m\u001B[0m\u001B[1;33m\u001B[0m\u001B[0m\n\u001B[0;32m    100\u001B[0m     \u001B[1;32mfor\u001B[0m \u001B[0msub_id\u001B[0m \u001B[1;32min\u001B[0m \u001B[0msub2epi\u001B[0m\u001B[1;33m:\u001B[0m\u001B[1;33m\u001B[0m\u001B[1;33m\u001B[0m\u001B[0m\n\u001B[1;32m--> 101\u001B[1;33m         \u001B[1;32mfor\u001B[0m \u001B[0mepi_id\u001B[0m \u001B[1;32min\u001B[0m \u001B[0msub2epi\u001B[0m\u001B[1;33m[\u001B[0m\u001B[0msub_id\u001B[0m\u001B[1;33m]\u001B[0m\u001B[1;33m:\u001B[0m\u001B[1;33m\u001B[0m\u001B[1;33m\u001B[0m\u001B[0m\n\u001B[0m\u001B[0;32m    102\u001B[0m             \u001B[1;32mif\u001B[0m \u001B[0mepi_id\u001B[0m \u001B[1;32mnot\u001B[0m \u001B[1;32min\u001B[0m \u001B[0mepi2sub\u001B[0m\u001B[1;33m:\u001B[0m\u001B[1;33m\u001B[0m\u001B[1;33m\u001B[0m\u001B[0m\n\u001B[0;32m    103\u001B[0m                 \u001B[0mepi2sub\u001B[0m\u001B[1;33m[\u001B[0m\u001B[0mepi_id\u001B[0m\u001B[1;33m]\u001B[0m \u001B[1;33m=\u001B[0m \u001B[1;33m[\u001B[0m\u001B[0msub_id\u001B[0m\u001B[1;33m]\u001B[0m\u001B[1;33m\u001B[0m\u001B[1;33m\u001B[0m\u001B[0m\n",
      "\u001B[1;31mTypeError\u001B[0m: list indices must be integers or slices, not str"
     ]
    }
   ],
   "source": [
    "alignment = {(1,1): turn_sub2epi_into_epi2sub(temp)}"
   ],
   "metadata": {
    "collapsed": false,
    "pycharm": {
     "name": "#%%\n"
    }
   }
  },
  {
   "cell_type": "code",
   "execution_count": 294,
   "outputs": [
    {
     "name": "stdout",
     "output_type": "stream",
     "text": [
      "{0: [200], 9: [215], 15: [224], 16: [225, 226], 17: [229], 28: [239], 34: [246, 247], 35: [248], 65: [268], 75: [282], 82: [285, 286], 88: [290], 89: [291], 90: [292], 93: [293], 96: [295], 100: [300], 102: [301, 302], 108: [307], 116: [314, 316], 117: [318], 134: [333], 135: [334], 145: [348], 148: [351], 154: [360], 155: [362], 160: [368, 369], 161: [373, 374, 375], 162: [378], 171: [384], 173: [386], 174: [387], 175: [388], 176: [389], 177: [390], 183: [396], 186: [400, 401], 193: [409], 201: [417], 207: [423], 208: [424, 425], 210: [430], 215: [435], 226: [449], 228: [450], 230: [452, 453, 454, 455, 456], 232: [458], 237: [464], 240: [467], 241: [468, 469, 470], 242: [472], 245: [476], 258: [489, 490], 259: [491], 262: [494, 495], 263: [496], 270: [503], 275: [506], 280: [510, 511], 288: [523, 524], 295: [531], 296: [532], 297: [533], 302: [542], 309: [548], 311: [550, 551], 314: [555]}\n"
     ]
    }
   ],
   "source": [
    "# Write into xlsx file\n",
    "for x in alignment:\n",
    "    print(alignment[x])\n",
    "    # Define season and episode\n",
    "    season_id = x[0]\n",
    "    episode_id = x[1]\n",
    "\n",
    "    # Define xlsx file\n",
    "    episode_book = xlsxwriter.Workbook('xlsx_files/episodes/test_episode_s%de%d.xlsx'%(season_id, episode_id))\n",
    "    episode_sheet = episode_book.add_worksheet()\n",
    "    episode_bold = episode_book.add_format({'bold':1})\n",
    "    for j, item in enumerate(['utterance', 'speaker', 'subtitle id']):\n",
    "        episode_sheet.write(0, j, item, episode_bold)\n",
    "\n",
    "    subtitle_book = xlsxwriter.Workbook('xlsx_files/subtitles/test_subtitle_s%de%d.xlsx'%(season_id, episode_id))\n",
    "    subtitle_sheet = subtitle_book.add_worksheet()\n",
    "    subtitle_bold = subtitle_book.add_format({'bold':1})\n",
    "    for j, item in enumerate(['subtitle_en', 'subtitle_zh', 'episode id']):\n",
    "        subtitle_sheet.write(0, j, item, subtitle_bold)\n",
    "\n",
    "    # Load Data\n",
    "    sub2epi = alignment[x]\n",
    "    epi2sub = turn_sub2epi_into_epi2sub(sub2epi)\n",
    "\n",
    "    (en_subset, zh_subset, tbbt_episode) = fetch_subsets(\n",
    "        episode=tbbt_transcripts,\n",
    "        en_subtitle=en_subtitle,\n",
    "        zh_subtitle=zh_subtitle,\n",
    "        results=results,\n",
    "        season_id=season_id,\n",
    "        episode_id=episode_id,\n",
    "        bias=200\n",
    "    )\n",
    "\n",
    "    # Write into file\n",
    "    for i, (utt, speaker) in enumerate(tbbt_episode):\n",
    "        if i in epi2sub:\n",
    "            temp = [utt, str(speaker), \" \".join([str(item+2) for item in epi2sub[i]])]\n",
    "            for j, item in enumerate(temp):\n",
    "                episode_sheet.write(i+1, j, item, episode_bold)\n",
    "        else:\n",
    "            temp = [utt, str(speaker), \" \"]\n",
    "            for j, item in enumerate(temp):\n",
    "                episode_sheet.write(i+1, j, item)\n",
    "\n",
    "    for i, subtitle in enumerate(en_subset):\n",
    "        if i in sub2epi:\n",
    "            temp = [subtitle, zh_subset[i], \" \".join([str(item+2) for item in sub2epi[i]])]\n",
    "            for j, item in enumerate(temp):\n",
    "                subtitle_sheet.write(i+1, j, item, subtitle_bold)\n",
    "        else:\n",
    "            temp = [subtitle, zh_subset[i], \" \"]\n",
    "            for j, item in enumerate(temp):\n",
    "                subtitle_sheet.write(i+1, j, item)\n",
    "\n",
    "    episode_book.close()\n",
    "    subtitle_book.close()"
   ],
   "metadata": {
    "collapsed": false,
    "pycharm": {
     "name": "#%%\n"
    }
   }
  },
  {
   "cell_type": "code",
   "execution_count": null,
   "outputs": [],
   "source": [
    "# Check current alignments\n",
    "for x in alignment:\n",
    "    # Load Data\n",
    "    epi2sub = alignment[x][-1]\n",
    "\n",
    "    pass\n"
   ],
   "metadata": {
    "collapsed": false,
    "pycharm": {
     "name": "#%%\n"
    }
   }
  },
  {
   "cell_type": "code",
   "execution_count": null,
   "outputs": [],
   "source": [],
   "metadata": {
    "collapsed": false,
    "pycharm": {
     "name": "#%%\n"
    }
   }
  },
  {
   "cell_type": "code",
   "execution_count": 36,
   "outputs": [
    {
     "name": "stdout",
     "output_type": "stream",
     "text": [
      "{0: [200, 201, 202, 203], 2: [205], 5: [206, 207], 8: [214], 9: [215], 12: [218, 219], 15: [222, 223, 224], 16: [225, 226], 17: [227, 228, 229], 21: [233], 24: [235], 29: [239], 31: [240], 32: [241], 33: [242], 35: [246, 247], 36: [248], 37: [249], 39: [251], 40: [252], 41: [253], 42: [254], 48: [256], 50: [259], 52: [261], 58: [263], 59: [264], 66: [266], 67: [267], 68: [268], 69: [269], 70: [270], 72: [273], 73: [274, 275], 76: [279], 78: [282], 79: [283], 85: [285, 286], 86: [287], 91: [290], 92: [291], 93: [292], 96: [293], 99: [295], 100: [297], 102: [299], 103: [300], 104: [301], 105: [302], 108: [304], 110: [306], 111: [307], 112: [308], 114: [311], 115: [312], 118: [313], 119: [314, 315, 316, 317], 120: [318], 122: [319], 124: [320], 126: [321, 322], 129: [325], 131: [327], 135: [330], 136: [331], 137: [333], 138: [334], 139: [335], 140: [336], 141: [337, 338, 339, 340], 143: [342], 151: [351], 153: [356], 154: [357, 358], 157: [360, 361], 158: [362], 163: [368, 369], 165: [373, 374, 375], 166: [378], 167: [379], 168: [380], 175: [383], 176: [384], 179: [387], 181: [389], 182: [390], 184: [391], 185: [392], 187: [394], 188: [396], 189: [398], 190: [399], 191: [400, 401], 192: [402], 194: [405], 196: [407], 197: [408], 198: [409], 199: [410], 200: [411], 203: [413], 204: [414], 206: [417], 207: [418], 208: [419], 212: [423], 213: [424, 425], 214: [427, 428, 429], 215: [430], 216: [431], 219: [434], 220: [435], 222: [437], 223: [438], 226: [442], 227: [444], 228: [446], 231: [449], 233: [450], 234: [451], 235: [452, 453, 454, 455, 456], 236: [457], 237: [458], 238: [459], 239: [460], 240: [461], 241: [462], 242: [464], 244: [466], 245: [467], 246: [468, 469, 470, 471], 247: [472], 248: [473, 474], 249: [475], 250: [476], 252: [478], 259: [484, 485], 260: [486], 261: [487], 263: [489, 490], 264: [491], 266: [493], 267: [494, 495], 268: [496], 269: [497], 274: [502], 275: [503], 277: [504], 280: [506], 283: [508], 284: [509], 285: [510, 511], 286: [512], 287: [514, 515], 291: [519, 520], 293: [523, 524], 296: [527], 297: [528], 299: [530], 300: [531], 301: [532], 302: [533], 304: [536, 537, 538], 305: [539], 306: [540, 541], 307: [542], 308: [543], 309: [544], 315: [548], 317: [550, 551], 320: [555]}\n"
     ]
    }
   ],
   "source": [
    "print(further_alignment[(0,0)][-1])"
   ],
   "metadata": {
    "collapsed": false,
    "pycharm": {
     "name": "#%%\n"
    }
   }
  },
  {
   "cell_type": "code",
   "execution_count": 35,
   "outputs": [
    {
     "name": "stdout",
     "output_type": "stream",
     "text": [
      "4\n"
     ]
    }
   ],
   "source": [
    "print(len(further_alignment[(0,0)]))"
   ],
   "metadata": {
    "collapsed": false,
    "pycharm": {
     "name": "#%%\n"
    }
   }
  },
  {
   "cell_type": "code",
   "execution_count": 25,
   "outputs": [
    {
     "name": "stdout",
     "output_type": "stream",
     "text": [
      "(0, 0) 171 171 133\n",
      "(0, 1) 130 130 109\n",
      "(0, 2) 90 90 72\n",
      "(0, 3) 134 134 112\n",
      "(0, 4) 132 132 106\n",
      "(0, 5) 24 24 16\n",
      "(0, 6) 75 75 66\n",
      "(0, 7) 7 7 7\n",
      "(0, 8) 130 130 100\n",
      "(0, 9) 57 57 50\n",
      "(0, 10) 46 46 32\n",
      "(0, 11) 93 93 75\n",
      "(0, 12) 137 137 114\n",
      "(0, 13) 10 10 9\n",
      "(0, 14) 124 124 103\n",
      "(0, 15) 130 130 102\n",
      "(1, 0) 1 1 1\n",
      "(1, 1) 104 104 84\n",
      "(1, 2) 135 135 113\n",
      "(1, 3) 159 159 124\n",
      "(1, 4) 74 74 60\n",
      "(1, 5) 60 60 43\n",
      "(1, 6) 29 29 24\n",
      "(1, 7) 110 110 98\n",
      "(1, 8) 70 70 61\n",
      "(1, 9) 80 80 68\n",
      "(1, 11) 133 133 112\n",
      "(1, 12) 136 136 108\n",
      "(1, 13) 161 161 131\n",
      "(1, 14) 31 31 26\n",
      "(1, 15) 106 106 83\n",
      "(1, 16) 140 140 119\n",
      "(1, 17) 127 127 102\n",
      "(1, 18) 134 134 111\n",
      "(1, 19) 46 46 40\n",
      "(1, 20) 95 95 74\n",
      "(1, 21) 137 137 104\n",
      "(1, 22) 56 56 47\n",
      "(2, 0) 125 125 102\n",
      "(2, 1) 134 134 115\n",
      "(2, 2) 103 103 81\n",
      "(2, 3) 105 105 84\n",
      "(2, 4) 131 131 105\n",
      "(2, 5) 17 17 13\n",
      "(2, 6) 159 159 131\n",
      "(2, 7) 109 109 93\n",
      "(2, 8) 133 133 106\n",
      "(2, 9) 162 162 125\n",
      "(2, 10) 129 129 112\n",
      "(2, 11) 125 125 105\n",
      "(2, 12) 109 109 86\n",
      "(2, 13) 106 106 83\n",
      "(2, 14) 124 124 103\n",
      "(2, 15) 142 142 119\n",
      "(2, 16) 100 100 81\n",
      "(2, 17) 107 107 92\n",
      "(2, 18) 142 142 114\n",
      "(2, 19) 124 124 98\n",
      "(2, 20) 145 145 117\n",
      "(2, 21) 141 141 115\n",
      "(2, 22) 144 144 111\n",
      "(3, 0) 164 164 133\n",
      "(3, 1) 70 70 53\n",
      "(3, 2) 178 178 137\n",
      "(3, 3) 161 161 130\n",
      "(3, 4) 121 121 95\n",
      "(3, 5) 43 43 36\n",
      "(3, 6) 88 88 69\n",
      "(3, 7) 140 140 120\n",
      "(3, 8) 158 158 135\n",
      "(3, 9) 136 136 113\n",
      "(3, 11) 62 62 50\n",
      "(3, 12) 149 149 120\n",
      "(3, 13) 92 92 79\n",
      "(3, 14) 141 141 115\n",
      "(3, 16) 114 114 95\n",
      "(3, 17) 145 145 117\n",
      "(3, 18) 156 156 132\n",
      "(3, 19) 157 157 129\n",
      "(3, 20) 141 141 106\n",
      "(3, 21) 161 161 128\n",
      "(3, 22) 36 36 25\n",
      "(3, 23) 11 11 10\n",
      "(4, 0) 116 116 94\n",
      "(4, 1) 63 63 53\n",
      "(4, 2) 12 12 12\n",
      "(4, 3) 128 128 116\n",
      "(4, 4) 13 13 13\n",
      "(4, 5) 156 156 133\n",
      "(4, 6) 93 93 71\n",
      "(4, 7) 72 72 58\n",
      "(4, 8) 92 92 76\n",
      "(4, 9) 119 119 97\n",
      "(4, 10) 168 168 130\n",
      "(4, 11) 143 143 127\n",
      "(4, 12) 144 144 116\n",
      "(4, 14) 127 127 110\n",
      "(4, 15) 127 127 108\n",
      "(4, 16) 137 137 100\n",
      "(4, 17) 135 135 107\n",
      "(4, 18) 125 125 118\n",
      "(4, 19) 50 50 44\n",
      "(4, 20) 59 59 51\n",
      "(4, 21) 129 129 105\n",
      "(4, 22) 119 119 108\n",
      "(5, 0) 142 142 115\n",
      "(5, 1) 147 147 113\n",
      "(5, 2) 123 123 108\n",
      "(5, 3) 74 74 59\n",
      "(5, 4) 140 140 112\n",
      "(5, 5) 124 124 111\n",
      "(5, 6) 8 8 8\n",
      "(5, 7) 141 141 115\n",
      "(5, 8) 116 116 101\n",
      "(5, 9) 90 90 73\n",
      "(5, 10) 142 142 115\n",
      "(5, 11) 129 129 109\n",
      "(5, 12) 71 71 61\n",
      "(5, 13) 125 125 111\n",
      "(5, 14) 63 63 49\n",
      "(5, 15) 88 88 78\n",
      "(5, 16) 23 23 18\n",
      "(5, 17) 107 107 94\n",
      "(5, 18) 150 150 116\n",
      "(5, 19) 95 95 73\n",
      "(5, 20) 126 126 107\n",
      "(5, 21) 114 114 101\n",
      "(5, 22) 82 82 66\n",
      "(5, 23) 145 145 125\n",
      "(6, 0) 152 152 123\n",
      "(6, 1) 159 159 138\n",
      "(6, 2) 147 147 120\n",
      "(6, 3) 136 136 117\n",
      "(6, 4) 131 131 117\n",
      "(6, 5) 135 135 114\n",
      "(6, 6) 144 144 116\n",
      "(6, 7) 132 132 112\n",
      "(6, 8) 154 154 130\n",
      "(6, 9) 151 151 132\n",
      "(6, 10) 27 27 21\n",
      "(6, 12) 75 75 65\n",
      "(6, 13) 150 150 126\n",
      "(6, 14) 150 150 130\n",
      "(6, 15) 170 170 142\n",
      "(6, 17) 147 147 134\n",
      "(6, 18) 63 63 51\n",
      "(6, 19) 152 152 118\n",
      "(6, 20) 140 140 119\n",
      "(6, 21) 134 134 112\n",
      "(6, 22) 143 143 115\n",
      "(6, 23) 154 154 126\n",
      "(7, 0) 149 149 116\n",
      "(7, 1) 159 159 133\n",
      "(7, 2) 155 155 117\n",
      "(7, 3) 163 163 137\n",
      "(7, 4) 70 70 60\n",
      "(7, 5) 35 35 28\n",
      "(7, 7) 150 150 116\n",
      "(7, 8) 161 161 141\n",
      "(7, 9) 155 155 125\n",
      "(7, 10) 166 166 128\n",
      "(7, 11) 151 151 127\n",
      "(7, 12) 138 138 116\n",
      "(7, 14) 135 135 113\n",
      "(7, 15) 149 149 119\n",
      "(7, 16) 1 1 1\n",
      "(7, 17) 159 159 125\n",
      "(7, 18) 71 71 58\n",
      "(7, 19) 177 177 140\n",
      "(7, 20) 158 158 131\n",
      "(7, 21) 138 138 117\n",
      "(7, 22) 158 158 120\n",
      "(7, 23) 153 153 120\n",
      "(8, 0) 164 164 120\n",
      "(8, 1) 155 155 124\n",
      "(8, 2) 163 163 129\n",
      "(8, 3) 126 126 101\n",
      "(8, 4) 135 135 107\n",
      "(8, 5) 166 166 139\n",
      "(8, 6) 141 141 111\n",
      "(8, 7) 2 2 2\n",
      "(8, 8) 155 155 126\n",
      "(8, 9) 133 133 113\n",
      "(8, 10) 108 108 85\n",
      "(8, 11) 177 177 134\n",
      "(8, 12) 116 116 91\n",
      "(8, 13) 172 172 141\n",
      "(8, 14) 72 72 60\n",
      "(8, 15) 136 136 120\n",
      "(8, 23) 73 73 61\n"
     ]
    }
   ],
   "source": [
    "for x in further_alignment:\n",
    "    print(x, len(further_alignment[x][-1]), len(further_alignment[x][-2]), len(further_alignment[x][-3]))\n",
    "    # print(further_alignment[x])"
   ],
   "metadata": {
    "collapsed": false,
    "pycharm": {
     "name": "#%%\n"
    }
   }
  },
  {
   "cell_type": "code",
   "execution_count": 27,
   "outputs": [],
   "source": [
    "old_alignment = further_alignment"
   ],
   "metadata": {
    "collapsed": false,
    "pycharm": {
     "name": "#%%\n"
    }
   }
  },
  {
   "cell_type": "code",
   "execution_count": 34,
   "outputs": [
    {
     "name": "stdout",
     "output_type": "stream",
     "text": [
      "{2: [200, 201, 202, 203], 4: [206], 5: [208], 6: [209, 210], 7: [211], 10: [217, 218], 14: [220], 18: [223], 19: [224, 225], 20: [229], 21: [230], 22: [232], 23: [233, 234], 26: [238], 28: [240, 241], 30: [242], 31: [243], 32: [244], 33: [245], 34: [246], 36: [249, 250], 37: [251], 40: [253], 41: [254, 255], 44: [258], 45: [259, 260, 261], 46: [262, 263], 47: [264], 48: [266], 49: [267], 52: [269], 56: [274], 57: [276, 277], 58: [278], 59: [279], 60: [280, 281], 61: [282], 63: [283], 64: [284], 65: [285], 67: [286], 68: [287, 288, 289], 70: [291, 292], 73: [295], 74: [296], 75: [297, 298, 299], 76: [300], 77: [302], 79: [304], 80: [305], 81: [306], 82: [308], 83: [310], 84: [311], 85: [312, 313], 87: [315], 88: [317], 89: [319], 90: [320, 321], 91: [322], 92: [325, 326], 94: [328], 95: [329], 96: [330], 97: [331], 99: [334], 100: [335, 336], 101: [337], 102: [338], 104: [339], 107: [342, 343], 109: [344], 110: [345], 111: [346], 112: [347], 113: [348, 349, 350], 115: [351], 116: [352, 353], 119: [356], 121: [358], 122: [359], 125: [362], 128: [365], 129: [366], 130: [368], 131: [369], 132: [370, 371, 372], 133: [374], 138: [379], 139: [380, 381, 382], 141: [383], 142: [384], 143: [385], 146: [390], 147: [391, 392, 393], 148: [394], 149: [395, 396], 150: [397], 151: [398], 152: [399], 154: [402], 157: [405], 158: [406], 159: [407, 408]}\n"
     ]
    }
   ],
   "source": [
    "print(old_alignment[(1,1)][-1])"
   ],
   "metadata": {
    "collapsed": false,
    "pycharm": {
     "name": "#%%\n"
    }
   }
  },
  {
   "cell_type": "code",
   "execution_count": 33,
   "outputs": [
    {
     "name": "stdout",
     "output_type": "stream",
     "text": [
      "104\n",
      "140\n"
     ]
    }
   ],
   "source": [
    "print(len(old_alignment[(1,1)][-1]))\n",
    "print(len(turn_sub2epi_into_epi2sub(old_alignment[(1,1)][-1])))"
   ],
   "metadata": {
    "collapsed": false,
    "pycharm": {
     "name": "#%%\n"
    }
   }
  },
  {
   "cell_type": "code",
   "execution_count": 38,
   "outputs": [],
   "source": [
    "alignment = further_alignment\n",
    "for x in alignment:\n",
    "    # Define season and episode\n",
    "    season_id = x[0]+1\n",
    "    episode_id = x[1]+1\n",
    "\n",
    "    # Define xlsx file\n",
    "    episode_book = xlsxwriter.Workbook('xlsx_files/episodes/episode_s%de%d.xlsx'%(season_id, episode_id))\n",
    "    episode_sheet = episode_book.add_worksheet()\n",
    "    episode_bold = episode_book.add_format({'bold':1})\n",
    "    for j, item in enumerate(['utterance', 'speaker', 'subtitle id']):\n",
    "        episode_sheet.write(0, j, item, episode_bold)\n",
    "\n",
    "    subtitle_book = xlsxwriter.Workbook('xlsx_files/subtitles/subtitle_s%de%d.xlsx'%(season_id, episode_id))\n",
    "    subtitle_sheet = subtitle_book.add_worksheet()\n",
    "    subtitle_bold = subtitle_book.add_format({'bold':1})\n",
    "    for j, item in enumerate(['subtitle_en', 'subtitle_zh', 'episode id']):\n",
    "        subtitle_sheet.write(0, j, item, subtitle_bold)\n",
    "\n",
    "    # Load Data\n",
    "    epi2sub = alignment[x][-1]\n",
    "    sub2epi = turn_sub2epi_into_epi2sub(epi2sub)\n",
    "\n",
    "    (en_subset, zh_subset, tbbt_episode) = fetch_subsets(\n",
    "        episode=tbbt_transcripts,\n",
    "        en_subtitle=en_subtitle,\n",
    "        zh_subtitle=zh_subtitle,\n",
    "        results=results,\n",
    "        season_id=season_id,\n",
    "        episode_id=episode_id,\n",
    "        bias=200\n",
    "    )\n",
    "\n",
    "    tbbt_episode = []\n",
    "    for x in tbbt_transcripts[(season_id, episode_id)]:\n",
    "        if x[1]!='Scene':\n",
    "            tbbt_episode.append(x)\n",
    "\n",
    "    # Write into file\n",
    "    for i, (utt, speaker) in enumerate(tbbt_episode):\n",
    "        if i in epi2sub:\n",
    "            temp = [utt, str(speaker), \" \".join([str(item+2) for item in epi2sub[i]])]\n",
    "            for j, item in enumerate(temp):\n",
    "                episode_sheet.write(i+1, j, item, episode_bold)\n",
    "        else:\n",
    "            temp = [utt, \"\", \" \"]\n",
    "            for j, item in enumerate(temp):\n",
    "                episode_sheet.write(i+1, j, item)\n",
    "\n",
    "    for i, subtitle in enumerate(en_subset):\n",
    "        if i in sub2epi:\n",
    "            temp = [subtitle, zh_subset[i], \" \".join([str(item+2) for item in sub2epi[i]])]\n",
    "            for j, item in enumerate(temp):\n",
    "                subtitle_sheet.write(i+1, j, item, subtitle_bold)\n",
    "        else:\n",
    "            temp = [subtitle, zh_subset[i], \" \"]\n",
    "            for j, item in enumerate(temp):\n",
    "                subtitle_sheet.write(i+1, j, item)\n",
    "\n",
    "    episode_book.close()\n",
    "    subtitle_book.close()"
   ],
   "metadata": {
    "collapsed": false,
    "pycharm": {
     "name": "#%%\n"
    }
   }
  },
  {
   "cell_type": "code",
   "execution_count": 22,
   "outputs": [
    {
     "name": "stdout",
     "output_type": "stream",
     "text": [
      "dict_keys([(0, 0), (0, 1), (0, 2), (0, 3), (1, 0), (1, 1), (1, 2), (1, 3), (2, 0), (2, 1), (2, 2), (2, 3), (3, 0), (3, 1), (3, 2), (3, 3)])\n"
     ]
    }
   ],
   "source": [
    "print(further_alignment.keys())"
   ],
   "metadata": {
    "collapsed": false,
    "pycharm": {
     "name": "#%%\n"
    }
   }
  },
  {
   "cell_type": "code",
   "execution_count": null,
   "outputs": [],
   "source": [],
   "metadata": {
    "collapsed": false,
    "pycharm": {
     "name": "#%%\n"
    }
   }
  },
  {
   "cell_type": "code",
   "execution_count": null,
   "outputs": [],
   "source": [],
   "metadata": {
    "collapsed": false,
    "pycharm": {
     "name": "#%%\n"
    }
   }
  },
  {
   "cell_type": "code",
   "execution_count": 14,
   "outputs": [],
   "source": [
    "temp = []\n",
    "# Perform string match with sliding window\n",
    "sub2epi = string_match_sliding_window(en_subset, tbbt_episode, 4)\n",
    "epi2sub = turn_sub2epi_into_epi2sub(sub2epi)\n",
    "temp.append(epi2sub)\n",
    "\n",
    "print(sub2epi)\n",
    "print(len(sub2epi))\n",
    "print(len(epi2sub), len(tbbt_episode))"
   ],
   "metadata": {
    "collapsed": false,
    "pycharm": {
     "name": "#%%\n"
    }
   }
  },
  {
   "cell_type": "code",
   "execution_count": 18,
   "outputs": [],
   "source": [
    "# Extend the neighbors\n",
    "epi2sub = extend_neighbors(en_subset, epi2sub, tbbt_episode)\n",
    "sub2epi = turn_sub2epi_into_epi2sub(epi2sub)\n",
    "temp.append(epi2sub)\n",
    "\n",
    "print(sub2epi)\n",
    "print(len(sub2epi))\n",
    "print(len(epi2sub), len(tbbt_episode))"
   ],
   "metadata": {
    "collapsed": false,
    "pycharm": {
     "name": "#%%\n"
    }
   }
  },
  {
   "cell_type": "code",
   "execution_count": 20,
   "outputs": [],
   "source": [
    "# Perform exact match and add it to the whole alignment\n",
    "exact_match_result = exact_match(en_subset, tbbt_episode)\n",
    "sub2epi = add_cleaned_exact_match_result(sub2epi, exact_match_result)\n",
    "epi2sub = turn_sub2epi_into_epi2sub(sub2epi)\n",
    "temp.append(epi2sub)\n",
    "\n",
    "print(sub2epi)\n",
    "print(len(sub2epi))\n",
    "print(len(epi2sub), len(tbbt_episode))"
   ],
   "metadata": {
    "collapsed": false,
    "pycharm": {
     "name": "#%%\n"
    }
   }
  },
  {
   "cell_type": "code",
   "execution_count": 21,
   "outputs": [
    {
     "name": "stdout",
     "output_type": "stream",
     "text": [
      "{200: [0], 202: [0], 203: [0], 205: [2], 206: [5], 207: [5], 212: [6], 213: [7], 214: [8], 215: [9], 218: [12], 219: [12], 220: [13], 222: [15], 223: [15], 224: [15], 225: [16], 226: [16], 227: [17], 228: [17], 229: [17], 232: [20], 233: [21], 234: [23], 235: [24], 239: [29], 240: [31], 241: [32], 242: [33], 246: [35], 247: [35], 248: [36], 249: [37], 251: [39], 252: [40], 253: [41], 254: [42], 256: [48], 259: [50], 260: [51], 261: [52], 262: [57], 263: [58], 264: [59], 266: [66], 267: [67], 268: [68], 269: [69], 270: [70], 272: [72], 273: [72], 274: [73], 275: [73], 276: [74], 279: [76], 280: [77], 282: [78], 283: [79], 285: [85], 286: [85], 287: [86], 288: [87], 290: [91], 291: [92], 292: [93], 293: [96], 295: [99], 296: [99], 297: [100], 299: [102], 300: [103], 301: [104], 302: [105], 303: [107], 304: [108], 306: [110], 307: [111], 308: [112], 311: [114], 312: [115], 313: [118], 314: [119], 315: [119], 316: [119], 317: [119], 318: [120], 319: [122], 320: [124], 321: [126], 322: [126], 325: [129], 327: [131], 330: [135], 331: [136], 332: [136], 333: [137], 334: [138], 335: [139], 336: [140], 337: [141], 340: [141], 342: [143], 351: [151], 356: [153], 357: [154], 358: [154], 360: [157], 361: [157], 362: [158], 363: [160], 364: [161], 365: [161], 367: [163], 368: [163], 369: [163], 373: [165], 374: [165], 375: [165], 378: [166], 379: [167], 380: [168], 383: [175], 384: [176], 387: [179], 389: [181], 390: [182], 393: [186], 394: [187], 395: [187], 396: [188], 398: [189], 399: [190], 400: [191], 401: [191], 402: [192], 405: [194], 407: [196], 408: [197], 409: [198], 410: [199], 411: [200], 412: [202], 413: [203], 414: [204], 415: [205], 416: [205], 417: [206], 418: [207], 419: [208], 423: [212], 424: [213], 425: [213], 427: [214], 428: [214], 429: [214], 430: [215], 431: [216], 434: [219], 435: [220], 437: [222], 438: [223], 442: [226], 444: [227], 446: [228], 447: [229], 449: [231], 450: [233], 451: [234], 452: [235], 453: [235], 455: [235], 456: [235], 457: [236], 458: [237], 459: [238], 460: [239], 461: [240], 462: [241], 463: [241], 464: [242], 466: [244], 467: [245], 468: [246], 469: [246], 470: [246], 471: [246], 472: [247], 473: [248], 474: [248], 475: [249], 476: [250], 477: [251], 478: [252], 484: [259], 485: [259], 486: [260], 487: [261], 488: [262], 489: [263], 490: [263], 491: [264], 493: [266], 494: [267], 495: [267], 496: [268], 497: [269], 502: [274], 503: [275], 504: [277], 506: [280], 508: [283], 509: [284], 510: [285], 511: [285], 512: [286], 514: [287], 515: [287], 516: [288], 517: [289], 519: [291], 520: [291], 522: [293], 524: [293], 527: [296], 528: [297], 530: [299], 531: [300], 532: [301], 533: [302], 534: [303], 535: [303], 536: [304], 538: [304], 539: [305], 540: [306], 541: [306], 542: [307], 543: [308], 544: [309], 545: [311], 548: [315], 550: [317], 551: [317], 555: [320]}\n",
      "244\n",
      "192 321\n"
     ]
    }
   ],
   "source": [],
   "metadata": {
    "collapsed": false,
    "pycharm": {
     "name": "#%%\n"
    }
   }
  },
  {
   "cell_type": "code",
   "execution_count": 24,
   "outputs": [
    {
     "name": "stdout",
     "output_type": "stream",
     "text": [
      "{200: [0], 202: [0], 203: [0], 205: [2], 206: [5], 207: [5], 212: [6], 213: [7], 214: [8], 215: [9], 218: [12], 219: [12], 220: [13], 222: [15], 223: [15], 224: [15], 225: [16], 226: [16], 227: [17], 228: [17], 229: [17], 232: [20], 233: [21], 234: [23], 235: [24], 239: [29], 240: [31], 241: [32], 242: [33], 246: [35], 247: [35], 248: [36], 249: [37], 251: [39], 252: [40], 253: [41], 254: [42], 255: [42], 256: [48], 259: [50], 260: [51], 261: [52], 262: [57], 263: [58], 264: [59], 266: [66], 267: [67], 268: [68], 269: [69], 270: [70], 272: [72], 273: [72], 274: [73], 275: [73], 276: [74], 279: [76], 280: [77], 282: [78], 283: [79], 285: [85], 286: [85], 287: [86], 288: [87], 290: [91], 291: [92], 292: [93], 293: [96], 295: [99], 296: [99], 297: [100], 299: [102], 300: [103], 301: [104, 105], 302: [105], 303: [107], 304: [108], 306: [110], 307: [111], 308: [112], 311: [114], 312: [115], 313: [118], 314: [119], 315: [119], 316: [119], 317: [119], 318: [120], 319: [122], 320: [124], 321: [126], 322: [126], 325: [129], 327: [131], 330: [135], 331: [136], 332: [136], 333: [137], 334: [138], 335: [139], 336: [140], 337: [141], 340: [141], 342: [143], 351: [151], 356: [153], 357: [154], 358: [154], 360: [157], 361: [157], 362: [158], 363: [160], 364: [161], 365: [161], 367: [163], 368: [163], 369: [163], 373: [165], 374: [165], 375: [165], 378: [166], 379: [167], 380: [168], 383: [175], 384: [176], 387: [179], 389: [181], 390: [182], 393: [186], 394: [187], 395: [187], 396: [188], 398: [189], 399: [190], 400: [191], 401: [191], 402: [192], 405: [194], 407: [196], 408: [197], 409: [198], 410: [199], 411: [200], 412: [202], 413: [203], 414: [204], 415: [205], 416: [205], 417: [206], 418: [207], 419: [208], 423: [212], 424: [213], 425: [213], 427: [214], 428: [214], 429: [214], 430: [215], 431: [216], 434: [219], 435: [220], 437: [222], 438: [223], 442: [226], 444: [227], 446: [228], 447: [229], 449: [231], 450: [233], 451: [234], 452: [235], 453: [235], 455: [235], 456: [235], 457: [236], 458: [237], 459: [238], 460: [239], 461: [240], 462: [241], 463: [241], 464: [242], 466: [244], 467: [245], 468: [246], 469: [246], 470: [246], 471: [246], 472: [247], 473: [248], 474: [248], 475: [249], 476: [250], 477: [251], 478: [252], 484: [259], 485: [259], 486: [260], 487: [261], 488: [262], 489: [263], 490: [263], 491: [264], 493: [266], 494: [267], 495: [267], 496: [268], 497: [269], 502: [274], 503: [275], 504: [277], 506: [280], 508: [283], 509: [284], 510: [285], 511: [285], 512: [286], 514: [287], 515: [287], 516: [288], 517: [289], 519: [291], 520: [291], 522: [293], 524: [293], 527: [296], 528: [297], 530: [299], 531: [300], 532: [301], 533: [302], 534: [303], 535: [303], 536: [304], 538: [304], 539: [305], 540: [306], 541: [306], 542: [307], 543: [308], 544: [309], 545: [311], 548: [315], 550: [317], 551: [317], 555: [320]}\n",
      "245\n",
      "192 321\n"
     ]
    }
   ],
   "source": [
    "# Extend the neighbors\n",
    "epi2sub = extend_neighbors(en_subset, epi2sub, tbbt_episode)\n",
    "sub2epi = turn_sub2epi_into_epi2sub(epi2sub)\n",
    "temp.append(epi2sub)\n",
    "\n",
    "print(sub2epi)\n",
    "print(len(sub2epi))\n",
    "print(len(epi2sub), len(tbbt_episode))"
   ],
   "metadata": {
    "collapsed": false,
    "pycharm": {
     "name": "#%%\n"
    }
   }
  },
  {
   "cell_type": "code",
   "execution_count": 22,
   "outputs": [
    {
     "name": "stdout",
     "output_type": "stream",
     "text": [
      "0 |||| [200, 202, 203] Sheldon  So if a photon is directed through a plane with two slits in it and either slit is observed it will not go through both slits. If it’s unobserved it will, however, if it’s observed after it’s left the plane but before it hits its target, it will not have gone through both slits.\n",
      "1 Leonard  Agreed, what’s your point?\n",
      "2 |||| [205] Sheldon  There’s no point, I just think it’s a good idea for a tee-shirt. \n",
      "3 Leonard  Excuse me?\n",
      "4 Receptionist  Hang on. \n",
      "5 |||| [206, 207] Leonard  One across is Aegean, eight down is Nabakov, twenty-six across is MCM, fourteen down is… move your finger… phylum, which makes fourteen across Port-au-Prince. See, Papa Doc’s capital idea, that’s Port-au-Prince. Haiti. \n",
      "6 |||| [212] Receptionist  Can I help you?\n",
      "7 |||| [213] Leonard  Yes. Um, is this the High IQ sperm bank?\n",
      "8 |||| [214] Receptionist  If you have to ask, maybe you shouldn’t be here.\n",
      "9 |||| [215] Sheldon  I think this is the place.\n",
      "10 Receptionist  Fill these out.\n",
      "11 Leonard  Thank-you. We’ll be right back.\n",
      "12 |||| [218, 219] Receptionist  Oh, take your time. I’ll just finish my crossword puzzle. Oh wait.\n",
      "13 |||| [220] Sheldon  Leonard, I don’t think I can do this.\n",
      "14 Leonard  What, are you kidding? You’re a semi-pro. \n",
      "15 |||| [222, 223, 224] Sheldon  No. We are committing genetic fraud. There’s no guarantee that our sperm is going to generate high IQ offspring, think about that. I have a sister with the same basic DNA mix who hostesses at Fuddruckers.\n",
      "16 |||| [225, 226] Leonard  Sheldon, this was your idea. A little extra money to get fractional T1 bandwidth in the apartment.\n",
      "17 |||| [227, 228, 229] Sheldon  I know, and I do yearn for faster downloads, but there’s some poor woman is going to pin her hopes on my sperm, what if she winds up with a toddler who doesn’t know if he should use an integral or a differential to solve the area under a curve.\n",
      "18 Leonard  I’m sure she’ll still love him.\n",
      "19 Sheldon  I wouldn’t.\n",
      "20 |||| [232] Leonard  Well, what do you want to do?\n",
      "21 |||| [233] Sheldon  I want to leave.\n",
      "22 Leonard  Okay.\n",
      "23 |||| [234] Sheldon  What’s the protocol for leaving?\n",
      "24 |||| [235] Leonard  I don’t know, I’ve never reneged on a proffer of sperm before.\n",
      "25 Sheldon  Let’s try just walking out.\n",
      "26 Leonard  Okay.\n",
      "27 Sheldon  Bye-bye\n",
      "28 Leonard  See you.\n",
      "29 |||| [239] Sheldon  Are you still mad about the sperm bank?\n",
      "30 Leonard  No.\n",
      "31 |||| [240] Sheldon  You want to hear an interesting thing about stairs?\n",
      "32 |||| [241] Leonard  Not really.\n",
      "33 |||| [242] Sheldon  If the height of a single step is off by as little as two millimetres, most people will trip.\n",
      "34 Leonard  I don’t care. Two millimetres? That doesn’t seem right.\n",
      "35 |||| [246, 247] Sheldon  No, it’s true, I did a series of experiments when I was twelve, my father broke his clavicle.\n",
      "36 |||| [248] Leonard  Is that why they sent you to boarding school?\n",
      "37 |||| [249] Sheldon  No, that was the result of my work with lasers.\n",
      "38 Leonard  New neighbour?\n",
      "39 |||| [251] Sheldon  Evidently.\n",
      "40 |||| [252] Leonard  Significant improvement over the old neighbour.\n",
      "41 |||| [253] Sheldon  Two hundred pound transvestite with a skin condition, yes she is.\n",
      "42 |||| [254] Penny  Oh, hi!\n",
      "43 Leonard  Hi.\n",
      "44 Sheldon  Hi.\n",
      "45 Leonard  Hi.\n",
      "46 Sheldon  Hi.\n",
      "47 Penny  Hi?\n",
      "48 |||| [256] Leonard  We don’t mean to interrupt, we live across the hall.\n",
      "49 Penny  Oh, that’s nice.\n",
      "50 |||| [259] Leonard  Oh… uh… no… we don’t live together… um… we live together but in separate, heterosexual bedrooms.\n",
      "51 |||| [260] Penny  Oh, okay, well, guess I’m your new neighbour, Penny.\n",
      "52 |||| [261] Leonard  Leonard, Sheldon.\n",
      "53 Penny  Hi.\n",
      "54 Leonard  Hi.\n",
      "55 Sheldon  Hi.\n",
      "56 Penny  Hi. \n",
      "57 |||| [262] Leonard  Hi. Well, uh, oh, welcome to the building.\n",
      "58 |||| [263] Penny  Thankyou, maybe we can have coffee sometime.\n",
      "59 |||| [264] Leonard  Oh, great.\n",
      "60 Penny  Great. \n",
      "61 Sheldon  Great.\n",
      "62 Leonard  Great. Well, bye.\n",
      "63 Penny  Bye.\n",
      "64 Sheldon  Bye.\n",
      "65 Leonard  Bye. \n",
      "66 |||| [266] Leonard  Should we have invited her for lunch?\n",
      "67 |||| [267] Sheldon  No. We’re going to start Season Two of Battlestar Galactica.\n",
      "68 |||| [268] Leonard  We already watched the Season Two DVDs.\n",
      "69 |||| [269] Sheldon  Not with commentary.\n",
      "70 |||| [270] Leonard  I think we should be good neighbours, invite her over, make her feel welcome.\n",
      "71 Sheldon  We never invited Louis-slash-Louise over.\n",
      "72 |||| [272, 273] Leonard  Well, then that was wrong of us. We need to widen our circle.\n",
      "73 |||| [274, 275] Sheldon  I have a very wide circle. I have 212 friends on myspace. \n",
      "74 |||| [276] Leonard  Yes, and you’ve never met one of them.\n",
      "75 Sheldon  That’s the beauty of it.\n",
      "76 |||| [279] Leonard  I’m going to invite her over. We’ll have a nice meal and chat.\n",
      "77 |||| [280] Sheldon  Chat? We don’t chat. At least not offline.\n",
      "78 |||| [282] Leonard  Well it’s not difficult, you just listen to what she says and then you say something appropriate in response.\n",
      "79 |||| [283] Sheldon  To what end?\n",
      "80 Leonard  Hi. Again.\n",
      "81 Penny  Hi.\n",
      "82 Sheldon  Hi.\n",
      "83 Leonard  Hi.\n",
      "84 Penny  Hi. \n",
      "85 |||| [285, 286] Leonard  Anyway, um. We brought home Indian food. And, um. I know that moving can be stressful, and I find that when I’m undergoing stress, that good food and company can have a comforting effect. Also, curry is a natural laxative, and I don’t have to tell you that, uh, a clean colon is just one less thing to worry about.\n",
      "86 |||| [287] Sheldon  Leonard, I’m not expert here but I believe in the context of a luncheon invitation, you might want to skip the reference to bowel movements.\n",
      "87 |||| [288] Penny  Oh, you’re inviting me over to eat?\n",
      "88 Leonard  Uh, yes.\n",
      "89 Penny  Oh, that’s so nice, I’d love to.\n",
      "90 Leonard  Great.\n",
      "91 |||| [290] Penny  So, what do you guys do for fun around here?\n",
      "92 |||| [291] Sheldon  Well, today we tried masturbating for money.\n",
      "93 |||| [292] Leonard  Okay, well, make yourself at home.\n",
      "94 Penny  Okay, thankyou.\n",
      "95 Leonard  You’re very welcome.\n",
      "96 |||| [293] Penny  This looks like some serious stuff, Leonard, did you do this?\n",
      "97 Sheldon  Actually that’s my work.\n",
      "98 Penny  Wow.\n",
      "99 |||| [295, 296] Sheldon  Yeah, well, it’s just some quantum mechanics, with a little string theory doodling around the edges. That part there, that’s just a joke, it’s a spoof of the Bourne-Oppenheimer approximation.\n",
      "100 |||| [297] Penny  So you’re like, one of those, beautiful mind genius guys.\n",
      "101 Sheldon  Yeah. \n",
      "102 |||| [299] Penny  This is really impressive.\n",
      "103 |||| [300] Leonard  I have a board. If you like boards, this is my board.\n",
      "104 |||| [301] Penny  Holy smokes.\n",
      "105 |||| [302] Sheldon  If by holy smokes you mean a derivative restatement of the kind of stuff you can find scribbled on the wall of any men’s room at MIT, sure.\n",
      "106 Leonard  What?\n",
      "107 |||| [303] Sheldon  Oh, come on. Who hasn’t seen this differential below “here I sit broken hearted?”\n",
      "108 |||| [304] Leonard  At least I didn’t have to invent twenty-six dimensions just to make the math come out.\n",
      "109 Sheldon  I didn’t invent them, they’re there.\n",
      "110 |||| [306] Leonard  In what universe?\n",
      "111 |||| [307] Sheldon  In all of them, that is the point.\n",
      "112 |||| [308] Penny  Uh, do you guys mind if I start?\n",
      "113 Sheldon  Um, Penny, that’s where I sit.\n",
      "114 |||| [311] Penny  So, sit next to me. \n",
      "115 |||| [312] Sheldon  No, I sit there.\n",
      "116 Penny  What’s the difference?\n",
      "117 Sheldon  What’s the difference?\n",
      "118 |||| [313] Leonard  Here we go.\n",
      "119 |||| [314, 315, 316, 317] Sheldon  In the winter that seat is close enough to the radiator to remain warm, and yet not so close as to cause perspiration. In the summer it’s directly in the path of a cross breeze created by open windows there, and there. It faces the television at an angle that is neither direct, thus discouraging conversation, nor so far wide to create a parallax distortion, I could go on, but I think I’ve made my point. \n",
      "120 |||| [318] Penny  Do you want me to move?\n",
      "121 Sheldon  Well.\n",
      "122 |||| [319] Leonard  Just sit somewhere else.\n",
      "123 Sheldon  Fine. (Wanders in circles, looking lost.)\n",
      "124 |||| [320] Leonard  Sheldon, sit!\n",
      "125 Sheldon  Aaah!\n",
      "126 |||| [321, 322] Leonard  Well this is nice. We don’t have a lot of company over.\n",
      "127 Sheldon  That’s not true. Koothrapali and Wolowitz come over all the time. \n",
      "128 Leonard  Yes I now, but…\n",
      "129 |||| [325] Sheldon  Tuesday night we played Klingon boggle until one in the morning.\n",
      "130 Leonard  Yes, I remember.\n",
      "131 |||| [327] Sheldon  I resent you saying we don’t have company.\n",
      "132 Leonard  I’m sorry.\n",
      "133 Sheldon  That is an antisocial implication.\n",
      "134 Leonard  I said I’m sorry.\n",
      "135 |||| [330] Penny  So, Klingon boggle?\n",
      "136 |||| [331, 332] Leonard  Yeah, it’s like regular boggle but, in Klingon. That’s probably enough about us, tell us about you.\n",
      "137 |||| [333] Penny  Um, me, okay, I’m Sagittarius, which probably tells you way more than you need to know.\n",
      "138 |||| [334] Sheldon  Yes, it tells us that you participate in the mass cultural delusion that the Sun’s apparent position relative to arbitrarily defined constellations and the time of your birth somehow effects your personality.\n",
      "139 |||| [335] Penny  Participate in the what?\n",
      "140 |||| [336] Leonard  I think what Sheldon’s trying to say, is that Sagittarius wouldn’t have been our first guess.\n",
      "141 |||| [337, 340] Penny  Oh, yeah, a lot of people think I’m a water sign. Okay, let’s see, what else, oh, I’m a vegetarian, oh, except for fish, and the occasional steak, I love steak. \n",
      "142 Sheldon  That’s interesting. Leonard can’t process corn.\n",
      "143 |||| [342] Leonard  Wu-uh, do you have some sort of a job?\n",
      "144 Penny  Oh, yeah, I’m a waitress at the Cheesecake Factory.\n",
      "145 Leonard  Oh, okay. I love cheesecake.\n",
      "146 Sheldon  You’re lactose intolerant. \n",
      "147 Leonard  I don’t eat it, I just think it’s a good idea.\n",
      "148 Penny  Oh, anyways, I’m also writing a screenplay. It’s about this sensitive girl who comes to L.A. from Lincoln Nebraska to be an actress, and winds up a waitress at the Cheesecake Factory.\n",
      "149 Leonard  So it’s based on your life?\n",
      "150 Penny  No, I’m from Omaha. \n",
      "151 |||| [351] Leonard  Well, if that was a movie I would go see it.\n",
      "152 Penny  I know, right? Okay, let’s see, what else? Um, that’s about it. That’s the story of Penny.\n",
      "153 |||| [356] Leonard  Well it sounds wonderful.\n",
      "154 |||| [357, 358] Penny  It was. Until I fell in love with a jerk. \n",
      "155 (mouths)  What’s happening.\n",
      "156 back)  I don’t know.\n",
      "157 |||| [360, 361] Penny  Oh God, you know, four years I lived with him, four years, that’s like as long as High School. \n",
      "158 |||| [362] Sheldon  It took you four years to get through High School?\n",
      "159 Leonard  Don’t.\n",
      "160 |||| [363] Penny  I just, I can’t believe I trusted him.\n",
      "161 |||| [364, 365] Leonard  Should I say something? I feel like I should say something.\n",
      "162 Sheldon  You? No, you’ll only make it worse.\n",
      "163 |||| [367, 368, 369] Penny  You want to know the most pathetic part? Even though I hate his lying, cheating guts, I still love him. Is that crazy?\n",
      "164 Sheldon  Yes. \n",
      "165 |||| [373, 374, 375] Leonard  No, it’s not crazy it’s, uh, uh, it’s a paradox. And paradoxes are part of nature, think about light. Now if you look at Huygens, light is a wave, as confirmed by the double slit experiments, but then, along comes Albert Einstein and discovers that light behaves like particles too. Well, I didn’t make it worse.\n",
      "166 |||| [378] Penny  Oh, I’m so sorry, I’m such a mess, and on top of everything else I’m all gross from moving and my stupid shower doesn’t even work.\n",
      "167 |||| [379] Leonard  Our shower works.\n",
      "168 |||| [380] Penny  Really? Would it be totally weird if I used it?\n",
      "169 Sheldon  Yes. \n",
      "170 Leonard  No.\n",
      "171 Sheldon  No?\n",
      "172 Leonard  No.\n",
      "173 Sheldon  No.\n",
      "174 Leonard  It’s right down the hall.\n",
      "175 |||| [383] Penny  Thanks. You guys are really sweet.\n",
      "176 |||| [384] Sheldon  Well this is an interesting development. \n",
      "177 Leonard  How so?\n",
      "178 Sheldon  It has been some time since we’ve had a woman take her clothes off in our apartment.\n",
      "179 |||| [387] Leonard  That’s not true, remember at Thanksgiving my grandmother with Alzheimer’s had that episode.\n",
      "180 Sheldon  Point taken. It has been some time since we’ve had a woman take her clothes off after which we didn’t want to rip our eyes out. \n",
      "181 |||| [389] Leonard  The worst part was watching her carve that turkey.\n",
      "182 |||| [390] Sheldon  So, what exactly are you trying to accomplish here?\n",
      "183 Leonard  Excuse me?\n",
      "184 Sheldon  That woman in there’s not going to have sex with you.\n",
      "185 Leonard  Well I’m not trying to have sex with her.\n",
      "186 |||| [393] Sheldon  Oh, good. Then you won’t be disappointed.\n",
      "187 |||| [394, 395] Leonard  What makes you think she wouldn’t have sex with me, I’m a male and she’s a female?\n",
      "188 |||| [396] Sheldon  Yes, but not of the same species.\n",
      "189 |||| [398] Leonard  I’m not going to engage in hypotheticals here, I’m just trying to be a good neighbour.\n",
      "190 |||| [399] Sheldon  Oh, of course.\n",
      "191 |||| [400, 401] Leonard  That’s not to say that if a carnal relationship were to develop that I wouldn’t participate. However briefly.\n",
      "192 |||| [402] Sheldon  Do you think this possibility will be helped or hindered when she discovers your Luke Skywalker no-more-tears shampoo?\n",
      "193 Leonard  It’s Darth Vader shampoo. (There is a knock on the door.) Luke Skywalker’s the conditioner.\n",
      "194 |||| [405] Howard  Wait till you see this.\n",
      "195 Raj  It’s fantastic. Unbelievable.\n",
      "196 |||| [407] Leonard  See what?\n",
      "197 |||| [408] Howard  It’s a Stephen Hawking lecture from MIT in 1974.\n",
      "198 |||| [409] Leonard  This is not a good time.\n",
      "199 |||| [410] Howard  It’s before he became a creepy computer voice:.\n",
      "200 |||| [411] Leonard  That’s great, you guys have to go.\n",
      "201 Raj  Why?\n",
      "202 |||| [412] Leonard  It’s just not a good time.\n",
      "203 |||| [413] Sheldon  Leonard has a lady over.\n",
      "204 |||| [414] Howard  Yeah, right, your grandmother back in town?\n",
      "205 |||| [415, 416] Leonard  No. And she’s not a lady, she’s just a new neighbour.\n",
      "206 |||| [417] Howard  Hang on, there really is a lady here?\n",
      "207 |||| [418] Leonard  Uh-huh.\n",
      "208 |||| [419] Howard  And you want us out because you’re anticipating coitus?\n",
      "209 Leonard  I’m not anticipating coitus.\n",
      "210 Howard  So she’s available for coitus?\n",
      "211 Leonard  Can we please stop saying coitus?\n",
      "212 |||| [423] Sheldon  Technically that would be coitus interruptus.\n",
      "213 |||| [424, 425] Penny  Hey, is there a trick to getting it to switch from tub to shower. Oh. Hi, sorry. Hello!\n",
      "214 |||| [427, 428, 429] Howard  Enchante Madamoiselle. Howard Wolowitz, Cal-Tech department of Applied Physics. You may be familiar with some of my work, it’s currently orbiting Jupiter’s largest moon taking high-resolution digital photographs.\n",
      "215 |||| [430] Penny  Penny. I work at the Cheesecake Factory.\n",
      "216 |||| [431] Leonard  Come on, I’ll show you the trick with the shower.\n",
      "217 Howard  Bon douche.\n",
      "218 Penny  I’m sorry?\n",
      "219 |||| [434] Howard  It’s French for good shower. It’s a sentiment I can express in six languages.\n",
      "220 |||| [435] Leonard  Save it for your blog, Howard.\n",
      "221 Howard  See-ka-tong-guay-jow.\n",
      "222 |||| [437] Leonard  Uh, there it goes, it sticks, I’m sorry.\n",
      "223 |||| [438] Penny  Okay. Thanks. \n",
      "224 Leonard  You’re welcome, oh, you’re going to step right, okay, I’ll….\n",
      "225 Penny  Hey, Leonard?\n",
      "226 |||| [442] Leonard  The hair products are Sheldon’s.\n",
      "227 |||| [444] Penny  Um, okay. Can I ask you a favour.\n",
      "228 |||| [446] Leonard  A favour? Sure, you can ask me a favour, I would do you a favour for you.\n",
      "229 |||| [447] Penny  It’s okay if you say no.\n",
      "230 Leonard  Oh, I’ll probably say yes.\n",
      "231 |||| [449] Penny  It’s just not the kind of thing you ask a guy you’ve just met.\n",
      "232 Leonard  Wow.\n",
      "233 |||| [450] Sheldon  I really think we should examine the chain of causality here.\n",
      "234 |||| [451] Leonard  Must we?\n",
      "235 |||| [452, 453, 455, 456] Sheldon  Event A. A beautiful woman stands naked in our shower. Event B. We drive half way across town to retrieve a television set from the aforementioned woman’s ex-boyfriend. Query, on what plane of existence is there even a semi-rational link between these events?\n",
      "236 |||| [457] Leonard  She asked me to do her a favour, Sheldon.\n",
      "237 |||| [458] Sheldon  Ah, yes, well that may be the proximal cause of our journey, but we both know it only exists in contradistinction to the higher level distal cause.\n",
      "238 |||| [459] Leonard  Which is?\n",
      "239 |||| [460] Sheldon  You think with your penis.\n",
      "240 |||| [461] Leonard  That’s a biological impossibility and you didn’t have to come.\n",
      "241 |||| [462, 463] Sheldon  Oh, right, yes, I could have stayed behind and watched Wolowitz try to hit on Penny in Russian, Arabic and Farsi. Why can’t she get her own TV.\n",
      "242 |||| [464] Leonard  Come on, you know how it is with break-ups.\n",
      "243 Sheldon  No I don’t. And neither do you.\n",
      "244 |||| [466] Leonard  Wuh, I, I broke up with Joyce Kim.\n",
      "245 |||| [467] Sheldon  You did not break up with Joyce Kim, she defected to North Korea.\n",
      "246 |||| [468, 469, 470, 471] Leonard  To mend her broken heart. This situation is much less complicated. There’s some kind of dispute between Penny and her ex-boyfriend as to who gets custody of the TV. She just wanted to avoid having a scene with him.\n",
      "247 |||| [472] Sheldon  So we get to have a scene with him?\n",
      "248 |||| [473, 474] Leonard  No, Sheldon, there’s not going to be a scene. There’s two of us and one of him.\n",
      "249 |||| [475] Sheldon  Leonard, the two of us can’t even carry a TV. \n",
      "250 |||| [476] Raj)  So, you guys work with Leonard and Sheldon at the University?\n",
      "251 |||| [477] Penny  Uh, I’m sorry, do you speak English?\n",
      "252 |||| [478] Howard  Oh, he speaks English, he just can’t speak to women.\n",
      "253 Penny  Really, why?\n",
      "254 Howard  He’s kind of a nerd. Juice box?\n",
      "255 buzzer)  I’ll do the talking.\n",
      "256 buzzer  Yeah.\n",
      "257 Leonard  Hi, I’m Leonard, this is Sheldon.\n",
      "258 Sheldon  Hello.\n",
      "259 |||| [484, 485] Leonard  What did I just…. Uh, we’re here to pick up Penny’s TV.\n",
      "260 |||| [486] Voice  Get lost.\n",
      "261 |||| [487] Sheldon  Okay, thanks for your time.\n",
      "262 |||| [488] Leonard  We’re not going to give up just like that.\n",
      "263 |||| [489, 490] Sheldon  Leonard, the TV is in the building, we’ve been denied access to the building, ergo we are done.\n",
      "264 |||| [491] Leonard  Excuse me, if I were to give up at the first little hitch I never would have been able to identify the fingerprints of string theory in the aftermath of the big bang.\n",
      "265 Sheldon  My apologies. What’s your plan.\n",
      "266 |||| [493] Sheldon  It’s just a privilege to watch your mind at work.\n",
      "267 |||| [494, 495] Leonard  Come on, we have a combined IQ of 360, we should be able to figure out how to get into a stupid building.\n",
      "268 |||| [496] Sheldon  What do you think their combined IQ is?\n",
      "269 |||| [497] Leonard  Just grab the door.\n",
      "270 Leonard  This is it. (Knocks.) I’ll do the talking.\n",
      "271 Sheldon  Good thinking, I’ll just be the muscle.\n",
      "272 man  Yeah?\n",
      "273 Leonard  I’m Leonard, this is Sheldon.\n",
      "274 |||| [502] Sheldon  From the intercom.\n",
      "275 |||| [503] Man  How the hell did you get in the building?\n",
      "276 Leonard  Oh. We’re scientists.\n",
      "277 |||| [504] Sheldon  Tell him about our IQ.\n",
      "278 Sheldon  Leonard.\n",
      "279 Leonard  What?\n",
      "280 |||| [506] Sheldon  My mom bought me those pants.\n",
      "281 Leonard  I’m sorry.\n",
      "282 Sheldon  You’re going to have to call her.\n",
      "283 |||| [508] Leonard  Sheldon, I’m so sorry I dragged you through this.\n",
      "284 |||| [509] Sheldon  It’s okay. It wasn’t my first pantsing, and it won’t be my last.\n",
      "285 |||| [510, 511] Leonard  And you were right about my motives, I was hoping to establish a relationship with Penny that might have some day led to sex.\n",
      "286 |||| [512] Sheldon  Well you got me out of my pants.\n",
      "287 |||| [514, 515] Leonard  Anyway, I’ve learned my lesson. She’s out of my league, I’m done with her, I’ve got my work, one day I’ll win the Nobel Prize and then I’ll die alone.\n",
      "288 |||| [516] Sheldon  Don’t think like that, you’re not going to die alone.\n",
      "289 |||| [517] Leonard  Thank you Sheldon, you’re a good friend.\n",
      "290 Sheldon  And you’re certainly not going to win a Nobel Prize.\n",
      "291 |||| [519, 520] Howard  This is one of my favourite places to kick back after a quest, they have a great house ale.\n",
      "292 Penny  Wow, cool tiger.\n",
      "293 |||| [522, 524] Howard  Yeah, I’ve had him since level ten. His name is Buttons. Anyway, if you had your own game character we could hang out, maybe go on a quest.\n",
      "294 Penny  Uh, sounds interesting.\n",
      "295 Howard  So you’ll think about it?\n",
      "296 |||| [527] Penny  Oh, I don’t think I’ll be able to stop thinking about it.\n",
      "297 |||| [528] Raj  Smooth.\n",
      "298 Leonard  We’re home.\n",
      "299 |||| [530] Penny  Oh, my God, what happened?\n",
      "300 |||| [531] Leonard  Well, your ex-boyfriend sends his regards and I think the rest is fairly self-explanatory.\n",
      "301 |||| [532] Penny  I’m so sorry, I really thought if you guys went instead of me he wouldn’t be such an ass.\n",
      "302 |||| [533] Leonard  No, it was a valid hypothesis.\n",
      "303 |||| [534, 535] Sheldon  That was a valid hypothesis? What is happening to you?\n",
      "304 |||| [536, 538] Penny  Really, thank you so much for going and trying you’re, uh, you’re so terrific. Why don’t you put some clothes on, I’ll get my purse and dinner is on me, okay?\n",
      "305 |||| [539] Leonard  Really? Great.\n",
      "306 |||| [540, 541] Sheldon  Thank you. You’re not done with her, are you?\n",
      "307 |||| [542] Leonard  Our babies will be smart and beautiful.\n",
      "308 |||| [543] Sheldon  Not to mention imaginary.\n",
      "309 |||| [544] Leonard  Is Thai food okay with you Penny?\n",
      "310 Penny  Sure.\n",
      "311 |||| [545] Sheldon  We can’t have Thai food, we had Indian for lunch.\n",
      "312 Penny  So?\n",
      "313 Sheldon  They’re both curry based cuisines.\n",
      "314 Penny  So?\n",
      "315 |||| [548] Sheldon  They would be gastronomically redundant. I can see we’re going to have to spell out everything for this girl.\n",
      "316 Penny  Any ideas Raj? (He just looks at her with a worried expression.)\n",
      "317 |||| [550, 551] Howard  Turn left on Lake Street and head up to Colorado. I know a wonderful little sushi bar that has karaoke.\n",
      "318 Penny  That sounds like fun.\n",
      "319 (sings)  Baby, baby don’t get hooked on me. Uh, baby, baby don’t get hooked on me.\n",
      "320 |||| [555] Sheldon  I don’t know what your odds are in the world as a whole, but as far as the population of this car goes, you’re a veritable Mack Daddy.\n"
     ]
    }
   ],
   "source": [
    "# Show TBBT Episode\n",
    "for i, (utt, speaker) in enumerate(tbbt_episode):\n",
    "    if i in epi2sub:\n",
    "        print(i, \"||||\",epi2sub[i], speaker, utt)\n",
    "    else:\n",
    "        print(i, speaker, utt)"
   ],
   "metadata": {
    "collapsed": false,
    "pycharm": {
     "name": "#%%\n"
    }
   }
  },
  {
   "cell_type": "code",
   "execution_count": 23,
   "outputs": [
    {
     "name": "stdout",
     "output_type": "stream",
     "text": [
      "0 Thank you very much. Good day to you. 多谢了 日安\n",
      "1 Good day to you. 日安\n",
      "2 Come and buy a dresser! 来买梳妆台了\n",
      "3 The years with Iisakki passed quickly. 由丽萨奇的日子过的很快\n",
      "4 Before I knew it, I was all grown up, with a beard and all. 在我知道之前 我已经长大 还有着胡须\n",
      "5 The village had grown. 村子也大了 有很多新的小孩\n",
      "6 There were so many new children - that me and Iisakki could not keep count. 我和丽萨奇都无法数过来\n",
      "7 But we had a secret helper. 但是我们有个秘密\n",
      "8 Nikolas. -尼古拉斯\n",
      "9 -Eemeli. -艾美利\n",
      "10 Long time no see. You should come more often. 很久没见了 你应该常来\n",
      "11 I've been busy. Iisakki is no longer young. 我一直很忙 丽萨奇已经不再年轻了\n",
      "12 Do you have the list? 你有名单吗\n",
      "13 Well, I'll be... So many new children. 呃 我 好多新生的孩子啊\n",
      "14 As a matter of fact, one name is missing from that list. Elsa? 事实上 有一个名字漏掉了 埃尔莎\n",
      "15 Is that... -是吗\n",
      "16 -A girl, three months. -一个女孩 三个月大\n",
      "17 Let's add her to the list. 那我们加上她的名字吧\n",
      "18 What is the name of this little princess? 这个小公主叫什么名字\n",
      "19 Aada. 亚达\n",
      "20 Aada? 亚达\n",
      "21 Hello, Aada. 你好 亚达\n",
      "22 Nikolas, meet Henrik and Hermanni. 尼古拉斯 见一下汉瑞克和赫曼尼\n",
      "23 My sons. 我的儿子\n",
      "24 I sought them out and asked them here. 我在外面找到他们带到这里来\n",
      "25 We were wrong when we... 我们错了\n",
      "26 We want to make it up to our father. 我们想弥补我们的父亲\n",
      "27 We came to take him to live with us. -我们来带他跟我们一起过\n",
      "28 -To live with you? Where? -跟你们一起过 在哪里\n",
      "29 Away from here. Father is too old to be living in arctic conditions. 离这里很远 父亲太老了 无法住在北极地区了\n",
      "30 You'll get the house and the workshop. You've earned them. 你会得到房子和工作室 它们属于你的了\n",
      "31 Wait, Nikolas. 等等 尼古拉斯\n",
      "32 Nikolas... 尼古拉斯\n",
      "33 Nikolas, try to understand. 尼古拉斯 试着去理解\n",
      "34 Even though I love you like my own son... 尽管我把你当成自己的儿子 一样疼爱\n",
      "35 This key opens the chest under my bed. 这钥匙可以打开我床下的柜子\n",
      "36 I've always been skimpy, maybe too much so. 我一直很吝啬 也许太吝啬了\n",
      "37 I think you can do better. 我想你可以做的更好\n",
      "38 Try to understand. 试着去理解\n",
      "39 Eemeli. -艾美利\n",
      "40 -Nikolas. -尼古拉斯\n",
      "41 Where have you been? -你去哪里了\n",
      "42 Here! But everything is unfinished. 这里 但是一切都没完成呢\n",
      "43 These should last for ten years. 这些应该持续10年\n",
      "44 This is barely enough for next Christmas. 这几乎不够明年圣诞节\n",
      "45 -A map. -地图\n",
      "46 There, there... To this remote village, to these houses. 那里 那里 到这个遥远的村子 到这些房子\n",
      "47 There, there, there, there, there... Christmas presents. 那里 那里 那里 那里 那里 圣诞礼物\n",
      "48 Christmas presents? -圣诞礼物\n",
      "49 So many villages and children. How do you know who'll get what? 这么多村子和孩子 你怎么知道谁得到什么\n",
      "50 There's a simple way. -有个简单的办法\n",
      "51 -What is it? -是什么\n",
      "52 I shall write names on the wrapping. 我会把名字写在包装纸上\n",
      "53 Wrapping? -包装纸\n",
      "54 -Ingenious, isn't it? -很聪明 是吗\n",
      "55 How is all this possible? 这都怎么可能\n",
      "56 Iisakki's life savings. 丽萨奇的生活积蓄\n",
      "57 Now I can bring Christmas cheer to the children. 现在我可以把圣诞的欢乐 带给孩子们\n",
      "58 Nobody can live just for Christmas. 没人可以为了圣诞节而活\n",
      "59 I've been selfish. I've only brought presents to those - who have helped me. 我一直很自私 我只送礼物给那些\n",
      "60 -Selfish? -帮助过我的人 -自私\n",
      "61 From now on, I'm going to appear only on Christmas Eve. -从现在开始 我只出现在圣诞前夕\n",
      "62 -Nikolas! -尼古拉斯\n",
      "63 I'll visit your shop once a year - to replenish my supplies and to get a list of new children. 我会每年去你店里一次 来补充我的供给以及收集新生孩子的名单\n",
      "64 There's more to life than just Christmas. 生活不光是圣诞节\n",
      "65 Like what? -比如什么\n",
      "66 -It's an impossible task. -这是个不可能的任务\n",
      "67 You don't have room for all those presents. 你没有地方放那些礼物\n",
      "68 And Hilma won't be able to pull the load. 希拉 也无法拉的动\n",
      "69 It can't be done. -做不到\n",
      "70 -Yes, it can. -是的 能做到\n",
      "71 Christmas is around the corner. -圣诞近在旦夕\n",
      "72 -Animals are quick to learn. -动物们学的很快\n",
      "73 Reindeer are not horses. -驯鹿不是马\n",
      "74 -Hilla, this is child's play. -希拉 这是孩子们玩的\n",
      "75 I can handle reindeer, dear. \"Reindeer, dear.\" 我能对付驯鹿 亲爱的 \"驯鹿 亲爱的\n",
      "76 You can try. 你可以试试\n",
      "77 Reindeer obey me better when I'm wearing this colourful cap. 当我戴上这顶彩色的帽子时 驯鹿更听我的话\n",
      "78 Even the squirrels are afraid of such a garish colour. 就连松鼠也害怕这样炫目的颜色\n",
      "79 Reindeer would obey me even if I had a potholder on my head. 如果我头上顶块厚布 驯鹿就会听我的话\n",
      "80 I don't need any red caps. 我不需要什么红帽子\n",
      "81 Okay, fall in line. Put your antlers down. 好的 列队 把你们的鹿角放低\n",
      "82 Come to Nikolas, chop-chop. 到尼古拉斯这里来\n",
      "83 Dasher, Dancer, Prancer and Blitzen, your training begins. 达舍尔 丹赛 普兰斯和布利申 你们的训练开始了\n",
      "84 The first lesson... Lassoing. Dancer, behave yourself. 第一课 套索 丹赛 注意点\n",
      "85 Sit there! 坐在那里\n",
      "86 Sit! Sit! Stay! 坐下 坐下 别动\n",
      "87 Dasher, if you don't behave, Nikolas will catch you! Prancer! 达舍尔 如果你不动 尼古拉斯要抓你了 普兰斯\n",
      "88 Let's try again. 我们再来\n",
      "89 Hold it! 别动\n",
      "90 Dancer! Prancer! 丹赛 普兰斯\n",
      "91 A red cap, a red coat... And frieze trousers to boot. 红帽子 红帽子 还有长至靴子的棉裤\n",
      "92 What was the colour? -是什么颜色\n",
      "93 -Red. -红色\n",
      "94 Could you repeat that? 你可以重复一遍吗\n",
      "95 Red! 红色\n",
      "96 I'll show you. 我给你看下\n",
      "97 Let's see, Aada. What do you have there? 亚达 我们看下 你那里有什么\n",
      "98 A spinning top. -一个抽陀螺\n",
      "99 -That's nice. -好极了\n",
      "100 In a few years the mysterious present-bearer - became the staple of children's stories. 很多年了一直显得很神秘 成为孩子们的神话\n",
      "101 Some swore to have seen elves bringing presents at Christmas. 有人看到恶作剧的孩子 在圣诞节带来礼物\n",
      "102 Others claimed that the presents were from a child-friendly gnome. 另外一些人则说那礼物 是来自友好的矮子那里\n",
      "103 Luckily, they didn't suspect me. 幸运的是 他们不尊重我\n",
      "104 Nikolas is coming! -尼古拉斯来了\n",
      "105 -Run away! -快跑\n",
      "106 Good day. 好日子\n",
      "107 Where are the others? -其他人去哪了\n",
      "108 -They are afraid of you. -他们害怕你\n",
      "109 Mikko said that it's not you who brings us presents at Christmas. 米科说就是你在圣诞节 不给他们带礼物\n",
      "110 That you hate children. Is it true? -你讨厌孩子 那是真的吗\n",
      "111 -Mikko is half right. -米科说对了一半\n",
      "112 I don't bring presents. But I don't hate children, either. 我没有带礼物 但我也不讨厌孩子\n",
      "113 Who brings the presents? 谁带礼物了\n",
      "114 Nikolas told me when I asked him. 当我问尼古拉斯的时候 他就告诉了我\n",
      "115 Aada claims that you don't bring us presents. 亚达说你不给我们带礼物\n",
      "116 Aada is right. 亚达说的对\n",
      "117 Aada! 亚达\n",
      "118 Why did you say so? Tell her the truth. 你为什么要这样说 告诉她事实\n",
      "119 No way. Children must not associate me with the presents. 不行 孩子们不应该向我要礼物\n",
      "120 It would ruin everything. -一切都会变糟的\n",
      "121 -Why is that? -为什么会那样\n",
      "122 Nikolas! -尼古拉斯\n",
      "123 -Eemeli? -艾美利\n",
      "124 Is Aada here? -亚达在这里吗\n",
      "125 Aada has gone missing. -亚达失踪了\n",
      "126 \"Dear mother and father. Don't worry. 亲爱的爸爸妈妈 不要担心 我去查明\n",
      "127 I went to find out - who brings all the presents.\" 谁给我们带来了礼物\n",
      "128 We have to wake everybody up and arrange a search party. 我们得叫醒大家 安排一个搜查小组\n",
      "129 You must lend me some clothes. Otherwise I'll be exposed. 你得借我一些服装 不然我会暴露的\n",
      "130 Okay, boys. Hurry on home. 好的 伙计们 快点回家\n",
      "131 Let's form groups of two. A torch and a lantern for each group. 让我们分成两组 每组拿个火把和一盏灯\n",
      "132 Aada couldn't have gone far. Let's hurry. 亚达不会走远的 我们赶快\n",
      "133 I know where she is. -我知道她在哪\n",
      "134 -What did you say, Mikko? -米科 你在说什么\n",
      "135 Aada wants to deliver you a present. 亚达想要送你一件礼物\n",
      "136 Me? Why? -我 为什么\n",
      "137 -Aada doesn't believe that you don't bring us presents. -亚达不相信你没有给我们送礼物\n",
      "138 Why didn't you tell us earlier? -你为什么不早点告诉我\n",
      "139 -I promised not to tell. -我答应过不说的\n",
      "140 Will Aada return? 亚达会回来吗\n",
      "141 Aada doesn't know where you live. 亚达不知道该怎么活 如果她知道\n",
      "142 And even if she knew - she won't be able to walk that far. Aada! 她就不会走那么远的 亚达\n",
      "143 Nikolas? -尼古拉斯\n",
      "144 -Aada! -亚达\n",
      "145 Nobody thought that you'd manage to get this far. 没人能想到你会走这么远\n",
      "146 Twelve miles in a blizzard. How is it possible? 在暴风雪里走了20英里 这怎么可能呢\n",
      "147 It was nothing on a reindeer sleigh. -在驯鹿雪橇上就没什么了\n",
      "148 -A reindeer sleigh? -一个驯鹿雪橇\n",
      "149 What reindeer sleigh? -什么驯鹿雪橇\n",
      "150 -Suddenly, a sleigh appeared. -突然有一个驯鹿雪橇\n",
      "151 I thought it was you but the sleigh was empty... Well, not quite. 我想那是你的但雪橇里面是空的 好了 不安静了\n",
      "152 I was cold so I put on your clothes. Then the reindeer brought me here. 我很冷所以带上了你的帽子 是雪橇把我送到这的\n",
      "153 I told Aada everything. 我什么都告诉亚达了 我怎么会那么做\n",
      "154 How I'd become the way I am - and why it was so important to deliver presents at Christmas. 为什么在圣诞节送礼物会如此重要\n",
      "155 I even revealed my dream of continuing this tradition - when I would be gone. 我甚至表明了我的梦想 就是继续这样下去 一直到我死去\n",
      "156 What kind of girl would Aada be now if she hadn't become a water nymph? 如果亚达没有变成一个水仙的话 那她现在会是什么样子\n",
      "157 Hopefully she'd be like you. 希望她会像你一样\n",
      "158 Aada kept her promise. 亚达坚守了她的承诺\n",
      "159 She didn't reveal my secret. Quite the opposite. 她没有说出我的秘密 真是不敢相信\n",
      "160 He didn't look like Nikolas. 他看起来不像是尼古拉斯 他是一个白发老人\n",
      "161 He was a wrinkly old man - who called himself Christmas Codger. 自己叫做圣诞老人\n",
      "162 The years passed, and before I knew it - my friendship with Aada had lasted almost twenty years. 几年过去了 在我知道之前 我跟亚达的友谊 已经持续了20年了\n",
      "163 Nikolas! 尼古拉斯\n",
      "164 Well? -什么事\n",
      "165 -I'm getting married. -我要结婚了\n",
      "166 To Mikko? 嫁给米科\n",
      "167 Nikolas, will you pick me up on Christmas morning? 尼古拉斯 你圣诞节早上会来接我吗\n",
      "168 Of course I will. 我当然会了\n",
      "169 -For what? -为了什么\n",
      "170 For everything. 为了一切\n",
      "171 Fear of losing love is part of love. It's part of life. 害怕失去爱也是爱的一部分 这是生活的一部分\n",
      "172 Your father... Eemeli taught me that. 你爸爸 艾美利告诉我那个的\n",
      "173 You have taught me how wonderful it is to give. 你已经告诉我 给予是多么的幸福\n",
      "174 Nikolas, maybe you should think of yourself for a change. 尼古拉斯 也许你自己该想想改变一下\n",
      "175 Nothing lasts forever. 没有什么是永久的\n",
      "176 It was time for me to give in to my years. 是我该服老的时候了\n",
      "177 Next Christmas would be the last. My last Christmas. 下一个圣诞节将是最后一个 我最后的圣诞节\n",
      "178 It's beautiful. Who is it for? 很漂亮 这是给谁的\n",
      "179 Can I gift wrap it? -No. -我能包装礼物吗\n",
      "180 I want to do it myself. -不 我想自己来做\n",
      "181 See you on Christmas morning. 圣诞节早上见\n",
      "182 Are you sure you don't want any help at Christmas? 你确定你不想 在圣诞节做任何事吗\n",
      "183 Yes. I want to do my rounds alone. 是的 我想一个人到处去游玩\n",
      "184 Nikolas, remember your promise. This is the last Christmas. 尼古拉斯 记住你的承诺 这是最后一个圣诞节\n",
      "185 This is the last Christmas. 这是最后一个圣诞节\n",
      "186 Nikolas? 尼古拉斯\n",
      "187 \"Merry Christmas to little Aada. Your brother, Nikolas.\" 祝小亚达圣诞节快乐 你的兄弟 尼古拉斯\n",
      "188 -We won't be seeing Nikolas again. -我们再也见不到尼古拉斯了\n",
      "189 -I can't explain. I just know it. -我解释不清 我只知道\n",
      "190 What are you doing? There's no sense in doing that. 你在做什么 那样做没有任何意义\n",
      "191 Nikolas wanted this to continue. -尼古拉斯想要这个继续下去\n",
      "192 A present for our Nikolas will disappoint other children. 一件给我们尼古拉斯的礼物 将会使孩子失望\n",
      "193 Other fathers have done this too... -It's not the same thing. 其他爸爸们也得做这个 这不是同一件事\n",
      "194 Mikko, that's cheating. 米科 那是骗人的\n",
      "195 Mikko? 米科\n",
      "196 Merry Christmas, little Aada. 圣诞节快乐 小亚达\n",
      "197 Merry Christmas, Nikolas. 圣诞节快乐 尼古拉斯\n",
      "198 Dasher, Dancer, Prancer and Blitzen, ahoy! 达舍尔 丹赛 普兰斯和布利申\n",
      "199 Merry Christmas! 圣诞节快乐\n",
      "200 |||| [0] If a photon is directed through a plane with two slits in it and either is observed it will not go through both. 将光子正对平面上的双缝 观察任意一个隙缝 它不会穿过那两个隙缝\n",
      "201 If unobserved, it will. 如果没被观察 那就会\n",
      "202 |||| [0] If it's observed after it left the plane, before it hits its target... 总之 如果观察它在离开平面到击中目标之前\n",
      "203 |||| [0] - ...it will not have gone through both slits. 它就不会穿过那两个隙缝\n",
      "204 - Agreed. What's your point? 没错 但你为什么要说这个?\n",
      "205 |||| [2] There's no point, I just think it's a good idea for a T-shirt. 没什么 我只是觉得这个主意 可以用于设计T恤衫\n",
      "206 |||| [5] One across is Aegean, eight down is Nabokov. 横1是Aegean (爱情海)\n",
      "207 |||| [5] Twenty-six across is MCM. 竖8是Nabokov (小说洛丽塔的作者) 横26是MCM\n",
      "208 Fourteen down is... Move your finger. 竖14是...\n",
      "209 ...phylum, which makes 14 across Port-Au-Prince. 手指挪开点 Phylum (生物门类) 这样一来横14就是Port -au\n",
      "210 See, Papa Doc's capital idea, that's Port-Au-Prince. 瞧 提示是\"Papa doc的首都\" (海地前总统) 所以是太子港\n",
      "211 Haiti. 海地的\n",
      "212 |||| [6] - Can I help you? - Yes. - 能为你效劳吗?\n",
      "213 |||| [7] Um, is this the high-IQ sperm bank? 这里是高智商精子银行吗?\n",
      "214 |||| [8] If you have to ask, maybe you shouldn't be here. 如果你这么问 也许你不该来这\n",
      "215 |||| [9] I think this is the place. 我想就是这没错了\n",
      "216 - Fill these out. - Thank you. - 把这个填一填\n",
      "217 - We'll be right back. - 谢谢 我们马上好\n",
      "218 |||| [12] - Oh, take your time. I'll just finish my crossword puzzle. 慢慢来 我还要玩填字游戏\n",
      "219 |||| [12] Oh, wait. 噢 慢着\n",
      "220 |||| [13] Leonard, I don't think I can do this. Leonard 我办不到\n",
      "221 What, are you kidding? 开玩笑? 你可是半职业人士\n",
      "222 |||| [15] We are committing genetic fraud. 不 我们这样是诈骗\n",
      "223 |||| [15] There's no guarantee our sperm's going to generate high-IQ offspring. Think about that. 我们没法保证 生出来的一定是高智商小孩\n",
      "224 |||| [15] I have a sister with the same basic DNA mix who hostesses at Fuddruckers. 我姐姐跟我有一套相同的基本基因 她却在Fuddrucker餐厅当服务生\n",
      "225 |||| [16] Sheldon, this was your idea. Sheldon 这可是你的主意啊\n",
      "226 |||| [16] A little extra money to get fractional T1 bandwidth in the apartment? 轻松赚点钱 就有钱能升级我们的网络带宽\n",
      "227 |||| [17] I know. And I do yearn for faster downloads. 我知道 我确实很渴望高速下载\n",
      "228 |||| [17] There's some poor woman who's gonna pin her hopes on my sperm. 但一些可怜的女人 会把希望寄托在我的精子上\n",
      "229 |||| [17] What if she winds up with a toddler who doesn't know if he should use a differential to solve for the area under a curve? 万一生出来一个 连曲线下部的面积用积分还是微分算 都搞不清楚的小屁孩怎么办?\n",
      "230 - I'm sure she'll still love him. 我想她还是会爱那个宝宝的\n",
      "231 - I wouldn't. 我不会\n",
      "232 |||| [20] Well, what do you wanna do? 你想要怎样?\n",
      "233 |||| [21] - I want to leave. - 我想要走\n",
      "234 |||| [23] - What's the protocol for leaving? - I don't know. 离开时要怎么说呢?\n",
      "235 |||| [24] I've never reneged on a proffer of sperm before. 我不知道 我可从没有拒绝过提供精子的要求\n",
      "236 Let's try just walking out. 我们就直接走出去吧\n",
      "237 - Bye. - Bye-bye. - 再见\n",
      "238 Nice meeting you. - 再见 很高兴认识你\n",
      "239 |||| [29] - Are you still mad about the sperm bank? 你还在为精子银行的事生气吗? 没有\n",
      "240 |||| [31] You wanna hear an interesting thing about stairs? 你想听一件关于楼梯的趣事吗?\n",
      "241 |||| [32] Not really. 不是很想\n",
      "242 |||| [33] If the height of a step is off by as little as two millimeters... - ...most people will trip. 如果一阶楼梯比普通的矮个2毫米 大部分人都会绊倒\n",
      "243 - I don't care. 不关我事\n",
      "244 Two millime...? That doesn't seem right. 2毫米?\n",
      "245 It's true. 不会吧\n",
      "246 |||| [35] I did a series of experiments when I was 12. 是真的 我12岁时做了一系列的实验\n",
      "247 |||| [35] My father broke his clavicle. 我爸爸因此还跌断了锁骨\n",
      "248 |||| [36] Is that why they sent you to boarding school? No. 所以他们把你送去寄宿学校?\n",
      "249 |||| [37] That was the result of my work with lasers. 不 那是因为我研究激光惹的事\n",
      "250 New neighbor? SHELDON: - 新邻居?\n",
      "251 |||| [39] Evidently. - 显然是\n",
      "252 |||| [40] Significant improvement over the old neighbor. 比上一任有了明显可观的改善\n",
      "253 |||| [41] Two-hundred pound transvestite with a skin condition? Yes, she is. 那个200磅重还患有皮肤病的异装癖?\n",
      "254 |||| [42] Oh, hi. - 嗨\n",
      "255 - Hi. - 嗨 - 嗨 - 嗨\n",
      "256 |||| [48] We don't mean to interrupt. We live across the hall. 我们不想打扰你 我们是住对面的邻居\n",
      "257 Oh, that's nice. 啊 太好了\n",
      "258 No. We don't live together. 噢不 我们不是同居\n",
      "259 |||| [50] I mean we live together, but in separate, heterosexual bedrooms. 我是说 虽然住在一起 但是在不同的... 直男房间里\n",
      "260 |||| [51] Okay, well, guess I'm your new neighbor. - Penny. 那好吧 我是你们的新邻居 我叫Penny\n",
      "261 |||| [52] - Leonard. Sheldon. 我是Leonard 他是Sheldon\n",
      "262 |||| [57] Well... Oh, welcome to the building. 欢迎你搬来\n",
      "263 |||| [58] Oh, thank you. Maybe we can have coffee sometime. 谢谢 有空一起喝个咖啡吧\n",
      "264 |||| [59] - Oh, great. - 噢 好啊\n",
      "265 Well, bye. - 那么 再见啦\n",
      "266 |||| [66] Should we have invited her for lunch? No. 我们应该邀请她共进午餐吗?\n",
      "267 |||| [67] We're gonna start season two of Battlestar Galactica. 不 我们要看Battlestar Galactica第二季 (太空堡垒卡拉狄加)\n",
      "268 |||| [68] We already watched the season two DVDs. 我们已经看过第二季的DVD了\n",
      "269 |||| [69] Not with commentary. 那时候没带评论音轨一起看啊\n",
      "270 |||| [70] I think we should be good neighbors. Invite her over, make her feel welcome. 我们应该做好邻居 请她过来 让她感受到我们对她的欢迎\n",
      "271 We never invited Louie/Louise over. 我们从来没请那个Louis还不Louise过来啊\n",
      "272 |||| [72] Well, and that was wrong of us. 那是我们不对\n",
      "273 |||| [72] We need to widen our circle. 我们要扩大社交圈\n",
      "274 |||| [73] I have a very wide circle. 我的社交圈很广\n",
      "275 |||| [73] I have 212 friends on MySpace. 我在MySpace上有212个朋友\n",
      "276 |||| [74] Yes, and you've never met one of them. 是的 但你从没见过任何一个真人\n",
      "277 That's the beauty of it. 这正是它的美好之处\n",
      "278 I'm gonna invite her over. 我去请她过来\n",
      "279 |||| [76] We'll have a nice meal and chat. 我们好好吃一餐 闲聊一下\n",
      "280 |||| [77] We don't chat, at least not off-line. 我们不闲聊 至少不线下闲聊\n",
      "281 Well, it's not difficult. 不会很难的 你就听她说\n",
      "282 |||| [78] You just listen to what she says and then you say something appropriate in response. 然后给一些适当的回应就好了\n",
      "283 |||| [79] To what end? 直到什么时候?\n",
      "284 - Hi. Again. - Hi. 嗨 又是我们\n",
      "285 |||| [85] Anyway we brought home Indian food and I know that moving can be stressful and I find that when I'm undergoing stress that good food and company can have a comforting effect. 我们买了些印度菜 那个... 我知道搬家会很累人\n",
      "286 |||| [85] Also, curry's a natural laxative and I don't have to tell you that, you know a clean colon is just one less thing to worry about. 此外 咖喱是天然的温和泻药 你也知道干净的结肠 会让你省去件烦心事\n",
      "287 |||| [86] I'm no expert, but in the context of a lunch invitation you might wanna skip the reference to bowel movements. Leonard 虽然我不是专家 但我相信当你邀请人吃午饭的时候 最好省略关于肠部运动的话题\n",
      "288 |||| [87] Oh, you're inviting me over to eat? 你们是在邀我一起吃饭?\n",
      "289 Oh, that's so nice. I'd love to. 真是太好了 我很愿意\n",
      "290 |||| [91] So, what do you guys do for fun around here? 你们平时都玩什么呢?\n",
      "291 |||| [92] Well, today we tried masturbating for money. 今天我们尝试了靠手淫挣钱\n",
      "292 |||| [93] - Okay, well, make yourself at home. Tears 请随意\n",
      "293 |||| [96] This looks like some serious stuff. Leonard, did you do this? 这些看起来好深奥啊 Leonard 这是你写的吗?\n",
      "294 Actually, that's my work. 实际上 那些是我做的\n",
      "295 |||| [99] Yeah, well, it's just some quantum mechanics with a little string theory doodling around the edges. 就是些量子力学而已 边上我随便胡写了一点弦理论 那个部分 是开玩笑的\n",
      "296 |||| [99] It's a spoof of the Born-Oppenheimer approximation. 是我乱改的伯恩 -奥本海默近似版\n",
      "297 |||| [100] So you're, like, one of those Beautiful Mind genius guys. 看来你是\"美丽心灵\"那部电影 里面的那种天才人物啊\n",
      "298 Yeah. 可以这么说\n",
      "299 |||| [102] This is really impressive. 好厉害啊\n",
      "300 |||| [103] I have a board, if you like boards. This is my board. 我也有块纸板 如果你喜欢 这边是我的纸板\n",
      "301 |||| [104] Holy smokes. 我的妈呀\n",
      "302 |||| [105] If by \"holy smokes,\" you mean a derivative restatement of the stuff you can find scribbled on the wall of any men's room at MIT, sure. 如果你说的\"我的妈呀\" 指的是在麻省理工大学 任何一个男生宿舍墙上都能看到的涂写 那我想是的\n",
      "303 |||| [107] Who hasn't seen this differential below \"here I sit brokenhearted\"? 谁没见过\"我伤心地坐在这\" 下面的微分演算啊?\n",
      "304 |||| [108] At least I didn't have to invent 26 dimensions just to make the math come out. 至少我不用自己发明26种量纲 才能让演算成立\n",
      "305 - I didn't invent them. They're there. 我没有发明它们 它们本来就是存在的\n",
      "306 |||| [110] - In what universe? 在哪个世界上存在啊?\n",
      "307 |||| [111] In all of them, that is the point. 所有的世界里都存在 这正是关键\n",
      "308 |||| [112] Do you guys mind if I start? 我可以开动了吗?\n",
      "309 - Penny. - Yeah? Penny\n",
      "310 That's where I sit. 你坐了我的座位\n",
      "311 |||| [114] So sit next to me. 那你坐我旁边嘛\n",
      "312 |||| [115] - No, I sit there. 不行 我只坐那个座位\n",
      "313 |||| [118] - Here we go. 又来了\n",
      "314 |||| [119] In winter, that seat is close enough to the radiator to remain warm yet not so close as to cause perspiration. 冬天 那个位置跟电暖炉之间的距离 正好能让人保持温暖 而又不会太近导致出汗\n",
      "315 |||| [119] In the summer, it's in a cross breeze created by opening windows there and there. 夏天 坐在这儿正好能吹到 从这个窗口到那个窗口对吹的风\n",
      "316 |||| [119] It faces the television at an angle that is neither direct, discouraging conversation nor so far wide as to create a parallax distortion. 而且这里对着电视的角度正好 既不会妨碍跟他人谈话 又不用把头扭得太过去 以致造成视差畸变\n",
      "317 |||| [119] I could go on, but I think I've made my point. 我还能继续解释下去 但我想你应该明白了\n",
      "318 |||| [120] Do you want me to move? 你要我移开吗?\n",
      "319 |||| [122] - Just sit somewhere else. - 你就坐到旁边去吧\n",
      "320 |||| [124] Sheldon, sit. Sheldon 给我坐下!\n",
      "321 |||| [126] Well, this is nice. 这样很不错\n",
      "322 |||| [126] We don't have a lot of company over. 我们不是经常有朋友过来\n",
      "323 That's not true. Koothrappali and Wolowitz come over. 你胡扯 Koothrappali和Wolowitz天天都来\n",
      "324 Yes, I know. 我知道 但...\n",
      "325 |||| [129] Tuesday night we played Klingon Boggle until 1 in the morning. 星期二晚上 我们玩Klingon拼字游戏到夜里1点\n",
      "326 - Yeah, I remember. 是啦 我记得\n",
      "327 |||| [131] - I resent you saying we don't have company. 我讨厌你说我们没有朋友 - 抱歉\n",
      "328 - That has a negative social implication. - 那会产生消极的交际暗示\n",
      "329 - I said I'm sorry. 我说了我很抱歉!\n",
      "330 |||| [135] So Klingon Boggle? Klingon拼字游戏是什么?\n",
      "331 |||| [136] Yeah. It's like regular Boggle, but in Klingon. 就像普通的拼字游戏 但是是Klingon语的 (星际迷航中外星武士一族的怪异语言)\n",
      "332 |||| [136] That's probably enough about us. So tell us about you. 不聊我们了 说说你的事吧\n",
      "333 |||| [137] I'm a Sagittarius, which probably tells you way more than you need to know. 我是人马座的 这一点就很能说明我的个性啦\n",
      "334 |||| [138] Yes, it tells us that you participate in the mass cultural delusion that the sun's position relative to arbitrary constellations at the time of your birth somehow affects your personality. 是啊 它告诉我们你也是 迷信那种大众文化妄想的一员 你相信你出生时太阳的视位置 跟任意划分的星群间的关系 能以某种方式影响你的性格\n",
      "335 |||| [139] Participate in the what? 我相信什么?\n",
      "336 |||| [140] I think what Sheldon's trying to say is that Sagittarius wouldn't have been our first guess. 我想Sheldon是说 你第一眼看上去不像人马座\n",
      "337 |||| [141] Oh, yeah, a lot of people think I'm a water sign. 对啊 很多人觉得我像水相星座\n",
      "338 Okay, let's see, what else? 让我想想 还有什么\n",
      "339 Oh, I'm a vegetarian. 我是个素食者 嗯 鱼除外\n",
      "340 |||| [141] No, except for fish, and the occasional steak. 偶尔我也吃牛排 我好爱牛排!\n",
      "341 Well, that's interesting. Leonard can't process corn. 那真是有趣 Leonard不能消化玉米\n",
      "342 |||| [143] So do you have some sort of a job? PENNY: 你做什么工作呢?\n",
      "343 Oh, yeah. I'm a waitress at The Cheesecake Factory. 我在\"芝士蛋糕工厂\"当女招待\n",
      "344 I love cheesecake. 我很喜欢芝士蛋糕\n",
      "345 - You're lactose intolerant. 你都不能忍受乳糖\n",
      "346 - I don't eat it, I think it's a good idea. 我不吃 不代表我不欣赏它\n",
      "347 Anyways, I'm also writing a screenplay. 不管怎样 我还在写剧本\n",
      "348 It's about this sensitive girl who comes to L.A. from Lincoln, Nebraska to be an actress and winds up a waitress at The Cheesecake Factory. 是关于一个感情细腻的女孩 从内布拉斯加州Lincoln小镇来到洛杉矶 梦想成为演员 却只能在芝士蛋糕工厂当女招待\n",
      "349 So it's based on your life. 剧本是根据你的经历改编的哦?\n",
      "350 No, I'm from Omaha. 不 我是从奥马哈市来的\n",
      "351 |||| [151] If that was a movie, I would go see it. 如果真的拍成电影 我肯定会去看的\n",
      "352 I know, right? 我知道 故事不错是吧?\n",
      "353 Okay, let's see, what else? 我想想 还有什么?\n",
      "354 I guess that's about it. 好像差不多了\n",
      "355 That's the story of Penny. 这就是Penny的故事\n",
      "356 |||| [153] Well, it sounds wonderful. 听起来很棒啊\n",
      "357 |||| [154] It was. 以前是的\n",
      "358 |||| [154] Until I fell in love with a jerk. 直到我爱上了那个混球\n",
      "359 [MOUTHS] I don't know. 我不知道\n",
      "360 |||| [157] Oh, God, you know, four years I lived with him. 你知道吗 我跟他同居了4年\n",
      "361 |||| [157] Four years. That's like as long as high school. 4年 跟高中一样久了\n",
      "362 |||| [158] It took you four years to get through high school? 你花了4年才上完高中?\n",
      "363 |||| [160] I just... I can't believe I trusted him. 我不敢相信我居然那么信任他\n",
      "364 |||| [161] Should I say something? 我该说些什么吗?\n",
      "365 |||| [161] I feel I should say something. You? 我觉得我该说些什么\n",
      "366 No, you'll only make it worse. 你? 千万别 你只会让事情变得更糟糕\n",
      "367 |||| [163] You wanna know the most pathetic part? 你知道最可悲的是什么吗?\n",
      "368 |||| [163] Even though I hate his lying, cheating guts I still love him. 尽管我对他的谎言欺骗恨之入骨 我还是爱着他\n",
      "369 |||| [163] Is that crazy? 是不是很疯狂?\n",
      "370 No, it's not crazy. 不 那不是疯狂\n",
      "371 It's a... 你只是...\n",
      "372 It's a paradox. 陷入一种矛盾\n",
      "373 |||| [165] Paradoxes are part of nature. 矛盾是我们天性的一部分\n",
      "374 |||| [165] I mean, think about light. If you look at Huygens, light is a wave, as confirmed by the double-slit experiments. 你想想光 惠更斯认为光是一种波动\n",
      "375 |||| [165] But then, along comes Albert Einstein and discovers that light behaves like particles too. 但后来 爱因斯坦出现了 他发现光也具有粒子的表现特征\n",
      "376 Well, I didn't make it worse. 呃 我没让情况变得更糟\n",
      "377 Oh, I'm so sorry I'm such a mess. 很抱歉 我真是一团糟\n",
      "378 |||| [166] And on top of everything else, I'm all gross from moving and my stupid shower doesn't work. 除了那些烂事 我搬家弄得一身臭汗 该死的淋浴还坏掉了\n",
      "379 |||| [167] Our shower works. 我们的淋浴房能用\n",
      "380 |||| [168] Would it be totally weird if I used it? 我用你们的淋浴房 会不会很奇怪?\n",
      "381 - No? - 不会?\n",
      "382 It's right down the hall. 就在厅后面\n",
      "383 |||| [175] Okay, thanks. You guys are really sweet. 谢谢 你们真是大好人\n",
      "384 |||| [176] Well, this is an interesting development. 真是有趣的进展啊\n",
      "385 LEONARD: How so? 为什么?\n",
      "386 SHELDON: It has been some time since we've had a woman take her clothes off in our apartment. 已经有好长一段时间 没有女人在我们的公寓里脱光了\n",
      "387 |||| [179] That's not true. Remember at Thanksgiving my grandmother with Alzheimer's had that episode? 不对吧 还记得感恩节我那阿兹海默症 (老年痴呆)的奶奶病发闹出的那一段吗?\n",
      "388 It has been some time since we've had a woman take her clothes off after which we didn't wanna rip our eyes out. 有道理 已经有好长一段时间 没有女人在我们公寓里脱光 而且我们不会想抠出自己的眼睛!\n",
      "389 |||| [181] The worst part was watching her carve that turkey. 看着她乱搞那只火鸡 是最折磨人的\n",
      "390 |||| [182] So, what exactly are you trying to accomplish here? 你到底希望达到什么目标呢?\n",
      "391 That woman in there is not going to have sex with you. 那个女孩不会跟你上床的\n",
      "392 Well, I'm not trying to have sex with her. 我不是想跟她上床\n",
      "393 |||| [186] Oh, good. Then you won't be disappointed. 很好 那你就不会失望了\n",
      "394 |||| [187] What makes you think she wouldn't have sex with me? 你为什么认定她不会跟我上床?\n",
      "395 |||| [187] I'm a male and she's a female. 我是男人 她是女人\n",
      "396 |||| [188] Yes, but not of the same species. 对 但你们不是一个种族的\n",
      "397 I'm not gonna engage in hypotheticals here. 我不想跟你在这瞎猜\n",
      "398 |||| [189] - I'm just trying to be a good neighbor. 我只是想当个好邻居\n",
      "399 |||| [190] - Oh, of course. 当然了\n",
      "400 |||| [191] That's not to say that if a carnal relationship were to develop that I wouldn't participate. 但是如果真的要发展到肉体关系 我也不会拒绝的\n",
      "401 |||| [191] However briefly. 不管那有多短暂\n",
      "402 |||| [192] Do you think this possibility will be hindered when she discovers your Luke Skywalker \"no more tears\" shampoo? 你觉得让她发现你的 \"天行者Luke\"无泪洗发水 是会帮助还是阻碍你们的发展呢?\n",
      "403 It's Darth Vader shampoo. 那是Darth Vader洗发液 (星球大战中角色)\n",
      "404 Luke Skywalker's the conditioner. \"天行者Luke\"是护发素\n",
      "405 |||| [194] - Wait till you see this. 你们得看看这个\n",
      "406 - It's fantastic. Unbelievable. 超级赞 不可置信\n",
      "407 |||| [196] See what? 看什么?\n",
      "408 |||| [197] It's a Stephen Hawking lecture from MIT in 1974. 是施蒂芬 -霍金于1974年 在麻省理工做的演讲\n",
      "409 |||| [198] This isn't a good time. 现在不方便\n",
      "410 |||| [199] [IMITATING COMPUTERIZED VOICE] It's before he became a creepy computer voice. 这是在他变成诡异的 电脑合成声音之前的讲座\n",
      "411 |||| [200] - That's great, you guys have to go. 很好 你们得走了\n",
      "412 |||| [202] - It's just not a good time. 现在不方便啊\n",
      "413 |||| [203] - Leonard has a lady over. Leonard有女人拜访\n",
      "414 |||| [204] [IN NORMAL VOICE] Yeah, right. Your grandmother back in town? 这样啊 你奶奶又进城了?\n",
      "415 |||| [205] No. 不是什么女人的艳遇啦\n",
      "416 |||| [205] And she's not a lady, she's just a new neighbor. 只是我们的新邻居\n",
      "417 |||| [206] Hang on, there really is a lady here? 你等等 这儿真有个女人?\n",
      "418 |||| [207] - Uh-huh. 没错\n",
      "419 |||| [208] - And you want us out because you're anticipating coitus? 你要我们走 是因为你准备跟她交媾?\n",
      "420 - I'm not anticipating coitus. 我没准备跟她交媾\n",
      "421 - So she's available for coitus? 那她可以跟别人交媾?\n",
      "422 Can we please just stop saying \"coitus\"? 能不能别用\"交媾\"这个词?\n",
      "423 |||| [212] Technically, that would be coitus interruptus. 用术语来说 就是交媾中止\n",
      "424 |||| [213] Hey, is there a trick to getting it to switch from tub to shower? 从泡浴换成淋浴 是不是有个开关?\n",
      "425 |||| [213] Oh, hi, sorry. Hello. 噢 很抱歉 你们好\n",
      "426 Enchanté, mademoiselle. 很高兴认识您 小姐\n",
      "427 |||| [214] Howard Wolowitz, CalTech Department of Applied Physics. 我是Howard Wolowitz 加州理工大应用物理系\n",
      "428 |||| [214] You may be familiar with some of my work. 你可能对我的工作成果有所了解\n",
      "429 |||| [214] It's currently orbiting Jupiter's largest moon taking high-resolution digital photographs. 它现在正绕着木星最大的卫星旋转 拍摄高清数码照片\n",
      "430 |||| [215] Penny. I work at The Cheesecake Factory. 我是Penny 我在芝士蛋糕工厂做侍应\n",
      "431 |||| [216] - I'll show you the trick with the shower. - Okay. 来吧 我告诉你开关在哪\n",
      "432 [SPEAKS IN FRENCH] Bonne douche!\n",
      "433 It's French for \"good shower.\" 法语的\"洗个痛快澡\"\n",
      "434 |||| [219] It's a sentiment I can express in six languages. 我能用六国语言表达这一祝愿\n",
      "435 |||| [220] Save it for your blog, Howard. 留着在你的Blog上写吧 Howard\n",
      "436 [SPEAKS IN FOREIGN LANGUAGE] 洗个痛快澡 (中文)\n",
      "437 |||| [222] LEONARD: All right, there it goes. It sticks, I'm sorry. 这样就行 开关卡住了 抱歉\n",
      "438 |||| [223] - Okay, thanks. 好的 谢谢\n",
      "439 - You're welcome. Oh, you're just gonna step right...? 不客气 你只要向右...\n",
      "440 Okay. 好 我撤了\n",
      "441 PENNY: Hey, Leonard? - Leonard\n",
      "442 |||| [226] - The hair products are Sheldon's. - 那些洗发产品是Sheldon的\n",
      "443 PENNY: Okay. 好的\n",
      "444 |||| [227] - Um, can I ask you a favor? 我能麻烦你帮个忙吗?\n",
      "445 - A favor? 帮忙?\n",
      "446 |||| [228] Sure, you could ask me a favor. I would do you a favor for you. 你当然可以要我帮忙 我很乐意帮你忙\n",
      "447 |||| [229] - It's okay if you say no. 你不答应也没事\n",
      "448 - Oh, I'll probably say yes. 噢 我应该会答应的\n",
      "449 |||| [231] It's just not the kind of thing you ask a guy you just met. 这不是那种 你会请刚认识的人帮的忙\n",
      "450 |||| [233] I really think we should examine the chain of causality here. 我们得回顾下这起事件的前因后果\n",
      "451 |||| [234] - Must we? 一定要吗?\n",
      "452 |||| [235] - Event A: 事件A:\n",
      "453 |||| [235] A beautiful woman stands naked in our shower. 一个美女在我们的浴室裸体\n",
      "454 Event B: 事件B:\n",
      "455 |||| [235] We drive halfway across town to retrieve a television set from the aforementioned woman's ex-boyfriend. 我们开车穿越整个小镇 就为了搬台电视机回来 目的地就在刚刚提到的美女的前男友家\n",
      "456 |||| [235] On what plane of existence is there even a semi-rational link between these events? 提问:\n",
      "457 |||| [236] She asked me to do her a favor, Sheldon. 因为Penny请我帮个忙 Sheldon\n",
      "458 |||| [237] Well, that may be the proximal cause of our journey but we both know it exists in contradistinction to the higher-level distal cause. 是啊 那也许是最近似可能的起因了 但我们都知道 它和更高级的末端起因截然不同\n",
      "459 |||| [238] - Which is? 那是什么意思?\n",
      "460 |||| [239] - You think with your penis. 你用你的老二思考\n",
      "461 |||| [240] That's a biological impossibility, and you didn't have to come. 这在生理上是不可能的 你也不一定要来啊\n",
      "462 |||| [241] I could have stayed behind to watch Wolowitz hit on Penny in Russian, Arabic and Farsi. 对 我可以留在家里看着Wolowitz 试图用俄语 阿拉伯语及波斯语搭讪Penny\n",
      "463 |||| [241] And why can't she get her own TV? 她为什么不能自己去拿?\n",
      "464 |||| [242] Come on, you know how it is with breakups. 你知道分手这种事啦\n",
      "465 No, I don't, and neither do you. 不 我不知道 你也不知道\n",
      "466 |||| [244] But I... I broke up with Joyce Kim. 什么啊 我跟Joyce Kim分过手\n",
      "467 |||| [245] You did not break up with Joyce Kim. She defected to North Korea. 你才没有和Joyce Kim分手 是她跑到韩国去了\n",
      "468 |||| [246] To mend her broken heart. 为了修复她受伤的心灵\n",
      "469 |||| [246] This situation is much less complicated. 现在这情况更加复杂\n",
      "470 |||| [246] There's some dispute between Penny and her ex-boyfriend as to who gets custody of the TV. Penny和她前男友不能达成一致 究竟电视机该归谁\n",
      "471 |||| [246] - She just wanted to avoid a scene with him. 她不想再和他当面争执\n",
      "472 |||| [247] - So we get to have a scene with him? 所以我们去和他当面争执?\n",
      "473 |||| [248] No, Sheldon, there's not going to be a scene. Sheldon 根本不会有争执\n",
      "474 |||| [248] There's two of us and one of him. 我们两人 他一人\n",
      "475 |||| [249] Leonard, the two of us can't even carry a TV. Leonard 我们俩加起来都抗不动一台电视\n",
      "476 |||| [250] So you guys work with Leonard and Sheldon at the university? 你们跟Leonard和Sheldon一起在学校做事?\n",
      "477 |||| [251] I'm sorry, do you speak English? 不好意思 你会说英语吗?\n",
      "478 |||| [252] Oh, he speaks English. He just can't speak to women. 他会 只是不能跟女人说\n",
      "479 He's kind of a nerd. 因为他是个书呆子\n",
      "480 Juice box? 盒装果汁? (谐音G -Spot 即高潮快点)\n",
      "481 - I'll do the talking. 我来跟他理论\n",
      "482 MAN: Yeah? 谁?\n",
      "483 - Hi. I'm Leonard, this is Sheldon. 嗨 我是Leonard 他是Sheldon\n",
      "484 |||| [259] What did I just...? - 我...\n",
      "485 |||| [259] - We're here to pick up Penny's TV. 我们来拿Penny的电视\n",
      "486 |||| [260] - Get lost. 滚\n",
      "487 |||| [261] Okay, thanks for your time. 好的 打搅你了\n",
      "488 |||| [262] - We're not gonna give up just like that. 我们不能就这么放弃\n",
      "489 |||| [263] - Leonard, the TV's in the building. Leonard 电视在这楼里\n",
      "490 |||| [263] We've been denied access to the building, ergo we are done. 他不放我们进去 我们没辙\n",
      "491 |||| [264] If I were to give up at the first hitch, I never would have identified the fingerprints of string theory in the aftermath of the big bang. 不好意思 如果我第一次受挫就放弃 我就永远不可能在大爆炸理论提出后 发现关于弦理论的蛛丝马迹\n",
      "492 My apologies. What's your plan? 我道歉 你打算怎么做?\n",
      "493 |||| [266] It's just a privilege to watch your mind at work. 看到你如此专注工作 真是种荣幸\n",
      "494 |||| [267] Come on, we have a combined IQ of 360. 来吧 我们俩智商加起来有360\n",
      "495 |||| [267] We should be able to figure out how to get into a stupid building. 我们绝对能够想办法进入这蠢楼\n",
      "496 |||| [268] - What do you think their combined IQ is? 你觉得她俩智商加起来多少?\n",
      "497 |||| [269] - Just grab the door. 快去留住门!\n",
      "498 LEONARD: This is it. 就是这\n",
      "499 I'll do the talking. 我来跟他理论\n",
      "500 Good thinking, I'll just be the muscle. 好主意 我用武力威慑\n",
      "501 - I'm Leonard, this is Sheldon. 我是Leonard 他是Sheldon\n",
      "502 |||| [274] From the intercom. 刚刚在对讲机上的\n",
      "503 |||| [275] How the hell did you get in the building? 他妈的你们怎么进来的?\n",
      "504 |||| [277] Tell him about our IQ. 告诉他我们的智商\n",
      "505 - Leonard. - What? - Leonard\n",
      "506 |||| [280] - My mom bought me those pants. - 什么? 那条裤子是我妈给我买的\n",
      "507 You're gonna have to call her. 你得给她打电话\n",
      "508 |||| [283] Sheldon, I am so sorry I dragged you through this. Sheldon 真对不起把你也扯进来了\n",
      "509 |||| [284] It's okay. It wasn't my first pantsing and it won't be my last. 没关系 这不是我第一次掉裤子了 也不会是最后一次\n",
      "510 |||| [285] And you were right about my motives. 你说得对 关于我的动机\n",
      "511 |||| [285] I was hoping to establish a relationship with Penny that might have someday led to sex. 我是指望着能跟Penny建立某种关系 并最终发展成肉体关系\n",
      "512 |||| [286] SHELDON: Well, you got me out of my pants. 你倒是成功地脱下了我的裤子\n",
      "513 Anyway, I've learned my lesson. 无论如何 我得到了教训\n",
      "514 |||| [287] She's out of my league, I'm done with her. 我配不上她 我放弃了\n",
      "515 |||| [287] I've got my work. One day I'll win the Nobel Prize and then I'll die alone. 我有工作 有一天我会赢得诺贝尔奖 然后孤老死去\n",
      "516 |||| [288] Don't think like that. You're not going to die alone. 别那么想 你不会孤老而死\n",
      "517 |||| [289] Thank you, Sheldon. You're a good friend. 谢谢你 Sheldon 你真是个好朋友\n",
      "518 SHELDON: And you're certainly not gonna win a Nobel Prize. 你当然也没可能赢诺贝尔奖\n",
      "519 |||| [291] This is one of my favorite places to kick back after a quest. 这里是我最喜欢的探险后休息的地方\n",
      "520 |||| [291] They have a great house ale. 他家的啤酒很好喝\n",
      "521 PENNY: Wow, cool tiger. 好酷的老虎\n",
      "522 |||| [293] Yeah, I've had him since Level 10. 是的 我从10级开始就养它了\n",
      "523 His name is Buttons. 它叫扣扣\n",
      "524 |||| [293] Anyway, if you had your own game character we could hang out, maybe go on a quest. 如果你也有自己的在线游戏人物 我们可以一起玩玩 一起探险\n",
      "525 - That sounds interesting. 听上去挺有趣\n",
      "526 - So you'll think about it? 那么 你会想想这个提议啦?\n",
      "527 |||| [296] Oh, I don't think I'll be able to stop thinking about it. 我想这个点子会让我思考许久的\n",
      "528 |||| [297] Smooth. 干得漂亮\n",
      "529 - We're home. 我们回来了\n",
      "530 |||| [299] - Oh, my God. What happened? 老天啊 发生了什么事?\n",
      "531 |||| [300] Well, your ex-boyfriend sends his regards and I think the rest is fairly self-explanatory. 你前男友让我们跟你带声问候 其他的我想应该够一目了然了\n",
      "532 |||| [301] I really thought if you guys went instead of me he wouldn't be such an ass. 我真的以为如果你们替我去 他不会表现那么混蛋\n",
      "533 |||| [302] No, it was a valid hypothesis. 挺充分的假设\n",
      "534 |||| [303] That was a valid hypo...? 挺充分的假...\n",
      "535 |||| [303] What is happening to you? ? 你怎么了?\n",
      "536 |||| [304] Really, thank you so much for going and trying. 说真的 太谢谢你们帮我跑这一趟了\n",
      "537 You just... You're so terrific. 你们真是大好人\n",
      "538 |||| [304] Why don't you put some clothes on, I'll get my purse, and dinner is on me, okay? 真的 你们穿上衣服 我去拿钱包 今晚我请客 好吧?\n",
      "539 |||| [305] - Really? Great. - 真的吗?\n",
      "540 |||| [306] - Thank you. 太好了!\n",
      "541 |||| [306] You're not done with her, are you? 你还没放弃 是吧?\n",
      "542 |||| [307] Our babies will be smart and beautiful. 我们的小孩肯定又聪敏又漂亮\n",
      "543 |||| [308] Not to mention imaginary. 而且还是想象出来的\n",
      "544 |||| [309] - Is Thai food okay with you, Penny? - Sure. - Penny 你能吃泰国菜吗?\n",
      "545 |||| [311] We can't have Thai, we had Indian for lunch. - 可以啊 我们不能吃泰国菜 中午已经吃了印度菜\n",
      "546 - They're both curry-based cuisines. 所以? 它们都是以咖喱为主的菜系\n",
      "547 - It would be gastronomically redundant. 那会造成\"肠胃不能承受之腹泻\"\n",
      "548 |||| [315] I can see we're going to have to spell out everything for this girl. 我发现我们什么都得帮她解释清楚\n",
      "549 Any ideas, Raj? Raj 你有什么主意吗?\n",
      "550 |||| [317] Turn left on Lake Street and head up to Colorado. 在Lake街左转 朝Colorado开\n",
      "551 |||| [317] I know a wonderful little sushi bar that has karaoke. 那边有个带卡拉OK的寿司吧\n",
      "552 Oh, that sounds like fun. 好像很好玩\n",
      "553 [SINGING] Baby, baby, don't get hooked on me * 宝贝 宝贝 不要被我迷上 *\n",
      "554 Oh, baby, baby Don't get hooked on me * 宝贝 宝贝 不要被我迷上 *\n",
      "555 |||| [320] I don't know your odds in the world as a whole but as far as the population of this car goes, you're a veritable mac daddy. 我不知道按整个世界算 你追她成功的机率有多大 但就这辆车里的人来讲 你绝对是名副其实的万人迷\n",
      "556 Baby, don't get hooked on me - - -\n",
      "557 Yo, we should just play this straight up. 我说，直接上去搞定他们得了\n",
      "558 Those cats will fold under pressure. 他们会被吓得像小猫一样乖的\n",
      "559 We can take these fools with our eyes closed. Come on. 我们闭着眼睛都能搞定这些笨蛋\n",
      "560 No doubt, but I don't wanna diss them in front of their home crowd. 当然，不过我不想在他们家门口羞辱他们\n",
      "561 D, I got you. D，我明白\n",
      "562 I got y'all. 我明白了\n",
      "563 -All right, man. -Come on, let's do it. 好了，伙计们　走吧，开始行动\n",
      "564 All right, all right, y'all, that was hot! 好了，劲爆极了\n",
      "565 And the winner is... . 获胜者是...\n",
      "566 Sphere and the Thug Unit! 斯斐尔和他的\"恶棍组合\"！\n",
      "567 Who wants next? 谁想下一个上？\n",
      "568 Let's get it going on in here. 让我们继续吧\n",
      "569 -Y'all want some of this? 你们是想比吗？\n",
      "570 -We got next. 该我们了\n",
      "571 All right, all right, y'all, let's get it popping in this mall ! 好了，好了，让我们玩转这个舞厅\n",
      "572 You haven't seen him pop. Come on, come on. 你还没见过他跳呢，来吧\n",
      "573 -Hey, I got that. -Get out of here! 嘿，知道厉害了吧　滚\n",
      "574 -Get back. -Break it up. 退回去　分开他们\n",
      "575 -Get back. Get back. -We good. 都松手　我们没事\n",
      "576 All right, all right, let's hear it for the Thug Unit. 好了，支持\"恶棍组合\"的，大声喊出来\n",
      "577 Give it up for the Goon Squad ! 支持\"打手新兵\"的！\n",
      "578 What's up? I think the Goon Squad got it, y'all. 哈，我觉得是\"打手新兵\"赢了\n",
      "579 Double or nothing says you got lucky. 等等，赌双倍，若不敢刚才就是狗屎运\n",
      "580 It's on. 奉陪\n",
      "581 -Let's go! Let's go! -What the hell are you doing? 开始吧，开始吧　你干什么呢你？\n",
      "582 Man, I'm out. 伙计，我退出\n",
      "583 What the hell you walking away for? 你他妈的为什么不干了？\n",
      "584 I say we double up on these niggas. 我都说了要加倍和他们赌\n",
      "585 -You know this ain't our spot, D. -你知道这不是我们的地盘，D\n",
      "586 -Sphere's crew don't know us. -斯斐尔的手下不了解我们\n",
      "587 Don't know what we're bringing, period. 不知道我们有多强\n",
      "588 -The more paper we take home. -我们能赢更多的钱\n",
      "589 -Did you see that cat? -你没看见那哥们吗？\n",
      "590 If he thinks he's being hustled, that's paper we won't spend. 如果他觉得不爽，有再多钱我们也没命花\n",
      "591 -Why are you acting all scared? 你怎么变得胆小如鼠了？\n",
      "592 -l'm not. 我没有\n",
      "593 -l'm acting smart. You try it! -我只是学着聪明点而已，你也学着点\n",
      "594 -Don't I always got your back? -我不是一直罩着你吗？\n",
      "595 Don't I always have your back? 难道我不是一直罩着你吗？\n",
      "596 -You know I got it, man, but I'm... . -我知道，我一直很感激你，但是...\n",
      "597 -lf you ain't with it, just go home. -如果你不想干的话，就回家呆着去吧\n",
      "598 -Like you could do this without me. -好像没了我你还能赢似的\n",
      "599 -For real, DJ. -真的，DJ\n",
      "600 We ain't shit without your brother. 没你弟弟的话我们屁都不算\n",
      "601 You know, it's gonna get nasty up in here! 这里就要沸腾了！\n",
      "602 -Don't wanna let stuff get out of hand-- -我只是不想事情失去控制而已\n",
      "603 -Don't sweat it. -别担心那个\n",
      "604 We came too far to turn back now, baby boy. I want this. 我们已经走的太远，没法回头了 小弟，我想赢\n",
      "605 You want this? 你想赢？\n",
      "606 I knew you'd say something like you want this. 我就知道你要说 什么我想赢之类的\n",
      "607 That's all this is about. Typical DJ. 一切都是为了你自己 这是你的一贯作风\n",
      "608 It's not just about you, it's about all of us. We're a team. 这不是为你一个人，是为了我们全部人 我们是一个团队\n",
      "609 Well, this team's about to double up on their asses. Come on. 那我们这个团队要和他们赌双倍的\n",
      "610 All right now, y'all ready to rip this? 好了，准备好甩碟了吗？\n",
      "611 Let's get it going on up in this mall ! 那就开始尽情的跳吧\n",
      "612 Let's go! 上位了！\n",
      "613 It's over! It's over! All right, all right, y'all ! 结束了，结束了，好了，好了\n",
      "614 This one, hands down, the Goon Squad ! 这次，没有悬念的\"打手新兵\"获胜\n",
      "615 You're dead ! You're dead ! 你死定了！\n",
      "616 Goon Squad ! Goon Squad is up. \"打手新兵\"要雄起了\n",
      "617 I'm telling you, man, we're taking over L.A. 早就说了，哥们，洛杉矶是我们的天下了\n",
      "618 -Believe that. -Yeah. 我信　没错\n",
      "619 Hold up, guys. 伙计们，等会\n",
      "620 -Hey, man, what's your brother doing? 嘿，你弟弟干什么呢？\n",
      "621 -Man, I don't know. 不知道\n",
      "622 -l got a little something for y'all. -All right. All right. 给大家个小小的惊喜　好极了\n",
      "623 That's what's up. You know what I'm saying? 就这样了，都明白我想说什么吧？\n",
      "624 Yeah, man. 嗯\n",
      "625 We gotta take Von home. His mom's gonna trip. 我们送芳回家吧，要不他妈会发狂的\n",
      "626 I have your mama. 我来搞定你老妈\n",
      "627 -He'll get a beating. -他会挨揍的\n",
      "628 -Miss Williams ain't banging on me. -威廉姆斯小姐不会上我的\n",
      "629 -Why you gotta do my mom like that? -你为什么要那样说我妈妈？\n",
      "630 -l was doing her like that. Last night. -我就是那么上她的，昨晚\n",
      "631 I got it! I got it! 让我来！\n",
      "632 -l want my money. -The money's mine. 把钱给我　钱是我的\n",
      "633 I want it. 可我想要\n",
      "634 Where's my money? 在哪？\n",
      "635 -Let's get out of here! Let's go! 我们离开这，快走！\n",
      "636 -Let's go. Move it! 走，快走！\n",
      "637 Get up, D! 振作点，D！\n",
      "638 Come on ! 振作！\n",
      "639 I'm sorry, man, I'm sorry. 对不起，伙计，对不起\n",
      "640 Somebody do something ! 大家做点什么啊\n",
      "641 We'd Iike to welcome all arriving passengers to Atlanta. 热烈欢迎来到亚特兰大的各位旅客\n",
      "642 We are so glad to have you here, DJ. 我们很高兴你来这，DJ\n",
      "643 You're in Atlanta, we'll get you a Hawks jersey or something. 你现在在亚特兰大了 我们会带你去看鹰队的比赛什么的\n",
      "644 Honey, nobody watches the Hawks. 亲爱的，没人看鹰队的比赛的\n",
      "645 That's your uncle's way of saying welcome to Georgia. 那是你叔叔说 欢迎来到乔治亚州的方式\n",
      "646 You'll get used to the humidity. 你会适应潮湿的气候的\n",
      "647 You must be so excited to start school. 要上学了你一定很兴奋吧\n",
      "648 Or nervous. 或者很紧张\n",
      "649 But don't be. You'll do just fine. 不过别担心，你会做的很好的\n",
      "650 You know that's where l met your uncle. 那是我遇到你叔叔的地方\n",
      "651 You guys went to Truth? 你们以前也在真理大学念的？\n",
      "652 I did. Your uncle was working there. 我是，你叔叔在那里工作\n",
      "653 Come on, let me show you up to your room. This way. 好了，我把你带到你房间去吧，跟我来\n",
      "654 That's your bathroom over there, and this is your room. 浴室在那，这个就是你的房间了\n",
      "655 If you get tired of campus food, you're more than welcome... 如果你吃腻了学校的饭菜，随时欢迎你\n",
      "656 ... tospendyourweekends here with us, anytime. 周末的时候回来和我们一起过\n",
      "657 You know, whatever makes you comfortable. 只要你觉得舒适就好\n",
      "658 DJ, I didn't get a chance to tell you at the funeral... DJ，有件事在葬礼上一直没机会和你说\n",
      "659 ... butyouknowweloved him. 但是你知道我们都很爱他\n",
      "660 I know how close you two were. 我知道你们两个关系有多亲密\n",
      "661 I gotta run and show a house... 我得去带人家看房子\n",
      "662 ... sowhenIget back, I'll make us all some dinner. 我回来之后就做晚餐\n",
      "663 Honey, go ahead and help yourself to some apple pie. 亲爱的，再吃些苹果派吧\n",
      "664 I know it's your favourite. 我知道你最喜欢了\n",
      "665 No, no, thanks. 不，谢谢了\n",
      "666 You know I had to call in a favour to get you into this school. 你知道让你进这个学校，让我欠别人个情\n",
      "667 -Don't make me look bad. -Nate. 别给我丢脸　纳特\n",
      "668 -No, that's cool. I'm listening. -Good. 不，没事，我听着呢　那就好\n",
      "669 Because the rules are very simple. 规矩其实很简单\n",
      "670 There's three things you have to deal with. 你只要做好三件事情就可以了\n",
      "671 First, you must keep your grades up at all times. 首先，不管什么时候都要保证 你学业能跟上\n",
      "672 Second, I'm in charge of your work study programme... 第二，我会负责你的勤工俭学\n",
      "673 ... butyou'llnot be treated differently... 但是我不会对你额外开恩的\n",
      "674 ... norwillyou behaveanydifferent than my other 26 employees. 你也要像我其他的26个雇员一样 勤勤恳恳的工作\n",
      "675 -And third? 第三呢？\n",
      "676 -lf there's a strike three, you out. 做不到前面两条就出局\n",
      "677 Period. 就这些了\n",
      "678 DJ? DJ？\n",
      "679 What the hell is going on, man? 你干什么呢？\n",
      "680 I'm not gonna sit out here and act like I wanna be here when I don't. 我可不想假装很喜欢呆在这里\n",
      "681 This whole college boy thing is not for me, man. 上大学这鬼主意并不适合我\n",
      "682 You're the only thing your mama's got left. 你是你妈妈仅有的希望了\n",
      "683 There's no way I'm gonna let you put my sister through any more pain. 我绝不允许你又让妹妹再痛苦一次的\n",
      "684 So you better make this college thing work out. Can you appreciate that? 所以你最好乖乖读你的大学去 明白了吗？\n",
      "685 Get your black ungrateful ass in the goddamn truck. 你这不知好歹的混球 赶快滚回车上去\n",
      "686 What'd I say, man? 听到我说的了吗？\n",
      "687 Get in the truck! 上车！\n",
      "688 At least you don't have a problem with waking up early. 至少你早起还不会有问题\n",
      "689 Looks like you're just in time for registration. 看起来你刚好赶上了注册的时间\n",
      "690 Yo, yo, hold my spot real quick. 嘿，帮忙占一下，很快就回来\n",
      "691 -This is my spot, thanks. -刚才我在这的，谢谢\n",
      "692 -Excuse me? -干什么呢？\n",
      "693 -There was a girl saving my space. -刚才我让个女孩帮我占着的\n",
      "694 -Nice try. -说的真好听\n",
      "695 You have to wait in line like everybody else. 你得和其他人一样慢慢排队\n",
      "696 You saw me behind the sister with the fro. 你刚才都看见我是在她后面的\n",
      "697 Now, one of you come up to the counter. 好了，你们其中一个到这来\n",
      "698 I'm just saying it's a little early to tell, Mom. That's all. 我只是说现在还很难说\n",
      "699 No, I'm not saying I hate it. 我没说我讨厌读书\n",
      "700 I'm not quitting. I promised you I'd try. That's my word. 我没想放弃，我发誓我会试试看的 我保证\n",
      "701 I love you too. 我也爱您\n",
      "702 There are only a select few things of mine that are absolutely off-limits. 我只有少数的几样东西是 你不能动的\n",
      "703 My toothbrush, my toothpaste, my shaving cream, and my condoms. 我的牙刷，牙膏，剃须膏 还有避孕套\n",
      "704 Magnums, of course. You know about the gold packs? 当然是大号的 你知道所谓的\"金装版\"吧？\n",
      "705 Yeah, yeah, yeah. 嗯，好的\n",
      "706 Other than that, playboy, anything else of mine... 除了那些，伙计 我的其它东西\n",
      "707 ... you'rewelcometo . 你都可以用 我是里奇.\n",
      "708 RichBrown. 布朗\n",
      "709 -DJ. -DJ\n",
      "710 -Nice to meet you, sir. -很高兴见到你\n",
      "711 The Deltas are having a little barbecue. 得尔塔斯在举行烧烤野炊\n",
      "712 -l've got some juice, I can get you in. -我可以让你混进来\n",
      "713 -l gotta work. -我要干活\n",
      "714 -Classes ain't started yet. -还没开始上课呢\n",
      "715 -l got a job. -我找了份工作\n",
      "716 Okay, I feel you. Which--? 好吧，我明白了，哪个...\n",
      "717 All right, bro. ln that case, I'll holler. 好了，哥们 那我就自己去了\n",
      "718 Yes. 棒极了\n",
      "719 Don't just stand there, man. Sit down. 别傻站在那里啊 坐下吧\n",
      "720 is this your office? 这个就是你的办公室？\n",
      "721 Awfully nice digs for somebody who cuts grass. 对修剪草坪的人来说 这里像是天堂了\n",
      "722 No, I don't cut grass. 不，我不是修剪的\n",
      "723 But you do. 你才是\n",
      "724 You ever wonder where them trains be going? 你有没有想过这些火车要开到哪里去？\n",
      "725 They probably be going to Japan or something. 它们可能是开往日本或者什么地方吧\n",
      "726 -Japan? -日本？\n",
      "727 -Oh, yeah, they can't cross water. -哦，对了，火车不能过水\n",
      "728 You going to college? 你是要去上大学了？\n",
      "729 Don't say that when you get there. 你别到了那还这样说哦\n",
      "730 I'm just playing with you, man. 和你开玩笑的啦\n",
      "731 The key to success in going to school, what you do, you get a group of girls... 上学成功的关键就是 你要找到一堆女孩子\n",
      "732 ... yougetthem to do your homework. 来帮你写作业\n",
      "733 When they do your homework, you get A's. 有她们帮你，你就能得A了\n",
      "734 -How's it going, man? -今天怎么样？\n",
      "735 -l'm still standing. -还活着呢\n",
      "736 Get in, man. I'll give you a ride back. 进来吧，小子 我载你回家\n",
      "737 Come on, come on. Pass the ball. Pass the ball. 传球啊\n"
     ]
    }
   ],
   "source": [
    "# Show Open Subtitle\n",
    "for i, subtitle in enumerate(en_subset):\n",
    "    if i in sub2epi:\n",
    "        print(i, \"||||\", sub2epi[i], subtitle, zh_subset[i])\n",
    "    else:\n",
    "        print(i, subtitle, zh_subset[i])"
   ],
   "metadata": {
    "collapsed": false,
    "pycharm": {
     "name": "#%%\n"
    }
   }
  },
  {
   "cell_type": "code",
   "execution_count": null,
   "outputs": [],
   "source": [],
   "metadata": {
    "collapsed": false,
    "pycharm": {
     "name": "#%%\n"
    }
   }
  },
  {
   "cell_type": "code",
   "execution_count": 90,
   "outputs": [
    {
     "name": "stdout",
     "output_type": "stream",
     "text": [
      "[{0: [200, 203], 5: [206], 8: [214], 15: [224], 16: [226], 17: [227, 229], 24: [235], 29: [239], 33: [242], 35: [246], 36: [248], 37: [249], 41: [253], 48: [256], 50: [259]}, {0: [200, 203], 5: [206, 207], 8: [214], 15: [224], 16: [225, 226], 17: [227, 229], 24: [235], 29: [239], 33: [242], 35: [246, 247], 36: [248], 37: [249], 41: [253], 48: [256], 50: [259]}, {0: [200, 203], 5: [206, 207], 8: [214], 9: [215], 15: [224], 16: [225, 226], 17: [227, 229], 21: [233], 24: [235], 29: [239], 32: [241], 33: [242], 35: [246, 247], 36: [248], 37: [249], 39: [251], 41: [253], 42: [254], 48: [256], 50: [259]}]\n"
     ]
    }
   ],
   "source": [
    "print(temp)"
   ],
   "metadata": {
    "collapsed": false,
    "pycharm": {
     "name": "#%%\n"
    }
   }
  },
  {
   "cell_type": "code",
   "execution_count": 91,
   "outputs": [
    {
     "name": "stdout",
     "output_type": "stream",
     "text": [
      "3\n"
     ]
    }
   ],
   "source": [
    "for x in temp:\n",
    "    print(x)"
   ],
   "metadata": {
    "collapsed": false,
    "pycharm": {
     "name": "#%%\n"
    }
   }
  },
  {
   "cell_type": "code",
   "execution_count": null,
   "outputs": [],
   "source": [
    "    temp = []\n",
    "\n",
    "    # Perform string match with sliding window\n",
    "    count = 0\n",
    "    sub2epi = string_match_sliding_window(en_subset, tbbt_episode, 5)\n",
    "    epi2sub = turn_sub2epi_into_epi2sub(sub2epi)\n",
    "    temp.append(epi2sub)\n",
    "    # print(epi2sub)\n",
    "    # print(\"Episode Number:\", len(epi2sub), \"Subtitle Number:\", len(sub2epi))\n",
    "    # print(\"==\"*50)\n",
    "\n",
    "\n",
    "    # Extend the neighbors\n",
    "    epi2sub = extend_neighbors(en_subset, epi2sub, tbbt_episode)\n",
    "    sub2epi = turn_sub2epi_into_epi2sub(epi2sub)\n",
    "    temp.append(epi2sub)\n",
    "    # print(epi2sub)\n",
    "    # print(\"Episode Number:\", len(epi2sub), \"Subtitle Number:\", len(sub2epi))\n",
    "    # print(\"==\"*50)\n",
    "\n",
    "\n",
    "    # Perform exact match and add it to the whole alignment\n",
    "    exact_match_result = exact_match(en_subset, tbbt_episode)\n",
    "    sub2epi = add_cleaned_exact_match_result(sub2epi, exact_match_result)\n",
    "    epi2sub = turn_sub2epi_into_epi2sub(sub2epi)\n",
    "    temp.append(epi2sub)\n",
    "    # print(epi2sub)\n",
    "    # print(\"Episode Number:\", len(epi2sub), \"Subtitle Number:\", len(sub2epi))\n",
    "    # print(\"==\"*50)\n",
    "\n",
    "\n",
    "    # Extend the gap\n",
    "    sub2epi = full_fill_gap(sub2epi)\n",
    "    epi2sub = turn_sub2epi_into_epi2sub(sub2epi)\n",
    "    temp.append(epi2sub)"
   ],
   "metadata": {
    "collapsed": false,
    "pycharm": {
     "name": "#%%\n"
    }
   }
  },
  {
   "cell_type": "code",
   "execution_count": 56,
   "outputs": [],
   "source": [
    "def extend_with_wer(en_subset, epi2sub_alignment_2, episode):\n",
    "    temp = {}\n",
    "\n",
    "    for epi_id in epi2sub_alignment_2:\n",
    "        # Define episode utterance id\n",
    "        epi_id_former = epi_id - 1\n",
    "        epi_id = epi_id\n",
    "        epi_id_latter = epi_id + 1\n",
    "\n",
    "        # Define subtitle id\n",
    "        sub_id_former = min(epi2sub_alignment_2[epi_id]) - 1\n",
    "        sub_id_latter = max(epi2sub_alignment_2[epi_id]) + 1\n",
    "        sub_ids = sorted(list(epi2sub_alignment_2[epi_id]))\n",
    "        # print(epi_id)\n",
    "        # print(sub_ids)\n",
    "\n",
    "        # Check whether subtitle nearby is in the utterance\n",
    "        sub_former = transformation(en_subset[sub_id_former])\n",
    "        sub_latter = transformation(en_subset[sub_id_latter])\n",
    "        # sub = transformation(en_subset[sub_id])\n",
    "        epi = transformation(episode[epi_id][0])\n",
    "\n",
    "        # Fetch all relevant sentences\n",
    "        epi_sentences = [episode[idx][0] for idx in [epi_id_former, epi_id, epi_id_latter] if idx>=0]\n",
    "        print(epi_id_former, epi_id, epi_id_latter)\n",
    "        print(epi_sentences)\n",
    "\n",
    "        sub_sentences = [en_subset[sub_id_former, sub_id_latter] for idx in [sub_former, sub_id_latter] if idx>=0]\n",
    "        print(sub_id_former, sub_id_latter)\n",
    "        print(sub_sentences)\n",
    "\n",
    "        print(\"==\"*50)\n",
    "\n",
    "\n",
    "        if sub_former in epi:\n",
    "            sub_ids.append(sub_id_former)\n",
    "        if sub_latter in epi:\n",
    "            sub_ids.append(sub_id_latter)\n",
    "        # print(sorted(sub_ids))\n",
    "        temp[epi_id] = sorted(sub_ids)\n",
    "        # epi2sub_alignment_2[epi_id] = sorted(sub_ids)\n",
    "        # print(\"==\"*50)\n",
    "    return temp"
   ],
   "metadata": {
    "collapsed": false,
    "pycharm": {
     "name": "#%%\n"
    }
   }
  },
  {
   "cell_type": "code",
   "execution_count": 26,
   "outputs": [],
   "source": [
    "def look_alignment(tbbt, en_subtitle, other_subtitle, alignment, season_id, episode_id, bias):\n",
    "    # Fetch subset located by the stage-1 alignment\n",
    "    (en_subset, zh_subset, tbbt_episode) = fetch_subsets(\n",
    "        episode=tbbt,\n",
    "        en_subtitle=en_subtitle,\n",
    "        zh_subtitle=other_subtitle,\n",
    "        results=alignment,\n",
    "        season_id=season_id,\n",
    "        episode_id=episode_id,\n",
    "        bias=bias\n",
    "    )\n",
    "\n",
    "    tbbt_episode = []\n",
    "    for x in tbbt_transcripts[(1,1)]:\n",
    "        if x[1]!='Scene':\n",
    "            tbbt_episode.append(x)\n",
    "\n",
    "    temp = []\n",
    "\n",
    "    # Perform string match with sliding window\n",
    "    count = 0\n",
    "    sub2epi = string_match_sliding_window(en_subset, tbbt_episode, 5)\n",
    "    epi2sub = turn_sub2epi_into_epi2sub(sub2epi)\n",
    "    temp.append(epi2sub)\n",
    "    # print(epi2sub)\n",
    "    # print(\"Episode Number:\", len(epi2sub), \"Subtitle Number:\", len(sub2epi))\n",
    "    # print(\"==\"*50)\n",
    "\n",
    "\n",
    "    # Extend the neighbors\n",
    "    epi2sub = extend_neighbors(en_subset, epi2sub, tbbt_episode)\n",
    "    sub2epi = turn_sub2epi_into_epi2sub(epi2sub)\n",
    "    temp.append(epi2sub)\n",
    "    # print(epi2sub)\n",
    "    # print(\"Episode Number:\", len(epi2sub), \"Subtitle Number:\", len(sub2epi))\n",
    "    # print(\"==\"*50)\n",
    "\n",
    "\n",
    "    # Perform exact match and add it to the whole alignment\n",
    "    exact_match_result = exact_match(en_subset, tbbt_episode)\n",
    "    sub2epi = add_cleaned_exact_match_result(sub2epi, exact_match_result)\n",
    "    epi2sub = turn_sub2epi_into_epi2sub(sub2epi)\n",
    "    temp.append(epi2sub)\n",
    "    # print(epi2sub)\n",
    "    # print(\"Episode Number:\", len(epi2sub), \"Subtitle Number:\", len(sub2epi))\n",
    "    # print(\"==\"*50)\n",
    "\n",
    "\n",
    "    # Extend the gap\n",
    "    sub2epi = full_fill_gap(sub2epi)\n",
    "    epi2sub = turn_sub2epi_into_epi2sub(sub2epi)\n",
    "    temp.append(epi2sub)\n",
    "\n",
    "    # # Extend with WER\n",
    "    # # for x in sub2epi:\n",
    "    # #     print(x, sub2epi[x])\n",
    "    # extend_with_wer(en_subset, epi2sub, tbbt_episode)\n",
    "\n",
    "\n",
    "\n",
    "\n",
    "    return temp"
   ],
   "metadata": {
    "collapsed": false,
    "pycharm": {
     "name": "#%%\n"
    }
   }
  },
  {
   "cell_type": "code",
   "execution_count": null,
   "outputs": [],
   "source": [
    "further_alignment = {}\n",
    "for i in tqdm(range(12)):\n",
    "    for j in tqdm(range(30)):\n",
    "        try:\n",
    "            temp = look_alignment(tbbt, en_subtitle, zh_subtitle, results, i+1, j+1, 200)\n",
    "            further_alignment[(i,j)] = temp\n",
    "            print(\"Season:\", i+1,\"Episode:\", j+1, \"Episode Number:\",len(temp), \"Subtitle Number:\",len(turn_sub2epi_into_epi2sub(temp)))\n",
    "        except:\n",
    "            pass"
   ],
   "metadata": {
    "collapsed": false,
    "pycharm": {
     "name": "#%%\n"
    }
   }
  },
  {
   "cell_type": "code",
   "execution_count": 28,
   "outputs": [],
   "source": [
    "temp = look_alignment(tbbt, en_subtitle, zh_subtitle, results, 1, 1, 200)"
   ],
   "metadata": {
    "collapsed": false,
    "pycharm": {
     "name": "#%%\n"
    }
   }
  },
  {
   "cell_type": "code",
   "execution_count": 35,
   "outputs": [
    {
     "name": "stdout",
     "output_type": "stream",
     "text": [
      "{0: [200, 201, 202, 203], 2: [205], 5: [206, 207], 8: [214], 9: [215], 12: [218, 219], 15: [222, 223, 224], 16: [225, 226], 17: [227, 228, 229], 21: [233], 24: [235], 29: [239], 31: [240], 32: [241], 33: [242], 35: [246, 247], 36: [248], 37: [249], 39: [251], 40: [252], 41: [253], 42: [254], 48: [256], 50: [259], 52: [261], 58: [263], 59: [264], 66: [266], 67: [267], 68: [268], 69: [269], 70: [270], 72: [273], 73: [274, 275], 76: [279], 78: [282], 79: [283], 85: [285, 286], 86: [287], 91: [290], 92: [291], 93: [292], 96: [293], 99: [295], 100: [297], 102: [299], 103: [300], 104: [301], 105: [302], 108: [304], 110: [306], 111: [307], 112: [308], 114: [311], 115: [312], 118: [313], 119: [314, 315, 316, 317], 120: [318], 122: [319], 124: [320], 126: [321, 322], 129: [325], 131: [327], 135: [330], 136: [331], 137: [333], 138: [334], 139: [335], 140: [336], 141: [337, 338, 339, 340], 143: [342], 151: [351], 153: [356], 154: [357, 358], 157: [360, 361], 158: [362], 163: [368, 369], 165: [373, 374, 375], 166: [378], 167: [379], 168: [380], 175: [383], 176: [384], 179: [387], 181: [389], 182: [390], 184: [391], 185: [392], 187: [394], 188: [396], 189: [398], 190: [399], 191: [400, 401], 192: [402], 194: [405], 196: [407], 197: [408], 198: [409], 199: [410], 200: [411], 203: [413], 204: [414], 206: [417], 207: [418], 208: [419], 212: [423], 213: [424, 425], 214: [427, 428, 429], 215: [430], 216: [431], 219: [434], 220: [435], 222: [437], 223: [438], 226: [442], 227: [444], 228: [446], 231: [449], 233: [450], 234: [451], 235: [452, 453, 454, 455, 456], 236: [457], 237: [458], 238: [459], 239: [460], 240: [461], 241: [462], 242: [464], 244: [466], 245: [467], 246: [468, 469, 470, 471], 247: [472], 248: [473, 474], 249: [475], 250: [476], 252: [478], 259: [484, 485], 260: [486], 261: [487], 263: [489, 490], 264: [491], 266: [493], 267: [494, 495], 268: [496], 269: [497], 274: [502], 275: [503], 277: [504], 280: [506], 283: [508], 284: [509], 285: [510, 511], 286: [512], 287: [514, 515], 291: [519, 520], 293: [523, 524], 296: [527], 297: [528], 299: [530], 300: [531], 301: [532], 302: [533], 304: [536, 537, 538], 305: [539], 306: [540, 541], 307: [542], 308: [543], 309: [544], 315: [548], 317: [550, 551], 320: [555]}\n"
     ]
    }
   ],
   "source": [
    "print(temp[-1])"
   ],
   "metadata": {
    "collapsed": false,
    "pycharm": {
     "name": "#%%\n"
    }
   }
  },
  {
   "cell_type": "code",
   "execution_count": 46,
   "outputs": [
    {
     "name": "stdout",
     "output_type": "stream",
     "text": [
      "(0, 0) 133 80 80 100 100\n"
     ]
    }
   ],
   "source": [
    "for x in further_alignment:\n",
    "    (en_subset, zh_subset, tbbt_episode) = fetch_subsets(\n",
    "        episode=tbbt,\n",
    "        en_subtitle=en_subtitle,\n",
    "        zh_subtitle=zh_subtitle,\n",
    "        results=results,\n",
    "        season_id=x[0]+1,\n",
    "        episode_id=x[1]+1,\n",
    "        bias=200\n",
    "    )\n",
    "    total = len(tbbt_episode)\n",
    "    print(x, total, len(further_alignment[x][0]), len(further_alignment[x][1]), len(further_alignment[x][2]), len(further_alignment[x][3]))\n",
    "    # print(further_alignment[x])\n",
    "    # print(\"==\"*50)"
   ],
   "metadata": {
    "collapsed": false,
    "pycharm": {
     "name": "#%%\n"
    }
   }
  }
 ],
 "metadata": {
  "kernelspec": {
   "display_name": "Python 3",
   "language": "python",
   "name": "python3"
  },
  "language_info": {
   "codemirror_mode": {
    "name": "ipython",
    "version": 2
   },
   "file_extension": ".py",
   "mimetype": "text/x-python",
   "name": "python",
   "nbconvert_exporter": "python",
   "pygments_lexer": "ipython2",
   "version": "2.7.6"
  }
 },
 "nbformat": 4,
 "nbformat_minor": 0
}