{
 "cells": [
  {
   "cell_type": "markdown",
   "metadata": {
    "collapsed": true,
    "pycharm": {
     "name": "#%% md\n"
    }
   },
   "source": [
    "## Align utterance in Memor to open subtitle parallel bitext"
   ]
  },
  {
   "cell_type": "code",
   "execution_count": 1,
   "outputs": [],
   "source": [
    "import json\n",
    "from lxml import etree\n",
    "import lxml\n",
    "from tqdm import tqdm"
   ],
   "metadata": {
    "collapsed": false,
    "pycharm": {
     "name": "#%%\n"
    }
   }
  },
  {
   "cell_type": "markdown",
   "source": [
    "#### Load MEMOR Dataset"
   ],
   "metadata": {
    "collapsed": false,
    "pycharm": {
     "name": "#%% md\n"
    }
   }
  },
  {
   "cell_type": "code",
   "execution_count": 2,
   "outputs": [],
   "source": [
    "# Load Memor Dataset\n",
    "with open('memor/data.json') as f:\n",
    "    data = json.load(f)"
   ],
   "metadata": {
    "collapsed": false,
    "pycharm": {
     "name": "#%%\n"
    }
   }
  },
  {
   "cell_type": "code",
   "execution_count": null,
   "outputs": [],
   "source": [],
   "metadata": {
    "collapsed": false,
    "pycharm": {
     "name": "#%%\n"
    }
   }
  },
  {
   "cell_type": "code",
   "execution_count": 46,
   "outputs": [],
   "source": [
    "episode = []\n",
    "# Collect memor data from the same episode\n",
    "for item in data:\n",
    "    if item.strip().split('_')[0]=='S01E02':\n",
    "        episode.append(data[item])"
   ],
   "metadata": {
    "collapsed": false,
    "pycharm": {
     "name": "#%%\n"
    }
   }
  },
  {
   "cell_type": "code",
   "execution_count": 47,
   "outputs": [
    {
     "name": "stdout",
     "output_type": "stream",
     "text": [
      "hey raj!  still not talking to me\n",
      "====================================================================================================\n",
      " he can't talk to women.\n",
      "he can't talk to attractive women\n",
      " or in your case a cheesecake-scented goddess!\n",
      " there's gonna be some furniture delivered?\n",
      "====================================================================================================\n",
      " let's assume that they can. lois lane is falling\n",
      " accelerating at an initial rate of 32 feet per second per second. superman swoops down to save her by reaching out two arms of steel. miss lane\n",
      " who is now travelling at approximately 120 miles per hour\n",
      " and is immediately sliced into three equal pieces.\n",
      "====================================================================================================\n",
      " it is well established that superman's flight is a feat of strength\n",
      " it is an extension of his ability to leap tall buildings\n",
      " an ability he derives from earth's yellow sun.\n",
      " and you don't have a problem with that\n",
      " how does he fly at night.\n",
      " a combination of the moon's solar reflection and the energy storage capacity of kryptonian skin cells.\n",
      "====================================================================================================\n",
      " a combination of the moon's solar reflection and the energy storage capacity of kryptonian skin cells.\n",
      "i'm just going to go wash up.\n",
      "i have 26 hundred comic books in there\n",
      " i challenge you to find a single reference to kryptonian skin cells.\n",
      "====================================================================================================\n",
      "i'm just going to go wash up.\n",
      "i have 26 hundred comic books in there\n",
      " i challenge you to find a single reference to kryptonian skin cells.\n",
      "challenge accepted.  we're locked out.\n",
      "====================================================================================================\n",
      "a little messy? the mandelbrot set of complex numbers is a little messy\n",
      " this is chaos. excuse me\n",
      " explain to me an organisational system where a tray of flatware on a couch is valid. i'm just inferring that this is a couch\n",
      " because the evidence suggests the coffee table's having a tiny garage sale.\n",
      "====================================================================================================\n",
      " i just want you to know that\n",
      " you don't have to live like this. i'm here for you.\n",
      "====================================================================================================\n",
      " he didn't tell it right.\n",
      "====================================================================================================\n",
      "====================================================================================================\n",
      " you can't just break into a woman's apartment in the middle of the night and clean.\n",
      "====================================================================================================\n",
      "i am not leaving until i'm done.\n",
      "if you have time to lean\n",
      " you have time to clean.\n",
      "====================================================================================================\n",
      " but just deeply and well.\n",
      "====================================================================================================\n",
      "you don't think that crosses a line?\n",
      " do i have to hold up a sarcasm sign every time i open my mouth.\n",
      "====================================================================================================\n",
      "do you want some cereal. i'm feeling so good today i'm going to choose from the low fibre end of the shelf. hello\n",
      "====================================================================================================\n",
      "how did she know it was us?\n",
      "i may have left a suggested organisational schematic for her bedroom closet.\n",
      "====================================================================================================\n",
      "do you understand how creepy this is.\n",
      "====================================================================================================\n",
      "do you understand how creepy this is.\n",
      " we discussed it at length last night.\n",
      "====================================================================================================\n",
      "and snoring. and that's probably just a sinus infection\n",
      " but it could be sleep apnoea\n",
      " you might want to see an otolaryngologist. it's a throat doctor.\n",
      "and what kind of doctor removes shoes from asses?\n",
      "====================================================================================================\n",
      " that's either a proctologist or a general surgeon.  oh!\n",
      "====================================================================================================\n",
      " i think what you're feeling is perfectly valid\n",
      " and maybe a little bit later today when you're feeling a little bit less\n",
      " for lack of a better word\n",
      " maybe we could talk about this some more.\n",
      " that's another way to go.\n",
      "====================================================================================================\n",
      " just to clarify because there will be a discussion when you leave\n",
      " is your objection solely to our presence in the apartment while you were sleeping\n",
      " or do you also object to the imposition of a new organisational paradigm.  well that was a little non-responsive.\n",
      "====================================================================================================\n",
      "i am truly sorry for what happened last night\n",
      " i take full responsibility. and i hope that it won't colour your opinion of leonard\n",
      " who is not only a wonderful guy\n",
      " a gentle and thorough lover.  i did what i could.\n",
      "====================================================================================================\n",
      " i don't know if you heard about what happened last night with leonard and sheldon\n",
      " but i'm really upset about it\n",
      " they let themselves into my place\n",
      " and then they cleaned it\n",
      " i mean can you even believe that? how weird is that?\n",
      "====================================================================================================\n",
      " she's standing very close to me. oh my\n",
      " she does smell good. what is that\n",
      " someone comes into your house at night\n",
      " okay? and you don't shoot to wound. i mean\n",
      " my sister shot her husband\n",
      " but it was an accident\n",
      " they were drunk. what was i saying?\n",
      "====================================================================================================\n",
      "she's so chatty. maybe my parents are right. maybe i'd be better off with an indian girl. we'd have the same cultural background\n",
      " and my wife would sing to my children the same lullabies my mother sang to me.\n",
      "it's obvious that they meant well\n",
      " i'm having a really rough time\n",
      " i broke up with my boyfriend\n",
      " and it's just freaking me out.\n",
      "====================================================================================================\n",
      " just because most of the men i've known in my life happen to be jerks\n",
      " doesn't mean i should just assume leonard and sheldon are. right?\n",
      "she asked me a question. i should probably nod.\n",
      "====================================================================================================\n",
      "she asked me a question. i should probably nod.\n",
      "that's exactly what i thought. thank you for listening. you're a doll.\n",
      "====================================================================================================\n",
      " homie. you just got served.\n",
      "====================================================================================================\n",
      "hello. sorry i'm late. but i was in the hallway\n",
      " i was less the chatter than the chattee.\n",
      "====================================================================================================\n",
      " i was less the chatter than the chattee.\n",
      "what did she say? is she still mad at me?\n",
      "====================================================================================================\n",
      "she hugged you? how did she hug you?  is that her perfume i smell?\n",
      "====================================================================================================\n",
      "====================================================================================================\n",
      "====================================================================================================\n",
      " show me where we put a drip tray\n",
      " a sluice and an overflow reservoir?\n",
      "and if water is involved we're going to have to ground the crap out of the thing.\n",
      " i think i'll just take off all my clothes.\n",
      "====================================================================================================\n",
      " i've got it. how about if we replace panels a\n",
      " b and f and crossbar h with aircraft grade aluminium.\n",
      " then the entire thing's one big heat sink.\n",
      "====================================================================================================\n",
      " why don't you and sheldon go down to the junk yard and pick up about six square metres of scrap aluminium\n",
      " raj and i will run down to my lab and get the oxy-acetaline torch.\n",
      "meet back here in an hour?\n",
      " this place does look pretty good.\n",
      "====================================================================================================\n",
      " this place does look pretty good.\n",
      "====================================================================================================\n"
     ]
    }
   ],
   "source": [
    "# Split sentence into small segments based on , and use segments to search the open subtitle corpus\n",
    "segments = []\n",
    "for x in episode:\n",
    "    utts = x['sentences']\n",
    "    for utt in utts:\n",
    "        temp = utt.strip().split(',')\n",
    "        for segment in temp:\n",
    "            if len(segment.split(\" \"))<6:\n",
    "                pass\n",
    "                # print('====', segment)\n",
    "            else:\n",
    "                print(segment)\n",
    "                segments.append(segment)\n",
    "    print('=='*50)"
   ],
   "metadata": {
    "collapsed": false,
    "pycharm": {
     "name": "#%%\n"
    }
   }
  },
  {
   "cell_type": "code",
   "execution_count": 24,
   "outputs": [
    {
     "name": "stdout",
     "output_type": "stream",
     "text": [
      "149\n"
     ]
    }
   ],
   "source": [
    "print(len(segments))"
   ],
   "metadata": {
    "collapsed": false,
    "pycharm": {
     "name": "#%%\n"
    }
   }
  },
  {
   "cell_type": "markdown",
   "source": [
    "#### Load Open Subtitle BiText Corpus"
   ],
   "metadata": {
    "collapsed": false,
    "pycharm": {
     "name": "#%% md\n"
    }
   }
  },
  {
   "cell_type": "code",
   "execution_count": 3,
   "outputs": [],
   "source": [
    "# Load Open Subtitle Bitext\n",
    "xml_file = etree.parse('../open_subtitle/en-zh_cn.tmx')"
   ],
   "metadata": {
    "collapsed": false,
    "pycharm": {
     "name": "#%%\n"
    }
   }
  },
  {
   "cell_type": "code",
   "execution_count": 36,
   "outputs": [
    {
     "name": "stderr",
     "output_type": "stream",
     "text": [
      "49845028it [00:35, 1398557.88it/s]\n"
     ]
    }
   ],
   "source": [
    "# Collect subtitles\n",
    "en_subtitle = []\n",
    "zh_subtitle = []\n",
    "root = xml_file.getroot()\n",
    "count = 0\n",
    "for node in tqdm(root.iter()):\n",
    "    if node.tag=='seg':\n",
    "        if count % 2 ==0:\n",
    "            en_subtitle.append(node.text)\n",
    "        else:\n",
    "            zh_subtitle.append(node.text)\n",
    "        count += 1"
   ],
   "metadata": {
    "collapsed": false,
    "pycharm": {
     "name": "#%%\n"
    }
   }
  },
  {
   "cell_type": "code",
   "execution_count": 39,
   "outputs": [
    {
     "name": "stdout",
     "output_type": "stream",
     "text": [
      "Ah, this is greasy. I want to eat kimchee.\n",
      "好想要吃泡菜\n",
      "====================================================================================================\n",
      "Is Chae Yoon's coordinator in here?\n",
      "崔允的造型师在吗\n",
      "====================================================================================================\n",
      "Excuse me, aren't you Chae Yoon's coordinator?\n",
      "请问一下 你是不是崔允的造型师\n",
      "====================================================================================================\n",
      "Yes. Me?\n",
      "我吗\n",
      "====================================================================================================\n",
      "-Chae Yoon is done singing.\n",
      "崔允已经唱完了\n",
      "====================================================================================================\n",
      "This lady right next to me... everyone knows who she is right?\n",
      "这位小姐是谁 我想大家都知道吧\n",
      "====================================================================================================\n",
      "She is my forever idol...she is my rival whom I can never win against, she is the one who always makes me happy, and she is my mother.\n",
      "她是我永远的偶像 也是我无法击倒的对手 她是令我怦然心动的恋人\n",
      "====================================================================================================\n",
      "Everyone should remember my mom as one of the greatest movie stars, but instead of becoming an actress, she wanted to become a singer just like me.\n",
      "也许在各位的记忆里 我母亲 她是曾经红极一时的女演员\n",
      "====================================================================================================\n",
      "When I was stressed and exhausted, she'd always sing me a song while having me on her lap.\n",
      "而是像我一样当歌手 当我感到累还有疲倦的时候 每一次她都让我\n",
      "====================================================================================================\n",
      "Today, I would like to share that moment with everyone.\n",
      "然后为我唱一首歌 今天我想要 特别和各位\n",
      "====================================================================================================\n",
      "Ah, this is greasy. I want to eat kimchee.\n",
      "好想要吃泡菜\n",
      "====================================================================================================\n",
      "Subtitle translation by Brian Athey\n",
      "字幕翻译：\n",
      "====================================================================================================\n",
      "MY LADIES BY SHIN MICHIMA\n",
      "（我的女人们）\n",
      "====================================================================================================\n",
      "It's because... that's the way I want it.\n",
      "这是我自己的原则\n",
      "====================================================================================================\n",
      "DRIFTING EMOTIONS BY SHIN MICHIMA THIS YEAR'S NUMBER ONE BEST SELLER\n",
      "（《飘忽不定的情感》道间慎 本年度销售冠军） （好评热卖中）\n",
      "====================================================================================================\n",
      "Ms. Shirakawa.\n",
      "白川小姐\n",
      "====================================================================================================\n",
      "CHECK - 10,000,000 YEN MINAMI SHIRAKAWA\n",
      "（支票 发票人签章： 白川美波）\n",
      "====================================================================================================\n",
      "Thank you.\n",
      "非常感谢您\n",
      "====================================================================================================\n",
      "Please make sure that you use it all for the children.\n",
      "请你一定要用在孩子们身上\n",
      "====================================================================================================\n",
      "Are you sure you want to donate this much?\n",
      "（育幼院） 我们真的可以收下 如此巨额的捐款吗？\n",
      "====================================================================================================\n"
     ]
    }
   ],
   "source": [
    "# Check the processed subtitles\n",
    "print(len(en_subtitle))\n",
    "print(len(zh_subtitle))\n",
    "for i in range(10):\n",
    "    print(en_subtitle[i])\n",
    "    print(zh_subtitle[i])\n",
    "    print('=='*50)\n",
    "for i in range(10):\n",
    "    print(en_subtitle[-i])\n",
    "    print(zh_subtitle[-i])\n",
    "    print('=='*50)"
   ],
   "metadata": {
    "collapsed": false,
    "pycharm": {
     "name": "#%%\n"
    }
   }
  },
  {
   "cell_type": "markdown",
   "source": [
    "#### Align the MRMOR Corpus with the Open Subtitle Corpus"
   ],
   "metadata": {
    "collapsed": false,
    "pycharm": {
     "name": "#%% md\n"
    }
   }
  },
  {
   "cell_type": "code",
   "execution_count": 48,
   "outputs": [
    {
     "name": "stdout",
     "output_type": "stream",
     "text": [
      "101\n"
     ]
    }
   ],
   "source": [
    "print(len(segments))"
   ],
   "metadata": {
    "collapsed": false,
    "pycharm": {
     "name": "#%%\n"
    }
   }
  },
  {
   "cell_type": "code",
   "execution_count": 49,
   "outputs": [
    {
     "name": "stdout",
     "output_type": "stream",
     "text": [
      "Index: 4236022\n",
      "Target_en:  and is immediately sliced into three equal pieces.\n",
      "Target_zh: 莱恩小姐此时大约速度在120英里/时 猛撞上超人的手臂后 她会马上被切成三等分\n",
      "Context:\n",
      "In what space, sir? In what space? 哪还有时间 先生?\n",
      "Unless Superman matches her speed and decelerates. 除非超人赶上她的速度并减速\n",
      "Miss Lane, who is now traveling at approximately 120 miles an hour, hits them and is immediately sliced into three equal pieces. 莱恩小姐此时大约速度在120英里/时 猛撞上超人的手臂后 她会马上被切成三等分\n",
      "====================================================================================================\n",
      "Index: 4236085\n",
      "Target_en:  because the evidence suggests the coffee table's having a tiny garage sale.\n",
      "Target_zh: 现在 我只是假设这是沙发 因为证据显示 咖啡桌上正进行一场小型旧货出售\n",
      "Context:\n",
      "No. 没有想过\n",
      "Did it occur to you that not everyone has the compulsive need to sort organize and label the entire world around them? 你有没想过 并不是每个人都觉得必须要... 归类 整理 并将一切事物都贴上标签?\n",
      "I'm just inferring that this as a couch because the evidence suggests the coffee table's having a tiny garage sale. 现在 我只是假设这是沙发 因为证据显示 咖啡桌上正进行一场小型旧货出售\n",
      "====================================================================================================\n",
      "Index: 3498567\n",
      "Target_en:  i just want you to know that\n",
      "Target_zh: 大卫 我只要你知道我要走了\n",
      "Context:\n",
      "i told you David, it's better that you don't know the details right now. 告诉你大卫, 你现在最好不要知道详情\n",
      "what's leverage you have with Milican? 你和米力肯有什么过节?\n",
      "david, i just want you to know that I'm leaving. 大卫 我只要你知道我要走了\n",
      "====================================================================================================\n",
      "Index: 4236112\n",
      "Target_en:  he didn't tell it right.\n",
      "Target_zh: 是啊 他讲不来笑话的\n",
      "Context:\n",
      "- Sheldon? - Shh! - Sheldon!\n",
      "Sheldon? Sheldon?\n",
      "yeah, he didn't tell it right. 是啊 他讲不来笑话的\n",
      "====================================================================================================\n",
      "Index: 4236131\n",
      "Target_en:  you have time to clean.\n",
      "Target_zh: 如果你如此清闲 还不如帮着清理\n",
      "Context:\n",
      "I have to say I slept splendidly. 我得说我睡得非常好\n",
      "Oh, what the hell. 噢 该死的\n",
      "If you have time to lean, you have time to clean. 如果你如此清闲 还不如帮着清理\n",
      "====================================================================================================\n",
      "Index: 4236134\n",
      "Target_en:  but just deeply and well.\n",
      "Target_zh: 老实说 睡得不久 但是很深很沉\n",
      "Context:\n",
      "A well-known folk cure for insomnia is to break into your neighbor's apartment and clean. 一个有名的民间治愈失眠法 就是闯入邻居的房间打扫清理\n",
      "I'm not surprised. 我不觉得惊讶\n",
      "Granted not long, but just deeply and well. 老实说 睡得不久 但是很深很沉\n",
      "====================================================================================================\n",
      "Index: 4236159\n",
      "Target_en:  we discussed it at length last night.\n",
      "Target_zh: 是的 我们昨晚详细地讨论过了\n",
      "Context:\n",
      "And snoring. !\n",
      "In my apartment? While I was sleeping? 我的房间 趁我睡着时?\n",
      "Yes, we discussed it at length last night. 是的 我们昨晚详细地讨论过了\n",
      "====================================================================================================\n",
      "Index: 1192552\n",
      "Target_en:  for lack of a better word\n",
      "Target_zh: 他们似乎有集体幻想 一个恶鬼 我不知道该如何形容\n",
      "Context:\n",
      "Anything? 是吗\n",
      "They're so traumatized, they'll do almost anything not to sleep. 他们都饱受精神折磨 想尽办法不让自己睡着\n",
      "They seem to share a group delusion, a bogeyman, for lack of a better word. 他们似乎有集体幻想 一个恶鬼 我不知道该如何形容\n",
      "====================================================================================================\n",
      "Index: 1205552\n",
      "Target_en:  for lack of a better word\n",
      "Target_zh: 各位女士先生,重点就在于... 贪婪,抱歉我找不到更好的字 贪婪是好的\n",
      "Context:\n",
      "Greed works. 贪婪是有用的\n",
      "Greed is right. 贪婪是对的\n",
      "The point is, ladies and gentlemen... that greed— for lack of a better word— is good. 各位女士先生,重点就在于... 贪婪,抱歉我找不到更好的字 贪婪是好的\n",
      "====================================================================================================\n",
      "Index: 1353322\n",
      "Target_en:  for lack of a better word\n",
      "Target_zh: 但现在我发现自己 的确需要求助于新事物了 没有什么比我们用『魔术』 这个词更贴切了.\"\n",
      "Context:\n",
      "A Tibetan chant, perhaps. 搞不好是首藏族圣诗呢\n",
      "Would you like us to hum? 你需要我们唸唸有词吗？\n",
      "But now I find myself in need of something new, which for lack of a better word we shall call \"magic.\" 但现在我发现自己 的确需要求助于新事物了 没有什么比我们用『魔术』 这个词更贴切了.\"\n",
      "====================================================================================================\n",
      "Index: 1958881\n",
      "Target_en:  for lack of a better word\n",
      "Target_zh: 我们检疫过了，那细胞真是...\n",
      "Context:\n",
      "Mr. Perfect better be polite. Otherwise, I turn him into cat food. 它最好懂礼貌，否则我拿它喂猫\n",
      "Okay, go ahead. 进行吧！\n",
      "We put it through the cellular hygiene detector. The cell is, for lack of a better word perfect. 我们检疫过了，那细胞真是...\n",
      "====================================================================================================\n",
      "Index: 2058357\n",
      "Target_en:  for lack of a better word\n",
      "Target_zh: 就是在那发生的状况 哦，在哪都可能发生\n",
      "Context:\n",
      "Right. 玩玩高尔夫\n",
      "You can only throw so many bags on its back... before it lies down and won't get up. 父母就住街对面 由来已久\n",
      "Your mind is like, for lack of a better word, a donkey. 就是在那发生的状况 哦，在哪都可能发生\n",
      "====================================================================================================\n",
      "Index: 2253102\n",
      "Target_en:  for lack of a better word\n",
      "Target_zh: 这件事非常古怪，太超自然了\n",
      "Context:\n",
      "You know, am I me? 我是我吗？\n",
      "I mean, it raises all sorts of philosophical-type questions, you know... about the nature of self, about the existence of a soul. 我一时词穷了，我是说 这会产生各种哲学问题 关于自然本身 关于灵魂存在的问题\n",
      "Anyway, the point is this is a very odd thing. It's supernatural, for lack of a better word. 这件事非常古怪，太超自然了\n",
      "====================================================================================================\n",
      "Index: 3656534\n",
      "Target_en:  for lack of a better word\n",
      "Target_zh: 鉴于没有更好的表达方式... 我只能说我女儿有点笨\n",
      "Context:\n",
      "You want her to stop having a menstrual cycle? 你想让她停经?\n",
      "How do I stop her menstrual cycle? 我怎么才能停止她的生理周期?\n",
      "My daughter is, for lack of a better word... dumb. 鉴于没有更好的表达方式... 我只能说我女儿有点笨\n",
      "====================================================================================================\n",
      "Index: 4236169\n",
      "Target_en:  for lack of a better word\n",
      "Target_zh: 当你感到不是那么... 该怎么说 被冒犯时 我们可以再谈谈这件事\n",
      "Context:\n",
      "Penny, Penny, hold on. Penny Penny!\n",
      "- Sure. That's another way to go. - 当然 那也是种方法\n",
      "I think what you're feeling is valid and maybe later today when you're feeling less, for lack of a better word, violated maybe we can talk about this. 当你感到不是那么... 该怎么说 被冒犯时 我们可以再谈谈这件事\n",
      "====================================================================================================\n",
      "Index: 6059082\n",
      "Target_en:  for lack of a better word\n",
      "Target_zh: 屁股 抱歉我词汇有限\n",
      "Context:\n",
      "Then he cuts out the heart the cold, useless, tiny, little heart then fillets it on either side and it's a nice amuse-bouche. 切成薄片 做成冷拼 然后再来点生鱼片 会更爽口\n",
      "-Yeah. - 是的 然后他会割下猪心\n",
      "Well, for lack of a better word, ass. 屁股 抱歉我词汇有限\n",
      "====================================================================================================\n",
      "Index: 6703551\n",
      "Target_en:  for lack of a better word\n",
      "Target_zh: 这是一个神圣的传统， 由于缺乏一个更好的词。\n",
      "Context:\n",
      "Listen, I don't think that I'm a good candidate for this. 听着，我不认为 我是这方面的一个很好的候选人。\n",
      "Up to you if you want to fuck with that. 给你 如果你想与他妈的。\n",
      "It's a sacred tradition, for lack of a better word. 这是一个神圣的传统， 由于缺乏一个更好的词。\n",
      "====================================================================================================\n",
      "Index: 7780150\n",
      "Target_en:  for lack of a better word\n",
      "Target_zh: ... 好吧，也许我会 不一定是显著。\n",
      "Context:\n",
      "Is she alive or is she dead? 难道她还活着， 还是不？\n",
      "Don't fuck with me! 别闹了，所以rumzuquatschen！\n",
      "Yeah, for lack of a better word. ... 好吧，也许我会 不一定是显著。\n",
      "====================================================================================================\n",
      "Index: 8501656\n",
      "Target_en:  for lack of a better word\n",
      "Target_zh: 吉恩更加地... 不知道该怎么形容 更\"优雅\"吧\n",
      "Context:\n",
      "And he traveled with Hefner in the Bunny Jet. 还跟着海夫纳乘坐兔女郎喷气机到处旅行\n",
      "He caught the eye of Hugh Hefner, and he was adopted by the clan at the mansion. 他结识了修·海夫纳（《花花公子》创办人） 他跟那一家人住一起\n",
      "Gene just was more of a... for lack of a better word, elegant character. 吉恩更加地... 不知道该怎么形容 更\"优雅\"吧\n",
      "====================================================================================================\n",
      "Index: 8575575\n",
      "Target_en:  for lack of a better word\n",
      "Target_zh: 我只能暂时称其为王冠 由玫瑰刺 嫩藤条和柳条 绕着弯曲的树枝编成\n",
      "Context:\n",
      "Symbols are painted with acrylic basic blue using a thick glove finger. 符号是用蓝色树脂画成的 戴了塑胶手套\n",
      "Again, no prints on anything. 而且 都没发现指纹\n",
      "Well, the crown, for lack of a better word, rose thorns, early cane, switchgrass wrapped around a bent branch, and the horns are deer antlers. 我只能暂时称其为王冠 由玫瑰刺 嫩藤条和柳条 绕着弯曲的树枝编成\n",
      "====================================================================================================\n",
      "Index: 9226450\n",
      "Target_en:  for lack of a better word\n",
      "Target_zh: 你就没什么好词儿\n",
      "Context:\n",
      "Freak spring swell like this, there's no way they'd miss it. 反常的春季潮讯 他们绝对不能错过\n",
      "if these guys exist, they'd be out here? 如果真有这些人 他们会在哪儿\n",
      "So, by your, for lack of a better word, \"hypothesis,\" 你就没什么好词儿\n",
      "====================================================================================================\n",
      "Index: 9490696\n",
      "Target_en:  for lack of a better word\n",
      "Target_zh: 创造一个可追踪的Ping 我也不知道怎么解释好 thus creating a traceable ping for lack of a better word.\n",
      "Context:\n",
      "Give me a minute. 等一下 Give me a minute.\n",
      "So, where the hell's the ping? Ping在哪里呢 So, where the hell's the ping?\n",
      "Thus creating a traceable ping for lack of a better word. 创造一个可追踪的Ping 我也不知道怎么解释好 thus creating a traceable ping for lack of a better word.\n",
      "====================================================================================================\n",
      "Index: 9830583\n",
      "Target_en:  for lack of a better word\n",
      "Target_zh: 没有更好的解释了\n",
      "Context:\n",
      "\"Welcome, Facilitator, to Dramaworld.\" \"协调者 欢迎来到戏剧世界\"\n",
      "Okay. 这就是我们的生命 来\n",
      "This, for lack of a better word, is life. 没有更好的解释了\n",
      "====================================================================================================\n",
      "Index: 4236182\n",
      "Target_en:  who is not only a wonderful guy\n",
      "Target_zh: 而且我希望不会影响到 你对Leonard的看法 他不仅仅是个好人 而且我听说 他是个温和细心的好情人\n",
      "Context:\n",
      "Hey, I don't know if you heard about what happened with Leonard and Sheldon but I'm really upset about it. 嘿 听着 我不知道你是否听说了昨晚 Leonard和Sheldon干的事 但我是真的很生气\n",
      "Hey, Raj. 嗨 Raj\n",
      "I hope that it won't color your opinion of Leonard who is not only a wonderful guy, but also, I hear, a gentle and thorough lover. 而且我希望不会影响到 你对Leonard的看法 他不仅仅是个好人 而且我听说 他是个温和细心的好情人\n",
      "====================================================================================================\n",
      "Index: 4236185\n",
      "Target_en:  they let themselves into my place\n",
      "Target_zh: 我是说 他们... 居然闯进我的房间打扫\n",
      "Context:\n",
      "She's standing very close to me. Oh, my. 她离我非常近\n",
      "Can you even believe that? How weird is that? 你能相信吗?\n",
      "I mean, they let themselves into my place, and then they cleaned it. 我是说 他们... 居然闯进我的房间打扫\n",
      "====================================================================================================\n",
      "Index: 4236185\n",
      "Target_en:  and then they cleaned it\n",
      "Target_zh: 我是说 他们... 居然闯进我的房间打扫\n",
      "Context:\n",
      "She's standing very close to me. Oh, my. 她离我非常近\n",
      "Can you even believe that? How weird is that? 你能相信吗?\n",
      "I mean, they let themselves into my place, and then they cleaned it. 我是说 他们... 居然闯进我的房间打扫\n",
      "====================================================================================================\n",
      "Index: 4236190\n",
      "Target_en:  someone comes into your house at night\n",
      "Target_zh: 知道吗 在我家乡 如果有人这样做 你直接毙了他 明白吗?\n",
      "Context:\n",
      "I mean, all right, my sister shot her husband, but it was an accident, they were drunk. 我是说 好吧 我姐姐把她丈夫开枪打死了 但只是意外 他们喝醉了\n",
      "And you don't shoot to wound. 不仅仅是射伤他\n",
      "Where I come from, someone comes into your house at night, you shoot. Okay? 知道吗 在我家乡 如果有人这样做 你直接毙了他 明白吗?\n",
      "====================================================================================================\n",
      "Index: 4236192\n",
      "Target_en:  my sister shot her husband\n",
      "Target_zh: 我是说 好吧 我姐姐把她丈夫开枪打死了 但只是意外 他们喝醉了\n",
      "Context:\n",
      "She's so chatty. 她的话真多\n",
      "What was I saying? 等等 我刚说什么?\n",
      "I mean, all right, my sister shot her husband, but it was an accident, they were drunk. 我是说 好吧 我姐姐把她丈夫开枪打死了 但只是意外 他们喝醉了\n",
      "====================================================================================================\n",
      "Index: 456077\n",
      "Target_en:  but it was an accident\n",
      "Target_zh: 我別無選擇,爸爸,我用您那把老式手槍 把他的胳膊打傷了... 但那純屬意外,我覺得...\n",
      "Context:\n",
      "I caught him in the act of stealing. 他被我當場擒獲.\n",
      "My darling supposing you start all over again and tell me what happened in detail. . 親愛的... 不妨再講一遍 我想聽聽細節.\n",
      "I had to, papa, I shot him in the arm with your old pistol but it was an accident, I think... 我別無選擇,爸爸,我用您那把老式手槍 把他的胳膊打傷了... 但那純屬意外,我覺得...\n",
      "====================================================================================================\n",
      "Index: 1717329\n",
      "Target_en:  but it was an accident\n",
      "Target_zh: -天啊! 这看起来像故意的但确实是场意外.\n",
      "Context:\n",
      "What a dame, father! 我的天啊, 神父!\n",
      "Christ! 上帝啊!\n",
      "It should have been deliberate but it was an accident. -天啊! 这看起来像故意的但确实是场意外.\n",
      "====================================================================================================\n",
      "Index: 2423024\n",
      "Target_en:  but it was an accident\n",
      "Target_zh: Zoey,过去的事的确很可怕,也很不幸 但那是件意外\n",
      "Context:\n",
      "I'm the one who told her to climb up here. 是我叫她爬到这上面来的\n",
      "You have to stop blaming yourself for it. 你不能再为那件事自责了\n",
      "Zoe, what happened was terrible, and it was very sad... but it was an accident. Zoey,过去的事的确很可怕,也很不幸 但那是件意外\n",
      "====================================================================================================\n",
      "Index: 3884430\n",
      "Target_en:  but it was an accident\n",
      "Target_zh: 但是 那是一场意外\n",
      "Context:\n",
      "No, I panicked. 不 是我太惊慌了\n",
      "You were trying to stop a guy, and the- the boy g-got caught in the crossfire, right? 你想截住那家伙 但是在双方交火的时候 那孩子被抓了是么\n",
      "Yeah, but- but it was an accident. 但是 那是一场意外\n",
      "====================================================================================================\n",
      "Index: 4236192\n",
      "Target_en:  but it was an accident\n",
      "Target_zh: 我是说 好吧 我姐姐把她丈夫开枪打死了 但只是意外 他们喝醉了\n",
      "Context:\n",
      "She's so chatty. 她的话真多\n",
      "What was I saying? 等等 我刚说什么?\n",
      "I mean, all right, my sister shot her husband, but it was an accident, they were drunk. 我是说 好吧 我姐姐把她丈夫开枪打死了 但只是意外 他们喝醉了\n",
      "====================================================================================================\n",
      "Index: 4611368\n",
      "Target_en:  but it was an accident\n",
      "Target_zh: 我过去整整一年 都在为莫兰的事情道歉 但那完全是一次意外\n",
      "Context:\n",
      "What if someone has something on us, Des? 如果这是针对我们的 怎么办 戴思芮?\n",
      "And I've finally come to terms with that. 而我已经做出了妥协\n",
      "I've spent the past year regretting what happened to Milan, but it was an accident. 我过去整整一年 都在为莫兰的事情道歉 但那完全是一次意外\n",
      "====================================================================================================\n",
      "Index: 5257972\n",
      "Target_en:  but it was an accident\n",
      "Target_zh: 但看上去我似乎准备娶她了 But it looks like that it was ready to marry her. 还得等上很久 It's getting be waiting a long time.\n",
      "Context:\n",
      "I mean, She blames the father completely. - Not in her mind. She blames the father completely.\n",
      "- Not in her mind. but it was an accident.\n",
      "If the ghost wants his family to be together again, It's getting be waiting a long time. - Yep, but it was an accident. 但看上去我似乎准备娶她了 But it looks like that it was ready to marry her. 还得等上很久 It's getting be waiting a long time.\n",
      "====================================================================================================\n",
      "Index: 5943764\n",
      "Target_en:  but it was an accident\n",
      "Target_zh: 上帝保佑 我也不知是怎么回事 但我发誓这是一场意外\n",
      "Context:\n",
      "Everyone says you're the best. 大家都说你是最好的\n",
      "You've got to help me, Mr. Holmes! 你必须帮我 福尔摩斯先生\n",
      "God help me, I dunno how it happened, but it was an accident, I swear. 上帝保佑 我也不知是怎么回事 但我发誓这是一场意外\n",
      "====================================================================================================\n",
      "Index: 7339768\n",
      "Target_en:  but it was an accident\n",
      "Target_zh: 是的，但它是一个意外。\n",
      "Context:\n",
      "He did not tell me you did endure for years! 他没有告诉我你做 忍受了多年！\n",
      "I never wanted to get that but ... 我从来没有想要得到的，但...\n",
      "Yes, but it was an accident. 是的，但它是一个意外。\n",
      "====================================================================================================\n",
      "Index: 7496837\n",
      "Target_en:  but it was an accident\n",
      "Target_zh: 我们击中了他的车， 但它是一个意外。\n",
      "Context:\n",
      "It's ok darling, it's ok. 这是正常的。\n",
      "It was really an accident, mom. 我保证。\n",
      "You can tell me anything. We hit him with the truck, but it was an accident. 我们击中了他的车， 但它是一个意外。\n",
      "====================================================================================================\n",
      "Index: 8678579\n",
      "Target_en:  but it was an accident\n",
      "Target_zh: 但这只是一个意外对吗？\n",
      "Context:\n",
      "Is that icing on her neck? 她的脖子开始冷了吗\n",
      "I mean... Wait. 我的意思是 等等\n",
      "But... but it was an accident, right? 但这只是一个意外对吗？\n",
      "====================================================================================================\n",
      "Index: 9039483\n",
      "Target_en:  but it was an accident\n",
      "Target_zh: 是我带你来到了这个世界 但这只是一场意外\n",
      "Context:\n",
      "I'm starting to think maybe it wasn't just some curse that brought her to Storybrooke. 我逐渐觉得 并不是诅咒把她带到了童话镇\n",
      "The snow queen, she was already here. 但雪女王呢 她已经在这里了\n",
      "I brought you to this world, Elsa, but it was an accident. 是我带你来到了这个世界 但这只是一场意外\n",
      "====================================================================================================\n",
      "Index: 9408963\n",
      "Target_en:  but it was an accident\n",
      "Target_zh: 我是说 你弟弟的事我很抱歉 真的 可那毕竟是意外\n",
      "Context:\n",
      "I mean, I'm trying to stay positive. 我努力保持乐观\n",
      "And this whole thing has just been so... 整件事实在是有点...\n",
      "And I mean, I'm sorry about your brother. I am, but it was an accident. 我是说 你弟弟的事我很抱歉 真的 可那毕竟是意外\n",
      "====================================================================================================\n",
      "Index: 4236269\n",
      "Target_en:  this place does look pretty good.\n",
      "Target_zh: 好吧 这里看起来确实不错 -=YTET\n",
      "Context:\n",
      "Here we are, gentlemen, the Gates of Elzebub. 准备好 先生们 Elzebob大门到了\n",
      "All right, just a few more feet and... 魔兽中... 非常好 再前进几步...\n",
      "Okay, this place does look pretty good. 好吧 这里看起来确实不错 -=YTET\n",
      "====================================================================================================\n",
      "Index: 4236269\n",
      "Target_en:  this place does look pretty good.\n",
      "Target_zh: 好吧 这里看起来确实不错 -=YTET\n",
      "Context:\n",
      "Here we are, gentlemen, the Gates of Elzebub. 准备好 先生们 Elzebob大门到了\n",
      "All right, just a few more feet and... 魔兽中... 非常好 再前进几步...\n",
      "Okay, this place does look pretty good. 好吧 这里看起来确实不错 -=YTET\n",
      "====================================================================================================\n"
     ]
    }
   ],
   "source": [
    "for segment in segments:\n",
    "    for i, subtitle in enumerate(en_subtitle):\n",
    "        if segment in subtitle:\n",
    "            print(\"Index:\", i)\n",
    "            print(\"Target_en:\", segment)\n",
    "            print(\"Target_zh:\", zh_subtitle[i])\n",
    "            print(\"Context:\")\n",
    "            for b in range(3):\n",
    "                print(en_subtitle[i+2-b], zh_subtitle[i+2-b])\n",
    "            print('=='*50)"
   ],
   "metadata": {
    "collapsed": false,
    "pycharm": {
     "name": "#%%\n"
    }
   }
  },
  {
   "cell_type": "code",
   "execution_count": null,
   "outputs": [],
   "source": [],
   "metadata": {
    "collapsed": false,
    "pycharm": {
     "name": "#%%\n"
    }
   }
  },
  {
   "cell_type": "code",
   "execution_count": null,
   "outputs": [],
   "source": [],
   "metadata": {
    "collapsed": false,
    "pycharm": {
     "name": "#%%\n"
    }
   }
  }
 ],
 "metadata": {
  "kernelspec": {
   "display_name": "Python 3",
   "language": "python",
   "name": "python3"
  },
  "language_info": {
   "codemirror_mode": {
    "name": "ipython",
    "version": 2
   },
   "file_extension": ".py",
   "mimetype": "text/x-python",
   "name": "python",
   "nbconvert_exporter": "python",
   "pygments_lexer": "ipython2",
   "version": "2.7.6"
  }
 },
 "nbformat": 4,
 "nbformat_minor": 0
}