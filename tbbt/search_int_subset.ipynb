{
 "cells": [
  {
   "cell_type": "markdown",
   "metadata": {
    "collapsed": true,
    "pycharm": {
     "name": "#%% md\n"
    }
   },
   "source": [
    "### In this program, I firstly use the large aligned results to locate subset, then match within the subset"
   ]
  },
  {
   "cell_type": "code",
   "execution_count": null,
   "outputs": [],
   "source": [],
   "metadata": {
    "collapsed": false,
    "pycharm": {
     "name": "#%%\n"
    }
   }
  },
  {
   "cell_type": "code",
   "execution_count": 8,
   "outputs": [],
   "source": [
    "import pickle as pkl\n",
    "import json\n",
    "from collections import defaultdict"
   ],
   "metadata": {
    "collapsed": false,
    "pycharm": {
     "name": "#%%\n"
    }
   }
  },
  {
   "cell_type": "code",
   "execution_count": 13,
   "outputs": [],
   "source": [
    "\"\"\"\n",
    "Organize index within one episode\n",
    "Input: ([[]])\n",
    "Output: {index: []}\n",
    "\"\"\"\n",
    "def get_index_dict(episode):\n",
    "    index_dict = defaultdict()\n",
    "    for idx, segment, en_sub, zh_sub in episode:\n",
    "        temp = [segment, en_sub, zh_sub]\n",
    "        if idx not in index_dict:\n",
    "            index_dict[idx] = [temp]\n",
    "        else:\n",
    "            index_dict[idx].append(temp)\n",
    "    return index_dict"
   ],
   "metadata": {
    "collapsed": false,
    "pycharm": {
     "name": "#%%\n"
    }
   }
  },
  {
   "cell_type": "code",
   "execution_count": 51,
   "outputs": [],
   "source": [
    "# Organize data\n",
    "def organize_by_seasons(all_data):\n",
    "    res = {}\n",
    "    for epi in list(all_data.keys()):\n",
    "        season = int(epi[1:3])\n",
    "        episode = int(epi[-2:])\n",
    "        # Process the data in one episode\n",
    "        temp = get_index_dict(all_data[epi])\n",
    "        if season not in res:\n",
    "            res[season] = {\n",
    "                episode: temp\n",
    "            }\n",
    "        else:\n",
    "            res[season][episode] = temp\n",
    "    return res"
   ],
   "metadata": {
    "collapsed": false,
    "pycharm": {
     "name": "#%%\n"
    }
   }
  },
  {
   "cell_type": "code",
   "execution_count": 68,
   "outputs": [],
   "source": [
    "\"\"\"\n",
    "Get all the indexs within one episode\n",
    "Input: {index: [[]]}\n",
    "Output: sorted index list\n",
    "\"\"\"\n",
    "def get_epi_indexs_gaps(episode):\n",
    "    idx_list = []\n",
    "    gaps = []\n",
    "    for idx in episode:\n",
    "        idx_list.append(idx)\n",
    "    idx_list.sort()\n",
    "    for i in range(len(idx_list)-1):\n",
    "        gaps.append(idx_list[i+1]-idx_list[i])\n",
    "    return idx_list, gaps"
   ],
   "metadata": {
    "collapsed": false,
    "pycharm": {
     "name": "#%%\n"
    }
   }
  },
  {
   "cell_type": "code",
   "execution_count": 81,
   "outputs": [],
   "source": [
    "\"\"\"\n",
    "Locate continuous subset that gap between to indexs is small than threshold\n",
    "Input: indexs, gaps, threshold\n",
    "Output: indexs of continuous subset\n",
    "\"\"\"\n",
    "def find_all_continuous_subsets(idx_list, gaps, len_threshold, gap_threshold):\n",
    "    res = []\n",
    "    path = [idx_list[0]]\n",
    "    for i in range(len(gaps)):\n",
    "        if gaps[i]<=gap_threshold:\n",
    "            path.append(idx_list[i+1])\n",
    "        else:\n",
    "            if len(path)>=len_threshold:\n",
    "                res.append(path)\n",
    "            path = [idx_list[i+1]]\n",
    "    return res"
   ],
   "metadata": {
    "collapsed": false,
    "pycharm": {
     "name": "#%%\n"
    }
   }
  },
  {
   "cell_type": "code",
   "execution_count": 56,
   "outputs": [],
   "source": [
    "# Load search result\n",
    "with open('episode_indexs_transformed.pkl', 'rb') as f:\n",
    "    temp = pkl.load(f)\n",
    "results = organize_by_seasons(temp)"
   ],
   "metadata": {
    "collapsed": false,
    "pycharm": {
     "name": "#%%\n"
    }
   }
  },
  {
   "cell_type": "code",
   "execution_count": 84,
   "outputs": [
    {
     "name": "stdout",
     "output_type": "stream",
     "text": [
      "148 147\n",
      "[5896112, 5896113, 5896164, 5896166, 5896167, 5896211, 5896212, 5896213, 5896214, 5896222, 5896223, 5896224, 5896226, 5896227, 5896237, 5896252, 5896253, 5896258, 5896280, 5896281, 5896282, 5896289, 5896319, 5896355, 5896357, 5896358, 5896360, 5896361, 5896377, 5896378, 5896379, 5896380, 5896384]\n",
      "33\n"
     ]
    }
   ],
   "source": [
    "temp = results[4][10]\n",
    "idx_list, gaps = get_epi_indexs_gaps(temp)\n",
    "print(len(idx_list), len(gaps))\n",
    "subsets = find_all_continuous_subsets(idx_list, gaps, 6, 100)\n",
    "for x in subsets:\n",
    "    print(x)\n",
    "print(len(subsets[0]))"
   ],
   "metadata": {
    "collapsed": false,
    "pycharm": {
     "name": "#%%\n"
    }
   }
  },
  {
   "cell_type": "code",
   "execution_count": 80,
   "outputs": [
    {
     "name": "stdout",
     "output_type": "stream",
     "text": [
      "[56, 34409, 32093, 15075, 15366, 29271, 12295, 109286, 48306, 37169, 175114, 206422, 18252, 61731, 223584, 115973, 12073, 34691, 75659, 122384, 12973, 125641, 87172, 80949, 248022, 36631, 104, 2, 94397, 152948, 52439, 126241, 52631, 58950, 116236, 138090, 72149, 6603, 24994, 30238, 31854, 32318, 146106, 6819, 18601, 164302, 249708, 32563, 249541, 52701, 3552, 52996, 169839, 31107, 9349, 71447, 171130, 46412, 21805, 76797, 39510, 151898, 50685, 14807, 29907, 199072, 45144, 75315, 306718, 8388, 18370, 71940, 7459, 153055, 30943, 7132, 126040, 1, 51, 2, 1, 44, 1, 1, 1, 8, 1, 1, 2, 1, 10, 15, 1, 5, 22, 1, 1, 7, 30, 36, 2, 1, 2, 1, 16, 1, 1, 1, 4, 227073, 32627, 17289, 1513, 50989, 101794, 371561, 151946, 86017, 229713, 87655, 498317, 177261, 234792, 31342, 14639, 78926, 45713, 35098, 169682, 35087, 18622, 14280, 21550, 55827, 69547, 55711, 44843, 36177, 63815, 19984, 24118, 70974, 153327, 332805, 297432, 69994, 26838]\n"
     ]
    }
   ],
   "source": [
    "print(gaps)"
   ],
   "metadata": {
    "collapsed": false,
    "pycharm": {
     "name": "#%%\n"
    }
   }
  },
  {
   "cell_type": "code",
   "execution_count": 70,
   "outputs": [
    {
     "name": "stdout",
     "output_type": "stream",
     "text": [
      "[24163, 24219, 58628, 90721, 105796, 121162, 150433, 162728, 272014, 320320, 357489, 532603, 739025, 757277, 819008, 1042592, 1158565, 1170638, 1205329, 1280988, 1403372, 1416345, 1541986, 1629158, 1710107, 1958129, 1994760, 1994864, 1994866, 2089263, 2242211, 2294650, 2420891, 2473522, 2532472, 2648708, 2786798, 2858947, 2865550, 2890544, 2920782, 2952636, 2984954, 3131060, 3137879, 3156480, 3320782, 3570490, 3603053, 3852594, 3905295, 3908847, 3961843, 4131682, 4162789, 4172138, 4243585, 4414715, 4461127, 4482932, 4559729, 4599239, 4751137, 4801822, 4816629, 4846536, 5045608, 5090752, 5166067, 5472785, 5481173, 5499543, 5571483, 5578942, 5731997, 5762940, 5770072, 5896112, 5896113, 5896164, 5896166, 5896167, 5896211, 5896212, 5896213, 5896214, 5896222, 5896223, 5896224, 5896226, 5896227, 5896237, 5896252, 5896253, 5896258, 5896280, 5896281, 5896282, 5896289, 5896319, 5896355, 5896357, 5896358, 5896360, 5896361, 5896377, 5896378, 5896379, 5896380, 5896384, 6123457, 6156084, 6173373, 6174886, 6225875, 6327669, 6699230, 6851176, 6937193, 7166906, 7254561, 7752878, 7930139, 8164931, 8196273, 8210912, 8289838, 8335551, 8370649, 8540331, 8575418, 8594040, 8608320, 8629870, 8685697, 8755244, 8810955, 8855798, 8891975, 8955790, 8975774, 8999892, 9070866, 9224193, 9556998, 9854430, 9924424, 9951262]\n"
     ]
    }
   ],
   "source": [
    "print(idx_list)"
   ],
   "metadata": {
    "collapsed": false,
    "pycharm": {
     "name": "#%%\n"
    }
   }
  },
  {
   "cell_type": "code",
   "execution_count": 71,
   "outputs": [
    {
     "name": "stdout",
     "output_type": "stream",
     "text": [
      "[56, 34409, 32093, 15075, 15366, 29271, 12295, 109286, 48306, 37169, 175114, 206422, 18252, 61731, 223584, 115973, 12073, 34691, 75659, 122384, 12973, 125641, 87172, 80949, 248022, 36631, 104, 2, 94397, 152948, 52439, 126241, 52631, 58950, 116236, 138090, 72149, 6603, 24994, 30238, 31854, 32318, 146106, 6819, 18601, 164302, 249708, 32563, 249541, 52701, 3552, 52996, 169839, 31107, 9349, 71447, 171130, 46412, 21805, 76797, 39510, 151898, 50685, 14807, 29907, 199072, 45144, 75315, 306718, 8388, 18370, 71940, 7459, 153055, 30943, 7132, 126040, 1, 51, 2, 1, 44, 1, 1, 1, 8, 1, 1, 2, 1, 10, 15, 1, 5, 22, 1, 1, 7, 30, 36, 2, 1, 2, 1, 16, 1, 1, 1, 4, 227073, 32627, 17289, 1513, 50989, 101794, 371561, 151946, 86017, 229713, 87655, 498317, 177261, 234792, 31342, 14639, 78926, 45713, 35098, 169682, 35087, 18622, 14280, 21550, 55827, 69547, 55711, 44843, 36177, 63815, 19984, 24118, 70974, 153327, 332805, 297432, 69994, 26838]\n"
     ]
    }
   ],
   "source": [
    "print(gaps)"
   ],
   "metadata": {
    "collapsed": false,
    "pycharm": {
     "name": "#%%\n"
    }
   }
  },
  {
   "cell_type": "code",
   "execution_count": null,
   "outputs": [],
   "source": [],
   "metadata": {
    "collapsed": false,
    "pycharm": {
     "name": "#%%\n"
    }
   }
  },
  {
   "cell_type": "code",
   "execution_count": null,
   "outputs": [],
   "source": [],
   "metadata": {
    "collapsed": false,
    "pycharm": {
     "name": "#%%\n"
    }
   }
  },
  {
   "cell_type": "code",
   "execution_count": 59,
   "outputs": [
    {
     "name": "stderr",
     "output_type": "stream",
     "text": [
      "IOPub data rate exceeded.\n",
      "The notebook server will temporarily stop sending output\n",
      "to the client in order to avoid crashing it.\n",
      "To change this limit, set the config variable\n",
      "`--NotebookApp.iopub_data_rate_limit`.\n",
      "\n",
      "Current values:\n",
      "NotebookApp.iopub_data_rate_limit=1000000.0 (bytes/sec)\n",
      "NotebookApp.rate_limit_window=3.0 (secs)\n",
      "\n"
     ]
    }
   ],
   "source": [
    "for season in results:\n",
    "    for episode in results[season]:\n",
    "        print(\"Season:\", season, \"Episode:\", episode)\n",
    "        temp = results[season][episode]\n",
    "        print(temp)"
   ],
   "metadata": {
    "collapsed": false,
    "pycharm": {
     "name": "#%%\n"
    }
   }
  },
  {
   "cell_type": "code",
   "execution_count": null,
   "outputs": [],
   "source": [],
   "metadata": {
    "collapsed": false,
    "pycharm": {
     "name": "#%%\n"
    }
   }
  },
  {
   "cell_type": "code",
   "execution_count": null,
   "outputs": [],
   "source": [],
   "metadata": {
    "collapsed": false,
    "pycharm": {
     "name": "#%%\n"
    }
   }
  },
  {
   "cell_type": "code",
   "execution_count": null,
   "outputs": [],
   "source": [],
   "metadata": {
    "collapsed": false,
    "pycharm": {
     "name": "#%%\n"
    }
   }
  },
  {
   "cell_type": "code",
   "execution_count": null,
   "outputs": [],
   "source": [],
   "metadata": {
    "collapsed": false,
    "pycharm": {
     "name": "#%%\n"
    }
   }
  },
  {
   "cell_type": "code",
   "execution_count": null,
   "outputs": [],
   "source": [],
   "metadata": {
    "collapsed": false,
    "pycharm": {
     "name": "#%%\n"
    }
   }
  },
  {
   "cell_type": "code",
   "execution_count": null,
   "outputs": [],
   "source": [],
   "metadata": {
    "collapsed": false,
    "pycharm": {
     "name": "#%%\n"
    }
   }
  },
  {
   "cell_type": "code",
   "execution_count": 50,
   "outputs": [
    {
     "name": "stdout",
     "output_type": "stream",
     "text": [
      "Season: 4 Episode: 17\n",
      "Season: 4 Episode: 21\n",
      "Season: 4 Episode: 1\n",
      "Season: 4 Episode: 24\n",
      "Season: 4 Episode: 2\n",
      "Season: 4 Episode: 15\n",
      "Season: 4 Episode: 19\n",
      "Season: 4 Episode: 12\n",
      "Season: 4 Episode: 20\n",
      "Season: 4 Episode: 16\n",
      "Season: 4 Episode: 5\n",
      "Season: 4 Episode: 11\n",
      "Season: 4 Episode: 7\n",
      "Season: 4 Episode: 13\n",
      "Season: 4 Episode: 14\n",
      "Season: 4 Episode: 18\n",
      "Season: 4 Episode: 22\n",
      "Season: 4 Episode: 9\n",
      "Season: 4 Episode: 3\n",
      "Season: 4 Episode: 10\n",
      "Season: 4 Episode: 8\n",
      "Season: 4 Episode: 23\n",
      "Season: 4 Episode: 6\n",
      "Season: 4 Episode: 4\n",
      "Season: 3 Episode: 20\n",
      "Season: 3 Episode: 12\n",
      "Season: 3 Episode: 6\n",
      "Season: 3 Episode: 22\n",
      "Season: 3 Episode: 7\n",
      "Season: 3 Episode: 15\n",
      "Season: 3 Episode: 9\n",
      "Season: 3 Episode: 23\n",
      "Season: 3 Episode: 18\n",
      "Season: 3 Episode: 8\n",
      "Season: 3 Episode: 5\n",
      "Season: 3 Episode: 4\n",
      "Season: 3 Episode: 17\n",
      "Season: 3 Episode: 2\n",
      "Season: 3 Episode: 14\n",
      "Season: 3 Episode: 10\n",
      "Season: 3 Episode: 1\n",
      "Season: 3 Episode: 11\n",
      "Season: 3 Episode: 16\n",
      "Season: 3 Episode: 3\n",
      "Season: 3 Episode: 13\n",
      "Season: 3 Episode: 19\n",
      "Season: 3 Episode: 21\n",
      "Season: 2 Episode: 23\n",
      "Season: 2 Episode: 13\n",
      "Season: 2 Episode: 1\n",
      "Season: 2 Episode: 8\n",
      "Season: 2 Episode: 14\n",
      "Season: 2 Episode: 11\n",
      "Season: 2 Episode: 22\n",
      "Season: 2 Episode: 2\n",
      "Season: 2 Episode: 16\n",
      "Season: 2 Episode: 19\n",
      "Season: 2 Episode: 20\n",
      "Season: 2 Episode: 9\n",
      "Season: 2 Episode: 17\n",
      "Season: 2 Episode: 10\n",
      "Season: 2 Episode: 7\n",
      "Season: 2 Episode: 18\n",
      "Season: 2 Episode: 12\n",
      "Season: 2 Episode: 6\n",
      "Season: 2 Episode: 21\n",
      "Season: 2 Episode: 5\n",
      "Season: 2 Episode: 4\n",
      "Season: 2 Episode: 15\n",
      "Season: 2 Episode: 3\n",
      "Season: 6 Episode: 9\n",
      "Season: 6 Episode: 19\n",
      "Season: 6 Episode: 18\n",
      "Season: 6 Episode: 5\n",
      "Season: 6 Episode: 16\n",
      "Season: 6 Episode: 15\n",
      "Season: 6 Episode: 8\n",
      "Season: 6 Episode: 1\n",
      "Season: 6 Episode: 23\n",
      "Season: 6 Episode: 17\n",
      "Season: 6 Episode: 13\n",
      "Season: 6 Episode: 20\n",
      "Season: 6 Episode: 10\n",
      "Season: 6 Episode: 12\n",
      "Season: 6 Episode: 4\n",
      "Season: 6 Episode: 11\n",
      "Season: 6 Episode: 22\n",
      "Season: 6 Episode: 7\n",
      "Season: 6 Episode: 14\n",
      "Season: 6 Episode: 3\n",
      "Season: 6 Episode: 2\n",
      "Season: 6 Episode: 6\n",
      "Season: 6 Episode: 21\n",
      "Season: 6 Episode: 24\n",
      "Season: 9 Episode: 9\n",
      "Season: 9 Episode: 18\n",
      "Season: 9 Episode: 14\n",
      "Season: 9 Episode: 8\n",
      "Season: 9 Episode: 11\n",
      "Season: 9 Episode: 13\n",
      "Season: 9 Episode: 23\n",
      "Season: 9 Episode: 17\n",
      "Season: 9 Episode: 3\n",
      "Season: 9 Episode: 22\n",
      "Season: 9 Episode: 24\n",
      "Season: 9 Episode: 19\n",
      "Season: 9 Episode: 10\n",
      "Season: 9 Episode: 7\n",
      "Season: 9 Episode: 16\n",
      "Season: 9 Episode: 15\n",
      "Season: 9 Episode: 5\n",
      "Season: 9 Episode: 4\n",
      "Season: 9 Episode: 12\n",
      "Season: 9 Episode: 21\n",
      "Season: 9 Episode: 1\n",
      "Season: 9 Episode: 6\n",
      "Season: 9 Episode: 2\n",
      "Season: 9 Episode: 20\n",
      "Season: 5 Episode: 8\n",
      "Season: 5 Episode: 10\n",
      "Season: 5 Episode: 20\n",
      "Season: 5 Episode: 19\n",
      "Season: 5 Episode: 23\n",
      "Season: 5 Episode: 18\n",
      "Season: 5 Episode: 16\n",
      "Season: 5 Episode: 3\n",
      "Season: 5 Episode: 22\n",
      "Season: 5 Episode: 2\n",
      "Season: 5 Episode: 21\n",
      "Season: 5 Episode: 6\n",
      "Season: 5 Episode: 1\n",
      "Season: 5 Episode: 11\n",
      "Season: 5 Episode: 14\n",
      "Season: 5 Episode: 12\n",
      "Season: 5 Episode: 15\n",
      "Season: 5 Episode: 5\n",
      "Season: 5 Episode: 13\n",
      "Season: 5 Episode: 9\n",
      "Season: 5 Episode: 4\n",
      "Season: 5 Episode: 17\n",
      "Season: 5 Episode: 7\n",
      "Season: 8 Episode: 20\n",
      "Season: 8 Episode: 21\n",
      "Season: 8 Episode: 15\n",
      "Season: 8 Episode: 18\n",
      "Season: 8 Episode: 3\n",
      "Season: 8 Episode: 24\n",
      "Season: 8 Episode: 10\n",
      "Season: 8 Episode: 4\n",
      "Season: 8 Episode: 6\n",
      "Season: 8 Episode: 5\n",
      "Season: 8 Episode: 12\n",
      "Season: 8 Episode: 19\n",
      "Season: 8 Episode: 23\n",
      "Season: 8 Episode: 22\n",
      "Season: 8 Episode: 1\n",
      "Season: 8 Episode: 8\n",
      "Season: 8 Episode: 17\n",
      "Season: 8 Episode: 14\n",
      "Season: 8 Episode: 9\n",
      "Season: 8 Episode: 2\n",
      "Season: 8 Episode: 7\n",
      "Season: 8 Episode: 16\n",
      "Season: 8 Episode: 13\n",
      "Season: 8 Episode: 11\n",
      "Season: 7 Episode: 10\n",
      "Season: 7 Episode: 21\n",
      "Season: 7 Episode: 8\n",
      "Season: 7 Episode: 16\n",
      "Season: 7 Episode: 20\n",
      "Season: 7 Episode: 1\n",
      "Season: 7 Episode: 9\n",
      "Season: 7 Episode: 23\n",
      "Season: 7 Episode: 5\n",
      "Season: 7 Episode: 19\n",
      "Season: 7 Episode: 4\n",
      "Season: 7 Episode: 13\n",
      "Season: 7 Episode: 15\n",
      "Season: 7 Episode: 6\n",
      "Season: 7 Episode: 14\n",
      "Season: 7 Episode: 3\n",
      "Season: 7 Episode: 17\n",
      "Season: 7 Episode: 2\n",
      "Season: 7 Episode: 24\n",
      "Season: 7 Episode: 7\n",
      "Season: 7 Episode: 18\n",
      "Season: 7 Episode: 22\n",
      "Season: 7 Episode: 11\n",
      "Season: 1 Episode: 16\n",
      "Season: 1 Episode: 4\n",
      "Season: 1 Episode: 1\n",
      "Season: 1 Episode: 12\n",
      "Season: 1 Episode: 14\n",
      "Season: 1 Episode: 10\n",
      "Season: 1 Episode: 6\n",
      "Season: 1 Episode: 15\n",
      "Season: 1 Episode: 8\n",
      "Season: 1 Episode: 2\n",
      "Season: 1 Episode: 3\n",
      "Season: 1 Episode: 7\n",
      "Season: 1 Episode: 11\n",
      "Season: 1 Episode: 13\n",
      "Season: 1 Episode: 9\n",
      "Season: 1 Episode: 5\n"
     ]
    }
   ],
   "source": [
    "for season in temp:\n",
    "    for episode in temp[season]:\n",
    "        print(\"Season:\", season, \"Episode:\", episode)"
   ],
   "metadata": {
    "collapsed": false,
    "pycharm": {
     "name": "#%%\n"
    }
   }
  },
  {
   "cell_type": "code",
   "execution_count": null,
   "outputs": [],
   "source": [],
   "metadata": {
    "collapsed": false,
    "pycharm": {
     "name": "#%%\n"
    }
   }
  },
  {
   "cell_type": "code",
   "execution_count": null,
   "outputs": [],
   "source": [],
   "metadata": {
    "collapsed": false,
    "pycharm": {
     "name": "#%%\n"
    }
   }
  },
  {
   "cell_type": "code",
   "execution_count": 6,
   "outputs": [
    {
     "name": "stdout",
     "output_type": "stream",
     "text": [
      "S04E17 133\n",
      "[6275973, 'well no sir and do you', 'well no sir and do you know why', '當然不 你知道為什麼嗎?']\n",
      "[6275975, 'every thursday night for the last', 'every thursday night for the last eight years you and i and our friends have gathered here in this very spot to break bread covered with cheese and sauce discuss the issues of the day and yes share a laugh or two', '過去八年裡每個週四晚上 你 我 還有我們的朋友們 坐在這裡 切開塗滿芝士和香腸的麵餅 談論一下生活 偶爾相視一笑']\n",
      "[6275975, 'eight years you and i and', 'every thursday night for the last eight years you and i and our friends have gathered here in this very spot to break bread covered with cheese and sauce discuss the issues of the day and yes share a laugh or two', '過去八年裡每個週四晚上 你 我 還有我們的朋友們 坐在這裡 切開塗滿芝士和香腸的麵餅 談論一下生活 偶爾相視一笑']\n",
      "[6275975, 'our friends have gathered here in', 'every thursday night for the last eight years you and i and our friends have gathered here in this very spot to break bread covered with cheese and sauce discuss the issues of the day and yes share a laugh or two', '過去八年裡每個週四晚上 你 我 還有我們的朋友們 坐在這裡 切開塗滿芝士和香腸的麵餅 談論一下生活 偶爾相視一笑']\n",
      "[6275975, 'this very spot to break bread', 'every thursday night for the last eight years you and i and our friends have gathered here in this very spot to break bread covered with cheese and sauce discuss the issues of the day and yes share a laugh or two', '過去八年裡每個週四晚上 你 我 還有我們的朋友們 坐在這裡 切開塗滿芝士和香腸的麵餅 談論一下生活 偶爾相視一笑']\n",
      "[6275975, 'covered with cheese and sauce discuss', 'every thursday night for the last eight years you and i and our friends have gathered here in this very spot to break bread covered with cheese and sauce discuss the issues of the day and yes share a laugh or two', '過去八年裡每個週四晚上 你 我 還有我們的朋友們 坐在這裡 切開塗滿芝士和香腸的麵餅 談論一下生活 偶爾相視一笑']\n",
      "[6275975, 'the issues of the day and', 'every thursday night for the last eight years you and i and our friends have gathered here in this very spot to break bread covered with cheese and sauce discuss the issues of the day and yes share a laugh or two', '過去八年裡每個週四晚上 你 我 還有我們的朋友們 坐在這裡 切開塗滿芝士和香腸的麵餅 談論一下生活 偶爾相視一笑']\n",
      "[6275975, 'yes share a laugh or two', 'every thursday night for the last eight years you and i and our friends have gathered here in this very spot to break bread covered with cheese and sauce discuss the issues of the day and yes share a laugh or two', '過去八年裡每個週四晚上 你 我 還有我們的朋友們 坐在這裡 切開塗滿芝士和香腸的麵餅 談論一下生活 偶爾相視一笑']\n",
      "[6275976, 'but i guess our rich heritage', 'but i guess our rich heritage means nothing to you i guess you are right', '但似乎我們的美好傳統 對你來說一文不值']\n",
      "[6276008, 'that is got to be fun', 'that is got to be fun for you huh', '糾結不?']\n",
      "[6276009, 'the saliva out of your sister', 'watching hofstadter suck the saliva out of your sister is mouth', '看著Hofstadter從你妹妹嘴裡吸口水']\n",
      "[6276010, 'any further we need to decide', 'before this evening goes any further we need to decide where everyone is going to sit', '不好意思 為了今晚能一切順利 我們先來確定一下大家的座次吧']\n",
      "[6276010, 'where everyone is going to sit', 'before this evening goes any further we need to decide where everyone is going to sit', '不好意思 為了今晚能一切順利 我們先來確定一下大家的座次吧']\n",
      "[6276029, 'sadly penny this evening i am', 'sadly penny this evening i am the dark knight roaming these mean streets alone', '很不幸 Penny 今晚我就是那 獨自遊蕩在夜路上的黑暗騎士']\n",
      "[6276029, 'the dark knight roaming these mean', 'sadly penny this evening i am the dark knight roaming these mean streets alone', '很不幸 Penny 今晚我就是那 獨自遊蕩在夜路上的黑暗騎士']\n",
      "[6276030, 'cape and a stern expression for', 'a windbreaker for my cape and a stern expression for my cowl', '以夾克為斗篷 以鬱悶臉為面具']\n",
      "[6276063, 'leonard the nucleus that makes no', 'leonard the nucleus that makes no sense', 'Leonard是核心?']\n",
      "[6276064, 'that everyone looks to for a', 'i am the whimsical elf that everyone looks to for a good time', '這可沒道理 我是頑皮古怪小精靈 大家都愛和我玩']\n",
      "[130240, 'i am not saying that you', 'of course i am not saying that your wife is not a sick woman', '当然，我并不是说你的妻子不是一个病人']\n",
      "[788537, 'i am not saying that you', 'i am not saying that you', '我不是说你 ...']\n",
      "[1164062, 'i am not saying that you', 'i am not saying that you do not have talent but i can tell you that this is almost not painting', '那样我要这幅画就没有利润了']\n",
      "[1287339, 'i am not saying that you', 'i am not saying that you are but if you have any feelings against the war you could really help', '我并不强迫你... 但如果你有反战情绪 你可以帮很大的忙']\n",
      "[2547862, 'i am not saying that you', 'i am not saying that you would be able to do it without some hard work some honest hard work and possibly some medicine', '好命要靠努力打拚 可能还需要吃点神经病药']\n",
      "[2921155, 'i am not saying that you', 'i am not saying that you and i are', '我並沒有告訴他']\n",
      "[3232744, 'i am not saying that you', 'i am not saying that you are both very important to me', '我不是这个意思， 你们对我一样重要！']\n",
      "[3421640, 'i am not saying that you', 'i am not saying that you do', '（叹气）我不是说你。']\n",
      "[3521733, 'i am not saying that you', 'but to prove he is not a thief i am not saying that you are he goes to the bank', '我并不是说你就是... 他可以去银行.']\n",
      "[3785308, 'i am not saying that you', 'i am not saying i will go and i am not saying that you and your little friends have to be nice to me but every once in a while yeah it would be nice to be asked', '我沒說我要參加, 我也沒說 你和你的那些小夥伴要對我好一點 不過時不時地, 嗯, 被邀請也很愉快']\n",
      "[4370538, 'i am not saying that you', 'of course i am not saying that your children are insane', '当然,我不是说你们的孩子疯了']\n",
      "[4402735, 'i am not saying that you', 'i am not saying that you would even know how to', '我也不是说你知道如何...']\n",
      "[4477601, 'i am not saying that you', 'i am not saying that you make everything a competition i am barely alive', '不我不這么認為你為什么不 正視事實呢 而要這么复雜呢']\n",
      "[4715266, 'i am not saying that you', 'i am not saying that you are gonna do that on my well', '我没说你也会 做在我的，嗯...']\n",
      "[4942791, 'i am not saying that you', 'i am not saying that you were not influential', '我不能说没受到你的影响 影响？']\n",
      "[5120034, 'i am not saying that you', 'i am not saying that you are stupid or overrated i am just i am gonna stop now', '我不是说你很傻 也不是说你不合适 我应该闭嘴了']\n",
      "[5891392, 'i am not saying that you', 'i am not saying that you are 12', '我沒說你12歲...']\n",
      "[6276065, 'i am not saying that you', 'i am not saying that you are not fun', '我不是說你不幽默']\n",
      "[6693460, 'i am not saying that you', 'i mean i am not saying that you are a boob but this is boobish behavior', '我不是在骂你笨 但这真的很蠢']\n",
      "[6780130, 'i am not saying that you', 'i mean i am not saying that you are not now i am just', '我不是说你现在不一样了 只是...']\n",
      "[6884678, 'i am not saying that you', 'i am not saying that you have a drinking problem', '我不是说你酗酒 我不认为你酗酒']\n",
      "[7065557, 'i am not saying that you', 'i am not saying that you really did drink a lot', '不是說 你真的喝醉了']\n",
      "[7389585, 'i am not saying that you', 'i mean i am not saying that you know babies are ugly', '我的意思是，我不是说， 要知道，宝宝是丑陋的。']\n",
      "[7477326, 'i am not saying that you', 'i am not saying that you were responsible for that but being your next patient i was just a little concerned', '我不是说你是 负责人认为， 但我是你的下一个病人 只是有点担忧。']\n",
      "[7529991, 'i am not saying that you', 'i am not saying that you can not be a real bona fide motherfucker in this business but you got to do whatever it takes and get people in to see your shows where the music can start to do its real work', '我不是说 你不可以在这个行业里做自己 但你得全力以赴']\n",
      "[7771402, 'i am not saying that you', 'i am not saying that you do', '我并没有说你会这么做']\n",
      "[8770553, 'i am not saying that you', 'i am not saying that you are crazy okay and i am not talking about a shrink', '我没说你疯了，好了 我也没提起精神病医生']\n",
      "[8928943, 'i am not saying that you', 'i am not saying that you need a babysitter', 'иぃ惠璶玂﹊']\n",
      "[9034111, 'i am not saying that you', 'look i am not saying that you need to be naive', '我不是说要你天真无邪']\n",
      "[9459045, 'i am not saying that you', 'no i am not saying that you are', \"我没说你是 No, I'm not saying that you are.\"]\n",
      "[130240, 'i am not saying that you', 'of course i am not saying that your wife is not a sick woman', '当然，我并不是说你的妻子不是一个病人']\n",
      "[788537, 'i am not saying that you', 'i am not saying that you', '我不是说你 ...']\n",
      "[1164062, 'i am not saying that you', 'i am not saying that you do not have talent but i can tell you that this is almost not painting', '那样我要这幅画就没有利润了']\n",
      "[1287339, 'i am not saying that you', 'i am not saying that you are but if you have any feelings against the war you could really help', '我并不强迫你... 但如果你有反战情绪 你可以帮很大的忙']\n",
      "[2547862, 'i am not saying that you', 'i am not saying that you would be able to do it without some hard work some honest hard work and possibly some medicine', '好命要靠努力打拚 可能还需要吃点神经病药']\n",
      "[2921155, 'i am not saying that you', 'i am not saying that you and i are', '我並沒有告訴他']\n",
      "[3232744, 'i am not saying that you', 'i am not saying that you are both very important to me', '我不是这个意思， 你们对我一样重要！']\n",
      "[3421640, 'i am not saying that you', 'i am not saying that you do', '（叹气）我不是说你。']\n",
      "[3521733, 'i am not saying that you', 'but to prove he is not a thief i am not saying that you are he goes to the bank', '我并不是说你就是... 他可以去银行.']\n",
      "[3785308, 'i am not saying that you', 'i am not saying i will go and i am not saying that you and your little friends have to be nice to me but every once in a while yeah it would be nice to be asked', '我沒說我要參加, 我也沒說 你和你的那些小夥伴要對我好一點 不過時不時地, 嗯, 被邀請也很愉快']\n",
      "[4370538, 'i am not saying that you', 'of course i am not saying that your children are insane', '当然,我不是说你们的孩子疯了']\n",
      "[4402735, 'i am not saying that you', 'i am not saying that you would even know how to', '我也不是说你知道如何...']\n",
      "[4477601, 'i am not saying that you', 'i am not saying that you make everything a competition i am barely alive', '不我不這么認為你為什么不 正視事實呢 而要這么复雜呢']\n",
      "[4715266, 'i am not saying that you', 'i am not saying that you are gonna do that on my well', '我没说你也会 做在我的，嗯...']\n",
      "[4942791, 'i am not saying that you', 'i am not saying that you were not influential', '我不能说没受到你的影响 影响？']\n",
      "[5120034, 'i am not saying that you', 'i am not saying that you are stupid or overrated i am just i am gonna stop now', '我不是说你很傻 也不是说你不合适 我应该闭嘴了']\n",
      "[5891392, 'i am not saying that you', 'i am not saying that you are 12', '我沒說你12歲...']\n",
      "[6276065, 'i am not saying that you', 'i am not saying that you are not fun', '我不是說你不幽默']\n",
      "[6693460, 'i am not saying that you', 'i mean i am not saying that you are a boob but this is boobish behavior', '我不是在骂你笨 但这真的很蠢']\n",
      "[6780130, 'i am not saying that you', 'i mean i am not saying that you are not now i am just', '我不是说你现在不一样了 只是...']\n",
      "[6884678, 'i am not saying that you', 'i am not saying that you have a drinking problem', '我不是说你酗酒 我不认为你酗酒']\n",
      "[7065557, 'i am not saying that you', 'i am not saying that you really did drink a lot', '不是說 你真的喝醉了']\n",
      "[7389585, 'i am not saying that you', 'i mean i am not saying that you know babies are ugly', '我的意思是，我不是说， 要知道，宝宝是丑陋的。']\n",
      "[7477326, 'i am not saying that you', 'i am not saying that you were responsible for that but being your next patient i was just a little concerned', '我不是说你是 负责人认为， 但我是你的下一个病人 只是有点担忧。']\n",
      "[7529991, 'i am not saying that you', 'i am not saying that you can not be a real bona fide motherfucker in this business but you got to do whatever it takes and get people in to see your shows where the music can start to do its real work', '我不是说 你不可以在这个行业里做自己 但你得全力以赴']\n",
      "[7771402, 'i am not saying that you', 'i am not saying that you do', '我并没有说你会这么做']\n",
      "[8770553, 'i am not saying that you', 'i am not saying that you are crazy okay and i am not talking about a shrink', '我没说你疯了，好了 我也没提起精神病医生']\n",
      "[8928943, 'i am not saying that you', 'i am not saying that you need a babysitter', 'иぃ惠璶玂﹊']\n",
      "[9034111, 'i am not saying that you', 'look i am not saying that you need to be naive', '我不是说要你天真无邪']\n",
      "[9459045, 'i am not saying that you', 'no i am not saying that you are', \"我没说你是 No, I'm not saying that you are.\"]\n",
      "[358864, 'a lot of people think i', 'a lot of people think i am suspicious especially when i stand on street corners', '很多人覺得我很可疑 特別是我站在街角的時候']\n",
      "[515967, 'a lot of people think i', 'a lot of people think i am victoria', '那是好。 许多人做。']\n",
      "[3115171, 'a lot of people think i', 'you must be crazy a lot of people think i am crazy susan', '哈哈，很多人都这么说我,苏姗']\n",
      "[3464833, 'a lot of people think i', 'a lot of people think it is to do with the 60s the back of the bus separate lunch counters', '很多人认为这与60年代的美国有关， 黑人只能做公交车后排, 得和白人分开作为吃饭,不']\n",
      "[4424465, 'a lot of people think i', 'oh yeah a lot of people think i am a water sign', '对啊 很多人觉得我像水相星座']\n",
      "[4479659, 'a lot of people think i', 'brian wilson when that was happening was making pet sounds which a lot of people think is the best rock album ever made', '啊，发生什么事情了？ 他已经在那蹦床上弹了四天了']\n",
      "[4840842, 'a lot of people think i', 'that is great because a lot of people think it is chicago and ah this is springfield right', '答对了，很多人都以为是芝加哥 春田是在这儿吧？']\n",
      "[5520379, 'a lot of people think i', 'modeling a lot of people think it is easy', '模特儿在很多人看来很简单 *超模*']\n",
      "[5873000, 'a lot of people think i', 'a lot of people think it is a little peculiar that i never have a drink or something like that but i made up my mind', '很多人会觉得奇怪... 在这些活动上 我从来不吃也不喝 但我是这么想的']\n",
      "[6276067, 'a lot of people think i', 'a lot of people think i am fun to be around', '好多人也覺得我很幽默']\n",
      "[6907809, 'a lot of people think i', 'a lot of people think it is going to be along the lines of castle crashers', '很多人对这款游戏的看法就是 这大概是一款与《城堡毁灭者》差不多的游戏']\n",
      "[7572042, 'a lot of people think i', 'a lot of people think it is deep water but you never know', '很多人认为这是深 水，但你永远不知道。']\n",
      "[8048739, 'a lot of people think i', 'even though that stuff is like 6000 years old and a lot of people think it is myth experts in our field think that you know based on the schematics and the flight plans and the design', '尽管这些东西在有6000年前就有记载 和很多人认为这是神话 但是你知道的我们这领域的专家认为']\n",
      "[8254350, 'a lot of people think i', 'i take no pleasure in saying this lynn but a lot of people think it looks like a photograph of an explosion', '-我并不以此为乐 不过很多人觉得 它看起来像定格的大爆炸']\n",
      "[9802629, 'a lot of people think i', 'but a lot of people think it is our one real shot at immortality', \"但很多人认为那是我们实现永生的 But a lot of people think it's our one real shot 一种手段 at immortality.\"]\n",
      "[6276069, 'is probably part of what chased', 'that is probably part of what chased leonard away', '可能就是你這點把Leonard嚇跑的']\n",
      "[6276070, 'sheldon is that your group is', 'what i am saying sheldon is that your group is leonardcentric', '我要說的是 Sheldon 你們的小團體就是以Leonard為核心的']\n",
      "[6276071, 'it would be leonardville if it', 'if it were a town it would be leonardville if it were an islamic nation leonardstan', '如果你們是一座城 就叫Leonard城 如果是個伊斯蘭國家 就叫Leonard斯坦']\n",
      "[6276072, 'it were the birthplace of motion', 'if it were the birthplace of motion pictures we would all be singing hooray for leonardwood', '如果是電影的發源地 頌歌就會變成\"萬歲Leonard塢\"']\n",
      "[6276072, 'pictures we would all be singing', 'if it were the birthplace of motion pictures we would all be singing hooray for leonardwood', '如果是電影的發源地 頌歌就會變成\"萬歲Leonard塢\"']\n",
      "[6276089, 'we had a good run you', 'we had a good run you and i', '咱倆曾經處得挺好的']\n",
      "[6276091, 'but change is a part of', 'but change is a part of life', '- 但改變是生活的一部分']\n",
      "[6276139, 'anyway after we get done snowboarding', 'anyway after we get done snowboarding i go back to the lodge and get in the jacuzzi', '我們滑完雪之後 回到房間 我進了極可意浴缸']\n",
      "[6276139, 'i go back to the lodge', 'anyway after we get done snowboarding i go back to the lodge and get in the jacuzzi', '我們滑完雪之後 回到房間 我進了極可意浴缸']\n",
      "[6276140, 'is no one around so naturally', 'there is no one around so naturally i am freeballing it', '周圍一個人也沒有 所以嘛 我就全裸了']\n",
      "[6276141, 'i know this beautiful chick shows', 'next thing i know this beautiful chick shows up drunk out of her skull wants to get in with me', '下一秒鐘 一個辣妹出現了 喝得大醉 非要和我一起洗']\n",
      "[6276141, 'up drunk out of her skull', 'next thing i know this beautiful chick shows up drunk out of her skull wants to get in with me', '下一秒鐘 一個辣妹出現了 喝得大醉 非要和我一起洗']\n",
      "[6276141, 'wants to get in with me', 'next thing i know this beautiful chick shows up drunk out of her skull wants to get in with me', '下一秒鐘 一個辣妹出現了 喝得大醉 非要和我一起洗']\n",
      "[6276152, 'can you please get back to', 'can you please get back to the drunk girl', '能說回那個喝醉的美眉嗎?']\n",
      "[6276153, 'something to think about in the', 'i would like something to think about in the shower', '我一會兒洗澡時就有得幻想了']\n",
      "[6276155, 'off all of her clothes climbs', 'anyway she takes off all of her clothes climbs into the hot tub and the first thing i notice', '反正 她脫光了衣服 爬進了按摩浴缸']\n",
      "[6276155, 'into the hot tub and the', 'anyway she takes off all of her clothes climbs into the hot tub and the first thing i notice', '反正 她脫光了衣服 爬進了按摩浴缸']\n",
      "[6276159, 'said that archimedes the ancient greek', 'it is said that archimedes the ancient greek mathematician discovered the principle of displacement while taking a bath', '古希臘著名數學家阿基米德... 就是在洗澡時發現浮力定律的']\n",
      "[6276159, 'mathematician discovered the principle of displacement', 'it is said that archimedes the ancient greek mathematician discovered the principle of displacement while taking a bath', '古希臘著名數學家阿基米德... 就是在洗澡時發現浮力定律的']\n",
      "[6276164, 'you see the king wondered how', 'you see the king wondered how much gold was in it and charged archimedes with coming up with the solution', '國王想知道皇冠裡有多少金子 命阿基米德想個辦法']\n",
      "[6276164, 'much gold was in it and', 'you see the king wondered how much gold was in it and charged archimedes with coming up with the solution', '國王想知道皇冠裡有多少金子 命阿基米德想個辦法']\n",
      "[6276164, 'charged archimedes with coming up with', 'you see the king wondered how much gold was in it and charged archimedes with coming up with the solution', '國王想知道皇冠裡有多少金子 命阿基米德想個辦法']\n",
      "[6276165, 'irregularly shaped there was no way', 'because the crown was irregularly shaped there was no way to mathematically determine its volume', '由於皇冠形狀不規則 不能精確測量它的體積']\n",
      "[6276166, 'while bathing archimedes realized he could', 'but while bathing archimedes realized he could immerse the crown and measure the amount the water rose', '但他洗澡時 發現可以把皇冠浸入水中 然後測量上升的水量']\n",
      "[6276166, 'immerse the crown and measure the', 'but while bathing archimedes realized he could immerse the crown and measure the amount the water rose', '但他洗澡時 發現可以把皇冠浸入水中 然後測量上升的水量']\n",
      "[6276167, 'so long story short i nailed', 'so long story short i nailed her', '長話短說 我上了她']\n",
      "[6276168, 'when he finished he shouted eureka', 'when he finished he shouted eureka', '他完事後高喊一聲\"我找到了\"!']\n",
      "[6276169, 'no i always shout holy moly', 'no i always shout holy moly', '不 我總是喊 \"我滴個神啊\"!']\n",
      "[6276170, 'do not know why just do', 'do not know why just do', '也不知道為什麼 就那麼喊了']\n",
      "[6276189, 'raj did you ever tell your', 'raj did you ever tell your sister about the time sheldon got punched by bill gates', 'Raj 你有沒有跟你妹妹說過 Sheldon被比爾·蓋茨扁的那件事']\n",
      "[6276189, 'sister about the time sheldon got', 'raj did you ever tell your sister about the time sheldon got punched by bill gates', 'Raj 你有沒有跟你妹妹說過 Sheldon被比爾·蓋茨扁的那件事']\n",
      "[3173358, 'you were not so distracted by', 'of course if you were not so distracted by your classes', '当然，要是你没有被你的课程分掉那么多心思']\n",
      "[6276194, 'you were not so distracted by', 'maybe if you were not so distracted by sick children in africa you could have put a little more thought into windows vista', '\"要不是你在非洲 那些病小孩身上瞎操心 Vista也不會那麼難用了\"']\n",
      "[6276194, 'sick children in africa you could', 'maybe if you were not so distracted by sick children in africa you could have put a little more thought into windows vista', '\"要不是你在非洲 那些病小孩身上瞎操心 Vista也不會那麼難用了\"']\n",
      "[6276194, 'have put a little more thought', 'maybe if you were not so distracted by sick children in africa you could have put a little more thought into windows vista', '\"要不是你在非洲 那些病小孩身上瞎操心 Vista也不會那麼難用了\"']\n",
      "[6276196, 'me proud to own a pc', 'made me proud to own a pc', '讓我感覺 我有電腦我自豪']\n",
      "[6276247, 'anybody do walking on sunshine yet', 'anybody do walking on sunshine yet', '有人唱\"走在陽光裡\"了沒?']\n",
      "[6276258, 'i think it is like beetlejuice', 'i think it is like beetlejuice we said his name too many times', '這好像\"甲殼蟲汁\"一樣 咱念叨他名字太多遍了']\n",
      "[6276258, 'we said his name too many', 'i think it is like beetlejuice we said his name too many times', '這好像\"甲殼蟲汁\"一樣 咱念叨他名字太多遍了']\n",
      "[6276275, 'she is also a bit of', 'she is also a bit of a knowitall', '她還真是啥都知道啊']\n",
      "====================================================================================================\n",
      "S03E20 182\n",
      "[5887674, 'i was going to get my', 'i was going to get my mail', '我本打算拿我的信']\n",
      "[4641452, 'no i just was not sure', 'no i just was not sure i', '不 我只是不确定 我...']\n",
      "[6789312, 'no i just was not sure', 'no no i just was not sure okay', '没 没 只是还不肯定']\n",
      "[5887679, 'of the proper protocol now that', 'i just was not sure of the proper protocol now that you and leonard are no longer having coitus', '我只是不知和你保持怎样的距离 你和Leonard不再\"交媾\"了(coitus)']\n",
      "[5887679, 'you and leonard are no longer', 'i just was not sure of the proper protocol now that you and leonard are no longer having coitus', '我只是不知和你保持怎样的距离 你和Leonard不再\"交媾\"了(coitus)']\n",
      "[5887680, 'god can we please just say', 'god can we please just say no longer seeing each other', '晕 能文雅地只说\"不再见面\"吗? 好吧 要是真不见面就行']\n",
      "[5887705, 'that is the sauce my mother', 'that is the sauce my mother uses', '- 我妈妈就用这个的']\n",
      "[5887706, 'according to her that is what', 'she likes cooking italian because according to her that is what the romans made jesus eat', '她喜欢做意大利菜 因为据她说 这就是当时罗马人做给耶稣吃的']\n",
      "[5887707, 'you over for spaghetti some night', 'i will have to have you over for spaghetti some night', '找个晚上我叫你过来吃意大利面吧']\n",
      "[5887710, 'you give me an hour and', 'why do not you give me an hour and come over', '要不你过一小时过来?']\n",
      "[5887711, 'will you cut up hot dogs', 'will you cut up hot dogs into little chunks and mix them in with the sauce', '你能把热狗切成块 然后拌酱吃吗?']\n",
      "[5887711, 'into little chunks and mix them', 'will you cut up hot dogs into little chunks and mix them in with the sauce', '你能把热狗切成块 然后拌酱吃吗?']\n",
      "[5887712, 'i do not have hot dogs', 'i do not have hot dogs', '我没热狗唉 没关系的 我有']\n",
      "[165275, 'oh it is all right i', 'oh it is all right i am always up early comin down soon', '没关系，我总是起得很早，马上下来吗？']\n",
      "[508713, 'oh it is all right i', 'bord0shad0alphah3doh it is all right i am not his type anyway', '哦，沒什麼 反正我不是他喜歡的類型']\n",
      "[531557, 'oh it is all right i', 'oh it is all right it is only your aunties cock crows', '哦 没关系 只是你们的姨妈们 弯 弯 弯 弯 弯 弯']\n",
      "[704755, 'oh it is all right i', 'oh it is all right it is all right', '没关系 没关系']\n",
      "[715597, 'oh it is all right i', 'oh it is all right if they are amused', '哦 只要他们开心就好']\n",
      "[2913767, 'oh it is all right i', 'oh it is all right it was only a machine', '喔 不過是部機器罷了.']\n",
      "[4641724, 'oh it is all right i', 'oh it is all right it is uh', '很好 嗯...']\n",
      "[5887713, 'oh it is all right i', 'oh it is all right i do', '太好了!']\n",
      "[9337535, 'oh it is all right i', 'oh it is all right i am home', 'I am home.']\n",
      "[5887714, 'what my mother calls a real', 'oh you are in for what my mother calls a real eyetalian treat', '你要做我妈妈说的 \"眼大利大餐\"了']\n",
      "[5887735, 'just out of curiosity do we', 'just out of curiosity do we still have hot dogs', '只是好奇问下 我们还有热狗肠吗?']\n",
      "[5887755, 'i never stopped hanging out with', 'i never stopped hanging out with you', '我一直有和你玩呀']\n",
      "[5887756, 'oh please we all know i', 'oh please we all know i am the friend you call when you have no other options', '算了吧 你没得选了才会找我 这谁不知道呀!']\n",
      "[5887756, 'am the friend you call when', 'oh please we all know i am the friend you call when you have no other options', '算了吧 你没得选了才会找我 这谁不知道呀!']\n",
      "[5887757, 'we were the justice league i', 'if we were the justice league i would be aquaman', '如果我们是正义联盟 我就是潜水侠']\n",
      "[5887759, 'i could send you to scoop', 'then i could send you to scoop my mom out of the old lady tank', '那样你就你能把我妈 从一堆老女人中撩出来了']\n",
      "[5887759, 'my mom out of the old', 'then i could send you to scoop my mom out of the old lady tank', '那样你就你能把我妈 从一堆老女人中撩出来了']\n",
      "[4415661, 'you know what i will just', 'all right well you know what i will just ask carlisle tomorrow', '哦，得了，我還是明天去問卡萊爾吧']\n",
      "[5617806, 'you know what i will just', 'oh you know what i will just put the shoes in my purse', '不用了 放在我包里就好']\n",
      "[5627380, 'you know what i will just', 'you know what i will just get it it will be easier', '我还是自己去吧 那会轻松点']\n",
      "[6285496, 'you know what i will just', 'you know what i will just stay here i will be fine alone', '我就待家裡， 一個人無所謂']\n",
      "[7749911, 'you know what i will just', 'you know what i will just i will come back when you are done', '你知道吗，我就, 我会回来的时候，你就大功告成了。']\n",
      "[8128755, 'you know what i will just', 'you know what i will just use my photogenic mind to memorize the address', '不过，我可能就用我的超级图像记忆力来记住就好了']\n",
      "[8647394, 'you know what i will just', 'actually you know what i will just shoot him', '你猜怎么的我还是向他开枪吧']\n",
      "[5887762, 'what suddenly i am not good', 'what suddenly i am not good enough for you', '咋了 瞬间我就配不上你了?']\n",
      "[5887765, 'since when do you take afterdinner', 'since when do you take afterdinner walks', '啥时候你开始饭后百步走了?']\n",
      "[5887766, 'yeah since when do you take', 'yeah since when do you take walks', '对啊 你啥时候开始散步了?']\n",
      "[5887794, 'bet you think you smell hot', 'i bet you think you smell hot dogs', '我打赌你以为自己闻到了热狗的味道']\n",
      "[5887815, 'i do and you will fall', 'i do and you will fall hopelessly in love and give her your heart', '真的 然后你就跌入了无尽的爱河 奉上你的全心全意']\n",
      "[5887815, 'hopelessly in love and give her', 'i do and you will fall hopelessly in love and give her your heart', '真的 然后你就跌入了无尽的爱河 奉上你的全心全意']\n",
      "[5887816, 'it and grind it into pathetic', 'and she will take it and grind it into pathetic little pieces', '她掳走你的心 然后撕碎揉烂']\n",
      "[5887819, 'so um was leonard okay with', 'so um was leonard okay with you coming over', '呃... 你过来Leonard没啥意见吧?']\n",
      "[5887834, 'well my new shoes are not', 'well my new shoes are not made for running', '我的新鞋不是跑步专用鞋']\n",
      "[828169, 'i am so glad you like', 'it is beautiful  i am so glad you like it', '噢，真漂亮 你喜欢我很高兴']\n",
      "[1236651, 'i am so glad you like', 'oh i am so glad you like it darling', '我很高兴你喜欢']\n",
      "[1291674, 'i am so glad you like', 'thank you i am so glad you liked it', '谢谢，很高兴你喜欢']\n",
      "[1799882, 'i am so glad you like', 'gosh i am so glad you liked them', '-我真高兴你喜欢']\n",
      "[2906670, 'i am so glad you like', 'i am so glad you liked it', '你喜欢那房子我真是太高兴了.']\n",
      "[5887837, 'i am so glad you like', 'i am so glad you like it', '- 真高兴你喜欢']\n",
      "[6122021, 'i am so glad you like', 'i am so glad you liked it', '我很高兴你会喜欢']\n",
      "[8836157, 'i am so glad you like', 'this is going to be the best valentine is day ever i am so glad you like it', '这将是我有生以来最好的情人节了']\n",
      "[8983044, 'i am so glad you like', 'oh i am so glad you liked it cause you never know when it might be your last latte', '噢 很高兴你能喜欢 因为你永远也不知道以后还能不能喝上']\n",
      "[5887840, 'well maybe that is cause leonard', 'well maybe that is cause leonard can not cook', '也许是他不会做饭吧']\n",
      "[5887841, 'you can not cook and you', 'you can not cook and you made me this', '你也不会啊 你还不是给我做了']\n",
      "[957992, 'for an hour and a half', 'i am the curator here the zoo is been closed for an hour and a half', '我是这里的馆长，动物园已关闭一个半小时了']\n",
      "[1780795, 'for an hour and a half', 'we have been goin over this for an hour and a half', '我们已经争论了一个半小时']\n",
      "[2122298, 'for an hour and a half', 'girl i have been waiting for you in the bar for an hour and a half', '女孩，欧莱雅一直在等待着你在酒吧 为一个半小时。']\n",
      "[2554270, 'for an hour and a half', 'we have been waiting for an hour and a half', '我们等了一个半钟头']\n",
      "[2910305, 'for an hour and a half', 'some plan that ghost pawed me for an hour and a half', '就因为你的鬼计划 我才会给那鬼东西抓住一个半小时的']\n",
      "[3344631, 'for an hour and a half', 'depuis une heure et demie for an hour and a half', '而不是1 1/2小时？']\n",
      "[3957662, 'for an hour and a half', 'what in the hell is it can not wait for an hour and a half', '为了什么你要半夜三更敲门 不能再等一个半小时吗？']\n",
      "[3974011, 'for an hour and a half', 'i tried for an hour and a half thing is ancient', '我刚才都修了一个半小时了 那东西太破了']\n",
      "[4181771, 'for an hour and a half', 'judging by this footage from the time that raye penber got on the train until his death he had been riding for an hour and a half', '根据刚才的报告 雷・潘伯 在从上车到死亡这段时间里 山手线只需一小时便可绕完一圈 他却待了约一个半小时']\n",
      "[4715730, 'for an hour and a half', 'how can nobody go down a road for an hour and a half', '一个半小时了 怎么一个人都没有？']\n",
      "[5457765, 'for an hour and a half', 'i have been in these overalls for an hour and a half', '我已经穿了一个半小时的工装裤']\n",
      "[5598700, 'for an hour and a half', 'i went outside and i worked for an hour and a half come in and i got on the computer for an hour then i watched tv for an hour and finally went to bed at 1030 and had to get up at 400 so', '我走到外面，我的工作 一个半小时， 进来和我坐上 一个小时的计算机， 然后我看电视']\n",
      "[5887848, 'for an hour and a half', 'i told you walking for an hour and a half', '跟你说啦 散步']\n",
      "[6191225, 'for an hour and a half', 'they had to sit there for an hour and a half', '他们只好坐在那里等了一个半小时']\n",
      "[6425542, 'for an hour and a half', 'it was in this big lecture hall and he sat there for an hour and a half twice a week for five months just trying to get up the nerve to meet me', '在一個大講廳 連著5個月 每週2次 每次坐在那裡一個半小時 只為了鼓起勇氣和我搭訕']\n",
      "[6695649, 'for an hour and a half', 'for an hour and a half is detention after school starting tomorrow', '每天放学后留校一个半小时，明天开始']\n",
      "[8329240, 'for an hour and a half', 'where is he we have been here for an hour and a half', '他人呢 我们都等了一个半小时了']\n",
      "[8595250, 'for an hour and a half', 'i hear you talk to that bitch for an hour and a half before coming back to bed with freezing cold feet at 5 am', '你跟那个贱人聊了一个半小时 你才回到床上 早上五点 你的脚都冰凉']\n",
      "[5887853, 'there are no solar flares right', 'there are no solar flares right now', '现在没有太阳耀斑啊 - 不 有的']\n",
      "[5887857, 'i meant to say was my', 'i misspoke what i meant to say was my battery died', '我的意思是 我的电池挂了']\n",
      "[1834542, 'what the hell was that about', 'what the hell was that about', '刚刚是怎么回事？']\n",
      "[2517878, 'what the hell was that about', 'and what the hell was that about', '那是什么 ?']\n",
      "[2682845, 'what the hell was that about', 'what the hell was that about', '{\\\\fnArial\\\\fs16\\\\1cHFF8080}这又是怎么回事? {\\\\fnSegoe Print\\\\fs14\\\\1cH00FF00}What the hell was that about? {\\\\r\\\\fnArial\\\\fs16\\\\1cHFF8080}']\n",
      "[2730810, 'what the hell was that about', 'what the hell was that about', '那是干嘛？']\n",
      "[3239207, 'what the hell was that about', 'what the hell was that about', '这到底是怎么回事?']\n",
      "[3630996, 'what the hell was that about', 'what the hell was that about huh', '你干嘛砸烂他的车灯？']\n",
      "[3956220, 'what the hell was that about', 'what the hell was that about', '为什么挨揍?']\n",
      "[5261986, 'what the hell was that about', 'what the hell was that about', '这究竟是怎么回事?']\n",
      "[5402854, 'what the hell was that about', 'what the hell was that about', '叫... 叫什么呀你...']\n",
      "[5881912, 'what the hell was that about', 'what the hell was that about', '刚刚那是搞什么啊 {\\\\cHFFFFFF}{\\\\3cH2F2F2F}{\\\\4cH000000}What the hell was that about?']\n",
      "[5887858, 'what the hell was that about', 'what the hell was that about', '他这是怎么了?']\n",
      "[5941006, 'what the hell was that about', 'what the hell was that about', '干啥要那么认真啊?']\n",
      "[5952678, 'what the hell was that about', 'what the hell was that about', '这算是怎么回事?']\n",
      "[6359593, 'what the hell was that about', 'what the hell was that about', '-你刚才在说什么']\n",
      "[6366413, 'what the hell was that about', 'dude what the hell was that about', '老兄 你在搞什么?']\n",
      "[6496643, 'what the hell was that about', 'what the hell was that about', '你为什么那么说呀？']\n",
      "[6982303, 'what the hell was that about', 'what the hell was that about', '- 这是怎么回事?']\n",
      "[7804936, 'what the hell was that about', 'what the hell was that about', 'ぐ或琌\\ue6c7夯 琌\\ue0a4或\\ue5e6\\ue6c4ㄆ㎡\\ue4ce']\n",
      "[7930637, 'what the hell was that about', 'what the hell was that about', '那到底是怎么回事']\n",
      "[7944376, 'what the hell was that about', 'what the hell was that about', '那是什么意思']\n",
      "[8731254, 'what the hell was that about', 'what the hell was that about', '这到底是什么？']\n",
      "[8784621, 'what the hell was that about', 'what the hell was that about', '那是搞什么名堂？']\n",
      "[9384639, 'what the hell was that about', 'what the hell was that about what is going on', '\"昨晚怎么了 发生什么事了\"']\n",
      "[9514751, 'what the hell was that about', 'what the hell was that about', '搞什么鬼啊']\n",
      "[9574897, 'what the hell was that about', 'what the hell was that about', '你刚刚是做什么? What the hell was that about?']\n",
      "[1679935, 'thanks for seeing me on such', 'thanks for seeing me on such short notice', '谢谢你抽空见我']\n",
      "[3509861, 'thanks for seeing me on such', 'thanks for seeing me on such short notice', '突然拜访 谢谢你能见我']\n",
      "[5887864, 'thanks for seeing me on such', 'thanks for seeing me on such short notice', '谢谢你能接受我如此仓促的造访']\n",
      "[8930725, 'thanks for seeing me on such', 'thanks for seeing me on such short notice peter', '谢谢你同意紧急召见我，Peter']\n",
      "[1583557, 'maybe this is not a good', 'maybe this is not a good idea', '-恐怕不太好吧']\n",
      "[2244071, 'maybe this is not a good', 'look ma maybe this is not a good time', '看，妈，也许这不是个好时候']\n",
      "[2351480, 'maybe this is not a good', 'maybe this is not a good time then', '也许我来的不是时候']\n",
      "[2416242, 'maybe this is not a good', 'maybe this is not a good idea  he does not', '嘿，这样不是好办法']\n",
      "[3336038, 'maybe this is not a good', 'maybe this is not a good time to discuss', '或许现在讨论这个还不合适...']\n",
      "[5814170, 'maybe this is not a good', 'yeah maybe this is not a good time', '- 这可能是一个 不合适的时间。']\n",
      "[5887866, 'maybe this is not a good', 'maybe this is not a good time', '也许现在时机还不对']\n",
      "[8821598, 'maybe this is not a good', 'maybe this is not a good idea', '這也許不是個好主意']\n",
      "[5887867, 'tell me why you woke me', 'tell me why you woke me up or i swear to god i will kill you', '赶紧说你为啥叫醒我 否则我发誓我会宰了你']\n",
      "[1301165, 'up or i swear to god', 'shut up shut up or i swear to god i will kill you', '闭嘴，否则我发誓 我会杀了你']\n",
      "[2195744, 'up or i swear to god', 'shut up or i swear to god i will fucking vaporize you', '妈的闭嘴 不然我发誓 我会宰了你的']\n",
      "[5887867, 'up or i swear to god', 'tell me why you woke me up or i swear to god i will kill you', '赶紧说你为啥叫醒我 否则我发誓我会宰了你']\n",
      "[7382349, 'up or i swear to god', 'you will fucking cough up or i swear to god you will be stuffing cuddly toys in corton vale prison faster than you can tie a bunch of fucking daffodils', '-你他妈最好供出实情 不然我对天发誓 你他妈以后在高登谷监狱填充玩具娃娃']\n",
      "[5887874, 'i have been seeing penny behind', 'i have been seeing penny behind your back', '我在背着你跟Penny见面']\n",
      "[5887907, 'oh oh good because um his', 'but i just want you to know it is fine oh oh good because um his mother called me', '哦 哦 很好 之前他妈打给我了']\n",
      "[5887909, 'yeah she wants me to take', 'yeah she wants me to take him shopping for sheets and towels', '嗯 她让我带他去买毯子和毛巾']\n",
      "[5887909, 'him shopping for sheets and towels', 'yeah she wants me to take him shopping for sheets and towels', '嗯 她让我带他去买毯子和毛巾']\n",
      "[3090884, 'i was going to do that', 'maybe you knew i was going to do that maybe you did not', '可能你早知道我会这样做 但也可能不知道']\n",
      "[3725129, 'i was going to do that', 'no but i was going to do that later', '是的,我打算稍后去.']\n",
      "[3811976, 'i was going to do that', 'i was going to do that', '- 我正打算做']\n",
      "[5742053, 'i was going to do that', 'i was going to do that in high school though', '我要做到这一点 ...在高中虽然。']\n",
      "[5887910, 'i was going to do that', 'i was going to do that', '这活该是我干啊']\n",
      "[6022901, 'i was going to do that', 'i was going to do that anyway', '我也正有此意']\n",
      "[8958971, 'i was going to do that', 'oh i was going to do that', '我還真想這麼做來著']\n",
      "[9114774, 'i was going to do that', 'hey boys remember i told you i was going to do that rockn run thing well basically i crushed it so much so that i even had a woman ask me to', '重点是 我是比赛中的英雄哟']\n",
      "[9816545, 'i was going to do that', 'i was going to do that but it all went down the drain because of a witness', '刚才是这样 不过现在有目击者没法喝了']\n",
      "[5887918, 'you are taking him to disneyland', 'you are taking him to disneyland', '你要带他去迪士尼乐园?']\n",
      "[5887919, 'well he heard me making plans', 'well he heard me making plans on the phone', '我打电话定这事儿的时候 他听到了']\n",
      "[5887921, 'if you are going to stuff', 'but let me know if you are going to stuff him with junk food', '但如果他吃了一堆垃圾食品 你得提前告诉我']\n",
      "[5887922, 'not want to bring home a', 'i do not want to bring home a nice dinner for him and see it go to waste', '我可不想给他买来份好饭 让他都给浪费了']\n",
      "[5887922, 'nice dinner for him and see', 'i do not want to bring home a nice dinner for him and see it go to waste', '我可不想给他买来份好饭 让他都给浪费了']\n",
      "[5887929, 'yeah do not let goofy near', 'yeah do not let goofy near him', '有 别让高飞狗接近他']\n",
      "[2558536, 'i will have to deal with', 'you know what i will have to deal with if i just let you leave', '如果讓你就這麼走了，我也不會好過的']\n",
      "[5887930, 'i will have to deal with', 'he will have nightmares and i will have to deal with it', '他要是做恶梦 我就没好日子过了']\n",
      "[6663195, 'i will have to deal with', 'you know about jimmy you know i will have to deal with him at some point', '关于吉米 我将来还要和他结算的']\n",
      "[8850386, 'i will have to deal with', 'i will have to deal with you later', '以后再收拾你']\n",
      "[5887931, 'what is the problem with goofy', 'what is the problem with goofy', '高飞狗能怎么他啊?']\n",
      "[5887954, 'oh um i should probably get', 'oh um i should probably get going', '呃 我该回去了']\n",
      "[825294, 'come on it is just a', 'come on it is just a joint so you never killed 2 people before', '得了 只是一根烟 你之前绝对没有杀过两个人']\n",
      "[1135758, 'come on it is just a', 'ah come on it is just a phase', '- 拜托, 这只是个成长阶段']\n",
      "[1222000, 'come on it is just a', 'come on it is just a mirror what harm can it do', '来吧 不就是面镜子嘛 会怎样呢?']\n",
      "[1255663, 'come on it is just a', 'come on it is just a figure of speech am not property frederick', '别激动，只是说法不同嘛 我不是财物']\n",
      "[1607499, 'come on it is just a', 'i am just pretending come on it is just acting', '-我装啦']\n",
      "[3381875, 'come on it is just a', 'come on it is just a hand', '来吧, 我帮你']\n",
      "[3851113, 'come on it is just a', 'come on it is just a couple of rats', '-只是几只老鼠而已']\n",
      "[4195448, 'come on it is just a', 'come on it is just another deposition', '没什么 这只不过是另一次作证']\n",
      "[4295308, 'come on it is just a', 'come on it is just a joke', '拜托，开个玩笑嘛']\n",
      "[4302276, 'come on it is just a', 'oh come on it is just a practical joke', '- 哦，拜托，就是个现实的笑话']\n",
      "[4311439, 'come on it is just a', 'come on it is just a movie', '- 拜托，就一部电影而已']\n",
      "[4691039, 'come on it is just a', 'babe come on it is just a game you set my soul alight', '亲爱的 好了 玩玩而已 干得不错!']\n",
      "[4798542, 'come on it is just a', 'come on it is just a video game and we suck at it', '得了吧 不就是个视频游戏 而且我们玩得很逊的']\n",
      "[4801163, 'come on it is just a', 'no come on it is just an off night', '- 不 别扫兴 今晚好好放个松']\n",
      "[5016100, 'come on it is just a', 'come on it is just a seatbelt', '警官，我只是没系安全带']\n",
      "[5343218, 'come on it is just a', 'so come on it is just a drink', '去吧 不就是喝一杯嘛']\n",
      "[5550641, 'come on it is just a', 'love come on it is just a kidney', '別激動 只是一個腎而已']\n",
      "[5714891, 'come on it is just a', 'come on it is just an egg roll it is not a date or anything', '走吧 就是蛋卷而已 不是约会什么的 走吧']\n",
      "[5808417, 'come on it is just a', 'come on it is just a few drops of valium', '加了几滴镇定剂而已']\n",
      "[5887955, 'come on it is just a', 'come on it is just a cup of coffee', '拜托 就喝杯咖啡啦']\n",
      "[6126287, 'come on it is just a', 'come on it is just a drink', '- 喝吧，就是個喝的']\n",
      "[6542678, 'come on it is just a', 'come on it is just a bathroom', '别这样啊 就是浴室嘛']\n",
      "[6663657, 'come on it is just a', 'oh come on it is just a garden party daddy', '别这样，爸，不过是个派对']\n",
      "[6841752, 'come on it is just a', 'oh come on it is just a joke', '得了，只是开个玩笑啊']\n",
      "[7137419, 'come on it is just a', 'oh come on it is just a simple favor', '拜托 就是帮个小忙嘛']\n",
      "[7370767, 'come on it is just a', 'come on it is just a little excess', '- 来吧， 它只是一个小过量。']\n",
      "[7399983, 'come on it is just a', 'mom come on it is just a poetry reading', '妈，别这样，只是个诗歌朗诵而已']\n",
      "[7493984, 'come on it is just a', 'no come on it is just a coincidence', '祥 祥頗腔 涴硐岆珨笱б磁奧眒']\n",
      "[7643195, 'come on it is just a', 'come on it is just a kiss', '来吧，它只是 一个吻。']\n",
      "[7695700, 'come on it is just a', 'come on it is just a head', '- 别 - 喂！ 这只是一个头']\n",
      "[7938235, 'come on it is just a', 'come on it is just a tat', '拜托 不就是个纹身嘛']\n",
      "[7988898, 'come on it is just a', 'come on it is just after nine', '来吧，这是短短九个月之后。']\n",
      "[8011710, 'come on it is just a', 'come on it is just a bummer', '- 太难过了']\n",
      "[8346127, 'come on it is just a', 'come on it is just a drink', '- 来嘛，就喝一杯']\n",
      "[8589517, 'come on it is just a', 'oh come on it is just a bit of fun', '哦，来吧，这只是一点乐趣。']\n",
      "[8941519, 'come on it is just a', 'come on it is just apple juice silly', '拜托 只是苹果汁啦 傻蛋']\n",
      "[9909414, 'come on it is just a', 'come on it is just a tomato', '吃吧 一个蕃茄而已']\n",
      "[5887956, 'a little twisted to me too', 'uh yeah the whole thing seems a little twisted to me too', '嗯 我也觉得这一切都有点费解']\n",
      "====================================================================================================\n"
     ]
    }
   ],
   "source": [
    "# Show some examples\n",
    "epi_keys = list(results.keys())\n",
    "for x in epi_keys[:2]:\n",
    "    temp = results[x]\n",
    "    print(x, len(temp))\n",
    "    for item in temp:\n",
    "        print(item)\n",
    "    print('=='*50)"
   ],
   "metadata": {
    "collapsed": false,
    "pycharm": {
     "name": "#%%\n"
    }
   }
  },
  {
   "cell_type": "code",
   "execution_count": null,
   "outputs": [],
   "source": [],
   "metadata": {
    "collapsed": false,
    "pycharm": {
     "name": "#%%\n"
    }
   }
  },
  {
   "cell_type": "code",
   "execution_count": null,
   "outputs": [],
   "source": [],
   "metadata": {
    "collapsed": false,
    "pycharm": {
     "name": "#%%\n"
    }
   }
  },
  {
   "cell_type": "code",
   "execution_count": null,
   "outputs": [],
   "source": [],
   "metadata": {
    "collapsed": false,
    "pycharm": {
     "name": "#%%\n"
    }
   }
  },
  {
   "cell_type": "code",
   "execution_count": null,
   "outputs": [],
   "source": [],
   "metadata": {
    "collapsed": false,
    "pycharm": {
     "name": "#%%\n"
    }
   }
  },
  {
   "cell_type": "code",
   "execution_count": null,
   "outputs": [],
   "source": [],
   "metadata": {
    "collapsed": false,
    "pycharm": {
     "name": "#%%\n"
    }
   }
  },
  {
   "cell_type": "code",
   "execution_count": null,
   "outputs": [],
   "source": [],
   "metadata": {
    "collapsed": false,
    "pycharm": {
     "name": "#%%\n"
    }
   }
  }
 ],
 "metadata": {
  "kernelspec": {
   "display_name": "Python 3",
   "language": "python",
   "name": "python3"
  },
  "language_info": {
   "codemirror_mode": {
    "name": "ipython",
    "version": 2
   },
   "file_extension": ".py",
   "mimetype": "text/x-python",
   "name": "python",
   "nbconvert_exporter": "python",
   "pygments_lexer": "ipython2",
   "version": "2.7.6"
  }
 },
 "nbformat": 4,
 "nbformat_minor": 0
}