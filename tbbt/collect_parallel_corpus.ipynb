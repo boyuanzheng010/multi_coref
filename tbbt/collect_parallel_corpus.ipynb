{
 "cells": [
  {
   "cell_type": "code",
   "execution_count": 3,
   "metadata": {
    "collapsed": true
   },
   "outputs": [],
   "source": [
    "import pickle as pkl\n",
    "import json\n",
    "from collections import defaultdict\n",
    "import jiwer\n",
    "from copy import deepcopy\n",
    "from tqdm import tqdm\n",
    "import xlsxwriter\n",
    "import re"
   ]
  },
  {
   "cell_type": "code",
   "execution_count": 4,
   "outputs": [],
   "source": [
    "from utils.preprocessing import organize_tbbt_by_seasons\n",
    "from utils.preprocessing import get_epi_indexs_gaps\n",
    "from utils.preprocessing import find_all_continuous_subsets\n",
    "from utils.preprocessing import calculate_gaps\n",
    "from utils.preprocessing import fetch_subsets\n",
    "from utils.alignment import string_match_sliding_window\n",
    "from utils.alignment import filter_alignment_by_gap\n",
    "from utils.alignment import turn_sub2epi_into_epi2sub\n",
    "from utils.alignment import extend_neighbors\n",
    "from utils.alignment import exact_match\n",
    "from utils.alignment import add_cleaned_exact_match_result\n",
    "from utils.alignment import full_fill_gap\n",
    "from utils.alignment import get_subset_in_gaps"
   ],
   "metadata": {
    "collapsed": false,
    "pycharm": {
     "name": "#%%\n"
    }
   }
  },
  {
   "cell_type": "code",
   "execution_count": 5,
   "outputs": [],
   "source": [
    "# Define sentence transformation\n",
    "transformation = jiwer.Compose([\n",
    "    jiwer.ToLowerCase(),\n",
    "    jiwer.RemoveMultipleSpaces(),\n",
    "    jiwer.ExpandCommonEnglishContractions(),\n",
    "    jiwer.RemovePunctuation(),\n",
    "    jiwer.Strip()\n",
    "])"
   ],
   "metadata": {
    "collapsed": false,
    "pycharm": {
     "name": "#%%\n"
    }
   }
  },
  {
   "cell_type": "markdown",
   "source": [
    "## Part 0: Load Data"
   ],
   "metadata": {
    "collapsed": false,
    "pycharm": {
     "name": "#%% md\n"
    }
   }
  },
  {
   "cell_type": "code",
   "execution_count": 6,
   "outputs": [],
   "source": [
    "# Load Open Subtitle\n",
    "with open('../open_subtitle/en_fa/en_subtitles.pkl', 'rb') as f:\n",
    "    en_subtitle = pkl.load(f)\n",
    "with open('../open_subtitle/en_fa/fa_subtitles.pkl', 'rb') as f:\n",
    "    zh_subtitle = pkl.load(f)"
   ],
   "metadata": {
    "collapsed": false,
    "pycharm": {
     "name": "#%%\n"
    }
   }
  },
  {
   "cell_type": "code",
   "execution_count": 7,
   "outputs": [],
   "source": [
    "# Load Source Transcript\n",
    "with open('original_transcript/tbbt_transcripts.pkl', 'rb') as f:\n",
    "    tbbt_transcripts = pkl.load(f)\n",
    "\n",
    "# Use the original index information to fetch the en_subset\n",
    "with open('alignment_results/fa/indexs_tbbt_fa.pkl', 'rb') as f:\n",
    "    temp = pkl.load(f)\n",
    "results = organize_tbbt_by_seasons(temp)"
   ],
   "metadata": {
    "collapsed": false,
    "pycharm": {
     "name": "#%%\n"
    }
   }
  },
  {
   "cell_type": "code",
   "execution_count": 8,
   "outputs": [],
   "source": [
    "# Exact alignment information\n",
    "with open('alignment_results/fa/final_stage_alignment_1.pkl', 'rb') as f:\n",
    "    all_alignment = pkl.load(f)"
   ],
   "metadata": {
    "collapsed": false,
    "pycharm": {
     "name": "#%%\n"
    }
   }
  },
  {
   "cell_type": "markdown",
   "source": [
    "## Part 1:Expreiment with one set\n",
    "\n",
    "In this part, we need to do the following things:\n",
    "1.Attach ZH Subtitle to Transcript\n",
    "2.Divide based on scence"
   ],
   "metadata": {
    "collapsed": false,
    "pycharm": {
     "name": "#%% md\n"
    }
   }
  },
  {
   "cell_type": "code",
   "execution_count": 9,
   "outputs": [],
   "source": [
    "\"\"\"\n",
    "Collect the data of a certain episode by scene\n",
    "\"\"\"\n",
    "def collect_parallel_corpus(tbbt_transcripts, en_subtitle, zh_subtitle, results, season_id, episode_id, all_alignment):\n",
    "    # Fetch subset data\n",
    "    (en_subset, zh_subset, tbbt_episode) = fetch_subsets(\n",
    "        episode=tbbt_transcripts,\n",
    "        en_subtitle=en_subtitle,\n",
    "        zh_subtitle=zh_subtitle,\n",
    "        results=results,\n",
    "        season_id=season_id,\n",
    "        episode_id=episode_id,\n",
    "        bias=200\n",
    "    )\n",
    "\n",
    "    # Construct the index dictionary from original index to the collected index\n",
    "    idx_dict = {}\n",
    "\n",
    "    idx = 0\n",
    "    for i, x in enumerate(tbbt_episode):\n",
    "        while True:\n",
    "            if x[0]==tbbt_transcripts[(season_id,episode_id)][idx][0] and x[1]==tbbt_transcripts[(season_id,episode_id)][idx][1]:\n",
    "                idx_dict[idx] = i\n",
    "                idx += 1\n",
    "                break\n",
    "            else:\n",
    "                idx += 1\n",
    "\n",
    "\n",
    "    ## Collect ZH subtitles to episodes\n",
    "    alignment = all_alignment[(season_id,episode_id)]\n",
    "    en_subset = en_subset\n",
    "    zh_subset = zh_subset\n",
    "\n",
    "    one_episode = []\n",
    "    # Turn episode into a dictionary form\n",
    "    for x in tbbt_episode:\n",
    "        temp = {}\n",
    "        temp['utterance'] = x[0]\n",
    "        temp['speaker'] = x[1]\n",
    "        one_episode.append(temp)\n",
    "\n",
    "    # Add subtitles into episode\n",
    "    for x in alignment:\n",
    "        en_subs = []\n",
    "        zh_subs = []\n",
    "        for item in alignment[x]:\n",
    "            en_subs.append(en_subset[item])\n",
    "            zh_subs.append(zh_subset[item])\n",
    "        one_episode[x]['en_subtitles'] = en_subs\n",
    "        one_episode[x]['zh_subtitles'] = zh_subs\n",
    "\n",
    "\n",
    "    # Store all scenes\n",
    "    scenes = []\n",
    "\n",
    "    # Iterate all episodes into one scene\n",
    "    temp = []\n",
    "    for i, x in enumerate(tbbt_transcripts[(season_id,episode_id)]):\n",
    "        if x[1]=='Scene':\n",
    "            scenes.append(temp)\n",
    "            temp = []\n",
    "        elif i in idx_dict:\n",
    "            temp.append(one_episode[idx_dict[i]])\n",
    "    scenes.pop(0)\n",
    "\n",
    "    return scenes"
   ],
   "metadata": {
    "collapsed": false,
    "pycharm": {
     "name": "#%%\n"
    }
   }
  },
  {
   "cell_type": "code",
   "execution_count": 10,
   "outputs": [
    {
     "name": "stderr",
     "output_type": "stream",
     "text": [
      "100%|██████████| 102/102 [00:00<00:00, 262.74it/s]\n"
     ]
    }
   ],
   "source": [
    "parallel_corpus = {}\n",
    "for x in tqdm(all_alignment):\n",
    "    temp = collect_parallel_corpus(tbbt_transcripts, en_subtitle, zh_subtitle, results, x[0], x[1], all_alignment)\n",
    "    parallel_corpus[x] = temp"
   ],
   "metadata": {
    "collapsed": false,
    "pycharm": {
     "name": "#%%\n"
    }
   }
  },
  {
   "cell_type": "code",
   "execution_count": 11,
   "outputs": [],
   "source": [
    "with open('parallel_corpus/tbbt_en_fa.pkl', 'wb') as f:\n",
    "    pkl.dump(parallel_corpus, f)"
   ],
   "metadata": {
    "collapsed": false,
    "pycharm": {
     "name": "#%%\n"
    }
   }
  },
  {
   "cell_type": "markdown",
   "source": [
    "## Part 3: Calculate Statistics"
   ],
   "metadata": {
    "collapsed": false,
    "pycharm": {
     "name": "#%% md\n"
    }
   }
  },
  {
   "cell_type": "code",
   "execution_count": 15,
   "outputs": [],
   "source": [
    "with open('parallel_corpus/tbbt_en_zh.pkl', 'rb') as f:\n",
    "    zh_data = pkl.load(f)"
   ],
   "metadata": {
    "collapsed": false,
    "pycharm": {
     "name": "#%%\n"
    }
   }
  },
  {
   "cell_type": "code",
   "execution_count": 16,
   "outputs": [],
   "source": [
    "with open('parallel_corpus/tbbt_en_fa.pkl', 'rb') as f:\n",
    "    fa_data = pkl.load(f)"
   ],
   "metadata": {
    "collapsed": false,
    "pycharm": {
     "name": "#%%\n"
    }
   }
  },
  {
   "cell_type": "code",
   "execution_count": 17,
   "outputs": [],
   "source": [
    "inter_keys = set(zh_data.keys()) & set(fa_data.keys())"
   ],
   "metadata": {
    "collapsed": false,
    "pycharm": {
     "name": "#%%\n"
    }
   }
  },
  {
   "cell_type": "code",
   "execution_count": 19,
   "outputs": [],
   "source": [
    "data = {}\n",
    "for x in inter_keys:\n",
    "    data[x] = zh_data[x]"
   ],
   "metadata": {
    "collapsed": false,
    "pycharm": {
     "name": "#%%\n"
    }
   }
  },
  {
   "cell_type": "code",
   "execution_count": 22,
   "outputs": [
    {
     "name": "stdout",
     "output_type": "stream",
     "text": [
      "20517\n"
     ]
    }
   ],
   "source": [
    "count = 0\n",
    "for x in data:\n",
    "    scenes = data[x]\n",
    "    # count += len(scenes)\n",
    "    for scene in scenes:\n",
    "        pass\n",
    "        # print(len(scene))\n",
    "        # print(scene)\n",
    "        # print(scene['en_subtitles'])\n",
    "        count += len(scene)\n",
    "print(count)"
   ],
   "metadata": {
    "collapsed": false,
    "pycharm": {
     "name": "#%%\n"
    }
   }
  },
  {
   "cell_type": "code",
   "execution_count": null,
   "outputs": [],
   "source": [
    "zh_data"
   ],
   "metadata": {
    "collapsed": false,
    "pycharm": {
     "name": "#%%\n"
    }
   }
  },
  {
   "cell_type": "code",
   "execution_count": 21,
   "outputs": [
    {
     "name": "stdout",
     "output_type": "stream",
     "text": [
      "96\n"
     ]
    }
   ],
   "source": [
    "print(len(data))"
   ],
   "metadata": {
    "collapsed": false,
    "pycharm": {
     "name": "#%%\n"
    }
   }
  },
  {
   "cell_type": "code",
   "execution_count": null,
   "outputs": [],
   "source": [],
   "metadata": {
    "collapsed": false,
    "pycharm": {
     "name": "#%%\n"
    }
   }
  }
 ],
 "metadata": {
  "kernelspec": {
   "display_name": "Python 3",
   "language": "python",
   "name": "python3"
  },
  "language_info": {
   "codemirror_mode": {
    "name": "ipython",
    "version": 2
   },
   "file_extension": ".py",
   "mimetype": "text/x-python",
   "name": "python",
   "nbconvert_exporter": "python",
   "pygments_lexer": "ipython2",
   "version": "2.7.6"
  }
 },
 "nbformat": 4,
 "nbformat_minor": 0
}