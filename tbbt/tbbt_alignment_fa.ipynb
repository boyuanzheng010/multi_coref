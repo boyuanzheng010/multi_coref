{
 "cells": [
  {
   "cell_type": "code",
   "execution_count": 1,
   "metadata": {
    "collapsed": true
   },
   "outputs": [],
   "source": [
    "import pickle as pkl\n",
    "import json\n",
    "from collections import defaultdict\n",
    "import jiwer\n",
    "from copy import deepcopy\n",
    "from tqdm import tqdm\n",
    "import xlsxwriter\n",
    "import re"
   ]
  },
  {
   "cell_type": "code",
   "execution_count": 2,
   "outputs": [],
   "source": [
    "from utils.preprocessing import organize_tbbt_by_seasons\n",
    "from utils.preprocessing import get_epi_indexs_gaps\n",
    "from utils.preprocessing import find_all_continuous_subsets\n",
    "from utils.preprocessing import calculate_gaps\n",
    "from utils.preprocessing import fetch_subsets\n",
    "from utils.alignment import string_match_sliding_window\n",
    "from utils.alignment import filter_alignment_by_gap\n",
    "from utils.alignment import turn_sub2epi_into_epi2sub\n",
    "from utils.alignment import extend_neighbors\n",
    "from utils.alignment import exact_match\n",
    "from utils.alignment import add_cleaned_exact_match_result\n",
    "from utils.alignment import full_fill_gap\n",
    "from utils.alignment import get_subset_in_gaps"
   ],
   "metadata": {
    "collapsed": false,
    "pycharm": {
     "name": "#%%\n"
    }
   }
  },
  {
   "cell_type": "code",
   "execution_count": 3,
   "outputs": [],
   "source": [
    "# Define sentence transformation\n",
    "transformation = jiwer.Compose([\n",
    "    jiwer.ToLowerCase(),\n",
    "    jiwer.RemoveMultipleSpaces(),\n",
    "    jiwer.ExpandCommonEnglishContractions(),\n",
    "    jiwer.RemovePunctuation(),\n",
    "    jiwer.Strip()\n",
    "])"
   ],
   "metadata": {
    "collapsed": false,
    "pycharm": {
     "name": "#%%\n"
    }
   }
  },
  {
   "cell_type": "code",
   "execution_count": 28,
   "outputs": [],
   "source": [
    "# Load Open Subtitle\n",
    "with open('../open_subtitle/en_zh/en_subtitles.pkl', 'rb') as f:\n",
    "    en_subtitle = pkl.load(f)\n",
    "with open('../open_subtitle/en_fa/fa_subtitles.pkl', 'rb') as f:\n",
    "    zh_subtitle = pkl.load(f)"
   ],
   "metadata": {
    "collapsed": false,
    "pycharm": {
     "name": "#%%\n"
    }
   }
  },
  {
   "cell_type": "code",
   "execution_count": 29,
   "outputs": [],
   "source": [
    "with open('original_transcript/tbbt_transcripts.pkl', 'rb') as f:\n",
    "    tbbt_transcripts = pkl.load(f)"
   ],
   "metadata": {
    "collapsed": false,
    "pycharm": {
     "name": "#%%\n"
    }
   }
  },
  {
   "cell_type": "code",
   "execution_count": 30,
   "outputs": [],
   "source": [
    "# Load alignment results after stage-2\n",
    "with open('alignment_results/fa/indexs_tbbt_fa.pkl', 'rb') as f:\n",
    "    temp = pkl.load(f)\n",
    "results = organize_tbbt_by_seasons(temp)"
   ],
   "metadata": {
    "collapsed": false,
    "pycharm": {
     "name": "#%%\n"
    }
   }
  },
  {
   "cell_type": "markdown",
   "source": [
    "## Perform fine-grained alignment"
   ],
   "metadata": {
    "collapsed": false,
    "pycharm": {
     "name": "#%% md\n"
    }
   }
  },
  {
   "cell_type": "markdown",
   "source": [
    "### Part 0: Load Data"
   ],
   "metadata": {
    "collapsed": false,
    "pycharm": {
     "name": "#%% md\n"
    }
   }
  },
  {
   "cell_type": "code",
   "execution_count": 31,
   "outputs": [],
   "source": [
    "(en_subset, zh_subset, tbbt_episode) = fetch_subsets(\n",
    "        episode=tbbt_transcripts,\n",
    "        en_subtitle=en_subtitle,\n",
    "        zh_subtitle=zh_subtitle,\n",
    "        results=results,\n",
    "        season_id=1,\n",
    "        episode_id=1,\n",
    "        bias=200\n",
    "    )"
   ],
   "metadata": {
    "collapsed": false,
    "pycharm": {
     "name": "#%%\n"
    }
   }
  },
  {
   "cell_type": "markdown",
   "source": [
    "#### Part 1: String Match with sliding window"
   ],
   "metadata": {
    "collapsed": false,
    "pycharm": {
     "name": "#%% md\n"
    }
   }
  },
  {
   "cell_type": "code",
   "execution_count": 7,
   "outputs": [],
   "source": [
    "# Part 1: String Match with sliding window\n",
    "def temp_string_match_sliding_window_no_filter(en_subset, episode, window_size=5):\n",
    "    res = {}\n",
    "    for i, subtitle in enumerate(en_subset):\n",
    "        subtitle = transformation(subtitle)\n",
    "        subtitle_tokens = subtitle.strip().split(\" \")\n",
    "        if len(subtitle_tokens) < window_size:\n",
    "            continue\n",
    "\n",
    "        subtitle_segments = []\n",
    "        for j in range(len(subtitle_tokens) - window_size):\n",
    "            subtitle_segments.append(\" \".join(subtitle_tokens[j: j + window_size]))\n",
    "            # print(\" \".join(subtitle_tokens[j: j+5]))\n",
    "\n",
    "        for j, (utt, speaker) in enumerate(episode):\n",
    "            utt = transformation(utt)\n",
    "            for sub_seg in subtitle_segments:\n",
    "                if sub_seg in utt:\n",
    "                    if i not in res:\n",
    "                        res[i] = set()\n",
    "                        res[i].add(j)\n",
    "                    else:\n",
    "                        res[i].add(j)\n",
    "    return res"
   ],
   "metadata": {
    "collapsed": false,
    "pycharm": {
     "name": "#%%\n"
    }
   }
  },
  {
   "cell_type": "code",
   "execution_count": 78,
   "outputs": [
    {
     "name": "stdout",
     "output_type": "stream",
     "text": [
      "Season: 1 Episode: 1 Episode Number: 50 Subtitle Number: 45\n",
      "Season: 1 Episode: 2 Episode Number: 57 Subtitle Number: 46\n",
      "Season: 1 Episode: 3 Episode Number: 42 Subtitle Number: 40\n",
      "Season: 1 Episode: 4 Episode Number: 51 Subtitle Number: 41\n",
      "Season: 1 Episode: 5 Episode Number: 49 Subtitle Number: 41\n",
      "Season: 1 Episode: 6 Episode Number: 49 Subtitle Number: 47\n",
      "Season: 1 Episode: 7 Episode Number: 52 Subtitle Number: 49\n",
      "Season: 1 Episode: 8 Episode Number: 58 Subtitle Number: 50\n",
      "Season: 1 Episode: 9 Episode Number: 38 Subtitle Number: 33\n",
      "Season: 1 Episode: 10 Episode Number: 60 Subtitle Number: 52\n",
      "Season: 1 Episode: 11 Episode Number: 38 Subtitle Number: 36\n",
      "Season: 1 Episode: 12 Episode Number: 53 Subtitle Number: 46\n",
      "Season: 1 Episode: 13 Episode Number: 57 Subtitle Number: 54\n",
      "Season: 1 Episode: 14 Episode Number: 51 Subtitle Number: 42\n",
      "Season: 1 Episode: 15 Episode Number: 47 Subtitle Number: 43\n",
      "Season: 1 Episode: 16 Episode Number: 47 Subtitle Number: 40\n",
      "Season: 2 Episode: 1 Episode Number: 59 Subtitle Number: 57\n",
      "Season: 2 Episode: 2 Episode Number: 59 Subtitle Number: 58\n",
      "Season: 2 Episode: 3 Episode Number: 47 Subtitle Number: 43\n",
      "Season: 2 Episode: 4 Episode Number: 55 Subtitle Number: 50\n",
      "Season: 2 Episode: 5 Episode Number: 53 Subtitle Number: 43\n",
      "Season: 2 Episode: 6 Episode Number: 46 Subtitle Number: 42\n",
      "Season: 2 Episode: 7 Episode Number: 69 Subtitle Number: 59\n",
      "Season: 2 Episode: 8 Episode Number: 48 Subtitle Number: 40\n",
      "Season: 2 Episode: 9 Episode Number: 68 Subtitle Number: 57\n",
      "Season: 2 Episode: 10 Episode Number: 50 Subtitle Number: 40\n",
      "Season: 2 Episode: 11 Episode Number: 55 Subtitle Number: 49\n",
      "Season: 2 Episode: 12 Episode Number: 55 Subtitle Number: 45\n",
      "Season: 2 Episode: 13 Episode Number: 55 Subtitle Number: 47\n",
      "Season: 2 Episode: 14 Episode Number: 61 Subtitle Number: 58\n",
      "Season: 2 Episode: 15 Episode Number: 61 Subtitle Number: 58\n",
      "Season: 2 Episode: 16 Episode Number: 53 Subtitle Number: 46\n",
      "Season: 2 Episode: 17 Episode Number: 80 Subtitle Number: 65\n",
      "Season: 2 Episode: 18 Episode Number: 42 Subtitle Number: 41\n",
      "Season: 2 Episode: 19 Episode Number: 46 Subtitle Number: 41\n",
      "Season: 2 Episode: 20 Episode Number: 53 Subtitle Number: 52\n",
      "Season: 2 Episode: 21 Episode Number: 53 Subtitle Number: 47\n",
      "Season: 2 Episode: 22 Episode Number: 57 Subtitle Number: 49\n",
      "Season: 2 Episode: 23 Episode Number: 68 Subtitle Number: 57\n",
      "Season: 3 Episode: 1 Episode Number: 56 Subtitle Number: 49\n",
      "Season: 3 Episode: 2 Episode Number: 59 Subtitle Number: 49\n",
      "Season: 3 Episode: 3 Episode Number: 44 Subtitle Number: 38\n",
      "Season: 3 Episode: 4 Episode Number: 46 Subtitle Number: 41\n",
      "Season: 3 Episode: 5 Episode Number: 59 Subtitle Number: 56\n",
      "Season: 3 Episode: 6 Episode Number: 50 Subtitle Number: 39\n",
      "Season: 3 Episode: 7 Episode Number: 55 Subtitle Number: 51\n",
      "Season: 3 Episode: 8 Episode Number: 44 Subtitle Number: 38\n",
      "Season: 3 Episode: 9 Episode Number: 64 Subtitle Number: 51\n",
      "Season: 3 Episode: 10 Episode Number: 70 Subtitle Number: 61\n",
      "Season: 3 Episode: 11 Episode Number: 70 Subtitle Number: 58\n",
      "Season: 3 Episode: 12 Episode Number: 59 Subtitle Number: 53\n",
      "Season: 3 Episode: 13 Episode Number: 44 Subtitle Number: 34\n",
      "Season: 3 Episode: 14 Episode Number: 37 Subtitle Number: 32\n",
      "Season: 3 Episode: 15 Episode Number: 71 Subtitle Number: 57\n",
      "Season: 3 Episode: 16 Episode Number: 71 Subtitle Number: 61\n",
      "Season: 3 Episode: 17 Episode Number: 57 Subtitle Number: 51\n",
      "Season: 3 Episode: 18 Episode Number: 63 Subtitle Number: 50\n",
      "Season: 3 Episode: 19 Episode Number: 52 Subtitle Number: 48\n",
      "Season: 3 Episode: 20 Episode Number: 55 Subtitle Number: 50\n",
      "Season: 3 Episode: 21 Episode Number: 54 Subtitle Number: 46\n",
      "Season: 3 Episode: 22 Episode Number: 45 Subtitle Number: 41\n",
      "Season: 3 Episode: 23 Episode Number: 56 Subtitle Number: 51\n",
      "Season: 4 Episode: 1 Episode Number: 64 Subtitle Number: 59\n",
      "Season: 4 Episode: 2 Episode Number: 53 Subtitle Number: 49\n",
      "Season: 4 Episode: 3 Episode Number: 72 Subtitle Number: 65\n",
      "Season: 4 Episode: 4 Episode Number: 57 Subtitle Number: 52\n",
      "Season: 4 Episode: 5 Episode Number: 74 Subtitle Number: 65\n",
      "Season: 4 Episode: 6 Episode Number: 68 Subtitle Number: 61\n",
      "Season: 4 Episode: 7 Episode Number: 77 Subtitle Number: 67\n",
      "Season: 4 Episode: 8 Episode Number: 60 Subtitle Number: 54\n",
      "Season: 4 Episode: 9 Episode Number: 84 Subtitle Number: 74\n",
      "Season: 4 Episode: 10 Episode Number: 75 Subtitle Number: 63\n",
      "Season: 4 Episode: 11 Episode Number: 48 Subtitle Number: 46\n",
      "Season: 4 Episode: 12 Episode Number: 63 Subtitle Number: 53\n",
      "Season: 4 Episode: 13 Episode Number: 71 Subtitle Number: 66\n",
      "Season: 4 Episode: 14 Episode Number: 75 Subtitle Number: 64\n",
      "Season: 4 Episode: 15 Episode Number: 64 Subtitle Number: 58\n",
      "Season: 4 Episode: 16 Episode Number: 0 Subtitle Number: 0\n",
      "Season: 4 Episode: 17 Episode Number: 81 Subtitle Number: 69\n",
      "Season: 4 Episode: 18 Episode Number: 72 Subtitle Number: 64\n",
      "Season: 4 Episode: 19 Episode Number: 74 Subtitle Number: 63\n",
      "Season: 4 Episode: 20 Episode Number: 67 Subtitle Number: 62\n",
      "Season: 4 Episode: 21 Episode Number: 58 Subtitle Number: 49\n",
      "Season: 4 Episode: 22 Episode Number: 65 Subtitle Number: 55\n",
      "Season: 4 Episode: 23 Episode Number: 64 Subtitle Number: 58\n",
      "Season: 4 Episode: 24 Episode Number: 65 Subtitle Number: 58\n",
      "Season: 5 Episode: 1 Episode Number: 57 Subtitle Number: 44\n",
      "Season: 5 Episode: 2 Episode Number: 42 Subtitle Number: 38\n",
      "Season: 5 Episode: 3 Episode Number: 45 Subtitle Number: 41\n",
      "Season: 5 Episode: 4 Episode Number: 62 Subtitle Number: 55\n",
      "Season: 5 Episode: 5 Episode Number: 66 Subtitle Number: 57\n",
      "Season: 5 Episode: 6 Episode Number: 81 Subtitle Number: 69\n",
      "Season: 5 Episode: 7 Episode Number: 45 Subtitle Number: 42\n",
      "Season: 5 Episode: 8 Episode Number: 60 Subtitle Number: 55\n",
      "Season: 5 Episode: 9 Episode Number: 55 Subtitle Number: 46\n",
      "Season: 5 Episode: 10 Episode Number: 62 Subtitle Number: 54\n",
      "Season: 5 Episode: 11 Episode Number: 66 Subtitle Number: 58\n",
      "Season: 5 Episode: 12 Episode Number: 65 Subtitle Number: 60\n",
      "Season: 5 Episode: 13 Episode Number: 63 Subtitle Number: 56\n",
      "Season: 5 Episode: 14 Episode Number: 50 Subtitle Number: 40\n",
      "Season: 5 Episode: 15 Episode Number: 71 Subtitle Number: 60\n",
      "Season: 5 Episode: 16 Episode Number: 90 Subtitle Number: 67\n",
      "Season: 5 Episode: 17 Episode Number: 52 Subtitle Number: 42\n",
      "Season: 5 Episode: 18 Episode Number: 50 Subtitle Number: 42\n",
      "Season: 5 Episode: 19 Episode Number: 83 Subtitle Number: 65\n",
      "Season: 5 Episode: 20 Episode Number: 49 Subtitle Number: 44\n",
      "Season: 5 Episode: 21 Episode Number: 62 Subtitle Number: 54\n",
      "Season: 5 Episode: 22 Episode Number: 75 Subtitle Number: 61\n",
      "Season: 5 Episode: 23 Episode Number: 55 Subtitle Number: 47\n",
      "Season: 6 Episode: 1 Episode Number: 52 Subtitle Number: 50\n",
      "Season: 6 Episode: 2 Episode Number: 51 Subtitle Number: 45\n",
      "Season: 6 Episode: 3 Episode Number: 49 Subtitle Number: 41\n",
      "Season: 6 Episode: 4 Episode Number: 45 Subtitle Number: 43\n",
      "Season: 6 Episode: 5 Episode Number: 55 Subtitle Number: 51\n",
      "Season: 6 Episode: 6 Episode Number: 63 Subtitle Number: 55\n",
      "Season: 6 Episode: 7 Episode Number: 58 Subtitle Number: 47\n",
      "Season: 6 Episode: 8 Episode Number: 52 Subtitle Number: 48\n",
      "Season: 6 Episode: 9 Episode Number: 52 Subtitle Number: 42\n",
      "Season: 6 Episode: 10 Episode Number: 58 Subtitle Number: 49\n",
      "Season: 6 Episode: 11 Episode Number: 86 Subtitle Number: 68\n",
      "Season: 6 Episode: 12 Episode Number: 69 Subtitle Number: 55\n",
      "Season: 6 Episode: 13 Episode Number: 43 Subtitle Number: 40\n",
      "Season: 6 Episode: 14 Episode Number: 58 Subtitle Number: 48\n",
      "Season: 6 Episode: 15 Episode Number: 69 Subtitle Number: 62\n",
      "Season: 6 Episode: 16 Episode Number: 74 Subtitle Number: 63\n",
      "Season: 6 Episode: 17 Episode Number: 59 Subtitle Number: 47\n",
      "Season: 6 Episode: 18 Episode Number: 66 Subtitle Number: 49\n",
      "Season: 6 Episode: 19 Episode Number: 66 Subtitle Number: 59\n",
      "Season: 6 Episode: 20 Episode Number: 55 Subtitle Number: 48\n",
      "Season: 6 Episode: 21 Episode Number: 73 Subtitle Number: 61\n",
      "Season: 6 Episode: 22 Episode Number: 50 Subtitle Number: 44\n",
      "Season: 6 Episode: 23 Episode Number: 64 Subtitle Number: 57\n",
      "Season: 6 Episode: 24 Episode Number: 73 Subtitle Number: 57\n",
      "Season: 7 Episode: 1 Episode Number: 77 Subtitle Number: 67\n",
      "Season: 7 Episode: 2 Episode Number: 65 Subtitle Number: 59\n",
      "Season: 7 Episode: 3 Episode Number: 57 Subtitle Number: 47\n",
      "Season: 7 Episode: 4 Episode Number: 80 Subtitle Number: 64\n",
      "Season: 7 Episode: 5 Episode Number: 74 Subtitle Number: 62\n",
      "Season: 7 Episode: 6 Episode Number: 61 Subtitle Number: 54\n",
      "Season: 7 Episode: 7 Episode Number: 49 Subtitle Number: 47\n",
      "Season: 7 Episode: 8 Episode Number: 77 Subtitle Number: 66\n",
      "Season: 7 Episode: 9 Episode Number: 70 Subtitle Number: 63\n",
      "Season: 7 Episode: 10 Episode Number: 70 Subtitle Number: 60\n",
      "Season: 7 Episode: 11 Episode Number: 49 Subtitle Number: 47\n",
      "Season: 7 Episode: 13 Episode Number: 65 Subtitle Number: 55\n",
      "Season: 7 Episode: 14 Episode Number: 73 Subtitle Number: 64\n",
      "Season: 7 Episode: 15 Episode Number: 52 Subtitle Number: 46\n",
      "Season: 7 Episode: 16 Episode Number: 73 Subtitle Number: 69\n",
      "Season: 7 Episode: 17 Episode Number: 77 Subtitle Number: 66\n",
      "Season: 7 Episode: 18 Episode Number: 77 Subtitle Number: 66\n",
      "Season: 7 Episode: 19 Episode Number: 74 Subtitle Number: 61\n",
      "Season: 7 Episode: 20 Episode Number: 61 Subtitle Number: 52\n",
      "Season: 7 Episode: 21 Episode Number: 67 Subtitle Number: 63\n",
      "Season: 7 Episode: 22 Episode Number: 62 Subtitle Number: 59\n",
      "Season: 7 Episode: 23 Episode Number: 66 Subtitle Number: 59\n",
      "Season: 7 Episode: 24 Episode Number: 76 Subtitle Number: 67\n",
      "Season: 8 Episode: 1 Episode Number: 63 Subtitle Number: 49\n",
      "Season: 8 Episode: 2 Episode Number: 75 Subtitle Number: 69\n",
      "Season: 8 Episode: 3 Episode Number: 64 Subtitle Number: 58\n",
      "Season: 8 Episode: 4 Episode Number: 79 Subtitle Number: 70\n",
      "Season: 8 Episode: 5 Episode Number: 63 Subtitle Number: 54\n",
      "Season: 8 Episode: 6 Episode Number: 89 Subtitle Number: 81\n",
      "Season: 8 Episode: 8 Episode Number: 72 Subtitle Number: 64\n",
      "Season: 8 Episode: 9 Episode Number: 85 Subtitle Number: 74\n",
      "Season: 8 Episode: 10 Episode Number: 77 Subtitle Number: 68\n",
      "Season: 8 Episode: 11 Episode Number: 61 Subtitle Number: 49\n",
      "Season: 8 Episode: 12 Episode Number: 69 Subtitle Number: 64\n",
      "Season: 8 Episode: 13 Episode Number: 71 Subtitle Number: 59\n",
      "Season: 8 Episode: 15 Episode Number: 55 Subtitle Number: 49\n",
      "Season: 8 Episode: 16 Episode Number: 58 Subtitle Number: 52\n",
      "Season: 8 Episode: 17 Episode Number: 69 Subtitle Number: 58\n",
      "Season: 8 Episode: 18 Episode Number: 75 Subtitle Number: 66\n",
      "Season: 8 Episode: 19 Episode Number: 70 Subtitle Number: 62\n",
      "Season: 8 Episode: 20 Episode Number: 62 Subtitle Number: 56\n",
      "Season: 8 Episode: 21 Episode Number: 80 Subtitle Number: 74\n",
      "Season: 8 Episode: 22 Episode Number: 64 Subtitle Number: 50\n",
      "Season: 8 Episode: 23 Episode Number: 67 Subtitle Number: 61\n",
      "Season: 8 Episode: 24 Episode Number: 51 Subtitle Number: 48\n",
      "Season: 9 Episode: 1 Episode Number: 44 Subtitle Number: 40\n",
      "Season: 9 Episode: 2 Episode Number: 66 Subtitle Number: 58\n",
      "Season: 9 Episode: 3 Episode Number: 62 Subtitle Number: 58\n",
      "Season: 9 Episode: 4 Episode Number: 51 Subtitle Number: 42\n",
      "Season: 9 Episode: 5 Episode Number: 52 Subtitle Number: 46\n",
      "Season: 9 Episode: 6 Episode Number: 63 Subtitle Number: 59\n",
      "Season: 9 Episode: 7 Episode Number: 65 Subtitle Number: 57\n",
      "Season: 9 Episode: 8 Episode Number: 0 Subtitle Number: 0\n",
      "Season: 9 Episode: 9 Episode Number: 71 Subtitle Number: 63\n",
      "Season: 9 Episode: 10 Episode Number: 63 Subtitle Number: 53\n",
      "Season: 9 Episode: 11 Episode Number: 50 Subtitle Number: 48\n",
      "Season: 9 Episode: 12 Episode Number: 77 Subtitle Number: 69\n",
      "Season: 9 Episode: 13 Episode Number: 62 Subtitle Number: 58\n",
      "Season: 9 Episode: 14 Episode Number: 62 Subtitle Number: 59\n",
      "Season: 9 Episode: 15 Episode Number: 55 Subtitle Number: 47\n",
      "Season: 9 Episode: 16 Episode Number: 54 Subtitle Number: 53\n",
      "Season: 9 Episode: 24 Episode Number: 59 Subtitle Number: 57\n"
     ]
    }
   ],
   "source": [
    "result_0_all = {}\n",
    "for i in range(12):\n",
    "    for j in range(30):\n",
    "        try:\n",
    "            (en_subset, zh_subset, tbbt_episode) = fetch_subsets(\n",
    "                episode=tbbt_transcripts,\n",
    "                en_subtitle=en_subtitle,\n",
    "                zh_subtitle=zh_subtitle,\n",
    "                results=results,\n",
    "                season_id=i+1,\n",
    "                episode_id=j+1,\n",
    "                bias=200\n",
    "            )\n",
    "            temp = temp_string_match_sliding_window_no_filter(en_subset, tbbt_episode, window_size=9)\n",
    "            result_0_all[(i+1,j+1)] = temp\n",
    "            print(\"Season:\", i+1,\"Episode:\", j+1, \"Episode Number:\",len(temp), \"Subtitle Number:\",len(turn_sub2epi_into_epi2sub(temp)))\n",
    "        except:\n",
    "            pass"
   ],
   "metadata": {
    "collapsed": false,
    "pycharm": {
     "name": "#%%\n"
    }
   }
  },
  {
   "cell_type": "code",
   "execution_count": 79,
   "outputs": [],
   "source": [
    "with open('alignment_part_1_string_match.pkl', 'wb') as f:\n",
    "    pkl.dump(result_0_all, f)"
   ],
   "metadata": {
    "collapsed": false,
    "pycharm": {
     "name": "#%%\n"
    }
   }
  },
  {
   "cell_type": "code",
   "execution_count": 11,
   "outputs": [],
   "source": [
    "with open('alignment_part_1_string_match.pkl', 'rb') as f:\n",
    "    result_0_all = pkl.load(f)"
   ],
   "metadata": {
    "collapsed": false,
    "pycharm": {
     "name": "#%%\n"
    }
   }
  },
  {
   "cell_type": "markdown",
   "source": [
    "### Filter the indexs obtained using sliding window string match"
   ],
   "metadata": {
    "collapsed": false,
    "pycharm": {
     "name": "#%% md\n"
    }
   }
  },
  {
   "cell_type": "markdown",
   "source": [
    "### Part 2: Strict Match"
   ],
   "metadata": {
    "collapsed": false,
    "pycharm": {
     "name": "#%% md\n"
    }
   }
  },
  {
   "cell_type": "code",
   "execution_count": 327,
   "outputs": [],
   "source": [
    "(en_subset, zh_subset, tbbt_episode) = fetch_subsets(\n",
    "        episode=tbbt_transcripts,\n",
    "        en_subtitle=en_subtitle,\n",
    "        zh_subtitle=zh_subtitle,\n",
    "        results=results,\n",
    "        season_id=1,\n",
    "        episode_id=1,\n",
    "        bias=200\n",
    "    )"
   ],
   "metadata": {
    "collapsed": false,
    "pycharm": {
     "name": "#%%\n"
    }
   }
  },
  {
   "cell_type": "code",
   "execution_count": 32,
   "outputs": [],
   "source": [
    "def exact_match(en_subset, episode):\n",
    "    res = {}\n",
    "    for i, subtitle in enumerate(en_subset):\n",
    "        subtitle = transformation(subtitle)\n",
    "        if len(subtitle.strip().split(\" \")) <=5:\n",
    "            continue\n",
    "        # Exact Match for short sentences\n",
    "        for j, (utt, speaker) in enumerate(episode):\n",
    "            utt = transformation(utt)\n",
    "            if subtitle == utt:\n",
    "                if i not in res:\n",
    "                    res[i] = set()\n",
    "                    res[i].add(j)\n",
    "                else:\n",
    "                    res[i].add(j)\n",
    "    output = {}\n",
    "    for x in res:\n",
    "        output[x] = sorted(list(res[x]))\n",
    "\n",
    "    return output"
   ],
   "metadata": {
    "collapsed": false,
    "pycharm": {
     "name": "#%%\n"
    }
   }
  },
  {
   "cell_type": "code",
   "execution_count": 106,
   "outputs": [
    {
     "name": "stdout",
     "output_type": "stream",
     "text": [
      "Season: 1 Episode: 1 Episode Number: 31 Subtitle Number: 31\n",
      "Season: 1 Episode: 2 Episode Number: 23 Subtitle Number: 23\n",
      "Season: 1 Episode: 3 Episode Number: 17 Subtitle Number: 17\n",
      "Season: 1 Episode: 4 Episode Number: 13 Subtitle Number: 13\n",
      "Season: 1 Episode: 5 Episode Number: 12 Subtitle Number: 12\n",
      "Season: 1 Episode: 6 Episode Number: 29 Subtitle Number: 29\n",
      "Season: 1 Episode: 7 Episode Number: 22 Subtitle Number: 22\n",
      "Season: 1 Episode: 8 Episode Number: 31 Subtitle Number: 31\n",
      "Season: 1 Episode: 9 Episode Number: 21 Subtitle Number: 21\n",
      "Season: 1 Episode: 10 Episode Number: 25 Subtitle Number: 25\n",
      "Season: 1 Episode: 11 Episode Number: 25 Subtitle Number: 25\n",
      "Season: 1 Episode: 12 Episode Number: 18 Subtitle Number: 18\n",
      "Season: 1 Episode: 13 Episode Number: 15 Subtitle Number: 15\n",
      "Season: 1 Episode: 14 Episode Number: 17 Subtitle Number: 17\n",
      "Season: 1 Episode: 15 Episode Number: 24 Subtitle Number: 24\n",
      "Season: 1 Episode: 16 Episode Number: 19 Subtitle Number: 19\n",
      "Season: 2 Episode: 1 Episode Number: 24 Subtitle Number: 24\n",
      "Season: 2 Episode: 2 Episode Number: 22 Subtitle Number: 22\n",
      "Season: 2 Episode: 3 Episode Number: 21 Subtitle Number: 21\n",
      "Season: 2 Episode: 4 Episode Number: 18 Subtitle Number: 18\n",
      "Season: 2 Episode: 5 Episode Number: 28 Subtitle Number: 28\n",
      "Season: 2 Episode: 6 Episode Number: 30 Subtitle Number: 30\n",
      "Season: 2 Episode: 7 Episode Number: 30 Subtitle Number: 30\n",
      "Season: 2 Episode: 8 Episode Number: 13 Subtitle Number: 13\n",
      "Season: 2 Episode: 9 Episode Number: 24 Subtitle Number: 24\n",
      "Season: 2 Episode: 10 Episode Number: 16 Subtitle Number: 16\n",
      "Season: 2 Episode: 11 Episode Number: 28 Subtitle Number: 29\n",
      "Season: 2 Episode: 12 Episode Number: 22 Subtitle Number: 22\n",
      "Season: 2 Episode: 13 Episode Number: 9 Subtitle Number: 9\n",
      "Season: 2 Episode: 14 Episode Number: 35 Subtitle Number: 35\n",
      "Season: 2 Episode: 15 Episode Number: 26 Subtitle Number: 26\n",
      "Season: 2 Episode: 16 Episode Number: 33 Subtitle Number: 33\n",
      "Season: 2 Episode: 17 Episode Number: 24 Subtitle Number: 24\n",
      "Season: 2 Episode: 18 Episode Number: 13 Subtitle Number: 13\n",
      "Season: 2 Episode: 19 Episode Number: 21 Subtitle Number: 21\n",
      "Season: 2 Episode: 20 Episode Number: 26 Subtitle Number: 26\n",
      "Season: 2 Episode: 21 Episode Number: 24 Subtitle Number: 25\n",
      "Season: 2 Episode: 22 Episode Number: 17 Subtitle Number: 17\n",
      "Season: 2 Episode: 23 Episode Number: 23 Subtitle Number: 24\n",
      "Season: 3 Episode: 1 Episode Number: 26 Subtitle Number: 27\n",
      "Season: 3 Episode: 2 Episode Number: 29 Subtitle Number: 29\n",
      "Season: 3 Episode: 3 Episode Number: 22 Subtitle Number: 22\n",
      "Season: 3 Episode: 4 Episode Number: 25 Subtitle Number: 25\n",
      "Season: 3 Episode: 5 Episode Number: 33 Subtitle Number: 33\n",
      "Season: 3 Episode: 6 Episode Number: 17 Subtitle Number: 17\n",
      "Season: 3 Episode: 7 Episode Number: 21 Subtitle Number: 21\n",
      "Season: 3 Episode: 8 Episode Number: 25 Subtitle Number: 25\n",
      "Season: 3 Episode: 9 Episode Number: 28 Subtitle Number: 28\n",
      "Season: 3 Episode: 10 Episode Number: 45 Subtitle Number: 45\n",
      "Season: 3 Episode: 11 Episode Number: 33 Subtitle Number: 33\n",
      "Season: 3 Episode: 12 Episode Number: 26 Subtitle Number: 26\n",
      "Season: 3 Episode: 13 Episode Number: 21 Subtitle Number: 21\n",
      "Season: 3 Episode: 14 Episode Number: 16 Subtitle Number: 16\n",
      "Season: 3 Episode: 15 Episode Number: 19 Subtitle Number: 19\n",
      "Season: 3 Episode: 16 Episode Number: 23 Subtitle Number: 23\n",
      "Season: 3 Episode: 17 Episode Number: 14 Subtitle Number: 14\n",
      "Season: 3 Episode: 18 Episode Number: 16 Subtitle Number: 16\n",
      "Season: 3 Episode: 19 Episode Number: 26 Subtitle Number: 26\n",
      "Season: 3 Episode: 20 Episode Number: 41 Subtitle Number: 41\n",
      "Season: 3 Episode: 21 Episode Number: 22 Subtitle Number: 22\n",
      "Season: 3 Episode: 22 Episode Number: 28 Subtitle Number: 28\n",
      "Season: 3 Episode: 23 Episode Number: 19 Subtitle Number: 19\n",
      "Season: 4 Episode: 1 Episode Number: 41 Subtitle Number: 41\n",
      "Season: 4 Episode: 2 Episode Number: 34 Subtitle Number: 34\n",
      "Season: 4 Episode: 3 Episode Number: 45 Subtitle Number: 45\n",
      "Season: 4 Episode: 4 Episode Number: 39 Subtitle Number: 39\n",
      "Season: 4 Episode: 5 Episode Number: 24 Subtitle Number: 24\n",
      "Season: 4 Episode: 6 Episode Number: 35 Subtitle Number: 35\n",
      "Season: 4 Episode: 7 Episode Number: 34 Subtitle Number: 34\n",
      "Season: 4 Episode: 8 Episode Number: 16 Subtitle Number: 16\n",
      "Season: 4 Episode: 9 Episode Number: 40 Subtitle Number: 40\n",
      "Season: 4 Episode: 10 Episode Number: 25 Subtitle Number: 25\n",
      "Season: 4 Episode: 11 Episode Number: 27 Subtitle Number: 27\n",
      "Season: 4 Episode: 12 Episode Number: 22 Subtitle Number: 22\n",
      "Season: 4 Episode: 13 Episode Number: 35 Subtitle Number: 36\n",
      "Season: 4 Episode: 14 Episode Number: 27 Subtitle Number: 27\n",
      "Season: 4 Episode: 15 Episode Number: 25 Subtitle Number: 25\n",
      "Season: 4 Episode: 16 Episode Number: 0 Subtitle Number: 0\n",
      "Season: 4 Episode: 17 Episode Number: 35 Subtitle Number: 35\n",
      "Season: 4 Episode: 18 Episode Number: 28 Subtitle Number: 28\n",
      "Season: 4 Episode: 19 Episode Number: 38 Subtitle Number: 38\n",
      "Season: 4 Episode: 20 Episode Number: 34 Subtitle Number: 34\n",
      "Season: 4 Episode: 21 Episode Number: 28 Subtitle Number: 28\n",
      "Season: 4 Episode: 22 Episode Number: 34 Subtitle Number: 34\n",
      "Season: 4 Episode: 23 Episode Number: 39 Subtitle Number: 39\n",
      "Season: 4 Episode: 24 Episode Number: 26 Subtitle Number: 26\n",
      "Season: 5 Episode: 1 Episode Number: 18 Subtitle Number: 17\n",
      "Season: 5 Episode: 2 Episode Number: 28 Subtitle Number: 28\n",
      "Season: 5 Episode: 3 Episode Number: 13 Subtitle Number: 13\n",
      "Season: 5 Episode: 4 Episode Number: 30 Subtitle Number: 30\n",
      "Season: 5 Episode: 5 Episode Number: 21 Subtitle Number: 21\n",
      "Season: 5 Episode: 6 Episode Number: 29 Subtitle Number: 29\n",
      "Season: 5 Episode: 7 Episode Number: 24 Subtitle Number: 24\n",
      "Season: 5 Episode: 8 Episode Number: 25 Subtitle Number: 25\n",
      "Season: 5 Episode: 9 Episode Number: 17 Subtitle Number: 17\n",
      "Season: 5 Episode: 10 Episode Number: 15 Subtitle Number: 15\n",
      "Season: 5 Episode: 11 Episode Number: 38 Subtitle Number: 38\n",
      "Season: 5 Episode: 12 Episode Number: 30 Subtitle Number: 30\n",
      "Season: 5 Episode: 13 Episode Number: 28 Subtitle Number: 27\n",
      "Season: 5 Episode: 14 Episode Number: 20 Subtitle Number: 20\n",
      "Season: 5 Episode: 15 Episode Number: 20 Subtitle Number: 20\n",
      "Season: 5 Episode: 16 Episode Number: 19 Subtitle Number: 19\n",
      "Season: 5 Episode: 17 Episode Number: 10 Subtitle Number: 10\n",
      "Season: 5 Episode: 18 Episode Number: 18 Subtitle Number: 18\n",
      "Season: 5 Episode: 19 Episode Number: 22 Subtitle Number: 22\n",
      "Season: 5 Episode: 20 Episode Number: 18 Subtitle Number: 18\n",
      "Season: 5 Episode: 21 Episode Number: 30 Subtitle Number: 30\n",
      "Season: 5 Episode: 22 Episode Number: 23 Subtitle Number: 23\n",
      "Season: 5 Episode: 23 Episode Number: 18 Subtitle Number: 18\n",
      "Season: 6 Episode: 1 Episode Number: 23 Subtitle Number: 23\n",
      "Season: 6 Episode: 2 Episode Number: 33 Subtitle Number: 33\n",
      "Season: 6 Episode: 3 Episode Number: 10 Subtitle Number: 10\n",
      "Season: 6 Episode: 4 Episode Number: 17 Subtitle Number: 17\n",
      "Season: 6 Episode: 5 Episode Number: 20 Subtitle Number: 20\n",
      "Season: 6 Episode: 6 Episode Number: 17 Subtitle Number: 16\n",
      "Season: 6 Episode: 7 Episode Number: 19 Subtitle Number: 19\n",
      "Season: 6 Episode: 8 Episode Number: 30 Subtitle Number: 30\n",
      "Season: 6 Episode: 9 Episode Number: 15 Subtitle Number: 15\n",
      "Season: 6 Episode: 10 Episode Number: 18 Subtitle Number: 18\n",
      "Season: 6 Episode: 11 Episode Number: 26 Subtitle Number: 26\n",
      "Season: 6 Episode: 12 Episode Number: 20 Subtitle Number: 20\n",
      "Season: 6 Episode: 13 Episode Number: 27 Subtitle Number: 27\n",
      "Season: 6 Episode: 14 Episode Number: 26 Subtitle Number: 26\n",
      "Season: 6 Episode: 15 Episode Number: 21 Subtitle Number: 21\n",
      "Season: 6 Episode: 16 Episode Number: 19 Subtitle Number: 19\n",
      "Season: 6 Episode: 17 Episode Number: 12 Subtitle Number: 12\n",
      "Season: 6 Episode: 18 Episode Number: 23 Subtitle Number: 23\n",
      "Season: 6 Episode: 19 Episode Number: 20 Subtitle Number: 20\n",
      "Season: 6 Episode: 20 Episode Number: 21 Subtitle Number: 21\n",
      "Season: 6 Episode: 21 Episode Number: 21 Subtitle Number: 21\n",
      "Season: 6 Episode: 22 Episode Number: 17 Subtitle Number: 17\n",
      "Season: 6 Episode: 23 Episode Number: 16 Subtitle Number: 16\n",
      "Season: 6 Episode: 24 Episode Number: 21 Subtitle Number: 21\n",
      "Season: 7 Episode: 1 Episode Number: 38 Subtitle Number: 38\n",
      "Season: 7 Episode: 2 Episode Number: 36 Subtitle Number: 36\n",
      "Season: 7 Episode: 3 Episode Number: 32 Subtitle Number: 32\n",
      "Season: 7 Episode: 4 Episode Number: 25 Subtitle Number: 25\n",
      "Season: 7 Episode: 5 Episode Number: 29 Subtitle Number: 29\n",
      "Season: 7 Episode: 6 Episode Number: 17 Subtitle Number: 17\n",
      "Season: 7 Episode: 7 Episode Number: 27 Subtitle Number: 27\n",
      "Season: 7 Episode: 8 Episode Number: 31 Subtitle Number: 31\n",
      "Season: 7 Episode: 9 Episode Number: 37 Subtitle Number: 37\n",
      "Season: 7 Episode: 10 Episode Number: 28 Subtitle Number: 28\n",
      "Season: 7 Episode: 11 Episode Number: 37 Subtitle Number: 37\n",
      "Season: 7 Episode: 13 Episode Number: 25 Subtitle Number: 25\n",
      "Season: 7 Episode: 14 Episode Number: 40 Subtitle Number: 40\n",
      "Season: 7 Episode: 15 Episode Number: 23 Subtitle Number: 23\n",
      "Season: 7 Episode: 16 Episode Number: 39 Subtitle Number: 39\n",
      "Season: 7 Episode: 17 Episode Number: 37 Subtitle Number: 37\n",
      "Season: 7 Episode: 18 Episode Number: 46 Subtitle Number: 46\n",
      "Season: 7 Episode: 19 Episode Number: 29 Subtitle Number: 29\n",
      "Season: 7 Episode: 20 Episode Number: 35 Subtitle Number: 36\n",
      "Season: 7 Episode: 21 Episode Number: 33 Subtitle Number: 33\n",
      "Season: 7 Episode: 22 Episode Number: 29 Subtitle Number: 29\n",
      "Season: 7 Episode: 23 Episode Number: 37 Subtitle Number: 37\n",
      "Season: 7 Episode: 24 Episode Number: 33 Subtitle Number: 33\n",
      "Season: 8 Episode: 1 Episode Number: 17 Subtitle Number: 17\n",
      "Season: 8 Episode: 2 Episode Number: 29 Subtitle Number: 29\n",
      "Season: 8 Episode: 3 Episode Number: 30 Subtitle Number: 30\n",
      "Season: 8 Episode: 4 Episode Number: 32 Subtitle Number: 32\n",
      "Season: 8 Episode: 5 Episode Number: 44 Subtitle Number: 44\n",
      "Season: 8 Episode: 6 Episode Number: 48 Subtitle Number: 47\n",
      "Season: 8 Episode: 8 Episode Number: 27 Subtitle Number: 27\n",
      "Season: 8 Episode: 9 Episode Number: 38 Subtitle Number: 38\n",
      "Season: 8 Episode: 10 Episode Number: 38 Subtitle Number: 38\n",
      "Season: 8 Episode: 11 Episode Number: 39 Subtitle Number: 39\n",
      "Season: 8 Episode: 12 Episode Number: 26 Subtitle Number: 26\n",
      "Season: 8 Episode: 13 Episode Number: 25 Subtitle Number: 25\n",
      "Season: 8 Episode: 15 Episode Number: 38 Subtitle Number: 38\n",
      "Season: 8 Episode: 16 Episode Number: 31 Subtitle Number: 31\n",
      "Season: 8 Episode: 17 Episode Number: 34 Subtitle Number: 34\n",
      "Season: 8 Episode: 18 Episode Number: 37 Subtitle Number: 37\n",
      "Season: 8 Episode: 19 Episode Number: 33 Subtitle Number: 33\n",
      "Season: 8 Episode: 20 Episode Number: 42 Subtitle Number: 42\n",
      "Season: 8 Episode: 21 Episode Number: 36 Subtitle Number: 36\n",
      "Season: 8 Episode: 22 Episode Number: 29 Subtitle Number: 29\n",
      "Season: 8 Episode: 23 Episode Number: 26 Subtitle Number: 26\n",
      "Season: 8 Episode: 24 Episode Number: 27 Subtitle Number: 27\n",
      "Season: 9 Episode: 1 Episode Number: 30 Subtitle Number: 30\n",
      "Season: 9 Episode: 2 Episode Number: 32 Subtitle Number: 32\n",
      "Season: 9 Episode: 3 Episode Number: 30 Subtitle Number: 30\n",
      "Season: 9 Episode: 4 Episode Number: 19 Subtitle Number: 19\n",
      "Season: 9 Episode: 5 Episode Number: 32 Subtitle Number: 32\n",
      "Season: 9 Episode: 6 Episode Number: 43 Subtitle Number: 43\n",
      "Season: 9 Episode: 7 Episode Number: 28 Subtitle Number: 28\n",
      "Season: 9 Episode: 8 Episode Number: 0 Subtitle Number: 0\n",
      "Season: 9 Episode: 9 Episode Number: 27 Subtitle Number: 27\n",
      "Season: 9 Episode: 10 Episode Number: 27 Subtitle Number: 27\n",
      "Season: 9 Episode: 11 Episode Number: 25 Subtitle Number: 25\n",
      "Season: 9 Episode: 12 Episode Number: 34 Subtitle Number: 34\n",
      "Season: 9 Episode: 13 Episode Number: 30 Subtitle Number: 30\n",
      "Season: 9 Episode: 14 Episode Number: 29 Subtitle Number: 29\n",
      "Season: 9 Episode: 15 Episode Number: 30 Subtitle Number: 30\n",
      "Season: 9 Episode: 16 Episode Number: 28 Subtitle Number: 28\n",
      "Season: 9 Episode: 24 Episode Number: 48 Subtitle Number: 48\n"
     ]
    }
   ],
   "source": [
    "result_1_all = {}\n",
    "for i in range(12):\n",
    "    for j in range(30):\n",
    "        try:\n",
    "            (en_subset, zh_subset, tbbt_episode) = fetch_subsets(\n",
    "                episode=tbbt_transcripts,\n",
    "                en_subtitle=en_subtitle,\n",
    "                zh_subtitle=zh_subtitle,\n",
    "                results=results,\n",
    "                season_id=i+1,\n",
    "                episode_id=j+1,\n",
    "                bias=200\n",
    "            )\n",
    "            temp = exact_match(en_subset, tbbt_episode)\n",
    "            result_1_all[(i+1,j+1)] = temp\n",
    "            print(\"Season:\", i+1,\"Episode:\", j+1, \"Episode Number:\",len(turn_sub2epi_into_epi2sub(temp)), \"Subtitle Number:\",len(temp))\n",
    "        except:\n",
    "            pass"
   ],
   "metadata": {
    "collapsed": false,
    "pycharm": {
     "name": "#%%\n"
    }
   }
  },
  {
   "cell_type": "code",
   "execution_count": 107,
   "outputs": [],
   "source": [
    "with open('alignment_part_2_strict_match.pkl', 'wb') as f:\n",
    "    pkl.dump(result_1_all, f)"
   ],
   "metadata": {
    "collapsed": false,
    "pycharm": {
     "name": "#%%\n"
    }
   }
  },
  {
   "cell_type": "code",
   "execution_count": 13,
   "outputs": [],
   "source": [
    "with open('alignment_part_2_strict_match.pkl', 'rb') as f:\n",
    "    result_1_all = pkl.load(f)"
   ],
   "metadata": {
    "collapsed": false,
    "pycharm": {
     "name": "#%%\n"
    }
   }
  },
  {
   "cell_type": "markdown",
   "source": [
    "### Converge part 1 and part 2 result as the seeds"
   ],
   "metadata": {
    "collapsed": false,
    "pycharm": {
     "name": "#%% md\n"
    }
   }
  },
  {
   "cell_type": "code",
   "execution_count": 9,
   "outputs": [],
   "source": [
    "def merge_two_dict(dict_1, dict_2):\n",
    "    res = deepcopy(dict_1)\n",
    "    for sea_epi in dict_2:\n",
    "        if sea_epi not in res:\n",
    "            res[sea_epi] = dict_2[sea_epi]\n",
    "        else:\n",
    "            temp = {}\n",
    "            for x in res[sea_epi]:\n",
    "                temp[x] = list(res[sea_epi][x])\n",
    "            # add dict 2\n",
    "            if sea_epi in dict_2:\n",
    "                for x in dict_2[sea_epi]:\n",
    "                    if x not in temp:\n",
    "                        temp[x] = sorted(list(set(dict_2[sea_epi][x])))\n",
    "                    else:\n",
    "                        temp[x].extend(dict_2[sea_epi][x])\n",
    "                    temp[x] = sorted(list(set(temp[x])))\n",
    "            res[sea_epi] = temp\n",
    "\n",
    "    output = {}\n",
    "    for x in res:\n",
    "        if res[x]!={}:\n",
    "            output[x] = res[x]\n",
    "    return output"
   ],
   "metadata": {
    "collapsed": false,
    "pycharm": {
     "name": "#%%\n"
    }
   }
  },
  {
   "cell_type": "code",
   "execution_count": 10,
   "outputs": [],
   "source": [
    "# Perform index filtering on the alignment seeds\n",
    "\"\"\"\n",
    "Filter indexs based on the index before and after\n",
    "\"\"\"\n",
    "def filter_by_idx(sub2epi):\n",
    "    paris = []\n",
    "    for x in sorted(list(sub2epi.keys())):\n",
    "        for y in sorted(sub2epi[x]):\n",
    "            paris.append([x,y])\n",
    "\n",
    "    res = [paris[0]]\n",
    "    for i in range(1, len(paris)-1):\n",
    "        former = res[-1]\n",
    "        current = paris[i]\n",
    "        after = paris[i+1]\n",
    "        if former[0] <= current[0] <= after[0]:\n",
    "            if former[1]<=current[1]<=after[1]:\n",
    "                res.append(current)\n",
    "    if paris[-1][0] >= res[-1][0]:\n",
    "        if paris[-1][1] >= res[-1][1]:\n",
    "            res.append(paris[-1])\n",
    "\n",
    "    output = {}\n",
    "    for x in res:\n",
    "        sub = x[0]\n",
    "        epi = x[1]\n",
    "        if sub not in output:\n",
    "            output[sub] = [epi]\n",
    "        else:\n",
    "            output[sub].append(epi)\n",
    "\n",
    "    return output"
   ],
   "metadata": {
    "collapsed": false,
    "pycharm": {
     "name": "#%%\n"
    }
   }
  },
  {
   "cell_type": "code",
   "execution_count": 16,
   "outputs": [],
   "source": [
    "alignment_seeds = {}\n",
    "temp = merge_two_dict(result_0_all, result_1_all)\n",
    "for x in temp:\n",
    "    alignment_seeds[x] = filter_by_idx(temp[x])"
   ],
   "metadata": {
    "collapsed": false,
    "pycharm": {
     "name": "#%%\n"
    }
   }
  },
  {
   "cell_type": "code",
   "execution_count": 240,
   "outputs": [],
   "source": [
    "with open('alignment_seeds.pkl', 'wb') as f:\n",
    "    pkl.dump(alignment_seeds, f)"
   ],
   "metadata": {
    "collapsed": false,
    "pycharm": {
     "name": "#%%\n"
    }
   }
  },
  {
   "cell_type": "code",
   "execution_count": 11,
   "outputs": [],
   "source": [
    "with open('alignment_seeds.pkl', 'rb') as f:\n",
    "    alignment_seeds = pkl.load(f)"
   ],
   "metadata": {
    "collapsed": false,
    "pycharm": {
     "name": "#%%\n"
    }
   }
  },
  {
   "cell_type": "code",
   "execution_count": 12,
   "outputs": [],
   "source": [
    "temp = []\n",
    "for x in alignment_seeds:\n",
    "    temp.append(x)"
   ],
   "metadata": {
    "collapsed": false,
    "pycharm": {
     "name": "#%%\n"
    }
   }
  },
  {
   "cell_type": "markdown",
   "source": [
    "## Part 2: Extend from Alignment Seeds"
   ],
   "metadata": {
    "collapsed": false,
    "pycharm": {
     "name": "#%% md\n"
    }
   }
  },
  {
   "cell_type": "code",
   "execution_count": 58,
   "outputs": [],
   "source": [
    "def extend_neighbors(en_subset, epi2sub_alignment_2, episode):\n",
    "    temp = {}\n",
    "    for epi_id in epi2sub_alignment_2:\n",
    "        # Define episode utterance id\n",
    "        epi_id_former = epi_id - 1\n",
    "        epi_id = epi_id\n",
    "        epi_id_latter = epi_id + 1\n",
    "\n",
    "        # Define subtitle id\n",
    "        sub_id_former = min(epi2sub_alignment_2[epi_id]) - 1\n",
    "        sub_id_latter = max(epi2sub_alignment_2[epi_id]) + 1\n",
    "        sub_ids = sorted(list(epi2sub_alignment_2[epi_id]))\n",
    "        # print(epi_id)\n",
    "        # print(epi2sub_alignment_2[epi_id])\n",
    "        # print(sub_ids)\n",
    "\n",
    "        # Check whether subtitle nearby is in the utterance\n",
    "        sub_former = transformation(en_subset[sub_id_former])\n",
    "        sub_latter = transformation(en_subset[sub_id_latter])\n",
    "        epi = transformation(episode[epi_id][0])\n",
    "\n",
    "        if sub_former in epi:\n",
    "            sub_ids.append(sub_id_former)\n",
    "            # print(epi_id, sub_id_former)\n",
    "        if sub_latter in epi:\n",
    "            sub_ids.append(sub_id_latter)\n",
    "            # print(epi_id, sub_id_latter)\n",
    "        # print(sorted(sub_ids))\n",
    "        temp[epi_id] = sorted(sub_ids)\n",
    "        # epi2sub_alignment_2[epi_id] = sorted(sub_ids)\n",
    "        # print(\"==\"*50)\n",
    "    return temp"
   ],
   "metadata": {
    "collapsed": false,
    "pycharm": {
     "name": "#%%\n"
    }
   }
  },
  {
   "cell_type": "code",
   "execution_count": 59,
   "outputs": [],
   "source": [
    "def add_strict_match_within_gaps(gaps, epi2sub):\n",
    "    for gap in gaps:\n",
    "        sub_ids = gap[1]\n",
    "        epi_ids = gap[0]\n",
    "\n",
    "        for sub_id in sub_ids:\n",
    "            sub = transformation(en_subset[sub_id].replace(\"’\", \"'\"))\n",
    "            for epi_id in epi_ids:\n",
    "                epi = transformation(tbbt_episode[epi_id][0].replace(\"’\", \"'\"))\n",
    "                if len(epi.strip().split(\" \"))<=2:\n",
    "                    continue\n",
    "                if sub == epi:\n",
    "\n",
    "                    if epi_id not in epi2sub:\n",
    "                        epi2sub[epi_id] = [sub_id]\n",
    "                    else:\n",
    "                        epi2sub[epi_id].append(sub_id)\n",
    "\n",
    "    output = {}\n",
    "    for epi_id in sorted(list(epi2sub.keys())):\n",
    "        output[epi_id] = sorted(list(set(epi2sub[epi_id])))\n",
    "\n",
    "    return output"
   ],
   "metadata": {
    "collapsed": false,
    "pycharm": {
     "name": "#%%\n"
    }
   }
  },
  {
   "cell_type": "code",
   "execution_count": 60,
   "outputs": [],
   "source": [
    "def get_optimal_wer_from_episode(ground_truth, hypothesis_pool):\n",
    "    scores = []\n",
    "    for i, hypothesis in enumerate(hypothesis_pool):\n",
    "        scores.append(jiwer.compute_measures(ground_truth, hypothesis)['wer'])\n",
    "    return min(scores), hypothesis_pool[scores.index(min(scores))], ground_truth, scores.index(min(scores))"
   ],
   "metadata": {
    "collapsed": false,
    "pycharm": {
     "name": "#%%\n"
    }
   }
  },
  {
   "cell_type": "code",
   "execution_count": 61,
   "outputs": [],
   "source": [
    "def add_wer_match_within_gaps(gaps, epi2sub, en_subset, tbbt_episode):\n",
    "    count = 0\n",
    "    for gap in gaps:\n",
    "        sub_ids = gap[1]\n",
    "        epi_ids = gap[0]\n",
    "\n",
    "        for epi_id in epi_ids:\n",
    "            best_score = 100\n",
    "            best_pair = [None, None]\n",
    "            epi = transformation(tbbt_episode[epi_id][0].replace(\"’\", \"'\"))\n",
    "            if len(epi.strip().split(\" \"))<=2:\n",
    "                continue\n",
    "            for sub_id in sub_ids:\n",
    "                sub = transformation(en_subset[sub_id].replace(\"’\", \"'\"))\n",
    "                score = jiwer.compute_measures(epi, sub)['wer']\n",
    "                if score < best_score:\n",
    "                    best_score = score\n",
    "                    best_pair = [epi_id, sub_id]\n",
    "            if best_score < 0.15:\n",
    "                count += 1\n",
    "                if best_pair[0] not in epi2sub:\n",
    "                    epi2sub[best_pair[0]] = [best_pair[1]]\n",
    "                else:\n",
    "                    epi2sub[best_pair[0]].append([best_pair[1]])\n",
    "    output = {}\n",
    "    for epi_id in sorted(list(epi2sub.keys())):\n",
    "        output[epi_id] = sorted(list(set(epi2sub[epi_id])))\n",
    "\n",
    "    return output"
   ],
   "metadata": {
    "collapsed": false,
    "pycharm": {
     "name": "#%%\n"
    }
   }
  },
  {
   "cell_type": "code",
   "execution_count": 62,
   "outputs": [],
   "source": [
    "def add_wer_substring_match_within_gaps(gaps, epi2sub, en_subset, tbbt_episode):\n",
    "    count = 0\n",
    "    pattern = r'\\.|\\?|\\!|\\;|- '\n",
    "    temp_sub2epi = {}\n",
    "    for gap in gaps:\n",
    "        # Build substrings\n",
    "        sub_ids = gap[1]\n",
    "        epi_ids = gap[0]\n",
    "        sub_lists = []\n",
    "        epi_lists = []\n",
    "\n",
    "        for epi_id in epi_ids:\n",
    "            epi = tbbt_episode[epi_id][0].replace(\"’\", \"'\")\n",
    "            epi_substring = re.split(pattern, epi)\n",
    "            for item in epi_substring:\n",
    "                if len(item.strip().split(\" \"))<=2:\n",
    "                    continue\n",
    "                temp_item = transformation(item.replace(\"-\", \" \").strip())\n",
    "                epi_lists.append([temp_item, epi_id])\n",
    "\n",
    "        for sub_id in sub_ids:\n",
    "            sub = en_subset[sub_id].replace(\"’\", \"'\")\n",
    "            sub_substring = re.split(pattern, sub)\n",
    "            for item in sub_substring:\n",
    "                if len(item.strip().split(\" \"))<=2:\n",
    "                    continue\n",
    "                temp_item = transformation(item.replace(\"-\", \" \").strip())\n",
    "                sub_lists.append([temp_item, sub_id])\n",
    "\n",
    "\n",
    "        # Calculate WER Similarity\n",
    "        for (sub, sub_id) in sub_lists:\n",
    "            for (epi, epi_id) in epi_lists:\n",
    "                cer = jiwer.cer(epi, sub)\n",
    "                if cer <= 0.2:\n",
    "                    count += 1\n",
    "                    if sub_id not in temp_sub2epi:\n",
    "                        temp_sub2epi[sub_id] = set()\n",
    "                        temp_sub2epi[sub_id].add(epi_id)\n",
    "                    else:\n",
    "                        temp_sub2epi[sub_id].add(epi_id)\n",
    "\n",
    "    for sub_id in temp_sub2epi:\n",
    "        epi_ids = list(temp_sub2epi[sub_id])\n",
    "        if len(epi_ids)!=1:\n",
    "            continue\n",
    "        epi_id = epi_ids[0]\n",
    "        if epi_id not in epi2sub:\n",
    "            epi2sub[epi_id] = [sub_id]\n",
    "        else:\n",
    "            epi2sub[epi_id].append(sub_id)\n",
    "\n",
    "    output = {}\n",
    "    for epi_id in sorted(list(epi2sub.keys())):\n",
    "        output[epi_id] = sorted(list(set(epi2sub[epi_id])))\n",
    "    return output"
   ],
   "metadata": {
    "collapsed": false,
    "pycharm": {
     "name": "#%%\n"
    }
   }
  },
  {
   "cell_type": "code",
   "execution_count": 63,
   "outputs": [],
   "source": [
    "def add_one_size_gap(gaps, epi2sub):\n",
    "    temp = {}\n",
    "    for gap in gaps:\n",
    "        sub_ids = gap[1]\n",
    "        epi_ids = gap[0]\n",
    "        if not(len(sub_ids)==1 and len(epi_ids)==1):\n",
    "            continue\n",
    "        sub_id = sub_ids[0]\n",
    "        epi_id = epi_ids[0]\n",
    "        if len(transformation(en_subset[sub_id]).strip().split(' '))==len(transformation(tbbt_episode[epi_id][0]).strip().split(' ')):\n",
    "            epi2sub[epi_id] = [sub_id]\n",
    "    output = {}\n",
    "    for epi_id in sorted(list(epi2sub.keys())):\n",
    "        output[epi_id] = sorted(list(set(epi2sub[epi_id])))\n",
    "    return output"
   ],
   "metadata": {
    "collapsed": false,
    "pycharm": {
     "name": "#%%\n"
    }
   }
  },
  {
   "cell_type": "code",
   "execution_count": 64,
   "outputs": [],
   "source": [
    "def extend_neighbors_sliding(en_subset, epi2sub_alignment_2, episode):\n",
    "    temp = {}\n",
    "    for epi_id in epi2sub_alignment_2:\n",
    "        # Define episode utterance id\n",
    "        epi_id_former = epi_id - 1\n",
    "        epi_id = epi_id\n",
    "        epi_id_latter = epi_id + 1\n",
    "        epi = transformation(episode[epi_id][0])\n",
    "\n",
    "        # Define subtitle id\n",
    "        sub_id_former = min(epi2sub_alignment_2[epi_id]) - 1\n",
    "        sub_id_latter = max(epi2sub_alignment_2[epi_id]) + 1\n",
    "        sub_ids = sorted(list(epi2sub_alignment_2[epi_id]))\n",
    "        # print(epi_id)\n",
    "        # print(epi2sub_alignment_2[epi_id])\n",
    "        # print(sub_ids)\n",
    "\n",
    "        # Check whether subtitle nearby is in the utterance\n",
    "        sub_former = transformation(en_subset[sub_id_former])\n",
    "        sub_former_tokens = sub_former.strip().split(' ')\n",
    "        sub_former_strings = []\n",
    "        for i in range(len(sub_former_tokens)-3):\n",
    "            sub_former_strings.append(\" \".join(sub_former_tokens[i: i+4]))\n",
    "        sub_former_strings.append(sub_former)\n",
    "        for item in sub_former_strings:\n",
    "            if item in epi:\n",
    "                sub_ids.append(sub_id_former)\n",
    "                break\n",
    "\n",
    "\n",
    "        sub_latter = transformation(en_subset[sub_id_latter])\n",
    "        sub_latter_tokens = sub_latter.strip().split(' ')\n",
    "        sub_latter_strings = []\n",
    "        for i in range(len(sub_latter_tokens)-3):\n",
    "            sub_latter_strings.append(\" \".join(sub_latter_tokens[i: i+4]))\n",
    "        sub_latter_strings.append(sub_latter)\n",
    "        for item in sub_latter_strings:\n",
    "            if item in epi:\n",
    "                sub_ids.append(sub_id_latter)\n",
    "                break\n",
    "\n",
    "        temp[epi_id] = sorted(sub_ids)\n",
    "    return temp"
   ],
   "metadata": {
    "collapsed": false,
    "pycharm": {
     "name": "#%%\n"
    }
   }
  },
  {
   "cell_type": "code",
   "execution_count": 65,
   "outputs": [],
   "source": [
    "\"\"\"\n",
    "Extend the former episode and latter episode near the substitle\n",
    "\"\"\"\n",
    "def extend_neighbors_subtitle_sliding(en_subset, epi2sub_alignment_2, episode):\n",
    "    temp = {}\n",
    "    sub2epi = turn_sub2epi_into_epi2sub(epi2sub_alignment_2)\n",
    "\n",
    "    for sub_id in sub2epi:\n",
    "        sub = transformation(en_subset[sub_id])\n",
    "\n",
    "        # Check whether the epi nearby is in the subtitle\n",
    "        epi_id_former = min(sub2epi[sub_id])-1\n",
    "        epi_former = transformation(episode[epi_id_former][0])\n",
    "        epi_former_tokens = epi_former.strip().split(' ')\n",
    "        epi_former_strings = []\n",
    "        for i in range(len(epi_former_tokens)-3):\n",
    "            epi_former_strings.append(\" \".join(epi_former_tokens[i: i+4]))\n",
    "        epi_former_strings.append(epi_former)\n",
    "        for item in epi_former_strings:\n",
    "            if item in sub:\n",
    "                epi_ids.append(epi_id_former)\n",
    "                break\n",
    "\n",
    "\n",
    "        epi_id_latter = max(sub2epi[sub_id])+1\n",
    "        epi_latter = transformation(episode[epi_id_latter][0])\n",
    "        epi_latter_tokens = epi_latter.strip().split(' ')\n",
    "        epi_latter_strings = []\n",
    "        for i in range(len(epi_latter_tokens)-3):\n",
    "            epi_latter_strings.append(\" \".join(epi_latter_tokens[i: i+4]))\n",
    "        epi_latter_strings.append(epi_latter)\n",
    "        for item in epi_latter_strings:\n",
    "            if item in sub:\n",
    "                epi_ids.append(epi_id_latter)\n",
    "                break\n",
    "        print(epi_former_strings)\n",
    "        print(epi_latter_strings)\n",
    "        print(sub)\n",
    "        print('=='*50)\n",
    "        temp[sub_id] = sorted(epi_ids)\n",
    "    return temp"
   ],
   "metadata": {
    "collapsed": false,
    "pycharm": {
     "name": "#%%\n"
    }
   }
  },
  {
   "cell_type": "code",
   "execution_count": 66,
   "outputs": [],
   "source": [
    "def get_alignment_extend_neighbors(tbbt, en_subtitle, other_subtitle, results, season_id, episode_id, bias):\n",
    "    # Fetch subset located by the stage-1 alignment\n",
    "    (en_subset, zh_subset, tbbt_episode) = fetch_subsets(\n",
    "        episode=tbbt,\n",
    "        en_subtitle=en_subtitle,\n",
    "        zh_subtitle=other_subtitle,\n",
    "        results=results,\n",
    "        season_id=season_id,\n",
    "        episode_id=episode_id,\n",
    "        bias=bias\n",
    "    )\n",
    "\n",
    "    # Extend the neighbors\n",
    "    epi2sub = extend_neighbors(en_subset, turn_sub2epi_into_epi2sub(alignment_seeds[(season_id,episode_id)]), tbbt_episode)\n",
    "    epi2sub = extend_neighbors(en_subset, epi2sub, tbbt_episode)\n",
    "    epi2sub = extend_neighbors(en_subset, epi2sub, tbbt_episode)\n",
    "    epi2sub = extend_neighbors(en_subset, epi2sub, tbbt_episode)\n",
    "\n",
    "    # Extend within gap using strict string match\n",
    "    gaps, abandons = get_subset_in_gaps(epi2sub)\n",
    "    epi2sub = add_strict_match_within_gaps(gaps, epi2sub)\n",
    "\n",
    "    # Extend within gap using wer\n",
    "    gaps, abandons = get_subset_in_gaps(epi2sub)\n",
    "    epi2sub = add_wer_match_within_gaps(gaps, epi2sub, en_subset, tbbt_episode)\n",
    "\n",
    "    # Extend within gap using substring cer\n",
    "    gaps, abandons = get_subset_in_gaps(epi2sub)\n",
    "    epi2sub = add_wer_substring_match_within_gaps(gaps, epi2sub, en_subset, tbbt_episode)\n",
    "\n",
    "    # Add within the gap\n",
    "    gaps, abandons = get_subset_in_gaps(epi2sub)\n",
    "    epi2sub = add_one_size_gap(gaps, epi2sub)\n",
    "\n",
    "    # # Further extend neighbors\n",
    "    # epi2sub = extend_neighbors_sliding(en_subset, epi2sub, tbbt_episode)\n",
    "    # epi2sub = extend_neighbors_sliding(en_subset, epi2sub, tbbt_episode)\n",
    "    # epi2sub = extend_neighbors_sliding(en_subset, epi2sub, tbbt_episode)\n",
    "    # epi2sub = extend_neighbors_sliding(en_subset, epi2sub, tbbt_episode)\n",
    "\n",
    "    return epi2sub"
   ],
   "metadata": {
    "collapsed": false,
    "pycharm": {
     "name": "#%%\n"
    }
   }
  },
  {
   "cell_type": "code",
   "execution_count": 74,
   "outputs": [],
   "source": [
    "with open('alignment_results/fa/alignment_seeds.pkl', 'rb') as f:\n",
    "    alignment_seeds = pkl.load(f)"
   ],
   "metadata": {
    "collapsed": false,
    "pycharm": {
     "name": "#%%\n"
    }
   }
  },
  {
   "cell_type": "code",
   "execution_count": 79,
   "outputs": [],
   "source": [
    "# Clean Alignment\n",
    "cleaned_alignment_seeds = {}\n",
    "for x in alignment_seeds:\n",
    "    temp = {}\n",
    "    sub2epi = alignment_seeds[x]\n",
    "    for sub_id in sub2epi:\n",
    "        if len(sub2epi[sub_id])==1:\n",
    "            temp[sub_id] = sub2epi[sub_id]\n",
    "    epi2sub = turn_sub2epi_into_epi2sub(temp)\n",
    "    cleaned_alignment_seeds[x] = epi2sub"
   ],
   "metadata": {
    "collapsed": false,
    "pycharm": {
     "name": "#%%\n"
    }
   }
  },
  {
   "cell_type": "code",
   "execution_count": 80,
   "outputs": [],
   "source": [
    "alignment_seeds = deepcopy(cleaned_alignment_seeds)"
   ],
   "metadata": {
    "collapsed": false,
    "pycharm": {
     "name": "#%%\n"
    }
   }
  },
  {
   "cell_type": "code",
   "execution_count": 81,
   "outputs": [
    {
     "name": "stdout",
     "output_type": "stream",
     "text": [
      "(1, 1)\n",
      "{200: [0], 217: [9], 229: [15], 231: [16], 234: [17], 242: [28], 248: [34], 250: [35], 267: [63], 269: [65], 284: [75], 294: [88], 295: [89], 296: [90], 303: [96], 309: [102], 314: [108], 326: [117], 342: [134], 343: [135], 358: [145], 361: [148], 370: [154], 373: [155], 379: [160], 388: [162], 390: [164], 395: [171], 398: [173], 401: [175], 402: [176], 403: [177], 409: [183], 412: [186], 420: [193], 427: [201], 432: [207], 433: [208], 439: [210], 444: [215], 456: [226], 457: [228], 464: [232], 470: [237], 473: [240], 476: [241], 478: [242], 482: [245], 496: [258], 497: [259], 501: [262], 509: [270], 514: [275], 519: [280], 532: [288], 539: [295], 541: [296], 542: [297], 548: [302], 550: [304], 556: [309], 561: [314]}\n",
      "(1, 2)\n",
      "{167: [2], 186: [18], 188: [20], 193: [25], 209: [39], 213: [42], 228: [49], 232: [52], 234: [54], 241: [60], 244: [61], 249: [64], 252: [65], 261: [71], 262: [72], 281: [82], 288: [90], 292: [93], 293: [94], 299: [105], 309: [115], 310: [116], 311: [117], 313: [118], 315: [120], 316: [121], 318: [123], 324: [129], 329: [134], 331: [137], 335: [140], 337: [142], 343: [147], 352: [157], 354: [159], 359: [161], 362: [164], 369: [168], 376: [173], 380: [174], 396: [178], 397: [179], 405: [186], 407: [188], 410: [190], 412: [192], 434: [208], 440: [213], 448: [219], 451: [221], 454: [222], 455: [223], 459: [226], 466: [232]}\n",
      "(1, 3)\n",
      "{182: [3], 184: [4], 202: [19], 214: [28], 218: [32], 240: [51], 242: [52], 245: [55], 247: [56], 249: [57], 252: [60], 255: [62], 267: [73], 272: [77], 275: [78], 277: [79], 279: [81], 281: [84], 301: [100], 303: [101], 305: [103], 312: [110], 314: [111], 318: [113], 332: [122], 352: [134], 382: [158], 385: [161], 389: [164], 391: [166], 425: [187], 430: [192], 433: [194], 442: [203], 455: [212], 457: [213], 468: [220], 471: [224], 485: [239], 487: [240]}\n",
      "(1, 4)\n",
      "{200: [7], 204: [10], 208: [15], 222: [19], 231: [25], 241: [35], 247: [42], 262: [52], 273: [63], 275: [64], 279: [67], 289: [77], 294: [79], 298: [80], 304: [84], 307: [86], 310: [92], 315: [95], 317: [96], 321: [99], 326: [103], 329: [104], 334: [108], 338: [111], 347: [119], 351: [121], 371: [138], 372: [139], 376: [142], 378: [146], 383: [151], 384: [152], 398: [157], 399: [158], 406: [161], 418: [167], 423: [168], 433: [174], 437: [179], 438: [180], 440: [182], 449: [190], 454: [193], 467: [206], 476: [215]}\n",
      "(1, 5)\n",
      "{189: [0], 191: [1], 193: [2], 194: [3], 197: [5], 203: [10], 209: [17], 213: [20], 216: [22], 217: [23], 218: [24], 227: [33], 235: [39], 238: [41], 240: [43], 243: [45], 259: [57], 266: [60], 271: [63], 281: [75], 284: [79], 294: [87], 297: [88], 303: [92], 310: [100], 318: [108], 320: [110], 323: [112], 329: [117], 330: [118], 342: [125], 374: [143], 377: [146], 379: [148], 382: [150], 389: [157], 390: [158], 391: [161], 397: [164], 404: [166], 411: [172], 415: [178], 420: [183], 446: [206], 448: [208], 452: [212], 453: [214], 459: [217], 461: [218], 465: [220]}\n",
      "(1, 6)\n",
      "{199: [2], 203: [5], 205: [7], 206: [8], 207: [9], 211: [14], 218: [20], 223: [26], 231: [35], 241: [49], 242: [50], 243: [51], 246: [53], 249: [57], 260: [61], 261: [62], 266: [66], 268: [68], 272: [70], 286: [80], 287: [81], 289: [83], 292: [85], 296: [88], 300: [91], 313: [101], 316: [103], 321: [106], 324: [107], 325: [108], 327: [109], 330: [112], 333: [114], 339: [118], 350: [128], 351: [132], 373: [152], 376: [155], 377: [156], 380: [158], 381: [159], 385: [161], 389: [163], 392: [166], 398: [172], 399: [173], 400: [174], 409: [182], 415: [185], 419: [189], 425: [191], 429: [196], 430: [197], 432: [198], 434: [200], 448: [210], 458: [221], 459: [222], 460: [223], 465: [225], 469: [232], 471: [234], 477: [238]}\n",
      "(1, 7)\n",
      "{195: [10], 198: [13], 200: [16], 208: [21], 209: [22], 210: [23], 213: [25], 215: [26], 224: [32], 230: [35], 241: [44], 243: [46], 245: [48], 257: [59], 259: [61], 262: [63], 263: [64], 267: [69], 273: [75], 281: [82], 282: [83], 287: [87], 289: [90], 290: [91], 292: [93], 300: [98], 304: [104], 315: [113], 318: [117], 327: [123], 332: [128], 342: [134], 367: [156], 372: [160], 384: [169], 386: [170], 392: [176], 395: [178], 399: [181], 401: [182], 407: [186], 418: [196], 424: [200], 429: [204], 432: [208], 436: [213], 437: [214], 438: [215], 440: [216], 448: [225], 453: [229], 456: [232], 462: [238], 466: [242], 468: [244], 471: [246], 474: [249], 492: [263], 493: [265], 498: [272]}\n",
      "(1, 8)\n",
      "{166: [3], 168: [6], 171: [8], 186: [22], 187: [24], 199: [35], 200: [36], 204: [41], 211: [46], 222: [54], 227: [58], 228: [59], 234: [63], 235: [64], 240: [71], 241: [72], 245: [74], 247: [75], 248: [76], 252: [78], 270: [93], 281: [102], 283: [103], 290: [108], 303: [120], 304: [122], 308: [126], 312: [128], 320: [132], 331: [141], 333: [142], 337: [143], 338: [144], 341: [146], 349: [152], 352: [154], 359: [159], 361: [160], 365: [165], 372: [172], 385: [179], 388: [180], 393: [183], 400: [189], 403: [191], 407: [194], 408: [195], 410: [199], 412: [201], 422: [209], 425: [214], 426: [215], 429: [218], 433: [221], 442: [229], 443: [230], 445: [232], 455: [239], 462: [246], 472: [256], 478: [261]}\n",
      "(1, 9)\n",
      "{211: [10], 212: [11], 213: [12], 219: [19], 226: [25], 231: [31], 237: [33], 239: [35], 240: [36], 241: [37], 242: [38], 243: [39], 245: [40], 252: [45], 258: [49], 263: [53], 266: [54], 268: [56], 278: [67], 290: [71], 291: [72], 319: [98], 336: [111], 339: [112], 346: [117], 351: [122], 358: [129], 360: [131], 370: [143], 372: [145], 399: [171], 400: [172], 412: [179], 413: [180], 414: [181], 415: [182], 419: [184], 435: [192], 450: [201], 481: [218]}\n",
      "(1, 10)\n",
      "{191: [0], 193: [1], 196: [3], 213: [16], 214: [17], 230: [33], 231: [35], 232: [36], 233: [37], 236: [41], 244: [49], 248: [52], 251: [57], 252: [58], 259: [62], 260: [63], 263: [67], 264: [69], 267: [72], 268: [73], 269: [75], 273: [78], 285: [88], 290: [90], 292: [92], 294: [94], 303: [100], 304: [101], 310: [106], 312: [108], 313: [109], 314: [110], 317: [112], 318: [113], 331: [126], 336: [133], 345: [138], 350: [140], 354: [142], 359: [148], 366: [153], 370: [157], 373: [160], 375: [161], 378: [163], 380: [165], 381: [166], 387: [171], 398: [177], 399: [178], 403: [181], 406: [182], 409: [184], 410: [186], 414: [188], 425: [195], 431: [200], 450: [213], 452: [215], 454: [217], 455: [218], 458: [220], 464: [223]}\n",
      "(1, 11)\n",
      "{193: [4], 201: [10], 223: [24], 227: [27], 229: [29], 234: [35], 245: [41], 248: [45], 250: [47], 251: [48], 253: [50], 256: [53], 262: [61], 266: [64], 268: [66], 278: [77], 306: [104], 308: [105], 330: [118], 334: [120], 336: [122], 337: [123], 338: [124], 341: [127], 353: [136], 355: [138], 362: [141], 365: [143], 379: [154], 381: [156], 385: [158], 391: [163], 400: [171], 410: [175], 411: [176], 416: [182], 420: [186], 422: [190], 433: [197], 435: [198], 447: [207], 466: [220], 469: [223], 472: [227], 473: [229], 477: [234], 481: [239], 485: [243]}\n",
      "(1, 12)\n",
      "{335: [104], 339: [107], 341: [109], 344: [111], 349: [113], 352: [118], 353: [119], 360: [125], 364: [129], 365: [130], 366: [131], 369: [133], 372: [135], 380: [141], 382: [143], 384: [144], 405: [160], 420: [169], 423: [172], 427: [178], 434: [185], 437: [186], 441: [188], 450: [194], 451: [195], 453: [197], 454: [198], 458: [201], 464: [206], 465: [207], 466: [208], 468: [210], 472: [215], 477: [219], 480: [221], 484: [224], 485: [225], 490: [228], 491: [229]}\n",
      "(1, 13)\n",
      "{207: [4], 209: [5], 212: [6], 221: [10], 222: [12], 226: [15], 231: [21], 236: [23], 241: [28], 249: [33], 255: [37], 261: [40], 263: [41], 268: [45], 271: [46], 276: [51], 280: [54], 293: [64], 297: [68], 301: [71], 302: [72], 305: [74], 308: [79], 312: [83], 313: [84], 314: [85], 315: [86], 320: [87], 323: [90], 329: [94], 330: [96], 336: [100], 338: [103], 341: [105], 346: [111], 351: [113], 352: [114], 353: [115], 357: [121], 360: [123], 363: [126], 367: [130], 369: [132], 371: [134], 374: [136], 378: [139], 386: [146], 408: [161], 410: [163], 427: [175], 432: [177], 437: [179], 441: [183], 444: [186], 445: [187], 447: [189], 456: [193], 458: [195], 465: [201], 473: [207], 478: [209], 480: [211], 481: [212], 488: [222], 491: [225], 496: [231], 503: [239], 509: [242], 514: [245]}\n",
      "(1, 14)\n",
      "{200: [0], 207: [5], 208: [6], 210: [8], 216: [14], 219: [17], 234: [33], 249: [41], 252: [43], 255: [44], 257: [46], 258: [47], 261: [49], 272: [54], 286: [67], 291: [71], 300: [76], 310: [81], 318: [85], 320: [86], 333: [97], 343: [103], 348: [106], 350: [108], 353: [110], 355: [112], 361: [115], 364: [117], 372: [123], 373: [124], 375: [125], 380: [127], 381: [128], 383: [130], 398: [140], 400: [141], 405: [143], 407: [145], 416: [154], 421: [161], 429: [166], 432: [171], 433: [172], 437: [176], 441: [179], 448: [184], 454: [189], 457: [192], 467: [198], 468: [199], 470: [201], 474: [205], 489: [211], 493: [214], 494: [215], 504: [226], 510: [229], 511: [230]}\n",
      "(1, 15)\n",
      "{176: [0], 200: [16], 210: [24], 211: [25], 225: [33], 230: [37], 235: [40], 240: [43], 241: [44], 247: [49], 255: [56], 256: [57], 257: [58], 261: [61], 263: [62], 278: [72], 281: [75], 288: [80], 289: [81], 292: [83], 298: [88], 310: [99], 334: [121], 341: [126], 343: [128], 347: [132], 349: [133], 352: [136], 353: [137], 362: [142], 367: [146], 368: [147], 371: [149], 377: [154], 379: [155], 384: [158], 385: [159], 387: [160], 390: [164], 394: [166], 395: [167], 396: [168], 398: [169], 399: [170], 405: [173], 407: [174], 411: [176], 425: [181], 429: [183], 434: [185], 448: [196], 450: [198], 476: [223], 479: [225], 481: [227], 484: [230]}\n",
      "(1, 16)\n",
      "{184: [0], 186: [2], 187: [3], 194: [6], 196: [9], 200: [12], 202: [13], 208: [19], 218: [25], 231: [33], 236: [37], 245: [43], 246: [44], 250: [47], 251: [48], 252: [49], 260: [53], 261: [54], 265: [57], 270: [59], 276: [63], 280: [67], 306: [89], 307: [91], 311: [95], 317: [102], 321: [105], 323: [107], 324: [108], 334: [116], 335: [117], 336: [118], 346: [125], 348: [127], 350: [130], 360: [136], 366: [142], 368: [144], 378: [157], 380: [158], 384: [162], 394: [170], 396: [172], 397: [173], 398: [174], 402: [179], 403: [180], 417: [191], 423: [196], 424: [197], 428: [199], 434: [204], 436: [207], 441: [211], 448: [218], 451: [220]}\n",
      "(2, 4)\n",
      "{197: [5], 210: [14], 242: [29], 288: [48], 292: [51], 297: [54], 304: [56], 332: [73], 361: [95], 366: [99], 400: [116], 401: [117], 403: [119], 407: [120], 429: [131], 435: [137], 443: [140], 448: [142], 449: [143], 460: [153], 502: [187], 503: [188], 507: [191], 512: [199], 522: [206], 528: [211], 551: [220], 552: [221], 567: [226], 570: [227], 573: [230], 576: [235], 577: [236], 585: [241], 586: [242], 613: [255]}\n",
      "(2, 6)\n",
      "{201: [3], 212: [7], 221: [10], 225: [12], 228: [16], 229: [17], 239: [23], 242: [24], 244: [27], 245: [28], 247: [30], 249: [31], 252: [33], 257: [39], 260: [40], 261: [41], 264: [42], 281: [55], 284: [60], 292: [65], 293: [66], 297: [68], 306: [75], 314: [78], 315: [79], 319: [82], 320: [83], 321: [84], 322: [85], 323: [86], 333: [96], 337: [99], 344: [104], 351: [110], 352: [112], 369: [126], 383: [138], 384: [139], 385: [140], 390: [144], 392: [145], 394: [148], 402: [153], 404: [155], 405: [157], 406: [158], 420: [170], 422: [172], 429: [179], 430: [180], 431: [181], 439: [188], 443: [192], 446: [196], 448: [198], 450: [200], 455: [204], 460: [208], 469: [218], 471: [220], 477: [224]}\n",
      "(2, 8)\n",
      "{170: [0], 171: [1], 172: [2], 175: [5], 179: [8], 194: [15], 195: [16], 196: [17], 198: [18], 200: [20], 206: [23], 207: [24], 213: [30], 222: [38], 225: [40], 227: [41], 229: [42], 231: [43], 235: [46], 237: [49], 241: [54], 242: [55], 244: [56], 245: [57], 247: [58], 248: [59], 251: [60], 254: [62], 263: [69], 264: [70], 274: [74], 277: [77], 284: [83], 288: [86], 291: [89], 292: [91], 294: [93], 298: [97], 303: [101], 306: [104], 308: [106], 315: [115], 317: [117], 318: [119], 319: [120], 324: [123], 332: [132], 343: [142], 348: [144], 357: [148], 360: [152], 369: [165], 371: [167], 393: [185], 399: [190], 410: [194], 420: [206], 427: [215]}\n",
      "(2, 9)\n",
      "{202: [4], 208: [8], 211: [12], 214: [14], 216: [16], 222: [22], 226: [24], 231: [26], 234: [29], 260: [49], 270: [54], 275: [57], 278: [59], 279: [60], 280: [61], 282: [62], 283: [63], 291: [68], 293: [70], 307: [82], 308: [83], 310: [84], 321: [89], 325: [90], 326: [91], 330: [97], 335: [103], 343: [107], 344: [108], 348: [110], 349: [111], 350: [112], 351: [113], 352: [114], 353: [115], 357: [119], 358: [120], 361: [123], 362: [124], 363: [125], 366: [126], 368: [127], 376: [135], 389: [142], 392: [143], 396: [149], 403: [154], 410: [160], 415: [166], 417: [168], 419: [169], 423: [171], 424: [172], 426: [174], 431: [177], 439: [185], 442: [189], 447: [194], 454: [198], 456: [200], 459: [201]}\n",
      "(3, 21)\n",
      "{204: [10], 209: [15], 212: [17], 213: [18], 215: [20], 223: [25], 231: [29], 236: [32], 237: [33], 240: [35], 246: [37], 259: [43], 261: [45], 262: [47], 264: [49], 272: [53], 274: [55], 276: [57], 285: [60], 290: [61], 293: [63], 313: [69], 321: [73], 329: [79], 351: [86], 355: [89], 378: [104], 379: [105], 386: [112], 389: [114], 398: [123], 399: [126], 403: [128], 410: [132], 413: [134], 414: [135], 421: [143], 422: [145], 434: [150], 437: [152], 439: [154], 447: [162], 449: [163], 461: [173], 464: [175], 465: [176], 477: [181], 479: [184], 482: [186], 483: [187], 484: [188], 493: [199], 495: [201], 513: [216], 530: [231], 537: [238], 540: [241], 547: [246], 548: [247], 554: [253], 555: [254]}\n",
      "(3, 23)\n",
      "{193: [3], 200: [7], 207: [11], 208: [12], 212: [15], 218: [20], 220: [21], 227: [26], 244: [41], 252: [48], 256: [52], 265: [59], 279: [68], 281: [70], 289: [75], 291: [77], 296: [82], 298: [85], 302: [87], 304: [89], 305: [90], 307: [91], 320: [100], 323: [105], 331: [111], 342: [121], 349: [126], 353: [128], 355: [129], 362: [134], 364: [135], 373: [141], 377: [144], 378: [145], 392: [157], 397: [162], 399: [163], 405: [169], 407: [170], 417: [178], 432: [192], 451: [206], 452: [207], 454: [208], 456: [209], 459: [211], 468: [216], 470: [218], 478: [225], 482: [229], 484: [232], 486: [234], 495: [238], 501: [240], 502: [241], 503: [242], 505: [243], 506: [244], 508: [246]}\n",
      "(4, 1)\n",
      "{177: [3], 181: [6], 182: [7], 185: [9], 190: [13], 192: [16], 200: [24], 202: [25], 203: [26], 209: [29], 226: [36], 245: [46], 246: [47], 253: [50], 254: [51], 255: [52], 259: [54], 261: [55], 262: [56], 266: [60], 267: [61], 273: [66], 276: [72], 282: [75], 285: [77], 286: [78], 288: [80], 290: [82], 303: [95], 306: [98], 321: [109], 322: [110], 324: [111], 329: [116], 330: [117], 337: [124], 345: [132], 348: [135], 353: [139], 364: [149], 369: [153], 377: [161], 381: [163], 386: [169], 390: [176], 401: [183], 405: [185], 410: [187], 414: [189], 416: [193], 417: [194], 418: [196], 419: [198], 421: [200], 423: [201], 425: [202], 432: [205], 452: [221], 453: [222], 455: [225], 459: [227], 461: [228], 462: [229], 463: [230], 465: [232], 470: [235], 474: [237], 478: [240]}\n",
      "(4, 3)\n",
      "{200: [1], 207: [6], 213: [11], 216: [13], 222: [16], 227: [19], 230: [22], 237: [24], 240: [26], 257: [30], 263: [33], 271: [40], 281: [51], 291: [59], 292: [60], 297: [62], 298: [63], 308: [69], 311: [71], 316: [74], 319: [77], 321: [78], 322: [79], 329: [84], 330: [85], 334: [87], 340: [91], 348: [96], 356: [102], 357: [103], 358: [104], 361: [107], 375: [122], 377: [124], 383: [133], 385: [135], 387: [136], 389: [138], 396: [142], 397: [143], 399: [144], 400: [145], 401: [146], 410: [157], 412: [158], 418: [163], 421: [164], 427: [169], 430: [170], 431: [171], 435: [176], 436: [177], 437: [178], 441: [181], 442: [182], 450: [189], 454: [194], 458: [203], 460: [205], 462: [206], 475: [211], 486: [214], 488: [217], 504: [228], 507: [230], 510: [232], 513: [233], 521: [240], 523: [241], 529: [244], 535: [248], 542: [254], 545: [255], 546: [256], 548: [259], 550: [260], 551: [261], 555: [263], 556: [264], 560: [265], 563: [266]}\n",
      "(4, 4)\n",
      "{199: [0], 203: [2], 207: [3], 208: [4], 209: [5], 226: [14], 231: [18], 238: [22], 241: [24], 246: [29], 248: [30], 252: [33], 258: [37], 261: [39], 270: [46], 274: [49], 276: [50], 279: [52], 289: [58], 292: [61], 293: [62], 297: [64], 300: [66], 312: [75], 313: [76], 314: [78], 315: [79], 322: [87], 324: [89], 325: [90], 328: [93], 329: [94], 343: [102], 352: [109], 353: [110], 355: [111], 372: [122], 378: [128], 380: [131], 383: [133], 386: [135], 388: [137], 394: [142], 402: [144], 411: [152], 414: [153], 416: [155], 426: [162], 429: [164], 437: [169], 443: [176], 445: [178], 462: [188], 469: [191], 477: [197], 480: [200], 483: [204], 486: [205], 489: [207], 491: [209], 495: [213], 496: [214], 530: [235], 536: [237], 543: [242], 547: [244], 549: [246]}\n",
      "(4, 5)\n",
      "{176: [0], 178: [1], 184: [5], 188: [6], 192: [9], 194: [11], 197: [13], 204: [18], 207: [20], 210: [22], 219: [28], 220: [29], 227: [35], 231: [37], 246: [48], 255: [56], 257: [57], 259: [59], 265: [67], 268: [70], 273: [73], 276: [77], 278: [78], 280: [79], 286: [82], 303: [97], 309: [104], 322: [111], 323: [112], 342: [125], 343: [126], 349: [129], 350: [130], 353: [132], 354: [133], 355: [134], 356: [135], 359: [139], 362: [143], 363: [144], 369: [147], 379: [153], 382: [156], 385: [159], 386: [160], 390: [162], 406: [171], 436: [179], 440: [183], 452: [191], 454: [192], 458: [196], 459: [197], 460: [198], 468: [204], 469: [205], 470: [206], 476: [209], 477: [210], 478: [211], 484: [215], 485: [216], 493: [221], 494: [223], 496: [224]}\n",
      "(4, 6)\n",
      "{199: [10], 200: [11], 201: [12], 202: [13], 215: [22], 222: [31], 223: [32], 224: [33], 229: [37], 238: [43], 243: [48], 249: [53], 251: [54], 259: [56], 277: [64], 278: [65], 281: [67], 287: [72], 288: [73], 291: [77], 293: [78], 298: [81], 302: [84], 323: [97], 327: [100], 328: [101], 333: [104], 335: [106], 340: [107], 343: [112], 347: [115], 353: [118], 354: [119], 356: [121], 358: [123], 366: [129], 374: [135], 376: [137], 377: [139], 381: [142], 382: [143], 387: [147], 402: [158], 403: [159], 407: [162], 408: [163], 416: [174], 423: [180], 426: [182], 431: [184], 432: [186], 437: [189], 439: [191], 440: [192], 441: [193], 443: [194], 447: [199], 454: [204], 459: [207], 461: [208], 462: [209], 463: [210], 467: [215], 469: [216], 471: [218], 478: [225], 479: [226], 480: [227], 484: [230], 487: [231], 488: [232], 493: [237], 498: [239], 502: [242]}\n",
      "(4, 8)\n",
      "{187: [4], 190: [6], 193: [7], 195: [8], 197: [10], 199: [11], 200: [12], 205: [15], 210: [17], 212: [19], 223: [20], 227: [23], 233: [28], 236: [29], 241: [32], 243: [33], 246: [35], 259: [49], 263: [51], 266: [53], 273: [60], 283: [69], 292: [74], 294: [75], 298: [79], 301: [81], 307: [84], 313: [86], 315: [87], 318: [88], 320: [89], 323: [91], 325: [92], 329: [95], 335: [99], 341: [102], 348: [108], 353: [111], 355: [113], 361: [118], 367: [121], 374: [124], 402: [134], 403: [135], 411: [139], 413: [141], 420: [144], 422: [145], 434: [154], 441: [159], 445: [161], 448: [163], 455: [168], 457: [169], 459: [171], 462: [174], 464: [176], 465: [177], 467: [180], 474: [187], 479: [190], 482: [195], 483: [196], 485: [198], 488: [200], 490: [202], 491: [203], 496: [207]}\n",
      "(4, 16)\n",
      "{206: [2], 217: [10], 218: [11], 222: [13], 228: [19], 232: [21], 235: [24], 236: [26], 245: [33], 258: [40], 261: [43], 266: [47], 267: [49], 281: [57], 283: [58], 288: [62], 293: [68], 300: [76], 302: [78], 320: [86], 325: [91], 326: [92], 329: [95], 338: [98], 345: [105], 347: [108], 361: [121], 364: [123], 368: [127], 369: [128], 371: [129], 391: [137], 398: [143], 407: [148], 410: [150], 411: [151], 413: [152], 421: [156], 427: [160], 440: [166], 444: [169], 451: [171], 454: [174], 455: [175], 461: [182], 477: [193], 481: [196], 488: [200], 496: [207], 497: [209], 506: [218], 510: [222], 515: [225]}\n",
      "(4, 19)\n",
      "{192: [0], 198: [7], 201: [9], 203: [10], 216: [21], 217: [22], 223: [25], 228: [30], 234: [33], 235: [34], 245: [36], 246: [37], 247: [38], 250: [40], 266: [46], 267: [47], 268: [48], 278: [57], 286: [61], 290: [64], 293: [65], 297: [66], 298: [68], 305: [72], 311: [76], 312: [77], 314: [78], 315: [79], 317: [80], 320: [81], 322: [82], 325: [84], 326: [85], 331: [88], 340: [94], 349: [100], 363: [111], 364: [112], 365: [113], 372: [119], 376: [122], 381: [125], 382: [126], 391: [132], 392: [133], 394: [134], 398: [136], 401: [137], 409: [141], 411: [143], 417: [148], 418: [149], 428: [155], 443: [161], 452: [166], 454: [169], 460: [172], 463: [173], 464: [174], 472: [179], 480: [186], 482: [187], 483: [189], 484: [191], 485: [192], 503: [207], 504: [208], 509: [215], 516: [222], 520: [225], 526: [233], 529: [235], 532: [237]}\n",
      "(4, 21)\n",
      "{199: [0], 201: [1], 209: [7], 210: [8], 221: [17], 225: [21], 229: [23], 241: [27], 243: [29], 245: [30], 246: [31], 249: [33], 253: [35], 256: [37], 263: [41], 267: [44], 269: [45], 281: [53], 288: [59], 293: [60], 297: [63], 303: [65], 307: [68], 309: [70], 312: [71], 321: [77], 335: [86], 348: [93], 351: [95], 360: [100], 361: [101], 362: [102], 363: [103], 369: [107], 383: [119], 385: [121], 387: [122], 398: [131], 401: [133], 402: [134], 406: [138], 412: [142], 413: [143], 414: [145], 415: [146], 418: [147], 419: [148], 424: [151], 429: [154], 431: [155], 433: [156], 434: [157], 440: [160], 441: [161], 442: [162], 443: [163], 448: [168], 454: [175], 465: [193], 469: [195], 474: [199], 478: [201]}\n",
      "(4, 22)\n",
      "{190: [0], 192: [2], 196: [4], 200: [8], 204: [10], 209: [14], 218: [19], 228: [23], 237: [28], 239: [29], 241: [30], 242: [31], 244: [33], 247: [35], 249: [37], 257: [40], 258: [41], 263: [46], 266: [49], 268: [50], 269: [51], 277: [59], 282: [65], 289: [70], 290: [71], 295: [74], 303: [77], 305: [78], 308: [81], 320: [88], 322: [89], 329: [95], 331: [97], 349: [111], 354: [115], 380: [132], 382: [133], 384: [135], 389: [137], 394: [141], 400: [145], 408: [152], 411: [154], 413: [156], 417: [158], 433: [164], 434: [165], 436: [167], 437: [169], 440: [171], 446: [176], 447: [177], 469: [193], 482: [205], 495: [212], 500: [217], 503: [219], 504: [220], 505: [221], 530: [236], 538: [239]}\n",
      "(4, 23)\n",
      "{194: [2], 195: [3], 214: [16], 226: [24], 229: [27], 230: [28], 231: [29], 232: [30], 235: [32], 240: [35], 241: [36], 242: [37], 252: [46], 257: [52], 260: [54], 274: [67], 299: [81], 302: [83], 305: [85], 311: [88], 312: [89], 314: [91], 324: [99], 328: [102], 330: [104], 333: [105], 338: [107], 340: [109], 344: [111], 347: [113], 350: [115], 355: [119], 360: [124], 362: [125], 365: [127], 370: [132], 372: [134], 377: [137], 378: [139], 381: [142], 387: [145], 392: [149], 395: [151], 404: [156], 409: [160], 412: [162], 414: [163], 415: [164], 417: [166], 418: [167], 420: [168], 421: [170], 434: [180], 450: [192], 453: [195], 454: [196], 459: [202], 460: [203], 462: [205], 463: [206], 465: [209], 468: [212], 476: [220], 479: [222], 484: [227], 486: [229], 491: [233], 498: [237]}\n",
      "(4, 24)\n",
      "{194: [0], 203: [8], 206: [10], 209: [12], 212: [14], 214: [16], 220: [21], 221: [24], 223: [25], 231: [31], 237: [33], 255: [43], 259: [47], 269: [55], 273: [59], 279: [62], 287: [65], 288: [66], 289: [67], 290: [68], 291: [70], 293: [72], 296: [74], 301: [76], 317: [87], 327: [96], 332: [100], 341: [104], 343: [105], 348: [110], 349: [112], 350: [113], 359: [117], 363: [118], 368: [121], 378: [126], 379: [127], 388: [132], 394: [135], 398: [138], 400: [139], 413: [148], 414: [149], 430: [158], 434: [160], 444: [164], 449: [167], 458: [172], 463: [175], 467: [177], 479: [187], 487: [195], 492: [199], 496: [201], 499: [204], 513: [215], 514: [217], 517: [219], 520: [222]}\n",
      "(5, 2)\n",
      "{176: [1], 191: [8], 195: [10], 204: [16], 206: [17], 207: [18], 210: [28], 211: [29], 213: [31], 215: [33], 217: [35], 228: [42], 235: [48], 260: [59], 265: [63], 267: [65], 269: [67], 270: [68], 274: [70], 280: [74], 282: [75], 292: [81], 294: [82], 295: [84], 307: [93], 311: [96], 349: [114], 365: [129], 370: [134], 373: [135], 380: [141], 382: [142], 386: [147], 388: [151], 389: [152], 392: [155], 395: [158], 396: [159], 406: [161], 416: [168], 423: [172], 429: [176], 433: [180], 449: [191], 450: [192], 456: [198], 458: [200], 460: [202], 463: [204], 467: [206], 469: [209]}\n",
      "(5, 6)\n",
      "{182: [1], 184: [2], 193: [5], 194: [6], 198: [8], 214: [17], 218: [21], 231: [27], 234: [30], 237: [31], 253: [36], 255: [37], 257: [38], 258: [39], 259: [40], 263: [43], 264: [44], 265: [45], 273: [50], 277: [52], 284: [58], 297: [63], 298: [64], 304: [70], 307: [72], 317: [78], 324: [83], 326: [84], 327: [85], 328: [86], 332: [87], 335: [88], 337: [90], 341: [92], 342: [93], 353: [97], 354: [98], 355: [99], 356: [100], 358: [102], 374: [110], 375: [111], 377: [112], 385: [117], 386: [118], 391: [121], 395: [124], 398: [126], 400: [128], 401: [129], 403: [131], 408: [133], 409: [134], 410: [135], 417: [138], 418: [139], 419: [140], 437: [148], 456: [155], 457: [156], 467: [158], 469: [159], 473: [162], 475: [164], 479: [168], 481: [170], 482: [171], 484: [173], 486: [174], 493: [179], 494: [180], 495: [181], 500: [184]}\n",
      "(5, 12)\n",
      "{202: [1], 205: [3], 207: [4], 209: [6], 211: [7], 218: [10], 222: [12], 223: [13], 226: [14], 233: [19], 239: [21], 240: [22], 241: [23], 243: [25], 250: [28], 251: [29], 256: [32], 259: [34], 264: [37], 268: [39], 270: [40], 274: [41], 276: [43], 281: [45], 283: [46], 292: [51], 293: [52], 304: [58], 309: [60], 312: [61], 317: [65], 318: [66], 319: [67], 320: [68], 334: [77], 335: [78], 338: [81], 339: [82], 342: [84], 348: [87], 353: [91], 354: [92], 355: [93], 378: [105], 381: [107], 391: [109], 394: [111], 395: [113], 396: [114], 399: [117], 403: [119], 409: [122], 415: [126], 418: [129], 432: [136], 440: [139], 441: [140], 446: [144], 448: [145], 449: [146], 453: [148], 459: [151], 460: [152], 463: [156], 472: [162], 478: [163], 487: [172], 489: [173], 490: [174], 492: [175], 493: [176], 496: [178], 497: [180], 500: [184]}\n",
      "(5, 14)\n",
      "{184: [2], 186: [4], 188: [6], 198: [8], 200: [10], 212: [16], 217: [19], 235: [27], 236: [28], 242: [31], 245: [33], 266: [44], 271: [48], 275: [49], 280: [54], 288: [59], 289: [60], 292: [62], 294: [64], 296: [65], 302: [69], 311: [77], 315: [80], 319: [81], 320: [82], 323: [86], 338: [94], 339: [95], 345: [101], 348: [104], 357: [110], 377: [119], 382: [124], 384: [126], 385: [127], 408: [136], 432: [148], 437: [151], 442: [154], 446: [157], 448: [158], 450: [159], 455: [162], 466: [171]}\n",
      "(5, 15)\n",
      "{184: [4], 190: [6], 191: [7], 196: [9], 200: [10], 212: [16], 218: [19], 221: [21], 228: [25], 240: [29], 242: [30], 246: [32], 247: [33], 260: [40], 261: [41], 274: [48], 276: [49], 278: [52], 279: [53], 283: [56], 286: [58], 289: [59], 294: [62], 317: [70], 323: [73], 330: [78], 334: [80], 335: [81], 337: [82], 342: [84], 350: [89], 354: [92], 361: [96], 363: [98], 365: [100], 366: [101], 371: [106], 375: [108], 377: [109], 382: [112], 386: [115], 391: [118], 396: [120], 398: [121], 411: [125], 415: [127], 419: [129], 433: [137], 436: [139], 447: [146], 448: [147], 449: [148], 454: [149], 461: [152], 462: [153], 470: [158], 474: [159], 475: [160], 476: [161], 481: [166], 484: [168], 491: [172], 492: [173], 493: [174], 498: [177], 504: [181], 510: [185]}\n",
      "(5, 20)\n",
      "{185: [0], 191: [3], 200: [7], 207: [10], 221: [20], 237: [29], 238: [30], 239: [31], 240: [32], 245: [37], 251: [42], 254: [43], 261: [52], 269: [57], 272: [59], 283: [65], 293: [74], 297: [76], 299: [77], 301: [78], 305: [81], 308: [84], 310: [85], 324: [99], 326: [100], 328: [101], 329: [102], 335: [105], 340: [109], 364: [114], 367: [116], 368: [117], 371: [119], 374: [121], 376: [123], 380: [127], 384: [131], 398: [138], 403: [141], 405: [142], 408: [144], 434: [157], 439: [160], 442: [161], 448: [165], 462: [172], 473: [181], 493: [195], 497: [197], 507: [204], 510: [207], 521: [216], 522: [217]}\n",
      "(5, 23)\n",
      "{178: [2], 181: [3], 204: [11], 208: [14], 209: [15], 215: [19], 217: [21], 228: [27], 229: [28], 241: [33], 245: [36], 246: [37], 248: [38], 261: [44], 265: [50], 267: [51], 285: [60], 286: [61], 288: [62], 295: [66], 298: [67], 301: [68], 302: [69], 307: [73], 310: [76], 316: [80], 317: [81], 318: [82], 324: [85], 329: [88], 330: [89], 340: [93], 341: [94], 344: [96], 353: [99], 357: [101], 360: [103], 376: [109], 381: [113], 383: [114], 386: [116], 405: [127], 413: [132], 417: [134], 420: [136], 424: [138], 427: [140], 428: [141], 431: [142], 439: [146], 441: [148], 453: [155], 483: [170], 495: [177], 497: [178], 499: [180], 510: [190], 512: [192], 515: [194]}\n",
      "(6, 2)\n",
      "{195: [0], 199: [3], 200: [4], 203: [7], 204: [8], 211: [12], 217: [17], 223: [23], 224: [24], 226: [26], 230: [27], 236: [30], 244: [33], 246: [34], 248: [35], 252: [38], 266: [46], 270: [49], 273: [51], 277: [58], 279: [60], 280: [61], 284: [63], 289: [66], 290: [67], 291: [68], 292: [69], 301: [76], 309: [81], 315: [84], 316: [86], 325: [90], 332: [92], 333: [93], 358: [111], 365: [115], 375: [125], 376: [126], 377: [127], 379: [128], 381: [130], 387: [134], 391: [136], 393: [137], 396: [138], 398: [139], 401: [142], 409: [144], 410: [145], 414: [150], 420: [154], 435: [165], 443: [171], 446: [173], 447: [174], 458: [182], 470: [189], 472: [190], 474: [192], 477: [194], 479: [196], 484: [200], 496: [215], 497: [216], 511: [222], 513: [225]}\n",
      "(6, 3)\n",
      "{189: [2], 191: [3], 198: [8], 211: [16], 221: [23], 224: [26], 236: [33], 237: [34], 242: [37], 250: [41], 256: [44], 263: [46], 287: [56], 302: [66], 309: [69], 313: [72], 328: [81], 332: [82], 342: [87], 345: [88], 357: [97], 359: [100], 370: [106], 371: [107], 375: [109], 383: [116], 385: [117], 390: [121], 394: [126], 407: [134], 409: [136], 411: [138], 426: [148], 429: [151], 442: [157], 444: [159], 446: [160], 450: [161], 452: [162], 460: [166], 463: [167], 481: [174], 491: [181], 496: [183], 497: [184], 507: [188], 510: [191], 515: [195]}\n",
      "(6, 4)\n",
      "{205: [3], 217: [11], 242: [26], 250: [31], 254: [33], 256: [34], 261: [37], 283: [53], 293: [59], 296: [64], 305: [69], 329: [84], 354: [102], 358: [104], 363: [107], 364: [108], 371: [112], 373: [114], 381: [120], 383: [122], 385: [123], 387: [124], 389: [128], 394: [131], 398: [134], 418: [150], 422: [153], 423: [154], 425: [156], 427: [157], 447: [172], 449: [174], 451: [175], 455: [177], 458: [180], 459: [181], 461: [183], 462: [184], 465: [186], 466: [187], 469: [191], 480: [198], 483: [201], 489: [206], 491: [207], 496: [212], 497: [213], 506: [220], 509: [221]}\n",
      "(6, 5)\n",
      "{190: [0], 195: [4], 197: [5], 204: [9], 212: [14], 215: [15], 219: [17], 232: [25], 243: [32], 251: [38], 253: [39], 254: [40], 255: [41], 257: [44], 260: [47], 262: [49], 270: [54], 272: [55], 278: [58], 282: [61], 293: [67], 295: [69], 300: [74], 304: [77], 315: [84], 316: [85], 318: [87], 321: [92], 326: [99], 330: [100], 331: [101], 333: [103], 335: [105], 341: [107], 350: [113], 351: [114], 352: [115], 362: [118], 367: [122], 369: [124], 372: [127], 375: [128], 383: [134], 385: [136], 387: [138], 396: [143], 398: [145], 404: [150], 409: [155], 412: [156], 413: [157], 414: [159], 415: [160], 418: [161], 438: [172], 442: [175], 446: [177], 448: [179], 449: [180], 454: [185], 458: [188], 460: [190], 464: [193], 468: [194], 469: [195], 470: [196], 487: [206], 491: [208], 492: [209]}\n",
      "(6, 6)\n",
      "{200: [1], 201: [2], 206: [6], 223: [10], 227: [12], 232: [14], 246: [18], 253: [19], 263: [27], 264: [28], 266: [29], 273: [34], 278: [38], 281: [39], 283: [40], 284: [42], 293: [47], 307: [54], 317: [59], 328: [64], 334: [69], 335: [70], 341: [74], 343: [75], 345: [76], 346: [77], 354: [81], 359: [82], 373: [94], 383: [99], 397: [106], 405: [107], 431: [122], 435: [125], 437: [127], 444: [130], 448: [132], 449: [133], 452: [135], 462: [139], 463: [140], 473: [144], 477: [145], 485: [150], 489: [151], 492: [152], 501: [160], 503: [162], 524: [176], 525: [177], 533: [187], 543: [194]}\n",
      "(6, 7)\n",
      "{194: [6], 199: [9], 201: [10], 209: [14], 211: [15], 225: [22], 229: [25], 233: [28], 234: [29], 239: [31], 245: [34], 246: [35], 256: [39], 258: [40], 260: [42], 261: [43], 270: [49], 291: [62], 292: [63], 297: [65], 299: [67], 306: [71], 308: [73], 313: [76], 332: [86], 335: [89], 340: [92], 342: [93], 344: [94], 352: [100], 366: [108], 379: [112], 383: [114], 392: [117], 393: [118], 394: [119], 398: [120], 399: [121], 408: [126], 413: [129], 417: [133], 419: [134], 424: [136], 430: [138], 435: [139], 438: [141], 446: [146], 449: [148], 468: [159], 481: [165], 482: [166], 484: [168], 495: [176], 505: [181]}\n",
      "(6, 8)\n",
      "{188: [0], 189: [1], 191: [3], 195: [5], 196: [6], 197: [7], 198: [9], 208: [15], 211: [17], 213: [19], 224: [21], 228: [26], 233: [29], 237: [31], 240: [33], 242: [35], 243: [36], 250: [44], 259: [50], 264: [54], 268: [56], 276: [65], 278: [67], 280: [70], 282: [72], 285: [75], 286: [76], 291: [81], 295: [83], 299: [85], 314: [92], 317: [94], 319: [96], 320: [97], 326: [99], 329: [102], 332: [104], 333: [105], 335: [107], 345: [117], 350: [120], 354: [123], 366: [132], 367: [133], 375: [140], 377: [144], 382: [147], 422: [171], 430: [177], 432: [178], 435: [180], 448: [191], 451: [194], 452: [195], 456: [199], 458: [200], 465: [201], 466: [202], 468: [205], 481: [212], 482: [213], 484: [215], 504: [228]}\n",
      "(6, 9)\n",
      "{204: [22], 226: [32], 251: [37], 252: [38], 255: [40], 281: [57], 284: [59], 285: [60], 287: [61], 290: [63], 292: [65], 293: [66], 301: [70], 310: [74], 317: [77], 327: [85], 329: [87], 330: [88], 337: [91], 342: [94], 347: [97], 349: [99], 352: [100], 356: [104], 379: [124], 385: [130], 389: [133], 394: [138], 396: [140], 405: [147], 424: [158], 425: [159], 441: [167], 442: [168], 448: [172], 463: [179], 471: [184], 475: [188], 478: [191], 491: [197], 492: [198], 498: [201]}\n",
      "(6, 14)\n",
      "{193: [3], 198: [6], 201: [7], 206: [11], 209: [15], 212: [18], 231: [24], 238: [27], 247: [31], 253: [36], 259: [40], 271: [49], 273: [50], 281: [55], 283: [56], 286: [58], 288: [59], 297: [64], 309: [75], 313: [78], 318: [80], 319: [81], 322: [82], 325: [84], 326: [85], 329: [87], 331: [88], 342: [96], 344: [97], 346: [98], 355: [107], 360: [109], 366: [111], 371: [114], 372: [115], 376: [118], 379: [120], 380: [121], 384: [123], 385: [124], 396: [132], 400: [134], 404: [136], 407: [139], 411: [141], 417: [147], 422: [150], 430: [155], 435: [156], 446: [164], 460: [174], 462: [175], 468: [182], 475: [190], 477: [191], 481: [195], 483: [197], 487: [199]}\n",
      "(6, 15)\n",
      "{195: [0], 210: [7], 223: [12], 233: [15], 235: [17], 237: [19], 240: [22], 243: [27], 251: [33], 253: [34], 254: [35], 255: [36], 256: [37], 258: [38], 260: [41], 265: [43], 269: [46], 279: [50], 282: [51], 286: [54], 301: [63], 303: [64], 312: [68], 319: [74], 321: [75], 324: [77], 328: [79], 331: [80], 350: [92], 351: [94], 354: [97], 362: [102], 369: [108], 371: [110], 374: [112], 377: [114], 382: [118], 385: [119], 386: [120], 389: [122], 401: [134], 412: [140], 413: [141], 425: [149], 434: [153], 441: [158], 442: [159], 447: [164], 448: [165], 460: [173], 465: [177], 467: [179], 470: [183], 472: [185], 475: [188], 484: [196], 496: [203], 501: [205], 508: [210], 509: [211], 510: [212], 511: [213], 513: [215], 514: [216], 517: [219], 518: [221]}\n",
      "(6, 16)\n",
      "{185: [2], 188: [4], 191: [6], 192: [7], 197: [11], 199: [12], 204: [14], 206: [15], 209: [17], 214: [20], 215: [21], 216: [22], 218: [23], 219: [24], 220: [25], 222: [26], 223: [27], 225: [28], 227: [29], 229: [30], 230: [31], 231: [32], 242: [36], 244: [38], 251: [44], 253: [45], 256: [47], 258: [49], 267: [52], 278: [61], 281: [62], 291: [73], 297: [79], 300: [81], 308: [85], 309: [86], 310: [87], 314: [94], 315: [96], 320: [100], 326: [108], 329: [110], 337: [115], 338: [117], 340: [118], 347: [122], 351: [124], 360: [128], 376: [146], 382: [148], 390: [155], 392: [156], 402: [163], 409: [169], 417: [174], 418: [175], 419: [176], 421: [178], 424: [179], 426: [181], 428: [183], 436: [186], 442: [192], 446: [195], 447: [196]}\n",
      "(6, 17)\n",
      "{205: [2], 221: [5], 227: [10], 229: [11], 231: [12], 240: [16], 243: [17], 247: [18], 248: [19], 254: [25], 262: [33], 264: [35], 271: [39], 274: [40], 278: [42], 281: [44], 291: [51], 295: [52], 298: [54], 305: [57], 313: [64], 315: [66], 316: [67], 321: [69], 322: [70], 328: [75], 333: [78], 339: [83], 343: [86], 346: [87], 349: [89], 362: [97], 363: [98], 367: [100], 372: [102], 405: [120], 416: [128], 423: [132], 433: [137], 434: [138], 454: [148], 464: [155], 475: [160]}\n",
      "(6, 19)\n",
      "{189: [3], 191: [4], 199: [8], 210: [13], 213: [17], 218: [21], 231: [29], 236: [33], 238: [34], 247: [39], 248: [40], 256: [43], 264: [49], 272: [53], 274: [56], 276: [58], 282: [61], 283: [62], 293: [68], 298: [73], 310: [81], 321: [87], 322: [88], 326: [93], 329: [95], 338: [103], 342: [105], 346: [106], 348: [107], 352: [110], 353: [111], 355: [112], 361: [114], 366: [116], 367: [117], 369: [118], 376: [122], 383: [130], 385: [131], 388: [135], 389: [136], 390: [137], 408: [156], 419: [165], 421: [167], 426: [168], 430: [171], 433: [172], 439: [175], 440: [176], 449: [180], 453: [182], 469: [195], 471: [198], 485: [208], 492: [212], 494: [214], 495: [215], 498: [218], 505: [221]}\n",
      "(6, 20)\n",
      "{197: [0], 198: [1], 199: [2], 200: [3], 209: [13], 210: [14], 217: [17], 228: [26], 231: [30], 232: [31], 235: [32], 239: [35], 242: [37], 244: [38], 248: [40], 255: [44], 262: [48], 268: [53], 269: [54], 295: [76], 298: [79], 320: [93], 329: [98], 336: [103], 338: [105], 343: [106], 351: [116], 353: [117], 354: [118], 359: [120], 361: [121], 365: [122], 366: [123], 371: [125], 375: [127], 382: [132], 383: [133], 386: [135], 392: [136], 395: [139], 397: [141], 400: [143], 403: [147], 417: [158], 422: [161], 427: [163], 428: [164], 429: [166], 433: [171], 435: [172], 437: [174], 438: [175], 442: [178], 446: [181], 450: [184], 451: [185], 461: [190], 465: [193], 466: [194], 467: [195]}\n",
      "(6, 21)\n",
      "{200: [0], 208: [5], 214: [9], 229: [17], 236: [19], 243: [22], 245: [23], 251: [26], 256: [31], 265: [35], 268: [37], 273: [40], 285: [45], 290: [46], 297: [47], 298: [48], 299: [49], 301: [50], 312: [60], 315: [62], 316: [63], 320: [65], 322: [67], 324: [68], 327: [69], 328: [70], 340: [76], 342: [77], 353: [86], 359: [89], 360: [90], 361: [91], 365: [93], 375: [98], 376: [99], 377: [100], 378: [101], 380: [102], 385: [105], 387: [107], 399: [113], 403: [117], 404: [118], 411: [123], 413: [124], 421: [131], 438: [141], 441: [143], 448: [146], 449: [147], 458: [154], 459: [155], 464: [158], 466: [159], 469: [161], 476: [164], 477: [165], 478: [166], 489: [177]}\n",
      "(6, 24)\n",
      "{198: [0], 201: [2], 202: [3], 207: [7], 208: [8], 214: [12], 223: [15], 227: [18], 229: [20], 230: [21], 232: [23], 238: [26], 248: [29], 251: [31], 252: [32], 266: [37], 275: [43], 276: [44], 277: [45], 296: [57], 298: [58], 307: [65], 308: [66], 309: [67], 310: [68], 318: [72], 320: [74], 324: [77], 332: [83], 342: [92], 350: [95], 352: [97], 355: [98], 360: [100], 363: [101], 370: [103], 375: [106], 377: [107], 380: [109], 383: [110], 386: [111], 389: [112], 391: [113], 396: [116], 400: [117], 401: [118], 409: [126], 412: [130], 426: [139], 427: [140], 429: [142], 431: [143], 439: [147], 442: [148], 454: [154], 465: [165], 474: [172], 504: [194]}\n",
      "(7, 1)\n",
      "{191: [5], 207: [14], 210: [15], 213: [18], 230: [23], 239: [26], 244: [28], 268: [41], 271: [43], 276: [47], 277: [48], 293: [60], 295: [61], 305: [68], 311: [74], 319: [80], 324: [82], 330: [89], 366: [116], 367: [117], 373: [122], 417: [155], 425: [160], 431: [164], 440: [168], 443: [169], 453: [172], 458: [174], 468: [180], 472: [185], 479: [190], 482: [192], 486: [194], 487: [195], 491: [196], 494: [197], 495: [198], 499: [200], 503: [203], 510: [208], 511: [209], 516: [214], 517: [215]}\n",
      "(7, 2)\n",
      "{201: [2], 202: [3], 204: [4], 205: [5], 206: [6], 210: [8], 217: [14], 218: [15], 219: [16], 228: [21], 233: [24], 243: [29], 247: [31], 254: [35], 258: [37], 267: [43], 273: [49], 277: [54], 282: [57], 283: [58], 292: [63], 294: [65], 299: [67], 300: [68], 303: [73], 308: [76], 310: [79], 325: [89], 334: [95], 336: [96], 341: [100], 358: [109], 359: [111], 367: [117], 375: [123], 380: [126], 383: [131], 386: [132], 388: [133], 390: [134], 392: [135], 398: [139], 400: [142], 402: [143], 403: [144], 404: [145], 407: [147], 410: [148], 428: [157], 439: [162], 442: [164], 457: [177], 460: [179], 461: [180], 470: [184], 474: [187], 478: [190], 480: [192], 482: [194], 486: [199], 491: [203], 492: [204], 497: [207], 500: [210], 508: [215], 510: [217], 511: [218], 519: [222], 534: [227], 538: [232], 539: [233], 544: [237], 546: [239], 550: [243], 551: [244], 554: [247]}\n",
      "(7, 6)\n",
      "{196: [5], 200: [7], 204: [10], 210: [14], 212: [16], 213: [17], 214: [18], 216: [20], 219: [25], 224: [28], 227: [30], 248: [43], 252: [45], 253: [46], 267: [53], 275: [57], 278: [58], 292: [65], 294: [66], 299: [70], 306: [71], 313: [74], 316: [76], 317: [77], 318: [78], 331: [84], 332: [86], 338: [94], 339: [95], 342: [96], 344: [98], 346: [99], 347: [100], 349: [101], 353: [103], 364: [107], 367: [111], 377: [118], 379: [119], 397: [125], 399: [126], 400: [127], 401: [128], 404: [130], 407: [132], 410: [135], 416: [138], 424: [143], 427: [148], 428: [149], 429: [150], 439: [155], 447: [161], 495: [173], 500: [174], 506: [178], 509: [180], 519: [186], 521: [187], 522: [188]}\n",
      "(7, 10)\n",
      "{195: [0], 200: [2], 201: [4], 210: [8], 217: [9], 225: [11], 233: [15], 237: [18], 239: [19], 246: [24], 247: [25], 248: [27], 265: [39], 268: [41], 269: [42], 273: [44], 274: [45], 281: [47], 282: [48], 284: [49], 290: [54], 305: [65], 307: [67], 317: [73], 321: [75], 324: [77], 326: [80], 330: [81], 348: [86], 350: [88], 354: [93], 373: [105], 386: [111], 389: [113], 399: [119], 407: [124], 412: [129], 413: [130], 428: [140], 441: [146], 461: [154], 463: [155], 465: [156], 466: [157], 468: [159], 471: [160], 477: [162], 488: [169], 489: [170], 490: [171], 491: [172], 498: [177], 514: [188], 517: [190], 523: [195], 524: [197], 532: [203], 534: [204], 536: [205], 538: [206], 539: [207], 542: [209]}\n",
      "(7, 11)\n",
      "{203: [4], 210: [12], 211: [13], 213: [14], 217: [17], 219: [18], 220: [19], 226: [21], 228: [23], 230: [25], 235: [28], 237: [30], 238: [33], 248: [46], 256: [52], 257: [53], 258: [54], 260: [55], 262: [56], 266: [59], 274: [65], 280: [69], 288: [74], 296: [80], 299: [83], 300: [84], 301: [85], 310: [94], 313: [97], 317: [99], 319: [101], 321: [103], 322: [104], 325: [108], 327: [111], 331: [115], 359: [129], 360: [130], 368: [136], 374: [142], 378: [146], 383: [148], 384: [149], 394: [158], 398: [159], 401: [162], 402: [163], 403: [164], 407: [168], 408: [169], 423: [177], 427: [180], 429: [181], 433: [185], 435: [187], 441: [194], 464: [211], 465: [213], 467: [214], 468: [215], 469: [216], 473: [217], 474: [218], 478: [220], 492: [231], 493: [233], 499: [241], 503: [243], 507: [246], 511: [248]}\n",
      "(7, 15)\n",
      "{197: [0], 203: [4], 208: [6], 209: [7], 210: [8], 214: [11], 220: [13], 221: [14], 222: [15], 225: [17], 229: [20], 242: [25], 243: [26], 245: [28], 247: [30], 248: [31], 250: [32], 254: [33], 261: [39], 262: [40], 268: [44], 276: [48], 278: [49], 282: [51], 286: [54], 289: [57], 295: [62], 301: [66], 304: [69], 310: [74], 312: [75], 317: [78], 328: [83], 336: [89], 343: [94], 345: [96], 346: [97], 349: [100], 353: [103], 359: [109], 361: [110], 374: [117], 375: [118], 377: [119], 382: [121], 385: [124], 387: [127], 396: [133], 398: [134], 400: [135], 403: [136], 413: [146], 414: [147], 416: [148], 423: [151], 426: [152], 433: [159], 440: [167], 443: [169], 446: [171], 448: [178], 449: [179], 453: [181], 454: [182], 464: [190], 465: [191], 481: [202], 485: [207], 499: [212], 512: [220]}\n",
      "(7, 16)\n",
      "{200: [2], 206: [4], 212: [10], 213: [11], 217: [15], 220: [18], 222: [20], 223: [21], 224: [22], 231: [26], 232: [27], 233: [28], 238: [31], 242: [33], 245: [35], 246: [36], 253: [40], 258: [44], 265: [49], 266: [50], 267: [51], 275: [54], 282: [57], 283: [58], 288: [64], 295: [70], 298: [73], 299: [74], 302: [75], 308: [80], 309: [81], 314: [84], 322: [89], 325: [91], 326: [92], 329: [93], 332: [96], 335: [98], 341: [102], 347: [108], 348: [109], 359: [116], 365: [120], 378: [127], 389: [132], 393: [134], 400: [137], 407: [143], 408: [144], 412: [147], 413: [148], 418: [153], 419: [154], 424: [160], 425: [161], 426: [162], 428: [164], 430: [166], 436: [171], 440: [177], 444: [179], 453: [187], 454: [189], 458: [192], 459: [193], 461: [195], 462: [196], 465: [199], 466: [200], 467: [201], 472: [204], 483: [211], 487: [216], 491: [219], 495: [222], 499: [224], 501: [226], 508: [229], 509: [230], 510: [231], 518: [238], 521: [240]}\n",
      "(7, 17)\n",
      "{196: [3], 200: [6], 202: [8], 204: [10], 209: [13], 212: [15], 217: [18], 224: [22], 226: [24], 231: [27], 235: [28], 236: [29], 237: [30], 239: [31], 241: [32], 243: [34], 250: [37], 254: [40], 257: [43], 261: [45], 263: [46], 267: [49], 268: [50], 271: [52], 272: [53], 275: [58], 276: [59], 280: [62], 283: [63], 284: [64], 289: [65], 291: [68], 293: [69], 294: [70], 300: [73], 301: [74], 302: [76], 308: [82], 313: [84], 314: [85], 316: [86], 318: [87], 322: [89], 325: [91], 329: [94], 332: [96], 340: [104], 341: [106], 345: [111], 346: [112], 349: [113], 351: [114], 362: [121], 366: [125], 370: [127], 375: [132], 379: [135], 382: [138], 383: [139], 392: [148], 396: [155], 400: [158], 402: [161], 413: [168], 416: [170], 420: [171], 430: [176], 440: [182], 443: [185], 453: [194], 455: [195], 456: [197], 460: [200], 466: [205], 469: [208]}\n",
      "(7, 18)\n",
      "{203: [3], 208: [7], 217: [16], 224: [22], 239: [35], 240: [36], 251: [37], 262: [43], 270: [48], 271: [49], 272: [50], 280: [55], 284: [58], 285: [59], 292: [64], 293: [65], 297: [67], 298: [68], 304: [71], 307: [73], 326: [83], 328: [85], 329: [86], 331: [87], 333: [89], 337: [92], 343: [96], 344: [97], 351: [100], 352: [101], 354: [104], 356: [106], 366: [110], 376: [113], 377: [114], 379: [116], 381: [118], 383: [119], 387: [123], 390: [125], 393: [127], 396: [129], 399: [131], 401: [132], 404: [134], 413: [143], 415: [145], 425: [151], 427: [153], 428: [154], 430: [155], 431: [156], 432: [158], 437: [160], 442: [165], 444: [166], 450: [169], 454: [172], 476: [186], 483: [189], 484: [190], 486: [192], 487: [194], 492: [195], 493: [196], 501: [203], 504: [205], 509: [207], 510: [208], 511: [209], 513: [210], 515: [211], 516: [212], 524: [218], 526: [221], 527: [222], 529: [224], 532: [226], 535: [229]}\n",
      "(7, 19)\n",
      "{198: [0], 199: [1], 202: [6], 204: [7], 206: [8], 207: [9], 210: [12], 213: [14], 216: [17], 227: [18], 229: [21], 233: [24], 234: [26], 249: [35], 250: [36], 265: [48], 270: [49], 272: [50], 277: [53], 285: [55], 287: [56], 295: [60], 297: [62], 301: [64], 304: [66], 309: [68], 315: [72], 325: [76], 328: [77], 333: [80], 334: [81], 338: [84], 341: [86], 350: [96], 361: [101], 389: [124], 394: [127], 395: [128], 399: [132], 400: [133], 404: [139], 407: [141], 408: [142], 412: [146], 417: [149], 419: [151], 434: [158], 436: [159], 440: [161], 449: [169], 455: [173], 456: [174], 462: [177], 465: [179], 474: [183], 479: [186], 486: [193], 493: [197], 494: [198], 497: [200], 499: [201], 500: [202], 503: [205], 508: [209], 509: [210]}\n",
      "(7, 20)\n",
      "{200: [0], 205: [4], 224: [11], 231: [13], 240: [17], 253: [21], 261: [26], 263: [27], 269: [31], 274: [33], 277: [36], 282: [39], 283: [40], 286: [42], 292: [46], 293: [47], 297: [50], 306: [54], 314: [58], 318: [60], 326: [63], 339: [74], 342: [76], 344: [79], 351: [83], 358: [86], 363: [90], 365: [94], 378: [102], 383: [104], 386: [107], 396: [113], 397: [114], 399: [116], 404: [119], 409: [121], 413: [122], 421: [126], 423: [127], 428: [131], 431: [134], 437: [135], 439: [137], 440: [138], 442: [139], 444: [140], 467: [157], 471: [159], 496: [174], 508: [178], 518: [190], 524: [194], 527: [197], 537: [203], 550: [207]}\n",
      "(7, 22)\n",
      "{200: [6], 201: [7], 217: [11], 220: [14], 223: [19], 226: [22], 228: [24], 230: [25], 239: [28], 245: [33], 246: [34], 247: [35], 248: [37], 251: [40], 260: [44], 271: [51], 274: [53], 278: [55], 280: [56], 282: [57], 284: [58], 292: [66], 295: [68], 298: [70], 309: [77], 311: [78], 317: [84], 318: [85], 319: [86], 330: [92], 331: [93], 332: [94], 334: [96], 340: [103], 342: [104], 348: [108], 355: [111], 358: [113], 369: [119], 370: [120], 371: [121], 378: [128], 379: [129], 380: [131], 393: [142], 395: [144], 401: [148], 402: [149], 404: [150], 406: [151], 409: [153], 410: [154], 414: [157], 415: [158], 425: [163], 431: [165], 436: [169], 438: [171], 440: [172], 443: [175], 456: [182], 458: [184], 465: [187], 470: [188], 473: [191], 474: [192], 482: [199], 490: [206]}\n",
      "(7, 23)\n",
      "{198: [4], 203: [8], 205: [11], 213: [16], 217: [19], 219: [21], 225: [26], 228: [28], 229: [29], 231: [32], 239: [38], 242: [40], 245: [42], 247: [43], 250: [45], 267: [56], 272: [60], 273: [61], 277: [68], 280: [72], 281: [73], 282: [74], 285: [75], 288: [77], 296: [81], 297: [82], 304: [88], 306: [90], 308: [91], 311: [93], 312: [94], 325: [99], 329: [100], 330: [101], 332: [102], 335: [105], 345: [113], 346: [114], 347: [115], 352: [119], 357: [122], 363: [124], 364: [125], 365: [126], 366: [127], 370: [131], 371: [132], 373: [134], 375: [136], 376: [137], 391: [145], 393: [147], 394: [148], 397: [151], 405: [153], 411: [158], 412: [159], 413: [160], 418: [163], 423: [164], 427: [168], 430: [170], 436: [175], 440: [177], 446: [183], 449: [186], 451: [188], 453: [189], 475: [206], 482: [209], 499: [222], 502: [224], 506: [227], 508: [229]}\n",
      "(8, 1)\n",
      "{240: [5], 243: [8], 249: [11], 262: [21], 265: [26], 271: [30], 282: [40], 283: [41], 284: [42], 291: [47], 294: [49], 301: [53], 303: [55], 309: [58], 311: [59], 323: [64], 325: [66], 332: [69], 333: [70], 334: [71], 339: [74], 343: [76], 351: [81], 357: [85], 359: [87], 361: [89], 372: [94], 374: [95], 385: [102], 389: [105], 399: [110], 418: [120], 424: [126], 425: [127], 427: [128], 431: [130], 440: [135], 443: [137], 456: [144], 457: [145], 459: [146], 460: [147], 472: [151], 481: [159], 487: [167], 494: [170], 507: [178], 521: [187], 537: [195], 543: [199], 544: [200], 545: [201], 546: [202], 553: [205]}\n",
      "(8, 2)\n",
      "{194: [0], 195: [1], 197: [3], 202: [6], 208: [11], 209: [12], 215: [18], 218: [20], 219: [21], 222: [23], 223: [24], 233: [29], 237: [32], 239: [33], 244: [37], 251: [43], 254: [46], 255: [47], 257: [49], 262: [53], 265: [55], 267: [57], 268: [58], 271: [59], 272: [60], 274: [62], 277: [65], 278: [66], 285: [71], 289: [73], 295: [75], 303: [81], 307: [84], 312: [88], 313: [89], 314: [90], 324: [98], 325: [99], 327: [100], 332: [101], 335: [105], 337: [106], 341: [111], 342: [112], 343: [113], 349: [118], 352: [121], 355: [122], 360: [124], 369: [130], 372: [132], 375: [134], 378: [135], 379: [136], 395: [151], 404: [161], 417: [167], 423: [169], 425: [170], 429: [172], 439: [176], 450: [183], 451: [184], 452: [185], 455: [187], 461: [192], 463: [194], 465: [195], 471: [197], 473: [200], 479: [204], 482: [209], 485: [211]}\n",
      "(8, 3)\n",
      "{190: [1], 195: [6], 198: [9], 200: [12], 204: [15], 206: [16], 207: [17], 215: [24], 216: [25], 218: [26], 220: [28], 222: [30], 223: [31], 224: [32], 228: [35], 233: [40], 237: [42], 238: [43], 243: [46], 244: [47], 249: [50], 254: [54], 255: [55], 256: [56], 266: [61], 272: [63], 276: [67], 277: [68], 295: [81], 296: [82], 298: [83], 301: [86], 307: [90], 314: [93], 317: [94], 320: [96], 322: [98], 324: [99], 325: [100], 331: [104], 341: [109], 343: [110], 345: [111], 346: [112], 347: [113], 348: [114], 349: [115], 352: [117], 353: [118], 355: [120], 369: [135], 374: [140], 375: [141], 377: [143], 381: [147], 383: [148], 388: [150], 401: [157], 402: [158], 409: [162], 410: [163], 430: [172], 432: [174], 435: [176], 439: [178], 442: [181], 446: [185], 447: [186], 452: [193], 453: [195], 464: [199], 467: [201]}\n",
      "(8, 5)\n",
      "{138: [0], 141: [2], 147: [5], 148: [6], 157: [11], 159: [13], 160: [14], 169: [18], 171: [20], 173: [21], 177: [24], 179: [25], 180: [26], 181: [27], 184: [28], 187: [31], 188: [32], 193: [35], 203: [47], 204: [48], 205: [49], 226: [61], 238: [68], 240: [70], 241: [71], 254: [76], 255: [77], 256: [78], 258: [80], 259: [81], 260: [83], 265: [91], 267: [92], 277: [100], 279: [101], 293: [111], 296: [114], 300: [117], 305: [119], 315: [122], 317: [123], 319: [125], 320: [126], 339: [137], 345: [141], 348: [144], 349: [145], 350: [146], 352: [148], 362: [152], 365: [154], 369: [157], 370: [158], 371: [159], 373: [160], 379: [164], 380: [165], 389: [174], 392: [176], 396: [179], 410: [184], 411: [185], 439: [200], 443: [204], 449: [207], 450: [208], 452: [209], 454: [211], 458: [217], 459: [218], 469: [220]}\n",
      "(8, 6)\n",
      "{181: [1], 182: [2], 185: [5], 187: [7], 188: [8], 191: [11], 195: [13], 196: [14], 198: [16], 200: [18], 204: [20], 206: [22], 213: [27], 214: [28], 224: [38], 226: [40], 231: [44], 235: [47], 237: [48], 238: [49], 246: [55], 257: [60], 264: [64], 270: [68], 272: [69], 281: [78], 282: [79], 285: [81], 286: [82], 289: [84], 294: [87], 295: [88], 298: [89], 301: [91], 304: [92], 307: [95], 319: [99], 321: [100], 323: [101], 327: [104], 328: [105], 331: [107], 341: [114], 351: [118], 355: [121], 358: [123], 362: [127], 366: [130], 367: [131], 371: [134], 375: [139], 376: [140], 377: [141], 382: [145], 383: [146], 405: [156], 406: [157], 409: [159], 412: [162], 413: [163], 417: [165], 424: [168], 425: [169], 427: [170], 436: [178], 438: [180], 441: [183], 444: [185], 446: [187], 447: [188], 449: [190], 454: [193], 456: [194], 461: [198], 468: [203], 470: [205], 471: [206], 474: [207], 477: [209], 478: [210], 493: [218], 495: [219], 497: [221], 512: [227], 513: [228], 516: [229], 523: [236], 525: [237], 533: [239]}\n",
      "(8, 7)\n",
      "{199: [0], 200: [1], 201: [2], 202: [3], 209: [6], 214: [9], 216: [10], 218: [12], 223: [14], 224: [15], 226: [16], 234: [19], 238: [23], 240: [24], 242: [25], 243: [26], 246: [28], 248: [30], 250: [33], 252: [34], 272: [46], 274: [48], 285: [54], 288: [57], 290: [59], 292: [60], 297: [62], 300: [64], 302: [66], 303: [67], 304: [68], 306: [69], 309: [72], 310: [73], 315: [75], 319: [77], 322: [80], 324: [83], 327: [88], 330: [90], 333: [92], 338: [94], 340: [97], 348: [101], 350: [103], 351: [104], 353: [107], 354: [108], 356: [110], 366: [118], 368: [119], 369: [120], 384: [128], 386: [129], 398: [136], 401: [139], 405: [144], 414: [150], 420: [154], 422: [156], 428: [161], 438: [170], 446: [176], 453: [182], 461: [188], 462: [189], 464: [190], 468: [193], 471: [195], 478: [198], 488: [204], 505: [221]}\n",
      "(8, 9)\n",
      "{201: [12], 214: [20], 220: [24], 222: [26], 223: [27], 229: [31], 231: [32], 233: [34], 234: [35], 238: [38], 239: [39], 244: [42], 245: [44], 246: [45], 255: [51], 257: [53], 260: [55], 269: [61], 270: [62], 278: [67], 284: [71], 290: [74], 300: [78], 306: [83], 308: [85], 317: [90], 319: [92], 326: [95], 330: [101], 337: [106], 338: [108], 340: [109], 353: [120], 354: [121], 363: [130], 366: [133], 369: [135], 370: [136], 377: [140], 378: [141], 379: [142], 382: [144], 384: [145], 387: [147], 389: [148], 390: [149], 391: [150], 398: [155], 399: [156], 422: [171], 425: [174], 426: [175], 430: [177], 434: [181], 440: [186], 442: [188], 449: [193], 450: [194], 456: [198], 458: [199], 465: [203], 466: [204], 467: [205], 470: [206], 473: [207], 475: [209], 476: [210], 481: [213], 483: [214], 484: [215]}\n",
      "(8, 11)\n",
      "{188: [0], 190: [1], 195: [4], 207: [10], 211: [14], 214: [16], 216: [21], 224: [25], 225: [26], 226: [27], 228: [29], 229: [30], 233: [33], 234: [34], 236: [36], 245: [42], 252: [48], 275: [64], 282: [68], 291: [73], 296: [77], 299: [80], 302: [82], 310: [88], 311: [89], 312: [90], 313: [91], 315: [93], 316: [94], 317: [95], 318: [96], 322: [99], 323: [100], 324: [101], 337: [108], 338: [109], 342: [115], 344: [116], 360: [126], 361: [127], 364: [130], 366: [132], 368: [133], 372: [134], 373: [136], 381: [141], 382: [142], 384: [146], 393: [155], 398: [157], 408: [165], 416: [170], 419: [171], 423: [173], 425: [174], 428: [176], 434: [179], 435: [180], 437: [183], 445: [192], 446: [193], 447: [194], 448: [195], 450: [197], 454: [200], 464: [204], 487: [216]}\n",
      "(8, 12)\n",
      "{187: [1], 189: [2], 193: [6], 194: [7], 195: [8], 197: [10], 198: [12], 199: [14], 200: [15], 201: [16], 207: [20], 208: [21], 209: [22], 210: [23], 211: [24], 216: [30], 222: [32], 225: [34], 226: [35], 229: [38], 232: [40], 235: [41], 247: [46], 259: [55], 260: [56], 263: [58], 266: [61], 267: [62], 268: [63], 271: [65], 275: [67], 279: [71], 283: [74], 284: [75], 285: [76], 292: [83], 293: [84], 294: [85], 295: [87], 302: [90], 309: [94], 311: [95], 312: [96], 316: [99], 321: [103], 324: [104], 333: [109], 335: [110], 341: [114], 346: [115], 357: [120], 361: [122], 363: [124], 365: [125], 369: [130], 374: [134], 376: [135], 384: [142], 386: [144], 397: [151], 402: [154], 405: [156], 414: [160], 416: [162], 419: [163], 424: [164], 425: [165], 429: [169], 435: [173], 443: [179], 444: [180], 452: [187], 453: [188], 459: [191], 479: [201], 483: [203]}\n",
      "(8, 14)\n",
      "{203: [3], 204: [4], 207: [5], 215: [9], 219: [11], 223: [12], 224: [13], 227: [16], 247: [30], 249: [31], 250: [32], 252: [33], 253: [34], 254: [35], 255: [36], 257: [38], 258: [39], 263: [42], 274: [53], 275: [54], 276: [55], 281: [60], 286: [67], 290: [70], 293: [74], 300: [79], 326: [93], 330: [96], 333: [98], 334: [99], 335: [100], 339: [104], 340: [106], 346: [111], 357: [118], 366: [122], 369: [125], 371: [128], 379: [135], 389: [143], 395: [144], 399: [146], 401: [147], 403: [150], 414: [155], 416: [157], 440: [171], 461: [177], 463: [179], 480: [188], 484: [191], 485: [192], 492: [195], 494: [197], 498: [199], 500: [201], 532: [211], 535: [215], 549: [222], 551: [225]}\n",
      "(8, 15)\n",
      "{198: [0], 199: [2], 221: [17], 222: [18], 223: [19], 224: [20], 226: [21], 240: [25], 247: [30], 248: [31], 251: [32], 258: [41], 259: [42], 265: [45], 269: [48], 273: [49], 277: [51], 280: [52], 285: [58], 287: [60], 289: [63], 290: [64], 296: [67], 299: [69], 302: [72], 304: [73], 315: [81], 318: [83], 320: [85], 321: [87], 323: [88], 325: [90], 327: [93], 331: [96], 338: [102], 340: [103], 347: [108], 349: [109], 358: [113], 365: [119], 366: [120], 369: [121], 374: [123], 375: [124], 377: [126], 380: [129], 384: [131], 385: [133], 386: [134], 389: [136], 402: [142], 405: [144], 414: [154], 419: [156], 437: [170], 441: [173], 442: [174], 443: [175], 447: [179], 459: [189], 460: [190], 462: [192], 467: [195], 470: [197], 473: [200], 481: [213], 486: [217], 497: [223], 499: [224], 504: [225], 505: [226], 506: [227], 510: [230]}\n",
      "(8, 16)\n",
      "{198: [0], 200: [1], 201: [2], 204: [3], 205: [4], 208: [5], 209: [6], 210: [7], 227: [18], 232: [22], 235: [24], 243: [28], 245: [30], 250: [32], 256: [35], 257: [36], 258: [37], 260: [39], 269: [46], 270: [47], 271: [48], 272: [49], 277: [52], 284: [57], 300: [65], 305: [68], 317: [72], 318: [73], 325: [79], 327: [80], 339: [89], 344: [92], 348: [98], 350: [101], 352: [102], 354: [104], 357: [105], 361: [107], 365: [109], 366: [110], 371: [114], 383: [119], 387: [121], 392: [124], 393: [126], 400: [133], 407: [137], 437: [159], 438: [160], 439: [161], 440: [162], 449: [168], 451: [169], 452: [170], 466: [178], 478: [190], 484: [193], 485: [194], 497: [202], 502: [204], 512: [209], 513: [210]}\n",
      "(8, 17)\n",
      "{198: [0], 205: [10], 207: [12], 208: [14], 213: [20], 215: [23], 216: [24], 220: [27], 221: [28], 224: [29], 227: [33], 230: [34], 248: [44], 249: [45], 265: [53], 267: [56], 270: [58], 271: [59], 273: [62], 274: [63], 279: [68], 280: [69], 281: [70], 286: [75], 288: [77], 292: [80], 295: [82], 297: [83], 303: [90], 305: [91], 318: [102], 334: [109], 338: [112], 340: [113], 342: [114], 343: [115], 344: [116], 347: [118], 350: [119], 352: [121], 354: [123], 357: [126], 359: [128], 361: [130], 366: [134], 368: [135], 370: [136], 386: [140], 399: [144], 402: [146], 407: [150], 410: [153], 417: [160], 418: [161], 419: [163], 428: [173], 434: [178], 435: [179], 440: [183], 441: [184], 451: [189], 453: [191], 454: [192], 455: [193], 459: [196], 463: [198], 468: [200], 471: [202], 478: [204], 482: [207], 483: [208], 486: [209], 487: [211]}\n",
      "(8, 18)\n",
      "{169: [2], 173: [4], 181: [10], 187: [13], 195: [21], 200: [23], 203: [26], 205: [27], 213: [29], 217: [32], 219: [33], 220: [35], 222: [36], 225: [39], 226: [41], 243: [53], 253: [57], 255: [59], 256: [60], 262: [64], 263: [65], 272: [70], 275: [73], 277: [74], 284: [78], 292: [83], 294: [85], 295: [86], 302: [94], 303: [95], 304: [96], 305: [97], 308: [101], 310: [105], 315: [108], 318: [111], 321: [113], 324: [114], 325: [115], 340: [123], 341: [125], 343: [127], 344: [128], 347: [131], 349: [134], 354: [139], 355: [140], 362: [145], 366: [150], 367: [152], 368: [153], 371: [156], 376: [162], 377: [163], 378: [164], 379: [165], 383: [170], 386: [172], 391: [175], 393: [177], 398: [180], 404: [184], 405: [185], 406: [186], 407: [187], 408: [188], 410: [189], 413: [190], 422: [193], 435: [198], 439: [199], 440: [200], 446: [205], 447: [206], 450: [208], 451: [209], 453: [210], 457: [213], 463: [215], 469: [222], 476: [228]}\n",
      "(8, 19)\n",
      "{197: [0], 200: [2], 203: [3], 204: [4], 209: [7], 210: [8], 218: [11], 219: [12], 224: [14], 227: [15], 232: [18], 239: [22], 245: [25], 249: [28], 252: [29], 254: [31], 260: [36], 261: [37], 265: [39], 266: [40], 271: [44], 273: [48], 275: [50], 281: [54], 283: [56], 288: [61], 295: [63], 299: [65], 305: [70], 311: [74], 315: [77], 318: [78], 321: [81], 326: [84], 327: [85], 331: [87], 341: [95], 342: [96], 349: [101], 352: [103], 354: [104], 358: [107], 359: [108], 360: [109], 363: [111], 365: [113], 366: [114], 370: [117], 373: [119], 380: [121], 383: [123], 398: [130], 416: [143], 419: [145], 421: [148], 425: [151], 427: [153], 433: [156], 440: [161], 448: [163], 453: [165], 475: [179], 476: [180], 477: [181], 480: [185], 481: [186], 482: [187], 485: [188], 488: [190], 493: [194], 496: [196], 501: [201], 507: [203]}\n",
      "(8, 20)\n",
      "{169: [3], 175: [8], 177: [9], 181: [13], 184: [17], 190: [20], 198: [24], 207: [30], 212: [34], 213: [35], 214: [36], 215: [37], 216: [38], 220: [41], 223: [44], 224: [45], 225: [46], 230: [49], 231: [50], 238: [56], 244: [64], 253: [69], 257: [73], 261: [75], 263: [76], 265: [78], 266: [79], 267: [80], 277: [85], 282: [87], 291: [93], 293: [95], 297: [99], 298: [100], 300: [102], 307: [106], 309: [107], 310: [108], 312: [109], 320: [116], 325: [119], 330: [124], 335: [127], 342: [131], 347: [134], 348: [135], 351: [137], 353: [139], 354: [140], 355: [141], 365: [148], 368: [150], 374: [155], 381: [158], 398: [168], 401: [170], 402: [171], 403: [172], 405: [173], 407: [175], 409: [177], 410: [178], 415: [183], 419: [185], 423: [188], 424: [189], 432: [194], 433: [195], 438: [198], 439: [199], 442: [202], 458: [210], 460: [211], 467: [216], 469: [218], 470: [219], 471: [220], 473: [221]}\n",
      "(8, 21)\n",
      "{191: [6], 198: [13], 199: [15], 200: [16], 203: [18], 205: [22], 209: [25], 210: [26], 212: [27], 214: [28], 219: [32], 222: [33], 223: [34], 232: [41], 240: [46], 242: [49], 243: [50], 246: [52], 253: [57], 255: [58], 260: [61], 265: [63], 269: [67], 271: [69], 272: [71], 289: [82], 291: [84], 297: [89], 300: [90], 302: [92], 303: [93], 305: [95], 309: [97], 321: [104], 322: [105], 323: [106], 325: [107], 326: [108], 327: [109], 329: [111], 334: [115], 338: [118], 343: [121], 344: [122], 345: [123], 347: [124], 348: [125], 351: [129], 352: [131], 353: [132], 359: [134], 364: [138], 365: [139], 366: [140], 367: [141], 368: [142], 370: [143], 376: [149], 378: [150], 392: [156], 393: [157], 395: [158], 400: [161], 407: [169], 410: [171], 411: [172], 414: [176], 419: [181], 420: [182], 421: [183], 423: [184], 426: [186], 429: [188], 430: [189], 431: [190], 432: [191], 437: [195], 441: [198], 445: [201], 449: [203], 455: [204], 459: [206], 467: [210], 468: [211], 475: [216], 476: [218]}\n",
      "(8, 22)\n",
      "{202: [2], 204: [4], 205: [5], 206: [6], 207: [7], 211: [11], 216: [14], 218: [15], 222: [18], 223: [19], 224: [20], 225: [21], 228: [23], 229: [24], 232: [26], 237: [30], 241: [33], 246: [39], 256: [48], 266: [54], 269: [55], 283: [61], 285: [63], 286: [64], 292: [67], 303: [72], 304: [73], 306: [76], 307: [77], 317: [84], 322: [88], 323: [90], 325: [91], 326: [92], 329: [96], 335: [101], 336: [102], 344: [110], 347: [113], 355: [119], 363: [122], 364: [123], 368: [124], 369: [125], 371: [126], 372: [127], 387: [140], 394: [143], 399: [147], 408: [151], 412: [157], 413: [158], 416: [162], 423: [164], 428: [167], 433: [172], 439: [177], 442: [179], 443: [180], 444: [181], 448: [183], 451: [184], 477: [188], 486: [193], 496: [201]}\n",
      "(8, 23)\n",
      "{200: [4], 201: [5], 207: [9], 209: [10], 210: [11], 212: [13], 215: [15], 217: [16], 219: [18], 221: [19], 222: [20], 223: [21], 224: [22], 226: [23], 229: [25], 232: [27], 235: [31], 244: [36], 246: [38], 248: [39], 256: [48], 261: [53], 265: [55], 269: [60], 272: [62], 277: [66], 282: [68], 285: [70], 286: [71], 294: [74], 297: [76], 298: [77], 301: [80], 309: [85], 312: [88], 315: [90], 318: [92], 321: [94], 324: [96], 330: [102], 333: [105], 337: [107], 345: [113], 347: [114], 351: [116], 352: [117], 354: [118], 359: [120], 363: [122], 371: [126], 380: [132], 390: [138], 391: [139], 395: [143], 398: [145], 400: [147], 403: [149], 410: [153], 411: [154], 413: [155], 414: [156], 417: [158], 419: [160], 420: [161], 425: [165], 427: [168], 428: [169], 444: [180], 447: [182], 448: [183], 450: [186], 452: [188]}\n",
      "(8, 24)\n",
      "{193: [1], 203: [9], 206: [10], 208: [11], 214: [16], 217: [19], 220: [20], 227: [27], 230: [30], 236: [36], 239: [39], 245: [42], 247: [43], 249: [45], 251: [46], 252: [47], 254: [48], 257: [50], 258: [51], 259: [52], 260: [53], 262: [55], 267: [58], 269: [61], 272: [62], 279: [65], 281: [66], 282: [67], 287: [71], 307: [84], 310: [88], 321: [104], 326: [108], 327: [109], 334: [113], 342: [121], 343: [122], 345: [124], 351: [127], 352: [128], 355: [131], 357: [133], 366: [142], 368: [144], 382: [153], 389: [157], 396: [162], 403: [168], 408: [172], 411: [176], 422: [185], 425: [188], 426: [189], 430: [193], 441: [199], 446: [204], 454: [209], 455: [211], 465: [221], 468: [226], 476: [232], 479: [236], 490: [247], 497: [250]}\n",
      "(9, 1)\n",
      "{188: [0], 190: [1], 192: [3], 200: [7], 202: [8], 206: [12], 216: [23], 223: [30], 253: [44], 263: [52], 275: [59], 286: [70], 288: [71], 291: [72], 293: [74], 302: [80], 311: [85], 313: [88], 320: [93], 324: [96], 326: [98], 329: [105], 334: [110], 335: [111], 346: [120], 357: [127], 365: [130], 366: [131], 374: [139], 389: [149], 395: [154], 406: [161], 409: [164], 412: [166], 420: [171], 422: [173], 440: [183], 447: [189], 451: [195], 452: [197], 459: [202], 460: [203], 464: [206], 466: [209], 474: [214], 483: [221], 486: [223], 490: [225], 494: [227], 496: [228], 498: [229], 500: [230], 504: [233], 513: [242], 515: [244], 521: [247]}\n",
      "(9, 3)\n",
      "{200: [2], 207: [9], 211: [10], 213: [13], 215: [15], 220: [19], 221: [20], 228: [21], 231: [24], 237: [29], 238: [30], 239: [31], 250: [40], 253: [41], 258: [44], 260: [47], 272: [54], 273: [55], 274: [56], 279: [58], 281: [60], 284: [62], 287: [64], 291: [66], 297: [69], 299: [72], 300: [73], 306: [80], 307: [81], 309: [83], 313: [87], 322: [92], 323: [93], 332: [98], 338: [102], 341: [106], 345: [108], 347: [109], 350: [112], 352: [115], 355: [117], 356: [118], 362: [122], 367: [126], 368: [127], 375: [130], 379: [133], 388: [138], 393: [141], 419: [156], 425: [160], 445: [176], 448: [177], 449: [178], 455: [181], 458: [185], 473: [194], 476: [195], 482: [199], 485: [201], 486: [202], 487: [203], 499: [208], 503: [210], 506: [212], 507: [213], 514: [220], 517: [222], 520: [226], 523: [228], 530: [234], 532: [236], 533: [237]}\n",
      "(9, 4)\n",
      "{181: [0], 184: [2], 193: [7], 195: [8], 199: [11], 205: [13], 206: [15], 212: [19], 236: [38], 239: [41], 242: [44], 243: [45], 252: [52], 264: [60], 265: [61], 274: [67], 282: [71], 300: [78], 303: [81], 305: [83], 306: [84], 308: [86], 313: [88], 315: [90], 321: [92], 328: [96], 330: [98], 357: [111], 363: [115], 365: [116], 366: [117], 368: [118], 373: [122], 374: [123], 376: [124], 381: [127], 385: [129], 388: [131], 413: [147], 436: [159], 442: [163], 445: [167], 447: [168], 450: [170], 455: [171], 460: [175], 479: [184]}\n",
      "(9, 7)\n",
      "{188: [0], 192: [3], 194: [4], 195: [5], 200: [8], 203: [10], 205: [11], 216: [17], 218: [19], 221: [20], 225: [21], 227: [23], 236: [27], 240: [31], 241: [32], 243: [34], 249: [40], 251: [42], 255: [44], 260: [47], 261: [48], 263: [50], 265: [52], 266: [53], 272: [55], 273: [56], 283: [57], 284: [58], 285: [59], 286: [60], 288: [61], 294: [65], 295: [66], 296: [67], 297: [68], 299: [70], 302: [73], 307: [78], 320: [87], 327: [91], 335: [97], 340: [101], 343: [104], 345: [106], 347: [107], 348: [108], 351: [110], 362: [114], 364: [116], 368: [117], 371: [120], 372: [121], 377: [128], 386: [133], 387: [134], 388: [135], 401: [143], 416: [153], 424: [163], 429: [167], 434: [171], 436: [173], 437: [174], 441: [176], 443: [177], 456: [182], 458: [184], 462: [186], 466: [190], 477: [194], 479: [197]}\n",
      "(9, 8)\n",
      "{202: [1], 206: [3], 208: [5], 211: [7], 216: [11], 217: [12], 218: [13], 221: [16], 223: [17], 226: [18], 232: [23], 238: [26], 240: [29], 246: [33], 249: [37], 250: [38], 255: [42], 256: [43], 259: [45], 260: [46], 263: [48], 265: [50], 268: [53], 269: [54], 274: [59], 275: [60], 277: [62], 279: [63], 281: [64], 282: [65], 283: [66], 286: [68], 288: [70], 295: [74], 296: [75], 297: [76], 300: [79], 302: [81], 312: [91], 313: [92], 314: [93], 317: [95], 318: [96], 321: [98], 327: [101], 329: [103], 330: [104], 344: [115], 356: [124], 359: [127], 380: [140], 381: [141], 389: [144], 390: [145], 391: [146], 400: [151], 402: [152], 403: [153], 409: [156], 411: [157], 412: [158], 423: [165], 432: [175], 440: [182], 447: [187], 453: [194], 454: [195], 462: [201], 476: [210], 481: [213], 482: [214], 486: [216], 493: [222]}\n",
      "(9, 9)\n",
      "{198: [0], 200: [2], 207: [8], 210: [9], 217: [11], 221: [16], 224: [19], 229: [22], 230: [23], 234: [26], 237: [27], 239: [29], 245: [32], 247: [33], 250: [36], 252: [38], 253: [39], 254: [40], 258: [44], 262: [47], 265: [49], 271: [56], 293: [76], 294: [77], 295: [78], 298: [80], 299: [81], 305: [85], 307: [86], 309: [88], 313: [91], 315: [92], 322: [94], 327: [98], 328: [99], 338: [109], 344: [114], 346: [116], 348: [118], 351: [120], 358: [124], 361: [126], 365: [131], 366: [132], 368: [133], 369: [134], 380: [140], 381: [141], 394: [149], 418: [160], 424: [167], 431: [169], 433: [170], 435: [171], 439: [174], 440: [175], 447: [177], 451: [180], 453: [181], 456: [184], 457: [185], 460: [187], 462: [190], 463: [191], 476: [198], 484: [200], 506: [215], 508: [217], 511: [219], 513: [220], 515: [221], 521: [225], 523: [227]}\n",
      "(9, 10)\n",
      "{200: [1], 202: [4], 203: [5], 210: [9], 211: [10], 226: [16], 227: [17], 230: [18], 234: [20], 236: [22], 241: [27], 243: [28], 244: [29], 248: [33], 255: [36], 256: [38], 260: [40], 265: [43], 272: [46], 275: [47], 276: [49], 283: [53], 300: [61], 310: [68], 314: [69], 316: [72], 319: [74], 341: [88], 344: [90], 353: [98], 367: [100], 370: [102], 377: [107], 383: [112], 385: [114], 390: [117], 391: [118], 392: [119], 395: [122], 397: [125], 398: [126], 400: [127], 403: [129], 406: [130], 408: [131], 410: [132], 425: [140], 430: [142], 432: [143], 441: [144], 448: [148], 455: [152], 464: [160], 466: [162], 468: [164], 469: [165], 472: [168], 483: [172], 486: [176], 490: [178], 502: [186], 507: [188], 524: [198]}\n",
      "(9, 11)\n",
      "{203: [18], 214: [24], 216: [26], 219: [27], 220: [28], 233: [35], 236: [36], 239: [38], 241: [40], 242: [41], 243: [42], 244: [43], 247: [45], 257: [56], 259: [58], 260: [59], 261: [60], 262: [62], 267: [63], 272: [67], 279: [74], 283: [76], 286: [78], 287: [79], 291: [81], 292: [82], 293: [83], 295: [84], 299: [87], 303: [90], 306: [92], 318: [100], 319: [101], 320: [102], 321: [103], 328: [108], 329: [109], 330: [110], 331: [111], 335: [114], 337: [116], 339: [118], 342: [120], 344: [122], 351: [127], 360: [132], 364: [135], 367: [138], 371: [141], 380: [153], 394: [168], 403: [174], 411: [179], 412: [180], 416: [183], 420: [186], 428: [190], 433: [195], 436: [196], 437: [198], 450: [214], 452: [217], 453: [219], 455: [221]}\n",
      "(9, 12)\n",
      "{206: [3], 216: [10], 222: [13], 225: [15], 230: [19], 231: [20], 248: [31], 250: [33], 253: [35], 265: [44], 274: [53], 278: [57], 284: [64], 286: [66], 287: [67], 291: [73], 296: [79], 304: [81], 307: [82], 308: [83], 316: [88], 320: [91], 325: [94], 326: [95], 328: [96], 329: [97], 334: [100], 338: [103], 340: [105], 341: [106], 342: [107], 343: [108], 361: [123], 363: [125], 365: [127], 366: [128], 370: [130], 374: [133], 376: [135], 377: [136], 381: [140], 386: [143], 387: [144], 388: [145], 394: [149], 396: [151], 397: [152], 402: [154], 403: [155], 405: [157], 407: [159], 410: [160], 411: [162], 413: [164], 417: [167], 422: [169], 423: [170], 426: [173], 429: [175], 430: [176], 438: [183], 439: [184], 441: [185], 453: [194], 457: [196], 465: [201], 467: [204], 468: [205], 470: [206], 473: [209], 478: [212], 480: [213], 488: [218], 499: [223], 502: [225], 503: [226], 507: [228], 513: [233], 515: [235]}\n",
      "(9, 16)\n",
      "{200: [4], 217: [12], 235: [18], 238: [19], 243: [22], 245: [26], 257: [35], 262: [39], 263: [40], 278: [51], 285: [55], 286: [56], 288: [57], 298: [62], 302: [64], 303: [65], 308: [67], 312: [71], 315: [73], 328: [84], 332: [87], 333: [88], 337: [91], 339: [92], 341: [94], 344: [96], 347: [97], 349: [99], 350: [100], 351: [101], 353: [102], 361: [108], 365: [112], 368: [116], 371: [118], 375: [122], 377: [124], 378: [125], 379: [126], 383: [127], 389: [133], 391: [135], 395: [140], 407: [149], 409: [151], 415: [156], 417: [157], 420: [160], 423: [162], 424: [163], 433: [170], 434: [171], 444: [173], 460: [180], 463: [183], 464: [184], 469: [187], 472: [189], 478: [193], 497: [201], 505: [202], 507: [204], 508: [205], 510: [206], 513: [208], 518: [212], 519: [213]}\n",
      "(9, 17)\n",
      "{194: [0], 195: [1], 218: [19], 224: [22], 229: [25], 230: [26], 233: [28], 234: [29], 235: [31], 245: [36], 246: [37], 248: [38], 252: [40], 258: [44], 261: [45], 263: [47], 265: [49], 266: [50], 268: [51], 270: [52], 273: [53], 279: [57], 283: [59], 285: [61], 289: [66], 292: [68], 296: [71], 315: [80], 316: [81], 320: [83], 325: [86], 329: [89], 333: [91], 334: [92], 337: [96], 339: [98], 342: [102], 346: [103], 359: [116], 361: [117], 362: [118], 366: [119], 369: [120], 380: [126], 381: [127], 387: [133], 394: [136], 406: [139], 413: [142], 416: [143], 426: [147], 440: [153], 445: [156], 452: [159], 466: [165], 469: [168], 475: [175], 476: [176], 479: [177], 482: [179]}\n",
      "(9, 18)\n",
      "{197: [0], 207: [7], 210: [11], 213: [14], 214: [15], 215: [16], 216: [17], 217: [18], 218: [19], 226: [24], 229: [26], 231: [27], 232: [28], 233: [29], 241: [35], 244: [38], 246: [39], 250: [43], 251: [44], 255: [46], 260: [49], 262: [51], 269: [56], 271: [58], 272: [59], 275: [61], 276: [62], 277: [63], 278: [64], 279: [65], 280: [66], 281: [67], 286: [70], 290: [72], 293: [75], 294: [76], 295: [77], 298: [80], 300: [81], 308: [89], 316: [94], 324: [101], 339: [109], 341: [112], 342: [114], 345: [116], 347: [118], 348: [120], 349: [121], 352: [124], 354: [125], 357: [127], 363: [130], 366: [133], 367: [134], 370: [139], 380: [146], 382: [147], 383: [148], 400: [156], 402: [158], 405: [159], 413: [162], 417: [165], 421: [169], 425: [173], 428: [175], 431: [176], 433: [178], 436: [180], 437: [181], 438: [182], 441: [184], 463: [202], 468: [206], 476: [209], 484: [217], 486: [218], 489: [220], 491: [222], 494: [225], 498: [227]}\n"
     ]
    }
   ],
   "source": [
    "for x in alignment_seeds:\n",
    "    print(x)\n",
    "    print(alignment_seeds[x])"
   ],
   "metadata": {
    "collapsed": false,
    "pycharm": {
     "name": "#%%\n"
    }
   }
  },
  {
   "cell_type": "code",
   "execution_count": 82,
   "outputs": [
    {
     "name": "stdout",
     "output_type": "stream",
     "text": [
      "Season: 1 Episode: 1 Episode Number: 62 63 Subtitle Number: 62 63\n",
      "Season: 1 Episode: 2 Episode Number: 54 54 Subtitle Number: 54 54\n",
      "Season: 1 Episode: 3 Episode Number: 40 40 Subtitle Number: 40 40\n",
      "Season: 1 Episode: 4 Episode Number: 45 45 Subtitle Number: 45 45\n",
      "Season: 1 Episode: 5 Episode Number: 50 50 Subtitle Number: 50 50\n",
      "Season: 1 Episode: 6 Episode Number: 63 64 Subtitle Number: 63 64\n",
      "Season: 1 Episode: 7 Episode Number: 60 60 Subtitle Number: 60 60\n",
      "Season: 1 Episode: 8 Episode Number: 61 61 Subtitle Number: 61 62\n",
      "Season: 1 Episode: 9 Episode Number: 40 40 Subtitle Number: 40 40\n",
      "Season: 1 Episode: 10 Episode Number: 63 64 Subtitle Number: 63 64\n",
      "Season: 1 Episode: 11 Episode Number: 48 49 Subtitle Number: 48 49\n",
      "Season: 1 Episode: 12 Episode Number: 39 39 Subtitle Number: 39 39\n",
      "Season: 1 Episode: 13 Episode Number: 69 69 Subtitle Number: 69 69\n",
      "Season: 1 Episode: 14 Episode Number: 58 58 Subtitle Number: 58 59\n",
      "Season: 1 Episode: 15 Episode Number: 56 56 Subtitle Number: 56 58\n",
      "Season: 1 Episode: 16 Episode Number: 56 57 Subtitle Number: 56 57\n",
      "Season: 2 Episode: 4 Episode Number: 36 36 Subtitle Number: 36 36\n",
      "Season: 2 Episode: 6 Episode Number: 61 61 Subtitle Number: 61 61\n",
      "Season: 2 Episode: 8 Episode Number: 58 58 Subtitle Number: 58 58\n",
      "Season: 2 Episode: 9 Episode Number: 61 61 Subtitle Number: 61 62\n",
      "Season: 3 Episode: 21 Episode Number: 61 61 Subtitle Number: 61 61\n",
      "Season: 3 Episode: 23 Episode Number: 59 59 Subtitle Number: 59 59\n",
      "Season: 4 Episode: 1 Episode Number: 68 68 Subtitle Number: 68 68\n",
      "Season: 4 Episode: 3 Episode Number: 81 81 Subtitle Number: 81 81\n",
      "Season: 4 Episode: 4 Episode Number: 67 68 Subtitle Number: 67 69\n",
      "Season: 4 Episode: 5 Episode Number: 65 65 Subtitle Number: 65 65\n",
      "Season: 4 Episode: 6 Episode Number: 74 74 Subtitle Number: 74 74\n",
      "Season: 4 Episode: 8 Episode Number: 68 68 Subtitle Number: 68 69\n",
      "Season: 4 Episode: 16 Episode Number: 53 53 Subtitle Number: 53 53\n",
      "Season: 4 Episode: 19 Episode Number: 73 73 Subtitle Number: 73 73\n",
      "Season: 4 Episode: 21 Episode Number: 62 62 Subtitle Number: 62 62\n",
      "Season: 4 Episode: 22 Episode Number: 61 61 Subtitle Number: 61 61\n",
      "Season: 4 Episode: 23 Episode Number: 68 68 Subtitle Number: 68 69\n",
      "Season: 4 Episode: 24 Episode Number: 59 59 Subtitle Number: 59 59\n",
      "Season: 5 Episode: 2 Episode Number: 51 51 Subtitle Number: 51 51\n",
      "Season: 5 Episode: 6 Episode Number: 73 74 Subtitle Number: 73 75\n",
      "Season: 5 Episode: 12 Episode Number: 74 74 Subtitle Number: 74 74\n",
      "Season: 5 Episode: 14 Episode Number: 44 46 Subtitle Number: 44 46\n",
      "Season: 5 Episode: 15 Episode Number: 67 68 Subtitle Number: 67 68\n",
      "Season: 5 Episode: 20 Episode Number: 53 53 Subtitle Number: 53 54\n",
      "Season: 5 Episode: 23 Episode Number: 59 61 Subtitle Number: 59 61\n",
      "Season: 6 Episode: 2 Episode Number: 66 66 Subtitle Number: 66 66\n",
      "Season: 6 Episode: 3 Episode Number: 48 48 Subtitle Number: 48 48\n",
      "Season: 6 Episode: 4 Episode Number: 49 49 Subtitle Number: 49 49\n",
      "Season: 6 Episode: 5 Episode Number: 69 71 Subtitle Number: 69 71\n",
      "Season: 6 Episode: 6 Episode Number: 52 52 Subtitle Number: 52 52\n",
      "Season: 6 Episode: 7 Episode Number: 54 54 Subtitle Number: 54 54\n",
      "Season: 6 Episode: 8 Episode Number: 63 63 Subtitle Number: 63 63\n",
      "Season: 6 Episode: 9 Episode Number: 42 44 Subtitle Number: 42 44\n",
      "Season: 6 Episode: 14 Episode Number: 58 58 Subtitle Number: 58 58\n",
      "Season: 6 Episode: 15 Episode Number: 66 66 Subtitle Number: 66 66\n",
      "Season: 6 Episode: 16 Episode Number: 65 67 Subtitle Number: 65 67\n",
      "Season: 6 Episode: 17 Episode Number: 43 43 Subtitle Number: 43 43\n",
      "Season: 6 Episode: 19 Episode Number: 60 60 Subtitle Number: 60 60\n",
      "Season: 6 Episode: 20 Episode Number: 60 60 Subtitle Number: 60 60\n",
      "Season: 6 Episode: 21 Episode Number: 59 59 Subtitle Number: 59 59\n",
      "Season: 6 Episode: 24 Episode Number: 58 58 Subtitle Number: 58 58\n",
      "Season: 7 Episode: 1 Episode Number: 43 43 Subtitle Number: 43 43\n",
      "Season: 7 Episode: 2 Episode Number: 76 77 Subtitle Number: 76 78\n",
      "Season: 7 Episode: 6 Episode Number: 60 60 Subtitle Number: 60 61\n",
      "Season: 7 Episode: 10 Episode Number: 62 62 Subtitle Number: 62 62\n",
      "Season: 7 Episode: 11 Episode Number: 70 71 Subtitle Number: 70 71\n",
      "Season: 7 Episode: 15 Episode Number: 70 70 Subtitle Number: 70 71\n",
      "Season: 7 Episode: 16 Episode Number: 82 82 Subtitle Number: 82 82\n",
      "Season: 7 Episode: 17 Episode Number: 75 75 Subtitle Number: 75 75\n",
      "Season: 7 Episode: 18 Episode Number: 79 79 Subtitle Number: 79 79\n",
      "Season: 7 Episode: 19 Episode Number: 65 65 Subtitle Number: 65 65\n",
      "Season: 7 Episode: 20 Episode Number: 55 56 Subtitle Number: 55 56\n",
      "Season: 7 Episode: 22 Episode Number: 68 68 Subtitle Number: 68 68\n",
      "Season: 7 Episode: 23 Episode Number: 74 75 Subtitle Number: 74 75\n",
      "Season: 8 Episode: 1 Episode Number: 54 54 Subtitle Number: 54 54\n",
      "Season: 8 Episode: 2 Episode Number: 73 73 Subtitle Number: 73 73\n",
      "Season: 8 Episode: 3 Episode Number: 72 72 Subtitle Number: 72 72\n",
      "Season: 8 Episode: 5 Episode Number: 71 71 Subtitle Number: 71 71\n",
      "Season: 8 Episode: 6 Episode Number: 89 89 Subtitle Number: 89 89\n",
      "Season: 8 Episode: 7 Episode Number: 72 72 Subtitle Number: 72 72\n",
      "Season: 8 Episode: 9 Episode Number: 70 70 Subtitle Number: 70 70\n",
      "Season: 8 Episode: 11 Episode Number: 67 67 Subtitle Number: 67 67\n",
      "Season: 8 Episode: 12 Episode Number: 76 76 Subtitle Number: 76 76\n",
      "Season: 8 Episode: 14 Episode Number: 60 61 Subtitle Number: 60 61\n",
      "Season: 8 Episode: 15 Episode Number: 73 73 Subtitle Number: 73 73\n",
      "Season: 8 Episode: 16 Episode Number: 62 62 Subtitle Number: 62 62\n",
      "Season: 8 Episode: 17 Episode Number: 73 76 Subtitle Number: 73 76\n",
      "Season: 8 Episode: 18 Episode Number: 81 81 Subtitle Number: 81 81\n",
      "Season: 8 Episode: 19 Episode Number: 73 75 Subtitle Number: 73 75\n",
      "Season: 8 Episode: 20 Episode Number: 78 79 Subtitle Number: 78 79\n",
      "Season: 8 Episode: 21 Episode Number: 86 86 Subtitle Number: 86 87\n",
      "Season: 8 Episode: 22 Episode Number: 65 66 Subtitle Number: 65 66\n",
      "Season: 8 Episode: 23 Episode Number: 72 72 Subtitle Number: 72 72\n",
      "Season: 8 Episode: 24 Episode Number: 64 64 Subtitle Number: 64 64\n",
      "Season: 9 Episode: 1 Episode Number: 56 56 Subtitle Number: 56 56\n",
      "Season: 9 Episode: 3 Episode Number: 73 73 Subtitle Number: 73 73\n",
      "Season: 9 Episode: 4 Episode Number: 47 47 Subtitle Number: 47 47\n",
      "Season: 9 Episode: 7 Episode Number: 71 71 Subtitle Number: 71 72\n",
      "Season: 9 Episode: 8 Episode Number: 73 73 Subtitle Number: 73 74\n",
      "Season: 9 Episode: 9 Episode Number: 73 73 Subtitle Number: 73 74\n",
      "Season: 9 Episode: 10 Episode Number: 63 64 Subtitle Number: 63 64\n",
      "Season: 9 Episode: 11 Episode Number: 64 66 Subtitle Number: 64 66\n",
      "Season: 9 Episode: 12 Episode Number: 79 79 Subtitle Number: 79 80\n",
      "Season: 9 Episode: 16 Episode Number: 67 68 Subtitle Number: 67 69\n",
      "Season: 9 Episode: 17 Episode Number: 60 60 Subtitle Number: 60 60\n",
      "Season: 9 Episode: 18 Episode Number: 82 82 Subtitle Number: 82 82\n"
     ]
    }
   ],
   "source": [
    "further_alignment = {}\n",
    "for (i, j) in alignment_seeds.keys():\n",
    "    temp = get_alignment_extend_neighbors(tbbt_transcripts, en_subtitle, zh_subtitle, results, i, j, 200)\n",
    "    further_alignment[(i,j)] = temp\n",
    "    print(\"Season:\", i,\"Episode:\", j, \"Episode Number:\",len(turn_sub2epi_into_epi2sub(alignment_seeds[(i,j)])), len(temp), \"Subtitle Number:\", len(alignment_seeds[(i,j)]),len(turn_sub2epi_into_epi2sub(temp)))"
   ],
   "metadata": {
    "collapsed": false,
    "pycharm": {
     "name": "#%%\n"
    }
   }
  },
  {
   "cell_type": "code",
   "execution_count": 83,
   "outputs": [
    {
     "name": "stdout",
     "output_type": "stream",
     "text": [
      "(1, 1)\n",
      "{0: [200], 9: [217], 15: [229], 16: [231], 17: [234], 28: [242], 34: [248], 35: [250], 63: [267], 65: [269], 75: [284], 88: [294], 89: [295], 90: [296], 96: [303], 102: [309], 108: [314], 115: [318], 117: [326], 134: [342], 135: [343], 145: [358], 148: [361], 154: [370], 155: [373], 160: [379], 162: [388], 164: [390], 171: [395], 173: [398], 175: [401], 176: [402], 177: [403], 183: [409], 186: [412], 193: [420], 201: [427], 207: [432], 208: [433], 210: [439], 215: [444], 226: [456], 228: [457], 232: [464], 237: [470], 240: [473], 241: [476], 242: [478], 245: [482], 258: [496], 259: [497], 262: [501], 270: [509], 275: [514], 280: [519], 288: [532], 295: [539], 296: [541], 297: [542], 302: [548], 304: [550], 309: [556], 314: [561]}\n",
      "====================================================================================================\n",
      "(1, 2)\n",
      "{2: [167], 18: [186], 20: [188], 25: [193], 39: [209], 42: [213], 49: [228], 52: [232], 54: [234], 60: [241], 61: [244], 64: [249], 65: [252], 71: [261], 72: [262], 82: [281], 90: [288], 93: [292], 94: [293], 105: [299], 115: [309], 116: [310], 117: [311], 118: [313], 120: [315], 121: [316], 123: [318], 129: [324], 134: [329], 137: [331], 140: [335], 142: [337], 147: [343], 157: [352], 159: [354], 161: [359], 164: [362], 168: [369], 173: [376], 174: [380], 178: [396], 179: [397], 186: [405], 188: [407], 190: [410], 192: [412], 208: [434], 213: [440], 219: [448], 221: [451], 222: [454], 223: [455], 226: [459], 232: [466]}\n",
      "====================================================================================================\n",
      "(1, 3)\n",
      "{3: [182], 4: [184], 19: [202], 28: [214], 32: [218], 51: [240], 52: [242], 55: [245], 56: [247], 57: [249], 60: [252], 62: [255], 73: [267], 77: [272], 78: [275], 79: [277], 81: [279], 84: [281], 100: [301], 101: [303], 103: [305], 110: [312], 111: [314], 113: [318], 122: [332], 134: [352], 158: [382], 161: [385], 164: [389], 166: [391], 187: [425], 192: [430], 194: [433], 203: [442], 212: [455], 213: [457], 220: [468], 224: [471], 239: [485], 240: [487]}\n",
      "====================================================================================================\n",
      "(1, 4)\n",
      "{7: [200], 10: [204], 15: [208], 19: [222], 25: [231], 35: [241], 42: [247], 52: [262], 63: [273], 64: [275], 67: [279], 77: [289], 79: [294], 80: [298], 84: [304], 86: [307], 92: [310], 95: [315], 96: [317], 99: [321], 103: [326], 104: [329], 108: [334], 111: [338], 119: [347], 121: [351], 138: [371], 139: [372], 142: [376], 146: [378], 151: [383], 152: [384], 157: [398], 158: [399], 161: [406], 167: [418], 168: [423], 174: [433], 179: [437], 180: [438], 182: [440], 190: [449], 193: [454], 206: [467], 215: [476]}\n",
      "====================================================================================================\n",
      "(1, 5)\n",
      "{0: [189], 1: [191], 2: [193], 3: [194], 5: [197], 10: [203], 17: [209], 20: [213], 22: [216], 23: [217], 24: [218], 33: [227], 39: [235], 41: [238], 43: [240], 45: [243], 57: [259], 60: [266], 63: [271], 75: [281], 79: [284], 87: [294], 88: [297], 92: [303], 100: [310], 108: [318], 110: [320], 112: [323], 117: [329], 118: [330], 125: [342], 143: [374], 146: [377], 148: [379], 150: [382], 157: [389], 158: [390], 161: [391], 164: [397], 166: [404], 172: [411], 178: [415], 183: [420], 206: [446], 208: [448], 212: [452], 214: [453], 217: [459], 218: [461], 220: [465]}\n",
      "====================================================================================================\n",
      "(1, 6)\n",
      "{2: [199], 5: [203], 7: [205], 8: [206], 9: [207], 14: [211], 20: [218], 26: [223], 35: [231], 49: [241], 50: [242], 51: [243], 53: [246], 57: [249], 61: [260], 62: [261], 66: [266], 68: [268], 70: [272], 80: [286], 81: [287], 83: [289], 85: [292], 88: [296], 91: [300], 101: [313], 103: [316], 106: [321], 107: [324], 108: [325], 109: [327], 112: [330], 114: [333], 118: [339], 128: [350], 132: [351], 152: [373], 155: [376, 377], 156: [377], 158: [380], 159: [381], 161: [385], 163: [389], 166: [392], 172: [398], 173: [399], 174: [400], 182: [409], 185: [415], 189: [419], 191: [425], 196: [429], 197: [430], 198: [432], 199: [433], 200: [434], 210: [448], 221: [458], 222: [459], 223: [460], 225: [465], 232: [469], 234: [471], 238: [477]}\n",
      "====================================================================================================\n",
      "(1, 7)\n",
      "{10: [195], 13: [198], 16: [200], 21: [208], 22: [209], 23: [210], 25: [213], 26: [215], 32: [224], 35: [230], 44: [241], 46: [243], 48: [245], 59: [257], 61: [259], 63: [262], 64: [263], 69: [267], 75: [273], 82: [281], 83: [282], 87: [287], 90: [289], 91: [290], 93: [292], 98: [300], 104: [304], 113: [315], 117: [318], 123: [327], 128: [332], 134: [342], 156: [367], 160: [372], 169: [384], 170: [386], 176: [392], 178: [395], 181: [399], 182: [401], 186: [407], 196: [418], 200: [424], 204: [429], 208: [432], 213: [436], 214: [437], 215: [438], 216: [440], 225: [448], 229: [453], 232: [456], 238: [462], 242: [466], 244: [468], 246: [471], 249: [474], 263: [492], 265: [493], 272: [498]}\n",
      "====================================================================================================\n",
      "(1, 8)\n",
      "{3: [166], 6: [168], 8: [171], 22: [186], 24: [187], 35: [199], 36: [200], 41: [204], 46: [211], 54: [222], 58: [227], 59: [228], 63: [234], 64: [235], 71: [240], 72: [241], 74: [245], 75: [247], 76: [248], 78: [252], 93: [270], 102: [281], 103: [282, 283], 108: [290], 120: [303], 122: [304], 126: [308], 128: [312], 132: [320], 141: [331], 142: [333], 143: [337], 144: [338], 146: [341], 152: [349], 154: [352], 159: [359], 160: [361], 165: [365], 172: [372], 179: [385], 180: [388], 183: [393], 189: [400], 191: [403], 194: [407], 195: [408], 199: [410], 201: [412], 209: [422], 214: [425], 215: [426], 218: [429], 221: [433], 229: [442], 230: [443], 232: [445], 239: [455], 246: [462], 256: [472], 261: [478]}\n",
      "====================================================================================================\n",
      "(1, 9)\n",
      "{10: [211], 11: [212], 12: [213], 19: [219], 25: [226], 31: [231], 33: [237], 35: [239], 36: [240], 37: [241], 38: [242], 39: [243], 40: [245], 45: [252], 49: [258], 53: [263], 54: [266], 56: [268], 67: [278], 71: [290], 72: [291], 98: [319], 111: [336], 112: [339], 117: [346], 122: [351], 129: [358], 131: [360], 143: [370], 145: [372], 171: [399], 172: [400], 179: [412], 180: [413], 181: [414], 182: [415], 184: [419], 192: [435], 201: [450], 218: [481]}\n",
      "====================================================================================================\n",
      "(1, 10)\n",
      "{0: [191], 1: [193], 3: [196], 16: [213], 17: [214], 33: [230], 35: [231], 36: [232], 37: [233], 41: [236], 49: [244], 52: [248], 57: [251], 58: [252], 62: [259], 63: [260], 67: [263], 69: [264], 72: [267], 73: [268], 75: [269], 78: [273], 88: [285], 90: [290], 92: [292], 94: [294], 100: [303], 101: [304], 106: [310], 108: [312], 109: [313], 110: [313, 314], 112: [317], 113: [318], 126: [331], 133: [336], 138: [345], 140: [350], 142: [354], 148: [359], 153: [366], 157: [370], 160: [373], 161: [375], 163: [378], 164: [379], 165: [380], 166: [381], 171: [387], 177: [398], 178: [399], 181: [403], 182: [406], 184: [409], 186: [410], 188: [414], 195: [425], 200: [431], 213: [450], 215: [452], 217: [454], 218: [455], 220: [458], 223: [464]}\n",
      "====================================================================================================\n",
      "(1, 11)\n",
      "{4: [193], 10: [201], 24: [223], 27: [227], 29: [229], 35: [234], 41: [245], 45: [248], 46: [249], 47: [250], 48: [251], 50: [253], 53: [256], 61: [262], 64: [266], 66: [268], 77: [278], 104: [306], 105: [308], 118: [330], 120: [334], 122: [336], 123: [337], 124: [338], 127: [341], 136: [353], 138: [355], 141: [362], 143: [365], 154: [379], 156: [381], 158: [385], 163: [391], 171: [400], 175: [410], 176: [411], 182: [416], 186: [420], 190: [422], 197: [433], 198: [435], 207: [447], 220: [466], 223: [469], 227: [472], 229: [473], 234: [477], 239: [481], 243: [485]}\n",
      "====================================================================================================\n",
      "(1, 12)\n",
      "{104: [335], 107: [339], 109: [341], 111: [344], 113: [349], 118: [352], 119: [353], 125: [360], 129: [364], 130: [365], 131: [366], 133: [369], 135: [372], 141: [380], 143: [382], 144: [384], 160: [405], 169: [420], 172: [423], 178: [427], 185: [434], 186: [437], 188: [441], 194: [450], 195: [451], 197: [453], 198: [454], 201: [458], 206: [464], 207: [465], 208: [466], 210: [468], 215: [472], 219: [477], 221: [480], 224: [484], 225: [485], 228: [490], 229: [491]}\n",
      "====================================================================================================\n",
      "(1, 13)\n",
      "{4: [207], 5: [209], 6: [212], 10: [221], 12: [222], 15: [226], 21: [231], 23: [236], 28: [241], 33: [249], 37: [255], 40: [261], 41: [263], 45: [268], 46: [271], 51: [276], 54: [280], 64: [293], 68: [297], 71: [301], 72: [302], 74: [305], 79: [308], 83: [312], 84: [313], 85: [314], 86: [315], 87: [320], 90: [323], 94: [329], 96: [330], 100: [336], 103: [338], 105: [341], 111: [346], 113: [351], 114: [352], 115: [353], 121: [357], 123: [360], 126: [363], 130: [367], 132: [369], 134: [371], 136: [374], 139: [378], 146: [386], 161: [408], 163: [410], 175: [427], 177: [432], 179: [437], 183: [441], 186: [444], 187: [445], 189: [447], 193: [456], 195: [458], 201: [465], 207: [473], 209: [478], 211: [480], 212: [481], 222: [488], 225: [491], 231: [496], 239: [503], 242: [509], 245: [514]}\n",
      "====================================================================================================\n",
      "(1, 14)\n",
      "{0: [200], 5: [207], 6: [208], 8: [210], 14: [216], 17: [219], 33: [234], 41: [249], 43: [252], 44: [255], 46: [257], 47: [258], 49: [261], 54: [272], 67: [286], 71: [291], 76: [300], 81: [310], 85: [318], 86: [320], 97: [333], 103: [343], 106: [348], 108: [350], 110: [353], 112: [355], 115: [361], 117: [364], 123: [372], 124: [373], 125: [375], 127: [380], 128: [381], 130: [383], 140: [398], 141: [400], 143: [405], 145: [407], 154: [416], 161: [421], 166: [429], 171: [432], 172: [433], 176: [437], 179: [441], 184: [448], 189: [454], 192: [457], 198: [467], 199: [468], 201: [470], 205: [474], 211: [489], 214: [493], 215: [494, 495], 226: [504], 229: [510], 230: [511]}\n",
      "====================================================================================================\n",
      "(1, 15)\n",
      "{0: [176], 16: [200], 24: [210], 25: [211], 33: [225], 37: [230], 40: [235], 43: [240], 44: [241], 49: [247], 56: [255], 57: [256], 58: [257], 61: [261], 62: [263], 72: [278], 75: [281], 80: [288], 81: [289], 83: [292], 88: [298], 99: [310], 121: [334], 126: [341], 128: [343], 132: [347], 133: [349], 136: [352], 137: [353], 142: [362], 146: [367], 147: [368], 149: [371], 154: [377], 155: [379], 158: [384], 159: [385], 160: [387], 164: [390, 391, 392], 166: [394], 167: [395], 168: [396], 169: [398], 170: [399], 173: [405], 174: [407], 176: [411], 181: [425], 183: [429], 185: [434], 196: [448], 198: [450], 223: [476], 225: [479], 227: [481], 230: [484]}\n",
      "====================================================================================================\n",
      "(1, 16)\n",
      "{0: [184], 2: [186], 3: [187], 6: [194], 9: [196], 12: [200], 13: [202], 19: [208], 25: [218], 33: [231], 37: [236], 43: [245], 44: [246], 47: [250], 48: [251], 49: [252], 53: [260], 54: [261], 57: [265], 59: [270], 63: [276], 67: [280], 89: [306], 91: [307], 95: [311], 102: [317], 105: [321], 107: [323], 108: [324], 116: [334], 117: [335], 118: [336], 125: [346], 127: [348], 130: [350], 136: [360], 142: [366], 144: [368], 157: [378], 158: [380], 162: [384], 170: [394], 171: [395], 172: [396], 173: [397], 174: [398], 179: [402], 180: [403], 191: [417], 196: [423], 197: [424], 199: [428], 204: [434], 207: [436], 211: [441], 218: [448], 220: [451]}\n",
      "====================================================================================================\n",
      "(2, 4)\n",
      "{5: [197], 14: [210], 29: [242], 48: [288], 51: [292], 54: [297], 56: [304], 73: [332], 95: [361], 99: [366], 116: [400], 117: [401], 119: [403], 120: [407], 131: [429], 137: [435], 140: [443], 142: [448], 143: [449], 153: [460], 187: [502], 188: [503], 191: [507], 199: [512], 206: [522], 211: [528], 220: [551], 221: [552], 226: [567], 227: [570], 230: [573], 235: [576], 236: [577], 241: [585], 242: [586], 255: [613]}\n",
      "====================================================================================================\n",
      "(2, 6)\n",
      "{3: [201], 7: [212], 10: [221], 12: [225], 16: [228], 17: [229], 23: [239], 24: [242], 27: [244], 28: [245], 30: [247], 31: [249], 33: [252], 39: [257], 40: [260], 41: [261], 42: [264], 55: [281], 60: [284], 65: [292], 66: [293], 68: [297], 75: [306], 78: [314], 79: [315], 82: [319], 83: [320], 84: [321], 85: [322], 86: [323], 96: [333], 99: [337], 104: [344], 110: [351], 112: [352], 126: [369], 138: [383], 139: [384], 140: [385], 144: [390], 145: [392], 148: [394], 153: [402], 155: [404], 157: [405], 158: [406], 170: [420], 172: [422], 179: [429], 180: [430], 181: [431], 188: [439], 192: [443], 196: [446], 198: [448], 200: [450], 204: [455], 208: [460], 218: [469], 220: [471], 224: [477]}\n",
      "====================================================================================================\n",
      "(2, 8)\n",
      "{0: [170], 1: [171], 2: [172], 5: [175], 8: [179], 15: [194], 16: [195], 17: [196], 18: [198], 20: [200], 23: [206], 24: [207], 30: [213], 38: [222], 40: [225], 41: [227], 42: [229], 43: [231], 46: [235], 49: [237], 54: [241], 55: [242], 56: [244], 57: [245], 58: [247], 59: [248], 60: [251], 62: [254], 69: [263], 70: [264], 74: [274], 77: [277], 83: [284], 86: [288], 89: [291], 91: [292], 93: [294], 97: [298], 101: [303], 104: [306], 106: [308], 115: [315], 117: [317], 119: [318], 120: [319], 123: [324], 132: [332], 142: [343], 144: [348], 148: [357], 152: [360], 165: [369], 167: [371], 185: [393], 190: [399], 194: [410], 206: [420], 215: [427]}\n",
      "====================================================================================================\n",
      "(2, 9)\n",
      "{4: [202], 8: [208], 12: [211], 14: [214], 16: [216], 22: [222], 24: [226], 26: [231], 29: [234], 49: [260], 54: [270], 57: [275], 59: [278], 60: [279], 61: [280], 62: [282], 63: [283], 68: [291, 292], 70: [292, 293], 82: [307], 83: [308], 84: [310], 89: [321], 90: [325], 91: [326], 97: [330], 103: [335], 107: [343], 108: [344], 110: [348], 111: [349], 112: [350], 113: [351], 114: [352], 115: [353], 119: [357], 120: [358], 123: [361], 124: [362], 125: [363], 126: [366], 127: [368], 135: [376], 142: [389], 143: [392], 149: [396], 154: [403], 160: [410], 166: [415], 168: [417], 169: [419], 171: [423], 172: [424], 174: [426], 177: [431], 185: [439], 189: [442], 194: [447], 198: [454], 200: [456], 201: [459]}\n",
      "====================================================================================================\n",
      "(3, 21)\n",
      "{10: [204], 15: [209], 17: [212], 18: [213], 20: [215], 25: [223], 29: [231], 32: [236], 33: [237], 35: [240], 37: [246], 43: [259], 45: [261], 47: [262], 49: [264], 53: [272], 55: [274], 57: [276], 60: [285], 61: [290], 63: [293], 69: [313], 73: [321], 79: [329], 86: [351], 89: [355], 104: [378], 105: [379], 112: [386], 114: [389], 123: [398], 126: [399], 128: [403], 132: [410], 134: [413], 135: [414], 143: [421], 145: [422], 150: [434], 152: [437], 154: [439], 162: [447], 163: [449], 173: [461], 175: [464], 176: [465], 181: [477], 184: [479], 186: [482], 187: [483], 188: [484], 199: [493], 201: [495], 216: [513], 231: [530], 238: [537], 241: [540], 246: [547], 247: [548], 253: [554], 254: [555]}\n",
      "====================================================================================================\n",
      "(3, 23)\n",
      "{3: [193], 7: [200], 11: [207], 12: [208], 15: [212], 20: [218], 21: [220], 26: [227], 41: [244], 48: [252], 52: [256], 59: [265], 68: [279], 70: [281], 75: [289], 77: [291], 82: [296], 85: [298], 87: [302], 89: [304], 90: [305], 91: [307], 100: [320], 105: [323], 111: [331], 121: [342], 126: [349], 128: [353], 129: [355], 134: [362], 135: [364], 141: [373], 144: [377], 145: [378], 157: [392], 162: [397], 163: [399], 169: [405], 170: [407], 178: [417], 192: [432], 206: [451], 207: [452], 208: [454], 209: [456], 211: [459], 216: [468], 218: [470], 225: [478], 229: [482], 232: [484], 234: [486], 238: [495], 240: [501], 241: [502], 242: [503], 243: [505], 244: [506], 246: [508]}\n",
      "====================================================================================================\n",
      "(4, 1)\n",
      "{3: [177], 6: [181], 7: [182], 9: [185], 13: [190], 16: [192], 24: [200], 25: [202], 26: [203], 29: [209], 36: [226], 46: [245], 47: [246], 50: [253], 51: [254], 52: [255], 54: [259], 55: [261], 56: [262], 60: [266], 61: [267], 66: [273], 72: [276], 75: [282], 77: [285], 78: [286], 80: [288], 82: [290], 95: [303], 98: [306], 109: [321], 110: [322], 111: [324], 116: [329], 117: [330], 124: [337], 132: [345], 135: [348], 139: [353], 149: [364], 153: [369], 161: [377], 163: [381], 169: [386], 176: [390], 183: [401], 185: [405], 187: [410], 189: [414], 193: [416], 194: [417], 196: [418], 198: [419], 200: [421], 201: [423], 202: [425], 205: [432], 221: [452], 222: [453], 225: [455], 227: [459], 228: [461], 229: [462], 230: [463], 232: [465], 235: [470], 237: [474], 240: [478]}\n",
      "====================================================================================================\n",
      "(4, 3)\n",
      "{1: [200], 6: [207], 11: [213], 13: [216], 16: [222], 19: [227], 22: [230], 24: [237], 26: [240], 30: [257], 33: [263], 40: [271], 51: [281], 59: [291], 60: [292], 62: [297], 63: [298], 69: [308], 71: [311], 74: [316], 77: [319], 78: [321], 79: [322], 84: [329], 85: [330], 87: [334], 91: [340], 96: [348], 102: [356], 103: [357], 104: [358], 107: [361], 122: [375], 124: [377], 133: [383], 135: [385], 136: [387], 138: [389], 142: [396], 143: [397], 144: [399], 145: [400], 146: [401], 157: [410], 158: [412], 163: [418], 164: [421], 169: [427], 170: [430], 171: [431], 176: [435], 177: [436], 178: [437], 181: [441], 182: [442], 189: [450], 194: [454], 203: [458], 205: [460], 206: [462], 211: [475], 214: [486], 217: [488], 228: [504], 230: [507], 232: [510], 233: [513], 240: [521], 241: [523], 244: [529], 248: [535], 254: [542], 255: [545], 256: [546], 259: [548], 260: [550], 261: [551], 263: [555], 264: [556], 265: [560], 266: [563]}\n",
      "====================================================================================================\n",
      "(4, 4)\n",
      "{0: [199], 2: [203], 3: [207], 4: [208], 5: [209], 14: [226], 18: [231], 22: [238], 24: [241], 29: [246], 30: [248], 33: [252], 37: [258], 39: [261], 46: [270], 49: [274], 50: [276], 52: [279], 58: [289], 61: [292], 62: [293], 64: [297], 66: [300], 75: [312], 76: [313], 78: [314], 79: [315], 87: [322], 89: [324], 90: [325], 93: [328], 94: [329], 102: [343], 109: [352], 110: [353], 111: [355], 122: [372], 128: [378], 131: [380], 133: [383], 135: [386], 137: [388], 142: [394], 144: [402], 152: [411], 153: [414], 155: [416], 162: [426], 164: [429], 169: [437], 176: [443], 178: [445], 188: [461, 462], 191: [469], 197: [477], 200: [480], 204: [483], 205: [486], 207: [489], 209: [491], 213: [495], 214: [496], 235: [530], 237: [536], 242: [543], 244: [547], 245: [548], 246: [549]}\n",
      "====================================================================================================\n",
      "(4, 5)\n",
      "{0: [176], 1: [178], 5: [184], 6: [188], 9: [192], 11: [194], 13: [197], 18: [204], 20: [207], 22: [210], 28: [219], 29: [220], 35: [227], 37: [231], 48: [246], 56: [255], 57: [257], 59: [259], 67: [265], 70: [268], 73: [273], 77: [276], 78: [278], 79: [280], 82: [286], 97: [303], 104: [309], 111: [322], 112: [323], 125: [342], 126: [343], 129: [349], 130: [350], 132: [353], 133: [354], 134: [355], 135: [356], 139: [359], 143: [362], 144: [363], 147: [369], 153: [379], 156: [382], 159: [385], 160: [386], 162: [390], 171: [406], 179: [436], 183: [440], 191: [452], 192: [454], 196: [458], 197: [459], 198: [460], 204: [468], 205: [469], 206: [470], 209: [476], 210: [477], 211: [478], 215: [484], 216: [485], 221: [493], 223: [494], 224: [496]}\n",
      "====================================================================================================\n",
      "(4, 6)\n",
      "{10: [199], 11: [200], 12: [201], 13: [202], 22: [215], 31: [222], 32: [223], 33: [224], 37: [229], 43: [238], 48: [243], 53: [249], 54: [251], 56: [259], 64: [277], 65: [278], 67: [281], 72: [287], 73: [288], 77: [291], 78: [293], 81: [298], 84: [302], 97: [323], 100: [327], 101: [328], 104: [333], 106: [335], 107: [340], 112: [343], 115: [347], 118: [353], 119: [354], 121: [356], 123: [358], 129: [366], 135: [374], 137: [376], 139: [377], 142: [381], 143: [382], 147: [387], 158: [402], 159: [403], 162: [407], 163: [408], 174: [416], 180: [423], 182: [426], 184: [431], 186: [432], 189: [437], 191: [439], 192: [440], 193: [441], 194: [443], 199: [447], 204: [454], 207: [459], 208: [461], 209: [462], 210: [463], 215: [467], 216: [469], 218: [471], 225: [478], 226: [479], 227: [480], 230: [484], 231: [487], 232: [488], 237: [493], 239: [498], 242: [502]}\n",
      "====================================================================================================\n",
      "(4, 8)\n",
      "{4: [187], 6: [190], 7: [193], 8: [195], 10: [197], 11: [199], 12: [200], 15: [205], 17: [210], 19: [212], 20: [223], 23: [227], 28: [233], 29: [236], 32: [241], 33: [243], 35: [246], 49: [259], 51: [263], 53: [266], 60: [273], 69: [283, 284], 74: [292], 75: [294], 79: [298], 81: [301], 84: [307], 86: [313], 87: [315], 88: [318], 89: [320], 91: [323], 92: [325], 95: [329], 99: [335], 102: [341], 108: [348], 111: [353], 113: [355], 118: [361], 121: [367], 124: [374], 134: [402], 135: [403], 139: [411], 141: [413], 144: [420], 145: [422], 154: [434], 159: [441], 161: [445], 163: [448], 168: [455], 169: [457], 171: [459], 174: [462], 176: [464], 177: [465], 180: [467], 187: [474], 190: [479], 195: [482], 196: [483], 198: [485], 200: [488], 202: [490], 203: [491], 207: [496]}\n",
      "====================================================================================================\n",
      "(4, 16)\n",
      "{2: [206], 10: [217], 11: [218], 13: [222], 19: [228], 21: [232], 24: [235], 26: [236], 33: [245], 40: [258], 43: [261], 47: [266], 49: [267], 57: [281], 58: [283], 62: [288], 68: [293], 76: [300], 78: [302], 86: [320], 91: [325], 92: [326], 95: [329], 98: [338], 105: [345], 108: [347], 121: [361], 123: [364], 127: [368], 128: [369], 129: [371], 137: [391], 143: [398], 148: [407], 150: [410], 151: [411], 152: [413], 156: [421], 160: [427], 166: [440], 169: [444], 171: [451], 174: [454], 175: [455], 182: [461], 193: [477], 196: [481], 200: [488], 207: [496], 209: [497], 218: [506], 222: [510], 225: [515]}\n",
      "====================================================================================================\n",
      "(4, 19)\n",
      "{0: [192], 7: [198], 9: [201], 10: [203], 21: [216], 22: [217], 25: [223], 30: [228], 33: [234], 34: [235], 36: [245], 37: [246], 38: [247], 40: [250], 46: [266], 47: [267], 48: [268], 57: [278], 61: [286], 64: [290], 65: [293], 66: [297], 68: [298], 72: [305], 76: [311], 77: [312], 78: [314], 79: [315], 80: [317], 81: [320], 82: [322], 84: [325], 85: [326], 88: [331], 94: [340], 100: [349], 111: [363], 112: [364], 113: [365], 119: [372], 122: [376], 125: [381], 126: [382], 132: [391], 133: [392], 134: [394], 136: [398], 137: [401], 141: [409], 143: [411], 148: [417], 149: [418], 155: [428], 161: [443], 166: [452], 169: [454], 172: [460], 173: [463], 174: [464], 179: [472], 186: [480], 187: [482], 189: [483], 191: [484], 192: [485], 207: [503], 208: [504], 215: [509], 222: [516], 225: [520], 233: [526], 235: [529], 237: [532]}\n",
      "====================================================================================================\n",
      "(4, 21)\n",
      "{0: [199], 1: [201], 7: [209], 8: [210], 17: [221], 21: [225], 23: [229], 27: [241], 29: [243], 30: [245], 31: [246], 33: [249], 35: [253], 37: [256], 41: [263], 44: [267], 45: [269], 53: [281], 59: [288], 60: [293], 63: [297], 65: [303], 68: [307], 70: [309], 71: [312], 77: [321], 86: [335], 93: [348], 95: [351], 100: [360], 101: [361], 102: [362], 103: [363], 107: [369], 119: [383], 121: [385], 122: [387], 131: [398], 133: [401], 134: [402], 138: [406], 142: [412], 143: [413], 145: [414], 146: [415], 147: [418], 148: [419], 151: [424], 154: [429], 155: [431], 156: [433], 157: [434], 160: [440], 161: [441], 162: [442], 163: [443], 168: [448], 175: [454], 193: [465], 195: [469], 199: [474], 201: [478]}\n",
      "====================================================================================================\n",
      "(4, 22)\n",
      "{0: [190], 2: [192], 4: [196], 8: [200], 10: [204], 14: [209], 19: [218], 23: [228], 28: [237], 29: [239], 30: [241], 31: [242], 33: [244], 35: [247], 37: [249], 40: [257], 41: [258], 46: [263], 49: [266], 50: [268], 51: [269], 59: [277], 65: [282], 70: [289], 71: [290], 74: [295], 77: [303], 78: [305], 81: [308], 88: [320], 89: [322], 95: [329], 97: [331], 111: [349], 115: [354], 132: [380], 133: [382], 135: [384], 137: [389], 141: [394], 145: [400], 152: [408], 154: [411], 156: [413], 158: [417], 164: [433], 165: [434], 167: [436], 169: [437], 171: [440], 176: [446], 177: [447], 193: [469], 205: [482], 212: [495], 217: [500], 219: [503], 220: [504], 221: [505], 236: [530], 239: [538]}\n",
      "====================================================================================================\n",
      "(4, 23)\n",
      "{2: [194], 3: [195], 16: [214], 24: [226], 27: [229], 28: [230], 29: [231], 30: [232], 32: [235], 35: [240], 36: [241], 37: [242], 46: [252], 52: [257], 54: [260], 67: [274], 81: [299], 83: [302], 85: [305], 88: [311], 89: [312], 91: [314], 99: [324], 102: [328], 104: [330], 105: [332, 333], 107: [338], 109: [340], 111: [344], 113: [347], 115: [350], 119: [355], 124: [360], 125: [362], 127: [365], 132: [370], 134: [372], 137: [377], 139: [378], 142: [381], 145: [387], 149: [392], 151: [395], 156: [404], 160: [409], 162: [412], 163: [414], 164: [415], 166: [417], 167: [418], 168: [420], 170: [421], 180: [434], 192: [450], 195: [453], 196: [454], 202: [459], 203: [460], 205: [462], 206: [463], 209: [465], 212: [468], 220: [476], 222: [479], 227: [484], 229: [486], 233: [491], 237: [498]}\n",
      "====================================================================================================\n",
      "(4, 24)\n",
      "{0: [194], 8: [203], 10: [206], 12: [209], 14: [212], 16: [214], 21: [220], 24: [221], 25: [223], 31: [231], 33: [237], 43: [255], 47: [259], 55: [269], 59: [273], 62: [279], 65: [287], 66: [288], 67: [289], 68: [290], 70: [291], 72: [293], 74: [296], 76: [301], 87: [317], 96: [327], 100: [332], 104: [341], 105: [343], 110: [348], 112: [349], 113: [350], 117: [359], 118: [363], 121: [368], 126: [378], 127: [379], 132: [388], 135: [394], 138: [398], 139: [400], 148: [413], 149: [414], 158: [430], 160: [434], 164: [444], 167: [449], 172: [458], 175: [463], 177: [467], 187: [479], 195: [487], 199: [492], 201: [496], 204: [499], 215: [513], 217: [514], 219: [517], 222: [520]}\n",
      "====================================================================================================\n",
      "(5, 2)\n",
      "{1: [176], 8: [191], 10: [195], 16: [204], 17: [206], 18: [207], 28: [210], 29: [211], 31: [213], 33: [215], 35: [217], 42: [228], 48: [235], 59: [260], 63: [265], 65: [267], 67: [269], 68: [270], 70: [274], 74: [280], 75: [282], 81: [292], 82: [294], 84: [295], 93: [307], 96: [311], 114: [349], 129: [365], 134: [370], 135: [373], 141: [380], 142: [382], 147: [386], 151: [388], 152: [389], 155: [392], 158: [395], 159: [396], 161: [406], 168: [416], 172: [423], 176: [429], 180: [433], 191: [449], 192: [450], 198: [456], 200: [458], 202: [460], 204: [463], 206: [467], 209: [469]}\n",
      "====================================================================================================\n",
      "(5, 6)\n",
      "{1: [182], 2: [184], 5: [193], 6: [194], 8: [198], 17: [214], 21: [218, 219], 27: [231], 30: [234], 31: [237], 36: [253], 37: [255], 38: [257], 39: [258], 40: [259], 43: [263], 44: [264], 45: [265], 50: [273], 52: [277], 58: [284], 63: [297], 64: [298], 70: [304], 72: [307], 78: [317], 83: [324], 84: [326], 85: [327], 86: [328], 87: [332], 88: [335], 89: [336], 90: [337], 92: [341], 93: [342], 97: [353], 98: [354], 99: [355], 100: [356], 102: [358], 110: [374], 111: [375], 112: [377], 117: [385], 118: [386], 121: [391], 124: [395], 126: [398], 128: [400], 129: [401], 131: [403], 133: [408], 134: [409], 135: [410], 138: [417], 139: [418], 140: [419], 148: [437], 155: [456], 156: [457], 158: [467], 159: [469], 162: [473], 164: [475], 168: [479], 170: [481], 171: [482], 173: [484], 174: [486], 179: [493], 180: [494], 181: [495], 184: [500]}\n",
      "====================================================================================================\n",
      "(5, 12)\n",
      "{1: [202], 3: [205], 4: [207], 6: [209], 7: [211], 10: [218], 12: [222], 13: [223], 14: [226], 19: [233], 21: [239], 22: [240], 23: [241], 25: [243], 28: [250], 29: [251], 32: [256], 34: [259], 37: [264], 39: [268], 40: [270], 41: [274], 43: [276], 45: [281], 46: [283], 51: [292], 52: [293], 58: [304], 60: [309], 61: [312], 65: [317], 66: [318], 67: [319], 68: [320], 77: [334], 78: [335], 81: [338], 82: [339], 84: [342], 87: [348], 91: [353], 92: [354], 93: [355], 105: [378], 107: [381], 109: [391], 111: [394], 113: [395], 114: [396], 117: [399], 119: [403], 122: [409], 126: [415], 129: [418], 136: [432], 139: [440], 140: [441], 144: [446], 145: [448], 146: [449], 148: [453], 151: [459], 152: [460], 156: [463], 162: [472], 163: [478], 172: [487], 173: [489], 174: [490], 175: [492], 176: [493], 178: [496], 180: [497], 184: [500]}\n",
      "====================================================================================================\n",
      "(5, 14)\n",
      "{2: [184], 3: [185], 4: [186], 6: [188], 8: [198], 10: [200], 16: [212], 19: [217], 27: [235], 28: [236], 31: [242], 33: [245], 44: [266], 48: [271], 49: [275], 54: [280], 59: [288], 60: [289], 62: [292], 64: [294], 65: [296], 69: [302], 77: [311], 80: [315], 81: [319], 82: [320], 84: [321], 86: [323], 94: [338], 95: [339], 101: [345], 104: [348], 110: [357], 119: [377], 124: [382], 126: [384], 127: [385], 136: [408], 148: [432], 151: [437], 154: [442], 157: [446], 158: [448], 159: [450], 162: [455], 171: [466]}\n",
      "====================================================================================================\n",
      "(5, 15)\n",
      "{4: [184], 6: [190], 7: [191], 9: [196], 10: [200], 16: [212], 19: [218], 21: [221], 25: [228], 29: [240], 30: [242], 32: [246], 33: [247], 40: [260], 41: [261], 48: [274], 49: [276], 52: [278], 53: [279], 56: [283], 58: [286], 59: [289], 62: [294], 70: [317], 73: [323], 78: [330], 80: [334], 81: [335], 82: [337], 84: [342], 89: [350], 92: [354], 96: [361], 98: [363], 99: [364], 100: [365], 101: [366], 106: [371], 108: [375], 109: [377], 112: [382], 115: [386], 118: [391], 120: [396], 121: [398], 125: [411], 127: [415], 129: [419], 137: [433], 139: [436], 146: [447], 147: [448], 148: [449], 149: [454], 152: [461], 153: [462], 158: [470], 159: [474], 160: [475], 161: [476], 166: [481], 168: [484], 172: [491], 173: [492], 174: [493], 177: [498], 181: [504], 185: [510]}\n",
      "====================================================================================================\n",
      "(5, 20)\n",
      "{0: [185], 3: [191], 7: [200], 10: [207], 20: [221], 29: [237], 30: [238], 31: [239], 32: [240, 241], 37: [245], 42: [251], 43: [254], 52: [261], 57: [269], 59: [272], 65: [283], 74: [293], 76: [297], 77: [299], 78: [301], 81: [305], 84: [308], 85: [310], 99: [324], 100: [326], 101: [328], 102: [329], 105: [335], 109: [340], 114: [364], 116: [367], 117: [368], 119: [371], 121: [374], 123: [376], 127: [380], 131: [384], 138: [398], 141: [403], 142: [405], 144: [408], 157: [434], 160: [439], 161: [442], 165: [448], 172: [462], 181: [473], 195: [493], 197: [497], 204: [507], 207: [510], 216: [521], 217: [522]}\n",
      "====================================================================================================\n",
      "(5, 23)\n",
      "{2: [178], 3: [181], 11: [204], 14: [208], 15: [209], 19: [215], 20: [216], 21: [217], 27: [228], 28: [229], 33: [241], 36: [245], 37: [246], 38: [248], 44: [261], 50: [265], 51: [267], 60: [285], 61: [286], 62: [288], 66: [295], 67: [298], 68: [301], 69: [302], 73: [307], 76: [310], 80: [316], 81: [317], 82: [318], 85: [324], 88: [329], 89: [330], 93: [340], 94: [341], 96: [344], 99: [353], 101: [357], 103: [360], 109: [376], 113: [381], 114: [383], 116: [386], 127: [405], 132: [413], 134: [417], 136: [420], 138: [424], 140: [427], 141: [428], 142: [431], 146: [439], 148: [441], 155: [453], 164: [477], 170: [483], 177: [495], 178: [497], 180: [499], 190: [510], 192: [512], 194: [515]}\n",
      "====================================================================================================\n",
      "(6, 2)\n",
      "{0: [195], 3: [199], 4: [200], 7: [203], 8: [204], 12: [211], 17: [217], 23: [223], 24: [224], 26: [226], 27: [230], 30: [236], 33: [244], 34: [246], 35: [248], 38: [252], 46: [266], 49: [270], 51: [273], 58: [277], 60: [279], 61: [280], 63: [284], 66: [289], 67: [290], 68: [291], 69: [292], 76: [301], 81: [309], 84: [315], 86: [316], 90: [325], 92: [332], 93: [333], 111: [358], 115: [365], 125: [375], 126: [376], 127: [377], 128: [379], 130: [381], 134: [387], 136: [391], 137: [393], 138: [396], 139: [398], 142: [401], 144: [409], 145: [410], 150: [414], 154: [420], 165: [435], 171: [443], 173: [446], 174: [447], 182: [458], 189: [470], 190: [472], 192: [474], 194: [477], 196: [479], 200: [484], 215: [496], 216: [497], 222: [511], 225: [513]}\n",
      "====================================================================================================\n",
      "(6, 3)\n",
      "{2: [189], 3: [191], 8: [198], 16: [211], 23: [221], 26: [224], 33: [236], 34: [237], 37: [242], 41: [250], 44: [256], 46: [263], 56: [287], 66: [302], 69: [309], 72: [313], 81: [328], 82: [332], 87: [342], 88: [345], 97: [357], 100: [359], 106: [370], 107: [371], 109: [375], 116: [383], 117: [385], 121: [390], 126: [394], 134: [407], 136: [409], 138: [411], 148: [426], 151: [429], 157: [442], 159: [444], 160: [446], 161: [450], 162: [452], 166: [460], 167: [463], 174: [481], 181: [491], 183: [496], 184: [497], 188: [507], 191: [510], 195: [515]}\n",
      "====================================================================================================\n",
      "(6, 4)\n",
      "{3: [205], 11: [217], 26: [242], 31: [250], 33: [254], 34: [256], 37: [261], 53: [283], 59: [293], 64: [296], 69: [305], 84: [329], 102: [354], 104: [358], 107: [363], 108: [364], 112: [371], 114: [373], 120: [381], 122: [383], 123: [385], 124: [387], 128: [389], 131: [394], 134: [398], 150: [418], 153: [422], 154: [423], 156: [425], 157: [427], 172: [447], 174: [449], 175: [451], 177: [455], 180: [458], 181: [459], 183: [461], 184: [462], 186: [465], 187: [466], 191: [469], 198: [480], 201: [483], 206: [489], 207: [491], 212: [496], 213: [497], 220: [506], 221: [509]}\n",
      "====================================================================================================\n",
      "(6, 5)\n",
      "{0: [190], 4: [195], 5: [197], 9: [204], 14: [212], 15: [215], 17: [219], 25: [232], 32: [243], 38: [251], 39: [253, 254], 40: [254], 41: [255], 44: [257], 47: [260], 49: [262], 54: [270], 55: [272], 58: [278], 61: [282], 67: [293], 69: [295], 74: [300], 77: [304], 84: [315], 85: [316], 87: [318], 92: [321], 99: [326], 100: [330], 101: [331], 103: [333], 105: [335], 107: [341], 113: [350], 114: [351], 115: [352], 118: [362], 122: [367], 124: [369], 127: [372], 128: [375], 134: [383], 136: [385], 138: [387], 143: [396], 145: [398], 150: [404], 155: [409], 156: [412], 157: [413], 159: [414], 160: [415], 161: [418], 172: [438], 175: [442], 177: [446], 178: [447], 179: [448], 180: [449], 185: [454], 188: [458], 189: [459], 190: [460], 193: [464], 194: [468], 195: [469], 196: [470], 206: [487], 208: [491], 209: [492]}\n",
      "====================================================================================================\n",
      "(6, 6)\n",
      "{1: [200], 2: [201], 6: [206], 10: [223], 12: [227], 14: [232], 18: [246], 19: [253], 27: [263], 28: [264], 29: [266], 34: [273], 38: [278], 39: [281], 40: [283], 42: [284], 47: [293], 54: [307], 59: [317], 64: [328], 69: [334], 70: [335], 74: [341], 75: [343], 76: [345], 77: [346], 81: [354], 82: [359], 94: [373], 99: [383], 106: [397], 107: [405], 122: [431], 125: [435], 127: [437], 130: [444], 132: [448], 133: [449], 135: [452], 139: [462], 140: [463], 144: [473], 145: [477], 150: [485], 151: [489], 152: [492], 160: [501], 162: [503], 176: [524], 177: [525], 187: [533], 194: [543]}\n",
      "====================================================================================================\n",
      "(6, 7)\n",
      "{6: [194], 9: [199], 10: [201], 14: [209], 15: [211], 22: [225], 25: [229], 28: [233], 29: [234], 31: [239], 34: [245], 35: [246], 39: [256], 40: [258], 42: [260], 43: [261], 49: [270], 62: [291], 63: [292], 65: [297], 67: [299], 71: [306], 73: [308], 76: [313], 86: [332], 89: [335], 92: [340], 93: [342], 94: [344], 100: [352], 108: [366], 112: [379], 114: [383], 117: [392], 118: [393], 119: [394], 120: [398], 121: [399], 126: [408], 129: [413], 133: [417], 134: [419], 136: [424], 138: [430], 139: [435], 141: [438], 146: [446], 148: [449], 159: [468], 165: [481], 166: [482], 168: [484], 176: [495], 181: [505]}\n",
      "====================================================================================================\n",
      "(6, 8)\n",
      "{0: [188], 1: [189], 3: [191], 5: [195], 6: [196], 7: [197], 9: [198], 15: [208], 17: [211], 19: [213], 21: [224], 26: [228], 29: [233], 31: [237], 33: [240], 35: [242], 36: [243], 44: [250], 50: [259], 54: [264], 56: [268], 65: [276], 67: [278], 70: [280], 72: [282], 75: [285], 76: [286], 81: [291], 83: [295], 85: [299], 92: [314], 94: [317], 96: [319], 97: [320], 99: [326], 102: [329], 104: [332], 105: [333], 107: [335], 117: [345], 120: [350], 123: [354], 132: [366], 133: [367], 140: [375], 144: [377], 147: [382], 171: [422], 177: [430], 178: [432], 180: [435], 191: [448], 194: [451], 195: [452], 199: [456], 200: [458], 201: [465], 202: [466], 205: [468], 212: [481], 213: [482], 215: [484], 228: [504]}\n",
      "====================================================================================================\n",
      "(6, 9)\n",
      "{22: [204], 32: [226], 37: [251], 38: [252], 40: [255], 57: [281], 59: [284], 60: [285], 61: [287], 63: [290], 64: [291], 65: [292], 66: [293], 70: [301], 74: [310], 77: [317], 85: [327], 87: [329], 88: [330], 91: [337], 94: [342], 97: [347], 99: [349], 100: [352], 104: [356], 124: [379], 130: [385], 133: [389], 138: [394], 139: [395], 140: [396], 147: [405], 158: [424], 159: [425], 167: [441], 168: [442], 172: [448], 179: [463], 184: [471], 188: [475], 191: [478], 197: [491], 198: [492], 201: [498]}\n",
      "====================================================================================================\n",
      "(6, 14)\n",
      "{3: [193], 6: [198], 7: [201], 11: [206], 15: [209], 18: [212], 24: [231], 27: [238], 31: [247], 36: [253], 40: [259], 49: [271], 50: [273], 55: [281], 56: [283], 58: [286], 59: [288], 64: [297], 75: [309], 78: [313], 80: [318], 81: [319], 82: [322], 84: [325], 85: [326], 87: [329], 88: [331], 96: [342], 97: [344], 98: [346], 107: [355], 109: [360], 111: [366], 114: [371], 115: [372], 118: [376], 120: [379], 121: [380], 123: [384], 124: [385], 132: [396], 134: [400], 136: [404], 139: [407], 141: [411], 147: [417], 150: [422], 155: [430], 156: [435], 164: [446], 174: [460], 175: [462], 182: [468], 190: [475], 191: [477], 195: [481], 197: [483], 199: [487]}\n",
      "====================================================================================================\n",
      "(6, 15)\n",
      "{0: [195], 7: [210], 12: [223], 15: [233], 17: [235], 19: [237], 22: [240], 27: [243], 33: [251], 34: [253], 35: [254], 36: [255], 37: [256], 38: [258], 41: [260], 43: [265], 46: [269], 50: [279], 51: [282], 54: [286], 63: [301], 64: [303], 68: [312], 74: [319], 75: [321], 77: [324], 79: [328], 80: [331], 92: [350], 94: [351], 97: [354], 102: [362], 108: [369], 110: [371], 112: [374], 114: [377], 118: [382], 119: [385], 120: [386], 122: [389], 134: [401], 140: [412], 141: [413], 149: [425], 153: [434], 158: [441], 159: [442], 164: [447], 165: [448], 173: [460], 177: [465], 179: [467], 183: [470], 185: [472], 188: [475], 196: [484], 203: [496], 205: [501], 210: [508], 211: [509], 212: [510], 213: [511], 215: [513], 216: [514], 219: [517], 221: [518]}\n",
      "====================================================================================================\n",
      "(6, 16)\n",
      "{2: [185], 4: [188], 6: [191], 7: [192], 11: [197], 12: [199], 14: [204], 15: [206], 17: [209], 20: [214], 21: [215], 22: [216], 23: [218], 24: [219], 25: [220], 26: [222], 27: [223], 28: [225], 29: [227], 30: [229], 31: [230], 32: [231], 36: [242], 37: [243], 38: [244], 44: [251], 45: [253], 47: [256], 48: [257], 49: [258], 52: [267], 61: [278], 62: [281], 73: [291], 79: [297], 81: [300], 85: [308], 86: [309], 87: [310], 94: [314], 96: [315], 100: [320], 108: [326], 110: [329], 115: [337], 117: [338], 118: [340], 122: [347], 124: [351], 128: [360], 146: [376], 148: [382], 155: [390], 156: [392], 163: [402], 169: [409], 174: [417], 175: [418], 176: [419], 178: [421], 179: [424], 181: [426], 183: [428], 186: [436], 192: [442], 195: [446], 196: [447]}\n",
      "====================================================================================================\n",
      "(6, 17)\n",
      "{2: [205], 5: [221], 10: [227], 11: [229], 12: [231], 16: [240], 17: [243], 18: [247], 19: [248], 25: [254], 33: [262], 35: [264], 39: [271], 40: [274], 42: [278], 44: [281], 51: [291], 52: [295], 54: [298], 57: [305], 64: [313], 66: [315], 67: [316], 69: [321], 70: [322], 75: [328], 78: [333], 83: [339], 86: [343], 87: [346], 89: [349], 97: [362], 98: [363], 100: [367], 102: [372], 120: [405], 128: [416], 132: [423], 137: [433], 138: [434], 148: [454], 155: [464], 160: [475]}\n",
      "====================================================================================================\n",
      "(6, 19)\n",
      "{3: [189], 4: [191], 8: [199], 13: [210], 17: [213], 21: [218], 29: [231], 33: [236], 34: [238], 39: [247], 40: [248], 43: [256], 49: [264], 53: [272], 56: [274], 58: [276], 61: [282], 62: [283], 68: [293], 73: [298], 81: [310], 87: [321], 88: [322], 93: [326], 95: [329], 103: [338], 105: [342], 106: [346], 107: [348], 110: [352], 111: [353], 112: [355], 114: [361], 116: [366], 117: [367], 118: [369], 122: [376], 130: [383], 131: [385], 135: [388], 136: [389], 137: [390], 156: [408], 165: [419], 167: [421], 168: [426], 171: [430], 172: [433], 175: [439], 176: [440], 180: [449], 182: [453], 195: [469], 198: [471], 208: [485], 212: [492], 214: [494], 215: [495], 218: [498], 221: [505]}\n",
      "====================================================================================================\n",
      "(6, 20)\n",
      "{0: [197], 1: [198], 2: [199], 3: [200], 13: [209], 14: [210], 17: [217], 26: [228], 30: [231], 31: [232], 32: [235], 35: [239], 37: [242], 38: [244], 40: [248], 44: [255], 48: [262], 53: [268], 54: [269], 76: [295], 79: [298], 93: [320], 98: [329], 103: [336], 105: [338], 106: [343], 116: [351], 117: [353], 118: [354], 120: [359], 121: [361], 122: [365], 123: [366], 125: [371], 127: [375], 132: [382], 133: [383], 135: [386], 136: [392], 139: [395], 141: [397], 143: [400], 147: [403], 158: [417], 161: [422], 163: [427], 164: [428], 166: [429], 171: [433], 172: [435], 174: [437], 175: [438], 178: [442], 181: [446], 184: [450], 185: [451], 190: [461], 193: [465], 194: [466], 195: [467]}\n",
      "====================================================================================================\n",
      "(6, 21)\n",
      "{0: [200], 5: [208], 9: [214], 17: [229], 19: [236], 22: [243], 23: [245], 26: [251], 31: [256], 35: [265], 37: [268], 40: [273], 45: [285], 46: [290], 47: [297], 48: [298], 49: [299], 50: [301], 60: [312], 62: [315], 63: [316], 65: [320], 67: [322], 68: [324], 69: [327], 70: [328], 76: [340], 77: [342], 86: [353], 89: [359], 90: [360], 91: [361], 93: [365], 98: [375], 99: [376], 100: [377], 101: [378], 102: [380], 105: [385], 107: [387], 113: [399], 117: [403], 118: [404], 123: [411], 124: [413], 131: [421], 141: [438], 143: [441], 146: [448], 147: [449], 154: [458], 155: [459], 158: [464], 159: [466], 161: [469], 164: [476], 165: [477], 166: [478], 177: [489]}\n",
      "====================================================================================================\n",
      "(6, 24)\n",
      "{0: [198], 2: [201], 3: [202], 7: [207], 8: [208], 12: [214], 15: [223], 18: [227], 20: [229], 21: [230], 23: [232], 26: [238], 29: [248], 31: [251], 32: [252], 37: [266], 43: [275], 44: [276], 45: [277], 57: [296], 58: [298], 65: [307], 66: [308], 67: [309], 68: [310], 72: [318], 74: [320], 77: [324], 83: [332], 92: [342], 95: [350], 97: [352], 98: [355], 100: [360], 101: [363], 103: [370], 106: [375], 107: [377], 109: [380], 110: [383], 111: [386], 112: [389], 113: [391], 116: [396], 117: [400], 118: [401], 126: [409], 130: [412], 139: [426], 140: [427], 142: [429], 143: [431], 147: [439], 148: [442], 154: [454], 165: [465], 172: [474], 194: [504]}\n",
      "====================================================================================================\n",
      "(7, 1)\n",
      "{5: [191], 14: [207], 15: [210], 18: [213], 23: [230], 26: [239], 28: [244], 41: [268], 43: [271], 47: [276], 48: [277], 60: [293], 61: [295], 68: [305], 74: [311], 80: [319], 82: [324], 89: [330], 116: [366], 117: [367], 122: [373], 155: [417], 160: [425], 164: [431], 168: [440], 169: [443], 172: [453], 174: [458], 180: [468], 185: [472], 190: [479], 192: [482], 194: [486], 195: [487], 196: [491], 197: [494], 198: [495], 200: [499], 203: [503], 208: [510], 209: [511], 214: [516], 215: [517]}\n",
      "====================================================================================================\n",
      "(7, 2)\n",
      "{2: [201], 3: [202], 4: [204], 5: [205], 6: [206], 8: [210], 14: [217], 15: [218], 16: [219], 21: [228], 24: [233], 29: [243], 31: [247], 35: [254], 37: [258], 43: [267], 49: [273], 54: [277], 57: [282], 58: [283], 63: [292], 65: [294], 67: [299], 68: [300], 73: [303], 76: [308], 79: [310], 89: [325], 95: [334], 96: [336], 100: [341], 109: [358], 111: [359], 117: [367], 123: [375], 126: [380], 131: [383], 132: [386], 133: [388], 134: [390], 135: [392], 139: [398], 142: [400], 143: [402], 144: [403], 145: [404], 147: [407], 148: [410], 157: [428], 162: [438, 439], 164: [442], 177: [457], 179: [460], 180: [461], 184: [470], 187: [474], 190: [478], 191: [479], 192: [480], 194: [482], 199: [486], 203: [491], 204: [492], 207: [497], 210: [500], 215: [508], 217: [510], 218: [511], 222: [519], 227: [534], 232: [538], 233: [539], 237: [544], 239: [546], 243: [550], 244: [551], 247: [554]}\n",
      "====================================================================================================\n",
      "(7, 6)\n",
      "{5: [196], 7: [200], 10: [204], 14: [210], 16: [212], 17: [213], 18: [214], 20: [216], 25: [219], 28: [224], 30: [227, 228], 43: [248], 45: [252], 46: [253], 53: [267], 57: [275], 58: [278], 65: [292], 66: [294], 70: [299], 71: [306], 74: [313], 76: [316], 77: [317], 78: [318], 84: [331], 86: [332], 94: [338], 95: [339], 96: [342], 98: [344], 99: [346], 100: [347], 101: [349], 103: [353], 107: [364], 111: [367], 118: [377], 119: [379], 125: [397], 126: [399], 127: [400], 128: [401], 130: [404], 132: [407], 135: [410], 138: [416], 143: [424], 148: [427], 149: [428], 150: [429], 155: [439], 161: [447], 173: [495], 174: [500], 178: [506], 180: [509], 186: [519], 187: [521], 188: [522]}\n",
      "====================================================================================================\n",
      "(7, 10)\n",
      "{0: [195], 2: [200], 4: [201], 8: [210], 9: [217], 11: [225], 15: [233], 18: [237], 19: [239], 24: [246], 25: [247], 27: [248], 39: [265], 41: [268], 42: [269], 44: [273], 45: [274], 47: [281], 48: [282], 49: [284], 54: [290], 65: [305], 67: [307], 73: [317], 75: [321], 77: [324], 80: [326], 81: [330], 86: [348], 88: [350], 93: [354], 105: [373], 111: [386], 113: [389], 119: [399], 124: [407], 129: [412], 130: [413], 140: [428], 146: [441], 154: [461], 155: [463], 156: [465], 157: [466], 159: [468], 160: [471], 162: [477], 169: [488], 170: [489], 171: [490], 172: [491], 177: [498], 188: [514], 190: [517], 195: [523], 197: [524], 203: [532], 204: [534], 205: [536], 206: [538], 207: [539], 209: [542]}\n",
      "====================================================================================================\n",
      "(7, 11)\n",
      "{4: [203], 12: [210], 13: [211], 14: [213], 17: [217], 18: [219], 19: [220], 21: [226], 22: [227], 23: [228], 25: [230], 28: [235], 30: [237], 33: [238], 46: [248], 52: [256], 53: [257], 54: [258], 55: [260], 56: [262], 59: [266], 65: [274], 69: [280], 74: [288], 80: [296], 83: [299], 84: [300], 85: [301], 94: [310], 97: [313], 99: [317], 101: [319], 103: [321], 104: [322], 108: [325], 111: [327], 115: [331], 129: [359], 130: [360], 136: [368], 142: [374], 146: [378], 148: [383], 149: [384], 158: [394], 159: [398], 162: [401], 163: [402], 164: [403], 168: [407], 169: [408], 177: [423], 180: [427], 181: [429], 185: [433], 187: [435], 194: [441], 211: [464], 213: [465], 214: [467], 215: [468], 216: [469], 217: [473], 218: [474], 220: [478], 231: [492], 233: [493], 241: [499], 243: [503], 246: [507], 248: [511]}\n",
      "====================================================================================================\n",
      "(7, 15)\n",
      "{0: [197], 4: [203], 6: [208], 7: [209], 8: [210], 11: [214], 13: [220], 14: [221], 15: [222], 17: [225], 20: [229], 25: [242], 26: [243], 28: [245], 30: [247], 31: [248], 32: [250], 33: [254], 39: [261], 40: [262], 44: [268], 48: [276], 49: [278], 51: [282], 54: [286], 57: [289], 62: [295], 66: [301], 69: [304], 74: [310], 75: [312], 78: [317], 83: [328], 89: [336], 94: [343], 96: [345], 97: [346], 100: [349], 103: [353], 109: [359], 110: [361], 117: [374], 118: [375], 119: [377], 121: [382], 124: [385], 127: [387], 133: [396], 134: [398], 135: [400], 136: [403], 146: [413], 147: [414], 148: [416], 151: [423], 152: [426], 159: [433], 167: [440], 169: [443], 171: [446], 178: [448], 179: [449], 181: [453], 182: [454], 190: [464], 191: [465], 202: [480, 481], 207: [485], 212: [499], 220: [512]}\n",
      "====================================================================================================\n",
      "(7, 16)\n",
      "{2: [200], 4: [206], 10: [212], 11: [213], 15: [217], 18: [220], 20: [222], 21: [223], 22: [224], 26: [231], 27: [232], 28: [233], 31: [238], 33: [242], 35: [245], 36: [246], 40: [253], 44: [258], 49: [265], 50: [266], 51: [267], 54: [275], 57: [282], 58: [283], 64: [288], 70: [295], 73: [298], 74: [299], 75: [302], 80: [308], 81: [309], 84: [314], 89: [322], 91: [325], 92: [326], 93: [329], 96: [332], 98: [335], 102: [341], 108: [347], 109: [348], 116: [359], 120: [365], 127: [378], 132: [389], 134: [393], 137: [400], 143: [407], 144: [408], 147: [412], 148: [413], 153: [418], 154: [419], 160: [424], 161: [425], 162: [426], 164: [428], 166: [430], 171: [436], 177: [440], 179: [444], 187: [453], 189: [454], 192: [458], 193: [459], 195: [461], 196: [462], 199: [465], 200: [466], 201: [467], 204: [472], 211: [483], 216: [487], 219: [491], 222: [495], 224: [499], 226: [501], 229: [508], 230: [509], 231: [510], 238: [518], 240: [521]}\n",
      "====================================================================================================\n",
      "(7, 17)\n",
      "{3: [196], 6: [200], 8: [202], 10: [204], 13: [209], 15: [212], 18: [217], 22: [224], 24: [226], 27: [231], 28: [235], 29: [236], 30: [237], 31: [239], 32: [241], 34: [243], 37: [250], 40: [254], 43: [257], 45: [261], 46: [263], 49: [267], 50: [268], 52: [271], 53: [272], 58: [275], 59: [276], 62: [280], 63: [283], 64: [284], 65: [289], 68: [291], 69: [293], 70: [294], 73: [300], 74: [301], 76: [302], 82: [308], 84: [313], 85: [314], 86: [316], 87: [318], 89: [322], 91: [325], 94: [329], 96: [332], 104: [340], 106: [341], 111: [345], 112: [346], 113: [349], 114: [351], 121: [362], 125: [366], 127: [370], 132: [375], 135: [379], 138: [382], 139: [383], 148: [392], 155: [396], 158: [400], 161: [402], 168: [413], 170: [416], 171: [420], 176: [430], 182: [440], 185: [443], 194: [453], 195: [455], 197: [456], 200: [460], 205: [466], 208: [469]}\n",
      "====================================================================================================\n",
      "(7, 18)\n",
      "{3: [203], 7: [208], 16: [217], 22: [224], 35: [239], 36: [240], 37: [251], 43: [262], 48: [270, 271], 49: [271], 50: [271, 272], 55: [280], 58: [284], 59: [285], 64: [292], 65: [293], 67: [297], 68: [298], 71: [304], 73: [307], 83: [326], 85: [328], 86: [329], 87: [331], 89: [333], 92: [337], 96: [343], 97: [344], 100: [351], 101: [352], 104: [354], 106: [356], 110: [366], 113: [376], 114: [377], 116: [379], 118: [381], 119: [383], 123: [387], 125: [390], 127: [393], 129: [396], 131: [399], 132: [401], 134: [404], 143: [413], 145: [415], 151: [425], 153: [427], 154: [428], 155: [430], 156: [431], 158: [432], 160: [437], 165: [442], 166: [444], 169: [450], 172: [454], 186: [476], 189: [483], 190: [484], 192: [486], 194: [487], 195: [492], 196: [493], 203: [501], 205: [504], 207: [509], 208: [510], 209: [511], 210: [513], 211: [515], 212: [516], 218: [524], 221: [526], 222: [527], 224: [529], 226: [532], 229: [535]}\n",
      "====================================================================================================\n",
      "(7, 19)\n",
      "{0: [198], 1: [199], 6: [202], 7: [204], 8: [206], 9: [207], 12: [210], 14: [213], 17: [216], 18: [227], 21: [229], 24: [233], 26: [234], 35: [249], 36: [250], 48: [265], 49: [270], 50: [272], 53: [277], 55: [285], 56: [287], 60: [295], 62: [297], 64: [301], 66: [304], 68: [309], 72: [315], 76: [325], 77: [328], 80: [333], 81: [334], 84: [338], 86: [341], 96: [350], 101: [361], 124: [389], 127: [394], 128: [395], 132: [399], 133: [400], 139: [404], 141: [407], 142: [408], 146: [412], 149: [417], 151: [419], 158: [434], 159: [436], 161: [440], 169: [449], 173: [455], 174: [456], 177: [462], 179: [465], 183: [474], 186: [479], 193: [486], 197: [493], 198: [494], 200: [497], 201: [499], 202: [500], 205: [503], 209: [508], 210: [509]}\n",
      "====================================================================================================\n",
      "(7, 20)\n",
      "{0: [200], 4: [205], 10: [207], 11: [224], 13: [231], 17: [240], 21: [253], 26: [261], 27: [263], 31: [269], 33: [274], 36: [277], 39: [282], 40: [283], 42: [286], 46: [292], 47: [293], 50: [297], 54: [306], 58: [314], 60: [318], 63: [326], 74: [339], 76: [342], 79: [344], 83: [351], 86: [358], 90: [363], 94: [365], 102: [378], 104: [383], 107: [386], 113: [396], 114: [397], 116: [399], 119: [404], 121: [409], 122: [413], 126: [421], 127: [423], 131: [428], 134: [431], 135: [437], 137: [439], 138: [440], 139: [442], 140: [444], 157: [467], 159: [471], 174: [496], 178: [508], 190: [518], 194: [524], 197: [527], 203: [537], 207: [550]}\n",
      "====================================================================================================\n",
      "(7, 22)\n",
      "{6: [200], 7: [201], 11: [217], 14: [220], 19: [223], 22: [226], 24: [228], 25: [230], 28: [239], 33: [245], 34: [246], 35: [247], 37: [248], 40: [251], 44: [260], 51: [271], 53: [274], 55: [278], 56: [280], 57: [282], 58: [284], 66: [292], 68: [295], 70: [298], 77: [309], 78: [311], 84: [317], 85: [318], 86: [319], 92: [330], 93: [331], 94: [332], 96: [334], 103: [340], 104: [342], 108: [348], 111: [355], 113: [358], 119: [369], 120: [370], 121: [371], 128: [378], 129: [379], 131: [380], 142: [393], 144: [395], 148: [401], 149: [402], 150: [404], 151: [406], 153: [409], 154: [410], 157: [414], 158: [415], 163: [425], 165: [431], 169: [436], 171: [438], 172: [440], 175: [443], 182: [456], 184: [458], 187: [465], 188: [470], 191: [473], 192: [474], 199: [482], 206: [490]}\n",
      "====================================================================================================\n",
      "(7, 23)\n",
      "{4: [198], 8: [203], 11: [205], 16: [213], 19: [217], 20: [218], 21: [219], 26: [225], 28: [228], 29: [229], 32: [231], 38: [239], 40: [242], 42: [245], 43: [247], 45: [250], 56: [267], 60: [272], 61: [273], 68: [277], 72: [280], 73: [281], 74: [282], 75: [285], 77: [288], 81: [296], 82: [297], 88: [304], 90: [306], 91: [308], 93: [311], 94: [312], 99: [325], 100: [329], 101: [330], 102: [332], 105: [335], 113: [345], 114: [346], 115: [347], 119: [352], 122: [357], 124: [363], 125: [364], 126: [365], 127: [366], 131: [370], 132: [371], 134: [373], 136: [375], 137: [376], 145: [391], 147: [393], 148: [394], 151: [397], 153: [405], 158: [411], 159: [412], 160: [413], 163: [418], 164: [423], 168: [427], 170: [430], 175: [436], 177: [440], 183: [446], 186: [449], 188: [451], 189: [453], 206: [475], 209: [482], 222: [499], 224: [502], 227: [506], 229: [508]}\n",
      "====================================================================================================\n",
      "(8, 1)\n",
      "{5: [240], 8: [243], 11: [249], 21: [262], 26: [265], 30: [271], 40: [282], 41: [283], 42: [284], 47: [291], 49: [294], 53: [301], 55: [303], 58: [309], 59: [311], 64: [323], 66: [325], 69: [332], 70: [333], 71: [334], 74: [339], 76: [343], 81: [351], 85: [357], 87: [359], 89: [361], 94: [372], 95: [374], 102: [385], 105: [389], 110: [399], 120: [418], 126: [424], 127: [425], 128: [427], 130: [431], 135: [440], 137: [443], 144: [456], 145: [457], 146: [459], 147: [460], 151: [472], 159: [481], 167: [487], 170: [494], 178: [507], 187: [521], 195: [537], 199: [543], 200: [544], 201: [545], 202: [546], 205: [553]}\n",
      "====================================================================================================\n",
      "(8, 2)\n",
      "{0: [194], 1: [195], 3: [197], 6: [202], 11: [208], 12: [209], 18: [215], 20: [218], 21: [219], 23: [222], 24: [223], 29: [233], 32: [237], 33: [239], 37: [244], 43: [251], 46: [254], 47: [255], 49: [257], 53: [262], 55: [265], 57: [267], 58: [268], 59: [271], 60: [272], 62: [274], 65: [277], 66: [278], 71: [285], 73: [289], 75: [295], 81: [303], 84: [307], 88: [312], 89: [313], 90: [314], 98: [324], 99: [325], 100: [327], 101: [332], 105: [335], 106: [337], 111: [341], 112: [342], 113: [343], 118: [349], 121: [352], 122: [355], 124: [360], 130: [369], 132: [372], 134: [375], 135: [378], 136: [379], 151: [395], 161: [404], 167: [417], 169: [423], 170: [425], 172: [429], 176: [439], 183: [450], 184: [451], 185: [452], 187: [455], 192: [461], 194: [463], 195: [465], 197: [471], 200: [473], 204: [479], 209: [482], 211: [485]}\n",
      "====================================================================================================\n",
      "(8, 3)\n",
      "{1: [190], 6: [195], 9: [198], 12: [200], 15: [204], 16: [206], 17: [207], 24: [215], 25: [216], 26: [218], 28: [220], 30: [222], 31: [223], 32: [224], 35: [228], 40: [233], 42: [237], 43: [238], 46: [243], 47: [244], 50: [249], 54: [254], 55: [255], 56: [256], 61: [266], 63: [272], 67: [276], 68: [277], 81: [295], 82: [296], 83: [298], 86: [301], 90: [307], 93: [314], 94: [317], 96: [320], 98: [322], 99: [324], 100: [325], 104: [331], 109: [341], 110: [343], 111: [345], 112: [346], 113: [347], 114: [348], 115: [349], 117: [352], 118: [353], 120: [355], 135: [369], 140: [374], 141: [375], 143: [377], 147: [381], 148: [383], 150: [388], 157: [401], 158: [402], 162: [409], 163: [410], 172: [430], 174: [432], 176: [435], 178: [439], 181: [442], 185: [446], 186: [447], 193: [452], 195: [453], 199: [464], 201: [467]}\n",
      "====================================================================================================\n",
      "(8, 5)\n",
      "{0: [138], 2: [141], 5: [147], 6: [148], 11: [157], 13: [159], 14: [160], 18: [169], 20: [171], 21: [173], 24: [177], 25: [179], 26: [180], 27: [181], 28: [184], 31: [187], 32: [188], 35: [193], 47: [203], 48: [204], 49: [205], 61: [226], 68: [238], 70: [240], 71: [241], 76: [254], 77: [255], 78: [256], 80: [258], 81: [259], 83: [260], 91: [265], 92: [267], 100: [277], 101: [279], 111: [293], 114: [296], 117: [300], 119: [305], 122: [315], 123: [317], 125: [319], 126: [320], 137: [339], 141: [345], 144: [348], 145: [349], 146: [350], 148: [352], 152: [362], 154: [365], 157: [369], 158: [370], 159: [371], 160: [373], 164: [379], 165: [380], 174: [389], 176: [392], 179: [396], 184: [410], 185: [411], 200: [439], 204: [443], 207: [449], 208: [450], 209: [452], 211: [454], 217: [458], 218: [459], 220: [469]}\n",
      "====================================================================================================\n",
      "(8, 6)\n",
      "{1: [181], 2: [182], 5: [185], 7: [187], 8: [188], 11: [191], 13: [195], 14: [196], 16: [198], 18: [200], 20: [204], 22: [206], 27: [213], 28: [214], 38: [224], 40: [226], 44: [231], 47: [235], 48: [237], 49: [238], 55: [246], 60: [257], 64: [264], 68: [270], 69: [272], 78: [281], 79: [282], 81: [285], 82: [286], 84: [289], 87: [294], 88: [295], 89: [298], 91: [301], 92: [304], 95: [307], 99: [319], 100: [321], 101: [323], 104: [327], 105: [328], 107: [331], 114: [341], 118: [351], 121: [355], 123: [358], 127: [362], 130: [366], 131: [367], 134: [371], 139: [375], 140: [376], 141: [377], 145: [382], 146: [383], 156: [405], 157: [406], 159: [409], 162: [412], 163: [413], 165: [417], 168: [424], 169: [425], 170: [427], 178: [436], 180: [438], 183: [441], 185: [444], 187: [446], 188: [447], 190: [449], 193: [454], 194: [456], 198: [461], 203: [468], 205: [470], 206: [471], 207: [474], 209: [477], 210: [478], 218: [493], 219: [495], 221: [497], 227: [512], 228: [513], 229: [516], 236: [523], 237: [525], 239: [533]}\n",
      "====================================================================================================\n",
      "(8, 7)\n",
      "{0: [199], 1: [200], 2: [201], 3: [202], 6: [209], 9: [214], 10: [216], 12: [218], 14: [223], 15: [224], 16: [226], 19: [234], 23: [238], 24: [240], 25: [242], 26: [243], 28: [246], 30: [248], 33: [250], 34: [252], 46: [272], 48: [274], 54: [285], 57: [288], 59: [290], 60: [292], 62: [297], 64: [300], 66: [302], 67: [303], 68: [304], 69: [306], 72: [309], 73: [310], 75: [315], 77: [319], 80: [322], 83: [324], 88: [327], 90: [330], 92: [333], 94: [338], 97: [340], 101: [348], 103: [350], 104: [351], 107: [353], 108: [354], 110: [356], 118: [366], 119: [368], 120: [369], 128: [384], 129: [386], 136: [398], 139: [401], 144: [405], 150: [414], 154: [420], 156: [422], 161: [428], 170: [438], 176: [446], 182: [453], 188: [461], 189: [462], 190: [464], 193: [468], 195: [471], 198: [478], 204: [488], 221: [505]}\n",
      "====================================================================================================\n",
      "(8, 9)\n",
      "{12: [201], 20: [214], 24: [220], 26: [222], 27: [223], 31: [229], 32: [231], 34: [233], 35: [234], 38: [238], 39: [239], 42: [244], 44: [245], 45: [246], 51: [255], 53: [257], 55: [260], 61: [269], 62: [270], 67: [278], 71: [284], 74: [290], 78: [300], 83: [306], 85: [308], 90: [317], 92: [319], 95: [326], 101: [330], 106: [337], 108: [338], 109: [340], 120: [353], 121: [354], 130: [363], 133: [366], 135: [369], 136: [370], 140: [377], 141: [378], 142: [379], 144: [382], 145: [384], 147: [387], 148: [389], 149: [390], 150: [391], 155: [398], 156: [399], 171: [422], 174: [425], 175: [426], 177: [430], 181: [434], 186: [440], 188: [442], 193: [449], 194: [450], 198: [456], 199: [458], 203: [465], 204: [466], 205: [467], 206: [470], 207: [473], 209: [475], 210: [476], 213: [481], 214: [483], 215: [484]}\n",
      "====================================================================================================\n",
      "(8, 11)\n",
      "{0: [188], 1: [190], 4: [195], 10: [207], 14: [211], 16: [214], 21: [216], 25: [224], 26: [225], 27: [226], 29: [228], 30: [229], 33: [233], 34: [234], 36: [236], 42: [245], 48: [252], 64: [275], 68: [282], 73: [291], 77: [296], 80: [299], 82: [302], 88: [310], 89: [311], 90: [312], 91: [313], 93: [315], 94: [316], 95: [317], 96: [318], 99: [322], 100: [323], 101: [324], 108: [337], 109: [338], 115: [342], 116: [344], 126: [360], 127: [361], 130: [364], 132: [366], 133: [368], 134: [372], 136: [373], 141: [381], 142: [382], 146: [384], 155: [393], 157: [398], 165: [408], 170: [416], 171: [419], 173: [423], 174: [425], 176: [428], 179: [434], 180: [435], 183: [437], 192: [445], 193: [446], 194: [447], 195: [448], 197: [450], 200: [454], 204: [464], 216: [487]}\n",
      "====================================================================================================\n",
      "(8, 12)\n",
      "{1: [187], 2: [189], 6: [193], 7: [194], 8: [195], 10: [197], 12: [198], 14: [199], 15: [200], 16: [201], 20: [207], 21: [208], 22: [209], 23: [210], 24: [211], 30: [216], 32: [222], 34: [225], 35: [226], 38: [229], 40: [232], 41: [235], 46: [247], 55: [259], 56: [260], 58: [263], 61: [266], 62: [267], 63: [268], 65: [271], 67: [275], 71: [279], 74: [283], 75: [284], 76: [285], 83: [292], 84: [293], 85: [294], 87: [295], 90: [302], 94: [309], 95: [311], 96: [312], 99: [316], 103: [321], 104: [324], 109: [333], 110: [335], 114: [341], 115: [346], 120: [357], 122: [361], 124: [363], 125: [365], 130: [369], 134: [374], 135: [376], 142: [384], 144: [386], 151: [397], 154: [402], 156: [405], 160: [414], 162: [416], 163: [419], 164: [424], 165: [425], 169: [429], 173: [435], 179: [443], 180: [444], 187: [452], 188: [453], 191: [459], 201: [479], 203: [483]}\n",
      "====================================================================================================\n",
      "(8, 14)\n",
      "{3: [203], 4: [204], 5: [207], 9: [215], 11: [219], 12: [223], 13: [224], 16: [227], 30: [247], 31: [249], 32: [250], 33: [252], 34: [253], 35: [254], 36: [255], 38: [257], 39: [258], 42: [263], 53: [274], 54: [275], 55: [276], 60: [281], 67: [286], 70: [290], 74: [293], 79: [300], 93: [326], 96: [330], 98: [333], 99: [334], 100: [335], 104: [339], 106: [340], 111: [346], 118: [357], 122: [366], 125: [369], 128: [371], 135: [379], 143: [389], 144: [395], 146: [399], 147: [401], 150: [403], 155: [414], 157: [416], 171: [440], 177: [461], 178: [462], 179: [463], 188: [480], 191: [484], 192: [485], 195: [492], 197: [494], 199: [498], 201: [500], 211: [532], 215: [535], 222: [549], 225: [551]}\n",
      "====================================================================================================\n",
      "(8, 15)\n",
      "{0: [198], 2: [199], 17: [221], 18: [222], 19: [223], 20: [224], 21: [226], 25: [240], 30: [247], 31: [248], 32: [251], 41: [258], 42: [259], 45: [265], 48: [269], 49: [273], 51: [277], 52: [280], 58: [285], 60: [287], 63: [289], 64: [290], 67: [296], 69: [299], 72: [302], 73: [304], 81: [315], 83: [318], 85: [320], 87: [321], 88: [323], 90: [325], 93: [327], 96: [331], 102: [338], 103: [340], 108: [347], 109: [349], 113: [358], 119: [365], 120: [366], 121: [369], 123: [374], 124: [375], 126: [377], 129: [380], 131: [384], 133: [385], 134: [386], 136: [389], 142: [402], 144: [405], 154: [414], 156: [419], 170: [437], 173: [441], 174: [442], 175: [443], 179: [447], 189: [459], 190: [460], 192: [462], 195: [467], 197: [470], 200: [473], 213: [481], 217: [486], 223: [497], 224: [499], 225: [504], 226: [505], 227: [506], 230: [510]}\n",
      "====================================================================================================\n",
      "(8, 16)\n",
      "{0: [198], 1: [200], 2: [201], 3: [204], 4: [205], 5: [208], 6: [209], 7: [210], 18: [227], 22: [232], 24: [235], 28: [243], 30: [245], 32: [250], 35: [256], 36: [257], 37: [258], 39: [260], 46: [269], 47: [270], 48: [271], 49: [272], 52: [277], 57: [284], 65: [300], 68: [305], 72: [317], 73: [318], 79: [325], 80: [327], 89: [339], 92: [344], 98: [348], 101: [350], 102: [352], 104: [354], 105: [357], 107: [361], 109: [365], 110: [366], 114: [371], 119: [383], 121: [387], 124: [392], 126: [393], 133: [400], 137: [407], 159: [437], 160: [438], 161: [439], 162: [440], 168: [449], 169: [451], 170: [452], 178: [466], 190: [478], 193: [484], 194: [485], 202: [497], 204: [502], 209: [512], 210: [513]}\n",
      "====================================================================================================\n",
      "(8, 17)\n",
      "{0: [198], 10: [205], 12: [207], 14: [208], 20: [213], 23: [215], 24: [216], 27: [220], 28: [221], 29: [224], 33: [227], 34: [230], 44: [248], 45: [249], 53: [265], 56: [267], 58: [270], 59: [271], 62: [273], 63: [274], 68: [279], 69: [280], 70: [281], 75: [286], 76: [287], 77: [288], 80: [292], 82: [295], 83: [297], 90: [303], 91: [305], 102: [318], 109: [334], 112: [338], 113: [340], 114: [342], 115: [343], 116: [344], 118: [347], 119: [350], 120: [351], 121: [352], 123: [354], 126: [357], 127: [358], 128: [359], 130: [361], 134: [366], 135: [368], 136: [370], 140: [386], 144: [399], 146: [402], 150: [407], 153: [410], 160: [417], 161: [418], 163: [419], 173: [428], 178: [434], 179: [435], 183: [440], 184: [441], 189: [451], 191: [453], 192: [454], 193: [455], 196: [459], 198: [463], 200: [468], 202: [471], 204: [478], 207: [482], 208: [483], 209: [486], 211: [487]}\n",
      "====================================================================================================\n",
      "(8, 18)\n",
      "{2: [169], 4: [173], 10: [181], 13: [187], 21: [195], 23: [200], 26: [203], 27: [205], 29: [213], 32: [217], 33: [219], 35: [220], 36: [222], 39: [225], 41: [226], 53: [243], 57: [253], 59: [255], 60: [256], 64: [262], 65: [263], 70: [272], 73: [275], 74: [277], 78: [284], 83: [292], 85: [294], 86: [295], 94: [302], 95: [303], 96: [304], 97: [305], 101: [308], 105: [310], 108: [315], 111: [318], 113: [321], 114: [324], 115: [325], 123: [340], 125: [341], 127: [343], 128: [344], 131: [347], 134: [349], 139: [354], 140: [355], 145: [362], 150: [366], 152: [367], 153: [368], 156: [371], 162: [376], 163: [377], 164: [378], 165: [379], 170: [383], 172: [386], 175: [391], 177: [393], 180: [398], 184: [404], 185: [405], 186: [406], 187: [407], 188: [408], 189: [410], 190: [413], 193: [422], 198: [435], 199: [439], 200: [440], 205: [446], 206: [447], 208: [450], 209: [451], 210: [453], 213: [457], 215: [463], 222: [469], 228: [476]}\n",
      "====================================================================================================\n",
      "(8, 19)\n",
      "{0: [197], 2: [200], 3: [203], 4: [204], 7: [209], 8: [210], 11: [218], 12: [219], 14: [224], 15: [227], 18: [232], 22: [239], 25: [245], 28: [249], 29: [252], 31: [254], 36: [260], 37: [261], 39: [265], 40: [266], 44: [271], 48: [273], 49: [274], 50: [275], 54: [281], 56: [283], 61: [288], 63: [295], 65: [299], 70: [305], 74: [311], 77: [315], 78: [318], 81: [321], 84: [326], 85: [327], 87: [331], 95: [341], 96: [342], 101: [349], 103: [352], 104: [354], 107: [358], 108: [359], 109: [360], 111: [363], 112: [364], 113: [365], 114: [366], 117: [370], 119: [373], 121: [380], 123: [383], 130: [398], 143: [416], 145: [419], 148: [421], 151: [425], 153: [427], 156: [433], 161: [440], 163: [448], 165: [453], 179: [475], 180: [476], 181: [477], 185: [480], 186: [481], 187: [482], 188: [485], 190: [488], 194: [493], 196: [496], 201: [501], 203: [507]}\n",
      "====================================================================================================\n",
      "(8, 20)\n",
      "{3: [169], 8: [175], 9: [177], 13: [181], 17: [184], 20: [190], 24: [198], 30: [207], 34: [212], 35: [213], 36: [214], 37: [215], 38: [216], 41: [220], 44: [223], 45: [224], 46: [225], 49: [230], 50: [231], 56: [238], 64: [244], 69: [253], 73: [257], 75: [261], 76: [263], 78: [265], 79: [266], 80: [267], 85: [277], 87: [282], 93: [291], 95: [293], 99: [297], 100: [298], 102: [300], 106: [307], 107: [309], 108: [310], 109: [312], 116: [320], 119: [325], 124: [330], 127: [335], 131: [342], 134: [347], 135: [348], 137: [351], 139: [353], 140: [354], 141: [355], 148: [365], 150: [368], 155: [374], 158: [381], 168: [398], 170: [401], 171: [402], 172: [403], 173: [405], 174: [406], 175: [407], 177: [409], 178: [410], 183: [415], 185: [419], 188: [423], 189: [424], 194: [432], 195: [433], 198: [438], 199: [439], 202: [442], 210: [458], 211: [460], 216: [467], 218: [469], 219: [470], 220: [471], 221: [473]}\n",
      "====================================================================================================\n",
      "(8, 21)\n",
      "{6: [191], 13: [198], 15: [199], 16: [200], 18: [203], 22: [205], 25: [209], 26: [210], 27: [212], 28: [214], 32: [219], 33: [222], 34: [223], 41: [232], 46: [240], 49: [242], 50: [243], 52: [246], 57: [253], 58: [255], 61: [260], 63: [265], 67: [269], 69: [271], 71: [272], 82: [289], 84: [291], 89: [297], 90: [300], 92: [302], 93: [303], 95: [305], 97: [309], 104: [321], 105: [322], 106: [323], 107: [325], 108: [326], 109: [327], 111: [329], 115: [334], 118: [338], 121: [343], 122: [344], 123: [345], 124: [347], 125: [348], 129: [351], 131: [352], 132: [353], 134: [359], 138: [364], 139: [365], 140: [366], 141: [367], 142: [368], 143: [370], 149: [376], 150: [378], 156: [392], 157: [393], 158: [395], 161: [400], 169: [407], 171: [410], 172: [411], 176: [414], 181: [418, 419], 182: [420], 183: [421], 184: [423], 186: [426], 188: [429], 189: [430], 190: [431], 191: [432], 195: [437], 198: [441], 201: [445], 203: [449], 204: [455], 206: [459], 210: [467], 211: [468], 216: [475], 218: [476]}\n",
      "====================================================================================================\n",
      "(8, 22)\n",
      "{2: [202], 3: [203], 4: [204], 5: [205], 6: [206], 7: [207], 11: [211], 14: [216], 15: [218], 18: [222], 19: [223], 20: [224], 21: [225], 23: [228], 24: [229], 26: [232], 30: [237], 33: [241], 39: [246], 48: [256], 54: [266], 55: [269], 61: [283], 63: [285], 64: [286], 67: [292], 72: [303], 73: [304], 76: [306], 77: [307], 84: [317], 88: [322], 90: [323], 91: [325], 92: [326], 96: [329], 101: [335], 102: [336], 110: [344], 113: [347], 119: [355], 122: [363], 123: [364], 124: [368], 125: [369], 126: [371], 127: [372], 140: [387], 143: [394], 147: [399], 151: [408], 157: [412], 158: [413], 162: [416], 164: [423], 167: [428], 172: [433], 177: [439], 179: [442], 180: [443], 181: [444], 183: [448], 184: [451], 188: [477], 193: [486], 201: [496]}\n",
      "====================================================================================================\n",
      "(8, 23)\n",
      "{4: [200], 5: [201], 9: [207], 10: [209], 11: [210], 13: [212], 15: [215], 16: [217], 18: [219], 19: [221], 20: [222], 21: [223], 22: [224], 23: [226], 25: [229], 27: [232], 31: [235], 36: [244], 38: [246], 39: [248], 48: [256], 53: [261], 55: [265], 60: [269], 62: [272], 66: [277], 68: [282], 70: [285], 71: [286], 74: [294], 76: [297], 77: [298], 80: [301], 85: [309], 88: [312], 90: [315], 92: [318], 94: [321], 96: [324], 102: [330], 105: [333], 107: [337], 113: [345], 114: [347], 116: [351], 117: [352], 118: [354], 120: [359], 122: [363], 126: [371], 132: [380], 138: [390], 139: [391], 143: [395], 145: [398], 147: [400], 149: [403], 153: [410], 154: [411], 155: [413], 156: [414], 158: [417], 160: [419], 161: [420], 165: [425], 168: [427], 169: [428], 180: [444], 182: [447], 183: [448], 186: [450], 188: [452]}\n",
      "====================================================================================================\n",
      "(8, 24)\n",
      "{1: [193], 9: [203], 10: [206], 11: [208], 16: [214], 19: [217], 20: [220], 27: [227], 30: [230], 36: [236], 39: [239], 42: [245], 43: [247], 45: [249], 46: [251], 47: [252], 48: [254], 50: [257], 51: [258], 52: [259], 53: [260], 55: [262], 58: [267], 61: [269], 62: [272], 65: [279], 66: [281], 67: [282], 71: [287], 84: [307], 88: [310], 104: [321], 108: [326], 109: [327], 113: [334], 121: [342], 122: [343], 124: [345], 127: [351], 128: [352], 131: [355], 133: [357], 142: [366], 144: [368], 153: [382], 157: [389], 162: [396], 168: [403], 172: [408], 176: [411], 185: [422], 188: [425], 189: [426], 193: [430], 199: [441], 204: [446], 209: [454], 211: [455], 221: [465], 226: [468], 232: [476], 236: [479], 247: [490], 250: [497]}\n",
      "====================================================================================================\n",
      "(9, 1)\n",
      "{0: [188], 1: [190], 3: [192], 7: [200], 8: [202], 12: [206], 23: [216], 30: [223], 44: [253], 52: [263], 59: [275], 70: [286], 71: [288], 72: [291], 74: [293], 80: [302], 85: [311], 88: [313], 93: [320], 96: [324], 98: [326], 105: [329], 110: [334], 111: [335], 120: [346], 127: [357], 130: [365], 131: [366], 139: [374], 149: [389], 154: [395], 161: [406], 164: [409], 166: [412], 171: [420], 173: [422], 183: [440], 189: [447], 195: [451], 197: [452], 202: [459], 203: [460], 206: [464], 209: [466], 214: [474], 221: [483], 223: [486], 225: [490], 227: [494], 228: [496], 229: [498], 230: [500], 233: [504], 242: [513], 244: [515], 247: [521]}\n",
      "====================================================================================================\n",
      "(9, 3)\n",
      "{2: [200], 9: [207], 10: [211], 13: [213], 15: [215], 19: [220], 20: [221], 21: [228], 24: [231], 29: [237], 30: [238], 31: [239], 40: [250], 41: [253], 44: [258], 47: [260], 54: [272], 55: [273], 56: [274], 58: [279], 60: [281], 62: [284], 64: [287], 66: [291], 69: [297], 72: [299], 73: [300], 80: [306], 81: [307], 83: [309], 87: [313], 92: [322], 93: [323], 98: [332], 102: [338], 106: [341], 108: [345], 109: [347], 112: [350], 115: [352], 117: [355], 118: [356], 122: [362], 126: [367], 127: [368], 130: [375], 133: [379], 138: [388], 141: [393], 156: [419], 160: [425], 176: [445], 177: [448], 178: [449], 181: [455], 185: [458], 194: [473], 195: [476], 199: [482], 201: [485], 202: [486], 203: [487], 208: [499], 210: [503], 212: [506], 213: [507], 220: [514], 222: [517], 226: [520], 228: [523], 234: [530], 236: [532], 237: [533]}\n",
      "====================================================================================================\n",
      "(9, 4)\n",
      "{0: [181], 2: [184], 7: [193], 8: [195], 11: [199], 13: [205], 15: [206], 19: [212], 38: [236], 41: [239], 44: [242], 45: [243], 52: [252], 60: [264], 61: [265], 67: [274], 71: [282], 78: [300], 81: [303], 83: [305], 84: [306], 86: [308], 88: [313], 90: [315], 92: [321], 96: [328], 98: [330], 111: [357], 115: [363], 116: [365], 117: [366], 118: [368], 122: [373], 123: [374], 124: [376], 127: [381], 129: [385], 131: [388], 147: [413], 159: [436], 163: [442], 167: [445], 168: [447], 170: [450], 171: [455], 175: [460], 184: [479]}\n",
      "====================================================================================================\n",
      "(9, 7)\n",
      "{0: [188], 3: [192], 4: [194], 5: [195], 8: [200], 10: [203], 11: [205], 17: [216], 19: [218], 20: [221], 21: [225], 23: [227], 27: [236], 31: [240], 32: [241], 34: [243], 40: [249], 42: [251], 44: [255], 47: [260], 48: [261], 50: [263], 52: [265], 53: [266], 55: [272], 56: [273], 57: [283], 58: [284], 59: [285], 60: [286], 61: [288], 65: [294], 66: [295], 67: [296], 68: [297], 70: [299], 73: [302], 78: [307], 87: [320], 91: [327], 97: [335], 101: [340], 104: [343], 106: [345], 107: [347], 108: [348], 110: [351], 114: [362], 116: [364], 117: [368], 120: [371], 121: [372], 128: [377], 133: [386], 134: [387], 135: [388], 143: [401], 153: [416], 163: [424], 167: [429], 171: [434], 173: [436], 174: [437], 176: [441], 177: [443], 182: [456], 184: [458], 186: [462], 190: [466], 194: [477, 478], 197: [479]}\n",
      "====================================================================================================\n",
      "(9, 8)\n",
      "{1: [202], 3: [206], 5: [208], 7: [211], 11: [216], 12: [217], 13: [218], 16: [221], 17: [223], 18: [226], 23: [232], 26: [238], 29: [240], 33: [246], 37: [249], 38: [250], 42: [255], 43: [256], 45: [259], 46: [260], 48: [263], 50: [265], 53: [268], 54: [269], 59: [274], 60: [275], 62: [277], 63: [279], 64: [281], 65: [282], 66: [283], 68: [286], 70: [288], 74: [295], 75: [296], 76: [297], 79: [300], 81: [302], 91: [312], 92: [313], 93: [314], 95: [317], 96: [318], 98: [321, 322], 101: [327], 103: [329], 104: [330], 115: [344], 124: [356], 127: [359], 140: [380], 141: [381], 144: [389], 145: [390], 146: [391], 151: [400], 152: [402], 153: [403], 156: [409], 157: [411], 158: [412], 165: [423], 175: [432], 182: [440], 187: [447], 194: [453], 195: [454], 201: [462], 210: [476], 213: [481], 214: [482], 216: [486], 222: [493]}\n",
      "====================================================================================================\n",
      "(9, 9)\n",
      "{0: [198], 2: [200], 8: [207], 9: [210], 11: [217], 16: [221], 19: [224], 22: [229], 23: [230], 26: [234], 27: [237], 29: [239], 32: [245], 33: [247], 36: [250], 38: [252], 39: [253], 40: [254], 44: [258], 47: [262], 49: [265], 56: [271], 76: [293], 77: [294], 78: [295], 80: [298], 81: [299], 85: [305], 86: [307], 88: [309], 91: [313], 92: [315], 94: [322], 98: [327], 99: [328], 109: [338], 114: [344], 116: [346], 118: [348], 120: [351], 124: [358], 126: [361], 131: [365], 132: [366], 133: [368], 134: [369], 140: [380], 141: [381], 149: [394], 160: [418], 167: [424], 169: [431], 170: [433], 171: [435], 174: [439], 175: [440], 177: [447], 180: [451], 181: [453], 184: [456], 185: [457], 187: [460], 190: [462], 191: [463], 198: [476], 200: [484], 215: [506], 217: [508], 219: [511], 220: [513], 221: [515], 225: [520, 521], 227: [523]}\n",
      "====================================================================================================\n",
      "(9, 10)\n",
      "{1: [200], 4: [202], 5: [203], 9: [210], 10: [211], 16: [226], 17: [227], 18: [230], 20: [234], 21: [235], 22: [236], 27: [241], 28: [243], 29: [244], 33: [248], 36: [255], 38: [256], 40: [260], 43: [265], 46: [272], 47: [275], 49: [276], 53: [283], 61: [300], 68: [310], 69: [314], 72: [316], 74: [319], 88: [341], 90: [344], 98: [353], 100: [367], 102: [370], 107: [377], 112: [383], 114: [385], 117: [390], 118: [391], 119: [392], 122: [395], 125: [397], 126: [398], 127: [400], 129: [403], 130: [406], 131: [408], 132: [410], 140: [425], 142: [430], 143: [432], 144: [441], 148: [448], 152: [455], 160: [464], 162: [466], 164: [468], 165: [469], 168: [472], 172: [483], 176: [486], 178: [490], 186: [502], 188: [507], 198: [524]}\n",
      "====================================================================================================\n",
      "(9, 11)\n",
      "{18: [203], 24: [214], 26: [216], 27: [219], 28: [220], 35: [233], 36: [236], 38: [239], 40: [241], 41: [242], 42: [243], 43: [244], 45: [247], 56: [257], 58: [259], 59: [260], 60: [261], 62: [262], 63: [267], 67: [272], 74: [279], 76: [283], 78: [286], 79: [287], 81: [291], 82: [292], 83: [293], 84: [295], 87: [299], 90: [303], 92: [306], 100: [318], 101: [319], 102: [320], 103: [321], 108: [328], 109: [329], 110: [330], 111: [331], 114: [335], 116: [337], 118: [339], 120: [342], 122: [344], 127: [351], 132: [360], 135: [364], 138: [367], 141: [371], 153: [380], 168: [394], 174: [403], 179: [411], 180: [412], 183: [416], 186: [420], 190: [428], 191: [430], 195: [433], 196: [436], 198: [437], 212: [440], 214: [450], 217: [452], 219: [453], 221: [455]}\n",
      "====================================================================================================\n",
      "(9, 12)\n",
      "{3: [206], 10: [216], 13: [222], 15: [225], 19: [230], 20: [231], 31: [248], 33: [250], 35: [253], 44: [265], 53: [274], 57: [278], 64: [284], 66: [286], 67: [287], 73: [291], 79: [296], 81: [304], 82: [307], 83: [308], 88: [316], 91: [320], 94: [325], 95: [326], 96: [328], 97: [329], 100: [334], 103: [338], 105: [340], 106: [341], 107: [342], 108: [343], 123: [361], 125: [363], 127: [365], 128: [366], 130: [370], 133: [374], 135: [376], 136: [377], 140: [381], 143: [386], 144: [387], 145: [388], 149: [394], 151: [396], 152: [397], 154: [402], 155: [403], 157: [405], 159: [407], 160: [410], 162: [411], 164: [413], 167: [417], 169: [422], 170: [423], 173: [426], 175: [429], 176: [430], 183: [438], 184: [439], 185: [440, 441], 194: [453], 196: [457], 201: [465], 204: [467], 205: [468], 206: [470], 209: [473], 212: [478], 213: [480], 218: [488], 223: [499], 225: [502], 226: [503], 228: [507], 233: [513], 235: [515]}\n",
      "====================================================================================================\n",
      "(9, 16)\n",
      "{4: [200], 12: [217], 18: [235], 19: [238], 22: [243], 26: [245], 35: [257], 39: [262], 40: [263], 51: [278], 55: [285], 56: [286], 57: [288], 62: [298], 64: [302], 65: [303], 67: [308], 71: [312], 72: [313], 73: [314, 315], 84: [328], 87: [332], 88: [333], 91: [337], 92: [339], 94: [341], 96: [344], 97: [347], 99: [349], 100: [350], 101: [351], 102: [353], 108: [361], 112: [365], 116: [368], 118: [371], 122: [375], 124: [377], 125: [378], 126: [379], 127: [383], 133: [389], 135: [391], 140: [395], 149: [407], 151: [409], 156: [415], 157: [417], 160: [420], 162: [423], 163: [424], 170: [433], 171: [434], 173: [444], 180: [460], 183: [463], 184: [464], 187: [469], 189: [472], 193: [478], 201: [497], 202: [505], 204: [507], 205: [508], 206: [510], 208: [513], 212: [518], 213: [519]}\n",
      "====================================================================================================\n",
      "(9, 17)\n",
      "{0: [194], 1: [195], 19: [218], 22: [224], 25: [229], 26: [230], 28: [233], 29: [234], 31: [235], 36: [245], 37: [246], 38: [248], 40: [252], 44: [258], 45: [261], 47: [263], 49: [265], 50: [266], 51: [268], 52: [270], 53: [273], 57: [279], 59: [283], 61: [285], 66: [289], 68: [292], 71: [296], 80: [315], 81: [316], 83: [320], 86: [325], 89: [329], 91: [333], 92: [334], 96: [337], 98: [339], 102: [342], 103: [346], 116: [359], 117: [361], 118: [362], 119: [366], 120: [369], 126: [380], 127: [381], 133: [387], 136: [394], 139: [406], 142: [413], 143: [416], 147: [426], 153: [440], 156: [445], 159: [452], 165: [466], 168: [469], 175: [475], 176: [476], 177: [479], 179: [482]}\n",
      "====================================================================================================\n",
      "(9, 18)\n",
      "{0: [197], 7: [207], 11: [210], 14: [213], 15: [214], 16: [215], 17: [216], 18: [217], 19: [218], 24: [226], 26: [229], 27: [231], 28: [232], 29: [233], 35: [241], 38: [244], 39: [246], 43: [250], 44: [251], 46: [255], 49: [260], 51: [262], 56: [269], 58: [271], 59: [272], 61: [275], 62: [276], 63: [277], 64: [278], 65: [279], 66: [280], 67: [281], 70: [286], 72: [290], 75: [293], 76: [294], 77: [295], 80: [298], 81: [300], 89: [308], 94: [316], 101: [324], 109: [339], 112: [341], 114: [342], 116: [345], 118: [347], 120: [348], 121: [349], 124: [352], 125: [354], 127: [357], 130: [363], 133: [366], 134: [367], 139: [370], 146: [380], 147: [382], 148: [383], 156: [400], 158: [402], 159: [405], 162: [413], 165: [417], 169: [421], 173: [425], 175: [428], 176: [431], 178: [433], 180: [436], 181: [437], 182: [438], 184: [441], 202: [463], 206: [468], 209: [476], 217: [484], 218: [486], 220: [489], 222: [491], 225: [494], 227: [498]}\n",
      "====================================================================================================\n"
     ]
    }
   ],
   "source": [
    "for x in further_alignment:\n",
    "    print(x)\n",
    "    print(further_alignment[x])\n",
    "    print(\"==\"*50)"
   ],
   "metadata": {
    "collapsed": false,
    "pycharm": {
     "name": "#%%\n"
    }
   }
  },
  {
   "cell_type": "code",
   "execution_count": 84,
   "outputs": [],
   "source": [
    "alignment_seeds = deepcopy(further_alignment)"
   ],
   "metadata": {
    "collapsed": false,
    "pycharm": {
     "name": "#%%\n"
    }
   }
  },
  {
   "cell_type": "code",
   "execution_count": 85,
   "outputs": [],
   "source": [
    "# Clean Alignment\n",
    "cleaned_alignment_seeds = {}\n",
    "for x in alignment_seeds:\n",
    "    temp = {}\n",
    "    sub2epi = alignment_seeds[x]\n",
    "    for sub_id in sub2epi:\n",
    "        if len(sub2epi[sub_id])==1:\n",
    "            temp[sub_id] = sub2epi[sub_id]\n",
    "    epi2sub = turn_sub2epi_into_epi2sub(temp)\n",
    "    cleaned_alignment_seeds[x] = epi2sub"
   ],
   "metadata": {
    "collapsed": false,
    "pycharm": {
     "name": "#%%\n"
    }
   }
  },
  {
   "cell_type": "code",
   "execution_count": 86,
   "outputs": [],
   "source": [
    "with open('alignment_results/zh/cleaned_final_stage_alignment.pkl', 'wb') as f:\n",
    "    pkl.dump(further_alignment, f)"
   ],
   "metadata": {
    "collapsed": false,
    "pycharm": {
     "name": "#%%\n"
    }
   }
  },
  {
   "cell_type": "code",
   "execution_count": 87,
   "outputs": [],
   "source": [
    "with open('alignment_results/zh/cleaned_final_stage_alignment.pkl', 'rb') as f:\n",
    "    final_stage_alignment = pkl.load(f)"
   ],
   "metadata": {
    "collapsed": false,
    "pycharm": {
     "name": "#%%\n"
    }
   }
  },
  {
   "cell_type": "code",
   "execution_count": 88,
   "outputs": [],
   "source": [
    "def get_alignment_extend_neighbors(tbbt, en_subtitle, other_subtitle, results, season_id, episode_id, bias):\n",
    "    # Fetch subset located by the stage-1 alignment\n",
    "    (en_subset, zh_subset, tbbt_episode) = fetch_subsets(\n",
    "        episode=tbbt,\n",
    "        en_subtitle=en_subtitle,\n",
    "        zh_subtitle=other_subtitle,\n",
    "        results=results,\n",
    "        season_id=season_id,\n",
    "        episode_id=episode_id,\n",
    "        bias=bias\n",
    "    )\n",
    "\n",
    "    epi2sub = alignment_seeds[(season_id,episode_id)]\n",
    "    # Extend the neighbors\n",
    "    while True:\n",
    "        temp = extend_neighbors(en_subset, epi2sub, tbbt_episode)\n",
    "        if len(temp)==len(epi2sub) and len(turn_sub2epi_into_epi2sub(temp))==len(turn_sub2epi_into_epi2sub(epi2sub)):\n",
    "            break\n",
    "        else:\n",
    "            epi2sub = temp\n",
    "\n",
    "    # Extend within gap using strict string match\n",
    "    gaps, abandons = get_subset_in_gaps(epi2sub)\n",
    "    epi2sub = add_strict_match_within_gaps(gaps, epi2sub)\n",
    "\n",
    "    # Extend within gap using wer\n",
    "    gaps, abandons = get_subset_in_gaps(epi2sub)\n",
    "    epi2sub = add_wer_match_within_gaps(gaps, epi2sub, en_subset, tbbt_episode)\n",
    "\n",
    "    # Extend within gap using substring cer\n",
    "    gaps, abandons = get_subset_in_gaps(epi2sub)\n",
    "    epi2sub = add_wer_substring_match_within_gaps(gaps, epi2sub, en_subset, tbbt_episode)\n",
    "\n",
    "    # # Add within the gap\n",
    "    # gaps, abandons = get_subset_in_gaps(epi2sub)\n",
    "    # epi2sub = add_one_size_gap(gaps, epi2sub)\n",
    "\n",
    "    # # Further extend neighbors\n",
    "    # epi2sub = extend_neighbors_sliding(en_subset, epi2sub, tbbt_episode)\n",
    "    # epi2sub = extend_neighbors_sliding(en_subset, epi2sub, tbbt_episode)\n",
    "    # epi2sub = extend_neighbors_sliding(en_subset, epi2sub, tbbt_episode)\n",
    "    # epi2sub = extend_neighbors_sliding(en_subset, epi2sub, tbbt_episode)\n",
    "\n",
    "    return epi2sub\n"
   ],
   "metadata": {
    "collapsed": false,
    "pycharm": {
     "name": "#%%\n"
    }
   }
  },
  {
   "cell_type": "code",
   "execution_count": 89,
   "outputs": [
    {
     "name": "stdout",
     "output_type": "stream",
     "text": [
      "Season: 1 Episode: 1 Episode Number: 63 63 Subtitle Number: 63 63\n",
      "Season: 1 Episode: 2 Episode Number: 54 54 Subtitle Number: 54 54\n",
      "Season: 1 Episode: 3 Episode Number: 40 40 Subtitle Number: 40 40\n",
      "Season: 1 Episode: 4 Episode Number: 45 45 Subtitle Number: 45 45\n",
      "Season: 1 Episode: 5 Episode Number: 50 50 Subtitle Number: 50 50\n",
      "Season: 1 Episode: 6 Episode Number: 64 64 Subtitle Number: 64 64\n",
      "Season: 1 Episode: 7 Episode Number: 60 60 Subtitle Number: 60 60\n",
      "Season: 1 Episode: 8 Episode Number: 62 61 Subtitle Number: 61 62\n",
      "Season: 1 Episode: 9 Episode Number: 40 40 Subtitle Number: 40 40\n",
      "Season: 1 Episode: 10 Episode Number: 64 64 Subtitle Number: 64 64\n",
      "Season: 1 Episode: 11 Episode Number: 49 49 Subtitle Number: 49 49\n",
      "Season: 1 Episode: 12 Episode Number: 39 39 Subtitle Number: 39 39\n",
      "Season: 1 Episode: 13 Episode Number: 69 69 Subtitle Number: 69 69\n",
      "Season: 1 Episode: 14 Episode Number: 59 58 Subtitle Number: 58 59\n",
      "Season: 1 Episode: 15 Episode Number: 58 56 Subtitle Number: 56 58\n",
      "Season: 1 Episode: 16 Episode Number: 57 57 Subtitle Number: 57 57\n",
      "Season: 2 Episode: 4 Episode Number: 36 36 Subtitle Number: 36 36\n",
      "Season: 2 Episode: 6 Episode Number: 61 61 Subtitle Number: 61 61\n",
      "Season: 2 Episode: 8 Episode Number: 58 58 Subtitle Number: 58 58\n",
      "Season: 2 Episode: 9 Episode Number: 62 61 Subtitle Number: 61 62\n",
      "Season: 3 Episode: 21 Episode Number: 61 61 Subtitle Number: 61 61\n",
      "Season: 3 Episode: 23 Episode Number: 59 59 Subtitle Number: 59 59\n",
      "Season: 4 Episode: 1 Episode Number: 68 68 Subtitle Number: 68 68\n",
      "Season: 4 Episode: 3 Episode Number: 81 81 Subtitle Number: 81 81\n",
      "Season: 4 Episode: 4 Episode Number: 69 68 Subtitle Number: 68 69\n",
      "Season: 4 Episode: 5 Episode Number: 65 65 Subtitle Number: 65 65\n",
      "Season: 4 Episode: 6 Episode Number: 74 74 Subtitle Number: 74 74\n",
      "Season: 4 Episode: 8 Episode Number: 69 68 Subtitle Number: 68 69\n",
      "Season: 4 Episode: 16 Episode Number: 53 53 Subtitle Number: 53 53\n",
      "Season: 4 Episode: 19 Episode Number: 73 73 Subtitle Number: 73 73\n",
      "Season: 4 Episode: 21 Episode Number: 62 62 Subtitle Number: 62 62\n",
      "Season: 4 Episode: 22 Episode Number: 61 61 Subtitle Number: 61 61\n",
      "Season: 4 Episode: 23 Episode Number: 69 68 Subtitle Number: 68 69\n",
      "Season: 4 Episode: 24 Episode Number: 59 59 Subtitle Number: 59 59\n",
      "Season: 5 Episode: 2 Episode Number: 51 51 Subtitle Number: 51 51\n",
      "Season: 5 Episode: 6 Episode Number: 75 74 Subtitle Number: 74 75\n",
      "Season: 5 Episode: 12 Episode Number: 74 74 Subtitle Number: 74 74\n",
      "Season: 5 Episode: 14 Episode Number: 46 46 Subtitle Number: 46 46\n",
      "Season: 5 Episode: 15 Episode Number: 68 68 Subtitle Number: 68 68\n",
      "Season: 5 Episode: 20 Episode Number: 54 53 Subtitle Number: 53 54\n",
      "Season: 5 Episode: 23 Episode Number: 61 61 Subtitle Number: 61 61\n",
      "Season: 6 Episode: 2 Episode Number: 66 66 Subtitle Number: 66 66\n",
      "Season: 6 Episode: 3 Episode Number: 48 48 Subtitle Number: 48 48\n",
      "Season: 6 Episode: 4 Episode Number: 49 49 Subtitle Number: 49 49\n",
      "Season: 6 Episode: 5 Episode Number: 71 71 Subtitle Number: 71 71\n",
      "Season: 6 Episode: 6 Episode Number: 52 52 Subtitle Number: 52 52\n",
      "Season: 6 Episode: 7 Episode Number: 54 54 Subtitle Number: 54 54\n",
      "Season: 6 Episode: 8 Episode Number: 63 63 Subtitle Number: 63 63\n",
      "Season: 6 Episode: 9 Episode Number: 44 44 Subtitle Number: 44 44\n",
      "Season: 6 Episode: 14 Episode Number: 58 58 Subtitle Number: 58 58\n",
      "Season: 6 Episode: 15 Episode Number: 66 66 Subtitle Number: 66 66\n",
      "Season: 6 Episode: 16 Episode Number: 67 67 Subtitle Number: 67 67\n",
      "Season: 6 Episode: 17 Episode Number: 43 43 Subtitle Number: 43 43\n",
      "Season: 6 Episode: 19 Episode Number: 60 60 Subtitle Number: 60 60\n",
      "Season: 6 Episode: 20 Episode Number: 60 60 Subtitle Number: 60 60\n",
      "Season: 6 Episode: 21 Episode Number: 59 59 Subtitle Number: 59 59\n",
      "Season: 6 Episode: 24 Episode Number: 58 58 Subtitle Number: 58 58\n",
      "Season: 7 Episode: 1 Episode Number: 43 43 Subtitle Number: 43 43\n",
      "Season: 7 Episode: 2 Episode Number: 78 77 Subtitle Number: 77 78\n",
      "Season: 7 Episode: 6 Episode Number: 61 60 Subtitle Number: 60 61\n",
      "Season: 7 Episode: 10 Episode Number: 62 62 Subtitle Number: 62 62\n",
      "Season: 7 Episode: 11 Episode Number: 71 71 Subtitle Number: 71 71\n",
      "Season: 7 Episode: 15 Episode Number: 71 70 Subtitle Number: 70 71\n",
      "Season: 7 Episode: 16 Episode Number: 82 82 Subtitle Number: 82 82\n",
      "Season: 7 Episode: 17 Episode Number: 75 75 Subtitle Number: 75 75\n",
      "Season: 7 Episode: 18 Episode Number: 79 79 Subtitle Number: 79 79\n",
      "Season: 7 Episode: 19 Episode Number: 65 65 Subtitle Number: 65 65\n",
      "Season: 7 Episode: 20 Episode Number: 56 56 Subtitle Number: 56 56\n",
      "Season: 7 Episode: 22 Episode Number: 68 68 Subtitle Number: 68 68\n",
      "Season: 7 Episode: 23 Episode Number: 75 75 Subtitle Number: 75 75\n",
      "Season: 8 Episode: 1 Episode Number: 54 54 Subtitle Number: 54 54\n",
      "Season: 8 Episode: 2 Episode Number: 73 73 Subtitle Number: 73 73\n",
      "Season: 8 Episode: 3 Episode Number: 72 72 Subtitle Number: 72 72\n",
      "Season: 8 Episode: 5 Episode Number: 71 71 Subtitle Number: 71 71\n",
      "Season: 8 Episode: 6 Episode Number: 89 89 Subtitle Number: 89 89\n",
      "Season: 8 Episode: 7 Episode Number: 72 72 Subtitle Number: 72 72\n",
      "Season: 8 Episode: 9 Episode Number: 70 70 Subtitle Number: 70 70\n",
      "Season: 8 Episode: 11 Episode Number: 67 67 Subtitle Number: 67 67\n",
      "Season: 8 Episode: 12 Episode Number: 76 76 Subtitle Number: 76 76\n",
      "Season: 8 Episode: 14 Episode Number: 61 61 Subtitle Number: 61 61\n",
      "Season: 8 Episode: 15 Episode Number: 73 73 Subtitle Number: 73 73\n",
      "Season: 8 Episode: 16 Episode Number: 62 62 Subtitle Number: 62 62\n",
      "Season: 8 Episode: 17 Episode Number: 76 76 Subtitle Number: 76 76\n",
      "Season: 8 Episode: 18 Episode Number: 81 81 Subtitle Number: 81 81\n",
      "Season: 8 Episode: 19 Episode Number: 75 75 Subtitle Number: 75 75\n",
      "Season: 8 Episode: 20 Episode Number: 79 79 Subtitle Number: 79 79\n",
      "Season: 8 Episode: 21 Episode Number: 87 86 Subtitle Number: 86 87\n",
      "Season: 8 Episode: 22 Episode Number: 66 66 Subtitle Number: 66 66\n",
      "Season: 8 Episode: 23 Episode Number: 72 72 Subtitle Number: 72 72\n",
      "Season: 8 Episode: 24 Episode Number: 64 64 Subtitle Number: 64 64\n",
      "Season: 9 Episode: 1 Episode Number: 56 56 Subtitle Number: 56 56\n",
      "Season: 9 Episode: 3 Episode Number: 73 73 Subtitle Number: 73 73\n",
      "Season: 9 Episode: 4 Episode Number: 47 47 Subtitle Number: 47 47\n",
      "Season: 9 Episode: 7 Episode Number: 72 71 Subtitle Number: 71 72\n",
      "Season: 9 Episode: 8 Episode Number: 74 73 Subtitle Number: 73 74\n",
      "Season: 9 Episode: 9 Episode Number: 74 73 Subtitle Number: 73 74\n",
      "Season: 9 Episode: 10 Episode Number: 64 64 Subtitle Number: 64 64\n",
      "Season: 9 Episode: 11 Episode Number: 66 66 Subtitle Number: 66 66\n",
      "Season: 9 Episode: 12 Episode Number: 80 79 Subtitle Number: 79 80\n",
      "Season: 9 Episode: 16 Episode Number: 69 68 Subtitle Number: 68 69\n",
      "Season: 9 Episode: 17 Episode Number: 60 60 Subtitle Number: 60 60\n",
      "Season: 9 Episode: 18 Episode Number: 82 82 Subtitle Number: 82 82\n"
     ]
    }
   ],
   "source": [
    "further_alignment = {}\n",
    "for (i, j) in alignment_seeds.keys():\n",
    "    temp = get_alignment_extend_neighbors(tbbt_transcripts, en_subtitle, zh_subtitle, results, i, j, 200)\n",
    "    further_alignment[(i,j)] = temp\n",
    "    print(\"Season:\", i,\"Episode:\", j, \"Episode Number:\",len(turn_sub2epi_into_epi2sub(alignment_seeds[(i,j)])), len(temp), \"Subtitle Number:\", len(alignment_seeds[(i,j)]),len(turn_sub2epi_into_epi2sub(temp)))"
   ],
   "metadata": {
    "collapsed": false,
    "pycharm": {
     "name": "#%%\n"
    }
   }
  },
  {
   "cell_type": "markdown",
   "source": [
    "## Part 3: Final Stage Alignment"
   ],
   "metadata": {
    "collapsed": false,
    "pycharm": {
     "name": "#%% md\n"
    }
   }
  },
  {
   "cell_type": "code",
   "execution_count": null,
   "outputs": [],
   "source": [],
   "metadata": {
    "collapsed": false,
    "pycharm": {
     "name": "#%%\n"
    }
   }
  },
  {
   "cell_type": "code",
   "execution_count": 94,
   "outputs": [],
   "source": [
    "def get_sliding_window_substrings(input_string, window_size):\n",
    "    input_tokens = input_string.strip().split(\" \")\n",
    "    substrings = []\n",
    "    for i in range(len(input_tokens)-window_size):\n",
    "        substrings.append(\" \".join(input_tokens[i: i+window_size]))\n",
    "    return substrings"
   ],
   "metadata": {
    "collapsed": false,
    "pycharm": {
     "name": "#%%\n"
    }
   }
  },
  {
   "cell_type": "code",
   "execution_count": 95,
   "outputs": [],
   "source": [
    "def get_final_stage_gap_pairs(epi2sub):\n",
    "    # Gather the gap of subtitle corresponding to episode utterance\n",
    "    epi_keys = sorted(list(epi2sub.keys()))\n",
    "    sub_keys = sorted(list(turn_sub2epi_into_epi2sub(epi2sub).keys()))\n",
    "\n",
    "    subtitle_gaps = {}\n",
    "    for i in range(len(epi_keys)-1):\n",
    "        epi_start = epi_keys[i]\n",
    "        epi_end = epi_keys[i+1]\n",
    "        key = (epi_start, epi_end)\n",
    "        if max(epi2sub[epi_start])+1<min(epi2sub[epi_end]):\n",
    "            subtitle_gaps[(epi_start, epi_end)] = [item for item in range(max(epi2sub[epi_start])+1, min(epi2sub[epi_end]))]\n",
    "\n",
    "    # Perform string match and CER Scoring\n",
    "    return subtitle_gaps"
   ],
   "metadata": {
    "collapsed": false,
    "pycharm": {
     "name": "#%%\n"
    }
   }
  },
  {
   "cell_type": "code",
   "execution_count": 96,
   "outputs": [],
   "source": [
    "\"\"\"\n",
    "Explore the neighbor subtitles of a episode.\n",
    "\n",
    "Given a episode utterance (epi_id), then we fetch the unaligned subtitle (sub_id)\n",
    "[epi_id_0, epi_id_1, etc., epi_id_n] - [sub_id_0, sub_id_1, etc. sub_id_m]\n",
    "\n",
    "Then, we search within the subset-pair\n",
    "\n",
    "For each subtitle, we use sliding window to fetch a set of substrings in each episode utterance and calculate the CER\n",
    "\"\"\"\n",
    "def extend_neighbors_episode_sliding(en_subset, epi2sub, tbbt_episode):\n",
    "    count = 0\n",
    "    # Gather the gap of subtitle corresponding to episode utterance\n",
    "    subtitle_gaps = get_final_stage_gap_pairs(epi2sub)\n",
    "\n",
    "    # Iterate the whole subtitle gaps to perform substring match\n",
    "    temp_epi2sub = deepcopy(epi2sub)\n",
    "    for item in subtitle_gaps:\n",
    "        epi_ids = [i for i in range(item[0], item[1]+1)]\n",
    "        sub_ids = [i for i in subtitle_gaps[item]]\n",
    "\n",
    "        # Fetch all episodes and subtitles\n",
    "        epis = [transformation(tbbt_episode[i][0].replace(\"’\", \" \").replace('…', \" \")) for i in epi_ids]\n",
    "        subs = [transformation(en_subset[i].replace(\"’\", \" \").replace('…', \" \")) for i in sub_ids]\n",
    "\n",
    "        # print(epi_ids)\n",
    "        # print(epis)\n",
    "        # print(sub_ids)\n",
    "        # print(subs)\n",
    "        for sub_id, sub in zip(sub_ids, subs):\n",
    "            sub_len = len(sub.strip().split(\" \"))\n",
    "            if sub_len <=3:\n",
    "                continue\n",
    "            min_score = float('inf')\n",
    "            min_substring = \"\"\n",
    "            source_episode = \"\"\n",
    "            source_sub_id = float('inf')\n",
    "            source_epi_id = float('inf')\n",
    "            for epi, epi_id in zip(epis, epi_ids):\n",
    "                # min_score = float('inf')\n",
    "                # min_substring = \"\"\n",
    "                epi_substrings = get_sliding_window_substrings(epi, window_size=sub_len)\n",
    "                for substring in epi_substrings:\n",
    "                    wer = jiwer.wer(sub, substring)\n",
    "                    if wer <= min_score:\n",
    "                        min_score = wer\n",
    "                        min_substring = substring\n",
    "                        source_episode = epi\n",
    "                        source_epi_id = epi_id\n",
    "            if min_score <= 0.5:\n",
    "                if source_epi_id not in temp_epi2sub:\n",
    "                    temp_epi2sub[source_epi_id] = [sub_id]\n",
    "                else:\n",
    "                    temp_epi2sub[source_epi_id].append(sub_id)\n",
    "                # print(sub_id+2, source_epi_id+2)\n",
    "                # print(\"Subtitle:\", sub_id+2, sub, len(sub.strip().split(\" \")))\n",
    "                # print(\"All Episode to compare:\")\n",
    "                # print(min_score, '|', min_substring, '|', source_episode)\n",
    "                # print('=='*50)\n",
    "                # count += 1\n",
    "    # print(temp_epi2sub)\n",
    "    # print(len(temp_epi2sub), len(turn_sub2epi_into_epi2sub(temp_epi2sub)))\n",
    "    # print(count)\n",
    "    output = {}\n",
    "    for epi_id in sorted(list(temp_epi2sub.keys())):\n",
    "        output[epi_id] = sorted(list(set(temp_epi2sub[epi_id])))\n",
    "    return output\n",
    "\n",
    "# epi2sub_0 = epi2sub\n",
    "# print(len(epi2sub_0), len(turn_sub2epi_into_epi2sub(epi2sub_0)))\n",
    "# epi2sub_1 = extend_neighbors_episode_sliding(en_subset, epi2sub_0, tbbt_episode)\n",
    "# print(len(epi2sub_1), len(turn_sub2epi_into_epi2sub(epi2sub_1)))\n",
    "# epi2sub_2 = extend_neighbors_episode_sliding(en_subset, epi2sub_1, tbbt_episode)\n",
    "# print(len(epi2sub_2), len(turn_sub2epi_into_epi2sub(epi2sub_2)))"
   ],
   "metadata": {
    "collapsed": false,
    "pycharm": {
     "name": "#%%\n"
    }
   }
  },
  {
   "cell_type": "code",
   "execution_count": 97,
   "outputs": [],
   "source": [
    "def get_alignment(tbbt, en_subtitle, other_subtitle, results, season_id, episode_id, bias):\n",
    "    # Fetch subset located by the stage-1 alignment\n",
    "    (en_subset, zh_subset, tbbt_episode) = fetch_subsets(\n",
    "        episode=tbbt,\n",
    "        en_subtitle=en_subtitle,\n",
    "        zh_subtitle=other_subtitle,\n",
    "        results=results,\n",
    "        season_id=season_id,\n",
    "        episode_id=episode_id,\n",
    "        bias=bias\n",
    "    )\n",
    "\n",
    "    epi2sub = alignment_seeds[(season_id,episode_id)]\n",
    "    # Extend the neighbors\n",
    "    while True:\n",
    "        temp = extend_neighbors(en_subset, epi2sub, tbbt_episode)\n",
    "        if len(temp)==len(epi2sub) and len(turn_sub2epi_into_epi2sub(temp))==len(turn_sub2epi_into_epi2sub(epi2sub)):\n",
    "            break\n",
    "        else:\n",
    "            epi2sub = temp\n",
    "\n",
    "    # Extend within gap using strict string match\n",
    "    gaps, abandons = get_subset_in_gaps(epi2sub)\n",
    "    epi2sub = add_strict_match_within_gaps(gaps, epi2sub)\n",
    "\n",
    "    # Extend within gap using wer\n",
    "    gaps, abandons = get_subset_in_gaps(epi2sub)\n",
    "    epi2sub = add_wer_match_within_gaps(gaps, epi2sub, en_subset, tbbt_episode)\n",
    "\n",
    "    # Extend within gap using substring cer\n",
    "    gaps, abandons = get_subset_in_gaps(epi2sub)\n",
    "    epi2sub = add_wer_substring_match_within_gaps(gaps, epi2sub, en_subset, tbbt_episode)\n",
    "\n",
    "    # Extend the neighbors\n",
    "    epi2sub = extend_neighbors_episode_sliding(en_subset, epi2sub, tbbt_episode)\n",
    "\n",
    "    return epi2sub"
   ],
   "metadata": {
    "collapsed": false,
    "pycharm": {
     "name": "#%%\n"
    }
   }
  },
  {
   "cell_type": "code",
   "execution_count": 99,
   "outputs": [
    {
     "name": "stdout",
     "output_type": "stream",
     "text": [
      "Season: 1 Episode: 1 Episode Number: 63 66 | Subtitle Number: 63 68\n",
      "Season: 1 Episode: 2 Episode Number: 54 55 | Subtitle Number: 54 55\n",
      "Season: 1 Episode: 3 Episode Number: 40 42 | Subtitle Number: 40 43\n",
      "Season: 1 Episode: 4 Episode Number: 45 45 | Subtitle Number: 45 45\n",
      "Season: 1 Episode: 5 Episode Number: 50 51 | Subtitle Number: 50 52\n",
      "Season: 1 Episode: 6 Episode Number: 64 64 | Subtitle Number: 64 64\n",
      "Season: 1 Episode: 7 Episode Number: 60 61 | Subtitle Number: 60 62\n",
      "Season: 1 Episode: 8 Episode Number: 61 64 | Subtitle Number: 62 67\n",
      "Season: 1 Episode: 9 Episode Number: 40 40 | Subtitle Number: 40 41\n",
      "Season: 1 Episode: 10 Episode Number: 64 65 | Subtitle Number: 64 67\n",
      "Season: 1 Episode: 11 Episode Number: 49 49 | Subtitle Number: 49 49\n",
      "Season: 1 Episode: 12 Episode Number: 39 39 | Subtitle Number: 39 39\n",
      "Season: 1 Episode: 13 Episode Number: 69 69 | Subtitle Number: 69 69\n",
      "Season: 1 Episode: 14 Episode Number: 58 58 | Subtitle Number: 59 61\n",
      "Season: 1 Episode: 15 Episode Number: 56 58 | Subtitle Number: 58 60\n",
      "Season: 1 Episode: 16 Episode Number: 57 57 | Subtitle Number: 57 57\n",
      "Season: 2 Episode: 4 Episode Number: 36 39 | Subtitle Number: 36 41\n",
      "Season: 2 Episode: 6 Episode Number: 61 63 | Subtitle Number: 61 63\n",
      "Season: 2 Episode: 8 Episode Number: 58 59 | Subtitle Number: 58 59\n",
      "Season: 2 Episode: 9 Episode Number: 61 62 | Subtitle Number: 62 63\n",
      "Season: 3 Episode: 21 Episode Number: 61 63 | Subtitle Number: 61 63\n",
      "Season: 3 Episode: 23 Episode Number: 59 59 | Subtitle Number: 59 60\n",
      "Season: 4 Episode: 1 Episode Number: 68 69 | Subtitle Number: 68 70\n",
      "Season: 4 Episode: 3 Episode Number: 81 83 | Subtitle Number: 81 84\n",
      "Season: 4 Episode: 4 Episode Number: 68 68 | Subtitle Number: 69 70\n",
      "Season: 4 Episode: 5 Episode Number: 65 65 | Subtitle Number: 65 67\n",
      "Season: 4 Episode: 6 Episode Number: 74 75 | Subtitle Number: 74 75\n",
      "Season: 4 Episode: 8 Episode Number: 68 68 | Subtitle Number: 69 69\n",
      "Season: 4 Episode: 16 Episode Number: 53 58 | Subtitle Number: 53 60\n",
      "Season: 4 Episode: 19 Episode Number: 73 73 | Subtitle Number: 73 73\n",
      "Season: 4 Episode: 21 Episode Number: 62 62 | Subtitle Number: 62 63\n",
      "Season: 4 Episode: 22 Episode Number: 61 61 | Subtitle Number: 61 61\n",
      "Season: 4 Episode: 23 Episode Number: 68 68 | Subtitle Number: 69 69\n",
      "Season: 4 Episode: 24 Episode Number: 59 59 | Subtitle Number: 59 61\n",
      "Season: 5 Episode: 2 Episode Number: 51 53 | Subtitle Number: 51 53\n",
      "Season: 5 Episode: 6 Episode Number: 74 75 | Subtitle Number: 75 79\n",
      "Season: 5 Episode: 12 Episode Number: 74 75 | Subtitle Number: 74 75\n",
      "Season: 5 Episode: 14 Episode Number: 46 46 | Subtitle Number: 46 46\n",
      "Season: 5 Episode: 15 Episode Number: 68 68 | Subtitle Number: 68 69\n",
      "Season: 5 Episode: 20 Episode Number: 53 54 | Subtitle Number: 54 56\n",
      "Season: 5 Episode: 23 Episode Number: 61 61 | Subtitle Number: 61 62\n",
      "Season: 6 Episode: 2 Episode Number: 66 66 | Subtitle Number: 66 66\n",
      "Season: 6 Episode: 3 Episode Number: 48 49 | Subtitle Number: 48 49\n",
      "Season: 6 Episode: 4 Episode Number: 49 50 | Subtitle Number: 49 50\n",
      "Season: 6 Episode: 5 Episode Number: 71 72 | Subtitle Number: 71 73\n",
      "Season: 6 Episode: 6 Episode Number: 52 53 | Subtitle Number: 52 54\n",
      "Season: 6 Episode: 7 Episode Number: 54 55 | Subtitle Number: 54 55\n",
      "Season: 6 Episode: 8 Episode Number: 63 64 | Subtitle Number: 63 64\n",
      "Season: 6 Episode: 9 Episode Number: 44 46 | Subtitle Number: 44 49\n",
      "Season: 6 Episode: 14 Episode Number: 58 58 | Subtitle Number: 58 58\n",
      "Season: 6 Episode: 15 Episode Number: 66 68 | Subtitle Number: 66 68\n",
      "Season: 6 Episode: 16 Episode Number: 67 67 | Subtitle Number: 67 67\n",
      "Season: 6 Episode: 17 Episode Number: 43 44 | Subtitle Number: 43 46\n",
      "Season: 6 Episode: 19 Episode Number: 60 61 | Subtitle Number: 60 61\n",
      "Season: 6 Episode: 20 Episode Number: 60 60 | Subtitle Number: 60 60\n",
      "Season: 6 Episode: 21 Episode Number: 59 60 | Subtitle Number: 59 60\n",
      "Season: 6 Episode: 24 Episode Number: 58 59 | Subtitle Number: 58 59\n",
      "Season: 7 Episode: 1 Episode Number: 43 44 | Subtitle Number: 43 46\n",
      "Season: 7 Episode: 2 Episode Number: 77 77 | Subtitle Number: 78 78\n",
      "Season: 7 Episode: 6 Episode Number: 60 61 | Subtitle Number: 61 64\n",
      "Season: 7 Episode: 10 Episode Number: 62 64 | Subtitle Number: 62 66\n",
      "Season: 7 Episode: 11 Episode Number: 71 73 | Subtitle Number: 71 73\n",
      "Season: 7 Episode: 15 Episode Number: 70 70 | Subtitle Number: 71 71\n",
      "Season: 7 Episode: 16 Episode Number: 82 82 | Subtitle Number: 82 82\n",
      "Season: 7 Episode: 17 Episode Number: 75 75 | Subtitle Number: 75 75\n",
      "Season: 7 Episode: 18 Episode Number: 79 80 | Subtitle Number: 79 81\n",
      "Season: 7 Episode: 19 Episode Number: 65 67 | Subtitle Number: 65 67\n",
      "Season: 7 Episode: 20 Episode Number: 56 56 | Subtitle Number: 56 58\n",
      "Season: 7 Episode: 22 Episode Number: 68 69 | Subtitle Number: 68 70\n",
      "Season: 7 Episode: 23 Episode Number: 75 77 | Subtitle Number: 75 77\n",
      "Season: 8 Episode: 1 Episode Number: 54 57 | Subtitle Number: 54 61\n",
      "Season: 8 Episode: 2 Episode Number: 73 73 | Subtitle Number: 73 73\n",
      "Season: 8 Episode: 3 Episode Number: 72 74 | Subtitle Number: 72 74\n",
      "Season: 8 Episode: 5 Episode Number: 71 75 | Subtitle Number: 71 75\n",
      "Season: 8 Episode: 6 Episode Number: 89 89 | Subtitle Number: 89 89\n",
      "Season: 8 Episode: 7 Episode Number: 72 72 | Subtitle Number: 72 74\n",
      "Season: 8 Episode: 9 Episode Number: 70 72 | Subtitle Number: 70 72\n",
      "Season: 8 Episode: 11 Episode Number: 67 71 | Subtitle Number: 67 73\n",
      "Season: 8 Episode: 12 Episode Number: 76 76 | Subtitle Number: 76 76\n",
      "Season: 8 Episode: 14 Episode Number: 61 63 | Subtitle Number: 61 63\n",
      "Season: 8 Episode: 15 Episode Number: 73 73 | Subtitle Number: 73 74\n",
      "Season: 8 Episode: 16 Episode Number: 62 62 | Subtitle Number: 62 62\n",
      "Season: 8 Episode: 17 Episode Number: 76 76 | Subtitle Number: 76 76\n",
      "Season: 8 Episode: 18 Episode Number: 81 81 | Subtitle Number: 81 81\n",
      "Season: 8 Episode: 19 Episode Number: 75 78 | Subtitle Number: 75 78\n",
      "Season: 8 Episode: 20 Episode Number: 79 79 | Subtitle Number: 79 80\n",
      "Season: 8 Episode: 21 Episode Number: 86 86 | Subtitle Number: 87 91\n",
      "Season: 8 Episode: 22 Episode Number: 66 67 | Subtitle Number: 66 68\n",
      "Season: 8 Episode: 23 Episode Number: 72 72 | Subtitle Number: 72 74\n",
      "Season: 8 Episode: 24 Episode Number: 64 64 | Subtitle Number: 64 64\n",
      "Season: 9 Episode: 1 Episode Number: 56 58 | Subtitle Number: 56 58\n",
      "Season: 9 Episode: 3 Episode Number: 73 73 | Subtitle Number: 73 73\n",
      "Season: 9 Episode: 4 Episode Number: 47 48 | Subtitle Number: 47 48\n",
      "Season: 9 Episode: 7 Episode Number: 71 72 | Subtitle Number: 72 74\n",
      "Season: 9 Episode: 8 Episode Number: 73 73 | Subtitle Number: 74 76\n",
      "Season: 9 Episode: 9 Episode Number: 73 74 | Subtitle Number: 74 75\n",
      "Season: 9 Episode: 10 Episode Number: 64 64 | Subtitle Number: 64 64\n",
      "Season: 9 Episode: 11 Episode Number: 66 66 | Subtitle Number: 66 67\n",
      "Season: 9 Episode: 12 Episode Number: 79 80 | Subtitle Number: 80 82\n",
      "Season: 9 Episode: 16 Episode Number: 68 69 | Subtitle Number: 69 70\n",
      "Season: 9 Episode: 17 Episode Number: 60 61 | Subtitle Number: 60 62\n",
      "Season: 9 Episode: 18 Episode Number: 82 83 | Subtitle Number: 82 83\n"
     ]
    }
   ],
   "source": [
    "further_alignment = {}\n",
    "for (i, j) in alignment_seeds.keys():\n",
    "    temp = get_alignment(tbbt_transcripts, en_subtitle, zh_subtitle, results, i, j, 200)\n",
    "    further_alignment[(i,j)] = temp\n",
    "    print(\"Season:\", i,\"Episode:\", j, \"Episode Number:\", len(alignment_seeds[(i,j)]),len(temp), \"|\", \"Subtitle Number:\", len(turn_sub2epi_into_epi2sub(alignment_seeds[(i,j)])),len(turn_sub2epi_into_epi2sub(temp)))"
   ],
   "metadata": {
    "collapsed": false,
    "pycharm": {
     "name": "#%%\n"
    }
   }
  },
  {
   "cell_type": "code",
   "execution_count": 100,
   "outputs": [],
   "source": [
    "with open('alignment_results/fa/final_stage_alignment_1.pkl', 'wb') as f:\n",
    "    pkl.dump(further_alignment, f)"
   ],
   "metadata": {
    "collapsed": false,
    "pycharm": {
     "name": "#%%\n"
    }
   }
  },
  {
   "cell_type": "code",
   "execution_count": 102,
   "outputs": [],
   "source": [
    "with open('alignment_results/fa/final_stage_alignment_1.pkl', 'rb') as f:\n",
    "    further_alignment = pkl.load(f)"
   ],
   "metadata": {
    "collapsed": false,
    "pycharm": {
     "name": "#%%\n"
    }
   }
  },
  {
   "cell_type": "code",
   "execution_count": null,
   "outputs": [],
   "source": [
    "for x in further_alignment:\n",
    "    print(x, len(further_alignment[x]), len(turn_sub2epi_into_epi2sub(further_alignment[x])))"
   ],
   "metadata": {
    "collapsed": false,
    "pycharm": {
     "name": "#%%\n"
    }
   }
  },
  {
   "cell_type": "markdown",
   "source": [
    "## Part 4: Ultimate Stage\n",
    "In this stage:\n",
    "1. Add the head and tail part\n",
    "2. add the alignment in the gap"
   ],
   "metadata": {
    "collapsed": false,
    "pycharm": {
     "name": "#%% md\n"
    }
   }
  },
  {
   "cell_type": "code",
   "execution_count": 408,
   "outputs": [],
   "source": [
    "with open('alignment_results/zh/final_stage_alignment_1.pkl', 'rb') as f:\n",
    "    alignment_seeds = pkl.load(f)"
   ],
   "metadata": {
    "collapsed": false,
    "pycharm": {
     "name": "#%%\n"
    }
   }
  },
  {
   "cell_type": "code",
   "execution_count": 411,
   "outputs": [
    {
     "name": "stdout",
     "output_type": "stream",
     "text": [
      "0 [200, 201, 202, 203]\n",
      "1 [204]\n",
      "2 [205]\n",
      "5 [206, 207, 208, 209, 210, 211]\n",
      "6 [212]\n",
      "7 [213]\n",
      "8 [214]\n",
      "9 [215]\n",
      "10 [216]\n",
      "11 [217]\n",
      "12 [218, 219]\n",
      "13 [220]\n",
      "14 [221]\n",
      "15 [222, 223, 224]\n",
      "16 [225, 226]\n",
      "17 [227, 228, 229]\n",
      "18 [230]\n",
      "19 [231]\n",
      "20 [232]\n",
      "21 [233]\n",
      "22 [234]\n",
      "23 [235]\n",
      "24 [236]\n",
      "28 [239]\n",
      "30 [240]\n",
      "31 [241]\n",
      "32 [242]\n",
      "33 [243, 244]\n",
      "34 [246, 247]\n",
      "35 [248]\n",
      "36 [249]\n",
      "39 [252]\n",
      "40 [253]\n",
      "45 [256]\n",
      "46 [257]\n",
      "47 [258, 259]\n",
      "54 [262]\n",
      "63 [266]\n",
      "64 [267]\n",
      "65 [268]\n",
      "66 [269]\n",
      "67 [270]\n",
      "68 [271]\n",
      "69 [272, 273]\n",
      "70 [274, 275]\n",
      "71 [276]\n",
      "72 [277]\n",
      "73 [278, 279]\n",
      "74 [280]\n",
      "75 [281, 282]\n",
      "76 [283]\n",
      "82 [285, 286]\n",
      "83 [287]\n",
      "84 [288]\n",
      "86 [289]\n",
      "88 [290]\n",
      "89 [291]\n",
      "90 [292]\n",
      "93 [293]\n",
      "94 [294]\n",
      "96 [295, 296]\n",
      "97 [297]\n",
      "98 [298]\n",
      "99 [299]\n",
      "100 [300]\n",
      "102 [301, 302]\n",
      "104 [303]\n",
      "105 [304]\n",
      "106 [305]\n",
      "107 [306]\n",
      "108 [307]\n",
      "109 [308]\n",
      "111 [311]\n",
      "112 [312]\n",
      "115 [313]\n",
      "116 [314, 315, 316, 317]\n",
      "117 [318]\n",
      "119 [319]\n",
      "123 [321, 322]\n",
      "124 [323]\n",
      "126 [325]\n",
      "127 [326]\n",
      "128 [327]\n",
      "131 [329]\n",
      "132 [330]\n",
      "133 [331, 332]\n",
      "134 [333]\n",
      "135 [334]\n",
      "136 [335]\n",
      "137 [336]\n",
      "138 [337, 338, 339, 340]\n",
      "139 [341]\n",
      "140 [342]\n",
      "141 [343]\n",
      "142 [344]\n",
      "143 [345]\n",
      "144 [346]\n",
      "145 [347, 348]\n",
      "146 [349]\n",
      "147 [350]\n",
      "148 [351]\n",
      "149 [352, 353, 354, 355]\n",
      "150 [356]\n",
      "151 [357, 358]\n",
      "154 [360, 361]\n",
      "155 [362]\n",
      "157 [363]\n",
      "158 [364, 365]\n",
      "159 [366]\n",
      "160 [367, 368, 369]\n",
      "161 [370, 372, 373, 374, 375]\n",
      "162 [377, 378]\n",
      "163 [379]\n",
      "164 [380]\n",
      "169 [382]\n",
      "170 [383]\n",
      "171 [384]\n",
      "173 [386]\n",
      "174 [387]\n",
      "175 [388]\n",
      "176 [389]\n",
      "177 [390]\n",
      "179 [391]\n",
      "180 [392]\n",
      "181 [393]\n",
      "182 [394, 395]\n",
      "183 [396]\n",
      "184 [397, 398]\n",
      "185 [399]\n",
      "186 [400, 401]\n",
      "187 [402]\n",
      "188 [403, 404]\n",
      "189 [405]\n",
      "190 [406]\n",
      "191 [407]\n",
      "192 [408]\n",
      "193 [409]\n",
      "195 [411]\n",
      "197 [412]\n",
      "198 [413]\n",
      "200 [415, 416]\n",
      "201 [417]\n",
      "202 [418]\n",
      "203 [419]\n",
      "204 [420]\n",
      "205 [421]\n",
      "206 [422]\n",
      "207 [423]\n",
      "208 [424, 425]\n",
      "209 [427, 428, 429]\n",
      "210 [430]\n",
      "211 [431]\n",
      "214 [433, 434]\n",
      "215 [435]\n",
      "219 [439]\n",
      "221 [442]\n",
      "222 [444]\n",
      "223 [446]\n",
      "224 [447]\n",
      "225 [448]\n",
      "226 [449]\n",
      "228 [450]\n",
      "229 [451]\n",
      "230 [452, 453, 454, 455, 456]\n",
      "231 [457]\n",
      "232 [458]\n",
      "233 [459]\n",
      "234 [460]\n",
      "235 [461]\n",
      "236 [462, 463]\n",
      "237 [464]\n",
      "238 [465]\n",
      "239 [466]\n",
      "240 [467]\n",
      "241 [468, 469, 470, 471]\n",
      "242 [472]\n",
      "243 [473, 474]\n",
      "244 [475]\n",
      "245 [476]\n",
      "246 [477]\n",
      "247 [478]\n",
      "249 [479, 480]\n",
      "250 [481]\n",
      "252 [483]\n",
      "254 [484, 485]\n",
      "255 [486]\n",
      "256 [487]\n",
      "257 [488]\n",
      "258 [489, 490]\n",
      "259 [491]\n",
      "260 [492]\n",
      "261 [493]\n",
      "262 [494, 495]\n",
      "263 [496]\n",
      "264 [497]\n",
      "265 [498, 499]\n",
      "266 [500]\n",
      "268 [501]\n",
      "269 [502]\n",
      "270 [503]\n",
      "272 [504]\n",
      "275 [506]\n",
      "277 [507]\n",
      "278 [508]\n",
      "279 [509]\n",
      "280 [510, 511]\n",
      "281 [512]\n",
      "282 [513, 514, 515]\n",
      "283 [516]\n",
      "284 [517]\n",
      "286 [519, 520]\n",
      "288 [522, 523, 524]\n",
      "289 [525]\n",
      "290 [526]\n",
      "291 [527]\n",
      "292 [528]\n",
      "293 [529]\n",
      "294 [530]\n",
      "295 [531]\n",
      "296 [532]\n",
      "297 [533]\n",
      "298 [534, 535]\n",
      "299 [536, 537, 538]\n",
      "301 [540, 541]\n",
      "302 [542]\n",
      "303 [543]\n",
      "304 [544]\n",
      "306 [545]\n",
      "307 [546]\n",
      "309 [547, 548]\n",
      "310 [549]\n",
      "311 [550, 551]\n",
      "312 [552]\n",
      "313 [553, 554]\n",
      "314 [555]\n"
     ]
    }
   ],
   "source": [
    "for x in alignment_seeds[(1,1)]:\n",
    "    print(x, alignment_seeds[(1,1)][x])"
   ],
   "metadata": {
    "collapsed": false,
    "pycharm": {
     "name": "#%%\n"
    }
   }
  },
  {
   "cell_type": "code",
   "execution_count": null,
   "outputs": [],
   "source": [
    "\"\"\"\n",
    "Add the head and tail alignment if it is not complete\n",
    "\"\"\"\n"
   ],
   "metadata": {
    "collapsed": false,
    "pycharm": {
     "name": "#%%\n"
    }
   }
  },
  {
   "cell_type": "code",
   "execution_count": 538,
   "outputs": [],
   "source": [
    "def fetch_before_after(en_subset, zh_subset, tbbt_episode, epi2sub):\n",
    "    gap_pairs = []\n",
    "    # Fetch the Episode-Subtitle Pair before the episode start\n",
    "    epi_ids = list(range(0, min(epi2sub.keys())))\n",
    "    num_epi_token = 0\n",
    "    for i in epi_ids:\n",
    "        num_epi_token += len(tbbt_episode[i][0].strip().split(\" \"))\n",
    "\n",
    "    sub_ids = [min(epi2sub[min(epi2sub.keys())])]\n",
    "    num_sub_token = len(en_subset[sub_ids[-1]].strip().split(\" \"))\n",
    "    while num_sub_token <= num_epi_token*3:\n",
    "        sub_ids.append(sub_ids[-1]-1)\n",
    "        num_sub_token += len(en_subset[sub_ids[-1]].strip().split(\" \"))\n",
    "    gap_pairs.append([epi_ids, sorted(sub_ids)])\n",
    "\n",
    "    # Fetch the Episode-Subtitle Pair after the episode end\n",
    "    epi_ids = list(range(max(epi2sub.keys())+1, len(tbbt_episode)))\n",
    "    num_epi_token = 0\n",
    "    for i in epi_ids:\n",
    "        num_epi_token += len(tbbt_episode[i][0].strip().split(\" \"))\n",
    "\n",
    "    sub_ids = [max(epi2sub[max(epi2sub.keys())])+1]\n",
    "    num_sub_token = len(en_subset[sub_ids[-1]].strip().split(\" \"))\n",
    "    while num_sub_token <= num_epi_token*3:\n",
    "        sub_ids.append(sub_ids[-1]+1)\n",
    "        num_sub_token += len(en_subset[sub_ids[-1]].strip().split(\" \"))\n",
    "    gap_pairs.append([epi_ids, sub_ids])\n",
    "\n",
    "    return gap_pairs"
   ],
   "metadata": {
    "collapsed": false,
    "pycharm": {
     "name": "#%%\n"
    }
   }
  },
  {
   "cell_type": "code",
   "execution_count": 539,
   "outputs": [],
   "source": [
    "def before_after_exact_match(en_subset, episode, epi_ids, sub_ids):\n",
    "    res = {}\n",
    "    for sub_id in sub_ids:\n",
    "        subtitle = transformation(en_subset[sub_id])\n",
    "        if len(subtitle.strip().split(\" \")) <=5:\n",
    "            continue\n",
    "        # Exact Match for short sentences\n",
    "        for epi_id in epi_ids:\n",
    "            utt = transformation(episode[epi_id][0])\n",
    "            speaker = episode[epi_id][1]\n",
    "            if subtitle == utt:\n",
    "                if i not in res:\n",
    "                    res[i] = set()\n",
    "                    res[i].add(j)\n",
    "                else:\n",
    "                    res[i].add(j)\n",
    "    output = {}\n",
    "    for x in res:\n",
    "        output[x] = sorted(list(res[x]))\n",
    "\n",
    "    return output"
   ],
   "metadata": {
    "collapsed": false,
    "pycharm": {
     "name": "#%%\n"
    }
   }
  },
  {
   "cell_type": "code",
   "execution_count": 540,
   "outputs": [],
   "source": [
    "def before_after_string_match_sliding_window_no_filter(en_subset, episode, epi_ids, sub_ids, window_size=5):\n",
    "    res = {}\n",
    "    for sub_id in sub_ids:\n",
    "        subtitle = transformation(en_subset[sub_id])\n",
    "        subtitle_tokens = subtitle.strip().split(\" \")\n",
    "        if len(subtitle_tokens) < window_size:\n",
    "            continue\n",
    "\n",
    "        subtitle_segments = []\n",
    "        for j in range(len(subtitle_tokens) - window_size):\n",
    "            subtitle_segments.append(\" \".join(subtitle_tokens[j: j + window_size]))\n",
    "            # print(\" \".join(subtitle_tokens[j: j+5]))\n",
    "\n",
    "        for epi_id in epi_ids:\n",
    "            utt = transformation(episode[epi_id][0])\n",
    "            speaker = episode[epi_id][1]\n",
    "            for sub_seg in subtitle_segments:\n",
    "                if sub_seg in utt:\n",
    "                    if i not in res:\n",
    "                        res[i] = set()\n",
    "                        res[i].add(j)\n",
    "                    else:\n",
    "                        res[i].add(j)\n",
    "    return res"
   ],
   "metadata": {
    "collapsed": false,
    "pycharm": {
     "name": "#%%\n"
    }
   }
  },
  {
   "cell_type": "code",
   "execution_count": null,
   "outputs": [],
   "source": [
    "def add_wer_substring_match_within_gaps(gaps, epi2sub, en_subset, tbbt_episode):\n",
    "    count = 0\n",
    "    pattern = r'\\.|\\?|\\!|\\;|- '\n",
    "    temp_sub2epi = {}\n",
    "    for gap in gaps:\n",
    "        # Build substrings\n",
    "        sub_ids = gap[1]\n",
    "        epi_ids = gap[0]\n",
    "        sub_lists = []\n",
    "        epi_lists = []\n",
    "\n",
    "        for epi_id in epi_ids:\n",
    "            epi = tbbt_episode[epi_id][0].replace(\"’\", \"'\")\n",
    "            epi_substring = re.split(pattern, epi)\n",
    "            for item in epi_substring:\n",
    "                if len(item.strip().split(\" \"))<=2:\n",
    "                    continue\n",
    "                temp_item = transformation(item.replace(\"-\", \" \").strip())\n",
    "                epi_lists.append([temp_item, epi_id])\n",
    "\n",
    "        for sub_id in sub_ids:\n",
    "            sub = en_subset[sub_id].replace(\"’\", \"'\")\n",
    "            sub_substring = re.split(pattern, sub)\n",
    "            for item in sub_substring:\n",
    "                if len(item.strip().split(\" \"))<=2:\n",
    "                    continue\n",
    "                temp_item = transformation(item.replace(\"-\", \" \").strip())\n",
    "                sub_lists.append([temp_item, sub_id])\n",
    "\n",
    "\n",
    "        # Calculate WER Similarity\n",
    "        for (sub, sub_id) in sub_lists:\n",
    "            for (epi, epi_id) in epi_lists:\n",
    "                cer = jiwer.cer(epi, sub)\n",
    "                if cer <= 0.2:\n",
    "                    count += 1\n",
    "                    if sub_id not in temp_sub2epi:\n",
    "                        temp_sub2epi[sub_id] = set()\n",
    "                        temp_sub2epi[sub_id].add(epi_id)\n",
    "                    else:\n",
    "                        temp_sub2epi[sub_id].add(epi_id)\n",
    "\n",
    "    for sub_id in temp_sub2epi:\n",
    "        epi_ids = list(temp_sub2epi[sub_id])\n",
    "        if len(epi_ids)!=1:\n",
    "            continue\n",
    "        epi_id = epi_ids[0]\n",
    "        if epi_id not in epi2sub:\n",
    "            epi2sub[epi_id] = [sub_id]\n",
    "        else:\n",
    "            epi2sub[epi_id].append(sub_id)\n",
    "\n",
    "    output = {}\n",
    "    for epi_id in sorted(list(epi2sub.keys())):\n",
    "        output[epi_id] = sorted(list(set(epi2sub[epi_id])))\n",
    "    return output"
   ],
   "metadata": {
    "collapsed": false,
    "pycharm": {
     "name": "#%%\n"
    }
   }
  },
  {
   "cell_type": "code",
   "execution_count": 622,
   "outputs": [],
   "source": [
    "def get_optimal_wer_from_episode(ground_truth, hypothesis_pool):\n",
    "    scores = []\n",
    "    for i, hypothesis in enumerate(hypothesis_pool):\n",
    "        scores.append(jiwer.compute_measures(ground_truth, hypothesis)['wer'])\n",
    "    return min(scores), hypothesis_pool[scores.index(min(scores))], ground_truth, scores.index(min(scores))"
   ],
   "metadata": {
    "collapsed": false,
    "pycharm": {
     "name": "#%%\n"
    }
   }
  },
  {
   "cell_type": "code",
   "execution_count": 662,
   "outputs": [],
   "source": [
    "def get_optimal_cer_from_episode(ground_truth, hypothesis_pool, utt_ids):\n",
    "    scores = []\n",
    "    for i, hypothesis in enumerate(hypothesis_pool):\n",
    "        scores.append(jiwer.cer(ground_truth, hypothesis))\n",
    "    return min(scores), hypothesis_pool[scores.index(min(scores))], ground_truth, utt_ids[scores.index(min(scores))]"
   ],
   "metadata": {
    "collapsed": false,
    "pycharm": {
     "name": "#%%\n"
    }
   }
  },
  {
   "cell_type": "code",
   "execution_count": 781,
   "outputs": [],
   "source": [
    "def before_after_wer_match(en_subset, episode, epi_ids, sub_ids):\n",
    "    # Load Sub2Epi\n",
    "    temp_sub2epi = {}\n",
    "    temp_epi2sub = {}\n",
    "    for sub_id in sub_ids:\n",
    "        subtitle = transformation(en_subset[sub_id].replace(\"’\", \" \").replace('…', \" \"))\n",
    "        subtitle_tokens = subtitle.strip().split(\" \")\n",
    "        sub_len = len(subtitle_tokens)\n",
    "        if sub_len <= 4:\n",
    "            continue\n",
    "\n",
    "        utt_segments = []\n",
    "        utt_ids = []\n",
    "        for epi_id in epi_ids:\n",
    "            utt = transformation(episode[epi_id][0].replace(\"’\", \" \").replace('…', \" \"))\n",
    "            utt_tokens = utt.strip().split(\" \")\n",
    "            for j in range(len(utt_tokens) - sub_len+1):\n",
    "                utt_segments.append(\" \".join(utt_tokens[j: j + sub_len]))\n",
    "                utt_ids.append(epi_id)\n",
    "        if utt_segments != [] and subtitle not in [\" \", \"\"]:\n",
    "            score, hypo, truth, index = get_optimal_cer_from_episode(subtitle, utt_segments, utt_ids)\n",
    "            if score >= 0.5:\n",
    "                continue\n",
    "            # print(\"**********\")\n",
    "            # print(\"Score:\", score)\n",
    "            # print(\"Subtitle:\", truth)\n",
    "            # print(\"Episode:\", hypo)\n",
    "            # print(\"Epi ID:\", index, \"Sub ID:\", sub_id)\n",
    "            temp_sub2epi[sub_id] = [index]\n",
    "            if index not in temp_epi2sub:\n",
    "                temp_epi2sub[index] = [sub_id]\n",
    "            else:\n",
    "                temp_epi2sub[index].append(sub_id)\n",
    "    # print(\"Sub2Epi:\", temp_sub2epi)\n",
    "    # print(\"Epi2Sub:\", temp_epi2sub)\n",
    "    return temp_sub2epi"
   ],
   "metadata": {
    "collapsed": false,
    "pycharm": {
     "name": "#%%\n"
    }
   }
  },
  {
   "cell_type": "code",
   "execution_count": 785,
   "outputs": [],
   "source": [
    "def filter_alignment(epi2sub):\n",
    "    epi_ids = list(epi2sub.keys())\n",
    "    if len(epi_ids)<2:\n",
    "        return epi2sub\n",
    "\n",
    "    temp = {}\n",
    "    for i in range(len(epi_ids)-1):\n",
    "        if max(further_alignment[x][epi_ids[i]]) <= min(further_alignment[x][epi_ids[i+1]]):\n",
    "            temp[epi_ids[i]] = further_alignment[x][epi_ids[i]]\n",
    "        # print(epi_id, further_alignment[x][epi_id], min(further_alignment[x][epi_ids[i+1]]) >= max(further_alignment[x][epi_ids[i]]))\n",
    "    temp[epi_ids[-1]] = epi2sub[epi_ids[-1]]\n",
    "    return temp"
   ],
   "metadata": {
    "collapsed": false,
    "pycharm": {
     "name": "#%%\n"
    }
   }
  },
  {
   "cell_type": "code",
   "execution_count": 794,
   "outputs": [],
   "source": [
    "def get_alignment(tbbt, en_subtitle, other_subtitle, results, season_id, episode_id, bias):\n",
    "    # Fetch subset located by the stage-1 alignment\n",
    "    (en_subset, zh_subset, tbbt_episode) = fetch_subsets(\n",
    "        episode=tbbt,\n",
    "        en_subtitle=en_subtitle,\n",
    "        zh_subtitle=other_subtitle,\n",
    "        results=results,\n",
    "        season_id=season_id,\n",
    "        episode_id=episode_id,\n",
    "        bias=bias\n",
    "    )\n",
    "\n",
    "    head_tail_sub2epi = {}\n",
    "\n",
    "    epi2sub = alignment_seeds[(season_id,episode_id)]\n",
    "    print(min(epi2sub.keys()), max(epi2sub.keys()), len(tbbt_episode)-1, len(tbbt_episode)-max(epi2sub.keys())-1)\n",
    "\n",
    "    # Fetch episode-subtitle alignment pairs before and after the head and tail\n",
    "    gap_pairs = fetch_before_after(en_subset, zh_subset, tbbt_episode, epi2sub)\n",
    "    for item in gap_pairs:\n",
    "        # print(item)\n",
    "        # print(\"Episode:\")\n",
    "        # for i in item[0]:\n",
    "        #     print(transformation(tbbt_episode[i][0].replace(\"’\", \" \").replace('…', \" \")))\n",
    "        # print()\n",
    "        # print(\"Subtitle:\")\n",
    "        # for i in item[1]:\n",
    "        #     print(transformation(en_subset[i].replace(\"’\", \" \").replace('…', \" \")))\n",
    "        # print(\"------\")\n",
    "        temp = before_after_wer_match(en_subset, tbbt_episode, item[0], item[1])\n",
    "        for x in temp:\n",
    "            head_tail_sub2epi[x] = temp[x]\n",
    "\n",
    "    # Clean Alignment\n",
    "    head_tail_epi2sub = turn_sub2epi_into_epi2sub(head_tail_sub2epi)\n",
    "    print(head_tail_epi2sub)\n",
    "    # head_tail_epi2sub = filter_alignment(head_tail_epi2sub)\n",
    "    # print(head_tail_epi2sub)\n",
    "\n",
    "\n",
    "    return head_tail_sub2epi\n",
    "\n",
    "    # for item in gap_pairs:\n",
    "    #     temp = before_after_string_match_sliding_window_no_filter(en_subset, tbbt_episode, item[0], item[1], 200)\n",
    "    #     print(temp)\n",
    "\n",
    "\n",
    "    # # Extend the neighbors\n",
    "    # while True:\n",
    "    #     temp = extend_neighbors(en_subset, epi2sub, tbbt_episode)\n",
    "    #     if len(temp)==len(epi2sub) and len(turn_sub2epi_into_epi2sub(temp))==len(turn_sub2epi_into_epi2sub(epi2sub)):\n",
    "    #         break\n",
    "    #     else:\n",
    "    #         epi2sub = temp\n",
    "    #\n",
    "    # # Extend within gap using strict string match\n",
    "    # gaps, abandons = get_subset_in_gaps(epi2sub)\n",
    "    # epi2sub = add_strict_match_within_gaps(gaps, epi2sub)\n",
    "    #\n",
    "    # # Extend within gap using wer\n",
    "    # gaps, abandons = get_subset_in_gaps(epi2sub)\n",
    "    # epi2sub = add_wer_match_within_gaps(gaps, epi2sub, en_subset, tbbt_episode)\n",
    "    #\n",
    "    # # Extend within gap using substring cer\n",
    "    # gaps, abandons = get_subset_in_gaps(epi2sub)\n",
    "    # epi2sub = add_wer_substring_match_within_gaps(gaps, epi2sub, en_subset, tbbt_episode)\n",
    "    #\n",
    "    # # Extend the neighbors\n",
    "    # epi2sub = extend_neighbors_episode_sliding(en_subset, epi2sub, tbbt_episode)\n",
    "\n",
    "    # return epi2sub"
   ],
   "metadata": {
    "collapsed": false,
    "pycharm": {
     "name": "#%%\n"
    }
   }
  },
  {
   "cell_type": "code",
   "execution_count": 807,
   "outputs": [
    {
     "name": "stdout",
     "output_type": "stream",
     "text": [
      "1 1\n",
      "0 314 314 0\n",
      "{}\n",
      "====================================================================================================\n",
      "1 2\n",
      "2 232 234 2\n",
      "{0: [166], 1: [167]}\n",
      "====================================================================================================\n",
      "1 3\n",
      "3 240 247 7\n",
      "{0: [189, 190], 241: [506], 242: [507, 509, 510], 243: [511], 245: [513]}\n",
      "====================================================================================================\n",
      "1 4\n",
      "1 215 223 8\n",
      "{217: [485, 486], 220: [488]}\n",
      "====================================================================================================\n",
      "1 5\n",
      "0 220 222 2\n",
      "{221: [475, 476], 222: [477]}\n",
      "====================================================================================================\n",
      "1 6\n",
      "2 238 250 12\n",
      "{0: [197, 198], 242: [495, 496], 244: [498], 245: [499], 246: [500], 247: [501], 248: [502], 249: [503], 250: [505, 506, 507]}\n",
      "====================================================================================================\n",
      "1 7\n",
      "10 275 283 8\n",
      "{0: [180], 1: [182], 3: [183], 8: [189, 190, 191], 9: [193], 276: [514], 279: [519], 280: [520, 521], 281: [522]}\n",
      "====================================================================================================\n",
      "1 8\n",
      "2 263 263 0\n",
      "{}\n",
      "====================================================================================================\n",
      "1 9\n",
      "1 218 224 6\n",
      "{}\n",
      "====================================================================================================\n",
      "1 10\n",
      "0 223 224 1\n",
      "{224: [481, 482, 483]}\n",
      "====================================================================================================\n",
      "1 11\n",
      "4 245 245 0\n",
      "{2: [190, 191]}\n",
      "====================================================================================================\n",
      "1 12\n",
      "1 13\n",
      "2 246 254 8\n",
      "{0: [200, 201], 1: [202], 248: [512], 249: [513], 252: [516], 254: [518]}\n",
      "====================================================================================================\n",
      "1 14\n",
      "2 230 233 3\n",
      "{0: [200, 201, 203], 231: [515], 232: [516, 517]}\n",
      "====================================================================================================\n",
      "1 15\n",
      "0 230 237 7\n",
      "{231: [496], 233: [498], 237: [503, 504]}\n",
      "====================================================================================================\n",
      "1 16\n",
      "0 221 236 15\n",
      "{222: [468], 226: [471, 472], 227: [473, 477, 494], 228: [474], 229: [478], 230: [480, 481, 482, 483], 231: [484, 485], 232: [487], 233: [488], 236: [490]}\n",
      "====================================================================================================\n",
      "2 1\n",
      "18 231 234 3\n",
      "{0: [180, 181], 1: [182], 2: [183], 3: [184], 4: [185], 13: [195], 16: [196, 198], 15: [197], 17: [200], 232: [489], 233: [490], 234: [492]}\n",
      "====================================================================================================\n",
      "2 2\n",
      "2 242 247 5\n",
      "{1: [199], 244: [511], 245: [513], 247: [514, 515]}\n",
      "====================================================================================================\n",
      "2 3\n",
      "0 230 232 2\n",
      "{232: [492]}\n",
      "====================================================================================================\n",
      "2 4\n",
      "5 255 257 2\n",
      "{0: [194], 4: [198], 257: [510]}\n",
      "====================================================================================================\n",
      "2 5\n",
      "2 203 208 5\n",
      "{}\n",
      "====================================================================================================\n",
      "2 6\n",
      "0 228 233 5\n",
      "{231: [501], 232: [502]}\n",
      "====================================================================================================\n",
      "2 7\n",
      "20 253 259 6\n",
      "{0: [180], 14: [194], 15: [195], 17: [197], 254: [485], 255: [486], 256: [487], 257: [488], 258: [489]}\n",
      "====================================================================================================\n",
      "2 8\n",
      "2 226 227 1\n",
      "{1: [178]}\n",
      "====================================================================================================\n",
      "2 9\n",
      "4 207 207 0\n",
      "{}\n",
      "====================================================================================================\n",
      "2 10\n",
      "1 208 218 10\n",
      "{210: [478, 479], 212: [482], 214: [484], 216: [486]}\n",
      "====================================================================================================\n",
      "2 11\n",
      "0 213 220 7\n",
      "{214: [461], 215: [462], 216: [463], 217: [464], 218: [466], 219: [468], 220: [469]}\n",
      "====================================================================================================\n",
      "2 12\n",
      "2 202 207 5\n",
      "{0: [187, 188], 203: [491, 492], 206: [494], 207: [496, 497]}\n",
      "====================================================================================================\n",
      "2 13\n",
      "0 199 201 2\n",
      "{200: [505]}\n",
      "====================================================================================================\n",
      "2 14\n",
      "1 241 244 3\n",
      "{242: [480, 481], 244: [483, 485, 486]}\n",
      "====================================================================================================\n",
      "2 15\n",
      "1 213 215 2\n",
      "{215: [423]}\n",
      "====================================================================================================\n",
      "2 16\n",
      "1 238 245 7\n",
      "{240: [482], 241: [483], 242: [484]}\n",
      "====================================================================================================\n",
      "2 17\n",
      "2 208 209 1\n",
      "{0: [181], 1: [182]}\n",
      "====================================================================================================\n",
      "2 18\n",
      "1 215 224 9\n",
      "{216: [445, 446], 217: [448], 219: [449], 222: [452], 224: [454]}\n",
      "====================================================================================================\n",
      "2 19\n",
      "0 225 226 1\n",
      "{226: [481]}\n",
      "====================================================================================================\n",
      "2 20\n",
      "4 212 219 7\n",
      "{213: [456], 215: [457, 458], 216: [459], 217: [460], 218: [462], 219: [464, 466, 467]}\n",
      "====================================================================================================\n",
      "2 21\n",
      "1 228 228 0\n",
      "{}\n",
      "====================================================================================================\n",
      "2 22\n",
      "3 206 212 6\n",
      "{0: [199], 1: [200], 2: [202], 208: [466, 467], 209: [469], 210: [470], 211: [471], 212: [472, 473]}\n",
      "====================================================================================================\n",
      "2 23\n",
      "6 222 222 0\n",
      "{2: [194], 3: [195], 4: [196], 5: [197]}\n",
      "====================================================================================================\n",
      "3 1\n",
      "2 205 209 4\n",
      "{0: [200], 1: [201]}\n",
      "====================================================================================================\n",
      "3 2\n",
      "1 210 215 5\n",
      "{0: [172], 211: [471], 212: [472]}\n",
      "====================================================================================================\n",
      "3 3\n",
      "3 226 233 7\n",
      "{0: [195], 227: [470], 228: [471, 472], 230: [474], 231: [475], 233: [477]}\n",
      "====================================================================================================\n",
      "3 4\n",
      "0 237 238 1\n",
      "{}\n",
      "====================================================================================================\n",
      "3 5\n",
      "0 226 230 4\n",
      "{228: [488, 489]}\n",
      "====================================================================================================\n",
      "3 6\n",
      "4 211 217 6\n",
      "{212: [494], 213: [495]}\n",
      "====================================================================================================\n",
      "3 7\n",
      "2 236 236 0\n",
      "{0: [169], 1: [170, 171, 172]}\n",
      "====================================================================================================\n",
      "3 8\n",
      "0 204 204 0\n",
      "{}\n",
      "====================================================================================================\n",
      "3 9\n",
      "2 192 195 3\n",
      "{0: [200, 201], 1: [202], 193: [463], 194: [465]}\n",
      "====================================================================================================\n",
      "3 10\n",
      "2 246 246 0\n",
      "{0: [199], 1: [200]}\n",
      "====================================================================================================\n",
      "3 11\n",
      "1 216 219 3\n",
      "{0: [189]}\n",
      "====================================================================================================\n",
      "3 12\n",
      "0 197 198 1\n",
      "{198: [470]}\n",
      "====================================================================================================\n",
      "3 13\n",
      "0 165 165 0\n",
      "{}\n",
      "====================================================================================================\n",
      "3 14\n",
      "1 201 207 6\n",
      "{202: [462, 463, 464, 465, 466, 468], 203: [470, 471], 204: [472], 206: [474]}\n",
      "====================================================================================================\n",
      "3 15\n",
      "1 197 198 1\n",
      "{0: [200, 202]}\n",
      "====================================================================================================\n",
      "3 16\n",
      "0 215 215 0\n",
      "{}\n",
      "====================================================================================================\n",
      "3 17\n",
      "0 198 198 0\n",
      "{}\n",
      "====================================================================================================\n",
      "3 18\n",
      "4 161 161 0\n",
      "{0: [183, 184], 2: [186]}\n",
      "====================================================================================================\n",
      "3 19\n",
      "0 230 235 5\n",
      "{234: [485, 486, 487], 235: [488]}\n",
      "====================================================================================================\n",
      "3 20\n",
      "3 239 245 6\n",
      "{0: [197, 198], 242: [494], 244: [497]}\n",
      "====================================================================================================\n",
      "3 21\n",
      "15 254 256 2\n",
      "{6: [199], 7: [200], 8: [201], 9: [202], 10: [203], 13: [206, 207]}\n",
      "====================================================================================================\n",
      "3 22\n",
      "0 248 250 2\n",
      "{249: [498], 250: [499]}\n",
      "====================================================================================================\n",
      "3 23\n",
      "3 246 246 0\n",
      "{0: [190], 1: [191], 2: [193]}\n",
      "====================================================================================================\n",
      "4 1\n",
      "0 243 243 0\n",
      "{}\n",
      "====================================================================================================\n",
      "4 2\n",
      "1 219 220 1\n",
      "{0: [198], 220: [494, 495]}\n",
      "====================================================================================================\n",
      "4 3\n",
      "1 266 269 3\n",
      "{0: [199], 267: [525], 268: [528, 530]}\n",
      "====================================================================================================\n",
      "4 4\n",
      "0 246 251 5\n",
      "{}\n",
      "====================================================================================================\n",
      "4 5\n",
      "0 224 224 0\n",
      "{}\n",
      "====================================================================================================\n",
      "4 6\n",
      "5 242 255 13\n",
      "{2: [183, 184], 3: [186], 4: [187], 245: [513], 248: [516], 255: [523]}\n",
      "====================================================================================================\n",
      "4 7\n",
      "1 213 216 3\n",
      "{0: [189]}\n",
      "====================================================================================================\n",
      "4 8\n",
      "4 207 207 0\n",
      "{0: [184, 185], 1: [186, 187], 2: [188], 3: [189]}\n",
      "====================================================================================================\n",
      "4 9\n",
      "0 240 242 2\n",
      "{242: [535]}\n",
      "====================================================================================================\n",
      "4 10\n",
      "0 206 209 3\n",
      "{207: [468], 209: [472]}\n",
      "====================================================================================================\n",
      "4 11\n",
      "5 229 230 1\n",
      "{230: [483]}\n",
      "====================================================================================================\n",
      "4 12\n",
      "0 231 234 3\n",
      "{232: [496], 233: [502, 508], 234: [505, 506]}\n",
      "====================================================================================================\n",
      "4 13\n",
      "1 242 242 0\n",
      "{}\n",
      "====================================================================================================\n",
      "4 14\n",
      "0 208 213 5\n",
      "{212: [478], 213: [482]}\n",
      "====================================================================================================\n",
      "4 15\n",
      "1 209 213 4\n",
      "{0: [190, 191, 192], 210: [471], 211: [472]}\n",
      "====================================================================================================\n",
      "4 17\n",
      "0 227 229 2\n",
      "{228: [502], 229: [508, 509]}\n",
      "====================================================================================================\n",
      "4 18\n",
      "5 227 230 3\n",
      "{3: [181], 230: [487]}\n",
      "====================================================================================================\n",
      "4 19\n",
      "0 237 249 12\n",
      "{244: [496], 249: [502]}\n",
      "====================================================================================================\n",
      "4 20\n",
      "0 241 241 0\n",
      "{}\n",
      "====================================================================================================\n",
      "4 21\n",
      "0 201 202 1\n",
      "{202: [462]}\n",
      "====================================================================================================\n",
      "4 22\n",
      "0 239 240 1\n",
      "{}\n",
      "====================================================================================================\n",
      "4 23\n",
      "2 237 237 0\n",
      "{0: [193], 1: [194]}\n",
      "====================================================================================================\n",
      "4 24\n",
      "7 222 229 7\n",
      "{4: [196, 197], 5: [198], 223: [493], 229: [497]}\n",
      "====================================================================================================\n",
      "5 1\n",
      "4 186 191 5\n",
      "{0: [174, 175, 176], 1: [177], 2: [178, 179, 180, 181], 3: [182], 187: [490]}\n",
      "====================================================================================================\n",
      "5 2\n",
      "1 209 209 0\n",
      "{}\n",
      "====================================================================================================\n",
      "5 3\n",
      "2 186 200 14\n",
      "{0: [193], 188: [494], 189: [495], 190: [496], 198: [497, 504], 197: [503], 199: [505], 200: [506]}\n",
      "====================================================================================================\n",
      "5 4\n",
      "0 184 189 5\n",
      "{185: [521], 187: [523], 189: [525, 526]}\n",
      "====================================================================================================\n",
      "5 5\n",
      "1 228 238 10\n",
      "{0: [162], 229: [524], 230: [526], 231: [528], 237: [535]}\n",
      "====================================================================================================\n",
      "5 6\n",
      "1 184 190 6\n",
      "{0: [178], 187: [522], 189: [525], 190: [527, 528]}\n",
      "====================================================================================================\n",
      "5 7\n",
      "0 195 201 6\n",
      "{197: [501, 502, 503], 198: [504, 505], 199: [506], 200: [507, 508, 509], 201: [510]}\n",
      "====================================================================================================\n",
      "5 8\n",
      "0 198 201 3\n",
      "{}\n",
      "====================================================================================================\n",
      "5 9\n",
      "15 190 198 8\n",
      "{1: [181], 2: [182, 183], 4: [185, 186], 6: [188], 9: [192], 10: [193], 13: [196], 14: [197, 198], 193: [495], 194: [496], 195: [497, 498], 197: [499, 500], 198: [502]}\n",
      "====================================================================================================\n",
      "5 10\n",
      "0 183 187 4\n",
      "{184: [528], 185: [529], 186: [530, 531]}\n",
      "====================================================================================================\n",
      "5 11\n",
      "2 233 235 2\n",
      "{0: [189], 1: [190, 191], 234: [550, 551], 235: [552]}\n",
      "====================================================================================================\n",
      "5 12\n",
      "1 184 185 1\n",
      "{0: [200], 185: [484, 485]}\n",
      "====================================================================================================\n",
      "5 13\n",
      "0 241 243 2\n",
      "{243: [472]}\n",
      "====================================================================================================\n",
      "5 14\n",
      "0 171 172 1\n",
      "{}\n",
      "====================================================================================================\n",
      "5 15\n",
      "4 181 189 8\n",
      "{3: [184, 185, 186, 187], 183: [470], 185: [473]}\n",
      "====================================================================================================\n",
      "5 16\n",
      "0 198 201 3\n",
      "{199: [497, 498], 200: [499]}\n",
      "====================================================================================================\n",
      "5 17\n",
      "12 219 222 3\n",
      "{1: [194, 195], 2: [196, 198], 3: [199], 4: [200, 201], 5: [202], 220: [547], 221: [548]}\n",
      "====================================================================================================\n",
      "5 18\n",
      "0 168 172 4\n",
      "{169: [492], 170: [493, 494, 495], 172: [499]}\n",
      "====================================================================================================\n",
      "5 19\n",
      "0 188 189 1\n",
      "{189: [477]}\n",
      "====================================================================================================\n",
      "5 20\n",
      "3 221 222 1\n",
      "{2: [172, 188, 190], 1: [187]}\n",
      "====================================================================================================\n",
      "5 21\n",
      "0 193 194 1\n",
      "{}\n",
      "====================================================================================================\n",
      "5 22\n",
      "0 190 190 0\n",
      "{}\n",
      "====================================================================================================\n",
      "5 23\n",
      "2 192 205 13\n",
      "{1: [177, 178], 195: [479], 197: [480, 523], 199: [481], 203: [486]}\n",
      "====================================================================================================\n",
      "6 1\n",
      "2 226 229 3\n",
      "{0: [200], 1: [201], 228: [503]}\n",
      "====================================================================================================\n",
      "6 2\n",
      "0 225 225 0\n",
      "{}\n",
      "====================================================================================================\n",
      "6 3\n",
      "2 195 197 2\n",
      "{1: [190], 196: [480]}\n",
      "====================================================================================================\n",
      "6 4\n",
      "3 221 221 0\n",
      "{0: [200], 1: [201]}\n",
      "====================================================================================================\n",
      "6 5\n",
      "0 214 219 5\n",
      "{215: [487], 217: [490], 218: [491, 492, 493, 494, 496]}\n",
      "====================================================================================================\n",
      "6 6\n",
      "1 194 194 0\n",
      "{0: [198]}\n",
      "====================================================================================================\n",
      "6 7\n",
      "0 184 188 4\n",
      "{185: [487, 488], 186: [489], 187: [490], 188: [492, 493]}\n",
      "====================================================================================================\n",
      "6 8\n",
      "0 228 232 4\n",
      "{229: [479], 230: [480], 231: [481], 232: [482, 484]}\n",
      "====================================================================================================\n",
      "6 9\n",
      "7 201 201 0\n",
      "{2: [178, 179], 3: [180, 181], 4: [182], 5: [183], 6: [184]}\n",
      "====================================================================================================\n",
      "6 10\n",
      "0 191 193 2\n",
      "{}\n",
      "====================================================================================================\n",
      "6 11\n",
      "0 208 210 2\n",
      "{210: [507]}\n",
      "====================================================================================================\n",
      "6 12\n",
      "0 200 200 0\n",
      "{}\n",
      "====================================================================================================\n",
      "6 13\n",
      "0 222 225 3\n",
      "{}\n",
      "====================================================================================================\n",
      "6 14\n",
      "3 199 200 1\n",
      "{0: [190], 1: [192], 2: [193]}\n",
      "====================================================================================================\n",
      "6 15\n",
      "0 221 225 4\n",
      "{223: [500]}\n",
      "====================================================================================================\n",
      "6 16\n",
      "0 206 206 0\n",
      "{}\n",
      "====================================================================================================\n",
      "6 17\n",
      "0 160 160 0\n",
      "{}\n",
      "====================================================================================================\n",
      "6 18\n",
      "0 140 141 1\n",
      "{141: [430]}\n",
      "====================================================================================================\n",
      "6 19\n",
      "3 221 222 1\n",
      "{1: [189], 2: [190]}\n",
      "====================================================================================================\n",
      "6 20\n",
      "0 194 201 7\n",
      "{195: [456], 196: [457], 197: [458, 459], 200: [462]}\n",
      "====================================================================================================\n",
      "6 21\n",
      "0 179 179 0\n",
      "{}\n",
      "====================================================================================================\n",
      "6 22\n",
      "0 204 210 6\n",
      "{205: [486], 207: [490]}\n",
      "====================================================================================================\n",
      "6 23\n",
      "2 191 192 1\n",
      "{}\n",
      "====================================================================================================\n",
      "6 24\n",
      "0 210 210 0\n",
      "{}\n",
      "====================================================================================================\n",
      "7 1\n",
      "3 218 221 3\n",
      "{0: [189], 1: [191]}\n",
      "====================================================================================================\n",
      "7 2\n",
      "2 247 247 0\n",
      "{}\n",
      "====================================================================================================\n",
      "7 3\n",
      "2 236 244 8\n",
      "{0: [197], 1: [199], 242: [540, 542, 544]}\n",
      "====================================================================================================\n",
      "7 4\n",
      "3 193 194 1\n",
      "{0: [196]}\n",
      "====================================================================================================\n",
      "7 5\n",
      "1 184 187 3\n",
      "{}\n",
      "====================================================================================================\n",
      "7 6\n",
      "3 201 204 3\n",
      "{203: [535]}\n",
      "====================================================================================================\n",
      "7 7\n",
      "6 214 219 5\n",
      "{0: [199], 1: [200], 2: [201, 202], 3: [203, 204], 4: [205], 215: [511, 512], 216: [513]}\n",
      "====================================================================================================\n",
      "7 8\n",
      "0 187 190 3\n",
      "{188: [482, 483]}\n",
      "====================================================================================================\n",
      "7 9\n",
      "2 236 236 0\n",
      "{}\n",
      "====================================================================================================\n",
      "7 10\n",
      "0 209 212 3\n",
      "{210: [535], 211: [536]}\n",
      "====================================================================================================\n",
      "7 11\n",
      "4 248 248 0\n",
      "{0: [196], 1: [197, 198], 2: [199], 3: [200, 201, 202]}\n",
      "====================================================================================================\n",
      "7 13\n",
      "2 257 260 3\n",
      "{258: [571], 260: [574]}\n",
      "====================================================================================================\n",
      "7 14\n",
      "1 206 207 1\n",
      "{207: [495]}\n",
      "====================================================================================================\n",
      "7 15\n",
      "4 214 220 6\n",
      "{0: [196, 197], 1: [198], 2: [199], 3: [200], 218: [546], 220: [549]}\n",
      "====================================================================================================\n",
      "7 16\n",
      "1 240 242 2\n",
      "{0: [198], 241: [525], 242: [526]}\n",
      "====================================================================================================\n",
      "7 17\n",
      "3 208 210 2\n",
      "{1: [193], 2: [195]}\n",
      "====================================================================================================\n",
      "7 18\n",
      "3 229 235 6\n",
      "{231: [497, 498], 233: [500], 234: [501]}\n",
      "====================================================================================================\n",
      "7 19\n",
      "0 220 221 1\n",
      "{}\n",
      "====================================================================================================\n",
      "7 20\n",
      "0 212 219 7\n",
      "{213: [509, 512], 215: [517, 519], 216: [520, 521], 218: [523, 524, 525]}\n",
      "====================================================================================================\n",
      "7 21\n",
      "0 191 192 1\n",
      "{192: [477, 478, 479]}\n",
      "====================================================================================================\n",
      "7 22\n",
      "0 206 211 5\n",
      "{207: [469], 209: [470, 471], 211: [473]}\n",
      "====================================================================================================\n",
      "7 23\n",
      "1 229 235 6\n",
      "{0: [194], 230: [502]}\n",
      "====================================================================================================\n",
      "7 24\n",
      "10 251 251 0\n",
      "{0: [198], 3: [200], 6: [202], 9: [206]}\n",
      "====================================================================================================\n",
      "8 1\n",
      "0 205 205 0\n",
      "{}\n",
      "====================================================================================================\n",
      "8 2\n",
      "0 211 216 5\n",
      "{215: [492]}\n",
      "====================================================================================================\n",
      "8 3\n",
      "1 201 205 4\n",
      "{0: [185, 186], 202: [470], 204: [472], 205: [473]}\n",
      "====================================================================================================\n",
      "8 4\n",
      "0 236 237 1\n",
      "{}\n",
      "====================================================================================================\n",
      "8 5\n",
      "0 220 221 1\n",
      "{}\n",
      "====================================================================================================\n",
      "8 6\n",
      "1 239 239 0\n",
      "{}\n",
      "====================================================================================================\n",
      "8 8\n",
      "1 210 214 4\n",
      "{0: [168], 212: [503], 214: [508, 510, 511, 513]}\n",
      "====================================================================================================\n",
      "8 9\n",
      "0 215 222 7\n",
      "{216: [458], 217: [459], 218: [460], 219: [461, 462, 463], 220: [464]}\n",
      "====================================================================================================\n",
      "8 10\n",
      "2 204 206 2\n",
      "{0: [199, 200, 201, 202, 203, 204], 1: [205, 206], 205: [520, 521], 206: [522, 523]}\n",
      "====================================================================================================\n",
      "8 11\n",
      "0 216 216 0\n",
      "{}\n",
      "====================================================================================================\n",
      "8 12\n",
      "1 205 213 8\n",
      "{0: [183], 206: [530, 531], 210: [535], 211: [537], 212: [538], 213: [540, 541]}\n",
      "====================================================================================================\n",
      "8 13\n",
      "1 202 202 0\n",
      "{0: [191]}\n",
      "====================================================================================================\n",
      "8 15\n",
      "0 230 232 2\n",
      "{231: [537], 232: [538, 540]}\n",
      "====================================================================================================\n",
      "8 16\n",
      "0 210 214 4\n",
      "{211: [547], 214: [550]}\n",
      "====================================================================================================\n",
      "8 17\n",
      "0 211 215 4\n",
      "{213: [557], 214: [558], 215: [559]}\n",
      "====================================================================================================\n",
      "8 18\n",
      "0 228 229 1\n",
      "{}\n",
      "====================================================================================================\n",
      "8 19\n",
      "0 203 203 0\n",
      "{}\n",
      "====================================================================================================\n",
      "8 20\n",
      "3 233 234 1\n",
      "{}\n",
      "====================================================================================================\n",
      "8 21\n",
      "6 218 226 8\n",
      "{0: [167, 168], 3: [171, 172], 4: [173, 174, 178, 179, 180], 222: [531], 224: [534, 535]}\n",
      "====================================================================================================\n",
      "8 22\n",
      "2 193 203 10\n",
      "{0: [200, 201], 1: [202], 194: [520], 195: [521], 197: [524], 198: [527, 528], 200: [530], 203: [533]}\n",
      "====================================================================================================\n",
      "8 23\n",
      "4 188 196 8\n",
      "{0: [194], 1: [195], 2: [196], 3: [198, 199], 191: [486], 196: [490, 491, 492, 493, 494, 495, 496, 497, 498, 499]}\n",
      "====================================================================================================\n",
      "8 24\n",
      "1 250 255 5\n",
      "{0: [194], 255: [550, 551]}\n",
      "====================================================================================================\n",
      "9 1\n",
      "0 247 252 5\n",
      "{248: [568, 569, 570, 571, 572, 573], 250: [576, 577], 251: [578], 252: [580]}\n",
      "====================================================================================================\n",
      "9 2\n",
      "1 208 209 1\n",
      "{209: [520]}\n",
      "====================================================================================================\n",
      "9 3\n",
      "2 237 238 1\n",
      "{0: [198], 1: [199]}\n",
      "====================================================================================================\n",
      "9 4\n",
      "0 184 184 0\n",
      "{}\n",
      "====================================================================================================\n",
      "9 5\n",
      "2 199 199 0\n",
      "{}\n",
      "====================================================================================================\n",
      "9 6\n",
      "2 243 244 1\n",
      "{0: [169], 244: [557]}\n",
      "====================================================================================================\n",
      "9 7\n",
      "0 197 197 0\n",
      "{}\n",
      "====================================================================================================\n",
      "9 9\n",
      "0 227 228 1\n",
      "{}\n",
      "====================================================================================================\n",
      "9 10\n",
      "0 198 198 0\n",
      "{}\n",
      "====================================================================================================\n",
      "9 11\n",
      "7 219 229 10\n",
      "{222: [512], 224: [517], 226: [521], 227: [523], 228: [525, 526]}\n",
      "====================================================================================================\n",
      "9 12\n",
      "2 235 237 2\n",
      "{0: [200], 1: [202]}\n",
      "====================================================================================================\n",
      "9 13\n",
      "0 214 217 3\n",
      "{}\n",
      "====================================================================================================\n",
      "9 14\n",
      "0 241 242 1\n",
      "{}\n",
      "====================================================================================================\n",
      "9 15\n",
      "4 221 222 1\n",
      "{222: [560, 561, 562]}\n",
      "====================================================================================================\n",
      "9 16\n",
      "4 213 213 0\n",
      "{3: [198]}\n",
      "====================================================================================================\n",
      "9 24\n",
      "2 244 257 13\n",
      "{247: [532], 248: [534], 249: [535], 251: [537, 538], 252: [539], 253: [540], 254: [541], 255: [542], 256: [543]}\n",
      "====================================================================================================\n",
      "(1, 1)\n",
      "{}\n",
      "{}\n",
      "\n",
      "(1, 2)\n",
      "{0: [166], 1: [167]}\n",
      "{0: [166], 1: [167]}\n",
      "\n",
      "(1, 3)\n",
      "{0: [189, 190], 241: [506], 242: [507, 509, 510], 243: [511], 245: [513]}\n",
      "{0: [189, 190], 241: [506], 242: [507, 509, 510], 243: [511], 245: [513]}\n",
      "\n",
      "(1, 4)\n",
      "{217: [485, 486], 220: [488]}\n",
      "{217: [485, 486], 220: [488]}\n",
      "\n",
      "(1, 5)\n",
      "{221: [475, 476], 222: [477]}\n",
      "{221: [475, 476], 222: [477]}\n",
      "\n",
      "(1, 6)\n",
      "{0: [197, 198], 242: [495, 496], 244: [498], 245: [499], 246: [500], 247: [501], 248: [502], 249: [503], 250: [505, 506, 507]}\n",
      "{0: [197, 198], 242: [495, 496], 244: [498], 245: [499], 246: [500], 247: [501], 248: [502], 249: [503], 250: [505, 506, 507]}\n",
      "\n",
      "(1, 7)\n",
      "{0: [180], 1: [182], 3: [183], 8: [189, 190, 191], 9: [193], 276: [514], 279: [519], 280: [520, 521], 281: [522]}\n",
      "{0: [180], 1: [182], 3: [183], 8: [189, 190, 191], 9: [193], 276: [514], 279: [519], 280: [520, 521], 281: [522]}\n",
      "\n",
      "(1, 8)\n",
      "{}\n",
      "{}\n",
      "\n",
      "(1, 9)\n",
      "{}\n",
      "{}\n",
      "\n",
      "(1, 10)\n",
      "{224: [481, 482, 483]}\n",
      "{224: [481, 482, 483]}\n",
      "\n",
      "(1, 11)\n",
      "{2: [190, 191]}\n",
      "{2: [190, 191]}\n",
      "\n",
      "(1, 13)\n",
      "{0: [200, 201], 1: [202], 248: [512], 249: [513], 252: [516], 254: [518]}\n",
      "{0: [200, 201], 1: [202], 248: [512], 249: [513], 252: [516], 254: [518]}\n",
      "\n",
      "(1, 14)\n",
      "{0: [200, 201, 203], 231: [515], 232: [516, 517]}\n",
      "{0: [200, 201, 203], 231: [515], 232: [516, 517]}\n",
      "\n",
      "(1, 15)\n",
      "{231: [496], 233: [498], 237: [503, 504]}\n",
      "{231: [496], 233: [498], 237: [503, 504]}\n",
      "\n",
      "(1, 16)\n",
      "{222: [468], 226: [471, 472], 227: [473, 477, 494], 228: [474], 229: [478], 230: [480, 481, 482, 483], 231: [484, 485], 232: [487], 233: [488], 236: [490]}\n",
      "{222: [468], 226: [471, 472], 228: [474], 229: [478], 230: [480, 481, 482, 483], 231: [484, 485], 232: [487], 233: [488], 236: [490]}\n",
      "\n",
      "(2, 1)\n",
      "{0: [180, 181], 1: [182], 2: [183], 3: [184], 4: [185], 13: [195], 16: [196, 198], 15: [197], 17: [200], 232: [489], 233: [490], 234: [492]}\n",
      "{0: [180, 181], 1: [182], 2: [183], 3: [184], 4: [185], 13: [195], 15: [197], 17: [200], 232: [489], 233: [490], 234: [492]}\n",
      "\n",
      "(2, 2)\n",
      "{1: [199], 244: [511], 245: [513], 247: [514, 515]}\n",
      "{1: [199], 244: [511], 245: [513], 247: [514, 515]}\n",
      "\n",
      "(2, 3)\n",
      "{232: [492]}\n",
      "{232: [492]}\n",
      "\n",
      "(2, 4)\n",
      "{0: [194], 4: [198], 257: [510]}\n",
      "{0: [194], 4: [198], 257: [510]}\n",
      "\n",
      "(2, 5)\n",
      "{}\n",
      "{}\n",
      "\n",
      "(2, 6)\n",
      "{231: [501], 232: [502]}\n",
      "{231: [501], 232: [502]}\n",
      "\n",
      "(2, 7)\n",
      "{0: [180], 14: [194], 15: [195], 17: [197], 254: [485], 255: [486], 256: [487], 257: [488], 258: [489]}\n",
      "{0: [180], 14: [194], 15: [195], 17: [197], 254: [485], 255: [486], 256: [487], 257: [488], 258: [489]}\n",
      "\n",
      "(2, 8)\n",
      "{1: [178]}\n",
      "{1: [178]}\n",
      "\n",
      "(2, 9)\n",
      "{}\n",
      "{}\n",
      "\n",
      "(2, 10)\n",
      "{210: [478, 479], 212: [482], 214: [484], 216: [486]}\n",
      "{210: [478, 479], 212: [482], 214: [484], 216: [486]}\n",
      "\n",
      "(2, 11)\n",
      "{214: [461], 215: [462], 216: [463], 217: [464], 218: [466], 219: [468], 220: [469]}\n",
      "{214: [461], 215: [462], 216: [463], 217: [464], 218: [466], 219: [468], 220: [469]}\n",
      "\n",
      "(2, 12)\n",
      "{0: [187, 188], 203: [491, 492], 206: [494], 207: [496, 497]}\n",
      "{0: [187, 188], 203: [491, 492], 206: [494], 207: [496, 497]}\n",
      "\n",
      "(2, 13)\n",
      "{200: [505]}\n",
      "{200: [505]}\n",
      "\n",
      "(2, 14)\n",
      "{242: [480, 481], 244: [483, 485, 486]}\n",
      "{242: [480, 481], 244: [483, 485, 486]}\n",
      "\n",
      "(2, 15)\n",
      "{215: [423]}\n",
      "{215: [423]}\n",
      "\n",
      "(2, 16)\n",
      "{240: [482], 241: [483], 242: [484]}\n",
      "{240: [482], 241: [483], 242: [484]}\n",
      "\n",
      "(2, 17)\n",
      "{0: [181], 1: [182]}\n",
      "{0: [181], 1: [182]}\n",
      "\n",
      "(2, 18)\n",
      "{216: [445, 446], 217: [448], 219: [449], 222: [452], 224: [454]}\n",
      "{216: [445, 446], 217: [448], 219: [449], 222: [452], 224: [454]}\n",
      "\n",
      "(2, 19)\n",
      "{226: [481]}\n",
      "{226: [481]}\n",
      "\n",
      "(2, 20)\n",
      "{213: [456], 215: [457, 458], 216: [459], 217: [460], 218: [462], 219: [464, 466, 467]}\n",
      "{213: [456], 215: [457, 458], 216: [459], 217: [460], 218: [462], 219: [464, 466, 467]}\n",
      "\n",
      "(2, 21)\n",
      "{}\n",
      "{}\n",
      "\n",
      "(2, 22)\n",
      "{0: [199], 1: [200], 2: [202], 208: [466, 467], 209: [469], 210: [470], 211: [471], 212: [472, 473]}\n",
      "{0: [199], 1: [200], 2: [202], 208: [466, 467], 209: [469], 210: [470], 211: [471], 212: [472, 473]}\n",
      "\n",
      "(2, 23)\n",
      "{2: [194], 3: [195], 4: [196], 5: [197]}\n",
      "{2: [194], 3: [195], 4: [196], 5: [197]}\n",
      "\n",
      "(3, 1)\n",
      "{0: [200], 1: [201]}\n",
      "{0: [200], 1: [201]}\n",
      "\n",
      "(3, 2)\n",
      "{0: [172], 211: [471], 212: [472]}\n",
      "{0: [172], 211: [471], 212: [472]}\n",
      "\n",
      "(3, 3)\n",
      "{0: [195], 227: [470], 228: [471, 472], 230: [474], 231: [475], 233: [477]}\n",
      "{0: [195], 227: [470], 228: [471, 472], 230: [474], 231: [475], 233: [477]}\n",
      "\n",
      "(3, 4)\n",
      "{}\n",
      "{}\n",
      "\n",
      "(3, 5)\n",
      "{228: [488, 489]}\n",
      "{228: [488, 489]}\n",
      "\n",
      "(3, 6)\n",
      "{212: [494], 213: [495]}\n",
      "{212: [494], 213: [495]}\n",
      "\n",
      "(3, 7)\n",
      "{0: [169], 1: [170, 171, 172]}\n",
      "{0: [169], 1: [170, 171, 172]}\n",
      "\n",
      "(3, 8)\n",
      "{}\n",
      "{}\n",
      "\n",
      "(3, 9)\n",
      "{0: [200, 201], 1: [202], 193: [463], 194: [465]}\n",
      "{0: [200, 201], 1: [202], 193: [463], 194: [465]}\n",
      "\n",
      "(3, 10)\n",
      "{0: [199], 1: [200]}\n",
      "{0: [199], 1: [200]}\n",
      "\n",
      "(3, 11)\n",
      "{0: [189]}\n",
      "{0: [189]}\n",
      "\n",
      "(3, 12)\n",
      "{198: [470]}\n",
      "{198: [470]}\n",
      "\n",
      "(3, 13)\n",
      "{}\n",
      "{}\n",
      "\n",
      "(3, 14)\n",
      "{202: [462, 463, 464, 465, 466, 468], 203: [470, 471], 204: [472], 206: [474]}\n",
      "{202: [462, 463, 464, 465, 466, 468], 203: [470, 471], 204: [472], 206: [474]}\n",
      "\n",
      "(3, 15)\n",
      "{0: [200, 202]}\n",
      "{0: [200, 202]}\n",
      "\n",
      "(3, 16)\n",
      "{}\n",
      "{}\n",
      "\n",
      "(3, 17)\n",
      "{}\n",
      "{}\n",
      "\n",
      "(3, 18)\n",
      "{0: [183, 184], 2: [186]}\n",
      "{0: [183, 184], 2: [186]}\n",
      "\n",
      "(3, 19)\n",
      "{234: [485, 486, 487], 235: [488]}\n",
      "{234: [485, 486, 487], 235: [488]}\n",
      "\n",
      "(3, 20)\n",
      "{0: [197, 198], 242: [494], 244: [497]}\n",
      "{0: [197, 198], 242: [494], 244: [497]}\n",
      "\n",
      "(3, 21)\n",
      "{6: [199], 7: [200], 8: [201], 9: [202], 10: [203], 13: [206, 207]}\n",
      "{6: [199], 7: [200], 8: [201], 9: [202], 10: [203], 13: [206, 207]}\n",
      "\n",
      "(3, 22)\n",
      "{249: [498], 250: [499]}\n",
      "{249: [498], 250: [499]}\n",
      "\n",
      "(3, 23)\n",
      "{0: [190], 1: [191], 2: [193]}\n",
      "{0: [190], 1: [191], 2: [193]}\n",
      "\n",
      "(4, 1)\n",
      "{}\n",
      "{}\n",
      "\n",
      "(4, 2)\n",
      "{0: [198], 220: [494, 495]}\n",
      "{0: [198], 220: [494, 495]}\n",
      "\n",
      "(4, 3)\n",
      "{0: [199], 267: [525], 268: [528, 530]}\n",
      "{0: [199], 267: [525], 268: [528, 530]}\n",
      "\n",
      "(4, 4)\n",
      "{}\n",
      "{}\n",
      "\n",
      "(4, 5)\n",
      "{}\n",
      "{}\n",
      "\n",
      "(4, 6)\n",
      "{2: [183, 184], 3: [186], 4: [187], 245: [513], 248: [516], 255: [523]}\n",
      "{2: [183, 184], 3: [186], 4: [187], 245: [513], 248: [516], 255: [523]}\n",
      "\n",
      "(4, 7)\n",
      "{0: [189]}\n",
      "{0: [189]}\n",
      "\n",
      "(4, 8)\n",
      "{0: [184, 185], 1: [186, 187], 2: [188], 3: [189]}\n",
      "{0: [184, 185], 1: [186, 187], 2: [188], 3: [189]}\n",
      "\n",
      "(4, 9)\n",
      "{242: [535]}\n",
      "{242: [535]}\n",
      "\n",
      "(4, 10)\n",
      "{207: [468], 209: [472]}\n",
      "{207: [468], 209: [472]}\n",
      "\n",
      "(4, 11)\n",
      "{230: [483]}\n",
      "{230: [483]}\n",
      "\n",
      "(4, 12)\n",
      "{232: [496], 233: [502, 508], 234: [505, 506]}\n",
      "{232: [496], 234: [505, 506]}\n",
      "\n",
      "(4, 13)\n",
      "{}\n",
      "{}\n",
      "\n",
      "(4, 14)\n",
      "{212: [478], 213: [482]}\n",
      "{212: [478], 213: [482]}\n",
      "\n",
      "(4, 15)\n",
      "{0: [190, 191, 192], 210: [471], 211: [472]}\n",
      "{0: [190, 191, 192], 210: [471], 211: [472]}\n",
      "\n",
      "(4, 17)\n",
      "{228: [502], 229: [508, 509]}\n",
      "{228: [502], 229: [508, 509]}\n",
      "\n",
      "(4, 18)\n",
      "{3: [181], 230: [487]}\n",
      "{3: [181], 230: [487]}\n",
      "\n",
      "(4, 19)\n",
      "{244: [496], 249: [502]}\n",
      "{244: [496], 249: [502]}\n",
      "\n",
      "(4, 20)\n",
      "{}\n",
      "{}\n",
      "\n",
      "(4, 21)\n",
      "{202: [462]}\n",
      "{202: [462]}\n",
      "\n",
      "(4, 22)\n",
      "{}\n",
      "{}\n",
      "\n",
      "(4, 23)\n",
      "{0: [193], 1: [194]}\n",
      "{0: [193], 1: [194]}\n",
      "\n",
      "(4, 24)\n",
      "{4: [196, 197], 5: [198], 223: [493], 229: [497]}\n",
      "{4: [196, 197], 5: [198], 223: [493], 229: [497]}\n",
      "\n",
      "(5, 1)\n",
      "{0: [174, 175, 176], 1: [177], 2: [178, 179, 180, 181], 3: [182], 187: [490]}\n",
      "{0: [174, 175, 176], 1: [177], 2: [178, 179, 180, 181], 3: [182], 187: [490]}\n",
      "\n",
      "(5, 2)\n",
      "{}\n",
      "{}\n",
      "\n",
      "(5, 3)\n",
      "{0: [193], 188: [494], 189: [495], 190: [496], 198: [497, 504], 197: [503], 199: [505], 200: [506]}\n",
      "{0: [193], 188: [494], 189: [495], 190: [496], 197: [503], 199: [505], 200: [506]}\n",
      "\n",
      "(5, 4)\n",
      "{185: [521], 187: [523], 189: [525, 526]}\n",
      "{185: [521], 187: [523], 189: [525, 526]}\n",
      "\n",
      "(5, 5)\n",
      "{0: [162], 229: [524], 230: [526], 231: [528], 237: [535]}\n",
      "{0: [162], 229: [524], 230: [526], 231: [528], 237: [535]}\n",
      "\n",
      "(5, 6)\n",
      "{0: [178], 187: [522], 189: [525], 190: [527, 528]}\n",
      "{0: [178], 187: [522], 189: [525], 190: [527, 528]}\n",
      "\n",
      "(5, 7)\n",
      "{197: [501, 502, 503], 198: [504, 505], 199: [506], 200: [507, 508, 509], 201: [510]}\n",
      "{197: [501, 502, 503], 198: [504, 505], 199: [506], 200: [507, 508, 509], 201: [510]}\n",
      "\n",
      "(5, 8)\n",
      "{}\n",
      "{}\n",
      "\n",
      "(5, 9)\n",
      "{1: [181], 2: [182, 183], 4: [185, 186], 6: [188], 9: [192], 10: [193], 13: [196], 14: [197, 198], 193: [495], 194: [496], 195: [497, 498], 197: [499, 500], 198: [502]}\n",
      "{1: [181], 2: [182, 183], 4: [185, 186], 6: [188], 9: [192], 10: [193], 13: [196], 14: [197, 198], 193: [495], 194: [496], 195: [497, 498], 197: [499, 500], 198: [502]}\n",
      "\n",
      "(5, 10)\n",
      "{184: [528], 185: [529], 186: [530, 531]}\n",
      "{184: [528], 185: [529], 186: [530, 531]}\n",
      "\n",
      "(5, 11)\n",
      "{0: [189], 1: [190, 191], 234: [550, 551], 235: [552]}\n",
      "{0: [189], 1: [190, 191], 234: [550, 551], 235: [552]}\n",
      "\n",
      "(5, 12)\n",
      "{0: [200], 185: [484, 485]}\n",
      "{0: [200], 185: [484, 485]}\n",
      "\n",
      "(5, 13)\n",
      "{243: [472]}\n",
      "{243: [472]}\n",
      "\n",
      "(5, 14)\n",
      "{}\n",
      "{}\n",
      "\n",
      "(5, 15)\n",
      "{3: [184, 185, 186, 187], 183: [470], 185: [473]}\n",
      "{3: [184, 185, 186, 187], 183: [470], 185: [473]}\n",
      "\n",
      "(5, 16)\n",
      "{199: [497, 498], 200: [499]}\n",
      "{199: [497, 498], 200: [499]}\n",
      "\n",
      "(5, 17)\n",
      "{1: [194, 195], 2: [196, 198], 3: [199], 4: [200, 201], 5: [202], 220: [547], 221: [548]}\n",
      "{1: [194, 195], 2: [196, 198], 3: [199], 4: [200, 201], 5: [202], 220: [547], 221: [548]}\n",
      "\n",
      "(5, 18)\n",
      "{169: [492], 170: [493, 494, 495], 172: [499]}\n",
      "{169: [492], 170: [493, 494, 495], 172: [499]}\n",
      "\n",
      "(5, 19)\n",
      "{189: [477]}\n",
      "{189: [477]}\n",
      "\n",
      "(5, 20)\n",
      "{2: [172, 188, 190], 1: [187]}\n",
      "{1: [187]}\n",
      "\n",
      "(5, 21)\n",
      "{}\n",
      "{}\n",
      "\n",
      "(5, 22)\n",
      "{}\n",
      "{}\n",
      "\n",
      "(5, 23)\n",
      "{1: [177, 178], 195: [479], 197: [480, 523], 199: [481], 203: [486]}\n",
      "{1: [177, 178], 195: [479], 199: [481], 203: [486]}\n",
      "\n",
      "(6, 1)\n",
      "{0: [200], 1: [201], 228: [503]}\n",
      "{0: [200], 1: [201], 228: [503]}\n",
      "\n",
      "(6, 2)\n",
      "{}\n",
      "{}\n",
      "\n",
      "(6, 3)\n",
      "{1: [190], 196: [480]}\n",
      "{1: [190], 196: [480]}\n",
      "\n",
      "(6, 4)\n",
      "{0: [200], 1: [201]}\n",
      "{0: [200], 1: [201]}\n",
      "\n",
      "(6, 5)\n",
      "{215: [487], 217: [490], 218: [491, 492, 493, 494, 496]}\n",
      "{215: [487], 217: [490], 218: [491, 492, 493, 494, 496]}\n",
      "\n",
      "(6, 6)\n",
      "{0: [198]}\n",
      "{0: [198]}\n",
      "\n",
      "(6, 7)\n",
      "{185: [487, 488], 186: [489], 187: [490], 188: [492, 493]}\n",
      "{185: [487, 488], 186: [489], 187: [490], 188: [492, 493]}\n",
      "\n",
      "(6, 8)\n",
      "{229: [479], 230: [480], 231: [481], 232: [482, 484]}\n",
      "{229: [479], 230: [480], 231: [481], 232: [482, 484]}\n",
      "\n",
      "(6, 9)\n",
      "{2: [178, 179], 3: [180, 181], 4: [182], 5: [183], 6: [184]}\n",
      "{2: [178, 179], 3: [180, 181], 4: [182], 5: [183], 6: [184]}\n",
      "\n",
      "(6, 10)\n",
      "{}\n",
      "{}\n",
      "\n",
      "(6, 11)\n",
      "{210: [507]}\n",
      "{210: [507]}\n",
      "\n",
      "(6, 12)\n",
      "{}\n",
      "{}\n",
      "\n",
      "(6, 13)\n",
      "{}\n",
      "{}\n",
      "\n",
      "(6, 14)\n",
      "{0: [190], 1: [192], 2: [193]}\n",
      "{0: [190], 1: [192], 2: [193]}\n",
      "\n",
      "(6, 15)\n",
      "{223: [500]}\n",
      "{223: [500]}\n",
      "\n",
      "(6, 16)\n",
      "{}\n",
      "{}\n",
      "\n",
      "(6, 17)\n",
      "{}\n",
      "{}\n",
      "\n",
      "(6, 18)\n",
      "{141: [430]}\n",
      "{141: [430]}\n",
      "\n",
      "(6, 19)\n",
      "{1: [189], 2: [190]}\n",
      "{1: [189], 2: [190]}\n",
      "\n",
      "(6, 20)\n",
      "{195: [456], 196: [457], 197: [458, 459], 200: [462]}\n",
      "{195: [456], 196: [457], 197: [458, 459], 200: [462]}\n",
      "\n",
      "(6, 21)\n",
      "{}\n",
      "{}\n",
      "\n",
      "(6, 22)\n",
      "{205: [486], 207: [490]}\n",
      "{205: [486], 207: [490]}\n",
      "\n",
      "(6, 23)\n",
      "{}\n",
      "{}\n",
      "\n",
      "(6, 24)\n",
      "{}\n",
      "{}\n",
      "\n",
      "(7, 1)\n",
      "{0: [189], 1: [191]}\n",
      "{0: [189], 1: [191]}\n",
      "\n",
      "(7, 2)\n",
      "{}\n",
      "{}\n",
      "\n",
      "(7, 3)\n",
      "{0: [197], 1: [199], 242: [540, 542, 544]}\n",
      "{0: [197], 1: [199], 242: [540, 542, 544]}\n",
      "\n",
      "(7, 4)\n",
      "{0: [196]}\n",
      "{0: [196]}\n",
      "\n",
      "(7, 5)\n",
      "{}\n",
      "{}\n",
      "\n",
      "(7, 6)\n",
      "{203: [535]}\n",
      "{203: [535]}\n",
      "\n",
      "(7, 7)\n",
      "{0: [199], 1: [200], 2: [201, 202], 3: [203, 204], 4: [205], 215: [511, 512], 216: [513]}\n",
      "{0: [199], 1: [200], 2: [201, 202], 3: [203, 204], 4: [205], 215: [511, 512], 216: [513]}\n",
      "\n",
      "(7, 8)\n",
      "{188: [482, 483]}\n",
      "{188: [482, 483]}\n",
      "\n",
      "(7, 9)\n",
      "{}\n",
      "{}\n",
      "\n",
      "(7, 10)\n",
      "{210: [535], 211: [536]}\n",
      "{210: [535], 211: [536]}\n",
      "\n",
      "(7, 11)\n",
      "{0: [196], 1: [197, 198], 2: [199], 3: [200, 201, 202]}\n",
      "{0: [196], 1: [197, 198], 2: [199], 3: [200, 201, 202]}\n",
      "\n",
      "(7, 13)\n",
      "{258: [571], 260: [574]}\n",
      "{258: [571], 260: [574]}\n",
      "\n",
      "(7, 14)\n",
      "{207: [495]}\n",
      "{207: [495]}\n",
      "\n",
      "(7, 15)\n",
      "{0: [196, 197], 1: [198], 2: [199], 3: [200], 218: [546], 220: [549]}\n",
      "{0: [196, 197], 1: [198], 2: [199], 3: [200], 218: [546], 220: [549]}\n",
      "\n",
      "(7, 16)\n",
      "{0: [198], 241: [525], 242: [526]}\n",
      "{0: [198], 241: [525], 242: [526]}\n",
      "\n",
      "(7, 17)\n",
      "{1: [193], 2: [195]}\n",
      "{1: [193], 2: [195]}\n",
      "\n",
      "(7, 18)\n",
      "{231: [497, 498], 233: [500], 234: [501]}\n",
      "{231: [497, 498], 233: [500], 234: [501]}\n",
      "\n",
      "(7, 19)\n",
      "{}\n",
      "{}\n",
      "\n",
      "(7, 20)\n",
      "{213: [509, 512], 215: [517, 519], 216: [520, 521], 218: [523, 524, 525]}\n",
      "{213: [509, 512], 215: [517, 519], 216: [520, 521], 218: [523, 524, 525]}\n",
      "\n",
      "(7, 21)\n",
      "{192: [477, 478, 479]}\n",
      "{192: [477, 478, 479]}\n",
      "\n",
      "(7, 22)\n",
      "{207: [469], 209: [470, 471], 211: [473]}\n",
      "{207: [469], 209: [470, 471], 211: [473]}\n",
      "\n",
      "(7, 23)\n",
      "{0: [194], 230: [502]}\n",
      "{0: [194], 230: [502]}\n",
      "\n",
      "(7, 24)\n",
      "{0: [198], 3: [200], 6: [202], 9: [206]}\n",
      "{0: [198], 3: [200], 6: [202], 9: [206]}\n",
      "\n",
      "(8, 1)\n",
      "{}\n",
      "{}\n",
      "\n",
      "(8, 2)\n",
      "{215: [492]}\n",
      "{215: [492]}\n",
      "\n",
      "(8, 3)\n",
      "{0: [185, 186], 202: [470], 204: [472], 205: [473]}\n",
      "{0: [185, 186], 202: [470], 204: [472], 205: [473]}\n",
      "\n",
      "(8, 4)\n",
      "{}\n",
      "{}\n",
      "\n",
      "(8, 5)\n",
      "{}\n",
      "{}\n",
      "\n",
      "(8, 6)\n",
      "{}\n",
      "{}\n",
      "\n",
      "(8, 8)\n",
      "{0: [168], 212: [503], 214: [508, 510, 511, 513]}\n",
      "{0: [168], 212: [503], 214: [508, 510, 511, 513]}\n",
      "\n",
      "(8, 9)\n",
      "{216: [458], 217: [459], 218: [460], 219: [461, 462, 463], 220: [464]}\n",
      "{216: [458], 217: [459], 218: [460], 219: [461, 462, 463], 220: [464]}\n",
      "\n",
      "(8, 10)\n",
      "{0: [199, 200, 201, 202, 203, 204], 1: [205, 206], 205: [520, 521], 206: [522, 523]}\n",
      "{0: [199, 200, 201, 202, 203, 204], 1: [205, 206], 205: [520, 521], 206: [522, 523]}\n",
      "\n",
      "(8, 11)\n",
      "{}\n",
      "{}\n",
      "\n",
      "(8, 12)\n",
      "{0: [183], 206: [530, 531], 210: [535], 211: [537], 212: [538], 213: [540, 541]}\n",
      "{0: [183], 206: [530, 531], 210: [535], 211: [537], 212: [538], 213: [540, 541]}\n",
      "\n",
      "(8, 13)\n",
      "{0: [191]}\n",
      "{0: [191]}\n",
      "\n",
      "(8, 15)\n",
      "{231: [537], 232: [538, 540]}\n",
      "{231: [537], 232: [538, 540]}\n",
      "\n",
      "(8, 16)\n",
      "{211: [547], 214: [550]}\n",
      "{211: [547], 214: [550]}\n",
      "\n",
      "(8, 17)\n",
      "{213: [557], 214: [558], 215: [559]}\n",
      "{213: [557], 214: [558], 215: [559]}\n",
      "\n",
      "(8, 18)\n",
      "{}\n",
      "{}\n",
      "\n",
      "(8, 19)\n",
      "{}\n",
      "{}\n",
      "\n",
      "(8, 20)\n",
      "{}\n",
      "{}\n",
      "\n",
      "(8, 21)\n",
      "{0: [167, 168], 3: [171, 172], 4: [173, 174, 178, 179, 180], 222: [531], 224: [534, 535]}\n",
      "{0: [167, 168], 3: [171, 172], 4: [173, 174, 178, 179, 180], 222: [531], 224: [534, 535]}\n",
      "\n",
      "(8, 22)\n",
      "{0: [200, 201], 1: [202], 194: [520], 195: [521], 197: [524], 198: [527, 528], 200: [530], 203: [533]}\n",
      "{0: [200, 201], 1: [202], 194: [520], 195: [521], 197: [524], 198: [527, 528], 200: [530], 203: [533]}\n",
      "\n",
      "(8, 23)\n",
      "{0: [194], 1: [195], 2: [196], 3: [198, 199], 191: [486], 196: [490, 491, 492, 493, 494, 495, 496, 497, 498, 499]}\n",
      "{0: [194], 1: [195], 2: [196], 3: [198, 199], 191: [486], 196: [490, 491, 492, 493, 494, 495, 496, 497, 498, 499]}\n",
      "\n",
      "(8, 24)\n",
      "{0: [194], 255: [550, 551]}\n",
      "{0: [194], 255: [550, 551]}\n",
      "\n",
      "(9, 1)\n",
      "{248: [568, 569, 570, 571, 572, 573], 250: [576, 577], 251: [578], 252: [580]}\n",
      "{248: [568, 569, 570, 571, 572, 573], 250: [576, 577], 251: [578], 252: [580]}\n",
      "\n",
      "(9, 2)\n",
      "{209: [520]}\n",
      "{209: [520]}\n",
      "\n",
      "(9, 3)\n",
      "{0: [198], 1: [199]}\n",
      "{0: [198], 1: [199]}\n",
      "\n",
      "(9, 4)\n",
      "{}\n",
      "{}\n",
      "\n",
      "(9, 5)\n",
      "{}\n",
      "{}\n",
      "\n",
      "(9, 6)\n",
      "{0: [169], 244: [557]}\n",
      "{0: [169], 244: [557]}\n",
      "\n",
      "(9, 7)\n",
      "{}\n",
      "{}\n",
      "\n",
      "(9, 9)\n",
      "{}\n",
      "{}\n",
      "\n",
      "(9, 10)\n",
      "{}\n",
      "{}\n",
      "\n",
      "(9, 11)\n",
      "{222: [512], 224: [517], 226: [521], 227: [523], 228: [525, 526]}\n",
      "{222: [512], 224: [517], 226: [521], 227: [523], 228: [525, 526]}\n",
      "\n",
      "(9, 12)\n",
      "{0: [200], 1: [202]}\n",
      "{0: [200], 1: [202]}\n",
      "\n",
      "(9, 13)\n",
      "{}\n",
      "{}\n",
      "\n",
      "(9, 14)\n",
      "{}\n",
      "{}\n",
      "\n",
      "(9, 15)\n",
      "{222: [560, 561, 562]}\n",
      "{222: [560, 561, 562]}\n",
      "\n",
      "(9, 16)\n",
      "{3: [198]}\n",
      "{3: [198]}\n",
      "\n",
      "(9, 24)\n",
      "{247: [532], 248: [534], 249: [535], 251: [537, 538], 252: [539], 253: [540], 254: [541], 255: [542], 256: [543]}\n",
      "{247: [532], 248: [534], 249: [535], 251: [537, 538], 252: [539], 253: [540], 254: [541], 255: [542], 256: [543]}\n",
      "\n"
     ]
    }
   ],
   "source": [
    "further_alignment = {}\n",
    "for (i, j) in list(alignment_seeds.keys()):\n",
    "    print(i, j)\n",
    "    if i==1 and j==12:\n",
    "        continue\n",
    "    temp = get_alignment(tbbt_transcripts, en_subtitle, zh_subtitle, results, i, j, 200)\n",
    "    further_alignment[(i,j)] = turn_sub2epi_into_epi2sub(temp)\n",
    "    # print(\"Season:\", i,\"Episode:\", j, \"Episode Number:\", len(alignment_seeds[(i,j)]),len(temp), \"|\", \"Subtitle Number:\", len(turn_sub2epi_into_epi2sub(alignment_seeds[(i,j)])),len(turn_sub2epi_into_epi2sub(temp)))\n",
    "    print(\"==\"*50)\n",
    "\n",
    "head_tail_alignment = {}\n",
    "for x in further_alignment:\n",
    "    print(x)\n",
    "    print(further_alignment[x])\n",
    "    print(filter_alignment(further_alignment[x]))\n",
    "    print()\n",
    "    head_tail_alignment[x] = filter_alignment(further_alignment[x])"
   ],
   "metadata": {
    "collapsed": false,
    "pycharm": {
     "name": "#%%\n"
    }
   }
  },
  {
   "cell_type": "code",
   "execution_count": 810,
   "outputs": [
    {
     "name": "stdout",
     "output_type": "stream",
     "text": [
      "(1, 1)\n",
      "(1, 2)\n",
      "(1, 3)\n",
      "(1, 4)\n",
      "(1, 5)\n",
      "(1, 6)\n",
      "(1, 7)\n",
      "(1, 8)\n",
      "(1, 9)\n",
      "(1, 10)\n",
      "(1, 11)\n",
      "(1, 13)\n",
      "(1, 14)\n",
      "(1, 15)\n",
      "(1, 16)\n",
      "(2, 1)\n",
      "(2, 2)\n",
      "(2, 3)\n",
      "(2, 4)\n",
      "(2, 5)\n",
      "(2, 6)\n",
      "(2, 7)\n",
      "(2, 8)\n",
      "(2, 9)\n",
      "(2, 10)\n",
      "(2, 11)\n",
      "(2, 12)\n",
      "(2, 13)\n",
      "(2, 14)\n",
      "(2, 15)\n",
      "(2, 16)\n",
      "(2, 17)\n",
      "(2, 18)\n",
      "(2, 19)\n",
      "(2, 20)\n",
      "(2, 21)\n",
      "(2, 22)\n",
      "(2, 23)\n",
      "(3, 1)\n",
      "(3, 2)\n",
      "(3, 3)\n",
      "(3, 4)\n",
      "(3, 5)\n",
      "(3, 6)\n",
      "(3, 7)\n",
      "(3, 8)\n",
      "(3, 9)\n",
      "(3, 10)\n",
      "(3, 11)\n",
      "(3, 12)\n",
      "(3, 13)\n",
      "(3, 14)\n",
      "(3, 15)\n",
      "(3, 16)\n",
      "(3, 17)\n",
      "(3, 18)\n",
      "(3, 19)\n",
      "(3, 20)\n",
      "(3, 21)\n",
      "(3, 22)\n",
      "(3, 23)\n",
      "(4, 1)\n",
      "(4, 2)\n",
      "(4, 3)\n",
      "(4, 4)\n",
      "(4, 5)\n",
      "(4, 6)\n",
      "(4, 7)\n",
      "(4, 8)\n",
      "(4, 9)\n",
      "(4, 10)\n",
      "(4, 11)\n",
      "(4, 12)\n",
      "(4, 13)\n",
      "(4, 14)\n",
      "(4, 15)\n",
      "(4, 17)\n",
      "(4, 18)\n",
      "(4, 19)\n",
      "(4, 20)\n",
      "(4, 21)\n",
      "(4, 22)\n",
      "(4, 23)\n",
      "(4, 24)\n",
      "(5, 1)\n",
      "(5, 2)\n",
      "(5, 3)\n",
      "(5, 4)\n",
      "(5, 5)\n",
      "(5, 6)\n",
      "(5, 7)\n",
      "(5, 8)\n",
      "(5, 9)\n",
      "(5, 10)\n",
      "(5, 11)\n",
      "(5, 12)\n",
      "(5, 13)\n",
      "(5, 14)\n",
      "(5, 15)\n",
      "(5, 16)\n",
      "(5, 17)\n",
      "(5, 18)\n",
      "(5, 19)\n",
      "(5, 20)\n",
      "(5, 21)\n",
      "(5, 22)\n",
      "(5, 23)\n",
      "(6, 1)\n",
      "(6, 2)\n",
      "(6, 3)\n",
      "(6, 4)\n",
      "(6, 5)\n",
      "(6, 6)\n",
      "(6, 7)\n",
      "(6, 8)\n",
      "(6, 9)\n",
      "(6, 10)\n",
      "(6, 11)\n",
      "(6, 12)\n",
      "(6, 13)\n",
      "(6, 14)\n",
      "(6, 15)\n",
      "(6, 16)\n",
      "(6, 17)\n",
      "(6, 18)\n",
      "(6, 19)\n",
      "(6, 20)\n",
      "(6, 21)\n",
      "(6, 22)\n",
      "(6, 23)\n",
      "(6, 24)\n",
      "(7, 1)\n",
      "(7, 2)\n",
      "(7, 3)\n",
      "(7, 4)\n",
      "(7, 5)\n",
      "(7, 6)\n",
      "(7, 7)\n",
      "(7, 8)\n",
      "(7, 9)\n",
      "(7, 10)\n",
      "(7, 11)\n",
      "(7, 13)\n",
      "(7, 14)\n",
      "(7, 15)\n",
      "(7, 16)\n",
      "(7, 17)\n",
      "(7, 18)\n",
      "(7, 19)\n",
      "(7, 20)\n",
      "(7, 21)\n",
      "(7, 22)\n",
      "(7, 23)\n",
      "(7, 24)\n",
      "(8, 1)\n",
      "(8, 2)\n",
      "(8, 3)\n",
      "(8, 4)\n",
      "(8, 5)\n",
      "(8, 6)\n",
      "(8, 8)\n",
      "(8, 9)\n",
      "(8, 10)\n",
      "(8, 11)\n",
      "(8, 12)\n",
      "(8, 13)\n",
      "(8, 15)\n",
      "(8, 16)\n",
      "(8, 17)\n",
      "(8, 18)\n",
      "(8, 19)\n",
      "(8, 20)\n",
      "(8, 21)\n",
      "(8, 22)\n",
      "(8, 23)\n",
      "(8, 24)\n",
      "(9, 1)\n",
      "(9, 2)\n",
      "(9, 3)\n",
      "(9, 4)\n",
      "(9, 5)\n",
      "(9, 6)\n",
      "(9, 7)\n",
      "(9, 9)\n",
      "(9, 10)\n",
      "(9, 11)\n",
      "(9, 12)\n",
      "(9, 13)\n",
      "(9, 14)\n",
      "(9, 15)\n",
      "(9, 16)\n",
      "(9, 24)\n"
     ]
    }
   ],
   "source": [
    "for x in head_tail_alignment:\n",
    "    print(x)\n",
    "    print(head_tail_alignment)\n",
    "    print(\"==\"*50)"
   ],
   "metadata": {
    "collapsed": false,
    "pycharm": {
     "name": "#%%\n"
    }
   }
  },
  {
   "cell_type": "code",
   "execution_count": 806,
   "outputs": [
    {
     "name": "stdout",
     "output_type": "stream",
     "text": [
      "(1, 1)\n",
      "{}\n",
      "{}\n",
      "\n",
      "(1, 2)\n",
      "{0: [166], 1: [167]}\n",
      "{0: [166], 1: [167]}\n",
      "\n",
      "(1, 3)\n",
      "{0: [189, 190], 241: [506], 242: [507, 509, 510], 243: [511], 245: [513]}\n",
      "{0: [189, 190], 241: [506], 242: [507, 509, 510], 243: [511], 245: [513]}\n",
      "\n",
      "(1, 4)\n",
      "{217: [485, 486], 220: [488]}\n",
      "{217: [485, 486], 220: [488]}\n",
      "\n",
      "(1, 5)\n",
      "{221: [475, 476], 222: [477]}\n",
      "{221: [475, 476], 222: [477]}\n",
      "\n",
      "(1, 6)\n",
      "{0: [197, 198], 242: [495, 496], 244: [498], 245: [499], 246: [500], 247: [501], 248: [502], 249: [503], 250: [505, 506, 507]}\n",
      "{0: [197, 198], 242: [495, 496], 244: [498], 245: [499], 246: [500], 247: [501], 248: [502], 249: [503], 250: [505, 506, 507]}\n",
      "\n",
      "(1, 7)\n",
      "{0: [180], 1: [182], 3: [183], 8: [189, 190, 191], 9: [193], 276: [514], 279: [519], 280: [520, 521], 281: [522]}\n",
      "{0: [180], 1: [182], 3: [183], 8: [189, 190, 191], 9: [193], 276: [514], 279: [519], 280: [520, 521], 281: [522]}\n",
      "\n",
      "(1, 8)\n",
      "{}\n",
      "{}\n",
      "\n",
      "(1, 9)\n",
      "{}\n",
      "{}\n",
      "\n",
      "(1, 10)\n",
      "{224: [481, 482, 483]}\n",
      "{224: [481, 482, 483]}\n",
      "\n",
      "(1, 11)\n",
      "{2: [190, 191]}\n",
      "{2: [190, 191]}\n",
      "\n",
      "(1, 13)\n",
      "{0: [200, 201], 1: [202], 248: [512], 249: [513], 252: [516], 254: [518]}\n",
      "{0: [200, 201], 1: [202], 248: [512], 249: [513], 252: [516], 254: [518]}\n",
      "\n",
      "(1, 14)\n",
      "{0: [200, 201, 203], 231: [515], 232: [516, 517]}\n",
      "{0: [200, 201, 203], 231: [515], 232: [516, 517]}\n",
      "\n",
      "(1, 15)\n",
      "{231: [496], 233: [498], 237: [503, 504]}\n",
      "{231: [496], 233: [498], 237: [503, 504]}\n",
      "\n",
      "(1, 16)\n",
      "{222: [468], 226: [471, 472], 227: [473, 477, 494], 228: [474], 229: [478], 230: [480, 481, 482, 483], 231: [484, 485], 232: [487], 233: [488], 236: [490]}\n",
      "{222: [468], 226: [471, 472], 228: [474], 229: [478], 230: [480, 481, 482, 483], 231: [484, 485], 232: [487], 233: [488], 236: [490]}\n",
      "\n",
      "(2, 1)\n",
      "{0: [180, 181], 1: [182], 2: [183], 3: [184], 4: [185], 13: [195], 16: [196, 198], 15: [197], 17: [200], 232: [489], 233: [490], 234: [492]}\n",
      "{0: [180, 181], 1: [182], 2: [183], 3: [184], 4: [185], 13: [195], 15: [197], 17: [200], 232: [489], 233: [490], 234: [492]}\n",
      "\n",
      "(2, 2)\n",
      "{1: [199], 244: [511], 245: [513], 247: [514, 515]}\n",
      "{1: [199], 244: [511], 245: [513], 247: [514, 515]}\n",
      "\n",
      "(2, 3)\n",
      "{232: [492]}\n",
      "{232: [492]}\n",
      "\n",
      "(2, 4)\n",
      "{0: [194], 4: [198], 257: [510]}\n",
      "{0: [194], 4: [198], 257: [510]}\n",
      "\n",
      "(2, 5)\n",
      "{}\n",
      "{}\n",
      "\n",
      "(2, 6)\n",
      "{231: [501], 232: [502]}\n",
      "{231: [501], 232: [502]}\n",
      "\n",
      "(2, 7)\n",
      "{0: [180], 14: [194], 15: [195], 17: [197], 254: [485], 255: [486], 256: [487], 257: [488], 258: [489]}\n",
      "{0: [180], 14: [194], 15: [195], 17: [197], 254: [485], 255: [486], 256: [487], 257: [488], 258: [489]}\n",
      "\n",
      "(2, 8)\n",
      "{1: [178]}\n",
      "{1: [178]}\n",
      "\n",
      "(2, 9)\n",
      "{}\n",
      "{}\n",
      "\n",
      "(2, 10)\n",
      "{210: [478, 479], 212: [482], 214: [484], 216: [486]}\n",
      "{210: [478, 479], 212: [482], 214: [484], 216: [486]}\n",
      "\n",
      "(2, 11)\n",
      "{214: [461], 215: [462], 216: [463], 217: [464], 218: [466], 219: [468], 220: [469]}\n",
      "{214: [461], 215: [462], 216: [463], 217: [464], 218: [466], 219: [468], 220: [469]}\n",
      "\n",
      "(2, 12)\n",
      "{0: [187, 188], 203: [491, 492], 206: [494], 207: [496, 497]}\n",
      "{0: [187, 188], 203: [491, 492], 206: [494], 207: [496, 497]}\n",
      "\n",
      "(2, 13)\n",
      "{200: [505]}\n",
      "{200: [505]}\n",
      "\n",
      "(2, 14)\n",
      "{242: [480, 481], 244: [483, 485, 486]}\n",
      "{242: [480, 481], 244: [483, 485, 486]}\n",
      "\n",
      "(2, 15)\n",
      "{215: [423]}\n",
      "{215: [423]}\n",
      "\n",
      "(2, 16)\n",
      "{240: [482], 241: [483], 242: [484]}\n",
      "{240: [482], 241: [483], 242: [484]}\n",
      "\n",
      "(2, 17)\n",
      "{0: [181], 1: [182]}\n",
      "{0: [181], 1: [182]}\n",
      "\n",
      "(2, 18)\n",
      "{216: [445, 446], 217: [448], 219: [449], 222: [452], 224: [454]}\n",
      "{216: [445, 446], 217: [448], 219: [449], 222: [452], 224: [454]}\n",
      "\n",
      "(2, 19)\n",
      "{226: [481]}\n",
      "{226: [481]}\n",
      "\n",
      "(2, 20)\n",
      "{213: [456], 215: [457, 458], 216: [459], 217: [460], 218: [462], 219: [464, 466, 467]}\n",
      "{213: [456], 215: [457, 458], 216: [459], 217: [460], 218: [462], 219: [464, 466, 467]}\n",
      "\n",
      "(2, 21)\n",
      "{}\n",
      "{}\n",
      "\n",
      "(2, 22)\n",
      "{0: [199], 1: [200], 2: [202], 208: [466, 467], 209: [469], 210: [470], 211: [471], 212: [472, 473]}\n",
      "{0: [199], 1: [200], 2: [202], 208: [466, 467], 209: [469], 210: [470], 211: [471], 212: [472, 473]}\n",
      "\n",
      "(2, 23)\n",
      "{2: [194], 3: [195], 4: [196], 5: [197]}\n",
      "{2: [194], 3: [195], 4: [196], 5: [197]}\n",
      "\n",
      "(3, 1)\n",
      "{0: [200], 1: [201]}\n",
      "{0: [200], 1: [201]}\n",
      "\n",
      "(3, 2)\n",
      "{0: [172], 211: [471], 212: [472]}\n",
      "{0: [172], 211: [471], 212: [472]}\n",
      "\n",
      "(3, 3)\n",
      "{0: [195], 227: [470], 228: [471, 472], 230: [474], 231: [475], 233: [477]}\n",
      "{0: [195], 227: [470], 228: [471, 472], 230: [474], 231: [475], 233: [477]}\n",
      "\n",
      "(3, 4)\n",
      "{}\n",
      "{}\n",
      "\n",
      "(3, 5)\n",
      "{228: [488, 489]}\n",
      "{228: [488, 489]}\n",
      "\n",
      "(3, 6)\n",
      "{212: [494], 213: [495]}\n",
      "{212: [494], 213: [495]}\n",
      "\n",
      "(3, 7)\n",
      "{0: [169], 1: [170, 171, 172]}\n",
      "{0: [169], 1: [170, 171, 172]}\n",
      "\n",
      "(3, 8)\n",
      "{}\n",
      "{}\n",
      "\n",
      "(3, 9)\n",
      "{0: [200, 201], 1: [202], 193: [463], 194: [465]}\n",
      "{0: [200, 201], 1: [202], 193: [463], 194: [465]}\n",
      "\n",
      "(3, 10)\n",
      "{0: [199], 1: [200]}\n",
      "{0: [199], 1: [200]}\n",
      "\n",
      "(3, 11)\n",
      "{0: [189]}\n",
      "{0: [189]}\n",
      "\n",
      "(3, 12)\n",
      "{198: [470]}\n",
      "{198: [470]}\n",
      "\n",
      "(3, 13)\n",
      "{}\n",
      "{}\n",
      "\n",
      "(3, 14)\n",
      "{202: [462, 463, 464, 465, 466, 468], 203: [470, 471], 204: [472], 206: [474]}\n",
      "{202: [462, 463, 464, 465, 466, 468], 203: [470, 471], 204: [472], 206: [474]}\n",
      "\n",
      "(3, 15)\n",
      "{0: [200, 202]}\n",
      "{0: [200, 202]}\n",
      "\n",
      "(3, 16)\n",
      "{}\n",
      "{}\n",
      "\n",
      "(3, 17)\n",
      "{}\n",
      "{}\n",
      "\n",
      "(3, 18)\n",
      "{0: [183, 184], 2: [186]}\n",
      "{0: [183, 184], 2: [186]}\n",
      "\n",
      "(3, 19)\n",
      "{234: [485, 486, 487], 235: [488]}\n",
      "{234: [485, 486, 487], 235: [488]}\n",
      "\n",
      "(3, 20)\n",
      "{0: [197, 198], 242: [494], 244: [497]}\n",
      "{0: [197, 198], 242: [494], 244: [497]}\n",
      "\n",
      "(3, 21)\n",
      "{6: [199], 7: [200], 8: [201], 9: [202], 10: [203], 13: [206, 207]}\n",
      "{6: [199], 7: [200], 8: [201], 9: [202], 10: [203], 13: [206, 207]}\n",
      "\n",
      "(3, 22)\n",
      "{249: [498], 250: [499]}\n",
      "{249: [498], 250: [499]}\n",
      "\n",
      "(3, 23)\n",
      "{0: [190], 1: [191], 2: [193]}\n",
      "{0: [190], 1: [191], 2: [193]}\n",
      "\n",
      "(4, 1)\n",
      "{}\n",
      "{}\n",
      "\n",
      "(4, 2)\n",
      "{0: [198], 220: [494, 495]}\n",
      "{0: [198], 220: [494, 495]}\n",
      "\n",
      "(4, 3)\n",
      "{0: [199], 267: [525], 268: [528, 530]}\n",
      "{0: [199], 267: [525], 268: [528, 530]}\n",
      "\n",
      "(4, 4)\n",
      "{}\n",
      "{}\n",
      "\n",
      "(4, 5)\n",
      "{}\n",
      "{}\n",
      "\n",
      "(4, 6)\n",
      "{2: [183, 184], 3: [186], 4: [187], 245: [513], 248: [516], 255: [523]}\n",
      "{2: [183, 184], 3: [186], 4: [187], 245: [513], 248: [516], 255: [523]}\n",
      "\n",
      "(4, 7)\n",
      "{0: [189]}\n",
      "{0: [189]}\n",
      "\n",
      "(4, 8)\n",
      "{0: [184, 185], 1: [186, 187], 2: [188], 3: [189]}\n",
      "{0: [184, 185], 1: [186, 187], 2: [188], 3: [189]}\n",
      "\n",
      "(4, 9)\n",
      "{242: [535]}\n",
      "{242: [535]}\n",
      "\n",
      "(4, 10)\n",
      "{207: [468], 209: [472]}\n",
      "{207: [468], 209: [472]}\n",
      "\n",
      "(4, 11)\n",
      "{230: [483]}\n",
      "{230: [483]}\n",
      "\n",
      "(4, 12)\n",
      "{232: [496], 233: [502, 508], 234: [505, 506]}\n",
      "{232: [496], 234: [505, 506]}\n",
      "\n",
      "(4, 13)\n",
      "{}\n",
      "{}\n",
      "\n",
      "(4, 14)\n",
      "{212: [478], 213: [482]}\n",
      "{212: [478], 213: [482]}\n",
      "\n",
      "(4, 15)\n",
      "{0: [190, 191, 192], 210: [471], 211: [472]}\n",
      "{0: [190, 191, 192], 210: [471], 211: [472]}\n",
      "\n",
      "(4, 17)\n",
      "{228: [502], 229: [508, 509]}\n",
      "{228: [502], 229: [508, 509]}\n",
      "\n",
      "(4, 18)\n",
      "{3: [181], 230: [487]}\n",
      "{3: [181], 230: [487]}\n",
      "\n",
      "(4, 19)\n",
      "{244: [496], 249: [502]}\n",
      "{244: [496], 249: [502]}\n",
      "\n",
      "(4, 20)\n",
      "{}\n",
      "{}\n",
      "\n",
      "(4, 21)\n",
      "{202: [462]}\n",
      "{202: [462]}\n",
      "\n",
      "(4, 22)\n",
      "{}\n",
      "{}\n",
      "\n",
      "(4, 23)\n",
      "{0: [193], 1: [194]}\n",
      "{0: [193], 1: [194]}\n",
      "\n",
      "(4, 24)\n",
      "{4: [196, 197], 5: [198], 223: [493], 229: [497]}\n",
      "{4: [196, 197], 5: [198], 223: [493], 229: [497]}\n",
      "\n",
      "(5, 1)\n",
      "{0: [174, 175, 176], 1: [177], 2: [178, 179, 180, 181], 3: [182], 187: [490]}\n",
      "{0: [174, 175, 176], 1: [177], 2: [178, 179, 180, 181], 3: [182], 187: [490]}\n",
      "\n",
      "(5, 2)\n",
      "{}\n",
      "{}\n",
      "\n",
      "(5, 3)\n",
      "{0: [193], 188: [494], 189: [495], 190: [496], 198: [497, 504], 197: [503], 199: [505], 200: [506]}\n",
      "{0: [193], 188: [494], 189: [495], 190: [496], 197: [503], 199: [505], 200: [506]}\n",
      "\n",
      "(5, 4)\n",
      "{185: [521], 187: [523], 189: [525, 526]}\n",
      "{185: [521], 187: [523], 189: [525, 526]}\n",
      "\n",
      "(5, 5)\n",
      "{0: [162], 229: [524], 230: [526], 231: [528], 237: [535]}\n",
      "{0: [162], 229: [524], 230: [526], 231: [528], 237: [535]}\n",
      "\n",
      "(5, 6)\n",
      "{0: [178], 187: [522], 189: [525], 190: [527, 528]}\n",
      "{0: [178], 187: [522], 189: [525], 190: [527, 528]}\n",
      "\n",
      "(5, 7)\n",
      "{197: [501, 502, 503], 198: [504, 505], 199: [506], 200: [507, 508, 509], 201: [510]}\n",
      "{197: [501, 502, 503], 198: [504, 505], 199: [506], 200: [507, 508, 509], 201: [510]}\n",
      "\n",
      "(5, 8)\n",
      "{}\n",
      "{}\n",
      "\n",
      "(5, 9)\n",
      "{1: [181], 2: [182, 183], 4: [185, 186], 6: [188], 9: [192], 10: [193], 13: [196], 14: [197, 198], 193: [495], 194: [496], 195: [497, 498], 197: [499, 500], 198: [502]}\n",
      "{1: [181], 2: [182, 183], 4: [185, 186], 6: [188], 9: [192], 10: [193], 13: [196], 14: [197, 198], 193: [495], 194: [496], 195: [497, 498], 197: [499, 500], 198: [502]}\n",
      "\n",
      "(5, 10)\n",
      "{184: [528], 185: [529], 186: [530, 531]}\n",
      "{184: [528], 185: [529], 186: [530, 531]}\n",
      "\n",
      "(5, 11)\n",
      "{0: [189], 1: [190, 191], 234: [550, 551], 235: [552]}\n",
      "{0: [189], 1: [190, 191], 234: [550, 551], 235: [552]}\n",
      "\n",
      "(5, 12)\n",
      "{0: [200], 185: [484, 485]}\n",
      "{0: [200], 185: [484, 485]}\n",
      "\n",
      "(5, 13)\n",
      "{243: [472]}\n",
      "{243: [472]}\n",
      "\n",
      "(5, 14)\n",
      "{}\n",
      "{}\n",
      "\n",
      "(5, 15)\n",
      "{3: [184, 185, 186, 187], 183: [470], 185: [473]}\n",
      "{3: [184, 185, 186, 187], 183: [470], 185: [473]}\n",
      "\n",
      "(5, 16)\n",
      "{199: [497, 498], 200: [499]}\n",
      "{199: [497, 498], 200: [499]}\n",
      "\n",
      "(5, 17)\n",
      "{1: [194, 195], 2: [196, 198], 3: [199], 4: [200, 201], 5: [202], 220: [547], 221: [548]}\n",
      "{1: [194, 195], 2: [196, 198], 3: [199], 4: [200, 201], 5: [202], 220: [547], 221: [548]}\n",
      "\n",
      "(5, 18)\n",
      "{169: [492], 170: [493, 494, 495], 172: [499]}\n",
      "{169: [492], 170: [493, 494, 495], 172: [499]}\n",
      "\n",
      "(5, 19)\n",
      "{189: [477]}\n",
      "{189: [477]}\n",
      "\n",
      "(5, 20)\n",
      "{2: [172, 188, 190], 1: [187]}\n",
      "{1: [187]}\n",
      "\n",
      "(5, 21)\n",
      "{}\n",
      "{}\n",
      "\n",
      "(5, 22)\n",
      "{}\n",
      "{}\n",
      "\n",
      "(5, 23)\n",
      "{1: [177, 178], 195: [479], 197: [480, 523], 199: [481], 203: [486]}\n",
      "{1: [177, 178], 195: [479], 199: [481], 203: [486]}\n",
      "\n",
      "(6, 1)\n",
      "{0: [200], 1: [201], 228: [503]}\n",
      "{0: [200], 1: [201], 228: [503]}\n",
      "\n",
      "(6, 2)\n",
      "{}\n",
      "{}\n",
      "\n",
      "(6, 3)\n",
      "{1: [190], 196: [480]}\n",
      "{1: [190], 196: [480]}\n",
      "\n",
      "(6, 4)\n",
      "{0: [200], 1: [201]}\n",
      "{0: [200], 1: [201]}\n",
      "\n",
      "(6, 5)\n",
      "{215: [487], 217: [490], 218: [491, 492, 493, 494, 496]}\n",
      "{215: [487], 217: [490], 218: [491, 492, 493, 494, 496]}\n",
      "\n",
      "(6, 6)\n",
      "{0: [198]}\n",
      "{0: [198]}\n",
      "\n",
      "(6, 7)\n",
      "{185: [487, 488], 186: [489], 187: [490], 188: [492, 493]}\n",
      "{185: [487, 488], 186: [489], 187: [490], 188: [492, 493]}\n",
      "\n",
      "(6, 8)\n",
      "{229: [479], 230: [480], 231: [481], 232: [482, 484]}\n",
      "{229: [479], 230: [480], 231: [481], 232: [482, 484]}\n",
      "\n",
      "(6, 9)\n",
      "{2: [178, 179], 3: [180, 181], 4: [182], 5: [183], 6: [184]}\n",
      "{2: [178, 179], 3: [180, 181], 4: [182], 5: [183], 6: [184]}\n",
      "\n",
      "(6, 10)\n",
      "{}\n",
      "{}\n",
      "\n",
      "(6, 11)\n",
      "{210: [507]}\n",
      "{210: [507]}\n",
      "\n",
      "(6, 12)\n",
      "{}\n",
      "{}\n",
      "\n",
      "(6, 13)\n",
      "{}\n",
      "{}\n",
      "\n",
      "(6, 14)\n",
      "{0: [190], 1: [192], 2: [193]}\n",
      "{0: [190], 1: [192], 2: [193]}\n",
      "\n",
      "(6, 15)\n",
      "{223: [500]}\n",
      "{223: [500]}\n",
      "\n",
      "(6, 16)\n",
      "{}\n",
      "{}\n",
      "\n",
      "(6, 17)\n",
      "{}\n",
      "{}\n",
      "\n",
      "(6, 18)\n",
      "{141: [430]}\n",
      "{141: [430]}\n",
      "\n",
      "(6, 19)\n",
      "{1: [189], 2: [190]}\n",
      "{1: [189], 2: [190]}\n",
      "\n",
      "(6, 20)\n",
      "{195: [456], 196: [457], 197: [458, 459], 200: [462]}\n",
      "{195: [456], 196: [457], 197: [458, 459], 200: [462]}\n",
      "\n",
      "(6, 21)\n",
      "{}\n",
      "{}\n",
      "\n",
      "(6, 22)\n",
      "{205: [486], 207: [490]}\n",
      "{205: [486], 207: [490]}\n",
      "\n",
      "(6, 23)\n",
      "{}\n",
      "{}\n",
      "\n",
      "(6, 24)\n",
      "{}\n",
      "{}\n",
      "\n",
      "(7, 1)\n",
      "{0: [189], 1: [191]}\n",
      "{0: [189], 1: [191]}\n",
      "\n",
      "(7, 2)\n",
      "{}\n",
      "{}\n",
      "\n",
      "(7, 3)\n",
      "{0: [197], 1: [199], 242: [540, 542, 544]}\n",
      "{0: [197], 1: [199], 242: [540, 542, 544]}\n",
      "\n",
      "(7, 4)\n",
      "{0: [196]}\n",
      "{0: [196]}\n",
      "\n",
      "(7, 5)\n",
      "{}\n",
      "{}\n",
      "\n",
      "(7, 6)\n",
      "{203: [535]}\n",
      "{203: [535]}\n",
      "\n",
      "(7, 7)\n",
      "{0: [199], 1: [200], 2: [201, 202], 3: [203, 204], 4: [205], 215: [511, 512], 216: [513]}\n",
      "{0: [199], 1: [200], 2: [201, 202], 3: [203, 204], 4: [205], 215: [511, 512], 216: [513]}\n",
      "\n",
      "(7, 8)\n",
      "{188: [482, 483]}\n",
      "{188: [482, 483]}\n",
      "\n",
      "(7, 9)\n",
      "{}\n",
      "{}\n",
      "\n",
      "(7, 10)\n",
      "{210: [535], 211: [536]}\n",
      "{210: [535], 211: [536]}\n",
      "\n",
      "(7, 11)\n",
      "{0: [196], 1: [197, 198], 2: [199], 3: [200, 201, 202]}\n",
      "{0: [196], 1: [197, 198], 2: [199], 3: [200, 201, 202]}\n",
      "\n",
      "(7, 13)\n",
      "{258: [571], 260: [574]}\n",
      "{258: [571], 260: [574]}\n",
      "\n",
      "(7, 14)\n",
      "{207: [495]}\n",
      "{207: [495]}\n",
      "\n",
      "(7, 15)\n",
      "{0: [196, 197], 1: [198], 2: [199], 3: [200], 218: [546], 220: [549]}\n",
      "{0: [196, 197], 1: [198], 2: [199], 3: [200], 218: [546], 220: [549]}\n",
      "\n",
      "(7, 16)\n",
      "{0: [198], 241: [525], 242: [526]}\n",
      "{0: [198], 241: [525], 242: [526]}\n",
      "\n",
      "(7, 17)\n",
      "{1: [193], 2: [195]}\n",
      "{1: [193], 2: [195]}\n",
      "\n",
      "(7, 18)\n",
      "{231: [497, 498], 233: [500], 234: [501]}\n",
      "{231: [497, 498], 233: [500], 234: [501]}\n",
      "\n",
      "(7, 19)\n",
      "{}\n",
      "{}\n",
      "\n",
      "(7, 20)\n",
      "{213: [509, 512], 215: [517, 519], 216: [520, 521], 218: [523, 524, 525]}\n",
      "{213: [509, 512], 215: [517, 519], 216: [520, 521], 218: [523, 524, 525]}\n",
      "\n",
      "(7, 21)\n",
      "{192: [477, 478, 479]}\n",
      "{192: [477, 478, 479]}\n",
      "\n",
      "(7, 22)\n",
      "{207: [469], 209: [470, 471], 211: [473]}\n",
      "{207: [469], 209: [470, 471], 211: [473]}\n",
      "\n",
      "(7, 23)\n",
      "{0: [194], 230: [502]}\n",
      "{0: [194], 230: [502]}\n",
      "\n",
      "(7, 24)\n",
      "{0: [198], 3: [200], 6: [202], 9: [206]}\n",
      "{0: [198], 3: [200], 6: [202], 9: [206]}\n",
      "\n",
      "(8, 1)\n",
      "{}\n",
      "{}\n",
      "\n",
      "(8, 2)\n",
      "{215: [492]}\n",
      "{215: [492]}\n",
      "\n",
      "(8, 3)\n",
      "{0: [185, 186], 202: [470], 204: [472], 205: [473]}\n",
      "{0: [185, 186], 202: [470], 204: [472], 205: [473]}\n",
      "\n",
      "(8, 4)\n",
      "{}\n",
      "{}\n",
      "\n",
      "(8, 5)\n",
      "{}\n",
      "{}\n",
      "\n",
      "(8, 6)\n",
      "{}\n",
      "{}\n",
      "\n",
      "(8, 8)\n",
      "{0: [168], 212: [503], 214: [508, 510, 511, 513]}\n",
      "{0: [168], 212: [503], 214: [508, 510, 511, 513]}\n",
      "\n",
      "(8, 9)\n",
      "{216: [458], 217: [459], 218: [460], 219: [461, 462, 463], 220: [464]}\n",
      "{216: [458], 217: [459], 218: [460], 219: [461, 462, 463], 220: [464]}\n",
      "\n",
      "(8, 10)\n",
      "{0: [199, 200, 201, 202, 203, 204], 1: [205, 206], 205: [520, 521], 206: [522, 523]}\n",
      "{0: [199, 200, 201, 202, 203, 204], 1: [205, 206], 205: [520, 521], 206: [522, 523]}\n",
      "\n",
      "(8, 11)\n",
      "{}\n",
      "{}\n",
      "\n",
      "(8, 12)\n",
      "{0: [183], 206: [530, 531], 210: [535], 211: [537], 212: [538], 213: [540, 541]}\n",
      "{0: [183], 206: [530, 531], 210: [535], 211: [537], 212: [538], 213: [540, 541]}\n",
      "\n",
      "(8, 13)\n",
      "{0: [191]}\n",
      "{0: [191]}\n",
      "\n",
      "(8, 15)\n",
      "{231: [537], 232: [538, 540]}\n",
      "{231: [537], 232: [538, 540]}\n",
      "\n",
      "(8, 16)\n",
      "{211: [547], 214: [550]}\n",
      "{211: [547], 214: [550]}\n",
      "\n",
      "(8, 17)\n",
      "{213: [557], 214: [558], 215: [559]}\n",
      "{213: [557], 214: [558], 215: [559]}\n",
      "\n",
      "(8, 18)\n",
      "{}\n",
      "{}\n",
      "\n",
      "(8, 19)\n",
      "{}\n",
      "{}\n",
      "\n",
      "(8, 20)\n",
      "{}\n",
      "{}\n",
      "\n",
      "(8, 21)\n",
      "{0: [167, 168], 3: [171, 172], 4: [173, 174, 178, 179, 180], 222: [531], 224: [534, 535]}\n",
      "{0: [167, 168], 3: [171, 172], 4: [173, 174, 178, 179, 180], 222: [531], 224: [534, 535]}\n",
      "\n",
      "(8, 22)\n",
      "{0: [200, 201], 1: [202], 194: [520], 195: [521], 197: [524], 198: [527, 528], 200: [530], 203: [533]}\n",
      "{0: [200, 201], 1: [202], 194: [520], 195: [521], 197: [524], 198: [527, 528], 200: [530], 203: [533]}\n",
      "\n",
      "(8, 23)\n",
      "{0: [194], 1: [195], 2: [196], 3: [198, 199], 191: [486], 196: [490, 491, 492, 493, 494, 495, 496, 497, 498, 499]}\n",
      "{0: [194], 1: [195], 2: [196], 3: [198, 199], 191: [486], 196: [490, 491, 492, 493, 494, 495, 496, 497, 498, 499]}\n",
      "\n",
      "(8, 24)\n",
      "{0: [194], 255: [550, 551]}\n",
      "{0: [194], 255: [550, 551]}\n",
      "\n",
      "(9, 1)\n",
      "{248: [568, 569, 570, 571, 572, 573], 250: [576, 577], 251: [578], 252: [580]}\n",
      "{248: [568, 569, 570, 571, 572, 573], 250: [576, 577], 251: [578], 252: [580]}\n",
      "\n",
      "(9, 2)\n",
      "{209: [520]}\n",
      "{209: [520]}\n",
      "\n",
      "(9, 3)\n",
      "{0: [198], 1: [199]}\n",
      "{0: [198], 1: [199]}\n",
      "\n",
      "(9, 4)\n",
      "{}\n",
      "{}\n",
      "\n",
      "(9, 5)\n",
      "{}\n",
      "{}\n",
      "\n",
      "(9, 6)\n",
      "{0: [169], 244: [557]}\n",
      "{0: [169], 244: [557]}\n",
      "\n",
      "(9, 7)\n",
      "{}\n",
      "{}\n",
      "\n",
      "(9, 9)\n",
      "{}\n",
      "{}\n",
      "\n",
      "(9, 10)\n",
      "{}\n",
      "{}\n",
      "\n",
      "(9, 11)\n",
      "{222: [512], 224: [517], 226: [521], 227: [523], 228: [525, 526]}\n",
      "{222: [512], 224: [517], 226: [521], 227: [523], 228: [525, 526]}\n",
      "\n",
      "(9, 12)\n",
      "{0: [200], 1: [202]}\n",
      "{0: [200], 1: [202]}\n",
      "\n",
      "(9, 13)\n",
      "{}\n",
      "{}\n",
      "\n",
      "(9, 14)\n",
      "{}\n",
      "{}\n",
      "\n",
      "(9, 15)\n",
      "{222: [560, 561, 562]}\n",
      "{222: [560, 561, 562]}\n",
      "\n",
      "(9, 16)\n",
      "{3: [198]}\n",
      "{3: [198]}\n",
      "\n",
      "(9, 24)\n",
      "{247: [532], 248: [534], 249: [535], 251: [537, 538], 252: [539], 253: [540], 254: [541], 255: [542], 256: [543]}\n",
      "{247: [532], 248: [534], 249: [535], 251: [537, 538], 252: [539], 253: [540], 254: [541], 255: [542], 256: [543]}\n",
      "\n"
     ]
    }
   ],
   "source": [
    "for x in further_alignment:\n",
    "    print(x)\n",
    "    print(further_alignment[x])\n",
    "    print(filter_alignment(further_alignment[x]))\n",
    "    print()"
   ],
   "metadata": {
    "collapsed": false,
    "pycharm": {
     "name": "#%%\n"
    }
   }
  },
  {
   "cell_type": "code",
   "execution_count": 770,
   "outputs": [],
   "source": [],
   "metadata": {
    "collapsed": false,
    "pycharm": {
     "name": "#%%\n"
    }
   }
  },
  {
   "cell_type": "code",
   "execution_count": 791,
   "outputs": [],
   "source": [
    "for x in further_alignment:\n",
    "    epi_ids = sorted(list(further_alignment[x].keys()))\n",
    "    if len(epi_ids)<2:\n",
    "        continue\n",
    "\n",
    "    for i in range(len(epi_ids)-1):\n",
    "        epi_id = epi_ids[i]\n",
    "        print(epi_id, further_alignment[x][epi_id], min(further_alignment[x][epi_ids[i+1]]) >= max(further_alignment[x][epi_ids[i]]))\n",
    "    print(\"==\"*50)"
   ],
   "metadata": {
    "collapsed": false,
    "pycharm": {
     "name": "#%%\n"
    }
   }
  },
  {
   "cell_type": "code",
   "execution_count": 738,
   "outputs": [],
   "source": [
    "with open('alignment_results/zh/head_tail_alignment.pkl', 'wb') as f:\n",
    "    pkl.dump(further_alignment, f)"
   ],
   "metadata": {
    "collapsed": false,
    "pycharm": {
     "name": "#%%\n"
    }
   }
  },
  {
   "cell_type": "code",
   "execution_count": null,
   "outputs": [],
   "source": [],
   "metadata": {
    "collapsed": false,
    "pycharm": {
     "name": "#%%\n"
    }
   }
  },
  {
   "cell_type": "code",
   "execution_count": null,
   "outputs": [],
   "source": [],
   "metadata": {
    "collapsed": false,
    "pycharm": {
     "name": "#%%\n"
    }
   }
  },
  {
   "cell_type": "code",
   "execution_count": null,
   "outputs": [],
   "source": [],
   "metadata": {
    "collapsed": false,
    "pycharm": {
     "name": "#%%\n"
    }
   }
  },
  {
   "cell_type": "code",
   "execution_count": null,
   "outputs": [],
   "source": [],
   "metadata": {
    "collapsed": false,
    "pycharm": {
     "name": "#%%\n"
    }
   }
  },
  {
   "cell_type": "code",
   "execution_count": null,
   "outputs": [],
   "source": [],
   "metadata": {
    "collapsed": false,
    "pycharm": {
     "name": "#%%\n"
    }
   }
  },
  {
   "cell_type": "code",
   "execution_count": null,
   "outputs": [],
   "source": [],
   "metadata": {
    "collapsed": false,
    "pycharm": {
     "name": "#%%\n"
    }
   }
  },
  {
   "cell_type": "code",
   "execution_count": null,
   "outputs": [],
   "source": [],
   "metadata": {
    "collapsed": false,
    "pycharm": {
     "name": "#%%\n"
    }
   }
  },
  {
   "cell_type": "code",
   "execution_count": null,
   "outputs": [],
   "source": [],
   "metadata": {
    "collapsed": false,
    "pycharm": {
     "name": "#%%\n"
    }
   }
  },
  {
   "cell_type": "code",
   "execution_count": null,
   "outputs": [],
   "source": [],
   "metadata": {
    "collapsed": false,
    "pycharm": {
     "name": "#%%\n"
    }
   }
  },
  {
   "cell_type": "code",
   "execution_count": null,
   "outputs": [],
   "source": [],
   "metadata": {
    "collapsed": false,
    "pycharm": {
     "name": "#%%\n"
    }
   }
  },
  {
   "cell_type": "code",
   "execution_count": null,
   "outputs": [],
   "source": [],
   "metadata": {
    "collapsed": false,
    "pycharm": {
     "name": "#%%\n"
    }
   }
  },
  {
   "cell_type": "code",
   "execution_count": null,
   "outputs": [],
   "source": [],
   "metadata": {
    "collapsed": false,
    "pycharm": {
     "name": "#%%\n"
    }
   }
  },
  {
   "cell_type": "code",
   "execution_count": null,
   "outputs": [],
   "source": [],
   "metadata": {
    "collapsed": false,
    "pycharm": {
     "name": "#%%\n"
    }
   }
  },
  {
   "cell_type": "code",
   "execution_count": null,
   "outputs": [],
   "source": [],
   "metadata": {
    "collapsed": false,
    "pycharm": {
     "name": "#%%\n"
    }
   }
  },
  {
   "cell_type": "code",
   "execution_count": null,
   "outputs": [],
   "source": [],
   "metadata": {
    "collapsed": false,
    "pycharm": {
     "name": "#%%\n"
    }
   }
  },
  {
   "cell_type": "code",
   "execution_count": null,
   "outputs": [],
   "source": [],
   "metadata": {
    "collapsed": false,
    "pycharm": {
     "name": "#%%\n"
    }
   }
  },
  {
   "cell_type": "code",
   "execution_count": null,
   "outputs": [],
   "source": [],
   "metadata": {
    "collapsed": false,
    "pycharm": {
     "name": "#%%\n"
    }
   }
  },
  {
   "cell_type": "code",
   "execution_count": null,
   "outputs": [],
   "source": [],
   "metadata": {
    "collapsed": false,
    "pycharm": {
     "name": "#%%\n"
    }
   }
  },
  {
   "cell_type": "code",
   "execution_count": null,
   "outputs": [],
   "source": [],
   "metadata": {
    "collapsed": false,
    "pycharm": {
     "name": "#%%\n"
    }
   }
  },
  {
   "cell_type": "code",
   "execution_count": null,
   "outputs": [],
   "source": [],
   "metadata": {
    "collapsed": false,
    "pycharm": {
     "name": "#%%\n"
    }
   }
  },
  {
   "cell_type": "code",
   "execution_count": null,
   "outputs": [],
   "source": [],
   "metadata": {
    "collapsed": false,
    "pycharm": {
     "name": "#%%\n"
    }
   }
  },
  {
   "cell_type": "code",
   "execution_count": null,
   "outputs": [],
   "source": [],
   "metadata": {
    "collapsed": false,
    "pycharm": {
     "name": "#%%\n"
    }
   }
  },
  {
   "cell_type": "code",
   "execution_count": null,
   "outputs": [],
   "source": [],
   "metadata": {
    "collapsed": false,
    "pycharm": {
     "name": "#%%\n"
    }
   }
  },
  {
   "cell_type": "code",
   "execution_count": null,
   "outputs": [],
   "source": [],
   "metadata": {
    "collapsed": false,
    "pycharm": {
     "name": "#%%\n"
    }
   }
  },
  {
   "cell_type": "code",
   "execution_count": null,
   "outputs": [],
   "source": [],
   "metadata": {
    "collapsed": false,
    "pycharm": {
     "name": "#%%\n"
    }
   }
  },
  {
   "cell_type": "code",
   "execution_count": null,
   "outputs": [],
   "source": [],
   "metadata": {
    "collapsed": false,
    "pycharm": {
     "name": "#%%\n"
    }
   }
  },
  {
   "cell_type": "code",
   "execution_count": null,
   "outputs": [],
   "source": [],
   "metadata": {
    "collapsed": false,
    "pycharm": {
     "name": "#%%\n"
    }
   }
  },
  {
   "cell_type": "code",
   "execution_count": null,
   "outputs": [],
   "source": [],
   "metadata": {
    "collapsed": false,
    "pycharm": {
     "name": "#%%\n"
    }
   }
  },
  {
   "cell_type": "code",
   "execution_count": null,
   "outputs": [],
   "source": [],
   "metadata": {
    "collapsed": false,
    "pycharm": {
     "name": "#%%\n"
    }
   }
  },
  {
   "cell_type": "code",
   "execution_count": null,
   "outputs": [],
   "source": [],
   "metadata": {
    "collapsed": false,
    "pycharm": {
     "name": "#%%\n"
    }
   }
  },
  {
   "cell_type": "code",
   "execution_count": null,
   "outputs": [],
   "source": [],
   "metadata": {
    "collapsed": false,
    "pycharm": {
     "name": "#%%\n"
    }
   }
  },
  {
   "cell_type": "code",
   "execution_count": null,
   "outputs": [],
   "source": [],
   "metadata": {
    "collapsed": false,
    "pycharm": {
     "name": "#%%\n"
    }
   }
  },
  {
   "cell_type": "code",
   "execution_count": null,
   "outputs": [],
   "source": [],
   "metadata": {
    "collapsed": false,
    "pycharm": {
     "name": "#%%\n"
    }
   }
  },
  {
   "cell_type": "code",
   "execution_count": null,
   "outputs": [],
   "source": [],
   "metadata": {
    "collapsed": false,
    "pycharm": {
     "name": "#%%\n"
    }
   }
  },
  {
   "cell_type": "code",
   "execution_count": null,
   "outputs": [],
   "source": [],
   "metadata": {
    "collapsed": false,
    "pycharm": {
     "name": "#%%\n"
    }
   }
  },
  {
   "cell_type": "code",
   "execution_count": null,
   "outputs": [],
   "source": [],
   "metadata": {
    "collapsed": false,
    "pycharm": {
     "name": "#%%\n"
    }
   }
  },
  {
   "cell_type": "code",
   "execution_count": null,
   "outputs": [],
   "source": [],
   "metadata": {
    "collapsed": false,
    "pycharm": {
     "name": "#%%\n"
    }
   }
  },
  {
   "cell_type": "code",
   "execution_count": null,
   "outputs": [],
   "source": [],
   "metadata": {
    "collapsed": false,
    "pycharm": {
     "name": "#%%\n"
    }
   }
  },
  {
   "cell_type": "code",
   "execution_count": null,
   "outputs": [],
   "source": [],
   "metadata": {
    "collapsed": false,
    "pycharm": {
     "name": "#%%\n"
    }
   }
  },
  {
   "cell_type": "code",
   "execution_count": null,
   "outputs": [],
   "source": [],
   "metadata": {
    "collapsed": false,
    "pycharm": {
     "name": "#%%\n"
    }
   }
  },
  {
   "cell_type": "code",
   "execution_count": null,
   "outputs": [],
   "source": [],
   "metadata": {
    "collapsed": false,
    "pycharm": {
     "name": "#%%\n"
    }
   }
  },
  {
   "cell_type": "code",
   "execution_count": null,
   "outputs": [],
   "source": [],
   "metadata": {
    "collapsed": false,
    "pycharm": {
     "name": "#%%\n"
    }
   }
  },
  {
   "cell_type": "code",
   "execution_count": null,
   "outputs": [],
   "source": [],
   "metadata": {
    "collapsed": false,
    "pycharm": {
     "name": "#%%\n"
    }
   }
  },
  {
   "cell_type": "code",
   "execution_count": null,
   "outputs": [],
   "source": [],
   "metadata": {
    "collapsed": false,
    "pycharm": {
     "name": "#%%\n"
    }
   }
  },
  {
   "cell_type": "code",
   "execution_count": null,
   "outputs": [],
   "source": [],
   "metadata": {
    "collapsed": false,
    "pycharm": {
     "name": "#%%\n"
    }
   }
  },
  {
   "cell_type": "code",
   "execution_count": null,
   "outputs": [],
   "source": [
    "# Check the result\n",
    "def check_alignment(tbbt, en_subtitle, other_subtitle, results, season_id, episode_id, bias):\n",
    "    # Fetch subset located by the stage-1 alignment\n",
    "    (en_subset, zh_subset, tbbt_episode) = fetch_subsets(\n",
    "        episode=tbbt,\n",
    "        en_subtitle=en_subtitle,\n",
    "        zh_subtitle=other_subtitle,\n",
    "        results=results,\n",
    "        season_id=season_id,\n",
    "        episode_id=episode_id,\n",
    "        bias=bias\n",
    "    )\n",
    "    print(season_id, episode_id)\n",
    "    alignment = alignment_seeds[(season_id,episode_id)]\n",
    "    for epi_id in alignment:\n",
    "        if len(alignment[epi_id])!=max(alignment[epi_id])-min(alignment[epi_id])+1:\n",
    "        # if max(temp[epi_id])-min(temp[epi_id])+1-len(temp[epi_id])==2:\n",
    "            epi = transformation(tbbt_episode[epi_id][0].replace(\"’\", \" \").replace('…', \" \"))\n",
    "            sub_ids = [i for i in range(min(alignment[epi_id]), max(alignment[epi_id])+1)]\n",
    "            sub = \" \".join([transformation(en_subset[i].replace(\"’\", \" \").replace('…', \" \")) for i in sub_ids])\n",
    "            print(epi)\n",
    "            print(sub)\n",
    "            print(epi_id, alignment[epi_id], max(alignment[epi_id])-min(alignment[epi_id])+1-len(alignment[epi_id]), len(epi.strip().split(\" \")), len(sub.strip().split(\" \")), jiwer.wer(sub, epi))\n",
    "            print('--')\n",
    "\n",
    "\n",
    "    print(\"==\"*50)\n",
    "\n",
    "    # print(season_id, episode_id)\n",
    "    # alignment = alignment_seeds[(season_id,episode_id)]\n",
    "    # for item in alignment:\n",
    "    #     epi = transformation(tbbt_episode[item][0].replace(\"’\", \" \").replace('…', \" \"))\n",
    "    #     sub = \" \".join([transformation(en_subset[i].replace(\"’\", \" \").replace('…', \" \")) for i in alignment[item]])\n",
    "    #     print(item, alignment[item], len(epi.strip().split(\" \")), len(sub.strip().split(\" \")))\n",
    "    # print(\"==\"*50)\n",
    "\n",
    "    return epi2sub\n",
    "\n",
    "\n",
    "further_alignment = {}\n",
    "for (i, j) in alignment_seeds.keys():\n",
    "    temp = check_alignment(tbbt_transcripts, en_subtitle, zh_subtitle, results, i, j, 200)"
   ],
   "metadata": {
    "collapsed": false,
    "pycharm": {
     "name": "#%%\n"
    }
   }
  },
  {
   "cell_type": "code",
   "execution_count": null,
   "outputs": [],
   "source": [
    "alignment_seeds = further_alignment"
   ],
   "metadata": {
    "collapsed": false,
    "pycharm": {
     "name": "#%%\n"
    }
   }
  },
  {
   "cell_type": "code",
   "execution_count": null,
   "outputs": [],
   "source": [
    "for (i, j) in further_alignment:\n",
    "    print(i, j)\n",
    "    alignment = further_alignment[(i, j)]\n",
    "    sub2epi = turn_sub2epi_into_epi2sub(alignment)\n",
    "    for sub_id in sub2epi:\n",
    "        if len(sub2epi[sub_id])!=1:\n",
    "            print(sub_id, sub2epi[sub_id])\n",
    "    print('=='*50)"
   ],
   "metadata": {
    "collapsed": false,
    "pycharm": {
     "name": "#%%\n"
    }
   }
  },
  {
   "cell_type": "code",
   "execution_count": null,
   "outputs": [],
   "source": [
    "for x in further_alignment:\n",
    "    print(x, len(further_alignment[x]), len(turn_sub2epi_into_epi2sub(further_alignment[x])))"
   ],
   "metadata": {
    "collapsed": false,
    "pycharm": {
     "name": "#%%\n"
    }
   }
  },
  {
   "cell_type": "code",
   "execution_count": null,
   "outputs": [],
   "source": [
    "alignment_seeds = further_alignment"
   ],
   "metadata": {
    "collapsed": false,
    "pycharm": {
     "name": "#%%\n"
    }
   }
  },
  {
   "cell_type": "code",
   "execution_count": null,
   "outputs": [],
   "source": [],
   "metadata": {
    "collapsed": false,
    "pycharm": {
     "name": "#%%\n"
    }
   }
  },
  {
   "cell_type": "code",
   "execution_count": null,
   "outputs": [],
   "source": [],
   "metadata": {
    "collapsed": false,
    "pycharm": {
     "name": "#%%\n"
    }
   }
  },
  {
   "cell_type": "code",
   "execution_count": null,
   "outputs": [],
   "source": [],
   "metadata": {
    "collapsed": false,
    "pycharm": {
     "name": "#%%\n"
    }
   }
  },
  {
   "cell_type": "code",
   "execution_count": null,
   "outputs": [],
   "source": [],
   "metadata": {
    "collapsed": false,
    "pycharm": {
     "name": "#%%\n"
    }
   }
  },
  {
   "cell_type": "code",
   "execution_count": null,
   "outputs": [],
   "source": [],
   "metadata": {
    "collapsed": false,
    "pycharm": {
     "name": "#%%\n"
    }
   }
  },
  {
   "cell_type": "code",
   "execution_count": null,
   "outputs": [],
   "source": [],
   "metadata": {
    "collapsed": false,
    "pycharm": {
     "name": "#%%\n"
    }
   }
  },
  {
   "cell_type": "code",
   "execution_count": null,
   "outputs": [],
   "source": [],
   "metadata": {
    "collapsed": false,
    "pycharm": {
     "name": "#%%\n"
    }
   }
  },
  {
   "cell_type": "code",
   "execution_count": null,
   "outputs": [],
   "source": [],
   "metadata": {
    "collapsed": false,
    "pycharm": {
     "name": "#%%\n"
    }
   }
  },
  {
   "cell_type": "code",
   "execution_count": null,
   "outputs": [],
   "source": [],
   "metadata": {
    "collapsed": false,
    "pycharm": {
     "name": "#%%\n"
    }
   }
  },
  {
   "cell_type": "code",
   "execution_count": null,
   "outputs": [],
   "source": [],
   "metadata": {
    "collapsed": false,
    "pycharm": {
     "name": "#%%\n"
    }
   }
  },
  {
   "cell_type": "code",
   "execution_count": null,
   "outputs": [],
   "source": [],
   "metadata": {
    "collapsed": false,
    "pycharm": {
     "name": "#%%\n"
    }
   }
  },
  {
   "cell_type": "code",
   "execution_count": null,
   "outputs": [],
   "source": [],
   "metadata": {
    "collapsed": false,
    "pycharm": {
     "name": "#%%\n"
    }
   }
  },
  {
   "cell_type": "code",
   "execution_count": null,
   "outputs": [],
   "source": [],
   "metadata": {
    "collapsed": false,
    "pycharm": {
     "name": "#%%\n"
    }
   }
  },
  {
   "cell_type": "code",
   "execution_count": null,
   "outputs": [],
   "source": [],
   "metadata": {
    "collapsed": false,
    "pycharm": {
     "name": "#%%\n"
    }
   }
  },
  {
   "cell_type": "code",
   "execution_count": null,
   "outputs": [],
   "source": [],
   "metadata": {
    "collapsed": false,
    "pycharm": {
     "name": "#%%\n"
    }
   }
  },
  {
   "cell_type": "code",
   "execution_count": null,
   "outputs": [],
   "source": [
    "# Load Data\n",
    "(en_subset, zh_subset, tbbt_episode) = fetch_subsets(\n",
    "        episode=tbbt_transcripts,\n",
    "        en_subtitle=en_subtitle,\n",
    "        zh_subtitle=zh_subtitle,\n",
    "        results=results,\n",
    "        season_id=1,\n",
    "        episode_id=1,\n",
    "        bias=200\n",
    "    )\n",
    "epi2sub = alignment_seeds[(1,1)]"
   ],
   "metadata": {
    "collapsed": false,
    "pycharm": {
     "name": "#%%\n"
    }
   }
  },
  {
   "cell_type": "code",
   "execution_count": null,
   "outputs": [],
   "source": [
    "def get_sliding_window_substrings(input_string, window_size):\n",
    "    input_tokens = input_string.strip().split(\" \")\n",
    "    substrings = []\n",
    "    for i in range(len(input_tokens)-window_size):\n",
    "        substrings.append(\" \".join(input_tokens[i: i+window_size]))\n",
    "    return substrings"
   ],
   "metadata": {
    "collapsed": false,
    "pycharm": {
     "name": "#%%\n"
    }
   }
  },
  {
   "cell_type": "code",
   "execution_count": null,
   "outputs": [],
   "source": [
    "def add_one_size_gap(gaps, epi2sub):\n",
    "    temp = {}\n",
    "    for gap in gaps:\n",
    "        sub_ids = gap[1]\n",
    "        epi_ids = gap[0]\n",
    "        if not(len(sub_ids)==1 and len(epi_ids)==1):\n",
    "            continue\n",
    "        sub_id = sub_ids[0]\n",
    "        epi_id = epi_ids[0]\n",
    "        if len(transformation(en_subset[sub_id]).strip().split(' '))==len(transformation(tbbt_episode[epi_id][0]).strip().split(' ')):\n",
    "            epi2sub[epi_id] = [sub_id]\n",
    "    output = {}\n",
    "    for epi_id in sorted(list(epi2sub.keys())):\n",
    "        output[epi_id] = sorted(list(set(epi2sub[epi_id])))\n",
    "    return output"
   ],
   "metadata": {
    "collapsed": false,
    "pycharm": {
     "name": "#%%\n"
    }
   }
  },
  {
   "cell_type": "code",
   "execution_count": null,
   "outputs": [],
   "source": [
    "def add_one_size_gap(gaps, epi2sub):\n",
    "    temp = {}\n",
    "    for gap in gaps:\n",
    "        sub_ids = gap[1]\n",
    "        epi_ids = gap[0]\n",
    "        if not(len(sub_ids)==1 and len(epi_ids)==1):\n",
    "            continue\n",
    "        sub_id = sub_ids[0]\n",
    "        epi_id = epi_ids[0]\n",
    "        if len(transformation(en_subset[sub_id]).strip().split(' '))==len(transformation(tbbt_episode[epi_id][0]).strip().split(' ')):\n",
    "            epi2sub[epi_id] = [sub_id]\n",
    "    output = {}\n",
    "    for epi_id in sorted(list(epi2sub.keys())):\n",
    "        output[epi_id] = sorted(list(set(epi2sub[epi_id])))\n",
    "    return output"
   ],
   "metadata": {
    "collapsed": false,
    "pycharm": {
     "name": "#%%\n"
    }
   }
  },
  {
   "cell_type": "code",
   "execution_count": null,
   "outputs": [],
   "source": [
    "def sliding_within_gap(gaps, epi2sub):\n",
    "    temp = {}\n",
    "    for gap in gaps:\n",
    "        sub_ids = gap[1]\n",
    "        epi_ids = gap[0]\n",
    "        for epi_id in epi_ids:\n",
    "            epi = tbbt_episode\n",
    "\n",
    "        if not(len(sub_ids)==1 and len(epi_ids)==1):\n",
    "            continue\n",
    "        sub_id = sub_ids[0]\n",
    "        epi_id = epi_ids[0]\n",
    "\n",
    "\n",
    "    output = {}\n",
    "    for epi_id in sorted(list(epi2sub.keys())):\n",
    "        output[epi_id] = sorted(list(set(epi2sub[epi_id])))\n",
    "    return output"
   ],
   "metadata": {
    "collapsed": false,
    "pycharm": {
     "name": "#%%\n"
    }
   }
  },
  {
   "cell_type": "code",
   "execution_count": null,
   "outputs": [],
   "source": [
    "\"\"\"\n",
    "Add neighbor subtitle from the utterance\n",
    "\"\"\"\n",
    "def extend_subtitles_to_episode_sliding_window(en_subset, epi2sub_alignment_2, episode):\n",
    "    temp = {}\n",
    "    for epi_id in epi2sub_alignment_2:\n",
    "        # Define episode utterance id\n",
    "        epi_id_former = epi_id - 1\n",
    "        epi_id = epi_id\n",
    "        epi_id_latter = epi_id + 1\n",
    "        epi = transformation(episode[epi_id][0])\n",
    "\n",
    "        # Define subtitle id\n",
    "        sub_id_former = min(epi2sub_alignment_2[epi_id]) - 1\n",
    "        sub_id_latter = max(epi2sub_alignment_2[epi_id]) + 1\n",
    "        sub_ids = sorted(list(epi2sub_alignment_2[epi_id]))\n",
    "\n",
    "        # Check whether subtitle nearby is in the utterance\n",
    "        sub_former = transformation(en_subset[sub_id_former])\n",
    "        sub_former_tokens = sub_former.strip().split(' ')\n",
    "        sub_former_strings = []\n",
    "        for i in range(len(sub_former_tokens)-3):\n",
    "            sub_former_strings.append(\" \".join(sub_former_tokens[i: i+4]))\n",
    "        sub_former_strings.append(sub_former)\n",
    "        for item in sub_former_strings:\n",
    "            if item in epi:\n",
    "                sub_ids.append(sub_id_former)\n",
    "                break\n",
    "\n",
    "\n",
    "        sub_latter = transformation(en_subset[sub_id_latter])\n",
    "        sub_latter_tokens = sub_latter.strip().split(' ')\n",
    "        sub_latter_strings = []\n",
    "        for i in range(len(sub_latter_tokens)-3):\n",
    "            sub_latter_strings.append(\" \".join(sub_latter_tokens[i: i+4]))\n",
    "        sub_latter_strings.append(sub_latter)\n",
    "        for item in sub_latter_strings:\n",
    "            if item in epi:\n",
    "                sub_ids.append(sub_id_latter)\n",
    "                break\n",
    "\n",
    "        temp[epi_id] = sorted(sub_ids)\n",
    "    return temp\n",
    "\n",
    "extend_subtitles_to_episode_sliding_window(en_subset, epi2sub, tbbt_transcripts)"
   ],
   "metadata": {
    "collapsed": false,
    "pycharm": {
     "name": "#%%\n"
    }
   }
  },
  {
   "cell_type": "code",
   "execution_count": null,
   "outputs": [],
   "source": [
    "\"\"\"\n",
    "Extend the former episode and latter episode near the substitle\n",
    "\"\"\"\n",
    "def extend_episodes_to_subtitle_sliding_window(en_subset, epi2sub_alignment_2, episode):\n",
    "    temp = {}\n",
    "    sub2epi = turn_sub2epi_into_epi2sub(epi2sub_alignment_2)\n",
    "\n",
    "    for sub_id in sub2epi:\n",
    "        sub = transformation(en_subset[sub_id])\n",
    "\n",
    "        # Check whether the epi nearby is in the subtitle\n",
    "        epi_id_former = min(sub2epi[sub_id])-1\n",
    "        epi_former = transformation(episode[epi_id_former][0])\n",
    "        epi_former_tokens = epi_former.strip().split(' ')\n",
    "        epi_former_strings = []\n",
    "        for i in range(len(epi_former_tokens)-3):\n",
    "            epi_former_strings.append(\" \".join(epi_former_tokens[i: i+4]))\n",
    "        epi_former_strings.append(epi_former)\n",
    "        for item in epi_former_strings:\n",
    "            if item in sub:\n",
    "                epi_ids.append(epi_id_former)\n",
    "                break\n",
    "\n",
    "\n",
    "        epi_id_latter = max(sub2epi[sub_id])+1\n",
    "        epi_latter = transformation(episode[epi_id_latter][0])\n",
    "        epi_latter_tokens = epi_latter.strip().split(' ')\n",
    "        epi_latter_strings = []\n",
    "        for i in range(len(epi_latter_tokens)-3):\n",
    "            epi_latter_strings.append(\" \".join(epi_latter_tokens[i: i+4]))\n",
    "        epi_latter_strings.append(epi_latter)\n",
    "        for item in epi_latter_strings:\n",
    "            if item in sub:\n",
    "                epi_ids.append(epi_id_latter)\n",
    "                break\n",
    "        print(epi_former_strings)\n",
    "        print(epi_latter_strings)\n",
    "        print(sub)\n",
    "        print('=='*50)\n",
    "        temp[sub_id] = sorted(epi_ids)\n",
    "    return temp"
   ],
   "metadata": {
    "collapsed": false,
    "pycharm": {
     "name": "#%%\n"
    }
   }
  },
  {
   "cell_type": "code",
   "execution_count": null,
   "outputs": [],
   "source": [
    "alignment_seeds = final_stage_alignment"
   ],
   "metadata": {
    "collapsed": false,
    "pycharm": {
     "name": "#%%\n"
    }
   }
  },
  {
   "cell_type": "code",
   "execution_count": null,
   "outputs": [],
   "source": [
    "# for x in alignment_seeds:\n",
    "#     print(x)\n",
    "#     print(alignment_seeds[x])\n",
    "#     print(\"==\"*50)"
   ],
   "metadata": {
    "collapsed": false,
    "pycharm": {
     "name": "#%%\n"
    }
   }
  },
  {
   "cell_type": "code",
   "execution_count": null,
   "outputs": [],
   "source": [
    "# Load Data\n",
    "(en_subset, zh_subset, tbbt_episode) = fetch_subsets(\n",
    "        episode=tbbt_transcripts,\n",
    "        en_subtitle=en_subtitle,\n",
    "        zh_subtitle=zh_subtitle,\n",
    "        results=results,\n",
    "        season_id=1,\n",
    "        episode_id=1,\n",
    "        bias=200\n",
    "    )\n",
    "epi2sub = alignment_seeds[(1,1)]"
   ],
   "metadata": {
    "collapsed": false,
    "pycharm": {
     "name": "#%%\n"
    }
   }
  },
  {
   "cell_type": "code",
   "execution_count": null,
   "outputs": [],
   "source": [
    "\"\"\"\n",
    "Extend the former subtitle and latter subtitle near the episode\n",
    "\"\"\"\n",
    "def extend_neighbors_episode_sliding(en_subset, epi2sub, tbbt_episode):\n",
    "    # Gather the gap of subtitle corresponding to episode utterance\n",
    "    epi_keys = sorted(list(epi2sub.keys()))\n",
    "    sub_keys = sorted(list(turn_sub2epi_into_epi2sub(epi2sub).keys()))\n",
    "\n",
    "    subtitle_gaps = {}\n",
    "    for i in range(len(epi_keys)-1):\n",
    "        epi_start = epi_keys[i]\n",
    "        epi_end = epi_keys[i+1]\n",
    "        key = (epi_start, epi_end)\n",
    "        if max(epi2sub[epi_start])+1<min(epi2sub[epi_end]):\n",
    "            subtitle_gaps[(epi_start, epi_end)] = [item for item in range(max(epi2sub[epi_start])+1, min(epi2sub[epi_end]))]\n",
    "    print(subtitle_gaps)\n",
    "\n",
    "    # Check whether the subtitle could be merged into utterances using sliding window\n",
    "    for start_epi_id, end_epi_id in subtitle_gaps:\n",
    "        start_epi = transformation(tbbt_episode[start_epi_id][0].replace(\"’\", \" \"))\n",
    "        end_epi = transformation(tbbt_episode[end_epi_id][0].replace(\"’\", \" \"))\n",
    "        # print(start_epi_id, start_epi)\n",
    "        # print(end_epi_id, end_epi)\n",
    "        # print('--')\n",
    "\n",
    "        for sub_id in subtitle_gaps[(start_epi_id, end_epi_id)]:\n",
    "            sub = transformation(en_subset[sub_id])\n",
    "            sub_substrings = get_sliding_window_substrings(sub, 6)\n",
    "            sub_substrings.append(sub)\n",
    "            # print(sub_id, sub)\n",
    "            # print(sub_substrings)\n",
    "            temp_start = [substring in start_epi for substring in sub_substrings]\n",
    "            signal_start = True in temp_start\n",
    "            temp_end = [substring in end_epi for substring in sub_substrings]\n",
    "            signal_end = True in temp_end\n",
    "            # print(temp_start, signal_start)\n",
    "            # print(temp_end, signal_end)\n",
    "            if signal_start==True and signal_end==True:\n",
    "                print(start_epi_id, start_epi)\n",
    "                print(end_epi_id, end_epi)\n",
    "                print(sub, \"|\", signal_start, \"|\", signal_end)\n",
    "                print('--')\n",
    "\n",
    "        # print('=='*50)\n",
    "\n",
    "extend_neighbors_episode_sliding(en_subset, epi2sub, tbbt_episode)"
   ],
   "metadata": {
    "collapsed": false,
    "pycharm": {
     "name": "#%%\n"
    }
   }
  },
  {
   "cell_type": "code",
   "execution_count": null,
   "outputs": [],
   "source": [
    "def get_final_stage_gap_pairs(epi2sub):\n",
    "    # Gather the gap of subtitle corresponding to episode utterance\n",
    "    epi_keys = sorted(list(epi2sub.keys()))\n",
    "    sub_keys = sorted(list(turn_sub2epi_into_epi2sub(epi2sub).keys()))\n",
    "\n",
    "    subtitle_gaps = {}\n",
    "    for i in range(len(epi_keys)-1):\n",
    "        epi_start = epi_keys[i]\n",
    "        epi_end = epi_keys[i+1]\n",
    "        key = (epi_start, epi_end)\n",
    "        if max(epi2sub[epi_start])+1<min(epi2sub[epi_end]):\n",
    "            subtitle_gaps[(epi_start, epi_end)] = [item for item in range(max(epi2sub[epi_start])+1, min(epi2sub[epi_end]))]\n",
    "\n",
    "    # Perform string match and CER Scoring\n",
    "    return subtitle_gaps\n",
    "\n",
    "final_gap = get_final_stage_gap_pairs(epi2sub)\n",
    "\n",
    "for item in final_gap:\n",
    "    epi_ids = [i+2 for i in range(item[0], item[1]+1)]\n",
    "    sub_ids = [x+2 for x in final_gap[item]]\n",
    "    print(epi_ids)\n",
    "    print(sub_ids)\n",
    "    print('=='*50)"
   ],
   "metadata": {
    "collapsed": false,
    "pycharm": {
     "name": "#%%\n"
    }
   }
  },
  {
   "cell_type": "code",
   "execution_count": null,
   "outputs": [],
   "source": [],
   "metadata": {
    "collapsed": false,
    "pycharm": {
     "name": "#%%\n"
    }
   }
  },
  {
   "cell_type": "code",
   "execution_count": null,
   "outputs": [],
   "source": [],
   "metadata": {
    "collapsed": false,
    "pycharm": {
     "name": "#%%\n"
    }
   }
  },
  {
   "cell_type": "code",
   "execution_count": null,
   "outputs": [],
   "source": [],
   "metadata": {
    "collapsed": false,
    "pycharm": {
     "name": "#%%\n"
    }
   }
  },
  {
   "cell_type": "code",
   "execution_count": null,
   "outputs": [],
   "source": [
    "with open('alignment_results/zh/final_stage_alignment.pkl', 'rb') as f:\n",
    "    final_stage_alignment = pkl.load(f)\n",
    "\n",
    "# Load Data\n",
    "(en_subset, zh_subset, tbbt_episode) = fetch_subsets(\n",
    "        episode=tbbt_transcripts,\n",
    "        en_subtitle=en_subtitle,\n",
    "        zh_subtitle=zh_subtitle,\n",
    "        results=results,\n",
    "        season_id=1,\n",
    "        episode_id=1,\n",
    "        bias=200\n",
    "    )\n",
    "\n",
    "alignment_seeds = final_stage_alignment\n",
    "epi2sub = alignment_seeds[(1,1)]"
   ],
   "metadata": {
    "collapsed": false,
    "pycharm": {
     "name": "#%%\n"
    }
   }
  },
  {
   "cell_type": "code",
   "execution_count": null,
   "outputs": [],
   "source": [
    "\"\"\"\n",
    "Explore the neighbor subtitles of a episode.\n",
    "\n",
    "Given a episode utterance (epi_id), then we fetch the unaligned subtitle (sub_id)\n",
    "[epi_id_0, epi_id_1, etc., epi_id_n] - [sub_id_0, sub_id_1, etc. sub_id_m]\n",
    "\n",
    "Then, we search within the subset-pair\n",
    "\n",
    "For each subtitle, we use sliding window to fetch a set of substrings in each episode utterance and calculate the CER\n",
    "\"\"\"\n",
    "def extend_neighbors_episode_sliding(en_subset, epi2sub, tbbt_episode):\n",
    "    count = 0\n",
    "    # Gather the gap of subtitle corresponding to episode utterance\n",
    "    subtitle_gaps = get_final_stage_gap_pairs(epi2sub)\n",
    "\n",
    "    # Iterate the whole subtitle gaps to perform substring match\n",
    "    temp_epi2sub = deepcopy(epi2sub)\n",
    "    for item in subtitle_gaps:\n",
    "        epi_ids = [i for i in range(item[0], item[1]+1)]\n",
    "        sub_ids = [i for i in subtitle_gaps[item]]\n",
    "\n",
    "        # Fetch all episodes and subtitles\n",
    "        epis = [transformation(tbbt_episode[i][0].replace(\"’\", \" \").replace('…', \" \")) for i in epi_ids]\n",
    "        subs = [transformation(en_subset[i].replace(\"’\", \" \").replace('…', \" \")) for i in sub_ids]\n",
    "\n",
    "        # print(epi_ids)\n",
    "        # print(epis)\n",
    "        # print(sub_ids)\n",
    "        # print(subs)\n",
    "        for sub_id, sub in zip(sub_ids, subs):\n",
    "            sub_len = len(sub.strip().split(\" \"))\n",
    "            if sub_len <=3:\n",
    "                continue\n",
    "            min_score = float('inf')\n",
    "            min_substring = \"\"\n",
    "            source_episode = \"\"\n",
    "            source_sub_id = float('inf')\n",
    "            source_epi_id = float('inf')\n",
    "            for epi, epi_id in zip(epis, epi_ids):\n",
    "                # min_score = float('inf')\n",
    "                # min_substring = \"\"\n",
    "                epi_substrings = get_sliding_window_substrings(epi, window_size=sub_len)\n",
    "                for substring in epi_substrings:\n",
    "                    wer = jiwer.wer(sub, substring)\n",
    "                    if wer <= min_score:\n",
    "                        min_score = wer\n",
    "                        min_substring = substring\n",
    "                        source_episode = epi\n",
    "                        source_epi_id = epi_id\n",
    "            if min_score <= 0.5:\n",
    "                if source_epi_id not in temp_epi2sub:\n",
    "                    temp_epi2sub[source_epi_id] = [sub_id]\n",
    "                else:\n",
    "                    temp_epi2sub[source_epi_id].append(sub_id)\n",
    "                # print(sub_id+2, source_epi_id+2)\n",
    "                # print(\"Subtitle:\", sub_id+2, sub, len(sub.strip().split(\" \")))\n",
    "                # print(\"All Episode to compare:\")\n",
    "                # print(min_score, '|', min_substring, '|', source_episode)\n",
    "                # print('=='*50)\n",
    "                # count += 1\n",
    "    # print(temp_epi2sub)\n",
    "    # print(len(temp_epi2sub), len(turn_sub2epi_into_epi2sub(temp_epi2sub)))\n",
    "    # print(count)\n",
    "    output = {}\n",
    "    for epi_id in sorted(list(temp_epi2sub.keys())):\n",
    "        output[epi_id] = sorted(list(set(temp_epi2sub[epi_id])))\n",
    "    return output\n",
    "\n",
    "# epi2sub_0 = epi2sub\n",
    "# print(len(epi2sub_0), len(turn_sub2epi_into_epi2sub(epi2sub_0)))\n",
    "# epi2sub_1 = extend_neighbors_episode_sliding(en_subset, epi2sub_0, tbbt_episode)\n",
    "# print(len(epi2sub_1), len(turn_sub2epi_into_epi2sub(epi2sub_1)))\n",
    "# epi2sub_2 = extend_neighbors_episode_sliding(en_subset, epi2sub_1, tbbt_episode)\n",
    "# print(len(epi2sub_2), len(turn_sub2epi_into_epi2sub(epi2sub_2)))"
   ],
   "metadata": {
    "collapsed": false,
    "pycharm": {
     "name": "#%%\n"
    }
   }
  },
  {
   "cell_type": "code",
   "execution_count": null,
   "outputs": [],
   "source": [
    "def get_alignment(tbbt, en_subtitle, other_subtitle, results, season_id, episode_id, bias):\n",
    "    # Fetch subset located by the stage-1 alignment\n",
    "    (en_subset, zh_subset, tbbt_episode) = fetch_subsets(\n",
    "        episode=tbbt,\n",
    "        en_subtitle=en_subtitle,\n",
    "        zh_subtitle=other_subtitle,\n",
    "        results=results,\n",
    "        season_id=season_id,\n",
    "        episode_id=episode_id,\n",
    "        bias=bias\n",
    "    )\n",
    "\n",
    "    # Extend the neighbors\n",
    "    epi2sub = extend_neighbors_episode_sliding(en_subset, alignment_seeds[(i,j)], tbbt_episode)\n",
    "\n",
    "    return epi2sub"
   ],
   "metadata": {
    "collapsed": false,
    "pycharm": {
     "name": "#%%\n"
    }
   }
  },
  {
   "cell_type": "code",
   "execution_count": null,
   "outputs": [],
   "source": [
    "further_alignment = {}\n",
    "for (i, j) in alignment_seeds.keys():\n",
    "    temp = get_alignment(tbbt_transcripts, en_subtitle, zh_subtitle, results, i, j, 200)\n",
    "    further_alignment[(i,j)] = temp\n",
    "    print(\"Season:\", i,\"Episode:\", j, \"Episode Number:\", len(alignment_seeds[(i,j)]),len(temp), \"|\", \"Subtitle Number:\", len(turn_sub2epi_into_epi2sub(alignment_seeds[(i,j)])),len(turn_sub2epi_into_epi2sub(temp)))"
   ],
   "metadata": {
    "collapsed": false,
    "pycharm": {
     "name": "#%%\n"
    }
   }
  },
  {
   "cell_type": "code",
   "execution_count": null,
   "outputs": [],
   "source": [
    "with open('alignment_results/zh/final_stage_alignment_0.pkl', 'wb') as f:\n",
    "    pkl.dump(further_alignment, f)"
   ],
   "metadata": {
    "collapsed": false,
    "pycharm": {
     "name": "#%%\n"
    }
   }
  },
  {
   "cell_type": "code",
   "execution_count": null,
   "outputs": [],
   "source": [
    "with open('alignment_results/zh/final_stage_alignment_0.pkl', 'rb') as f:\n",
    "    further_alignment = pkl.load(f)"
   ],
   "metadata": {
    "collapsed": false,
    "pycharm": {
     "name": "#%%\n"
    }
   }
  },
  {
   "cell_type": "code",
   "execution_count": null,
   "outputs": [],
   "source": [],
   "metadata": {
    "collapsed": false,
    "pycharm": {
     "name": "#%%\n"
    }
   }
  },
  {
   "cell_type": "code",
   "execution_count": null,
   "outputs": [],
   "source": [],
   "metadata": {
    "collapsed": false,
    "pycharm": {
     "name": "#%%\n"
    }
   }
  },
  {
   "cell_type": "code",
   "execution_count": null,
   "outputs": [],
   "source": [
    "for x in further_alignment:\n",
    "    aligned_epi_num = len(alignment_seeds[x])\n",
    "    aligned_sub_num = len(turn_sub2epi_into_epi2sub(alignment_seeds[x]))\n",
    "    all_epi_num = max(alignment_seeds[x])-min(alignment_seeds[x])\n",
    "    all_sub_num = max(turn_sub2epi_into_epi2sub(alignment_seeds[x]))-min(turn_sub2epi_into_epi2sub(alignment_seeds[x]))\n",
    "    print(x, aligned_epi_num, all_epi_num, int(100*(aligned_epi_num/all_epi_num)), \"|\", aligned_sub_num, all_sub_num, int(100*(aligned_sub_num/all_sub_num)))"
   ],
   "metadata": {
    "collapsed": false,
    "pycharm": {
     "name": "#%%\n"
    }
   }
  },
  {
   "cell_type": "code",
   "execution_count": null,
   "outputs": [],
   "source": [
    "def get_alignment(tbbt, en_subtitle, other_subtitle, results, season_id, episode_id, bias):\n",
    "    # Fetch subset located by the stage-1 alignment\n",
    "    (en_subset, zh_subset, tbbt_episode) = fetch_subsets(\n",
    "        episode=tbbt,\n",
    "        en_subtitle=en_subtitle,\n",
    "        zh_subtitle=other_subtitle,\n",
    "        results=results,\n",
    "        season_id=season_id,\n",
    "        episode_id=episode_id,\n",
    "        bias=bias\n",
    "    )\n",
    "\n",
    "    # Extend the neighbors\n",
    "    epi2sub = extend_neighbors_episode_sliding(en_subset, alignment_seeds[(i,j)], tbbt_episode)\n",
    "\n",
    "    return epi2sub"
   ],
   "metadata": {
    "collapsed": false,
    "pycharm": {
     "name": "#%%\n"
    }
   }
  },
  {
   "cell_type": "code",
   "execution_count": null,
   "outputs": [],
   "source": [
    "for (i, j) in alignment_seeds.keys():\n",
    "    temp = get_alignment(tbbt_transcripts, en_subtitle, zh_subtitle, results, i, j, 200)\n",
    "    # print(\"Season:\", i,\"Episode:\", j, \"Episode Number:\",len(turn_sub2epi_into_epi2sub(alignment_seeds[(i,j)])), len(temp), \"Subtitle Number:\", len(alignment_seeds[(i,j)]),len(turn_sub2epi_into_epi2sub(temp)))"
   ],
   "metadata": {
    "collapsed": false,
    "pycharm": {
     "name": "#%%\n"
    }
   }
  },
  {
   "cell_type": "code",
   "execution_count": null,
   "outputs": [],
   "source": [],
   "metadata": {
    "collapsed": false,
    "pycharm": {
     "name": "#%%\n"
    }
   }
  },
  {
   "cell_type": "code",
   "execution_count": null,
   "outputs": [],
   "source": [],
   "metadata": {
    "collapsed": false,
    "pycharm": {
     "name": "#%%\n"
    }
   }
  },
  {
   "cell_type": "code",
   "execution_count": null,
   "outputs": [],
   "source": [],
   "metadata": {
    "collapsed": false,
    "pycharm": {
     "name": "#%%\n"
    }
   }
  },
  {
   "cell_type": "code",
   "execution_count": null,
   "outputs": [],
   "source": [],
   "metadata": {
    "collapsed": false,
    "pycharm": {
     "name": "#%%\n"
    }
   }
  },
  {
   "cell_type": "code",
   "execution_count": null,
   "outputs": [],
   "source": [],
   "metadata": {
    "collapsed": false,
    "pycharm": {
     "name": "#%%\n"
    }
   }
  },
  {
   "cell_type": "code",
   "execution_count": null,
   "outputs": [],
   "source": [],
   "metadata": {
    "collapsed": false,
    "pycharm": {
     "name": "#%%\n"
    }
   }
  },
  {
   "cell_type": "code",
   "execution_count": null,
   "outputs": [],
   "source": [],
   "metadata": {
    "collapsed": false,
    "pycharm": {
     "name": "#%%\n"
    }
   }
  },
  {
   "cell_type": "code",
   "execution_count": null,
   "outputs": [],
   "source": [],
   "metadata": {
    "collapsed": false,
    "pycharm": {
     "name": "#%%\n"
    }
   }
  },
  {
   "cell_type": "code",
   "execution_count": null,
   "outputs": [],
   "source": [],
   "metadata": {
    "collapsed": false,
    "pycharm": {
     "name": "#%%\n"
    }
   }
  },
  {
   "cell_type": "code",
   "execution_count": null,
   "outputs": [],
   "source": [],
   "metadata": {
    "collapsed": false,
    "pycharm": {
     "name": "#%%\n"
    }
   }
  },
  {
   "cell_type": "code",
   "execution_count": null,
   "outputs": [],
   "source": [
    "def get_alignment(tbbt, en_subtitle, other_subtitle, results, season_id, episode_id, bias):\n",
    "    # Fetch subset located by the stage-1 alignment\n",
    "    (en_subset, zh_subset, tbbt_episode) = fetch_subsets(\n",
    "        episode=tbbt,\n",
    "        en_subtitle=en_subtitle,\n",
    "        zh_subtitle=other_subtitle,\n",
    "        results=results,\n",
    "        season_id=season_id,\n",
    "        episode_id=episode_id,\n",
    "        bias=bias\n",
    "    )\n",
    "\n",
    "    # Extend the neighbors\n",
    "    epi2sub = extend_neighbors(en_subset, turn_sub2epi_into_epi2sub(alignment_seeds[(season_id,episode_id)]), tbbt_episode)\n",
    "    epi2sub = extend_neighbors(en_subset, epi2sub, tbbt_episode)\n",
    "    epi2sub = extend_neighbors(en_subset, epi2sub, tbbt_episode)\n",
    "    epi2sub = extend_neighbors(en_subset, epi2sub, tbbt_episode)\n",
    "\n",
    "    # Extend within gap using strict string match\n",
    "    gaps, abandons = get_subset_in_gaps(epi2sub)\n",
    "    epi2sub = add_strict_match_within_gaps(gaps, epi2sub)\n",
    "\n",
    "    # Extend within gap using wer\n",
    "    gaps, abandons = get_subset_in_gaps(epi2sub)\n",
    "    epi2sub = add_wer_match_within_gaps(gaps, epi2sub, en_subset, tbbt_episode)\n",
    "\n",
    "    # Extend within gap using substring cer\n",
    "    gaps, abandons = get_subset_in_gaps(epi2sub)\n",
    "    epi2sub = add_wer_substring_match_within_gaps(gaps, epi2sub, en_subset, tbbt_episode)\n",
    "\n",
    "    # Add within the gap\n",
    "    gaps, abandons = get_subset_in_gaps(epi2sub)\n",
    "    epi2sub = add_one_size_gap(gaps, epi2sub)\n",
    "\n",
    "    # Further extend neighbors\n",
    "    epi2sub = extend_neighbors_sliding(en_subset, epi2sub, tbbt_episode)\n",
    "    epi2sub = extend_neighbors_sliding(en_subset, epi2sub, tbbt_episode)\n",
    "    epi2sub = extend_neighbors_sliding(en_subset, epi2sub, tbbt_episode)\n",
    "    epi2sub = extend_neighbors_sliding(en_subset, epi2sub, tbbt_episode)\n",
    "\n",
    "    return epi2sub"
   ],
   "metadata": {
    "collapsed": false,
    "pycharm": {
     "name": "#%%\n"
    }
   }
  },
  {
   "cell_type": "code",
   "execution_count": null,
   "outputs": [],
   "source": [
    "further_alignment = {}\n",
    "for (i, j) in alignment_seeds.keys():\n",
    "    try:\n",
    "        temp = get_alignment(tbbt_transcripts, en_subtitle, zh_subtitle, results, i, j, 200)\n",
    "        further_alignment[(i,j)] = temp\n",
    "        print(\"Season:\", i,\"Episode:\", j, \"Episode Number:\",len(temp), \"Subtitle Number:\",len(turn_sub2epi_into_epi2sub(temp)))\n",
    "    except:\n",
    "        pass"
   ],
   "metadata": {
    "collapsed": false,
    "pycharm": {
     "name": "#%%\n"
    }
   }
  },
  {
   "cell_type": "code",
   "execution_count": null,
   "outputs": [],
   "source": [
    "further_alignment = {}\n",
    "for i in tqdm(range(3)):\n",
    "    for j in tqdm(range(4)):\n",
    "        try:\n",
    "            temp = get_alignment(tbbt_transcripts, en_subtitle, zh_subtitle, alignment_seeds, i+1, j+1, 200)\n",
    "            further_alignment[(i,j)] = temp\n",
    "            print(\"Season:\", i+1,\"Episode:\", j+1, \"Episode Number:\",len(temp), \"Subtitle Number:\",len(turn_sub2epi_into_epi2sub(temp)))\n",
    "        except:\n",
    "            pass"
   ],
   "metadata": {
    "collapsed": false,
    "pycharm": {
     "name": "#%%\n"
    }
   }
  },
  {
   "cell_type": "code",
   "execution_count": null,
   "outputs": [],
   "source": [
    "with open('final_stage_alignment.pkl', 'wb') as f:\n",
    "    pkl.dump(further_alignment, f)"
   ],
   "metadata": {
    "collapsed": false,
    "pycharm": {
     "name": "#%%\n"
    }
   }
  },
  {
   "cell_type": "code",
   "execution_count": null,
   "outputs": [],
   "source": [
    "with open('final_stage_alignment.pkl', 'rb') as f:\n",
    "    further_alignment = pkl.load(f)"
   ],
   "metadata": {
    "collapsed": false,
    "pycharm": {
     "name": "#%%\n"
    }
   }
  },
  {
   "cell_type": "code",
   "execution_count": null,
   "outputs": [],
   "source": [
    "def get_sliding_window_substrings(input_string, window_size):\n",
    "    input_tokens = input_string.strip().split(' ')\n",
    "    substrings = []\n",
    "    for i in range(len(input_tokens)-3):\n",
    "        substrings.append(\" \".join(input_tokens[i: i+4]))\n",
    "    return substrings"
   ],
   "metadata": {
    "collapsed": false,
    "pycharm": {
     "name": "#%%\n"
    }
   }
  },
  {
   "cell_type": "code",
   "execution_count": null,
   "outputs": [],
   "source": [
    "def add_one_size_gap(gaps, epi2sub):\n",
    "    temp = {}\n",
    "    for gap in gaps:\n",
    "        sub_ids = gap[1]\n",
    "        epi_ids = gap[0]\n",
    "        if not(len(sub_ids)==1 and len(epi_ids)==1):\n",
    "            continue\n",
    "        sub_id = sub_ids[0]\n",
    "        epi_id = epi_ids[0]\n",
    "        if len(transformation(en_subset[sub_id]).strip().split(' '))==len(transformation(tbbt_episode[epi_id][0]).strip().split(' ')):\n",
    "            epi2sub[epi_id] = [sub_id]\n",
    "    output = {}\n",
    "    for epi_id in sorted(list(epi2sub.keys())):\n",
    "        output[epi_id] = sorted(list(set(epi2sub[epi_id])))\n",
    "    return output"
   ],
   "metadata": {
    "collapsed": false,
    "pycharm": {
     "name": "#%%\n"
    }
   }
  },
  {
   "cell_type": "code",
   "execution_count": null,
   "outputs": [],
   "source": [
    "def sliding_within_gap(gaps, epi2sub):\n",
    "    temp = {}\n",
    "    for gap in gaps:\n",
    "        sub_ids = gap[1]\n",
    "        epi_ids = gap[0]\n",
    "        for epi_id in epi_ids:\n",
    "            epi = tbbt_episode\n",
    "\n",
    "        if not(len(sub_ids)==1 and len(epi_ids)==1):\n",
    "            continue\n",
    "        sub_id = sub_ids[0]\n",
    "        epi_id = epi_ids[0]\n",
    "\n",
    "\n",
    "    output = {}\n",
    "    for epi_id in sorted(list(epi2sub.keys())):\n",
    "        output[epi_id] = sorted(list(set(epi2sub[epi_id])))\n",
    "    return output"
   ],
   "metadata": {
    "collapsed": false,
    "pycharm": {
     "name": "#%%\n"
    }
   }
  },
  {
   "cell_type": "code",
   "execution_count": null,
   "outputs": [],
   "source": [
    "\"\"\"\n",
    "Add neighbor subtitle from the utterance\n",
    "\"\"\"\n",
    "def extend_subtitles_to_episode_sliding_window(en_subset, epi2sub_alignment_2, episode):\n",
    "    temp = {}\n",
    "    for epi_id in epi2sub_alignment_2:\n",
    "        # Define episode utterance id\n",
    "        epi_id_former = epi_id - 1\n",
    "        epi_id = epi_id\n",
    "        epi_id_latter = epi_id + 1\n",
    "        epi = transformation(episode[epi_id][0])\n",
    "\n",
    "        # Define subtitle id\n",
    "        sub_id_former = min(epi2sub_alignment_2[epi_id]) - 1\n",
    "        sub_id_latter = max(epi2sub_alignment_2[epi_id]) + 1\n",
    "        sub_ids = sorted(list(epi2sub_alignment_2[epi_id]))\n",
    "\n",
    "        # Check whether subtitle nearby is in the utterance\n",
    "        sub_former = transformation(en_subset[sub_id_former])\n",
    "        sub_former_tokens = sub_former.strip().split(' ')\n",
    "        sub_former_strings = []\n",
    "        for i in range(len(sub_former_tokens)-3):\n",
    "            sub_former_strings.append(\" \".join(sub_former_tokens[i: i+4]))\n",
    "        sub_former_strings.append(sub_former)\n",
    "        for item in sub_former_strings:\n",
    "            if item in epi:\n",
    "                sub_ids.append(sub_id_former)\n",
    "                break\n",
    "\n",
    "\n",
    "        sub_latter = transformation(en_subset[sub_id_latter])\n",
    "        sub_latter_tokens = sub_latter.strip().split(' ')\n",
    "        sub_latter_strings = []\n",
    "        for i in range(len(sub_latter_tokens)-3):\n",
    "            sub_latter_strings.append(\" \".join(sub_latter_tokens[i: i+4]))\n",
    "        sub_latter_strings.append(sub_latter)\n",
    "        for item in sub_latter_strings:\n",
    "            if item in epi:\n",
    "                sub_ids.append(sub_id_latter)\n",
    "                break\n",
    "\n",
    "        temp[epi_id] = sorted(sub_ids)\n",
    "    return temp"
   ],
   "metadata": {
    "collapsed": false,
    "pycharm": {
     "name": "#%%\n"
    }
   }
  },
  {
   "cell_type": "code",
   "execution_count": null,
   "outputs": [],
   "source": [
    "\"\"\"\n",
    "Extend the former episode and latter episode near the substitle\n",
    "\"\"\"\n",
    "def extend_episodes_to_subtitle_sliding_window(en_subset, epi2sub_alignment_2, episode):\n",
    "    temp = {}\n",
    "    sub2epi = turn_sub2epi_into_epi2sub(epi2sub_alignment_2)\n",
    "\n",
    "    for sub_id in sub2epi:\n",
    "        sub = transformation(en_subset[sub_id])\n",
    "\n",
    "        # Check whether the epi nearby is in the subtitle\n",
    "        epi_id_former = min(sub2epi[sub_id])-1\n",
    "        epi_former = transformation(episode[epi_id_former][0])\n",
    "        epi_former_tokens = epi_former.strip().split(' ')\n",
    "        epi_former_strings = []\n",
    "        for i in range(len(epi_former_tokens)-3):\n",
    "            epi_former_strings.append(\" \".join(epi_former_tokens[i: i+4]))\n",
    "        epi_former_strings.append(epi_former)\n",
    "        for item in epi_former_strings:\n",
    "            if item in sub:\n",
    "                epi_ids.append(epi_id_former)\n",
    "                break\n",
    "\n",
    "\n",
    "        epi_id_latter = max(sub2epi[sub_id])+1\n",
    "        epi_latter = transformation(episode[epi_id_latter][0])\n",
    "        epi_latter_tokens = epi_latter.strip().split(' ')\n",
    "        epi_latter_strings = []\n",
    "        for i in range(len(epi_latter_tokens)-3):\n",
    "            epi_latter_strings.append(\" \".join(epi_latter_tokens[i: i+4]))\n",
    "        epi_latter_strings.append(epi_latter)\n",
    "        for item in epi_latter_strings:\n",
    "            if item in sub:\n",
    "                epi_ids.append(epi_id_latter)\n",
    "                break\n",
    "        print(epi_former_strings)\n",
    "        print(epi_latter_strings)\n",
    "        print(sub)\n",
    "        print('=='*50)\n",
    "        temp[sub_id] = sorted(epi_ids)\n",
    "    return temp"
   ],
   "metadata": {
    "collapsed": false,
    "pycharm": {
     "name": "#%%\n"
    }
   }
  },
  {
   "cell_type": "code",
   "execution_count": null,
   "outputs": [],
   "source": [
    "# Load Data\n",
    "(en_subset, zh_subset, tbbt_episode) = fetch_subsets(\n",
    "        episode=tbbt_transcripts,\n",
    "        en_subtitle=en_subtitle,\n",
    "        zh_subtitle=zh_subtitle,\n",
    "        results=results,\n",
    "        season_id=1,\n",
    "        episode_id=1,\n",
    "        bias=200\n",
    "    )\n",
    "epi2sub = alignment_seeds[(1,1)]\n",
    "print(epi2sub)\n",
    "print(len(epi2sub), len(turn_sub2epi_into_epi2sub(epi2sub)))"
   ],
   "metadata": {
    "collapsed": false,
    "pycharm": {
     "name": "#%%\n"
    }
   }
  },
  {
   "cell_type": "code",
   "execution_count": null,
   "outputs": [],
   "source": [
    "\"\"\"\n",
    "Extend the former subtitle and latter subtitle near the episode\n",
    "\"\"\"\n",
    "def extend_neighbors_episode_sliding(en_subset, epi2sub, tbbt_episode):\n",
    "    # Gather the gap of subtitle corresponding to episode utterance\n",
    "    epi_keys = sorted(list(epi2sub.keys()))\n",
    "    sub_keys = sorted(list(turn_sub2epi_into_epi2sub(epi2sub).keys()))\n",
    "\n",
    "    subtitle_gaps = {}\n",
    "    for i in range(len(epi_keys)-1):\n",
    "        epi_start = epi_keys[i]\n",
    "        epi_end = epi_keys[i+1]\n",
    "        key = (epi_start, epi_end)\n",
    "        if max(epi2sub[epi_start])+1<min(epi2sub[epi_end]):\n",
    "            subtitle_gaps[(epi_start, epi_end)] = [item for item in range(max(epi2sub[epi_start])+1, min(epi2sub[epi_end]))]\n",
    "\n",
    "    # Check whether the subtitle could be merged into utterances using sliding window\n",
    "    for start_epi_id, end_epi_id in subtitle_gaps:\n",
    "        start_epi = transformation(tbbt_episode[start_epi_id][0].replace(\"’\", \" \"))\n",
    "        end_epi = transformation(tbbt_episode[end_epi_id][0].replace(\"’\", \" \"))\n",
    "        # print(start_epi_id, start_epi)\n",
    "        # print(end_epi_id, end_epi)\n",
    "        # print('--')\n",
    "\n",
    "        for sub_id in subtitle_gaps[(start_epi_id, end_epi_id)]:\n",
    "            sub = transformation(en_subset[sub_id])\n",
    "            sub_substrings = get_sliding_window_substrings(sub, 6)\n",
    "            sub_substrings.append(sub)\n",
    "            # print(sub_id, sub)\n",
    "            # print(sub_substrings)\n",
    "            temp_start = [substring in start_epi for substring in sub_substrings]\n",
    "            signal_start = True in temp_start\n",
    "            temp_end = [substring in end_epi for substring in sub_substrings]\n",
    "            signal_end = True in temp_end\n",
    "            # print(temp_start, signal_start)\n",
    "            # print(temp_end, signal_end)\n",
    "            if signal_start==True and signal_end==True:\n",
    "                print(start_epi_id, start_epi)\n",
    "                print(end_epi_id, end_epi)\n",
    "                print(sub, \"|\", signal_start, \"|\", signal_end)\n",
    "            # print('--')\n",
    "\n",
    "        print('=='*50)\n",
    "\n",
    "extend_neighbors_episode_sliding(en_subset, epi2sub, tbbt_episode)"
   ],
   "metadata": {
    "collapsed": false,
    "pycharm": {
     "name": "#%%\n"
    }
   }
  },
  {
   "cell_type": "code",
   "execution_count": null,
   "outputs": [],
   "source": [
    "# Gather the gap of subtitle corresponding to episode utterance\n",
    "epi_keys = sorted(list(epi2sub.keys()))\n",
    "sub_keys = sorted(list(turn_sub2epi_into_epi2sub(epi2sub).keys()))\n",
    "\n",
    "subtitle_gaps = {}\n",
    "for i in range(len(epi_keys)-1):\n",
    "    epi_start = epi_keys[i]\n",
    "    epi_end = epi_keys[i+1]\n",
    "    key = (epi_start, epi_end)\n",
    "    if max(epi2sub[epi_start])+1<min(epi2sub[epi_end]):\n",
    "        subtitle_gaps[(epi_start, epi_end)] = [item for item in range(max(epi2sub[epi_start])+1, min(epi2sub[epi_end]))]\n",
    "\n",
    "\n",
    "# Check whether the subtitle could be merged into utterances using sliding window\n",
    "for start_epi_id, end_epi_id in subtitle_gaps:\n",
    "    start_epi = transformation(tbbt_episode[start_epi_id][0].replace(\"’\", \" \"))\n",
    "    end_epi = transformation(tbbt_episode[end_epi_id][0].replace(\"’\", \" \"))\n",
    "    print(start_epi_id, start_epi)\n",
    "    print(end_epi_id, end_epi)\n",
    "    print('--')\n",
    "\n",
    "    for sub_id in subtitle_gaps[(start_epi_id, end_epi_id)]:\n",
    "        sub = transformation(en_subset[sub_id])\n",
    "        sub_substrings = get_sliding_window_substrings(sub, 4)\n",
    "        sub_substrings.append(sub)\n",
    "        print(sub_id, sub)\n",
    "        print(sub_substrings)\n",
    "        temp_start = [substring in start_epi for substring in sub_substrings]\n",
    "        temp_end = [substring in end_epi for substring in sub_substrings]\n",
    "        print(temp_start)\n",
    "        print(temp_end)\n",
    "        print('--')\n",
    "\n",
    "    print('=='*50)"
   ],
   "metadata": {
    "collapsed": false,
    "pycharm": {
     "name": "#%%\n"
    }
   }
  },
  {
   "cell_type": "code",
   "execution_count": null,
   "outputs": [],
   "source": [
    "input_string = transformation(\"One across is Aegean\")\n",
    "substrings = get_sliding_window_substrings(input_string, 7)\n",
    "print(substrings)"
   ],
   "metadata": {
    "collapsed": false,
    "pycharm": {
     "name": "#%%\n"
    }
   }
  },
  {
   "cell_type": "code",
   "execution_count": null,
   "outputs": [],
   "source": [],
   "metadata": {
    "collapsed": false,
    "pycharm": {
     "name": "#%%\n"
    }
   }
  },
  {
   "cell_type": "code",
   "execution_count": null,
   "outputs": [],
   "source": [],
   "metadata": {
    "collapsed": false,
    "pycharm": {
     "name": "#%%\n"
    }
   }
  },
  {
   "cell_type": "code",
   "execution_count": null,
   "outputs": [],
   "source": [],
   "metadata": {
    "collapsed": false,
    "pycharm": {
     "name": "#%%\n"
    }
   }
  },
  {
   "cell_type": "code",
   "execution_count": null,
   "outputs": [],
   "source": [],
   "metadata": {
    "collapsed": false,
    "pycharm": {
     "name": "#%%\n"
    }
   }
  },
  {
   "cell_type": "code",
   "execution_count": null,
   "outputs": [],
   "source": [
    "# Gather the gap of subtitle corresponding to episode utterance\n",
    "epi_keys = sorted(list(epi2sub.keys()))\n",
    "sub_keys = sorted(list(turn_sub2epi_into_epi2sub(epi2sub).keys()))\n",
    "\n",
    "subtitle_gaps = {}\n",
    "for i in range(len(epi_keys)-1):\n",
    "    epi_start = epi_keys[i]\n",
    "    epi_end = epi_keys[i+1]\n",
    "    print(epi_start, epi2sub[epi_start])\n",
    "    print(epi_end, epi2sub[epi_end])\n",
    "    key = (epi_start, epi_end)\n",
    "    if max(epi2sub[epi_start])+1<min(epi2sub[epi_end]):\n",
    "        # value = (max(epi2sub[epi_start])+1, min(epi2sub[epi_end])-1)\n",
    "        value = [item for item in range(max(epi2sub[epi_start])+1, min(epi2sub[epi_end]))]\n",
    "        print(key, value)\n",
    "    else:\n",
    "        print(\"False\")\n",
    "    print()"
   ],
   "metadata": {
    "collapsed": false,
    "pycharm": {
     "name": "#%%\n"
    }
   }
  },
  {
   "cell_type": "code",
   "execution_count": null,
   "outputs": [],
   "source": [],
   "metadata": {
    "collapsed": false,
    "pycharm": {
     "name": "#%%\n"
    }
   }
  },
  {
   "cell_type": "code",
   "execution_count": null,
   "outputs": [],
   "source": [],
   "metadata": {
    "collapsed": false,
    "pycharm": {
     "name": "#%%\n"
    }
   }
  },
  {
   "cell_type": "code",
   "execution_count": null,
   "outputs": [],
   "source": [],
   "metadata": {
    "collapsed": false,
    "pycharm": {
     "name": "#%%\n"
    }
   }
  },
  {
   "cell_type": "code",
   "execution_count": null,
   "outputs": [],
   "source": [],
   "metadata": {
    "collapsed": false,
    "pycharm": {
     "name": "#%%\n"
    }
   }
  },
  {
   "cell_type": "code",
   "execution_count": null,
   "outputs": [],
   "source": [
    "# Gather the gap of subtitle corresponding to episode utterance\n",
    "epi_keys = sorted(list(epi2sub.keys()))\n",
    "sub_keys = sorted(list(turn_sub2epi_into_epi2sub(epi2sub).keys()))\n",
    "start = min(epi2sub[epi_keys[0]])\n",
    "end = max(epi2sub[epi_keys[-1]])\n",
    "for j in range(start, end+1):\n",
    "    print(j)"
   ],
   "metadata": {
    "collapsed": false,
    "pycharm": {
     "name": "#%%\n"
    }
   }
  },
  {
   "cell_type": "code",
   "execution_count": null,
   "outputs": [],
   "source": [
    "print(start, end)\n",
    "print(epi_keys)\n",
    "print(sub_keys)"
   ],
   "metadata": {
    "collapsed": false,
    "pycharm": {
     "name": "#%%\n"
    }
   }
  },
  {
   "cell_type": "code",
   "execution_count": null,
   "outputs": [],
   "source": [
    "# Extend the neighbor subtitles to episode utterance\n"
   ],
   "metadata": {
    "collapsed": false,
    "pycharm": {
     "name": "#%%\n"
    }
   }
  },
  {
   "cell_type": "code",
   "execution_count": null,
   "outputs": [],
   "source": [],
   "metadata": {
    "collapsed": false,
    "pycharm": {
     "name": "#%%\n"
    }
   }
  },
  {
   "cell_type": "code",
   "execution_count": null,
   "outputs": [],
   "source": [],
   "metadata": {
    "collapsed": false,
    "pycharm": {
     "name": "#%%\n"
    }
   }
  },
  {
   "cell_type": "code",
   "execution_count": null,
   "outputs": [],
   "source": [],
   "metadata": {
    "collapsed": false,
    "pycharm": {
     "name": "#%%\n"
    }
   }
  },
  {
   "cell_type": "code",
   "execution_count": null,
   "outputs": [],
   "source": [],
   "metadata": {
    "collapsed": false,
    "pycharm": {
     "name": "#%%\n"
    }
   }
  },
  {
   "cell_type": "code",
   "execution_count": null,
   "outputs": [],
   "source": [],
   "metadata": {
    "collapsed": false,
    "pycharm": {
     "name": "#%%\n"
    }
   }
  },
  {
   "cell_type": "code",
   "execution_count": null,
   "outputs": [],
   "source": [],
   "metadata": {
    "collapsed": false,
    "pycharm": {
     "name": "#%%\n"
    }
   }
  },
  {
   "cell_type": "code",
   "execution_count": null,
   "outputs": [],
   "source": [],
   "metadata": {
    "collapsed": false,
    "pycharm": {
     "name": "#%%\n"
    }
   }
  },
  {
   "cell_type": "code",
   "execution_count": null,
   "outputs": [],
   "source": [],
   "metadata": {
    "collapsed": false,
    "pycharm": {
     "name": "#%%\n"
    }
   }
  },
  {
   "cell_type": "code",
   "execution_count": null,
   "outputs": [],
   "source": [],
   "metadata": {
    "collapsed": false,
    "pycharm": {
     "name": "#%%\n"
    }
   }
  },
  {
   "cell_type": "code",
   "execution_count": null,
   "outputs": [],
   "source": [],
   "metadata": {
    "collapsed": false,
    "pycharm": {
     "name": "#%%\n"
    }
   }
  },
  {
   "cell_type": "code",
   "execution_count": null,
   "outputs": [],
   "source": [
    "epi2sub = extend_neighbors_sliding(en_subset, epi2sub, tbbt_episode)\n",
    "epi2sub = extend_neighbors_sliding(en_subset, epi2sub, tbbt_episode)\n",
    "epi2sub = extend_neighbors_sliding(en_subset, epi2sub, tbbt_episode)\n",
    "epi2sub = extend_neighbors_sliding(en_subset, epi2sub, tbbt_episode)\n",
    "print(epi2sub)\n",
    "print(len(epi2sub), len(turn_sub2epi_into_epi2sub(epi2sub)))"
   ],
   "metadata": {
    "collapsed": false,
    "pycharm": {
     "name": "#%%\n"
    }
   }
  },
  {
   "cell_type": "code",
   "execution_count": null,
   "outputs": [],
   "source": [
    "# Add within the gap\n",
    "gaps, abandons = get_subset_in_gaps(epi2sub)\n",
    "epi2sub = add_one_size_gap(gaps, epi2sub)\n",
    "print(epi2sub)\n",
    "print(len(epi2sub), len(turn_sub2epi_into_epi2sub(epi2sub)))"
   ],
   "metadata": {
    "collapsed": false,
    "pycharm": {
     "name": "#%%\n"
    }
   }
  },
  {
   "cell_type": "code",
   "execution_count": null,
   "outputs": [],
   "source": [
    "for x in gaps:\n",
    "    print(x)"
   ],
   "metadata": {
    "collapsed": false,
    "pycharm": {
     "name": "#%%\n"
    }
   }
  },
  {
   "cell_type": "code",
   "execution_count": null,
   "outputs": [],
   "source": [
    "count = 0\n",
    "for gap in gaps:\n",
    "    sub_ids = gap[1]\n",
    "    epi_ids = gap[0]\n",
    "    if not(len(sub_ids)==1 and len(epi_ids)==1):\n",
    "        continue\n",
    "    print(sub_ids, epi_ids)\n",
    "    print(\"Episode:\")\n",
    "    for epi_id in epi_ids:\n",
    "        print(len(transformation(tbbt_episode[epi_id][0]).strip().split(' ')), tbbt_episode[epi_id][0])\n",
    "\n",
    "    print()\n",
    "    print(\"Subtitle:\")\n",
    "    for sub_id in sub_ids:\n",
    "        print(len(transformation(en_subset[sub_id]).strip().split(' ')), en_subset[sub_id])\n",
    "\n",
    "    # if len(transformation(en_subset[sub_id]).strip().split(' '))==len(transformation(tbbt_episode[epi_id][0]).strip().split(' ')):\n",
    "    #     count += 1\n",
    "    count += 1\n",
    "    print('=='*50)"
   ],
   "metadata": {
    "collapsed": false,
    "pycharm": {
     "name": "#%%\n"
    }
   }
  },
  {
   "cell_type": "code",
   "execution_count": null,
   "outputs": [],
   "source": [],
   "metadata": {
    "collapsed": false,
    "pycharm": {
     "name": "#%%\n"
    }
   }
  },
  {
   "cell_type": "code",
   "execution_count": null,
   "outputs": [],
   "source": [],
   "metadata": {
    "collapsed": false,
    "pycharm": {
     "name": "#%%\n"
    }
   }
  },
  {
   "cell_type": "code",
   "execution_count": null,
   "outputs": [],
   "source": [],
   "metadata": {
    "collapsed": false,
    "pycharm": {
     "name": "#%%\n"
    }
   }
  },
  {
   "cell_type": "code",
   "execution_count": null,
   "outputs": [],
   "source": [],
   "metadata": {
    "collapsed": false,
    "pycharm": {
     "name": "#%%\n"
    }
   }
  },
  {
   "cell_type": "code",
   "execution_count": null,
   "outputs": [],
   "source": [],
   "metadata": {
    "collapsed": false,
    "pycharm": {
     "name": "#%%\n"
    }
   }
  },
  {
   "cell_type": "code",
   "execution_count": null,
   "outputs": [],
   "source": [
    "epi2sub = extend_neighbors_sliding(en_subset, epi2sub, tbbt_episode)\n",
    "epi2sub = extend_neighbors_sliding(en_subset, epi2sub, tbbt_episode)\n",
    "epi2sub = extend_neighbors_sliding(en_subset, epi2sub, tbbt_episode)\n",
    "epi2sub = extend_neighbors_sliding(en_subset, epi2sub, tbbt_episode)\n",
    "print(epi2sub)\n",
    "print(len(epi2sub), len(turn_sub2epi_into_epi2sub(epi2sub)))"
   ],
   "metadata": {
    "collapsed": false,
    "pycharm": {
     "name": "#%%\n"
    }
   }
  },
  {
   "cell_type": "code",
   "execution_count": null,
   "outputs": [],
   "source": [],
   "metadata": {
    "collapsed": false,
    "pycharm": {
     "name": "#%%\n"
    }
   }
  },
  {
   "cell_type": "code",
   "execution_count": null,
   "outputs": [],
   "source": [],
   "metadata": {
    "collapsed": false,
    "pycharm": {
     "name": "#%%\n"
    }
   }
  },
  {
   "cell_type": "code",
   "execution_count": null,
   "outputs": [],
   "source": [],
   "metadata": {
    "collapsed": false,
    "pycharm": {
     "name": "#%%\n"
    }
   }
  },
  {
   "cell_type": "code",
   "execution_count": null,
   "outputs": [],
   "source": [],
   "metadata": {
    "collapsed": false,
    "pycharm": {
     "name": "#%%\n"
    }
   }
  },
  {
   "cell_type": "code",
   "execution_count": null,
   "outputs": [],
   "source": [],
   "metadata": {
    "collapsed": false,
    "pycharm": {
     "name": "#%%\n"
    }
   }
  },
  {
   "cell_type": "code",
   "execution_count": null,
   "outputs": [],
   "source": [],
   "metadata": {
    "collapsed": false,
    "pycharm": {
     "name": "#%%\n"
    }
   }
  },
  {
   "cell_type": "code",
   "execution_count": null,
   "outputs": [],
   "source": [],
   "metadata": {
    "collapsed": false,
    "pycharm": {
     "name": "#%%\n"
    }
   }
  },
  {
   "cell_type": "code",
   "execution_count": null,
   "outputs": [],
   "source": [],
   "metadata": {
    "collapsed": false,
    "pycharm": {
     "name": "#%%\n"
    }
   }
  },
  {
   "cell_type": "code",
   "execution_count": null,
   "outputs": [],
   "source": [],
   "metadata": {
    "collapsed": false,
    "pycharm": {
     "name": "#%%\n"
    }
   }
  },
  {
   "cell_type": "code",
   "execution_count": null,
   "outputs": [],
   "source": [],
   "metadata": {
    "collapsed": false,
    "pycharm": {
     "name": "#%%\n"
    }
   }
  },
  {
   "cell_type": "code",
   "execution_count": null,
   "outputs": [],
   "source": [],
   "metadata": {
    "collapsed": false,
    "pycharm": {
     "name": "#%%\n"
    }
   }
  },
  {
   "cell_type": "code",
   "execution_count": null,
   "outputs": [],
   "source": [],
   "metadata": {
    "collapsed": false,
    "pycharm": {
     "name": "#%%\n"
    }
   }
  },
  {
   "cell_type": "code",
   "execution_count": null,
   "outputs": [],
   "source": [],
   "metadata": {
    "collapsed": false,
    "pycharm": {
     "name": "#%%\n"
    }
   }
  },
  {
   "cell_type": "code",
   "execution_count": null,
   "outputs": [],
   "source": [],
   "metadata": {
    "collapsed": false,
    "pycharm": {
     "name": "#%%\n"
    }
   }
  },
  {
   "cell_type": "code",
   "execution_count": null,
   "outputs": [],
   "source": [],
   "metadata": {
    "collapsed": false,
    "pycharm": {
     "name": "#%%\n"
    }
   }
  },
  {
   "cell_type": "code",
   "execution_count": null,
   "outputs": [],
   "source": [],
   "metadata": {
    "collapsed": false,
    "pycharm": {
     "name": "#%%\n"
    }
   }
  },
  {
   "cell_type": "code",
   "execution_count": null,
   "outputs": [],
   "source": [],
   "metadata": {
    "collapsed": false,
    "pycharm": {
     "name": "#%%\n"
    }
   }
  },
  {
   "cell_type": "code",
   "execution_count": null,
   "outputs": [],
   "source": [],
   "metadata": {
    "collapsed": false,
    "pycharm": {
     "name": "#%%\n"
    }
   }
  },
  {
   "cell_type": "code",
   "execution_count": null,
   "outputs": [],
   "source": [],
   "metadata": {
    "collapsed": false,
    "pycharm": {
     "name": "#%%\n"
    }
   }
  },
  {
   "cell_type": "code",
   "execution_count": null,
   "outputs": [],
   "source": [],
   "metadata": {
    "collapsed": false,
    "pycharm": {
     "name": "#%%\n"
    }
   }
  },
  {
   "cell_type": "code",
   "execution_count": null,
   "outputs": [],
   "source": [],
   "metadata": {
    "collapsed": false,
    "pycharm": {
     "name": "#%%\n"
    }
   }
  },
  {
   "cell_type": "code",
   "execution_count": null,
   "outputs": [],
   "source": [],
   "metadata": {
    "collapsed": false,
    "pycharm": {
     "name": "#%%\n"
    }
   }
  },
  {
   "cell_type": "code",
   "execution_count": null,
   "outputs": [],
   "source": [],
   "metadata": {
    "collapsed": false,
    "pycharm": {
     "name": "#%%\n"
    }
   }
  },
  {
   "cell_type": "code",
   "execution_count": null,
   "outputs": [],
   "source": [],
   "metadata": {
    "collapsed": false,
    "pycharm": {
     "name": "#%%\n"
    }
   }
  },
  {
   "cell_type": "code",
   "execution_count": null,
   "outputs": [],
   "source": [],
   "metadata": {
    "collapsed": false,
    "pycharm": {
     "name": "#%%\n"
    }
   }
  },
  {
   "cell_type": "code",
   "execution_count": 367,
   "outputs": [
    {
     "name": "stdout",
     "output_type": "stream",
     "text": [
      "[235] [23]\n",
      "Episode:\n",
      "12  I don’t know, I’ve never reneged on a proffer of sperm before.\n",
      "\n",
      "Subtitle:\n",
      "10 I've never reneged on a proffer of sperm before.\n",
      "====================================================================================================\n",
      "[241] [31]\n",
      "Episode:\n",
      "2  Not really.\n",
      "\n",
      "Subtitle:\n",
      "2 Not really.\n",
      "====================================================================================================\n",
      "[287] [83]\n",
      "Episode:\n",
      "25  Leonard, I’m not expert here but I believe in the context of a luncheon invitation, you might want to skip the reference to bowel movements.\n",
      "\n",
      "Subtitle:\n",
      "21 I'm no expert, but in the context of a lunch invitation you might wanna skip the reference to bowel movements.\n",
      "====================================================================================================\n",
      "[298] [98]\n",
      "Episode:\n",
      "1  Yeah. \n",
      "\n",
      "Subtitle:\n",
      "1 Yeah.\n",
      "====================================================================================================\n",
      "[324] [125]\n",
      "Episode:\n",
      "4  Yes I now, but…\n",
      "\n",
      "Subtitle:\n",
      "3 Yes, I know.\n",
      "====================================================================================================\n",
      "[385] [172]\n",
      "Episode:\n",
      "2  How so?\n",
      "\n",
      "Subtitle:\n",
      "3 LEONARD: How so?\n",
      "====================================================================================================\n",
      "[407] [191]\n",
      "Episode:\n",
      "2  See what?\n",
      "\n",
      "Subtitle:\n",
      "2 See what?\n",
      "====================================================================================================\n",
      "[410] [194]\n",
      "Episode:\n",
      "8  It’s before he became a creepy computer voice:.\n",
      "\n",
      "Subtitle:\n",
      "12 [IMITATING COMPUTERIZED VOICE] It's before he became a creepy computer voice.\n",
      "====================================================================================================\n",
      "[418] [202]\n",
      "Episode:\n",
      "1  Uh-huh.\n",
      "\n",
      "Subtitle:\n",
      "1 - Uh-huh.\n",
      "====================================================================================================\n",
      "[451] [229]\n",
      "Episode:\n",
      "2  Must we?\n",
      "\n",
      "Subtitle:\n",
      "2 - Must we?\n",
      "====================================================================================================\n",
      "[459] [233]\n",
      "Episode:\n",
      "2  Which is?\n",
      "\n",
      "Subtitle:\n",
      "2 - Which is?\n",
      "====================================================================================================\n",
      "[482] [251]\n",
      "Episode:\n",
      "1  Yeah.\n",
      "\n",
      "Subtitle:\n",
      "2 MAN: Yeah?\n",
      "====================================================================================================\n",
      "[486] [255]\n",
      "Episode:\n",
      "2  Get lost.\n",
      "\n",
      "Subtitle:\n",
      "2 - Get lost.\n",
      "====================================================================================================\n",
      "[528] [292]\n",
      "Episode:\n",
      "1  Smooth.\n",
      "\n",
      "Subtitle:\n",
      "1 Smooth.\n",
      "====================================================================================================\n",
      "[547] [308]\n",
      "Episode:\n",
      "1  So?\n",
      "\n",
      "Subtitle:\n",
      "5 - It would be gastronomically redundant.\n",
      "====================================================================================================\n"
     ]
    }
   ],
   "source": [
    "count = 0\n",
    "for gap in gaps:\n",
    "    sub_ids = gap[1]\n",
    "    epi_ids = gap[0]\n",
    "    if not(len(sub_ids)==1 and len(epi_ids)==1):\n",
    "        continue\n",
    "    print(sub_ids, epi_ids)\n",
    "    print(\"Episode:\")\n",
    "    for epi_id in epi_ids:\n",
    "        print(len(transformation(tbbt_episode[epi_id][0]).strip().split(' ')), tbbt_episode[epi_id][0])\n",
    "\n",
    "    print()\n",
    "    print(\"Subtitle:\")\n",
    "    for sub_id in sub_ids:\n",
    "        print(len(transformation(en_subset[sub_id]).strip().split(' ')), en_subset[sub_id])\n",
    "\n",
    "    # if len(transformation(en_subset[sub_id]).strip().split(' '))==len(transformation(tbbt_episode[epi_id][0]).strip().split(' ')):\n",
    "    #     count += 1\n",
    "    count += 1\n",
    "    print('=='*50)"
   ],
   "metadata": {
    "collapsed": false,
    "pycharm": {
     "name": "#%%\n"
    }
   }
  },
  {
   "cell_type": "code",
   "execution_count": null,
   "outputs": [],
   "source": [],
   "metadata": {
    "collapsed": false,
    "pycharm": {
     "name": "#%%\n"
    }
   }
  },
  {
   "cell_type": "code",
   "execution_count": null,
   "outputs": [],
   "source": [],
   "metadata": {
    "collapsed": false,
    "pycharm": {
     "name": "#%%\n"
    }
   }
  },
  {
   "cell_type": "code",
   "execution_count": null,
   "outputs": [],
   "source": [],
   "metadata": {
    "collapsed": false,
    "pycharm": {
     "name": "#%%\n"
    }
   }
  },
  {
   "cell_type": "code",
   "execution_count": null,
   "outputs": [],
   "source": [],
   "metadata": {
    "collapsed": false,
    "pycharm": {
     "name": "#%%\n"
    }
   }
  },
  {
   "cell_type": "code",
   "execution_count": null,
   "outputs": [],
   "source": [],
   "metadata": {
    "collapsed": false,
    "pycharm": {
     "name": "#%%\n"
    }
   }
  },
  {
   "cell_type": "code",
   "execution_count": 503,
   "outputs": [
    {
     "name": "stdout",
     "output_type": "stream",
     "text": [
      "{(1, 2): {168: [2], 169: [3], 170: [4], 171: [5], 172: [6], 173: [7], 174: [7], 175: [8], 176: [9], 177: [9], 178: [11], 179: [12], 180: [14], 181: [15], 182: [16], 183: [17], 184: [17], 185: [18], 186: [19], 187: [20], 188: [20], 190: [22], 191: [22], 192: [24], 193: [25], 194: [26], 195: [27], 196: [28], 200: [31], 201: [32], 202: [33], 204: [35], 205: [36], 206: [36], 208: [39], 209: [40], 210: [40], 211: [41], 212: [42], 213: [42], 214: [42], 215: [44], 216: [45], 217: [46], 218: [46], 219: [46], 220: [46], 221: [47], 222: [48], 223: [48], 224: [48], 225: [48], 226: [49], 231: [52], 232: [53], 233: [54], 234: [54], 235: [55], 236: [55], 237: [56], 240: [57], 241: [57], 242: [58], 243: [60], 245: [61], 246: [61], 250: [62], 251: [63], 252: [64], 253: [65], 254: [65], 255: [65], 260: [68], 263: [70], 264: [71], 265: [72], 266: [73], 267: [74], 268: [74], 273: [77], 274: [77], 278: [80, 81], 279: [80, 81], 280: [81], 282: [81], 283: [81], 284: [82], 285: [82], 287: [84], 288: [84], 289: [86], 290: [88], 291: [90], 292: [91], 293: [92], 294: [93], 295: [93], 296: [94], 297: [97], 298: [97, 98], 299: [97, 99], 300: [100], 303: [103], 305: [105], 306: [105], 307: [108], 310: [109], 311: [111, 112], 312: [112], 313: [113], 314: [114], 315: [115], 316: [116], 317: [117], 318: [118], 319: [118], 320: [119], 321: [119], 322: [120], 323: [121, 123], 324: [123], 325: [123], 327: [128], 329: [129], 330: [132], 331: [133], 332: [133], 334: [134], 335: [136], 336: [137], 338: [139], 339: [140], 340: [141, 142], 341: [141, 142], 342: [143], 343: [143], 344: [143], 345: [143], 346: [146], 347: [147], 348: [148], 351: [151], 353: [153], 354: [154], 355: [155], 356: [157], 357: [158], 358: [159], 363: [161], 364: [162], 365: [164], 366: [164], 367: [164], 368: [166], 370: [167], 371: [167], 372: [167], 373: [168], 374: [169], 376: [171], 377: [171], 378: [173], 379: [173], 380: [173], 381: [174], 382: [174], 383: [174], 384: [174], 385: [175], 386: [175], 387: [175], 388: [176], 390: [176], 391: [176], 392: [177], 393: [177], 394: [177], 395: [177], 397: [178], 398: [179], 399: [180], 400: [181], 402: [182], 403: [183], 404: [184], 405: [185], 406: [186], 408: [188], 409: [189], 410: [190], 411: [191], 412: [191], 413: [192], 414: [192], 415: [193], 416: [193], 417: [193], 418: [194], 419: [197], 421: [198], 422: [198], 423: [198], 424: [198], 426: [202], 427: [203], 428: [205], 429: [205], 430: [205], 431: [206], 432: [207], 433: [207], 434: [208], 435: [210], 436: [210], 437: [211], 440: [213], 441: [214], 442: [215], 445: [218], 446: [218], 447: [218], 448: [219], 452: [221], 455: [222], 456: [223], 458: [225], 460: [226], 467: [232]}}\n"
     ]
    }
   ],
   "source": [
    "print(alignment)"
   ],
   "metadata": {
    "collapsed": false,
    "pycharm": {
     "name": "#%%\n"
    }
   }
  },
  {
   "cell_type": "code",
   "execution_count": 312,
   "outputs": [],
   "source": [],
   "metadata": {
    "collapsed": false,
    "pycharm": {
     "name": "#%%\n"
    }
   }
  },
  {
   "cell_type": "code",
   "execution_count": 312,
   "outputs": [],
   "source": [],
   "metadata": {
    "collapsed": false,
    "pycharm": {
     "name": "#%%\n"
    }
   }
  },
  {
   "cell_type": "code",
   "execution_count": 312,
   "outputs": [],
   "source": [],
   "metadata": {
    "collapsed": false,
    "pycharm": {
     "name": "#%%\n"
    }
   }
  },
  {
   "cell_type": "code",
   "execution_count": null,
   "outputs": [],
   "source": [],
   "metadata": {
    "collapsed": false,
    "pycharm": {
     "name": "#%%\n"
    }
   }
  },
  {
   "cell_type": "code",
   "execution_count": null,
   "outputs": [],
   "source": [],
   "metadata": {
    "collapsed": false,
    "pycharm": {
     "name": "#%%\n"
    }
   }
  },
  {
   "cell_type": "code",
   "execution_count": null,
   "outputs": [],
   "source": [],
   "metadata": {
    "collapsed": false,
    "pycharm": {
     "name": "#%%\n"
    }
   }
  },
  {
   "cell_type": "code",
   "execution_count": null,
   "outputs": [],
   "source": [],
   "metadata": {
    "collapsed": false,
    "pycharm": {
     "name": "#%%\n"
    }
   }
  },
  {
   "cell_type": "code",
   "execution_count": null,
   "outputs": [],
   "source": [],
   "metadata": {
    "collapsed": false,
    "pycharm": {
     "name": "#%%\n"
    }
   }
  },
  {
   "cell_type": "code",
   "execution_count": null,
   "outputs": [],
   "source": [],
   "metadata": {
    "collapsed": false,
    "pycharm": {
     "name": "#%%\n"
    }
   }
  },
  {
   "cell_type": "code",
   "execution_count": null,
   "outputs": [],
   "source": [],
   "metadata": {
    "collapsed": false,
    "pycharm": {
     "name": "#%%\n"
    }
   }
  },
  {
   "cell_type": "code",
   "execution_count": null,
   "outputs": [],
   "source": [],
   "metadata": {
    "collapsed": false,
    "pycharm": {
     "name": "#%%\n"
    }
   }
  },
  {
   "cell_type": "code",
   "execution_count": null,
   "outputs": [],
   "source": [],
   "metadata": {
    "collapsed": false,
    "pycharm": {
     "name": "#%%\n"
    }
   }
  },
  {
   "cell_type": "code",
   "execution_count": null,
   "outputs": [],
   "source": [],
   "metadata": {
    "collapsed": false,
    "pycharm": {
     "name": "#%%\n"
    }
   }
  },
  {
   "cell_type": "code",
   "execution_count": null,
   "outputs": [],
   "source": [],
   "metadata": {
    "collapsed": false,
    "pycharm": {
     "name": "#%%\n"
    }
   }
  },
  {
   "cell_type": "code",
   "execution_count": null,
   "outputs": [],
   "source": [],
   "metadata": {
    "collapsed": false,
    "pycharm": {
     "name": "#%%\n"
    }
   }
  },
  {
   "cell_type": "code",
   "execution_count": null,
   "outputs": [],
   "source": [],
   "metadata": {
    "collapsed": false,
    "pycharm": {
     "name": "#%%\n"
    }
   }
  },
  {
   "cell_type": "code",
   "execution_count": null,
   "outputs": [],
   "source": [],
   "metadata": {
    "collapsed": false,
    "pycharm": {
     "name": "#%%\n"
    }
   }
  },
  {
   "cell_type": "code",
   "execution_count": null,
   "outputs": [],
   "source": [],
   "metadata": {
    "collapsed": false,
    "pycharm": {
     "name": "#%%\n"
    }
   }
  },
  {
   "cell_type": "code",
   "execution_count": null,
   "outputs": [],
   "source": [],
   "metadata": {
    "collapsed": false,
    "pycharm": {
     "name": "#%%\n"
    }
   }
  },
  {
   "cell_type": "code",
   "execution_count": null,
   "outputs": [],
   "source": [],
   "metadata": {
    "collapsed": false,
    "pycharm": {
     "name": "#%%\n"
    }
   }
  },
  {
   "cell_type": "code",
   "execution_count": 17,
   "outputs": [],
   "source": [
    "def temp_string_match_sliding_window(en_subset, episode, window_size=5):\n",
    "    res = {}\n",
    "    for i, subtitle in enumerate(en_subset):\n",
    "        subtitle = transformation(subtitle)\n",
    "        subtitle_tokens = subtitle.strip().split(\" \")\n",
    "        if len(subtitle_tokens) < window_size:\n",
    "            continue\n",
    "\n",
    "        subtitle_segments = []\n",
    "        for j in range(len(subtitle_tokens) - window_size):\n",
    "            subtitle_segments.append(\" \".join(subtitle_tokens[j: j + window_size]))\n",
    "            # print(\" \".join(subtitle_tokens[j: j+5]))\n",
    "\n",
    "        for j, (utt, speaker) in enumerate(episode):\n",
    "            utt = transformation(utt)\n",
    "            for sub_seg in subtitle_segments:\n",
    "                if sub_seg in utt:\n",
    "                    if i not in res:\n",
    "                        res[i] = set()\n",
    "                        res[i].add(j)\n",
    "                    else:\n",
    "                        res[i].add(j)\n",
    "\n",
    "    temp = filter_alignment_by_gap(res)\n",
    "\n",
    "    final = {}\n",
    "    for x in temp:\n",
    "        if len(temp[x])==1:\n",
    "            final[x] = temp[x]\n",
    "\n",
    "    return final"
   ],
   "metadata": {
    "collapsed": false,
    "pycharm": {
     "name": "#%%\n"
    }
   }
  },
  {
   "cell_type": "code",
   "execution_count": 24,
   "outputs": [],
   "source": [
    "def temp_string_match_sliding_window_no_filter(en_subset, episode, window_size=5):\n",
    "    res = {}\n",
    "    for i, subtitle in enumerate(en_subset):\n",
    "        subtitle = transformation(subtitle)\n",
    "        subtitle_tokens = subtitle.strip().split(\" \")\n",
    "        if len(subtitle_tokens) < window_size:\n",
    "            continue\n",
    "\n",
    "        subtitle_segments = []\n",
    "        for j in range(len(subtitle_tokens) - window_size):\n",
    "            subtitle_segments.append(\" \".join(subtitle_tokens[j: j + window_size]))\n",
    "            # print(\" \".join(subtitle_tokens[j: j+5]))\n",
    "\n",
    "        for j, (utt, speaker) in enumerate(episode):\n",
    "            utt = transformation(utt)\n",
    "            for sub_seg in subtitle_segments:\n",
    "                if sub_seg in utt:\n",
    "                    if i not in res:\n",
    "                        res[i] = set()\n",
    "                        res[i].add(j)\n",
    "                    else:\n",
    "                        res[i].add(j)\n",
    "    return res"
   ],
   "metadata": {
    "collapsed": false,
    "pycharm": {
     "name": "#%%\n"
    }
   }
  },
  {
   "cell_type": "code",
   "execution_count": 15,
   "outputs": [],
   "source": [
    "# Check one episode and adapt to the new tbbt transcript corpus\n",
    "\n",
    "(en_subset, zh_subset, tbbt_episode) = fetch_subsets(\n",
    "        episode=tbbt_transcripts,\n",
    "        en_subtitle=en_subtitle,\n",
    "        zh_subtitle=zh_subtitle,\n",
    "        results=results,\n",
    "        season_id=1,\n",
    "        episode_id=3,\n",
    "        bias=200\n",
    "    )"
   ],
   "metadata": {
    "collapsed": false,
    "pycharm": {
     "name": "#%%\n"
    }
   }
  },
  {
   "cell_type": "code",
   "execution_count": 60,
   "outputs": [
    {
     "name": "stdout",
     "output_type": "stream",
     "text": [
      "155 120\n",
      "112 91\n",
      "81 68\n"
     ]
    }
   ],
   "source": [
    "# Firstly perform exact match\n",
    "sub2epi = temp_string_match_sliding_window_no_filter(en_subset, tbbt_episode, window_size=5)\n",
    "epi2sub = turn_sub2epi_into_epi2sub(sub2epi)\n",
    "print(len(sub2epi), len(epi2sub))\n",
    "\n",
    "sub2epi = temp_string_match_sliding_window_no_filter(en_subset, tbbt_episode, window_size=6)\n",
    "epi2sub = turn_sub2epi_into_epi2sub(sub2epi)\n",
    "print(len(sub2epi), len(epi2sub))\n",
    "\n",
    "sub2epi = temp_string_match_sliding_window_no_filter(en_subset, tbbt_episode, window_size=7)\n",
    "epi2sub = turn_sub2epi_into_epi2sub(sub2epi)\n",
    "print(len(sub2epi), len(epi2sub))"
   ],
   "metadata": {
    "collapsed": false,
    "pycharm": {
     "name": "#%%\n"
    }
   }
  },
  {
   "cell_type": "code",
   "execution_count": 58,
   "outputs": [
    {
     "name": "stdout",
     "output_type": "stream",
     "text": [
      "95 72\n",
      "6 5\n",
      "4 4\n"
     ]
    }
   ],
   "source": [
    "# Firstly perform exact match\n",
    "sub2epi = temp_string_match_sliding_window(en_subset, tbbt_episode, window_size=5)\n",
    "epi2sub = turn_sub2epi_into_epi2sub(sub2epi)\n",
    "print(len(sub2epi), len(epi2sub))\n",
    "\n",
    "sub2epi = temp_string_match_sliding_window(en_subset, tbbt_episode, window_size=6)\n",
    "epi2sub = turn_sub2epi_into_epi2sub(sub2epi)\n",
    "print(len(sub2epi), len(epi2sub))\n",
    "\n",
    "sub2epi = temp_string_match_sliding_window(en_subset, tbbt_episode, window_size=7)\n",
    "epi2sub = turn_sub2epi_into_epi2sub(sub2epi)\n",
    "print(len(sub2epi), len(epi2sub))"
   ],
   "metadata": {
    "collapsed": false,
    "pycharm": {
     "name": "#%%\n"
    }
   }
  },
  {
   "cell_type": "code",
   "execution_count": 42,
   "outputs": [
    {
     "name": "stdout",
     "output_type": "stream",
     "text": [
      "191 [2]\n",
      "192 [2]\n",
      "194 [5]\n",
      "196 [6]\n",
      "197 [7]\n",
      "208 [15]\n",
      "221 [26]\n",
      "227 [30]\n",
      "229 [31]\n",
      "231 [34]\n",
      "233 [36]\n",
      "236 [38]\n",
      "242 [42]\n",
      "245 [44]\n",
      "258 [53]\n",
      "260 [54]\n",
      "263 [57]\n",
      "264 [58]\n",
      "265 [58]\n",
      "267 [59]\n",
      "271 [62]\n",
      "274 [64]\n",
      "275 [65]\n",
      "279 [68]\n",
      "280 [68]\n",
      "284 [74, 72]\n",
      "286 [74, 72]\n",
      "287 [75]\n",
      "288 [76]\n",
      "289 [76]\n",
      "291 [78]\n",
      "293 [79]\n",
      "294 [80]\n",
      "295 [80]\n",
      "296 [80]\n",
      "297 [81]\n",
      "299 [83]\n",
      "304 [89]\n",
      "306 [91]\n",
      "307 [92]\n",
      "313 [98]\n",
      "314 [99]\n",
      "315 [100]\n",
      "317 [101]\n",
      "318 [102]\n",
      "320 [103]\n",
      "321 [105]\n",
      "327 [111]\n",
      "328 [112]\n",
      "329 [112]\n",
      "331 [113]\n",
      "334 [115]\n",
      "335 [115]\n",
      "344 [120]\n",
      "345 [120]\n",
      "347 [121]\n",
      "350 [123]\n",
      "351 [124]\n",
      "356 [127]\n",
      "358 [128]\n",
      "359 [128]\n",
      "365 [131]\n",
      "370 [134]\n",
      "372 [136]\n",
      "373 [136]\n",
      "374 [136]\n",
      "377 [138]\n",
      "379 [141]\n",
      "381 [143]\n",
      "383 [144]\n",
      "384 [144]\n",
      "386 [144]\n",
      "398 [158]\n",
      "400 [160]\n",
      "403 [163]\n",
      "405 [165]\n",
      "406 [166]\n",
      "408 [168]\n",
      "412 [171]\n",
      "413 [171]\n",
      "416 [171]\n",
      "418 [171]\n",
      "427 [175]\n",
      "431 [180]\n",
      "435 [182]\n",
      "437 [183]\n",
      "438 [183]\n",
      "442 [189]\n",
      "444 [190]\n",
      "450 [196]\n",
      "452 [197]\n",
      "453 [198]\n",
      "455 [201]\n",
      "458 [205]\n",
      "459 [205]\n",
      "463 [208]\n",
      "467 [211]\n",
      "471 [214]\n",
      "473 [215]\n",
      "474 [215]\n",
      "477 [217]\n",
      "479 [218]\n",
      "481 [219]\n",
      "486 [222]\n",
      "490 [226]\n",
      "499 [236]\n",
      "500 [237]\n",
      "505 [241]\n",
      "507 [242]\n",
      "509 [244]\n",
      "512 [244]\n",
      "515 [247]\n"
     ]
    }
   ],
   "source": [
    "temp = sub2epi\n",
    "sub2epi = {}\n",
    "for x in sorted(list(temp.keys())):\n",
    "    sub2epi[x+2] = [item+2 for item in temp[x]]\n",
    "for x in sub2epi:\n",
    "    print(x, sub2epi[x])"
   ],
   "metadata": {
    "collapsed": false,
    "pycharm": {
     "name": "#%%\n"
    }
   }
  },
  {
   "cell_type": "code",
   "execution_count": 43,
   "outputs": [
    {
     "name": "stdout",
     "output_type": "stream",
     "text": [
      "2 [191, 192]\n",
      "5 [194]\n",
      "6 [196]\n",
      "7 [197]\n",
      "15 [208]\n",
      "26 [221]\n",
      "30 [227]\n",
      "31 [229]\n",
      "34 [231]\n",
      "36 [233]\n",
      "38 [236]\n",
      "42 [242]\n",
      "44 [245]\n",
      "53 [258]\n",
      "54 [260]\n",
      "57 [263]\n",
      "58 [264, 265]\n",
      "59 [267]\n",
      "62 [271]\n",
      "64 [274]\n",
      "65 [275]\n",
      "68 [279, 280]\n",
      "72 [284, 286]\n",
      "74 [284, 286]\n",
      "75 [287]\n",
      "76 [288, 289]\n",
      "78 [291]\n",
      "79 [293]\n",
      "80 [294, 295, 296]\n",
      "81 [297]\n",
      "83 [299]\n",
      "89 [304]\n",
      "91 [306]\n",
      "92 [307]\n",
      "98 [313]\n",
      "99 [314]\n",
      "100 [315]\n",
      "101 [317]\n",
      "102 [318]\n",
      "103 [320]\n",
      "105 [321]\n",
      "111 [327]\n",
      "112 [328, 329]\n",
      "113 [331]\n",
      "115 [334, 335]\n",
      "120 [344, 345]\n",
      "121 [347]\n",
      "123 [350]\n",
      "124 [351]\n",
      "127 [356]\n",
      "128 [358, 359]\n",
      "131 [365]\n",
      "134 [370]\n",
      "136 [372, 373, 374]\n",
      "138 [377]\n",
      "141 [379]\n",
      "143 [381]\n",
      "144 [383, 384, 386]\n",
      "158 [398]\n",
      "160 [400]\n",
      "163 [403]\n",
      "165 [405]\n",
      "166 [406]\n",
      "168 [408]\n",
      "171 [412, 413, 416, 418]\n",
      "175 [427]\n",
      "180 [431]\n",
      "182 [435]\n",
      "183 [437, 438]\n",
      "189 [442]\n",
      "190 [444]\n",
      "196 [450]\n",
      "197 [452]\n",
      "198 [453]\n",
      "201 [455]\n",
      "205 [458, 459]\n",
      "208 [463]\n",
      "211 [467]\n",
      "214 [471]\n",
      "215 [473, 474]\n",
      "217 [477]\n",
      "218 [479]\n",
      "219 [481]\n",
      "222 [486]\n",
      "226 [490]\n",
      "236 [499]\n",
      "237 [500]\n",
      "241 [505]\n",
      "242 [507]\n",
      "244 [509, 512]\n",
      "247 [515]\n"
     ]
    }
   ],
   "source": [
    "temp = epi2sub\n",
    "epi2sub = {}\n",
    "for x in sorted(list(temp.keys())):\n",
    "    epi2sub[x+2] = [item+2 for item in temp[x]]\n",
    "\n",
    "for x in epi2sub:\n",
    "    print(x, epi2sub[x])"
   ],
   "metadata": {
    "collapsed": false,
    "pycharm": {
     "name": "#%%\n"
    }
   }
  },
  {
   "cell_type": "code",
   "execution_count": 44,
   "outputs": [
    {
     "name": "stdout",
     "output_type": "stream",
     "text": [
      "112\n",
      "91\n"
     ]
    }
   ],
   "source": [
    "print(len(sub2epi))\n",
    "print(len(epi2sub))"
   ],
   "metadata": {
    "collapsed": false,
    "pycharm": {
     "name": "#%%\n"
    }
   }
  },
  {
   "cell_type": "code",
   "execution_count": null,
   "outputs": [],
   "source": [],
   "metadata": {
    "collapsed": false,
    "pycharm": {
     "name": "#%%\n"
    }
   }
  },
  {
   "cell_type": "code",
   "execution_count": 8,
   "outputs": [],
   "source": [
    "def look_alignment(tbbt, en_subtitle, other_subtitle, alignment, season_id, episode_id, bias):\n",
    "    # Fetch subset located by the stage-1 alignment\n",
    "    (en_subset, zh_subset, tbbt_episode) = fetch_subsets(\n",
    "        episode=tbbt,\n",
    "        en_subtitle=en_subtitle,\n",
    "        zh_subtitle=other_subtitle,\n",
    "        results=alignment,\n",
    "        season_id=season_id,\n",
    "        episode_id=episode_id,\n",
    "        bias=bias\n",
    "    )\n",
    "\n",
    "    temp = []\n",
    "\n",
    "    # Perform string match with sliding window\n",
    "    count = 0\n",
    "    sub2epi = string_match_sliding_window(en_subset, tbbt_episode, 5)\n",
    "    epi2sub = turn_sub2epi_into_epi2sub(sub2epi)\n",
    "    temp.append(epi2sub)\n",
    "    # print(epi2sub)\n",
    "    # print(\"Episode Number:\", len(epi2sub), \"Subtitle Number:\", len(sub2epi))\n",
    "    # print(\"==\"*50)\n",
    "\n",
    "\n",
    "    # Extend the neighbors\n",
    "    epi2sub = extend_neighbors(en_subset, epi2sub, tbbt_episode)\n",
    "    sub2epi = turn_sub2epi_into_epi2sub(epi2sub)\n",
    "    temp.append(epi2sub)\n",
    "    # print(epi2sub)\n",
    "    # print(\"Episode Number:\", len(epi2sub), \"Subtitle Number:\", len(sub2epi))\n",
    "    # print(\"==\"*50)\n",
    "\n",
    "\n",
    "    # Perform exact match and add it to the whole alignment\n",
    "    exact_match_result = exact_match(en_subset, tbbt_episode)\n",
    "    sub2epi = add_cleaned_exact_match_result(sub2epi, exact_match_result)\n",
    "    epi2sub = turn_sub2epi_into_epi2sub(sub2epi)\n",
    "    temp.append(epi2sub)\n",
    "    # print(epi2sub)\n",
    "    # print(\"Episode Number:\", len(epi2sub), \"Subtitle Number:\", len(sub2epi))\n",
    "    # print(\"==\"*50)\n",
    "\n",
    "\n",
    "    # Extend the gap\n",
    "    sub2epi = full_fill_gap(sub2epi)\n",
    "    epi2sub = turn_sub2epi_into_epi2sub(sub2epi)\n",
    "    temp.append(epi2sub)\n",
    "\n",
    "    # Extend the neighbors\n",
    "    epi2sub = extend_neighbors(en_subset, epi2sub, tbbt_episode)\n",
    "    sub2epi = turn_sub2epi_into_epi2sub(epi2sub)\n",
    "    temp.append(epi2sub)\n",
    "\n",
    "    return temp"
   ],
   "metadata": {
    "collapsed": false,
    "pycharm": {
     "name": "#%%\n"
    }
   }
  },
  {
   "cell_type": "code",
   "execution_count": 9,
   "outputs": [
    {
     "name": "stderr",
     "output_type": "stream",
     "text": [
      "  0%|          | 0/2 [00:00<?, ?it/s]\n",
      "  0%|          | 0/4 [00:00<?, ?it/s]\u001B[A\n",
      " 25%|██▌       | 1/4 [00:29<01:27, 29.08s/it]\u001B[A\n",
      " 50%|█████     | 2/4 [00:43<00:41, 20.61s/it]\u001B[A\n",
      " 75%|███████▌  | 3/4 [00:58<00:17, 17.78s/it]\u001B[A\n",
      "100%|██████████| 4/4 [01:09<00:00, 17.45s/it]\u001B[A\n",
      " 50%|█████     | 1/2 [01:09<01:09, 69.81s/it]\n",
      "  0%|          | 0/4 [00:00<?, ?it/s]\u001B[A\n",
      " 25%|██▌       | 1/4 [00:13<00:39, 13.30s/it]\u001B[A\n",
      " 50%|█████     | 2/4 [00:30<00:31, 15.66s/it]\u001B[A\n",
      " 75%|███████▌  | 3/4 [00:43<00:14, 14.20s/it]\u001B[A\n",
      "100%|██████████| 4/4 [00:57<00:00, 14.41s/it]\u001B[A\n",
      "100%|██████████| 2/2 [02:07<00:00, 63.73s/it]\n"
     ]
    }
   ],
   "source": [
    "further_alignment = {}\n",
    "for i in tqdm(range(2)):\n",
    "    for j in tqdm(range(4)):\n",
    "        try:\n",
    "            temp = look_alignment(tbbt_transcripts, en_subtitle, zh_subtitle, results, i+1, j+1, 200)\n",
    "            further_alignment[(i,j)] = temp\n",
    "            print(\"Season:\", i+1,\"Episode:\", j+1, \"Episode Number:\",len(temp), \"Subtitle Number:\",len(turn_sub2epi_into_epi2sub(temp)))\n",
    "        except:\n",
    "            pass"
   ],
   "metadata": {
    "collapsed": false,
    "pycharm": {
     "name": "#%%\n"
    }
   }
  },
  {
   "cell_type": "code",
   "execution_count": 10,
   "outputs": [
    {
     "name": "stdout",
     "output_type": "stream",
     "text": [
      "(0, 0) 133 133 171 171\n",
      "(0, 1) 109 109 130 130\n",
      "(0, 2) 72 72 90 90\n",
      "(0, 3) 112 112 134 134\n",
      "(1, 0) 1 1 1 1\n",
      "(1, 1) 84 84 104 104\n",
      "(1, 2) 113 113 135 135\n",
      "(1, 3) 124 124 159 159\n"
     ]
    }
   ],
   "source": [
    "for x in further_alignment:\n",
    "    print(x, len(further_alignment[x][0]), len(further_alignment[x][1]),len(further_alignment[x][2]),len(further_alignment[x][3]))"
   ],
   "metadata": {
    "collapsed": false,
    "pycharm": {
     "name": "#%%\n"
    }
   }
  },
  {
   "cell_type": "code",
   "execution_count": 14,
   "outputs": [],
   "source": [
    "with open('further_alignment.pkl', 'rb') as f:\n",
    "    alignment = pkl.load(f)"
   ],
   "metadata": {
    "collapsed": false,
    "pycharm": {
     "name": "#%%\n"
    }
   }
  },
  {
   "cell_type": "code",
   "execution_count": 11,
   "outputs": [],
   "source": [
    "alignment = further_alignment"
   ],
   "metadata": {
    "collapsed": false,
    "pycharm": {
     "name": "#%%\n"
    }
   }
  },
  {
   "cell_type": "code",
   "execution_count": 12,
   "outputs": [
    {
     "name": "stdout",
     "output_type": "stream",
     "text": [
      "(0, 0) 133 133 171 171\n",
      "(0, 1) 109 109 130 130\n",
      "(0, 2) 72 72 90 90\n",
      "(0, 3) 112 112 134 134\n",
      "(1, 0) 1 1 1 1\n",
      "(1, 1) 84 84 104 104\n",
      "(1, 2) 113 113 135 135\n",
      "(1, 3) 124 124 159 159\n"
     ]
    }
   ],
   "source": [
    "for x in alignment:\n",
    "    print(x, len(alignment[x][0]), len(alignment[x][1]),len(alignment[x][2]),len(alignment[x][3]))"
   ],
   "metadata": {
    "collapsed": false,
    "pycharm": {
     "name": "#%%\n"
    }
   }
  },
  {
   "cell_type": "code",
   "execution_count": 47,
   "outputs": [
    {
     "name": "stdout",
     "output_type": "stream",
     "text": [
      "{2: [191, 192], 5: [194], 6: [196], 7: [197], 15: [208], 26: [221], 30: [227], 31: [229], 34: [231], 36: [233], 38: [236], 42: [242], 44: [245], 53: [258], 54: [260], 57: [263], 58: [264, 265], 59: [267], 62: [271], 64: [274], 65: [275], 68: [279, 280], 72: [284, 286], 74: [284, 286], 75: [287], 76: [288, 289], 78: [291], 79: [293], 80: [294, 295, 296], 81: [297], 83: [299], 89: [304], 91: [306], 92: [307], 98: [313], 99: [314], 100: [315], 101: [317], 102: [318], 103: [320], 105: [321], 111: [327], 112: [328, 329], 113: [331], 115: [334, 335], 120: [344, 345], 121: [347], 123: [350], 124: [351], 127: [356], 128: [358, 359], 131: [365], 134: [370], 136: [372, 373, 374], 138: [377], 141: [379], 143: [381], 144: [383, 384, 386], 158: [398], 160: [400], 163: [403], 165: [405], 166: [406], 168: [408], 171: [412, 413, 416, 418], 175: [427], 180: [431], 182: [435], 183: [437, 438], 189: [442], 190: [444], 196: [450], 197: [452], 198: [453], 201: [455], 205: [458, 459], 208: [463], 211: [467], 214: [471], 215: [473, 474], 217: [477], 218: [479], 219: [481], 222: [486], 226: [490], 236: [499], 237: [500], 241: [505], 242: [507], 244: [509, 512], 247: [515]}\n"
     ]
    }
   ],
   "source": [
    "print(epi2sub)"
   ],
   "metadata": {
    "collapsed": false,
    "pycharm": {
     "name": "#%%\n"
    }
   }
  },
  {
   "cell_type": "code",
   "execution_count": 244,
   "outputs": [],
   "source": [
    "alignment = alignment_seeds"
   ],
   "metadata": {
    "collapsed": false,
    "pycharm": {
     "name": "#%%\n"
    }
   }
  },
  {
   "cell_type": "code",
   "execution_count": 248,
   "outputs": [
    {
     "name": "stdout",
     "output_type": "stream",
     "text": [
      "(1, 1)\n",
      "(1, 2)\n",
      "(1, 3)\n",
      "(1, 4)\n",
      "(1, 5)\n",
      "(1, 6)\n",
      "(1, 7)\n",
      "(1, 8)\n",
      "(1, 9)\n",
      "(1, 10)\n",
      "(1, 11)\n",
      "(1, 12)\n",
      "(1, 13)\n",
      "(1, 14)\n",
      "(1, 15)\n",
      "(1, 16)\n",
      "(2, 1)\n",
      "(2, 2)\n",
      "(2, 3)\n",
      "(2, 4)\n",
      "(2, 5)\n",
      "(2, 6)\n",
      "(2, 7)\n",
      "(2, 8)\n",
      "(2, 9)\n",
      "(2, 10)\n",
      "(2, 11)\n",
      "(2, 12)\n",
      "(2, 13)\n",
      "(2, 14)\n",
      "(2, 15)\n",
      "(2, 16)\n",
      "(2, 17)\n",
      "(2, 18)\n",
      "(2, 19)\n",
      "(2, 20)\n",
      "(2, 21)\n",
      "(2, 22)\n",
      "(2, 23)\n",
      "(3, 1)\n",
      "(3, 2)\n",
      "(3, 3)\n",
      "(3, 4)\n",
      "(3, 5)\n",
      "(3, 6)\n",
      "(3, 7)\n",
      "(3, 8)\n",
      "(3, 9)\n",
      "(3, 10)\n",
      "(3, 11)\n",
      "(3, 12)\n",
      "(3, 13)\n",
      "(3, 14)\n",
      "(3, 15)\n",
      "(3, 16)\n",
      "(3, 17)\n",
      "(3, 18)\n",
      "(3, 19)\n",
      "(3, 20)\n",
      "(3, 21)\n",
      "(3, 22)\n",
      "(3, 23)\n",
      "(4, 1)\n",
      "(4, 2)\n",
      "(4, 3)\n",
      "(4, 4)\n",
      "(4, 5)\n",
      "(4, 6)\n",
      "(4, 7)\n",
      "(4, 8)\n",
      "(4, 9)\n",
      "(4, 10)\n",
      "(4, 11)\n",
      "(4, 12)\n",
      "(4, 13)\n",
      "(4, 14)\n",
      "(4, 15)\n",
      "(4, 17)\n",
      "(4, 18)\n",
      "(4, 19)\n",
      "(4, 20)\n",
      "(4, 21)\n",
      "(4, 22)\n",
      "(4, 23)\n",
      "(4, 24)\n",
      "(5, 1)\n",
      "(5, 2)\n",
      "(5, 3)\n",
      "(5, 4)\n",
      "(5, 5)\n",
      "(5, 6)\n",
      "(5, 7)\n",
      "(5, 8)\n",
      "(5, 9)\n",
      "(5, 10)\n",
      "(5, 11)\n",
      "(5, 12)\n",
      "(5, 13)\n",
      "(5, 14)\n",
      "(5, 15)\n",
      "(5, 16)\n",
      "(5, 17)\n",
      "(5, 18)\n",
      "(5, 19)\n",
      "(5, 20)\n",
      "(5, 21)\n",
      "(5, 22)\n",
      "(5, 23)\n",
      "(6, 1)\n",
      "(6, 2)\n",
      "(6, 3)\n",
      "(6, 4)\n",
      "(6, 5)\n",
      "(6, 6)\n",
      "(6, 7)\n",
      "(6, 8)\n",
      "(6, 9)\n",
      "(6, 10)\n",
      "(6, 11)\n",
      "(6, 12)\n",
      "(6, 13)\n",
      "(6, 14)\n",
      "(6, 15)\n",
      "(6, 16)\n",
      "(6, 17)\n",
      "(6, 18)\n",
      "(6, 19)\n",
      "(6, 20)\n",
      "(6, 21)\n",
      "(6, 22)\n",
      "(6, 23)\n",
      "(6, 24)\n",
      "(7, 1)\n",
      "(7, 2)\n",
      "(7, 3)\n",
      "(7, 4)\n",
      "(7, 5)\n",
      "(7, 6)\n",
      "(7, 7)\n",
      "(7, 8)\n",
      "(7, 9)\n",
      "(7, 10)\n",
      "(7, 11)\n",
      "(7, 13)\n",
      "(7, 14)\n",
      "(7, 15)\n",
      "(7, 16)\n",
      "(7, 17)\n",
      "(7, 18)\n",
      "(7, 19)\n",
      "(7, 20)\n",
      "(7, 21)\n",
      "(7, 22)\n",
      "(7, 23)\n",
      "(7, 24)\n",
      "(8, 1)\n",
      "(8, 2)\n",
      "(8, 3)\n",
      "(8, 4)\n",
      "(8, 5)\n",
      "(8, 6)\n",
      "(8, 8)\n",
      "(8, 9)\n",
      "(8, 10)\n",
      "(8, 11)\n",
      "(8, 12)\n",
      "(8, 13)\n",
      "(8, 15)\n",
      "(8, 16)\n",
      "(8, 17)\n",
      "(8, 18)\n",
      "(8, 19)\n",
      "(8, 20)\n",
      "(8, 21)\n",
      "(8, 22)\n",
      "(8, 23)\n",
      "(8, 24)\n",
      "(9, 1)\n",
      "(9, 2)\n",
      "(9, 3)\n",
      "(9, 4)\n",
      "(9, 5)\n",
      "(9, 6)\n",
      "(9, 7)\n",
      "(9, 9)\n",
      "(9, 10)\n",
      "(9, 11)\n",
      "(9, 12)\n",
      "(9, 13)\n",
      "(9, 14)\n",
      "(9, 15)\n",
      "(9, 16)\n",
      "(9, 24)\n"
     ]
    }
   ],
   "source": [
    "for x in alignment:\n",
    "    print(x)"
   ],
   "metadata": {
    "collapsed": false,
    "pycharm": {
     "name": "#%%\n"
    }
   }
  },
  {
   "cell_type": "code",
   "execution_count": 290,
   "outputs": [
    {
     "ename": "TypeError",
     "evalue": "list indices must be integers or slices, not str",
     "output_type": "error",
     "traceback": [
      "\u001B[1;31m---------------------------------------------------------------------------\u001B[0m",
      "\u001B[1;31mTypeError\u001B[0m                                 Traceback (most recent call last)",
      "\u001B[1;32m~\\AppData\\Local\\Temp/ipykernel_17804/518642356.py\u001B[0m in \u001B[0;36m<module>\u001B[1;34m\u001B[0m\n\u001B[1;32m----> 1\u001B[1;33m \u001B[0malignment\u001B[0m \u001B[1;33m=\u001B[0m \u001B[1;33m{\u001B[0m\u001B[1;33m(\u001B[0m\u001B[1;36m1\u001B[0m\u001B[1;33m,\u001B[0m\u001B[1;36m1\u001B[0m\u001B[1;33m)\u001B[0m\u001B[1;33m:\u001B[0m \u001B[0mturn_sub2epi_into_epi2sub\u001B[0m\u001B[1;33m(\u001B[0m\u001B[0mtemp\u001B[0m\u001B[1;33m)\u001B[0m\u001B[1;33m}\u001B[0m\u001B[1;33m\u001B[0m\u001B[1;33m\u001B[0m\u001B[0m\n\u001B[0m",
      "\u001B[1;32mD:\\projects\\multi_coref\\tbbt\\utils\\alignment.py\u001B[0m in \u001B[0;36mturn_sub2epi_into_epi2sub\u001B[1;34m(sub2epi)\u001B[0m\n\u001B[0;32m     99\u001B[0m     \u001B[0mepi2sub\u001B[0m \u001B[1;33m=\u001B[0m \u001B[1;33m{\u001B[0m\u001B[1;33m}\u001B[0m\u001B[1;33m\u001B[0m\u001B[1;33m\u001B[0m\u001B[0m\n\u001B[0;32m    100\u001B[0m     \u001B[1;32mfor\u001B[0m \u001B[0msub_id\u001B[0m \u001B[1;32min\u001B[0m \u001B[0msub2epi\u001B[0m\u001B[1;33m:\u001B[0m\u001B[1;33m\u001B[0m\u001B[1;33m\u001B[0m\u001B[0m\n\u001B[1;32m--> 101\u001B[1;33m         \u001B[1;32mfor\u001B[0m \u001B[0mepi_id\u001B[0m \u001B[1;32min\u001B[0m \u001B[0msub2epi\u001B[0m\u001B[1;33m[\u001B[0m\u001B[0msub_id\u001B[0m\u001B[1;33m]\u001B[0m\u001B[1;33m:\u001B[0m\u001B[1;33m\u001B[0m\u001B[1;33m\u001B[0m\u001B[0m\n\u001B[0m\u001B[0;32m    102\u001B[0m             \u001B[1;32mif\u001B[0m \u001B[0mepi_id\u001B[0m \u001B[1;32mnot\u001B[0m \u001B[1;32min\u001B[0m \u001B[0mepi2sub\u001B[0m\u001B[1;33m:\u001B[0m\u001B[1;33m\u001B[0m\u001B[1;33m\u001B[0m\u001B[0m\n\u001B[0;32m    103\u001B[0m                 \u001B[0mepi2sub\u001B[0m\u001B[1;33m[\u001B[0m\u001B[0mepi_id\u001B[0m\u001B[1;33m]\u001B[0m \u001B[1;33m=\u001B[0m \u001B[1;33m[\u001B[0m\u001B[0msub_id\u001B[0m\u001B[1;33m]\u001B[0m\u001B[1;33m\u001B[0m\u001B[1;33m\u001B[0m\u001B[0m\n",
      "\u001B[1;31mTypeError\u001B[0m: list indices must be integers or slices, not str"
     ]
    }
   ],
   "source": [
    "alignment = {(1,1): turn_sub2epi_into_epi2sub(temp)}"
   ],
   "metadata": {
    "collapsed": false,
    "pycharm": {
     "name": "#%%\n"
    }
   }
  },
  {
   "cell_type": "code",
   "execution_count": 294,
   "outputs": [
    {
     "name": "stdout",
     "output_type": "stream",
     "text": [
      "{0: [200], 9: [215], 15: [224], 16: [225, 226], 17: [229], 28: [239], 34: [246, 247], 35: [248], 65: [268], 75: [282], 82: [285, 286], 88: [290], 89: [291], 90: [292], 93: [293], 96: [295], 100: [300], 102: [301, 302], 108: [307], 116: [314, 316], 117: [318], 134: [333], 135: [334], 145: [348], 148: [351], 154: [360], 155: [362], 160: [368, 369], 161: [373, 374, 375], 162: [378], 171: [384], 173: [386], 174: [387], 175: [388], 176: [389], 177: [390], 183: [396], 186: [400, 401], 193: [409], 201: [417], 207: [423], 208: [424, 425], 210: [430], 215: [435], 226: [449], 228: [450], 230: [452, 453, 454, 455, 456], 232: [458], 237: [464], 240: [467], 241: [468, 469, 470], 242: [472], 245: [476], 258: [489, 490], 259: [491], 262: [494, 495], 263: [496], 270: [503], 275: [506], 280: [510, 511], 288: [523, 524], 295: [531], 296: [532], 297: [533], 302: [542], 309: [548], 311: [550, 551], 314: [555]}\n"
     ]
    }
   ],
   "source": [
    "# Write into xlsx file\n",
    "for x in alignment:\n",
    "    print(alignment[x])\n",
    "    # Define season and episode\n",
    "    season_id = x[0]\n",
    "    episode_id = x[1]\n",
    "\n",
    "    # Define xlsx file\n",
    "    episode_book = xlsxwriter.Workbook('xlsx_files/episodes/test_episode_s%de%d.xlsx'%(season_id, episode_id))\n",
    "    episode_sheet = episode_book.add_worksheet()\n",
    "    episode_bold = episode_book.add_format({'bold':1})\n",
    "    for j, item in enumerate(['utterance', 'speaker', 'subtitle id']):\n",
    "        episode_sheet.write(0, j, item, episode_bold)\n",
    "\n",
    "    subtitle_book = xlsxwriter.Workbook('xlsx_files/subtitles/test_subtitle_s%de%d.xlsx'%(season_id, episode_id))\n",
    "    subtitle_sheet = subtitle_book.add_worksheet()\n",
    "    subtitle_bold = subtitle_book.add_format({'bold':1})\n",
    "    for j, item in enumerate(['subtitle_en', 'subtitle_zh', 'episode id']):\n",
    "        subtitle_sheet.write(0, j, item, subtitle_bold)\n",
    "\n",
    "    # Load Data\n",
    "    sub2epi = alignment[x]\n",
    "    epi2sub = turn_sub2epi_into_epi2sub(sub2epi)\n",
    "\n",
    "    (en_subset, zh_subset, tbbt_episode) = fetch_subsets(\n",
    "        episode=tbbt_transcripts,\n",
    "        en_subtitle=en_subtitle,\n",
    "        zh_subtitle=zh_subtitle,\n",
    "        results=results,\n",
    "        season_id=season_id,\n",
    "        episode_id=episode_id,\n",
    "        bias=200\n",
    "    )\n",
    "\n",
    "    # Write into file\n",
    "    for i, (utt, speaker) in enumerate(tbbt_episode):\n",
    "        if i in epi2sub:\n",
    "            temp = [utt, str(speaker), \" \".join([str(item+2) for item in epi2sub[i]])]\n",
    "            for j, item in enumerate(temp):\n",
    "                episode_sheet.write(i+1, j, item, episode_bold)\n",
    "        else:\n",
    "            temp = [utt, str(speaker), \" \"]\n",
    "            for j, item in enumerate(temp):\n",
    "                episode_sheet.write(i+1, j, item)\n",
    "\n",
    "    for i, subtitle in enumerate(en_subset):\n",
    "        if i in sub2epi:\n",
    "            temp = [subtitle, zh_subset[i], \" \".join([str(item+2) for item in sub2epi[i]])]\n",
    "            for j, item in enumerate(temp):\n",
    "                subtitle_sheet.write(i+1, j, item, subtitle_bold)\n",
    "        else:\n",
    "            temp = [subtitle, zh_subset[i], \" \"]\n",
    "            for j, item in enumerate(temp):\n",
    "                subtitle_sheet.write(i+1, j, item)\n",
    "\n",
    "    episode_book.close()\n",
    "    subtitle_book.close()"
   ],
   "metadata": {
    "collapsed": false,
    "pycharm": {
     "name": "#%%\n"
    }
   }
  },
  {
   "cell_type": "code",
   "execution_count": null,
   "outputs": [],
   "source": [
    "# Check current alignments\n",
    "for x in alignment:\n",
    "    # Load Data\n",
    "    epi2sub = alignment[x][-1]\n",
    "\n",
    "    pass\n"
   ],
   "metadata": {
    "collapsed": false,
    "pycharm": {
     "name": "#%%\n"
    }
   }
  },
  {
   "cell_type": "code",
   "execution_count": null,
   "outputs": [],
   "source": [],
   "metadata": {
    "collapsed": false,
    "pycharm": {
     "name": "#%%\n"
    }
   }
  },
  {
   "cell_type": "code",
   "execution_count": 36,
   "outputs": [
    {
     "name": "stdout",
     "output_type": "stream",
     "text": [
      "{0: [200, 201, 202, 203], 2: [205], 5: [206, 207], 8: [214], 9: [215], 12: [218, 219], 15: [222, 223, 224], 16: [225, 226], 17: [227, 228, 229], 21: [233], 24: [235], 29: [239], 31: [240], 32: [241], 33: [242], 35: [246, 247], 36: [248], 37: [249], 39: [251], 40: [252], 41: [253], 42: [254], 48: [256], 50: [259], 52: [261], 58: [263], 59: [264], 66: [266], 67: [267], 68: [268], 69: [269], 70: [270], 72: [273], 73: [274, 275], 76: [279], 78: [282], 79: [283], 85: [285, 286], 86: [287], 91: [290], 92: [291], 93: [292], 96: [293], 99: [295], 100: [297], 102: [299], 103: [300], 104: [301], 105: [302], 108: [304], 110: [306], 111: [307], 112: [308], 114: [311], 115: [312], 118: [313], 119: [314, 315, 316, 317], 120: [318], 122: [319], 124: [320], 126: [321, 322], 129: [325], 131: [327], 135: [330], 136: [331], 137: [333], 138: [334], 139: [335], 140: [336], 141: [337, 338, 339, 340], 143: [342], 151: [351], 153: [356], 154: [357, 358], 157: [360, 361], 158: [362], 163: [368, 369], 165: [373, 374, 375], 166: [378], 167: [379], 168: [380], 175: [383], 176: [384], 179: [387], 181: [389], 182: [390], 184: [391], 185: [392], 187: [394], 188: [396], 189: [398], 190: [399], 191: [400, 401], 192: [402], 194: [405], 196: [407], 197: [408], 198: [409], 199: [410], 200: [411], 203: [413], 204: [414], 206: [417], 207: [418], 208: [419], 212: [423], 213: [424, 425], 214: [427, 428, 429], 215: [430], 216: [431], 219: [434], 220: [435], 222: [437], 223: [438], 226: [442], 227: [444], 228: [446], 231: [449], 233: [450], 234: [451], 235: [452, 453, 454, 455, 456], 236: [457], 237: [458], 238: [459], 239: [460], 240: [461], 241: [462], 242: [464], 244: [466], 245: [467], 246: [468, 469, 470, 471], 247: [472], 248: [473, 474], 249: [475], 250: [476], 252: [478], 259: [484, 485], 260: [486], 261: [487], 263: [489, 490], 264: [491], 266: [493], 267: [494, 495], 268: [496], 269: [497], 274: [502], 275: [503], 277: [504], 280: [506], 283: [508], 284: [509], 285: [510, 511], 286: [512], 287: [514, 515], 291: [519, 520], 293: [523, 524], 296: [527], 297: [528], 299: [530], 300: [531], 301: [532], 302: [533], 304: [536, 537, 538], 305: [539], 306: [540, 541], 307: [542], 308: [543], 309: [544], 315: [548], 317: [550, 551], 320: [555]}\n"
     ]
    }
   ],
   "source": [
    "print(further_alignment[(0,0)][-1])"
   ],
   "metadata": {
    "collapsed": false,
    "pycharm": {
     "name": "#%%\n"
    }
   }
  },
  {
   "cell_type": "code",
   "execution_count": 35,
   "outputs": [
    {
     "name": "stdout",
     "output_type": "stream",
     "text": [
      "4\n"
     ]
    }
   ],
   "source": [
    "print(len(further_alignment[(0,0)]))"
   ],
   "metadata": {
    "collapsed": false,
    "pycharm": {
     "name": "#%%\n"
    }
   }
  },
  {
   "cell_type": "code",
   "execution_count": 25,
   "outputs": [
    {
     "name": "stdout",
     "output_type": "stream",
     "text": [
      "(0, 0) 171 171 133\n",
      "(0, 1) 130 130 109\n",
      "(0, 2) 90 90 72\n",
      "(0, 3) 134 134 112\n",
      "(0, 4) 132 132 106\n",
      "(0, 5) 24 24 16\n",
      "(0, 6) 75 75 66\n",
      "(0, 7) 7 7 7\n",
      "(0, 8) 130 130 100\n",
      "(0, 9) 57 57 50\n",
      "(0, 10) 46 46 32\n",
      "(0, 11) 93 93 75\n",
      "(0, 12) 137 137 114\n",
      "(0, 13) 10 10 9\n",
      "(0, 14) 124 124 103\n",
      "(0, 15) 130 130 102\n",
      "(1, 0) 1 1 1\n",
      "(1, 1) 104 104 84\n",
      "(1, 2) 135 135 113\n",
      "(1, 3) 159 159 124\n",
      "(1, 4) 74 74 60\n",
      "(1, 5) 60 60 43\n",
      "(1, 6) 29 29 24\n",
      "(1, 7) 110 110 98\n",
      "(1, 8) 70 70 61\n",
      "(1, 9) 80 80 68\n",
      "(1, 11) 133 133 112\n",
      "(1, 12) 136 136 108\n",
      "(1, 13) 161 161 131\n",
      "(1, 14) 31 31 26\n",
      "(1, 15) 106 106 83\n",
      "(1, 16) 140 140 119\n",
      "(1, 17) 127 127 102\n",
      "(1, 18) 134 134 111\n",
      "(1, 19) 46 46 40\n",
      "(1, 20) 95 95 74\n",
      "(1, 21) 137 137 104\n",
      "(1, 22) 56 56 47\n",
      "(2, 0) 125 125 102\n",
      "(2, 1) 134 134 115\n",
      "(2, 2) 103 103 81\n",
      "(2, 3) 105 105 84\n",
      "(2, 4) 131 131 105\n",
      "(2, 5) 17 17 13\n",
      "(2, 6) 159 159 131\n",
      "(2, 7) 109 109 93\n",
      "(2, 8) 133 133 106\n",
      "(2, 9) 162 162 125\n",
      "(2, 10) 129 129 112\n",
      "(2, 11) 125 125 105\n",
      "(2, 12) 109 109 86\n",
      "(2, 13) 106 106 83\n",
      "(2, 14) 124 124 103\n",
      "(2, 15) 142 142 119\n",
      "(2, 16) 100 100 81\n",
      "(2, 17) 107 107 92\n",
      "(2, 18) 142 142 114\n",
      "(2, 19) 124 124 98\n",
      "(2, 20) 145 145 117\n",
      "(2, 21) 141 141 115\n",
      "(2, 22) 144 144 111\n",
      "(3, 0) 164 164 133\n",
      "(3, 1) 70 70 53\n",
      "(3, 2) 178 178 137\n",
      "(3, 3) 161 161 130\n",
      "(3, 4) 121 121 95\n",
      "(3, 5) 43 43 36\n",
      "(3, 6) 88 88 69\n",
      "(3, 7) 140 140 120\n",
      "(3, 8) 158 158 135\n",
      "(3, 9) 136 136 113\n",
      "(3, 11) 62 62 50\n",
      "(3, 12) 149 149 120\n",
      "(3, 13) 92 92 79\n",
      "(3, 14) 141 141 115\n",
      "(3, 16) 114 114 95\n",
      "(3, 17) 145 145 117\n",
      "(3, 18) 156 156 132\n",
      "(3, 19) 157 157 129\n",
      "(3, 20) 141 141 106\n",
      "(3, 21) 161 161 128\n",
      "(3, 22) 36 36 25\n",
      "(3, 23) 11 11 10\n",
      "(4, 0) 116 116 94\n",
      "(4, 1) 63 63 53\n",
      "(4, 2) 12 12 12\n",
      "(4, 3) 128 128 116\n",
      "(4, 4) 13 13 13\n",
      "(4, 5) 156 156 133\n",
      "(4, 6) 93 93 71\n",
      "(4, 7) 72 72 58\n",
      "(4, 8) 92 92 76\n",
      "(4, 9) 119 119 97\n",
      "(4, 10) 168 168 130\n",
      "(4, 11) 143 143 127\n",
      "(4, 12) 144 144 116\n",
      "(4, 14) 127 127 110\n",
      "(4, 15) 127 127 108\n",
      "(4, 16) 137 137 100\n",
      "(4, 17) 135 135 107\n",
      "(4, 18) 125 125 118\n",
      "(4, 19) 50 50 44\n",
      "(4, 20) 59 59 51\n",
      "(4, 21) 129 129 105\n",
      "(4, 22) 119 119 108\n",
      "(5, 0) 142 142 115\n",
      "(5, 1) 147 147 113\n",
      "(5, 2) 123 123 108\n",
      "(5, 3) 74 74 59\n",
      "(5, 4) 140 140 112\n",
      "(5, 5) 124 124 111\n",
      "(5, 6) 8 8 8\n",
      "(5, 7) 141 141 115\n",
      "(5, 8) 116 116 101\n",
      "(5, 9) 90 90 73\n",
      "(5, 10) 142 142 115\n",
      "(5, 11) 129 129 109\n",
      "(5, 12) 71 71 61\n",
      "(5, 13) 125 125 111\n",
      "(5, 14) 63 63 49\n",
      "(5, 15) 88 88 78\n",
      "(5, 16) 23 23 18\n",
      "(5, 17) 107 107 94\n",
      "(5, 18) 150 150 116\n",
      "(5, 19) 95 95 73\n",
      "(5, 20) 126 126 107\n",
      "(5, 21) 114 114 101\n",
      "(5, 22) 82 82 66\n",
      "(5, 23) 145 145 125\n",
      "(6, 0) 152 152 123\n",
      "(6, 1) 159 159 138\n",
      "(6, 2) 147 147 120\n",
      "(6, 3) 136 136 117\n",
      "(6, 4) 131 131 117\n",
      "(6, 5) 135 135 114\n",
      "(6, 6) 144 144 116\n",
      "(6, 7) 132 132 112\n",
      "(6, 8) 154 154 130\n",
      "(6, 9) 151 151 132\n",
      "(6, 10) 27 27 21\n",
      "(6, 12) 75 75 65\n",
      "(6, 13) 150 150 126\n",
      "(6, 14) 150 150 130\n",
      "(6, 15) 170 170 142\n",
      "(6, 17) 147 147 134\n",
      "(6, 18) 63 63 51\n",
      "(6, 19) 152 152 118\n",
      "(6, 20) 140 140 119\n",
      "(6, 21) 134 134 112\n",
      "(6, 22) 143 143 115\n",
      "(6, 23) 154 154 126\n",
      "(7, 0) 149 149 116\n",
      "(7, 1) 159 159 133\n",
      "(7, 2) 155 155 117\n",
      "(7, 3) 163 163 137\n",
      "(7, 4) 70 70 60\n",
      "(7, 5) 35 35 28\n",
      "(7, 7) 150 150 116\n",
      "(7, 8) 161 161 141\n",
      "(7, 9) 155 155 125\n",
      "(7, 10) 166 166 128\n",
      "(7, 11) 151 151 127\n",
      "(7, 12) 138 138 116\n",
      "(7, 14) 135 135 113\n",
      "(7, 15) 149 149 119\n",
      "(7, 16) 1 1 1\n",
      "(7, 17) 159 159 125\n",
      "(7, 18) 71 71 58\n",
      "(7, 19) 177 177 140\n",
      "(7, 20) 158 158 131\n",
      "(7, 21) 138 138 117\n",
      "(7, 22) 158 158 120\n",
      "(7, 23) 153 153 120\n",
      "(8, 0) 164 164 120\n",
      "(8, 1) 155 155 124\n",
      "(8, 2) 163 163 129\n",
      "(8, 3) 126 126 101\n",
      "(8, 4) 135 135 107\n",
      "(8, 5) 166 166 139\n",
      "(8, 6) 141 141 111\n",
      "(8, 7) 2 2 2\n",
      "(8, 8) 155 155 126\n",
      "(8, 9) 133 133 113\n",
      "(8, 10) 108 108 85\n",
      "(8, 11) 177 177 134\n",
      "(8, 12) 116 116 91\n",
      "(8, 13) 172 172 141\n",
      "(8, 14) 72 72 60\n",
      "(8, 15) 136 136 120\n",
      "(8, 23) 73 73 61\n"
     ]
    }
   ],
   "source": [
    "for x in further_alignment:\n",
    "    print(x, len(further_alignment[x][-1]), len(further_alignment[x][-2]), len(further_alignment[x][-3]))\n",
    "    # print(further_alignment[x])"
   ],
   "metadata": {
    "collapsed": false,
    "pycharm": {
     "name": "#%%\n"
    }
   }
  },
  {
   "cell_type": "code",
   "execution_count": 27,
   "outputs": [],
   "source": [
    "old_alignment = further_alignment"
   ],
   "metadata": {
    "collapsed": false,
    "pycharm": {
     "name": "#%%\n"
    }
   }
  },
  {
   "cell_type": "code",
   "execution_count": 34,
   "outputs": [
    {
     "name": "stdout",
     "output_type": "stream",
     "text": [
      "{2: [200, 201, 202, 203], 4: [206], 5: [208], 6: [209, 210], 7: [211], 10: [217, 218], 14: [220], 18: [223], 19: [224, 225], 20: [229], 21: [230], 22: [232], 23: [233, 234], 26: [238], 28: [240, 241], 30: [242], 31: [243], 32: [244], 33: [245], 34: [246], 36: [249, 250], 37: [251], 40: [253], 41: [254, 255], 44: [258], 45: [259, 260, 261], 46: [262, 263], 47: [264], 48: [266], 49: [267], 52: [269], 56: [274], 57: [276, 277], 58: [278], 59: [279], 60: [280, 281], 61: [282], 63: [283], 64: [284], 65: [285], 67: [286], 68: [287, 288, 289], 70: [291, 292], 73: [295], 74: [296], 75: [297, 298, 299], 76: [300], 77: [302], 79: [304], 80: [305], 81: [306], 82: [308], 83: [310], 84: [311], 85: [312, 313], 87: [315], 88: [317], 89: [319], 90: [320, 321], 91: [322], 92: [325, 326], 94: [328], 95: [329], 96: [330], 97: [331], 99: [334], 100: [335, 336], 101: [337], 102: [338], 104: [339], 107: [342, 343], 109: [344], 110: [345], 111: [346], 112: [347], 113: [348, 349, 350], 115: [351], 116: [352, 353], 119: [356], 121: [358], 122: [359], 125: [362], 128: [365], 129: [366], 130: [368], 131: [369], 132: [370, 371, 372], 133: [374], 138: [379], 139: [380, 381, 382], 141: [383], 142: [384], 143: [385], 146: [390], 147: [391, 392, 393], 148: [394], 149: [395, 396], 150: [397], 151: [398], 152: [399], 154: [402], 157: [405], 158: [406], 159: [407, 408]}\n"
     ]
    }
   ],
   "source": [
    "print(old_alignment[(1,1)][-1])"
   ],
   "metadata": {
    "collapsed": false,
    "pycharm": {
     "name": "#%%\n"
    }
   }
  },
  {
   "cell_type": "code",
   "execution_count": 33,
   "outputs": [
    {
     "name": "stdout",
     "output_type": "stream",
     "text": [
      "104\n",
      "140\n"
     ]
    }
   ],
   "source": [
    "print(len(old_alignment[(1,1)][-1]))\n",
    "print(len(turn_sub2epi_into_epi2sub(old_alignment[(1,1)][-1])))"
   ],
   "metadata": {
    "collapsed": false,
    "pycharm": {
     "name": "#%%\n"
    }
   }
  },
  {
   "cell_type": "code",
   "execution_count": 38,
   "outputs": [],
   "source": [
    "alignment = further_alignment\n",
    "for x in alignment:\n",
    "    # Define season and episode\n",
    "    season_id = x[0]+1\n",
    "    episode_id = x[1]+1\n",
    "\n",
    "    # Define xlsx file\n",
    "    episode_book = xlsxwriter.Workbook('xlsx_files/episodes/episode_s%de%d.xlsx'%(season_id, episode_id))\n",
    "    episode_sheet = episode_book.add_worksheet()\n",
    "    episode_bold = episode_book.add_format({'bold':1})\n",
    "    for j, item in enumerate(['utterance', 'speaker', 'subtitle id']):\n",
    "        episode_sheet.write(0, j, item, episode_bold)\n",
    "\n",
    "    subtitle_book = xlsxwriter.Workbook('xlsx_files/subtitles/subtitle_s%de%d.xlsx'%(season_id, episode_id))\n",
    "    subtitle_sheet = subtitle_book.add_worksheet()\n",
    "    subtitle_bold = subtitle_book.add_format({'bold':1})\n",
    "    for j, item in enumerate(['subtitle_en', 'subtitle_zh', 'episode id']):\n",
    "        subtitle_sheet.write(0, j, item, subtitle_bold)\n",
    "\n",
    "    # Load Data\n",
    "    epi2sub = alignment[x][-1]\n",
    "    sub2epi = turn_sub2epi_into_epi2sub(epi2sub)\n",
    "\n",
    "    (en_subset, zh_subset, tbbt_episode) = fetch_subsets(\n",
    "        episode=tbbt_transcripts,\n",
    "        en_subtitle=en_subtitle,\n",
    "        zh_subtitle=zh_subtitle,\n",
    "        results=results,\n",
    "        season_id=season_id,\n",
    "        episode_id=episode_id,\n",
    "        bias=200\n",
    "    )\n",
    "\n",
    "    tbbt_episode = []\n",
    "    for x in tbbt_transcripts[(season_id, episode_id)]:\n",
    "        if x[1]!='Scene':\n",
    "            tbbt_episode.append(x)\n",
    "\n",
    "    # Write into file\n",
    "    for i, (utt, speaker) in enumerate(tbbt_episode):\n",
    "        if i in epi2sub:\n",
    "            temp = [utt, str(speaker), \" \".join([str(item+2) for item in epi2sub[i]])]\n",
    "            for j, item in enumerate(temp):\n",
    "                episode_sheet.write(i+1, j, item, episode_bold)\n",
    "        else:\n",
    "            temp = [utt, \"\", \" \"]\n",
    "            for j, item in enumerate(temp):\n",
    "                episode_sheet.write(i+1, j, item)\n",
    "\n",
    "    for i, subtitle in enumerate(en_subset):\n",
    "        if i in sub2epi:\n",
    "            temp = [subtitle, zh_subset[i], \" \".join([str(item+2) for item in sub2epi[i]])]\n",
    "            for j, item in enumerate(temp):\n",
    "                subtitle_sheet.write(i+1, j, item, subtitle_bold)\n",
    "        else:\n",
    "            temp = [subtitle, zh_subset[i], \" \"]\n",
    "            for j, item in enumerate(temp):\n",
    "                subtitle_sheet.write(i+1, j, item)\n",
    "\n",
    "    episode_book.close()\n",
    "    subtitle_book.close()"
   ],
   "metadata": {
    "collapsed": false,
    "pycharm": {
     "name": "#%%\n"
    }
   }
  },
  {
   "cell_type": "code",
   "execution_count": 22,
   "outputs": [
    {
     "name": "stdout",
     "output_type": "stream",
     "text": [
      "dict_keys([(0, 0), (0, 1), (0, 2), (0, 3), (1, 0), (1, 1), (1, 2), (1, 3), (2, 0), (2, 1), (2, 2), (2, 3), (3, 0), (3, 1), (3, 2), (3, 3)])\n"
     ]
    }
   ],
   "source": [
    "print(further_alignment.keys())"
   ],
   "metadata": {
    "collapsed": false,
    "pycharm": {
     "name": "#%%\n"
    }
   }
  },
  {
   "cell_type": "code",
   "execution_count": null,
   "outputs": [],
   "source": [],
   "metadata": {
    "collapsed": false,
    "pycharm": {
     "name": "#%%\n"
    }
   }
  },
  {
   "cell_type": "code",
   "execution_count": null,
   "outputs": [],
   "source": [],
   "metadata": {
    "collapsed": false,
    "pycharm": {
     "name": "#%%\n"
    }
   }
  },
  {
   "cell_type": "code",
   "execution_count": 14,
   "outputs": [],
   "source": [
    "temp = []\n",
    "# Perform string match with sliding window\n",
    "sub2epi = string_match_sliding_window(en_subset, tbbt_episode, 4)\n",
    "epi2sub = turn_sub2epi_into_epi2sub(sub2epi)\n",
    "temp.append(epi2sub)\n",
    "\n",
    "print(sub2epi)\n",
    "print(len(sub2epi))\n",
    "print(len(epi2sub), len(tbbt_episode))"
   ],
   "metadata": {
    "collapsed": false,
    "pycharm": {
     "name": "#%%\n"
    }
   }
  },
  {
   "cell_type": "code",
   "execution_count": 18,
   "outputs": [],
   "source": [
    "# Extend the neighbors\n",
    "epi2sub = extend_neighbors(en_subset, epi2sub, tbbt_episode)\n",
    "sub2epi = turn_sub2epi_into_epi2sub(epi2sub)\n",
    "temp.append(epi2sub)\n",
    "\n",
    "print(sub2epi)\n",
    "print(len(sub2epi))\n",
    "print(len(epi2sub), len(tbbt_episode))"
   ],
   "metadata": {
    "collapsed": false,
    "pycharm": {
     "name": "#%%\n"
    }
   }
  },
  {
   "cell_type": "code",
   "execution_count": 20,
   "outputs": [],
   "source": [
    "# Perform exact match and add it to the whole alignment\n",
    "exact_match_result = exact_match(en_subset, tbbt_episode)\n",
    "sub2epi = add_cleaned_exact_match_result(sub2epi, exact_match_result)\n",
    "epi2sub = turn_sub2epi_into_epi2sub(sub2epi)\n",
    "temp.append(epi2sub)\n",
    "\n",
    "print(sub2epi)\n",
    "print(len(sub2epi))\n",
    "print(len(epi2sub), len(tbbt_episode))"
   ],
   "metadata": {
    "collapsed": false,
    "pycharm": {
     "name": "#%%\n"
    }
   }
  },
  {
   "cell_type": "code",
   "execution_count": 21,
   "outputs": [
    {
     "name": "stdout",
     "output_type": "stream",
     "text": [
      "{200: [0], 202: [0], 203: [0], 205: [2], 206: [5], 207: [5], 212: [6], 213: [7], 214: [8], 215: [9], 218: [12], 219: [12], 220: [13], 222: [15], 223: [15], 224: [15], 225: [16], 226: [16], 227: [17], 228: [17], 229: [17], 232: [20], 233: [21], 234: [23], 235: [24], 239: [29], 240: [31], 241: [32], 242: [33], 246: [35], 247: [35], 248: [36], 249: [37], 251: [39], 252: [40], 253: [41], 254: [42], 256: [48], 259: [50], 260: [51], 261: [52], 262: [57], 263: [58], 264: [59], 266: [66], 267: [67], 268: [68], 269: [69], 270: [70], 272: [72], 273: [72], 274: [73], 275: [73], 276: [74], 279: [76], 280: [77], 282: [78], 283: [79], 285: [85], 286: [85], 287: [86], 288: [87], 290: [91], 291: [92], 292: [93], 293: [96], 295: [99], 296: [99], 297: [100], 299: [102], 300: [103], 301: [104], 302: [105], 303: [107], 304: [108], 306: [110], 307: [111], 308: [112], 311: [114], 312: [115], 313: [118], 314: [119], 315: [119], 316: [119], 317: [119], 318: [120], 319: [122], 320: [124], 321: [126], 322: [126], 325: [129], 327: [131], 330: [135], 331: [136], 332: [136], 333: [137], 334: [138], 335: [139], 336: [140], 337: [141], 340: [141], 342: [143], 351: [151], 356: [153], 357: [154], 358: [154], 360: [157], 361: [157], 362: [158], 363: [160], 364: [161], 365: [161], 367: [163], 368: [163], 369: [163], 373: [165], 374: [165], 375: [165], 378: [166], 379: [167], 380: [168], 383: [175], 384: [176], 387: [179], 389: [181], 390: [182], 393: [186], 394: [187], 395: [187], 396: [188], 398: [189], 399: [190], 400: [191], 401: [191], 402: [192], 405: [194], 407: [196], 408: [197], 409: [198], 410: [199], 411: [200], 412: [202], 413: [203], 414: [204], 415: [205], 416: [205], 417: [206], 418: [207], 419: [208], 423: [212], 424: [213], 425: [213], 427: [214], 428: [214], 429: [214], 430: [215], 431: [216], 434: [219], 435: [220], 437: [222], 438: [223], 442: [226], 444: [227], 446: [228], 447: [229], 449: [231], 450: [233], 451: [234], 452: [235], 453: [235], 455: [235], 456: [235], 457: [236], 458: [237], 459: [238], 460: [239], 461: [240], 462: [241], 463: [241], 464: [242], 466: [244], 467: [245], 468: [246], 469: [246], 470: [246], 471: [246], 472: [247], 473: [248], 474: [248], 475: [249], 476: [250], 477: [251], 478: [252], 484: [259], 485: [259], 486: [260], 487: [261], 488: [262], 489: [263], 490: [263], 491: [264], 493: [266], 494: [267], 495: [267], 496: [268], 497: [269], 502: [274], 503: [275], 504: [277], 506: [280], 508: [283], 509: [284], 510: [285], 511: [285], 512: [286], 514: [287], 515: [287], 516: [288], 517: [289], 519: [291], 520: [291], 522: [293], 524: [293], 527: [296], 528: [297], 530: [299], 531: [300], 532: [301], 533: [302], 534: [303], 535: [303], 536: [304], 538: [304], 539: [305], 540: [306], 541: [306], 542: [307], 543: [308], 544: [309], 545: [311], 548: [315], 550: [317], 551: [317], 555: [320]}\n",
      "244\n",
      "192 321\n"
     ]
    }
   ],
   "source": [],
   "metadata": {
    "collapsed": false,
    "pycharm": {
     "name": "#%%\n"
    }
   }
  },
  {
   "cell_type": "code",
   "execution_count": 24,
   "outputs": [
    {
     "name": "stdout",
     "output_type": "stream",
     "text": [
      "{200: [0], 202: [0], 203: [0], 205: [2], 206: [5], 207: [5], 212: [6], 213: [7], 214: [8], 215: [9], 218: [12], 219: [12], 220: [13], 222: [15], 223: [15], 224: [15], 225: [16], 226: [16], 227: [17], 228: [17], 229: [17], 232: [20], 233: [21], 234: [23], 235: [24], 239: [29], 240: [31], 241: [32], 242: [33], 246: [35], 247: [35], 248: [36], 249: [37], 251: [39], 252: [40], 253: [41], 254: [42], 255: [42], 256: [48], 259: [50], 260: [51], 261: [52], 262: [57], 263: [58], 264: [59], 266: [66], 267: [67], 268: [68], 269: [69], 270: [70], 272: [72], 273: [72], 274: [73], 275: [73], 276: [74], 279: [76], 280: [77], 282: [78], 283: [79], 285: [85], 286: [85], 287: [86], 288: [87], 290: [91], 291: [92], 292: [93], 293: [96], 295: [99], 296: [99], 297: [100], 299: [102], 300: [103], 301: [104, 105], 302: [105], 303: [107], 304: [108], 306: [110], 307: [111], 308: [112], 311: [114], 312: [115], 313: [118], 314: [119], 315: [119], 316: [119], 317: [119], 318: [120], 319: [122], 320: [124], 321: [126], 322: [126], 325: [129], 327: [131], 330: [135], 331: [136], 332: [136], 333: [137], 334: [138], 335: [139], 336: [140], 337: [141], 340: [141], 342: [143], 351: [151], 356: [153], 357: [154], 358: [154], 360: [157], 361: [157], 362: [158], 363: [160], 364: [161], 365: [161], 367: [163], 368: [163], 369: [163], 373: [165], 374: [165], 375: [165], 378: [166], 379: [167], 380: [168], 383: [175], 384: [176], 387: [179], 389: [181], 390: [182], 393: [186], 394: [187], 395: [187], 396: [188], 398: [189], 399: [190], 400: [191], 401: [191], 402: [192], 405: [194], 407: [196], 408: [197], 409: [198], 410: [199], 411: [200], 412: [202], 413: [203], 414: [204], 415: [205], 416: [205], 417: [206], 418: [207], 419: [208], 423: [212], 424: [213], 425: [213], 427: [214], 428: [214], 429: [214], 430: [215], 431: [216], 434: [219], 435: [220], 437: [222], 438: [223], 442: [226], 444: [227], 446: [228], 447: [229], 449: [231], 450: [233], 451: [234], 452: [235], 453: [235], 455: [235], 456: [235], 457: [236], 458: [237], 459: [238], 460: [239], 461: [240], 462: [241], 463: [241], 464: [242], 466: [244], 467: [245], 468: [246], 469: [246], 470: [246], 471: [246], 472: [247], 473: [248], 474: [248], 475: [249], 476: [250], 477: [251], 478: [252], 484: [259], 485: [259], 486: [260], 487: [261], 488: [262], 489: [263], 490: [263], 491: [264], 493: [266], 494: [267], 495: [267], 496: [268], 497: [269], 502: [274], 503: [275], 504: [277], 506: [280], 508: [283], 509: [284], 510: [285], 511: [285], 512: [286], 514: [287], 515: [287], 516: [288], 517: [289], 519: [291], 520: [291], 522: [293], 524: [293], 527: [296], 528: [297], 530: [299], 531: [300], 532: [301], 533: [302], 534: [303], 535: [303], 536: [304], 538: [304], 539: [305], 540: [306], 541: [306], 542: [307], 543: [308], 544: [309], 545: [311], 548: [315], 550: [317], 551: [317], 555: [320]}\n",
      "245\n",
      "192 321\n"
     ]
    }
   ],
   "source": [
    "# Extend the neighbors\n",
    "epi2sub = extend_neighbors(en_subset, epi2sub, tbbt_episode)\n",
    "sub2epi = turn_sub2epi_into_epi2sub(epi2sub)\n",
    "temp.append(epi2sub)\n",
    "\n",
    "print(sub2epi)\n",
    "print(len(sub2epi))\n",
    "print(len(epi2sub), len(tbbt_episode))"
   ],
   "metadata": {
    "collapsed": false,
    "pycharm": {
     "name": "#%%\n"
    }
   }
  },
  {
   "cell_type": "code",
   "execution_count": 22,
   "outputs": [
    {
     "name": "stdout",
     "output_type": "stream",
     "text": [
      "0 |||| [200, 202, 203] Sheldon  So if a photon is directed through a plane with two slits in it and either slit is observed it will not go through both slits. If it’s unobserved it will, however, if it’s observed after it’s left the plane but before it hits its target, it will not have gone through both slits.\n",
      "1 Leonard  Agreed, what’s your point?\n",
      "2 |||| [205] Sheldon  There’s no point, I just think it’s a good idea for a tee-shirt. \n",
      "3 Leonard  Excuse me?\n",
      "4 Receptionist  Hang on. \n",
      "5 |||| [206, 207] Leonard  One across is Aegean, eight down is Nabakov, twenty-six across is MCM, fourteen down is… move your finger… phylum, which makes fourteen across Port-au-Prince. See, Papa Doc’s capital idea, that’s Port-au-Prince. Haiti. \n",
      "6 |||| [212] Receptionist  Can I help you?\n",
      "7 |||| [213] Leonard  Yes. Um, is this the High IQ sperm bank?\n",
      "8 |||| [214] Receptionist  If you have to ask, maybe you shouldn’t be here.\n",
      "9 |||| [215] Sheldon  I think this is the place.\n",
      "10 Receptionist  Fill these out.\n",
      "11 Leonard  Thank-you. We’ll be right back.\n",
      "12 |||| [218, 219] Receptionist  Oh, take your time. I’ll just finish my crossword puzzle. Oh wait.\n",
      "13 |||| [220] Sheldon  Leonard, I don’t think I can do this.\n",
      "14 Leonard  What, are you kidding? You’re a semi-pro. \n",
      "15 |||| [222, 223, 224] Sheldon  No. We are committing genetic fraud. There’s no guarantee that our sperm is going to generate high IQ offspring, think about that. I have a sister with the same basic DNA mix who hostesses at Fuddruckers.\n",
      "16 |||| [225, 226] Leonard  Sheldon, this was your idea. A little extra money to get fractional T1 bandwidth in the apartment.\n",
      "17 |||| [227, 228, 229] Sheldon  I know, and I do yearn for faster downloads, but there’s some poor woman is going to pin her hopes on my sperm, what if she winds up with a toddler who doesn’t know if he should use an integral or a differential to solve the area under a curve.\n",
      "18 Leonard  I’m sure she’ll still love him.\n",
      "19 Sheldon  I wouldn’t.\n",
      "20 |||| [232] Leonard  Well, what do you want to do?\n",
      "21 |||| [233] Sheldon  I want to leave.\n",
      "22 Leonard  Okay.\n",
      "23 |||| [234] Sheldon  What’s the protocol for leaving?\n",
      "24 |||| [235] Leonard  I don’t know, I’ve never reneged on a proffer of sperm before.\n",
      "25 Sheldon  Let’s try just walking out.\n",
      "26 Leonard  Okay.\n",
      "27 Sheldon  Bye-bye\n",
      "28 Leonard  See you.\n",
      "29 |||| [239] Sheldon  Are you still mad about the sperm bank?\n",
      "30 Leonard  No.\n",
      "31 |||| [240] Sheldon  You want to hear an interesting thing about stairs?\n",
      "32 |||| [241] Leonard  Not really.\n",
      "33 |||| [242] Sheldon  If the height of a single step is off by as little as two millimetres, most people will trip.\n",
      "34 Leonard  I don’t care. Two millimetres? That doesn’t seem right.\n",
      "35 |||| [246, 247] Sheldon  No, it’s true, I did a series of experiments when I was twelve, my father broke his clavicle.\n",
      "36 |||| [248] Leonard  Is that why they sent you to boarding school?\n",
      "37 |||| [249] Sheldon  No, that was the result of my work with lasers.\n",
      "38 Leonard  New neighbour?\n",
      "39 |||| [251] Sheldon  Evidently.\n",
      "40 |||| [252] Leonard  Significant improvement over the old neighbour.\n",
      "41 |||| [253] Sheldon  Two hundred pound transvestite with a skin condition, yes she is.\n",
      "42 |||| [254] Penny  Oh, hi!\n",
      "43 Leonard  Hi.\n",
      "44 Sheldon  Hi.\n",
      "45 Leonard  Hi.\n",
      "46 Sheldon  Hi.\n",
      "47 Penny  Hi?\n",
      "48 |||| [256] Leonard  We don’t mean to interrupt, we live across the hall.\n",
      "49 Penny  Oh, that’s nice.\n",
      "50 |||| [259] Leonard  Oh… uh… no… we don’t live together… um… we live together but in separate, heterosexual bedrooms.\n",
      "51 |||| [260] Penny  Oh, okay, well, guess I’m your new neighbour, Penny.\n",
      "52 |||| [261] Leonard  Leonard, Sheldon.\n",
      "53 Penny  Hi.\n",
      "54 Leonard  Hi.\n",
      "55 Sheldon  Hi.\n",
      "56 Penny  Hi. \n",
      "57 |||| [262] Leonard  Hi. Well, uh, oh, welcome to the building.\n",
      "58 |||| [263] Penny  Thankyou, maybe we can have coffee sometime.\n",
      "59 |||| [264] Leonard  Oh, great.\n",
      "60 Penny  Great. \n",
      "61 Sheldon  Great.\n",
      "62 Leonard  Great. Well, bye.\n",
      "63 Penny  Bye.\n",
      "64 Sheldon  Bye.\n",
      "65 Leonard  Bye. \n",
      "66 |||| [266] Leonard  Should we have invited her for lunch?\n",
      "67 |||| [267] Sheldon  No. We’re going to start Season Two of Battlestar Galactica.\n",
      "68 |||| [268] Leonard  We already watched the Season Two DVDs.\n",
      "69 |||| [269] Sheldon  Not with commentary.\n",
      "70 |||| [270] Leonard  I think we should be good neighbours, invite her over, make her feel welcome.\n",
      "71 Sheldon  We never invited Louis-slash-Louise over.\n",
      "72 |||| [272, 273] Leonard  Well, then that was wrong of us. We need to widen our circle.\n",
      "73 |||| [274, 275] Sheldon  I have a very wide circle. I have 212 friends on myspace. \n",
      "74 |||| [276] Leonard  Yes, and you’ve never met one of them.\n",
      "75 Sheldon  That’s the beauty of it.\n",
      "76 |||| [279] Leonard  I’m going to invite her over. We’ll have a nice meal and chat.\n",
      "77 |||| [280] Sheldon  Chat? We don’t chat. At least not offline.\n",
      "78 |||| [282] Leonard  Well it’s not difficult, you just listen to what she says and then you say something appropriate in response.\n",
      "79 |||| [283] Sheldon  To what end?\n",
      "80 Leonard  Hi. Again.\n",
      "81 Penny  Hi.\n",
      "82 Sheldon  Hi.\n",
      "83 Leonard  Hi.\n",
      "84 Penny  Hi. \n",
      "85 |||| [285, 286] Leonard  Anyway, um. We brought home Indian food. And, um. I know that moving can be stressful, and I find that when I’m undergoing stress, that good food and company can have a comforting effect. Also, curry is a natural laxative, and I don’t have to tell you that, uh, a clean colon is just one less thing to worry about.\n",
      "86 |||| [287] Sheldon  Leonard, I’m not expert here but I believe in the context of a luncheon invitation, you might want to skip the reference to bowel movements.\n",
      "87 |||| [288] Penny  Oh, you’re inviting me over to eat?\n",
      "88 Leonard  Uh, yes.\n",
      "89 Penny  Oh, that’s so nice, I’d love to.\n",
      "90 Leonard  Great.\n",
      "91 |||| [290] Penny  So, what do you guys do for fun around here?\n",
      "92 |||| [291] Sheldon  Well, today we tried masturbating for money.\n",
      "93 |||| [292] Leonard  Okay, well, make yourself at home.\n",
      "94 Penny  Okay, thankyou.\n",
      "95 Leonard  You’re very welcome.\n",
      "96 |||| [293] Penny  This looks like some serious stuff, Leonard, did you do this?\n",
      "97 Sheldon  Actually that’s my work.\n",
      "98 Penny  Wow.\n",
      "99 |||| [295, 296] Sheldon  Yeah, well, it’s just some quantum mechanics, with a little string theory doodling around the edges. That part there, that’s just a joke, it’s a spoof of the Bourne-Oppenheimer approximation.\n",
      "100 |||| [297] Penny  So you’re like, one of those, beautiful mind genius guys.\n",
      "101 Sheldon  Yeah. \n",
      "102 |||| [299] Penny  This is really impressive.\n",
      "103 |||| [300] Leonard  I have a board. If you like boards, this is my board.\n",
      "104 |||| [301] Penny  Holy smokes.\n",
      "105 |||| [302] Sheldon  If by holy smokes you mean a derivative restatement of the kind of stuff you can find scribbled on the wall of any men’s room at MIT, sure.\n",
      "106 Leonard  What?\n",
      "107 |||| [303] Sheldon  Oh, come on. Who hasn’t seen this differential below “here I sit broken hearted?”\n",
      "108 |||| [304] Leonard  At least I didn’t have to invent twenty-six dimensions just to make the math come out.\n",
      "109 Sheldon  I didn’t invent them, they’re there.\n",
      "110 |||| [306] Leonard  In what universe?\n",
      "111 |||| [307] Sheldon  In all of them, that is the point.\n",
      "112 |||| [308] Penny  Uh, do you guys mind if I start?\n",
      "113 Sheldon  Um, Penny, that’s where I sit.\n",
      "114 |||| [311] Penny  So, sit next to me. \n",
      "115 |||| [312] Sheldon  No, I sit there.\n",
      "116 Penny  What’s the difference?\n",
      "117 Sheldon  What’s the difference?\n",
      "118 |||| [313] Leonard  Here we go.\n",
      "119 |||| [314, 315, 316, 317] Sheldon  In the winter that seat is close enough to the radiator to remain warm, and yet not so close as to cause perspiration. In the summer it’s directly in the path of a cross breeze created by open windows there, and there. It faces the television at an angle that is neither direct, thus discouraging conversation, nor so far wide to create a parallax distortion, I could go on, but I think I’ve made my point. \n",
      "120 |||| [318] Penny  Do you want me to move?\n",
      "121 Sheldon  Well.\n",
      "122 |||| [319] Leonard  Just sit somewhere else.\n",
      "123 Sheldon  Fine. (Wanders in circles, looking lost.)\n",
      "124 |||| [320] Leonard  Sheldon, sit!\n",
      "125 Sheldon  Aaah!\n",
      "126 |||| [321, 322] Leonard  Well this is nice. We don’t have a lot of company over.\n",
      "127 Sheldon  That’s not true. Koothrapali and Wolowitz come over all the time. \n",
      "128 Leonard  Yes I now, but…\n",
      "129 |||| [325] Sheldon  Tuesday night we played Klingon boggle until one in the morning.\n",
      "130 Leonard  Yes, I remember.\n",
      "131 |||| [327] Sheldon  I resent you saying we don’t have company.\n",
      "132 Leonard  I’m sorry.\n",
      "133 Sheldon  That is an antisocial implication.\n",
      "134 Leonard  I said I’m sorry.\n",
      "135 |||| [330] Penny  So, Klingon boggle?\n",
      "136 |||| [331, 332] Leonard  Yeah, it’s like regular boggle but, in Klingon. That’s probably enough about us, tell us about you.\n",
      "137 |||| [333] Penny  Um, me, okay, I’m Sagittarius, which probably tells you way more than you need to know.\n",
      "138 |||| [334] Sheldon  Yes, it tells us that you participate in the mass cultural delusion that the Sun’s apparent position relative to arbitrarily defined constellations and the time of your birth somehow effects your personality.\n",
      "139 |||| [335] Penny  Participate in the what?\n",
      "140 |||| [336] Leonard  I think what Sheldon’s trying to say, is that Sagittarius wouldn’t have been our first guess.\n",
      "141 |||| [337, 340] Penny  Oh, yeah, a lot of people think I’m a water sign. Okay, let’s see, what else, oh, I’m a vegetarian, oh, except for fish, and the occasional steak, I love steak. \n",
      "142 Sheldon  That’s interesting. Leonard can’t process corn.\n",
      "143 |||| [342] Leonard  Wu-uh, do you have some sort of a job?\n",
      "144 Penny  Oh, yeah, I’m a waitress at the Cheesecake Factory.\n",
      "145 Leonard  Oh, okay. I love cheesecake.\n",
      "146 Sheldon  You’re lactose intolerant. \n",
      "147 Leonard  I don’t eat it, I just think it’s a good idea.\n",
      "148 Penny  Oh, anyways, I’m also writing a screenplay. It’s about this sensitive girl who comes to L.A. from Lincoln Nebraska to be an actress, and winds up a waitress at the Cheesecake Factory.\n",
      "149 Leonard  So it’s based on your life?\n",
      "150 Penny  No, I’m from Omaha. \n",
      "151 |||| [351] Leonard  Well, if that was a movie I would go see it.\n",
      "152 Penny  I know, right? Okay, let’s see, what else? Um, that’s about it. That’s the story of Penny.\n",
      "153 |||| [356] Leonard  Well it sounds wonderful.\n",
      "154 |||| [357, 358] Penny  It was. Until I fell in love with a jerk. \n",
      "155 (mouths)  What’s happening.\n",
      "156 back)  I don’t know.\n",
      "157 |||| [360, 361] Penny  Oh God, you know, four years I lived with him, four years, that’s like as long as High School. \n",
      "158 |||| [362] Sheldon  It took you four years to get through High School?\n",
      "159 Leonard  Don’t.\n",
      "160 |||| [363] Penny  I just, I can’t believe I trusted him.\n",
      "161 |||| [364, 365] Leonard  Should I say something? I feel like I should say something.\n",
      "162 Sheldon  You? No, you’ll only make it worse.\n",
      "163 |||| [367, 368, 369] Penny  You want to know the most pathetic part? Even though I hate his lying, cheating guts, I still love him. Is that crazy?\n",
      "164 Sheldon  Yes. \n",
      "165 |||| [373, 374, 375] Leonard  No, it’s not crazy it’s, uh, uh, it’s a paradox. And paradoxes are part of nature, think about light. Now if you look at Huygens, light is a wave, as confirmed by the double slit experiments, but then, along comes Albert Einstein and discovers that light behaves like particles too. Well, I didn’t make it worse.\n",
      "166 |||| [378] Penny  Oh, I’m so sorry, I’m such a mess, and on top of everything else I’m all gross from moving and my stupid shower doesn’t even work.\n",
      "167 |||| [379] Leonard  Our shower works.\n",
      "168 |||| [380] Penny  Really? Would it be totally weird if I used it?\n",
      "169 Sheldon  Yes. \n",
      "170 Leonard  No.\n",
      "171 Sheldon  No?\n",
      "172 Leonard  No.\n",
      "173 Sheldon  No.\n",
      "174 Leonard  It’s right down the hall.\n",
      "175 |||| [383] Penny  Thanks. You guys are really sweet.\n",
      "176 |||| [384] Sheldon  Well this is an interesting development. \n",
      "177 Leonard  How so?\n",
      "178 Sheldon  It has been some time since we’ve had a woman take her clothes off in our apartment.\n",
      "179 |||| [387] Leonard  That’s not true, remember at Thanksgiving my grandmother with Alzheimer’s had that episode.\n",
      "180 Sheldon  Point taken. It has been some time since we’ve had a woman take her clothes off after which we didn’t want to rip our eyes out. \n",
      "181 |||| [389] Leonard  The worst part was watching her carve that turkey.\n",
      "182 |||| [390] Sheldon  So, what exactly are you trying to accomplish here?\n",
      "183 Leonard  Excuse me?\n",
      "184 Sheldon  That woman in there’s not going to have sex with you.\n",
      "185 Leonard  Well I’m not trying to have sex with her.\n",
      "186 |||| [393] Sheldon  Oh, good. Then you won’t be disappointed.\n",
      "187 |||| [394, 395] Leonard  What makes you think she wouldn’t have sex with me, I’m a male and she’s a female?\n",
      "188 |||| [396] Sheldon  Yes, but not of the same species.\n",
      "189 |||| [398] Leonard  I’m not going to engage in hypotheticals here, I’m just trying to be a good neighbour.\n",
      "190 |||| [399] Sheldon  Oh, of course.\n",
      "191 |||| [400, 401] Leonard  That’s not to say that if a carnal relationship were to develop that I wouldn’t participate. However briefly.\n",
      "192 |||| [402] Sheldon  Do you think this possibility will be helped or hindered when she discovers your Luke Skywalker no-more-tears shampoo?\n",
      "193 Leonard  It’s Darth Vader shampoo. (There is a knock on the door.) Luke Skywalker’s the conditioner.\n",
      "194 |||| [405] Howard  Wait till you see this.\n",
      "195 Raj  It’s fantastic. Unbelievable.\n",
      "196 |||| [407] Leonard  See what?\n",
      "197 |||| [408] Howard  It’s a Stephen Hawking lecture from MIT in 1974.\n",
      "198 |||| [409] Leonard  This is not a good time.\n",
      "199 |||| [410] Howard  It’s before he became a creepy computer voice:.\n",
      "200 |||| [411] Leonard  That’s great, you guys have to go.\n",
      "201 Raj  Why?\n",
      "202 |||| [412] Leonard  It’s just not a good time.\n",
      "203 |||| [413] Sheldon  Leonard has a lady over.\n",
      "204 |||| [414] Howard  Yeah, right, your grandmother back in town?\n",
      "205 |||| [415, 416] Leonard  No. And she’s not a lady, she’s just a new neighbour.\n",
      "206 |||| [417] Howard  Hang on, there really is a lady here?\n",
      "207 |||| [418] Leonard  Uh-huh.\n",
      "208 |||| [419] Howard  And you want us out because you’re anticipating coitus?\n",
      "209 Leonard  I’m not anticipating coitus.\n",
      "210 Howard  So she’s available for coitus?\n",
      "211 Leonard  Can we please stop saying coitus?\n",
      "212 |||| [423] Sheldon  Technically that would be coitus interruptus.\n",
      "213 |||| [424, 425] Penny  Hey, is there a trick to getting it to switch from tub to shower. Oh. Hi, sorry. Hello!\n",
      "214 |||| [427, 428, 429] Howard  Enchante Madamoiselle. Howard Wolowitz, Cal-Tech department of Applied Physics. You may be familiar with some of my work, it’s currently orbiting Jupiter’s largest moon taking high-resolution digital photographs.\n",
      "215 |||| [430] Penny  Penny. I work at the Cheesecake Factory.\n",
      "216 |||| [431] Leonard  Come on, I’ll show you the trick with the shower.\n",
      "217 Howard  Bon douche.\n",
      "218 Penny  I’m sorry?\n",
      "219 |||| [434] Howard  It’s French for good shower. It’s a sentiment I can express in six languages.\n",
      "220 |||| [435] Leonard  Save it for your blog, Howard.\n",
      "221 Howard  See-ka-tong-guay-jow.\n",
      "222 |||| [437] Leonard  Uh, there it goes, it sticks, I’m sorry.\n",
      "223 |||| [438] Penny  Okay. Thanks. \n",
      "224 Leonard  You’re welcome, oh, you’re going to step right, okay, I’ll….\n",
      "225 Penny  Hey, Leonard?\n",
      "226 |||| [442] Leonard  The hair products are Sheldon’s.\n",
      "227 |||| [444] Penny  Um, okay. Can I ask you a favour.\n",
      "228 |||| [446] Leonard  A favour? Sure, you can ask me a favour, I would do you a favour for you.\n",
      "229 |||| [447] Penny  It’s okay if you say no.\n",
      "230 Leonard  Oh, I’ll probably say yes.\n",
      "231 |||| [449] Penny  It’s just not the kind of thing you ask a guy you’ve just met.\n",
      "232 Leonard  Wow.\n",
      "233 |||| [450] Sheldon  I really think we should examine the chain of causality here.\n",
      "234 |||| [451] Leonard  Must we?\n",
      "235 |||| [452, 453, 455, 456] Sheldon  Event A. A beautiful woman stands naked in our shower. Event B. We drive half way across town to retrieve a television set from the aforementioned woman’s ex-boyfriend. Query, on what plane of existence is there even a semi-rational link between these events?\n",
      "236 |||| [457] Leonard  She asked me to do her a favour, Sheldon.\n",
      "237 |||| [458] Sheldon  Ah, yes, well that may be the proximal cause of our journey, but we both know it only exists in contradistinction to the higher level distal cause.\n",
      "238 |||| [459] Leonard  Which is?\n",
      "239 |||| [460] Sheldon  You think with your penis.\n",
      "240 |||| [461] Leonard  That’s a biological impossibility and you didn’t have to come.\n",
      "241 |||| [462, 463] Sheldon  Oh, right, yes, I could have stayed behind and watched Wolowitz try to hit on Penny in Russian, Arabic and Farsi. Why can’t she get her own TV.\n",
      "242 |||| [464] Leonard  Come on, you know how it is with break-ups.\n",
      "243 Sheldon  No I don’t. And neither do you.\n",
      "244 |||| [466] Leonard  Wuh, I, I broke up with Joyce Kim.\n",
      "245 |||| [467] Sheldon  You did not break up with Joyce Kim, she defected to North Korea.\n",
      "246 |||| [468, 469, 470, 471] Leonard  To mend her broken heart. This situation is much less complicated. There’s some kind of dispute between Penny and her ex-boyfriend as to who gets custody of the TV. She just wanted to avoid having a scene with him.\n",
      "247 |||| [472] Sheldon  So we get to have a scene with him?\n",
      "248 |||| [473, 474] Leonard  No, Sheldon, there’s not going to be a scene. There’s two of us and one of him.\n",
      "249 |||| [475] Sheldon  Leonard, the two of us can’t even carry a TV. \n",
      "250 |||| [476] Raj)  So, you guys work with Leonard and Sheldon at the University?\n",
      "251 |||| [477] Penny  Uh, I’m sorry, do you speak English?\n",
      "252 |||| [478] Howard  Oh, he speaks English, he just can’t speak to women.\n",
      "253 Penny  Really, why?\n",
      "254 Howard  He’s kind of a nerd. Juice box?\n",
      "255 buzzer)  I’ll do the talking.\n",
      "256 buzzer  Yeah.\n",
      "257 Leonard  Hi, I’m Leonard, this is Sheldon.\n",
      "258 Sheldon  Hello.\n",
      "259 |||| [484, 485] Leonard  What did I just…. Uh, we’re here to pick up Penny’s TV.\n",
      "260 |||| [486] Voice  Get lost.\n",
      "261 |||| [487] Sheldon  Okay, thanks for your time.\n",
      "262 |||| [488] Leonard  We’re not going to give up just like that.\n",
      "263 |||| [489, 490] Sheldon  Leonard, the TV is in the building, we’ve been denied access to the building, ergo we are done.\n",
      "264 |||| [491] Leonard  Excuse me, if I were to give up at the first little hitch I never would have been able to identify the fingerprints of string theory in the aftermath of the big bang.\n",
      "265 Sheldon  My apologies. What’s your plan.\n",
      "266 |||| [493] Sheldon  It’s just a privilege to watch your mind at work.\n",
      "267 |||| [494, 495] Leonard  Come on, we have a combined IQ of 360, we should be able to figure out how to get into a stupid building.\n",
      "268 |||| [496] Sheldon  What do you think their combined IQ is?\n",
      "269 |||| [497] Leonard  Just grab the door.\n",
      "270 Leonard  This is it. (Knocks.) I’ll do the talking.\n",
      "271 Sheldon  Good thinking, I’ll just be the muscle.\n",
      "272 man  Yeah?\n",
      "273 Leonard  I’m Leonard, this is Sheldon.\n",
      "274 |||| [502] Sheldon  From the intercom.\n",
      "275 |||| [503] Man  How the hell did you get in the building?\n",
      "276 Leonard  Oh. We’re scientists.\n",
      "277 |||| [504] Sheldon  Tell him about our IQ.\n",
      "278 Sheldon  Leonard.\n",
      "279 Leonard  What?\n",
      "280 |||| [506] Sheldon  My mom bought me those pants.\n",
      "281 Leonard  I’m sorry.\n",
      "282 Sheldon  You’re going to have to call her.\n",
      "283 |||| [508] Leonard  Sheldon, I’m so sorry I dragged you through this.\n",
      "284 |||| [509] Sheldon  It’s okay. It wasn’t my first pantsing, and it won’t be my last.\n",
      "285 |||| [510, 511] Leonard  And you were right about my motives, I was hoping to establish a relationship with Penny that might have some day led to sex.\n",
      "286 |||| [512] Sheldon  Well you got me out of my pants.\n",
      "287 |||| [514, 515] Leonard  Anyway, I’ve learned my lesson. She’s out of my league, I’m done with her, I’ve got my work, one day I’ll win the Nobel Prize and then I’ll die alone.\n",
      "288 |||| [516] Sheldon  Don’t think like that, you’re not going to die alone.\n",
      "289 |||| [517] Leonard  Thank you Sheldon, you’re a good friend.\n",
      "290 Sheldon  And you’re certainly not going to win a Nobel Prize.\n",
      "291 |||| [519, 520] Howard  This is one of my favourite places to kick back after a quest, they have a great house ale.\n",
      "292 Penny  Wow, cool tiger.\n",
      "293 |||| [522, 524] Howard  Yeah, I’ve had him since level ten. His name is Buttons. Anyway, if you had your own game character we could hang out, maybe go on a quest.\n",
      "294 Penny  Uh, sounds interesting.\n",
      "295 Howard  So you’ll think about it?\n",
      "296 |||| [527] Penny  Oh, I don’t think I’ll be able to stop thinking about it.\n",
      "297 |||| [528] Raj  Smooth.\n",
      "298 Leonard  We’re home.\n",
      "299 |||| [530] Penny  Oh, my God, what happened?\n",
      "300 |||| [531] Leonard  Well, your ex-boyfriend sends his regards and I think the rest is fairly self-explanatory.\n",
      "301 |||| [532] Penny  I’m so sorry, I really thought if you guys went instead of me he wouldn’t be such an ass.\n",
      "302 |||| [533] Leonard  No, it was a valid hypothesis.\n",
      "303 |||| [534, 535] Sheldon  That was a valid hypothesis? What is happening to you?\n",
      "304 |||| [536, 538] Penny  Really, thank you so much for going and trying you’re, uh, you’re so terrific. Why don’t you put some clothes on, I’ll get my purse and dinner is on me, okay?\n",
      "305 |||| [539] Leonard  Really? Great.\n",
      "306 |||| [540, 541] Sheldon  Thank you. You’re not done with her, are you?\n",
      "307 |||| [542] Leonard  Our babies will be smart and beautiful.\n",
      "308 |||| [543] Sheldon  Not to mention imaginary.\n",
      "309 |||| [544] Leonard  Is Thai food okay with you Penny?\n",
      "310 Penny  Sure.\n",
      "311 |||| [545] Sheldon  We can’t have Thai food, we had Indian for lunch.\n",
      "312 Penny  So?\n",
      "313 Sheldon  They’re both curry based cuisines.\n",
      "314 Penny  So?\n",
      "315 |||| [548] Sheldon  They would be gastronomically redundant. I can see we’re going to have to spell out everything for this girl.\n",
      "316 Penny  Any ideas Raj? (He just looks at her with a worried expression.)\n",
      "317 |||| [550, 551] Howard  Turn left on Lake Street and head up to Colorado. I know a wonderful little sushi bar that has karaoke.\n",
      "318 Penny  That sounds like fun.\n",
      "319 (sings)  Baby, baby don’t get hooked on me. Uh, baby, baby don’t get hooked on me.\n",
      "320 |||| [555] Sheldon  I don’t know what your odds are in the world as a whole, but as far as the population of this car goes, you’re a veritable Mack Daddy.\n"
     ]
    }
   ],
   "source": [
    "# Show TBBT Episode\n",
    "for i, (utt, speaker) in enumerate(tbbt_episode):\n",
    "    if i in epi2sub:\n",
    "        print(i, \"||||\",epi2sub[i], speaker, utt)\n",
    "    else:\n",
    "        print(i, speaker, utt)"
   ],
   "metadata": {
    "collapsed": false,
    "pycharm": {
     "name": "#%%\n"
    }
   }
  },
  {
   "cell_type": "code",
   "execution_count": 23,
   "outputs": [
    {
     "name": "stdout",
     "output_type": "stream",
     "text": [
      "0 Thank you very much. Good day to you. 多谢了 日安\n",
      "1 Good day to you. 日安\n",
      "2 Come and buy a dresser! 来买梳妆台了\n",
      "3 The years with Iisakki passed quickly. 由丽萨奇的日子过的很快\n",
      "4 Before I knew it, I was all grown up, with a beard and all. 在我知道之前 我已经长大 还有着胡须\n",
      "5 The village had grown. 村子也大了 有很多新的小孩\n",
      "6 There were so many new children - that me and Iisakki could not keep count. 我和丽萨奇都无法数过来\n",
      "7 But we had a secret helper. 但是我们有个秘密\n",
      "8 Nikolas. -尼古拉斯\n",
      "9 -Eemeli. -艾美利\n",
      "10 Long time no see. You should come more often. 很久没见了 你应该常来\n",
      "11 I've been busy. Iisakki is no longer young. 我一直很忙 丽萨奇已经不再年轻了\n",
      "12 Do you have the list? 你有名单吗\n",
      "13 Well, I'll be... So many new children. 呃 我 好多新生的孩子啊\n",
      "14 As a matter of fact, one name is missing from that list. Elsa? 事实上 有一个名字漏掉了 埃尔莎\n",
      "15 Is that... -是吗\n",
      "16 -A girl, three months. -一个女孩 三个月大\n",
      "17 Let's add her to the list. 那我们加上她的名字吧\n",
      "18 What is the name of this little princess? 这个小公主叫什么名字\n",
      "19 Aada. 亚达\n",
      "20 Aada? 亚达\n",
      "21 Hello, Aada. 你好 亚达\n",
      "22 Nikolas, meet Henrik and Hermanni. 尼古拉斯 见一下汉瑞克和赫曼尼\n",
      "23 My sons. 我的儿子\n",
      "24 I sought them out and asked them here. 我在外面找到他们带到这里来\n",
      "25 We were wrong when we... 我们错了\n",
      "26 We want to make it up to our father. 我们想弥补我们的父亲\n",
      "27 We came to take him to live with us. -我们来带他跟我们一起过\n",
      "28 -To live with you? Where? -跟你们一起过 在哪里\n",
      "29 Away from here. Father is too old to be living in arctic conditions. 离这里很远 父亲太老了 无法住在北极地区了\n",
      "30 You'll get the house and the workshop. You've earned them. 你会得到房子和工作室 它们属于你的了\n",
      "31 Wait, Nikolas. 等等 尼古拉斯\n",
      "32 Nikolas... 尼古拉斯\n",
      "33 Nikolas, try to understand. 尼古拉斯 试着去理解\n",
      "34 Even though I love you like my own son... 尽管我把你当成自己的儿子 一样疼爱\n",
      "35 This key opens the chest under my bed. 这钥匙可以打开我床下的柜子\n",
      "36 I've always been skimpy, maybe too much so. 我一直很吝啬 也许太吝啬了\n",
      "37 I think you can do better. 我想你可以做的更好\n",
      "38 Try to understand. 试着去理解\n",
      "39 Eemeli. -艾美利\n",
      "40 -Nikolas. -尼古拉斯\n",
      "41 Where have you been? -你去哪里了\n",
      "42 Here! But everything is unfinished. 这里 但是一切都没完成呢\n",
      "43 These should last for ten years. 这些应该持续10年\n",
      "44 This is barely enough for next Christmas. 这几乎不够明年圣诞节\n",
      "45 -A map. -地图\n",
      "46 There, there... To this remote village, to these houses. 那里 那里 到这个遥远的村子 到这些房子\n",
      "47 There, there, there, there, there... Christmas presents. 那里 那里 那里 那里 那里 圣诞礼物\n",
      "48 Christmas presents? -圣诞礼物\n",
      "49 So many villages and children. How do you know who'll get what? 这么多村子和孩子 你怎么知道谁得到什么\n",
      "50 There's a simple way. -有个简单的办法\n",
      "51 -What is it? -是什么\n",
      "52 I shall write names on the wrapping. 我会把名字写在包装纸上\n",
      "53 Wrapping? -包装纸\n",
      "54 -Ingenious, isn't it? -很聪明 是吗\n",
      "55 How is all this possible? 这都怎么可能\n",
      "56 Iisakki's life savings. 丽萨奇的生活积蓄\n",
      "57 Now I can bring Christmas cheer to the children. 现在我可以把圣诞的欢乐 带给孩子们\n",
      "58 Nobody can live just for Christmas. 没人可以为了圣诞节而活\n",
      "59 I've been selfish. I've only brought presents to those - who have helped me. 我一直很自私 我只送礼物给那些\n",
      "60 -Selfish? -帮助过我的人 -自私\n",
      "61 From now on, I'm going to appear only on Christmas Eve. -从现在开始 我只出现在圣诞前夕\n",
      "62 -Nikolas! -尼古拉斯\n",
      "63 I'll visit your shop once a year - to replenish my supplies and to get a list of new children. 我会每年去你店里一次 来补充我的供给以及收集新生孩子的名单\n",
      "64 There's more to life than just Christmas. 生活不光是圣诞节\n",
      "65 Like what? -比如什么\n",
      "66 -It's an impossible task. -这是个不可能的任务\n",
      "67 You don't have room for all those presents. 你没有地方放那些礼物\n",
      "68 And Hilma won't be able to pull the load. 希拉 也无法拉的动\n",
      "69 It can't be done. -做不到\n",
      "70 -Yes, it can. -是的 能做到\n",
      "71 Christmas is around the corner. -圣诞近在旦夕\n",
      "72 -Animals are quick to learn. -动物们学的很快\n",
      "73 Reindeer are not horses. -驯鹿不是马\n",
      "74 -Hilla, this is child's play. -希拉 这是孩子们玩的\n",
      "75 I can handle reindeer, dear. \"Reindeer, dear.\" 我能对付驯鹿 亲爱的 \"驯鹿 亲爱的\n",
      "76 You can try. 你可以试试\n",
      "77 Reindeer obey me better when I'm wearing this colourful cap. 当我戴上这顶彩色的帽子时 驯鹿更听我的话\n",
      "78 Even the squirrels are afraid of such a garish colour. 就连松鼠也害怕这样炫目的颜色\n",
      "79 Reindeer would obey me even if I had a potholder on my head. 如果我头上顶块厚布 驯鹿就会听我的话\n",
      "80 I don't need any red caps. 我不需要什么红帽子\n",
      "81 Okay, fall in line. Put your antlers down. 好的 列队 把你们的鹿角放低\n",
      "82 Come to Nikolas, chop-chop. 到尼古拉斯这里来\n",
      "83 Dasher, Dancer, Prancer and Blitzen, your training begins. 达舍尔 丹赛 普兰斯和布利申 你们的训练开始了\n",
      "84 The first lesson... Lassoing. Dancer, behave yourself. 第一课 套索 丹赛 注意点\n",
      "85 Sit there! 坐在那里\n",
      "86 Sit! Sit! Stay! 坐下 坐下 别动\n",
      "87 Dasher, if you don't behave, Nikolas will catch you! Prancer! 达舍尔 如果你不动 尼古拉斯要抓你了 普兰斯\n",
      "88 Let's try again. 我们再来\n",
      "89 Hold it! 别动\n",
      "90 Dancer! Prancer! 丹赛 普兰斯\n",
      "91 A red cap, a red coat... And frieze trousers to boot. 红帽子 红帽子 还有长至靴子的棉裤\n",
      "92 What was the colour? -是什么颜色\n",
      "93 -Red. -红色\n",
      "94 Could you repeat that? 你可以重复一遍吗\n",
      "95 Red! 红色\n",
      "96 I'll show you. 我给你看下\n",
      "97 Let's see, Aada. What do you have there? 亚达 我们看下 你那里有什么\n",
      "98 A spinning top. -一个抽陀螺\n",
      "99 -That's nice. -好极了\n",
      "100 In a few years the mysterious present-bearer - became the staple of children's stories. 很多年了一直显得很神秘 成为孩子们的神话\n",
      "101 Some swore to have seen elves bringing presents at Christmas. 有人看到恶作剧的孩子 在圣诞节带来礼物\n",
      "102 Others claimed that the presents were from a child-friendly gnome. 另外一些人则说那礼物 是来自友好的矮子那里\n",
      "103 Luckily, they didn't suspect me. 幸运的是 他们不尊重我\n",
      "104 Nikolas is coming! -尼古拉斯来了\n",
      "105 -Run away! -快跑\n",
      "106 Good day. 好日子\n",
      "107 Where are the others? -其他人去哪了\n",
      "108 -They are afraid of you. -他们害怕你\n",
      "109 Mikko said that it's not you who brings us presents at Christmas. 米科说就是你在圣诞节 不给他们带礼物\n",
      "110 That you hate children. Is it true? -你讨厌孩子 那是真的吗\n",
      "111 -Mikko is half right. -米科说对了一半\n",
      "112 I don't bring presents. But I don't hate children, either. 我没有带礼物 但我也不讨厌孩子\n",
      "113 Who brings the presents? 谁带礼物了\n",
      "114 Nikolas told me when I asked him. 当我问尼古拉斯的时候 他就告诉了我\n",
      "115 Aada claims that you don't bring us presents. 亚达说你不给我们带礼物\n",
      "116 Aada is right. 亚达说的对\n",
      "117 Aada! 亚达\n",
      "118 Why did you say so? Tell her the truth. 你为什么要这样说 告诉她事实\n",
      "119 No way. Children must not associate me with the presents. 不行 孩子们不应该向我要礼物\n",
      "120 It would ruin everything. -一切都会变糟的\n",
      "121 -Why is that? -为什么会那样\n",
      "122 Nikolas! -尼古拉斯\n",
      "123 -Eemeli? -艾美利\n",
      "124 Is Aada here? -亚达在这里吗\n",
      "125 Aada has gone missing. -亚达失踪了\n",
      "126 \"Dear mother and father. Don't worry. 亲爱的爸爸妈妈 不要担心 我去查明\n",
      "127 I went to find out - who brings all the presents.\" 谁给我们带来了礼物\n",
      "128 We have to wake everybody up and arrange a search party. 我们得叫醒大家 安排一个搜查小组\n",
      "129 You must lend me some clothes. Otherwise I'll be exposed. 你得借我一些服装 不然我会暴露的\n",
      "130 Okay, boys. Hurry on home. 好的 伙计们 快点回家\n",
      "131 Let's form groups of two. A torch and a lantern for each group. 让我们分成两组 每组拿个火把和一盏灯\n",
      "132 Aada couldn't have gone far. Let's hurry. 亚达不会走远的 我们赶快\n",
      "133 I know where she is. -我知道她在哪\n",
      "134 -What did you say, Mikko? -米科 你在说什么\n",
      "135 Aada wants to deliver you a present. 亚达想要送你一件礼物\n",
      "136 Me? Why? -我 为什么\n",
      "137 -Aada doesn't believe that you don't bring us presents. -亚达不相信你没有给我们送礼物\n",
      "138 Why didn't you tell us earlier? -你为什么不早点告诉我\n",
      "139 -I promised not to tell. -我答应过不说的\n",
      "140 Will Aada return? 亚达会回来吗\n",
      "141 Aada doesn't know where you live. 亚达不知道该怎么活 如果她知道\n",
      "142 And even if she knew - she won't be able to walk that far. Aada! 她就不会走那么远的 亚达\n",
      "143 Nikolas? -尼古拉斯\n",
      "144 -Aada! -亚达\n",
      "145 Nobody thought that you'd manage to get this far. 没人能想到你会走这么远\n",
      "146 Twelve miles in a blizzard. How is it possible? 在暴风雪里走了20英里 这怎么可能呢\n",
      "147 It was nothing on a reindeer sleigh. -在驯鹿雪橇上就没什么了\n",
      "148 -A reindeer sleigh? -一个驯鹿雪橇\n",
      "149 What reindeer sleigh? -什么驯鹿雪橇\n",
      "150 -Suddenly, a sleigh appeared. -突然有一个驯鹿雪橇\n",
      "151 I thought it was you but the sleigh was empty... Well, not quite. 我想那是你的但雪橇里面是空的 好了 不安静了\n",
      "152 I was cold so I put on your clothes. Then the reindeer brought me here. 我很冷所以带上了你的帽子 是雪橇把我送到这的\n",
      "153 I told Aada everything. 我什么都告诉亚达了 我怎么会那么做\n",
      "154 How I'd become the way I am - and why it was so important to deliver presents at Christmas. 为什么在圣诞节送礼物会如此重要\n",
      "155 I even revealed my dream of continuing this tradition - when I would be gone. 我甚至表明了我的梦想 就是继续这样下去 一直到我死去\n",
      "156 What kind of girl would Aada be now if she hadn't become a water nymph? 如果亚达没有变成一个水仙的话 那她现在会是什么样子\n",
      "157 Hopefully she'd be like you. 希望她会像你一样\n",
      "158 Aada kept her promise. 亚达坚守了她的承诺\n",
      "159 She didn't reveal my secret. Quite the opposite. 她没有说出我的秘密 真是不敢相信\n",
      "160 He didn't look like Nikolas. 他看起来不像是尼古拉斯 他是一个白发老人\n",
      "161 He was a wrinkly old man - who called himself Christmas Codger. 自己叫做圣诞老人\n",
      "162 The years passed, and before I knew it - my friendship with Aada had lasted almost twenty years. 几年过去了 在我知道之前 我跟亚达的友谊 已经持续了20年了\n",
      "163 Nikolas! 尼古拉斯\n",
      "164 Well? -什么事\n",
      "165 -I'm getting married. -我要结婚了\n",
      "166 To Mikko? 嫁给米科\n",
      "167 Nikolas, will you pick me up on Christmas morning? 尼古拉斯 你圣诞节早上会来接我吗\n",
      "168 Of course I will. 我当然会了\n",
      "169 -For what? -为了什么\n",
      "170 For everything. 为了一切\n",
      "171 Fear of losing love is part of love. It's part of life. 害怕失去爱也是爱的一部分 这是生活的一部分\n",
      "172 Your father... Eemeli taught me that. 你爸爸 艾美利告诉我那个的\n",
      "173 You have taught me how wonderful it is to give. 你已经告诉我 给予是多么的幸福\n",
      "174 Nikolas, maybe you should think of yourself for a change. 尼古拉斯 也许你自己该想想改变一下\n",
      "175 Nothing lasts forever. 没有什么是永久的\n",
      "176 It was time for me to give in to my years. 是我该服老的时候了\n",
      "177 Next Christmas would be the last. My last Christmas. 下一个圣诞节将是最后一个 我最后的圣诞节\n",
      "178 It's beautiful. Who is it for? 很漂亮 这是给谁的\n",
      "179 Can I gift wrap it? -No. -我能包装礼物吗\n",
      "180 I want to do it myself. -不 我想自己来做\n",
      "181 See you on Christmas morning. 圣诞节早上见\n",
      "182 Are you sure you don't want any help at Christmas? 你确定你不想 在圣诞节做任何事吗\n",
      "183 Yes. I want to do my rounds alone. 是的 我想一个人到处去游玩\n",
      "184 Nikolas, remember your promise. This is the last Christmas. 尼古拉斯 记住你的承诺 这是最后一个圣诞节\n",
      "185 This is the last Christmas. 这是最后一个圣诞节\n",
      "186 Nikolas? 尼古拉斯\n",
      "187 \"Merry Christmas to little Aada. Your brother, Nikolas.\" 祝小亚达圣诞节快乐 你的兄弟 尼古拉斯\n",
      "188 -We won't be seeing Nikolas again. -我们再也见不到尼古拉斯了\n",
      "189 -I can't explain. I just know it. -我解释不清 我只知道\n",
      "190 What are you doing? There's no sense in doing that. 你在做什么 那样做没有任何意义\n",
      "191 Nikolas wanted this to continue. -尼古拉斯想要这个继续下去\n",
      "192 A present for our Nikolas will disappoint other children. 一件给我们尼古拉斯的礼物 将会使孩子失望\n",
      "193 Other fathers have done this too... -It's not the same thing. 其他爸爸们也得做这个 这不是同一件事\n",
      "194 Mikko, that's cheating. 米科 那是骗人的\n",
      "195 Mikko? 米科\n",
      "196 Merry Christmas, little Aada. 圣诞节快乐 小亚达\n",
      "197 Merry Christmas, Nikolas. 圣诞节快乐 尼古拉斯\n",
      "198 Dasher, Dancer, Prancer and Blitzen, ahoy! 达舍尔 丹赛 普兰斯和布利申\n",
      "199 Merry Christmas! 圣诞节快乐\n",
      "200 |||| [0] If a photon is directed through a plane with two slits in it and either is observed it will not go through both. 将光子正对平面上的双缝 观察任意一个隙缝 它不会穿过那两个隙缝\n",
      "201 If unobserved, it will. 如果没被观察 那就会\n",
      "202 |||| [0] If it's observed after it left the plane, before it hits its target... 总之 如果观察它在离开平面到击中目标之前\n",
      "203 |||| [0] - ...it will not have gone through both slits. 它就不会穿过那两个隙缝\n",
      "204 - Agreed. What's your point? 没错 但你为什么要说这个?\n",
      "205 |||| [2] There's no point, I just think it's a good idea for a T-shirt. 没什么 我只是觉得这个主意 可以用于设计T恤衫\n",
      "206 |||| [5] One across is Aegean, eight down is Nabokov. 横1是Aegean (爱情海)\n",
      "207 |||| [5] Twenty-six across is MCM. 竖8是Nabokov (小说洛丽塔的作者) 横26是MCM\n",
      "208 Fourteen down is... Move your finger. 竖14是...\n",
      "209 ...phylum, which makes 14 across Port-Au-Prince. 手指挪开点 Phylum (生物门类) 这样一来横14就是Port -au\n",
      "210 See, Papa Doc's capital idea, that's Port-Au-Prince. 瞧 提示是\"Papa doc的首都\" (海地前总统) 所以是太子港\n",
      "211 Haiti. 海地的\n",
      "212 |||| [6] - Can I help you? - Yes. - 能为你效劳吗?\n",
      "213 |||| [7] Um, is this the high-IQ sperm bank? 这里是高智商精子银行吗?\n",
      "214 |||| [8] If you have to ask, maybe you shouldn't be here. 如果你这么问 也许你不该来这\n",
      "215 |||| [9] I think this is the place. 我想就是这没错了\n",
      "216 - Fill these out. - Thank you. - 把这个填一填\n",
      "217 - We'll be right back. - 谢谢 我们马上好\n",
      "218 |||| [12] - Oh, take your time. I'll just finish my crossword puzzle. 慢慢来 我还要玩填字游戏\n",
      "219 |||| [12] Oh, wait. 噢 慢着\n",
      "220 |||| [13] Leonard, I don't think I can do this. Leonard 我办不到\n",
      "221 What, are you kidding? 开玩笑? 你可是半职业人士\n",
      "222 |||| [15] We are committing genetic fraud. 不 我们这样是诈骗\n",
      "223 |||| [15] There's no guarantee our sperm's going to generate high-IQ offspring. Think about that. 我们没法保证 生出来的一定是高智商小孩\n",
      "224 |||| [15] I have a sister with the same basic DNA mix who hostesses at Fuddruckers. 我姐姐跟我有一套相同的基本基因 她却在Fuddrucker餐厅当服务生\n",
      "225 |||| [16] Sheldon, this was your idea. Sheldon 这可是你的主意啊\n",
      "226 |||| [16] A little extra money to get fractional T1 bandwidth in the apartment? 轻松赚点钱 就有钱能升级我们的网络带宽\n",
      "227 |||| [17] I know. And I do yearn for faster downloads. 我知道 我确实很渴望高速下载\n",
      "228 |||| [17] There's some poor woman who's gonna pin her hopes on my sperm. 但一些可怜的女人 会把希望寄托在我的精子上\n",
      "229 |||| [17] What if she winds up with a toddler who doesn't know if he should use a differential to solve for the area under a curve? 万一生出来一个 连曲线下部的面积用积分还是微分算 都搞不清楚的小屁孩怎么办?\n",
      "230 - I'm sure she'll still love him. 我想她还是会爱那个宝宝的\n",
      "231 - I wouldn't. 我不会\n",
      "232 |||| [20] Well, what do you wanna do? 你想要怎样?\n",
      "233 |||| [21] - I want to leave. - 我想要走\n",
      "234 |||| [23] - What's the protocol for leaving? - I don't know. 离开时要怎么说呢?\n",
      "235 |||| [24] I've never reneged on a proffer of sperm before. 我不知道 我可从没有拒绝过提供精子的要求\n",
      "236 Let's try just walking out. 我们就直接走出去吧\n",
      "237 - Bye. - Bye-bye. - 再见\n",
      "238 Nice meeting you. - 再见 很高兴认识你\n",
      "239 |||| [29] - Are you still mad about the sperm bank? 你还在为精子银行的事生气吗? 没有\n",
      "240 |||| [31] You wanna hear an interesting thing about stairs? 你想听一件关于楼梯的趣事吗?\n",
      "241 |||| [32] Not really. 不是很想\n",
      "242 |||| [33] If the height of a step is off by as little as two millimeters... - ...most people will trip. 如果一阶楼梯比普通的矮个2毫米 大部分人都会绊倒\n",
      "243 - I don't care. 不关我事\n",
      "244 Two millime...? That doesn't seem right. 2毫米?\n",
      "245 It's true. 不会吧\n",
      "246 |||| [35] I did a series of experiments when I was 12. 是真的 我12岁时做了一系列的实验\n",
      "247 |||| [35] My father broke his clavicle. 我爸爸因此还跌断了锁骨\n",
      "248 |||| [36] Is that why they sent you to boarding school? No. 所以他们把你送去寄宿学校?\n",
      "249 |||| [37] That was the result of my work with lasers. 不 那是因为我研究激光惹的事\n",
      "250 New neighbor? SHELDON: - 新邻居?\n",
      "251 |||| [39] Evidently. - 显然是\n",
      "252 |||| [40] Significant improvement over the old neighbor. 比上一任有了明显可观的改善\n",
      "253 |||| [41] Two-hundred pound transvestite with a skin condition? Yes, she is. 那个200磅重还患有皮肤病的异装癖?\n",
      "254 |||| [42] Oh, hi. - 嗨\n",
      "255 - Hi. - 嗨 - 嗨 - 嗨\n",
      "256 |||| [48] We don't mean to interrupt. We live across the hall. 我们不想打扰你 我们是住对面的邻居\n",
      "257 Oh, that's nice. 啊 太好了\n",
      "258 No. We don't live together. 噢不 我们不是同居\n",
      "259 |||| [50] I mean we live together, but in separate, heterosexual bedrooms. 我是说 虽然住在一起 但是在不同的... 直男房间里\n",
      "260 |||| [51] Okay, well, guess I'm your new neighbor. - Penny. 那好吧 我是你们的新邻居 我叫Penny\n",
      "261 |||| [52] - Leonard. Sheldon. 我是Leonard 他是Sheldon\n",
      "262 |||| [57] Well... Oh, welcome to the building. 欢迎你搬来\n",
      "263 |||| [58] Oh, thank you. Maybe we can have coffee sometime. 谢谢 有空一起喝个咖啡吧\n",
      "264 |||| [59] - Oh, great. - 噢 好啊\n",
      "265 Well, bye. - 那么 再见啦\n",
      "266 |||| [66] Should we have invited her for lunch? No. 我们应该邀请她共进午餐吗?\n",
      "267 |||| [67] We're gonna start season two of Battlestar Galactica. 不 我们要看Battlestar Galactica第二季 (太空堡垒卡拉狄加)\n",
      "268 |||| [68] We already watched the season two DVDs. 我们已经看过第二季的DVD了\n",
      "269 |||| [69] Not with commentary. 那时候没带评论音轨一起看啊\n",
      "270 |||| [70] I think we should be good neighbors. Invite her over, make her feel welcome. 我们应该做好邻居 请她过来 让她感受到我们对她的欢迎\n",
      "271 We never invited Louie/Louise over. 我们从来没请那个Louis还不Louise过来啊\n",
      "272 |||| [72] Well, and that was wrong of us. 那是我们不对\n",
      "273 |||| [72] We need to widen our circle. 我们要扩大社交圈\n",
      "274 |||| [73] I have a very wide circle. 我的社交圈很广\n",
      "275 |||| [73] I have 212 friends on MySpace. 我在MySpace上有212个朋友\n",
      "276 |||| [74] Yes, and you've never met one of them. 是的 但你从没见过任何一个真人\n",
      "277 That's the beauty of it. 这正是它的美好之处\n",
      "278 I'm gonna invite her over. 我去请她过来\n",
      "279 |||| [76] We'll have a nice meal and chat. 我们好好吃一餐 闲聊一下\n",
      "280 |||| [77] We don't chat, at least not off-line. 我们不闲聊 至少不线下闲聊\n",
      "281 Well, it's not difficult. 不会很难的 你就听她说\n",
      "282 |||| [78] You just listen to what she says and then you say something appropriate in response. 然后给一些适当的回应就好了\n",
      "283 |||| [79] To what end? 直到什么时候?\n",
      "284 - Hi. Again. - Hi. 嗨 又是我们\n",
      "285 |||| [85] Anyway we brought home Indian food and I know that moving can be stressful and I find that when I'm undergoing stress that good food and company can have a comforting effect. 我们买了些印度菜 那个... 我知道搬家会很累人\n",
      "286 |||| [85] Also, curry's a natural laxative and I don't have to tell you that, you know a clean colon is just one less thing to worry about. 此外 咖喱是天然的温和泻药 你也知道干净的结肠 会让你省去件烦心事\n",
      "287 |||| [86] I'm no expert, but in the context of a lunch invitation you might wanna skip the reference to bowel movements. Leonard 虽然我不是专家 但我相信当你邀请人吃午饭的时候 最好省略关于肠部运动的话题\n",
      "288 |||| [87] Oh, you're inviting me over to eat? 你们是在邀我一起吃饭?\n",
      "289 Oh, that's so nice. I'd love to. 真是太好了 我很愿意\n",
      "290 |||| [91] So, what do you guys do for fun around here? 你们平时都玩什么呢?\n",
      "291 |||| [92] Well, today we tried masturbating for money. 今天我们尝试了靠手淫挣钱\n",
      "292 |||| [93] - Okay, well, make yourself at home. Tears 请随意\n",
      "293 |||| [96] This looks like some serious stuff. Leonard, did you do this? 这些看起来好深奥啊 Leonard 这是你写的吗?\n",
      "294 Actually, that's my work. 实际上 那些是我做的\n",
      "295 |||| [99] Yeah, well, it's just some quantum mechanics with a little string theory doodling around the edges. 就是些量子力学而已 边上我随便胡写了一点弦理论 那个部分 是开玩笑的\n",
      "296 |||| [99] It's a spoof of the Born-Oppenheimer approximation. 是我乱改的伯恩 -奥本海默近似版\n",
      "297 |||| [100] So you're, like, one of those Beautiful Mind genius guys. 看来你是\"美丽心灵\"那部电影 里面的那种天才人物啊\n",
      "298 Yeah. 可以这么说\n",
      "299 |||| [102] This is really impressive. 好厉害啊\n",
      "300 |||| [103] I have a board, if you like boards. This is my board. 我也有块纸板 如果你喜欢 这边是我的纸板\n",
      "301 |||| [104] Holy smokes. 我的妈呀\n",
      "302 |||| [105] If by \"holy smokes,\" you mean a derivative restatement of the stuff you can find scribbled on the wall of any men's room at MIT, sure. 如果你说的\"我的妈呀\" 指的是在麻省理工大学 任何一个男生宿舍墙上都能看到的涂写 那我想是的\n",
      "303 |||| [107] Who hasn't seen this differential below \"here I sit brokenhearted\"? 谁没见过\"我伤心地坐在这\" 下面的微分演算啊?\n",
      "304 |||| [108] At least I didn't have to invent 26 dimensions just to make the math come out. 至少我不用自己发明26种量纲 才能让演算成立\n",
      "305 - I didn't invent them. They're there. 我没有发明它们 它们本来就是存在的\n",
      "306 |||| [110] - In what universe? 在哪个世界上存在啊?\n",
      "307 |||| [111] In all of them, that is the point. 所有的世界里都存在 这正是关键\n",
      "308 |||| [112] Do you guys mind if I start? 我可以开动了吗?\n",
      "309 - Penny. - Yeah? Penny\n",
      "310 That's where I sit. 你坐了我的座位\n",
      "311 |||| [114] So sit next to me. 那你坐我旁边嘛\n",
      "312 |||| [115] - No, I sit there. 不行 我只坐那个座位\n",
      "313 |||| [118] - Here we go. 又来了\n",
      "314 |||| [119] In winter, that seat is close enough to the radiator to remain warm yet not so close as to cause perspiration. 冬天 那个位置跟电暖炉之间的距离 正好能让人保持温暖 而又不会太近导致出汗\n",
      "315 |||| [119] In the summer, it's in a cross breeze created by opening windows there and there. 夏天 坐在这儿正好能吹到 从这个窗口到那个窗口对吹的风\n",
      "316 |||| [119] It faces the television at an angle that is neither direct, discouraging conversation nor so far wide as to create a parallax distortion. 而且这里对着电视的角度正好 既不会妨碍跟他人谈话 又不用把头扭得太过去 以致造成视差畸变\n",
      "317 |||| [119] I could go on, but I think I've made my point. 我还能继续解释下去 但我想你应该明白了\n",
      "318 |||| [120] Do you want me to move? 你要我移开吗?\n",
      "319 |||| [122] - Just sit somewhere else. - 你就坐到旁边去吧\n",
      "320 |||| [124] Sheldon, sit. Sheldon 给我坐下!\n",
      "321 |||| [126] Well, this is nice. 这样很不错\n",
      "322 |||| [126] We don't have a lot of company over. 我们不是经常有朋友过来\n",
      "323 That's not true. Koothrappali and Wolowitz come over. 你胡扯 Koothrappali和Wolowitz天天都来\n",
      "324 Yes, I know. 我知道 但...\n",
      "325 |||| [129] Tuesday night we played Klingon Boggle until 1 in the morning. 星期二晚上 我们玩Klingon拼字游戏到夜里1点\n",
      "326 - Yeah, I remember. 是啦 我记得\n",
      "327 |||| [131] - I resent you saying we don't have company. 我讨厌你说我们没有朋友 - 抱歉\n",
      "328 - That has a negative social implication. - 那会产生消极的交际暗示\n",
      "329 - I said I'm sorry. 我说了我很抱歉!\n",
      "330 |||| [135] So Klingon Boggle? Klingon拼字游戏是什么?\n",
      "331 |||| [136] Yeah. It's like regular Boggle, but in Klingon. 就像普通的拼字游戏 但是是Klingon语的 (星际迷航中外星武士一族的怪异语言)\n",
      "332 |||| [136] That's probably enough about us. So tell us about you. 不聊我们了 说说你的事吧\n",
      "333 |||| [137] I'm a Sagittarius, which probably tells you way more than you need to know. 我是人马座的 这一点就很能说明我的个性啦\n",
      "334 |||| [138] Yes, it tells us that you participate in the mass cultural delusion that the sun's position relative to arbitrary constellations at the time of your birth somehow affects your personality. 是啊 它告诉我们你也是 迷信那种大众文化妄想的一员 你相信你出生时太阳的视位置 跟任意划分的星群间的关系 能以某种方式影响你的性格\n",
      "335 |||| [139] Participate in the what? 我相信什么?\n",
      "336 |||| [140] I think what Sheldon's trying to say is that Sagittarius wouldn't have been our first guess. 我想Sheldon是说 你第一眼看上去不像人马座\n",
      "337 |||| [141] Oh, yeah, a lot of people think I'm a water sign. 对啊 很多人觉得我像水相星座\n",
      "338 Okay, let's see, what else? 让我想想 还有什么\n",
      "339 Oh, I'm a vegetarian. 我是个素食者 嗯 鱼除外\n",
      "340 |||| [141] No, except for fish, and the occasional steak. 偶尔我也吃牛排 我好爱牛排!\n",
      "341 Well, that's interesting. Leonard can't process corn. 那真是有趣 Leonard不能消化玉米\n",
      "342 |||| [143] So do you have some sort of a job? PENNY: 你做什么工作呢?\n",
      "343 Oh, yeah. I'm a waitress at The Cheesecake Factory. 我在\"芝士蛋糕工厂\"当女招待\n",
      "344 I love cheesecake. 我很喜欢芝士蛋糕\n",
      "345 - You're lactose intolerant. 你都不能忍受乳糖\n",
      "346 - I don't eat it, I think it's a good idea. 我不吃 不代表我不欣赏它\n",
      "347 Anyways, I'm also writing a screenplay. 不管怎样 我还在写剧本\n",
      "348 It's about this sensitive girl who comes to L.A. from Lincoln, Nebraska to be an actress and winds up a waitress at The Cheesecake Factory. 是关于一个感情细腻的女孩 从内布拉斯加州Lincoln小镇来到洛杉矶 梦想成为演员 却只能在芝士蛋糕工厂当女招待\n",
      "349 So it's based on your life. 剧本是根据你的经历改编的哦?\n",
      "350 No, I'm from Omaha. 不 我是从奥马哈市来的\n",
      "351 |||| [151] If that was a movie, I would go see it. 如果真的拍成电影 我肯定会去看的\n",
      "352 I know, right? 我知道 故事不错是吧?\n",
      "353 Okay, let's see, what else? 我想想 还有什么?\n",
      "354 I guess that's about it. 好像差不多了\n",
      "355 That's the story of Penny. 这就是Penny的故事\n",
      "356 |||| [153] Well, it sounds wonderful. 听起来很棒啊\n",
      "357 |||| [154] It was. 以前是的\n",
      "358 |||| [154] Until I fell in love with a jerk. 直到我爱上了那个混球\n",
      "359 [MOUTHS] I don't know. 我不知道\n",
      "360 |||| [157] Oh, God, you know, four years I lived with him. 你知道吗 我跟他同居了4年\n",
      "361 |||| [157] Four years. That's like as long as high school. 4年 跟高中一样久了\n",
      "362 |||| [158] It took you four years to get through high school? 你花了4年才上完高中?\n",
      "363 |||| [160] I just... I can't believe I trusted him. 我不敢相信我居然那么信任他\n",
      "364 |||| [161] Should I say something? 我该说些什么吗?\n",
      "365 |||| [161] I feel I should say something. You? 我觉得我该说些什么\n",
      "366 No, you'll only make it worse. 你? 千万别 你只会让事情变得更糟糕\n",
      "367 |||| [163] You wanna know the most pathetic part? 你知道最可悲的是什么吗?\n",
      "368 |||| [163] Even though I hate his lying, cheating guts I still love him. 尽管我对他的谎言欺骗恨之入骨 我还是爱着他\n",
      "369 |||| [163] Is that crazy? 是不是很疯狂?\n",
      "370 No, it's not crazy. 不 那不是疯狂\n",
      "371 It's a... 你只是...\n",
      "372 It's a paradox. 陷入一种矛盾\n",
      "373 |||| [165] Paradoxes are part of nature. 矛盾是我们天性的一部分\n",
      "374 |||| [165] I mean, think about light. If you look at Huygens, light is a wave, as confirmed by the double-slit experiments. 你想想光 惠更斯认为光是一种波动\n",
      "375 |||| [165] But then, along comes Albert Einstein and discovers that light behaves like particles too. 但后来 爱因斯坦出现了 他发现光也具有粒子的表现特征\n",
      "376 Well, I didn't make it worse. 呃 我没让情况变得更糟\n",
      "377 Oh, I'm so sorry I'm such a mess. 很抱歉 我真是一团糟\n",
      "378 |||| [166] And on top of everything else, I'm all gross from moving and my stupid shower doesn't work. 除了那些烂事 我搬家弄得一身臭汗 该死的淋浴还坏掉了\n",
      "379 |||| [167] Our shower works. 我们的淋浴房能用\n",
      "380 |||| [168] Would it be totally weird if I used it? 我用你们的淋浴房 会不会很奇怪?\n",
      "381 - No? - 不会?\n",
      "382 It's right down the hall. 就在厅后面\n",
      "383 |||| [175] Okay, thanks. You guys are really sweet. 谢谢 你们真是大好人\n",
      "384 |||| [176] Well, this is an interesting development. 真是有趣的进展啊\n",
      "385 LEONARD: How so? 为什么?\n",
      "386 SHELDON: It has been some time since we've had a woman take her clothes off in our apartment. 已经有好长一段时间 没有女人在我们的公寓里脱光了\n",
      "387 |||| [179] That's not true. Remember at Thanksgiving my grandmother with Alzheimer's had that episode? 不对吧 还记得感恩节我那阿兹海默症 (老年痴呆)的奶奶病发闹出的那一段吗?\n",
      "388 It has been some time since we've had a woman take her clothes off after which we didn't wanna rip our eyes out. 有道理 已经有好长一段时间 没有女人在我们公寓里脱光 而且我们不会想抠出自己的眼睛!\n",
      "389 |||| [181] The worst part was watching her carve that turkey. 看着她乱搞那只火鸡 是最折磨人的\n",
      "390 |||| [182] So, what exactly are you trying to accomplish here? 你到底希望达到什么目标呢?\n",
      "391 That woman in there is not going to have sex with you. 那个女孩不会跟你上床的\n",
      "392 Well, I'm not trying to have sex with her. 我不是想跟她上床\n",
      "393 |||| [186] Oh, good. Then you won't be disappointed. 很好 那你就不会失望了\n",
      "394 |||| [187] What makes you think she wouldn't have sex with me? 你为什么认定她不会跟我上床?\n",
      "395 |||| [187] I'm a male and she's a female. 我是男人 她是女人\n",
      "396 |||| [188] Yes, but not of the same species. 对 但你们不是一个种族的\n",
      "397 I'm not gonna engage in hypotheticals here. 我不想跟你在这瞎猜\n",
      "398 |||| [189] - I'm just trying to be a good neighbor. 我只是想当个好邻居\n",
      "399 |||| [190] - Oh, of course. 当然了\n",
      "400 |||| [191] That's not to say that if a carnal relationship were to develop that I wouldn't participate. 但是如果真的要发展到肉体关系 我也不会拒绝的\n",
      "401 |||| [191] However briefly. 不管那有多短暂\n",
      "402 |||| [192] Do you think this possibility will be hindered when she discovers your Luke Skywalker \"no more tears\" shampoo? 你觉得让她发现你的 \"天行者Luke\"无泪洗发水 是会帮助还是阻碍你们的发展呢?\n",
      "403 It's Darth Vader shampoo. 那是Darth Vader洗发液 (星球大战中角色)\n",
      "404 Luke Skywalker's the conditioner. \"天行者Luke\"是护发素\n",
      "405 |||| [194] - Wait till you see this. 你们得看看这个\n",
      "406 - It's fantastic. Unbelievable. 超级赞 不可置信\n",
      "407 |||| [196] See what? 看什么?\n",
      "408 |||| [197] It's a Stephen Hawking lecture from MIT in 1974. 是施蒂芬 -霍金于1974年 在麻省理工做的演讲\n",
      "409 |||| [198] This isn't a good time. 现在不方便\n",
      "410 |||| [199] [IMITATING COMPUTERIZED VOICE] It's before he became a creepy computer voice. 这是在他变成诡异的 电脑合成声音之前的讲座\n",
      "411 |||| [200] - That's great, you guys have to go. 很好 你们得走了\n",
      "412 |||| [202] - It's just not a good time. 现在不方便啊\n",
      "413 |||| [203] - Leonard has a lady over. Leonard有女人拜访\n",
      "414 |||| [204] [IN NORMAL VOICE] Yeah, right. Your grandmother back in town? 这样啊 你奶奶又进城了?\n",
      "415 |||| [205] No. 不是什么女人的艳遇啦\n",
      "416 |||| [205] And she's not a lady, she's just a new neighbor. 只是我们的新邻居\n",
      "417 |||| [206] Hang on, there really is a lady here? 你等等 这儿真有个女人?\n",
      "418 |||| [207] - Uh-huh. 没错\n",
      "419 |||| [208] - And you want us out because you're anticipating coitus? 你要我们走 是因为你准备跟她交媾?\n",
      "420 - I'm not anticipating coitus. 我没准备跟她交媾\n",
      "421 - So she's available for coitus? 那她可以跟别人交媾?\n",
      "422 Can we please just stop saying \"coitus\"? 能不能别用\"交媾\"这个词?\n",
      "423 |||| [212] Technically, that would be coitus interruptus. 用术语来说 就是交媾中止\n",
      "424 |||| [213] Hey, is there a trick to getting it to switch from tub to shower? 从泡浴换成淋浴 是不是有个开关?\n",
      "425 |||| [213] Oh, hi, sorry. Hello. 噢 很抱歉 你们好\n",
      "426 Enchanté, mademoiselle. 很高兴认识您 小姐\n",
      "427 |||| [214] Howard Wolowitz, CalTech Department of Applied Physics. 我是Howard Wolowitz 加州理工大应用物理系\n",
      "428 |||| [214] You may be familiar with some of my work. 你可能对我的工作成果有所了解\n",
      "429 |||| [214] It's currently orbiting Jupiter's largest moon taking high-resolution digital photographs. 它现在正绕着木星最大的卫星旋转 拍摄高清数码照片\n",
      "430 |||| [215] Penny. I work at The Cheesecake Factory. 我是Penny 我在芝士蛋糕工厂做侍应\n",
      "431 |||| [216] - I'll show you the trick with the shower. - Okay. 来吧 我告诉你开关在哪\n",
      "432 [SPEAKS IN FRENCH] Bonne douche!\n",
      "433 It's French for \"good shower.\" 法语的\"洗个痛快澡\"\n",
      "434 |||| [219] It's a sentiment I can express in six languages. 我能用六国语言表达这一祝愿\n",
      "435 |||| [220] Save it for your blog, Howard. 留着在你的Blog上写吧 Howard\n",
      "436 [SPEAKS IN FOREIGN LANGUAGE] 洗个痛快澡 (中文)\n",
      "437 |||| [222] LEONARD: All right, there it goes. It sticks, I'm sorry. 这样就行 开关卡住了 抱歉\n",
      "438 |||| [223] - Okay, thanks. 好的 谢谢\n",
      "439 - You're welcome. Oh, you're just gonna step right...? 不客气 你只要向右...\n",
      "440 Okay. 好 我撤了\n",
      "441 PENNY: Hey, Leonard? - Leonard\n",
      "442 |||| [226] - The hair products are Sheldon's. - 那些洗发产品是Sheldon的\n",
      "443 PENNY: Okay. 好的\n",
      "444 |||| [227] - Um, can I ask you a favor? 我能麻烦你帮个忙吗?\n",
      "445 - A favor? 帮忙?\n",
      "446 |||| [228] Sure, you could ask me a favor. I would do you a favor for you. 你当然可以要我帮忙 我很乐意帮你忙\n",
      "447 |||| [229] - It's okay if you say no. 你不答应也没事\n",
      "448 - Oh, I'll probably say yes. 噢 我应该会答应的\n",
      "449 |||| [231] It's just not the kind of thing you ask a guy you just met. 这不是那种 你会请刚认识的人帮的忙\n",
      "450 |||| [233] I really think we should examine the chain of causality here. 我们得回顾下这起事件的前因后果\n",
      "451 |||| [234] - Must we? 一定要吗?\n",
      "452 |||| [235] - Event A: 事件A:\n",
      "453 |||| [235] A beautiful woman stands naked in our shower. 一个美女在我们的浴室裸体\n",
      "454 Event B: 事件B:\n",
      "455 |||| [235] We drive halfway across town to retrieve a television set from the aforementioned woman's ex-boyfriend. 我们开车穿越整个小镇 就为了搬台电视机回来 目的地就在刚刚提到的美女的前男友家\n",
      "456 |||| [235] On what plane of existence is there even a semi-rational link between these events? 提问:\n",
      "457 |||| [236] She asked me to do her a favor, Sheldon. 因为Penny请我帮个忙 Sheldon\n",
      "458 |||| [237] Well, that may be the proximal cause of our journey but we both know it exists in contradistinction to the higher-level distal cause. 是啊 那也许是最近似可能的起因了 但我们都知道 它和更高级的末端起因截然不同\n",
      "459 |||| [238] - Which is? 那是什么意思?\n",
      "460 |||| [239] - You think with your penis. 你用你的老二思考\n",
      "461 |||| [240] That's a biological impossibility, and you didn't have to come. 这在生理上是不可能的 你也不一定要来啊\n",
      "462 |||| [241] I could have stayed behind to watch Wolowitz hit on Penny in Russian, Arabic and Farsi. 对 我可以留在家里看着Wolowitz 试图用俄语 阿拉伯语及波斯语搭讪Penny\n",
      "463 |||| [241] And why can't she get her own TV? 她为什么不能自己去拿?\n",
      "464 |||| [242] Come on, you know how it is with breakups. 你知道分手这种事啦\n",
      "465 No, I don't, and neither do you. 不 我不知道 你也不知道\n",
      "466 |||| [244] But I... I broke up with Joyce Kim. 什么啊 我跟Joyce Kim分过手\n",
      "467 |||| [245] You did not break up with Joyce Kim. She defected to North Korea. 你才没有和Joyce Kim分手 是她跑到韩国去了\n",
      "468 |||| [246] To mend her broken heart. 为了修复她受伤的心灵\n",
      "469 |||| [246] This situation is much less complicated. 现在这情况更加复杂\n",
      "470 |||| [246] There's some dispute between Penny and her ex-boyfriend as to who gets custody of the TV. Penny和她前男友不能达成一致 究竟电视机该归谁\n",
      "471 |||| [246] - She just wanted to avoid a scene with him. 她不想再和他当面争执\n",
      "472 |||| [247] - So we get to have a scene with him? 所以我们去和他当面争执?\n",
      "473 |||| [248] No, Sheldon, there's not going to be a scene. Sheldon 根本不会有争执\n",
      "474 |||| [248] There's two of us and one of him. 我们两人 他一人\n",
      "475 |||| [249] Leonard, the two of us can't even carry a TV. Leonard 我们俩加起来都抗不动一台电视\n",
      "476 |||| [250] So you guys work with Leonard and Sheldon at the university? 你们跟Leonard和Sheldon一起在学校做事?\n",
      "477 |||| [251] I'm sorry, do you speak English? 不好意思 你会说英语吗?\n",
      "478 |||| [252] Oh, he speaks English. He just can't speak to women. 他会 只是不能跟女人说\n",
      "479 He's kind of a nerd. 因为他是个书呆子\n",
      "480 Juice box? 盒装果汁? (谐音G -Spot 即高潮快点)\n",
      "481 - I'll do the talking. 我来跟他理论\n",
      "482 MAN: Yeah? 谁?\n",
      "483 - Hi. I'm Leonard, this is Sheldon. 嗨 我是Leonard 他是Sheldon\n",
      "484 |||| [259] What did I just...? - 我...\n",
      "485 |||| [259] - We're here to pick up Penny's TV. 我们来拿Penny的电视\n",
      "486 |||| [260] - Get lost. 滚\n",
      "487 |||| [261] Okay, thanks for your time. 好的 打搅你了\n",
      "488 |||| [262] - We're not gonna give up just like that. 我们不能就这么放弃\n",
      "489 |||| [263] - Leonard, the TV's in the building. Leonard 电视在这楼里\n",
      "490 |||| [263] We've been denied access to the building, ergo we are done. 他不放我们进去 我们没辙\n",
      "491 |||| [264] If I were to give up at the first hitch, I never would have identified the fingerprints of string theory in the aftermath of the big bang. 不好意思 如果我第一次受挫就放弃 我就永远不可能在大爆炸理论提出后 发现关于弦理论的蛛丝马迹\n",
      "492 My apologies. What's your plan? 我道歉 你打算怎么做?\n",
      "493 |||| [266] It's just a privilege to watch your mind at work. 看到你如此专注工作 真是种荣幸\n",
      "494 |||| [267] Come on, we have a combined IQ of 360. 来吧 我们俩智商加起来有360\n",
      "495 |||| [267] We should be able to figure out how to get into a stupid building. 我们绝对能够想办法进入这蠢楼\n",
      "496 |||| [268] - What do you think their combined IQ is? 你觉得她俩智商加起来多少?\n",
      "497 |||| [269] - Just grab the door. 快去留住门!\n",
      "498 LEONARD: This is it. 就是这\n",
      "499 I'll do the talking. 我来跟他理论\n",
      "500 Good thinking, I'll just be the muscle. 好主意 我用武力威慑\n",
      "501 - I'm Leonard, this is Sheldon. 我是Leonard 他是Sheldon\n",
      "502 |||| [274] From the intercom. 刚刚在对讲机上的\n",
      "503 |||| [275] How the hell did you get in the building? 他妈的你们怎么进来的?\n",
      "504 |||| [277] Tell him about our IQ. 告诉他我们的智商\n",
      "505 - Leonard. - What? - Leonard\n",
      "506 |||| [280] - My mom bought me those pants. - 什么? 那条裤子是我妈给我买的\n",
      "507 You're gonna have to call her. 你得给她打电话\n",
      "508 |||| [283] Sheldon, I am so sorry I dragged you through this. Sheldon 真对不起把你也扯进来了\n",
      "509 |||| [284] It's okay. It wasn't my first pantsing and it won't be my last. 没关系 这不是我第一次掉裤子了 也不会是最后一次\n",
      "510 |||| [285] And you were right about my motives. 你说得对 关于我的动机\n",
      "511 |||| [285] I was hoping to establish a relationship with Penny that might have someday led to sex. 我是指望着能跟Penny建立某种关系 并最终发展成肉体关系\n",
      "512 |||| [286] SHELDON: Well, you got me out of my pants. 你倒是成功地脱下了我的裤子\n",
      "513 Anyway, I've learned my lesson. 无论如何 我得到了教训\n",
      "514 |||| [287] She's out of my league, I'm done with her. 我配不上她 我放弃了\n",
      "515 |||| [287] I've got my work. One day I'll win the Nobel Prize and then I'll die alone. 我有工作 有一天我会赢得诺贝尔奖 然后孤老死去\n",
      "516 |||| [288] Don't think like that. You're not going to die alone. 别那么想 你不会孤老而死\n",
      "517 |||| [289] Thank you, Sheldon. You're a good friend. 谢谢你 Sheldon 你真是个好朋友\n",
      "518 SHELDON: And you're certainly not gonna win a Nobel Prize. 你当然也没可能赢诺贝尔奖\n",
      "519 |||| [291] This is one of my favorite places to kick back after a quest. 这里是我最喜欢的探险后休息的地方\n",
      "520 |||| [291] They have a great house ale. 他家的啤酒很好喝\n",
      "521 PENNY: Wow, cool tiger. 好酷的老虎\n",
      "522 |||| [293] Yeah, I've had him since Level 10. 是的 我从10级开始就养它了\n",
      "523 His name is Buttons. 它叫扣扣\n",
      "524 |||| [293] Anyway, if you had your own game character we could hang out, maybe go on a quest. 如果你也有自己的在线游戏人物 我们可以一起玩玩 一起探险\n",
      "525 - That sounds interesting. 听上去挺有趣\n",
      "526 - So you'll think about it? 那么 你会想想这个提议啦?\n",
      "527 |||| [296] Oh, I don't think I'll be able to stop thinking about it. 我想这个点子会让我思考许久的\n",
      "528 |||| [297] Smooth. 干得漂亮\n",
      "529 - We're home. 我们回来了\n",
      "530 |||| [299] - Oh, my God. What happened? 老天啊 发生了什么事?\n",
      "531 |||| [300] Well, your ex-boyfriend sends his regards and I think the rest is fairly self-explanatory. 你前男友让我们跟你带声问候 其他的我想应该够一目了然了\n",
      "532 |||| [301] I really thought if you guys went instead of me he wouldn't be such an ass. 我真的以为如果你们替我去 他不会表现那么混蛋\n",
      "533 |||| [302] No, it was a valid hypothesis. 挺充分的假设\n",
      "534 |||| [303] That was a valid hypo...? 挺充分的假...\n",
      "535 |||| [303] What is happening to you? ? 你怎么了?\n",
      "536 |||| [304] Really, thank you so much for going and trying. 说真的 太谢谢你们帮我跑这一趟了\n",
      "537 You just... You're so terrific. 你们真是大好人\n",
      "538 |||| [304] Why don't you put some clothes on, I'll get my purse, and dinner is on me, okay? 真的 你们穿上衣服 我去拿钱包 今晚我请客 好吧?\n",
      "539 |||| [305] - Really? Great. - 真的吗?\n",
      "540 |||| [306] - Thank you. 太好了!\n",
      "541 |||| [306] You're not done with her, are you? 你还没放弃 是吧?\n",
      "542 |||| [307] Our babies will be smart and beautiful. 我们的小孩肯定又聪敏又漂亮\n",
      "543 |||| [308] Not to mention imaginary. 而且还是想象出来的\n",
      "544 |||| [309] - Is Thai food okay with you, Penny? - Sure. - Penny 你能吃泰国菜吗?\n",
      "545 |||| [311] We can't have Thai, we had Indian for lunch. - 可以啊 我们不能吃泰国菜 中午已经吃了印度菜\n",
      "546 - They're both curry-based cuisines. 所以? 它们都是以咖喱为主的菜系\n",
      "547 - It would be gastronomically redundant. 那会造成\"肠胃不能承受之腹泻\"\n",
      "548 |||| [315] I can see we're going to have to spell out everything for this girl. 我发现我们什么都得帮她解释清楚\n",
      "549 Any ideas, Raj? Raj 你有什么主意吗?\n",
      "550 |||| [317] Turn left on Lake Street and head up to Colorado. 在Lake街左转 朝Colorado开\n",
      "551 |||| [317] I know a wonderful little sushi bar that has karaoke. 那边有个带卡拉OK的寿司吧\n",
      "552 Oh, that sounds like fun. 好像很好玩\n",
      "553 [SINGING] Baby, baby, don't get hooked on me * 宝贝 宝贝 不要被我迷上 *\n",
      "554 Oh, baby, baby Don't get hooked on me * 宝贝 宝贝 不要被我迷上 *\n",
      "555 |||| [320] I don't know your odds in the world as a whole but as far as the population of this car goes, you're a veritable mac daddy. 我不知道按整个世界算 你追她成功的机率有多大 但就这辆车里的人来讲 你绝对是名副其实的万人迷\n",
      "556 Baby, don't get hooked on me - - -\n",
      "557 Yo, we should just play this straight up. 我说，直接上去搞定他们得了\n",
      "558 Those cats will fold under pressure. 他们会被吓得像小猫一样乖的\n",
      "559 We can take these fools with our eyes closed. Come on. 我们闭着眼睛都能搞定这些笨蛋\n",
      "560 No doubt, but I don't wanna diss them in front of their home crowd. 当然，不过我不想在他们家门口羞辱他们\n",
      "561 D, I got you. D，我明白\n",
      "562 I got y'all. 我明白了\n",
      "563 -All right, man. -Come on, let's do it. 好了，伙计们　走吧，开始行动\n",
      "564 All right, all right, y'all, that was hot! 好了，劲爆极了\n",
      "565 And the winner is... . 获胜者是...\n",
      "566 Sphere and the Thug Unit! 斯斐尔和他的\"恶棍组合\"！\n",
      "567 Who wants next? 谁想下一个上？\n",
      "568 Let's get it going on in here. 让我们继续吧\n",
      "569 -Y'all want some of this? 你们是想比吗？\n",
      "570 -We got next. 该我们了\n",
      "571 All right, all right, y'all, let's get it popping in this mall ! 好了，好了，让我们玩转这个舞厅\n",
      "572 You haven't seen him pop. Come on, come on. 你还没见过他跳呢，来吧\n",
      "573 -Hey, I got that. -Get out of here! 嘿，知道厉害了吧　滚\n",
      "574 -Get back. -Break it up. 退回去　分开他们\n",
      "575 -Get back. Get back. -We good. 都松手　我们没事\n",
      "576 All right, all right, let's hear it for the Thug Unit. 好了，支持\"恶棍组合\"的，大声喊出来\n",
      "577 Give it up for the Goon Squad ! 支持\"打手新兵\"的！\n",
      "578 What's up? I think the Goon Squad got it, y'all. 哈，我觉得是\"打手新兵\"赢了\n",
      "579 Double or nothing says you got lucky. 等等，赌双倍，若不敢刚才就是狗屎运\n",
      "580 It's on. 奉陪\n",
      "581 -Let's go! Let's go! -What the hell are you doing? 开始吧，开始吧　你干什么呢你？\n",
      "582 Man, I'm out. 伙计，我退出\n",
      "583 What the hell you walking away for? 你他妈的为什么不干了？\n",
      "584 I say we double up on these niggas. 我都说了要加倍和他们赌\n",
      "585 -You know this ain't our spot, D. -你知道这不是我们的地盘，D\n",
      "586 -Sphere's crew don't know us. -斯斐尔的手下不了解我们\n",
      "587 Don't know what we're bringing, period. 不知道我们有多强\n",
      "588 -The more paper we take home. -我们能赢更多的钱\n",
      "589 -Did you see that cat? -你没看见那哥们吗？\n",
      "590 If he thinks he's being hustled, that's paper we won't spend. 如果他觉得不爽，有再多钱我们也没命花\n",
      "591 -Why are you acting all scared? 你怎么变得胆小如鼠了？\n",
      "592 -l'm not. 我没有\n",
      "593 -l'm acting smart. You try it! -我只是学着聪明点而已，你也学着点\n",
      "594 -Don't I always got your back? -我不是一直罩着你吗？\n",
      "595 Don't I always have your back? 难道我不是一直罩着你吗？\n",
      "596 -You know I got it, man, but I'm... . -我知道，我一直很感激你，但是...\n",
      "597 -lf you ain't with it, just go home. -如果你不想干的话，就回家呆着去吧\n",
      "598 -Like you could do this without me. -好像没了我你还能赢似的\n",
      "599 -For real, DJ. -真的，DJ\n",
      "600 We ain't shit without your brother. 没你弟弟的话我们屁都不算\n",
      "601 You know, it's gonna get nasty up in here! 这里就要沸腾了！\n",
      "602 -Don't wanna let stuff get out of hand-- -我只是不想事情失去控制而已\n",
      "603 -Don't sweat it. -别担心那个\n",
      "604 We came too far to turn back now, baby boy. I want this. 我们已经走的太远，没法回头了 小弟，我想赢\n",
      "605 You want this? 你想赢？\n",
      "606 I knew you'd say something like you want this. 我就知道你要说 什么我想赢之类的\n",
      "607 That's all this is about. Typical DJ. 一切都是为了你自己 这是你的一贯作风\n",
      "608 It's not just about you, it's about all of us. We're a team. 这不是为你一个人，是为了我们全部人 我们是一个团队\n",
      "609 Well, this team's about to double up on their asses. Come on. 那我们这个团队要和他们赌双倍的\n",
      "610 All right now, y'all ready to rip this? 好了，准备好甩碟了吗？\n",
      "611 Let's get it going on up in this mall ! 那就开始尽情的跳吧\n",
      "612 Let's go! 上位了！\n",
      "613 It's over! It's over! All right, all right, y'all ! 结束了，结束了，好了，好了\n",
      "614 This one, hands down, the Goon Squad ! 这次，没有悬念的\"打手新兵\"获胜\n",
      "615 You're dead ! You're dead ! 你死定了！\n",
      "616 Goon Squad ! Goon Squad is up. \"打手新兵\"要雄起了\n",
      "617 I'm telling you, man, we're taking over L.A. 早就说了，哥们，洛杉矶是我们的天下了\n",
      "618 -Believe that. -Yeah. 我信　没错\n",
      "619 Hold up, guys. 伙计们，等会\n",
      "620 -Hey, man, what's your brother doing? 嘿，你弟弟干什么呢？\n",
      "621 -Man, I don't know. 不知道\n",
      "622 -l got a little something for y'all. -All right. All right. 给大家个小小的惊喜　好极了\n",
      "623 That's what's up. You know what I'm saying? 就这样了，都明白我想说什么吧？\n",
      "624 Yeah, man. 嗯\n",
      "625 We gotta take Von home. His mom's gonna trip. 我们送芳回家吧，要不他妈会发狂的\n",
      "626 I have your mama. 我来搞定你老妈\n",
      "627 -He'll get a beating. -他会挨揍的\n",
      "628 -Miss Williams ain't banging on me. -威廉姆斯小姐不会上我的\n",
      "629 -Why you gotta do my mom like that? -你为什么要那样说我妈妈？\n",
      "630 -l was doing her like that. Last night. -我就是那么上她的，昨晚\n",
      "631 I got it! I got it! 让我来！\n",
      "632 -l want my money. -The money's mine. 把钱给我　钱是我的\n",
      "633 I want it. 可我想要\n",
      "634 Where's my money? 在哪？\n",
      "635 -Let's get out of here! Let's go! 我们离开这，快走！\n",
      "636 -Let's go. Move it! 走，快走！\n",
      "637 Get up, D! 振作点，D！\n",
      "638 Come on ! 振作！\n",
      "639 I'm sorry, man, I'm sorry. 对不起，伙计，对不起\n",
      "640 Somebody do something ! 大家做点什么啊\n",
      "641 We'd Iike to welcome all arriving passengers to Atlanta. 热烈欢迎来到亚特兰大的各位旅客\n",
      "642 We are so glad to have you here, DJ. 我们很高兴你来这，DJ\n",
      "643 You're in Atlanta, we'll get you a Hawks jersey or something. 你现在在亚特兰大了 我们会带你去看鹰队的比赛什么的\n",
      "644 Honey, nobody watches the Hawks. 亲爱的，没人看鹰队的比赛的\n",
      "645 That's your uncle's way of saying welcome to Georgia. 那是你叔叔说 欢迎来到乔治亚州的方式\n",
      "646 You'll get used to the humidity. 你会适应潮湿的气候的\n",
      "647 You must be so excited to start school. 要上学了你一定很兴奋吧\n",
      "648 Or nervous. 或者很紧张\n",
      "649 But don't be. You'll do just fine. 不过别担心，你会做的很好的\n",
      "650 You know that's where l met your uncle. 那是我遇到你叔叔的地方\n",
      "651 You guys went to Truth? 你们以前也在真理大学念的？\n",
      "652 I did. Your uncle was working there. 我是，你叔叔在那里工作\n",
      "653 Come on, let me show you up to your room. This way. 好了，我把你带到你房间去吧，跟我来\n",
      "654 That's your bathroom over there, and this is your room. 浴室在那，这个就是你的房间了\n",
      "655 If you get tired of campus food, you're more than welcome... 如果你吃腻了学校的饭菜，随时欢迎你\n",
      "656 ... tospendyourweekends here with us, anytime. 周末的时候回来和我们一起过\n",
      "657 You know, whatever makes you comfortable. 只要你觉得舒适就好\n",
      "658 DJ, I didn't get a chance to tell you at the funeral... DJ，有件事在葬礼上一直没机会和你说\n",
      "659 ... butyouknowweloved him. 但是你知道我们都很爱他\n",
      "660 I know how close you two were. 我知道你们两个关系有多亲密\n",
      "661 I gotta run and show a house... 我得去带人家看房子\n",
      "662 ... sowhenIget back, I'll make us all some dinner. 我回来之后就做晚餐\n",
      "663 Honey, go ahead and help yourself to some apple pie. 亲爱的，再吃些苹果派吧\n",
      "664 I know it's your favourite. 我知道你最喜欢了\n",
      "665 No, no, thanks. 不，谢谢了\n",
      "666 You know I had to call in a favour to get you into this school. 你知道让你进这个学校，让我欠别人个情\n",
      "667 -Don't make me look bad. -Nate. 别给我丢脸　纳特\n",
      "668 -No, that's cool. I'm listening. -Good. 不，没事，我听着呢　那就好\n",
      "669 Because the rules are very simple. 规矩其实很简单\n",
      "670 There's three things you have to deal with. 你只要做好三件事情就可以了\n",
      "671 First, you must keep your grades up at all times. 首先，不管什么时候都要保证 你学业能跟上\n",
      "672 Second, I'm in charge of your work study programme... 第二，我会负责你的勤工俭学\n",
      "673 ... butyou'llnot be treated differently... 但是我不会对你额外开恩的\n",
      "674 ... norwillyou behaveanydifferent than my other 26 employees. 你也要像我其他的26个雇员一样 勤勤恳恳的工作\n",
      "675 -And third? 第三呢？\n",
      "676 -lf there's a strike three, you out. 做不到前面两条就出局\n",
      "677 Period. 就这些了\n",
      "678 DJ? DJ？\n",
      "679 What the hell is going on, man? 你干什么呢？\n",
      "680 I'm not gonna sit out here and act like I wanna be here when I don't. 我可不想假装很喜欢呆在这里\n",
      "681 This whole college boy thing is not for me, man. 上大学这鬼主意并不适合我\n",
      "682 You're the only thing your mama's got left. 你是你妈妈仅有的希望了\n",
      "683 There's no way I'm gonna let you put my sister through any more pain. 我绝不允许你又让妹妹再痛苦一次的\n",
      "684 So you better make this college thing work out. Can you appreciate that? 所以你最好乖乖读你的大学去 明白了吗？\n",
      "685 Get your black ungrateful ass in the goddamn truck. 你这不知好歹的混球 赶快滚回车上去\n",
      "686 What'd I say, man? 听到我说的了吗？\n",
      "687 Get in the truck! 上车！\n",
      "688 At least you don't have a problem with waking up early. 至少你早起还不会有问题\n",
      "689 Looks like you're just in time for registration. 看起来你刚好赶上了注册的时间\n",
      "690 Yo, yo, hold my spot real quick. 嘿，帮忙占一下，很快就回来\n",
      "691 -This is my spot, thanks. -刚才我在这的，谢谢\n",
      "692 -Excuse me? -干什么呢？\n",
      "693 -There was a girl saving my space. -刚才我让个女孩帮我占着的\n",
      "694 -Nice try. -说的真好听\n",
      "695 You have to wait in line like everybody else. 你得和其他人一样慢慢排队\n",
      "696 You saw me behind the sister with the fro. 你刚才都看见我是在她后面的\n",
      "697 Now, one of you come up to the counter. 好了，你们其中一个到这来\n",
      "698 I'm just saying it's a little early to tell, Mom. That's all. 我只是说现在还很难说\n",
      "699 No, I'm not saying I hate it. 我没说我讨厌读书\n",
      "700 I'm not quitting. I promised you I'd try. That's my word. 我没想放弃，我发誓我会试试看的 我保证\n",
      "701 I love you too. 我也爱您\n",
      "702 There are only a select few things of mine that are absolutely off-limits. 我只有少数的几样东西是 你不能动的\n",
      "703 My toothbrush, my toothpaste, my shaving cream, and my condoms. 我的牙刷，牙膏，剃须膏 还有避孕套\n",
      "704 Magnums, of course. You know about the gold packs? 当然是大号的 你知道所谓的\"金装版\"吧？\n",
      "705 Yeah, yeah, yeah. 嗯，好的\n",
      "706 Other than that, playboy, anything else of mine... 除了那些，伙计 我的其它东西\n",
      "707 ... you'rewelcometo . 你都可以用 我是里奇.\n",
      "708 RichBrown. 布朗\n",
      "709 -DJ. -DJ\n",
      "710 -Nice to meet you, sir. -很高兴见到你\n",
      "711 The Deltas are having a little barbecue. 得尔塔斯在举行烧烤野炊\n",
      "712 -l've got some juice, I can get you in. -我可以让你混进来\n",
      "713 -l gotta work. -我要干活\n",
      "714 -Classes ain't started yet. -还没开始上课呢\n",
      "715 -l got a job. -我找了份工作\n",
      "716 Okay, I feel you. Which--? 好吧，我明白了，哪个...\n",
      "717 All right, bro. ln that case, I'll holler. 好了，哥们 那我就自己去了\n",
      "718 Yes. 棒极了\n",
      "719 Don't just stand there, man. Sit down. 别傻站在那里啊 坐下吧\n",
      "720 is this your office? 这个就是你的办公室？\n",
      "721 Awfully nice digs for somebody who cuts grass. 对修剪草坪的人来说 这里像是天堂了\n",
      "722 No, I don't cut grass. 不，我不是修剪的\n",
      "723 But you do. 你才是\n",
      "724 You ever wonder where them trains be going? 你有没有想过这些火车要开到哪里去？\n",
      "725 They probably be going to Japan or something. 它们可能是开往日本或者什么地方吧\n",
      "726 -Japan? -日本？\n",
      "727 -Oh, yeah, they can't cross water. -哦，对了，火车不能过水\n",
      "728 You going to college? 你是要去上大学了？\n",
      "729 Don't say that when you get there. 你别到了那还这样说哦\n",
      "730 I'm just playing with you, man. 和你开玩笑的啦\n",
      "731 The key to success in going to school, what you do, you get a group of girls... 上学成功的关键就是 你要找到一堆女孩子\n",
      "732 ... yougetthem to do your homework. 来帮你写作业\n",
      "733 When they do your homework, you get A's. 有她们帮你，你就能得A了\n",
      "734 -How's it going, man? -今天怎么样？\n",
      "735 -l'm still standing. -还活着呢\n",
      "736 Get in, man. I'll give you a ride back. 进来吧，小子 我载你回家\n",
      "737 Come on, come on. Pass the ball. Pass the ball. 传球啊\n"
     ]
    }
   ],
   "source": [
    "# Show Open Subtitle\n",
    "for i, subtitle in enumerate(en_subset):\n",
    "    if i in sub2epi:\n",
    "        print(i, \"||||\", sub2epi[i], subtitle, zh_subset[i])\n",
    "    else:\n",
    "        print(i, subtitle, zh_subset[i])"
   ],
   "metadata": {
    "collapsed": false,
    "pycharm": {
     "name": "#%%\n"
    }
   }
  },
  {
   "cell_type": "code",
   "execution_count": null,
   "outputs": [],
   "source": [],
   "metadata": {
    "collapsed": false,
    "pycharm": {
     "name": "#%%\n"
    }
   }
  },
  {
   "cell_type": "code",
   "execution_count": 90,
   "outputs": [
    {
     "name": "stdout",
     "output_type": "stream",
     "text": [
      "[{0: [200, 203], 5: [206], 8: [214], 15: [224], 16: [226], 17: [227, 229], 24: [235], 29: [239], 33: [242], 35: [246], 36: [248], 37: [249], 41: [253], 48: [256], 50: [259]}, {0: [200, 203], 5: [206, 207], 8: [214], 15: [224], 16: [225, 226], 17: [227, 229], 24: [235], 29: [239], 33: [242], 35: [246, 247], 36: [248], 37: [249], 41: [253], 48: [256], 50: [259]}, {0: [200, 203], 5: [206, 207], 8: [214], 9: [215], 15: [224], 16: [225, 226], 17: [227, 229], 21: [233], 24: [235], 29: [239], 32: [241], 33: [242], 35: [246, 247], 36: [248], 37: [249], 39: [251], 41: [253], 42: [254], 48: [256], 50: [259]}]\n"
     ]
    }
   ],
   "source": [
    "print(temp)"
   ],
   "metadata": {
    "collapsed": false,
    "pycharm": {
     "name": "#%%\n"
    }
   }
  },
  {
   "cell_type": "code",
   "execution_count": 91,
   "outputs": [
    {
     "name": "stdout",
     "output_type": "stream",
     "text": [
      "3\n"
     ]
    }
   ],
   "source": [
    "for x in temp:\n",
    "    print(x)"
   ],
   "metadata": {
    "collapsed": false,
    "pycharm": {
     "name": "#%%\n"
    }
   }
  },
  {
   "cell_type": "code",
   "execution_count": null,
   "outputs": [],
   "source": [
    "    temp = []\n",
    "\n",
    "    # Perform string match with sliding window\n",
    "    count = 0\n",
    "    sub2epi = string_match_sliding_window(en_subset, tbbt_episode, 5)\n",
    "    epi2sub = turn_sub2epi_into_epi2sub(sub2epi)\n",
    "    temp.append(epi2sub)\n",
    "    # print(epi2sub)\n",
    "    # print(\"Episode Number:\", len(epi2sub), \"Subtitle Number:\", len(sub2epi))\n",
    "    # print(\"==\"*50)\n",
    "\n",
    "\n",
    "    # Extend the neighbors\n",
    "    epi2sub = extend_neighbors(en_subset, epi2sub, tbbt_episode)\n",
    "    sub2epi = turn_sub2epi_into_epi2sub(epi2sub)\n",
    "    temp.append(epi2sub)\n",
    "    # print(epi2sub)\n",
    "    # print(\"Episode Number:\", len(epi2sub), \"Subtitle Number:\", len(sub2epi))\n",
    "    # print(\"==\"*50)\n",
    "\n",
    "\n",
    "    # Perform exact match and add it to the whole alignment\n",
    "    exact_match_result = exact_match(en_subset, tbbt_episode)\n",
    "    sub2epi = add_cleaned_exact_match_result(sub2epi, exact_match_result)\n",
    "    epi2sub = turn_sub2epi_into_epi2sub(sub2epi)\n",
    "    temp.append(epi2sub)\n",
    "    # print(epi2sub)\n",
    "    # print(\"Episode Number:\", len(epi2sub), \"Subtitle Number:\", len(sub2epi))\n",
    "    # print(\"==\"*50)\n",
    "\n",
    "\n",
    "    # Extend the gap\n",
    "    sub2epi = full_fill_gap(sub2epi)\n",
    "    epi2sub = turn_sub2epi_into_epi2sub(sub2epi)\n",
    "    temp.append(epi2sub)"
   ],
   "metadata": {
    "collapsed": false,
    "pycharm": {
     "name": "#%%\n"
    }
   }
  },
  {
   "cell_type": "code",
   "execution_count": 56,
   "outputs": [],
   "source": [
    "def extend_with_wer(en_subset, epi2sub_alignment_2, episode):\n",
    "    temp = {}\n",
    "\n",
    "    for epi_id in epi2sub_alignment_2:\n",
    "        # Define episode utterance id\n",
    "        epi_id_former = epi_id - 1\n",
    "        epi_id = epi_id\n",
    "        epi_id_latter = epi_id + 1\n",
    "\n",
    "        # Define subtitle id\n",
    "        sub_id_former = min(epi2sub_alignment_2[epi_id]) - 1\n",
    "        sub_id_latter = max(epi2sub_alignment_2[epi_id]) + 1\n",
    "        sub_ids = sorted(list(epi2sub_alignment_2[epi_id]))\n",
    "        # print(epi_id)\n",
    "        # print(sub_ids)\n",
    "\n",
    "        # Check whether subtitle nearby is in the utterance\n",
    "        sub_former = transformation(en_subset[sub_id_former])\n",
    "        sub_latter = transformation(en_subset[sub_id_latter])\n",
    "        # sub = transformation(en_subset[sub_id])\n",
    "        epi = transformation(episode[epi_id][0])\n",
    "\n",
    "        # Fetch all relevant sentences\n",
    "        epi_sentences = [episode[idx][0] for idx in [epi_id_former, epi_id, epi_id_latter] if idx>=0]\n",
    "        print(epi_id_former, epi_id, epi_id_latter)\n",
    "        print(epi_sentences)\n",
    "\n",
    "        sub_sentences = [en_subset[sub_id_former, sub_id_latter] for idx in [sub_former, sub_id_latter] if idx>=0]\n",
    "        print(sub_id_former, sub_id_latter)\n",
    "        print(sub_sentences)\n",
    "\n",
    "        print(\"==\"*50)\n",
    "\n",
    "\n",
    "        if sub_former in epi:\n",
    "            sub_ids.append(sub_id_former)\n",
    "        if sub_latter in epi:\n",
    "            sub_ids.append(sub_id_latter)\n",
    "        # print(sorted(sub_ids))\n",
    "        temp[epi_id] = sorted(sub_ids)\n",
    "        # epi2sub_alignment_2[epi_id] = sorted(sub_ids)\n",
    "        # print(\"==\"*50)\n",
    "    return temp"
   ],
   "metadata": {
    "collapsed": false,
    "pycharm": {
     "name": "#%%\n"
    }
   }
  },
  {
   "cell_type": "code",
   "execution_count": 26,
   "outputs": [],
   "source": [
    "def look_alignment(tbbt, en_subtitle, other_subtitle, alignment, season_id, episode_id, bias):\n",
    "    # Fetch subset located by the stage-1 alignment\n",
    "    (en_subset, zh_subset, tbbt_episode) = fetch_subsets(\n",
    "        episode=tbbt,\n",
    "        en_subtitle=en_subtitle,\n",
    "        zh_subtitle=other_subtitle,\n",
    "        results=alignment,\n",
    "        season_id=season_id,\n",
    "        episode_id=episode_id,\n",
    "        bias=bias\n",
    "    )\n",
    "\n",
    "    tbbt_episode = []\n",
    "    for x in tbbt_transcripts[(1,1)]:\n",
    "        if x[1]!='Scene':\n",
    "            tbbt_episode.append(x)\n",
    "\n",
    "    temp = []\n",
    "\n",
    "    # Perform string match with sliding window\n",
    "    count = 0\n",
    "    sub2epi = string_match_sliding_window(en_subset, tbbt_episode, 5)\n",
    "    epi2sub = turn_sub2epi_into_epi2sub(sub2epi)\n",
    "    temp.append(epi2sub)\n",
    "    # print(epi2sub)\n",
    "    # print(\"Episode Number:\", len(epi2sub), \"Subtitle Number:\", len(sub2epi))\n",
    "    # print(\"==\"*50)\n",
    "\n",
    "\n",
    "    # Extend the neighbors\n",
    "    epi2sub = extend_neighbors(en_subset, epi2sub, tbbt_episode)\n",
    "    sub2epi = turn_sub2epi_into_epi2sub(epi2sub)\n",
    "    temp.append(epi2sub)\n",
    "    # print(epi2sub)\n",
    "    # print(\"Episode Number:\", len(epi2sub), \"Subtitle Number:\", len(sub2epi))\n",
    "    # print(\"==\"*50)\n",
    "\n",
    "\n",
    "    # Perform exact match and add it to the whole alignment\n",
    "    exact_match_result = exact_match(en_subset, tbbt_episode)\n",
    "    sub2epi = add_cleaned_exact_match_result(sub2epi, exact_match_result)\n",
    "    epi2sub = turn_sub2epi_into_epi2sub(sub2epi)\n",
    "    temp.append(epi2sub)\n",
    "    # print(epi2sub)\n",
    "    # print(\"Episode Number:\", len(epi2sub), \"Subtitle Number:\", len(sub2epi))\n",
    "    # print(\"==\"*50)\n",
    "\n",
    "\n",
    "    # Extend the gap\n",
    "    sub2epi = full_fill_gap(sub2epi)\n",
    "    epi2sub = turn_sub2epi_into_epi2sub(sub2epi)\n",
    "    temp.append(epi2sub)\n",
    "\n",
    "    # # Extend with WER\n",
    "    # # for x in sub2epi:\n",
    "    # #     print(x, sub2epi[x])\n",
    "    # extend_with_wer(en_subset, epi2sub, tbbt_episode)\n",
    "\n",
    "\n",
    "\n",
    "\n",
    "    return temp"
   ],
   "metadata": {
    "collapsed": false,
    "pycharm": {
     "name": "#%%\n"
    }
   }
  },
  {
   "cell_type": "code",
   "execution_count": null,
   "outputs": [],
   "source": [
    "further_alignment = {}\n",
    "for i in tqdm(range(12)):\n",
    "    for j in tqdm(range(30)):\n",
    "        try:\n",
    "            temp = look_alignment(tbbt, en_subtitle, zh_subtitle, results, i+1, j+1, 200)\n",
    "            further_alignment[(i,j)] = temp\n",
    "            print(\"Season:\", i+1,\"Episode:\", j+1, \"Episode Number:\",len(temp), \"Subtitle Number:\",len(turn_sub2epi_into_epi2sub(temp)))\n",
    "        except:\n",
    "            pass"
   ],
   "metadata": {
    "collapsed": false,
    "pycharm": {
     "name": "#%%\n"
    }
   }
  },
  {
   "cell_type": "code",
   "execution_count": 28,
   "outputs": [],
   "source": [
    "temp = look_alignment(tbbt, en_subtitle, zh_subtitle, results, 1, 1, 200)"
   ],
   "metadata": {
    "collapsed": false,
    "pycharm": {
     "name": "#%%\n"
    }
   }
  },
  {
   "cell_type": "code",
   "execution_count": 35,
   "outputs": [
    {
     "name": "stdout",
     "output_type": "stream",
     "text": [
      "{0: [200, 201, 202, 203], 2: [205], 5: [206, 207], 8: [214], 9: [215], 12: [218, 219], 15: [222, 223, 224], 16: [225, 226], 17: [227, 228, 229], 21: [233], 24: [235], 29: [239], 31: [240], 32: [241], 33: [242], 35: [246, 247], 36: [248], 37: [249], 39: [251], 40: [252], 41: [253], 42: [254], 48: [256], 50: [259], 52: [261], 58: [263], 59: [264], 66: [266], 67: [267], 68: [268], 69: [269], 70: [270], 72: [273], 73: [274, 275], 76: [279], 78: [282], 79: [283], 85: [285, 286], 86: [287], 91: [290], 92: [291], 93: [292], 96: [293], 99: [295], 100: [297], 102: [299], 103: [300], 104: [301], 105: [302], 108: [304], 110: [306], 111: [307], 112: [308], 114: [311], 115: [312], 118: [313], 119: [314, 315, 316, 317], 120: [318], 122: [319], 124: [320], 126: [321, 322], 129: [325], 131: [327], 135: [330], 136: [331], 137: [333], 138: [334], 139: [335], 140: [336], 141: [337, 338, 339, 340], 143: [342], 151: [351], 153: [356], 154: [357, 358], 157: [360, 361], 158: [362], 163: [368, 369], 165: [373, 374, 375], 166: [378], 167: [379], 168: [380], 175: [383], 176: [384], 179: [387], 181: [389], 182: [390], 184: [391], 185: [392], 187: [394], 188: [396], 189: [398], 190: [399], 191: [400, 401], 192: [402], 194: [405], 196: [407], 197: [408], 198: [409], 199: [410], 200: [411], 203: [413], 204: [414], 206: [417], 207: [418], 208: [419], 212: [423], 213: [424, 425], 214: [427, 428, 429], 215: [430], 216: [431], 219: [434], 220: [435], 222: [437], 223: [438], 226: [442], 227: [444], 228: [446], 231: [449], 233: [450], 234: [451], 235: [452, 453, 454, 455, 456], 236: [457], 237: [458], 238: [459], 239: [460], 240: [461], 241: [462], 242: [464], 244: [466], 245: [467], 246: [468, 469, 470, 471], 247: [472], 248: [473, 474], 249: [475], 250: [476], 252: [478], 259: [484, 485], 260: [486], 261: [487], 263: [489, 490], 264: [491], 266: [493], 267: [494, 495], 268: [496], 269: [497], 274: [502], 275: [503], 277: [504], 280: [506], 283: [508], 284: [509], 285: [510, 511], 286: [512], 287: [514, 515], 291: [519, 520], 293: [523, 524], 296: [527], 297: [528], 299: [530], 300: [531], 301: [532], 302: [533], 304: [536, 537, 538], 305: [539], 306: [540, 541], 307: [542], 308: [543], 309: [544], 315: [548], 317: [550, 551], 320: [555]}\n"
     ]
    }
   ],
   "source": [
    "print(temp[-1])"
   ],
   "metadata": {
    "collapsed": false,
    "pycharm": {
     "name": "#%%\n"
    }
   }
  },
  {
   "cell_type": "code",
   "execution_count": 46,
   "outputs": [
    {
     "name": "stdout",
     "output_type": "stream",
     "text": [
      "(0, 0) 133 80 80 100 100\n"
     ]
    }
   ],
   "source": [
    "for x in further_alignment:\n",
    "    (en_subset, zh_subset, tbbt_episode) = fetch_subsets(\n",
    "        episode=tbbt,\n",
    "        en_subtitle=en_subtitle,\n",
    "        zh_subtitle=zh_subtitle,\n",
    "        results=results,\n",
    "        season_id=x[0]+1,\n",
    "        episode_id=x[1]+1,\n",
    "        bias=200\n",
    "    )\n",
    "    total = len(tbbt_episode)\n",
    "    print(x, total, len(further_alignment[x][0]), len(further_alignment[x][1]), len(further_alignment[x][2]), len(further_alignment[x][3]))\n",
    "    # print(further_alignment[x])\n",
    "    # print(\"==\"*50)"
   ],
   "metadata": {
    "collapsed": false,
    "pycharm": {
     "name": "#%%\n"
    }
   }
  }
 ],
 "metadata": {
  "kernelspec": {
   "display_name": "Python 3",
   "language": "python",
   "name": "python3"
  },
  "language_info": {
   "codemirror_mode": {
    "name": "ipython",
    "version": 2
   },
   "file_extension": ".py",
   "mimetype": "text/x-python",
   "name": "python",
   "nbconvert_exporter": "python",
   "pygments_lexer": "ipython2",
   "version": "2.7.6"
  }
 },
 "nbformat": 4,
 "nbformat_minor": 0
}