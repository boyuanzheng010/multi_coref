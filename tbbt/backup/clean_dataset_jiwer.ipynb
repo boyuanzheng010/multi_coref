{
 "cells": [
  {
   "cell_type": "code",
   "execution_count": 17,
   "metadata": {
    "collapsed": true
   },
   "outputs": [],
   "source": [
    "import json\n",
    "import pickle as pkl\n",
    "import re\n",
    "from nltk.translate import bleu_score\n",
    "from tqdm import tqdm\n",
    "import jiwer\n",
    "from matplotlib import pyplot as plt\n",
    "import copy"
   ]
  },
  {
   "cell_type": "code",
   "execution_count": 2,
   "outputs": [],
   "source": [
    "# Define sentence transformation\n",
    "transformation = jiwer.Compose([\n",
    "    jiwer.ToLowerCase(),\n",
    "    jiwer.RemoveMultipleSpaces(),\n",
    "    jiwer.ExpandCommonEnglishContractions(),\n",
    "    jiwer.RemovePunctuation(),\n",
    "    jiwer.Strip()\n",
    "])"
   ],
   "metadata": {
    "collapsed": false,
    "pycharm": {
     "name": "#%%\n"
    }
   }
  },
  {
   "cell_type": "code",
   "execution_count": 9,
   "outputs": [
    {
     "name": "stderr",
     "output_type": "stream",
     "text": [
      "100%|██████████| 9969005/9969005 [01:56<00:00, 85662.30it/s]\n"
     ]
    }
   ],
   "source": [
    "# Load Open Subtitle\n",
    "with open('en_subtitles.pkl', 'rb') as f:\n",
    "    en_subtitle = pkl.load(f)\n",
    "\n",
    "en_subtitle_transformed = []\n",
    "for x in tqdm(en_subtitle):\n",
    "    en_subtitle_transformed.append(transformation(x))"
   ],
   "metadata": {
    "collapsed": false,
    "pycharm": {
     "name": "#%%\n"
    }
   }
  },
  {
   "cell_type": "code",
   "execution_count": 12,
   "outputs": [
    {
     "name": "stdout",
     "output_type": "stream",
     "text": [
      "9969005\n",
      "ah this is greasy i want to eat kimchee\n"
     ]
    }
   ],
   "source": [
    "print(len(en_subtitle_transformed))\n",
    "print(en_subtitle_transformed[0])"
   ],
   "metadata": {
    "collapsed": false,
    "pycharm": {
     "name": "#%%\n"
    }
   }
  },
  {
   "cell_type": "code",
   "execution_count": 10,
   "outputs": [],
   "source": [
    "pkl.dump(en_subtitle_transformed, open('en_subtitles_transformed.pkl', 'wb'))"
   ],
   "metadata": {
    "collapsed": false,
    "pycharm": {
     "name": "#%%\n"
    }
   }
  },
  {
   "cell_type": "code",
   "execution_count": 31,
   "outputs": [],
   "source": [
    "# Load Memor Dataset\n",
    "with open('memor/data.json') as f:\n",
    "    source = json.load(f)"
   ],
   "metadata": {
    "collapsed": false,
    "pycharm": {
     "name": "#%%\n"
    }
   }
  },
  {
   "cell_type": "code",
   "execution_count": 32,
   "outputs": [
    {
     "name": "stderr",
     "output_type": "stream",
     "text": [
      "100%|██████████| 5502/5502 [00:02<00:00, 1841.87it/s]\n"
     ]
    }
   ],
   "source": [
    "data = {}\n",
    "for x in tqdm(source):\n",
    "    instance = copy.deepcopy(source[x])\n",
    "    sentences = []\n",
    "    for sentence in source[x]['sentences']:\n",
    "        sentences.append(transformation(sentence))\n",
    "    # print(instance)\n",
    "    instance['sentences_transformed'] = sentences\n",
    "    data[x] = instance"
   ],
   "metadata": {
    "collapsed": false,
    "pycharm": {
     "name": "#%%\n"
    }
   }
  },
  {
   "cell_type": "code",
   "execution_count": 33,
   "outputs": [],
   "source": [
    "pkl.dump(data, open('memor/data_transformed.pkl', 'wb'))"
   ],
   "metadata": {
    "collapsed": false,
    "pycharm": {
     "name": "#%%\n"
    }
   }
  },
  {
   "cell_type": "code",
   "execution_count": null,
   "outputs": [],
   "source": [],
   "metadata": {
    "collapsed": false,
    "pycharm": {
     "name": "#%%\n"
    }
   }
  }
 ],
 "metadata": {
  "kernelspec": {
   "display_name": "Python 3",
   "language": "python",
   "name": "python3"
  },
  "language_info": {
   "codemirror_mode": {
    "name": "ipython",
    "version": 2
   },
   "file_extension": ".py",
   "mimetype": "text/x-python",
   "name": "python",
   "nbconvert_exporter": "python",
   "pygments_lexer": "ipython2",
   "version": "2.7.6"
  }
 },
 "nbformat": 4,
 "nbformat_minor": 0
}